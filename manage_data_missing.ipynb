{
 "cells": [
  {
   "cell_type": "code",
   "execution_count": 1,
   "id": "120162ec",
   "metadata": {},
   "outputs": [],
   "source": [
    "from cassandra.cluster import Cluster\n",
    "import pandas as pd\n",
    "import numpy as np\n",
    "from datetime import datetime"
   ]
  },
  {
   "cell_type": "code",
   "execution_count": 2,
   "id": "49c88a1a",
   "metadata": {},
   "outputs": [],
   "source": [
    "cluster = Cluster(['127.0.0.1'])\n",
    "session = cluster.connect()\n",
    "session.set_keyspace('data_stock')"
   ]
  },
  {
   "cell_type": "code",
   "execution_count": 3,
   "id": "6e724b72",
   "metadata": {},
   "outputs": [],
   "source": [
    "rows_price = session.execute(\"\"\"\n",
    "    SELECT * FROM candlestick_data ALLOW FILTERING\n",
    "\"\"\")\n",
    "df_cand = pd.DataFrame(rows_price)\n",
    "df_cand['time'] = pd.to_datetime(df_cand['time'])\n",
    "df_cand = df_cand.sort_values(['symbol', 'time'])"
   ]
  },
  {
   "cell_type": "code",
   "execution_count": 4,
   "id": "f134a851",
   "metadata": {},
   "outputs": [
    {
     "data": {
      "text/html": [
       "<div>\n",
       "<style scoped>\n",
       "    .dataframe tbody tr th:only-of-type {\n",
       "        vertical-align: middle;\n",
       "    }\n",
       "\n",
       "    .dataframe tbody tr th {\n",
       "        vertical-align: top;\n",
       "    }\n",
       "\n",
       "    .dataframe thead th {\n",
       "        text-align: right;\n",
       "    }\n",
       "</style>\n",
       "<table border=\"1\" class=\"dataframe\">\n",
       "  <thead>\n",
       "    <tr style=\"text-align: right;\">\n",
       "      <th></th>\n",
       "      <th>symbol</th>\n",
       "      <th>eps</th>\n",
       "      <th>pe</th>\n",
       "      <th>pbv</th>\n",
       "      <th>percentyield</th>\n",
       "    </tr>\n",
       "  </thead>\n",
       "  <tbody>\n",
       "    <tr>\n",
       "      <th>0</th>\n",
       "      <td>PPPM</td>\n",
       "      <td>0.02000</td>\n",
       "      <td>0.00</td>\n",
       "      <td>0.70</td>\n",
       "      <td>0.00</td>\n",
       "    </tr>\n",
       "    <tr>\n",
       "      <th>1</th>\n",
       "      <td>TPCH</td>\n",
       "      <td>0.24112</td>\n",
       "      <td>7.90</td>\n",
       "      <td>0.34</td>\n",
       "      <td>13.91</td>\n",
       "    </tr>\n",
       "    <tr>\n",
       "      <th>2</th>\n",
       "      <td>KPNREIT</td>\n",
       "      <td>NaN</td>\n",
       "      <td>NaN</td>\n",
       "      <td>0.23</td>\n",
       "      <td>0.00</td>\n",
       "    </tr>\n",
       "    <tr>\n",
       "      <th>3</th>\n",
       "      <td>POLY</td>\n",
       "      <td>0.27632</td>\n",
       "      <td>12.89</td>\n",
       "      <td>2.42</td>\n",
       "      <td>6.38</td>\n",
       "    </tr>\n",
       "    <tr>\n",
       "      <th>4</th>\n",
       "      <td>QHBREIT</td>\n",
       "      <td>NaN</td>\n",
       "      <td>NaN</td>\n",
       "      <td>0.41</td>\n",
       "      <td>0.00</td>\n",
       "    </tr>\n",
       "    <tr>\n",
       "      <th>5</th>\n",
       "      <td>VCOM</td>\n",
       "      <td>0.21428</td>\n",
       "      <td>7.85</td>\n",
       "      <td>1.48</td>\n",
       "      <td>10.79</td>\n",
       "    </tr>\n",
       "    <tr>\n",
       "      <th>6</th>\n",
       "      <td>KDH</td>\n",
       "      <td>4.12186</td>\n",
       "      <td>10.62</td>\n",
       "      <td>1.93</td>\n",
       "      <td>3.01</td>\n",
       "    </tr>\n",
       "    <tr>\n",
       "      <th>7</th>\n",
       "      <td>NVD</td>\n",
       "      <td>-0.00942</td>\n",
       "      <td>38.87</td>\n",
       "      <td>0.32</td>\n",
       "      <td>0.00</td>\n",
       "    </tr>\n",
       "    <tr>\n",
       "      <th>8</th>\n",
       "      <td>JDF</td>\n",
       "      <td>0.04224</td>\n",
       "      <td>12.19</td>\n",
       "      <td>1.35</td>\n",
       "      <td>4.85</td>\n",
       "    </tr>\n",
       "    <tr>\n",
       "      <th>9</th>\n",
       "      <td>SVR</td>\n",
       "      <td>-0.03402</td>\n",
       "      <td>0.00</td>\n",
       "      <td>0.34</td>\n",
       "      <td>0.00</td>\n",
       "    </tr>\n",
       "  </tbody>\n",
       "</table>\n",
       "</div>"
      ],
      "text/plain": [
       "    symbol      eps     pe   pbv  percentyield\n",
       "0     PPPM  0.02000   0.00  0.70          0.00\n",
       "1     TPCH  0.24112   7.90  0.34         13.91\n",
       "2  KPNREIT      NaN    NaN  0.23          0.00\n",
       "3     POLY  0.27632  12.89  2.42          6.38\n",
       "4  QHBREIT      NaN    NaN  0.41          0.00\n",
       "5     VCOM  0.21428   7.85  1.48         10.79\n",
       "6      KDH  4.12186  10.62  1.93          3.01\n",
       "7      NVD -0.00942  38.87  0.32          0.00\n",
       "8      JDF  0.04224  12.19  1.35          4.85\n",
       "9      SVR -0.03402   0.00  0.34          0.00"
      ]
     },
     "execution_count": 4,
     "metadata": {},
     "output_type": "execute_result"
    }
   ],
   "source": [
    "rows_fin2 = session.execute(\"\"\"\n",
    "    SELECT symbol,eps,pe,pbv,percentYield FROM financal_data_fromsettradeAPI ALLOW FILTERING\n",
    "\"\"\")\n",
    "df_fun= pd.DataFrame(rows_fin2)\n",
    "df_fun.head(10)"
   ]
  },
  {
   "cell_type": "code",
   "execution_count": 5,
   "id": "b089b304",
   "metadata": {},
   "outputs": [
    {
     "data": {
      "text/plain": [
       "symbol           0\n",
       "eps             65\n",
       "pe              75\n",
       "pbv             12\n",
       "percentyield    11\n",
       "dtype: int64"
      ]
     },
     "execution_count": 5,
     "metadata": {},
     "output_type": "execute_result"
    }
   ],
   "source": [
    "df_fun.isnull().sum()"
   ]
  },
  {
   "cell_type": "code",
   "execution_count": 6,
   "id": "6aac9a96",
   "metadata": {},
   "outputs": [
    {
     "data": {
      "text/plain": [
       "symbol         0\n",
       "time           0\n",
       "close_price    0\n",
       "high_price     0\n",
       "low_price      0\n",
       "open_price     0\n",
       "value          0\n",
       "volume         0\n",
       "dtype: int64"
      ]
     },
     "execution_count": 6,
     "metadata": {},
     "output_type": "execute_result"
    }
   ],
   "source": [
    "df_cand.isnull().sum()"
   ]
  },
  {
   "cell_type": "code",
   "execution_count": 8,
   "id": "bffb97b5",
   "metadata": {},
   "outputs": [
    {
     "data": {
      "text/html": [
       "<div>\n",
       "<style scoped>\n",
       "    .dataframe tbody tr th:only-of-type {\n",
       "        vertical-align: middle;\n",
       "    }\n",
       "\n",
       "    .dataframe tbody tr th {\n",
       "        vertical-align: top;\n",
       "    }\n",
       "\n",
       "    .dataframe thead th {\n",
       "        text-align: right;\n",
       "    }\n",
       "</style>\n",
       "<table border=\"1\" class=\"dataframe\">\n",
       "  <thead>\n",
       "    <tr style=\"text-align: right;\">\n",
       "      <th></th>\n",
       "      <th>symbol</th>\n",
       "      <th>eps</th>\n",
       "      <th>pe</th>\n",
       "      <th>pbv</th>\n",
       "      <th>percentyield</th>\n",
       "    </tr>\n",
       "  </thead>\n",
       "  <tbody>\n",
       "    <tr>\n",
       "      <th>2</th>\n",
       "      <td>KPNREIT</td>\n",
       "      <td>NaN</td>\n",
       "      <td>NaN</td>\n",
       "      <td>0.23</td>\n",
       "      <td>0.00</td>\n",
       "    </tr>\n",
       "    <tr>\n",
       "      <th>4</th>\n",
       "      <td>QHBREIT</td>\n",
       "      <td>NaN</td>\n",
       "      <td>NaN</td>\n",
       "      <td>0.41</td>\n",
       "      <td>0.00</td>\n",
       "    </tr>\n",
       "    <tr>\n",
       "      <th>39</th>\n",
       "      <td>NWR</td>\n",
       "      <td>0.09585</td>\n",
       "      <td>NaN</td>\n",
       "      <td>NaN</td>\n",
       "      <td>NaN</td>\n",
       "    </tr>\n",
       "    <tr>\n",
       "      <th>45</th>\n",
       "      <td>GSTEEL</td>\n",
       "      <td>-0.02979</td>\n",
       "      <td>NaN</td>\n",
       "      <td>NaN</td>\n",
       "      <td>NaN</td>\n",
       "    </tr>\n",
       "    <tr>\n",
       "      <th>49</th>\n",
       "      <td>HYDROGEN</td>\n",
       "      <td>NaN</td>\n",
       "      <td>NaN</td>\n",
       "      <td>0.96</td>\n",
       "      <td>0.00</td>\n",
       "    </tr>\n",
       "    <tr>\n",
       "      <th>51</th>\n",
       "      <td>KKC</td>\n",
       "      <td>-0.82580</td>\n",
       "      <td>NaN</td>\n",
       "      <td>NaN</td>\n",
       "      <td>NaN</td>\n",
       "    </tr>\n",
       "    <tr>\n",
       "      <th>76</th>\n",
       "      <td>BLISS</td>\n",
       "      <td>-0.00047</td>\n",
       "      <td>NaN</td>\n",
       "      <td>NaN</td>\n",
       "      <td>NaN</td>\n",
       "    </tr>\n",
       "    <tr>\n",
       "      <th>109</th>\n",
       "      <td>MJLF</td>\n",
       "      <td>NaN</td>\n",
       "      <td>NaN</td>\n",
       "      <td>0.37</td>\n",
       "      <td>14.54</td>\n",
       "    </tr>\n",
       "    <tr>\n",
       "      <th>116</th>\n",
       "      <td>M-PAT</td>\n",
       "      <td>NaN</td>\n",
       "      <td>NaN</td>\n",
       "      <td>0.66</td>\n",
       "      <td>0.00</td>\n",
       "    </tr>\n",
       "    <tr>\n",
       "      <th>134</th>\n",
       "      <td>MNIT</td>\n",
       "      <td>NaN</td>\n",
       "      <td>NaN</td>\n",
       "      <td>0.37</td>\n",
       "      <td>6.74</td>\n",
       "    </tr>\n",
       "  </tbody>\n",
       "</table>\n",
       "</div>"
      ],
      "text/plain": [
       "       symbol      eps  pe   pbv  percentyield\n",
       "2     KPNREIT      NaN NaN  0.23          0.00\n",
       "4     QHBREIT      NaN NaN  0.41          0.00\n",
       "39        NWR  0.09585 NaN   NaN           NaN\n",
       "45     GSTEEL -0.02979 NaN   NaN           NaN\n",
       "49   HYDROGEN      NaN NaN  0.96          0.00\n",
       "51        KKC -0.82580 NaN   NaN           NaN\n",
       "76      BLISS -0.00047 NaN   NaN           NaN\n",
       "109      MJLF      NaN NaN  0.37         14.54\n",
       "116     M-PAT      NaN NaN  0.66          0.00\n",
       "134      MNIT      NaN NaN  0.37          6.74"
      ]
     },
     "execution_count": 8,
     "metadata": {},
     "output_type": "execute_result"
    }
   ],
   "source": [
    "df_fun.isnull().any(axis=1)\n",
    "null_rows = df_fun[df_fun.isnull().any(axis=1)]\n",
    "null_rows.head(10)"
   ]
  },
  {
   "cell_type": "code",
   "execution_count": 9,
   "id": "6bafaae3",
   "metadata": {},
   "outputs": [
    {
     "data": {
      "text/plain": [
       "(913, 5)"
      ]
     },
     "execution_count": 9,
     "metadata": {},
     "output_type": "execute_result"
    }
   ],
   "source": [
    "df_fun.shape"
   ]
  },
  {
   "cell_type": "code",
   "execution_count": 10,
   "id": "bf424bac",
   "metadata": {},
   "outputs": [
    {
     "data": {
      "text/plain": [
       "(597057, 8)"
      ]
     },
     "execution_count": 10,
     "metadata": {},
     "output_type": "execute_result"
    }
   ],
   "source": [
    "df_cand.shape"
   ]
  },
  {
   "cell_type": "code",
   "execution_count": 11,
   "id": "7d13f990",
   "metadata": {},
   "outputs": [
    {
     "name": "stdout",
     "output_type": "stream",
     "text": [
      "✅ Missing values หลังเติม:\n",
      "symbol          0\n",
      "eps             0\n",
      "pe              0\n",
      "pbv             0\n",
      "percentyield    0\n",
      "dtype: int64\n"
     ]
    },
    {
     "data": {
      "text/html": [
       "<div>\n",
       "<style scoped>\n",
       "    .dataframe tbody tr th:only-of-type {\n",
       "        vertical-align: middle;\n",
       "    }\n",
       "\n",
       "    .dataframe tbody tr th {\n",
       "        vertical-align: top;\n",
       "    }\n",
       "\n",
       "    .dataframe thead th {\n",
       "        text-align: right;\n",
       "    }\n",
       "</style>\n",
       "<table border=\"1\" class=\"dataframe\">\n",
       "  <thead>\n",
       "    <tr style=\"text-align: right;\">\n",
       "      <th></th>\n",
       "      <th>symbol</th>\n",
       "      <th>eps</th>\n",
       "      <th>pe</th>\n",
       "      <th>pbv</th>\n",
       "      <th>percentyield</th>\n",
       "    </tr>\n",
       "  </thead>\n",
       "  <tbody>\n",
       "    <tr>\n",
       "      <th>0</th>\n",
       "      <td>PPPM</td>\n",
       "      <td>0.020000</td>\n",
       "      <td>0.000000e+00</td>\n",
       "      <td>0.70</td>\n",
       "      <td>0.00</td>\n",
       "    </tr>\n",
       "    <tr>\n",
       "      <th>1</th>\n",
       "      <td>TPCH</td>\n",
       "      <td>0.241120</td>\n",
       "      <td>7.900000e+00</td>\n",
       "      <td>0.34</td>\n",
       "      <td>13.91</td>\n",
       "    </tr>\n",
       "    <tr>\n",
       "      <th>2</th>\n",
       "      <td>KPNREIT</td>\n",
       "      <td>-0.010650</td>\n",
       "      <td>5.722026e-07</td>\n",
       "      <td>0.23</td>\n",
       "      <td>0.00</td>\n",
       "    </tr>\n",
       "    <tr>\n",
       "      <th>3</th>\n",
       "      <td>POLY</td>\n",
       "      <td>0.276320</td>\n",
       "      <td>1.289000e+01</td>\n",
       "      <td>2.42</td>\n",
       "      <td>6.38</td>\n",
       "    </tr>\n",
       "    <tr>\n",
       "      <th>4</th>\n",
       "      <td>QHBREIT</td>\n",
       "      <td>0.587335</td>\n",
       "      <td>2.945000e+00</td>\n",
       "      <td>0.41</td>\n",
       "      <td>0.00</td>\n",
       "    </tr>\n",
       "  </tbody>\n",
       "</table>\n",
       "</div>"
      ],
      "text/plain": [
       "    symbol       eps            pe   pbv  percentyield\n",
       "0     PPPM  0.020000  0.000000e+00  0.70          0.00\n",
       "1     TPCH  0.241120  7.900000e+00  0.34         13.91\n",
       "2  KPNREIT -0.010650  5.722026e-07  0.23          0.00\n",
       "3     POLY  0.276320  1.289000e+01  2.42          6.38\n",
       "4  QHBREIT  0.587335  2.945000e+00  0.41          0.00"
      ]
     },
     "execution_count": 11,
     "metadata": {},
     "output_type": "execute_result"
    }
   ],
   "source": [
    "# ✅ ขั้นตอนการเติมค่า NaN แบบ Model-based (KNN Imputer)\n",
    "import pandas as pd\n",
    "from sklearn.impute import KNNImputer\n",
    "\n",
    "# สมมติว่า df_fun คือ DataFrame หลัก\n",
    "# ตรวจสอบก่อนว่ามีเฉพาะคอลัมน์ตัวเลข (ไม่รวม symbol)\n",
    "df_numeric = df_fun.drop(columns=[\"symbol\"])  \n",
    "\n",
    "# ✅ ใช้ KNN Imputer เติมค่า\n",
    "imputer = KNNImputer(n_neighbors=5, weights=\"distance\")  # เลือก k=5\n",
    "df_imputed_values = imputer.fit_transform(df_numeric)\n",
    "\n",
    "# ✅ สร้าง DataFrame ใหม่ (เติมค่ากลับ)\n",
    "df_imputed = pd.DataFrame(df_imputed_values, columns=df_numeric.columns, index=df_fun.index)\n",
    "\n",
    "# ✅ รวมกลับกับ symbol\n",
    "df_final = pd.concat([df_fun[\"symbol\"], df_imputed], axis=1)\n",
    "\n",
    "print(\"✅ Missing values หลังเติม:\")\n",
    "print(df_final.isnull().sum())\n",
    "df_final.head()\n"
   ]
  },
  {
   "cell_type": "code",
   "execution_count": null,
   "id": "87abd282",
   "metadata": {},
   "outputs": [],
   "source": [
    "from sklearn.experimental import enable_iterative_imputer\n",
    "from sklearn.impute import IterativeImputer\n",
    "\n",
    "imputer = IterativeImputer(random_state=42, max_iter=20)\n",
    "df_imputed_values = imputer.fit_transform(df_numeric)\n",
    "\n",
    "df_imputed = pd.DataFrame(df_imputed_values, columns=df_numeric.columns, index=df_fun.index)\n",
    "df_final = pd.concat([df_fun[\"symbol\"], df_imputed], axis=1)\n"
   ]
  }
 ],
 "metadata": {
  "kernelspec": {
   "display_name": "Python 3",
   "language": "python",
   "name": "python3"
  },
  "language_info": {
   "codemirror_mode": {
    "name": "ipython",
    "version": 3
   },
   "file_extension": ".py",
   "mimetype": "text/x-python",
   "name": "python",
   "nbconvert_exporter": "python",
   "pygments_lexer": "ipython3",
   "version": "3.10.0"
  }
 },
 "nbformat": 4,
 "nbformat_minor": 5
}
