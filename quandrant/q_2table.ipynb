{
 "cells": [
  {
   "cell_type": "code",
   "execution_count": 1,
   "metadata": {},
   "outputs": [],
   "source": [
    "import pandas as pd\n",
    "import numpy as np\n",
    "import plotly.graph_objects as go\n",
    "from cassandra.cluster import Cluster\n",
    "from datetime import datetime\n"
   ]
  },
  {
   "cell_type": "code",
   "execution_count": 2,
   "metadata": {},
   "outputs": [],
   "source": [
    "cluster = Cluster(['127.0.0.1'])\n",
    "session = cluster.connect()\n",
    "session.set_keyspace('data_stock')"
   ]
  },
  {
   "cell_type": "code",
   "execution_count": 3,
   "metadata": {},
   "outputs": [],
   "source": [
    "rows_fin = session.execute(\"\"\"\n",
    "    SELECT symbol, eps, pe, pbv, percentyield FROM stock_fun_data ALLOW FILTERING\n",
    "\"\"\")\n",
    "df_financial = pd.DataFrame(rows_fin, columns=['symbol', 'eps', 'pe', 'pbv', 'percentyield'])\n",
    "df_financial = df_financial.dropna()"
   ]
  },
  {
   "cell_type": "code",
   "execution_count": 4,
   "metadata": {},
   "outputs": [],
   "source": [
    "def classify_financial_level(row):\n",
    "    score = 0\n",
    "    if row['eps'] > 0:\n",
    "        score += 1\n",
    "    if row['pe'] > 0:\n",
    "        score += 1\n",
    "    if row['pbv'] < 2:\n",
    "        score += 1\n",
    "    if row['percentyield'] > 3:\n",
    "        score += 1\n",
    "\n",
    "    if score == 4:\n",
    "        return 'A'\n",
    "    elif score == 3:\n",
    "        return 'B'\n",
    "    elif score == 2:\n",
    "        return 'C'\n",
    "    elif score == 1:\n",
    "        return 'D'\n",
    "    else:\n",
    "        return 'E'\n",
    "\n",
    "df_financial['financial_level'] = df_financial.apply(classify_financial_level, axis=1)"
   ]
  },
  {
   "cell_type": "code",
   "execution_count": 5,
   "metadata": {},
   "outputs": [],
   "source": [
    "rows_price = session.execute(\"\"\"\n",
    "    SELECT symbol, time, close_price FROM candlestick_data ALLOW FILTERING\n",
    "\"\"\")\n",
    "df_price = pd.DataFrame(rows_price, columns=['symbol', 'time', 'close_price'])\n",
    "df_price['time'] = pd.to_datetime(df_price['time'])\n",
    "df_price = df_price.sort_values(['symbol', 'time'])"
   ]
  },
  {
   "cell_type": "code",
   "execution_count": 6,
   "metadata": {},
   "outputs": [],
   "source": [
    "def calculate_trend_level(symbol_df):\n",
    "    if len(symbol_df) < 2:\n",
    "        return 'c'\n",
    "    start_price = symbol_df['close_price'].iloc[0]\n",
    "    end_price = symbol_df['close_price'].iloc[-1]\n",
    "    change_pct = ((end_price - start_price) / start_price) * 100\n",
    "\n",
    "    if change_pct > 20:\n",
    "        return 'a'\n",
    "    elif change_pct > 10:\n",
    "        return 'b'\n",
    "    elif change_pct >= -5:\n",
    "        return 'c'\n",
    "    elif change_pct >= -15:\n",
    "        return 'd'\n",
    "    else:\n",
    "        return 'e'\n",
    "\n",
    "trend_levels = []\n",
    "for symbol in df_price['symbol'].unique():\n",
    "    symbol_df = df_price[df_price['symbol'] == symbol]\n",
    "    level = calculate_trend_level(symbol_df)\n",
    "    trend_levels.append({'symbol': symbol, 'trend_level': level})\n",
    "\n",
    "df_trend = pd.DataFrame(trend_levels)"
   ]
  },
  {
   "cell_type": "code",
   "execution_count": 7,
   "metadata": {},
   "outputs": [],
   "source": [
    "df_quadrant = pd.merge(df_financial, df_trend, on='symbol', how='inner')\n",
    "df_quadrant['quadrant'] = df_quadrant['financial_level'] + df_quadrant['trend_level']"
   ]
  },
  {
   "cell_type": "code",
   "execution_count": 8,
   "metadata": {},
   "outputs": [],
   "source": [
    "quadrant_groups = df_quadrant.groupby('quadrant')['symbol'].apply(list).to_dict()\n",
    "financial_levels = ['A', 'B', 'C', 'D', 'E']\n",
    "trend_levels = ['a', 'b', 'c', 'd', 'e']\n"
   ]
  },
  {
   "cell_type": "code",
   "execution_count": 9,
   "metadata": {},
   "outputs": [],
   "source": [
    "plot_table = []\n",
    "for f in financial_levels:\n",
    "    row = []\n",
    "    for t in trend_levels:\n",
    "        code = f + t\n",
    "        stocks = quadrant_groups.get(code, [])\n",
    "        text = f\"<b>{code}</b><br>\" + \"<br>\".join(stocks) if stocks else f\"<b>{code}</b><br>-\"\n",
    "        row.append(text)\n",
    "    plot_table.append(row)"
   ]
  },
  {
   "cell_type": "code",
   "execution_count": 10,
   "metadata": {},
   "outputs": [
    {
     "data": {
      "application/vnd.plotly.v1+json": {
       "config": {
        "plotlyServerURL": "https://plot.ly"
       },
       "data": [
        {
         "cells": {
          "align": "center",
          "fill": {
           "color": [
            [
             "#2ecc71",
             "#2ecc71",
             "#2ecc71",
             "#2ecc71",
             "#2ecc71"
            ],
            [
             "#58d68d",
             "#58d68d",
             "#58d68d",
             "#58d68d",
             "#58d68d"
            ],
            [
             "#f4d03f",
             "#f4d03f",
             "#f4d03f",
             "#f4d03f",
             "#f4d03f"
            ],
            [
             "#f39c12",
             "#f39c12",
             "#f39c12",
             "#f39c12",
             "#f39c12"
            ],
            [
             "#e74c3c",
             "#e74c3c",
             "#e74c3c",
             "#e74c3c",
             "#e74c3c"
            ]
           ]
          },
          "font": {
           "color": "white",
           "size": 12
          },
          "height": 100,
          "values": [
           [
            "<b>Aa</b><br>CPH<br>STANLY<br>SIRI<br>LRH<br>PIN<br>ROCK<br>UVAN<br>KBS<br>TTB<br>TCAP<br>Q-CON<br>PRM<br>TMW<br>MBK<br>WHAUP<br>KTB<br>MSC",
            "<b>Ab</b><br>BCP<br>CMAN",
            "<b>Ac</b><br>LEE<br>TASCO<br>PTTEP<br>KBANK<br>KCG<br>S&J<br>HTC<br>TNR<br>FTE<br>AKR<br>TMD<br>GYT<br>MTI<br>SCP<br>TTT<br>SCB<br>SCCC",
            "<b>Ad</b><br>ROJNA<br>TPBI<br>DMT<br>TOPP<br>UP<br>HARN<br>TISCO<br>SORKON<br>BBL<br>AMA<br>GTB<br>SUC<br>RPH<br>FE<br>UPOIC<br>ALUCON<br>JCT",
            "<b>Ae</b><br>TPCH<br>VCOM<br>SVR<br>SUSCO<br>STP<br>EA<br>ASP<br>SAT<br>PSP<br>TAN<br>AYUD<br>ITEL<br>LPN<br>M<br>GBX<br>WINDOW<br>BIG<br>TRP<br>PRG<br>ARROW<br>KOOL<br>PCSGH<br>ILINK<br>CM<br>TPAC<br>SCGP<br>IRCP<br>PTG<br>MAJOR<br>MST<br>TOA<br>BRR<br>TVH<br>UTP<br>SMD100<br>LALIN<br>RAM<br>SCGD<br>DCON<br>AHC<br>PMTA<br>KCAR<br>NOVA<br>UAC<br>CCP<br>YONG<br>BVG<br>TRU<br>SO<br>SAK<br>IRC<br>SUTHA<br>ONEE<br>KKP<br>PYLON<br>JUBILE<br>BCPG<br>TPLAS<br>PACO<br>SK<br>DTCENT<br>HFT<br>ZEN<br>HPT<br>SM<br>GABLE<br>LPH<br>MOONG<br>PANEL<br>DEXON<br>BPP<br>APP<br>UMI<br>RSP<br>PIMO<br>SECURE<br>PQS<br>ASK<br>TMILL<br>MGT<br>ILM<br>PHOL<br>SCM<br>SMART<br>AP<br>HANA<br>SYNTEC<br>STA<br>RS<br>BGC<br>TOP<br>BAM<br>SPVI<br>EASON<br>QTC<br>SMIT<br>PSL<br>JMT<br>NER<br>MODERN<br>CPR<br>AMC<br>TCC<br>2S<br>SSF<br>RCL<br>ARIP<br>PRI<br>ORN<br>TTA<br>PPM<br>AEONTS<br>SCL<br>ICN<br>HUMAN<br>SEAFCO<br>TTCL<br>TEAM<br>BKD<br>THANA<br>SEAOIL<br>TEKA<br>RATCH<br>MCS<br>ASW<br>LHFG<br>LANNA<br>FPT<br>PDG<br>ASEFA<br>YUASA<br>NOBLE<br>SE<br>WICE<br>CPANEL<br>KCE<br>QH<br>WP<br>CEYE<br>KWM<br>PSH<br>BJCHI<br>FTI<br>SITHAI<br>ETE<br>UV<br>MATI<br>PCC<br>GPI<br>NKI<br>JAK<br>SPG<br>ALLA<br>SRS<br>KGI<br>PJW<br>TLI<br>OR<br>CAZ<br>BJC<br>PL<br>SGP<br>ASIMAR<br>SC<br>BRI<br>MCA<br>SMPC<br>PRTR<br>LHK<br>AH<br>TRT<br>ASIAN<br>III<br>SONIC<br>ITNS<br>NTV<br>EPG<br>STGT<br>FPI<br>AMARIN<br>IFS<br>SENX<br>UBA<br>TPIPP<br>KIAT<br>LEO<br>SENA<br>LST<br>SSSC<br>TKS<br>HENG<br>WIIK<br>CPI<br>KYE<br>PREB<br>SKN<br>SALEE<br>NYT<br>SANKO<br>SPCG<br>PLT<br>SPALI<br>KUMWEL<br>BANPU<br>AMARC<br>TEGH<br>METCO<br>CPW<br>MFEC<br>THIP<br>NL<br>ORI<br>TPIPL<br>LOXLEY<br>PTC<br>LH<br>AIT<br>APURE<br>NTSC<br>NNCL<br>SUN<br>CMR<br>BAY<br>D<br>TPCS<br>ADD<br>BIS<br>PEACE<br>I2"
           ],
           [
            "<b>Ba</b><br>MANRIN<br>SAPPE<br>MGI<br>NEW<br>NC<br>SAV<br>BUI<br>INSURE<br>BCT<br>ICC<br>BTNC<br>SAUCE<br>CSR<br>A5<br>BA<br>PT<br>COCOCO<br>F&D<br>TSTE<br>TNL",
            "<b>Bb</b><br>PCE<br>MC<br>SPC<br>SELIC<br>BDMS<br>PM<br>CPT<br>INTUCH<br>KWC",
            "<b>Bc</b><br>TFMAMA<br>BKIH<br>TFG<br>CK<br>ICHI<br>TOG<br>TKN<br>SPI<br>AMATA<br>XO<br>TPS<br>CPF<br>EKH",
            "<b>Bd</b><br>POLY<br>PG<br>UOBKH<br>TSC<br>AWC<br>MFC<br>ROCTEC<br>PHG<br>CSC<br>SHANG<br>PTT<br>VIH<br>VARO<br>ERW<br>PRAPAT<br>DRT<br>SABINA<br>CPN<br>SE-ED<br>CIMBT",
            "<b>Be</b><br>NVD<br>JDF<br>NCP<br>KSL<br>SIS<br>SFT<br>TGH<br>CPAXT<br>SFLEX<br>WORK<br>MGC<br>NDR<br>SNP<br>LDC<br>PLAT<br>J<br>PDJ<br>WAVE<br>WIN<br>WACOAL<br>UREKA<br>SOLAR<br>FANCY<br>TTW<br>FORTH<br>AF<br>ITC<br>APO<br>ACE<br>GUNKUL<br>NKT<br>GFPT<br>GCAP<br>M-CHAI<br>ALT<br>SCC<br>PORT<br>TIDLOR<br>IP<br>SYMC<br>CKP<br>PTL<br>GLAND<br>FM<br>XPG<br>THANI<br>IT<br>TU<br>MATCH<br>KISS<br>MDX<br>SINO<br>WINNER<br>BR<br>KTMS<br>JMART<br>TAE<br>IND<br>JAS<br>CTW<br>TCJ<br>STPI<br>TVT<br>SJWD<br>SAWAD<br>SPREME<br>ATP30<br>NCH<br>DHOUSE<br>ACG<br>STC<br>CHAO<br>KK<br>SLP<br>ITTHI<br>K<br>SGC<br>DDD<br>TKC<br>IVF<br>OCC<br>TMI<br>CNT<br>TMT<br>SUPER<br>HTECH<br>DCC<br>MEGA<br>TQM<br>TRV<br>BTC<br>KLINIQ<br>NCAP<br>CSS<br>ZIGA<br>TACC<br>PROUD<br>GFC<br>MPJ<br>JR<br>NRF<br>EASTW<br>SIMAT<br>CREDIT<br>TIPH<br>BLC<br>TCOAT<br>TC<br>PRINC<br>SVT<br>UBE<br>THRE<br>TBN<br>PRIN<br>SA<br>CFARM<br>INGRS<br>AAI<br>COLOR<br>TATG<br>CHARAN<br>SAMTEL<br>ALPHAX<br>AS<br>BLA<br>DV8<br>BTG<br>KJL<br>AIE<br>PB<br>BEC<br>CEN<br>PATO<br>ANAN<br>TSE<br>KUN<br>BE8<br>RT<br>JCK<br>UPF<br>NFC<br>APCO<br>UNIQ<br>SAFE<br>EGCO<br>IHL<br>BC<br>NETBAY<br>CHAYO<br>RBF<br>COM7<br>KCC<br>TPP<br>GREEN<br>EURO<br>AKP<br>ETL<br>S<br>VNG<br>WINMED<br>FLOYD<br>AUCT<br>CHG<br>CHASE<br>PMC<br>INOX<br>CIVIL<br>BPS<br>STECH<br>BBGI<br>OSP<br>BGRIM<br>ETC<br>HMPRO<br>GC<br>BIZ<br>SSP<br>IROYAL<br>TH<br>INET<br>READY<br>CH<br>TERA<br>VPO<br>BOL<br>STX<br>GRAMMY<br>RJH<br>NAM<br>BM<br>NEO<br>MITSIB<br>JSP<br>CGH<br>CHOW<br>BWG<br>APCS<br>BYD<br>GPSC<br>TGE<br>VL<br>MENA<br>SCAP<br>FVC<br>INSET<br>SINGER<br>SNNP<br>RWI<br>TQR<br>FSMART<br>TSTH<br>ANI<br>SPACK<br>WARRIX<br>TFM<br>BLAND"
           ],
           [
            "<b>Ca</b><br>SNPS<br>OKJ<br>NSL<br>SISB<br>CCET<br>MOSHI<br>AOT<br>KAMART<br>SKY<br>PR9<br>DELTA<br>WPH<br>WHA<br>ADVANC",
            "<b>Cb</b><br>KDH<br>AURA<br>MALEE<br>JPARK",
            "<b>Cc</b><br>SPA<br>CPALL<br>OHTL<br>PIS<br>TVO<br>MTC<br>TIPCO<br>BH<br>PLANB<br>PRAKIT",
            "<b>Cd</b><br>CRC<br>ADVICE<br>TEAMG<br>AAV<br>SVI<br>TNH<br>MAGURO<br>MINT<br>PICO",
            "<b>Ce</b><br>VGI<br>PLUS<br>SHR<br>TK<br>TIGER<br>ASN<br>MCOT<br>CENTEL<br>SVOA<br>RPC<br>ASAP<br>TWPC<br>EFORL<br>EMC<br>WGE<br>STI<br>BBIK<br>MASTER<br>TNITY<br>BEM<br>VIBHA<br>DITTO<br>SWC<br>BSRC<br>GENCO<br>BLESS<br>FMT<br>UBIS<br>L&E<br>NEP<br>PEER<br>THG<br>SMT<br>GLOBAL<br>SNC<br>PSG<br>CRANE<br>BKGI<br>KTC<br>PROS<br>SAAM<br>LTS<br>SAMCO<br>MEDEZE<br>AU<br>THREL<br>TVDH<br>CBG<br>BAFS<br>NAT<br>CHEWA<br>TNP<br>SYNEX<br>BCH<br>UEC<br>HL<br>DOHOME<br>SKR<br>TPA<br>VRANDA<br>MBAX<br>SICT<br>CRD<br>MEB<br>AGE<br>SEI<br>PF<br>SCG<br>AMATAV<br>CWT<br>AMANAH<br>UKEM<br>TMAN<br>SRICHA<br>TM<br>JTS<br>MTW<br>S11<br>DEMCO<br>OGC<br>AFC<br>SQ<br>SPRC"
           ],
           [
            "<b>Da</b><br>THCOM<br>TITLE",
            "<b>Db</b><br>SAMART<br>DTCI",
            "<b>Dc</b><br>TTI<br>A<br>SAWANG",
            "<b>Dd</b><br>ASIA<br>PPP<br>DUSIT",
            "<b>De</b><br>PPPM<br>GLOCON<br>PTECH<br>NPK<br>TPOLY<br>NWR<br>AJ<br>SIAM<br>BIOTEC<br>SAF<br>CGD<br>RICHY<br>ITD<br>TSI<br>MUD<br>TNPC<br>META<br>JCKH<br>PAP<br>QTCG<br>XBIO<br>WFX<br>KEX<br>PERM<br>NEX<br>TCMC<br>AMR<br>KGEN<br>SKE<br>TGPRO<br>BTW<br>TAKUNI<br>ESTAR<br>B<br>MJD<br>KCM<br>FSX<br>MIDA<br>BEAUTY<br>GGC<br>NEWS<br>GLORY<br>CITY<br>SCN<br>CIG<br>CHOTI<br>MVP<br>TWZ<br>TFI<br>RABBIT<br>DPAINT<br>EP<br>AE<br>ADB<br>GEL<br>MICRO<br>ECF<br>SGF<br>MORE<br>SST<br>MK<br>DIMET<br>QLT<br>AJA<br>PROEN<br>BGT<br>ACC<br>ARIN<br>TKT<br>TSR<br>KC<br>TMC<br>TRUBB<br>IMH<br>BTS<br>PRIME<br>TNDT<br>NV<br>PPS<br>CHIC<br>CV<br>PK<br>HEALTH<br>FNS<br>TYCN<br>ROH<br>ABM<br>THMUI<br>COMAN<br>IIG<br>ML<br>AIRA<br>CFRESH<br>LIT<br>TWP<br>SCI<br>BSBM<br>PSTC<br>PTTGC<br>GJS<br>PLE<br>CMC<br>GRAND<br>TPL<br>STECON<br>VS<br>STOWER<br>BEYOND<br>CI<br>RP<br>BSM<br>CSP<br>KASET<br>DOD<br>IRPC<br>CHO<br>FN<br>SAM<br>SR<br>BROCK<br>RML<br>MILL<br>IVL<br>SABUY<br>PAF<br>STELLA<br>NATION<br>CPL<br>TR<br>THE<br>EVER<br>EE<br>AKS<br>GTV<br>HYDRO<br>AQUA<br>CMO<br>KWI<br>YGG<br>KTIS<br>PRECHA<br>TRITN"
           ],
           [
            "<b>Ea</b><br>TURTLE",
            "<b>Eb</b><br>-",
            "<b>Ec</b><br>-",
            "<b>Ed</b><br>-",
            "<b>Ee</b><br>UMS<br>ZAA<br>MONO<br>PLANET<br>24CS<br>TRC<br>NCL<br>B52<br>SDC"
           ]
          ]
         },
         "header": {
          "align": "center",
          "fill": {
           "color": "#dcdcdc"
          },
          "font": {
           "color": "black",
           "size": 14
          },
          "values": [
           "Super Bullish",
           "Up Trend",
           "Sideway",
           "Down Trend",
           "Crash"
          ]
         },
         "type": "table"
        }
       ],
       "layout": {
        "template": {
         "data": {
          "bar": [
           {
            "error_x": {
             "color": "#2a3f5f"
            },
            "error_y": {
             "color": "#2a3f5f"
            },
            "marker": {
             "line": {
              "color": "#E5ECF6",
              "width": 0.5
             },
             "pattern": {
              "fillmode": "overlay",
              "size": 10,
              "solidity": 0.2
             }
            },
            "type": "bar"
           }
          ],
          "barpolar": [
           {
            "marker": {
             "line": {
              "color": "#E5ECF6",
              "width": 0.5
             },
             "pattern": {
              "fillmode": "overlay",
              "size": 10,
              "solidity": 0.2
             }
            },
            "type": "barpolar"
           }
          ],
          "carpet": [
           {
            "aaxis": {
             "endlinecolor": "#2a3f5f",
             "gridcolor": "white",
             "linecolor": "white",
             "minorgridcolor": "white",
             "startlinecolor": "#2a3f5f"
            },
            "baxis": {
             "endlinecolor": "#2a3f5f",
             "gridcolor": "white",
             "linecolor": "white",
             "minorgridcolor": "white",
             "startlinecolor": "#2a3f5f"
            },
            "type": "carpet"
           }
          ],
          "choropleth": [
           {
            "colorbar": {
             "outlinewidth": 0,
             "ticks": ""
            },
            "type": "choropleth"
           }
          ],
          "contour": [
           {
            "colorbar": {
             "outlinewidth": 0,
             "ticks": ""
            },
            "colorscale": [
             [
              0,
              "#0d0887"
             ],
             [
              0.1111111111111111,
              "#46039f"
             ],
             [
              0.2222222222222222,
              "#7201a8"
             ],
             [
              0.3333333333333333,
              "#9c179e"
             ],
             [
              0.4444444444444444,
              "#bd3786"
             ],
             [
              0.5555555555555556,
              "#d8576b"
             ],
             [
              0.6666666666666666,
              "#ed7953"
             ],
             [
              0.7777777777777778,
              "#fb9f3a"
             ],
             [
              0.8888888888888888,
              "#fdca26"
             ],
             [
              1,
              "#f0f921"
             ]
            ],
            "type": "contour"
           }
          ],
          "contourcarpet": [
           {
            "colorbar": {
             "outlinewidth": 0,
             "ticks": ""
            },
            "type": "contourcarpet"
           }
          ],
          "heatmap": [
           {
            "colorbar": {
             "outlinewidth": 0,
             "ticks": ""
            },
            "colorscale": [
             [
              0,
              "#0d0887"
             ],
             [
              0.1111111111111111,
              "#46039f"
             ],
             [
              0.2222222222222222,
              "#7201a8"
             ],
             [
              0.3333333333333333,
              "#9c179e"
             ],
             [
              0.4444444444444444,
              "#bd3786"
             ],
             [
              0.5555555555555556,
              "#d8576b"
             ],
             [
              0.6666666666666666,
              "#ed7953"
             ],
             [
              0.7777777777777778,
              "#fb9f3a"
             ],
             [
              0.8888888888888888,
              "#fdca26"
             ],
             [
              1,
              "#f0f921"
             ]
            ],
            "type": "heatmap"
           }
          ],
          "histogram": [
           {
            "marker": {
             "pattern": {
              "fillmode": "overlay",
              "size": 10,
              "solidity": 0.2
             }
            },
            "type": "histogram"
           }
          ],
          "histogram2d": [
           {
            "colorbar": {
             "outlinewidth": 0,
             "ticks": ""
            },
            "colorscale": [
             [
              0,
              "#0d0887"
             ],
             [
              0.1111111111111111,
              "#46039f"
             ],
             [
              0.2222222222222222,
              "#7201a8"
             ],
             [
              0.3333333333333333,
              "#9c179e"
             ],
             [
              0.4444444444444444,
              "#bd3786"
             ],
             [
              0.5555555555555556,
              "#d8576b"
             ],
             [
              0.6666666666666666,
              "#ed7953"
             ],
             [
              0.7777777777777778,
              "#fb9f3a"
             ],
             [
              0.8888888888888888,
              "#fdca26"
             ],
             [
              1,
              "#f0f921"
             ]
            ],
            "type": "histogram2d"
           }
          ],
          "histogram2dcontour": [
           {
            "colorbar": {
             "outlinewidth": 0,
             "ticks": ""
            },
            "colorscale": [
             [
              0,
              "#0d0887"
             ],
             [
              0.1111111111111111,
              "#46039f"
             ],
             [
              0.2222222222222222,
              "#7201a8"
             ],
             [
              0.3333333333333333,
              "#9c179e"
             ],
             [
              0.4444444444444444,
              "#bd3786"
             ],
             [
              0.5555555555555556,
              "#d8576b"
             ],
             [
              0.6666666666666666,
              "#ed7953"
             ],
             [
              0.7777777777777778,
              "#fb9f3a"
             ],
             [
              0.8888888888888888,
              "#fdca26"
             ],
             [
              1,
              "#f0f921"
             ]
            ],
            "type": "histogram2dcontour"
           }
          ],
          "mesh3d": [
           {
            "colorbar": {
             "outlinewidth": 0,
             "ticks": ""
            },
            "type": "mesh3d"
           }
          ],
          "parcoords": [
           {
            "line": {
             "colorbar": {
              "outlinewidth": 0,
              "ticks": ""
             }
            },
            "type": "parcoords"
           }
          ],
          "pie": [
           {
            "automargin": true,
            "type": "pie"
           }
          ],
          "scatter": [
           {
            "fillpattern": {
             "fillmode": "overlay",
             "size": 10,
             "solidity": 0.2
            },
            "type": "scatter"
           }
          ],
          "scatter3d": [
           {
            "line": {
             "colorbar": {
              "outlinewidth": 0,
              "ticks": ""
             }
            },
            "marker": {
             "colorbar": {
              "outlinewidth": 0,
              "ticks": ""
             }
            },
            "type": "scatter3d"
           }
          ],
          "scattercarpet": [
           {
            "marker": {
             "colorbar": {
              "outlinewidth": 0,
              "ticks": ""
             }
            },
            "type": "scattercarpet"
           }
          ],
          "scattergeo": [
           {
            "marker": {
             "colorbar": {
              "outlinewidth": 0,
              "ticks": ""
             }
            },
            "type": "scattergeo"
           }
          ],
          "scattergl": [
           {
            "marker": {
             "colorbar": {
              "outlinewidth": 0,
              "ticks": ""
             }
            },
            "type": "scattergl"
           }
          ],
          "scattermap": [
           {
            "marker": {
             "colorbar": {
              "outlinewidth": 0,
              "ticks": ""
             }
            },
            "type": "scattermap"
           }
          ],
          "scattermapbox": [
           {
            "marker": {
             "colorbar": {
              "outlinewidth": 0,
              "ticks": ""
             }
            },
            "type": "scattermapbox"
           }
          ],
          "scatterpolar": [
           {
            "marker": {
             "colorbar": {
              "outlinewidth": 0,
              "ticks": ""
             }
            },
            "type": "scatterpolar"
           }
          ],
          "scatterpolargl": [
           {
            "marker": {
             "colorbar": {
              "outlinewidth": 0,
              "ticks": ""
             }
            },
            "type": "scatterpolargl"
           }
          ],
          "scatterternary": [
           {
            "marker": {
             "colorbar": {
              "outlinewidth": 0,
              "ticks": ""
             }
            },
            "type": "scatterternary"
           }
          ],
          "surface": [
           {
            "colorbar": {
             "outlinewidth": 0,
             "ticks": ""
            },
            "colorscale": [
             [
              0,
              "#0d0887"
             ],
             [
              0.1111111111111111,
              "#46039f"
             ],
             [
              0.2222222222222222,
              "#7201a8"
             ],
             [
              0.3333333333333333,
              "#9c179e"
             ],
             [
              0.4444444444444444,
              "#bd3786"
             ],
             [
              0.5555555555555556,
              "#d8576b"
             ],
             [
              0.6666666666666666,
              "#ed7953"
             ],
             [
              0.7777777777777778,
              "#fb9f3a"
             ],
             [
              0.8888888888888888,
              "#fdca26"
             ],
             [
              1,
              "#f0f921"
             ]
            ],
            "type": "surface"
           }
          ],
          "table": [
           {
            "cells": {
             "fill": {
              "color": "#EBF0F8"
             },
             "line": {
              "color": "white"
             }
            },
            "header": {
             "fill": {
              "color": "#C8D4E3"
             },
             "line": {
              "color": "white"
             }
            },
            "type": "table"
           }
          ]
         },
         "layout": {
          "annotationdefaults": {
           "arrowcolor": "#2a3f5f",
           "arrowhead": 0,
           "arrowwidth": 1
          },
          "autotypenumbers": "strict",
          "coloraxis": {
           "colorbar": {
            "outlinewidth": 0,
            "ticks": ""
           }
          },
          "colorscale": {
           "diverging": [
            [
             0,
             "#8e0152"
            ],
            [
             0.1,
             "#c51b7d"
            ],
            [
             0.2,
             "#de77ae"
            ],
            [
             0.3,
             "#f1b6da"
            ],
            [
             0.4,
             "#fde0ef"
            ],
            [
             0.5,
             "#f7f7f7"
            ],
            [
             0.6,
             "#e6f5d0"
            ],
            [
             0.7,
             "#b8e186"
            ],
            [
             0.8,
             "#7fbc41"
            ],
            [
             0.9,
             "#4d9221"
            ],
            [
             1,
             "#276419"
            ]
           ],
           "sequential": [
            [
             0,
             "#0d0887"
            ],
            [
             0.1111111111111111,
             "#46039f"
            ],
            [
             0.2222222222222222,
             "#7201a8"
            ],
            [
             0.3333333333333333,
             "#9c179e"
            ],
            [
             0.4444444444444444,
             "#bd3786"
            ],
            [
             0.5555555555555556,
             "#d8576b"
            ],
            [
             0.6666666666666666,
             "#ed7953"
            ],
            [
             0.7777777777777778,
             "#fb9f3a"
            ],
            [
             0.8888888888888888,
             "#fdca26"
            ],
            [
             1,
             "#f0f921"
            ]
           ],
           "sequentialminus": [
            [
             0,
             "#0d0887"
            ],
            [
             0.1111111111111111,
             "#46039f"
            ],
            [
             0.2222222222222222,
             "#7201a8"
            ],
            [
             0.3333333333333333,
             "#9c179e"
            ],
            [
             0.4444444444444444,
             "#bd3786"
            ],
            [
             0.5555555555555556,
             "#d8576b"
            ],
            [
             0.6666666666666666,
             "#ed7953"
            ],
            [
             0.7777777777777778,
             "#fb9f3a"
            ],
            [
             0.8888888888888888,
             "#fdca26"
            ],
            [
             1,
             "#f0f921"
            ]
           ]
          },
          "colorway": [
           "#636efa",
           "#EF553B",
           "#00cc96",
           "#ab63fa",
           "#FFA15A",
           "#19d3f3",
           "#FF6692",
           "#B6E880",
           "#FF97FF",
           "#FECB52"
          ],
          "font": {
           "color": "#2a3f5f"
          },
          "geo": {
           "bgcolor": "white",
           "lakecolor": "white",
           "landcolor": "#E5ECF6",
           "showlakes": true,
           "showland": true,
           "subunitcolor": "white"
          },
          "hoverlabel": {
           "align": "left"
          },
          "hovermode": "closest",
          "mapbox": {
           "style": "light"
          },
          "paper_bgcolor": "white",
          "plot_bgcolor": "#E5ECF6",
          "polar": {
           "angularaxis": {
            "gridcolor": "white",
            "linecolor": "white",
            "ticks": ""
           },
           "bgcolor": "#E5ECF6",
           "radialaxis": {
            "gridcolor": "white",
            "linecolor": "white",
            "ticks": ""
           }
          },
          "scene": {
           "xaxis": {
            "backgroundcolor": "#E5ECF6",
            "gridcolor": "white",
            "gridwidth": 2,
            "linecolor": "white",
            "showbackground": true,
            "ticks": "",
            "zerolinecolor": "white"
           },
           "yaxis": {
            "backgroundcolor": "#E5ECF6",
            "gridcolor": "white",
            "gridwidth": 2,
            "linecolor": "white",
            "showbackground": true,
            "ticks": "",
            "zerolinecolor": "white"
           },
           "zaxis": {
            "backgroundcolor": "#E5ECF6",
            "gridcolor": "white",
            "gridwidth": 2,
            "linecolor": "white",
            "showbackground": true,
            "ticks": "",
            "zerolinecolor": "white"
           }
          },
          "shapedefaults": {
           "line": {
            "color": "#2a3f5f"
           }
          },
          "ternary": {
           "aaxis": {
            "gridcolor": "white",
            "linecolor": "white",
            "ticks": ""
           },
           "baxis": {
            "gridcolor": "white",
            "linecolor": "white",
            "ticks": ""
           },
           "bgcolor": "#E5ECF6",
           "caxis": {
            "gridcolor": "white",
            "linecolor": "white",
            "ticks": ""
           }
          },
          "title": {
           "x": 0.05
          },
          "xaxis": {
           "automargin": true,
           "gridcolor": "white",
           "linecolor": "white",
           "ticks": "",
           "title": {
            "standoff": 15
           },
           "zerolinecolor": "white",
           "zerolinewidth": 2
          },
          "yaxis": {
           "automargin": true,
           "gridcolor": "white",
           "linecolor": "white",
           "ticks": "",
           "title": {
            "standoff": 15
           },
           "zerolinecolor": "white",
           "zerolinewidth": 2
          }
         }
        },
        "title": {
         "text": "📊 Stock Quadrant จาก Cassandra"
        }
       }
      }
     },
     "metadata": {},
     "output_type": "display_data"
    }
   ],
   "source": [
    "colors = [[{'A': '#2ecc71', 'B': '#58d68d', 'C': '#f4d03f', 'D': '#f39c12', 'E': '#e74c3c'}[f]]*5 for f in financial_levels]\n",
    "\n",
    "fig = go.Figure(data=go.Table(\n",
    "    header=dict(\n",
    "        values=[\"Super Bullish\", \"Up Trend\", \"Sideway\", \"Down Trend\", \"Crash\"],\n",
    "        fill_color=\"#dcdcdc\",\n",
    "        align=\"center\",\n",
    "        font=dict(color=\"black\", size=14)\n",
    "    ),\n",
    "    cells=dict(\n",
    "        values=plot_table,\n",
    "        fill_color=colors,\n",
    "        align=\"center\",\n",
    "        height=100,\n",
    "        font=dict(color=\"white\", size=12)\n",
    "    )\n",
    "))\n",
    "\n",
    "fig.update_layout(title=\"📊 Stock Quadrant จาก Cassandra\")\n",
    "fig.show()\n"
   ]
  }
 ],
 "metadata": {
  "kernelspec": {
   "display_name": "Python 3",
   "language": "python",
   "name": "python3"
  },
  "language_info": {
   "codemirror_mode": {
    "name": "ipython",
    "version": 3
   },
   "file_extension": ".py",
   "mimetype": "text/x-python",
   "name": "python",
   "nbconvert_exporter": "python",
   "pygments_lexer": "ipython3",
   "version": "3.10.0"
  }
 },
 "nbformat": 4,
 "nbformat_minor": 2
}
