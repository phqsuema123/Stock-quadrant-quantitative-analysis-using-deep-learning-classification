{
 "cells": [
  {
   "cell_type": "markdown",
   "id": "0de5b8ef",
   "metadata": {},
   "source": [
    "# 📈 Stock Quadrant Classification (งบการเงิน + แนวโน้ม)\n",
    "วิเคราะห์หุ้นและจัดกลุ่มตามระดับงบการเงิน (A–E) และแนวโน้มราคา (a–e) เพื่อสร้าง Quadrant Stock Level Visualization แบบ Plotly"
   ]
  },
  {
   "cell_type": "code",
   "execution_count": null,
   "id": "44911035",
   "metadata": {},
   "outputs": [],
   "source": [
    "import pandas as pd\n",
    "import plotly.graph_objects as go"
   ]
  },
  {
   "cell_type": "code",
   "execution_count": null,
   "id": "173cacc6",
   "metadata": {},
   "outputs": [],
   "source": [
    "# 🔹 ตัวอย่างข้อมูลหุ้น (งบการเงิน + แนวโน้มราคา)\n",
    "data = {\n",
    "    'Ticker': ['AOT', 'PTT', 'CPALL', 'SCB', 'BDMS'],\n",
    "    'ROE': [15.2, 10.5, 12.0, 8.9, 6.0],\n",
    "    'NetMargin': [18.0, 9.5, 11.2, 7.0, 6.5],\n",
    "    'DebtEquity': [0.4, 0.6, 1.2, 0.9, 1.1],\n",
    "    'EPSGrowth': [10, 5, 7, -2, -5],\n",
    "    'CurrentRatio': [2.0, 1.5, 1.2, 0.8, 0.9],\n",
    "    'PriceChange': [25, 15, 5, -8, -20]  # % เปลี่ยนแปลงราคาในช่วงที่ผ่านมา\n",
    "}\n",
    "df = pd.DataFrame(data)"
   ]
  },
  {
   "cell_type": "code",
   "execution_count": null,
   "id": "f86461fa",
   "metadata": {},
   "outputs": [],
   "source": [
    "# 🔹 ฟังก์ชันจัดกลุ่มหุ้นเป็น Quadrant\n",
    "def classify_stock_quadrant(df):\n",
    "    def score_financial(row):\n",
    "        score = 0\n",
    "        if row['ROE'] > 12: score += 1\n",
    "        if row['NetMargin'] > 10: score += 1\n",
    "        if row['DebtEquity'] < 1: score += 1\n",
    "        if row['EPSGrowth'] > 0: score += 1\n",
    "        if row['CurrentRatio'] > 1: score += 1\n",
    "        return score\n",
    "\n",
    "    def convert_to_financial_level(score):\n",
    "        if score == 5: return 'A'\n",
    "        elif score == 4: return 'B'\n",
    "        elif score == 3: return 'C'\n",
    "        elif score == 2: return 'D'\n",
    "        else: return 'E'\n",
    "\n",
    "    def trend_level(price_change):\n",
    "        if price_change > 20: return 'a'\n",
    "        elif price_change > 10: return 'b'\n",
    "        elif -5 <= price_change <= 10: return 'c'\n",
    "        elif -15 < price_change < -5: return 'd'\n",
    "        else: return 'e'\n",
    "\n",
    "    df['FinScore'] = df.apply(score_financial, axis=1)\n",
    "    df['FinancialLevel'] = df['FinScore'].apply(convert_to_financial_level)\n",
    "    df['TrendLevel'] = df['PriceChange'].apply(trend_level)\n",
    "    df['Quadrant'] = df['FinancialLevel'] + df['TrendLevel']\n",
    "    return df[['Ticker', 'FinancialLevel', 'TrendLevel', 'Quadrant']]"
   ]
  },
  {
   "cell_type": "code",
   "execution_count": null,
   "id": "2fd1611d",
   "metadata": {},
   "outputs": [],
   "source": [
    "# 🔹 เรียกใช้ฟังก์ชัน\n",
    "quadrant_df = classify_stock_quadrant(df)\n",
    "quadrant_df"
   ]
  },
  {
   "cell_type": "code",
   "execution_count": null,
   "id": "78b494d7",
   "metadata": {},
   "outputs": [],
   "source": [
    "# 🔹 แสดงผลในรูปแบบ Plotly Table 5x5\n",
    "\n",
    "# เตรียม group ข้อมูลตาม Quadrant\n",
    "quadrant_groups = quadrant_df.groupby('Quadrant')['Ticker'].apply(list).to_dict()\n",
    "\n",
    "financial_levels = ['A', 'B', 'C', 'D', 'E']\n",
    "trend_levels = ['a', 'b', 'c', 'd', 'e']\n",
    "\n",
    "table_text = []\n",
    "for f in financial_levels:\n",
    "    row = []\n",
    "    for t in trend_levels:\n",
    "        code = f + t\n",
    "        tickers = quadrant_groups.get(code, [])\n",
    "        text = f\"<b>{code}</b><br>\" + \"<br>\".join(tickers) if tickers else f\"<b>{code}</b><br> - \"\n",
    "        row.append(text)\n",
    "    table_text.append(row)\n",
    "\n",
    "# สีพื้นหลังตามระดับงบการเงิน\n",
    "color_map = {\n",
    "    'A': '#2ecc71', 'B': '#58d68d', 'C': '#f4d03f', 'D': '#f39c12', 'E': '#e74c3c'\n",
    "}\n",
    "colors = [[color_map[f]] * 5 for f in financial_levels]\n",
    "\n",
    "# Plotly Table\n",
    "fig = go.Figure(data=go.Table(\n",
    "    header=dict(\n",
    "        values=[\"Super Bullish\", \"Up Trend\", \"Sideway\", \"Down Trend\", \"Crash\"],\n",
    "        align=\"center\",\n",
    "        fill_color=\"#dcdcdc\",\n",
    "        font=dict(color=\"black\", size=14)\n",
    "    ),\n",
    "    cells=dict(\n",
    "        values=table_text,\n",
    "        fill_color=colors,\n",
    "        align=\"center\",\n",
    "        height=80,\n",
    "        font=dict(color=\"white\", size=12)\n",
    "    )\n",
    "))\n",
    "fig.update_layout(title=\"📊 Quadrant Stock Level (Financial vs Trend)\")\n",
    "fig.show()"
   ]
  }
 ],
 "metadata": {},
 "nbformat": 4,
 "nbformat_minor": 5
}
