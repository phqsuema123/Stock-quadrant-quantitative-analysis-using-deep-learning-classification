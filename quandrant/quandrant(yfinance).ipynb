{
 "cells": [
  {
   "cell_type": "code",
   "execution_count": 2,
   "metadata": {},
   "outputs": [],
   "source": [
    "import yfinance as yf\n",
    "import pandas as pd\n",
    "\n",
    "tickers = ['AAPL', 'MSFT', 'GOOGL', 'AMZN', 'TSLA']\n",
    "data = {}\n",
    "\n",
    "for ticker in tickers:\n",
    "    stock = yf.Ticker(ticker)\n",
    "    hist = stock.history(period=\"1y\")\n",
    "    data[ticker] = hist\n",
    "\n",
    "# Convert to DataFrame format\n",
    "df_list = []\n",
    "for ticker, hist in data.items():\n",
    "    hist['Ticker'] = ticker\n",
    "    df_list.append(hist)\n",
    "\n",
    "df = pd.concat(df_list)\n",
    "df.reset_index(inplace=True)\n"
   ]
  },
  {
   "cell_type": "code",
   "execution_count": 3,
   "metadata": {},
   "outputs": [],
   "source": [
    "def create_features(df):\n",
    "    df['Return'] = df['Close'].pct_change()\n",
    "    df['Volatility'] = df['Return'].rolling(window=10).std()\n",
    "    df['Momentum'] = df['Close'] / df['Close'].shift(10) - 1\n",
    "    df['MA10'] = df['Close'].rolling(window=10).mean()\n",
    "    df['MA50'] = df['Close'].rolling(window=50).mean()\n",
    "    df.dropna(inplace=True)\n",
    "    return df\n",
    "\n",
    "features = []\n",
    "for ticker in tickers:\n",
    "    df_ticker = df[df['Ticker'] == ticker].copy()\n",
    "    df_features = create_features(df_ticker)\n",
    "    features.append(df_features)\n",
    "\n",
    "df_features = pd.concat(features)\n"
   ]
  },
  {
   "cell_type": "code",
   "execution_count": 4,
   "metadata": {},
   "outputs": [],
   "source": [
    "# Calculate median volatility ONCE\n",
    "vol_median = df_features['Volatility'].median()\n",
    "\n",
    "# Update the function to use that precomputed value\n",
    "def assign_quadrant(row):\n",
    "    if row['Momentum'] > 0 and row['Volatility'] < vol_median:\n",
    "        return 0  # Growth-Stable\n",
    "    elif row['Momentum'] > 0 and row['Volatility'] >= vol_median:\n",
    "        return 1  # Growth-Volatile\n",
    "    elif row['Momentum'] <= 0 and row['Volatility'] < vol_median:\n",
    "        return 2  # Value-Stable\n",
    "    else:\n",
    "        return 3  # Value-Volatile\n",
    "\n",
    "# Apply corrected function\n",
    "df_features['Quadrant'] = df_features.apply(assign_quadrant, axis=1)\n"
   ]
  },
  {
   "cell_type": "code",
   "execution_count": 5,
   "metadata": {},
   "outputs": [
    {
     "name": "stdout",
     "output_type": "stream",
     "text": [
      "Epoch 1/50\n"
     ]
    },
    {
     "name": "stderr",
     "output_type": "stream",
     "text": [
      "c:\\Users\\Admin\\AppData\\Local\\Programs\\Python\\Python310\\lib\\site-packages\\keras\\src\\layers\\core\\dense.py:87: UserWarning:\n",
      "\n",
      "Do not pass an `input_shape`/`input_dim` argument to a layer. When using Sequential models, prefer using an `Input(shape)` object as the first layer in the model instead.\n",
      "\n"
     ]
    },
    {
     "name": "stdout",
     "output_type": "stream",
     "text": [
      "\u001b[1m21/21\u001b[0m \u001b[32m━━━━━━━━━━━━━━━━━━━━\u001b[0m\u001b[37m\u001b[0m \u001b[1m1s\u001b[0m 10ms/step - accuracy: 0.2904 - loss: 1.3930 - val_accuracy: 0.5494 - val_loss: 1.2631\n",
      "Epoch 2/50\n",
      "\u001b[1m21/21\u001b[0m \u001b[32m━━━━━━━━━━━━━━━━━━━━\u001b[0m\u001b[37m\u001b[0m \u001b[1m0s\u001b[0m 4ms/step - accuracy: 0.5301 - loss: 1.2302 - val_accuracy: 0.7222 - val_loss: 1.1224\n",
      "Epoch 3/50\n",
      "\u001b[1m21/21\u001b[0m \u001b[32m━━━━━━━━━━━━━━━━━━━━\u001b[0m\u001b[37m\u001b[0m \u001b[1m0s\u001b[0m 4ms/step - accuracy: 0.6169 - loss: 1.0918 - val_accuracy: 0.8025 - val_loss: 0.9805\n",
      "Epoch 4/50\n",
      "\u001b[1m21/21\u001b[0m \u001b[32m━━━━━━━━━━━━━━━━━━━━\u001b[0m\u001b[37m\u001b[0m \u001b[1m0s\u001b[0m 4ms/step - accuracy: 0.7187 - loss: 0.9610 - val_accuracy: 0.8333 - val_loss: 0.8266\n",
      "Epoch 5/50\n",
      "\u001b[1m21/21\u001b[0m \u001b[32m━━━━━━━━━━━━━━━━━━━━\u001b[0m\u001b[37m\u001b[0m \u001b[1m0s\u001b[0m 4ms/step - accuracy: 0.7617 - loss: 0.7741 - val_accuracy: 0.8642 - val_loss: 0.6820\n",
      "Epoch 6/50\n",
      "\u001b[1m21/21\u001b[0m \u001b[32m━━━━━━━━━━━━━━━━━━━━\u001b[0m\u001b[37m\u001b[0m \u001b[1m0s\u001b[0m 4ms/step - accuracy: 0.8396 - loss: 0.6542 - val_accuracy: 0.8889 - val_loss: 0.5628\n",
      "Epoch 7/50\n",
      "\u001b[1m21/21\u001b[0m \u001b[32m━━━━━━━━━━━━━━━━━━━━\u001b[0m\u001b[37m\u001b[0m \u001b[1m0s\u001b[0m 4ms/step - accuracy: 0.8556 - loss: 0.5391 - val_accuracy: 0.8765 - val_loss: 0.4752\n",
      "Epoch 8/50\n",
      "\u001b[1m21/21\u001b[0m \u001b[32m━━━━━━━━━━━━━━━━━━━━\u001b[0m\u001b[37m\u001b[0m \u001b[1m0s\u001b[0m 4ms/step - accuracy: 0.8739 - loss: 0.4368 - val_accuracy: 0.8951 - val_loss: 0.4019\n",
      "Epoch 9/50\n",
      "\u001b[1m21/21\u001b[0m \u001b[32m━━━━━━━━━━━━━━━━━━━━\u001b[0m\u001b[37m\u001b[0m \u001b[1m0s\u001b[0m 4ms/step - accuracy: 0.8665 - loss: 0.4289 - val_accuracy: 0.8827 - val_loss: 0.3541\n",
      "Epoch 10/50\n",
      "\u001b[1m21/21\u001b[0m \u001b[32m━━━━━━━━━━━━━━━━━━━━\u001b[0m\u001b[37m\u001b[0m \u001b[1m0s\u001b[0m 4ms/step - accuracy: 0.8990 - loss: 0.3407 - val_accuracy: 0.9136 - val_loss: 0.3124\n",
      "Epoch 11/50\n",
      "\u001b[1m21/21\u001b[0m \u001b[32m━━━━━━━━━━━━━━━━━━━━\u001b[0m\u001b[37m\u001b[0m \u001b[1m0s\u001b[0m 4ms/step - accuracy: 0.8891 - loss: 0.3298 - val_accuracy: 0.9074 - val_loss: 0.2802\n",
      "Epoch 12/50\n",
      "\u001b[1m21/21\u001b[0m \u001b[32m━━━━━━━━━━━━━━━━━━━━\u001b[0m\u001b[37m\u001b[0m \u001b[1m0s\u001b[0m 4ms/step - accuracy: 0.8877 - loss: 0.3133 - val_accuracy: 0.9136 - val_loss: 0.2540\n",
      "Epoch 13/50\n",
      "\u001b[1m21/21\u001b[0m \u001b[32m━━━━━━━━━━━━━━━━━━━━\u001b[0m\u001b[37m\u001b[0m \u001b[1m0s\u001b[0m 4ms/step - accuracy: 0.8999 - loss: 0.2780 - val_accuracy: 0.9259 - val_loss: 0.2341\n",
      "Epoch 14/50\n",
      "\u001b[1m21/21\u001b[0m \u001b[32m━━━━━━━━━━━━━━━━━━━━\u001b[0m\u001b[37m\u001b[0m \u001b[1m0s\u001b[0m 4ms/step - accuracy: 0.9122 - loss: 0.2465 - val_accuracy: 0.9259 - val_loss: 0.2194\n",
      "Epoch 15/50\n",
      "\u001b[1m21/21\u001b[0m \u001b[32m━━━━━━━━━━━━━━━━━━━━\u001b[0m\u001b[37m\u001b[0m \u001b[1m0s\u001b[0m 4ms/step - accuracy: 0.9292 - loss: 0.2280 - val_accuracy: 0.9321 - val_loss: 0.2009\n",
      "Epoch 16/50\n",
      "\u001b[1m21/21\u001b[0m \u001b[32m━━━━━━━━━━━━━━━━━━━━\u001b[0m\u001b[37m\u001b[0m \u001b[1m0s\u001b[0m 4ms/step - accuracy: 0.9115 - loss: 0.2258 - val_accuracy: 0.9383 - val_loss: 0.1917\n",
      "Epoch 17/50\n",
      "\u001b[1m21/21\u001b[0m \u001b[32m━━━━━━━━━━━━━━━━━━━━\u001b[0m\u001b[37m\u001b[0m \u001b[1m0s\u001b[0m 4ms/step - accuracy: 0.9249 - loss: 0.2092 - val_accuracy: 0.9259 - val_loss: 0.1937\n",
      "Epoch 18/50\n",
      "\u001b[1m21/21\u001b[0m \u001b[32m━━━━━━━━━━━━━━━━━━━━\u001b[0m\u001b[37m\u001b[0m \u001b[1m0s\u001b[0m 4ms/step - accuracy: 0.9183 - loss: 0.2321 - val_accuracy: 0.9259 - val_loss: 0.1844\n",
      "Epoch 19/50\n",
      "\u001b[1m21/21\u001b[0m \u001b[32m━━━━━━━━━━━━━━━━━━━━\u001b[0m\u001b[37m\u001b[0m \u001b[1m0s\u001b[0m 4ms/step - accuracy: 0.9280 - loss: 0.2115 - val_accuracy: 0.9444 - val_loss: 0.1688\n",
      "Epoch 20/50\n",
      "\u001b[1m21/21\u001b[0m \u001b[32m━━━━━━━━━━━━━━━━━━━━\u001b[0m\u001b[37m\u001b[0m \u001b[1m0s\u001b[0m 4ms/step - accuracy: 0.9459 - loss: 0.1842 - val_accuracy: 0.9383 - val_loss: 0.1637\n",
      "Epoch 21/50\n",
      "\u001b[1m21/21\u001b[0m \u001b[32m━━━━━━━━━━━━━━━━━━━━\u001b[0m\u001b[37m\u001b[0m \u001b[1m0s\u001b[0m 4ms/step - accuracy: 0.9129 - loss: 0.1989 - val_accuracy: 0.9506 - val_loss: 0.1471\n",
      "Epoch 22/50\n",
      "\u001b[1m21/21\u001b[0m \u001b[32m━━━━━━━━━━━━━━━━━━━━\u001b[0m\u001b[37m\u001b[0m \u001b[1m0s\u001b[0m 4ms/step - accuracy: 0.9280 - loss: 0.1811 - val_accuracy: 0.9444 - val_loss: 0.1465\n",
      "Epoch 23/50\n",
      "\u001b[1m21/21\u001b[0m \u001b[32m━━━━━━━━━━━━━━━━━━━━\u001b[0m\u001b[37m\u001b[0m \u001b[1m0s\u001b[0m 3ms/step - accuracy: 0.9296 - loss: 0.1714 - val_accuracy: 0.9444 - val_loss: 0.1378\n",
      "Epoch 24/50\n",
      "\u001b[1m21/21\u001b[0m \u001b[32m━━━━━━━━━━━━━━━━━━━━\u001b[0m\u001b[37m\u001b[0m \u001b[1m0s\u001b[0m 4ms/step - accuracy: 0.9378 - loss: 0.1483 - val_accuracy: 0.9383 - val_loss: 0.1397\n",
      "Epoch 25/50\n",
      "\u001b[1m21/21\u001b[0m \u001b[32m━━━━━━━━━━━━━━━━━━━━\u001b[0m\u001b[37m\u001b[0m \u001b[1m0s\u001b[0m 4ms/step - accuracy: 0.9365 - loss: 0.1731 - val_accuracy: 0.9383 - val_loss: 0.1442\n",
      "Epoch 26/50\n",
      "\u001b[1m21/21\u001b[0m \u001b[32m━━━━━━━━━━━━━━━━━━━━\u001b[0m\u001b[37m\u001b[0m \u001b[1m0s\u001b[0m 4ms/step - accuracy: 0.9393 - loss: 0.1612 - val_accuracy: 0.9506 - val_loss: 0.1324\n",
      "Epoch 27/50\n",
      "\u001b[1m21/21\u001b[0m \u001b[32m━━━━━━━━━━━━━━━━━━━━\u001b[0m\u001b[37m\u001b[0m \u001b[1m0s\u001b[0m 4ms/step - accuracy: 0.9303 - loss: 0.1627 - val_accuracy: 0.9568 - val_loss: 0.1249\n",
      "Epoch 28/50\n",
      "\u001b[1m21/21\u001b[0m \u001b[32m━━━━━━━━━━━━━━━━━━━━\u001b[0m\u001b[37m\u001b[0m \u001b[1m0s\u001b[0m 4ms/step - accuracy: 0.9482 - loss: 0.1413 - val_accuracy: 0.9383 - val_loss: 0.1292\n",
      "Epoch 29/50\n",
      "\u001b[1m21/21\u001b[0m \u001b[32m━━━━━━━━━━━━━━━━━━━━\u001b[0m\u001b[37m\u001b[0m \u001b[1m0s\u001b[0m 4ms/step - accuracy: 0.9502 - loss: 0.1388 - val_accuracy: 0.9630 - val_loss: 0.1147\n",
      "Epoch 30/50\n",
      "\u001b[1m21/21\u001b[0m \u001b[32m━━━━━━━━━━━━━━━━━━━━\u001b[0m\u001b[37m\u001b[0m \u001b[1m0s\u001b[0m 4ms/step - accuracy: 0.9754 - loss: 0.1154 - val_accuracy: 0.9506 - val_loss: 0.1256\n",
      "Epoch 31/50\n",
      "\u001b[1m21/21\u001b[0m \u001b[32m━━━━━━━━━━━━━━━━━━━━\u001b[0m\u001b[37m\u001b[0m \u001b[1m0s\u001b[0m 4ms/step - accuracy: 0.9462 - loss: 0.1324 - val_accuracy: 0.9506 - val_loss: 0.1196\n",
      "Epoch 32/50\n",
      "\u001b[1m21/21\u001b[0m \u001b[32m━━━━━━━━━━━━━━━━━━━━\u001b[0m\u001b[37m\u001b[0m \u001b[1m0s\u001b[0m 4ms/step - accuracy: 0.9369 - loss: 0.1466 - val_accuracy: 0.9630 - val_loss: 0.1109\n",
      "Epoch 33/50\n",
      "\u001b[1m21/21\u001b[0m \u001b[32m━━━━━━━━━━━━━━━━━━━━\u001b[0m\u001b[37m\u001b[0m \u001b[1m0s\u001b[0m 4ms/step - accuracy: 0.9607 - loss: 0.1120 - val_accuracy: 0.9568 - val_loss: 0.1069\n",
      "Epoch 34/50\n",
      "\u001b[1m21/21\u001b[0m \u001b[32m━━━━━━━━━━━━━━━━━━━━\u001b[0m\u001b[37m\u001b[0m \u001b[1m0s\u001b[0m 4ms/step - accuracy: 0.9606 - loss: 0.1098 - val_accuracy: 0.9568 - val_loss: 0.1165\n",
      "Epoch 35/50\n",
      "\u001b[1m21/21\u001b[0m \u001b[32m━━━━━━━━━━━━━━━━━━━━\u001b[0m\u001b[37m\u001b[0m \u001b[1m0s\u001b[0m 4ms/step - accuracy: 0.9408 - loss: 0.1467 - val_accuracy: 0.9444 - val_loss: 0.1192\n",
      "Epoch 36/50\n",
      "\u001b[1m21/21\u001b[0m \u001b[32m━━━━━━━━━━━━━━━━━━━━\u001b[0m\u001b[37m\u001b[0m \u001b[1m0s\u001b[0m 4ms/step - accuracy: 0.9449 - loss: 0.1186 - val_accuracy: 0.9568 - val_loss: 0.1067\n",
      "Epoch 37/50\n",
      "\u001b[1m21/21\u001b[0m \u001b[32m━━━━━━━━━━━━━━━━━━━━\u001b[0m\u001b[37m\u001b[0m \u001b[1m0s\u001b[0m 4ms/step - accuracy: 0.9555 - loss: 0.1253 - val_accuracy: 0.9630 - val_loss: 0.1034\n",
      "Epoch 38/50\n",
      "\u001b[1m21/21\u001b[0m \u001b[32m━━━━━━━━━━━━━━━━━━━━\u001b[0m\u001b[37m\u001b[0m \u001b[1m0s\u001b[0m 4ms/step - accuracy: 0.9517 - loss: 0.1320 - val_accuracy: 0.9691 - val_loss: 0.0977\n",
      "Epoch 39/50\n",
      "\u001b[1m21/21\u001b[0m \u001b[32m━━━━━━━━━━━━━━━━━━━━\u001b[0m\u001b[37m\u001b[0m \u001b[1m0s\u001b[0m 3ms/step - accuracy: 0.9522 - loss: 0.1282 - val_accuracy: 0.9630 - val_loss: 0.1000\n",
      "Epoch 40/50\n",
      "\u001b[1m21/21\u001b[0m \u001b[32m━━━━━━━━━━━━━━━━━━━━\u001b[0m\u001b[37m\u001b[0m \u001b[1m0s\u001b[0m 4ms/step - accuracy: 0.9567 - loss: 0.1096 - val_accuracy: 0.9568 - val_loss: 0.0996\n",
      "Epoch 41/50\n",
      "\u001b[1m21/21\u001b[0m \u001b[32m━━━━━━━━━━━━━━━━━━━━\u001b[0m\u001b[37m\u001b[0m \u001b[1m0s\u001b[0m 4ms/step - accuracy: 0.9624 - loss: 0.0986 - val_accuracy: 0.9630 - val_loss: 0.0999\n",
      "Epoch 42/50\n",
      "\u001b[1m21/21\u001b[0m \u001b[32m━━━━━━━━━━━━━━━━━━━━\u001b[0m\u001b[37m\u001b[0m \u001b[1m0s\u001b[0m 4ms/step - accuracy: 0.9696 - loss: 0.1022 - val_accuracy: 0.9753 - val_loss: 0.0910\n",
      "Epoch 43/50\n",
      "\u001b[1m21/21\u001b[0m \u001b[32m━━━━━━━━━━━━━━━━━━━━\u001b[0m\u001b[37m\u001b[0m \u001b[1m0s\u001b[0m 4ms/step - accuracy: 0.9660 - loss: 0.1193 - val_accuracy: 0.9691 - val_loss: 0.0953\n",
      "Epoch 44/50\n",
      "\u001b[1m21/21\u001b[0m \u001b[32m━━━━━━━━━━━━━━━━━━━━\u001b[0m\u001b[37m\u001b[0m \u001b[1m0s\u001b[0m 4ms/step - accuracy: 0.9673 - loss: 0.0969 - val_accuracy: 0.9630 - val_loss: 0.0926\n",
      "Epoch 45/50\n",
      "\u001b[1m21/21\u001b[0m \u001b[32m━━━━━━━━━━━━━━━━━━━━\u001b[0m\u001b[37m\u001b[0m \u001b[1m0s\u001b[0m 3ms/step - accuracy: 0.9654 - loss: 0.1049 - val_accuracy: 0.9630 - val_loss: 0.0911\n",
      "Epoch 46/50\n",
      "\u001b[1m21/21\u001b[0m \u001b[32m━━━━━━━━━━━━━━━━━━━━\u001b[0m\u001b[37m\u001b[0m \u001b[1m0s\u001b[0m 3ms/step - accuracy: 0.9639 - loss: 0.1154 - val_accuracy: 0.9691 - val_loss: 0.0861\n",
      "Epoch 47/50\n",
      "\u001b[1m21/21\u001b[0m \u001b[32m━━━━━━━━━━━━━━━━━━━━\u001b[0m\u001b[37m\u001b[0m \u001b[1m0s\u001b[0m 4ms/step - accuracy: 0.9519 - loss: 0.1048 - val_accuracy: 0.9630 - val_loss: 0.0886\n",
      "Epoch 48/50\n",
      "\u001b[1m21/21\u001b[0m \u001b[32m━━━━━━━━━━━━━━━━━━━━\u001b[0m\u001b[37m\u001b[0m \u001b[1m0s\u001b[0m 4ms/step - accuracy: 0.9525 - loss: 0.1086 - val_accuracy: 0.9691 - val_loss: 0.0825\n",
      "Epoch 49/50\n",
      "\u001b[1m21/21\u001b[0m \u001b[32m━━━━━━━━━━━━━━━━━━━━\u001b[0m\u001b[37m\u001b[0m \u001b[1m0s\u001b[0m 3ms/step - accuracy: 0.9542 - loss: 0.0995 - val_accuracy: 0.9630 - val_loss: 0.0836\n",
      "Epoch 50/50\n",
      "\u001b[1m21/21\u001b[0m \u001b[32m━━━━━━━━━━━━━━━━━━━━\u001b[0m\u001b[37m\u001b[0m \u001b[1m0s\u001b[0m 4ms/step - accuracy: 0.9635 - loss: 0.0962 - val_accuracy: 0.9630 - val_loss: 0.0843\n"
     ]
    },
    {
     "data": {
      "text/plain": [
       "<keras.src.callbacks.history.History at 0x29967b2ff40>"
      ]
     },
     "execution_count": 5,
     "metadata": {},
     "output_type": "execute_result"
    }
   ],
   "source": [
    "from sklearn.model_selection import train_test_split\n",
    "from sklearn.preprocessing import StandardScaler\n",
    "from tensorflow.keras.models import Sequential\n",
    "from tensorflow.keras.layers import Dense, Dropout\n",
    "from tensorflow.keras.utils import to_categorical\n",
    "\n",
    "# Prepare features and labels\n",
    "X = df_features[['Return', 'Volatility', 'Momentum', 'MA10', 'MA50']]\n",
    "y = df_features['Quadrant']\n",
    "\n",
    "# Standardize\n",
    "scaler = StandardScaler()\n",
    "X_scaled = scaler.fit_transform(X)\n",
    "\n",
    "# Encode labels\n",
    "y_encoded = to_categorical(y)\n",
    "\n",
    "# Train-test split\n",
    "X_train, X_test, y_train, y_test = train_test_split(X_scaled, y_encoded, test_size=0.2, random_state=42)\n",
    "\n",
    "# Build model\n",
    "model = Sequential([\n",
    "    Dense(64, activation='relu', input_shape=(X_train.shape[1],)),\n",
    "    Dropout(0.3),\n",
    "    Dense(32, activation='relu'),\n",
    "    Dense(4, activation='softmax')  # 4 quadrants\n",
    "])\n",
    "\n",
    "model.compile(optimizer='adam', loss='categorical_crossentropy', metrics=['accuracy'])\n",
    "model.fit(X_train, y_train, epochs=50, batch_size=32, validation_split=0.2)\n"
   ]
  },
  {
   "cell_type": "code",
   "execution_count": 6,
   "metadata": {},
   "outputs": [
    {
     "name": "stdout",
     "output_type": "stream",
     "text": [
      "\u001b[1m7/7\u001b[0m \u001b[32m━━━━━━━━━━━━━━━━━━━━\u001b[0m\u001b[37m\u001b[0m \u001b[1m0s\u001b[0m 3ms/step - accuracy: 0.9651 - loss: 0.0886 \n",
      "Test Accuracy: 0.97\n"
     ]
    }
   ],
   "source": [
    "loss, accuracy = model.evaluate(X_test, y_test)\n",
    "print(f\"Test Accuracy: {accuracy:.2f}\")\n"
   ]
  },
  {
   "cell_type": "code",
   "execution_count": 7,
   "metadata": {},
   "outputs": [
    {
     "name": "stdout",
     "output_type": "stream",
     "text": [
      "\u001b[1m1/1\u001b[0m \u001b[32m━━━━━━━━━━━━━━━━━━━━\u001b[0m\u001b[37m\u001b[0m \u001b[1m0s\u001b[0m 44ms/step\n",
      "Predicted Quadrants: [2 3 0 1 3]\n"
     ]
    }
   ],
   "source": [
    "pred = model.predict(X_test[:5])\n",
    "print(\"Predicted Quadrants:\", pred.argmax(axis=1))"
   ]
  },
  {
   "cell_type": "code",
   "execution_count": 8,
   "metadata": {},
   "outputs": [
    {
     "data": {
      "image/png": "[encoded data removed]",
      "text/plain": [
       "<Figure size 1000x600 with 1 Axes>"
      ]
     },
     "metadata": {},
     "output_type": "display_data"
    }
   ],
   "source": [
    "import matplotlib.pyplot as plt\n",
    "import seaborn as sns\n",
    "\n",
    "# Set style\n",
    "sns.set(style=\"whitegrid\")\n",
    "\n",
    "# Plot\n",
    "plt.figure(figsize=(10, 6))\n",
    "sns.scatterplot(\n",
    "    data=df_features,\n",
    "    x=\"Momentum\",\n",
    "    y=\"Volatility\",\n",
    "    hue=\"Quadrant\",\n",
    "    palette=\"Set2\",\n",
    "    alpha=0.8\n",
    ")\n",
    "\n",
    "# Median lines for quadrant boundaries\n",
    "momentum_median = df_features[\"Momentum\"].median()\n",
    "volatility_median = df_features[\"Volatility\"].median()\n",
    "\n",
    "plt.axvline(momentum_median, color='gray', linestyle='--')\n",
    "plt.axhline(volatility_median, color='gray', linestyle='--')\n",
    "\n",
    "# Labels and title\n",
    "plt.title(\"Stock Quadrant Classification\")\n",
    "plt.xlabel(\"Momentum\")\n",
    "plt.ylabel(\"Volatility\")\n",
    "plt.legend(title=\"Quadrant\", loc=\"upper right\")\n",
    "plt.tight_layout()\n",
    "plt.show()\n"
   ]
  },
  {
   "cell_type": "code",
   "execution_count": 9,
   "metadata": {},
   "outputs": [
    {
     "data": {
      "application/vnd.plotly.v1+json": {
       "config": {
        "plotlyServerURL": "https://plot.ly"
       },
       "data": [
        {
         "customdata": [
          [
           "AAPL"
          ],
          [
           "AAPL"
          ],
          [
           "AAPL"
          ],
          [
           "AAPL"
          ],
          [
           "AAPL"
          ],
          [
           "AAPL"
          ],
          [
           "AAPL"
          ],
          [
           "AAPL"
          ],
          [
           "AAPL"
          ],
          [
           "AAPL"
          ],
          [
           "AAPL"
          ],
          [
           "AAPL"
          ],
          [
           "AAPL"
          ],
          [
           "AAPL"
          ],
          [
           "AAPL"
          ],
          [
           "AAPL"
          ],
          [
           "AAPL"
          ],
          [
           "AAPL"
          ],
          [
           "AAPL"
          ],
          [
           "AAPL"
          ],
          [
           "AAPL"
          ],
          [
           "AAPL"
          ],
          [
           "AAPL"
          ],
          [
           "AAPL"
          ],
          [
           "AAPL"
          ],
          [
           "AAPL"
          ],
          [
           "AAPL"
          ],
          [
           "AAPL"
          ],
          [
           "AAPL"
          ],
          [
           "AAPL"
          ],
          [
           "AAPL"
          ],
          [
           "AAPL"
          ],
          [
           "AAPL"
          ],
          [
           "AAPL"
          ],
          [
           "AAPL"
          ],
          [
           "AAPL"
          ],
          [
           "AAPL"
          ],
          [
           "AAPL"
          ],
          [
           "AAPL"
          ],
          [
           "AAPL"
          ],
          [
           "AAPL"
          ],
          [
           "AAPL"
          ],
          [
           "AAPL"
          ],
          [
           "AAPL"
          ],
          [
           "AAPL"
          ],
          [
           "AAPL"
          ],
          [
           "AAPL"
          ],
          [
           "AAPL"
          ],
          [
           "AAPL"
          ],
          [
           "AAPL"
          ],
          [
           "AAPL"
          ],
          [
           "AAPL"
          ],
          [
           "AAPL"
          ],
          [
           "AAPL"
          ],
          [
           "AAPL"
          ],
          [
           "AAPL"
          ],
          [
           "AAPL"
          ],
          [
           "AAPL"
          ],
          [
           "AAPL"
          ],
          [
           "AAPL"
          ],
          [
           "AAPL"
          ],
          [
           "AAPL"
          ],
          [
           "AAPL"
          ],
          [
           "AAPL"
          ],
          [
           "AAPL"
          ],
          [
           "AAPL"
          ],
          [
           "AAPL"
          ],
          [
           "AAPL"
          ],
          [
           "AAPL"
          ],
          [
           "AAPL"
          ],
          [
           "AAPL"
          ],
          [
           "AAPL"
          ],
          [
           "AAPL"
          ],
          [
           "AAPL"
          ],
          [
           "AAPL"
          ],
          [
           "AAPL"
          ],
          [
           "AAPL"
          ],
          [
           "AAPL"
          ],
          [
           "AAPL"
          ],
          [
           "AAPL"
          ],
          [
           "AAPL"
          ],
          [
           "AAPL"
          ],
          [
           "AAPL"
          ],
          [
           "AAPL"
          ],
          [
           "AAPL"
          ],
          [
           "AAPL"
          ],
          [
           "AAPL"
          ],
          [
           "AAPL"
          ],
          [
           "AAPL"
          ],
          [
           "AAPL"
          ],
          [
           "AAPL"
          ],
          [
           "AAPL"
          ],
          [
           "AAPL"
          ],
          [
           "AAPL"
          ],
          [
           "AAPL"
          ],
          [
           "AAPL"
          ],
          [
           "AAPL"
          ],
          [
           "AAPL"
          ],
          [
           "AAPL"
          ],
          [
           "AAPL"
          ],
          [
           "AAPL"
          ],
          [
           "AAPL"
          ],
          [
           "AAPL"
          ],
          [
           "AAPL"
          ],
          [
           "AAPL"
          ],
          [
           "AAPL"
          ],
          [
           "AAPL"
          ],
          [
           "AAPL"
          ],
          [
           "AAPL"
          ],
          [
           "AAPL"
          ],
          [
           "AAPL"
          ],
          [
           "AAPL"
          ],
          [
           "AAPL"
          ],
          [
           "AAPL"
          ],
          [
           "AAPL"
          ],
          [
           "AAPL"
          ],
          [
           "AAPL"
          ],
          [
           "AAPL"
          ],
          [
           "AAPL"
          ],
          [
           "AAPL"
          ],
          [
           "AAPL"
          ],
          [
           "AAPL"
          ],
          [
           "AAPL"
          ],
          [
           "AAPL"
          ],
          [
           "AAPL"
          ],
          [
           "AAPL"
          ],
          [
           "AAPL"
          ],
          [
           "AAPL"
          ],
          [
           "AAPL"
          ],
          [
           "AAPL"
          ],
          [
           "AAPL"
          ],
          [
           "AAPL"
          ],
          [
           "AAPL"
          ],
          [
           "AAPL"
          ],
          [
           "AAPL"
          ],
          [
           "AAPL"
          ],
          [
           "AAPL"
          ],
          [
           "AAPL"
          ],
          [
           "AAPL"
          ],
          [
           "AAPL"
          ],
          [
           "AAPL"
          ],
          [
           "AAPL"
          ],
          [
           "AAPL"
          ],
          [
           "AAPL"
          ],
          [
           "AAPL"
          ],
          [
           "AAPL"
          ],
          [
           "AAPL"
          ],
          [
           "AAPL"
          ],
          [
           "AAPL"
          ],
          [
           "AAPL"
          ],
          [
           "AAPL"
          ],
          [
           "AAPL"
          ],
          [
           "AAPL"
          ],
          [
           "AAPL"
          ],
          [
           "AAPL"
          ],
          [
           "AAPL"
          ],
          [
           "AAPL"
          ],
          [
           "AAPL"
          ],
          [
           "AAPL"
          ],
          [
           "AAPL"
          ],
          [
           "AAPL"
          ],
          [
           "AAPL"
          ],
          [
           "AAPL"
          ],
          [
           "AAPL"
          ],
          [
           "AAPL"
          ],
          [
           "AAPL"
          ],
          [
           "AAPL"
          ],
          [
           "AAPL"
          ],
          [
           "AAPL"
          ],
          [
           "AAPL"
          ],
          [
           "AAPL"
          ],
          [
           "AAPL"
          ],
          [
           "AAPL"
          ],
          [
           "AAPL"
          ],
          [
           "AAPL"
          ],
          [
           "AAPL"
          ],
          [
           "AAPL"
          ],
          [
           "AAPL"
          ],
          [
           "AAPL"
          ],
          [
           "AAPL"
          ],
          [
           "AAPL"
          ],
          [
           "AAPL"
          ],
          [
           "AAPL"
          ],
          [
           "AAPL"
          ],
          [
           "AAPL"
          ],
          [
           "AAPL"
          ],
          [
           "AAPL"
          ],
          [
           "AAPL"
          ],
          [
           "AAPL"
          ],
          [
           "AAPL"
          ],
          [
           "AAPL"
          ],
          [
           "AAPL"
          ],
          [
           "AAPL"
          ],
          [
           "AAPL"
          ],
          [
           "AAPL"
          ],
          [
           "AAPL"
          ],
          [
           "AAPL"
          ],
          [
           "AAPL"
          ],
          [
           "AAPL"
          ],
          [
           "AAPL"
          ],
          [
           "AAPL"
          ],
          [
           "AAPL"
          ],
          [
           "MSFT"
          ],
          [
           "MSFT"
          ],
          [
           "MSFT"
          ],
          [
           "MSFT"
          ],
          [
           "MSFT"
          ],
          [
           "MSFT"
          ],
          [
           "MSFT"
          ],
          [
           "MSFT"
          ],
          [
           "MSFT"
          ],
          [
           "MSFT"
          ],
          [
           "MSFT"
          ],
          [
           "MSFT"
          ],
          [
           "MSFT"
          ],
          [
           "MSFT"
          ],
          [
           "MSFT"
          ],
          [
           "MSFT"
          ],
          [
           "MSFT"
          ],
          [
           "MSFT"
          ],
          [
           "MSFT"
          ],
          [
           "MSFT"
          ],
          [
           "MSFT"
          ],
          [
           "MSFT"
          ],
          [
           "MSFT"
          ],
          [
           "MSFT"
          ],
          [
           "MSFT"
          ],
          [
           "MSFT"
          ],
          [
           "MSFT"
          ],
          [
           "MSFT"
          ],
          [
           "MSFT"
          ],
          [
           "MSFT"
          ],
          [
           "MSFT"
          ],
          [
           "MSFT"
          ],
          [
           "MSFT"
          ],
          [
           "MSFT"
          ],
          [
           "MSFT"
          ],
          [
           "MSFT"
          ],
          [
           "MSFT"
          ],
          [
           "MSFT"
          ],
          [
           "MSFT"
          ],
          [
           "MSFT"
          ],
          [
           "MSFT"
          ],
          [
           "MSFT"
          ],
          [
           "MSFT"
          ],
          [
           "MSFT"
          ],
          [
           "MSFT"
          ],
          [
           "MSFT"
          ],
          [
           "MSFT"
          ],
          [
           "MSFT"
          ],
          [
           "MSFT"
          ],
          [
           "MSFT"
          ],
          [
           "MSFT"
          ],
          [
           "MSFT"
          ],
          [
           "MSFT"
          ],
          [
           "MSFT"
          ],
          [
           "MSFT"
          ],
          [
           "MSFT"
          ],
          [
           "MSFT"
          ],
          [
           "MSFT"
          ],
          [
           "MSFT"
          ],
          [
           "MSFT"
          ],
          [
           "MSFT"
          ],
          [
           "MSFT"
          ],
          [
           "MSFT"
          ],
          [
           "MSFT"
          ],
          [
           "MSFT"
          ],
          [
           "MSFT"
          ],
          [
           "MSFT"
          ],
          [
           "MSFT"
          ],
          [
           "MSFT"
          ],
          [
           "MSFT"
          ],
          [
           "MSFT"
          ],
          [
           "MSFT"
          ],
          [
           "MSFT"
          ],
          [
           "MSFT"
          ],
          [
           "MSFT"
          ],
          [
           "MSFT"
          ],
          [
           "MSFT"
          ],
          [
           "MSFT"
          ],
          [
           "MSFT"
          ],
          [
           "MSFT"
          ],
          [
           "MSFT"
          ],
          [
           "MSFT"
          ],
          [
           "MSFT"
          ],
          [
           "MSFT"
          ],
          [
           "MSFT"
          ],
          [
           "MSFT"
          ],
          [
           "MSFT"
          ],
          [
           "MSFT"
          ],
          [
           "MSFT"
          ],
          [
           "MSFT"
          ],
          [
           "MSFT"
          ],
          [
           "MSFT"
          ],
          [
           "MSFT"
          ],
          [
           "MSFT"
          ],
          [
           "MSFT"
          ],
          [
           "MSFT"
          ],
          [
           "MSFT"
          ],
          [
           "MSFT"
          ],
          [
           "MSFT"
          ],
          [
           "MSFT"
          ],
          [
           "MSFT"
          ],
          [
           "MSFT"
          ],
          [
           "MSFT"
          ],
          [
           "MSFT"
          ],
          [
           "MSFT"
          ],
          [
           "MSFT"
          ],
          [
           "MSFT"
          ],
          [
           "MSFT"
          ],
          [
           "MSFT"
          ],
          [
           "MSFT"
          ],
          [
           "MSFT"
          ],
          [
           "MSFT"
          ],
          [
           "MSFT"
          ],
          [
           "MSFT"
          ],
          [
           "MSFT"
          ],
          [
           "MSFT"
          ],
          [
           "MSFT"
          ],
          [
           "MSFT"
          ],
          [
           "MSFT"
          ],
          [
           "MSFT"
          ],
          [
           "MSFT"
          ],
          [
           "MSFT"
          ],
          [
           "MSFT"
          ],
          [
           "MSFT"
          ],
          [
           "MSFT"
          ],
          [
           "MSFT"
          ],
          [
           "MSFT"
          ],
          [
           "MSFT"
          ],
          [
           "MSFT"
          ],
          [
           "MSFT"
          ],
          [
           "MSFT"
          ],
          [
           "MSFT"
          ],
          [
           "MSFT"
          ],
          [
           "MSFT"
          ],
          [
           "MSFT"
          ],
          [
           "MSFT"
          ],
          [
           "MSFT"
          ],
          [
           "MSFT"
          ],
          [
           "MSFT"
          ],
          [
           "MSFT"
          ],
          [
           "MSFT"
          ],
          [
           "MSFT"
          ],
          [
           "MSFT"
          ],
          [
           "MSFT"
          ],
          [
           "MSFT"
          ],
          [
           "MSFT"
          ],
          [
           "MSFT"
          ],
          [
           "MSFT"
          ],
          [
           "MSFT"
          ],
          [
           "MSFT"
          ],
          [
           "MSFT"
          ],
          [
           "MSFT"
          ],
          [
           "MSFT"
          ],
          [
           "MSFT"
          ],
          [
           "MSFT"
          ],
          [
           "MSFT"
          ],
          [
           "MSFT"
          ],
          [
           "MSFT"
          ],
          [
           "MSFT"
          ],
          [
           "MSFT"
          ],
          [
           "MSFT"
          ],
          [
           "MSFT"
          ],
          [
           "MSFT"
          ],
          [
           "MSFT"
          ],
          [
           "MSFT"
          ],
          [
           "MSFT"
          ],
          [
           "MSFT"
          ],
          [
           "MSFT"
          ],
          [
           "MSFT"
          ],
          [
           "MSFT"
          ],
          [
           "MSFT"
          ],
          [
           "MSFT"
          ],
          [
           "MSFT"
          ],
          [
           "MSFT"
          ],
          [
           "MSFT"
          ],
          [
           "MSFT"
          ],
          [
           "MSFT"
          ],
          [
           "MSFT"
          ],
          [
           "MSFT"
          ],
          [
           "MSFT"
          ],
          [
           "MSFT"
          ],
          [
           "MSFT"
          ],
          [
           "MSFT"
          ],
          [
           "MSFT"
          ],
          [
           "MSFT"
          ],
          [
           "MSFT"
          ],
          [
           "MSFT"
          ],
          [
           "MSFT"
          ],
          [
           "MSFT"
          ],
          [
           "MSFT"
          ],
          [
           "MSFT"
          ],
          [
           "MSFT"
          ],
          [
           "MSFT"
          ],
          [
           "MSFT"
          ],
          [
           "MSFT"
          ],
          [
           "MSFT"
          ],
          [
           "MSFT"
          ],
          [
           "MSFT"
          ],
          [
           "MSFT"
          ],
          [
           "MSFT"
          ],
          [
           "MSFT"
          ],
          [
           "MSFT"
          ],
          [
           "GOOGL"
          ],
          [
           "GOOGL"
          ],
          [
           "GOOGL"
          ],
          [
           "GOOGL"
          ],
          [
           "GOOGL"
          ],
          [
           "GOOGL"
          ],
          [
           "GOOGL"
          ],
          [
           "GOOGL"
          ],
          [
           "GOOGL"
          ],
          [
           "GOOGL"
          ],
          [
           "GOOGL"
          ],
          [
           "GOOGL"
          ],
          [
           "GOOGL"
          ],
          [
           "GOOGL"
          ],
          [
           "GOOGL"
          ],
          [
           "GOOGL"
          ],
          [
           "GOOGL"
          ],
          [
           "GOOGL"
          ],
          [
           "GOOGL"
          ],
          [
           "GOOGL"
          ],
          [
           "GOOGL"
          ],
          [
           "GOOGL"
          ],
          [
           "GOOGL"
          ],
          [
           "GOOGL"
          ],
          [
           "GOOGL"
          ],
          [
           "GOOGL"
          ],
          [
           "GOOGL"
          ],
          [
           "GOOGL"
          ],
          [
           "GOOGL"
          ],
          [
           "GOOGL"
          ],
          [
           "GOOGL"
          ],
          [
           "GOOGL"
          ],
          [
           "GOOGL"
          ],
          [
           "GOOGL"
          ],
          [
           "GOOGL"
          ],
          [
           "GOOGL"
          ],
          [
           "GOOGL"
          ],
          [
           "GOOGL"
          ],
          [
           "GOOGL"
          ],
          [
           "GOOGL"
          ],
          [
           "GOOGL"
          ],
          [
           "GOOGL"
          ],
          [
           "GOOGL"
          ],
          [
           "GOOGL"
          ],
          [
           "GOOGL"
          ],
          [
           "GOOGL"
          ],
          [
           "GOOGL"
          ],
          [
           "GOOGL"
          ],
          [
           "GOOGL"
          ],
          [
           "GOOGL"
          ],
          [
           "GOOGL"
          ],
          [
           "GOOGL"
          ],
          [
           "GOOGL"
          ],
          [
           "GOOGL"
          ],
          [
           "GOOGL"
          ],
          [
           "GOOGL"
          ],
          [
           "GOOGL"
          ],
          [
           "GOOGL"
          ],
          [
           "GOOGL"
          ],
          [
           "GOOGL"
          ],
          [
           "GOOGL"
          ],
          [
           "GOOGL"
          ],
          [
           "GOOGL"
          ],
          [
           "GOOGL"
          ],
          [
           "GOOGL"
          ],
          [
           "GOOGL"
          ],
          [
           "GOOGL"
          ],
          [
           "GOOGL"
          ],
          [
           "GOOGL"
          ],
          [
           "GOOGL"
          ],
          [
           "GOOGL"
          ],
          [
           "GOOGL"
          ],
          [
           "GOOGL"
          ],
          [
           "GOOGL"
          ],
          [
           "GOOGL"
          ],
          [
           "GOOGL"
          ],
          [
           "GOOGL"
          ],
          [
           "GOOGL"
          ],
          [
           "GOOGL"
          ],
          [
           "GOOGL"
          ],
          [
           "GOOGL"
          ],
          [
           "GOOGL"
          ],
          [
           "GOOGL"
          ],
          [
           "GOOGL"
          ],
          [
           "GOOGL"
          ],
          [
           "GOOGL"
          ],
          [
           "GOOGL"
          ],
          [
           "GOOGL"
          ],
          [
           "GOOGL"
          ],
          [
           "GOOGL"
          ],
          [
           "GOOGL"
          ],
          [
           "GOOGL"
          ],
          [
           "GOOGL"
          ],
          [
           "GOOGL"
          ],
          [
           "GOOGL"
          ],
          [
           "GOOGL"
          ],
          [
           "GOOGL"
          ],
          [
           "GOOGL"
          ],
          [
           "GOOGL"
          ],
          [
           "GOOGL"
          ],
          [
           "GOOGL"
          ],
          [
           "GOOGL"
          ],
          [
           "GOOGL"
          ],
          [
           "GOOGL"
          ],
          [
           "GOOGL"
          ],
          [
           "GOOGL"
          ],
          [
           "GOOGL"
          ],
          [
           "GOOGL"
          ],
          [
           "GOOGL"
          ],
          [
           "GOOGL"
          ],
          [
           "GOOGL"
          ],
          [
           "GOOGL"
          ],
          [
           "GOOGL"
          ],
          [
           "GOOGL"
          ],
          [
           "GOOGL"
          ],
          [
           "GOOGL"
          ],
          [
           "GOOGL"
          ],
          [
           "GOOGL"
          ],
          [
           "GOOGL"
          ],
          [
           "GOOGL"
          ],
          [
           "GOOGL"
          ],
          [
           "GOOGL"
          ],
          [
           "GOOGL"
          ],
          [
           "GOOGL"
          ],
          [
           "GOOGL"
          ],
          [
           "GOOGL"
          ],
          [
           "GOOGL"
          ],
          [
           "GOOGL"
          ],
          [
           "GOOGL"
          ],
          [
           "GOOGL"
          ],
          [
           "GOOGL"
          ],
          [
           "GOOGL"
          ],
          [
           "GOOGL"
          ],
          [
           "GOOGL"
          ],
          [
           "GOOGL"
          ],
          [
           "GOOGL"
          ],
          [
           "GOOGL"
          ],
          [
           "GOOGL"
          ],
          [
           "GOOGL"
          ],
          [
           "GOOGL"
          ],
          [
           "GOOGL"
          ],
          [
           "GOOGL"
          ],
          [
           "GOOGL"
          ],
          [
           "GOOGL"
          ],
          [
           "GOOGL"
          ],
          [
           "GOOGL"
          ],
          [
           "GOOGL"
          ],
          [
           "GOOGL"
          ],
          [
           "GOOGL"
          ],
          [
           "GOOGL"
          ],
          [
           "GOOGL"
          ],
          [
           "GOOGL"
          ],
          [
           "GOOGL"
          ],
          [
           "GOOGL"
          ],
          [
           "GOOGL"
          ],
          [
           "GOOGL"
          ],
          [
           "GOOGL"
          ],
          [
           "GOOGL"
          ],
          [
           "GOOGL"
          ],
          [
           "GOOGL"
          ],
          [
           "GOOGL"
          ],
          [
           "GOOGL"
          ],
          [
           "GOOGL"
          ],
          [
           "GOOGL"
          ],
          [
           "GOOGL"
          ],
          [
           "GOOGL"
          ],
          [
           "GOOGL"
          ],
          [
           "GOOGL"
          ],
          [
           "GOOGL"
          ],
          [
           "GOOGL"
          ],
          [
           "GOOGL"
          ],
          [
           "GOOGL"
          ],
          [
           "GOOGL"
          ],
          [
           "GOOGL"
          ],
          [
           "GOOGL"
          ],
          [
           "GOOGL"
          ],
          [
           "GOOGL"
          ],
          [
           "GOOGL"
          ],
          [
           "GOOGL"
          ],
          [
           "GOOGL"
          ],
          [
           "GOOGL"
          ],
          [
           "GOOGL"
          ],
          [
           "GOOGL"
          ],
          [
           "GOOGL"
          ],
          [
           "GOOGL"
          ],
          [
           "GOOGL"
          ],
          [
           "GOOGL"
          ],
          [
           "GOOGL"
          ],
          [
           "GOOGL"
          ],
          [
           "GOOGL"
          ],
          [
           "GOOGL"
          ],
          [
           "GOOGL"
          ],
          [
           "GOOGL"
          ],
          [
           "GOOGL"
          ],
          [
           "GOOGL"
          ],
          [
           "GOOGL"
          ],
          [
           "GOOGL"
          ],
          [
           "GOOGL"
          ],
          [
           "GOOGL"
          ],
          [
           "GOOGL"
          ],
          [
           "GOOGL"
          ],
          [
           "GOOGL"
          ],
          [
           "AMZN"
          ],
          [
           "AMZN"
          ],
          [
           "AMZN"
          ],
          [
           "AMZN"
          ],
          [
           "AMZN"
          ],
          [
           "AMZN"
          ],
          [
           "AMZN"
          ],
          [
           "AMZN"
          ],
          [
           "AMZN"
          ],
          [
           "AMZN"
          ],
          [
           "AMZN"
          ],
          [
           "AMZN"
          ],
          [
           "AMZN"
          ],
          [
           "AMZN"
          ],
          [
           "AMZN"
          ],
          [
           "AMZN"
          ],
          [
           "AMZN"
          ],
          [
           "AMZN"
          ],
          [
           "AMZN"
          ],
          [
           "AMZN"
          ],
          [
           "AMZN"
          ],
          [
           "AMZN"
          ],
          [
           "AMZN"
          ],
          [
           "AMZN"
          ],
          [
           "AMZN"
          ],
          [
           "AMZN"
          ],
          [
           "AMZN"
          ],
          [
           "AMZN"
          ],
          [
           "AMZN"
          ],
          [
           "AMZN"
          ],
          [
           "AMZN"
          ],
          [
           "AMZN"
          ],
          [
           "AMZN"
          ],
          [
           "AMZN"
          ],
          [
           "AMZN"
          ],
          [
           "AMZN"
          ],
          [
           "AMZN"
          ],
          [
           "AMZN"
          ],
          [
           "AMZN"
          ],
          [
           "AMZN"
          ],
          [
           "AMZN"
          ],
          [
           "AMZN"
          ],
          [
           "AMZN"
          ],
          [
           "AMZN"
          ],
          [
           "AMZN"
          ],
          [
           "AMZN"
          ],
          [
           "AMZN"
          ],
          [
           "AMZN"
          ],
          [
           "AMZN"
          ],
          [
           "AMZN"
          ],
          [
           "AMZN"
          ],
          [
           "AMZN"
          ],
          [
           "AMZN"
          ],
          [
           "AMZN"
          ],
          [
           "AMZN"
          ],
          [
           "AMZN"
          ],
          [
           "AMZN"
          ],
          [
           "AMZN"
          ],
          [
           "AMZN"
          ],
          [
           "AMZN"
          ],
          [
           "AMZN"
          ],
          [
           "AMZN"
          ],
          [
           "AMZN"
          ],
          [
           "AMZN"
          ],
          [
           "AMZN"
          ],
          [
           "AMZN"
          ],
          [
           "AMZN"
          ],
          [
           "AMZN"
          ],
          [
           "AMZN"
          ],
          [
           "AMZN"
          ],
          [
           "AMZN"
          ],
          [
           "AMZN"
          ],
          [
           "AMZN"
          ],
          [
           "AMZN"
          ],
          [
           "AMZN"
          ],
          [
           "AMZN"
          ],
          [
           "AMZN"
          ],
          [
           "AMZN"
          ],
          [
           "AMZN"
          ],
          [
           "AMZN"
          ],
          [
           "AMZN"
          ],
          [
           "AMZN"
          ],
          [
           "AMZN"
          ],
          [
           "AMZN"
          ],
          [
           "AMZN"
          ],
          [
           "AMZN"
          ],
          [
           "AMZN"
          ],
          [
           "AMZN"
          ],
          [
           "AMZN"
          ],
          [
           "AMZN"
          ],
          [
           "AMZN"
          ],
          [
           "AMZN"
          ],
          [
           "AMZN"
          ],
          [
           "AMZN"
          ],
          [
           "AMZN"
          ],
          [
           "AMZN"
          ],
          [
           "AMZN"
          ],
          [
           "AMZN"
          ],
          [
           "AMZN"
          ],
          [
           "AMZN"
          ],
          [
           "AMZN"
          ],
          [
           "AMZN"
          ],
          [
           "AMZN"
          ],
          [
           "AMZN"
          ],
          [
           "AMZN"
          ],
          [
           "AMZN"
          ],
          [
           "AMZN"
          ],
          [
           "AMZN"
          ],
          [
           "AMZN"
          ],
          [
           "AMZN"
          ],
          [
           "AMZN"
          ],
          [
           "AMZN"
          ],
          [
           "AMZN"
          ],
          [
           "AMZN"
          ],
          [
           "AMZN"
          ],
          [
           "AMZN"
          ],
          [
           "AMZN"
          ],
          [
           "AMZN"
          ],
          [
           "AMZN"
          ],
          [
           "AMZN"
          ],
          [
           "AMZN"
          ],
          [
           "AMZN"
          ],
          [
           "AMZN"
          ],
          [
           "AMZN"
          ],
          [
           "AMZN"
          ],
          [
           "AMZN"
          ],
          [
           "AMZN"
          ],
          [
           "AMZN"
          ],
          [
           "AMZN"
          ],
          [
           "AMZN"
          ],
          [
           "AMZN"
          ],
          [
           "AMZN"
          ],
          [
           "AMZN"
          ],
          [
           "AMZN"
          ],
          [
           "AMZN"
          ],
          [
           "AMZN"
          ],
          [
           "AMZN"
          ],
          [
           "AMZN"
          ],
          [
           "AMZN"
          ],
          [
           "AMZN"
          ],
          [
           "AMZN"
          ],
          [
           "AMZN"
          ],
          [
           "AMZN"
          ],
          [
           "AMZN"
          ],
          [
           "AMZN"
          ],
          [
           "AMZN"
          ],
          [
           "AMZN"
          ],
          [
           "AMZN"
          ],
          [
           "AMZN"
          ],
          [
           "AMZN"
          ],
          [
           "AMZN"
          ],
          [
           "AMZN"
          ],
          [
           "AMZN"
          ],
          [
           "AMZN"
          ],
          [
           "AMZN"
          ],
          [
           "AMZN"
          ],
          [
           "AMZN"
          ],
          [
           "AMZN"
          ],
          [
           "AMZN"
          ],
          [
           "AMZN"
          ],
          [
           "AMZN"
          ],
          [
           "AMZN"
          ],
          [
           "AMZN"
          ],
          [
           "AMZN"
          ],
          [
           "AMZN"
          ],
          [
           "AMZN"
          ],
          [
           "AMZN"
          ],
          [
           "AMZN"
          ],
          [
           "AMZN"
          ],
          [
           "AMZN"
          ],
          [
           "AMZN"
          ],
          [
           "AMZN"
          ],
          [
           "AMZN"
          ],
          [
           "AMZN"
          ],
          [
           "AMZN"
          ],
          [
           "AMZN"
          ],
          [
           "AMZN"
          ],
          [
           "AMZN"
          ],
          [
           "AMZN"
          ],
          [
           "AMZN"
          ],
          [
           "AMZN"
          ],
          [
           "AMZN"
          ],
          [
           "AMZN"
          ],
          [
           "AMZN"
          ],
          [
           "AMZN"
          ],
          [
           "AMZN"
          ],
          [
           "AMZN"
          ],
          [
           "AMZN"
          ],
          [
           "AMZN"
          ],
          [
           "AMZN"
          ],
          [
           "AMZN"
          ],
          [
           "AMZN"
          ],
          [
           "AMZN"
          ],
          [
           "AMZN"
          ],
          [
           "AMZN"
          ],
          [
           "AMZN"
          ],
          [
           "AMZN"
          ],
          [
           "AMZN"
          ],
          [
           "AMZN"
          ],
          [
           "AMZN"
          ],
          [
           "AMZN"
          ],
          [
           "AMZN"
          ],
          [
           "TSLA"
          ],
          [
           "TSLA"
          ],
          [
           "TSLA"
          ],
          [
           "TSLA"
          ],
          [
           "TSLA"
          ],
          [
           "TSLA"
          ],
          [
           "TSLA"
          ],
          [
           "TSLA"
          ],
          [
           "TSLA"
          ],
          [
           "TSLA"
          ],
          [
           "TSLA"
          ],
          [
           "TSLA"
          ],
          [
           "TSLA"
          ],
          [
           "TSLA"
          ],
          [
           "TSLA"
          ],
          [
           "TSLA"
          ],
          [
           "TSLA"
          ],
          [
           "TSLA"
          ],
          [
           "TSLA"
          ],
          [
           "TSLA"
          ],
          [
           "TSLA"
          ],
          [
           "TSLA"
          ],
          [
           "TSLA"
          ],
          [
           "TSLA"
          ],
          [
           "TSLA"
          ],
          [
           "TSLA"
          ],
          [
           "TSLA"
          ],
          [
           "TSLA"
          ],
          [
           "TSLA"
          ],
          [
           "TSLA"
          ],
          [
           "TSLA"
          ],
          [
           "TSLA"
          ],
          [
           "TSLA"
          ],
          [
           "TSLA"
          ],
          [
           "TSLA"
          ],
          [
           "TSLA"
          ],
          [
           "TSLA"
          ],
          [
           "TSLA"
          ],
          [
           "TSLA"
          ],
          [
           "TSLA"
          ],
          [
           "TSLA"
          ],
          [
           "TSLA"
          ],
          [
           "TSLA"
          ],
          [
           "TSLA"
          ],
          [
           "TSLA"
          ],
          [
           "TSLA"
          ],
          [
           "TSLA"
          ],
          [
           "TSLA"
          ],
          [
           "TSLA"
          ],
          [
           "TSLA"
          ],
          [
           "TSLA"
          ],
          [
           "TSLA"
          ],
          [
           "TSLA"
          ],
          [
           "TSLA"
          ],
          [
           "TSLA"
          ],
          [
           "TSLA"
          ],
          [
           "TSLA"
          ],
          [
           "TSLA"
          ],
          [
           "TSLA"
          ],
          [
           "TSLA"
          ],
          [
           "TSLA"
          ],
          [
           "TSLA"
          ],
          [
           "TSLA"
          ],
          [
           "TSLA"
          ],
          [
           "TSLA"
          ],
          [
           "TSLA"
          ],
          [
           "TSLA"
          ],
          [
           "TSLA"
          ],
          [
           "TSLA"
          ],
          [
           "TSLA"
          ],
          [
           "TSLA"
          ],
          [
           "TSLA"
          ],
          [
           "TSLA"
          ],
          [
           "TSLA"
          ],
          [
           "TSLA"
          ],
          [
           "TSLA"
          ],
          [
           "TSLA"
          ],
          [
           "TSLA"
          ],
          [
           "TSLA"
          ],
          [
           "TSLA"
          ],
          [
           "TSLA"
          ],
          [
           "TSLA"
          ],
          [
           "TSLA"
          ],
          [
           "TSLA"
          ],
          [
           "TSLA"
          ],
          [
           "TSLA"
          ],
          [
           "TSLA"
          ],
          [
           "TSLA"
          ],
          [
           "TSLA"
          ],
          [
           "TSLA"
          ],
          [
           "TSLA"
          ],
          [
           "TSLA"
          ],
          [
           "TSLA"
          ],
          [
           "TSLA"
          ],
          [
           "TSLA"
          ],
          [
           "TSLA"
          ],
          [
           "TSLA"
          ],
          [
           "TSLA"
          ],
          [
           "TSLA"
          ],
          [
           "TSLA"
          ],
          [
           "TSLA"
          ],
          [
           "TSLA"
          ],
          [
           "TSLA"
          ],
          [
           "TSLA"
          ],
          [
           "TSLA"
          ],
          [
           "TSLA"
          ],
          [
           "TSLA"
          ],
          [
           "TSLA"
          ],
          [
           "TSLA"
          ],
          [
           "TSLA"
          ],
          [
           "TSLA"
          ],
          [
           "TSLA"
          ],
          [
           "TSLA"
          ],
          [
           "TSLA"
          ],
          [
           "TSLA"
          ],
          [
           "TSLA"
          ],
          [
           "TSLA"
          ],
          [
           "TSLA"
          ],
          [
           "TSLA"
          ],
          [
           "TSLA"
          ],
          [
           "TSLA"
          ],
          [
           "TSLA"
          ],
          [
           "TSLA"
          ],
          [
           "TSLA"
          ],
          [
           "TSLA"
          ],
          [
           "TSLA"
          ],
          [
           "TSLA"
          ],
          [
           "TSLA"
          ],
          [
           "TSLA"
          ],
          [
           "TSLA"
          ],
          [
           "TSLA"
          ],
          [
           "TSLA"
          ],
          [
           "TSLA"
          ],
          [
           "TSLA"
          ],
          [
           "TSLA"
          ],
          [
           "TSLA"
          ],
          [
           "TSLA"
          ],
          [
           "TSLA"
          ],
          [
           "TSLA"
          ],
          [
           "TSLA"
          ],
          [
           "TSLA"
          ],
          [
           "TSLA"
          ],
          [
           "TSLA"
          ],
          [
           "TSLA"
          ],
          [
           "TSLA"
          ],
          [
           "TSLA"
          ],
          [
           "TSLA"
          ],
          [
           "TSLA"
          ],
          [
           "TSLA"
          ],
          [
           "TSLA"
          ],
          [
           "TSLA"
          ],
          [
           "TSLA"
          ],
          [
           "TSLA"
          ],
          [
           "TSLA"
          ],
          [
           "TSLA"
          ],
          [
           "TSLA"
          ],
          [
           "TSLA"
          ],
          [
           "TSLA"
          ],
          [
           "TSLA"
          ],
          [
           "TSLA"
          ],
          [
           "TSLA"
          ],
          [
           "TSLA"
          ],
          [
           "TSLA"
          ],
          [
           "TSLA"
          ],
          [
           "TSLA"
          ],
          [
           "TSLA"
          ],
          [
           "TSLA"
          ],
          [
           "TSLA"
          ],
          [
           "TSLA"
          ],
          [
           "TSLA"
          ],
          [
           "TSLA"
          ],
          [
           "TSLA"
          ],
          [
           "TSLA"
          ],
          [
           "TSLA"
          ],
          [
           "TSLA"
          ],
          [
           "TSLA"
          ],
          [
           "TSLA"
          ],
          [
           "TSLA"
          ],
          [
           "TSLA"
          ],
          [
           "TSLA"
          ],
          [
           "TSLA"
          ],
          [
           "TSLA"
          ],
          [
           "TSLA"
          ],
          [
           "TSLA"
          ],
          [
           "TSLA"
          ],
          [
           "TSLA"
          ],
          [
           "TSLA"
          ],
          [
           "TSLA"
          ],
          [
           "TSLA"
          ],
          [
           "TSLA"
          ],
          [
           "TSLA"
          ],
          [
           "TSLA"
          ],
          [
           "TSLA"
          ],
          [
           "TSLA"
          ],
          [
           "TSLA"
          ],
          [
           "TSLA"
          ],
          [
           "TSLA"
          ],
          [
           "TSLA"
          ],
          [
           "TSLA"
          ],
          [
           "TSLA"
          ],
          [
           "TSLA"
          ],
          [
           "TSLA"
          ]
         ],
         "hovertemplate": "Momentum=%{x}<br>Volatility=%{y}<br>Ticker=%{customdata[0]}<br>Quadrant Category=%{marker.color}<extra></extra>",
         "legendgroup": "",
         "marker": {
          "color": {
           "bdata": "AAABAQEBAQEBAQEBAAACAQAAAAAAAAAAAAAAAQICAgMCAgICAgICAwMDAwMDAQMBAQAAAAAAAAAAAAACAgICAgICAgICAgIBAQEBAQEBAAEBAgICAgEBAwIAAAAAAAAAAAAAAgICAgICAgICAgICAAAAAAAAAAAAAAAAAAAAAAAAAAAAAAAAAAAAAAAAAAICAgICAgICAgIDAwMDAwMDAQEDAQMBAQEBAwMDAQEAAAAAAAAAAAACAgICAgMDAwMDAwMDAwMDAQAAAAICAAAAAAAAAAAAAAAAAAAAAAAAAAAAAAACAgICAgICAgICAgICAwMDAgICAgICAAAAAAAAAAAAAgICAgICAgIAAAAAAAAAAAAAAAAAAgICAgICAgICAgICAgIAAAAAAAAAAAAAAwMDAwMBAwMDAwAAAAACAgIAAAICAAAAAAAAAAAAAAAAAgICAgICAgICAgICAgICAgIAAAAAAQABAQEBAwMDAwMDAwMDAwICAgAAAgICAgICAgIDAwIDAwMDAwEDAgICAAAAAAIAAAAAAAAAAAAAAAAAAAAAAAAAAAAAAAIAAAICAgICAwMDAwMDAwMDAwMDAwMDAwMDAAAAAAAAAAAAAAICAgMCAgMDAwMBAQEAAAAAAAAAAAAAAAAAAAICAgICAgIAAAAAAAAAAAAAAAABAQEBAQEBAQEBAgMDAwMDAwMDAwMAAAEBAQEBAQEBAQEBAQEBAgIAAAACAgICAAAAAAAAAAMBAQEBAQEDAwMDAwMDAwMDAgICAgICAgIDAwMCAwMDAwMDAwMDAwEBAwMDAAAAAAAAAAAAAAACAQEBAQEBAQEBAQACAgICAgICAgICAgMDAwEDAwMDAwMDAwMDAQAAAAEBAQEBAgADAwMDAwEBAQEBAQEBAAAAAAAAAAICAgICAgICAAAAAAAAAAACAgIAAAACAQEBAQEBAQEBAQEBAQMDAwMDAwMBAQEAAAAAAAAAAAABAQMDAQMDAwMDAAACAgICAgAAAQEBAAAAAAAAAAAAAAADAwMDAwMDAwIDAgICAgIDAwMDAwMDAwMDAwMDAgIBAQEBAwACAgEBAwEBAQEBAQEBAQEBAQEBAQEBAQEBAQEDAwMDAwMDAwMDAwMDAwMDAwMDAwEBAQEBAQEBAQMDAwMBAQMBAQEBAQEBAQEBAQEBAQEBAQMBAwMDAwMDAwMDAwMDAwEBAQEBAQEBAQEBAQEBAQEBAQEBAQEDAQEBAQEBAQEBAQEBAQEBAQEBAQEBAQMDAwMDAwMDAwMBAQEBAQEBAQMDAwMDAwMDAwMDAwMDAwMDAwMDAwMDAwMDAwMDAwMDAwMDAwMDAQEBAQE=",
           "dtype": "i1"
          },
          "coloraxis": "coloraxis",
          "opacity": 0.8,
          "symbol": "circle"
         },
         "mode": "markers",
         "name": "",
         "showlegend": false,
         "type": "scattergl",
         "x": {
          "bdata": "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",
          "dtype": "f8"
         },
         "xaxis": "x",
         "y": {
          "bdata": "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",
          "dtype": "f8"
         },
         "yaxis": "y"
        }
       ],
       "layout": {
        "coloraxis": {
         "colorbar": {
          "title": {
           "text": "Quadrant Category"
          }
         },
         "colorscale": [
          [
           0,
           "#0d0887"
          ],
          [
           0.1111111111111111,
           "#46039f"
          ],
          [
           0.2222222222222222,
           "#7201a8"
          ],
          [
           0.3333333333333333,
           "#9c179e"
          ],
          [
           0.4444444444444444,
           "#bd3786"
          ],
          [
           0.5555555555555556,
           "#d8576b"
          ],
          [
           0.6666666666666666,
           "#ed7953"
          ],
          [
           0.7777777777777778,
           "#fb9f3a"
          ],
          [
           0.8888888888888888,
           "#fdca26"
          ],
          [
           1,
           "#f0f921"
          ]
         ]
        },
        "legend": {
         "title": {
          "text": "Quadrant"
         },
         "tracegroupgap": 0
        },
        "shapes": [
         {
          "line": {
           "color": "gray",
           "dash": "dash"
          },
          "type": "line",
          "x0": 0.0051627975290038375,
          "x1": 0.0051627975290038375,
          "y0": 0.005491312284685501,
          "y1": 0.08390241006788146
         },
         {
          "line": {
           "color": "gray",
           "dash": "dash"
          },
          "type": "line",
          "x0": -0.32789763495924173,
          "x1": 0.4367947417100224,
          "y0": 0.016700803405526855,
          "y1": 0.016700803405526855
         }
        ],
        "template": {
         "data": {
          "bar": [
           {
            "error_x": {
             "color": "#2a3f5f"
            },
            "error_y": {
             "color": "#2a3f5f"
            },
            "marker": {
             "line": {
              "color": "white",
              "width": 0.5
             },
             "pattern": {
              "fillmode": "overlay",
              "size": 10,
              "solidity": 0.2
             }
            },
            "type": "bar"
           }
          ],
          "barpolar": [
           {
            "marker": {
             "line": {
              "color": "white",
              "width": 0.5
             },
             "pattern": {
              "fillmode": "overlay",
              "size": 10,
              "solidity": 0.2
             }
            },
            "type": "barpolar"
           }
          ],
          "carpet": [
           {
            "aaxis": {
             "endlinecolor": "#2a3f5f",
             "gridcolor": "#C8D4E3",
             "linecolor": "#C8D4E3",
             "minorgridcolor": "#C8D4E3",
             "startlinecolor": "#2a3f5f"
            },
            "baxis": {
             "endlinecolor": "#2a3f5f",
             "gridcolor": "#C8D4E3",
             "linecolor": "#C8D4E3",
             "minorgridcolor": "#C8D4E3",
             "startlinecolor": "#2a3f5f"
            },
            "type": "carpet"
           }
          ],
          "choropleth": [
           {
            "colorbar": {
             "outlinewidth": 0,
             "ticks": ""
            },
            "type": "choropleth"
           }
          ],
          "contour": [
           {
            "colorbar": {
             "outlinewidth": 0,
             "ticks": ""
            },
            "colorscale": [
             [
              0,
              "#0d0887"
             ],
             [
              0.1111111111111111,
              "#46039f"
             ],
             [
              0.2222222222222222,
              "#7201a8"
             ],
             [
              0.3333333333333333,
              "#9c179e"
             ],
             [
              0.4444444444444444,
              "#bd3786"
             ],
             [
              0.5555555555555556,
              "#d8576b"
             ],
             [
              0.6666666666666666,
              "#ed7953"
             ],
             [
              0.7777777777777778,
              "#fb9f3a"
             ],
             [
              0.8888888888888888,
              "#fdca26"
             ],
             [
              1,
              "#f0f921"
             ]
            ],
            "type": "contour"
           }
          ],
          "contourcarpet": [
           {
            "colorbar": {
             "outlinewidth": 0,
             "ticks": ""
            },
            "type": "contourcarpet"
           }
          ],
          "heatmap": [
           {
            "colorbar": {
             "outlinewidth": 0,
             "ticks": ""
            },
            "colorscale": [
             [
              0,
              "#0d0887"
             ],
             [
              0.1111111111111111,
              "#46039f"
             ],
             [
              0.2222222222222222,
              "#7201a8"
             ],
             [
              0.3333333333333333,
              "#9c179e"
             ],
             [
              0.4444444444444444,
              "#bd3786"
             ],
             [
              0.5555555555555556,
              "#d8576b"
             ],
             [
              0.6666666666666666,
              "#ed7953"
             ],
             [
              0.7777777777777778,
              "#fb9f3a"
             ],
             [
              0.8888888888888888,
              "#fdca26"
             ],
             [
              1,
              "#f0f921"
             ]
            ],
            "type": "heatmap"
           }
          ],
          "histogram": [
           {
            "marker": {
             "pattern": {
              "fillmode": "overlay",
              "size": 10,
              "solidity": 0.2
             }
            },
            "type": "histogram"
           }
          ],
          "histogram2d": [
           {
            "colorbar": {
             "outlinewidth": 0,
             "ticks": ""
            },
            "colorscale": [
             [
              0,
              "#0d0887"
             ],
             [
              0.1111111111111111,
              "#46039f"
             ],
             [
              0.2222222222222222,
              "#7201a8"
             ],
             [
              0.3333333333333333,
              "#9c179e"
             ],
             [
              0.4444444444444444,
              "#bd3786"
             ],
             [
              0.5555555555555556,
              "#d8576b"
             ],
             [
              0.6666666666666666,
              "#ed7953"
             ],
             [
              0.7777777777777778,
              "#fb9f3a"
             ],
             [
              0.8888888888888888,
              "#fdca26"
             ],
             [
              1,
              "#f0f921"
             ]
            ],
            "type": "histogram2d"
           }
          ],
          "histogram2dcontour": [
           {
            "colorbar": {
             "outlinewidth": 0,
             "ticks": ""
            },
            "colorscale": [
             [
              0,
              "#0d0887"
             ],
             [
              0.1111111111111111,
              "#46039f"
             ],
             [
              0.2222222222222222,
              "#7201a8"
             ],
             [
              0.3333333333333333,
              "#9c179e"
             ],
             [
              0.4444444444444444,
              "#bd3786"
             ],
             [
              0.5555555555555556,
              "#d8576b"
             ],
             [
              0.6666666666666666,
              "#ed7953"
             ],
             [
              0.7777777777777778,
              "#fb9f3a"
             ],
             [
              0.8888888888888888,
              "#fdca26"
             ],
             [
              1,
              "#f0f921"
             ]
            ],
            "type": "histogram2dcontour"
           }
          ],
          "mesh3d": [
           {
            "colorbar": {
             "outlinewidth": 0,
             "ticks": ""
            },
            "type": "mesh3d"
           }
          ],
          "parcoords": [
           {
            "line": {
             "colorbar": {
              "outlinewidth": 0,
              "ticks": ""
             }
            },
            "type": "parcoords"
           }
          ],
          "pie": [
           {
            "automargin": true,
            "type": "pie"
           }
          ],
          "scatter": [
           {
            "fillpattern": {
             "fillmode": "overlay",
             "size": 10,
             "solidity": 0.2
            },
            "type": "scatter"
           }
          ],
          "scatter3d": [
           {
            "line": {
             "colorbar": {
              "outlinewidth": 0,
              "ticks": ""
             }
            },
            "marker": {
             "colorbar": {
              "outlinewidth": 0,
              "ticks": ""
             }
            },
            "type": "scatter3d"
           }
          ],
          "scattercarpet": [
           {
            "marker": {
             "colorbar": {
              "outlinewidth": 0,
              "ticks": ""
             }
            },
            "type": "scattercarpet"
           }
          ],
          "scattergeo": [
           {
            "marker": {
             "colorbar": {
              "outlinewidth": 0,
              "ticks": ""
             }
            },
            "type": "scattergeo"
           }
          ],
          "scattergl": [
           {
            "marker": {
             "colorbar": {
              "outlinewidth": 0,
              "ticks": ""
             }
            },
            "type": "scattergl"
           }
          ],
          "scattermap": [
           {
            "marker": {
             "colorbar": {
              "outlinewidth": 0,
              "ticks": ""
             }
            },
            "type": "scattermap"
           }
          ],
          "scattermapbox": [
           {
            "marker": {
             "colorbar": {
              "outlinewidth": 0,
              "ticks": ""
             }
            },
            "type": "scattermapbox"
           }
          ],
          "scatterpolar": [
           {
            "marker": {
             "colorbar": {
              "outlinewidth": 0,
              "ticks": ""
             }
            },
            "type": "scatterpolar"
           }
          ],
          "scatterpolargl": [
           {
            "marker": {
             "colorbar": {
              "outlinewidth": 0,
              "ticks": ""
             }
            },
            "type": "scatterpolargl"
           }
          ],
          "scatterternary": [
           {
            "marker": {
             "colorbar": {
              "outlinewidth": 0,
              "ticks": ""
             }
            },
            "type": "scatterternary"
           }
          ],
          "surface": [
           {
            "colorbar": {
             "outlinewidth": 0,
             "ticks": ""
            },
            "colorscale": [
             [
              0,
              "#0d0887"
             ],
             [
              0.1111111111111111,
              "#46039f"
             ],
             [
              0.2222222222222222,
              "#7201a8"
             ],
             [
              0.3333333333333333,
              "#9c179e"
             ],
             [
              0.4444444444444444,
              "#bd3786"
             ],
             [
              0.5555555555555556,
              "#d8576b"
             ],
             [
              0.6666666666666666,
              "#ed7953"
             ],
             [
              0.7777777777777778,
              "#fb9f3a"
             ],
             [
              0.8888888888888888,
              "#fdca26"
             ],
             [
              1,
              "#f0f921"
             ]
            ],
            "type": "surface"
           }
          ],
          "table": [
           {
            "cells": {
             "fill": {
              "color": "#EBF0F8"
             },
             "line": {
              "color": "white"
             }
            },
            "header": {
             "fill": {
              "color": "#C8D4E3"
             },
             "line": {
              "color": "white"
             }
            },
            "type": "table"
           }
          ]
         },
         "layout": {
          "annotationdefaults": {
           "arrowcolor": "#2a3f5f",
           "arrowhead": 0,
           "arrowwidth": 1
          },
          "autotypenumbers": "strict",
          "coloraxis": {
           "colorbar": {
            "outlinewidth": 0,
            "ticks": ""
           }
          },
          "colorscale": {
           "diverging": [
            [
             0,
             "#8e0152"
            ],
            [
             0.1,
             "#c51b7d"
            ],
            [
             0.2,
             "#de77ae"
            ],
            [
             0.3,
             "#f1b6da"
            ],
            [
             0.4,
             "#fde0ef"
            ],
            [
             0.5,
             "#f7f7f7"
            ],
            [
             0.6,
             "#e6f5d0"
            ],
            [
             0.7,
             "#b8e186"
            ],
            [
             0.8,
             "#7fbc41"
            ],
            [
             0.9,
             "#4d9221"
            ],
            [
             1,
             "#276419"
            ]
           ],
           "sequential": [
            [
             0,
             "#0d0887"
            ],
            [
             0.1111111111111111,
             "#46039f"
            ],
            [
             0.2222222222222222,
             "#7201a8"
            ],
            [
             0.3333333333333333,
             "#9c179e"
            ],
            [
             0.4444444444444444,
             "#bd3786"
            ],
            [
             0.5555555555555556,
             "#d8576b"
            ],
            [
             0.6666666666666666,
             "#ed7953"
            ],
            [
             0.7777777777777778,
             "#fb9f3a"
            ],
            [
             0.8888888888888888,
             "#fdca26"
            ],
            [
             1,
             "#f0f921"
            ]
           ],
           "sequentialminus": [
            [
             0,
             "#0d0887"
            ],
            [
             0.1111111111111111,
             "#46039f"
            ],
            [
             0.2222222222222222,
             "#7201a8"
            ],
            [
             0.3333333333333333,
             "#9c179e"
            ],
            [
             0.4444444444444444,
             "#bd3786"
            ],
            [
             0.5555555555555556,
             "#d8576b"
            ],
            [
             0.6666666666666666,
             "#ed7953"
            ],
            [
             0.7777777777777778,
             "#fb9f3a"
            ],
            [
             0.8888888888888888,
             "#fdca26"
            ],
            [
             1,
             "#f0f921"
            ]
           ]
          },
          "colorway": [
           "#636efa",
           "#EF553B",
           "#00cc96",
           "#ab63fa",
           "#FFA15A",
           "#19d3f3",
           "#FF6692",
           "#B6E880",
           "#FF97FF",
           "#FECB52"
          ],
          "font": {
           "color": "#2a3f5f"
          },
          "geo": {
           "bgcolor": "white",
           "lakecolor": "white",
           "landcolor": "white",
           "showlakes": true,
           "showland": true,
           "subunitcolor": "#C8D4E3"
          },
          "hoverlabel": {
           "align": "left"
          },
          "hovermode": "closest",
          "mapbox": {
           "style": "light"
          },
          "paper_bgcolor": "white",
          "plot_bgcolor": "white",
          "polar": {
           "angularaxis": {
            "gridcolor": "#EBF0F8",
            "linecolor": "#EBF0F8",
            "ticks": ""
           },
           "bgcolor": "white",
           "radialaxis": {
            "gridcolor": "#EBF0F8",
            "linecolor": "#EBF0F8",
            "ticks": ""
           }
          },
          "scene": {
           "xaxis": {
            "backgroundcolor": "white",
            "gridcolor": "#DFE8F3",
            "gridwidth": 2,
            "linecolor": "#EBF0F8",
            "showbackground": true,
            "ticks": "",
            "zerolinecolor": "#EBF0F8"
           },
           "yaxis": {
            "backgroundcolor": "white",
            "gridcolor": "#DFE8F3",
            "gridwidth": 2,
            "linecolor": "#EBF0F8",
            "showbackground": true,
            "ticks": "",
            "zerolinecolor": "#EBF0F8"
           },
           "zaxis": {
            "backgroundcolor": "white",
            "gridcolor": "#DFE8F3",
            "gridwidth": 2,
            "linecolor": "#EBF0F8",
            "showbackground": true,
            "ticks": "",
            "zerolinecolor": "#EBF0F8"
           }
          },
          "shapedefaults": {
           "line": {
            "color": "#2a3f5f"
           }
          },
          "ternary": {
           "aaxis": {
            "gridcolor": "#DFE8F3",
            "linecolor": "#A2B1C6",
            "ticks": ""
           },
           "baxis": {
            "gridcolor": "#DFE8F3",
            "linecolor": "#A2B1C6",
            "ticks": ""
           },
           "bgcolor": "white",
           "caxis": {
            "gridcolor": "#DFE8F3",
            "linecolor": "#A2B1C6",
            "ticks": ""
           }
          },
          "title": {
           "x": 0.05
          },
          "xaxis": {
           "automargin": true,
           "gridcolor": "#EBF0F8",
           "linecolor": "#EBF0F8",
           "ticks": "",
           "title": {
            "standoff": 15
           },
           "zerolinecolor": "#EBF0F8",
           "zerolinewidth": 2
          },
          "yaxis": {
           "automargin": true,
           "gridcolor": "#EBF0F8",
           "linecolor": "#EBF0F8",
           "ticks": "",
           "title": {
            "standoff": 15
           },
           "zerolinecolor": "#EBF0F8",
           "zerolinewidth": 2
          }
         }
        },
        "title": {
         "text": "Interactive Stock Quadrant Classification (Momentum vs Volatility)"
        },
        "xaxis": {
         "anchor": "y",
         "domain": [
          0,
          1
         ],
         "title": {
          "text": "Momentum"
         }
        },
        "yaxis": {
         "anchor": "x",
         "domain": [
          0,
          1
         ],
         "title": {
          "text": "Volatility"
         }
        }
       }
      }
     },
     "metadata": {},
     "output_type": "display_data"
    }
   ],
   "source": [
    "import plotly.express as px\n",
    "\n",
    "# Optional: Sample to reduce overcrowding\n",
    "# df_sample = df_features.sample(500)\n",
    "\n",
    "fig = px.scatter(\n",
    "    df_features,\n",
    "    x=\"Momentum\",\n",
    "    y=\"Volatility\",\n",
    "    color=\"Quadrant\",\n",
    "    hover_data=[\"Ticker\", \"Momentum\", \"Volatility\"],\n",
    "    title=\"Interactive Stock Quadrant Classification (Momentum vs Volatility)\",\n",
    "    color_discrete_sequence=px.colors.qualitative.Set2,\n",
    "    labels={\"Quadrant\": \"Quadrant Category\"},\n",
    "    opacity=0.8\n",
    ")\n",
    "\n",
    "# Add median lines\n",
    "momentum_median = df_features[\"Momentum\"].median()\n",
    "volatility_median = df_features[\"Volatility\"].median()\n",
    "\n",
    "fig.add_shape(type=\"line\", x0=momentum_median, x1=momentum_median,\n",
    "              y0=df_features[\"Volatility\"].min(), y1=df_features[\"Volatility\"].max(),\n",
    "              line=dict(color=\"gray\", dash=\"dash\"))\n",
    "fig.add_shape(type=\"line\", x0=df_features[\"Momentum\"].min(), x1=df_features[\"Momentum\"].max(),\n",
    "              y0=volatility_median, y1=volatility_median,\n",
    "              line=dict(color=\"gray\", dash=\"dash\"))\n",
    "\n",
    "fig.update_layout(\n",
    "    xaxis_title=\"Momentum\",\n",
    "    yaxis_title=\"Volatility\",\n",
    "    legend_title=\"Quadrant\",\n",
    "    template=\"plotly_white\"\n",
    ")\n",
    "\n",
    "fig.show()\n"
   ]
  },
  {
   "cell_type": "code",
   "execution_count": 10,
   "metadata": {},
   "outputs": [
    {
     "data": {
      "application/vnd.plotly.v1+json": {
       "config": {
        "plotlyServerURL": "https://plot.ly"
       },
       "data": [
        {
         "cells": {
          "align": "center",
          "fill": {
           "color": [
            [
             "#2ecc71",
             "#2ecc71",
             "#2ecc71",
             "#2ecc71",
             "#2ecc71"
            ],
            [
             "#58d68d",
             "#58d68d",
             "#58d68d",
             "#58d68d",
             "#58d68d"
            ],
            [
             "#f4d03f",
             "#f4d03f",
             "#f4d03f",
             "#f4d03f",
             "#f4d03f"
            ],
            [
             "#f39c12",
             "#f39c12",
             "#f39c12",
             "#f39c12",
             "#f39c12"
            ],
            [
             "#e74c3c",
             "#e74c3c",
             "#e74c3c",
             "#e74c3c",
             "#e74c3c"
            ]
           ]
          },
          "font": {
           "color": "white",
           "size": 12
          },
          "height": 80,
          "values": [
           [
            "<b>Aa</b><br>หุ้นAa-1<br>หุ้นAa-2",
            "<b>Ab</b><br>หุ้นAb-1<br>หุ้นAb-2",
            "<b>Ac</b><br>หุ้นAc-1<br>หุ้นAc-2",
            "<b>Ad</b><br>หุ้นAd-1<br>หุ้นAd-2",
            "<b>Ae</b><br>หุ้นAe-1<br>หุ้นAe-2"
           ],
           [
            "<b>Ba</b><br>หุ้นBa-1<br>หุ้นBa-2",
            "<b>Bb</b><br>หุ้นBb-1<br>หุ้นBb-2",
            "<b>Bc</b><br>หุ้นBc-1<br>หุ้นBc-2",
            "<b>Bd</b><br>หุ้นBd-1<br>หุ้นBd-2",
            "<b>Be</b><br>หุ้นBe-1<br>หุ้นBe-2"
           ],
           [
            "<b>Ca</b><br>หุ้นCa-1<br>หุ้นCa-2",
            "<b>Cb</b><br>หุ้นCb-1<br>หุ้นCb-2",
            "<b>Cc</b><br>หุ้นCc-1<br>หุ้นCc-2",
            "<b>Cd</b><br>หุ้นCd-1<br>หุ้นCd-2",
            "<b>Ce</b><br>หุ้นCe-1<br>หุ้นCe-2"
           ],
           [
            "<b>Da</b><br>หุ้นDa-1<br>หุ้นDa-2",
            "<b>Db</b><br>หุ้นDb-1<br>หุ้นDb-2",
            "<b>Dc</b><br>หุ้นDc-1<br>หุ้นDc-2",
            "<b>Dd</b><br>หุ้นDd-1<br>หุ้นDd-2",
            "<b>De</b><br>หุ้นDe-1<br>หุ้นDe-2"
           ],
           [
            "<b>Ea</b><br>หุ้นEa-1<br>หุ้นEa-2",
            "<b>Eb</b><br>หุ้นEb-1<br>หุ้นEb-2",
            "<b>Ec</b><br>หุ้นEc-1<br>หุ้นEc-2",
            "<b>Ed</b><br>หุ้นEd-1<br>หุ้นEd-2",
            "<b>Ee</b><br>หุ้นEe-1<br>หุ้นEe-2"
           ]
          ]
         },
         "header": {
          "align": "center",
          "fill": {
           "color": "#dcdcdc"
          },
          "font": {
           "color": "black",
           "size": 14
          },
          "values": [
           "<b>Super Bullish</b>",
           "<b>Up Trend</b>",
           "<b>Sideway</b>",
           "<b>Down Trend</b>",
           "<b>Crash</b>"
          ]
         },
         "type": "table"
        }
       ],
       "layout": {
        "template": {
         "data": {
          "bar": [
           {
            "error_x": {
             "color": "#2a3f5f"
            },
            "error_y": {
             "color": "#2a3f5f"
            },
            "marker": {
             "line": {
              "color": "#E5ECF6",
              "width": 0.5
             },
             "pattern": {
              "fillmode": "overlay",
              "size": 10,
              "solidity": 0.2
             }
            },
            "type": "bar"
           }
          ],
          "barpolar": [
           {
            "marker": {
             "line": {
              "color": "#E5ECF6",
              "width": 0.5
             },
             "pattern": {
              "fillmode": "overlay",
              "size": 10,
              "solidity": 0.2
             }
            },
            "type": "barpolar"
           }
          ],
          "carpet": [
           {
            "aaxis": {
             "endlinecolor": "#2a3f5f",
             "gridcolor": "white",
             "linecolor": "white",
             "minorgridcolor": "white",
             "startlinecolor": "#2a3f5f"
            },
            "baxis": {
             "endlinecolor": "#2a3f5f",
             "gridcolor": "white",
             "linecolor": "white",
             "minorgridcolor": "white",
             "startlinecolor": "#2a3f5f"
            },
            "type": "carpet"
           }
          ],
          "choropleth": [
           {
            "colorbar": {
             "outlinewidth": 0,
             "ticks": ""
            },
            "type": "choropleth"
           }
          ],
          "contour": [
           {
            "colorbar": {
             "outlinewidth": 0,
             "ticks": ""
            },
            "colorscale": [
             [
              0,
              "#0d0887"
             ],
             [
              0.1111111111111111,
              "#46039f"
             ],
             [
              0.2222222222222222,
              "#7201a8"
             ],
             [
              0.3333333333333333,
              "#9c179e"
             ],
             [
              0.4444444444444444,
              "#bd3786"
             ],
             [
              0.5555555555555556,
              "#d8576b"
             ],
             [
              0.6666666666666666,
              "#ed7953"
             ],
             [
              0.7777777777777778,
              "#fb9f3a"
             ],
             [
              0.8888888888888888,
              "#fdca26"
             ],
             [
              1,
              "#f0f921"
             ]
            ],
            "type": "contour"
           }
          ],
          "contourcarpet": [
           {
            "colorbar": {
             "outlinewidth": 0,
             "ticks": ""
            },
            "type": "contourcarpet"
           }
          ],
          "heatmap": [
           {
            "colorbar": {
             "outlinewidth": 0,
             "ticks": ""
            },
            "colorscale": [
             [
              0,
              "#0d0887"
             ],
             [
              0.1111111111111111,
              "#46039f"
             ],
             [
              0.2222222222222222,
              "#7201a8"
             ],
             [
              0.3333333333333333,
              "#9c179e"
             ],
             [
              0.4444444444444444,
              "#bd3786"
             ],
             [
              0.5555555555555556,
              "#d8576b"
             ],
             [
              0.6666666666666666,
              "#ed7953"
             ],
             [
              0.7777777777777778,
              "#fb9f3a"
             ],
             [
              0.8888888888888888,
              "#fdca26"
             ],
             [
              1,
              "#f0f921"
             ]
            ],
            "type": "heatmap"
           }
          ],
          "histogram": [
           {
            "marker": {
             "pattern": {
              "fillmode": "overlay",
              "size": 10,
              "solidity": 0.2
             }
            },
            "type": "histogram"
           }
          ],
          "histogram2d": [
           {
            "colorbar": {
             "outlinewidth": 0,
             "ticks": ""
            },
            "colorscale": [
             [
              0,
              "#0d0887"
             ],
             [
              0.1111111111111111,
              "#46039f"
             ],
             [
              0.2222222222222222,
              "#7201a8"
             ],
             [
              0.3333333333333333,
              "#9c179e"
             ],
             [
              0.4444444444444444,
              "#bd3786"
             ],
             [
              0.5555555555555556,
              "#d8576b"
             ],
             [
              0.6666666666666666,
              "#ed7953"
             ],
             [
              0.7777777777777778,
              "#fb9f3a"
             ],
             [
              0.8888888888888888,
              "#fdca26"
             ],
             [
              1,
              "#f0f921"
             ]
            ],
            "type": "histogram2d"
           }
          ],
          "histogram2dcontour": [
           {
            "colorbar": {
             "outlinewidth": 0,
             "ticks": ""
            },
            "colorscale": [
             [
              0,
              "#0d0887"
             ],
             [
              0.1111111111111111,
              "#46039f"
             ],
             [
              0.2222222222222222,
              "#7201a8"
             ],
             [
              0.3333333333333333,
              "#9c179e"
             ],
             [
              0.4444444444444444,
              "#bd3786"
             ],
             [
              0.5555555555555556,
              "#d8576b"
             ],
             [
              0.6666666666666666,
              "#ed7953"
             ],
             [
              0.7777777777777778,
              "#fb9f3a"
             ],
             [
              0.8888888888888888,
              "#fdca26"
             ],
             [
              1,
              "#f0f921"
             ]
            ],
            "type": "histogram2dcontour"
           }
          ],
          "mesh3d": [
           {
            "colorbar": {
             "outlinewidth": 0,
             "ticks": ""
            },
            "type": "mesh3d"
           }
          ],
          "parcoords": [
           {
            "line": {
             "colorbar": {
              "outlinewidth": 0,
              "ticks": ""
             }
            },
            "type": "parcoords"
           }
          ],
          "pie": [
           {
            "automargin": true,
            "type": "pie"
           }
          ],
          "scatter": [
           {
            "fillpattern": {
             "fillmode": "overlay",
             "size": 10,
             "solidity": 0.2
            },
            "type": "scatter"
           }
          ],
          "scatter3d": [
           {
            "line": {
             "colorbar": {
              "outlinewidth": 0,
              "ticks": ""
             }
            },
            "marker": {
             "colorbar": {
              "outlinewidth": 0,
              "ticks": ""
             }
            },
            "type": "scatter3d"
           }
          ],
          "scattercarpet": [
           {
            "marker": {
             "colorbar": {
              "outlinewidth": 0,
              "ticks": ""
             }
            },
            "type": "scattercarpet"
           }
          ],
          "scattergeo": [
           {
            "marker": {
             "colorbar": {
              "outlinewidth": 0,
              "ticks": ""
             }
            },
            "type": "scattergeo"
           }
          ],
          "scattergl": [
           {
            "marker": {
             "colorbar": {
              "outlinewidth": 0,
              "ticks": ""
             }
            },
            "type": "scattergl"
           }
          ],
          "scattermap": [
           {
            "marker": {
             "colorbar": {
              "outlinewidth": 0,
              "ticks": ""
             }
            },
            "type": "scattermap"
           }
          ],
          "scattermapbox": [
           {
            "marker": {
             "colorbar": {
              "outlinewidth": 0,
              "ticks": ""
             }
            },
            "type": "scattermapbox"
           }
          ],
          "scatterpolar": [
           {
            "marker": {
             "colorbar": {
              "outlinewidth": 0,
              "ticks": ""
             }
            },
            "type": "scatterpolar"
           }
          ],
          "scatterpolargl": [
           {
            "marker": {
             "colorbar": {
              "outlinewidth": 0,
              "ticks": ""
             }
            },
            "type": "scatterpolargl"
           }
          ],
          "scatterternary": [
           {
            "marker": {
             "colorbar": {
              "outlinewidth": 0,
              "ticks": ""
             }
            },
            "type": "scatterternary"
           }
          ],
          "surface": [
           {
            "colorbar": {
             "outlinewidth": 0,
             "ticks": ""
            },
            "colorscale": [
             [
              0,
              "#0d0887"
             ],
             [
              0.1111111111111111,
              "#46039f"
             ],
             [
              0.2222222222222222,
              "#7201a8"
             ],
             [
              0.3333333333333333,
              "#9c179e"
             ],
             [
              0.4444444444444444,
              "#bd3786"
             ],
             [
              0.5555555555555556,
              "#d8576b"
             ],
             [
              0.6666666666666666,
              "#ed7953"
             ],
             [
              0.7777777777777778,
              "#fb9f3a"
             ],
             [
              0.8888888888888888,
              "#fdca26"
             ],
             [
              1,
              "#f0f921"
             ]
            ],
            "type": "surface"
           }
          ],
          "table": [
           {
            "cells": {
             "fill": {
              "color": "#EBF0F8"
             },
             "line": {
              "color": "white"
             }
            },
            "header": {
             "fill": {
              "color": "#C8D4E3"
             },
             "line": {
              "color": "white"
             }
            },
            "type": "table"
           }
          ]
         },
         "layout": {
          "annotationdefaults": {
           "arrowcolor": "#2a3f5f",
           "arrowhead": 0,
           "arrowwidth": 1
          },
          "autotypenumbers": "strict",
          "coloraxis": {
           "colorbar": {
            "outlinewidth": 0,
            "ticks": ""
           }
          },
          "colorscale": {
           "diverging": [
            [
             0,
             "#8e0152"
            ],
            [
             0.1,
             "#c51b7d"
            ],
            [
             0.2,
             "#de77ae"
            ],
            [
             0.3,
             "#f1b6da"
            ],
            [
             0.4,
             "#fde0ef"
            ],
            [
             0.5,
             "#f7f7f7"
            ],
            [
             0.6,
             "#e6f5d0"
            ],
            [
             0.7,
             "#b8e186"
            ],
            [
             0.8,
             "#7fbc41"
            ],
            [
             0.9,
             "#4d9221"
            ],
            [
             1,
             "#276419"
            ]
           ],
           "sequential": [
            [
             0,
             "#0d0887"
            ],
            [
             0.1111111111111111,
             "#46039f"
            ],
            [
             0.2222222222222222,
             "#7201a8"
            ],
            [
             0.3333333333333333,
             "#9c179e"
            ],
            [
             0.4444444444444444,
             "#bd3786"
            ],
            [
             0.5555555555555556,
             "#d8576b"
            ],
            [
             0.6666666666666666,
             "#ed7953"
            ],
            [
             0.7777777777777778,
             "#fb9f3a"
            ],
            [
             0.8888888888888888,
             "#fdca26"
            ],
            [
             1,
             "#f0f921"
            ]
           ],
           "sequentialminus": [
            [
             0,
             "#0d0887"
            ],
            [
             0.1111111111111111,
             "#46039f"
            ],
            [
             0.2222222222222222,
             "#7201a8"
            ],
            [
             0.3333333333333333,
             "#9c179e"
            ],
            [
             0.4444444444444444,
             "#bd3786"
            ],
            [
             0.5555555555555556,
             "#d8576b"
            ],
            [
             0.6666666666666666,
             "#ed7953"
            ],
            [
             0.7777777777777778,
             "#fb9f3a"
            ],
            [
             0.8888888888888888,
             "#fdca26"
            ],
            [
             1,
             "#f0f921"
            ]
           ]
          },
          "colorway": [
           "#636efa",
           "#EF553B",
           "#00cc96",
           "#ab63fa",
           "#FFA15A",
           "#19d3f3",
           "#FF6692",
           "#B6E880",
           "#FF97FF",
           "#FECB52"
          ],
          "font": {
           "color": "#2a3f5f"
          },
          "geo": {
           "bgcolor": "white",
           "lakecolor": "white",
           "landcolor": "#E5ECF6",
           "showlakes": true,
           "showland": true,
           "subunitcolor": "white"
          },
          "hoverlabel": {
           "align": "left"
          },
          "hovermode": "closest",
          "mapbox": {
           "style": "light"
          },
          "paper_bgcolor": "white",
          "plot_bgcolor": "#E5ECF6",
          "polar": {
           "angularaxis": {
            "gridcolor": "white",
            "linecolor": "white",
            "ticks": ""
           },
           "bgcolor": "#E5ECF6",
           "radialaxis": {
            "gridcolor": "white",
            "linecolor": "white",
            "ticks": ""
           }
          },
          "scene": {
           "xaxis": {
            "backgroundcolor": "#E5ECF6",
            "gridcolor": "white",
            "gridwidth": 2,
            "linecolor": "white",
            "showbackground": true,
            "ticks": "",
            "zerolinecolor": "white"
           },
           "yaxis": {
            "backgroundcolor": "#E5ECF6",
            "gridcolor": "white",
            "gridwidth": 2,
            "linecolor": "white",
            "showbackground": true,
            "ticks": "",
            "zerolinecolor": "white"
           },
           "zaxis": {
            "backgroundcolor": "#E5ECF6",
            "gridcolor": "white",
            "gridwidth": 2,
            "linecolor": "white",
            "showbackground": true,
            "ticks": "",
            "zerolinecolor": "white"
           }
          },
          "shapedefaults": {
           "line": {
            "color": "#2a3f5f"
           }
          },
          "ternary": {
           "aaxis": {
            "gridcolor": "white",
            "linecolor": "white",
            "ticks": ""
           },
           "baxis": {
            "gridcolor": "white",
            "linecolor": "white",
            "ticks": ""
           },
           "bgcolor": "#E5ECF6",
           "caxis": {
            "gridcolor": "white",
            "linecolor": "white",
            "ticks": ""
           }
          },
          "title": {
           "x": 0.05
          },
          "xaxis": {
           "automargin": true,
           "gridcolor": "white",
           "linecolor": "white",
           "ticks": "",
           "title": {
            "standoff": 15
           },
           "zerolinecolor": "white",
           "zerolinewidth": 2
          },
          "yaxis": {
           "automargin": true,
           "gridcolor": "white",
           "linecolor": "white",
           "ticks": "",
           "title": {
            "standoff": 15
           },
           "zerolinecolor": "white",
           "zerolinewidth": 2
          }
         }
        },
        "title": {
         "text": "Quadrant Stock Level"
        }
       }
      }
     },
     "metadata": {},
     "output_type": "display_data"
    }
   ],
   "source": [
    "import plotly.graph_objects as go\n",
    "\n",
    "# ชื่อกลุ่ม\n",
    "financial_levels = ['A', 'B', 'C', 'D', 'E']\n",
    "trend_levels = ['a', 'b', 'c', 'd', 'e']\n",
    "\n",
    "# สร้าง dictionary จำลองข้อมูลหุ้นในแต่ละ cell เช่น 'Aa': ['หุ้น1', 'หุ้น2']\n",
    "quadrant_data = {\n",
    "    f\"{f}{t}\": [f\"หุ้น{f}{t}-1\", f\"หุ้น{f}{t}-2\"] for f in financial_levels for t in trend_levels\n",
    "}\n",
    "\n",
    "# สร้างตารางข้อความ\n",
    "table_text = []\n",
    "for f in financial_levels:\n",
    "    row = []\n",
    "    for t in trend_levels:\n",
    "        label = f\"{f}{t}\"\n",
    "        stocks = quadrant_data[label]\n",
    "        row.append(f\"<b>{label}</b><br>\" + \"<br>\".join(stocks))\n",
    "    table_text.append(row)\n",
    "\n",
    "# สีพื้นหลังตามระดับ\n",
    "cell_colors = {\n",
    "    'A': '#2ecc71',\n",
    "    'B': '#58d68d',\n",
    "    'C': '#f4d03f',\n",
    "    'D': '#f39c12',\n",
    "    'E': '#e74c3c'\n",
    "}\n",
    "colors = [[cell_colors[f]] * 5 for f in financial_levels]\n",
    "\n",
    "# สร้าง figure\n",
    "fig = go.Figure(data=go.Table(\n",
    "    header=dict(\n",
    "        values=[\"<b>Super Bullish</b>\", \"<b>Up Trend</b>\", \"<b>Sideway</b>\", \"<b>Down Trend</b>\", \"<b>Crash</b>\"],\n",
    "        align=\"center\",\n",
    "        font=dict(color=\"black\", size=14),\n",
    "        fill_color=\"#dcdcdc\"\n",
    "    ),\n",
    "    cells=dict(\n",
    "        values=table_text,\n",
    "        align=\"center\",\n",
    "        font=dict(color=\"white\", size=12),\n",
    "        fill_color=colors,\n",
    "        height=80\n",
    "    )\n",
    "))\n",
    "\n",
    "fig.update_layout(title=\"Quadrant Stock Level\")\n",
    "fig.show()\n"
   ]
  }
 ],
 "metadata": {
  "kernelspec": {
   "display_name": "Python 3",
   "language": "python",
   "name": "python3"
  },
  "language_info": {
   "codemirror_mode": {
    "name": "ipython",
    "version": 3
   },
   "file_extension": ".py",
   "mimetype": "text/x-python",
   "name": "python",
   "nbconvert_exporter": "python",
   "pygments_lexer": "ipython3",
   "version": "3.10.0"
  }
 },
 "nbformat": 4,
 "nbformat_minor": 2
}
