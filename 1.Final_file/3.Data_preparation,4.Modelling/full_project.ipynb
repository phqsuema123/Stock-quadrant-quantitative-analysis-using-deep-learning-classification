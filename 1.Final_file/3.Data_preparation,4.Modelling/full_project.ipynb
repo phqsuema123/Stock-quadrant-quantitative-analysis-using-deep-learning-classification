{
 "cells": [
  {
   "cell_type": "markdown",
   "id": "b0206f15",
   "metadata": {},
   "source": [
    "# CRISP-DM \n",
    "\n",
    "This notebook follows the **CRISP-DM (Cross Industry Standard Process for Data Mining)** methodology:\n",
    "1. Business Understanding\n",
    "2. Data Understanding\n",
    "3. Data Preparation\n",
    "4. Modeling\n",
    "5. Evaluation\n",
    "6. Deployment\n",
    "\n",
    "The project aims to build a Quadrant Stock Classification System using **deep learning models**."
   ]
  },
  {
   "cell_type": "markdown",
   "id": "8fec93f9",
   "metadata": {},
   "source": [
    "## Business Understanding\n",
    "เพื่อหากลุ่มของหุ้นโดยใช้ข้อมูลราคาหุ้นในอดีตเเละปัจจัยพื้นฐานของบริษัท\n",
    "\n",
    "เพื่อช่วยให้นักลงทุนวิเคราะห์หุ้นได้รวดเร็วและแม่นยำยิ่งขึ้น"
   ]
  },
  {
   "cell_type": "markdown",
   "id": "6a931e8d",
   "metadata": {},
   "source": [
    "## Data Understanding\n",
    "ข้อมูลปัจจัยพื้นฐานของหุ้นดึงมาจากAPIของSettrade Open API\n",
    "\n",
    "https://developer.settrade.com/open-api/api-reference/reference/sdkv2/python/market-data/getQuoteSymbol\n",
    "\n",
    "ข้อมูลราคาหุ้นในอดีตของหุ้นดึงมาจากAPIของSettrade Open API\n",
    "\n",
    "https://developer.settrade.com/open-api/api-reference/reference/sdkv2/python/market-historical-data/2_getCandlestick\n",
    "\n",
    "ดึงใส่ในฐานข้อมูลCasaandraโดยข้อมูลกปัจจัยของหุ้นใส่ในตารางfinancal_data_fromsettradeAPIเเละข้อมูลกราคาหุ้นในอดีตของหุ้นใส่ในตารางcandlestick_data\n"
   ]
  },
  {
   "cell_type": "code",
   "execution_count": 1,
   "id": "51cc81f7",
   "metadata": {},
   "outputs": [],
   "source": [
    "from cassandra.cluster import Cluster\n",
    "import pandas as pd\n",
    "import numpy as np\n",
    "from datetime import datetime"
   ]
  },
  {
   "cell_type": "code",
   "execution_count": 2,
   "id": "6a456434",
   "metadata": {},
   "outputs": [],
   "source": [
    "cluster = Cluster(['127.0.0.1'])\n",
    "session = cluster.connect()\n",
    "session.set_keyspace('data_stock')"
   ]
  },
  {
   "cell_type": "code",
   "execution_count": 3,
   "id": "3ed836a6",
   "metadata": {},
   "outputs": [],
   "source": [
    "rows_price = session.execute(\"\"\"\n",
    "    SELECT * FROM candlestick1_1068_data ALLOW FILTERING\n",
    "\"\"\")\n",
    "df_cand = pd.DataFrame(rows_price)\n",
    "df_cand['time'] = pd.to_datetime(df_cand['time'])\n",
    "df_cand = df_cand.sort_values(['symbol', 'time'])"
   ]
  },
  {
   "cell_type": "markdown",
   "id": "cfa1fa77",
   "metadata": {},
   "source": [
    "ตัวอย่างข้อมูลของcandlestick"
   ]
  },
  {
   "cell_type": "code",
   "execution_count": 5,
   "id": "2a45bf6d",
   "metadata": {},
   "outputs": [
    {
     "data": {
      "text/html": [
       "<div>\n",
       "<style scoped>\n",
       "    .dataframe tbody tr th:only-of-type {\n",
       "        vertical-align: middle;\n",
       "    }\n",
       "\n",
       "    .dataframe tbody tr th {\n",
       "        vertical-align: top;\n",
       "    }\n",
       "\n",
       "    .dataframe thead th {\n",
       "        text-align: right;\n",
       "    }\n",
       "</style>\n",
       "<table border=\"1\" class=\"dataframe\">\n",
       "  <thead>\n",
       "    <tr style=\"text-align: right;\">\n",
       "      <th></th>\n",
       "      <th>symbol</th>\n",
       "      <th>time</th>\n",
       "      <th>close_price</th>\n",
       "      <th>high_price</th>\n",
       "      <th>low_price</th>\n",
       "      <th>open_price</th>\n",
       "      <th>value</th>\n",
       "      <th>volume</th>\n",
       "    </tr>\n",
       "  </thead>\n",
       "  <tbody>\n",
       "    <tr>\n",
       "      <th>362761</th>\n",
       "      <td>24CS</td>\n",
       "      <td>2022-10-03</td>\n",
       "      <td>10.20</td>\n",
       "      <td>10.20</td>\n",
       "      <td>7.10</td>\n",
       "      <td>7.10</td>\n",
       "      <td>0.0</td>\n",
       "      <td>559474246</td>\n",
       "    </tr>\n",
       "    <tr>\n",
       "      <th>362762</th>\n",
       "      <td>24CS</td>\n",
       "      <td>2022-10-04</td>\n",
       "      <td>7.15</td>\n",
       "      <td>11.10</td>\n",
       "      <td>7.15</td>\n",
       "      <td>10.70</td>\n",
       "      <td>0.0</td>\n",
       "      <td>330716796</td>\n",
       "    </tr>\n",
       "    <tr>\n",
       "      <th>362763</th>\n",
       "      <td>24CS</td>\n",
       "      <td>2022-10-05</td>\n",
       "      <td>5.15</td>\n",
       "      <td>6.45</td>\n",
       "      <td>5.05</td>\n",
       "      <td>5.85</td>\n",
       "      <td>0.0</td>\n",
       "      <td>361105489</td>\n",
       "    </tr>\n",
       "    <tr>\n",
       "      <th>362764</th>\n",
       "      <td>24CS</td>\n",
       "      <td>2022-10-06</td>\n",
       "      <td>5.20</td>\n",
       "      <td>5.45</td>\n",
       "      <td>4.70</td>\n",
       "      <td>5.40</td>\n",
       "      <td>0.0</td>\n",
       "      <td>232684182</td>\n",
       "    </tr>\n",
       "    <tr>\n",
       "      <th>362765</th>\n",
       "      <td>24CS</td>\n",
       "      <td>2022-10-07</td>\n",
       "      <td>5.00</td>\n",
       "      <td>5.15</td>\n",
       "      <td>4.76</td>\n",
       "      <td>5.10</td>\n",
       "      <td>0.0</td>\n",
       "      <td>131780847</td>\n",
       "    </tr>\n",
       "    <tr>\n",
       "      <th>362766</th>\n",
       "      <td>24CS</td>\n",
       "      <td>2022-10-10</td>\n",
       "      <td>5.00</td>\n",
       "      <td>5.15</td>\n",
       "      <td>4.88</td>\n",
       "      <td>4.98</td>\n",
       "      <td>0.0</td>\n",
       "      <td>51045639</td>\n",
       "    </tr>\n",
       "    <tr>\n",
       "      <th>362767</th>\n",
       "      <td>24CS</td>\n",
       "      <td>2022-10-11</td>\n",
       "      <td>4.48</td>\n",
       "      <td>5.05</td>\n",
       "      <td>4.48</td>\n",
       "      <td>5.00</td>\n",
       "      <td>0.0</td>\n",
       "      <td>43520132</td>\n",
       "    </tr>\n",
       "    <tr>\n",
       "      <th>362768</th>\n",
       "      <td>24CS</td>\n",
       "      <td>2022-10-12</td>\n",
       "      <td>3.88</td>\n",
       "      <td>4.62</td>\n",
       "      <td>3.88</td>\n",
       "      <td>4.50</td>\n",
       "      <td>0.0</td>\n",
       "      <td>85779188</td>\n",
       "    </tr>\n",
       "    <tr>\n",
       "      <th>362769</th>\n",
       "      <td>24CS</td>\n",
       "      <td>2022-10-17</td>\n",
       "      <td>3.68</td>\n",
       "      <td>3.90</td>\n",
       "      <td>3.56</td>\n",
       "      <td>3.88</td>\n",
       "      <td>0.0</td>\n",
       "      <td>9027003</td>\n",
       "    </tr>\n",
       "    <tr>\n",
       "      <th>362770</th>\n",
       "      <td>24CS</td>\n",
       "      <td>2022-10-18</td>\n",
       "      <td>3.88</td>\n",
       "      <td>3.90</td>\n",
       "      <td>3.64</td>\n",
       "      <td>3.72</td>\n",
       "      <td>0.0</td>\n",
       "      <td>11371787</td>\n",
       "    </tr>\n",
       "  </tbody>\n",
       "</table>\n",
       "</div>"
      ],
      "text/plain": [
       "       symbol       time  close_price  high_price  low_price  open_price  \\\n",
       "362761   24CS 2022-10-03        10.20       10.20       7.10        7.10   \n",
       "362762   24CS 2022-10-04         7.15       11.10       7.15       10.70   \n",
       "362763   24CS 2022-10-05         5.15        6.45       5.05        5.85   \n",
       "362764   24CS 2022-10-06         5.20        5.45       4.70        5.40   \n",
       "362765   24CS 2022-10-07         5.00        5.15       4.76        5.10   \n",
       "362766   24CS 2022-10-10         5.00        5.15       4.88        4.98   \n",
       "362767   24CS 2022-10-11         4.48        5.05       4.48        5.00   \n",
       "362768   24CS 2022-10-12         3.88        4.62       3.88        4.50   \n",
       "362769   24CS 2022-10-17         3.68        3.90       3.56        3.88   \n",
       "362770   24CS 2022-10-18         3.88        3.90       3.64        3.72   \n",
       "\n",
       "        value     volume  \n",
       "362761    0.0  559474246  \n",
       "362762    0.0  330716796  \n",
       "362763    0.0  361105489  \n",
       "362764    0.0  232684182  \n",
       "362765    0.0  131780847  \n",
       "362766    0.0   51045639  \n",
       "362767    0.0   43520132  \n",
       "362768    0.0   85779188  \n",
       "362769    0.0    9027003  \n",
       "362770    0.0   11371787  "
      ]
     },
     "execution_count": 5,
     "metadata": {},
     "output_type": "execute_result"
    }
   ],
   "source": [
    "df_cand.head(10)"
   ]
  },
  {
   "cell_type": "code",
   "execution_count": 6,
   "id": "cff4ee6a",
   "metadata": {},
   "outputs": [
    {
     "data": {
      "text/html": [
       "<div>\n",
       "<style scoped>\n",
       "    .dataframe tbody tr th:only-of-type {\n",
       "        vertical-align: middle;\n",
       "    }\n",
       "\n",
       "    .dataframe tbody tr th {\n",
       "        vertical-align: top;\n",
       "    }\n",
       "\n",
       "    .dataframe thead th {\n",
       "        text-align: right;\n",
       "    }\n",
       "</style>\n",
       "<table border=\"1\" class=\"dataframe\">\n",
       "  <thead>\n",
       "    <tr style=\"text-align: right;\">\n",
       "      <th></th>\n",
       "      <th>symbol</th>\n",
       "      <th>time</th>\n",
       "      <th>close_price</th>\n",
       "      <th>high_price</th>\n",
       "      <th>low_price</th>\n",
       "      <th>open_price</th>\n",
       "      <th>value</th>\n",
       "      <th>volume</th>\n",
       "    </tr>\n",
       "  </thead>\n",
       "  <tbody>\n",
       "    <tr>\n",
       "      <th>248783</th>\n",
       "      <td>ZIGA</td>\n",
       "      <td>2025-05-15</td>\n",
       "      <td>1.37</td>\n",
       "      <td>1.42</td>\n",
       "      <td>1.36</td>\n",
       "      <td>1.42</td>\n",
       "      <td>0.0</td>\n",
       "      <td>4553901</td>\n",
       "    </tr>\n",
       "    <tr>\n",
       "      <th>248784</th>\n",
       "      <td>ZIGA</td>\n",
       "      <td>2025-05-16</td>\n",
       "      <td>1.36</td>\n",
       "      <td>1.41</td>\n",
       "      <td>1.35</td>\n",
       "      <td>1.39</td>\n",
       "      <td>0.0</td>\n",
       "      <td>2150573</td>\n",
       "    </tr>\n",
       "    <tr>\n",
       "      <th>248785</th>\n",
       "      <td>ZIGA</td>\n",
       "      <td>2025-05-19</td>\n",
       "      <td>1.26</td>\n",
       "      <td>1.41</td>\n",
       "      <td>1.22</td>\n",
       "      <td>1.41</td>\n",
       "      <td>0.0</td>\n",
       "      <td>8800479</td>\n",
       "    </tr>\n",
       "    <tr>\n",
       "      <th>248786</th>\n",
       "      <td>ZIGA</td>\n",
       "      <td>2025-05-20</td>\n",
       "      <td>1.22</td>\n",
       "      <td>1.29</td>\n",
       "      <td>1.20</td>\n",
       "      <td>1.28</td>\n",
       "      <td>0.0</td>\n",
       "      <td>3544213</td>\n",
       "    </tr>\n",
       "    <tr>\n",
       "      <th>248787</th>\n",
       "      <td>ZIGA</td>\n",
       "      <td>2025-05-21</td>\n",
       "      <td>1.22</td>\n",
       "      <td>1.25</td>\n",
       "      <td>1.20</td>\n",
       "      <td>1.21</td>\n",
       "      <td>0.0</td>\n",
       "      <td>2566287</td>\n",
       "    </tr>\n",
       "    <tr>\n",
       "      <th>248788</th>\n",
       "      <td>ZIGA</td>\n",
       "      <td>2025-05-22</td>\n",
       "      <td>1.35</td>\n",
       "      <td>1.48</td>\n",
       "      <td>1.30</td>\n",
       "      <td>1.33</td>\n",
       "      <td>0.0</td>\n",
       "      <td>33729655</td>\n",
       "    </tr>\n",
       "    <tr>\n",
       "      <th>248789</th>\n",
       "      <td>ZIGA</td>\n",
       "      <td>2025-05-23</td>\n",
       "      <td>1.44</td>\n",
       "      <td>1.52</td>\n",
       "      <td>1.38</td>\n",
       "      <td>1.44</td>\n",
       "      <td>0.0</td>\n",
       "      <td>50519370</td>\n",
       "    </tr>\n",
       "    <tr>\n",
       "      <th>248790</th>\n",
       "      <td>ZIGA</td>\n",
       "      <td>2025-05-26</td>\n",
       "      <td>1.41</td>\n",
       "      <td>1.44</td>\n",
       "      <td>1.37</td>\n",
       "      <td>1.41</td>\n",
       "      <td>0.0</td>\n",
       "      <td>15405681</td>\n",
       "    </tr>\n",
       "    <tr>\n",
       "      <th>248791</th>\n",
       "      <td>ZIGA</td>\n",
       "      <td>2025-05-27</td>\n",
       "      <td>1.36</td>\n",
       "      <td>1.40</td>\n",
       "      <td>1.35</td>\n",
       "      <td>1.39</td>\n",
       "      <td>0.0</td>\n",
       "      <td>9039020</td>\n",
       "    </tr>\n",
       "    <tr>\n",
       "      <th>248792</th>\n",
       "      <td>ZIGA</td>\n",
       "      <td>2025-05-28</td>\n",
       "      <td>1.34</td>\n",
       "      <td>1.40</td>\n",
       "      <td>1.34</td>\n",
       "      <td>1.38</td>\n",
       "      <td>0.0</td>\n",
       "      <td>7280903</td>\n",
       "    </tr>\n",
       "  </tbody>\n",
       "</table>\n",
       "</div>"
      ],
      "text/plain": [
       "       symbol       time  close_price  high_price  low_price  open_price  \\\n",
       "248783   ZIGA 2025-05-15         1.37        1.42       1.36        1.42   \n",
       "248784   ZIGA 2025-05-16         1.36        1.41       1.35        1.39   \n",
       "248785   ZIGA 2025-05-19         1.26        1.41       1.22        1.41   \n",
       "248786   ZIGA 2025-05-20         1.22        1.29       1.20        1.28   \n",
       "248787   ZIGA 2025-05-21         1.22        1.25       1.20        1.21   \n",
       "248788   ZIGA 2025-05-22         1.35        1.48       1.30        1.33   \n",
       "248789   ZIGA 2025-05-23         1.44        1.52       1.38        1.44   \n",
       "248790   ZIGA 2025-05-26         1.41        1.44       1.37        1.41   \n",
       "248791   ZIGA 2025-05-27         1.36        1.40       1.35        1.39   \n",
       "248792   ZIGA 2025-05-28         1.34        1.40       1.34        1.38   \n",
       "\n",
       "        value    volume  \n",
       "248783    0.0   4553901  \n",
       "248784    0.0   2150573  \n",
       "248785    0.0   8800479  \n",
       "248786    0.0   3544213  \n",
       "248787    0.0   2566287  \n",
       "248788    0.0  33729655  \n",
       "248789    0.0  50519370  \n",
       "248790    0.0  15405681  \n",
       "248791    0.0   9039020  \n",
       "248792    0.0   7280903  "
      ]
     },
     "execution_count": 6,
     "metadata": {},
     "output_type": "execute_result"
    }
   ],
   "source": [
    "df_cand.tail(10)"
   ]
  },
  {
   "cell_type": "markdown",
   "id": "f0118c43",
   "metadata": {},
   "source": [
    "ตารางกราฟแท่งของหุ้น 24CSเเละปริมาณการซื้อขายของหุ้น"
   ]
  },
  {
   "cell_type": "code",
   "execution_count": 7,
   "id": "45b48071",
   "metadata": {},
   "outputs": [
    {
     "data": {
      "application/vnd.plotly.v1+json": {
       "config": {
        "plotlyServerURL": "https://plot.ly"
       },
       "data": [
        {
         "close": {
          "bdata": "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",
          "dtype": "f8"
         },
         "high": {
          "bdata": "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",
          "dtype": "f8"
         },
         "low": {
          "bdata": "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",
          "dtype": "f8"
         },
         "name": "Candlestick",
         "open": {
          "bdata": "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",
          "dtype": "f8"
         },
         "type": "candlestick",
         "x": [
          "2024-08-02T00:00:00.000000000",
          "2024-08-05T00:00:00.000000000",
          "2024-08-06T00:00:00.000000000",
          "2024-08-07T00:00:00.000000000",
          "2024-08-08T00:00:00.000000000",
          "2024-08-09T00:00:00.000000000",
          "2024-08-13T00:00:00.000000000",
          "2024-08-14T00:00:00.000000000",
          "2024-08-15T00:00:00.000000000",
          "2024-08-16T00:00:00.000000000",
          "2024-08-19T00:00:00.000000000",
          "2024-08-20T00:00:00.000000000",
          "2024-08-21T00:00:00.000000000",
          "2024-08-22T00:00:00.000000000",
          "2024-08-23T00:00:00.000000000",
          "2024-08-26T00:00:00.000000000",
          "2024-08-27T00:00:00.000000000",
          "2024-08-28T00:00:00.000000000",
          "2024-08-29T00:00:00.000000000",
          "2024-08-30T00:00:00.000000000",
          "2024-09-02T00:00:00.000000000",
          "2024-09-03T00:00:00.000000000",
          "2024-09-04T00:00:00.000000000",
          "2024-09-05T00:00:00.000000000",
          "2024-09-06T00:00:00.000000000",
          "2024-09-09T00:00:00.000000000",
          "2024-09-10T00:00:00.000000000",
          "2024-09-11T00:00:00.000000000",
          "2024-09-12T00:00:00.000000000",
          "2024-09-13T00:00:00.000000000",
          "2024-09-16T00:00:00.000000000",
          "2024-09-17T00:00:00.000000000",
          "2024-09-18T00:00:00.000000000",
          "2024-09-19T00:00:00.000000000",
          "2024-09-20T00:00:00.000000000",
          "2024-09-23T00:00:00.000000000",
          "2024-09-24T00:00:00.000000000",
          "2024-09-25T00:00:00.000000000",
          "2024-09-26T00:00:00.000000000",
          "2024-09-27T00:00:00.000000000",
          "2024-09-30T00:00:00.000000000",
          "2024-10-01T00:00:00.000000000",
          "2024-10-02T00:00:00.000000000",
          "2024-10-03T00:00:00.000000000",
          "2024-10-04T00:00:00.000000000",
          "2024-10-07T00:00:00.000000000",
          "2024-10-08T00:00:00.000000000",
          "2024-10-09T00:00:00.000000000",
          "2024-10-10T00:00:00.000000000",
          "2024-10-11T00:00:00.000000000",
          "2024-10-15T00:00:00.000000000",
          "2024-10-16T00:00:00.000000000",
          "2024-10-17T00:00:00.000000000",
          "2024-10-18T00:00:00.000000000",
          "2024-10-21T00:00:00.000000000",
          "2024-10-22T00:00:00.000000000",
          "2024-10-24T00:00:00.000000000",
          "2024-10-25T00:00:00.000000000",
          "2024-10-28T00:00:00.000000000",
          "2024-10-29T00:00:00.000000000",
          "2024-10-30T00:00:00.000000000",
          "2024-10-31T00:00:00.000000000",
          "2024-11-01T00:00:00.000000000",
          "2024-11-04T00:00:00.000000000",
          "2024-11-05T00:00:00.000000000",
          "2024-11-06T00:00:00.000000000",
          "2024-11-07T00:00:00.000000000",
          "2024-11-08T00:00:00.000000000",
          "2024-11-11T00:00:00.000000000",
          "2024-11-12T00:00:00.000000000",
          "2024-11-13T00:00:00.000000000",
          "2024-11-14T00:00:00.000000000",
          "2024-11-15T00:00:00.000000000",
          "2024-11-18T00:00:00.000000000",
          "2024-11-19T00:00:00.000000000",
          "2024-11-20T00:00:00.000000000",
          "2024-11-21T00:00:00.000000000",
          "2024-11-22T00:00:00.000000000",
          "2024-11-25T00:00:00.000000000",
          "2024-11-26T00:00:00.000000000",
          "2024-11-27T00:00:00.000000000",
          "2024-11-28T00:00:00.000000000",
          "2024-11-29T00:00:00.000000000",
          "2024-12-02T00:00:00.000000000",
          "2024-12-03T00:00:00.000000000",
          "2024-12-04T00:00:00.000000000",
          "2024-12-06T00:00:00.000000000",
          "2024-12-09T00:00:00.000000000",
          "2024-12-11T00:00:00.000000000",
          "2024-12-12T00:00:00.000000000",
          "2024-12-13T00:00:00.000000000",
          "2024-12-16T00:00:00.000000000",
          "2024-12-17T00:00:00.000000000",
          "2024-12-18T00:00:00.000000000",
          "2024-12-19T00:00:00.000000000",
          "2024-12-20T00:00:00.000000000",
          "2024-12-23T00:00:00.000000000",
          "2024-12-24T00:00:00.000000000",
          "2024-12-25T00:00:00.000000000",
          "2024-12-26T00:00:00.000000000",
          "2024-12-27T00:00:00.000000000",
          "2024-12-30T00:00:00.000000000",
          "2025-01-02T00:00:00.000000000",
          "2025-01-03T00:00:00.000000000",
          "2025-01-06T00:00:00.000000000",
          "2025-01-07T00:00:00.000000000",
          "2025-01-08T00:00:00.000000000",
          "2025-01-09T00:00:00.000000000",
          "2025-01-10T00:00:00.000000000",
          "2025-01-13T00:00:00.000000000",
          "2025-01-14T00:00:00.000000000",
          "2025-01-15T00:00:00.000000000",
          "2025-01-16T00:00:00.000000000",
          "2025-01-17T00:00:00.000000000",
          "2025-01-20T00:00:00.000000000",
          "2025-01-21T00:00:00.000000000",
          "2025-01-22T00:00:00.000000000",
          "2025-01-23T00:00:00.000000000",
          "2025-01-24T00:00:00.000000000",
          "2025-01-27T00:00:00.000000000",
          "2025-01-28T00:00:00.000000000",
          "2025-01-29T00:00:00.000000000",
          "2025-01-30T00:00:00.000000000",
          "2025-01-31T00:00:00.000000000",
          "2025-02-03T00:00:00.000000000",
          "2025-02-04T00:00:00.000000000",
          "2025-02-05T00:00:00.000000000",
          "2025-02-06T00:00:00.000000000",
          "2025-02-07T00:00:00.000000000",
          "2025-02-10T00:00:00.000000000",
          "2025-02-11T00:00:00.000000000",
          "2025-02-13T00:00:00.000000000",
          "2025-02-14T00:00:00.000000000",
          "2025-02-17T00:00:00.000000000",
          "2025-02-18T00:00:00.000000000",
          "2025-02-19T00:00:00.000000000",
          "2025-02-20T00:00:00.000000000",
          "2025-02-21T00:00:00.000000000",
          "2025-02-24T00:00:00.000000000",
          "2025-02-25T00:00:00.000000000",
          "2025-02-26T00:00:00.000000000",
          "2025-02-27T00:00:00.000000000",
          "2025-02-28T00:00:00.000000000",
          "2025-03-03T00:00:00.000000000",
          "2025-03-04T00:00:00.000000000",
          "2025-03-05T00:00:00.000000000",
          "2025-03-06T00:00:00.000000000",
          "2025-03-07T00:00:00.000000000",
          "2025-03-10T00:00:00.000000000",
          "2025-03-11T00:00:00.000000000",
          "2025-03-12T00:00:00.000000000",
          "2025-03-13T00:00:00.000000000",
          "2025-03-14T00:00:00.000000000",
          "2025-03-17T00:00:00.000000000",
          "2025-03-18T00:00:00.000000000",
          "2025-03-19T00:00:00.000000000",
          "2025-03-20T00:00:00.000000000",
          "2025-03-21T00:00:00.000000000",
          "2025-03-24T00:00:00.000000000",
          "2025-03-25T00:00:00.000000000",
          "2025-03-26T00:00:00.000000000",
          "2025-03-27T00:00:00.000000000",
          "2025-03-28T00:00:00.000000000",
          "2025-03-31T00:00:00.000000000",
          "2025-04-01T00:00:00.000000000",
          "2025-04-02T00:00:00.000000000",
          "2025-04-03T00:00:00.000000000",
          "2025-04-04T00:00:00.000000000",
          "2025-04-08T00:00:00.000000000",
          "2025-04-09T00:00:00.000000000",
          "2025-04-10T00:00:00.000000000",
          "2025-04-11T00:00:00.000000000",
          "2025-04-16T00:00:00.000000000",
          "2025-04-17T00:00:00.000000000",
          "2025-04-18T00:00:00.000000000",
          "2025-04-21T00:00:00.000000000",
          "2025-04-22T00:00:00.000000000",
          "2025-04-23T00:00:00.000000000",
          "2025-04-24T00:00:00.000000000",
          "2025-04-25T00:00:00.000000000",
          "2025-04-28T00:00:00.000000000",
          "2025-04-29T00:00:00.000000000",
          "2025-04-30T00:00:00.000000000",
          "2025-05-02T00:00:00.000000000",
          "2025-05-06T00:00:00.000000000",
          "2025-05-07T00:00:00.000000000",
          "2025-05-08T00:00:00.000000000",
          "2025-05-09T00:00:00.000000000",
          "2025-05-13T00:00:00.000000000",
          "2025-05-14T00:00:00.000000000",
          "2025-05-15T00:00:00.000000000",
          "2025-05-16T00:00:00.000000000",
          "2025-05-19T00:00:00.000000000",
          "2025-05-20T00:00:00.000000000",
          "2025-05-21T00:00:00.000000000",
          "2025-05-22T00:00:00.000000000",
          "2025-05-23T00:00:00.000000000",
          "2025-05-26T00:00:00.000000000",
          "2025-05-27T00:00:00.000000000",
          "2025-05-28T00:00:00.000000000"
         ]
        },
        {
         "marker": {
          "color": "lightblue"
         },
         "name": "Volume",
         "opacity": 0.5,
         "type": "bar",
         "x": [
          "2024-08-02T00:00:00.000000000",
          "2024-08-05T00:00:00.000000000",
          "2024-08-06T00:00:00.000000000",
          "2024-08-07T00:00:00.000000000",
          "2024-08-08T00:00:00.000000000",
          "2024-08-09T00:00:00.000000000",
          "2024-08-13T00:00:00.000000000",
          "2024-08-14T00:00:00.000000000",
          "2024-08-15T00:00:00.000000000",
          "2024-08-16T00:00:00.000000000",
          "2024-08-19T00:00:00.000000000",
          "2024-08-20T00:00:00.000000000",
          "2024-08-21T00:00:00.000000000",
          "2024-08-22T00:00:00.000000000",
          "2024-08-23T00:00:00.000000000",
          "2024-08-26T00:00:00.000000000",
          "2024-08-27T00:00:00.000000000",
          "2024-08-28T00:00:00.000000000",
          "2024-08-29T00:00:00.000000000",
          "2024-08-30T00:00:00.000000000",
          "2024-09-02T00:00:00.000000000",
          "2024-09-03T00:00:00.000000000",
          "2024-09-04T00:00:00.000000000",
          "2024-09-05T00:00:00.000000000",
          "2024-09-06T00:00:00.000000000",
          "2024-09-09T00:00:00.000000000",
          "2024-09-10T00:00:00.000000000",
          "2024-09-11T00:00:00.000000000",
          "2024-09-12T00:00:00.000000000",
          "2024-09-13T00:00:00.000000000",
          "2024-09-16T00:00:00.000000000",
          "2024-09-17T00:00:00.000000000",
          "2024-09-18T00:00:00.000000000",
          "2024-09-19T00:00:00.000000000",
          "2024-09-20T00:00:00.000000000",
          "2024-09-23T00:00:00.000000000",
          "2024-09-24T00:00:00.000000000",
          "2024-09-25T00:00:00.000000000",
          "2024-09-26T00:00:00.000000000",
          "2024-09-27T00:00:00.000000000",
          "2024-09-30T00:00:00.000000000",
          "2024-10-01T00:00:00.000000000",
          "2024-10-02T00:00:00.000000000",
          "2024-10-03T00:00:00.000000000",
          "2024-10-04T00:00:00.000000000",
          "2024-10-07T00:00:00.000000000",
          "2024-10-08T00:00:00.000000000",
          "2024-10-09T00:00:00.000000000",
          "2024-10-10T00:00:00.000000000",
          "2024-10-11T00:00:00.000000000",
          "2024-10-15T00:00:00.000000000",
          "2024-10-16T00:00:00.000000000",
          "2024-10-17T00:00:00.000000000",
          "2024-10-18T00:00:00.000000000",
          "2024-10-21T00:00:00.000000000",
          "2024-10-22T00:00:00.000000000",
          "2024-10-24T00:00:00.000000000",
          "2024-10-25T00:00:00.000000000",
          "2024-10-28T00:00:00.000000000",
          "2024-10-29T00:00:00.000000000",
          "2024-10-30T00:00:00.000000000",
          "2024-10-31T00:00:00.000000000",
          "2024-11-01T00:00:00.000000000",
          "2024-11-04T00:00:00.000000000",
          "2024-11-05T00:00:00.000000000",
          "2024-11-06T00:00:00.000000000",
          "2024-11-07T00:00:00.000000000",
          "2024-11-08T00:00:00.000000000",
          "2024-11-11T00:00:00.000000000",
          "2024-11-12T00:00:00.000000000",
          "2024-11-13T00:00:00.000000000",
          "2024-11-14T00:00:00.000000000",
          "2024-11-15T00:00:00.000000000",
          "2024-11-18T00:00:00.000000000",
          "2024-11-19T00:00:00.000000000",
          "2024-11-20T00:00:00.000000000",
          "2024-11-21T00:00:00.000000000",
          "2024-11-22T00:00:00.000000000",
          "2024-11-25T00:00:00.000000000",
          "2024-11-26T00:00:00.000000000",
          "2024-11-27T00:00:00.000000000",
          "2024-11-28T00:00:00.000000000",
          "2024-11-29T00:00:00.000000000",
          "2024-12-02T00:00:00.000000000",
          "2024-12-03T00:00:00.000000000",
          "2024-12-04T00:00:00.000000000",
          "2024-12-06T00:00:00.000000000",
          "2024-12-09T00:00:00.000000000",
          "2024-12-11T00:00:00.000000000",
          "2024-12-12T00:00:00.000000000",
          "2024-12-13T00:00:00.000000000",
          "2024-12-16T00:00:00.000000000",
          "2024-12-17T00:00:00.000000000",
          "2024-12-18T00:00:00.000000000",
          "2024-12-19T00:00:00.000000000",
          "2024-12-20T00:00:00.000000000",
          "2024-12-23T00:00:00.000000000",
          "2024-12-24T00:00:00.000000000",
          "2024-12-25T00:00:00.000000000",
          "2024-12-26T00:00:00.000000000",
          "2024-12-27T00:00:00.000000000",
          "2024-12-30T00:00:00.000000000",
          "2025-01-02T00:00:00.000000000",
          "2025-01-03T00:00:00.000000000",
          "2025-01-06T00:00:00.000000000",
          "2025-01-07T00:00:00.000000000",
          "2025-01-08T00:00:00.000000000",
          "2025-01-09T00:00:00.000000000",
          "2025-01-10T00:00:00.000000000",
          "2025-01-13T00:00:00.000000000",
          "2025-01-14T00:00:00.000000000",
          "2025-01-15T00:00:00.000000000",
          "2025-01-16T00:00:00.000000000",
          "2025-01-17T00:00:00.000000000",
          "2025-01-20T00:00:00.000000000",
          "2025-01-21T00:00:00.000000000",
          "2025-01-22T00:00:00.000000000",
          "2025-01-23T00:00:00.000000000",
          "2025-01-24T00:00:00.000000000",
          "2025-01-27T00:00:00.000000000",
          "2025-01-28T00:00:00.000000000",
          "2025-01-29T00:00:00.000000000",
          "2025-01-30T00:00:00.000000000",
          "2025-01-31T00:00:00.000000000",
          "2025-02-03T00:00:00.000000000",
          "2025-02-04T00:00:00.000000000",
          "2025-02-05T00:00:00.000000000",
          "2025-02-06T00:00:00.000000000",
          "2025-02-07T00:00:00.000000000",
          "2025-02-10T00:00:00.000000000",
          "2025-02-11T00:00:00.000000000",
          "2025-02-13T00:00:00.000000000",
          "2025-02-14T00:00:00.000000000",
          "2025-02-17T00:00:00.000000000",
          "2025-02-18T00:00:00.000000000",
          "2025-02-19T00:00:00.000000000",
          "2025-02-20T00:00:00.000000000",
          "2025-02-21T00:00:00.000000000",
          "2025-02-24T00:00:00.000000000",
          "2025-02-25T00:00:00.000000000",
          "2025-02-26T00:00:00.000000000",
          "2025-02-27T00:00:00.000000000",
          "2025-02-28T00:00:00.000000000",
          "2025-03-03T00:00:00.000000000",
          "2025-03-04T00:00:00.000000000",
          "2025-03-05T00:00:00.000000000",
          "2025-03-06T00:00:00.000000000",
          "2025-03-07T00:00:00.000000000",
          "2025-03-10T00:00:00.000000000",
          "2025-03-11T00:00:00.000000000",
          "2025-03-12T00:00:00.000000000",
          "2025-03-13T00:00:00.000000000",
          "2025-03-14T00:00:00.000000000",
          "2025-03-17T00:00:00.000000000",
          "2025-03-18T00:00:00.000000000",
          "2025-03-19T00:00:00.000000000",
          "2025-03-20T00:00:00.000000000",
          "2025-03-21T00:00:00.000000000",
          "2025-03-24T00:00:00.000000000",
          "2025-03-25T00:00:00.000000000",
          "2025-03-26T00:00:00.000000000",
          "2025-03-27T00:00:00.000000000",
          "2025-03-28T00:00:00.000000000",
          "2025-03-31T00:00:00.000000000",
          "2025-04-01T00:00:00.000000000",
          "2025-04-02T00:00:00.000000000",
          "2025-04-03T00:00:00.000000000",
          "2025-04-04T00:00:00.000000000",
          "2025-04-08T00:00:00.000000000",
          "2025-04-09T00:00:00.000000000",
          "2025-04-10T00:00:00.000000000",
          "2025-04-11T00:00:00.000000000",
          "2025-04-16T00:00:00.000000000",
          "2025-04-17T00:00:00.000000000",
          "2025-04-18T00:00:00.000000000",
          "2025-04-21T00:00:00.000000000",
          "2025-04-22T00:00:00.000000000",
          "2025-04-23T00:00:00.000000000",
          "2025-04-24T00:00:00.000000000",
          "2025-04-25T00:00:00.000000000",
          "2025-04-28T00:00:00.000000000",
          "2025-04-29T00:00:00.000000000",
          "2025-04-30T00:00:00.000000000",
          "2025-05-02T00:00:00.000000000",
          "2025-05-06T00:00:00.000000000",
          "2025-05-07T00:00:00.000000000",
          "2025-05-08T00:00:00.000000000",
          "2025-05-09T00:00:00.000000000",
          "2025-05-13T00:00:00.000000000",
          "2025-05-14T00:00:00.000000000",
          "2025-05-15T00:00:00.000000000",
          "2025-05-16T00:00:00.000000000",
          "2025-05-19T00:00:00.000000000",
          "2025-05-20T00:00:00.000000000",
          "2025-05-21T00:00:00.000000000",
          "2025-05-22T00:00:00.000000000",
          "2025-05-23T00:00:00.000000000",
          "2025-05-26T00:00:00.000000000",
          "2025-05-27T00:00:00.000000000",
          "2025-05-28T00:00:00.000000000"
         ],
         "y": {
          "bdata": "Y5cqAECIcQCdbRUASFAmADOrLABUXBMABjY7AZFRKQD0RR8AXXYYANsaEgAB/30AcwA9AWxeLwDCVSMA7pQiAI0bKwCvCzsA+K4cAKKzcwBLIz8A6ANNALlOGwCAvy4ALAwTALQECwCCFUIARf4RADveHwAMcg4A3ZgTAOZGFQBPVhQAUAsOABr+BwAsCj8AWbJYAN5LwQAkNDEAvKQXAD08EwAb/w0ArrIYAEhSFQDJwCkAky1NAHRKCwDWzSkAGgmWAH8aAQEd1SkAHpOZACSzQQD9Sh8ALPgZACAZLQCTUDcARUhOACiSEwCCeQsAqncXABfDCABGeRYAvmsJAEM2BwCLVREAT3EkAM/9HwG+NwkBEiYvABK+BQAs0QcADeIFADUhBwCoRgkAWZASAMqUEQBQ6xEAdk03AA3dEgBBwAgAjGUOAGOpBABIbAUAoI0EAPj3CQAwugEA3A8EAIYhAQAcmAoAtLIHABNtBQCc1w4AraACADIFAgCCqwAAKnkIAFpJAQCIkAAA0QEBAHXsAgD0fgAA2B0DAF1rHwCH8x4Ak+UPAHzJIAA7rwoAfIEHADNKAwAnSQUAFaEGALouKQDfvQQAPBAEAO4YBgDEdAMARVcYAKhuAgDetgEAIzIRACS8AQD4EgQA3NUHANyPAgDSOQAAhFsCAFKhDgBeOAUAz6sZAIe2QAA2sAsAyvcCAFV5DwBIKwUAc9EIAHQoBABo+AMAJQ0BAAopBABBZAEAafMIAK0BDQAUZAUAlvsHAMMuAQCiywUAG+sBAGToBgC1ygMAqP8HAJUMBQCamgAA1sIAAJoNCQAbjAcApJ8BAB7LBABQ/AMAZxIUAK+rCgA9ISIBr3NVAIylHQAhVhsAWDcMAOCvCQD0ywgAzMQUAAhQEQDwkAsAGLoKAHXfCwBnoRcALWp4AE9tLgDsoxoAYK4jAIYCYABwiZgABIqjALTIKwBwWhIAAZgRANhuCQA4yQgAfIcfADajGgDXYZ4Bvi5LATAVmQCNIhMBgQghAlGqpwKWA2gBaS1ZAKYrVAKSV9UCZicwAwZ7mwI=",
          "dtype": "i4"
         },
         "yaxis": "y2"
        }
       ],
       "layout": {
        "height": 600,
        "template": {
         "data": {
          "bar": [
           {
            "error_x": {
             "color": "#2a3f5f"
            },
            "error_y": {
             "color": "#2a3f5f"
            },
            "marker": {
             "line": {
              "color": "white",
              "width": 0.5
             },
             "pattern": {
              "fillmode": "overlay",
              "size": 10,
              "solidity": 0.2
             }
            },
            "type": "bar"
           }
          ],
          "barpolar": [
           {
            "marker": {
             "line": {
              "color": "white",
              "width": 0.5
             },
             "pattern": {
              "fillmode": "overlay",
              "size": 10,
              "solidity": 0.2
             }
            },
            "type": "barpolar"
           }
          ],
          "carpet": [
           {
            "aaxis": {
             "endlinecolor": "#2a3f5f",
             "gridcolor": "#C8D4E3",
             "linecolor": "#C8D4E3",
             "minorgridcolor": "#C8D4E3",
             "startlinecolor": "#2a3f5f"
            },
            "baxis": {
             "endlinecolor": "#2a3f5f",
             "gridcolor": "#C8D4E3",
             "linecolor": "#C8D4E3",
             "minorgridcolor": "#C8D4E3",
             "startlinecolor": "#2a3f5f"
            },
            "type": "carpet"
           }
          ],
          "choropleth": [
           {
            "colorbar": {
             "outlinewidth": 0,
             "ticks": ""
            },
            "type": "choropleth"
           }
          ],
          "contour": [
           {
            "colorbar": {
             "outlinewidth": 0,
             "ticks": ""
            },
            "colorscale": [
             [
              0,
              "#0d0887"
             ],
             [
              0.1111111111111111,
              "#46039f"
             ],
             [
              0.2222222222222222,
              "#7201a8"
             ],
             [
              0.3333333333333333,
              "#9c179e"
             ],
             [
              0.4444444444444444,
              "#bd3786"
             ],
             [
              0.5555555555555556,
              "#d8576b"
             ],
             [
              0.6666666666666666,
              "#ed7953"
             ],
             [
              0.7777777777777778,
              "#fb9f3a"
             ],
             [
              0.8888888888888888,
              "#fdca26"
             ],
             [
              1,
              "#f0f921"
             ]
            ],
            "type": "contour"
           }
          ],
          "contourcarpet": [
           {
            "colorbar": {
             "outlinewidth": 0,
             "ticks": ""
            },
            "type": "contourcarpet"
           }
          ],
          "heatmap": [
           {
            "colorbar": {
             "outlinewidth": 0,
             "ticks": ""
            },
            "colorscale": [
             [
              0,
              "#0d0887"
             ],
             [
              0.1111111111111111,
              "#46039f"
             ],
             [
              0.2222222222222222,
              "#7201a8"
             ],
             [
              0.3333333333333333,
              "#9c179e"
             ],
             [
              0.4444444444444444,
              "#bd3786"
             ],
             [
              0.5555555555555556,
              "#d8576b"
             ],
             [
              0.6666666666666666,
              "#ed7953"
             ],
             [
              0.7777777777777778,
              "#fb9f3a"
             ],
             [
              0.8888888888888888,
              "#fdca26"
             ],
             [
              1,
              "#f0f921"
             ]
            ],
            "type": "heatmap"
           }
          ],
          "histogram": [
           {
            "marker": {
             "pattern": {
              "fillmode": "overlay",
              "size": 10,
              "solidity": 0.2
             }
            },
            "type": "histogram"
           }
          ],
          "histogram2d": [
           {
            "colorbar": {
             "outlinewidth": 0,
             "ticks": ""
            },
            "colorscale": [
             [
              0,
              "#0d0887"
             ],
             [
              0.1111111111111111,
              "#46039f"
             ],
             [
              0.2222222222222222,
              "#7201a8"
             ],
             [
              0.3333333333333333,
              "#9c179e"
             ],
             [
              0.4444444444444444,
              "#bd3786"
             ],
             [
              0.5555555555555556,
              "#d8576b"
             ],
             [
              0.6666666666666666,
              "#ed7953"
             ],
             [
              0.7777777777777778,
              "#fb9f3a"
             ],
             [
              0.8888888888888888,
              "#fdca26"
             ],
             [
              1,
              "#f0f921"
             ]
            ],
            "type": "histogram2d"
           }
          ],
          "histogram2dcontour": [
           {
            "colorbar": {
             "outlinewidth": 0,
             "ticks": ""
            },
            "colorscale": [
             [
              0,
              "#0d0887"
             ],
             [
              0.1111111111111111,
              "#46039f"
             ],
             [
              0.2222222222222222,
              "#7201a8"
             ],
             [
              0.3333333333333333,
              "#9c179e"
             ],
             [
              0.4444444444444444,
              "#bd3786"
             ],
             [
              0.5555555555555556,
              "#d8576b"
             ],
             [
              0.6666666666666666,
              "#ed7953"
             ],
             [
              0.7777777777777778,
              "#fb9f3a"
             ],
             [
              0.8888888888888888,
              "#fdca26"
             ],
             [
              1,
              "#f0f921"
             ]
            ],
            "type": "histogram2dcontour"
           }
          ],
          "mesh3d": [
           {
            "colorbar": {
             "outlinewidth": 0,
             "ticks": ""
            },
            "type": "mesh3d"
           }
          ],
          "parcoords": [
           {
            "line": {
             "colorbar": {
              "outlinewidth": 0,
              "ticks": ""
             }
            },
            "type": "parcoords"
           }
          ],
          "pie": [
           {
            "automargin": true,
            "type": "pie"
           }
          ],
          "scatter": [
           {
            "fillpattern": {
             "fillmode": "overlay",
             "size": 10,
             "solidity": 0.2
            },
            "type": "scatter"
           }
          ],
          "scatter3d": [
           {
            "line": {
             "colorbar": {
              "outlinewidth": 0,
              "ticks": ""
             }
            },
            "marker": {
             "colorbar": {
              "outlinewidth": 0,
              "ticks": ""
             }
            },
            "type": "scatter3d"
           }
          ],
          "scattercarpet": [
           {
            "marker": {
             "colorbar": {
              "outlinewidth": 0,
              "ticks": ""
             }
            },
            "type": "scattercarpet"
           }
          ],
          "scattergeo": [
           {
            "marker": {
             "colorbar": {
              "outlinewidth": 0,
              "ticks": ""
             }
            },
            "type": "scattergeo"
           }
          ],
          "scattergl": [
           {
            "marker": {
             "colorbar": {
              "outlinewidth": 0,
              "ticks": ""
             }
            },
            "type": "scattergl"
           }
          ],
          "scattermap": [
           {
            "marker": {
             "colorbar": {
              "outlinewidth": 0,
              "ticks": ""
             }
            },
            "type": "scattermap"
           }
          ],
          "scattermapbox": [
           {
            "marker": {
             "colorbar": {
              "outlinewidth": 0,
              "ticks": ""
             }
            },
            "type": "scattermapbox"
           }
          ],
          "scatterpolar": [
           {
            "marker": {
             "colorbar": {
              "outlinewidth": 0,
              "ticks": ""
             }
            },
            "type": "scatterpolar"
           }
          ],
          "scatterpolargl": [
           {
            "marker": {
             "colorbar": {
              "outlinewidth": 0,
              "ticks": ""
             }
            },
            "type": "scatterpolargl"
           }
          ],
          "scatterternary": [
           {
            "marker": {
             "colorbar": {
              "outlinewidth": 0,
              "ticks": ""
             }
            },
            "type": "scatterternary"
           }
          ],
          "surface": [
           {
            "colorbar": {
             "outlinewidth": 0,
             "ticks": ""
            },
            "colorscale": [
             [
              0,
              "#0d0887"
             ],
             [
              0.1111111111111111,
              "#46039f"
             ],
             [
              0.2222222222222222,
              "#7201a8"
             ],
             [
              0.3333333333333333,
              "#9c179e"
             ],
             [
              0.4444444444444444,
              "#bd3786"
             ],
             [
              0.5555555555555556,
              "#d8576b"
             ],
             [
              0.6666666666666666,
              "#ed7953"
             ],
             [
              0.7777777777777778,
              "#fb9f3a"
             ],
             [
              0.8888888888888888,
              "#fdca26"
             ],
             [
              1,
              "#f0f921"
             ]
            ],
            "type": "surface"
           }
          ],
          "table": [
           {
            "cells": {
             "fill": {
              "color": "#EBF0F8"
             },
             "line": {
              "color": "white"
             }
            },
            "header": {
             "fill": {
              "color": "#C8D4E3"
             },
             "line": {
              "color": "white"
             }
            },
            "type": "table"
           }
          ]
         },
         "layout": {
          "annotationdefaults": {
           "arrowcolor": "#2a3f5f",
           "arrowhead": 0,
           "arrowwidth": 1
          },
          "autotypenumbers": "strict",
          "coloraxis": {
           "colorbar": {
            "outlinewidth": 0,
            "ticks": ""
           }
          },
          "colorscale": {
           "diverging": [
            [
             0,
             "#8e0152"
            ],
            [
             0.1,
             "#c51b7d"
            ],
            [
             0.2,
             "#de77ae"
            ],
            [
             0.3,
             "#f1b6da"
            ],
            [
             0.4,
             "#fde0ef"
            ],
            [
             0.5,
             "#f7f7f7"
            ],
            [
             0.6,
             "#e6f5d0"
            ],
            [
             0.7,
             "#b8e186"
            ],
            [
             0.8,
             "#7fbc41"
            ],
            [
             0.9,
             "#4d9221"
            ],
            [
             1,
             "#276419"
            ]
           ],
           "sequential": [
            [
             0,
             "#0d0887"
            ],
            [
             0.1111111111111111,
             "#46039f"
            ],
            [
             0.2222222222222222,
             "#7201a8"
            ],
            [
             0.3333333333333333,
             "#9c179e"
            ],
            [
             0.4444444444444444,
             "#bd3786"
            ],
            [
             0.5555555555555556,
             "#d8576b"
            ],
            [
             0.6666666666666666,
             "#ed7953"
            ],
            [
             0.7777777777777778,
             "#fb9f3a"
            ],
            [
             0.8888888888888888,
             "#fdca26"
            ],
            [
             1,
             "#f0f921"
            ]
           ],
           "sequentialminus": [
            [
             0,
             "#0d0887"
            ],
            [
             0.1111111111111111,
             "#46039f"
            ],
            [
             0.2222222222222222,
             "#7201a8"
            ],
            [
             0.3333333333333333,
             "#9c179e"
            ],
            [
             0.4444444444444444,
             "#bd3786"
            ],
            [
             0.5555555555555556,
             "#d8576b"
            ],
            [
             0.6666666666666666,
             "#ed7953"
            ],
            [
             0.7777777777777778,
             "#fb9f3a"
            ],
            [
             0.8888888888888888,
             "#fdca26"
            ],
            [
             1,
             "#f0f921"
            ]
           ]
          },
          "colorway": [
           "#636efa",
           "#EF553B",
           "#00cc96",
           "#ab63fa",
           "#FFA15A",
           "#19d3f3",
           "#FF6692",
           "#B6E880",
           "#FF97FF",
           "#FECB52"
          ],
          "font": {
           "color": "#2a3f5f"
          },
          "geo": {
           "bgcolor": "white",
           "lakecolor": "white",
           "landcolor": "white",
           "showlakes": true,
           "showland": true,
           "subunitcolor": "#C8D4E3"
          },
          "hoverlabel": {
           "align": "left"
          },
          "hovermode": "closest",
          "mapbox": {
           "style": "light"
          },
          "paper_bgcolor": "white",
          "plot_bgcolor": "white",
          "polar": {
           "angularaxis": {
            "gridcolor": "#EBF0F8",
            "linecolor": "#EBF0F8",
            "ticks": ""
           },
           "bgcolor": "white",
           "radialaxis": {
            "gridcolor": "#EBF0F8",
            "linecolor": "#EBF0F8",
            "ticks": ""
           }
          },
          "scene": {
           "xaxis": {
            "backgroundcolor": "white",
            "gridcolor": "#DFE8F3",
            "gridwidth": 2,
            "linecolor": "#EBF0F8",
            "showbackground": true,
            "ticks": "",
            "zerolinecolor": "#EBF0F8"
           },
           "yaxis": {
            "backgroundcolor": "white",
            "gridcolor": "#DFE8F3",
            "gridwidth": 2,
            "linecolor": "#EBF0F8",
            "showbackground": true,
            "ticks": "",
            "zerolinecolor": "#EBF0F8"
           },
           "zaxis": {
            "backgroundcolor": "white",
            "gridcolor": "#DFE8F3",
            "gridwidth": 2,
            "linecolor": "#EBF0F8",
            "showbackground": true,
            "ticks": "",
            "zerolinecolor": "#EBF0F8"
           }
          },
          "shapedefaults": {
           "line": {
            "color": "#2a3f5f"
           }
          },
          "ternary": {
           "aaxis": {
            "gridcolor": "#DFE8F3",
            "linecolor": "#A2B1C6",
            "ticks": ""
           },
           "baxis": {
            "gridcolor": "#DFE8F3",
            "linecolor": "#A2B1C6",
            "ticks": ""
           },
           "bgcolor": "white",
           "caxis": {
            "gridcolor": "#DFE8F3",
            "linecolor": "#A2B1C6",
            "ticks": ""
           }
          },
          "title": {
           "x": 0.05
          },
          "xaxis": {
           "automargin": true,
           "gridcolor": "#EBF0F8",
           "linecolor": "#EBF0F8",
           "ticks": "",
           "title": {
            "standoff": 15
           },
           "zerolinecolor": "#EBF0F8",
           "zerolinewidth": 2
          },
          "yaxis": {
           "automargin": true,
           "gridcolor": "#EBF0F8",
           "linecolor": "#EBF0F8",
           "ticks": "",
           "title": {
            "standoff": 15
           },
           "zerolinecolor": "#EBF0F8",
           "zerolinewidth": 2
          }
         }
        },
        "title": {
         "text": "24CS Stock Candlestick Chart with Volume"
        },
        "width": 950,
        "xaxis": {
         "rangeslider": {
          "visible": false
         },
         "title": {
          "text": "Date"
         }
        },
        "yaxis": {
         "domain": [
          0.3,
          1
         ],
         "title": {
          "text": "Price"
         }
        },
        "yaxis2": {
         "domain": [
          0,
          0.25
         ],
         "title": {
          "text": "Volume"
         }
        }
       }
      }
     },
     "metadata": {},
     "output_type": "display_data"
    }
   ],
   "source": [
    "import plotly.graph_objects as go\n",
    "\n",
    "# 🔹 เลือกเฉพาะหุ้น 24CS\n",
    "ohlc_df = df_cand[df_cand[\"symbol\"] == \"24CS\"].copy()\n",
    "\n",
    "# 🔹 จัดการ index\n",
    "ohlc_df[\"time\"] = pd.to_datetime(ohlc_df[\"time\"])\n",
    "ohlc_df = ohlc_df.sort_values(\"time\")\n",
    "ohlc_df = ohlc_df.set_index(\"time\")\n",
    "ohlc_df.index.name = \"Date\"\n",
    "\n",
    "# 🔹 Rename columns ให้ตรงกับ Plotly\n",
    "ohlc_df = ohlc_df.rename(columns={\n",
    "    \"open_price\": \"Open\",\n",
    "    \"high_price\": \"High\",\n",
    "    \"low_price\": \"Low\",\n",
    "    \"close_price\": \"Close\",\n",
    "    \"volume\": \"Volume\"\n",
    "})\n",
    "\n",
    "# 🔹 เลือกแค่ 200 วันล่าสุด (เพื่อให้ดูง่าย)\n",
    "ohlc_df = ohlc_df.tail(200)\n",
    "\n",
    "# ✅ วาดกราฟ Candlestick\n",
    "fig = go.Figure(data=[go.Candlestick(\n",
    "    x=ohlc_df.index,\n",
    "    open=ohlc_df['Open'],\n",
    "    high=ohlc_df['High'],\n",
    "    low=ohlc_df['Low'],\n",
    "    close=ohlc_df['Close'],\n",
    "    name=\"Candlestick\"\n",
    ")])\n",
    "\n",
    "# ✅ เพิ่ม Volume\n",
    "fig.add_trace(go.Bar(\n",
    "    x=ohlc_df.index,\n",
    "    y=ohlc_df['Volume'],\n",
    "    name=\"Volume\",\n",
    "    marker_color=\"lightblue\",\n",
    "    opacity=0.5,\n",
    "    yaxis=\"y2\"\n",
    "))\n",
    "\n",
    "# ✅ Layout\n",
    "fig.update_layout(\n",
    "    title=\"24CS Stock Candlestick Chart with Volume\",\n",
    "    yaxis=dict(title=\"Price\", domain=[0.3, 1]),\n",
    "    yaxis2=dict(title=\"Volume\", domain=[0, 0.25]),\n",
    "    xaxis=dict(title=\"Date\"),\n",
    "    xaxis_rangeslider_visible=False,\n",
    "    template=\"plotly_white\",\n",
    "    width=950,\n",
    "    height=600\n",
    ")\n",
    "\n",
    "fig.show()\n"
   ]
  },
  {
   "cell_type": "markdown",
   "id": "02b9dde8",
   "metadata": {},
   "source": [
    "เอาข้อมูลเวลาjune 2025 เป็นต้นไป"
   ]
  },
  {
   "cell_type": "code",
   "execution_count": 4,
   "id": "3d2ea997",
   "metadata": {},
   "outputs": [],
   "source": [
    "# ✅ แปลงคอลัมน์ time ให้เป็น datetime (ถ้ายังไม่ได้แปลง)\n",
    "df_cand['time'] = pd.to_datetime(df_cand['time'])\n",
    "\n",
    "# ✅ เลือกเฉพาะตั้งแต่ 1 มิถุนายน 2025 เป็นต้นไป\n",
    "df_2025= df_cand[df_cand['time'] >= '2025-06-01']"
   ]
  },
  {
   "cell_type": "code",
   "execution_count": 7,
   "id": "44b28bfd",
   "metadata": {},
   "outputs": [],
   "source": [
    "df_2025.to_excel(\"stock_june2025_onwards.xlsx\", index=False)"
   ]
  },
  {
   "cell_type": "code",
   "execution_count": 5,
   "id": "0b67fcb5",
   "metadata": {},
   "outputs": [
    {
     "data": {
      "text/html": [
       "<div>\n",
       "<style scoped>\n",
       "    .dataframe tbody tr th:only-of-type {\n",
       "        vertical-align: middle;\n",
       "    }\n",
       "\n",
       "    .dataframe tbody tr th {\n",
       "        vertical-align: top;\n",
       "    }\n",
       "\n",
       "    .dataframe thead th {\n",
       "        text-align: right;\n",
       "    }\n",
       "</style>\n",
       "<table border=\"1\" class=\"dataframe\">\n",
       "  <thead>\n",
       "    <tr style=\"text-align: right;\">\n",
       "      <th></th>\n",
       "      <th>symbol</th>\n",
       "      <th>time</th>\n",
       "      <th>close_price</th>\n",
       "      <th>high_price</th>\n",
       "      <th>low_price</th>\n",
       "      <th>open_price</th>\n",
       "      <th>value</th>\n",
       "      <th>volume</th>\n",
       "    </tr>\n",
       "  </thead>\n",
       "  <tbody>\n",
       "    <tr>\n",
       "      <th>369810</th>\n",
       "      <td>24CS</td>\n",
       "      <td>2025-06-04</td>\n",
       "      <td>0.94</td>\n",
       "      <td>0.98</td>\n",
       "      <td>0.90</td>\n",
       "      <td>0.91</td>\n",
       "      <td>0.0</td>\n",
       "      <td>13587837</td>\n",
       "    </tr>\n",
       "    <tr>\n",
       "      <th>369811</th>\n",
       "      <td>24CS</td>\n",
       "      <td>2025-06-05</td>\n",
       "      <td>0.96</td>\n",
       "      <td>1.02</td>\n",
       "      <td>0.93</td>\n",
       "      <td>0.94</td>\n",
       "      <td>0.0</td>\n",
       "      <td>21894535</td>\n",
       "    </tr>\n",
       "    <tr>\n",
       "      <th>369812</th>\n",
       "      <td>24CS</td>\n",
       "      <td>2025-06-06</td>\n",
       "      <td>1.02</td>\n",
       "      <td>1.04</td>\n",
       "      <td>0.95</td>\n",
       "      <td>0.96</td>\n",
       "      <td>0.0</td>\n",
       "      <td>29946221</td>\n",
       "    </tr>\n",
       "    <tr>\n",
       "      <th>369813</th>\n",
       "      <td>24CS</td>\n",
       "      <td>2025-06-09</td>\n",
       "      <td>1.20</td>\n",
       "      <td>1.28</td>\n",
       "      <td>1.06</td>\n",
       "      <td>1.10</td>\n",
       "      <td>0.0</td>\n",
       "      <td>73692416</td>\n",
       "    </tr>\n",
       "    <tr>\n",
       "      <th>369814</th>\n",
       "      <td>24CS</td>\n",
       "      <td>2025-06-10</td>\n",
       "      <td>1.45</td>\n",
       "      <td>1.55</td>\n",
       "      <td>1.22</td>\n",
       "      <td>1.24</td>\n",
       "      <td>0.0</td>\n",
       "      <td>91965466</td>\n",
       "    </tr>\n",
       "    <tr>\n",
       "      <th>369815</th>\n",
       "      <td>24CS</td>\n",
       "      <td>2025-06-11</td>\n",
       "      <td>1.33</td>\n",
       "      <td>1.44</td>\n",
       "      <td>1.28</td>\n",
       "      <td>1.31</td>\n",
       "      <td>0.0</td>\n",
       "      <td>22963184</td>\n",
       "    </tr>\n",
       "    <tr>\n",
       "      <th>369816</th>\n",
       "      <td>24CS</td>\n",
       "      <td>2025-06-12</td>\n",
       "      <td>1.25</td>\n",
       "      <td>1.35</td>\n",
       "      <td>1.15</td>\n",
       "      <td>1.32</td>\n",
       "      <td>0.0</td>\n",
       "      <td>16676458</td>\n",
       "    </tr>\n",
       "    <tr>\n",
       "      <th>369817</th>\n",
       "      <td>24CS</td>\n",
       "      <td>2025-06-13</td>\n",
       "      <td>1.23</td>\n",
       "      <td>1.31</td>\n",
       "      <td>1.18</td>\n",
       "      <td>1.20</td>\n",
       "      <td>0.0</td>\n",
       "      <td>14148120</td>\n",
       "    </tr>\n",
       "    <tr>\n",
       "      <th>369818</th>\n",
       "      <td>24CS</td>\n",
       "      <td>2025-06-16</td>\n",
       "      <td>1.40</td>\n",
       "      <td>1.40</td>\n",
       "      <td>1.20</td>\n",
       "      <td>1.23</td>\n",
       "      <td>0.0</td>\n",
       "      <td>25850193</td>\n",
       "    </tr>\n",
       "    <tr>\n",
       "      <th>369819</th>\n",
       "      <td>24CS</td>\n",
       "      <td>2025-06-17</td>\n",
       "      <td>1.40</td>\n",
       "      <td>1.46</td>\n",
       "      <td>1.32</td>\n",
       "      <td>1.37</td>\n",
       "      <td>0.0</td>\n",
       "      <td>21305151</td>\n",
       "    </tr>\n",
       "  </tbody>\n",
       "</table>\n",
       "</div>"
      ],
      "text/plain": [
       "       symbol       time  close_price  high_price  low_price  open_price  \\\n",
       "369810   24CS 2025-06-04         0.94        0.98       0.90        0.91   \n",
       "369811   24CS 2025-06-05         0.96        1.02       0.93        0.94   \n",
       "369812   24CS 2025-06-06         1.02        1.04       0.95        0.96   \n",
       "369813   24CS 2025-06-09         1.20        1.28       1.06        1.10   \n",
       "369814   24CS 2025-06-10         1.45        1.55       1.22        1.24   \n",
       "369815   24CS 2025-06-11         1.33        1.44       1.28        1.31   \n",
       "369816   24CS 2025-06-12         1.25        1.35       1.15        1.32   \n",
       "369817   24CS 2025-06-13         1.23        1.31       1.18        1.20   \n",
       "369818   24CS 2025-06-16         1.40        1.40       1.20        1.23   \n",
       "369819   24CS 2025-06-17         1.40        1.46       1.32        1.37   \n",
       "\n",
       "        value    volume  \n",
       "369810    0.0  13587837  \n",
       "369811    0.0  21894535  \n",
       "369812    0.0  29946221  \n",
       "369813    0.0  73692416  \n",
       "369814    0.0  91965466  \n",
       "369815    0.0  22963184  \n",
       "369816    0.0  16676458  \n",
       "369817    0.0  14148120  \n",
       "369818    0.0  25850193  \n",
       "369819    0.0  21305151  "
      ]
     },
     "execution_count": 5,
     "metadata": {},
     "output_type": "execute_result"
    }
   ],
   "source": [
    "df_2025.head(10)"
   ]
  },
  {
   "cell_type": "markdown",
   "id": "ab1e7f64",
   "metadata": {},
   "source": [
    "เส้นค่าเฉลี่ยเคลื่อนที่แบบเอ็กซ์โพเนนเชียล (Exponential Moving Average - EMA)\n",
    "\n",
    "คือเส้นค่าเฉลี่ยของราคาหุ้นย้อนหลังในระยะเวลาต่างๆ กัน (5, 15, 35, 89, และ 200 วัน) โดยให้ความสำคัญกับราคาล่าสุดมากกว่า เส้นเหล่านี้ช่วยบอกถึงแนวโน้มในระยะสั้นไปจนถึงระยะยาว\n",
    "\n",
    "🔵 EMA5 = ระยะสั้น, สัญญาณไว\n",
    "\n",
    "🟠 EMA15 = ระยะกลาง, ช่วยกรองสัญญาณ\n",
    "\n",
    "🟢 EMA35 = แนวโน้มกลาง\n",
    "\n",
    "🟣 EMA89 = แนวโน้มหลัก\n",
    "\n",
    "🔴 EMA200 = แนวโน้มระยะยาว (เส้นใหญ่สุด)\n",
    "\n"
   ]
  },
  {
   "cell_type": "code",
   "execution_count": 6,
   "id": "fb01f8d3",
   "metadata": {},
   "outputs": [
    {
     "data": {
      "application/vnd.plotly.v1+json": {
       "config": {
        "plotlyServerURL": "https://plot.ly"
       },
       "data": [
        {
         "close": {
          "bdata": "AAAA4HoU7j8AAADgUbjuPwAAAIDrUfA/AAAAQDMz8z8AAABAMzP3PwAAACCuR/U/AAAAAAAA9D8AAACAFK7zPwAAAGBmZvY/AAAAYGZm9j8AAADAzMz0PwAAACCuR/U/AAAAYLge9T8AAACgmZn1PwAAAEAzM/c/AAAAYGZm9j8AAABgZmb2PwAAAGCPwvU/AAAAgBSu9z8AAADAHoX3PwAAAGBmZvY/AAAAoJmZ9T8AAABguB71PwAAACCuR/U/AAAAIK5H9T8AAAAA16P0PwAAAGC4HvU/AAAAIIXr9T8AAACgcD32PwAAAKCZmfU/AAAAIIXr9T8AAABgZmb2PwAAACCuR/U/AAAAwPUo9D8AAADAzMz0PwAAAEDhevQ/AAAAgOtR9D8AAABACtfzPwAAAIDrUfQ/AAAAQArX8z8AAABAMzPzPwAAAAApXPM/AAAAwPUo9D8AAADAzMz0PwAAAADXo/Q/AAAAoJmZ9T8AAAAA16P0PwAAAIDrUfQ/AAAAgML19D8AAADA9Sj0PwAAAMD1KPQ/AAAAAAAA9D8AAAAAKVzzPwAAAAAAAPQ/AAAAIFyP9j8AAADgehT2PwAAAGC4HvU/AAAAIK5H8T8AAAAgrkfxPwAAAOCjcPE/AAAA4KNw8T8AAABA4Xr0PwAAAIDrUfQ/AAAAQOF69D8AAADA9Sj0PwAAAMDMzPQ/AAAAgOtR9D8AAAAA16P0PwAAAIDrUfQ/AAAAANej9D8AAACAwvX0PwAAAIA9Cvc/AAAAoJmZ9T8AAACgR+H2PwAAAGC4Hvk/AAAAgOtR+D8AAAAAAAD4PwAAAMD1KPg/AAAAYLge+T8AAABguB75PwAAAAAAAPg/AAAAoHA98j8=",
          "dtype": "f8"
         },
         "high": {
          "bdata": "AAAAAClc7z8AAACA61HwPwAAAADXo/A/AAAAQOF69D8AAADAzMz4PwAAAIA9Cvc/AAAAoJmZ9T8AAACAwvX0PwAAAGBmZvY/AAAAAClc9z8AAAAgXI/2PwAAACCuR/U/AAAAYI/C9T8AAACgcD32PwAAAEAzM/c/AAAAwB6F9z8AAACAFK73PwAAAGBmZvY/AAAAgBSu9z8AAACAFK73PwAAAAAAAPg/AAAAoEfh9j8AAAAghev1PwAAACCuR/U/AAAAoJmZ9T8AAACgmZn1PwAAACCuR/U/AAAAoHA99j8AAAAgXI/2PwAAAOBRuPY/AAAAoHA99j8AAABAMzP3PwAAACBcj/Y/AAAA4KNw9T8AAACAwvX0PwAAAGC4HvU/AAAAANej9D8AAABA4Xr0PwAAAEDhevQ/AAAAgOtR9D8AAACA61H0PwAAAIAUrvM/AAAAgOtR9D8AAABguB71PwAAAGC4HvU/AAAAYI/C9T8AAACgcD32PwAAAADXo/Q/AAAAIK5H9T8AAADgo3D1PwAAAADXo/Q/AAAAgOtR9D8AAAAAAAD0PwAAAMD1KPQ/AAAAQDMz9z8AAADgUbj2PwAAACBcj/Y/AAAAoJmZ9T8AAAAgXI/yPwAAACCF6/E/AAAAIIXr8T8AAADgehT2PwAAAGC4HvU/AAAA4KNw9T8AAAAA16P0PwAAAIDC9fQ/AAAAIK5H9T8AAADAzMz0PwAAAIDC9fQ/AAAAwMzM9D8AAABguB71PwAAAEAzM/c/AAAAQDMz9z8AAAAA16P4PwAAAEAzM/s/AAAAoJmZ+T8AAAAA16P4PwAAACCuR/k/AAAAYLge+T8AAADgUbj6PwAAAKCZmfk/AAAAoHA98j8=",
          "dtype": "f8"
         },
         "low": {
          "bdata": "AAAAwMzM7D8AAABgj8LtPwAAAGBmZu4/AAAAgML18D8AAADAHoXzPwAAAEDhevQ/AAAAYGZm8j8AAACgR+HyPwAAAEAzM/M/AAAAYLge9T8AAACA61H0PwAAAAAAAPQ/AAAAwMzM9D8AAADA9Sj0PwAAACCuR/U/AAAAYI/C9T8AAADgehT2PwAAAEDhevQ/AAAAoJmZ9T8AAACgcD32PwAAAGBmZvY/AAAAoJmZ9T8AAADAzMz0PwAAAIDrUfQ/AAAAwMzM9D8AAAAA16P0PwAAAMDMzPQ/AAAAIK5H9T8AAAAghev1PwAAAKCZmfU/AAAAoJmZ9T8AAABgj8L1PwAAACCuR/U/AAAAQArX8z8AAACA61H0PwAAAMD1KPQ/AAAAQArX8z8AAACAPQrzPwAAAIAUrvM/AAAAQArX8z8AAABAMzPzPwAAAEAzM/M/AAAAAClc8z8AAACA61H0PwAAAEDhevQ/AAAAwPUo9D8AAADA9Sj0PwAAAEAK1/M/AAAAAAAA9D8AAADA9Sj0PwAAAAAAAPQ/AAAAAClc8z8AAAAAKVzzPwAAAAApXPM/AAAAwPUo9D8AAAAghev1PwAAAMDMzPQ/AAAAwPUo8D8AAACAwvXwPwAAAOCjcPE/AAAAIK5H8T8AAADgo3DxPwAAAAAAAPQ/AAAAgOtR9D8AAACAFK7zPwAAAMD1KPQ/AAAAwPUo9D8AAADA9Sj0PwAAAIDrUfQ/AAAAAAAA9D8AAACA61H0PwAAAADXo/Q/AAAAYLge9T8AAAAgrkf1PwAAAEAzM/c/AAAAQArX9z8AAACAPQr3PwAAAIAUrvc/AAAAQArX9z8AAACAwvX4PwAAAIAUrvc/AAAA4HoU8j8=",
          "dtype": "f8"
         },
         "name": "Candlestick",
         "open": {
          "bdata": "AAAAYLge7T8AAADgehTuPwAAAOBRuO4/AAAAoJmZ8T8AAABACtfzPwAAAIDC9fQ/AAAAYLge9T8AAABAMzPzPwAAAIAUrvM/AAAAIIXr9T8AAAAgXI/2PwAAAMD1KPQ/AAAAIK5H9T8AAADAzMz0PwAAAKCZmfU/AAAAoEfh9j8AAAAgXI/2PwAAAKBwPfY/AAAA4HoU9j8AAADAHoX3PwAAAMAehfc/AAAAIFyP9j8AAADgo3D1PwAAAEDhevQ/AAAAwMzM9D8AAADgo3D1PwAAAIDC9fQ/AAAAIK5H9T8AAAAgXI/2PwAAAKBwPfY/AAAAIIXr9T8AAADgehT2PwAAAGBmZvY/AAAAgML19D8AAACA61H0PwAAAMDMzPQ/AAAAQOF69D8AAACA61H0PwAAAEAK1/M/AAAAgOtR9D8AAADA9Sj0PwAAAEAzM/M/AAAAAClc8z8AAABA4Xr0PwAAAIDC9fQ/AAAAANej9D8AAACgmZn1PwAAAIDrUfQ/AAAAAAAA9D8AAADAzMz0PwAAAIDrUfQ/AAAAgOtR9D8AAAAAAAD0PwAAAIAUrvM/AAAAgOtR9D8AAACgcD32PwAAAKBwPfY/AAAAYLge9T8AAAAgrkfxPwAAAOCjcPE/AAAAIIXr8T8AAACgmZnxPwAAAAAAAPQ/AAAAQOF69D8AAAAA16P0PwAAAEDhevQ/AAAAYLge9T8AAABA4Xr0PwAAAADXo/Q/AAAAQOF69D8AAAAA16P0PwAAAIDC9fQ/AAAAgD0K9z8AAADgehT2PwAAAEAzM/c/AAAAIK5H+T8AAADA9Sj4PwAAAEDhevg/AAAAANej+D8AAADgo3D5PwAAAADXo/g/AAAA4HoU8j8=",
          "dtype": "f8"
         },
         "type": "candlestick",
         "x": [
          "2025-06-04T00:00:00.000000000",
          "2025-06-05T00:00:00.000000000",
          "2025-06-06T00:00:00.000000000",
          "2025-06-09T00:00:00.000000000",
          "2025-06-10T00:00:00.000000000",
          "2025-06-11T00:00:00.000000000",
          "2025-06-12T00:00:00.000000000",
          "2025-06-13T00:00:00.000000000",
          "2025-06-16T00:00:00.000000000",
          "2025-06-17T00:00:00.000000000",
          "2025-06-18T00:00:00.000000000",
          "2025-06-19T00:00:00.000000000",
          "2025-06-20T00:00:00.000000000",
          "2025-06-23T00:00:00.000000000",
          "2025-06-24T00:00:00.000000000",
          "2025-06-25T00:00:00.000000000",
          "2025-06-26T00:00:00.000000000",
          "2025-06-27T00:00:00.000000000",
          "2025-06-30T00:00:00.000000000",
          "2025-07-01T00:00:00.000000000",
          "2025-07-02T00:00:00.000000000",
          "2025-07-03T00:00:00.000000000",
          "2025-07-04T00:00:00.000000000",
          "2025-07-07T00:00:00.000000000",
          "2025-07-08T00:00:00.000000000",
          "2025-07-09T00:00:00.000000000",
          "2025-07-11T00:00:00.000000000",
          "2025-07-14T00:00:00.000000000",
          "2025-07-15T00:00:00.000000000",
          "2025-07-16T00:00:00.000000000",
          "2025-07-17T00:00:00.000000000",
          "2025-07-18T00:00:00.000000000",
          "2025-07-21T00:00:00.000000000",
          "2025-07-22T00:00:00.000000000",
          "2025-07-23T00:00:00.000000000",
          "2025-07-24T00:00:00.000000000",
          "2025-07-25T00:00:00.000000000",
          "2025-07-29T00:00:00.000000000",
          "2025-07-30T00:00:00.000000000",
          "2025-07-31T00:00:00.000000000",
          "2025-08-01T00:00:00.000000000",
          "2025-08-04T00:00:00.000000000",
          "2025-08-05T00:00:00.000000000",
          "2025-08-06T00:00:00.000000000",
          "2025-08-07T00:00:00.000000000",
          "2025-08-08T00:00:00.000000000",
          "2025-08-13T00:00:00.000000000",
          "2025-08-14T00:00:00.000000000",
          "2025-08-15T00:00:00.000000000",
          "2025-08-18T00:00:00.000000000",
          "2025-08-19T00:00:00.000000000",
          "2025-08-20T00:00:00.000000000",
          "2025-08-21T00:00:00.000000000",
          "2025-08-22T00:00:00.000000000",
          "2025-08-25T00:00:00.000000000",
          "2025-08-26T00:00:00.000000000",
          "2025-08-27T00:00:00.000000000",
          "2025-08-28T00:00:00.000000000",
          "2025-08-29T00:00:00.000000000",
          "2025-09-01T00:00:00.000000000",
          "2025-09-02T00:00:00.000000000",
          "2025-09-03T00:00:00.000000000",
          "2025-09-04T00:00:00.000000000",
          "2025-09-05T00:00:00.000000000",
          "2025-09-08T00:00:00.000000000",
          "2025-09-09T00:00:00.000000000",
          "2025-09-10T00:00:00.000000000",
          "2025-09-11T00:00:00.000000000",
          "2025-09-12T00:00:00.000000000",
          "2025-09-15T00:00:00.000000000",
          "2025-09-16T00:00:00.000000000",
          "2025-09-17T00:00:00.000000000",
          "2025-09-18T00:00:00.000000000",
          "2025-09-19T00:00:00.000000000",
          "2025-09-22T00:00:00.000000000",
          "2025-09-23T00:00:00.000000000",
          "2025-09-24T00:00:00.000000000",
          "2025-09-25T00:00:00.000000000",
          "2025-09-26T00:00:00.000000000",
          "2025-09-29T00:00:00.000000000",
          "2025-09-30T00:00:00.000000000",
          "2025-10-01T00:00:00.000000000"
         ]
        },
        {
         "line": {
          "color": "blue",
          "width": 2
         },
         "mode": "lines",
         "name": "EMA5",
         "type": "scatter",
         "x": [
          "2025-06-04T00:00:00.000000000",
          "2025-06-05T00:00:00.000000000",
          "2025-06-06T00:00:00.000000000",
          "2025-06-09T00:00:00.000000000",
          "2025-06-10T00:00:00.000000000",
          "2025-06-11T00:00:00.000000000",
          "2025-06-12T00:00:00.000000000",
          "2025-06-13T00:00:00.000000000",
          "2025-06-16T00:00:00.000000000",
          "2025-06-17T00:00:00.000000000",
          "2025-06-18T00:00:00.000000000",
          "2025-06-19T00:00:00.000000000",
          "2025-06-20T00:00:00.000000000",
          "2025-06-23T00:00:00.000000000",
          "2025-06-24T00:00:00.000000000",
          "2025-06-25T00:00:00.000000000",
          "2025-06-26T00:00:00.000000000",
          "2025-06-27T00:00:00.000000000",
          "2025-06-30T00:00:00.000000000",
          "2025-07-01T00:00:00.000000000",
          "2025-07-02T00:00:00.000000000",
          "2025-07-03T00:00:00.000000000",
          "2025-07-04T00:00:00.000000000",
          "2025-07-07T00:00:00.000000000",
          "2025-07-08T00:00:00.000000000",
          "2025-07-09T00:00:00.000000000",
          "2025-07-11T00:00:00.000000000",
          "2025-07-14T00:00:00.000000000",
          "2025-07-15T00:00:00.000000000",
          "2025-07-16T00:00:00.000000000",
          "2025-07-17T00:00:00.000000000",
          "2025-07-18T00:00:00.000000000",
          "2025-07-21T00:00:00.000000000",
          "2025-07-22T00:00:00.000000000",
          "2025-07-23T00:00:00.000000000",
          "2025-07-24T00:00:00.000000000",
          "2025-07-25T00:00:00.000000000",
          "2025-07-29T00:00:00.000000000",
          "2025-07-30T00:00:00.000000000",
          "2025-07-31T00:00:00.000000000",
          "2025-08-01T00:00:00.000000000",
          "2025-08-04T00:00:00.000000000",
          "2025-08-05T00:00:00.000000000",
          "2025-08-06T00:00:00.000000000",
          "2025-08-07T00:00:00.000000000",
          "2025-08-08T00:00:00.000000000",
          "2025-08-13T00:00:00.000000000",
          "2025-08-14T00:00:00.000000000",
          "2025-08-15T00:00:00.000000000",
          "2025-08-18T00:00:00.000000000",
          "2025-08-19T00:00:00.000000000",
          "2025-08-20T00:00:00.000000000",
          "2025-08-21T00:00:00.000000000",
          "2025-08-22T00:00:00.000000000",
          "2025-08-25T00:00:00.000000000",
          "2025-08-26T00:00:00.000000000",
          "2025-08-27T00:00:00.000000000",
          "2025-08-28T00:00:00.000000000",
          "2025-08-29T00:00:00.000000000",
          "2025-09-01T00:00:00.000000000",
          "2025-09-02T00:00:00.000000000",
          "2025-09-03T00:00:00.000000000",
          "2025-09-04T00:00:00.000000000",
          "2025-09-05T00:00:00.000000000",
          "2025-09-08T00:00:00.000000000",
          "2025-09-09T00:00:00.000000000",
          "2025-09-10T00:00:00.000000000",
          "2025-09-11T00:00:00.000000000",
          "2025-09-12T00:00:00.000000000",
          "2025-09-15T00:00:00.000000000",
          "2025-09-16T00:00:00.000000000",
          "2025-09-17T00:00:00.000000000",
          "2025-09-18T00:00:00.000000000",
          "2025-09-19T00:00:00.000000000",
          "2025-09-22T00:00:00.000000000",
          "2025-09-23T00:00:00.000000000",
          "2025-09-24T00:00:00.000000000",
          "2025-09-25T00:00:00.000000000",
          "2025-09-26T00:00:00.000000000",
          "2025-09-29T00:00:00.000000000",
          "2025-09-30T00:00:00.000000000",
          "2025-10-01T00:00:00.000000000"
         ],
         "y": {
          "bdata": "AAAA4HoU7j8BAADgF0vuP1ZVVZVXE+8/yHEcRy7C8D+G9hKa2ufyP6/5YXF2svM/IFFB9k7M8z/A4IB5O8LzP4BAqxufo/Q/VoDHh+E59T/kqi9FhRX1P0PHH449JvU/gi8V1Lsj9T9XyrjCBUv1PzrcJZe/7fU/0pJuL/cV9j83t0nqxjD2P9AkMbwJDPY/NsMgqGKX9j8kgsBaoeb2P24BKwfju/Y/SlbH5B9b9j+HOdoNqPH1P1omPGn/uPU/khkopjmT9T8MEXAZbkP1Pwi2SoYxN/U/sM4xZE1z9T92NCF4rrb1P6TNwNr8rPU/bt7V8dTB9T9KlI4WsPj1PzK4CW+vvfU/ItBb38Y29T/CipJ/cxP1P4JcDBWY4PQ/V+iyOAmx9D/lmszlXmj0P+4RMxnjYPQ/9AsiJvAy9D9OXcEusd3zPzQ+1smDsvM/eCnkG//Z8z+mG5hS7ir0Pxq9uuE7U/Q/Z9PRywXA9D/wjDbdoLb0P0uzeRMPlfQ/MiJR4kq19D93weDWg4b0P6Ur63lUZ/Q/GR3y++JE9D8RvvanT/fzP7Z+pBo1+vM/JP/CcZfW9D/DVNfrjUD1P4I4Or1GNfU/V9Am3hPm8z/lisSenAbzP0QHg7RJf/I/g6+sbRIl8j+tH3NeV+zyP3Rq976IY/M/TpxPP6bA8z/fEjVqa+PzP5UMzoY2MfQ/uV2JhB089D8m6bCtsF70PxpGy/NuWvQ/Z9nc9+Zy9D+aO5N6hZ70P2fSDCcYbfU/RYwI+u179T/ZsgXcC/P1Pzx3rrKaAfc/06TJobVx9z+NGDHBI6H3P7Rly8Bpzvc/eO7c9YM++D9Q9D0ZQIn4Pzb40xCAW/g/z/o363pR9j8=",
          "dtype": "f8"
         }
        },
        {
         "line": {
          "color": "orange",
          "width": 2
         },
         "mode": "lines",
         "name": "EMA15",
         "type": "scatter",
         "x": [
          "2025-06-04T00:00:00.000000000",
          "2025-06-05T00:00:00.000000000",
          "2025-06-06T00:00:00.000000000",
          "2025-06-09T00:00:00.000000000",
          "2025-06-10T00:00:00.000000000",
          "2025-06-11T00:00:00.000000000",
          "2025-06-12T00:00:00.000000000",
          "2025-06-13T00:00:00.000000000",
          "2025-06-16T00:00:00.000000000",
          "2025-06-17T00:00:00.000000000",
          "2025-06-18T00:00:00.000000000",
          "2025-06-19T00:00:00.000000000",
          "2025-06-20T00:00:00.000000000",
          "2025-06-23T00:00:00.000000000",
          "2025-06-24T00:00:00.000000000",
          "2025-06-25T00:00:00.000000000",
          "2025-06-26T00:00:00.000000000",
          "2025-06-27T00:00:00.000000000",
          "2025-06-30T00:00:00.000000000",
          "2025-07-01T00:00:00.000000000",
          "2025-07-02T00:00:00.000000000",
          "2025-07-03T00:00:00.000000000",
          "2025-07-04T00:00:00.000000000",
          "2025-07-07T00:00:00.000000000",
          "2025-07-08T00:00:00.000000000",
          "2025-07-09T00:00:00.000000000",
          "2025-07-11T00:00:00.000000000",
          "2025-07-14T00:00:00.000000000",
          "2025-07-15T00:00:00.000000000",
          "2025-07-16T00:00:00.000000000",
          "2025-07-17T00:00:00.000000000",
          "2025-07-18T00:00:00.000000000",
          "2025-07-21T00:00:00.000000000",
          "2025-07-22T00:00:00.000000000",
          "2025-07-23T00:00:00.000000000",
          "2025-07-24T00:00:00.000000000",
          "2025-07-25T00:00:00.000000000",
          "2025-07-29T00:00:00.000000000",
          "2025-07-30T00:00:00.000000000",
          "2025-07-31T00:00:00.000000000",
          "2025-08-01T00:00:00.000000000",
          "2025-08-04T00:00:00.000000000",
          "2025-08-05T00:00:00.000000000",
          "2025-08-06T00:00:00.000000000",
          "2025-08-07T00:00:00.000000000",
          "2025-08-08T00:00:00.000000000",
          "2025-08-13T00:00:00.000000000",
          "2025-08-14T00:00:00.000000000",
          "2025-08-15T00:00:00.000000000",
          "2025-08-18T00:00:00.000000000",
          "2025-08-19T00:00:00.000000000",
          "2025-08-20T00:00:00.000000000",
          "2025-08-21T00:00:00.000000000",
          "2025-08-22T00:00:00.000000000",
          "2025-08-25T00:00:00.000000000",
          "2025-08-26T00:00:00.000000000",
          "2025-08-27T00:00:00.000000000",
          "2025-08-28T00:00:00.000000000",
          "2025-08-29T00:00:00.000000000",
          "2025-09-01T00:00:00.000000000",
          "2025-09-02T00:00:00.000000000",
          "2025-09-03T00:00:00.000000000",
          "2025-09-04T00:00:00.000000000",
          "2025-09-05T00:00:00.000000000",
          "2025-09-08T00:00:00.000000000",
          "2025-09-09T00:00:00.000000000",
          "2025-09-10T00:00:00.000000000",
          "2025-09-11T00:00:00.000000000",
          "2025-09-12T00:00:00.000000000",
          "2025-09-15T00:00:00.000000000",
          "2025-09-16T00:00:00.000000000",
          "2025-09-17T00:00:00.000000000",
          "2025-09-18T00:00:00.000000000",
          "2025-09-19T00:00:00.000000000",
          "2025-09-22T00:00:00.000000000",
          "2025-09-23T00:00:00.000000000",
          "2025-09-24T00:00:00.000000000",
          "2025-09-25T00:00:00.000000000",
          "2025-09-26T00:00:00.000000000",
          "2025-09-29T00:00:00.000000000",
          "2025-09-30T00:00:00.000000000",
          "2025-10-01T00:00:00.000000000"
         ],
         "y": {
          "bdata": "AAAA4HoU7j8AAADA9SjuPwAAAOhReO4/AAAAexR27z8AANBdD6rwPwAAFjbDPfE/AEBTzwqW8T8A2GgFDNnxPwC9u1C3avI/YEWkMi3q8j+0vE8kgSbzPx7FxcOmavM/egxN9yih8z/ramMMN+DzP4791pKWSvQ/3B18jBCO9D8gmuxGG8n0P9wGD8pJ6PQ/ACbNIANB9T9AgbOUhon1PxgRHY4ipfU/9W5ZcLGj9T8WQU5OEpP1P/N4hMilifU/1elz02aB9T+abAXZtGX1Pwe/5EnVXPU/JieoRKtu9T9BIhPwg4j1P/m9EKamivU/OqZOdcKW9T9z0aTytrD1P0U3UNiVo/U/XDBG1UF09T9Qap0yU1/1Pwa9SfTEQvU/ZYXAxakk9T+4dAjV9fr0PyFmZ4rU5fQ/XXkaQfvD9D8xKvdA4pH0P+tE2Bgra/Q/Tjy9beRi9D/ElAV4IXD0PyziBCmYdvQ/5kXkV/ia9D8pvecsFJz0P4TFShfPkvQ/1GxhhC2f9D86P9WLZpD0P1OXWnJ4g/Q/aUQPZAlz9D/cW41XLVD0P2Cwm6wnRvQ/VDoIO06P9D8KM6fP87/0P6lMsmHMy/Q/FAN8mUhb9D+ygkxK1fjzP1zyAh3Pp/M/EJRitelg8z+OQbamKITzP1x53wHhnfM/MIqjCYG58z/qGG+gb8fzP801YUQb6PM/Ew/VS1X18z8xbVqCJQv0P4sfD0L+E/Q/mjvNWfkl9D8nlJN+8j/0P6Ihwd47mfQ/bv3olke59D/A3QuYR/70PwhiCrFVgvU/xxXpakjc9T8O84tdvyD2P6x02inGYfY/FiafcGS59j9TQYvuDgb3PynZuRBNJfc/BJ6iglGI9j8=",
          "dtype": "f8"
         }
        },
        {
         "line": {
          "color": "green",
          "width": 2
         },
         "mode": "lines",
         "name": "EMA35",
         "type": "scatter",
         "x": [
          "2025-06-04T00:00:00.000000000",
          "2025-06-05T00:00:00.000000000",
          "2025-06-06T00:00:00.000000000",
          "2025-06-09T00:00:00.000000000",
          "2025-06-10T00:00:00.000000000",
          "2025-06-11T00:00:00.000000000",
          "2025-06-12T00:00:00.000000000",
          "2025-06-13T00:00:00.000000000",
          "2025-06-16T00:00:00.000000000",
          "2025-06-17T00:00:00.000000000",
          "2025-06-18T00:00:00.000000000",
          "2025-06-19T00:00:00.000000000",
          "2025-06-20T00:00:00.000000000",
          "2025-06-23T00:00:00.000000000",
          "2025-06-24T00:00:00.000000000",
          "2025-06-25T00:00:00.000000000",
          "2025-06-26T00:00:00.000000000",
          "2025-06-27T00:00:00.000000000",
          "2025-06-30T00:00:00.000000000",
          "2025-07-01T00:00:00.000000000",
          "2025-07-02T00:00:00.000000000",
          "2025-07-03T00:00:00.000000000",
          "2025-07-04T00:00:00.000000000",
          "2025-07-07T00:00:00.000000000",
          "2025-07-08T00:00:00.000000000",
          "2025-07-09T00:00:00.000000000",
          "2025-07-11T00:00:00.000000000",
          "2025-07-14T00:00:00.000000000",
          "2025-07-15T00:00:00.000000000",
          "2025-07-16T00:00:00.000000000",
          "2025-07-17T00:00:00.000000000",
          "2025-07-18T00:00:00.000000000",
          "2025-07-21T00:00:00.000000000",
          "2025-07-22T00:00:00.000000000",
          "2025-07-23T00:00:00.000000000",
          "2025-07-24T00:00:00.000000000",
          "2025-07-25T00:00:00.000000000",
          "2025-07-29T00:00:00.000000000",
          "2025-07-30T00:00:00.000000000",
          "2025-07-31T00:00:00.000000000",
          "2025-08-01T00:00:00.000000000",
          "2025-08-04T00:00:00.000000000",
          "2025-08-05T00:00:00.000000000",
          "2025-08-06T00:00:00.000000000",
          "2025-08-07T00:00:00.000000000",
          "2025-08-08T00:00:00.000000000",
          "2025-08-13T00:00:00.000000000",
          "2025-08-14T00:00:00.000000000",
          "2025-08-15T00:00:00.000000000",
          "2025-08-18T00:00:00.000000000",
          "2025-08-19T00:00:00.000000000",
          "2025-08-20T00:00:00.000000000",
          "2025-08-21T00:00:00.000000000",
          "2025-08-22T00:00:00.000000000",
          "2025-08-25T00:00:00.000000000",
          "2025-08-26T00:00:00.000000000",
          "2025-08-27T00:00:00.000000000",
          "2025-08-28T00:00:00.000000000",
          "2025-08-29T00:00:00.000000000",
          "2025-09-01T00:00:00.000000000",
          "2025-09-02T00:00:00.000000000",
          "2025-09-03T00:00:00.000000000",
          "2025-09-04T00:00:00.000000000",
          "2025-09-05T00:00:00.000000000",
          "2025-09-08T00:00:00.000000000",
          "2025-09-09T00:00:00.000000000",
          "2025-09-10T00:00:00.000000000",
          "2025-09-11T00:00:00.000000000",
          "2025-09-12T00:00:00.000000000",
          "2025-09-15T00:00:00.000000000",
          "2025-09-16T00:00:00.000000000",
          "2025-09-17T00:00:00.000000000",
          "2025-09-18T00:00:00.000000000",
          "2025-09-19T00:00:00.000000000",
          "2025-09-22T00:00:00.000000000",
          "2025-09-23T00:00:00.000000000",
          "2025-09-24T00:00:00.000000000",
          "2025-09-25T00:00:00.000000000",
          "2025-09-26T00:00:00.000000000",
          "2025-09-29T00:00:00.000000000",
          "2025-09-30T00:00:00.000000000",
          "2025-10-01T00:00:00.000000000"
         ],
         "y": {
          "bdata": "AAAA4HoU7j+rqqoKlR3uP72E9kJ8Qe4/7GDMYlC17j/C6flHfJTvPw1Zi5VSGPA/cCnnN9xP8D9bNZPmwn/wP0frw4mv0/A//M+qlfIi8T81NlrtDFfxP/mk8eEVj/E/lo25WrvB8T+cPq8lZPjxP5PXevzEQvI/J68eSaN98j/B+pxYPLXyP++zsIOk4PI/fo3R2PEk8z++zP46LWPzP7MWDb0FjvM/OAc3LRyr8z8LFXtMwb/zP/xaO1iH1fM/7tWpuBfq8z+29IN1afTzP3O8wxD8BPQ/+zEOrgMg9D9tvWL0Fz70P8vrB0VmUfQ/lZdOGC9o9D+3cth/h4T0P+VPhfpej/Q/WARFd66J9D82S4gJaY30PyUOVn5hjPQ/lJumDCKJ9D9hr/IrPX/0P9szZaK4fPQ/FXiYR4Rz9D9NqrqquGH0P/Nnd68wU/Q/u8XwE9hQ9D8UEA4Bu1f0P6ErxnL1W/Q/p0WCA5tt9D+Qs6VYnnD0P12bY77pbvQ/9KBBkGd29D/KiSEhGnL0P1uQ2OIJbvQ/ADN35Oxn9D9jPhutDFn0P7MstjEaVPQ/OCrzvtZz9D+nGQJP/Ir0PwKKZWwxk/Q/Ozu1y1Rk9D+bYrmlEjj0P8uHS36MEPQ/IzmAdTjr8z8T/TGdM/PzP3WLBLh2+PM/fPWuhrX/8z9ny4g0AAL0P4vcK3VEDfQ/ZhdU2RQR9D9SpF0UPBn0PzAbA0ViHPQ/rZktwegj9D/qgsdLkS/0P06myhUpWPQ/SiuxqwRq9D84/tGcFo30PxlwjWARzvQ/3+naRQ8A9T9vwE4XuSr1PzDS5q5KVfU/g8ZLHCaL9T+1ydWRA771Pw4i2NAf3vU/DVla3Ieq9T8=",
          "dtype": "f8"
         }
        },
        {
         "line": {
          "color": "purple",
          "width": 2
         },
         "mode": "lines",
         "name": "EMA89",
         "type": "scatter",
         "x": [
          "2025-06-04T00:00:00.000000000",
          "2025-06-05T00:00:00.000000000",
          "2025-06-06T00:00:00.000000000",
          "2025-06-09T00:00:00.000000000",
          "2025-06-10T00:00:00.000000000",
          "2025-06-11T00:00:00.000000000",
          "2025-06-12T00:00:00.000000000",
          "2025-06-13T00:00:00.000000000",
          "2025-06-16T00:00:00.000000000",
          "2025-06-17T00:00:00.000000000",
          "2025-06-18T00:00:00.000000000",
          "2025-06-19T00:00:00.000000000",
          "2025-06-20T00:00:00.000000000",
          "2025-06-23T00:00:00.000000000",
          "2025-06-24T00:00:00.000000000",
          "2025-06-25T00:00:00.000000000",
          "2025-06-26T00:00:00.000000000",
          "2025-06-27T00:00:00.000000000",
          "2025-06-30T00:00:00.000000000",
          "2025-07-01T00:00:00.000000000",
          "2025-07-02T00:00:00.000000000",
          "2025-07-03T00:00:00.000000000",
          "2025-07-04T00:00:00.000000000",
          "2025-07-07T00:00:00.000000000",
          "2025-07-08T00:00:00.000000000",
          "2025-07-09T00:00:00.000000000",
          "2025-07-11T00:00:00.000000000",
          "2025-07-14T00:00:00.000000000",
          "2025-07-15T00:00:00.000000000",
          "2025-07-16T00:00:00.000000000",
          "2025-07-17T00:00:00.000000000",
          "2025-07-18T00:00:00.000000000",
          "2025-07-21T00:00:00.000000000",
          "2025-07-22T00:00:00.000000000",
          "2025-07-23T00:00:00.000000000",
          "2025-07-24T00:00:00.000000000",
          "2025-07-25T00:00:00.000000000",
          "2025-07-29T00:00:00.000000000",
          "2025-07-30T00:00:00.000000000",
          "2025-07-31T00:00:00.000000000",
          "2025-08-01T00:00:00.000000000",
          "2025-08-04T00:00:00.000000000",
          "2025-08-05T00:00:00.000000000",
          "2025-08-06T00:00:00.000000000",
          "2025-08-07T00:00:00.000000000",
          "2025-08-08T00:00:00.000000000",
          "2025-08-13T00:00:00.000000000",
          "2025-08-14T00:00:00.000000000",
          "2025-08-15T00:00:00.000000000",
          "2025-08-18T00:00:00.000000000",
          "2025-08-19T00:00:00.000000000",
          "2025-08-20T00:00:00.000000000",
          "2025-08-21T00:00:00.000000000",
          "2025-08-22T00:00:00.000000000",
          "2025-08-25T00:00:00.000000000",
          "2025-08-26T00:00:00.000000000",
          "2025-08-27T00:00:00.000000000",
          "2025-08-28T00:00:00.000000000",
          "2025-08-29T00:00:00.000000000",
          "2025-09-01T00:00:00.000000000",
          "2025-09-02T00:00:00.000000000",
          "2025-09-03T00:00:00.000000000",
          "2025-09-04T00:00:00.000000000",
          "2025-09-05T00:00:00.000000000",
          "2025-09-08T00:00:00.000000000",
          "2025-09-09T00:00:00.000000000",
          "2025-09-10T00:00:00.000000000",
          "2025-09-11T00:00:00.000000000",
          "2025-09-12T00:00:00.000000000",
          "2025-09-15T00:00:00.000000000",
          "2025-09-16T00:00:00.000000000",
          "2025-09-17T00:00:00.000000000",
          "2025-09-18T00:00:00.000000000",
          "2025-09-19T00:00:00.000000000",
          "2025-09-22T00:00:00.000000000",
          "2025-09-23T00:00:00.000000000",
          "2025-09-24T00:00:00.000000000",
          "2025-09-25T00:00:00.000000000",
          "2025-09-26T00:00:00.000000000",
          "2025-09-29T00:00:00.000000000",
          "2025-09-30T00:00:00.000000000",
          "2025-10-01T00:00:00.000000000"
         ],
         "y": {
          "bdata": "AAAA4HoU7j8RERHxHhjuP93onn+aJu4/+oK9RohV7j8hkf3s7bDuP8Vryjhz9O4/OOzFIOgn7z/+QX08lFbvP4DlO2cpo+8/47Jc5gru7z+5m8wIhxLwP2sVIzEnMPA/JEjHyzVM8D808S7WX2rwP3GFInL4kPA/nKRaZiiy8D/5+wiOm9LwP//qKgqy7vA/r3lX8BQV8T9+pBxytDnxPzFRFn0kV/E/KsEE+19v8T+beCyRVoTxP8pTrum+mfE/Kzscea2u8T/3AILigL/xP+ylB6Gv0vE/Qf00VP7p8T/2TAZ4mgLyP2jI+okGF/I/VM+OdtAs8j8Z1r572UTyP0bAN6f6VfI/mlVeQVtg8j+5rnjjJG7yP2WOWQ3OefI/m5ay3EuE8j9Ck/jv0ovyP/yPID3qlfI/pmpeFQ2d8j/9yNNDY6DyP5B6NXuPpPI/a7b1CjGt8j/PztORRbnyPxoDY1ssxPI/PDbHOkvU8j9j5YlKmN7yP4jJ0LfY5vI/wyXMRI7y8j9Ti7YfdPnyP7L/37wyAPM/ymtB9+EF8z+jUvDJzAfzP/+Dc8VQDfM/D4FUpUUh8z+X5JbwDTLzP7YSHKkAPfM/V8hwsdwx8z+ZJEwa+CbzPzTlZn86HfM/ITtZTrQT8z/WlKydrxvzP579kYCUIvM/Bq59Lzsq8z+2jSVP5C/zPzs190sROfM/ePXaCE8/8z9C2exMO0fzP3/l4XUoTfM/SRlr8MVU8z9kwx4hCl7zP9mLldPucvM/pxzLgit/8z8Kd6S2apLzP8vaVqn6sfM/a6gQ+EnM8z8ZZteRMeTzPw3yJzJ6/PM/vf0Vx64Z9D90qJI2PTb0P80QOhPKS/Q/QDhVuxdA9D8=",
          "dtype": "f8"
         }
        },
        {
         "line": {
          "color": "red",
          "width": 2
         },
         "mode": "lines",
         "name": "EMA200",
         "type": "scatter",
         "x": [
          "2025-06-04T00:00:00.000000000",
          "2025-06-05T00:00:00.000000000",
          "2025-06-06T00:00:00.000000000",
          "2025-06-09T00:00:00.000000000",
          "2025-06-10T00:00:00.000000000",
          "2025-06-11T00:00:00.000000000",
          "2025-06-12T00:00:00.000000000",
          "2025-06-13T00:00:00.000000000",
          "2025-06-16T00:00:00.000000000",
          "2025-06-17T00:00:00.000000000",
          "2025-06-18T00:00:00.000000000",
          "2025-06-19T00:00:00.000000000",
          "2025-06-20T00:00:00.000000000",
          "2025-06-23T00:00:00.000000000",
          "2025-06-24T00:00:00.000000000",
          "2025-06-25T00:00:00.000000000",
          "2025-06-26T00:00:00.000000000",
          "2025-06-27T00:00:00.000000000",
          "2025-06-30T00:00:00.000000000",
          "2025-07-01T00:00:00.000000000",
          "2025-07-02T00:00:00.000000000",
          "2025-07-03T00:00:00.000000000",
          "2025-07-04T00:00:00.000000000",
          "2025-07-07T00:00:00.000000000",
          "2025-07-08T00:00:00.000000000",
          "2025-07-09T00:00:00.000000000",
          "2025-07-11T00:00:00.000000000",
          "2025-07-14T00:00:00.000000000",
          "2025-07-15T00:00:00.000000000",
          "2025-07-16T00:00:00.000000000",
          "2025-07-17T00:00:00.000000000",
          "2025-07-18T00:00:00.000000000",
          "2025-07-21T00:00:00.000000000",
          "2025-07-22T00:00:00.000000000",
          "2025-07-23T00:00:00.000000000",
          "2025-07-24T00:00:00.000000000",
          "2025-07-25T00:00:00.000000000",
          "2025-07-29T00:00:00.000000000",
          "2025-07-30T00:00:00.000000000",
          "2025-07-31T00:00:00.000000000",
          "2025-08-01T00:00:00.000000000",
          "2025-08-04T00:00:00.000000000",
          "2025-08-05T00:00:00.000000000",
          "2025-08-06T00:00:00.000000000",
          "2025-08-07T00:00:00.000000000",
          "2025-08-08T00:00:00.000000000",
          "2025-08-13T00:00:00.000000000",
          "2025-08-14T00:00:00.000000000",
          "2025-08-15T00:00:00.000000000",
          "2025-08-18T00:00:00.000000000",
          "2025-08-19T00:00:00.000000000",
          "2025-08-20T00:00:00.000000000",
          "2025-08-21T00:00:00.000000000",
          "2025-08-22T00:00:00.000000000",
          "2025-08-25T00:00:00.000000000",
          "2025-08-26T00:00:00.000000000",
          "2025-08-27T00:00:00.000000000",
          "2025-08-28T00:00:00.000000000",
          "2025-08-29T00:00:00.000000000",
          "2025-09-01T00:00:00.000000000",
          "2025-09-02T00:00:00.000000000",
          "2025-09-03T00:00:00.000000000",
          "2025-09-04T00:00:00.000000000",
          "2025-09-05T00:00:00.000000000",
          "2025-09-08T00:00:00.000000000",
          "2025-09-09T00:00:00.000000000",
          "2025-09-10T00:00:00.000000000",
          "2025-09-11T00:00:00.000000000",
          "2025-09-12T00:00:00.000000000",
          "2025-09-15T00:00:00.000000000",
          "2025-09-16T00:00:00.000000000",
          "2025-09-17T00:00:00.000000000",
          "2025-09-18T00:00:00.000000000",
          "2025-09-19T00:00:00.000000000",
          "2025-09-22T00:00:00.000000000",
          "2025-09-23T00:00:00.000000000",
          "2025-09-24T00:00:00.000000000",
          "2025-09-25T00:00:00.000000000",
          "2025-09-26T00:00:00.000000000",
          "2025-09-29T00:00:00.000000000",
          "2025-09-30T00:00:00.000000000",
          "2025-10-01T00:00:00.000000000"
         ],
         "y": {
          "bdata": "AAAA4HoU7j/PbuE3HBbuPzxUo3CdHO4/POzVL7ox7j8JvH/zAVvuP1ITXIAYeu4/kwKJfFqS7j/iV1xWvajuP0rf0ZXCzO4/3j1UFGzw7j+5z5EDlAvvPz6B28roKO8/SMddLyJF7z/wRbeyhWPvP1lYooXCie8/hZ1/lYqr7z80+neY/MzvP7f3+bnW6u8/EupwcBYJ8D+p8EEUJxzwPwYXsM0sLPA/mwwYCQA68D+9eDsLd0bwP/ZKAKM2U/A/l9eJwdVf8D/HKl1hs2rwP7s+41WudvA/Ryzrc5SE8D9nSm3WJ5PwPx/OO8D0n/A/p3/RunGt8D+QeqpbBbzwP4f8R4GZx/A/nLtSzjXQ8D/FXE+EXdrwP58ZNbCa4/A/gFZr/Vfs8D8qPLkFxvPwP8LM9SJa/PA/LU80ZJ8D8T+FBHbIMAnxP7vp1lMcD/E/wdGTeAIX8T8jYkPWdSDxPwxAN8toKfE/ivWi+LY08T/8WK9Vdj3xP/w2i75ORfE/VJxVg7RO8T9roiWq+FXxP7u3qU4qXfE/cjEPSuFj8T/o6t/S5WjxPxnPhet+b/E/dBlwlYx88T8DD1j9P4jxP7QuV5NjkfE/AN7f0aeQ8T/Q96vu7Y/xP46U8Tqej/E/Od48Uk+P8T+t/0iUv5bxPw8Ut420nfE/rAmBJACl8T8aaRx6aKvxP/r3O9Vhs/E/p0CT3g268T89ggmVecHxP4tQfbgByPE/iCmB5EnP8T/AIuwvUNfxP7VNwmiO5PE/0aTB3//t8T8EPJj4m/rxP7lm1qbMDPI/eSMeUcUc8j8IpYygxCvyP30vNxIGO/I/CUvTq5JM8j+hJpmR8l3yP4g1S9tLbPI/zqNGgNRr8j8=",
          "dtype": "f8"
         }
        },
        {
         "marker": {
          "color": "lightblue"
         },
         "name": "Volume",
         "opacity": 0.5,
         "type": "bar",
         "x": [
          "2025-06-04T00:00:00.000000000",
          "2025-06-05T00:00:00.000000000",
          "2025-06-06T00:00:00.000000000",
          "2025-06-09T00:00:00.000000000",
          "2025-06-10T00:00:00.000000000",
          "2025-06-11T00:00:00.000000000",
          "2025-06-12T00:00:00.000000000",
          "2025-06-13T00:00:00.000000000",
          "2025-06-16T00:00:00.000000000",
          "2025-06-17T00:00:00.000000000",
          "2025-06-18T00:00:00.000000000",
          "2025-06-19T00:00:00.000000000",
          "2025-06-20T00:00:00.000000000",
          "2025-06-23T00:00:00.000000000",
          "2025-06-24T00:00:00.000000000",
          "2025-06-25T00:00:00.000000000",
          "2025-06-26T00:00:00.000000000",
          "2025-06-27T00:00:00.000000000",
          "2025-06-30T00:00:00.000000000",
          "2025-07-01T00:00:00.000000000",
          "2025-07-02T00:00:00.000000000",
          "2025-07-03T00:00:00.000000000",
          "2025-07-04T00:00:00.000000000",
          "2025-07-07T00:00:00.000000000",
          "2025-07-08T00:00:00.000000000",
          "2025-07-09T00:00:00.000000000",
          "2025-07-11T00:00:00.000000000",
          "2025-07-14T00:00:00.000000000",
          "2025-07-15T00:00:00.000000000",
          "2025-07-16T00:00:00.000000000",
          "2025-07-17T00:00:00.000000000",
          "2025-07-18T00:00:00.000000000",
          "2025-07-21T00:00:00.000000000",
          "2025-07-22T00:00:00.000000000",
          "2025-07-23T00:00:00.000000000",
          "2025-07-24T00:00:00.000000000",
          "2025-07-25T00:00:00.000000000",
          "2025-07-29T00:00:00.000000000",
          "2025-07-30T00:00:00.000000000",
          "2025-07-31T00:00:00.000000000",
          "2025-08-01T00:00:00.000000000",
          "2025-08-04T00:00:00.000000000",
          "2025-08-05T00:00:00.000000000",
          "2025-08-06T00:00:00.000000000",
          "2025-08-07T00:00:00.000000000",
          "2025-08-08T00:00:00.000000000",
          "2025-08-13T00:00:00.000000000",
          "2025-08-14T00:00:00.000000000",
          "2025-08-15T00:00:00.000000000",
          "2025-08-18T00:00:00.000000000",
          "2025-08-19T00:00:00.000000000",
          "2025-08-20T00:00:00.000000000",
          "2025-08-21T00:00:00.000000000",
          "2025-08-22T00:00:00.000000000",
          "2025-08-25T00:00:00.000000000",
          "2025-08-26T00:00:00.000000000",
          "2025-08-27T00:00:00.000000000",
          "2025-08-28T00:00:00.000000000",
          "2025-08-29T00:00:00.000000000",
          "2025-09-01T00:00:00.000000000",
          "2025-09-02T00:00:00.000000000",
          "2025-09-03T00:00:00.000000000",
          "2025-09-04T00:00:00.000000000",
          "2025-09-05T00:00:00.000000000",
          "2025-09-08T00:00:00.000000000",
          "2025-09-09T00:00:00.000000000",
          "2025-09-10T00:00:00.000000000",
          "2025-09-11T00:00:00.000000000",
          "2025-09-12T00:00:00.000000000",
          "2025-09-15T00:00:00.000000000",
          "2025-09-16T00:00:00.000000000",
          "2025-09-17T00:00:00.000000000",
          "2025-09-18T00:00:00.000000000",
          "2025-09-19T00:00:00.000000000",
          "2025-09-22T00:00:00.000000000",
          "2025-09-23T00:00:00.000000000",
          "2025-09-24T00:00:00.000000000",
          "2025-09-25T00:00:00.000000000",
          "2025-09-26T00:00:00.000000000",
          "2025-09-29T00:00:00.000000000",
          "2025-09-30T00:00:00.000000000",
          "2025-10-01T00:00:00.000000000"
         ],
         "y": {
          "bdata": "fVXPAIcVTgFt8cgBAHVkBBpIewXwY14Banb+ABji1wBRcYoBPxdFAVRYtwAfb4sA/JtxANdG8gC1GzMBrmm9AHFRMQHG1dgA9EKcAbZjVQE/KbABw1uXASSE0QB0G5AAnMxGAORSaQCSzjAAAj/xAPAV1wCbh7oAspdoAMrt9QFIFNMASUXCAJLmTwCSMEQA9HAkALRQdgDctEsAJOQoAAXIQgDWCCgAWBw4AFU0kwCyjDMAX/66AN8MAAGqfkMAhTNnAIQKZwCIjCIAWAhKAKgWMgA4rhkA9DKpAjXp+gAdANsAczjlAt3XAAHJ0ywA9tgmAL0nfAKnQXkAjGi0AP48SAAibEoANzNIAMTeNAC28CoAYWEuAMnFUwBfMgsCHH4yAZ8enQNALKAFBP0CAr6XDQF7AIUBxajBAbqWSAMs8BEBOJUAAA==",
          "dtype": "i4"
         },
         "yaxis": "y2"
        }
       ],
       "layout": {
        "height": 600,
        "template": {
         "data": {
          "bar": [
           {
            "error_x": {
             "color": "#2a3f5f"
            },
            "error_y": {
             "color": "#2a3f5f"
            },
            "marker": {
             "line": {
              "color": "white",
              "width": 0.5
             },
             "pattern": {
              "fillmode": "overlay",
              "size": 10,
              "solidity": 0.2
             }
            },
            "type": "bar"
           }
          ],
          "barpolar": [
           {
            "marker": {
             "line": {
              "color": "white",
              "width": 0.5
             },
             "pattern": {
              "fillmode": "overlay",
              "size": 10,
              "solidity": 0.2
             }
            },
            "type": "barpolar"
           }
          ],
          "carpet": [
           {
            "aaxis": {
             "endlinecolor": "#2a3f5f",
             "gridcolor": "#C8D4E3",
             "linecolor": "#C8D4E3",
             "minorgridcolor": "#C8D4E3",
             "startlinecolor": "#2a3f5f"
            },
            "baxis": {
             "endlinecolor": "#2a3f5f",
             "gridcolor": "#C8D4E3",
             "linecolor": "#C8D4E3",
             "minorgridcolor": "#C8D4E3",
             "startlinecolor": "#2a3f5f"
            },
            "type": "carpet"
           }
          ],
          "choropleth": [
           {
            "colorbar": {
             "outlinewidth": 0,
             "ticks": ""
            },
            "type": "choropleth"
           }
          ],
          "contour": [
           {
            "colorbar": {
             "outlinewidth": 0,
             "ticks": ""
            },
            "colorscale": [
             [
              0,
              "#0d0887"
             ],
             [
              0.1111111111111111,
              "#46039f"
             ],
             [
              0.2222222222222222,
              "#7201a8"
             ],
             [
              0.3333333333333333,
              "#9c179e"
             ],
             [
              0.4444444444444444,
              "#bd3786"
             ],
             [
              0.5555555555555556,
              "#d8576b"
             ],
             [
              0.6666666666666666,
              "#ed7953"
             ],
             [
              0.7777777777777778,
              "#fb9f3a"
             ],
             [
              0.8888888888888888,
              "#fdca26"
             ],
             [
              1,
              "#f0f921"
             ]
            ],
            "type": "contour"
           }
          ],
          "contourcarpet": [
           {
            "colorbar": {
             "outlinewidth": 0,
             "ticks": ""
            },
            "type": "contourcarpet"
           }
          ],
          "heatmap": [
           {
            "colorbar": {
             "outlinewidth": 0,
             "ticks": ""
            },
            "colorscale": [
             [
              0,
              "#0d0887"
             ],
             [
              0.1111111111111111,
              "#46039f"
             ],
             [
              0.2222222222222222,
              "#7201a8"
             ],
             [
              0.3333333333333333,
              "#9c179e"
             ],
             [
              0.4444444444444444,
              "#bd3786"
             ],
             [
              0.5555555555555556,
              "#d8576b"
             ],
             [
              0.6666666666666666,
              "#ed7953"
             ],
             [
              0.7777777777777778,
              "#fb9f3a"
             ],
             [
              0.8888888888888888,
              "#fdca26"
             ],
             [
              1,
              "#f0f921"
             ]
            ],
            "type": "heatmap"
           }
          ],
          "histogram": [
           {
            "marker": {
             "pattern": {
              "fillmode": "overlay",
              "size": 10,
              "solidity": 0.2
             }
            },
            "type": "histogram"
           }
          ],
          "histogram2d": [
           {
            "colorbar": {
             "outlinewidth": 0,
             "ticks": ""
            },
            "colorscale": [
             [
              0,
              "#0d0887"
             ],
             [
              0.1111111111111111,
              "#46039f"
             ],
             [
              0.2222222222222222,
              "#7201a8"
             ],
             [
              0.3333333333333333,
              "#9c179e"
             ],
             [
              0.4444444444444444,
              "#bd3786"
             ],
             [
              0.5555555555555556,
              "#d8576b"
             ],
             [
              0.6666666666666666,
              "#ed7953"
             ],
             [
              0.7777777777777778,
              "#fb9f3a"
             ],
             [
              0.8888888888888888,
              "#fdca26"
             ],
             [
              1,
              "#f0f921"
             ]
            ],
            "type": "histogram2d"
           }
          ],
          "histogram2dcontour": [
           {
            "colorbar": {
             "outlinewidth": 0,
             "ticks": ""
            },
            "colorscale": [
             [
              0,
              "#0d0887"
             ],
             [
              0.1111111111111111,
              "#46039f"
             ],
             [
              0.2222222222222222,
              "#7201a8"
             ],
             [
              0.3333333333333333,
              "#9c179e"
             ],
             [
              0.4444444444444444,
              "#bd3786"
             ],
             [
              0.5555555555555556,
              "#d8576b"
             ],
             [
              0.6666666666666666,
              "#ed7953"
             ],
             [
              0.7777777777777778,
              "#fb9f3a"
             ],
             [
              0.8888888888888888,
              "#fdca26"
             ],
             [
              1,
              "#f0f921"
             ]
            ],
            "type": "histogram2dcontour"
           }
          ],
          "mesh3d": [
           {
            "colorbar": {
             "outlinewidth": 0,
             "ticks": ""
            },
            "type": "mesh3d"
           }
          ],
          "parcoords": [
           {
            "line": {
             "colorbar": {
              "outlinewidth": 0,
              "ticks": ""
             }
            },
            "type": "parcoords"
           }
          ],
          "pie": [
           {
            "automargin": true,
            "type": "pie"
           }
          ],
          "scatter": [
           {
            "fillpattern": {
             "fillmode": "overlay",
             "size": 10,
             "solidity": 0.2
            },
            "type": "scatter"
           }
          ],
          "scatter3d": [
           {
            "line": {
             "colorbar": {
              "outlinewidth": 0,
              "ticks": ""
             }
            },
            "marker": {
             "colorbar": {
              "outlinewidth": 0,
              "ticks": ""
             }
            },
            "type": "scatter3d"
           }
          ],
          "scattercarpet": [
           {
            "marker": {
             "colorbar": {
              "outlinewidth": 0,
              "ticks": ""
             }
            },
            "type": "scattercarpet"
           }
          ],
          "scattergeo": [
           {
            "marker": {
             "colorbar": {
              "outlinewidth": 0,
              "ticks": ""
             }
            },
            "type": "scattergeo"
           }
          ],
          "scattergl": [
           {
            "marker": {
             "colorbar": {
              "outlinewidth": 0,
              "ticks": ""
             }
            },
            "type": "scattergl"
           }
          ],
          "scattermap": [
           {
            "marker": {
             "colorbar": {
              "outlinewidth": 0,
              "ticks": ""
             }
            },
            "type": "scattermap"
           }
          ],
          "scattermapbox": [
           {
            "marker": {
             "colorbar": {
              "outlinewidth": 0,
              "ticks": ""
             }
            },
            "type": "scattermapbox"
           }
          ],
          "scatterpolar": [
           {
            "marker": {
             "colorbar": {
              "outlinewidth": 0,
              "ticks": ""
             }
            },
            "type": "scatterpolar"
           }
          ],
          "scatterpolargl": [
           {
            "marker": {
             "colorbar": {
              "outlinewidth": 0,
              "ticks": ""
             }
            },
            "type": "scatterpolargl"
           }
          ],
          "scatterternary": [
           {
            "marker": {
             "colorbar": {
              "outlinewidth": 0,
              "ticks": ""
             }
            },
            "type": "scatterternary"
           }
          ],
          "surface": [
           {
            "colorbar": {
             "outlinewidth": 0,
             "ticks": ""
            },
            "colorscale": [
             [
              0,
              "#0d0887"
             ],
             [
              0.1111111111111111,
              "#46039f"
             ],
             [
              0.2222222222222222,
              "#7201a8"
             ],
             [
              0.3333333333333333,
              "#9c179e"
             ],
             [
              0.4444444444444444,
              "#bd3786"
             ],
             [
              0.5555555555555556,
              "#d8576b"
             ],
             [
              0.6666666666666666,
              "#ed7953"
             ],
             [
              0.7777777777777778,
              "#fb9f3a"
             ],
             [
              0.8888888888888888,
              "#fdca26"
             ],
             [
              1,
              "#f0f921"
             ]
            ],
            "type": "surface"
           }
          ],
          "table": [
           {
            "cells": {
             "fill": {
              "color": "#EBF0F8"
             },
             "line": {
              "color": "white"
             }
            },
            "header": {
             "fill": {
              "color": "#C8D4E3"
             },
             "line": {
              "color": "white"
             }
            },
            "type": "table"
           }
          ]
         },
         "layout": {
          "annotationdefaults": {
           "arrowcolor": "#2a3f5f",
           "arrowhead": 0,
           "arrowwidth": 1
          },
          "autotypenumbers": "strict",
          "coloraxis": {
           "colorbar": {
            "outlinewidth": 0,
            "ticks": ""
           }
          },
          "colorscale": {
           "diverging": [
            [
             0,
             "#8e0152"
            ],
            [
             0.1,
             "#c51b7d"
            ],
            [
             0.2,
             "#de77ae"
            ],
            [
             0.3,
             "#f1b6da"
            ],
            [
             0.4,
             "#fde0ef"
            ],
            [
             0.5,
             "#f7f7f7"
            ],
            [
             0.6,
             "#e6f5d0"
            ],
            [
             0.7,
             "#b8e186"
            ],
            [
             0.8,
             "#7fbc41"
            ],
            [
             0.9,
             "#4d9221"
            ],
            [
             1,
             "#276419"
            ]
           ],
           "sequential": [
            [
             0,
             "#0d0887"
            ],
            [
             0.1111111111111111,
             "#46039f"
            ],
            [
             0.2222222222222222,
             "#7201a8"
            ],
            [
             0.3333333333333333,
             "#9c179e"
            ],
            [
             0.4444444444444444,
             "#bd3786"
            ],
            [
             0.5555555555555556,
             "#d8576b"
            ],
            [
             0.6666666666666666,
             "#ed7953"
            ],
            [
             0.7777777777777778,
             "#fb9f3a"
            ],
            [
             0.8888888888888888,
             "#fdca26"
            ],
            [
             1,
             "#f0f921"
            ]
           ],
           "sequentialminus": [
            [
             0,
             "#0d0887"
            ],
            [
             0.1111111111111111,
             "#46039f"
            ],
            [
             0.2222222222222222,
             "#7201a8"
            ],
            [
             0.3333333333333333,
             "#9c179e"
            ],
            [
             0.4444444444444444,
             "#bd3786"
            ],
            [
             0.5555555555555556,
             "#d8576b"
            ],
            [
             0.6666666666666666,
             "#ed7953"
            ],
            [
             0.7777777777777778,
             "#fb9f3a"
            ],
            [
             0.8888888888888888,
             "#fdca26"
            ],
            [
             1,
             "#f0f921"
            ]
           ]
          },
          "colorway": [
           "#636efa",
           "#EF553B",
           "#00cc96",
           "#ab63fa",
           "#FFA15A",
           "#19d3f3",
           "#FF6692",
           "#B6E880",
           "#FF97FF",
           "#FECB52"
          ],
          "font": {
           "color": "#2a3f5f"
          },
          "geo": {
           "bgcolor": "white",
           "lakecolor": "white",
           "landcolor": "white",
           "showlakes": true,
           "showland": true,
           "subunitcolor": "#C8D4E3"
          },
          "hoverlabel": {
           "align": "left"
          },
          "hovermode": "closest",
          "mapbox": {
           "style": "light"
          },
          "paper_bgcolor": "white",
          "plot_bgcolor": "white",
          "polar": {
           "angularaxis": {
            "gridcolor": "#EBF0F8",
            "linecolor": "#EBF0F8",
            "ticks": ""
           },
           "bgcolor": "white",
           "radialaxis": {
            "gridcolor": "#EBF0F8",
            "linecolor": "#EBF0F8",
            "ticks": ""
           }
          },
          "scene": {
           "xaxis": {
            "backgroundcolor": "white",
            "gridcolor": "#DFE8F3",
            "gridwidth": 2,
            "linecolor": "#EBF0F8",
            "showbackground": true,
            "ticks": "",
            "zerolinecolor": "#EBF0F8"
           },
           "yaxis": {
            "backgroundcolor": "white",
            "gridcolor": "#DFE8F3",
            "gridwidth": 2,
            "linecolor": "#EBF0F8",
            "showbackground": true,
            "ticks": "",
            "zerolinecolor": "#EBF0F8"
           },
           "zaxis": {
            "backgroundcolor": "white",
            "gridcolor": "#DFE8F3",
            "gridwidth": 2,
            "linecolor": "#EBF0F8",
            "showbackground": true,
            "ticks": "",
            "zerolinecolor": "#EBF0F8"
           }
          },
          "shapedefaults": {
           "line": {
            "color": "#2a3f5f"
           }
          },
          "ternary": {
           "aaxis": {
            "gridcolor": "#DFE8F3",
            "linecolor": "#A2B1C6",
            "ticks": ""
           },
           "baxis": {
            "gridcolor": "#DFE8F3",
            "linecolor": "#A2B1C6",
            "ticks": ""
           },
           "bgcolor": "white",
           "caxis": {
            "gridcolor": "#DFE8F3",
            "linecolor": "#A2B1C6",
            "ticks": ""
           }
          },
          "title": {
           "x": 0.05
          },
          "xaxis": {
           "automargin": true,
           "gridcolor": "#EBF0F8",
           "linecolor": "#EBF0F8",
           "ticks": "",
           "title": {
            "standoff": 15
           },
           "zerolinecolor": "#EBF0F8",
           "zerolinewidth": 2
          },
          "yaxis": {
           "automargin": true,
           "gridcolor": "#EBF0F8",
           "linecolor": "#EBF0F8",
           "ticks": "",
           "title": {
            "standoff": 15
           },
           "zerolinecolor": "#EBF0F8",
           "zerolinewidth": 2
          }
         }
        },
        "title": {
         "text": "24CS Stock Candlestick Chart with EMA(5,15,35,89,200) and Volume"
        },
        "width": 950,
        "xaxis": {
         "rangeslider": {
          "visible": false
         },
         "title": {
          "text": "Date"
         }
        },
        "yaxis": {
         "domain": [
          0.3,
          1
         ],
         "title": {
          "text": "Price"
         }
        },
        "yaxis2": {
         "domain": [
          0,
          0.25
         ],
         "title": {
          "text": "Volume"
         }
        }
       }
      }
     },
     "metadata": {},
     "output_type": "display_data"
    }
   ],
   "source": [
    "import plotly.graph_objects as go\n",
    "\n",
    "# 🔹 เลือกเฉพาะหุ้น 24CS\n",
    "ohlc_df = df_2025[df_2025[\"symbol\"] == \"24CS\"].copy()\n",
    "\n",
    "# 🔹 จัดการ index\n",
    "ohlc_df[\"time\"] = pd.to_datetime(ohlc_df[\"time\"])\n",
    "ohlc_df = ohlc_df.sort_values(\"time\")\n",
    "ohlc_df = ohlc_df.set_index(\"time\")\n",
    "ohlc_df.index.name = \"Date\"\n",
    "\n",
    "# 🔹 Rename columns ให้ตรงกับ Plotly\n",
    "ohlc_df = ohlc_df.rename(columns={\n",
    "    \"open_price\": \"Open\",\n",
    "    \"high_price\": \"High\",\n",
    "    \"low_price\": \"Low\",\n",
    "    \"close_price\": \"Close\",\n",
    "    \"volume\": \"Volume\"\n",
    "})\n",
    "\n",
    "# 🔹 เลือกแค่ 200 วันล่าสุด (เพื่อดูง่าย)\n",
    "ohlc_df = ohlc_df.tail(200)\n",
    "\n",
    "# 🔹 คำนวณ EMA\n",
    "for p in [5, 15, 35, 89, 200]:\n",
    "    ohlc_df[f\"EMA{p}\"] = ohlc_df[\"Close\"].ewm(span=p, adjust=False).mean()\n",
    "\n",
    "# ✅ กราฟ Candlestick\n",
    "fig = go.Figure(data=[go.Candlestick(\n",
    "    x=ohlc_df.index,\n",
    "    open=ohlc_df['Open'],\n",
    "    high=ohlc_df['High'],\n",
    "    low=ohlc_df['Low'],\n",
    "    close=ohlc_df['Close'],\n",
    "    name=\"Candlestick\"\n",
    ")])\n",
    "\n",
    "# ✅ เส้น EMA\n",
    "colors = {5:\"blue\", 15:\"orange\", 35:\"green\", 89:\"purple\", 200:\"red\"}\n",
    "for p in [5, 15, 35, 89, 200]:\n",
    "    fig.add_trace(go.Scatter(\n",
    "        x=ohlc_df.index,\n",
    "        y=ohlc_df[f\"EMA{p}\"],\n",
    "        mode=\"lines\",\n",
    "        line=dict(width=2, color=colors[p]),\n",
    "        name=f\"EMA{p}\"\n",
    "    ))\n",
    "\n",
    "# ✅ Volume\n",
    "fig.add_trace(go.Bar(\n",
    "    x=ohlc_df.index,\n",
    "    y=ohlc_df['Volume'],\n",
    "    name=\"Volume\",\n",
    "    marker_color=\"lightblue\",\n",
    "    opacity=0.5,\n",
    "    yaxis=\"y2\"\n",
    "))\n",
    "\n",
    "# ✅ Layout\n",
    "fig.update_layout(\n",
    "    title=\"24CS Stock Candlestick Chart with EMA(5,15,35,89,200) and Volume\",\n",
    "    yaxis=dict(title=\"Price\", domain=[0.3, 1]),\n",
    "    yaxis2=dict(title=\"Volume\", domain=[0, 0.25]),\n",
    "    xaxis=dict(title=\"Date\"),\n",
    "    xaxis_rangeslider_visible=False,\n",
    "    template=\"plotly_white\",\n",
    "    width=950,\n",
    "    height=600\n",
    ")\n",
    "\n",
    "fig.show()\n"
   ]
  },
  {
   "cell_type": "code",
   "execution_count": 9,
   "id": "22a7597e",
   "metadata": {},
   "outputs": [
    {
     "data": {
      "text/html": [
       "<div>\n",
       "<style scoped>\n",
       "    .dataframe tbody tr th:only-of-type {\n",
       "        vertical-align: middle;\n",
       "    }\n",
       "\n",
       "    .dataframe tbody tr th {\n",
       "        vertical-align: top;\n",
       "    }\n",
       "\n",
       "    .dataframe thead th {\n",
       "        text-align: right;\n",
       "    }\n",
       "</style>\n",
       "<table border=\"1\" class=\"dataframe\">\n",
       "  <thead>\n",
       "    <tr style=\"text-align: right;\">\n",
       "      <th></th>\n",
       "      <th>symbol</th>\n",
       "      <th>eps</th>\n",
       "      <th>pe</th>\n",
       "      <th>pbv</th>\n",
       "      <th>percentyield</th>\n",
       "    </tr>\n",
       "  </thead>\n",
       "  <tbody>\n",
       "    <tr>\n",
       "      <th>0</th>\n",
       "      <td>PPPM</td>\n",
       "      <td>0.02000</td>\n",
       "      <td>0.00</td>\n",
       "      <td>0.70</td>\n",
       "      <td>0.00</td>\n",
       "    </tr>\n",
       "    <tr>\n",
       "      <th>1</th>\n",
       "      <td>TPCH</td>\n",
       "      <td>0.24112</td>\n",
       "      <td>7.90</td>\n",
       "      <td>0.34</td>\n",
       "      <td>13.91</td>\n",
       "    </tr>\n",
       "    <tr>\n",
       "      <th>2</th>\n",
       "      <td>KPNREIT</td>\n",
       "      <td>NaN</td>\n",
       "      <td>NaN</td>\n",
       "      <td>0.23</td>\n",
       "      <td>0.00</td>\n",
       "    </tr>\n",
       "    <tr>\n",
       "      <th>3</th>\n",
       "      <td>POLY</td>\n",
       "      <td>0.27632</td>\n",
       "      <td>12.89</td>\n",
       "      <td>2.42</td>\n",
       "      <td>6.38</td>\n",
       "    </tr>\n",
       "    <tr>\n",
       "      <th>4</th>\n",
       "      <td>QHBREIT</td>\n",
       "      <td>NaN</td>\n",
       "      <td>NaN</td>\n",
       "      <td>0.41</td>\n",
       "      <td>0.00</td>\n",
       "    </tr>\n",
       "    <tr>\n",
       "      <th>5</th>\n",
       "      <td>VCOM</td>\n",
       "      <td>0.21428</td>\n",
       "      <td>7.85</td>\n",
       "      <td>1.48</td>\n",
       "      <td>10.79</td>\n",
       "    </tr>\n",
       "    <tr>\n",
       "      <th>6</th>\n",
       "      <td>KDH</td>\n",
       "      <td>4.12186</td>\n",
       "      <td>10.62</td>\n",
       "      <td>1.93</td>\n",
       "      <td>3.01</td>\n",
       "    </tr>\n",
       "    <tr>\n",
       "      <th>7</th>\n",
       "      <td>NVD</td>\n",
       "      <td>-0.00942</td>\n",
       "      <td>38.87</td>\n",
       "      <td>0.32</td>\n",
       "      <td>0.00</td>\n",
       "    </tr>\n",
       "    <tr>\n",
       "      <th>8</th>\n",
       "      <td>JDF</td>\n",
       "      <td>0.04224</td>\n",
       "      <td>12.19</td>\n",
       "      <td>1.35</td>\n",
       "      <td>4.85</td>\n",
       "    </tr>\n",
       "    <tr>\n",
       "      <th>9</th>\n",
       "      <td>SVR</td>\n",
       "      <td>-0.03402</td>\n",
       "      <td>0.00</td>\n",
       "      <td>0.34</td>\n",
       "      <td>0.00</td>\n",
       "    </tr>\n",
       "  </tbody>\n",
       "</table>\n",
       "</div>"
      ],
      "text/plain": [
       "    symbol      eps     pe   pbv  percentyield\n",
       "0     PPPM  0.02000   0.00  0.70          0.00\n",
       "1     TPCH  0.24112   7.90  0.34         13.91\n",
       "2  KPNREIT      NaN    NaN  0.23          0.00\n",
       "3     POLY  0.27632  12.89  2.42          6.38\n",
       "4  QHBREIT      NaN    NaN  0.41          0.00\n",
       "5     VCOM  0.21428   7.85  1.48         10.79\n",
       "6      KDH  4.12186  10.62  1.93          3.01\n",
       "7      NVD -0.00942  38.87  0.32          0.00\n",
       "8      JDF  0.04224  12.19  1.35          4.85\n",
       "9      SVR -0.03402   0.00  0.34          0.00"
      ]
     },
     "execution_count": 9,
     "metadata": {},
     "output_type": "execute_result"
    }
   ],
   "source": [
    "rows_fin2 = session.execute(\"\"\"\n",
    "    SELECT symbol,eps,pe,pbv,percentYield FROM financal_data_fromsettradeAPI ALLOW FILTERING\n",
    "\"\"\")\n",
    "df_fun= pd.DataFrame(rows_fin2)\n",
    "df_fun.head(10)"
   ]
  },
  {
   "cell_type": "code",
   "execution_count": 10,
   "id": "101657ab",
   "metadata": {},
   "outputs": [],
   "source": [
    "df_fun.to_excel(\"stock_fun.xlsx\", index=False)"
   ]
  },
  {
   "cell_type": "markdown",
   "id": "78b7cfc5",
   "metadata": {},
   "source": [
    "## Data Preparation"
   ]
  },
  {
   "cell_type": "markdown",
   "id": "53bf014d",
   "metadata": {},
   "source": [
    "เตรียมข้อมูล\n",
    "\n",
    "ข้อมูลของราคาหุ้น มี597057บรรทัด 8คอลัมท์\n",
    "\n",
    "ข้อมูลของปัจจัยหุ้น มี913บรรทัด 5 คอลัมท์ ดึงข้อมูลของคอลัมท์ที่ใช้"
   ]
  },
  {
   "cell_type": "code",
   "execution_count": 14,
   "id": "ed427609",
   "metadata": {},
   "outputs": [
    {
     "data": {
      "text/plain": [
       "(69362, 8)"
      ]
     },
     "execution_count": 14,
     "metadata": {},
     "output_type": "execute_result"
    }
   ],
   "source": [
    "df_2025.shape"
   ]
  },
  {
   "cell_type": "code",
   "execution_count": 12,
   "id": "c7c6ca0b",
   "metadata": {},
   "outputs": [
    {
     "data": {
      "text/plain": [
       "(913, 5)"
      ]
     },
     "execution_count": 12,
     "metadata": {},
     "output_type": "execute_result"
    }
   ],
   "source": [
    "df_fun.shape"
   ]
  },
  {
   "cell_type": "markdown",
   "id": "af5d13f9",
   "metadata": {},
   "source": [
    "ข้อมูลnullของเเต่ละตาราง "
   ]
  },
  {
   "cell_type": "code",
   "execution_count": 15,
   "id": "42958e73",
   "metadata": {},
   "outputs": [
    {
     "data": {
      "text/plain": [
       "symbol         0\n",
       "time           0\n",
       "close_price    0\n",
       "high_price     0\n",
       "low_price      0\n",
       "open_price     0\n",
       "value          0\n",
       "volume         0\n",
       "dtype: int64"
      ]
     },
     "execution_count": 15,
     "metadata": {},
     "output_type": "execute_result"
    }
   ],
   "source": [
    "df_cand.isnull().sum()"
   ]
  },
  {
   "cell_type": "code",
   "execution_count": 16,
   "id": "9237b61b",
   "metadata": {},
   "outputs": [
    {
     "data": {
      "text/plain": [
       "symbol           0\n",
       "eps             65\n",
       "pe              75\n",
       "pbv             12\n",
       "percentyield    11\n",
       "dtype: int64"
      ]
     },
     "execution_count": 16,
     "metadata": {},
     "output_type": "execute_result"
    }
   ],
   "source": [
    "df_fun.isnull().sum()"
   ]
  },
  {
   "cell_type": "markdown",
   "id": "fc9ed164",
   "metadata": {},
   "source": [
    "ดึงแท่งล่าสุดของแต่ละ symbol"
   ]
  },
  {
   "cell_type": "code",
   "execution_count": 14,
   "id": "6214766c",
   "metadata": {},
   "outputs": [
    {
     "data": {
      "text/html": [
       "<div>\n",
       "<style scoped>\n",
       "    .dataframe tbody tr th:only-of-type {\n",
       "        vertical-align: middle;\n",
       "    }\n",
       "\n",
       "    .dataframe tbody tr th {\n",
       "        vertical-align: top;\n",
       "    }\n",
       "\n",
       "    .dataframe thead th {\n",
       "        text-align: right;\n",
       "    }\n",
       "</style>\n",
       "<table border=\"1\" class=\"dataframe\">\n",
       "  <thead>\n",
       "    <tr style=\"text-align: right;\">\n",
       "      <th></th>\n",
       "      <th>symbol</th>\n",
       "      <th>time</th>\n",
       "      <th>close_price</th>\n",
       "      <th>high_price</th>\n",
       "      <th>low_price</th>\n",
       "      <th>open_price</th>\n",
       "      <th>value</th>\n",
       "      <th>volume</th>\n",
       "    </tr>\n",
       "  </thead>\n",
       "  <tbody>\n",
       "    <tr>\n",
       "      <th>296488</th>\n",
       "      <td>ACAP</td>\n",
       "      <td>2023-05-17</td>\n",
       "      <td>0.33</td>\n",
       "      <td>0.36</td>\n",
       "      <td>0.21</td>\n",
       "      <td>0.22</td>\n",
       "      <td>0.0</td>\n",
       "      <td>13918556</td>\n",
       "    </tr>\n",
       "    <tr>\n",
       "      <th>377055</th>\n",
       "      <td>TAPAC</td>\n",
       "      <td>2024-05-02</td>\n",
       "      <td>0.52</td>\n",
       "      <td>0.53</td>\n",
       "      <td>0.46</td>\n",
       "      <td>0.47</td>\n",
       "      <td>0.0</td>\n",
       "      <td>1675203</td>\n",
       "    </tr>\n",
       "    <tr>\n",
       "      <th>29119</th>\n",
       "      <td>KKC</td>\n",
       "      <td>2024-07-26</td>\n",
       "      <td>0.04</td>\n",
       "      <td>0.04</td>\n",
       "      <td>0.03</td>\n",
       "      <td>0.03</td>\n",
       "      <td>0.0</td>\n",
       "      <td>4462175</td>\n",
       "    </tr>\n",
       "    <tr>\n",
       "      <th>570667</th>\n",
       "      <td>JKN</td>\n",
       "      <td>2024-09-16</td>\n",
       "      <td>0.31</td>\n",
       "      <td>0.32</td>\n",
       "      <td>0.25</td>\n",
       "      <td>0.26</td>\n",
       "      <td>0.0</td>\n",
       "      <td>43155573</td>\n",
       "    </tr>\n",
       "    <tr>\n",
       "      <th>340860</th>\n",
       "      <td>CV</td>\n",
       "      <td>2025-02-28</td>\n",
       "      <td>0.20</td>\n",
       "      <td>0.24</td>\n",
       "      <td>0.18</td>\n",
       "      <td>0.22</td>\n",
       "      <td>0.0</td>\n",
       "      <td>18892801</td>\n",
       "    </tr>\n",
       "    <tr>\n",
       "      <th>578870</th>\n",
       "      <td>KWI</td>\n",
       "      <td>2025-02-28</td>\n",
       "      <td>0.30</td>\n",
       "      <td>0.30</td>\n",
       "      <td>0.28</td>\n",
       "      <td>0.29</td>\n",
       "      <td>0.0</td>\n",
       "      <td>264500</td>\n",
       "    </tr>\n",
       "    <tr>\n",
       "      <th>104554</th>\n",
       "      <td>TOPP</td>\n",
       "      <td>2025-05-02</td>\n",
       "      <td>155.00</td>\n",
       "      <td>155.00</td>\n",
       "      <td>155.00</td>\n",
       "      <td>155.00</td>\n",
       "      <td>0.0</td>\n",
       "      <td>100</td>\n",
       "    </tr>\n",
       "    <tr>\n",
       "      <th>175947</th>\n",
       "      <td>NEW</td>\n",
       "      <td>2025-05-02</td>\n",
       "      <td>97.00</td>\n",
       "      <td>97.00</td>\n",
       "      <td>97.00</td>\n",
       "      <td>97.00</td>\n",
       "      <td>0.0</td>\n",
       "      <td>100</td>\n",
       "    </tr>\n",
       "    <tr>\n",
       "      <th>485008</th>\n",
       "      <td>CSR</td>\n",
       "      <td>2025-05-14</td>\n",
       "      <td>71.50</td>\n",
       "      <td>71.50</td>\n",
       "      <td>71.50</td>\n",
       "      <td>71.50</td>\n",
       "      <td>0.0</td>\n",
       "      <td>100</td>\n",
       "    </tr>\n",
       "    <tr>\n",
       "      <th>190493</th>\n",
       "      <td>MVP</td>\n",
       "      <td>2025-05-15</td>\n",
       "      <td>0.50</td>\n",
       "      <td>0.53</td>\n",
       "      <td>0.50</td>\n",
       "      <td>0.52</td>\n",
       "      <td>0.0</td>\n",
       "      <td>535301</td>\n",
       "    </tr>\n",
       "  </tbody>\n",
       "</table>\n",
       "</div>"
      ],
      "text/plain": [
       "       symbol       time  close_price  high_price  low_price  open_price  \\\n",
       "296488   ACAP 2023-05-17         0.33        0.36       0.21        0.22   \n",
       "377055  TAPAC 2024-05-02         0.52        0.53       0.46        0.47   \n",
       "29119     KKC 2024-07-26         0.04        0.04       0.03        0.03   \n",
       "570667    JKN 2024-09-16         0.31        0.32       0.25        0.26   \n",
       "340860     CV 2025-02-28         0.20        0.24       0.18        0.22   \n",
       "578870    KWI 2025-02-28         0.30        0.30       0.28        0.29   \n",
       "104554   TOPP 2025-05-02       155.00      155.00     155.00      155.00   \n",
       "175947    NEW 2025-05-02        97.00       97.00      97.00       97.00   \n",
       "485008    CSR 2025-05-14        71.50       71.50      71.50       71.50   \n",
       "190493    MVP 2025-05-15         0.50        0.53       0.50        0.52   \n",
       "\n",
       "        value    volume  \n",
       "296488    0.0  13918556  \n",
       "377055    0.0   1675203  \n",
       "29119     0.0   4462175  \n",
       "570667    0.0  43155573  \n",
       "340860    0.0  18892801  \n",
       "578870    0.0    264500  \n",
       "104554    0.0       100  \n",
       "175947    0.0       100  \n",
       "485008    0.0       100  \n",
       "190493    0.0    535301  "
      ]
     },
     "execution_count": 14,
     "metadata": {},
     "output_type": "execute_result"
    }
   ],
   "source": [
    "df_latest_candle = (\n",
    "    df_cand.sort_values(\"time\")\n",
    "    .groupby(\"symbol\", as_index=False)\n",
    "    .tail(1)\n",
    ")\n",
    "df_latest_candle.head(10)"
   ]
  },
  {
   "cell_type": "markdown",
   "id": "fa781f90",
   "metadata": {},
   "source": [
    "ข้อมูลของราคาเหลือเเค่912บรรทัด"
   ]
  },
  {
   "cell_type": "code",
   "execution_count": 15,
   "id": "d9523685",
   "metadata": {},
   "outputs": [
    {
     "data": {
      "text/plain": [
       "(912, 8)"
      ]
     },
     "execution_count": 15,
     "metadata": {},
     "output_type": "execute_result"
    }
   ],
   "source": [
    "df_latest_candle.shape"
   ]
  },
  {
   "cell_type": "markdown",
   "id": "f28ec3ab",
   "metadata": {},
   "source": [
    "dropข้อมูลที่เป็นnan สาเหตุ บางหุ้นพึ่งเข้าตลาดหลักทรัพข้อมูลเลยไม่มี"
   ]
  },
  {
   "cell_type": "code",
   "execution_count": 16,
   "id": "6b6dab67",
   "metadata": {},
   "outputs": [
    {
     "data": {
      "text/plain": [
       "(838, 5)"
      ]
     },
     "execution_count": 16,
     "metadata": {},
     "output_type": "execute_result"
    }
   ],
   "source": [
    "fundrop=df_fun\n",
    "fundrop.dropna(inplace=True) \n",
    "fundrop.shape"
   ]
  },
  {
   "cell_type": "markdown",
   "id": "ca2e36b8",
   "metadata": {},
   "source": [
    "### Technical Data Grouping\n",
    "\n",
    "We categorize stock market technical signals using **Exponential Moving Averages (EMA)** and **Relative Strength Index (RSI)**.\n",
    "\n",
    "* **a: Strong Momentum / Overbought**\n",
    "\n",
    "  * Condition: `Close ≥ EMA5` **and** `RSI ≥ 70`\n",
    "  * Interpretation: The stock is in an **overbought zone** with very strong upward momentum.\n",
    "\n",
    "* **b: Clear Uptrend**\n",
    "\n",
    "  * Condition: `Close ≥ EMA35` **and** `EMA35 ≥ EMA89`\n",
    "  * Interpretation: The stock is trending upward, showing medium-term bullish strength.\n",
    "\n",
    "* **c: Sideways above EMA89**\n",
    "\n",
    "  * Condition: `Close ≥ EMA89` **and** short-term EMAs (5/15/35/89) are close together:\n",
    "\n",
    "    $$\n",
    "    \\frac{\\max(EMA) - \\min(EMA)}{\\text{mean}(EMA)} \\leq band\\_pct \\quad (default = 1.5\\%)\n",
    "    $$\n",
    "  * Interpretation: The stock is moving **sideways** but remains above the long-term EMA89, indicating consolidation.\n",
    "\n",
    "* **d: Downtrend**\n",
    "\n",
    "  * Condition: `Close < EMA89` **and** `Close < EMA200` **and** `EMA89 < EMA200`\n",
    "  * Interpretation: The stock is in a **bearish trend**, moving below key long-term averages.\n",
    "\n",
    "* **e: Crash**\n",
    "\n",
    "  * Condition: Strong descending order → `Close < EMA5 < EMA15 < EMA35 < EMA89 < EMA200` **and** `RSI ≤ 30`\n",
    "  * Interpretation: The stock is in a **sharp decline (crash)** with strong bearish momentum and oversold conditions.\n",
    "\n",
    "---"
   ]
  },
  {
   "cell_type": "markdown",
   "id": "e6277851",
   "metadata": {},
   "source": [
    "# 📊 วิธีการแบ่งกลุ่มหุ้นด้วย Technical Grade (a–e)\n",
    "\n",
    "การวิเคราะห์นี้ใช้ **ข้อมูลราคาหุ้นรายวัน (OHLCV)** และ **ตัวชี้วัดทางเทคนิค** ได้แก่\n",
    "\n",
    "* **EMA (Exponential Moving Average)** → เส้นค่าเฉลี่ยเคลื่อนที่แบบเอ็กซ์โพเนนเชียล (5, 15, 35, 89, 200 วัน)\n",
    "* **RSI (Relative Strength Index, 14 วัน)** → ตัวชี้วัดแรงซื้อมากเกินไป / แรงขายมากเกินไป\n",
    "\n",
    "---\n",
    "\n",
    "## 🔎 ขั้นตอนการคำนวณ\n",
    "\n",
    "1. **เตรียมข้อมูล**\n",
    "\n",
    "   * ใช้ราคาปิด (`close_price`) ของหุ้นแต่ละตัว\n",
    "   * คำนวณ **EMA5, EMA15, EMA35, EMA89, EMA200**\n",
    "   * คำนวณค่า **RSI14**\n",
    "\n",
    "2. **เลือกข้อมูลล่าสุด**\n",
    "\n",
    "   * ใช้แถวสุดท้ายของแต่ละหุ้น (วันที่ล่าสุด)\n",
    "   * นำค่าที่ได้มาใช้ตัดสินแนวโน้ม\n",
    "\n",
    "---\n",
    "\n",
    "## 🏷 เกณฑ์การแบ่งกลุ่ม (Trend Grade)\n",
    "\n",
    "| Grade                 | เงื่อนไข                                                              | ความหมาย                            |\n",
    "| --------------------- | --------------------------------------------------------------------- | ----------------------------------- |\n",
    "| **a (Super Bullish)** | ราคาปิด ≥ EMA5 และ RSI ≥ 70                                           | หุ้นร้อนแรงมาก มีแรงซื้อเก็งกำไรสูง |\n",
    "| **b (Up Trend)**      | ราคาปิด ≥ EMA35 และ EMA35 ≥ EMA89                                     | หุ้นอยู่ในขาขึ้นต่อเนื่อง           |\n",
    "| **c (Sideway)**       | ราคาปิด ≥ EMA89 และเส้น EMA (5,15,35,89) อยู่ใกล้กัน (บีบตัว ≤ band%) | หุ้นแกว่งตัวในกรอบ ยังไม่เลือกทาง   |\n",
    "| **d (Down Trend)**    | ราคาปิด < EMA89 และ EMA200 และ EMA89 < EMA200                         | หุ้นอยู่ในขาลงชัดเจน                |\n",
    "| **e (Crash)**         | ราคาปิด < ทุกเส้น EMA และ RSI ≤ 30                                    | หุ้นอ่อนแรงสุด ๆ กำลังถูกขายหนัก    |\n",
    "| **None**              | ไม่เข้าเงื่อนไขใด ๆ                                                   | ไม่มีการจัดเกรด (optional)          |\n",
    "\n",
    "\n"
   ]
  },
  {
   "cell_type": "code",
   "execution_count": 17,
   "id": "00bf1cd6",
   "metadata": {},
   "outputs": [],
   "source": [
    "import ta\n",
    "\n",
    "def compute_technical_grades(df_candle, band_pct=0.015):\n",
    "    df_result = []\n",
    "\n",
    "    for symbol, df_sym in df_candle.groupby('symbol'):\n",
    "        df_sym = df_sym.sort_values('time').copy()\n",
    "        df_sym = df_sym.dropna(subset=['close_price'])  # ลบแถวที่ไม่มีราคา\n",
    "\n",
    "        # ถ้าข้อมูลน้อยเกินไป ข้ามไป\n",
    "        if len(df_sym) < 50:\n",
    "            continue\n",
    "\n",
    "        # คำนวณ EMA + RSI\n",
    "        df_sym['ema5']   = df_sym['close_price'].ewm(span=5).mean()\n",
    "        df_sym['ema15']  = df_sym['close_price'].ewm(span=15).mean()\n",
    "        df_sym['ema35']  = df_sym['close_price'].ewm(span=35).mean()\n",
    "        df_sym['ema89']  = df_sym['close_price'].ewm(span=89).mean()\n",
    "        df_sym['ema200'] = df_sym['close_price'].ewm(span=200).mean()\n",
    "        df_sym['rsi']    = ta.momentum.RSIIndicator(close=df_sym['close_price'], window=14).rsi()\n",
    "\n",
    "        # ลบ NaN หลังคำนวณ indicator\n",
    "        df_sym = df_sym.dropna(subset=['ema5','ema15','ema35','ema89','ema200','rsi'])\n",
    "        if df_sym.empty:\n",
    "            continue\n",
    "\n",
    "        # ใช้ข้อมูลล่าสุด\n",
    "        row = df_sym.iloc[-1]\n",
    "        c, r = row['close_price'], row['rsi']\n",
    "        e5, e15, e35, e89, e200 = row['ema5'], row['ema15'], row['ema35'], row['ema89'], row['ema200']\n",
    "\n",
    "        # Logic grading\n",
    "        if c >= e5 and r >= 70:\n",
    "            grade = 'a'\n",
    "        elif c >= e35 and e35 >= e89:\n",
    "            grade = 'b'\n",
    "        elif c >= e89 and (max([e5,e15,e35,e89]) - min([e5,e15,e35,e89])) / np.mean([e5,e15,e35,e89]) <= band_pct:\n",
    "            grade = 'c'\n",
    "        elif c < e89 and c < e200 and e89 < e200:\n",
    "            grade = 'd'\n",
    "        elif c < e5 < e15 < e35 < e89 < e200 and r <= 30:\n",
    "            grade = 'e'\n",
    "        else:\n",
    "            grade = 'c'   # ตั้งค่า default\n",
    "\n",
    "        df_result.append({\n",
    "            'symbol': symbol,\n",
    "            'time': row['time'],\n",
    "            'close_price': row['close_price'],\n",
    "            'high_price': row['high_price'],\n",
    "            'low_price': row['low_price'],\n",
    "            'open_price': row['open_price'],\n",
    "            'value': row['value'],\n",
    "            'trend_grade': grade,\n",
    "        })\n",
    "\n",
    "    return pd.DataFrame(df_result)\n"
   ]
  },
  {
   "cell_type": "code",
   "execution_count": 18,
   "id": "01ddfb8d",
   "metadata": {},
   "outputs": [],
   "source": [
    "\n",
    "df_result = compute_technical_grades(df_cand)    "
   ]
  },
  {
   "cell_type": "code",
   "execution_count": 19,
   "id": "f99cf4a4",
   "metadata": {},
   "outputs": [
    {
     "data": {
      "text/html": [
       "<div>\n",
       "<style scoped>\n",
       "    .dataframe tbody tr th:only-of-type {\n",
       "        vertical-align: middle;\n",
       "    }\n",
       "\n",
       "    .dataframe tbody tr th {\n",
       "        vertical-align: top;\n",
       "    }\n",
       "\n",
       "    .dataframe thead th {\n",
       "        text-align: right;\n",
       "    }\n",
       "</style>\n",
       "<table border=\"1\" class=\"dataframe\">\n",
       "  <thead>\n",
       "    <tr style=\"text-align: right;\">\n",
       "      <th></th>\n",
       "      <th>symbol</th>\n",
       "      <th>time</th>\n",
       "      <th>close_price</th>\n",
       "      <th>high_price</th>\n",
       "      <th>low_price</th>\n",
       "      <th>open_price</th>\n",
       "      <th>value</th>\n",
       "      <th>trend_grade</th>\n",
       "    </tr>\n",
       "  </thead>\n",
       "  <tbody>\n",
       "    <tr>\n",
       "      <th>0</th>\n",
       "      <td>24CS</td>\n",
       "      <td>2025-05-28</td>\n",
       "      <td>1.00</td>\n",
       "      <td>1.11</td>\n",
       "      <td>0.98</td>\n",
       "      <td>1.08</td>\n",
       "      <td>0.0</td>\n",
       "      <td>d</td>\n",
       "    </tr>\n",
       "    <tr>\n",
       "      <th>1</th>\n",
       "      <td>2S</td>\n",
       "      <td>2025-05-28</td>\n",
       "      <td>2.32</td>\n",
       "      <td>2.32</td>\n",
       "      <td>2.30</td>\n",
       "      <td>2.32</td>\n",
       "      <td>0.0</td>\n",
       "      <td>c</td>\n",
       "    </tr>\n",
       "    <tr>\n",
       "      <th>2</th>\n",
       "      <td>3BBIF</td>\n",
       "      <td>2025-05-28</td>\n",
       "      <td>6.00</td>\n",
       "      <td>6.05</td>\n",
       "      <td>5.90</td>\n",
       "      <td>5.90</td>\n",
       "      <td>0.0</td>\n",
       "      <td>b</td>\n",
       "    </tr>\n",
       "    <tr>\n",
       "      <th>3</th>\n",
       "      <td>A</td>\n",
       "      <td>2025-08-19</td>\n",
       "      <td>4.82</td>\n",
       "      <td>4.84</td>\n",
       "      <td>4.82</td>\n",
       "      <td>4.82</td>\n",
       "      <td>366520.0</td>\n",
       "      <td>d</td>\n",
       "    </tr>\n",
       "    <tr>\n",
       "      <th>4</th>\n",
       "      <td>A5</td>\n",
       "      <td>2025-05-28</td>\n",
       "      <td>2.18</td>\n",
       "      <td>2.26</td>\n",
       "      <td>2.10</td>\n",
       "      <td>2.16</td>\n",
       "      <td>0.0</td>\n",
       "      <td>d</td>\n",
       "    </tr>\n",
       "    <tr>\n",
       "      <th>5</th>\n",
       "      <td>AAI</td>\n",
       "      <td>2025-05-28</td>\n",
       "      <td>4.18</td>\n",
       "      <td>4.26</td>\n",
       "      <td>4.18</td>\n",
       "      <td>4.22</td>\n",
       "      <td>0.0</td>\n",
       "      <td>d</td>\n",
       "    </tr>\n",
       "    <tr>\n",
       "      <th>6</th>\n",
       "      <td>AAV</td>\n",
       "      <td>2025-05-28</td>\n",
       "      <td>1.24</td>\n",
       "      <td>1.26</td>\n",
       "      <td>1.19</td>\n",
       "      <td>1.19</td>\n",
       "      <td>0.0</td>\n",
       "      <td>d</td>\n",
       "    </tr>\n",
       "    <tr>\n",
       "      <th>7</th>\n",
       "      <td>ABM</td>\n",
       "      <td>2025-05-28</td>\n",
       "      <td>0.64</td>\n",
       "      <td>0.64</td>\n",
       "      <td>0.63</td>\n",
       "      <td>0.64</td>\n",
       "      <td>0.0</td>\n",
       "      <td>d</td>\n",
       "    </tr>\n",
       "    <tr>\n",
       "      <th>8</th>\n",
       "      <td>ACAP</td>\n",
       "      <td>2023-05-17</td>\n",
       "      <td>0.33</td>\n",
       "      <td>0.36</td>\n",
       "      <td>0.21</td>\n",
       "      <td>0.22</td>\n",
       "      <td>0.0</td>\n",
       "      <td>d</td>\n",
       "    </tr>\n",
       "    <tr>\n",
       "      <th>9</th>\n",
       "      <td>ACC</td>\n",
       "      <td>2025-05-28</td>\n",
       "      <td>0.32</td>\n",
       "      <td>0.34</td>\n",
       "      <td>0.31</td>\n",
       "      <td>0.31</td>\n",
       "      <td>0.0</td>\n",
       "      <td>d</td>\n",
       "    </tr>\n",
       "  </tbody>\n",
       "</table>\n",
       "</div>"
      ],
      "text/plain": [
       "  symbol       time  close_price  high_price  low_price  open_price     value  \\\n",
       "0   24CS 2025-05-28         1.00        1.11       0.98        1.08       0.0   \n",
       "1     2S 2025-05-28         2.32        2.32       2.30        2.32       0.0   \n",
       "2  3BBIF 2025-05-28         6.00        6.05       5.90        5.90       0.0   \n",
       "3      A 2025-08-19         4.82        4.84       4.82        4.82  366520.0   \n",
       "4     A5 2025-05-28         2.18        2.26       2.10        2.16       0.0   \n",
       "5    AAI 2025-05-28         4.18        4.26       4.18        4.22       0.0   \n",
       "6    AAV 2025-05-28         1.24        1.26       1.19        1.19       0.0   \n",
       "7    ABM 2025-05-28         0.64        0.64       0.63        0.64       0.0   \n",
       "8   ACAP 2023-05-17         0.33        0.36       0.21        0.22       0.0   \n",
       "9    ACC 2025-05-28         0.32        0.34       0.31        0.31       0.0   \n",
       "\n",
       "  trend_grade  \n",
       "0           d  \n",
       "1           c  \n",
       "2           b  \n",
       "3           d  \n",
       "4           d  \n",
       "5           d  \n",
       "6           d  \n",
       "7           d  \n",
       "8           d  \n",
       "9           d  "
      ]
     },
     "execution_count": 19,
     "metadata": {},
     "output_type": "execute_result"
    }
   ],
   "source": [
    "df_result.head(10)"
   ]
  },
  {
   "cell_type": "code",
   "execution_count": 20,
   "id": "46393459",
   "metadata": {},
   "outputs": [
    {
     "data": {
      "text/plain": [
       "symbol         0\n",
       "time           0\n",
       "close_price    0\n",
       "high_price     0\n",
       "low_price      0\n",
       "open_price     0\n",
       "value          0\n",
       "trend_grade    0\n",
       "dtype: int64"
      ]
     },
     "execution_count": 20,
     "metadata": {},
     "output_type": "execute_result"
    }
   ],
   "source": [
    "df_result.shape\n",
    "df_result.isnull().sum()"
   ]
  },
  {
   "cell_type": "code",
   "execution_count": 21,
   "id": "9bc795cf",
   "metadata": {},
   "outputs": [],
   "source": [
    "df_result.dropna(inplace=True)"
   ]
  },
  {
   "cell_type": "code",
   "execution_count": 22,
   "id": "5c3daace",
   "metadata": {},
   "outputs": [
    {
     "data": {
      "text/plain": [
       "symbol         0\n",
       "time           0\n",
       "close_price    0\n",
       "high_price     0\n",
       "low_price      0\n",
       "open_price     0\n",
       "value          0\n",
       "trend_grade    0\n",
       "dtype: int64"
      ]
     },
     "execution_count": 22,
     "metadata": {},
     "output_type": "execute_result"
    }
   ],
   "source": [
    "df_result.isnull().sum()"
   ]
  },
  {
   "cell_type": "code",
   "execution_count": 23,
   "id": "6e749cc0",
   "metadata": {},
   "outputs": [
    {
     "data": {
      "text/plain": [
       "(910, 8)"
      ]
     },
     "execution_count": 23,
     "metadata": {},
     "output_type": "execute_result"
    }
   ],
   "source": [
    "df_result.shape"
   ]
  },
  {
   "cell_type": "code",
   "execution_count": 24,
   "id": "28219b18",
   "metadata": {},
   "outputs": [
    {
     "data": {
      "text/html": [
       "<div>\n",
       "<style scoped>\n",
       "    .dataframe tbody tr th:only-of-type {\n",
       "        vertical-align: middle;\n",
       "    }\n",
       "\n",
       "    .dataframe tbody tr th {\n",
       "        vertical-align: top;\n",
       "    }\n",
       "\n",
       "    .dataframe thead th {\n",
       "        text-align: right;\n",
       "    }\n",
       "</style>\n",
       "<table border=\"1\" class=\"dataframe\">\n",
       "  <thead>\n",
       "    <tr style=\"text-align: right;\">\n",
       "      <th></th>\n",
       "      <th>symbol</th>\n",
       "      <th>time</th>\n",
       "      <th>close_price</th>\n",
       "      <th>high_price</th>\n",
       "      <th>low_price</th>\n",
       "      <th>open_price</th>\n",
       "      <th>value</th>\n",
       "      <th>trend_grade</th>\n",
       "    </tr>\n",
       "  </thead>\n",
       "  <tbody>\n",
       "    <tr>\n",
       "      <th>0</th>\n",
       "      <td>24CS</td>\n",
       "      <td>2025-05-28</td>\n",
       "      <td>1.00</td>\n",
       "      <td>1.11</td>\n",
       "      <td>0.98</td>\n",
       "      <td>1.08</td>\n",
       "      <td>0.0</td>\n",
       "      <td>d</td>\n",
       "    </tr>\n",
       "    <tr>\n",
       "      <th>1</th>\n",
       "      <td>2S</td>\n",
       "      <td>2025-05-28</td>\n",
       "      <td>2.32</td>\n",
       "      <td>2.32</td>\n",
       "      <td>2.30</td>\n",
       "      <td>2.32</td>\n",
       "      <td>0.0</td>\n",
       "      <td>c</td>\n",
       "    </tr>\n",
       "    <tr>\n",
       "      <th>2</th>\n",
       "      <td>3BBIF</td>\n",
       "      <td>2025-05-28</td>\n",
       "      <td>6.00</td>\n",
       "      <td>6.05</td>\n",
       "      <td>5.90</td>\n",
       "      <td>5.90</td>\n",
       "      <td>0.0</td>\n",
       "      <td>b</td>\n",
       "    </tr>\n",
       "    <tr>\n",
       "      <th>3</th>\n",
       "      <td>A</td>\n",
       "      <td>2025-08-19</td>\n",
       "      <td>4.82</td>\n",
       "      <td>4.84</td>\n",
       "      <td>4.82</td>\n",
       "      <td>4.82</td>\n",
       "      <td>366520.0</td>\n",
       "      <td>d</td>\n",
       "    </tr>\n",
       "    <tr>\n",
       "      <th>4</th>\n",
       "      <td>A5</td>\n",
       "      <td>2025-05-28</td>\n",
       "      <td>2.18</td>\n",
       "      <td>2.26</td>\n",
       "      <td>2.10</td>\n",
       "      <td>2.16</td>\n",
       "      <td>0.0</td>\n",
       "      <td>d</td>\n",
       "    </tr>\n",
       "    <tr>\n",
       "      <th>5</th>\n",
       "      <td>AAI</td>\n",
       "      <td>2025-05-28</td>\n",
       "      <td>4.18</td>\n",
       "      <td>4.26</td>\n",
       "      <td>4.18</td>\n",
       "      <td>4.22</td>\n",
       "      <td>0.0</td>\n",
       "      <td>d</td>\n",
       "    </tr>\n",
       "    <tr>\n",
       "      <th>6</th>\n",
       "      <td>AAV</td>\n",
       "      <td>2025-05-28</td>\n",
       "      <td>1.24</td>\n",
       "      <td>1.26</td>\n",
       "      <td>1.19</td>\n",
       "      <td>1.19</td>\n",
       "      <td>0.0</td>\n",
       "      <td>d</td>\n",
       "    </tr>\n",
       "    <tr>\n",
       "      <th>7</th>\n",
       "      <td>ABM</td>\n",
       "      <td>2025-05-28</td>\n",
       "      <td>0.64</td>\n",
       "      <td>0.64</td>\n",
       "      <td>0.63</td>\n",
       "      <td>0.64</td>\n",
       "      <td>0.0</td>\n",
       "      <td>d</td>\n",
       "    </tr>\n",
       "    <tr>\n",
       "      <th>8</th>\n",
       "      <td>ACAP</td>\n",
       "      <td>2023-05-17</td>\n",
       "      <td>0.33</td>\n",
       "      <td>0.36</td>\n",
       "      <td>0.21</td>\n",
       "      <td>0.22</td>\n",
       "      <td>0.0</td>\n",
       "      <td>d</td>\n",
       "    </tr>\n",
       "    <tr>\n",
       "      <th>9</th>\n",
       "      <td>ACC</td>\n",
       "      <td>2025-05-28</td>\n",
       "      <td>0.32</td>\n",
       "      <td>0.34</td>\n",
       "      <td>0.31</td>\n",
       "      <td>0.31</td>\n",
       "      <td>0.0</td>\n",
       "      <td>d</td>\n",
       "    </tr>\n",
       "  </tbody>\n",
       "</table>\n",
       "</div>"
      ],
      "text/plain": [
       "  symbol       time  close_price  high_price  low_price  open_price     value  \\\n",
       "0   24CS 2025-05-28         1.00        1.11       0.98        1.08       0.0   \n",
       "1     2S 2025-05-28         2.32        2.32       2.30        2.32       0.0   \n",
       "2  3BBIF 2025-05-28         6.00        6.05       5.90        5.90       0.0   \n",
       "3      A 2025-08-19         4.82        4.84       4.82        4.82  366520.0   \n",
       "4     A5 2025-05-28         2.18        2.26       2.10        2.16       0.0   \n",
       "5    AAI 2025-05-28         4.18        4.26       4.18        4.22       0.0   \n",
       "6    AAV 2025-05-28         1.24        1.26       1.19        1.19       0.0   \n",
       "7    ABM 2025-05-28         0.64        0.64       0.63        0.64       0.0   \n",
       "8   ACAP 2023-05-17         0.33        0.36       0.21        0.22       0.0   \n",
       "9    ACC 2025-05-28         0.32        0.34       0.31        0.31       0.0   \n",
       "\n",
       "  trend_grade  \n",
       "0           d  \n",
       "1           c  \n",
       "2           b  \n",
       "3           d  \n",
       "4           d  \n",
       "5           d  \n",
       "6           d  \n",
       "7           d  \n",
       "8           d  \n",
       "9           d  "
      ]
     },
     "execution_count": 24,
     "metadata": {},
     "output_type": "execute_result"
    }
   ],
   "source": [
    "df_result.head(10)"
   ]
  },
  {
   "cell_type": "code",
   "execution_count": 25,
   "id": "e83d6319",
   "metadata": {},
   "outputs": [
    {
     "data": {
      "image/png": "[encoded data removed]",
      "text/plain": [
       "<Figure size 800x500 with 1 Axes>"
      ]
     },
     "metadata": {},
     "output_type": "display_data"
    }
   ],
   "source": [
    "import seaborn as sns\n",
    "import matplotlib.pyplot as plt\n",
    "\n",
    "plt.figure(figsize=(8,5))\n",
    "ax = sns.countplot(data=df_result, x=\"trend_grade\", order=df_result[\"trend_grade\"].value_counts().index)\n",
    "\n",
    "plt.title(\"Trend Grade\")\n",
    "plt.xlabel(\"Trend Grade\")\n",
    "plt.ylabel(\"count of symbol\")\n",
    "\n",
    "# ✅ ใส่ตัวเลขบนแท่ง\n",
    "for p in ax.patches:\n",
    "    ax.annotate(\n",
    "        str(int(p.get_height())), \n",
    "        (p.get_x() + p.get_width() / 2., p.get_height()), \n",
    "        ha='center', va='bottom', fontsize=10\n",
    "    )\n",
    "\n",
    "plt.show()\n"
   ]
  },
  {
   "cell_type": "markdown",
   "id": "eb9ec09c",
   "metadata": {},
   "source": [
    "เเบ่งกลุ่มของข้อมูลปัจจัยของหุ้น"
   ]
  },
  {
   "cell_type": "markdown",
   "id": "e06ea61d",
   "metadata": {},
   "source": [
    "เพิ่มคอลัมท์ marketcap"
   ]
  },
  {
   "cell_type": "code",
   "execution_count": 26,
   "id": "84c0d9f9",
   "metadata": {},
   "outputs": [],
   "source": [
    "# ✅ 1) ดึงแท่งล่าสุดของแต่ละ symbol\n",
    "df_latest_candle = (\n",
    "    df_cand.sort_values(\"time\")\n",
    "    .groupby(\"symbol\", as_index=False)\n",
    "    .tail(1)  # หรือใช้ .last() ก็ได้หลัง sort แล้ว\n",
    ")\n",
    "\n",
    "# ✅ 2) Merge กับข้อมูล fundamental\n",
    "df = pd.merge(df_fun, df_latest_candle, on=\"symbol\", how=\"inner\")\n",
    "\n",
    "# ✅ 3) คำนวณ marketcap\n",
    "df[\"marketcap\"] = df[\"close_price\"] * df[\"volume\"]"
   ]
  },
  {
   "cell_type": "code",
   "execution_count": 27,
   "id": "ede833c8",
   "metadata": {},
   "outputs": [
    {
     "data": {
      "text/html": [
       "<div>\n",
       "<style scoped>\n",
       "    .dataframe tbody tr th:only-of-type {\n",
       "        vertical-align: middle;\n",
       "    }\n",
       "\n",
       "    .dataframe tbody tr th {\n",
       "        vertical-align: top;\n",
       "    }\n",
       "\n",
       "    .dataframe thead th {\n",
       "        text-align: right;\n",
       "    }\n",
       "</style>\n",
       "<table border=\"1\" class=\"dataframe\">\n",
       "  <thead>\n",
       "    <tr style=\"text-align: right;\">\n",
       "      <th></th>\n",
       "      <th>symbol</th>\n",
       "      <th>eps</th>\n",
       "      <th>pe</th>\n",
       "      <th>pbv</th>\n",
       "      <th>percentyield</th>\n",
       "      <th>time</th>\n",
       "      <th>close_price</th>\n",
       "      <th>high_price</th>\n",
       "      <th>low_price</th>\n",
       "      <th>open_price</th>\n",
       "      <th>value</th>\n",
       "      <th>volume</th>\n",
       "      <th>marketcap</th>\n",
       "    </tr>\n",
       "  </thead>\n",
       "  <tbody>\n",
       "    <tr>\n",
       "      <th>0</th>\n",
       "      <td>PPPM</td>\n",
       "      <td>0.02000</td>\n",
       "      <td>0.00</td>\n",
       "      <td>0.70</td>\n",
       "      <td>0.00</td>\n",
       "      <td>2025-05-28</td>\n",
       "      <td>0.49</td>\n",
       "      <td>0.51</td>\n",
       "      <td>0.48</td>\n",
       "      <td>0.49</td>\n",
       "      <td>0.0</td>\n",
       "      <td>313650</td>\n",
       "      <td>153688.502991</td>\n",
       "    </tr>\n",
       "    <tr>\n",
       "      <th>1</th>\n",
       "      <td>TPCH</td>\n",
       "      <td>0.24112</td>\n",
       "      <td>7.90</td>\n",
       "      <td>0.34</td>\n",
       "      <td>13.91</td>\n",
       "      <td>2025-05-28</td>\n",
       "      <td>3.08</td>\n",
       "      <td>3.10</td>\n",
       "      <td>3.04</td>\n",
       "      <td>3.10</td>\n",
       "      <td>0.0</td>\n",
       "      <td>52708</td>\n",
       "      <td>162340.635979</td>\n",
       "    </tr>\n",
       "    <tr>\n",
       "      <th>2</th>\n",
       "      <td>POLY</td>\n",
       "      <td>0.27632</td>\n",
       "      <td>12.89</td>\n",
       "      <td>2.42</td>\n",
       "      <td>6.38</td>\n",
       "      <td>2025-05-28</td>\n",
       "      <td>6.95</td>\n",
       "      <td>6.95</td>\n",
       "      <td>6.65</td>\n",
       "      <td>6.90</td>\n",
       "      <td>0.0</td>\n",
       "      <td>5100</td>\n",
       "      <td>35444.999027</td>\n",
       "    </tr>\n",
       "    <tr>\n",
       "      <th>3</th>\n",
       "      <td>VCOM</td>\n",
       "      <td>0.21428</td>\n",
       "      <td>7.85</td>\n",
       "      <td>1.48</td>\n",
       "      <td>10.79</td>\n",
       "      <td>2025-05-28</td>\n",
       "      <td>2.50</td>\n",
       "      <td>2.62</td>\n",
       "      <td>2.50</td>\n",
       "      <td>2.56</td>\n",
       "      <td>0.0</td>\n",
       "      <td>335100</td>\n",
       "      <td>837750.000000</td>\n",
       "    </tr>\n",
       "    <tr>\n",
       "      <th>4</th>\n",
       "      <td>KDH</td>\n",
       "      <td>4.12186</td>\n",
       "      <td>10.62</td>\n",
       "      <td>1.93</td>\n",
       "      <td>3.01</td>\n",
       "      <td>2025-05-22</td>\n",
       "      <td>85.00</td>\n",
       "      <td>85.00</td>\n",
       "      <td>84.75</td>\n",
       "      <td>85.00</td>\n",
       "      <td>0.0</td>\n",
       "      <td>1200</td>\n",
       "      <td>102000.000000</td>\n",
       "    </tr>\n",
       "    <tr>\n",
       "      <th>5</th>\n",
       "      <td>NVD</td>\n",
       "      <td>-0.00942</td>\n",
       "      <td>38.87</td>\n",
       "      <td>0.32</td>\n",
       "      <td>0.00</td>\n",
       "      <td>2025-05-28</td>\n",
       "      <td>1.00</td>\n",
       "      <td>1.02</td>\n",
       "      <td>1.00</td>\n",
       "      <td>1.02</td>\n",
       "      <td>0.0</td>\n",
       "      <td>16301</td>\n",
       "      <td>16301.000000</td>\n",
       "    </tr>\n",
       "    <tr>\n",
       "      <th>6</th>\n",
       "      <td>JDF</td>\n",
       "      <td>0.04224</td>\n",
       "      <td>12.19</td>\n",
       "      <td>1.35</td>\n",
       "      <td>4.85</td>\n",
       "      <td>2025-05-28</td>\n",
       "      <td>1.84</td>\n",
       "      <td>1.85</td>\n",
       "      <td>1.84</td>\n",
       "      <td>1.85</td>\n",
       "      <td>0.0</td>\n",
       "      <td>200</td>\n",
       "      <td>368.000007</td>\n",
       "    </tr>\n",
       "    <tr>\n",
       "      <th>7</th>\n",
       "      <td>SVR</td>\n",
       "      <td>-0.03402</td>\n",
       "      <td>0.00</td>\n",
       "      <td>0.34</td>\n",
       "      <td>0.00</td>\n",
       "      <td>2025-05-28</td>\n",
       "      <td>0.58</td>\n",
       "      <td>0.59</td>\n",
       "      <td>0.57</td>\n",
       "      <td>0.58</td>\n",
       "      <td>0.0</td>\n",
       "      <td>47400</td>\n",
       "      <td>27491.999209</td>\n",
       "    </tr>\n",
       "    <tr>\n",
       "      <th>8</th>\n",
       "      <td>SUSCO</td>\n",
       "      <td>0.11000</td>\n",
       "      <td>8.75</td>\n",
       "      <td>0.55</td>\n",
       "      <td>8.37</td>\n",
       "      <td>2025-05-28</td>\n",
       "      <td>2.74</td>\n",
       "      <td>2.74</td>\n",
       "      <td>2.70</td>\n",
       "      <td>2.70</td>\n",
       "      <td>0.0</td>\n",
       "      <td>152516</td>\n",
       "      <td>417893.841455</td>\n",
       "    </tr>\n",
       "    <tr>\n",
       "      <th>9</th>\n",
       "      <td>STP</td>\n",
       "      <td>0.92828</td>\n",
       "      <td>6.74</td>\n",
       "      <td>1.37</td>\n",
       "      <td>5.60</td>\n",
       "      <td>2025-05-28</td>\n",
       "      <td>9.80</td>\n",
       "      <td>9.90</td>\n",
       "      <td>9.70</td>\n",
       "      <td>9.70</td>\n",
       "      <td>0.0</td>\n",
       "      <td>7600</td>\n",
       "      <td>74480.001450</td>\n",
       "    </tr>\n",
       "  </tbody>\n",
       "</table>\n",
       "</div>"
      ],
      "text/plain": [
       "  symbol      eps     pe   pbv  percentyield       time  close_price  \\\n",
       "0   PPPM  0.02000   0.00  0.70          0.00 2025-05-28         0.49   \n",
       "1   TPCH  0.24112   7.90  0.34         13.91 2025-05-28         3.08   \n",
       "2   POLY  0.27632  12.89  2.42          6.38 2025-05-28         6.95   \n",
       "3   VCOM  0.21428   7.85  1.48         10.79 2025-05-28         2.50   \n",
       "4    KDH  4.12186  10.62  1.93          3.01 2025-05-22        85.00   \n",
       "5    NVD -0.00942  38.87  0.32          0.00 2025-05-28         1.00   \n",
       "6    JDF  0.04224  12.19  1.35          4.85 2025-05-28         1.84   \n",
       "7    SVR -0.03402   0.00  0.34          0.00 2025-05-28         0.58   \n",
       "8  SUSCO  0.11000   8.75  0.55          8.37 2025-05-28         2.74   \n",
       "9    STP  0.92828   6.74  1.37          5.60 2025-05-28         9.80   \n",
       "\n",
       "   high_price  low_price  open_price  value  volume      marketcap  \n",
       "0        0.51       0.48        0.49    0.0  313650  153688.502991  \n",
       "1        3.10       3.04        3.10    0.0   52708  162340.635979  \n",
       "2        6.95       6.65        6.90    0.0    5100   35444.999027  \n",
       "3        2.62       2.50        2.56    0.0  335100  837750.000000  \n",
       "4       85.00      84.75       85.00    0.0    1200  102000.000000  \n",
       "5        1.02       1.00        1.02    0.0   16301   16301.000000  \n",
       "6        1.85       1.84        1.85    0.0     200     368.000007  \n",
       "7        0.59       0.57        0.58    0.0   47400   27491.999209  \n",
       "8        2.74       2.70        2.70    0.0  152516  417893.841455  \n",
       "9        9.90       9.70        9.70    0.0    7600   74480.001450  "
      ]
     },
     "execution_count": 27,
     "metadata": {},
     "output_type": "execute_result"
    }
   ],
   "source": [
    "df.head(10)"
   ]
  },
  {
   "cell_type": "code",
   "execution_count": 28,
   "id": "4c8cb942",
   "metadata": {},
   "outputs": [
    {
     "data": {
      "text/plain": [
       "(837, 13)"
      ]
     },
     "execution_count": 28,
     "metadata": {},
     "output_type": "execute_result"
    }
   ],
   "source": [
    "df.shape"
   ]
  },
  {
   "cell_type": "code",
   "execution_count": 29,
   "id": "7676c2d0",
   "metadata": {},
   "outputs": [
    {
     "data": {
      "text/plain": [
       "symbol          0\n",
       "eps             0\n",
       "pe              0\n",
       "pbv             0\n",
       "percentyield    0\n",
       "time            0\n",
       "close_price     0\n",
       "high_price      0\n",
       "low_price       0\n",
       "open_price      0\n",
       "value           0\n",
       "volume          0\n",
       "marketcap       0\n",
       "dtype: int64"
      ]
     },
     "execution_count": 29,
     "metadata": {},
     "output_type": "execute_result"
    }
   ],
   "source": [
    "df.isnull().sum()"
   ]
  },
  {
   "cell_type": "code",
   "execution_count": 30,
   "id": "762dea14",
   "metadata": {},
   "outputs": [
    {
     "data": {
      "text/plain": [
       "Index(['symbol', 'eps', 'pe', 'pbv', 'percentyield', 'time', 'close_price',\n",
       "       'high_price', 'low_price', 'open_price', 'value', 'volume',\n",
       "       'marketcap'],\n",
       "      dtype='object')"
      ]
     },
     "execution_count": 30,
     "metadata": {},
     "output_type": "execute_result"
    }
   ],
   "source": [
    "df.columns"
   ]
  },
  {
   "cell_type": "code",
   "execution_count": 31,
   "id": "99757b32",
   "metadata": {},
   "outputs": [],
   "source": [
    "df_fun2 = df.drop(columns=['time',\n",
    "       'close_price', 'high_price', 'low_price', 'open_price', 'value'])"
   ]
  },
  {
   "cell_type": "markdown",
   "id": "88bca421",
   "metadata": {},
   "source": [
    "# 📊 การแบ่งกลุ่มหุ้นตามปัจจัยพื้นฐาน (Fundamental Group)\n",
    "\n",
    "การจัดกลุ่มหุ้นด้วยปัจจัยพื้นฐาน (Fundamental) ใช้ตัวชี้วัดทางการเงินหลัก 5 ตัว ได้แก่:\n",
    "\n",
    "* **EPS (Earnings Per Share)** → กำไรต่อหุ้น ยิ่งสูงยิ่งดี\n",
    "* **PE (Price-to-Earnings Ratio)** → ราคาหุ้นเทียบกับกำไร ยิ่งต่ำยิ่งดี\n",
    "* **PBV (Price-to-Book Value Ratio)** → ราคาหุ้นเทียบกับมูลค่าทางบัญชี แสดงระดับการประเมินมูลค่า\n",
    "* **Percent Yield (Dividend Yield)** → อัตราผลตอบแทนจากเงินปันผล (%) ยิ่งสูงยิ่งดี\n",
    "* **Market Cap (Market Capitalization)** → มูลค่าตลาด ยิ่งสูงยิ่งมั่นคง\n",
    "\n",
    "---\n",
    "\n",
    "## 🔎 ขั้นตอนการคำนวณ\n",
    "\n",
    "1. **เลือกข้อมูลพื้นฐาน (Features)**\n",
    "   นำค่า `eps, pe, pbv, percentyield, marketcap` ของหุ้นแต่ละตัวมาใช้\n",
    "\n",
    "2. **ทำการ Standardization (Z-score Normalization)**\n",
    "   แปลงค่าแต่ละ feature ให้อยู่ในสเกลเดียวกัน (ค่าเฉลี่ย = 0, ส่วนเบี่ยงเบนมาตรฐาน = 1) เพื่อไม่ให้ค่าที่มีขนาดใหญ่ เช่น Market Cap ไปครอบงำค่าคะแนนรวม\n",
    "\n",
    "3. **สร้างคะแนนรวม (Score)**\n",
    "   รวมค่าที่ผ่านการปรับสเกลแล้วเป็นคะแนนเดียว\n",
    "\n",
    "   * `+ EPS` → EPS สูง ดี\n",
    "   * `- PE` → PE ต่ำ ดี\n",
    "   * `+ PBV` → PBV สูง (สะท้อนการเติบโต)\n",
    "   * `+ Dividend Yield` → ปันผลสูง ดี\n",
    "   * `+ Market Cap` → บริษัทใหญ่มั่นคง\n",
    "\n",
    "   สูตรคะแนนรวม:\n",
    "\n",
    "   ```\n",
    "   Score = (EPS_scaled) - (PE_scaled) + (PBV_scaled) + (Yield_scaled) + (MarketCap_scaled)\n",
    "   ```\n",
    "\n",
    "4. **แบ่งออกเป็น 5 กลุ่มด้วย Quantile (qcut)**\n",
    "\n",
    "   * A = Top 20% (พื้นฐานแข็งแกร่งที่สุด)\n",
    "   * B = 20–40% (พื้นฐานดี)\n",
    "   * C = 40–60% (พื้นฐานปานกลาง)\n",
    "   * D = 60–80% (พื้นฐานอ่อน)\n",
    "   * E = Bottom 20% (พื้นฐานอ่อนที่สุด)\n",
    "\n",
    "---\n",
    "\n",
    "## 🏷 การตีความ\n",
    "\n",
    "* **A** → หุ้นที่มีปัจจัยพื้นฐานดีที่สุด เหมาะกับการลงทุนระยะยาว\n",
    "* **B** → หุ้นพื้นฐานดี มีศักยภาพในการเติบโต\n",
    "* **C** → หุ้นพื้นฐานปานกลาง ความเสี่ยง/โอกาสสมดุล\n",
    "* **D** → หุ้นพื้นฐานอ่อน เสี่ยงสูงขึ้น\n",
    "* **E** → หุ้นพื้นฐานอ่อนที่สุด ควรหลีกเลี่ยง\n"
   ]
  },
  {
   "cell_type": "code",
   "execution_count": 32,
   "id": "89058d4c",
   "metadata": {},
   "outputs": [
    {
     "name": "stdout",
     "output_type": "stream",
     "text": [
      "  symbol      eps     pe   pbv  percentyield      marketcap stat_group\n",
      "0   PPPM  0.02000   0.00  0.70          0.00  153688.502991          B\n",
      "1   TPCH  0.24112   7.90  0.34         13.91  162340.635979          E\n",
      "2   POLY  0.27632  12.89  2.42          6.38   35444.999027          E\n",
      "3   VCOM  0.21428   7.85  1.48         10.79  837750.000000          E\n",
      "4    KDH  4.12186  10.62  1.93          3.01  102000.000000          E\n"
     ]
    }
   ],
   "source": [
    "import pandas as pd\n",
    "from sklearn.preprocessing import StandardScaler\n",
    "\n",
    "# ✅ เลือก features\n",
    "features = ['eps', 'pe', 'pbv', 'percentyield', 'marketcap']\n",
    "X = df_fun2[features].dropna().copy()\n",
    "\n",
    "# ✅ Standardization (Z-score)\n",
    "scaler = StandardScaler()\n",
    "X_scaled = scaler.fit_transform(X)\n",
    "X_scaled_df = pd.DataFrame(X_scaled, columns=features, index=X.index)\n",
    "\n",
    "# ✅ สร้างคะแนนรวม (ปรับเครื่องหมายตาม logic)\n",
    "X_scaled_df['score'] = (\n",
    "    X_scaled_df['eps'] - X_scaled_df['pe'] +\n",
    "    X_scaled_df['pbv'] + X_scaled_df['percentyield'] +\n",
    "    X_scaled_df['marketcap']\n",
    ")\n",
    "\n",
    "# ✅ แบ่งออกเป็น 5 กลุ่มตาม quantile แล้วใช้ label = ['a','b','c','d','e']\n",
    "df_fun2.loc[X.index, 'stat_group'] = pd.qcut(\n",
    "    X_scaled_df['score'],\n",
    "    5,\n",
    "    labels=['A','B','C','D','E']\n",
    ")\n",
    "\n",
    "# ✅ ดูผลลัพธ์\n",
    "print(df_fun2[['symbol','eps','pe','pbv','percentyield','marketcap','stat_group']].head())\n"
   ]
  },
  {
   "cell_type": "code",
   "execution_count": 33,
   "id": "7e7665fb",
   "metadata": {},
   "outputs": [
    {
     "data": {
      "text/html": [
       "<div>\n",
       "<style scoped>\n",
       "    .dataframe tbody tr th:only-of-type {\n",
       "        vertical-align: middle;\n",
       "    }\n",
       "\n",
       "    .dataframe tbody tr th {\n",
       "        vertical-align: top;\n",
       "    }\n",
       "\n",
       "    .dataframe thead th {\n",
       "        text-align: right;\n",
       "    }\n",
       "</style>\n",
       "<table border=\"1\" class=\"dataframe\">\n",
       "  <thead>\n",
       "    <tr style=\"text-align: right;\">\n",
       "      <th></th>\n",
       "      <th>symbol</th>\n",
       "      <th>eps</th>\n",
       "      <th>pe</th>\n",
       "      <th>pbv</th>\n",
       "      <th>percentyield</th>\n",
       "      <th>volume</th>\n",
       "      <th>marketcap</th>\n",
       "      <th>stat_group</th>\n",
       "    </tr>\n",
       "  </thead>\n",
       "  <tbody>\n",
       "    <tr>\n",
       "      <th>0</th>\n",
       "      <td>PPPM</td>\n",
       "      <td>0.02000</td>\n",
       "      <td>0.00</td>\n",
       "      <td>0.70</td>\n",
       "      <td>0.00</td>\n",
       "      <td>313650</td>\n",
       "      <td>153688.502991</td>\n",
       "      <td>B</td>\n",
       "    </tr>\n",
       "    <tr>\n",
       "      <th>1</th>\n",
       "      <td>TPCH</td>\n",
       "      <td>0.24112</td>\n",
       "      <td>7.90</td>\n",
       "      <td>0.34</td>\n",
       "      <td>13.91</td>\n",
       "      <td>52708</td>\n",
       "      <td>162340.635979</td>\n",
       "      <td>E</td>\n",
       "    </tr>\n",
       "    <tr>\n",
       "      <th>2</th>\n",
       "      <td>POLY</td>\n",
       "      <td>0.27632</td>\n",
       "      <td>12.89</td>\n",
       "      <td>2.42</td>\n",
       "      <td>6.38</td>\n",
       "      <td>5100</td>\n",
       "      <td>35444.999027</td>\n",
       "      <td>E</td>\n",
       "    </tr>\n",
       "    <tr>\n",
       "      <th>3</th>\n",
       "      <td>VCOM</td>\n",
       "      <td>0.21428</td>\n",
       "      <td>7.85</td>\n",
       "      <td>1.48</td>\n",
       "      <td>10.79</td>\n",
       "      <td>335100</td>\n",
       "      <td>837750.000000</td>\n",
       "      <td>E</td>\n",
       "    </tr>\n",
       "    <tr>\n",
       "      <th>4</th>\n",
       "      <td>KDH</td>\n",
       "      <td>4.12186</td>\n",
       "      <td>10.62</td>\n",
       "      <td>1.93</td>\n",
       "      <td>3.01</td>\n",
       "      <td>1200</td>\n",
       "      <td>102000.000000</td>\n",
       "      <td>E</td>\n",
       "    </tr>\n",
       "    <tr>\n",
       "      <th>5</th>\n",
       "      <td>NVD</td>\n",
       "      <td>-0.00942</td>\n",
       "      <td>38.87</td>\n",
       "      <td>0.32</td>\n",
       "      <td>0.00</td>\n",
       "      <td>16301</td>\n",
       "      <td>16301.000000</td>\n",
       "      <td>A</td>\n",
       "    </tr>\n",
       "    <tr>\n",
       "      <th>6</th>\n",
       "      <td>JDF</td>\n",
       "      <td>0.04224</td>\n",
       "      <td>12.19</td>\n",
       "      <td>1.35</td>\n",
       "      <td>4.85</td>\n",
       "      <td>200</td>\n",
       "      <td>368.000007</td>\n",
       "      <td>C</td>\n",
       "    </tr>\n",
       "    <tr>\n",
       "      <th>7</th>\n",
       "      <td>SVR</td>\n",
       "      <td>-0.03402</td>\n",
       "      <td>0.00</td>\n",
       "      <td>0.34</td>\n",
       "      <td>0.00</td>\n",
       "      <td>47400</td>\n",
       "      <td>27491.999209</td>\n",
       "      <td>A</td>\n",
       "    </tr>\n",
       "    <tr>\n",
       "      <th>8</th>\n",
       "      <td>SUSCO</td>\n",
       "      <td>0.11000</td>\n",
       "      <td>8.75</td>\n",
       "      <td>0.55</td>\n",
       "      <td>8.37</td>\n",
       "      <td>152516</td>\n",
       "      <td>417893.841455</td>\n",
       "      <td>D</td>\n",
       "    </tr>\n",
       "    <tr>\n",
       "      <th>9</th>\n",
       "      <td>STP</td>\n",
       "      <td>0.92828</td>\n",
       "      <td>6.74</td>\n",
       "      <td>1.37</td>\n",
       "      <td>5.60</td>\n",
       "      <td>7600</td>\n",
       "      <td>74480.001450</td>\n",
       "      <td>D</td>\n",
       "    </tr>\n",
       "  </tbody>\n",
       "</table>\n",
       "</div>"
      ],
      "text/plain": [
       "  symbol      eps     pe   pbv  percentyield  volume      marketcap stat_group\n",
       "0   PPPM  0.02000   0.00  0.70          0.00  313650  153688.502991          B\n",
       "1   TPCH  0.24112   7.90  0.34         13.91   52708  162340.635979          E\n",
       "2   POLY  0.27632  12.89  2.42          6.38    5100   35444.999027          E\n",
       "3   VCOM  0.21428   7.85  1.48         10.79  335100  837750.000000          E\n",
       "4    KDH  4.12186  10.62  1.93          3.01    1200  102000.000000          E\n",
       "5    NVD -0.00942  38.87  0.32          0.00   16301   16301.000000          A\n",
       "6    JDF  0.04224  12.19  1.35          4.85     200     368.000007          C\n",
       "7    SVR -0.03402   0.00  0.34          0.00   47400   27491.999209          A\n",
       "8  SUSCO  0.11000   8.75  0.55          8.37  152516  417893.841455          D\n",
       "9    STP  0.92828   6.74  1.37          5.60    7600   74480.001450          D"
      ]
     },
     "execution_count": 33,
     "metadata": {},
     "output_type": "execute_result"
    }
   ],
   "source": [
    "df_fun2.head(10)"
   ]
  },
  {
   "cell_type": "code",
   "execution_count": 34,
   "id": "8f919a8d",
   "metadata": {},
   "outputs": [],
   "source": [
    "df['quadrant'] = df_fun2['stat_group'].astype(str) + df_result['trend_grade'].astype(str)\n"
   ]
  },
  {
   "cell_type": "code",
   "execution_count": 35,
   "id": "4177d383",
   "metadata": {},
   "outputs": [
    {
     "data": {
      "text/html": [
       "<div>\n",
       "<style scoped>\n",
       "    .dataframe tbody tr th:only-of-type {\n",
       "        vertical-align: middle;\n",
       "    }\n",
       "\n",
       "    .dataframe tbody tr th {\n",
       "        vertical-align: top;\n",
       "    }\n",
       "\n",
       "    .dataframe thead th {\n",
       "        text-align: right;\n",
       "    }\n",
       "</style>\n",
       "<table border=\"1\" class=\"dataframe\">\n",
       "  <thead>\n",
       "    <tr style=\"text-align: right;\">\n",
       "      <th></th>\n",
       "      <th>symbol</th>\n",
       "      <th>eps</th>\n",
       "      <th>pe</th>\n",
       "      <th>pbv</th>\n",
       "      <th>percentyield</th>\n",
       "      <th>time</th>\n",
       "      <th>close_price</th>\n",
       "      <th>high_price</th>\n",
       "      <th>low_price</th>\n",
       "      <th>open_price</th>\n",
       "      <th>value</th>\n",
       "      <th>volume</th>\n",
       "      <th>marketcap</th>\n",
       "      <th>quadrant</th>\n",
       "    </tr>\n",
       "  </thead>\n",
       "  <tbody>\n",
       "    <tr>\n",
       "      <th>0</th>\n",
       "      <td>PPPM</td>\n",
       "      <td>0.02000</td>\n",
       "      <td>0.00</td>\n",
       "      <td>0.70</td>\n",
       "      <td>0.00</td>\n",
       "      <td>2025-05-28</td>\n",
       "      <td>0.49</td>\n",
       "      <td>0.51</td>\n",
       "      <td>0.48</td>\n",
       "      <td>0.49</td>\n",
       "      <td>0.0</td>\n",
       "      <td>313650</td>\n",
       "      <td>153688.502991</td>\n",
       "      <td>Bd</td>\n",
       "    </tr>\n",
       "    <tr>\n",
       "      <th>1</th>\n",
       "      <td>TPCH</td>\n",
       "      <td>0.24112</td>\n",
       "      <td>7.90</td>\n",
       "      <td>0.34</td>\n",
       "      <td>13.91</td>\n",
       "      <td>2025-05-28</td>\n",
       "      <td>3.08</td>\n",
       "      <td>3.10</td>\n",
       "      <td>3.04</td>\n",
       "      <td>3.10</td>\n",
       "      <td>0.0</td>\n",
       "      <td>52708</td>\n",
       "      <td>162340.635979</td>\n",
       "      <td>Ec</td>\n",
       "    </tr>\n",
       "    <tr>\n",
       "      <th>2</th>\n",
       "      <td>POLY</td>\n",
       "      <td>0.27632</td>\n",
       "      <td>12.89</td>\n",
       "      <td>2.42</td>\n",
       "      <td>6.38</td>\n",
       "      <td>2025-05-28</td>\n",
       "      <td>6.95</td>\n",
       "      <td>6.95</td>\n",
       "      <td>6.65</td>\n",
       "      <td>6.90</td>\n",
       "      <td>0.0</td>\n",
       "      <td>5100</td>\n",
       "      <td>35444.999027</td>\n",
       "      <td>Eb</td>\n",
       "    </tr>\n",
       "    <tr>\n",
       "      <th>3</th>\n",
       "      <td>VCOM</td>\n",
       "      <td>0.21428</td>\n",
       "      <td>7.85</td>\n",
       "      <td>1.48</td>\n",
       "      <td>10.79</td>\n",
       "      <td>2025-05-28</td>\n",
       "      <td>2.50</td>\n",
       "      <td>2.62</td>\n",
       "      <td>2.50</td>\n",
       "      <td>2.56</td>\n",
       "      <td>0.0</td>\n",
       "      <td>335100</td>\n",
       "      <td>837750.000000</td>\n",
       "      <td>Ed</td>\n",
       "    </tr>\n",
       "    <tr>\n",
       "      <th>4</th>\n",
       "      <td>KDH</td>\n",
       "      <td>4.12186</td>\n",
       "      <td>10.62</td>\n",
       "      <td>1.93</td>\n",
       "      <td>3.01</td>\n",
       "      <td>2025-05-22</td>\n",
       "      <td>85.00</td>\n",
       "      <td>85.00</td>\n",
       "      <td>84.75</td>\n",
       "      <td>85.00</td>\n",
       "      <td>0.0</td>\n",
       "      <td>1200</td>\n",
       "      <td>102000.000000</td>\n",
       "      <td>Ed</td>\n",
       "    </tr>\n",
       "    <tr>\n",
       "      <th>5</th>\n",
       "      <td>NVD</td>\n",
       "      <td>-0.00942</td>\n",
       "      <td>38.87</td>\n",
       "      <td>0.32</td>\n",
       "      <td>0.00</td>\n",
       "      <td>2025-05-28</td>\n",
       "      <td>1.00</td>\n",
       "      <td>1.02</td>\n",
       "      <td>1.00</td>\n",
       "      <td>1.02</td>\n",
       "      <td>0.0</td>\n",
       "      <td>16301</td>\n",
       "      <td>16301.000000</td>\n",
       "      <td>Ad</td>\n",
       "    </tr>\n",
       "    <tr>\n",
       "      <th>6</th>\n",
       "      <td>JDF</td>\n",
       "      <td>0.04224</td>\n",
       "      <td>12.19</td>\n",
       "      <td>1.35</td>\n",
       "      <td>4.85</td>\n",
       "      <td>2025-05-28</td>\n",
       "      <td>1.84</td>\n",
       "      <td>1.85</td>\n",
       "      <td>1.84</td>\n",
       "      <td>1.85</td>\n",
       "      <td>0.0</td>\n",
       "      <td>200</td>\n",
       "      <td>368.000007</td>\n",
       "      <td>Cd</td>\n",
       "    </tr>\n",
       "    <tr>\n",
       "      <th>7</th>\n",
       "      <td>SVR</td>\n",
       "      <td>-0.03402</td>\n",
       "      <td>0.00</td>\n",
       "      <td>0.34</td>\n",
       "      <td>0.00</td>\n",
       "      <td>2025-05-28</td>\n",
       "      <td>0.58</td>\n",
       "      <td>0.59</td>\n",
       "      <td>0.57</td>\n",
       "      <td>0.58</td>\n",
       "      <td>0.0</td>\n",
       "      <td>47400</td>\n",
       "      <td>27491.999209</td>\n",
       "      <td>Ad</td>\n",
       "    </tr>\n",
       "    <tr>\n",
       "      <th>8</th>\n",
       "      <td>SUSCO</td>\n",
       "      <td>0.11000</td>\n",
       "      <td>8.75</td>\n",
       "      <td>0.55</td>\n",
       "      <td>8.37</td>\n",
       "      <td>2025-05-28</td>\n",
       "      <td>2.74</td>\n",
       "      <td>2.74</td>\n",
       "      <td>2.70</td>\n",
       "      <td>2.70</td>\n",
       "      <td>0.0</td>\n",
       "      <td>152516</td>\n",
       "      <td>417893.841455</td>\n",
       "      <td>Dd</td>\n",
       "    </tr>\n",
       "    <tr>\n",
       "      <th>9</th>\n",
       "      <td>STP</td>\n",
       "      <td>0.92828</td>\n",
       "      <td>6.74</td>\n",
       "      <td>1.37</td>\n",
       "      <td>5.60</td>\n",
       "      <td>2025-05-28</td>\n",
       "      <td>9.80</td>\n",
       "      <td>9.90</td>\n",
       "      <td>9.70</td>\n",
       "      <td>9.70</td>\n",
       "      <td>0.0</td>\n",
       "      <td>7600</td>\n",
       "      <td>74480.001450</td>\n",
       "      <td>Dd</td>\n",
       "    </tr>\n",
       "  </tbody>\n",
       "</table>\n",
       "</div>"
      ],
      "text/plain": [
       "  symbol      eps     pe   pbv  percentyield       time  close_price  \\\n",
       "0   PPPM  0.02000   0.00  0.70          0.00 2025-05-28         0.49   \n",
       "1   TPCH  0.24112   7.90  0.34         13.91 2025-05-28         3.08   \n",
       "2   POLY  0.27632  12.89  2.42          6.38 2025-05-28         6.95   \n",
       "3   VCOM  0.21428   7.85  1.48         10.79 2025-05-28         2.50   \n",
       "4    KDH  4.12186  10.62  1.93          3.01 2025-05-22        85.00   \n",
       "5    NVD -0.00942  38.87  0.32          0.00 2025-05-28         1.00   \n",
       "6    JDF  0.04224  12.19  1.35          4.85 2025-05-28         1.84   \n",
       "7    SVR -0.03402   0.00  0.34          0.00 2025-05-28         0.58   \n",
       "8  SUSCO  0.11000   8.75  0.55          8.37 2025-05-28         2.74   \n",
       "9    STP  0.92828   6.74  1.37          5.60 2025-05-28         9.80   \n",
       "\n",
       "   high_price  low_price  open_price  value  volume      marketcap quadrant  \n",
       "0        0.51       0.48        0.49    0.0  313650  153688.502991       Bd  \n",
       "1        3.10       3.04        3.10    0.0   52708  162340.635979       Ec  \n",
       "2        6.95       6.65        6.90    0.0    5100   35444.999027       Eb  \n",
       "3        2.62       2.50        2.56    0.0  335100  837750.000000       Ed  \n",
       "4       85.00      84.75       85.00    0.0    1200  102000.000000       Ed  \n",
       "5        1.02       1.00        1.02    0.0   16301   16301.000000       Ad  \n",
       "6        1.85       1.84        1.85    0.0     200     368.000007       Cd  \n",
       "7        0.59       0.57        0.58    0.0   47400   27491.999209       Ad  \n",
       "8        2.74       2.70        2.70    0.0  152516  417893.841455       Dd  \n",
       "9        9.90       9.70        9.70    0.0    7600   74480.001450       Dd  "
      ]
     },
     "execution_count": 35,
     "metadata": {},
     "output_type": "execute_result"
    }
   ],
   "source": [
    "df.head(10) "
   ]
  },
  {
   "cell_type": "code",
   "execution_count": 36,
   "id": "b3d0a8b4",
   "metadata": {},
   "outputs": [
    {
     "data": {
      "application/vnd.plotly.v1+json": {
       "config": {
        "plotlyServerURL": "https://plot.ly"
       },
       "data": [
        {
         "cells": {
          "align": "center",
          "fill": {
           "color": [
            [
             "#2ecc71",
             "#2ecc71",
             "#2ecc71",
             "#2ecc71",
             "#2ecc71"
            ],
            [
             "#58d68d",
             "#58d68d",
             "#58d68d",
             "#58d68d",
             "#58d68d"
            ],
            [
             "#f4d03f",
             "#f4d03f",
             "#f4d03f",
             "#f4d03f",
             "#f4d03f"
            ],
            [
             "#f39c12",
             "#f39c12",
             "#f39c12",
             "#f39c12",
             "#f39c12"
            ],
            [
             "#e74c3c",
             "#e74c3c",
             "#e74c3c",
             "#e74c3c",
             "#e74c3c"
            ]
           ]
          },
          "font": {
           "color": "white",
           "size": 12
          },
          "height": 100,
          "values": [
           [
            "<b>Aa</b><br>WORK<br>FANCY<br>DPAINT<br>PTTGC<br>DEMCO",
            "<b>Ab</b><br>AJ<br>RICHY<br>MJD<br>FSX<br>TCJ<br>MK<br>BGT<br>CFRESH<br>TWP<br>TSE",
            "<b>Ac</b><br>TPOLY<br>UREKA<br>TCMC<br>SKE<br>BTW<br>B<br>KCM<br>GEL<br>SGF<br>SAMCO",
            "<b>Ad</b><br>NVD<br>SVR<br>PTECH<br>SIAM<br>ITEL<br>TIGER<br>SAF<br>CGD<br>PLAT<br>TSI",
            "<b>Ae</b><br>-"
           ],
           [
            "<b>Ba</b><br>NDR<br>ASN<br>BSRC<br>AMATAV<br>TNL",
            "<b>Bb</b><br>VGI<br>KSL<br>UMS<br>PANEL<br>MVP<br>SMT<br>PRINC<br>A<br>UBE<br>AS",
            "<b>Bc</b><br>PG<br>RPC<br>XBIO<br>KTMS<br>SGC<br>TKC<br>IVF<br>THG<br>JR<br>KC",
            "<b>Bd</b><br>PPPM<br>MANRIN<br>SFT<br>SHR<br>TGH<br>NPK<br>BIOTEC<br>LDC<br>ITD<br>UOBKH",
            "<b>Be</b><br>-"
           ],
           [
            "<b>Ca</b><br>CM<br>STI<br>SAWAD<br>2S<br>MEDEZE<br>TBN<br>OR<br>MALEE<br>GPSC<br>CMR",
            "<b>Cb</b><br>BIG<br>MAJOR<br>SUTHA<br>BEAUTY<br>ASK<br>TTA<br>LHFG<br>PSH<br>MTC<br>BJC",
            "<b>Cc</b><br>CRC<br>LEE<br>SNPS<br>RAM<br>SCGD<br>GFPT<br>ESTAR<br>BCPG<br>ACG<br>DEXON",
            "<b>Cd</b><br>JDF<br>PLUS<br>MGC<br>TK<br>LPN<br>GBX<br>WINDOW<br>TRP<br>PRG<br>KOOL",
            "<b>Ce</b><br>-"
           ],
           [
            "<b>Da</b><br>LRH<br>GFC<br>SEAOIL<br>YUASA<br>TPL<br>RJH<br>BM<br>LH<br>CPF",
            "<b>Db</b><br>SPREME<br>MGT<br>SMART<br>QH<br>EURO<br>ERW<br>CPI<br>CPW",
            "<b>Dc</b><br>PCSGH<br>PDJ<br>MGI<br>S&J<br>SWC<br>JMART<br>MOONG<br>PIMO<br>DCC<br>QTC",
            "<b>Dd</b><br>SUSCO<br>STP<br>NCP<br>ASP<br>SIS<br>PSP<br>TAN<br>OKJ<br>SFLEX<br>PCE",
            "<b>De</b><br>-"
           ],
           [
            "<b>Ea</b><br>CPALL<br>TNR<br>FTE<br>SABINA",
            "<b>Eb</b><br>POLY<br>ITC<br>ICHI<br>NER<br>UVAN<br>NOBLE<br>SUC<br>COM7<br>FE<br>XO",
            "<b>Ec</b><br>TPCH<br>BRR<br>DMT<br>NEX<br>GUNKUL<br>TOPP<br>MC<br>SPC<br>TISCO<br>TOP",
            "<b>Ed</b><br>VCOM<br>KDH<br>EA<br>ROJNA<br>ADVICE<br>SAT<br>TASCO<br>AYUD<br>CPAXT<br>TPBI",
            "<b>Ee</b><br>-"
           ]
          ]
         },
         "header": {
          "align": "center",
          "fill": {
           "color": "#dcdcdc"
          },
          "font": {
           "color": "black",
           "size": 14
          }
         },
         "type": "table"
        }
       ],
       "layout": {
        "template": {
         "data": {
          "bar": [
           {
            "error_x": {
             "color": "#2a3f5f"
            },
            "error_y": {
             "color": "#2a3f5f"
            },
            "marker": {
             "line": {
              "color": "#E5ECF6",
              "width": 0.5
             },
             "pattern": {
              "fillmode": "overlay",
              "size": 10,
              "solidity": 0.2
             }
            },
            "type": "bar"
           }
          ],
          "barpolar": [
           {
            "marker": {
             "line": {
              "color": "#E5ECF6",
              "width": 0.5
             },
             "pattern": {
              "fillmode": "overlay",
              "size": 10,
              "solidity": 0.2
             }
            },
            "type": "barpolar"
           }
          ],
          "carpet": [
           {
            "aaxis": {
             "endlinecolor": "#2a3f5f",
             "gridcolor": "white",
             "linecolor": "white",
             "minorgridcolor": "white",
             "startlinecolor": "#2a3f5f"
            },
            "baxis": {
             "endlinecolor": "#2a3f5f",
             "gridcolor": "white",
             "linecolor": "white",
             "minorgridcolor": "white",
             "startlinecolor": "#2a3f5f"
            },
            "type": "carpet"
           }
          ],
          "choropleth": [
           {
            "colorbar": {
             "outlinewidth": 0,
             "ticks": ""
            },
            "type": "choropleth"
           }
          ],
          "contour": [
           {
            "colorbar": {
             "outlinewidth": 0,
             "ticks": ""
            },
            "colorscale": [
             [
              0,
              "#0d0887"
             ],
             [
              0.1111111111111111,
              "#46039f"
             ],
             [
              0.2222222222222222,
              "#7201a8"
             ],
             [
              0.3333333333333333,
              "#9c179e"
             ],
             [
              0.4444444444444444,
              "#bd3786"
             ],
             [
              0.5555555555555556,
              "#d8576b"
             ],
             [
              0.6666666666666666,
              "#ed7953"
             ],
             [
              0.7777777777777778,
              "#fb9f3a"
             ],
             [
              0.8888888888888888,
              "#fdca26"
             ],
             [
              1,
              "#f0f921"
             ]
            ],
            "type": "contour"
           }
          ],
          "contourcarpet": [
           {
            "colorbar": {
             "outlinewidth": 0,
             "ticks": ""
            },
            "type": "contourcarpet"
           }
          ],
          "heatmap": [
           {
            "colorbar": {
             "outlinewidth": 0,
             "ticks": ""
            },
            "colorscale": [
             [
              0,
              "#0d0887"
             ],
             [
              0.1111111111111111,
              "#46039f"
             ],
             [
              0.2222222222222222,
              "#7201a8"
             ],
             [
              0.3333333333333333,
              "#9c179e"
             ],
             [
              0.4444444444444444,
              "#bd3786"
             ],
             [
              0.5555555555555556,
              "#d8576b"
             ],
             [
              0.6666666666666666,
              "#ed7953"
             ],
             [
              0.7777777777777778,
              "#fb9f3a"
             ],
             [
              0.8888888888888888,
              "#fdca26"
             ],
             [
              1,
              "#f0f921"
             ]
            ],
            "type": "heatmap"
           }
          ],
          "histogram": [
           {
            "marker": {
             "pattern": {
              "fillmode": "overlay",
              "size": 10,
              "solidity": 0.2
             }
            },
            "type": "histogram"
           }
          ],
          "histogram2d": [
           {
            "colorbar": {
             "outlinewidth": 0,
             "ticks": ""
            },
            "colorscale": [
             [
              0,
              "#0d0887"
             ],
             [
              0.1111111111111111,
              "#46039f"
             ],
             [
              0.2222222222222222,
              "#7201a8"
             ],
             [
              0.3333333333333333,
              "#9c179e"
             ],
             [
              0.4444444444444444,
              "#bd3786"
             ],
             [
              0.5555555555555556,
              "#d8576b"
             ],
             [
              0.6666666666666666,
              "#ed7953"
             ],
             [
              0.7777777777777778,
              "#fb9f3a"
             ],
             [
              0.8888888888888888,
              "#fdca26"
             ],
             [
              1,
              "#f0f921"
             ]
            ],
            "type": "histogram2d"
           }
          ],
          "histogram2dcontour": [
           {
            "colorbar": {
             "outlinewidth": 0,
             "ticks": ""
            },
            "colorscale": [
             [
              0,
              "#0d0887"
             ],
             [
              0.1111111111111111,
              "#46039f"
             ],
             [
              0.2222222222222222,
              "#7201a8"
             ],
             [
              0.3333333333333333,
              "#9c179e"
             ],
             [
              0.4444444444444444,
              "#bd3786"
             ],
             [
              0.5555555555555556,
              "#d8576b"
             ],
             [
              0.6666666666666666,
              "#ed7953"
             ],
             [
              0.7777777777777778,
              "#fb9f3a"
             ],
             [
              0.8888888888888888,
              "#fdca26"
             ],
             [
              1,
              "#f0f921"
             ]
            ],
            "type": "histogram2dcontour"
           }
          ],
          "mesh3d": [
           {
            "colorbar": {
             "outlinewidth": 0,
             "ticks": ""
            },
            "type": "mesh3d"
           }
          ],
          "parcoords": [
           {
            "line": {
             "colorbar": {
              "outlinewidth": 0,
              "ticks": ""
             }
            },
            "type": "parcoords"
           }
          ],
          "pie": [
           {
            "automargin": true,
            "type": "pie"
           }
          ],
          "scatter": [
           {
            "fillpattern": {
             "fillmode": "overlay",
             "size": 10,
             "solidity": 0.2
            },
            "type": "scatter"
           }
          ],
          "scatter3d": [
           {
            "line": {
             "colorbar": {
              "outlinewidth": 0,
              "ticks": ""
             }
            },
            "marker": {
             "colorbar": {
              "outlinewidth": 0,
              "ticks": ""
             }
            },
            "type": "scatter3d"
           }
          ],
          "scattercarpet": [
           {
            "marker": {
             "colorbar": {
              "outlinewidth": 0,
              "ticks": ""
             }
            },
            "type": "scattercarpet"
           }
          ],
          "scattergeo": [
           {
            "marker": {
             "colorbar": {
              "outlinewidth": 0,
              "ticks": ""
             }
            },
            "type": "scattergeo"
           }
          ],
          "scattergl": [
           {
            "marker": {
             "colorbar": {
              "outlinewidth": 0,
              "ticks": ""
             }
            },
            "type": "scattergl"
           }
          ],
          "scattermap": [
           {
            "marker": {
             "colorbar": {
              "outlinewidth": 0,
              "ticks": ""
             }
            },
            "type": "scattermap"
           }
          ],
          "scattermapbox": [
           {
            "marker": {
             "colorbar": {
              "outlinewidth": 0,
              "ticks": ""
             }
            },
            "type": "scattermapbox"
           }
          ],
          "scatterpolar": [
           {
            "marker": {
             "colorbar": {
              "outlinewidth": 0,
              "ticks": ""
             }
            },
            "type": "scatterpolar"
           }
          ],
          "scatterpolargl": [
           {
            "marker": {
             "colorbar": {
              "outlinewidth": 0,
              "ticks": ""
             }
            },
            "type": "scatterpolargl"
           }
          ],
          "scatterternary": [
           {
            "marker": {
             "colorbar": {
              "outlinewidth": 0,
              "ticks": ""
             }
            },
            "type": "scatterternary"
           }
          ],
          "surface": [
           {
            "colorbar": {
             "outlinewidth": 0,
             "ticks": ""
            },
            "colorscale": [
             [
              0,
              "#0d0887"
             ],
             [
              0.1111111111111111,
              "#46039f"
             ],
             [
              0.2222222222222222,
              "#7201a8"
             ],
             [
              0.3333333333333333,
              "#9c179e"
             ],
             [
              0.4444444444444444,
              "#bd3786"
             ],
             [
              0.5555555555555556,
              "#d8576b"
             ],
             [
              0.6666666666666666,
              "#ed7953"
             ],
             [
              0.7777777777777778,
              "#fb9f3a"
             ],
             [
              0.8888888888888888,
              "#fdca26"
             ],
             [
              1,
              "#f0f921"
             ]
            ],
            "type": "surface"
           }
          ],
          "table": [
           {
            "cells": {
             "fill": {
              "color": "#EBF0F8"
             },
             "line": {
              "color": "white"
             }
            },
            "header": {
             "fill": {
              "color": "#C8D4E3"
             },
             "line": {
              "color": "white"
             }
            },
            "type": "table"
           }
          ]
         },
         "layout": {
          "annotationdefaults": {
           "arrowcolor": "#2a3f5f",
           "arrowhead": 0,
           "arrowwidth": 1
          },
          "autotypenumbers": "strict",
          "coloraxis": {
           "colorbar": {
            "outlinewidth": 0,
            "ticks": ""
           }
          },
          "colorscale": {
           "diverging": [
            [
             0,
             "#8e0152"
            ],
            [
             0.1,
             "#c51b7d"
            ],
            [
             0.2,
             "#de77ae"
            ],
            [
             0.3,
             "#f1b6da"
            ],
            [
             0.4,
             "#fde0ef"
            ],
            [
             0.5,
             "#f7f7f7"
            ],
            [
             0.6,
             "#e6f5d0"
            ],
            [
             0.7,
             "#b8e186"
            ],
            [
             0.8,
             "#7fbc41"
            ],
            [
             0.9,
             "#4d9221"
            ],
            [
             1,
             "#276419"
            ]
           ],
           "sequential": [
            [
             0,
             "#0d0887"
            ],
            [
             0.1111111111111111,
             "#46039f"
            ],
            [
             0.2222222222222222,
             "#7201a8"
            ],
            [
             0.3333333333333333,
             "#9c179e"
            ],
            [
             0.4444444444444444,
             "#bd3786"
            ],
            [
             0.5555555555555556,
             "#d8576b"
            ],
            [
             0.6666666666666666,
             "#ed7953"
            ],
            [
             0.7777777777777778,
             "#fb9f3a"
            ],
            [
             0.8888888888888888,
             "#fdca26"
            ],
            [
             1,
             "#f0f921"
            ]
           ],
           "sequentialminus": [
            [
             0,
             "#0d0887"
            ],
            [
             0.1111111111111111,
             "#46039f"
            ],
            [
             0.2222222222222222,
             "#7201a8"
            ],
            [
             0.3333333333333333,
             "#9c179e"
            ],
            [
             0.4444444444444444,
             "#bd3786"
            ],
            [
             0.5555555555555556,
             "#d8576b"
            ],
            [
             0.6666666666666666,
             "#ed7953"
            ],
            [
             0.7777777777777778,
             "#fb9f3a"
            ],
            [
             0.8888888888888888,
             "#fdca26"
            ],
            [
             1,
             "#f0f921"
            ]
           ]
          },
          "colorway": [
           "#636efa",
           "#EF553B",
           "#00cc96",
           "#ab63fa",
           "#FFA15A",
           "#19d3f3",
           "#FF6692",
           "#B6E880",
           "#FF97FF",
           "#FECB52"
          ],
          "font": {
           "color": "#2a3f5f"
          },
          "geo": {
           "bgcolor": "white",
           "lakecolor": "white",
           "landcolor": "#E5ECF6",
           "showlakes": true,
           "showland": true,
           "subunitcolor": "white"
          },
          "hoverlabel": {
           "align": "left"
          },
          "hovermode": "closest",
          "mapbox": {
           "style": "light"
          },
          "paper_bgcolor": "white",
          "plot_bgcolor": "#E5ECF6",
          "polar": {
           "angularaxis": {
            "gridcolor": "white",
            "linecolor": "white",
            "ticks": ""
           },
           "bgcolor": "#E5ECF6",
           "radialaxis": {
            "gridcolor": "white",
            "linecolor": "white",
            "ticks": ""
           }
          },
          "scene": {
           "xaxis": {
            "backgroundcolor": "#E5ECF6",
            "gridcolor": "white",
            "gridwidth": 2,
            "linecolor": "white",
            "showbackground": true,
            "ticks": "",
            "zerolinecolor": "white"
           },
           "yaxis": {
            "backgroundcolor": "#E5ECF6",
            "gridcolor": "white",
            "gridwidth": 2,
            "linecolor": "white",
            "showbackground": true,
            "ticks": "",
            "zerolinecolor": "white"
           },
           "zaxis": {
            "backgroundcolor": "#E5ECF6",
            "gridcolor": "white",
            "gridwidth": 2,
            "linecolor": "white",
            "showbackground": true,
            "ticks": "",
            "zerolinecolor": "white"
           }
          },
          "shapedefaults": {
           "line": {
            "color": "#2a3f5f"
           }
          },
          "ternary": {
           "aaxis": {
            "gridcolor": "white",
            "linecolor": "white",
            "ticks": ""
           },
           "baxis": {
            "gridcolor": "white",
            "linecolor": "white",
            "ticks": ""
           },
           "bgcolor": "#E5ECF6",
           "caxis": {
            "gridcolor": "white",
            "linecolor": "white",
            "ticks": ""
           }
          },
          "title": {
           "x": 0.05
          },
          "xaxis": {
           "automargin": true,
           "gridcolor": "white",
           "linecolor": "white",
           "ticks": "",
           "title": {
            "standoff": 15
           },
           "zerolinecolor": "white",
           "zerolinewidth": 2
          },
          "yaxis": {
           "automargin": true,
           "gridcolor": "white",
           "linecolor": "white",
           "ticks": "",
           "title": {
            "standoff": 15
           },
           "zerolinecolor": "white",
           "zerolinewidth": 2
          }
         }
        },
        "title": {
         "text": "📊 Stock Quadrant Table (Aa–Ee) จาก Rule-Based or Model"
        }
       }
      }
     },
     "metadata": {},
     "output_type": "display_data"
    }
   ],
   "source": [
    "import plotly.graph_objects as go\n",
    "df_result3=df\n",
    "# ✅ จัดกลุ่มหุ้นตาม quadrant\n",
    "quadrant_groups = df_result3.groupby('quadrant')['symbol'].apply(list).to_dict()\n",
    "\n",
    "# ✅ กำหนดลำดับของแกน\n",
    "financial_levels = ['A', 'B', 'C', 'D', 'E']  # A = Strong fundamentals\n",
    "trend_levels = ['a', 'b', 'c', 'd', 'e']      # a = Bullish, e = Crash\n",
    "\n",
    "# ✅ เตรียมข้อมูลแต่ละเซลล์ในตาราง (5x5)\n",
    "plot_table = []\n",
    "for f in financial_levels:\n",
    "    row = []\n",
    "    for t in trend_levels:\n",
    "        code = f + t\n",
    "        stocks = quadrant_groups.get(code, [])\n",
    "        if stocks:\n",
    "            stock_list = \"<br>\".join(stocks[:10])  # แสดงสูงสุด 10 ตัว\n",
    "            cell_text = f\"<b>{code}</b><br>{stock_list}\"\n",
    "        else:\n",
    "            cell_text = f\"<b>{code}</b><br>-\"\n",
    "        row.append(cell_text)\n",
    "    plot_table.append(row)\n",
    "\n",
    "# ✅ สร้างสีของแต่ละแถวตามกลุ่มพื้นฐาน A–E\n",
    "colors = [[{'A': '#2ecc71', 'B': '#58d68d', 'C': '#f4d03f', 'D': '#f39c12', 'E': '#e74c3c'}[f]]*5 for f in financial_levels]\n",
    "\n",
    "# ✅ Plotly Table\n",
    "fig = go.Figure(data=go.Table(\n",
    "    header=dict(\n",
    "        fill_color=\"#dcdcdc\",\n",
    "        align=\"center\",\n",
    "        font=dict(color=\"black\", size=14)\n",
    "    ),\n",
    "    cells=dict(\n",
    "        values=plot_table,\n",
    "        fill_color=colors,\n",
    "        align=\"center\",\n",
    "        height=100,\n",
    "        font=dict(color=\"white\", size=12)\n",
    "    )\n",
    "))\n",
    "\n",
    "# ✅ ตั้งชื่อกราฟ\n",
    "fig.update_layout(title=\"📊 Stock Quadrant Table (Aa–Ee) จาก Rule-Based or Model\")\n",
    "fig.show()\n"
   ]
  },
  {
   "cell_type": "code",
   "execution_count": 37,
   "id": "297c7383",
   "metadata": {},
   "outputs": [
    {
     "data": {
      "application/vnd.plotly.v1+json": {
       "config": {
        "plotlyServerURL": "https://plot.ly"
       },
       "data": [
        {
         "coloraxis": "coloraxis",
         "hovertemplate": "Trend (a–e): %{x}<br>Fundamental Group (A–E): %{y}<br>Stock Count: %{z}<extra></extra>",
         "name": "0",
         "texttemplate": "%{z}",
         "type": "heatmap",
         "x": [
          "a",
          "b",
          "c",
          "d",
          "e"
         ],
         "xaxis": "x",
         "y": [
          "A",
          "B",
          "C",
          "D",
          "E"
         ],
         "yaxis": "y",
         "z": {
          "bdata": "BQANABcAfwAAAAUAEAAUAH4AAAAKAA4AGgB1AAAACQAIABcAfwAAAAQACwAVAIQAAAA=",
          "dtype": "i2",
          "shape": "5, 5"
         }
        }
       ],
       "layout": {
        "coloraxis": {
         "colorbar": {
          "title": {
           "text": "Stock Count"
          }
         },
         "colorscale": [
          [
           0,
           "rgb(255,255,204)"
          ],
          [
           0.125,
           "rgb(255,237,160)"
          ],
          [
           0.25,
           "rgb(254,217,118)"
          ],
          [
           0.375,
           "rgb(254,178,76)"
          ],
          [
           0.5,
           "rgb(253,141,60)"
          ],
          [
           0.625,
           "rgb(252,78,42)"
          ],
          [
           0.75,
           "rgb(227,26,28)"
          ],
          [
           0.875,
           "rgb(189,0,38)"
          ],
          [
           1,
           "rgb(128,0,38)"
          ]
         ]
        },
        "margin": {
         "t": 60
        },
        "template": {
         "data": {
          "bar": [
           {
            "error_x": {
             "color": "#2a3f5f"
            },
            "error_y": {
             "color": "#2a3f5f"
            },
            "marker": {
             "line": {
              "color": "#E5ECF6",
              "width": 0.5
             },
             "pattern": {
              "fillmode": "overlay",
              "size": 10,
              "solidity": 0.2
             }
            },
            "type": "bar"
           }
          ],
          "barpolar": [
           {
            "marker": {
             "line": {
              "color": "#E5ECF6",
              "width": 0.5
             },
             "pattern": {
              "fillmode": "overlay",
              "size": 10,
              "solidity": 0.2
             }
            },
            "type": "barpolar"
           }
          ],
          "carpet": [
           {
            "aaxis": {
             "endlinecolor": "#2a3f5f",
             "gridcolor": "white",
             "linecolor": "white",
             "minorgridcolor": "white",
             "startlinecolor": "#2a3f5f"
            },
            "baxis": {
             "endlinecolor": "#2a3f5f",
             "gridcolor": "white",
             "linecolor": "white",
             "minorgridcolor": "white",
             "startlinecolor": "#2a3f5f"
            },
            "type": "carpet"
           }
          ],
          "choropleth": [
           {
            "colorbar": {
             "outlinewidth": 0,
             "ticks": ""
            },
            "type": "choropleth"
           }
          ],
          "contour": [
           {
            "colorbar": {
             "outlinewidth": 0,
             "ticks": ""
            },
            "colorscale": [
             [
              0,
              "#0d0887"
             ],
             [
              0.1111111111111111,
              "#46039f"
             ],
             [
              0.2222222222222222,
              "#7201a8"
             ],
             [
              0.3333333333333333,
              "#9c179e"
             ],
             [
              0.4444444444444444,
              "#bd3786"
             ],
             [
              0.5555555555555556,
              "#d8576b"
             ],
             [
              0.6666666666666666,
              "#ed7953"
             ],
             [
              0.7777777777777778,
              "#fb9f3a"
             ],
             [
              0.8888888888888888,
              "#fdca26"
             ],
             [
              1,
              "#f0f921"
             ]
            ],
            "type": "contour"
           }
          ],
          "contourcarpet": [
           {
            "colorbar": {
             "outlinewidth": 0,
             "ticks": ""
            },
            "type": "contourcarpet"
           }
          ],
          "heatmap": [
           {
            "colorbar": {
             "outlinewidth": 0,
             "ticks": ""
            },
            "colorscale": [
             [
              0,
              "#0d0887"
             ],
             [
              0.1111111111111111,
              "#46039f"
             ],
             [
              0.2222222222222222,
              "#7201a8"
             ],
             [
              0.3333333333333333,
              "#9c179e"
             ],
             [
              0.4444444444444444,
              "#bd3786"
             ],
             [
              0.5555555555555556,
              "#d8576b"
             ],
             [
              0.6666666666666666,
              "#ed7953"
             ],
             [
              0.7777777777777778,
              "#fb9f3a"
             ],
             [
              0.8888888888888888,
              "#fdca26"
             ],
             [
              1,
              "#f0f921"
             ]
            ],
            "type": "heatmap"
           }
          ],
          "histogram": [
           {
            "marker": {
             "pattern": {
              "fillmode": "overlay",
              "size": 10,
              "solidity": 0.2
             }
            },
            "type": "histogram"
           }
          ],
          "histogram2d": [
           {
            "colorbar": {
             "outlinewidth": 0,
             "ticks": ""
            },
            "colorscale": [
             [
              0,
              "#0d0887"
             ],
             [
              0.1111111111111111,
              "#46039f"
             ],
             [
              0.2222222222222222,
              "#7201a8"
             ],
             [
              0.3333333333333333,
              "#9c179e"
             ],
             [
              0.4444444444444444,
              "#bd3786"
             ],
             [
              0.5555555555555556,
              "#d8576b"
             ],
             [
              0.6666666666666666,
              "#ed7953"
             ],
             [
              0.7777777777777778,
              "#fb9f3a"
             ],
             [
              0.8888888888888888,
              "#fdca26"
             ],
             [
              1,
              "#f0f921"
             ]
            ],
            "type": "histogram2d"
           }
          ],
          "histogram2dcontour": [
           {
            "colorbar": {
             "outlinewidth": 0,
             "ticks": ""
            },
            "colorscale": [
             [
              0,
              "#0d0887"
             ],
             [
              0.1111111111111111,
              "#46039f"
             ],
             [
              0.2222222222222222,
              "#7201a8"
             ],
             [
              0.3333333333333333,
              "#9c179e"
             ],
             [
              0.4444444444444444,
              "#bd3786"
             ],
             [
              0.5555555555555556,
              "#d8576b"
             ],
             [
              0.6666666666666666,
              "#ed7953"
             ],
             [
              0.7777777777777778,
              "#fb9f3a"
             ],
             [
              0.8888888888888888,
              "#fdca26"
             ],
             [
              1,
              "#f0f921"
             ]
            ],
            "type": "histogram2dcontour"
           }
          ],
          "mesh3d": [
           {
            "colorbar": {
             "outlinewidth": 0,
             "ticks": ""
            },
            "type": "mesh3d"
           }
          ],
          "parcoords": [
           {
            "line": {
             "colorbar": {
              "outlinewidth": 0,
              "ticks": ""
             }
            },
            "type": "parcoords"
           }
          ],
          "pie": [
           {
            "automargin": true,
            "type": "pie"
           }
          ],
          "scatter": [
           {
            "fillpattern": {
             "fillmode": "overlay",
             "size": 10,
             "solidity": 0.2
            },
            "type": "scatter"
           }
          ],
          "scatter3d": [
           {
            "line": {
             "colorbar": {
              "outlinewidth": 0,
              "ticks": ""
             }
            },
            "marker": {
             "colorbar": {
              "outlinewidth": 0,
              "ticks": ""
             }
            },
            "type": "scatter3d"
           }
          ],
          "scattercarpet": [
           {
            "marker": {
             "colorbar": {
              "outlinewidth": 0,
              "ticks": ""
             }
            },
            "type": "scattercarpet"
           }
          ],
          "scattergeo": [
           {
            "marker": {
             "colorbar": {
              "outlinewidth": 0,
              "ticks": ""
             }
            },
            "type": "scattergeo"
           }
          ],
          "scattergl": [
           {
            "marker": {
             "colorbar": {
              "outlinewidth": 0,
              "ticks": ""
             }
            },
            "type": "scattergl"
           }
          ],
          "scattermap": [
           {
            "marker": {
             "colorbar": {
              "outlinewidth": 0,
              "ticks": ""
             }
            },
            "type": "scattermap"
           }
          ],
          "scattermapbox": [
           {
            "marker": {
             "colorbar": {
              "outlinewidth": 0,
              "ticks": ""
             }
            },
            "type": "scattermapbox"
           }
          ],
          "scatterpolar": [
           {
            "marker": {
             "colorbar": {
              "outlinewidth": 0,
              "ticks": ""
             }
            },
            "type": "scatterpolar"
           }
          ],
          "scatterpolargl": [
           {
            "marker": {
             "colorbar": {
              "outlinewidth": 0,
              "ticks": ""
             }
            },
            "type": "scatterpolargl"
           }
          ],
          "scatterternary": [
           {
            "marker": {
             "colorbar": {
              "outlinewidth": 0,
              "ticks": ""
             }
            },
            "type": "scatterternary"
           }
          ],
          "surface": [
           {
            "colorbar": {
             "outlinewidth": 0,
             "ticks": ""
            },
            "colorscale": [
             [
              0,
              "#0d0887"
             ],
             [
              0.1111111111111111,
              "#46039f"
             ],
             [
              0.2222222222222222,
              "#7201a8"
             ],
             [
              0.3333333333333333,
              "#9c179e"
             ],
             [
              0.4444444444444444,
              "#bd3786"
             ],
             [
              0.5555555555555556,
              "#d8576b"
             ],
             [
              0.6666666666666666,
              "#ed7953"
             ],
             [
              0.7777777777777778,
              "#fb9f3a"
             ],
             [
              0.8888888888888888,
              "#fdca26"
             ],
             [
              1,
              "#f0f921"
             ]
            ],
            "type": "surface"
           }
          ],
          "table": [
           {
            "cells": {
             "fill": {
              "color": "#EBF0F8"
             },
             "line": {
              "color": "white"
             }
            },
            "header": {
             "fill": {
              "color": "#C8D4E3"
             },
             "line": {
              "color": "white"
             }
            },
            "type": "table"
           }
          ]
         },
         "layout": {
          "annotationdefaults": {
           "arrowcolor": "#2a3f5f",
           "arrowhead": 0,
           "arrowwidth": 1
          },
          "autotypenumbers": "strict",
          "coloraxis": {
           "colorbar": {
            "outlinewidth": 0,
            "ticks": ""
           }
          },
          "colorscale": {
           "diverging": [
            [
             0,
             "#8e0152"
            ],
            [
             0.1,
             "#c51b7d"
            ],
            [
             0.2,
             "#de77ae"
            ],
            [
             0.3,
             "#f1b6da"
            ],
            [
             0.4,
             "#fde0ef"
            ],
            [
             0.5,
             "#f7f7f7"
            ],
            [
             0.6,
             "#e6f5d0"
            ],
            [
             0.7,
             "#b8e186"
            ],
            [
             0.8,
             "#7fbc41"
            ],
            [
             0.9,
             "#4d9221"
            ],
            [
             1,
             "#276419"
            ]
           ],
           "sequential": [
            [
             0,
             "#0d0887"
            ],
            [
             0.1111111111111111,
             "#46039f"
            ],
            [
             0.2222222222222222,
             "#7201a8"
            ],
            [
             0.3333333333333333,
             "#9c179e"
            ],
            [
             0.4444444444444444,
             "#bd3786"
            ],
            [
             0.5555555555555556,
             "#d8576b"
            ],
            [
             0.6666666666666666,
             "#ed7953"
            ],
            [
             0.7777777777777778,
             "#fb9f3a"
            ],
            [
             0.8888888888888888,
             "#fdca26"
            ],
            [
             1,
             "#f0f921"
            ]
           ],
           "sequentialminus": [
            [
             0,
             "#0d0887"
            ],
            [
             0.1111111111111111,
             "#46039f"
            ],
            [
             0.2222222222222222,
             "#7201a8"
            ],
            [
             0.3333333333333333,
             "#9c179e"
            ],
            [
             0.4444444444444444,
             "#bd3786"
            ],
            [
             0.5555555555555556,
             "#d8576b"
            ],
            [
             0.6666666666666666,
             "#ed7953"
            ],
            [
             0.7777777777777778,
             "#fb9f3a"
            ],
            [
             0.8888888888888888,
             "#fdca26"
            ],
            [
             1,
             "#f0f921"
            ]
           ]
          },
          "colorway": [
           "#636efa",
           "#EF553B",
           "#00cc96",
           "#ab63fa",
           "#FFA15A",
           "#19d3f3",
           "#FF6692",
           "#B6E880",
           "#FF97FF",
           "#FECB52"
          ],
          "font": {
           "color": "#2a3f5f"
          },
          "geo": {
           "bgcolor": "white",
           "lakecolor": "white",
           "landcolor": "#E5ECF6",
           "showlakes": true,
           "showland": true,
           "subunitcolor": "white"
          },
          "hoverlabel": {
           "align": "left"
          },
          "hovermode": "closest",
          "mapbox": {
           "style": "light"
          },
          "paper_bgcolor": "white",
          "plot_bgcolor": "#E5ECF6",
          "polar": {
           "angularaxis": {
            "gridcolor": "white",
            "linecolor": "white",
            "ticks": ""
           },
           "bgcolor": "#E5ECF6",
           "radialaxis": {
            "gridcolor": "white",
            "linecolor": "white",
            "ticks": ""
           }
          },
          "scene": {
           "xaxis": {
            "backgroundcolor": "#E5ECF6",
            "gridcolor": "white",
            "gridwidth": 2,
            "linecolor": "white",
            "showbackground": true,
            "ticks": "",
            "zerolinecolor": "white"
           },
           "yaxis": {
            "backgroundcolor": "#E5ECF6",
            "gridcolor": "white",
            "gridwidth": 2,
            "linecolor": "white",
            "showbackground": true,
            "ticks": "",
            "zerolinecolor": "white"
           },
           "zaxis": {
            "backgroundcolor": "#E5ECF6",
            "gridcolor": "white",
            "gridwidth": 2,
            "linecolor": "white",
            "showbackground": true,
            "ticks": "",
            "zerolinecolor": "white"
           }
          },
          "shapedefaults": {
           "line": {
            "color": "#2a3f5f"
           }
          },
          "ternary": {
           "aaxis": {
            "gridcolor": "white",
            "linecolor": "white",
            "ticks": ""
           },
           "baxis": {
            "gridcolor": "white",
            "linecolor": "white",
            "ticks": ""
           },
           "bgcolor": "#E5ECF6",
           "caxis": {
            "gridcolor": "white",
            "linecolor": "white",
            "ticks": ""
           }
          },
          "title": {
           "x": 0.05
          },
          "xaxis": {
           "automargin": true,
           "gridcolor": "white",
           "linecolor": "white",
           "ticks": "",
           "title": {
            "standoff": 15
           },
           "zerolinecolor": "white",
           "zerolinewidth": 2
          },
          "yaxis": {
           "automargin": true,
           "gridcolor": "white",
           "linecolor": "white",
           "ticks": "",
           "title": {
            "standoff": 15
           },
           "zerolinecolor": "white",
           "zerolinewidth": 2
          }
         }
        },
        "title": {
         "text": "📊 Quadrant Heatmap (Predicted by ANN)"
        },
        "xaxis": {
         "anchor": "y",
         "constrain": "domain",
         "domain": [
          0,
          1
         ],
         "scaleanchor": "y",
         "title": {
          "text": "Trend (a–e)"
         }
        },
        "yaxis": {
         "anchor": "x",
         "autorange": "reversed",
         "constrain": "domain",
         "domain": [
          0,
          1
         ],
         "title": {
          "text": "Fundamental Group (A–E)"
         }
        }
       }
      }
     },
     "metadata": {},
     "output_type": "display_data"
    }
   ],
   "source": [
    "import plotly.express as px\n",
    "quadrant_counts = df_result3['quadrant'].value_counts().sort_index()\n",
    "financial_levels = [\"A\",\"B\",\"C\",\"D\",\"E\"]   # กลุ่มพื้นฐาน (Fundamental)\n",
    "trend_levels = [\"a\",\"b\",\"c\",\"d\",\"e\"]       # กลุ่มเทคนิค (Trend)\n",
    "\n",
    "heatmap_data = pd.DataFrame(0, index=financial_levels, columns=trend_levels)\n",
    "for q, count in quadrant_counts.items():\n",
    "    fin = q[0]   # เช่น \"A\"\n",
    "    trend = q[1] # เช่น \"a\"\n",
    "    heatmap_data.loc[fin, trend] = count\n",
    "fig = px.imshow(\n",
    "    heatmap_data,\n",
    "    labels=dict(x=\"Trend (a–e)\", y=\"Fundamental Group (A–E)\", color=\"Stock Count\"),\n",
    "    x=trend_levels,\n",
    "    y=financial_levels,\n",
    "    color_continuous_scale=\"YlOrRd\",\n",
    "    text_auto=True\n",
    ")\n",
    "fig.update_layout(title=\"📊 Quadrant Heatmap (Predicted by ANN)\")"
   ]
  },
  {
   "cell_type": "code",
   "execution_count": 38,
   "id": "ae9e895a",
   "metadata": {},
   "outputs": [
    {
     "data": {
      "text/plain": [
       "Index(['symbol', 'eps', 'pe', 'pbv', 'percentyield', 'time', 'close_price',\n",
       "       'high_price', 'low_price', 'open_price', 'value', 'volume', 'marketcap',\n",
       "       'quadrant'],\n",
       "      dtype='object')"
      ]
     },
     "execution_count": 38,
     "metadata": {},
     "output_type": "execute_result"
    }
   ],
   "source": [
    "df.columns"
   ]
  },
  {
   "cell_type": "code",
   "execution_count": 39,
   "id": "63bfc5fd",
   "metadata": {},
   "outputs": [
    {
     "data": {
      "text/plain": [
       "(837, 14)"
      ]
     },
     "execution_count": 39,
     "metadata": {},
     "output_type": "execute_result"
    }
   ],
   "source": [
    "df.shape"
   ]
  },
  {
   "cell_type": "markdown",
   "id": "dbf81127",
   "metadata": {},
   "source": [
    "Modelling"
   ]
  },
  {
   "cell_type": "code",
   "execution_count": 40,
   "id": "bcc6efd4",
   "metadata": {},
   "outputs": [],
   "source": [
    "import pandas as pd\n",
    "import numpy as np\n",
    "import matplotlib.pyplot as plt\n",
    "import seaborn as sns\n",
    "from sklearn.model_selection import train_test_split\n",
    "from sklearn.preprocessing import StandardScaler, LabelEncoder\n",
    "from sklearn.metrics import confusion_matrix, classification_report\n",
    "from tensorflow.keras.models import Sequential\n",
    "from tensorflow.keras.layers import Dense, Dropout\n",
    "from tensorflow.keras.utils import to_categorical"
   ]
  },
  {
   "cell_type": "code",
   "execution_count": 41,
   "id": "0e54f948",
   "metadata": {},
   "outputs": [
    {
     "name": "stdout",
     "output_type": "stream",
     "text": [
      "\n",
      "🔄 Training round 1\n"
     ]
    },
    {
     "name": "stderr",
     "output_type": "stream",
     "text": [
      "c:\\Users\\Admin\\AppData\\Local\\Programs\\Python\\Python310\\lib\\site-packages\\keras\\src\\layers\\core\\dense.py:87: UserWarning:\n",
      "\n",
      "Do not pass an `input_shape`/`input_dim` argument to a layer. When using Sequential models, prefer using an `Input(shape)` object as the first layer in the model instead.\n",
      "\n"
     ]
    },
    {
     "name": "stdout",
     "output_type": "stream",
     "text": [
      "✅ Accuracy = 72.02%\n",
      "\n",
      "🔄 Training round 2\n",
      "✅ Accuracy = 72.02%\n",
      "\n",
      "🔄 Training round 3\n",
      "✅ Accuracy = 71.43%\n",
      "\n",
      "🔄 Training round 4\n",
      "✅ Accuracy = 72.62%\n",
      "\n",
      "🔄 Training round 5\n",
      "✅ Accuracy = 72.62%\n",
      "\n",
      "🔄 Training round 6\n",
      "✅ Accuracy = 73.81%\n",
      "\n",
      "🔄 Training round 7\n",
      "✅ Accuracy = 72.02%\n",
      "\n",
      "🔄 Training round 8\n",
      "✅ Accuracy = 72.62%\n",
      "\n",
      "🔄 Training round 9\n",
      "✅ Accuracy = 72.62%\n",
      "\n",
      "🔄 Training round 10\n",
      "✅ Accuracy = 73.21%\n",
      "\n",
      "🔄 Training round 11\n",
      "✅ Accuracy = 73.21%\n",
      "\n",
      "🔄 Training round 12\n",
      "✅ Accuracy = 70.83%\n",
      "\n",
      "🔄 Training round 13\n",
      "✅ Accuracy = 72.62%\n",
      "\n",
      "🔄 Training round 14\n",
      "✅ Accuracy = 73.81%\n",
      "\n",
      "🔄 Training round 15\n",
      "✅ Accuracy = 72.02%\n",
      "\n",
      "🔄 Training round 16\n",
      "✅ Accuracy = 73.21%\n",
      "\n",
      "🔄 Training round 17\n",
      "✅ Accuracy = 72.62%\n",
      "\n",
      "🔄 Training round 18\n",
      "✅ Accuracy = 73.21%\n",
      "\n",
      "🔄 Training round 19\n",
      "✅ Accuracy = 71.43%\n",
      "\n",
      "🔄 Training round 20\n",
      "✅ Accuracy = 73.21%\n",
      "\n",
      "🔄 Training round 21\n",
      "✅ Accuracy = 72.62%\n",
      "\n",
      "🔄 Training round 22\n",
      "✅ Accuracy = 73.21%\n",
      "\n",
      "🔄 Training round 23\n",
      "✅ Accuracy = 74.40%\n",
      "\n",
      "🔄 Training round 24\n",
      "✅ Accuracy = 72.02%\n",
      "\n",
      "🔄 Training round 25\n",
      "✅ Accuracy = 72.62%\n",
      "\n",
      "🔄 Training round 26\n",
      "✅ Accuracy = 72.02%\n",
      "\n",
      "🔄 Training round 27\n",
      "✅ Accuracy = 73.21%\n",
      "\n",
      "🔄 Training round 28\n",
      "✅ Accuracy = 72.02%\n",
      "\n",
      "🔄 Training round 29\n",
      "✅ Accuracy = 72.02%\n",
      "\n",
      "🔄 Training round 30\n",
      "✅ Accuracy = 73.21%\n",
      "\n",
      "🔄 Training round 31\n",
      "✅ Accuracy = 73.21%\n",
      "\n",
      "🔄 Training round 32\n",
      "✅ Accuracy = 72.62%\n",
      "\n",
      "🔄 Training round 33\n",
      "✅ Accuracy = 71.43%\n",
      "\n",
      "🔄 Training round 34\n",
      "✅ Accuracy = 72.62%\n",
      "\n",
      "🔄 Training round 35\n",
      "✅ Accuracy = 72.02%\n",
      "\n",
      "🔄 Training round 36\n",
      "✅ Accuracy = 73.21%\n",
      "\n",
      "🔄 Training round 37\n",
      "✅ Accuracy = 73.21%\n",
      "\n",
      "🔄 Training round 38\n",
      "✅ Accuracy = 75.00%\n",
      "\n",
      "🔄 Training round 39\n",
      "✅ Accuracy = 73.81%\n",
      "\n",
      "🔄 Training round 40\n",
      "✅ Accuracy = 73.81%\n",
      "\n",
      "🔄 Training round 41\n",
      "✅ Accuracy = 73.21%\n",
      "\n",
      "🔄 Training round 42\n",
      "✅ Accuracy = 72.02%\n",
      "\n",
      "🔄 Training round 43\n",
      "✅ Accuracy = 74.40%\n",
      "\n",
      "🔄 Training round 44\n",
      "✅ Accuracy = 73.81%\n",
      "\n",
      "🔄 Training round 45\n",
      "✅ Accuracy = 72.02%\n",
      "\n",
      "🔄 Training round 46\n",
      "✅ Accuracy = 71.43%\n",
      "\n",
      "🔄 Training round 47\n",
      "✅ Accuracy = 72.02%\n",
      "\n",
      "🔄 Training round 48\n",
      "✅ Accuracy = 73.21%\n",
      "\n",
      "🔄 Training round 49\n",
      "✅ Accuracy = 71.43%\n",
      "\n",
      "🔄 Training round 50\n",
      "✅ Accuracy = 72.62%\n",
      "\n",
      "🔄 Training round 51\n",
      "✅ Accuracy = 73.81%\n",
      "\n",
      "🔄 Training round 52\n",
      "✅ Accuracy = 73.21%\n",
      "\n",
      "🔄 Training round 53\n",
      "✅ Accuracy = 72.62%\n",
      "\n",
      "🔄 Training round 54\n",
      "✅ Accuracy = 72.02%\n",
      "\n",
      "🔄 Training round 55\n",
      "✅ Accuracy = 72.62%\n",
      "\n",
      "🔄 Training round 56\n",
      "✅ Accuracy = 73.21%\n",
      "\n",
      "🔄 Training round 57\n",
      "✅ Accuracy = 73.81%\n",
      "\n",
      "🔄 Training round 58\n",
      "✅ Accuracy = 72.02%\n",
      "\n",
      "🔄 Training round 59\n",
      "✅ Accuracy = 70.83%\n",
      "\n",
      "🔄 Training round 60\n",
      "✅ Accuracy = 71.43%\n",
      "\n",
      "🔄 Training round 61\n",
      "✅ Accuracy = 70.24%\n",
      "\n",
      "🔄 Training round 62\n",
      "✅ Accuracy = 73.21%\n",
      "\n",
      "🔄 Training round 63\n",
      "✅ Accuracy = 72.02%\n",
      "\n",
      "🔄 Training round 64\n",
      "✅ Accuracy = 73.21%\n",
      "\n",
      "🔄 Training round 65\n",
      "✅ Accuracy = 72.02%\n",
      "\n",
      "🔄 Training round 66\n",
      "✅ Accuracy = 72.62%\n",
      "\n",
      "🔄 Training round 67\n",
      "✅ Accuracy = 72.62%\n",
      "\n",
      "🔄 Training round 68\n",
      "✅ Accuracy = 70.83%\n",
      "\n",
      "🔄 Training round 69\n",
      "✅ Accuracy = 72.62%\n",
      "\n",
      "🔄 Training round 70\n",
      "✅ Accuracy = 70.83%\n",
      "\n",
      "🔄 Training round 71\n",
      "✅ Accuracy = 71.43%\n",
      "\n",
      "🔄 Training round 72\n",
      "✅ Accuracy = 70.24%\n",
      "\n",
      "🔄 Training round 73\n",
      "✅ Accuracy = 72.62%\n",
      "\n",
      "🔄 Training round 74\n",
      "✅ Accuracy = 72.62%\n",
      "\n",
      "🔄 Training round 75\n",
      "✅ Accuracy = 72.02%\n",
      "\n",
      "🔄 Training round 76\n",
      "✅ Accuracy = 71.43%\n",
      "\n",
      "🔄 Training round 77\n",
      "✅ Accuracy = 73.81%\n",
      "\n",
      "🔄 Training round 78\n",
      "✅ Accuracy = 70.83%\n",
      "\n",
      "🔄 Training round 79\n",
      "✅ Accuracy = 72.62%\n",
      "\n",
      "🔄 Training round 80\n",
      "✅ Accuracy = 73.21%\n",
      "\n",
      "🔄 Training round 81\n",
      "✅ Accuracy = 72.02%\n",
      "\n",
      "🔄 Training round 82\n",
      "✅ Accuracy = 74.40%\n",
      "\n",
      "🔄 Training round 83\n",
      "✅ Accuracy = 70.83%\n",
      "\n",
      "🔄 Training round 84\n",
      "✅ Accuracy = 72.62%\n",
      "\n",
      "🔄 Training round 85\n",
      "✅ Accuracy = 72.62%\n",
      "\n",
      "🔄 Training round 86\n",
      "✅ Accuracy = 73.81%\n",
      "\n",
      "🔄 Training round 87\n",
      "✅ Accuracy = 72.62%\n",
      "\n",
      "🔄 Training round 88\n",
      "✅ Accuracy = 71.43%\n",
      "\n",
      "🔄 Training round 89\n",
      "✅ Accuracy = 72.62%\n",
      "\n",
      "🔄 Training round 90\n",
      "✅ Accuracy = 72.62%\n",
      "\n",
      "🔄 Training round 91\n",
      "✅ Accuracy = 72.62%\n",
      "\n",
      "🔄 Training round 92\n",
      "✅ Accuracy = 70.83%\n",
      "\n",
      "🔄 Training round 93\n",
      "✅ Accuracy = 72.62%\n",
      "\n",
      "🔄 Training round 94\n",
      "✅ Accuracy = 73.81%\n",
      "\n",
      "🔄 Training round 95\n",
      "✅ Accuracy = 72.02%\n",
      "\n",
      "🔄 Training round 96\n",
      "✅ Accuracy = 72.02%\n",
      "\n",
      "🔄 Training round 97\n",
      "✅ Accuracy = 70.83%\n",
      "\n",
      "🔄 Training round 98\n",
      "✅ Accuracy = 69.64%\n",
      "\n",
      "🔄 Training round 99\n",
      "✅ Accuracy = 71.43%\n",
      "\n",
      "🔄 Training round 100\n",
      "✅ Accuracy = 73.21%\n"
     ]
    }
   ],
   "source": [
    "# -----------------------------\n",
    "# 1. เตรียมข้อมูล\n",
    "# -----------------------------\n",
    "features = ['eps', 'pe', 'pbv', 'percentyield', 'time', 'close_price',\n",
    "            'high_price', 'low_price', 'open_price', 'value', 'marketcap']\n",
    "\n",
    "X = df[features].dropna().copy()\n",
    "X = X.select_dtypes(include=[\"float64\", \"int64\"])  # เอาเฉพาะ numeric\n",
    "y = df.loc[X.index, 'quadrant']\n",
    "\n",
    "# Encode target\n",
    "le = LabelEncoder()\n",
    "y_encoded = le.fit_transform(y)\n",
    "y_categorical = to_categorical(y_encoded)\n",
    "\n",
    "# Scaling\n",
    "scaler = StandardScaler()\n",
    "X_scaled = scaler.fit_transform(X)\n",
    "\n",
    "# Train/Test split\n",
    "X_train, X_test, y_train, y_test = train_test_split(\n",
    "    X_scaled, y_categorical, test_size=0.2, random_state=42\n",
    ")\n",
    "\n",
    "# -----------------------------\n",
    "# 2. ฟังก์ชันสร้างโมเดล\n",
    "# -----------------------------\n",
    "def create_model(input_dim, output_dim):\n",
    "    model = Sequential([\n",
    "        Dense(128, activation='relu', input_shape=(input_dim,)),\n",
    "        Dropout(0.3),\n",
    "        Dense(64, activation='relu'),\n",
    "        Dropout(0.3),\n",
    "        Dense(output_dim, activation='softmax')\n",
    "    ])\n",
    "    model.compile(optimizer='adam',\n",
    "                  loss='categorical_crossentropy',\n",
    "                  metrics=['accuracy'])\n",
    "    return model\n",
    "\n",
    "# -----------------------------\n",
    "# 3. Train หลายรอบหา Best Model\n",
    "# -----------------------------\n",
    "target_acc = 0.85\n",
    "best_model, best_acc, best_history = None, 0, None\n",
    "\n",
    "for i in range(100):  # เทรนใหม่สูงสุด 10 รอบ\n",
    "    print(f\"\\n🔄 Training round {i+1}\")\n",
    "    model = create_model(X_train.shape[1], y_categorical.shape[1])\n",
    "    \n",
    "    history = model.fit(\n",
    "        X_train, y_train,\n",
    "        validation_data=(X_test, y_test),\n",
    "        epochs=50,\n",
    "        batch_size=32,\n",
    "        verbose=0\n",
    "    )\n",
    "    \n",
    "    _, acc = model.evaluate(X_test, y_test, verbose=0)\n",
    "    print(f\"✅ Accuracy = {acc:.2%}\")\n",
    "    \n",
    "    if acc > best_acc:\n",
    "        best_acc = acc\n",
    "        best_model = model\n",
    "        best_history = history\n",
    "    \n",
    "    if acc >= target_acc:\n",
    "        print(\"🎯 Target reached! Stop training.\")\n",
    "        break"
   ]
  },
  {
   "cell_type": "markdown",
   "id": "bb553c21",
   "metadata": {},
   "source": [
    "ผลลัพท์ที่ดีที่สุดจากรันโมเดล100รอบ"
   ]
  },
  {
   "cell_type": "code",
   "execution_count": 42,
   "id": "ca2dd63c",
   "metadata": {},
   "outputs": [
    {
     "name": "stdout",
     "output_type": "stream",
     "text": [
      "\n",
      "Best Accuracy = 75.00%\n"
     ]
    }
   ],
   "source": [
    "print(f\"\\nBest Accuracy = {best_acc:.2%}\")"
   ]
  },
  {
   "cell_type": "code",
   "execution_count": 43,
   "id": "9cfce12c",
   "metadata": {},
   "outputs": [
    {
     "name": "stdout",
     "output_type": "stream",
     "text": [
      "\u001b[1m27/27\u001b[0m \u001b[32m━━━━━━━━━━━━━━━━━━━━\u001b[0m\u001b[37m\u001b[0m \u001b[1m0s\u001b[0m 3ms/step\n"
     ]
    },
    {
     "data": {
      "text/html": [
       "<div>\n",
       "<style scoped>\n",
       "    .dataframe tbody tr th:only-of-type {\n",
       "        vertical-align: middle;\n",
       "    }\n",
       "\n",
       "    .dataframe tbody tr th {\n",
       "        vertical-align: top;\n",
       "    }\n",
       "\n",
       "    .dataframe thead th {\n",
       "        text-align: right;\n",
       "    }\n",
       "</style>\n",
       "<table border=\"1\" class=\"dataframe\">\n",
       "  <thead>\n",
       "    <tr style=\"text-align: right;\">\n",
       "      <th></th>\n",
       "      <th>Symbol</th>\n",
       "      <th>True Quadrant</th>\n",
       "      <th>Predicted Quadrant</th>\n",
       "    </tr>\n",
       "  </thead>\n",
       "  <tbody>\n",
       "    <tr>\n",
       "      <th>0</th>\n",
       "      <td>PPPM</td>\n",
       "      <td>Bd</td>\n",
       "      <td>Bd</td>\n",
       "    </tr>\n",
       "    <tr>\n",
       "      <th>1</th>\n",
       "      <td>TPCH</td>\n",
       "      <td>Ec</td>\n",
       "      <td>Ed</td>\n",
       "    </tr>\n",
       "    <tr>\n",
       "      <th>2</th>\n",
       "      <td>POLY</td>\n",
       "      <td>Eb</td>\n",
       "      <td>Ed</td>\n",
       "    </tr>\n",
       "    <tr>\n",
       "      <th>3</th>\n",
       "      <td>VCOM</td>\n",
       "      <td>Ed</td>\n",
       "      <td>Ed</td>\n",
       "    </tr>\n",
       "    <tr>\n",
       "      <th>4</th>\n",
       "      <td>KDH</td>\n",
       "      <td>Ed</td>\n",
       "      <td>Ed</td>\n",
       "    </tr>\n",
       "    <tr>\n",
       "      <th>5</th>\n",
       "      <td>NVD</td>\n",
       "      <td>Ad</td>\n",
       "      <td>Ad</td>\n",
       "    </tr>\n",
       "    <tr>\n",
       "      <th>6</th>\n",
       "      <td>JDF</td>\n",
       "      <td>Cd</td>\n",
       "      <td>Cd</td>\n",
       "    </tr>\n",
       "    <tr>\n",
       "      <th>7</th>\n",
       "      <td>SVR</td>\n",
       "      <td>Ad</td>\n",
       "      <td>Ad</td>\n",
       "    </tr>\n",
       "    <tr>\n",
       "      <th>8</th>\n",
       "      <td>SUSCO</td>\n",
       "      <td>Dd</td>\n",
       "      <td>Dd</td>\n",
       "    </tr>\n",
       "    <tr>\n",
       "      <th>9</th>\n",
       "      <td>STP</td>\n",
       "      <td>Dd</td>\n",
       "      <td>Dd</td>\n",
       "    </tr>\n",
       "    <tr>\n",
       "      <th>10</th>\n",
       "      <td>VGI</td>\n",
       "      <td>Bb</td>\n",
       "      <td>Bd</td>\n",
       "    </tr>\n",
       "    <tr>\n",
       "      <th>11</th>\n",
       "      <td>NCP</td>\n",
       "      <td>Dd</td>\n",
       "      <td>Dd</td>\n",
       "    </tr>\n",
       "    <tr>\n",
       "      <th>12</th>\n",
       "      <td>EA</td>\n",
       "      <td>Ed</td>\n",
       "      <td>Ed</td>\n",
       "    </tr>\n",
       "    <tr>\n",
       "      <th>13</th>\n",
       "      <td>ROJNA</td>\n",
       "      <td>Ed</td>\n",
       "      <td>Ed</td>\n",
       "    </tr>\n",
       "    <tr>\n",
       "      <th>14</th>\n",
       "      <td>KSL</td>\n",
       "      <td>Bb</td>\n",
       "      <td>Bd</td>\n",
       "    </tr>\n",
       "    <tr>\n",
       "      <th>15</th>\n",
       "      <td>ASP</td>\n",
       "      <td>Dd</td>\n",
       "      <td>Dd</td>\n",
       "    </tr>\n",
       "    <tr>\n",
       "      <th>16</th>\n",
       "      <td>PTECH</td>\n",
       "      <td>Ad</td>\n",
       "      <td>Ad</td>\n",
       "    </tr>\n",
       "    <tr>\n",
       "      <th>17</th>\n",
       "      <td>PLUS</td>\n",
       "      <td>Cd</td>\n",
       "      <td>Cd</td>\n",
       "    </tr>\n",
       "    <tr>\n",
       "      <th>18</th>\n",
       "      <td>MANRIN</td>\n",
       "      <td>Bd</td>\n",
       "      <td>Bd</td>\n",
       "    </tr>\n",
       "    <tr>\n",
       "      <th>19</th>\n",
       "      <td>SIS</td>\n",
       "      <td>Dd</td>\n",
       "      <td>Dd</td>\n",
       "    </tr>\n",
       "  </tbody>\n",
       "</table>\n",
       "</div>"
      ],
      "text/plain": [
       "    Symbol True Quadrant Predicted Quadrant\n",
       "0     PPPM            Bd                 Bd\n",
       "1     TPCH            Ec                 Ed\n",
       "2     POLY            Eb                 Ed\n",
       "3     VCOM            Ed                 Ed\n",
       "4      KDH            Ed                 Ed\n",
       "5      NVD            Ad                 Ad\n",
       "6      JDF            Cd                 Cd\n",
       "7      SVR            Ad                 Ad\n",
       "8    SUSCO            Dd                 Dd\n",
       "9      STP            Dd                 Dd\n",
       "10     VGI            Bb                 Bd\n",
       "11     NCP            Dd                 Dd\n",
       "12      EA            Ed                 Ed\n",
       "13   ROJNA            Ed                 Ed\n",
       "14     KSL            Bb                 Bd\n",
       "15     ASP            Dd                 Dd\n",
       "16   PTECH            Ad                 Ad\n",
       "17    PLUS            Cd                 Cd\n",
       "18  MANRIN            Bd                 Bd\n",
       "19     SIS            Dd                 Dd"
      ]
     },
     "execution_count": 43,
     "metadata": {},
     "output_type": "execute_result"
    }
   ],
   "source": [
    "# -----------------------------\n",
    "# ใช้ best_model ที่เทรนมาแล้ว\n",
    "# -----------------------------\n",
    "\n",
    "# ทำนายทั้งหมด\n",
    "y_all_pred = best_model.predict(X_scaled)\n",
    "y_all_classes = np.argmax(y_all_pred, axis=1)\n",
    "\n",
    "# แปลงกลับเป็น label Quadrant\n",
    "y_all_labels = le.inverse_transform(y_all_classes)\n",
    "\n",
    "# ตารางผลลัพธ์ทั้งหมด\n",
    "df_all_results = pd.DataFrame({\n",
    "    \"Symbol\": df.loc[X.index, \"symbol\"],\n",
    "    \"True Quadrant\": le.inverse_transform(y_encoded),\n",
    "    \"Predicted Quadrant\": y_all_labels\n",
    "})\n",
    "\n",
    "df_all_results.head(20)\n"
   ]
  },
  {
   "cell_type": "code",
   "execution_count": 44,
   "id": "02a018ea",
   "metadata": {},
   "outputs": [
    {
     "data": {
      "text/plain": [
       "(837, 3)"
      ]
     },
     "execution_count": 44,
     "metadata": {},
     "output_type": "execute_result"
    }
   ],
   "source": [
    "df_all_results.shape"
   ]
  },
  {
   "cell_type": "code",
   "execution_count": 45,
   "id": "371486dc",
   "metadata": {},
   "outputs": [
    {
     "name": "stdout",
     "output_type": "stream",
     "text": [
      "📌 Accuracy on All Data = 73.00%\n"
     ]
    }
   ],
   "source": [
    "from sklearn.metrics import accuracy_score\n",
    "\n",
    "# Accuracy บนข้อมูลทั้งหมด\n",
    "all_acc = accuracy_score(\n",
    "    le.inverse_transform(y_encoded),   # ค่าจริง\n",
    "    y_all_labels                       # ค่าที่โมเดลทำนาย\n",
    ")\n",
    "\n",
    "print(f\"📌 Accuracy on All Data = {all_acc:.2%}\")"
   ]
  },
  {
   "cell_type": "code",
   "execution_count": 46,
   "id": "3061ab2e",
   "metadata": {},
   "outputs": [
    {
     "data": {
      "application/vnd.plotly.v1+json": {
       "config": {
        "plotlyServerURL": "https://plot.ly"
       },
       "data": [
        {
         "coloraxis": "coloraxis",
         "hovertemplate": "Trend (a–e): %{x}<br>Fundamental Group (A–E): %{y}<br>Stock Count: %{z}<extra></extra>",
         "name": "0",
         "texttemplate": "%{z}",
         "type": "heatmap",
         "x": [
          "a",
          "b",
          "c",
          "d",
          "e"
         ],
         "xaxis": "x",
         "y": [
          "A",
          "B",
          "C",
          "D",
          "E"
         ],
         "yaxis": "y",
         "z": {
          "bdata": "AAAAAAAAqwAAAAAAAAAAAKIAAAAAAAAAAACrAAAAAQAAAAEAnwAAAAAAAQAAAKsAAAA=",
          "dtype": "i2",
          "shape": "5, 5"
         }
        }
       ],
       "layout": {
        "coloraxis": {
         "colorbar": {
          "title": {
           "text": "Stock Count"
          }
         },
         "colorscale": [
          [
           0,
           "rgb(255,255,204)"
          ],
          [
           0.125,
           "rgb(255,237,160)"
          ],
          [
           0.25,
           "rgb(254,217,118)"
          ],
          [
           0.375,
           "rgb(254,178,76)"
          ],
          [
           0.5,
           "rgb(253,141,60)"
          ],
          [
           0.625,
           "rgb(252,78,42)"
          ],
          [
           0.75,
           "rgb(227,26,28)"
          ],
          [
           0.875,
           "rgb(189,0,38)"
          ],
          [
           1,
           "rgb(128,0,38)"
          ]
         ]
        },
        "margin": {
         "t": 60
        },
        "template": {
         "data": {
          "bar": [
           {
            "error_x": {
             "color": "#2a3f5f"
            },
            "error_y": {
             "color": "#2a3f5f"
            },
            "marker": {
             "line": {
              "color": "#E5ECF6",
              "width": 0.5
             },
             "pattern": {
              "fillmode": "overlay",
              "size": 10,
              "solidity": 0.2
             }
            },
            "type": "bar"
           }
          ],
          "barpolar": [
           {
            "marker": {
             "line": {
              "color": "#E5ECF6",
              "width": 0.5
             },
             "pattern": {
              "fillmode": "overlay",
              "size": 10,
              "solidity": 0.2
             }
            },
            "type": "barpolar"
           }
          ],
          "carpet": [
           {
            "aaxis": {
             "endlinecolor": "#2a3f5f",
             "gridcolor": "white",
             "linecolor": "white",
             "minorgridcolor": "white",
             "startlinecolor": "#2a3f5f"
            },
            "baxis": {
             "endlinecolor": "#2a3f5f",
             "gridcolor": "white",
             "linecolor": "white",
             "minorgridcolor": "white",
             "startlinecolor": "#2a3f5f"
            },
            "type": "carpet"
           }
          ],
          "choropleth": [
           {
            "colorbar": {
             "outlinewidth": 0,
             "ticks": ""
            },
            "type": "choropleth"
           }
          ],
          "contour": [
           {
            "colorbar": {
             "outlinewidth": 0,
             "ticks": ""
            },
            "colorscale": [
             [
              0,
              "#0d0887"
             ],
             [
              0.1111111111111111,
              "#46039f"
             ],
             [
              0.2222222222222222,
              "#7201a8"
             ],
             [
              0.3333333333333333,
              "#9c179e"
             ],
             [
              0.4444444444444444,
              "#bd3786"
             ],
             [
              0.5555555555555556,
              "#d8576b"
             ],
             [
              0.6666666666666666,
              "#ed7953"
             ],
             [
              0.7777777777777778,
              "#fb9f3a"
             ],
             [
              0.8888888888888888,
              "#fdca26"
             ],
             [
              1,
              "#f0f921"
             ]
            ],
            "type": "contour"
           }
          ],
          "contourcarpet": [
           {
            "colorbar": {
             "outlinewidth": 0,
             "ticks": ""
            },
            "type": "contourcarpet"
           }
          ],
          "heatmap": [
           {
            "colorbar": {
             "outlinewidth": 0,
             "ticks": ""
            },
            "colorscale": [
             [
              0,
              "#0d0887"
             ],
             [
              0.1111111111111111,
              "#46039f"
             ],
             [
              0.2222222222222222,
              "#7201a8"
             ],
             [
              0.3333333333333333,
              "#9c179e"
             ],
             [
              0.4444444444444444,
              "#bd3786"
             ],
             [
              0.5555555555555556,
              "#d8576b"
             ],
             [
              0.6666666666666666,
              "#ed7953"
             ],
             [
              0.7777777777777778,
              "#fb9f3a"
             ],
             [
              0.8888888888888888,
              "#fdca26"
             ],
             [
              1,
              "#f0f921"
             ]
            ],
            "type": "heatmap"
           }
          ],
          "histogram": [
           {
            "marker": {
             "pattern": {
              "fillmode": "overlay",
              "size": 10,
              "solidity": 0.2
             }
            },
            "type": "histogram"
           }
          ],
          "histogram2d": [
           {
            "colorbar": {
             "outlinewidth": 0,
             "ticks": ""
            },
            "colorscale": [
             [
              0,
              "#0d0887"
             ],
             [
              0.1111111111111111,
              "#46039f"
             ],
             [
              0.2222222222222222,
              "#7201a8"
             ],
             [
              0.3333333333333333,
              "#9c179e"
             ],
             [
              0.4444444444444444,
              "#bd3786"
             ],
             [
              0.5555555555555556,
              "#d8576b"
             ],
             [
              0.6666666666666666,
              "#ed7953"
             ],
             [
              0.7777777777777778,
              "#fb9f3a"
             ],
             [
              0.8888888888888888,
              "#fdca26"
             ],
             [
              1,
              "#f0f921"
             ]
            ],
            "type": "histogram2d"
           }
          ],
          "histogram2dcontour": [
           {
            "colorbar": {
             "outlinewidth": 0,
             "ticks": ""
            },
            "colorscale": [
             [
              0,
              "#0d0887"
             ],
             [
              0.1111111111111111,
              "#46039f"
             ],
             [
              0.2222222222222222,
              "#7201a8"
             ],
             [
              0.3333333333333333,
              "#9c179e"
             ],
             [
              0.4444444444444444,
              "#bd3786"
             ],
             [
              0.5555555555555556,
              "#d8576b"
             ],
             [
              0.6666666666666666,
              "#ed7953"
             ],
             [
              0.7777777777777778,
              "#fb9f3a"
             ],
             [
              0.8888888888888888,
              "#fdca26"
             ],
             [
              1,
              "#f0f921"
             ]
            ],
            "type": "histogram2dcontour"
           }
          ],
          "mesh3d": [
           {
            "colorbar": {
             "outlinewidth": 0,
             "ticks": ""
            },
            "type": "mesh3d"
           }
          ],
          "parcoords": [
           {
            "line": {
             "colorbar": {
              "outlinewidth": 0,
              "ticks": ""
             }
            },
            "type": "parcoords"
           }
          ],
          "pie": [
           {
            "automargin": true,
            "type": "pie"
           }
          ],
          "scatter": [
           {
            "fillpattern": {
             "fillmode": "overlay",
             "size": 10,
             "solidity": 0.2
            },
            "type": "scatter"
           }
          ],
          "scatter3d": [
           {
            "line": {
             "colorbar": {
              "outlinewidth": 0,
              "ticks": ""
             }
            },
            "marker": {
             "colorbar": {
              "outlinewidth": 0,
              "ticks": ""
             }
            },
            "type": "scatter3d"
           }
          ],
          "scattercarpet": [
           {
            "marker": {
             "colorbar": {
              "outlinewidth": 0,
              "ticks": ""
             }
            },
            "type": "scattercarpet"
           }
          ],
          "scattergeo": [
           {
            "marker": {
             "colorbar": {
              "outlinewidth": 0,
              "ticks": ""
             }
            },
            "type": "scattergeo"
           }
          ],
          "scattergl": [
           {
            "marker": {
             "colorbar": {
              "outlinewidth": 0,
              "ticks": ""
             }
            },
            "type": "scattergl"
           }
          ],
          "scattermap": [
           {
            "marker": {
             "colorbar": {
              "outlinewidth": 0,
              "ticks": ""
             }
            },
            "type": "scattermap"
           }
          ],
          "scattermapbox": [
           {
            "marker": {
             "colorbar": {
              "outlinewidth": 0,
              "ticks": ""
             }
            },
            "type": "scattermapbox"
           }
          ],
          "scatterpolar": [
           {
            "marker": {
             "colorbar": {
              "outlinewidth": 0,
              "ticks": ""
             }
            },
            "type": "scatterpolar"
           }
          ],
          "scatterpolargl": [
           {
            "marker": {
             "colorbar": {
              "outlinewidth": 0,
              "ticks": ""
             }
            },
            "type": "scatterpolargl"
           }
          ],
          "scatterternary": [
           {
            "marker": {
             "colorbar": {
              "outlinewidth": 0,
              "ticks": ""
             }
            },
            "type": "scatterternary"
           }
          ],
          "surface": [
           {
            "colorbar": {
             "outlinewidth": 0,
             "ticks": ""
            },
            "colorscale": [
             [
              0,
              "#0d0887"
             ],
             [
              0.1111111111111111,
              "#46039f"
             ],
             [
              0.2222222222222222,
              "#7201a8"
             ],
             [
              0.3333333333333333,
              "#9c179e"
             ],
             [
              0.4444444444444444,
              "#bd3786"
             ],
             [
              0.5555555555555556,
              "#d8576b"
             ],
             [
              0.6666666666666666,
              "#ed7953"
             ],
             [
              0.7777777777777778,
              "#fb9f3a"
             ],
             [
              0.8888888888888888,
              "#fdca26"
             ],
             [
              1,
              "#f0f921"
             ]
            ],
            "type": "surface"
           }
          ],
          "table": [
           {
            "cells": {
             "fill": {
              "color": "#EBF0F8"
             },
             "line": {
              "color": "white"
             }
            },
            "header": {
             "fill": {
              "color": "#C8D4E3"
             },
             "line": {
              "color": "white"
             }
            },
            "type": "table"
           }
          ]
         },
         "layout": {
          "annotationdefaults": {
           "arrowcolor": "#2a3f5f",
           "arrowhead": 0,
           "arrowwidth": 1
          },
          "autotypenumbers": "strict",
          "coloraxis": {
           "colorbar": {
            "outlinewidth": 0,
            "ticks": ""
           }
          },
          "colorscale": {
           "diverging": [
            [
             0,
             "#8e0152"
            ],
            [
             0.1,
             "#c51b7d"
            ],
            [
             0.2,
             "#de77ae"
            ],
            [
             0.3,
             "#f1b6da"
            ],
            [
             0.4,
             "#fde0ef"
            ],
            [
             0.5,
             "#f7f7f7"
            ],
            [
             0.6,
             "#e6f5d0"
            ],
            [
             0.7,
             "#b8e186"
            ],
            [
             0.8,
             "#7fbc41"
            ],
            [
             0.9,
             "#4d9221"
            ],
            [
             1,
             "#276419"
            ]
           ],
           "sequential": [
            [
             0,
             "#0d0887"
            ],
            [
             0.1111111111111111,
             "#46039f"
            ],
            [
             0.2222222222222222,
             "#7201a8"
            ],
            [
             0.3333333333333333,
             "#9c179e"
            ],
            [
             0.4444444444444444,
             "#bd3786"
            ],
            [
             0.5555555555555556,
             "#d8576b"
            ],
            [
             0.6666666666666666,
             "#ed7953"
            ],
            [
             0.7777777777777778,
             "#fb9f3a"
            ],
            [
             0.8888888888888888,
             "#fdca26"
            ],
            [
             1,
             "#f0f921"
            ]
           ],
           "sequentialminus": [
            [
             0,
             "#0d0887"
            ],
            [
             0.1111111111111111,
             "#46039f"
            ],
            [
             0.2222222222222222,
             "#7201a8"
            ],
            [
             0.3333333333333333,
             "#9c179e"
            ],
            [
             0.4444444444444444,
             "#bd3786"
            ],
            [
             0.5555555555555556,
             "#d8576b"
            ],
            [
             0.6666666666666666,
             "#ed7953"
            ],
            [
             0.7777777777777778,
             "#fb9f3a"
            ],
            [
             0.8888888888888888,
             "#fdca26"
            ],
            [
             1,
             "#f0f921"
            ]
           ]
          },
          "colorway": [
           "#636efa",
           "#EF553B",
           "#00cc96",
           "#ab63fa",
           "#FFA15A",
           "#19d3f3",
           "#FF6692",
           "#B6E880",
           "#FF97FF",
           "#FECB52"
          ],
          "font": {
           "color": "#2a3f5f"
          },
          "geo": {
           "bgcolor": "white",
           "lakecolor": "white",
           "landcolor": "#E5ECF6",
           "showlakes": true,
           "showland": true,
           "subunitcolor": "white"
          },
          "hoverlabel": {
           "align": "left"
          },
          "hovermode": "closest",
          "mapbox": {
           "style": "light"
          },
          "paper_bgcolor": "white",
          "plot_bgcolor": "#E5ECF6",
          "polar": {
           "angularaxis": {
            "gridcolor": "white",
            "linecolor": "white",
            "ticks": ""
           },
           "bgcolor": "#E5ECF6",
           "radialaxis": {
            "gridcolor": "white",
            "linecolor": "white",
            "ticks": ""
           }
          },
          "scene": {
           "xaxis": {
            "backgroundcolor": "#E5ECF6",
            "gridcolor": "white",
            "gridwidth": 2,
            "linecolor": "white",
            "showbackground": true,
            "ticks": "",
            "zerolinecolor": "white"
           },
           "yaxis": {
            "backgroundcolor": "#E5ECF6",
            "gridcolor": "white",
            "gridwidth": 2,
            "linecolor": "white",
            "showbackground": true,
            "ticks": "",
            "zerolinecolor": "white"
           },
           "zaxis": {
            "backgroundcolor": "#E5ECF6",
            "gridcolor": "white",
            "gridwidth": 2,
            "linecolor": "white",
            "showbackground": true,
            "ticks": "",
            "zerolinecolor": "white"
           }
          },
          "shapedefaults": {
           "line": {
            "color": "#2a3f5f"
           }
          },
          "ternary": {
           "aaxis": {
            "gridcolor": "white",
            "linecolor": "white",
            "ticks": ""
           },
           "baxis": {
            "gridcolor": "white",
            "linecolor": "white",
            "ticks": ""
           },
           "bgcolor": "#E5ECF6",
           "caxis": {
            "gridcolor": "white",
            "linecolor": "white",
            "ticks": ""
           }
          },
          "title": {
           "x": 0.05
          },
          "xaxis": {
           "automargin": true,
           "gridcolor": "white",
           "linecolor": "white",
           "ticks": "",
           "title": {
            "standoff": 15
           },
           "zerolinecolor": "white",
           "zerolinewidth": 2
          },
          "yaxis": {
           "automargin": true,
           "gridcolor": "white",
           "linecolor": "white",
           "ticks": "",
           "title": {
            "standoff": 15
           },
           "zerolinecolor": "white",
           "zerolinewidth": 2
          }
         }
        },
        "title": {
         "text": "📊 Quadrant Heatmap (Predicted by ANN)"
        },
        "xaxis": {
         "anchor": "y",
         "constrain": "domain",
         "domain": [
          0,
          1
         ],
         "scaleanchor": "y",
         "title": {
          "text": "Trend (a–e)"
         }
        },
        "yaxis": {
         "anchor": "x",
         "autorange": "reversed",
         "constrain": "domain",
         "domain": [
          0,
          1
         ],
         "title": {
          "text": "Fundamental Group (A–E)"
         }
        }
       }
      }
     },
     "metadata": {},
     "output_type": "display_data"
    }
   ],
   "source": [
    "import plotly.express as px\n",
    "quadrant_counts = df_all_results[\"Predicted Quadrant\"].value_counts().sort_index()\n",
    "financial_levels = [\"A\",\"B\",\"C\",\"D\",\"E\"]   # กลุ่มพื้นฐาน (Fundamental)\n",
    "trend_levels = [\"a\",\"b\",\"c\",\"d\",\"e\"]       # กลุ่มเทคนิค (Trend)\n",
    "\n",
    "heatmap_data = pd.DataFrame(0, index=financial_levels, columns=trend_levels)\n",
    "for q, count in quadrant_counts.items():\n",
    "    fin = q[0]   # เช่น \"A\"\n",
    "    trend = q[1] # เช่น \"a\"\n",
    "    heatmap_data.loc[fin, trend] = count\n",
    "fig = px.imshow(\n",
    "    heatmap_data,\n",
    "    labels=dict(x=\"Trend (a–e)\", y=\"Fundamental Group (A–E)\", color=\"Stock Count\"),\n",
    "    x=trend_levels,\n",
    "    y=financial_levels,\n",
    "    color_continuous_scale=\"YlOrRd\",\n",
    "    text_auto=True\n",
    ")\n",
    "fig.update_layout(title=\"📊 Quadrant Heatmap (Predicted by ANN)\")\n"
   ]
  },
  {
   "cell_type": "code",
   "execution_count": 47,
   "id": "b1e8e4bc",
   "metadata": {},
   "outputs": [
    {
     "data": {
      "application/vnd.plotly.v1+json": {
       "config": {
        "plotlyServerURL": "https://plot.ly"
       },
       "data": [
        {
         "cells": {
          "align": "center",
          "fill": {
           "color": [
            [
             "#2ecc71",
             "#2ecc71",
             "#2ecc71",
             "#2ecc71",
             "#2ecc71"
            ],
            [
             "#58d68d",
             "#58d68d",
             "#58d68d",
             "#58d68d",
             "#58d68d"
            ],
            [
             "#f4d03f",
             "#f4d03f",
             "#f4d03f",
             "#f4d03f",
             "#f4d03f"
            ],
            [
             "#f39c12",
             "#f39c12",
             "#f39c12",
             "#f39c12",
             "#f39c12"
            ],
            [
             "#e74c3c",
             "#e74c3c",
             "#e74c3c",
             "#e74c3c",
             "#e74c3c"
            ]
           ]
          },
          "font": {
           "color": "white",
           "size": 12
          },
          "height": 100,
          "values": [
           [
            "<b>Aa</b><br>-",
            "<b>Ab</b><br>-",
            "<b>Ac</b><br>-",
            "<b>Ad</b><br>NVD<br>SVR<br>PTECH<br>TPOLY<br>WORK<br>AJ<br>SIAM<br>ITEL<br>TIGER<br>SAF",
            "<b>Ae</b><br>-"
           ],
           [
            "<b>Ba</b><br>-",
            "<b>Bb</b><br>-",
            "<b>Bc</b><br>-",
            "<b>Bd</b><br>PPPM<br>VGI<br>KSL<br>MANRIN<br>SFT<br>SHR<br>TGH<br>NPK<br>PG<br>BIOTEC",
            "<b>Be</b><br>-"
           ],
           [
            "<b>Ca</b><br>-",
            "<b>Cb</b><br>-",
            "<b>Cc</b><br>-",
            "<b>Cd</b><br>JDF<br>PLUS<br>CRC<br>LEE<br>SNPS<br>MGC<br>TK<br>LPN<br>GBX<br>WINDOW",
            "<b>Ce</b><br>-"
           ],
           [
            "<b>Da</b><br>TPL",
            "<b>Db</b><br>-",
            "<b>Dc</b><br>BAY",
            "<b>Dd</b><br>SUSCO<br>STP<br>NCP<br>ASP<br>SIS<br>PSP<br>TAN<br>OKJ<br>SFLEX<br>PCE",
            "<b>De</b><br>-"
           ],
           [
            "<b>Ea</b><br>-",
            "<b>Eb</b><br>KYE",
            "<b>Ec</b><br>-",
            "<b>Ed</b><br>TPCH<br>POLY<br>VCOM<br>KDH<br>EA<br>ROJNA<br>ADVICE<br>SAT<br>TASCO<br>AYUD",
            "<b>Ee</b><br>-"
           ]
          ]
         },
         "header": {
          "align": "center",
          "fill": {
           "color": "#dcdcdc"
          },
          "font": {
           "color": "black",
           "size": 14
          },
          "values": [
           "Super Bullish (a)",
           "Up Trend (b)",
           "Sideway (c)",
           "Down Trend (d)",
           "Crash (e)"
          ]
         },
         "type": "table"
        }
       ],
       "layout": {
        "template": {
         "data": {
          "bar": [
           {
            "error_x": {
             "color": "#2a3f5f"
            },
            "error_y": {
             "color": "#2a3f5f"
            },
            "marker": {
             "line": {
              "color": "#E5ECF6",
              "width": 0.5
             },
             "pattern": {
              "fillmode": "overlay",
              "size": 10,
              "solidity": 0.2
             }
            },
            "type": "bar"
           }
          ],
          "barpolar": [
           {
            "marker": {
             "line": {
              "color": "#E5ECF6",
              "width": 0.5
             },
             "pattern": {
              "fillmode": "overlay",
              "size": 10,
              "solidity": 0.2
             }
            },
            "type": "barpolar"
           }
          ],
          "carpet": [
           {
            "aaxis": {
             "endlinecolor": "#2a3f5f",
             "gridcolor": "white",
             "linecolor": "white",
             "minorgridcolor": "white",
             "startlinecolor": "#2a3f5f"
            },
            "baxis": {
             "endlinecolor": "#2a3f5f",
             "gridcolor": "white",
             "linecolor": "white",
             "minorgridcolor": "white",
             "startlinecolor": "#2a3f5f"
            },
            "type": "carpet"
           }
          ],
          "choropleth": [
           {
            "colorbar": {
             "outlinewidth": 0,
             "ticks": ""
            },
            "type": "choropleth"
           }
          ],
          "contour": [
           {
            "colorbar": {
             "outlinewidth": 0,
             "ticks": ""
            },
            "colorscale": [
             [
              0,
              "#0d0887"
             ],
             [
              0.1111111111111111,
              "#46039f"
             ],
             [
              0.2222222222222222,
              "#7201a8"
             ],
             [
              0.3333333333333333,
              "#9c179e"
             ],
             [
              0.4444444444444444,
              "#bd3786"
             ],
             [
              0.5555555555555556,
              "#d8576b"
             ],
             [
              0.6666666666666666,
              "#ed7953"
             ],
             [
              0.7777777777777778,
              "#fb9f3a"
             ],
             [
              0.8888888888888888,
              "#fdca26"
             ],
             [
              1,
              "#f0f921"
             ]
            ],
            "type": "contour"
           }
          ],
          "contourcarpet": [
           {
            "colorbar": {
             "outlinewidth": 0,
             "ticks": ""
            },
            "type": "contourcarpet"
           }
          ],
          "heatmap": [
           {
            "colorbar": {
             "outlinewidth": 0,
             "ticks": ""
            },
            "colorscale": [
             [
              0,
              "#0d0887"
             ],
             [
              0.1111111111111111,
              "#46039f"
             ],
             [
              0.2222222222222222,
              "#7201a8"
             ],
             [
              0.3333333333333333,
              "#9c179e"
             ],
             [
              0.4444444444444444,
              "#bd3786"
             ],
             [
              0.5555555555555556,
              "#d8576b"
             ],
             [
              0.6666666666666666,
              "#ed7953"
             ],
             [
              0.7777777777777778,
              "#fb9f3a"
             ],
             [
              0.8888888888888888,
              "#fdca26"
             ],
             [
              1,
              "#f0f921"
             ]
            ],
            "type": "heatmap"
           }
          ],
          "histogram": [
           {
            "marker": {
             "pattern": {
              "fillmode": "overlay",
              "size": 10,
              "solidity": 0.2
             }
            },
            "type": "histogram"
           }
          ],
          "histogram2d": [
           {
            "colorbar": {
             "outlinewidth": 0,
             "ticks": ""
            },
            "colorscale": [
             [
              0,
              "#0d0887"
             ],
             [
              0.1111111111111111,
              "#46039f"
             ],
             [
              0.2222222222222222,
              "#7201a8"
             ],
             [
              0.3333333333333333,
              "#9c179e"
             ],
             [
              0.4444444444444444,
              "#bd3786"
             ],
             [
              0.5555555555555556,
              "#d8576b"
             ],
             [
              0.6666666666666666,
              "#ed7953"
             ],
             [
              0.7777777777777778,
              "#fb9f3a"
             ],
             [
              0.8888888888888888,
              "#fdca26"
             ],
             [
              1,
              "#f0f921"
             ]
            ],
            "type": "histogram2d"
           }
          ],
          "histogram2dcontour": [
           {
            "colorbar": {
             "outlinewidth": 0,
             "ticks": ""
            },
            "colorscale": [
             [
              0,
              "#0d0887"
             ],
             [
              0.1111111111111111,
              "#46039f"
             ],
             [
              0.2222222222222222,
              "#7201a8"
             ],
             [
              0.3333333333333333,
              "#9c179e"
             ],
             [
              0.4444444444444444,
              "#bd3786"
             ],
             [
              0.5555555555555556,
              "#d8576b"
             ],
             [
              0.6666666666666666,
              "#ed7953"
             ],
             [
              0.7777777777777778,
              "#fb9f3a"
             ],
             [
              0.8888888888888888,
              "#fdca26"
             ],
             [
              1,
              "#f0f921"
             ]
            ],
            "type": "histogram2dcontour"
           }
          ],
          "mesh3d": [
           {
            "colorbar": {
             "outlinewidth": 0,
             "ticks": ""
            },
            "type": "mesh3d"
           }
          ],
          "parcoords": [
           {
            "line": {
             "colorbar": {
              "outlinewidth": 0,
              "ticks": ""
             }
            },
            "type": "parcoords"
           }
          ],
          "pie": [
           {
            "automargin": true,
            "type": "pie"
           }
          ],
          "scatter": [
           {
            "fillpattern": {
             "fillmode": "overlay",
             "size": 10,
             "solidity": 0.2
            },
            "type": "scatter"
           }
          ],
          "scatter3d": [
           {
            "line": {
             "colorbar": {
              "outlinewidth": 0,
              "ticks": ""
             }
            },
            "marker": {
             "colorbar": {
              "outlinewidth": 0,
              "ticks": ""
             }
            },
            "type": "scatter3d"
           }
          ],
          "scattercarpet": [
           {
            "marker": {
             "colorbar": {
              "outlinewidth": 0,
              "ticks": ""
             }
            },
            "type": "scattercarpet"
           }
          ],
          "scattergeo": [
           {
            "marker": {
             "colorbar": {
              "outlinewidth": 0,
              "ticks": ""
             }
            },
            "type": "scattergeo"
           }
          ],
          "scattergl": [
           {
            "marker": {
             "colorbar": {
              "outlinewidth": 0,
              "ticks": ""
             }
            },
            "type": "scattergl"
           }
          ],
          "scattermap": [
           {
            "marker": {
             "colorbar": {
              "outlinewidth": 0,
              "ticks": ""
             }
            },
            "type": "scattermap"
           }
          ],
          "scattermapbox": [
           {
            "marker": {
             "colorbar": {
              "outlinewidth": 0,
              "ticks": ""
             }
            },
            "type": "scattermapbox"
           }
          ],
          "scatterpolar": [
           {
            "marker": {
             "colorbar": {
              "outlinewidth": 0,
              "ticks": ""
             }
            },
            "type": "scatterpolar"
           }
          ],
          "scatterpolargl": [
           {
            "marker": {
             "colorbar": {
              "outlinewidth": 0,
              "ticks": ""
             }
            },
            "type": "scatterpolargl"
           }
          ],
          "scatterternary": [
           {
            "marker": {
             "colorbar": {
              "outlinewidth": 0,
              "ticks": ""
             }
            },
            "type": "scatterternary"
           }
          ],
          "surface": [
           {
            "colorbar": {
             "outlinewidth": 0,
             "ticks": ""
            },
            "colorscale": [
             [
              0,
              "#0d0887"
             ],
             [
              0.1111111111111111,
              "#46039f"
             ],
             [
              0.2222222222222222,
              "#7201a8"
             ],
             [
              0.3333333333333333,
              "#9c179e"
             ],
             [
              0.4444444444444444,
              "#bd3786"
             ],
             [
              0.5555555555555556,
              "#d8576b"
             ],
             [
              0.6666666666666666,
              "#ed7953"
             ],
             [
              0.7777777777777778,
              "#fb9f3a"
             ],
             [
              0.8888888888888888,
              "#fdca26"
             ],
             [
              1,
              "#f0f921"
             ]
            ],
            "type": "surface"
           }
          ],
          "table": [
           {
            "cells": {
             "fill": {
              "color": "#EBF0F8"
             },
             "line": {
              "color": "white"
             }
            },
            "header": {
             "fill": {
              "color": "#C8D4E3"
             },
             "line": {
              "color": "white"
             }
            },
            "type": "table"
           }
          ]
         },
         "layout": {
          "annotationdefaults": {
           "arrowcolor": "#2a3f5f",
           "arrowhead": 0,
           "arrowwidth": 1
          },
          "autotypenumbers": "strict",
          "coloraxis": {
           "colorbar": {
            "outlinewidth": 0,
            "ticks": ""
           }
          },
          "colorscale": {
           "diverging": [
            [
             0,
             "#8e0152"
            ],
            [
             0.1,
             "#c51b7d"
            ],
            [
             0.2,
             "#de77ae"
            ],
            [
             0.3,
             "#f1b6da"
            ],
            [
             0.4,
             "#fde0ef"
            ],
            [
             0.5,
             "#f7f7f7"
            ],
            [
             0.6,
             "#e6f5d0"
            ],
            [
             0.7,
             "#b8e186"
            ],
            [
             0.8,
             "#7fbc41"
            ],
            [
             0.9,
             "#4d9221"
            ],
            [
             1,
             "#276419"
            ]
           ],
           "sequential": [
            [
             0,
             "#0d0887"
            ],
            [
             0.1111111111111111,
             "#46039f"
            ],
            [
             0.2222222222222222,
             "#7201a8"
            ],
            [
             0.3333333333333333,
             "#9c179e"
            ],
            [
             0.4444444444444444,
             "#bd3786"
            ],
            [
             0.5555555555555556,
             "#d8576b"
            ],
            [
             0.6666666666666666,
             "#ed7953"
            ],
            [
             0.7777777777777778,
             "#fb9f3a"
            ],
            [
             0.8888888888888888,
             "#fdca26"
            ],
            [
             1,
             "#f0f921"
            ]
           ],
           "sequentialminus": [
            [
             0,
             "#0d0887"
            ],
            [
             0.1111111111111111,
             "#46039f"
            ],
            [
             0.2222222222222222,
             "#7201a8"
            ],
            [
             0.3333333333333333,
             "#9c179e"
            ],
            [
             0.4444444444444444,
             "#bd3786"
            ],
            [
             0.5555555555555556,
             "#d8576b"
            ],
            [
             0.6666666666666666,
             "#ed7953"
            ],
            [
             0.7777777777777778,
             "#fb9f3a"
            ],
            [
             0.8888888888888888,
             "#fdca26"
            ],
            [
             1,
             "#f0f921"
            ]
           ]
          },
          "colorway": [
           "#636efa",
           "#EF553B",
           "#00cc96",
           "#ab63fa",
           "#FFA15A",
           "#19d3f3",
           "#FF6692",
           "#B6E880",
           "#FF97FF",
           "#FECB52"
          ],
          "font": {
           "color": "#2a3f5f"
          },
          "geo": {
           "bgcolor": "white",
           "lakecolor": "white",
           "landcolor": "#E5ECF6",
           "showlakes": true,
           "showland": true,
           "subunitcolor": "white"
          },
          "hoverlabel": {
           "align": "left"
          },
          "hovermode": "closest",
          "mapbox": {
           "style": "light"
          },
          "paper_bgcolor": "white",
          "plot_bgcolor": "#E5ECF6",
          "polar": {
           "angularaxis": {
            "gridcolor": "white",
            "linecolor": "white",
            "ticks": ""
           },
           "bgcolor": "#E5ECF6",
           "radialaxis": {
            "gridcolor": "white",
            "linecolor": "white",
            "ticks": ""
           }
          },
          "scene": {
           "xaxis": {
            "backgroundcolor": "#E5ECF6",
            "gridcolor": "white",
            "gridwidth": 2,
            "linecolor": "white",
            "showbackground": true,
            "ticks": "",
            "zerolinecolor": "white"
           },
           "yaxis": {
            "backgroundcolor": "#E5ECF6",
            "gridcolor": "white",
            "gridwidth": 2,
            "linecolor": "white",
            "showbackground": true,
            "ticks": "",
            "zerolinecolor": "white"
           },
           "zaxis": {
            "backgroundcolor": "#E5ECF6",
            "gridcolor": "white",
            "gridwidth": 2,
            "linecolor": "white",
            "showbackground": true,
            "ticks": "",
            "zerolinecolor": "white"
           }
          },
          "shapedefaults": {
           "line": {
            "color": "#2a3f5f"
           }
          },
          "ternary": {
           "aaxis": {
            "gridcolor": "white",
            "linecolor": "white",
            "ticks": ""
           },
           "baxis": {
            "gridcolor": "white",
            "linecolor": "white",
            "ticks": ""
           },
           "bgcolor": "#E5ECF6",
           "caxis": {
            "gridcolor": "white",
            "linecolor": "white",
            "ticks": ""
           }
          },
          "title": {
           "x": 0.05
          },
          "xaxis": {
           "automargin": true,
           "gridcolor": "white",
           "linecolor": "white",
           "ticks": "",
           "title": {
            "standoff": 15
           },
           "zerolinecolor": "white",
           "zerolinewidth": 2
          },
          "yaxis": {
           "automargin": true,
           "gridcolor": "white",
           "linecolor": "white",
           "ticks": "",
           "title": {
            "standoff": 15
           },
           "zerolinecolor": "white",
           "zerolinewidth": 2
          }
         }
        },
        "title": {
         "text": "📊 Stock Quadrant Table จาก df_all_results (Predicted)"
        }
       }
      }
     },
     "metadata": {},
     "output_type": "display_data"
    }
   ],
   "source": [
    "import plotly.graph_objects as go\n",
    "\n",
    "# ✅ สร้าง dict: Quadrant → รายชื่อหุ้น\n",
    "quadrant_groups = (\n",
    "    df_all_results.groupby(\"Predicted Quadrant\")[\"Symbol\"]\n",
    "    .apply(list)\n",
    "    .to_dict()\n",
    ")\n",
    "\n",
    "# ✅ กำหนดลำดับแกน\n",
    "financial_levels = ['A', 'B', 'C', 'D', 'E']  # A = Strong fundamentals\n",
    "trend_levels = ['a', 'b', 'c', 'd', 'e']      # a = Bullish, e = Crash\n",
    "\n",
    "# ✅ เตรียมตาราง 5x5\n",
    "plot_table = []\n",
    "for f in financial_levels:\n",
    "    row = []\n",
    "    for t in trend_levels:\n",
    "        code = f + t\n",
    "        stocks = quadrant_groups.get(code, [])\n",
    "        if stocks:\n",
    "            stock_list = \"<br>\".join(stocks[:10])  # แสดงสูงสุด 10 ตัว\n",
    "            cell_text = f\"<b>{code}</b><br>{stock_list}\"\n",
    "        else:\n",
    "            cell_text = f\"<b>{code}</b><br>-\"\n",
    "        row.append(cell_text)\n",
    "    plot_table.append(row)\n",
    "\n",
    "# ✅ สีแต่ละแถว (A–E)\n",
    "colors = [[{'A': '#2ecc71', 'B': '#58d68d', 'C': '#f4d03f',\n",
    "            'D': '#f39c12', 'E': '#e74c3c'}[f]]*5 for f in financial_levels]\n",
    "\n",
    "# ✅ วาดตาราง\n",
    "fig = go.Figure(data=go.Table(\n",
    "    header=dict(\n",
    "        values=[\"Super Bullish (a)\", \"Up Trend (b)\", \"Sideway (c)\", \"Down Trend (d)\", \"Crash (e)\"],\n",
    "        fill_color=\"#dcdcdc\",\n",
    "        align=\"center\",\n",
    "        font=dict(color=\"black\", size=14)\n",
    "    ),\n",
    "    cells=dict(\n",
    "        values=plot_table,\n",
    "        fill_color=colors,\n",
    "        align=\"center\",\n",
    "        height=100,\n",
    "        font=dict(color=\"white\", size=12)\n",
    "    )\n",
    "))\n",
    "\n",
    "fig.update_layout(title=\"📊 Stock Quadrant Table จาก df_all_results (Predicted)\")\n",
    "fig.show()\n"
   ]
  },
  {
   "cell_type": "markdown",
   "id": "a46893c2",
   "metadata": {},
   "source": [
    "RULE-BASE"
   ]
  },
  {
   "cell_type": "code",
   "execution_count": 48,
   "id": "41456e12",
   "metadata": {},
   "outputs": [],
   "source": [
    "import pandas as pd\n",
    "import numpy as np\n",
    "import ta\n",
    "from sklearn.preprocessing import StandardScaler\n",
    "\n",
    "# -------------------------------\n",
    "# 1) ฟังก์ชันคำนวณ Technical Grade (a–e)\n",
    "# -------------------------------\n",
    "def compute_technical_grades(df_candle, band_pct=0.015):\n",
    "    df_result = []\n",
    "\n",
    "    for symbol, df_sym in df_candle.groupby('symbol'):\n",
    "        df_sym = df_sym.sort_values('time').copy()\n",
    "        df_sym = df_sym.dropna(subset=['close_price'])\n",
    "\n",
    "        if len(df_sym) < 50:\n",
    "            continue\n",
    "\n",
    "        # EMA + RSI\n",
    "        df_sym['ema5']   = df_sym['close_price'].ewm(span=5).mean()\n",
    "        df_sym['ema15']  = df_sym['close_price'].ewm(span=15).mean()\n",
    "        df_sym['ema35']  = df_sym['close_price'].ewm(span=35).mean()\n",
    "        df_sym['ema89']  = df_sym['close_price'].ewm(span=89).mean()\n",
    "        df_sym['ema200'] = df_sym['close_price'].ewm(span=200).mean()\n",
    "        df_sym['rsi']    = ta.momentum.RSIIndicator(close=df_sym['close_price'], window=14).rsi()\n",
    "\n",
    "        df_sym = df_sym.dropna(subset=['ema5','ema15','ema35','ema89','ema200','rsi'])\n",
    "        if df_sym.empty:\n",
    "            continue\n",
    "\n",
    "        # ใช้ข้อมูลล่าสุด\n",
    "        row = df_sym.iloc[-1]\n",
    "        c, r = row['close_price'], row['rsi']\n",
    "        e5, e15, e35, e89, e200 = row['ema5'], row['ema15'], row['ema35'], row['ema89'], row['ema200']\n",
    "\n",
    "        # Rule-based grading\n",
    "        if c >= e5 and r >= 70:\n",
    "            grade = 'a'\n",
    "        elif c >= e35 and e35 >= e89:\n",
    "            grade = 'b'\n",
    "        elif c >= e89 and (max([e5,e15,e35,e89]) - min([e5,e15,e35,e89])) / np.mean([e5,e15,e35,e89]) <= band_pct:\n",
    "            grade = 'c'\n",
    "        elif c < e89 and c < e200 and e89 < e200:\n",
    "            grade = 'd'\n",
    "        elif c < e5 < e15 < e35 < e89 < e200 and r <= 30:\n",
    "            grade = 'e'\n",
    "        else:\n",
    "            grade = 'c'\n",
    "\n",
    "        df_result.append({\n",
    "            'symbol': symbol,\n",
    "            'trend_grade': grade\n",
    "        })\n",
    "\n",
    "    return pd.DataFrame(df_result)\n",
    "\n",
    "\n",
    "# -------------------------------\n",
    "# 2) ฟังก์ชันคำนวณ Fundamental Group (A–E)\n",
    "# -------------------------------\n",
    "def compute_fundamental_groups(df_fun):\n",
    "    features = ['eps', 'pe', 'pbv', 'percentyield', 'marketcap']\n",
    "    X = df_fun[features].dropna().copy()\n",
    "\n",
    "    scaler = StandardScaler()\n",
    "    X_scaled = scaler.fit_transform(X)\n",
    "    X_scaled_df = pd.DataFrame(X_scaled, columns=features, index=X.index)\n",
    "\n",
    "    # สร้างคะแนนรวม (คุณอาจปรับ logic ได้)\n",
    "    X_scaled_df['score'] = (\n",
    "        X_scaled_df['eps'] - X_scaled_df['pe'] +\n",
    "        X_scaled_df['pbv'] + X_scaled_df['percentyield'] +\n",
    "        X_scaled_df['marketcap']\n",
    "    )\n",
    "\n",
    "    df_fun.loc[X.index, 'stat_group'] = pd.qcut(\n",
    "        X_scaled_df['score'], 5, labels=['A','B','C','D','E']\n",
    "    )\n",
    "\n",
    "    return df_fun[['symbol','stat_group']]\n",
    "\n",
    "\n",
    "# -------------------------------\n",
    "# 3) รวมสองผลลัพธ์ → Quadrant (Aa–Ee)\n",
    "# -------------------------------\n",
    "def compute_quadrant(df_fun, df_candle):\n",
    "    df_fundamental = compute_fundamental_groups(df_fun)\n",
    "    df_technical   = compute_technical_grades(df_candle)\n",
    "\n",
    "    df_merge = pd.merge(df_fundamental, df_technical, on='symbol', how='inner')\n",
    "    \n",
    "    # ✅ fix type error\n",
    "    df_merge['quadrant'] = df_merge['stat_group'].astype(str) + df_merge['trend_grade'].astype(str)\n",
    "    return df_merge\n"
   ]
  },
  {
   "cell_type": "code",
   "execution_count": 49,
   "id": "c0d5ff8d",
   "metadata": {},
   "outputs": [
    {
     "name": "stdout",
     "output_type": "stream",
     "text": [
      "  symbol stat_group trend_grade quadrant\n",
      "0   PPPM          B           c       Bc\n",
      "1   TPCH          E           d       Ed\n",
      "2   POLY          E           d       Ed\n",
      "3   VCOM          E           c       Ec\n",
      "4    KDH          E           d       Ed\n"
     ]
    }
   ],
   "source": [
    "# -------------------------------\n",
    "# ✅ ใช้งาน\n",
    "# -------------------------------\n",
    "df_quadrant = compute_quadrant(df_fun2, df_cand)\n",
    "\n",
    "print(df_quadrant.head())"
   ]
  }
 ],
 "metadata": {
  "kernelspec": {
   "display_name": "Python 3",
   "language": "python",
   "name": "python3"
  },
  "language_info": {
   "codemirror_mode": {
    "name": "ipython",
    "version": 3
   },
   "file_extension": ".py",
   "mimetype": "text/x-python",
   "name": "python",
   "nbconvert_exporter": "python",
   "pygments_lexer": "ipython3",
   "version": "3.10.0"
  }
 },
 "nbformat": 4,
 "nbformat_minor": 5
}
