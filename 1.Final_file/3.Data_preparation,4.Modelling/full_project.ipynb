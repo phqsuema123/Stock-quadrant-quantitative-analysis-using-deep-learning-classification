{
 "cells": [
  {
   "cell_type": "markdown",
   "id": "b0206f15",
   "metadata": {},
   "source": [
    "# CRISP-DM \n",
    "\n",
    "This notebook follows the **CRISP-DM (Cross Industry Standard Process for Data Mining)** methodology:\n",
    "1. Business Understanding\n",
    "2. Data Understanding\n",
    "3. Data Preparation\n",
    "4. Modeling\n",
    "5. Evaluation\n",
    "6. Deployment\n",
    "\n",
    "The project aims to build a Quadrant Stock Classification System using **deep learning models**."
   ]
  },
  {
   "cell_type": "markdown",
   "id": "8fec93f9",
   "metadata": {},
   "source": [
    "## Business Understanding\n",
    "เพื่อหากลุ่มของหุ้นโดยใช้ข้อมูลราคาหุ้นในอดีตเเละปัจจัยพื้นฐานของบริษัท\n",
    "\n",
    "เพื่อช่วยให้นักลงทุนวิเคราะห์หุ้นได้รวดเร็วและแม่นยำยิ่งขึ้น"
   ]
  },
  {
   "cell_type": "markdown",
   "id": "6a931e8d",
   "metadata": {},
   "source": [
    "## Data Understanding\n",
    "ข้อมูลปัจจัยพื้นฐานของหุ้นดึงมาจากAPIของSettrade Open API\n",
    "\n",
    "https://developer.settrade.com/open-api/api-reference/reference/sdkv2/python/market-data/getQuoteSymbol\n",
    "\n",
    "ข้อมูลราคาหุ้นในอดีตของหุ้นดึงมาจากAPIของSettrade Open API\n",
    "\n",
    "https://developer.settrade.com/open-api/api-reference/reference/sdkv2/python/market-historical-data/2_getCandlestick\n",
    "\n",
    "ดึงใส่ในฐานข้อมูลCasaandraโดยข้อมูลกปัจจัยของหุ้นใส่ในตารางfinancal_data_fromsettradeAPIเเละข้อมูลกราคาหุ้นในอดีตของหุ้นใส่ในตารางcandlestick_data\n"
   ]
  },
  {
   "cell_type": "code",
   "execution_count": 2,
   "id": "51cc81f7",
   "metadata": {},
   "outputs": [],
   "source": [
    "from cassandra.cluster import Cluster\n",
    "import pandas as pd\n",
    "import numpy as np\n",
    "from datetime import datetime"
   ]
  },
  {
   "cell_type": "code",
   "execution_count": 3,
   "id": "6a456434",
   "metadata": {},
   "outputs": [],
   "source": [
    "cluster = Cluster(['127.0.0.1'])\n",
    "session = cluster.connect()\n",
    "session.set_keyspace('data_stock')"
   ]
  },
  {
   "cell_type": "code",
   "execution_count": 64,
   "id": "3ed836a6",
   "metadata": {},
   "outputs": [],
   "source": [
    "rows_price = session.execute(\"\"\"\n",
    "    SELECT * FROM candlestick_data ALLOW FILTERING\n",
    "\"\"\")\n",
    "df_cand = pd.DataFrame(rows_price)\n",
    "df_cand['time'] = pd.to_datetime(df_cand['time'])\n",
    "df_cand = df_cand.sort_values(['symbol', 'time'])"
   ]
  },
  {
   "cell_type": "markdown",
   "id": "cfa1fa77",
   "metadata": {},
   "source": [
    "ตัวอย่างข้อมูลของcandlestick"
   ]
  },
  {
   "cell_type": "code",
   "execution_count": 5,
   "id": "2a45bf6d",
   "metadata": {},
   "outputs": [
    {
     "data": {
      "text/html": [
       "<div>\n",
       "<style scoped>\n",
       "    .dataframe tbody tr th:only-of-type {\n",
       "        vertical-align: middle;\n",
       "    }\n",
       "\n",
       "    .dataframe tbody tr th {\n",
       "        vertical-align: top;\n",
       "    }\n",
       "\n",
       "    .dataframe thead th {\n",
       "        text-align: right;\n",
       "    }\n",
       "</style>\n",
       "<table border=\"1\" class=\"dataframe\">\n",
       "  <thead>\n",
       "    <tr style=\"text-align: right;\">\n",
       "      <th></th>\n",
       "      <th>symbol</th>\n",
       "      <th>time</th>\n",
       "      <th>close_price</th>\n",
       "      <th>high_price</th>\n",
       "      <th>low_price</th>\n",
       "      <th>open_price</th>\n",
       "      <th>value</th>\n",
       "      <th>volume</th>\n",
       "    </tr>\n",
       "  </thead>\n",
       "  <tbody>\n",
       "    <tr>\n",
       "      <th>362761</th>\n",
       "      <td>24CS</td>\n",
       "      <td>2022-10-03</td>\n",
       "      <td>10.20</td>\n",
       "      <td>10.20</td>\n",
       "      <td>7.10</td>\n",
       "      <td>7.10</td>\n",
       "      <td>0.0</td>\n",
       "      <td>559474246</td>\n",
       "    </tr>\n",
       "    <tr>\n",
       "      <th>362762</th>\n",
       "      <td>24CS</td>\n",
       "      <td>2022-10-04</td>\n",
       "      <td>7.15</td>\n",
       "      <td>11.10</td>\n",
       "      <td>7.15</td>\n",
       "      <td>10.70</td>\n",
       "      <td>0.0</td>\n",
       "      <td>330716796</td>\n",
       "    </tr>\n",
       "    <tr>\n",
       "      <th>362763</th>\n",
       "      <td>24CS</td>\n",
       "      <td>2022-10-05</td>\n",
       "      <td>5.15</td>\n",
       "      <td>6.45</td>\n",
       "      <td>5.05</td>\n",
       "      <td>5.85</td>\n",
       "      <td>0.0</td>\n",
       "      <td>361105489</td>\n",
       "    </tr>\n",
       "    <tr>\n",
       "      <th>362764</th>\n",
       "      <td>24CS</td>\n",
       "      <td>2022-10-06</td>\n",
       "      <td>5.20</td>\n",
       "      <td>5.45</td>\n",
       "      <td>4.70</td>\n",
       "      <td>5.40</td>\n",
       "      <td>0.0</td>\n",
       "      <td>232684182</td>\n",
       "    </tr>\n",
       "    <tr>\n",
       "      <th>362765</th>\n",
       "      <td>24CS</td>\n",
       "      <td>2022-10-07</td>\n",
       "      <td>5.00</td>\n",
       "      <td>5.15</td>\n",
       "      <td>4.76</td>\n",
       "      <td>5.10</td>\n",
       "      <td>0.0</td>\n",
       "      <td>131780847</td>\n",
       "    </tr>\n",
       "    <tr>\n",
       "      <th>362766</th>\n",
       "      <td>24CS</td>\n",
       "      <td>2022-10-10</td>\n",
       "      <td>5.00</td>\n",
       "      <td>5.15</td>\n",
       "      <td>4.88</td>\n",
       "      <td>4.98</td>\n",
       "      <td>0.0</td>\n",
       "      <td>51045639</td>\n",
       "    </tr>\n",
       "    <tr>\n",
       "      <th>362767</th>\n",
       "      <td>24CS</td>\n",
       "      <td>2022-10-11</td>\n",
       "      <td>4.48</td>\n",
       "      <td>5.05</td>\n",
       "      <td>4.48</td>\n",
       "      <td>5.00</td>\n",
       "      <td>0.0</td>\n",
       "      <td>43520132</td>\n",
       "    </tr>\n",
       "    <tr>\n",
       "      <th>362768</th>\n",
       "      <td>24CS</td>\n",
       "      <td>2022-10-12</td>\n",
       "      <td>3.88</td>\n",
       "      <td>4.62</td>\n",
       "      <td>3.88</td>\n",
       "      <td>4.50</td>\n",
       "      <td>0.0</td>\n",
       "      <td>85779188</td>\n",
       "    </tr>\n",
       "    <tr>\n",
       "      <th>362769</th>\n",
       "      <td>24CS</td>\n",
       "      <td>2022-10-17</td>\n",
       "      <td>3.68</td>\n",
       "      <td>3.90</td>\n",
       "      <td>3.56</td>\n",
       "      <td>3.88</td>\n",
       "      <td>0.0</td>\n",
       "      <td>9027003</td>\n",
       "    </tr>\n",
       "    <tr>\n",
       "      <th>362770</th>\n",
       "      <td>24CS</td>\n",
       "      <td>2022-10-18</td>\n",
       "      <td>3.88</td>\n",
       "      <td>3.90</td>\n",
       "      <td>3.64</td>\n",
       "      <td>3.72</td>\n",
       "      <td>0.0</td>\n",
       "      <td>11371787</td>\n",
       "    </tr>\n",
       "  </tbody>\n",
       "</table>\n",
       "</div>"
      ],
      "text/plain": [
       "       symbol       time  close_price  high_price  low_price  open_price  \\\n",
       "362761   24CS 2022-10-03        10.20       10.20       7.10        7.10   \n",
       "362762   24CS 2022-10-04         7.15       11.10       7.15       10.70   \n",
       "362763   24CS 2022-10-05         5.15        6.45       5.05        5.85   \n",
       "362764   24CS 2022-10-06         5.20        5.45       4.70        5.40   \n",
       "362765   24CS 2022-10-07         5.00        5.15       4.76        5.10   \n",
       "362766   24CS 2022-10-10         5.00        5.15       4.88        4.98   \n",
       "362767   24CS 2022-10-11         4.48        5.05       4.48        5.00   \n",
       "362768   24CS 2022-10-12         3.88        4.62       3.88        4.50   \n",
       "362769   24CS 2022-10-17         3.68        3.90       3.56        3.88   \n",
       "362770   24CS 2022-10-18         3.88        3.90       3.64        3.72   \n",
       "\n",
       "        value     volume  \n",
       "362761    0.0  559474246  \n",
       "362762    0.0  330716796  \n",
       "362763    0.0  361105489  \n",
       "362764    0.0  232684182  \n",
       "362765    0.0  131780847  \n",
       "362766    0.0   51045639  \n",
       "362767    0.0   43520132  \n",
       "362768    0.0   85779188  \n",
       "362769    0.0    9027003  \n",
       "362770    0.0   11371787  "
      ]
     },
     "execution_count": 5,
     "metadata": {},
     "output_type": "execute_result"
    }
   ],
   "source": [
    "df_cand.head(10)"
   ]
  },
  {
   "cell_type": "markdown",
   "id": "f0118c43",
   "metadata": {},
   "source": [
    "ตารางกราฟแท่งของหุ้น 24CSเเละปริมาณการซื้อขายของหุ้น"
   ]
  },
  {
   "cell_type": "code",
   "execution_count": 6,
   "id": "45b48071",
   "metadata": {},
   "outputs": [
    {
     "data": {
      "application/vnd.plotly.v1+json": {
       "config": {
        "plotlyServerURL": "https://plot.ly"
       },
       "data": [
        {
         "close": {
          "bdata": "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",
          "dtype": "f8"
         },
         "high": {
          "bdata": "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",
          "dtype": "f8"
         },
         "low": {
          "bdata": "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",
          "dtype": "f8"
         },
         "name": "Candlestick",
         "open": {
          "bdata": "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",
          "dtype": "f8"
         },
         "type": "candlestick",
         "x": [
          "2024-08-02T00:00:00.000000000",
          "2024-08-05T00:00:00.000000000",
          "2024-08-06T00:00:00.000000000",
          "2024-08-07T00:00:00.000000000",
          "2024-08-08T00:00:00.000000000",
          "2024-08-09T00:00:00.000000000",
          "2024-08-13T00:00:00.000000000",
          "2024-08-14T00:00:00.000000000",
          "2024-08-15T00:00:00.000000000",
          "2024-08-16T00:00:00.000000000",
          "2024-08-19T00:00:00.000000000",
          "2024-08-20T00:00:00.000000000",
          "2024-08-21T00:00:00.000000000",
          "2024-08-22T00:00:00.000000000",
          "2024-08-23T00:00:00.000000000",
          "2024-08-26T00:00:00.000000000",
          "2024-08-27T00:00:00.000000000",
          "2024-08-28T00:00:00.000000000",
          "2024-08-29T00:00:00.000000000",
          "2024-08-30T00:00:00.000000000",
          "2024-09-02T00:00:00.000000000",
          "2024-09-03T00:00:00.000000000",
          "2024-09-04T00:00:00.000000000",
          "2024-09-05T00:00:00.000000000",
          "2024-09-06T00:00:00.000000000",
          "2024-09-09T00:00:00.000000000",
          "2024-09-10T00:00:00.000000000",
          "2024-09-11T00:00:00.000000000",
          "2024-09-12T00:00:00.000000000",
          "2024-09-13T00:00:00.000000000",
          "2024-09-16T00:00:00.000000000",
          "2024-09-17T00:00:00.000000000",
          "2024-09-18T00:00:00.000000000",
          "2024-09-19T00:00:00.000000000",
          "2024-09-20T00:00:00.000000000",
          "2024-09-23T00:00:00.000000000",
          "2024-09-24T00:00:00.000000000",
          "2024-09-25T00:00:00.000000000",
          "2024-09-26T00:00:00.000000000",
          "2024-09-27T00:00:00.000000000",
          "2024-09-30T00:00:00.000000000",
          "2024-10-01T00:00:00.000000000",
          "2024-10-02T00:00:00.000000000",
          "2024-10-03T00:00:00.000000000",
          "2024-10-04T00:00:00.000000000",
          "2024-10-07T00:00:00.000000000",
          "2024-10-08T00:00:00.000000000",
          "2024-10-09T00:00:00.000000000",
          "2024-10-10T00:00:00.000000000",
          "2024-10-11T00:00:00.000000000",
          "2024-10-15T00:00:00.000000000",
          "2024-10-16T00:00:00.000000000",
          "2024-10-17T00:00:00.000000000",
          "2024-10-18T00:00:00.000000000",
          "2024-10-21T00:00:00.000000000",
          "2024-10-22T00:00:00.000000000",
          "2024-10-24T00:00:00.000000000",
          "2024-10-25T00:00:00.000000000",
          "2024-10-28T00:00:00.000000000",
          "2024-10-29T00:00:00.000000000",
          "2024-10-30T00:00:00.000000000",
          "2024-10-31T00:00:00.000000000",
          "2024-11-01T00:00:00.000000000",
          "2024-11-04T00:00:00.000000000",
          "2024-11-05T00:00:00.000000000",
          "2024-11-06T00:00:00.000000000",
          "2024-11-07T00:00:00.000000000",
          "2024-11-08T00:00:00.000000000",
          "2024-11-11T00:00:00.000000000",
          "2024-11-12T00:00:00.000000000",
          "2024-11-13T00:00:00.000000000",
          "2024-11-14T00:00:00.000000000",
          "2024-11-15T00:00:00.000000000",
          "2024-11-18T00:00:00.000000000",
          "2024-11-19T00:00:00.000000000",
          "2024-11-20T00:00:00.000000000",
          "2024-11-21T00:00:00.000000000",
          "2024-11-22T00:00:00.000000000",
          "2024-11-25T00:00:00.000000000",
          "2024-11-26T00:00:00.000000000",
          "2024-11-27T00:00:00.000000000",
          "2024-11-28T00:00:00.000000000",
          "2024-11-29T00:00:00.000000000",
          "2024-12-02T00:00:00.000000000",
          "2024-12-03T00:00:00.000000000",
          "2024-12-04T00:00:00.000000000",
          "2024-12-06T00:00:00.000000000",
          "2024-12-09T00:00:00.000000000",
          "2024-12-11T00:00:00.000000000",
          "2024-12-12T00:00:00.000000000",
          "2024-12-13T00:00:00.000000000",
          "2024-12-16T00:00:00.000000000",
          "2024-12-17T00:00:00.000000000",
          "2024-12-18T00:00:00.000000000",
          "2024-12-19T00:00:00.000000000",
          "2024-12-20T00:00:00.000000000",
          "2024-12-23T00:00:00.000000000",
          "2024-12-24T00:00:00.000000000",
          "2024-12-25T00:00:00.000000000",
          "2024-12-26T00:00:00.000000000",
          "2024-12-27T00:00:00.000000000",
          "2024-12-30T00:00:00.000000000",
          "2025-01-02T00:00:00.000000000",
          "2025-01-03T00:00:00.000000000",
          "2025-01-06T00:00:00.000000000",
          "2025-01-07T00:00:00.000000000",
          "2025-01-08T00:00:00.000000000",
          "2025-01-09T00:00:00.000000000",
          "2025-01-10T00:00:00.000000000",
          "2025-01-13T00:00:00.000000000",
          "2025-01-14T00:00:00.000000000",
          "2025-01-15T00:00:00.000000000",
          "2025-01-16T00:00:00.000000000",
          "2025-01-17T00:00:00.000000000",
          "2025-01-20T00:00:00.000000000",
          "2025-01-21T00:00:00.000000000",
          "2025-01-22T00:00:00.000000000",
          "2025-01-23T00:00:00.000000000",
          "2025-01-24T00:00:00.000000000",
          "2025-01-27T00:00:00.000000000",
          "2025-01-28T00:00:00.000000000",
          "2025-01-29T00:00:00.000000000",
          "2025-01-30T00:00:00.000000000",
          "2025-01-31T00:00:00.000000000",
          "2025-02-03T00:00:00.000000000",
          "2025-02-04T00:00:00.000000000",
          "2025-02-05T00:00:00.000000000",
          "2025-02-06T00:00:00.000000000",
          "2025-02-07T00:00:00.000000000",
          "2025-02-10T00:00:00.000000000",
          "2025-02-11T00:00:00.000000000",
          "2025-02-13T00:00:00.000000000",
          "2025-02-14T00:00:00.000000000",
          "2025-02-17T00:00:00.000000000",
          "2025-02-18T00:00:00.000000000",
          "2025-02-19T00:00:00.000000000",
          "2025-02-20T00:00:00.000000000",
          "2025-02-21T00:00:00.000000000",
          "2025-02-24T00:00:00.000000000",
          "2025-02-25T00:00:00.000000000",
          "2025-02-26T00:00:00.000000000",
          "2025-02-27T00:00:00.000000000",
          "2025-02-28T00:00:00.000000000",
          "2025-03-03T00:00:00.000000000",
          "2025-03-04T00:00:00.000000000",
          "2025-03-05T00:00:00.000000000",
          "2025-03-06T00:00:00.000000000",
          "2025-03-07T00:00:00.000000000",
          "2025-03-10T00:00:00.000000000",
          "2025-03-11T00:00:00.000000000",
          "2025-03-12T00:00:00.000000000",
          "2025-03-13T00:00:00.000000000",
          "2025-03-14T00:00:00.000000000",
          "2025-03-17T00:00:00.000000000",
          "2025-03-18T00:00:00.000000000",
          "2025-03-19T00:00:00.000000000",
          "2025-03-20T00:00:00.000000000",
          "2025-03-21T00:00:00.000000000",
          "2025-03-24T00:00:00.000000000",
          "2025-03-25T00:00:00.000000000",
          "2025-03-26T00:00:00.000000000",
          "2025-03-27T00:00:00.000000000",
          "2025-03-28T00:00:00.000000000",
          "2025-03-31T00:00:00.000000000",
          "2025-04-01T00:00:00.000000000",
          "2025-04-02T00:00:00.000000000",
          "2025-04-03T00:00:00.000000000",
          "2025-04-04T00:00:00.000000000",
          "2025-04-08T00:00:00.000000000",
          "2025-04-09T00:00:00.000000000",
          "2025-04-10T00:00:00.000000000",
          "2025-04-11T00:00:00.000000000",
          "2025-04-16T00:00:00.000000000",
          "2025-04-17T00:00:00.000000000",
          "2025-04-18T00:00:00.000000000",
          "2025-04-21T00:00:00.000000000",
          "2025-04-22T00:00:00.000000000",
          "2025-04-23T00:00:00.000000000",
          "2025-04-24T00:00:00.000000000",
          "2025-04-25T00:00:00.000000000",
          "2025-04-28T00:00:00.000000000",
          "2025-04-29T00:00:00.000000000",
          "2025-04-30T00:00:00.000000000",
          "2025-05-02T00:00:00.000000000",
          "2025-05-06T00:00:00.000000000",
          "2025-05-07T00:00:00.000000000",
          "2025-05-08T00:00:00.000000000",
          "2025-05-09T00:00:00.000000000",
          "2025-05-13T00:00:00.000000000",
          "2025-05-14T00:00:00.000000000",
          "2025-05-15T00:00:00.000000000",
          "2025-05-16T00:00:00.000000000",
          "2025-05-19T00:00:00.000000000",
          "2025-05-20T00:00:00.000000000",
          "2025-05-21T00:00:00.000000000",
          "2025-05-22T00:00:00.000000000",
          "2025-05-23T00:00:00.000000000",
          "2025-05-26T00:00:00.000000000",
          "2025-05-27T00:00:00.000000000",
          "2025-05-28T00:00:00.000000000"
         ]
        },
        {
         "marker": {
          "color": "lightblue"
         },
         "name": "Volume",
         "opacity": 0.5,
         "type": "bar",
         "x": [
          "2024-08-02T00:00:00.000000000",
          "2024-08-05T00:00:00.000000000",
          "2024-08-06T00:00:00.000000000",
          "2024-08-07T00:00:00.000000000",
          "2024-08-08T00:00:00.000000000",
          "2024-08-09T00:00:00.000000000",
          "2024-08-13T00:00:00.000000000",
          "2024-08-14T00:00:00.000000000",
          "2024-08-15T00:00:00.000000000",
          "2024-08-16T00:00:00.000000000",
          "2024-08-19T00:00:00.000000000",
          "2024-08-20T00:00:00.000000000",
          "2024-08-21T00:00:00.000000000",
          "2024-08-22T00:00:00.000000000",
          "2024-08-23T00:00:00.000000000",
          "2024-08-26T00:00:00.000000000",
          "2024-08-27T00:00:00.000000000",
          "2024-08-28T00:00:00.000000000",
          "2024-08-29T00:00:00.000000000",
          "2024-08-30T00:00:00.000000000",
          "2024-09-02T00:00:00.000000000",
          "2024-09-03T00:00:00.000000000",
          "2024-09-04T00:00:00.000000000",
          "2024-09-05T00:00:00.000000000",
          "2024-09-06T00:00:00.000000000",
          "2024-09-09T00:00:00.000000000",
          "2024-09-10T00:00:00.000000000",
          "2024-09-11T00:00:00.000000000",
          "2024-09-12T00:00:00.000000000",
          "2024-09-13T00:00:00.000000000",
          "2024-09-16T00:00:00.000000000",
          "2024-09-17T00:00:00.000000000",
          "2024-09-18T00:00:00.000000000",
          "2024-09-19T00:00:00.000000000",
          "2024-09-20T00:00:00.000000000",
          "2024-09-23T00:00:00.000000000",
          "2024-09-24T00:00:00.000000000",
          "2024-09-25T00:00:00.000000000",
          "2024-09-26T00:00:00.000000000",
          "2024-09-27T00:00:00.000000000",
          "2024-09-30T00:00:00.000000000",
          "2024-10-01T00:00:00.000000000",
          "2024-10-02T00:00:00.000000000",
          "2024-10-03T00:00:00.000000000",
          "2024-10-04T00:00:00.000000000",
          "2024-10-07T00:00:00.000000000",
          "2024-10-08T00:00:00.000000000",
          "2024-10-09T00:00:00.000000000",
          "2024-10-10T00:00:00.000000000",
          "2024-10-11T00:00:00.000000000",
          "2024-10-15T00:00:00.000000000",
          "2024-10-16T00:00:00.000000000",
          "2024-10-17T00:00:00.000000000",
          "2024-10-18T00:00:00.000000000",
          "2024-10-21T00:00:00.000000000",
          "2024-10-22T00:00:00.000000000",
          "2024-10-24T00:00:00.000000000",
          "2024-10-25T00:00:00.000000000",
          "2024-10-28T00:00:00.000000000",
          "2024-10-29T00:00:00.000000000",
          "2024-10-30T00:00:00.000000000",
          "2024-10-31T00:00:00.000000000",
          "2024-11-01T00:00:00.000000000",
          "2024-11-04T00:00:00.000000000",
          "2024-11-05T00:00:00.000000000",
          "2024-11-06T00:00:00.000000000",
          "2024-11-07T00:00:00.000000000",
          "2024-11-08T00:00:00.000000000",
          "2024-11-11T00:00:00.000000000",
          "2024-11-12T00:00:00.000000000",
          "2024-11-13T00:00:00.000000000",
          "2024-11-14T00:00:00.000000000",
          "2024-11-15T00:00:00.000000000",
          "2024-11-18T00:00:00.000000000",
          "2024-11-19T00:00:00.000000000",
          "2024-11-20T00:00:00.000000000",
          "2024-11-21T00:00:00.000000000",
          "2024-11-22T00:00:00.000000000",
          "2024-11-25T00:00:00.000000000",
          "2024-11-26T00:00:00.000000000",
          "2024-11-27T00:00:00.000000000",
          "2024-11-28T00:00:00.000000000",
          "2024-11-29T00:00:00.000000000",
          "2024-12-02T00:00:00.000000000",
          "2024-12-03T00:00:00.000000000",
          "2024-12-04T00:00:00.000000000",
          "2024-12-06T00:00:00.000000000",
          "2024-12-09T00:00:00.000000000",
          "2024-12-11T00:00:00.000000000",
          "2024-12-12T00:00:00.000000000",
          "2024-12-13T00:00:00.000000000",
          "2024-12-16T00:00:00.000000000",
          "2024-12-17T00:00:00.000000000",
          "2024-12-18T00:00:00.000000000",
          "2024-12-19T00:00:00.000000000",
          "2024-12-20T00:00:00.000000000",
          "2024-12-23T00:00:00.000000000",
          "2024-12-24T00:00:00.000000000",
          "2024-12-25T00:00:00.000000000",
          "2024-12-26T00:00:00.000000000",
          "2024-12-27T00:00:00.000000000",
          "2024-12-30T00:00:00.000000000",
          "2025-01-02T00:00:00.000000000",
          "2025-01-03T00:00:00.000000000",
          "2025-01-06T00:00:00.000000000",
          "2025-01-07T00:00:00.000000000",
          "2025-01-08T00:00:00.000000000",
          "2025-01-09T00:00:00.000000000",
          "2025-01-10T00:00:00.000000000",
          "2025-01-13T00:00:00.000000000",
          "2025-01-14T00:00:00.000000000",
          "2025-01-15T00:00:00.000000000",
          "2025-01-16T00:00:00.000000000",
          "2025-01-17T00:00:00.000000000",
          "2025-01-20T00:00:00.000000000",
          "2025-01-21T00:00:00.000000000",
          "2025-01-22T00:00:00.000000000",
          "2025-01-23T00:00:00.000000000",
          "2025-01-24T00:00:00.000000000",
          "2025-01-27T00:00:00.000000000",
          "2025-01-28T00:00:00.000000000",
          "2025-01-29T00:00:00.000000000",
          "2025-01-30T00:00:00.000000000",
          "2025-01-31T00:00:00.000000000",
          "2025-02-03T00:00:00.000000000",
          "2025-02-04T00:00:00.000000000",
          "2025-02-05T00:00:00.000000000",
          "2025-02-06T00:00:00.000000000",
          "2025-02-07T00:00:00.000000000",
          "2025-02-10T00:00:00.000000000",
          "2025-02-11T00:00:00.000000000",
          "2025-02-13T00:00:00.000000000",
          "2025-02-14T00:00:00.000000000",
          "2025-02-17T00:00:00.000000000",
          "2025-02-18T00:00:00.000000000",
          "2025-02-19T00:00:00.000000000",
          "2025-02-20T00:00:00.000000000",
          "2025-02-21T00:00:00.000000000",
          "2025-02-24T00:00:00.000000000",
          "2025-02-25T00:00:00.000000000",
          "2025-02-26T00:00:00.000000000",
          "2025-02-27T00:00:00.000000000",
          "2025-02-28T00:00:00.000000000",
          "2025-03-03T00:00:00.000000000",
          "2025-03-04T00:00:00.000000000",
          "2025-03-05T00:00:00.000000000",
          "2025-03-06T00:00:00.000000000",
          "2025-03-07T00:00:00.000000000",
          "2025-03-10T00:00:00.000000000",
          "2025-03-11T00:00:00.000000000",
          "2025-03-12T00:00:00.000000000",
          "2025-03-13T00:00:00.000000000",
          "2025-03-14T00:00:00.000000000",
          "2025-03-17T00:00:00.000000000",
          "2025-03-18T00:00:00.000000000",
          "2025-03-19T00:00:00.000000000",
          "2025-03-20T00:00:00.000000000",
          "2025-03-21T00:00:00.000000000",
          "2025-03-24T00:00:00.000000000",
          "2025-03-25T00:00:00.000000000",
          "2025-03-26T00:00:00.000000000",
          "2025-03-27T00:00:00.000000000",
          "2025-03-28T00:00:00.000000000",
          "2025-03-31T00:00:00.000000000",
          "2025-04-01T00:00:00.000000000",
          "2025-04-02T00:00:00.000000000",
          "2025-04-03T00:00:00.000000000",
          "2025-04-04T00:00:00.000000000",
          "2025-04-08T00:00:00.000000000",
          "2025-04-09T00:00:00.000000000",
          "2025-04-10T00:00:00.000000000",
          "2025-04-11T00:00:00.000000000",
          "2025-04-16T00:00:00.000000000",
          "2025-04-17T00:00:00.000000000",
          "2025-04-18T00:00:00.000000000",
          "2025-04-21T00:00:00.000000000",
          "2025-04-22T00:00:00.000000000",
          "2025-04-23T00:00:00.000000000",
          "2025-04-24T00:00:00.000000000",
          "2025-04-25T00:00:00.000000000",
          "2025-04-28T00:00:00.000000000",
          "2025-04-29T00:00:00.000000000",
          "2025-04-30T00:00:00.000000000",
          "2025-05-02T00:00:00.000000000",
          "2025-05-06T00:00:00.000000000",
          "2025-05-07T00:00:00.000000000",
          "2025-05-08T00:00:00.000000000",
          "2025-05-09T00:00:00.000000000",
          "2025-05-13T00:00:00.000000000",
          "2025-05-14T00:00:00.000000000",
          "2025-05-15T00:00:00.000000000",
          "2025-05-16T00:00:00.000000000",
          "2025-05-19T00:00:00.000000000",
          "2025-05-20T00:00:00.000000000",
          "2025-05-21T00:00:00.000000000",
          "2025-05-22T00:00:00.000000000",
          "2025-05-23T00:00:00.000000000",
          "2025-05-26T00:00:00.000000000",
          "2025-05-27T00:00:00.000000000",
          "2025-05-28T00:00:00.000000000"
         ],
         "y": {
          "bdata": "Y5cqAECIcQCdbRUASFAmADOrLABUXBMABjY7AZFRKQD0RR8AXXYYANsaEgAB/30AcwA9AWxeLwDCVSMA7pQiAI0bKwCvCzsA+K4cAKKzcwBLIz8A6ANNALlOGwCAvy4ALAwTALQECwCCFUIARf4RADveHwAMcg4A3ZgTAOZGFQBPVhQAUAsOABr+BwAsCj8AWbJYAN5LwQAkNDEAvKQXAD08EwAb/w0ArrIYAEhSFQDJwCkAky1NAHRKCwDWzSkAGgmWAH8aAQEd1SkAHpOZACSzQQD9Sh8ALPgZACAZLQCTUDcARUhOACiSEwCCeQsAqncXABfDCABGeRYAvmsJAEM2BwCLVREAT3EkAM/9HwG+NwkBEiYvABK+BQAs0QcADeIFADUhBwCoRgkAWZASAMqUEQBQ6xEAdk03AA3dEgBBwAgAjGUOAGOpBABIbAUAoI0EAPj3CQAwugEA3A8EAIYhAQAcmAoAtLIHABNtBQCc1w4AraACADIFAgCCqwAAKnkIAFpJAQCIkAAA0QEBAHXsAgD0fgAA2B0DAF1rHwCH8x4Ak+UPAHzJIAA7rwoAfIEHADNKAwAnSQUAFaEGALouKQDfvQQAPBAEAO4YBgDEdAMARVcYAKhuAgDetgEAIzIRACS8AQD4EgQA3NUHANyPAgDSOQAAhFsCAFKhDgBeOAUAz6sZAIe2QAA2sAsAyvcCAFV5DwBIKwUAc9EIAHQoBABo+AMAJQ0BAAopBABBZAEAafMIAK0BDQAUZAUAlvsHAMMuAQCiywUAG+sBAGToBgC1ygMAqP8HAJUMBQCamgAA1sIAAJoNCQAbjAcApJ8BAB7LBABQ/AMAZxIUAK+rCgA9ISIBr3NVAIylHQAhVhsAWDcMAOCvCQD0ywgAzMQUAAhQEQDwkAsAGLoKAHXfCwBnoRcALWp4AE9tLgDsoxoAYK4jAIYCYABwiZgABIqjALTIKwBwWhIAAZgRANhuCQA4yQgAfIcfADajGgDXYZ4Bvi5LATAVmQCNIhMBgQghAlGqpwKWA2gBaS1ZAKYrVAKSV9UCZicwAwZ7mwI=",
          "dtype": "i4"
         },
         "yaxis": "y2"
        }
       ],
       "layout": {
        "height": 600,
        "template": {
         "data": {
          "bar": [
           {
            "error_x": {
             "color": "#2a3f5f"
            },
            "error_y": {
             "color": "#2a3f5f"
            },
            "marker": {
             "line": {
              "color": "white",
              "width": 0.5
             },
             "pattern": {
              "fillmode": "overlay",
              "size": 10,
              "solidity": 0.2
             }
            },
            "type": "bar"
           }
          ],
          "barpolar": [
           {
            "marker": {
             "line": {
              "color": "white",
              "width": 0.5
             },
             "pattern": {
              "fillmode": "overlay",
              "size": 10,
              "solidity": 0.2
             }
            },
            "type": "barpolar"
           }
          ],
          "carpet": [
           {
            "aaxis": {
             "endlinecolor": "#2a3f5f",
             "gridcolor": "#C8D4E3",
             "linecolor": "#C8D4E3",
             "minorgridcolor": "#C8D4E3",
             "startlinecolor": "#2a3f5f"
            },
            "baxis": {
             "endlinecolor": "#2a3f5f",
             "gridcolor": "#C8D4E3",
             "linecolor": "#C8D4E3",
             "minorgridcolor": "#C8D4E3",
             "startlinecolor": "#2a3f5f"
            },
            "type": "carpet"
           }
          ],
          "choropleth": [
           {
            "colorbar": {
             "outlinewidth": 0,
             "ticks": ""
            },
            "type": "choropleth"
           }
          ],
          "contour": [
           {
            "colorbar": {
             "outlinewidth": 0,
             "ticks": ""
            },
            "colorscale": [
             [
              0,
              "#0d0887"
             ],
             [
              0.1111111111111111,
              "#46039f"
             ],
             [
              0.2222222222222222,
              "#7201a8"
             ],
             [
              0.3333333333333333,
              "#9c179e"
             ],
             [
              0.4444444444444444,
              "#bd3786"
             ],
             [
              0.5555555555555556,
              "#d8576b"
             ],
             [
              0.6666666666666666,
              "#ed7953"
             ],
             [
              0.7777777777777778,
              "#fb9f3a"
             ],
             [
              0.8888888888888888,
              "#fdca26"
             ],
             [
              1,
              "#f0f921"
             ]
            ],
            "type": "contour"
           }
          ],
          "contourcarpet": [
           {
            "colorbar": {
             "outlinewidth": 0,
             "ticks": ""
            },
            "type": "contourcarpet"
           }
          ],
          "heatmap": [
           {
            "colorbar": {
             "outlinewidth": 0,
             "ticks": ""
            },
            "colorscale": [
             [
              0,
              "#0d0887"
             ],
             [
              0.1111111111111111,
              "#46039f"
             ],
             [
              0.2222222222222222,
              "#7201a8"
             ],
             [
              0.3333333333333333,
              "#9c179e"
             ],
             [
              0.4444444444444444,
              "#bd3786"
             ],
             [
              0.5555555555555556,
              "#d8576b"
             ],
             [
              0.6666666666666666,
              "#ed7953"
             ],
             [
              0.7777777777777778,
              "#fb9f3a"
             ],
             [
              0.8888888888888888,
              "#fdca26"
             ],
             [
              1,
              "#f0f921"
             ]
            ],
            "type": "heatmap"
           }
          ],
          "histogram": [
           {
            "marker": {
             "pattern": {
              "fillmode": "overlay",
              "size": 10,
              "solidity": 0.2
             }
            },
            "type": "histogram"
           }
          ],
          "histogram2d": [
           {
            "colorbar": {
             "outlinewidth": 0,
             "ticks": ""
            },
            "colorscale": [
             [
              0,
              "#0d0887"
             ],
             [
              0.1111111111111111,
              "#46039f"
             ],
             [
              0.2222222222222222,
              "#7201a8"
             ],
             [
              0.3333333333333333,
              "#9c179e"
             ],
             [
              0.4444444444444444,
              "#bd3786"
             ],
             [
              0.5555555555555556,
              "#d8576b"
             ],
             [
              0.6666666666666666,
              "#ed7953"
             ],
             [
              0.7777777777777778,
              "#fb9f3a"
             ],
             [
              0.8888888888888888,
              "#fdca26"
             ],
             [
              1,
              "#f0f921"
             ]
            ],
            "type": "histogram2d"
           }
          ],
          "histogram2dcontour": [
           {
            "colorbar": {
             "outlinewidth": 0,
             "ticks": ""
            },
            "colorscale": [
             [
              0,
              "#0d0887"
             ],
             [
              0.1111111111111111,
              "#46039f"
             ],
             [
              0.2222222222222222,
              "#7201a8"
             ],
             [
              0.3333333333333333,
              "#9c179e"
             ],
             [
              0.4444444444444444,
              "#bd3786"
             ],
             [
              0.5555555555555556,
              "#d8576b"
             ],
             [
              0.6666666666666666,
              "#ed7953"
             ],
             [
              0.7777777777777778,
              "#fb9f3a"
             ],
             [
              0.8888888888888888,
              "#fdca26"
             ],
             [
              1,
              "#f0f921"
             ]
            ],
            "type": "histogram2dcontour"
           }
          ],
          "mesh3d": [
           {
            "colorbar": {
             "outlinewidth": 0,
             "ticks": ""
            },
            "type": "mesh3d"
           }
          ],
          "parcoords": [
           {
            "line": {
             "colorbar": {
              "outlinewidth": 0,
              "ticks": ""
             }
            },
            "type": "parcoords"
           }
          ],
          "pie": [
           {
            "automargin": true,
            "type": "pie"
           }
          ],
          "scatter": [
           {
            "fillpattern": {
             "fillmode": "overlay",
             "size": 10,
             "solidity": 0.2
            },
            "type": "scatter"
           }
          ],
          "scatter3d": [
           {
            "line": {
             "colorbar": {
              "outlinewidth": 0,
              "ticks": ""
             }
            },
            "marker": {
             "colorbar": {
              "outlinewidth": 0,
              "ticks": ""
             }
            },
            "type": "scatter3d"
           }
          ],
          "scattercarpet": [
           {
            "marker": {
             "colorbar": {
              "outlinewidth": 0,
              "ticks": ""
             }
            },
            "type": "scattercarpet"
           }
          ],
          "scattergeo": [
           {
            "marker": {
             "colorbar": {
              "outlinewidth": 0,
              "ticks": ""
             }
            },
            "type": "scattergeo"
           }
          ],
          "scattergl": [
           {
            "marker": {
             "colorbar": {
              "outlinewidth": 0,
              "ticks": ""
             }
            },
            "type": "scattergl"
           }
          ],
          "scattermap": [
           {
            "marker": {
             "colorbar": {
              "outlinewidth": 0,
              "ticks": ""
             }
            },
            "type": "scattermap"
           }
          ],
          "scattermapbox": [
           {
            "marker": {
             "colorbar": {
              "outlinewidth": 0,
              "ticks": ""
             }
            },
            "type": "scattermapbox"
           }
          ],
          "scatterpolar": [
           {
            "marker": {
             "colorbar": {
              "outlinewidth": 0,
              "ticks": ""
             }
            },
            "type": "scatterpolar"
           }
          ],
          "scatterpolargl": [
           {
            "marker": {
             "colorbar": {
              "outlinewidth": 0,
              "ticks": ""
             }
            },
            "type": "scatterpolargl"
           }
          ],
          "scatterternary": [
           {
            "marker": {
             "colorbar": {
              "outlinewidth": 0,
              "ticks": ""
             }
            },
            "type": "scatterternary"
           }
          ],
          "surface": [
           {
            "colorbar": {
             "outlinewidth": 0,
             "ticks": ""
            },
            "colorscale": [
             [
              0,
              "#0d0887"
             ],
             [
              0.1111111111111111,
              "#46039f"
             ],
             [
              0.2222222222222222,
              "#7201a8"
             ],
             [
              0.3333333333333333,
              "#9c179e"
             ],
             [
              0.4444444444444444,
              "#bd3786"
             ],
             [
              0.5555555555555556,
              "#d8576b"
             ],
             [
              0.6666666666666666,
              "#ed7953"
             ],
             [
              0.7777777777777778,
              "#fb9f3a"
             ],
             [
              0.8888888888888888,
              "#fdca26"
             ],
             [
              1,
              "#f0f921"
             ]
            ],
            "type": "surface"
           }
          ],
          "table": [
           {
            "cells": {
             "fill": {
              "color": "#EBF0F8"
             },
             "line": {
              "color": "white"
             }
            },
            "header": {
             "fill": {
              "color": "#C8D4E3"
             },
             "line": {
              "color": "white"
             }
            },
            "type": "table"
           }
          ]
         },
         "layout": {
          "annotationdefaults": {
           "arrowcolor": "#2a3f5f",
           "arrowhead": 0,
           "arrowwidth": 1
          },
          "autotypenumbers": "strict",
          "coloraxis": {
           "colorbar": {
            "outlinewidth": 0,
            "ticks": ""
           }
          },
          "colorscale": {
           "diverging": [
            [
             0,
             "#8e0152"
            ],
            [
             0.1,
             "#c51b7d"
            ],
            [
             0.2,
             "#de77ae"
            ],
            [
             0.3,
             "#f1b6da"
            ],
            [
             0.4,
             "#fde0ef"
            ],
            [
             0.5,
             "#f7f7f7"
            ],
            [
             0.6,
             "#e6f5d0"
            ],
            [
             0.7,
             "#b8e186"
            ],
            [
             0.8,
             "#7fbc41"
            ],
            [
             0.9,
             "#4d9221"
            ],
            [
             1,
             "#276419"
            ]
           ],
           "sequential": [
            [
             0,
             "#0d0887"
            ],
            [
             0.1111111111111111,
             "#46039f"
            ],
            [
             0.2222222222222222,
             "#7201a8"
            ],
            [
             0.3333333333333333,
             "#9c179e"
            ],
            [
             0.4444444444444444,
             "#bd3786"
            ],
            [
             0.5555555555555556,
             "#d8576b"
            ],
            [
             0.6666666666666666,
             "#ed7953"
            ],
            [
             0.7777777777777778,
             "#fb9f3a"
            ],
            [
             0.8888888888888888,
             "#fdca26"
            ],
            [
             1,
             "#f0f921"
            ]
           ],
           "sequentialminus": [
            [
             0,
             "#0d0887"
            ],
            [
             0.1111111111111111,
             "#46039f"
            ],
            [
             0.2222222222222222,
             "#7201a8"
            ],
            [
             0.3333333333333333,
             "#9c179e"
            ],
            [
             0.4444444444444444,
             "#bd3786"
            ],
            [
             0.5555555555555556,
             "#d8576b"
            ],
            [
             0.6666666666666666,
             "#ed7953"
            ],
            [
             0.7777777777777778,
             "#fb9f3a"
            ],
            [
             0.8888888888888888,
             "#fdca26"
            ],
            [
             1,
             "#f0f921"
            ]
           ]
          },
          "colorway": [
           "#636efa",
           "#EF553B",
           "#00cc96",
           "#ab63fa",
           "#FFA15A",
           "#19d3f3",
           "#FF6692",
           "#B6E880",
           "#FF97FF",
           "#FECB52"
          ],
          "font": {
           "color": "#2a3f5f"
          },
          "geo": {
           "bgcolor": "white",
           "lakecolor": "white",
           "landcolor": "white",
           "showlakes": true,
           "showland": true,
           "subunitcolor": "#C8D4E3"
          },
          "hoverlabel": {
           "align": "left"
          },
          "hovermode": "closest",
          "mapbox": {
           "style": "light"
          },
          "paper_bgcolor": "white",
          "plot_bgcolor": "white",
          "polar": {
           "angularaxis": {
            "gridcolor": "#EBF0F8",
            "linecolor": "#EBF0F8",
            "ticks": ""
           },
           "bgcolor": "white",
           "radialaxis": {
            "gridcolor": "#EBF0F8",
            "linecolor": "#EBF0F8",
            "ticks": ""
           }
          },
          "scene": {
           "xaxis": {
            "backgroundcolor": "white",
            "gridcolor": "#DFE8F3",
            "gridwidth": 2,
            "linecolor": "#EBF0F8",
            "showbackground": true,
            "ticks": "",
            "zerolinecolor": "#EBF0F8"
           },
           "yaxis": {
            "backgroundcolor": "white",
            "gridcolor": "#DFE8F3",
            "gridwidth": 2,
            "linecolor": "#EBF0F8",
            "showbackground": true,
            "ticks": "",
            "zerolinecolor": "#EBF0F8"
           },
           "zaxis": {
            "backgroundcolor": "white",
            "gridcolor": "#DFE8F3",
            "gridwidth": 2,
            "linecolor": "#EBF0F8",
            "showbackground": true,
            "ticks": "",
            "zerolinecolor": "#EBF0F8"
           }
          },
          "shapedefaults": {
           "line": {
            "color": "#2a3f5f"
           }
          },
          "ternary": {
           "aaxis": {
            "gridcolor": "#DFE8F3",
            "linecolor": "#A2B1C6",
            "ticks": ""
           },
           "baxis": {
            "gridcolor": "#DFE8F3",
            "linecolor": "#A2B1C6",
            "ticks": ""
           },
           "bgcolor": "white",
           "caxis": {
            "gridcolor": "#DFE8F3",
            "linecolor": "#A2B1C6",
            "ticks": ""
           }
          },
          "title": {
           "x": 0.05
          },
          "xaxis": {
           "automargin": true,
           "gridcolor": "#EBF0F8",
           "linecolor": "#EBF0F8",
           "ticks": "",
           "title": {
            "standoff": 15
           },
           "zerolinecolor": "#EBF0F8",
           "zerolinewidth": 2
          },
          "yaxis": {
           "automargin": true,
           "gridcolor": "#EBF0F8",
           "linecolor": "#EBF0F8",
           "ticks": "",
           "title": {
            "standoff": 15
           },
           "zerolinecolor": "#EBF0F8",
           "zerolinewidth": 2
          }
         }
        },
        "title": {
         "text": "24CS Stock Candlestick Chart with Volume"
        },
        "width": 950,
        "xaxis": {
         "rangeslider": {
          "visible": false
         },
         "title": {
          "text": "Date"
         }
        },
        "yaxis": {
         "domain": [
          0.3,
          1
         ],
         "title": {
          "text": "Price"
         }
        },
        "yaxis2": {
         "domain": [
          0,
          0.25
         ],
         "title": {
          "text": "Volume"
         }
        }
       }
      }
     },
     "metadata": {},
     "output_type": "display_data"
    }
   ],
   "source": [
    "import plotly.graph_objects as go\n",
    "\n",
    "# 🔹 เลือกเฉพาะหุ้น 24CS\n",
    "ohlc_df = df_cand[df_cand[\"symbol\"] == \"24CS\"].copy()\n",
    "\n",
    "# 🔹 จัดการ index\n",
    "ohlc_df[\"time\"] = pd.to_datetime(ohlc_df[\"time\"])\n",
    "ohlc_df = ohlc_df.sort_values(\"time\")\n",
    "ohlc_df = ohlc_df.set_index(\"time\")\n",
    "ohlc_df.index.name = \"Date\"\n",
    "\n",
    "# 🔹 Rename columns ให้ตรงกับ Plotly\n",
    "ohlc_df = ohlc_df.rename(columns={\n",
    "    \"open_price\": \"Open\",\n",
    "    \"high_price\": \"High\",\n",
    "    \"low_price\": \"Low\",\n",
    "    \"close_price\": \"Close\",\n",
    "    \"volume\": \"Volume\"\n",
    "})\n",
    "\n",
    "# 🔹 เลือกแค่ 200 วันล่าสุด (เพื่อให้ดูง่าย)\n",
    "ohlc_df = ohlc_df.tail(200)\n",
    "\n",
    "# ✅ วาดกราฟ Candlestick\n",
    "fig = go.Figure(data=[go.Candlestick(\n",
    "    x=ohlc_df.index,\n",
    "    open=ohlc_df['Open'],\n",
    "    high=ohlc_df['High'],\n",
    "    low=ohlc_df['Low'],\n",
    "    close=ohlc_df['Close'],\n",
    "    name=\"Candlestick\"\n",
    ")])\n",
    "\n",
    "# ✅ เพิ่ม Volume\n",
    "fig.add_trace(go.Bar(\n",
    "    x=ohlc_df.index,\n",
    "    y=ohlc_df['Volume'],\n",
    "    name=\"Volume\",\n",
    "    marker_color=\"lightblue\",\n",
    "    opacity=0.5,\n",
    "    yaxis=\"y2\"\n",
    "))\n",
    "\n",
    "# ✅ Layout\n",
    "fig.update_layout(\n",
    "    title=\"24CS Stock Candlestick Chart with Volume\",\n",
    "    yaxis=dict(title=\"Price\", domain=[0.3, 1]),\n",
    "    yaxis2=dict(title=\"Volume\", domain=[0, 0.25]),\n",
    "    xaxis=dict(title=\"Date\"),\n",
    "    xaxis_rangeslider_visible=False,\n",
    "    template=\"plotly_white\",\n",
    "    width=950,\n",
    "    height=600\n",
    ")\n",
    "\n",
    "fig.show()\n"
   ]
  },
  {
   "cell_type": "markdown",
   "id": "ab1e7f64",
   "metadata": {},
   "source": [
    "เส้นค่าเฉลี่ยเคลื่อนที่แบบเอ็กซ์โพเนนเชียล (Exponential Moving Average - EMA)\n",
    "\n",
    "คือเส้นค่าเฉลี่ยของราคาหุ้นย้อนหลังในระยะเวลาต่างๆ กัน (5, 15, 35, 89, และ 200 วัน) โดยให้ความสำคัญกับราคาล่าสุดมากกว่า เส้นเหล่านี้ช่วยบอกถึงแนวโน้มในระยะสั้นไปจนถึงระยะยาว\n",
    "\n",
    "🔵 EMA5 = ระยะสั้น, สัญญาณไว\n",
    "\n",
    "🟠 EMA15 = ระยะกลาง, ช่วยกรองสัญญาณ\n",
    "\n",
    "🟢 EMA35 = แนวโน้มกลาง\n",
    "\n",
    "🟣 EMA89 = แนวโน้มหลัก\n",
    "\n",
    "🔴 EMA200 = แนวโน้มระยะยาว (เส้นใหญ่สุด)\n",
    "\n"
   ]
  },
  {
   "cell_type": "code",
   "execution_count": 7,
   "id": "fb01f8d3",
   "metadata": {},
   "outputs": [
    {
     "data": {
      "application/vnd.plotly.v1+json": {
       "config": {
        "plotlyServerURL": "https://plot.ly"
       },
       "data": [
        {
         "close": {
          "bdata": "AAAAwB6FEUAAAABAMzMRQAAAAAApXBFAAAAAoJmZEUAAAACgmZkRQAAAAOCjcBFAAAAAAAAAEkAAAACgmZkRQAAAAEAzMxFAAAAAYLgeEUAAAADAHoURQAAAACBcjxJAAAAAYLgeEUAAAADAzMwQQAAAAKBH4RBAAAAAgML1EEAAAABAMzMRQAAAAKBH4RBAAAAAgD0KEUAAAACgmZkRQAAAAMAehRFAAAAAoJmZEUAAAACAFK4RQAAAAIAUrhFAAAAAgBSuEUAAAACgmZkRQAAAAEAzMxFAAAAAgD0KEUAAAADgo3ARQAAAAMAehRFAAAAA4KNwEUAAAACAPQoRQAAAAKBH4RBAAAAAgML1EEAAAACAwvUQQAAAAAApXBFAAAAA4HoUEkAAAABguB4TQAAAAMDMzBJAAAAAYGZmEkAAAAAgXI8SQAAAAADXoxJAAAAAoHA9EkAAAAAAAAASQAAAAEAzMxFAAAAAQDMzEUAAAABguB4RQAAAAMDMzBBAAAAAYGZmEEAAAACAFK4PQAAAAAAAABBAAAAAYGZmDkAAAACAPQoPQAAAAKBwPQ5AAAAAIIXrDUAAAADAzMwMQAAAACCF6w1AAAAAAClcD0AAAADgUbgOQAAAAGBmZg5AAAAAYI/CDUAAAAAghesNQAAAAGCPwg1AAAAAYI/CDUAAAACgmZkNQAAAAMDMzAxAAAAAANejDEAAAADgUbgOQAAAAGBmZg5AAAAAIK5HDUAAAAAgrkcNQAAAAOCjcA1AAAAAYLgeDUAAAAAA16MMQAAAAIDrUQxAAAAAQDMzC0AAAAAAAAAMQAAAAMAehQtAAAAAQDMzC0AAAABAMzMLQAAAACCF6wlAAAAAIIXrCUAAAACgmZkJQAAAAKCZmQlAAAAAoJmZCUAAAACgcD0KQAAAAOB6FApAAAAAYI/CCUAAAACgmZkJQAAAAEDheghAAAAAAAAACEAAAABAMzMHQAAAAEAzMwdAAAAAgD0KB0AAAACgR+EGQAAAAKBwPQZAAAAAgD0KB0AAAABAMzMHQAAAAEAzMwdAAAAAgD0KB0AAAACAFK4HQAAAAAApXAdAAAAAAClcB0AAAADgehQKQAAAACCuRwlAAAAA4HoUCkAAAAAgrkcJQAAAAIDC9QhAAAAAwMzMCEAAAADAzMwIQAAAAMAehQdAAAAAwB6FB0AAAACAFK4HQAAAAOBRuAZAAAAAYGZmBkAAAABgZmYGQAAAACCF6wVAAAAAoJmZBUAAAABgj8IFQAAAACCF6wVAAAAAoEfhBkAAAABgZmYGQAAAAIA9CgdAAAAA4FG4BkAAAACgcD0GQAAAACBcjwZAAAAAoJmZBUAAAACgmZkFQAAAAKBwPQZAAAAAQArXB0AAAABgZmYGQAAAAOB6FAZAAAAAoJmZBUAAAACA61EEQAAAAEAK1wNAAAAAANejBEAAAAAA16MEQAAAAAAAAARAAAAAAAAABEAAAABACtcDQAAAAEAK1wNAAAAAYGZmAkAAAABguB4BQAAAAIDrUQBAAAAAIFyP/j8AAADAHoX/PwAAAAAAAABAAAAAAClc/z8AAAAAAAAAQAAAAADXowBAAAAAgD0K/z8AAABgZmb+PwAAAOB6FP4/AAAAYI/C/T8AAAAAAAD8PwAAAKBH4fo/AAAAoEfh+j8AAADAzMz4PwAAAMD1KPg/AAAAgOtR9D8AAAAAAAD0PwAAAKBwPfY/AAAAYI/C9T8AAACgcD3yPwAAAKBH4fI/AAAAoHA98j8AAACgcD3yPwAAAOB6FPI/AAAAAClc7z8AAADgehTuPwAAAOBRuO4/AAAAwMzM7D8AAADA9SjsPwAAAIA9Cu8/AAAAwMzM8D8AAABA4XrwPwAAAMDMzPA/AAAAoJmZ8T8AAAAAKVzzPwAAAKCZmfU/AAAAoHA99j8AAABgj8L1PwAAAIDC9fQ/AAAAgML19D8AAADAzMz0PwAAACCuR/U/AAAAYLge9T8AAABgj8L1PwAAAAAAAPw/AAAAQOF6/D8AAADAHoX3PwAAAGBmZvI/AAAAoJmZ6T8AAADgo3DtPwAAAMAehes/AAAAoHA96j8AAACA61HwPwAAAGBmZu4/AAAAANej8D8AAAAAAADwPw==",
          "dtype": "f8"
         },
         "high": {
          "bdata": "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",
          "dtype": "f8"
         },
         "low": {
          "bdata": "AAAAIK5HEUAAAAAA16MQQAAAAIA9ChFAAAAAAClcEUAAAAAAKVwRQAAAAAApXBFAAAAAIK5HEUAAAAAAKVwRQAAAAIA9ChFAAAAAgD0KEUAAAABguB4RQAAAAIAUrhFAAAAAIFyPEEAAAADAzMwQQAAAAOBRuBBAAAAAwMzMEEAAAACgR+EQQAAAAMDMzBBAAAAAIFyPEEAAAACgR+EQQAAAAOCjcBFAAAAA4KNwEUAAAADAHoURQAAAAIAUrhFAAAAAwB6FEUAAAADAHoURQAAAAGC4HhFAAAAAoEfhEEAAAACAPQoRQAAAAAApXBFAAAAAAClcEUAAAACAwvUQQAAAAADXoxBAAAAAoEfhEEAAAACgR+EQQAAAAGC4HhFAAAAAAClcEUAAAADgehQSQAAAAGBmZhJAAAAAoHA9EkAAAADA9SgSQAAAAGBmZhJAAAAAIIXrEUAAAAAAAAASQAAAAGC4HhFAAAAAYLgeEUAAAACAPQoRQAAAAMDMzBBAAAAAgOtREEAAAADAzMwMQAAAAOBRuA5AAAAAoHA9DkAAAACgcD0OQAAAAKBwPQ5AAAAAIK5HDUAAAADAzMwMQAAAAMDMzAxAAAAAYGZmDkAAAAAgXI8OQAAAAGBmZg5AAAAAYI/CDUAAAACgmZkNQAAAAGCPwg1AAAAAYI/CDUAAAADgo3ANQAAAAMDMzAxAAAAAAClcC0AAAAAghesNQAAAAOB6FA5AAAAAIK5HDUAAAAAgrkcNQAAAACCuRw1AAAAAYLgeDUAAAAAA16MMQAAAAEAK1wtAAAAAoEfhCkAAAABAMzMLQAAAAMAehQtAAAAA4FG4CkAAAADgehQKQAAAACCF6wlAAAAA4KNwCUAAAADgo3AJQAAAACCuRwlAAAAAIK5HCUAAAADgo3AJQAAAACCF6wlAAAAA4KNwCUAAAADgo3AJQAAAAEDheghAAAAAQArXB0AAAABAMzMHQAAAAMDMzARAAAAA4FG4BkAAAACgR+EGQAAAAKCZmQVAAAAAIK5HBUAAAABgZmYGQAAAAIA9CgdAAAAA4FG4BkAAAADgUbgGQAAAAEAzMwdAAAAAQDMzB0AAAACAFK4HQAAAAGC4HglAAAAAwMzMCEAAAABguB4JQAAAAADXowhAAAAAgOtRCEAAAABA4XoIQAAAAAApXAdAAAAAQDMzB0AAAACAFK4HQAAAAOB6FAZAAAAAIIXrBUAAAAAghesFQAAAAOCjcAVAAAAA4KNwBUAAAADgo3AFQAAAAGCPwgVAAAAA4HoUBkAAAABgZmYGQAAAAKBwPQZAAAAAoHA9BkAAAADgehQGQAAAAGBmZgZAAAAAoJmZBUAAAADA9SgEQAAAAKCZmQVAAAAAoHA9BkAAAADgehQGQAAAAOB6FAZAAAAAoJmZBUAAAACA61EEQAAAAMAehQNAAAAAQArXA0AAAAAA16MEQAAAAAAAAARAAAAAQArXA0AAAADAHoUDQAAAAIAUrgNAAAAAYGZmAkAAAAAAAAAAQAAAAAAAAABAAAAAIFyP/j8AAABgZmb+PwAAAMDMzPw/AAAA4FG4/j8AAACgR+H+PwAAAIAUrv8/AAAAoEfh/j8AAACgcD3+PwAAACCF6/0/AAAAIK5H/T8AAACgmZn5PwAAAOCjcPk/AAAAYGZm+j8AAADAzMz4PwAAAIAUrvc/AAAAgOtR9D8AAACgR+HyPwAAAAApXPM/AAAAgML19D8AAAAghevxPwAAACBcj/I/AAAA4HoU8j8AAADgo3DxPwAAAOCjcPE/AAAAgD0K7z8AAABA4XrsPwAAAOBRuO4/AAAAQArX6z8AAAAA16PoPwAAAEDheuw/AAAAgBSu7z8AAACA61HwPwAAAAAAAPA/AAAAANej8D8AAABgj8LxPwAAAIAUrvM/AAAAAClc8z8AAACgmZn1PwAAAIDC9fQ/AAAAgML19D8AAACA61H0PwAAAADXo/Q/AAAAgML19D8AAACAwvX0PwAAAIDrUfg/AAAAQDMz+z8AAADgUbj2PwAAAGC4HvE/AAAAoJmZ6T8AAACgR+HqPwAAAMAehes/AAAAIIXr6T8AAAAgXI/qPwAAAEDheuw/AAAAgD0K7z8AAAAAKVzvPw==",
          "dtype": "f8"
         },
         "name": "Candlestick",
         "open": {
          "bdata": "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",
          "dtype": "f8"
         },
         "type": "candlestick",
         "x": [
          "2024-08-02T00:00:00.000000000",
          "2024-08-05T00:00:00.000000000",
          "2024-08-06T00:00:00.000000000",
          "2024-08-07T00:00:00.000000000",
          "2024-08-08T00:00:00.000000000",
          "2024-08-09T00:00:00.000000000",
          "2024-08-13T00:00:00.000000000",
          "2024-08-14T00:00:00.000000000",
          "2024-08-15T00:00:00.000000000",
          "2024-08-16T00:00:00.000000000",
          "2024-08-19T00:00:00.000000000",
          "2024-08-20T00:00:00.000000000",
          "2024-08-21T00:00:00.000000000",
          "2024-08-22T00:00:00.000000000",
          "2024-08-23T00:00:00.000000000",
          "2024-08-26T00:00:00.000000000",
          "2024-08-27T00:00:00.000000000",
          "2024-08-28T00:00:00.000000000",
          "2024-08-29T00:00:00.000000000",
          "2024-08-30T00:00:00.000000000",
          "2024-09-02T00:00:00.000000000",
          "2024-09-03T00:00:00.000000000",
          "2024-09-04T00:00:00.000000000",
          "2024-09-05T00:00:00.000000000",
          "2024-09-06T00:00:00.000000000",
          "2024-09-09T00:00:00.000000000",
          "2024-09-10T00:00:00.000000000",
          "2024-09-11T00:00:00.000000000",
          "2024-09-12T00:00:00.000000000",
          "2024-09-13T00:00:00.000000000",
          "2024-09-16T00:00:00.000000000",
          "2024-09-17T00:00:00.000000000",
          "2024-09-18T00:00:00.000000000",
          "2024-09-19T00:00:00.000000000",
          "2024-09-20T00:00:00.000000000",
          "2024-09-23T00:00:00.000000000",
          "2024-09-24T00:00:00.000000000",
          "2024-09-25T00:00:00.000000000",
          "2024-09-26T00:00:00.000000000",
          "2024-09-27T00:00:00.000000000",
          "2024-09-30T00:00:00.000000000",
          "2024-10-01T00:00:00.000000000",
          "2024-10-02T00:00:00.000000000",
          "2024-10-03T00:00:00.000000000",
          "2024-10-04T00:00:00.000000000",
          "2024-10-07T00:00:00.000000000",
          "2024-10-08T00:00:00.000000000",
          "2024-10-09T00:00:00.000000000",
          "2024-10-10T00:00:00.000000000",
          "2024-10-11T00:00:00.000000000",
          "2024-10-15T00:00:00.000000000",
          "2024-10-16T00:00:00.000000000",
          "2024-10-17T00:00:00.000000000",
          "2024-10-18T00:00:00.000000000",
          "2024-10-21T00:00:00.000000000",
          "2024-10-22T00:00:00.000000000",
          "2024-10-24T00:00:00.000000000",
          "2024-10-25T00:00:00.000000000",
          "2024-10-28T00:00:00.000000000",
          "2024-10-29T00:00:00.000000000",
          "2024-10-30T00:00:00.000000000",
          "2024-10-31T00:00:00.000000000",
          "2024-11-01T00:00:00.000000000",
          "2024-11-04T00:00:00.000000000",
          "2024-11-05T00:00:00.000000000",
          "2024-11-06T00:00:00.000000000",
          "2024-11-07T00:00:00.000000000",
          "2024-11-08T00:00:00.000000000",
          "2024-11-11T00:00:00.000000000",
          "2024-11-12T00:00:00.000000000",
          "2024-11-13T00:00:00.000000000",
          "2024-11-14T00:00:00.000000000",
          "2024-11-15T00:00:00.000000000",
          "2024-11-18T00:00:00.000000000",
          "2024-11-19T00:00:00.000000000",
          "2024-11-20T00:00:00.000000000",
          "2024-11-21T00:00:00.000000000",
          "2024-11-22T00:00:00.000000000",
          "2024-11-25T00:00:00.000000000",
          "2024-11-26T00:00:00.000000000",
          "2024-11-27T00:00:00.000000000",
          "2024-11-28T00:00:00.000000000",
          "2024-11-29T00:00:00.000000000",
          "2024-12-02T00:00:00.000000000",
          "2024-12-03T00:00:00.000000000",
          "2024-12-04T00:00:00.000000000",
          "2024-12-06T00:00:00.000000000",
          "2024-12-09T00:00:00.000000000",
          "2024-12-11T00:00:00.000000000",
          "2024-12-12T00:00:00.000000000",
          "2024-12-13T00:00:00.000000000",
          "2024-12-16T00:00:00.000000000",
          "2024-12-17T00:00:00.000000000",
          "2024-12-18T00:00:00.000000000",
          "2024-12-19T00:00:00.000000000",
          "2024-12-20T00:00:00.000000000",
          "2024-12-23T00:00:00.000000000",
          "2024-12-24T00:00:00.000000000",
          "2024-12-25T00:00:00.000000000",
          "2024-12-26T00:00:00.000000000",
          "2024-12-27T00:00:00.000000000",
          "2024-12-30T00:00:00.000000000",
          "2025-01-02T00:00:00.000000000",
          "2025-01-03T00:00:00.000000000",
          "2025-01-06T00:00:00.000000000",
          "2025-01-07T00:00:00.000000000",
          "2025-01-08T00:00:00.000000000",
          "2025-01-09T00:00:00.000000000",
          "2025-01-10T00:00:00.000000000",
          "2025-01-13T00:00:00.000000000",
          "2025-01-14T00:00:00.000000000",
          "2025-01-15T00:00:00.000000000",
          "2025-01-16T00:00:00.000000000",
          "2025-01-17T00:00:00.000000000",
          "2025-01-20T00:00:00.000000000",
          "2025-01-21T00:00:00.000000000",
          "2025-01-22T00:00:00.000000000",
          "2025-01-23T00:00:00.000000000",
          "2025-01-24T00:00:00.000000000",
          "2025-01-27T00:00:00.000000000",
          "2025-01-28T00:00:00.000000000",
          "2025-01-29T00:00:00.000000000",
          "2025-01-30T00:00:00.000000000",
          "2025-01-31T00:00:00.000000000",
          "2025-02-03T00:00:00.000000000",
          "2025-02-04T00:00:00.000000000",
          "2025-02-05T00:00:00.000000000",
          "2025-02-06T00:00:00.000000000",
          "2025-02-07T00:00:00.000000000",
          "2025-02-10T00:00:00.000000000",
          "2025-02-11T00:00:00.000000000",
          "2025-02-13T00:00:00.000000000",
          "2025-02-14T00:00:00.000000000",
          "2025-02-17T00:00:00.000000000",
          "2025-02-18T00:00:00.000000000",
          "2025-02-19T00:00:00.000000000",
          "2025-02-20T00:00:00.000000000",
          "2025-02-21T00:00:00.000000000",
          "2025-02-24T00:00:00.000000000",
          "2025-02-25T00:00:00.000000000",
          "2025-02-26T00:00:00.000000000",
          "2025-02-27T00:00:00.000000000",
          "2025-02-28T00:00:00.000000000",
          "2025-03-03T00:00:00.000000000",
          "2025-03-04T00:00:00.000000000",
          "2025-03-05T00:00:00.000000000",
          "2025-03-06T00:00:00.000000000",
          "2025-03-07T00:00:00.000000000",
          "2025-03-10T00:00:00.000000000",
          "2025-03-11T00:00:00.000000000",
          "2025-03-12T00:00:00.000000000",
          "2025-03-13T00:00:00.000000000",
          "2025-03-14T00:00:00.000000000",
          "2025-03-17T00:00:00.000000000",
          "2025-03-18T00:00:00.000000000",
          "2025-03-19T00:00:00.000000000",
          "2025-03-20T00:00:00.000000000",
          "2025-03-21T00:00:00.000000000",
          "2025-03-24T00:00:00.000000000",
          "2025-03-25T00:00:00.000000000",
          "2025-03-26T00:00:00.000000000",
          "2025-03-27T00:00:00.000000000",
          "2025-03-28T00:00:00.000000000",
          "2025-03-31T00:00:00.000000000",
          "2025-04-01T00:00:00.000000000",
          "2025-04-02T00:00:00.000000000",
          "2025-04-03T00:00:00.000000000",
          "2025-04-04T00:00:00.000000000",
          "2025-04-08T00:00:00.000000000",
          "2025-04-09T00:00:00.000000000",
          "2025-04-10T00:00:00.000000000",
          "2025-04-11T00:00:00.000000000",
          "2025-04-16T00:00:00.000000000",
          "2025-04-17T00:00:00.000000000",
          "2025-04-18T00:00:00.000000000",
          "2025-04-21T00:00:00.000000000",
          "2025-04-22T00:00:00.000000000",
          "2025-04-23T00:00:00.000000000",
          "2025-04-24T00:00:00.000000000",
          "2025-04-25T00:00:00.000000000",
          "2025-04-28T00:00:00.000000000",
          "2025-04-29T00:00:00.000000000",
          "2025-04-30T00:00:00.000000000",
          "2025-05-02T00:00:00.000000000",
          "2025-05-06T00:00:00.000000000",
          "2025-05-07T00:00:00.000000000",
          "2025-05-08T00:00:00.000000000",
          "2025-05-09T00:00:00.000000000",
          "2025-05-13T00:00:00.000000000",
          "2025-05-14T00:00:00.000000000",
          "2025-05-15T00:00:00.000000000",
          "2025-05-16T00:00:00.000000000",
          "2025-05-19T00:00:00.000000000",
          "2025-05-20T00:00:00.000000000",
          "2025-05-21T00:00:00.000000000",
          "2025-05-22T00:00:00.000000000",
          "2025-05-23T00:00:00.000000000",
          "2025-05-26T00:00:00.000000000",
          "2025-05-27T00:00:00.000000000",
          "2025-05-28T00:00:00.000000000"
         ]
        },
        {
         "line": {
          "color": "blue",
          "width": 2
         },
         "mode": "lines",
         "name": "EMA5",
         "type": "scatter",
         "x": [
          "2024-08-02T00:00:00.000000000",
          "2024-08-05T00:00:00.000000000",
          "2024-08-06T00:00:00.000000000",
          "2024-08-07T00:00:00.000000000",
          "2024-08-08T00:00:00.000000000",
          "2024-08-09T00:00:00.000000000",
          "2024-08-13T00:00:00.000000000",
          "2024-08-14T00:00:00.000000000",
          "2024-08-15T00:00:00.000000000",
          "2024-08-16T00:00:00.000000000",
          "2024-08-19T00:00:00.000000000",
          "2024-08-20T00:00:00.000000000",
          "2024-08-21T00:00:00.000000000",
          "2024-08-22T00:00:00.000000000",
          "2024-08-23T00:00:00.000000000",
          "2024-08-26T00:00:00.000000000",
          "2024-08-27T00:00:00.000000000",
          "2024-08-28T00:00:00.000000000",
          "2024-08-29T00:00:00.000000000",
          "2024-08-30T00:00:00.000000000",
          "2024-09-02T00:00:00.000000000",
          "2024-09-03T00:00:00.000000000",
          "2024-09-04T00:00:00.000000000",
          "2024-09-05T00:00:00.000000000",
          "2024-09-06T00:00:00.000000000",
          "2024-09-09T00:00:00.000000000",
          "2024-09-10T00:00:00.000000000",
          "2024-09-11T00:00:00.000000000",
          "2024-09-12T00:00:00.000000000",
          "2024-09-13T00:00:00.000000000",
          "2024-09-16T00:00:00.000000000",
          "2024-09-17T00:00:00.000000000",
          "2024-09-18T00:00:00.000000000",
          "2024-09-19T00:00:00.000000000",
          "2024-09-20T00:00:00.000000000",
          "2024-09-23T00:00:00.000000000",
          "2024-09-24T00:00:00.000000000",
          "2024-09-25T00:00:00.000000000",
          "2024-09-26T00:00:00.000000000",
          "2024-09-27T00:00:00.000000000",
          "2024-09-30T00:00:00.000000000",
          "2024-10-01T00:00:00.000000000",
          "2024-10-02T00:00:00.000000000",
          "2024-10-03T00:00:00.000000000",
          "2024-10-04T00:00:00.000000000",
          "2024-10-07T00:00:00.000000000",
          "2024-10-08T00:00:00.000000000",
          "2024-10-09T00:00:00.000000000",
          "2024-10-10T00:00:00.000000000",
          "2024-10-11T00:00:00.000000000",
          "2024-10-15T00:00:00.000000000",
          "2024-10-16T00:00:00.000000000",
          "2024-10-17T00:00:00.000000000",
          "2024-10-18T00:00:00.000000000",
          "2024-10-21T00:00:00.000000000",
          "2024-10-22T00:00:00.000000000",
          "2024-10-24T00:00:00.000000000",
          "2024-10-25T00:00:00.000000000",
          "2024-10-28T00:00:00.000000000",
          "2024-10-29T00:00:00.000000000",
          "2024-10-30T00:00:00.000000000",
          "2024-10-31T00:00:00.000000000",
          "2024-11-01T00:00:00.000000000",
          "2024-11-04T00:00:00.000000000",
          "2024-11-05T00:00:00.000000000",
          "2024-11-06T00:00:00.000000000",
          "2024-11-07T00:00:00.000000000",
          "2024-11-08T00:00:00.000000000",
          "2024-11-11T00:00:00.000000000",
          "2024-11-12T00:00:00.000000000",
          "2024-11-13T00:00:00.000000000",
          "2024-11-14T00:00:00.000000000",
          "2024-11-15T00:00:00.000000000",
          "2024-11-18T00:00:00.000000000",
          "2024-11-19T00:00:00.000000000",
          "2024-11-20T00:00:00.000000000",
          "2024-11-21T00:00:00.000000000",
          "2024-11-22T00:00:00.000000000",
          "2024-11-25T00:00:00.000000000",
          "2024-11-26T00:00:00.000000000",
          "2024-11-27T00:00:00.000000000",
          "2024-11-28T00:00:00.000000000",
          "2024-11-29T00:00:00.000000000",
          "2024-12-02T00:00:00.000000000",
          "2024-12-03T00:00:00.000000000",
          "2024-12-04T00:00:00.000000000",
          "2024-12-06T00:00:00.000000000",
          "2024-12-09T00:00:00.000000000",
          "2024-12-11T00:00:00.000000000",
          "2024-12-12T00:00:00.000000000",
          "2024-12-13T00:00:00.000000000",
          "2024-12-16T00:00:00.000000000",
          "2024-12-17T00:00:00.000000000",
          "2024-12-18T00:00:00.000000000",
          "2024-12-19T00:00:00.000000000",
          "2024-12-20T00:00:00.000000000",
          "2024-12-23T00:00:00.000000000",
          "2024-12-24T00:00:00.000000000",
          "2024-12-25T00:00:00.000000000",
          "2024-12-26T00:00:00.000000000",
          "2024-12-27T00:00:00.000000000",
          "2024-12-30T00:00:00.000000000",
          "2025-01-02T00:00:00.000000000",
          "2025-01-03T00:00:00.000000000",
          "2025-01-06T00:00:00.000000000",
          "2025-01-07T00:00:00.000000000",
          "2025-01-08T00:00:00.000000000",
          "2025-01-09T00:00:00.000000000",
          "2025-01-10T00:00:00.000000000",
          "2025-01-13T00:00:00.000000000",
          "2025-01-14T00:00:00.000000000",
          "2025-01-15T00:00:00.000000000",
          "2025-01-16T00:00:00.000000000",
          "2025-01-17T00:00:00.000000000",
          "2025-01-20T00:00:00.000000000",
          "2025-01-21T00:00:00.000000000",
          "2025-01-22T00:00:00.000000000",
          "2025-01-23T00:00:00.000000000",
          "2025-01-24T00:00:00.000000000",
          "2025-01-27T00:00:00.000000000",
          "2025-01-28T00:00:00.000000000",
          "2025-01-29T00:00:00.000000000",
          "2025-01-30T00:00:00.000000000",
          "2025-01-31T00:00:00.000000000",
          "2025-02-03T00:00:00.000000000",
          "2025-02-04T00:00:00.000000000",
          "2025-02-05T00:00:00.000000000",
          "2025-02-06T00:00:00.000000000",
          "2025-02-07T00:00:00.000000000",
          "2025-02-10T00:00:00.000000000",
          "2025-02-11T00:00:00.000000000",
          "2025-02-13T00:00:00.000000000",
          "2025-02-14T00:00:00.000000000",
          "2025-02-17T00:00:00.000000000",
          "2025-02-18T00:00:00.000000000",
          "2025-02-19T00:00:00.000000000",
          "2025-02-20T00:00:00.000000000",
          "2025-02-21T00:00:00.000000000",
          "2025-02-24T00:00:00.000000000",
          "2025-02-25T00:00:00.000000000",
          "2025-02-26T00:00:00.000000000",
          "2025-02-27T00:00:00.000000000",
          "2025-02-28T00:00:00.000000000",
          "2025-03-03T00:00:00.000000000",
          "2025-03-04T00:00:00.000000000",
          "2025-03-05T00:00:00.000000000",
          "2025-03-06T00:00:00.000000000",
          "2025-03-07T00:00:00.000000000",
          "2025-03-10T00:00:00.000000000",
          "2025-03-11T00:00:00.000000000",
          "2025-03-12T00:00:00.000000000",
          "2025-03-13T00:00:00.000000000",
          "2025-03-14T00:00:00.000000000",
          "2025-03-17T00:00:00.000000000",
          "2025-03-18T00:00:00.000000000",
          "2025-03-19T00:00:00.000000000",
          "2025-03-20T00:00:00.000000000",
          "2025-03-21T00:00:00.000000000",
          "2025-03-24T00:00:00.000000000",
          "2025-03-25T00:00:00.000000000",
          "2025-03-26T00:00:00.000000000",
          "2025-03-27T00:00:00.000000000",
          "2025-03-28T00:00:00.000000000",
          "2025-03-31T00:00:00.000000000",
          "2025-04-01T00:00:00.000000000",
          "2025-04-02T00:00:00.000000000",
          "2025-04-03T00:00:00.000000000",
          "2025-04-04T00:00:00.000000000",
          "2025-04-08T00:00:00.000000000",
          "2025-04-09T00:00:00.000000000",
          "2025-04-10T00:00:00.000000000",
          "2025-04-11T00:00:00.000000000",
          "2025-04-16T00:00:00.000000000",
          "2025-04-17T00:00:00.000000000",
          "2025-04-18T00:00:00.000000000",
          "2025-04-21T00:00:00.000000000",
          "2025-04-22T00:00:00.000000000",
          "2025-04-23T00:00:00.000000000",
          "2025-04-24T00:00:00.000000000",
          "2025-04-25T00:00:00.000000000",
          "2025-04-28T00:00:00.000000000",
          "2025-04-29T00:00:00.000000000",
          "2025-04-30T00:00:00.000000000",
          "2025-05-02T00:00:00.000000000",
          "2025-05-06T00:00:00.000000000",
          "2025-05-07T00:00:00.000000000",
          "2025-05-08T00:00:00.000000000",
          "2025-05-09T00:00:00.000000000",
          "2025-05-13T00:00:00.000000000",
          "2025-05-14T00:00:00.000000000",
          "2025-05-15T00:00:00.000000000",
          "2025-05-16T00:00:00.000000000",
          "2025-05-19T00:00:00.000000000",
          "2025-05-20T00:00:00.000000000",
          "2025-05-21T00:00:00.000000000",
          "2025-05-22T00:00:00.000000000",
          "2025-05-23T00:00:00.000000000",
          "2025-05-26T00:00:00.000000000",
          "2025-05-27T00:00:00.000000000",
          "2025-05-28T00:00:00.000000000"
         ],
         "y": {
          "bdata": "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",
          "dtype": "f8"
         }
        },
        {
         "line": {
          "color": "orange",
          "width": 2
         },
         "mode": "lines",
         "name": "EMA15",
         "type": "scatter",
         "x": [
          "2024-08-02T00:00:00.000000000",
          "2024-08-05T00:00:00.000000000",
          "2024-08-06T00:00:00.000000000",
          "2024-08-07T00:00:00.000000000",
          "2024-08-08T00:00:00.000000000",
          "2024-08-09T00:00:00.000000000",
          "2024-08-13T00:00:00.000000000",
          "2024-08-14T00:00:00.000000000",
          "2024-08-15T00:00:00.000000000",
          "2024-08-16T00:00:00.000000000",
          "2024-08-19T00:00:00.000000000",
          "2024-08-20T00:00:00.000000000",
          "2024-08-21T00:00:00.000000000",
          "2024-08-22T00:00:00.000000000",
          "2024-08-23T00:00:00.000000000",
          "2024-08-26T00:00:00.000000000",
          "2024-08-27T00:00:00.000000000",
          "2024-08-28T00:00:00.000000000",
          "2024-08-29T00:00:00.000000000",
          "2024-08-30T00:00:00.000000000",
          "2024-09-02T00:00:00.000000000",
          "2024-09-03T00:00:00.000000000",
          "2024-09-04T00:00:00.000000000",
          "2024-09-05T00:00:00.000000000",
          "2024-09-06T00:00:00.000000000",
          "2024-09-09T00:00:00.000000000",
          "2024-09-10T00:00:00.000000000",
          "2024-09-11T00:00:00.000000000",
          "2024-09-12T00:00:00.000000000",
          "2024-09-13T00:00:00.000000000",
          "2024-09-16T00:00:00.000000000",
          "2024-09-17T00:00:00.000000000",
          "2024-09-18T00:00:00.000000000",
          "2024-09-19T00:00:00.000000000",
          "2024-09-20T00:00:00.000000000",
          "2024-09-23T00:00:00.000000000",
          "2024-09-24T00:00:00.000000000",
          "2024-09-25T00:00:00.000000000",
          "2024-09-26T00:00:00.000000000",
          "2024-09-27T00:00:00.000000000",
          "2024-09-30T00:00:00.000000000",
          "2024-10-01T00:00:00.000000000",
          "2024-10-02T00:00:00.000000000",
          "2024-10-03T00:00:00.000000000",
          "2024-10-04T00:00:00.000000000",
          "2024-10-07T00:00:00.000000000",
          "2024-10-08T00:00:00.000000000",
          "2024-10-09T00:00:00.000000000",
          "2024-10-10T00:00:00.000000000",
          "2024-10-11T00:00:00.000000000",
          "2024-10-15T00:00:00.000000000",
          "2024-10-16T00:00:00.000000000",
          "2024-10-17T00:00:00.000000000",
          "2024-10-18T00:00:00.000000000",
          "2024-10-21T00:00:00.000000000",
          "2024-10-22T00:00:00.000000000",
          "2024-10-24T00:00:00.000000000",
          "2024-10-25T00:00:00.000000000",
          "2024-10-28T00:00:00.000000000",
          "2024-10-29T00:00:00.000000000",
          "2024-10-30T00:00:00.000000000",
          "2024-10-31T00:00:00.000000000",
          "2024-11-01T00:00:00.000000000",
          "2024-11-04T00:00:00.000000000",
          "2024-11-05T00:00:00.000000000",
          "2024-11-06T00:00:00.000000000",
          "2024-11-07T00:00:00.000000000",
          "2024-11-08T00:00:00.000000000",
          "2024-11-11T00:00:00.000000000",
          "2024-11-12T00:00:00.000000000",
          "2024-11-13T00:00:00.000000000",
          "2024-11-14T00:00:00.000000000",
          "2024-11-15T00:00:00.000000000",
          "2024-11-18T00:00:00.000000000",
          "2024-11-19T00:00:00.000000000",
          "2024-11-20T00:00:00.000000000",
          "2024-11-21T00:00:00.000000000",
          "2024-11-22T00:00:00.000000000",
          "2024-11-25T00:00:00.000000000",
          "2024-11-26T00:00:00.000000000",
          "2024-11-27T00:00:00.000000000",
          "2024-11-28T00:00:00.000000000",
          "2024-11-29T00:00:00.000000000",
          "2024-12-02T00:00:00.000000000",
          "2024-12-03T00:00:00.000000000",
          "2024-12-04T00:00:00.000000000",
          "2024-12-06T00:00:00.000000000",
          "2024-12-09T00:00:00.000000000",
          "2024-12-11T00:00:00.000000000",
          "2024-12-12T00:00:00.000000000",
          "2024-12-13T00:00:00.000000000",
          "2024-12-16T00:00:00.000000000",
          "2024-12-17T00:00:00.000000000",
          "2024-12-18T00:00:00.000000000",
          "2024-12-19T00:00:00.000000000",
          "2024-12-20T00:00:00.000000000",
          "2024-12-23T00:00:00.000000000",
          "2024-12-24T00:00:00.000000000",
          "2024-12-25T00:00:00.000000000",
          "2024-12-26T00:00:00.000000000",
          "2024-12-27T00:00:00.000000000",
          "2024-12-30T00:00:00.000000000",
          "2025-01-02T00:00:00.000000000",
          "2025-01-03T00:00:00.000000000",
          "2025-01-06T00:00:00.000000000",
          "2025-01-07T00:00:00.000000000",
          "2025-01-08T00:00:00.000000000",
          "2025-01-09T00:00:00.000000000",
          "2025-01-10T00:00:00.000000000",
          "2025-01-13T00:00:00.000000000",
          "2025-01-14T00:00:00.000000000",
          "2025-01-15T00:00:00.000000000",
          "2025-01-16T00:00:00.000000000",
          "2025-01-17T00:00:00.000000000",
          "2025-01-20T00:00:00.000000000",
          "2025-01-21T00:00:00.000000000",
          "2025-01-22T00:00:00.000000000",
          "2025-01-23T00:00:00.000000000",
          "2025-01-24T00:00:00.000000000",
          "2025-01-27T00:00:00.000000000",
          "2025-01-28T00:00:00.000000000",
          "2025-01-29T00:00:00.000000000",
          "2025-01-30T00:00:00.000000000",
          "2025-01-31T00:00:00.000000000",
          "2025-02-03T00:00:00.000000000",
          "2025-02-04T00:00:00.000000000",
          "2025-02-05T00:00:00.000000000",
          "2025-02-06T00:00:00.000000000",
          "2025-02-07T00:00:00.000000000",
          "2025-02-10T00:00:00.000000000",
          "2025-02-11T00:00:00.000000000",
          "2025-02-13T00:00:00.000000000",
          "2025-02-14T00:00:00.000000000",
          "2025-02-17T00:00:00.000000000",
          "2025-02-18T00:00:00.000000000",
          "2025-02-19T00:00:00.000000000",
          "2025-02-20T00:00:00.000000000",
          "2025-02-21T00:00:00.000000000",
          "2025-02-24T00:00:00.000000000",
          "2025-02-25T00:00:00.000000000",
          "2025-02-26T00:00:00.000000000",
          "2025-02-27T00:00:00.000000000",
          "2025-02-28T00:00:00.000000000",
          "2025-03-03T00:00:00.000000000",
          "2025-03-04T00:00:00.000000000",
          "2025-03-05T00:00:00.000000000",
          "2025-03-06T00:00:00.000000000",
          "2025-03-07T00:00:00.000000000",
          "2025-03-10T00:00:00.000000000",
          "2025-03-11T00:00:00.000000000",
          "2025-03-12T00:00:00.000000000",
          "2025-03-13T00:00:00.000000000",
          "2025-03-14T00:00:00.000000000",
          "2025-03-17T00:00:00.000000000",
          "2025-03-18T00:00:00.000000000",
          "2025-03-19T00:00:00.000000000",
          "2025-03-20T00:00:00.000000000",
          "2025-03-21T00:00:00.000000000",
          "2025-03-24T00:00:00.000000000",
          "2025-03-25T00:00:00.000000000",
          "2025-03-26T00:00:00.000000000",
          "2025-03-27T00:00:00.000000000",
          "2025-03-28T00:00:00.000000000",
          "2025-03-31T00:00:00.000000000",
          "2025-04-01T00:00:00.000000000",
          "2025-04-02T00:00:00.000000000",
          "2025-04-03T00:00:00.000000000",
          "2025-04-04T00:00:00.000000000",
          "2025-04-08T00:00:00.000000000",
          "2025-04-09T00:00:00.000000000",
          "2025-04-10T00:00:00.000000000",
          "2025-04-11T00:00:00.000000000",
          "2025-04-16T00:00:00.000000000",
          "2025-04-17T00:00:00.000000000",
          "2025-04-18T00:00:00.000000000",
          "2025-04-21T00:00:00.000000000",
          "2025-04-22T00:00:00.000000000",
          "2025-04-23T00:00:00.000000000",
          "2025-04-24T00:00:00.000000000",
          "2025-04-25T00:00:00.000000000",
          "2025-04-28T00:00:00.000000000",
          "2025-04-29T00:00:00.000000000",
          "2025-04-30T00:00:00.000000000",
          "2025-05-02T00:00:00.000000000",
          "2025-05-06T00:00:00.000000000",
          "2025-05-07T00:00:00.000000000",
          "2025-05-08T00:00:00.000000000",
          "2025-05-09T00:00:00.000000000",
          "2025-05-13T00:00:00.000000000",
          "2025-05-14T00:00:00.000000000",
          "2025-05-15T00:00:00.000000000",
          "2025-05-16T00:00:00.000000000",
          "2025-05-19T00:00:00.000000000",
          "2025-05-20T00:00:00.000000000",
          "2025-05-21T00:00:00.000000000",
          "2025-05-22T00:00:00.000000000",
          "2025-05-23T00:00:00.000000000",
          "2025-05-26T00:00:00.000000000",
          "2025-05-27T00:00:00.000000000",
          "2025-05-28T00:00:00.000000000"
         ],
         "y": {
          "bdata": "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",
          "dtype": "f8"
         }
        },
        {
         "line": {
          "color": "green",
          "width": 2
         },
         "mode": "lines",
         "name": "EMA35",
         "type": "scatter",
         "x": [
          "2024-08-02T00:00:00.000000000",
          "2024-08-05T00:00:00.000000000",
          "2024-08-06T00:00:00.000000000",
          "2024-08-07T00:00:00.000000000",
          "2024-08-08T00:00:00.000000000",
          "2024-08-09T00:00:00.000000000",
          "2024-08-13T00:00:00.000000000",
          "2024-08-14T00:00:00.000000000",
          "2024-08-15T00:00:00.000000000",
          "2024-08-16T00:00:00.000000000",
          "2024-08-19T00:00:00.000000000",
          "2024-08-20T00:00:00.000000000",
          "2024-08-21T00:00:00.000000000",
          "2024-08-22T00:00:00.000000000",
          "2024-08-23T00:00:00.000000000",
          "2024-08-26T00:00:00.000000000",
          "2024-08-27T00:00:00.000000000",
          "2024-08-28T00:00:00.000000000",
          "2024-08-29T00:00:00.000000000",
          "2024-08-30T00:00:00.000000000",
          "2024-09-02T00:00:00.000000000",
          "2024-09-03T00:00:00.000000000",
          "2024-09-04T00:00:00.000000000",
          "2024-09-05T00:00:00.000000000",
          "2024-09-06T00:00:00.000000000",
          "2024-09-09T00:00:00.000000000",
          "2024-09-10T00:00:00.000000000",
          "2024-09-11T00:00:00.000000000",
          "2024-09-12T00:00:00.000000000",
          "2024-09-13T00:00:00.000000000",
          "2024-09-16T00:00:00.000000000",
          "2024-09-17T00:00:00.000000000",
          "2024-09-18T00:00:00.000000000",
          "2024-09-19T00:00:00.000000000",
          "2024-09-20T00:00:00.000000000",
          "2024-09-23T00:00:00.000000000",
          "2024-09-24T00:00:00.000000000",
          "2024-09-25T00:00:00.000000000",
          "2024-09-26T00:00:00.000000000",
          "2024-09-27T00:00:00.000000000",
          "2024-09-30T00:00:00.000000000",
          "2024-10-01T00:00:00.000000000",
          "2024-10-02T00:00:00.000000000",
          "2024-10-03T00:00:00.000000000",
          "2024-10-04T00:00:00.000000000",
          "2024-10-07T00:00:00.000000000",
          "2024-10-08T00:00:00.000000000",
          "2024-10-09T00:00:00.000000000",
          "2024-10-10T00:00:00.000000000",
          "2024-10-11T00:00:00.000000000",
          "2024-10-15T00:00:00.000000000",
          "2024-10-16T00:00:00.000000000",
          "2024-10-17T00:00:00.000000000",
          "2024-10-18T00:00:00.000000000",
          "2024-10-21T00:00:00.000000000",
          "2024-10-22T00:00:00.000000000",
          "2024-10-24T00:00:00.000000000",
          "2024-10-25T00:00:00.000000000",
          "2024-10-28T00:00:00.000000000",
          "2024-10-29T00:00:00.000000000",
          "2024-10-30T00:00:00.000000000",
          "2024-10-31T00:00:00.000000000",
          "2024-11-01T00:00:00.000000000",
          "2024-11-04T00:00:00.000000000",
          "2024-11-05T00:00:00.000000000",
          "2024-11-06T00:00:00.000000000",
          "2024-11-07T00:00:00.000000000",
          "2024-11-08T00:00:00.000000000",
          "2024-11-11T00:00:00.000000000",
          "2024-11-12T00:00:00.000000000",
          "2024-11-13T00:00:00.000000000",
          "2024-11-14T00:00:00.000000000",
          "2024-11-15T00:00:00.000000000",
          "2024-11-18T00:00:00.000000000",
          "2024-11-19T00:00:00.000000000",
          "2024-11-20T00:00:00.000000000",
          "2024-11-21T00:00:00.000000000",
          "2024-11-22T00:00:00.000000000",
          "2024-11-25T00:00:00.000000000",
          "2024-11-26T00:00:00.000000000",
          "2024-11-27T00:00:00.000000000",
          "2024-11-28T00:00:00.000000000",
          "2024-11-29T00:00:00.000000000",
          "2024-12-02T00:00:00.000000000",
          "2024-12-03T00:00:00.000000000",
          "2024-12-04T00:00:00.000000000",
          "2024-12-06T00:00:00.000000000",
          "2024-12-09T00:00:00.000000000",
          "2024-12-11T00:00:00.000000000",
          "2024-12-12T00:00:00.000000000",
          "2024-12-13T00:00:00.000000000",
          "2024-12-16T00:00:00.000000000",
          "2024-12-17T00:00:00.000000000",
          "2024-12-18T00:00:00.000000000",
          "2024-12-19T00:00:00.000000000",
          "2024-12-20T00:00:00.000000000",
          "2024-12-23T00:00:00.000000000",
          "2024-12-24T00:00:00.000000000",
          "2024-12-25T00:00:00.000000000",
          "2024-12-26T00:00:00.000000000",
          "2024-12-27T00:00:00.000000000",
          "2024-12-30T00:00:00.000000000",
          "2025-01-02T00:00:00.000000000",
          "2025-01-03T00:00:00.000000000",
          "2025-01-06T00:00:00.000000000",
          "2025-01-07T00:00:00.000000000",
          "2025-01-08T00:00:00.000000000",
          "2025-01-09T00:00:00.000000000",
          "2025-01-10T00:00:00.000000000",
          "2025-01-13T00:00:00.000000000",
          "2025-01-14T00:00:00.000000000",
          "2025-01-15T00:00:00.000000000",
          "2025-01-16T00:00:00.000000000",
          "2025-01-17T00:00:00.000000000",
          "2025-01-20T00:00:00.000000000",
          "2025-01-21T00:00:00.000000000",
          "2025-01-22T00:00:00.000000000",
          "2025-01-23T00:00:00.000000000",
          "2025-01-24T00:00:00.000000000",
          "2025-01-27T00:00:00.000000000",
          "2025-01-28T00:00:00.000000000",
          "2025-01-29T00:00:00.000000000",
          "2025-01-30T00:00:00.000000000",
          "2025-01-31T00:00:00.000000000",
          "2025-02-03T00:00:00.000000000",
          "2025-02-04T00:00:00.000000000",
          "2025-02-05T00:00:00.000000000",
          "2025-02-06T00:00:00.000000000",
          "2025-02-07T00:00:00.000000000",
          "2025-02-10T00:00:00.000000000",
          "2025-02-11T00:00:00.000000000",
          "2025-02-13T00:00:00.000000000",
          "2025-02-14T00:00:00.000000000",
          "2025-02-17T00:00:00.000000000",
          "2025-02-18T00:00:00.000000000",
          "2025-02-19T00:00:00.000000000",
          "2025-02-20T00:00:00.000000000",
          "2025-02-21T00:00:00.000000000",
          "2025-02-24T00:00:00.000000000",
          "2025-02-25T00:00:00.000000000",
          "2025-02-26T00:00:00.000000000",
          "2025-02-27T00:00:00.000000000",
          "2025-02-28T00:00:00.000000000",
          "2025-03-03T00:00:00.000000000",
          "2025-03-04T00:00:00.000000000",
          "2025-03-05T00:00:00.000000000",
          "2025-03-06T00:00:00.000000000",
          "2025-03-07T00:00:00.000000000",
          "2025-03-10T00:00:00.000000000",
          "2025-03-11T00:00:00.000000000",
          "2025-03-12T00:00:00.000000000",
          "2025-03-13T00:00:00.000000000",
          "2025-03-14T00:00:00.000000000",
          "2025-03-17T00:00:00.000000000",
          "2025-03-18T00:00:00.000000000",
          "2025-03-19T00:00:00.000000000",
          "2025-03-20T00:00:00.000000000",
          "2025-03-21T00:00:00.000000000",
          "2025-03-24T00:00:00.000000000",
          "2025-03-25T00:00:00.000000000",
          "2025-03-26T00:00:00.000000000",
          "2025-03-27T00:00:00.000000000",
          "2025-03-28T00:00:00.000000000",
          "2025-03-31T00:00:00.000000000",
          "2025-04-01T00:00:00.000000000",
          "2025-04-02T00:00:00.000000000",
          "2025-04-03T00:00:00.000000000",
          "2025-04-04T00:00:00.000000000",
          "2025-04-08T00:00:00.000000000",
          "2025-04-09T00:00:00.000000000",
          "2025-04-10T00:00:00.000000000",
          "2025-04-11T00:00:00.000000000",
          "2025-04-16T00:00:00.000000000",
          "2025-04-17T00:00:00.000000000",
          "2025-04-18T00:00:00.000000000",
          "2025-04-21T00:00:00.000000000",
          "2025-04-22T00:00:00.000000000",
          "2025-04-23T00:00:00.000000000",
          "2025-04-24T00:00:00.000000000",
          "2025-04-25T00:00:00.000000000",
          "2025-04-28T00:00:00.000000000",
          "2025-04-29T00:00:00.000000000",
          "2025-04-30T00:00:00.000000000",
          "2025-05-02T00:00:00.000000000",
          "2025-05-06T00:00:00.000000000",
          "2025-05-07T00:00:00.000000000",
          "2025-05-08T00:00:00.000000000",
          "2025-05-09T00:00:00.000000000",
          "2025-05-13T00:00:00.000000000",
          "2025-05-14T00:00:00.000000000",
          "2025-05-15T00:00:00.000000000",
          "2025-05-16T00:00:00.000000000",
          "2025-05-19T00:00:00.000000000",
          "2025-05-20T00:00:00.000000000",
          "2025-05-21T00:00:00.000000000",
          "2025-05-22T00:00:00.000000000",
          "2025-05-23T00:00:00.000000000",
          "2025-05-26T00:00:00.000000000",
          "2025-05-27T00:00:00.000000000",
          "2025-05-28T00:00:00.000000000"
         ],
         "y": {
          "bdata": "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",
          "dtype": "f8"
         }
        },
        {
         "line": {
          "color": "purple",
          "width": 2
         },
         "mode": "lines",
         "name": "EMA89",
         "type": "scatter",
         "x": [
          "2024-08-02T00:00:00.000000000",
          "2024-08-05T00:00:00.000000000",
          "2024-08-06T00:00:00.000000000",
          "2024-08-07T00:00:00.000000000",
          "2024-08-08T00:00:00.000000000",
          "2024-08-09T00:00:00.000000000",
          "2024-08-13T00:00:00.000000000",
          "2024-08-14T00:00:00.000000000",
          "2024-08-15T00:00:00.000000000",
          "2024-08-16T00:00:00.000000000",
          "2024-08-19T00:00:00.000000000",
          "2024-08-20T00:00:00.000000000",
          "2024-08-21T00:00:00.000000000",
          "2024-08-22T00:00:00.000000000",
          "2024-08-23T00:00:00.000000000",
          "2024-08-26T00:00:00.000000000",
          "2024-08-27T00:00:00.000000000",
          "2024-08-28T00:00:00.000000000",
          "2024-08-29T00:00:00.000000000",
          "2024-08-30T00:00:00.000000000",
          "2024-09-02T00:00:00.000000000",
          "2024-09-03T00:00:00.000000000",
          "2024-09-04T00:00:00.000000000",
          "2024-09-05T00:00:00.000000000",
          "2024-09-06T00:00:00.000000000",
          "2024-09-09T00:00:00.000000000",
          "2024-09-10T00:00:00.000000000",
          "2024-09-11T00:00:00.000000000",
          "2024-09-12T00:00:00.000000000",
          "2024-09-13T00:00:00.000000000",
          "2024-09-16T00:00:00.000000000",
          "2024-09-17T00:00:00.000000000",
          "2024-09-18T00:00:00.000000000",
          "2024-09-19T00:00:00.000000000",
          "2024-09-20T00:00:00.000000000",
          "2024-09-23T00:00:00.000000000",
          "2024-09-24T00:00:00.000000000",
          "2024-09-25T00:00:00.000000000",
          "2024-09-26T00:00:00.000000000",
          "2024-09-27T00:00:00.000000000",
          "2024-09-30T00:00:00.000000000",
          "2024-10-01T00:00:00.000000000",
          "2024-10-02T00:00:00.000000000",
          "2024-10-03T00:00:00.000000000",
          "2024-10-04T00:00:00.000000000",
          "2024-10-07T00:00:00.000000000",
          "2024-10-08T00:00:00.000000000",
          "2024-10-09T00:00:00.000000000",
          "2024-10-10T00:00:00.000000000",
          "2024-10-11T00:00:00.000000000",
          "2024-10-15T00:00:00.000000000",
          "2024-10-16T00:00:00.000000000",
          "2024-10-17T00:00:00.000000000",
          "2024-10-18T00:00:00.000000000",
          "2024-10-21T00:00:00.000000000",
          "2024-10-22T00:00:00.000000000",
          "2024-10-24T00:00:00.000000000",
          "2024-10-25T00:00:00.000000000",
          "2024-10-28T00:00:00.000000000",
          "2024-10-29T00:00:00.000000000",
          "2024-10-30T00:00:00.000000000",
          "2024-10-31T00:00:00.000000000",
          "2024-11-01T00:00:00.000000000",
          "2024-11-04T00:00:00.000000000",
          "2024-11-05T00:00:00.000000000",
          "2024-11-06T00:00:00.000000000",
          "2024-11-07T00:00:00.000000000",
          "2024-11-08T00:00:00.000000000",
          "2024-11-11T00:00:00.000000000",
          "2024-11-12T00:00:00.000000000",
          "2024-11-13T00:00:00.000000000",
          "2024-11-14T00:00:00.000000000",
          "2024-11-15T00:00:00.000000000",
          "2024-11-18T00:00:00.000000000",
          "2024-11-19T00:00:00.000000000",
          "2024-11-20T00:00:00.000000000",
          "2024-11-21T00:00:00.000000000",
          "2024-11-22T00:00:00.000000000",
          "2024-11-25T00:00:00.000000000",
          "2024-11-26T00:00:00.000000000",
          "2024-11-27T00:00:00.000000000",
          "2024-11-28T00:00:00.000000000",
          "2024-11-29T00:00:00.000000000",
          "2024-12-02T00:00:00.000000000",
          "2024-12-03T00:00:00.000000000",
          "2024-12-04T00:00:00.000000000",
          "2024-12-06T00:00:00.000000000",
          "2024-12-09T00:00:00.000000000",
          "2024-12-11T00:00:00.000000000",
          "2024-12-12T00:00:00.000000000",
          "2024-12-13T00:00:00.000000000",
          "2024-12-16T00:00:00.000000000",
          "2024-12-17T00:00:00.000000000",
          "2024-12-18T00:00:00.000000000",
          "2024-12-19T00:00:00.000000000",
          "2024-12-20T00:00:00.000000000",
          "2024-12-23T00:00:00.000000000",
          "2024-12-24T00:00:00.000000000",
          "2024-12-25T00:00:00.000000000",
          "2024-12-26T00:00:00.000000000",
          "2024-12-27T00:00:00.000000000",
          "2024-12-30T00:00:00.000000000",
          "2025-01-02T00:00:00.000000000",
          "2025-01-03T00:00:00.000000000",
          "2025-01-06T00:00:00.000000000",
          "2025-01-07T00:00:00.000000000",
          "2025-01-08T00:00:00.000000000",
          "2025-01-09T00:00:00.000000000",
          "2025-01-10T00:00:00.000000000",
          "2025-01-13T00:00:00.000000000",
          "2025-01-14T00:00:00.000000000",
          "2025-01-15T00:00:00.000000000",
          "2025-01-16T00:00:00.000000000",
          "2025-01-17T00:00:00.000000000",
          "2025-01-20T00:00:00.000000000",
          "2025-01-21T00:00:00.000000000",
          "2025-01-22T00:00:00.000000000",
          "2025-01-23T00:00:00.000000000",
          "2025-01-24T00:00:00.000000000",
          "2025-01-27T00:00:00.000000000",
          "2025-01-28T00:00:00.000000000",
          "2025-01-29T00:00:00.000000000",
          "2025-01-30T00:00:00.000000000",
          "2025-01-31T00:00:00.000000000",
          "2025-02-03T00:00:00.000000000",
          "2025-02-04T00:00:00.000000000",
          "2025-02-05T00:00:00.000000000",
          "2025-02-06T00:00:00.000000000",
          "2025-02-07T00:00:00.000000000",
          "2025-02-10T00:00:00.000000000",
          "2025-02-11T00:00:00.000000000",
          "2025-02-13T00:00:00.000000000",
          "2025-02-14T00:00:00.000000000",
          "2025-02-17T00:00:00.000000000",
          "2025-02-18T00:00:00.000000000",
          "2025-02-19T00:00:00.000000000",
          "2025-02-20T00:00:00.000000000",
          "2025-02-21T00:00:00.000000000",
          "2025-02-24T00:00:00.000000000",
          "2025-02-25T00:00:00.000000000",
          "2025-02-26T00:00:00.000000000",
          "2025-02-27T00:00:00.000000000",
          "2025-02-28T00:00:00.000000000",
          "2025-03-03T00:00:00.000000000",
          "2025-03-04T00:00:00.000000000",
          "2025-03-05T00:00:00.000000000",
          "2025-03-06T00:00:00.000000000",
          "2025-03-07T00:00:00.000000000",
          "2025-03-10T00:00:00.000000000",
          "2025-03-11T00:00:00.000000000",
          "2025-03-12T00:00:00.000000000",
          "2025-03-13T00:00:00.000000000",
          "2025-03-14T00:00:00.000000000",
          "2025-03-17T00:00:00.000000000",
          "2025-03-18T00:00:00.000000000",
          "2025-03-19T00:00:00.000000000",
          "2025-03-20T00:00:00.000000000",
          "2025-03-21T00:00:00.000000000",
          "2025-03-24T00:00:00.000000000",
          "2025-03-25T00:00:00.000000000",
          "2025-03-26T00:00:00.000000000",
          "2025-03-27T00:00:00.000000000",
          "2025-03-28T00:00:00.000000000",
          "2025-03-31T00:00:00.000000000",
          "2025-04-01T00:00:00.000000000",
          "2025-04-02T00:00:00.000000000",
          "2025-04-03T00:00:00.000000000",
          "2025-04-04T00:00:00.000000000",
          "2025-04-08T00:00:00.000000000",
          "2025-04-09T00:00:00.000000000",
          "2025-04-10T00:00:00.000000000",
          "2025-04-11T00:00:00.000000000",
          "2025-04-16T00:00:00.000000000",
          "2025-04-17T00:00:00.000000000",
          "2025-04-18T00:00:00.000000000",
          "2025-04-21T00:00:00.000000000",
          "2025-04-22T00:00:00.000000000",
          "2025-04-23T00:00:00.000000000",
          "2025-04-24T00:00:00.000000000",
          "2025-04-25T00:00:00.000000000",
          "2025-04-28T00:00:00.000000000",
          "2025-04-29T00:00:00.000000000",
          "2025-04-30T00:00:00.000000000",
          "2025-05-02T00:00:00.000000000",
          "2025-05-06T00:00:00.000000000",
          "2025-05-07T00:00:00.000000000",
          "2025-05-08T00:00:00.000000000",
          "2025-05-09T00:00:00.000000000",
          "2025-05-13T00:00:00.000000000",
          "2025-05-14T00:00:00.000000000",
          "2025-05-15T00:00:00.000000000",
          "2025-05-16T00:00:00.000000000",
          "2025-05-19T00:00:00.000000000",
          "2025-05-20T00:00:00.000000000",
          "2025-05-21T00:00:00.000000000",
          "2025-05-22T00:00:00.000000000",
          "2025-05-23T00:00:00.000000000",
          "2025-05-26T00:00:00.000000000",
          "2025-05-27T00:00:00.000000000",
          "2025-05-28T00:00:00.000000000"
         ],
         "y": {
          "bdata": "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",
          "dtype": "f8"
         }
        },
        {
         "line": {
          "color": "red",
          "width": 2
         },
         "mode": "lines",
         "name": "EMA200",
         "type": "scatter",
         "x": [
          "2024-08-02T00:00:00.000000000",
          "2024-08-05T00:00:00.000000000",
          "2024-08-06T00:00:00.000000000",
          "2024-08-07T00:00:00.000000000",
          "2024-08-08T00:00:00.000000000",
          "2024-08-09T00:00:00.000000000",
          "2024-08-13T00:00:00.000000000",
          "2024-08-14T00:00:00.000000000",
          "2024-08-15T00:00:00.000000000",
          "2024-08-16T00:00:00.000000000",
          "2024-08-19T00:00:00.000000000",
          "2024-08-20T00:00:00.000000000",
          "2024-08-21T00:00:00.000000000",
          "2024-08-22T00:00:00.000000000",
          "2024-08-23T00:00:00.000000000",
          "2024-08-26T00:00:00.000000000",
          "2024-08-27T00:00:00.000000000",
          "2024-08-28T00:00:00.000000000",
          "2024-08-29T00:00:00.000000000",
          "2024-08-30T00:00:00.000000000",
          "2024-09-02T00:00:00.000000000",
          "2024-09-03T00:00:00.000000000",
          "2024-09-04T00:00:00.000000000",
          "2024-09-05T00:00:00.000000000",
          "2024-09-06T00:00:00.000000000",
          "2024-09-09T00:00:00.000000000",
          "2024-09-10T00:00:00.000000000",
          "2024-09-11T00:00:00.000000000",
          "2024-09-12T00:00:00.000000000",
          "2024-09-13T00:00:00.000000000",
          "2024-09-16T00:00:00.000000000",
          "2024-09-17T00:00:00.000000000",
          "2024-09-18T00:00:00.000000000",
          "2024-09-19T00:00:00.000000000",
          "2024-09-20T00:00:00.000000000",
          "2024-09-23T00:00:00.000000000",
          "2024-09-24T00:00:00.000000000",
          "2024-09-25T00:00:00.000000000",
          "2024-09-26T00:00:00.000000000",
          "2024-09-27T00:00:00.000000000",
          "2024-09-30T00:00:00.000000000",
          "2024-10-01T00:00:00.000000000",
          "2024-10-02T00:00:00.000000000",
          "2024-10-03T00:00:00.000000000",
          "2024-10-04T00:00:00.000000000",
          "2024-10-07T00:00:00.000000000",
          "2024-10-08T00:00:00.000000000",
          "2024-10-09T00:00:00.000000000",
          "2024-10-10T00:00:00.000000000",
          "2024-10-11T00:00:00.000000000",
          "2024-10-15T00:00:00.000000000",
          "2024-10-16T00:00:00.000000000",
          "2024-10-17T00:00:00.000000000",
          "2024-10-18T00:00:00.000000000",
          "2024-10-21T00:00:00.000000000",
          "2024-10-22T00:00:00.000000000",
          "2024-10-24T00:00:00.000000000",
          "2024-10-25T00:00:00.000000000",
          "2024-10-28T00:00:00.000000000",
          "2024-10-29T00:00:00.000000000",
          "2024-10-30T00:00:00.000000000",
          "2024-10-31T00:00:00.000000000",
          "2024-11-01T00:00:00.000000000",
          "2024-11-04T00:00:00.000000000",
          "2024-11-05T00:00:00.000000000",
          "2024-11-06T00:00:00.000000000",
          "2024-11-07T00:00:00.000000000",
          "2024-11-08T00:00:00.000000000",
          "2024-11-11T00:00:00.000000000",
          "2024-11-12T00:00:00.000000000",
          "2024-11-13T00:00:00.000000000",
          "2024-11-14T00:00:00.000000000",
          "2024-11-15T00:00:00.000000000",
          "2024-11-18T00:00:00.000000000",
          "2024-11-19T00:00:00.000000000",
          "2024-11-20T00:00:00.000000000",
          "2024-11-21T00:00:00.000000000",
          "2024-11-22T00:00:00.000000000",
          "2024-11-25T00:00:00.000000000",
          "2024-11-26T00:00:00.000000000",
          "2024-11-27T00:00:00.000000000",
          "2024-11-28T00:00:00.000000000",
          "2024-11-29T00:00:00.000000000",
          "2024-12-02T00:00:00.000000000",
          "2024-12-03T00:00:00.000000000",
          "2024-12-04T00:00:00.000000000",
          "2024-12-06T00:00:00.000000000",
          "2024-12-09T00:00:00.000000000",
          "2024-12-11T00:00:00.000000000",
          "2024-12-12T00:00:00.000000000",
          "2024-12-13T00:00:00.000000000",
          "2024-12-16T00:00:00.000000000",
          "2024-12-17T00:00:00.000000000",
          "2024-12-18T00:00:00.000000000",
          "2024-12-19T00:00:00.000000000",
          "2024-12-20T00:00:00.000000000",
          "2024-12-23T00:00:00.000000000",
          "2024-12-24T00:00:00.000000000",
          "2024-12-25T00:00:00.000000000",
          "2024-12-26T00:00:00.000000000",
          "2024-12-27T00:00:00.000000000",
          "2024-12-30T00:00:00.000000000",
          "2025-01-02T00:00:00.000000000",
          "2025-01-03T00:00:00.000000000",
          "2025-01-06T00:00:00.000000000",
          "2025-01-07T00:00:00.000000000",
          "2025-01-08T00:00:00.000000000",
          "2025-01-09T00:00:00.000000000",
          "2025-01-10T00:00:00.000000000",
          "2025-01-13T00:00:00.000000000",
          "2025-01-14T00:00:00.000000000",
          "2025-01-15T00:00:00.000000000",
          "2025-01-16T00:00:00.000000000",
          "2025-01-17T00:00:00.000000000",
          "2025-01-20T00:00:00.000000000",
          "2025-01-21T00:00:00.000000000",
          "2025-01-22T00:00:00.000000000",
          "2025-01-23T00:00:00.000000000",
          "2025-01-24T00:00:00.000000000",
          "2025-01-27T00:00:00.000000000",
          "2025-01-28T00:00:00.000000000",
          "2025-01-29T00:00:00.000000000",
          "2025-01-30T00:00:00.000000000",
          "2025-01-31T00:00:00.000000000",
          "2025-02-03T00:00:00.000000000",
          "2025-02-04T00:00:00.000000000",
          "2025-02-05T00:00:00.000000000",
          "2025-02-06T00:00:00.000000000",
          "2025-02-07T00:00:00.000000000",
          "2025-02-10T00:00:00.000000000",
          "2025-02-11T00:00:00.000000000",
          "2025-02-13T00:00:00.000000000",
          "2025-02-14T00:00:00.000000000",
          "2025-02-17T00:00:00.000000000",
          "2025-02-18T00:00:00.000000000",
          "2025-02-19T00:00:00.000000000",
          "2025-02-20T00:00:00.000000000",
          "2025-02-21T00:00:00.000000000",
          "2025-02-24T00:00:00.000000000",
          "2025-02-25T00:00:00.000000000",
          "2025-02-26T00:00:00.000000000",
          "2025-02-27T00:00:00.000000000",
          "2025-02-28T00:00:00.000000000",
          "2025-03-03T00:00:00.000000000",
          "2025-03-04T00:00:00.000000000",
          "2025-03-05T00:00:00.000000000",
          "2025-03-06T00:00:00.000000000",
          "2025-03-07T00:00:00.000000000",
          "2025-03-10T00:00:00.000000000",
          "2025-03-11T00:00:00.000000000",
          "2025-03-12T00:00:00.000000000",
          "2025-03-13T00:00:00.000000000",
          "2025-03-14T00:00:00.000000000",
          "2025-03-17T00:00:00.000000000",
          "2025-03-18T00:00:00.000000000",
          "2025-03-19T00:00:00.000000000",
          "2025-03-20T00:00:00.000000000",
          "2025-03-21T00:00:00.000000000",
          "2025-03-24T00:00:00.000000000",
          "2025-03-25T00:00:00.000000000",
          "2025-03-26T00:00:00.000000000",
          "2025-03-27T00:00:00.000000000",
          "2025-03-28T00:00:00.000000000",
          "2025-03-31T00:00:00.000000000",
          "2025-04-01T00:00:00.000000000",
          "2025-04-02T00:00:00.000000000",
          "2025-04-03T00:00:00.000000000",
          "2025-04-04T00:00:00.000000000",
          "2025-04-08T00:00:00.000000000",
          "2025-04-09T00:00:00.000000000",
          "2025-04-10T00:00:00.000000000",
          "2025-04-11T00:00:00.000000000",
          "2025-04-16T00:00:00.000000000",
          "2025-04-17T00:00:00.000000000",
          "2025-04-18T00:00:00.000000000",
          "2025-04-21T00:00:00.000000000",
          "2025-04-22T00:00:00.000000000",
          "2025-04-23T00:00:00.000000000",
          "2025-04-24T00:00:00.000000000",
          "2025-04-25T00:00:00.000000000",
          "2025-04-28T00:00:00.000000000",
          "2025-04-29T00:00:00.000000000",
          "2025-04-30T00:00:00.000000000",
          "2025-05-02T00:00:00.000000000",
          "2025-05-06T00:00:00.000000000",
          "2025-05-07T00:00:00.000000000",
          "2025-05-08T00:00:00.000000000",
          "2025-05-09T00:00:00.000000000",
          "2025-05-13T00:00:00.000000000",
          "2025-05-14T00:00:00.000000000",
          "2025-05-15T00:00:00.000000000",
          "2025-05-16T00:00:00.000000000",
          "2025-05-19T00:00:00.000000000",
          "2025-05-20T00:00:00.000000000",
          "2025-05-21T00:00:00.000000000",
          "2025-05-22T00:00:00.000000000",
          "2025-05-23T00:00:00.000000000",
          "2025-05-26T00:00:00.000000000",
          "2025-05-27T00:00:00.000000000",
          "2025-05-28T00:00:00.000000000"
         ],
         "y": {
          "bdata": "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",
          "dtype": "f8"
         }
        },
        {
         "marker": {
          "color": "lightblue"
         },
         "name": "Volume",
         "opacity": 0.5,
         "type": "bar",
         "x": [
          "2024-08-02T00:00:00.000000000",
          "2024-08-05T00:00:00.000000000",
          "2024-08-06T00:00:00.000000000",
          "2024-08-07T00:00:00.000000000",
          "2024-08-08T00:00:00.000000000",
          "2024-08-09T00:00:00.000000000",
          "2024-08-13T00:00:00.000000000",
          "2024-08-14T00:00:00.000000000",
          "2024-08-15T00:00:00.000000000",
          "2024-08-16T00:00:00.000000000",
          "2024-08-19T00:00:00.000000000",
          "2024-08-20T00:00:00.000000000",
          "2024-08-21T00:00:00.000000000",
          "2024-08-22T00:00:00.000000000",
          "2024-08-23T00:00:00.000000000",
          "2024-08-26T00:00:00.000000000",
          "2024-08-27T00:00:00.000000000",
          "2024-08-28T00:00:00.000000000",
          "2024-08-29T00:00:00.000000000",
          "2024-08-30T00:00:00.000000000",
          "2024-09-02T00:00:00.000000000",
          "2024-09-03T00:00:00.000000000",
          "2024-09-04T00:00:00.000000000",
          "2024-09-05T00:00:00.000000000",
          "2024-09-06T00:00:00.000000000",
          "2024-09-09T00:00:00.000000000",
          "2024-09-10T00:00:00.000000000",
          "2024-09-11T00:00:00.000000000",
          "2024-09-12T00:00:00.000000000",
          "2024-09-13T00:00:00.000000000",
          "2024-09-16T00:00:00.000000000",
          "2024-09-17T00:00:00.000000000",
          "2024-09-18T00:00:00.000000000",
          "2024-09-19T00:00:00.000000000",
          "2024-09-20T00:00:00.000000000",
          "2024-09-23T00:00:00.000000000",
          "2024-09-24T00:00:00.000000000",
          "2024-09-25T00:00:00.000000000",
          "2024-09-26T00:00:00.000000000",
          "2024-09-27T00:00:00.000000000",
          "2024-09-30T00:00:00.000000000",
          "2024-10-01T00:00:00.000000000",
          "2024-10-02T00:00:00.000000000",
          "2024-10-03T00:00:00.000000000",
          "2024-10-04T00:00:00.000000000",
          "2024-10-07T00:00:00.000000000",
          "2024-10-08T00:00:00.000000000",
          "2024-10-09T00:00:00.000000000",
          "2024-10-10T00:00:00.000000000",
          "2024-10-11T00:00:00.000000000",
          "2024-10-15T00:00:00.000000000",
          "2024-10-16T00:00:00.000000000",
          "2024-10-17T00:00:00.000000000",
          "2024-10-18T00:00:00.000000000",
          "2024-10-21T00:00:00.000000000",
          "2024-10-22T00:00:00.000000000",
          "2024-10-24T00:00:00.000000000",
          "2024-10-25T00:00:00.000000000",
          "2024-10-28T00:00:00.000000000",
          "2024-10-29T00:00:00.000000000",
          "2024-10-30T00:00:00.000000000",
          "2024-10-31T00:00:00.000000000",
          "2024-11-01T00:00:00.000000000",
          "2024-11-04T00:00:00.000000000",
          "2024-11-05T00:00:00.000000000",
          "2024-11-06T00:00:00.000000000",
          "2024-11-07T00:00:00.000000000",
          "2024-11-08T00:00:00.000000000",
          "2024-11-11T00:00:00.000000000",
          "2024-11-12T00:00:00.000000000",
          "2024-11-13T00:00:00.000000000",
          "2024-11-14T00:00:00.000000000",
          "2024-11-15T00:00:00.000000000",
          "2024-11-18T00:00:00.000000000",
          "2024-11-19T00:00:00.000000000",
          "2024-11-20T00:00:00.000000000",
          "2024-11-21T00:00:00.000000000",
          "2024-11-22T00:00:00.000000000",
          "2024-11-25T00:00:00.000000000",
          "2024-11-26T00:00:00.000000000",
          "2024-11-27T00:00:00.000000000",
          "2024-11-28T00:00:00.000000000",
          "2024-11-29T00:00:00.000000000",
          "2024-12-02T00:00:00.000000000",
          "2024-12-03T00:00:00.000000000",
          "2024-12-04T00:00:00.000000000",
          "2024-12-06T00:00:00.000000000",
          "2024-12-09T00:00:00.000000000",
          "2024-12-11T00:00:00.000000000",
          "2024-12-12T00:00:00.000000000",
          "2024-12-13T00:00:00.000000000",
          "2024-12-16T00:00:00.000000000",
          "2024-12-17T00:00:00.000000000",
          "2024-12-18T00:00:00.000000000",
          "2024-12-19T00:00:00.000000000",
          "2024-12-20T00:00:00.000000000",
          "2024-12-23T00:00:00.000000000",
          "2024-12-24T00:00:00.000000000",
          "2024-12-25T00:00:00.000000000",
          "2024-12-26T00:00:00.000000000",
          "2024-12-27T00:00:00.000000000",
          "2024-12-30T00:00:00.000000000",
          "2025-01-02T00:00:00.000000000",
          "2025-01-03T00:00:00.000000000",
          "2025-01-06T00:00:00.000000000",
          "2025-01-07T00:00:00.000000000",
          "2025-01-08T00:00:00.000000000",
          "2025-01-09T00:00:00.000000000",
          "2025-01-10T00:00:00.000000000",
          "2025-01-13T00:00:00.000000000",
          "2025-01-14T00:00:00.000000000",
          "2025-01-15T00:00:00.000000000",
          "2025-01-16T00:00:00.000000000",
          "2025-01-17T00:00:00.000000000",
          "2025-01-20T00:00:00.000000000",
          "2025-01-21T00:00:00.000000000",
          "2025-01-22T00:00:00.000000000",
          "2025-01-23T00:00:00.000000000",
          "2025-01-24T00:00:00.000000000",
          "2025-01-27T00:00:00.000000000",
          "2025-01-28T00:00:00.000000000",
          "2025-01-29T00:00:00.000000000",
          "2025-01-30T00:00:00.000000000",
          "2025-01-31T00:00:00.000000000",
          "2025-02-03T00:00:00.000000000",
          "2025-02-04T00:00:00.000000000",
          "2025-02-05T00:00:00.000000000",
          "2025-02-06T00:00:00.000000000",
          "2025-02-07T00:00:00.000000000",
          "2025-02-10T00:00:00.000000000",
          "2025-02-11T00:00:00.000000000",
          "2025-02-13T00:00:00.000000000",
          "2025-02-14T00:00:00.000000000",
          "2025-02-17T00:00:00.000000000",
          "2025-02-18T00:00:00.000000000",
          "2025-02-19T00:00:00.000000000",
          "2025-02-20T00:00:00.000000000",
          "2025-02-21T00:00:00.000000000",
          "2025-02-24T00:00:00.000000000",
          "2025-02-25T00:00:00.000000000",
          "2025-02-26T00:00:00.000000000",
          "2025-02-27T00:00:00.000000000",
          "2025-02-28T00:00:00.000000000",
          "2025-03-03T00:00:00.000000000",
          "2025-03-04T00:00:00.000000000",
          "2025-03-05T00:00:00.000000000",
          "2025-03-06T00:00:00.000000000",
          "2025-03-07T00:00:00.000000000",
          "2025-03-10T00:00:00.000000000",
          "2025-03-11T00:00:00.000000000",
          "2025-03-12T00:00:00.000000000",
          "2025-03-13T00:00:00.000000000",
          "2025-03-14T00:00:00.000000000",
          "2025-03-17T00:00:00.000000000",
          "2025-03-18T00:00:00.000000000",
          "2025-03-19T00:00:00.000000000",
          "2025-03-20T00:00:00.000000000",
          "2025-03-21T00:00:00.000000000",
          "2025-03-24T00:00:00.000000000",
          "2025-03-25T00:00:00.000000000",
          "2025-03-26T00:00:00.000000000",
          "2025-03-27T00:00:00.000000000",
          "2025-03-28T00:00:00.000000000",
          "2025-03-31T00:00:00.000000000",
          "2025-04-01T00:00:00.000000000",
          "2025-04-02T00:00:00.000000000",
          "2025-04-03T00:00:00.000000000",
          "2025-04-04T00:00:00.000000000",
          "2025-04-08T00:00:00.000000000",
          "2025-04-09T00:00:00.000000000",
          "2025-04-10T00:00:00.000000000",
          "2025-04-11T00:00:00.000000000",
          "2025-04-16T00:00:00.000000000",
          "2025-04-17T00:00:00.000000000",
          "2025-04-18T00:00:00.000000000",
          "2025-04-21T00:00:00.000000000",
          "2025-04-22T00:00:00.000000000",
          "2025-04-23T00:00:00.000000000",
          "2025-04-24T00:00:00.000000000",
          "2025-04-25T00:00:00.000000000",
          "2025-04-28T00:00:00.000000000",
          "2025-04-29T00:00:00.000000000",
          "2025-04-30T00:00:00.000000000",
          "2025-05-02T00:00:00.000000000",
          "2025-05-06T00:00:00.000000000",
          "2025-05-07T00:00:00.000000000",
          "2025-05-08T00:00:00.000000000",
          "2025-05-09T00:00:00.000000000",
          "2025-05-13T00:00:00.000000000",
          "2025-05-14T00:00:00.000000000",
          "2025-05-15T00:00:00.000000000",
          "2025-05-16T00:00:00.000000000",
          "2025-05-19T00:00:00.000000000",
          "2025-05-20T00:00:00.000000000",
          "2025-05-21T00:00:00.000000000",
          "2025-05-22T00:00:00.000000000",
          "2025-05-23T00:00:00.000000000",
          "2025-05-26T00:00:00.000000000",
          "2025-05-27T00:00:00.000000000",
          "2025-05-28T00:00:00.000000000"
         ],
         "y": {
          "bdata": "Y5cqAECIcQCdbRUASFAmADOrLABUXBMABjY7AZFRKQD0RR8AXXYYANsaEgAB/30AcwA9AWxeLwDCVSMA7pQiAI0bKwCvCzsA+K4cAKKzcwBLIz8A6ANNALlOGwCAvy4ALAwTALQECwCCFUIARf4RADveHwAMcg4A3ZgTAOZGFQBPVhQAUAsOABr+BwAsCj8AWbJYAN5LwQAkNDEAvKQXAD08EwAb/w0ArrIYAEhSFQDJwCkAky1NAHRKCwDWzSkAGgmWAH8aAQEd1SkAHpOZACSzQQD9Sh8ALPgZACAZLQCTUDcARUhOACiSEwCCeQsAqncXABfDCABGeRYAvmsJAEM2BwCLVREAT3EkAM/9HwG+NwkBEiYvABK+BQAs0QcADeIFADUhBwCoRgkAWZASAMqUEQBQ6xEAdk03AA3dEgBBwAgAjGUOAGOpBABIbAUAoI0EAPj3CQAwugEA3A8EAIYhAQAcmAoAtLIHABNtBQCc1w4AraACADIFAgCCqwAAKnkIAFpJAQCIkAAA0QEBAHXsAgD0fgAA2B0DAF1rHwCH8x4Ak+UPAHzJIAA7rwoAfIEHADNKAwAnSQUAFaEGALouKQDfvQQAPBAEAO4YBgDEdAMARVcYAKhuAgDetgEAIzIRACS8AQD4EgQA3NUHANyPAgDSOQAAhFsCAFKhDgBeOAUAz6sZAIe2QAA2sAsAyvcCAFV5DwBIKwUAc9EIAHQoBABo+AMAJQ0BAAopBABBZAEAafMIAK0BDQAUZAUAlvsHAMMuAQCiywUAG+sBAGToBgC1ygMAqP8HAJUMBQCamgAA1sIAAJoNCQAbjAcApJ8BAB7LBABQ/AMAZxIUAK+rCgA9ISIBr3NVAIylHQAhVhsAWDcMAOCvCQD0ywgAzMQUAAhQEQDwkAsAGLoKAHXfCwBnoRcALWp4AE9tLgDsoxoAYK4jAIYCYABwiZgABIqjALTIKwBwWhIAAZgRANhuCQA4yQgAfIcfADajGgDXYZ4Bvi5LATAVmQCNIhMBgQghAlGqpwKWA2gBaS1ZAKYrVAKSV9UCZicwAwZ7mwI=",
          "dtype": "i4"
         },
         "yaxis": "y2"
        }
       ],
       "layout": {
        "height": 600,
        "template": {
         "data": {
          "bar": [
           {
            "error_x": {
             "color": "#2a3f5f"
            },
            "error_y": {
             "color": "#2a3f5f"
            },
            "marker": {
             "line": {
              "color": "white",
              "width": 0.5
             },
             "pattern": {
              "fillmode": "overlay",
              "size": 10,
              "solidity": 0.2
             }
            },
            "type": "bar"
           }
          ],
          "barpolar": [
           {
            "marker": {
             "line": {
              "color": "white",
              "width": 0.5
             },
             "pattern": {
              "fillmode": "overlay",
              "size": 10,
              "solidity": 0.2
             }
            },
            "type": "barpolar"
           }
          ],
          "carpet": [
           {
            "aaxis": {
             "endlinecolor": "#2a3f5f",
             "gridcolor": "#C8D4E3",
             "linecolor": "#C8D4E3",
             "minorgridcolor": "#C8D4E3",
             "startlinecolor": "#2a3f5f"
            },
            "baxis": {
             "endlinecolor": "#2a3f5f",
             "gridcolor": "#C8D4E3",
             "linecolor": "#C8D4E3",
             "minorgridcolor": "#C8D4E3",
             "startlinecolor": "#2a3f5f"
            },
            "type": "carpet"
           }
          ],
          "choropleth": [
           {
            "colorbar": {
             "outlinewidth": 0,
             "ticks": ""
            },
            "type": "choropleth"
           }
          ],
          "contour": [
           {
            "colorbar": {
             "outlinewidth": 0,
             "ticks": ""
            },
            "colorscale": [
             [
              0,
              "#0d0887"
             ],
             [
              0.1111111111111111,
              "#46039f"
             ],
             [
              0.2222222222222222,
              "#7201a8"
             ],
             [
              0.3333333333333333,
              "#9c179e"
             ],
             [
              0.4444444444444444,
              "#bd3786"
             ],
             [
              0.5555555555555556,
              "#d8576b"
             ],
             [
              0.6666666666666666,
              "#ed7953"
             ],
             [
              0.7777777777777778,
              "#fb9f3a"
             ],
             [
              0.8888888888888888,
              "#fdca26"
             ],
             [
              1,
              "#f0f921"
             ]
            ],
            "type": "contour"
           }
          ],
          "contourcarpet": [
           {
            "colorbar": {
             "outlinewidth": 0,
             "ticks": ""
            },
            "type": "contourcarpet"
           }
          ],
          "heatmap": [
           {
            "colorbar": {
             "outlinewidth": 0,
             "ticks": ""
            },
            "colorscale": [
             [
              0,
              "#0d0887"
             ],
             [
              0.1111111111111111,
              "#46039f"
             ],
             [
              0.2222222222222222,
              "#7201a8"
             ],
             [
              0.3333333333333333,
              "#9c179e"
             ],
             [
              0.4444444444444444,
              "#bd3786"
             ],
             [
              0.5555555555555556,
              "#d8576b"
             ],
             [
              0.6666666666666666,
              "#ed7953"
             ],
             [
              0.7777777777777778,
              "#fb9f3a"
             ],
             [
              0.8888888888888888,
              "#fdca26"
             ],
             [
              1,
              "#f0f921"
             ]
            ],
            "type": "heatmap"
           }
          ],
          "histogram": [
           {
            "marker": {
             "pattern": {
              "fillmode": "overlay",
              "size": 10,
              "solidity": 0.2
             }
            },
            "type": "histogram"
           }
          ],
          "histogram2d": [
           {
            "colorbar": {
             "outlinewidth": 0,
             "ticks": ""
            },
            "colorscale": [
             [
              0,
              "#0d0887"
             ],
             [
              0.1111111111111111,
              "#46039f"
             ],
             [
              0.2222222222222222,
              "#7201a8"
             ],
             [
              0.3333333333333333,
              "#9c179e"
             ],
             [
              0.4444444444444444,
              "#bd3786"
             ],
             [
              0.5555555555555556,
              "#d8576b"
             ],
             [
              0.6666666666666666,
              "#ed7953"
             ],
             [
              0.7777777777777778,
              "#fb9f3a"
             ],
             [
              0.8888888888888888,
              "#fdca26"
             ],
             [
              1,
              "#f0f921"
             ]
            ],
            "type": "histogram2d"
           }
          ],
          "histogram2dcontour": [
           {
            "colorbar": {
             "outlinewidth": 0,
             "ticks": ""
            },
            "colorscale": [
             [
              0,
              "#0d0887"
             ],
             [
              0.1111111111111111,
              "#46039f"
             ],
             [
              0.2222222222222222,
              "#7201a8"
             ],
             [
              0.3333333333333333,
              "#9c179e"
             ],
             [
              0.4444444444444444,
              "#bd3786"
             ],
             [
              0.5555555555555556,
              "#d8576b"
             ],
             [
              0.6666666666666666,
              "#ed7953"
             ],
             [
              0.7777777777777778,
              "#fb9f3a"
             ],
             [
              0.8888888888888888,
              "#fdca26"
             ],
             [
              1,
              "#f0f921"
             ]
            ],
            "type": "histogram2dcontour"
           }
          ],
          "mesh3d": [
           {
            "colorbar": {
             "outlinewidth": 0,
             "ticks": ""
            },
            "type": "mesh3d"
           }
          ],
          "parcoords": [
           {
            "line": {
             "colorbar": {
              "outlinewidth": 0,
              "ticks": ""
             }
            },
            "type": "parcoords"
           }
          ],
          "pie": [
           {
            "automargin": true,
            "type": "pie"
           }
          ],
          "scatter": [
           {
            "fillpattern": {
             "fillmode": "overlay",
             "size": 10,
             "solidity": 0.2
            },
            "type": "scatter"
           }
          ],
          "scatter3d": [
           {
            "line": {
             "colorbar": {
              "outlinewidth": 0,
              "ticks": ""
             }
            },
            "marker": {
             "colorbar": {
              "outlinewidth": 0,
              "ticks": ""
             }
            },
            "type": "scatter3d"
           }
          ],
          "scattercarpet": [
           {
            "marker": {
             "colorbar": {
              "outlinewidth": 0,
              "ticks": ""
             }
            },
            "type": "scattercarpet"
           }
          ],
          "scattergeo": [
           {
            "marker": {
             "colorbar": {
              "outlinewidth": 0,
              "ticks": ""
             }
            },
            "type": "scattergeo"
           }
          ],
          "scattergl": [
           {
            "marker": {
             "colorbar": {
              "outlinewidth": 0,
              "ticks": ""
             }
            },
            "type": "scattergl"
           }
          ],
          "scattermap": [
           {
            "marker": {
             "colorbar": {
              "outlinewidth": 0,
              "ticks": ""
             }
            },
            "type": "scattermap"
           }
          ],
          "scattermapbox": [
           {
            "marker": {
             "colorbar": {
              "outlinewidth": 0,
              "ticks": ""
             }
            },
            "type": "scattermapbox"
           }
          ],
          "scatterpolar": [
           {
            "marker": {
             "colorbar": {
              "outlinewidth": 0,
              "ticks": ""
             }
            },
            "type": "scatterpolar"
           }
          ],
          "scatterpolargl": [
           {
            "marker": {
             "colorbar": {
              "outlinewidth": 0,
              "ticks": ""
             }
            },
            "type": "scatterpolargl"
           }
          ],
          "scatterternary": [
           {
            "marker": {
             "colorbar": {
              "outlinewidth": 0,
              "ticks": ""
             }
            },
            "type": "scatterternary"
           }
          ],
          "surface": [
           {
            "colorbar": {
             "outlinewidth": 0,
             "ticks": ""
            },
            "colorscale": [
             [
              0,
              "#0d0887"
             ],
             [
              0.1111111111111111,
              "#46039f"
             ],
             [
              0.2222222222222222,
              "#7201a8"
             ],
             [
              0.3333333333333333,
              "#9c179e"
             ],
             [
              0.4444444444444444,
              "#bd3786"
             ],
             [
              0.5555555555555556,
              "#d8576b"
             ],
             [
              0.6666666666666666,
              "#ed7953"
             ],
             [
              0.7777777777777778,
              "#fb9f3a"
             ],
             [
              0.8888888888888888,
              "#fdca26"
             ],
             [
              1,
              "#f0f921"
             ]
            ],
            "type": "surface"
           }
          ],
          "table": [
           {
            "cells": {
             "fill": {
              "color": "#EBF0F8"
             },
             "line": {
              "color": "white"
             }
            },
            "header": {
             "fill": {
              "color": "#C8D4E3"
             },
             "line": {
              "color": "white"
             }
            },
            "type": "table"
           }
          ]
         },
         "layout": {
          "annotationdefaults": {
           "arrowcolor": "#2a3f5f",
           "arrowhead": 0,
           "arrowwidth": 1
          },
          "autotypenumbers": "strict",
          "coloraxis": {
           "colorbar": {
            "outlinewidth": 0,
            "ticks": ""
           }
          },
          "colorscale": {
           "diverging": [
            [
             0,
             "#8e0152"
            ],
            [
             0.1,
             "#c51b7d"
            ],
            [
             0.2,
             "#de77ae"
            ],
            [
             0.3,
             "#f1b6da"
            ],
            [
             0.4,
             "#fde0ef"
            ],
            [
             0.5,
             "#f7f7f7"
            ],
            [
             0.6,
             "#e6f5d0"
            ],
            [
             0.7,
             "#b8e186"
            ],
            [
             0.8,
             "#7fbc41"
            ],
            [
             0.9,
             "#4d9221"
            ],
            [
             1,
             "#276419"
            ]
           ],
           "sequential": [
            [
             0,
             "#0d0887"
            ],
            [
             0.1111111111111111,
             "#46039f"
            ],
            [
             0.2222222222222222,
             "#7201a8"
            ],
            [
             0.3333333333333333,
             "#9c179e"
            ],
            [
             0.4444444444444444,
             "#bd3786"
            ],
            [
             0.5555555555555556,
             "#d8576b"
            ],
            [
             0.6666666666666666,
             "#ed7953"
            ],
            [
             0.7777777777777778,
             "#fb9f3a"
            ],
            [
             0.8888888888888888,
             "#fdca26"
            ],
            [
             1,
             "#f0f921"
            ]
           ],
           "sequentialminus": [
            [
             0,
             "#0d0887"
            ],
            [
             0.1111111111111111,
             "#46039f"
            ],
            [
             0.2222222222222222,
             "#7201a8"
            ],
            [
             0.3333333333333333,
             "#9c179e"
            ],
            [
             0.4444444444444444,
             "#bd3786"
            ],
            [
             0.5555555555555556,
             "#d8576b"
            ],
            [
             0.6666666666666666,
             "#ed7953"
            ],
            [
             0.7777777777777778,
             "#fb9f3a"
            ],
            [
             0.8888888888888888,
             "#fdca26"
            ],
            [
             1,
             "#f0f921"
            ]
           ]
          },
          "colorway": [
           "#636efa",
           "#EF553B",
           "#00cc96",
           "#ab63fa",
           "#FFA15A",
           "#19d3f3",
           "#FF6692",
           "#B6E880",
           "#FF97FF",
           "#FECB52"
          ],
          "font": {
           "color": "#2a3f5f"
          },
          "geo": {
           "bgcolor": "white",
           "lakecolor": "white",
           "landcolor": "white",
           "showlakes": true,
           "showland": true,
           "subunitcolor": "#C8D4E3"
          },
          "hoverlabel": {
           "align": "left"
          },
          "hovermode": "closest",
          "mapbox": {
           "style": "light"
          },
          "paper_bgcolor": "white",
          "plot_bgcolor": "white",
          "polar": {
           "angularaxis": {
            "gridcolor": "#EBF0F8",
            "linecolor": "#EBF0F8",
            "ticks": ""
           },
           "bgcolor": "white",
           "radialaxis": {
            "gridcolor": "#EBF0F8",
            "linecolor": "#EBF0F8",
            "ticks": ""
           }
          },
          "scene": {
           "xaxis": {
            "backgroundcolor": "white",
            "gridcolor": "#DFE8F3",
            "gridwidth": 2,
            "linecolor": "#EBF0F8",
            "showbackground": true,
            "ticks": "",
            "zerolinecolor": "#EBF0F8"
           },
           "yaxis": {
            "backgroundcolor": "white",
            "gridcolor": "#DFE8F3",
            "gridwidth": 2,
            "linecolor": "#EBF0F8",
            "showbackground": true,
            "ticks": "",
            "zerolinecolor": "#EBF0F8"
           },
           "zaxis": {
            "backgroundcolor": "white",
            "gridcolor": "#DFE8F3",
            "gridwidth": 2,
            "linecolor": "#EBF0F8",
            "showbackground": true,
            "ticks": "",
            "zerolinecolor": "#EBF0F8"
           }
          },
          "shapedefaults": {
           "line": {
            "color": "#2a3f5f"
           }
          },
          "ternary": {
           "aaxis": {
            "gridcolor": "#DFE8F3",
            "linecolor": "#A2B1C6",
            "ticks": ""
           },
           "baxis": {
            "gridcolor": "#DFE8F3",
            "linecolor": "#A2B1C6",
            "ticks": ""
           },
           "bgcolor": "white",
           "caxis": {
            "gridcolor": "#DFE8F3",
            "linecolor": "#A2B1C6",
            "ticks": ""
           }
          },
          "title": {
           "x": 0.05
          },
          "xaxis": {
           "automargin": true,
           "gridcolor": "#EBF0F8",
           "linecolor": "#EBF0F8",
           "ticks": "",
           "title": {
            "standoff": 15
           },
           "zerolinecolor": "#EBF0F8",
           "zerolinewidth": 2
          },
          "yaxis": {
           "automargin": true,
           "gridcolor": "#EBF0F8",
           "linecolor": "#EBF0F8",
           "ticks": "",
           "title": {
            "standoff": 15
           },
           "zerolinecolor": "#EBF0F8",
           "zerolinewidth": 2
          }
         }
        },
        "title": {
         "text": "24CS Stock Candlestick Chart with EMA(5,15,35,89,200) and Volume"
        },
        "width": 950,
        "xaxis": {
         "rangeslider": {
          "visible": false
         },
         "title": {
          "text": "Date"
         }
        },
        "yaxis": {
         "domain": [
          0.3,
          1
         ],
         "title": {
          "text": "Price"
         }
        },
        "yaxis2": {
         "domain": [
          0,
          0.25
         ],
         "title": {
          "text": "Volume"
         }
        }
       }
      }
     },
     "metadata": {},
     "output_type": "display_data"
    }
   ],
   "source": [
    "import plotly.graph_objects as go\n",
    "\n",
    "# 🔹 เลือกเฉพาะหุ้น 24CS\n",
    "ohlc_df = df_cand[df_cand[\"symbol\"] == \"24CS\"].copy()\n",
    "\n",
    "# 🔹 จัดการ index\n",
    "ohlc_df[\"time\"] = pd.to_datetime(ohlc_df[\"time\"])\n",
    "ohlc_df = ohlc_df.sort_values(\"time\")\n",
    "ohlc_df = ohlc_df.set_index(\"time\")\n",
    "ohlc_df.index.name = \"Date\"\n",
    "\n",
    "# 🔹 Rename columns ให้ตรงกับ Plotly\n",
    "ohlc_df = ohlc_df.rename(columns={\n",
    "    \"open_price\": \"Open\",\n",
    "    \"high_price\": \"High\",\n",
    "    \"low_price\": \"Low\",\n",
    "    \"close_price\": \"Close\",\n",
    "    \"volume\": \"Volume\"\n",
    "})\n",
    "\n",
    "# 🔹 เลือกแค่ 200 วันล่าสุด (เพื่อดูง่าย)\n",
    "ohlc_df = ohlc_df.tail(200)\n",
    "\n",
    "# 🔹 คำนวณ EMA\n",
    "for p in [5, 15, 35, 89, 200]:\n",
    "    ohlc_df[f\"EMA{p}\"] = ohlc_df[\"Close\"].ewm(span=p, adjust=False).mean()\n",
    "\n",
    "# ✅ กราฟ Candlestick\n",
    "fig = go.Figure(data=[go.Candlestick(\n",
    "    x=ohlc_df.index,\n",
    "    open=ohlc_df['Open'],\n",
    "    high=ohlc_df['High'],\n",
    "    low=ohlc_df['Low'],\n",
    "    close=ohlc_df['Close'],\n",
    "    name=\"Candlestick\"\n",
    ")])\n",
    "\n",
    "# ✅ เส้น EMA\n",
    "colors = {5:\"blue\", 15:\"orange\", 35:\"green\", 89:\"purple\", 200:\"red\"}\n",
    "for p in [5, 15, 35, 89, 200]:\n",
    "    fig.add_trace(go.Scatter(\n",
    "        x=ohlc_df.index,\n",
    "        y=ohlc_df[f\"EMA{p}\"],\n",
    "        mode=\"lines\",\n",
    "        line=dict(width=2, color=colors[p]),\n",
    "        name=f\"EMA{p}\"\n",
    "    ))\n",
    "\n",
    "# ✅ Volume\n",
    "fig.add_trace(go.Bar(\n",
    "    x=ohlc_df.index,\n",
    "    y=ohlc_df['Volume'],\n",
    "    name=\"Volume\",\n",
    "    marker_color=\"lightblue\",\n",
    "    opacity=0.5,\n",
    "    yaxis=\"y2\"\n",
    "))\n",
    "\n",
    "# ✅ Layout\n",
    "fig.update_layout(\n",
    "    title=\"24CS Stock Candlestick Chart with EMA(5,15,35,89,200) and Volume\",\n",
    "    yaxis=dict(title=\"Price\", domain=[0.3, 1]),\n",
    "    yaxis2=dict(title=\"Volume\", domain=[0, 0.25]),\n",
    "    xaxis=dict(title=\"Date\"),\n",
    "    xaxis_rangeslider_visible=False,\n",
    "    template=\"plotly_white\",\n",
    "    width=950,\n",
    "    height=600\n",
    ")\n",
    "\n",
    "fig.show()\n"
   ]
  },
  {
   "cell_type": "code",
   "execution_count": 8,
   "id": "22a7597e",
   "metadata": {},
   "outputs": [
    {
     "data": {
      "text/html": [
       "<div>\n",
       "<style scoped>\n",
       "    .dataframe tbody tr th:only-of-type {\n",
       "        vertical-align: middle;\n",
       "    }\n",
       "\n",
       "    .dataframe tbody tr th {\n",
       "        vertical-align: top;\n",
       "    }\n",
       "\n",
       "    .dataframe thead th {\n",
       "        text-align: right;\n",
       "    }\n",
       "</style>\n",
       "<table border=\"1\" class=\"dataframe\">\n",
       "  <thead>\n",
       "    <tr style=\"text-align: right;\">\n",
       "      <th></th>\n",
       "      <th>symbol</th>\n",
       "      <th>eps</th>\n",
       "      <th>pe</th>\n",
       "      <th>pbv</th>\n",
       "      <th>percentyield</th>\n",
       "    </tr>\n",
       "  </thead>\n",
       "  <tbody>\n",
       "    <tr>\n",
       "      <th>0</th>\n",
       "      <td>PPPM</td>\n",
       "      <td>0.02000</td>\n",
       "      <td>0.00</td>\n",
       "      <td>0.70</td>\n",
       "      <td>0.00</td>\n",
       "    </tr>\n",
       "    <tr>\n",
       "      <th>1</th>\n",
       "      <td>TPCH</td>\n",
       "      <td>0.24112</td>\n",
       "      <td>7.90</td>\n",
       "      <td>0.34</td>\n",
       "      <td>13.91</td>\n",
       "    </tr>\n",
       "    <tr>\n",
       "      <th>2</th>\n",
       "      <td>KPNREIT</td>\n",
       "      <td>NaN</td>\n",
       "      <td>NaN</td>\n",
       "      <td>0.23</td>\n",
       "      <td>0.00</td>\n",
       "    </tr>\n",
       "    <tr>\n",
       "      <th>3</th>\n",
       "      <td>POLY</td>\n",
       "      <td>0.27632</td>\n",
       "      <td>12.89</td>\n",
       "      <td>2.42</td>\n",
       "      <td>6.38</td>\n",
       "    </tr>\n",
       "    <tr>\n",
       "      <th>4</th>\n",
       "      <td>QHBREIT</td>\n",
       "      <td>NaN</td>\n",
       "      <td>NaN</td>\n",
       "      <td>0.41</td>\n",
       "      <td>0.00</td>\n",
       "    </tr>\n",
       "    <tr>\n",
       "      <th>5</th>\n",
       "      <td>VCOM</td>\n",
       "      <td>0.21428</td>\n",
       "      <td>7.85</td>\n",
       "      <td>1.48</td>\n",
       "      <td>10.79</td>\n",
       "    </tr>\n",
       "    <tr>\n",
       "      <th>6</th>\n",
       "      <td>KDH</td>\n",
       "      <td>4.12186</td>\n",
       "      <td>10.62</td>\n",
       "      <td>1.93</td>\n",
       "      <td>3.01</td>\n",
       "    </tr>\n",
       "    <tr>\n",
       "      <th>7</th>\n",
       "      <td>NVD</td>\n",
       "      <td>-0.00942</td>\n",
       "      <td>38.87</td>\n",
       "      <td>0.32</td>\n",
       "      <td>0.00</td>\n",
       "    </tr>\n",
       "    <tr>\n",
       "      <th>8</th>\n",
       "      <td>JDF</td>\n",
       "      <td>0.04224</td>\n",
       "      <td>12.19</td>\n",
       "      <td>1.35</td>\n",
       "      <td>4.85</td>\n",
       "    </tr>\n",
       "    <tr>\n",
       "      <th>9</th>\n",
       "      <td>SVR</td>\n",
       "      <td>-0.03402</td>\n",
       "      <td>0.00</td>\n",
       "      <td>0.34</td>\n",
       "      <td>0.00</td>\n",
       "    </tr>\n",
       "  </tbody>\n",
       "</table>\n",
       "</div>"
      ],
      "text/plain": [
       "    symbol      eps     pe   pbv  percentyield\n",
       "0     PPPM  0.02000   0.00  0.70          0.00\n",
       "1     TPCH  0.24112   7.90  0.34         13.91\n",
       "2  KPNREIT      NaN    NaN  0.23          0.00\n",
       "3     POLY  0.27632  12.89  2.42          6.38\n",
       "4  QHBREIT      NaN    NaN  0.41          0.00\n",
       "5     VCOM  0.21428   7.85  1.48         10.79\n",
       "6      KDH  4.12186  10.62  1.93          3.01\n",
       "7      NVD -0.00942  38.87  0.32          0.00\n",
       "8      JDF  0.04224  12.19  1.35          4.85\n",
       "9      SVR -0.03402   0.00  0.34          0.00"
      ]
     },
     "execution_count": 8,
     "metadata": {},
     "output_type": "execute_result"
    }
   ],
   "source": [
    "rows_fin2 = session.execute(\"\"\"\n",
    "    SELECT symbol,eps,pe,pbv,percentYield FROM financal_data_fromsettradeAPI ALLOW FILTERING\n",
    "\"\"\")\n",
    "df_fun= pd.DataFrame(rows_fin2)\n",
    "df_fun.head(10)"
   ]
  },
  {
   "cell_type": "markdown",
   "id": "78b7cfc5",
   "metadata": {},
   "source": [
    "## Data Preparation"
   ]
  },
  {
   "cell_type": "markdown",
   "id": "53bf014d",
   "metadata": {},
   "source": [
    "เตรียมข้อมูล\n",
    "\n",
    "ข้อมูลของราคาหุ้น มี597057บรรทัด 8คอลัมท์\n",
    "\n",
    "ข้อมูลของปัจจัยหุ้น มี913บรรทัด 5 คอลัมท์ ดึงข้อมูลของคอลัมท์ที่ใช้"
   ]
  },
  {
   "cell_type": "code",
   "execution_count": 9,
   "id": "ed427609",
   "metadata": {},
   "outputs": [
    {
     "data": {
      "text/plain": [
       "(597057, 8)"
      ]
     },
     "execution_count": 9,
     "metadata": {},
     "output_type": "execute_result"
    }
   ],
   "source": [
    "df_cand.shape"
   ]
  },
  {
   "cell_type": "code",
   "execution_count": 10,
   "id": "c7c6ca0b",
   "metadata": {},
   "outputs": [
    {
     "data": {
      "text/plain": [
       "(913, 5)"
      ]
     },
     "execution_count": 10,
     "metadata": {},
     "output_type": "execute_result"
    }
   ],
   "source": [
    "df_fun.shape"
   ]
  },
  {
   "cell_type": "markdown",
   "id": "af5d13f9",
   "metadata": {},
   "source": [
    "ข้อมูลnullของเเต่ละตาราง "
   ]
  },
  {
   "cell_type": "code",
   "execution_count": 11,
   "id": "42958e73",
   "metadata": {},
   "outputs": [
    {
     "data": {
      "text/plain": [
       "symbol         0\n",
       "time           0\n",
       "close_price    0\n",
       "high_price     0\n",
       "low_price      0\n",
       "open_price     0\n",
       "value          0\n",
       "volume         0\n",
       "dtype: int64"
      ]
     },
     "execution_count": 11,
     "metadata": {},
     "output_type": "execute_result"
    }
   ],
   "source": [
    "df_cand.isnull().sum()"
   ]
  },
  {
   "cell_type": "code",
   "execution_count": 12,
   "id": "9237b61b",
   "metadata": {},
   "outputs": [
    {
     "data": {
      "text/plain": [
       "symbol           0\n",
       "eps             65\n",
       "pe              75\n",
       "pbv             12\n",
       "percentyield    11\n",
       "dtype: int64"
      ]
     },
     "execution_count": 12,
     "metadata": {},
     "output_type": "execute_result"
    }
   ],
   "source": [
    "df_fun.isnull().sum()"
   ]
  },
  {
   "cell_type": "markdown",
   "id": "fc9ed164",
   "metadata": {},
   "source": [
    "ดึงแท่งล่าสุดของแต่ละ symbol"
   ]
  },
  {
   "cell_type": "code",
   "execution_count": 13,
   "id": "6214766c",
   "metadata": {},
   "outputs": [
    {
     "data": {
      "text/html": [
       "<div>\n",
       "<style scoped>\n",
       "    .dataframe tbody tr th:only-of-type {\n",
       "        vertical-align: middle;\n",
       "    }\n",
       "\n",
       "    .dataframe tbody tr th {\n",
       "        vertical-align: top;\n",
       "    }\n",
       "\n",
       "    .dataframe thead th {\n",
       "        text-align: right;\n",
       "    }\n",
       "</style>\n",
       "<table border=\"1\" class=\"dataframe\">\n",
       "  <thead>\n",
       "    <tr style=\"text-align: right;\">\n",
       "      <th></th>\n",
       "      <th>symbol</th>\n",
       "      <th>time</th>\n",
       "      <th>close_price</th>\n",
       "      <th>high_price</th>\n",
       "      <th>low_price</th>\n",
       "      <th>open_price</th>\n",
       "      <th>value</th>\n",
       "      <th>volume</th>\n",
       "    </tr>\n",
       "  </thead>\n",
       "  <tbody>\n",
       "    <tr>\n",
       "      <th>296488</th>\n",
       "      <td>ACAP</td>\n",
       "      <td>2023-05-17</td>\n",
       "      <td>0.33</td>\n",
       "      <td>0.36</td>\n",
       "      <td>0.21</td>\n",
       "      <td>0.22</td>\n",
       "      <td>0.0</td>\n",
       "      <td>13918556</td>\n",
       "    </tr>\n",
       "    <tr>\n",
       "      <th>377055</th>\n",
       "      <td>TAPAC</td>\n",
       "      <td>2024-05-02</td>\n",
       "      <td>0.52</td>\n",
       "      <td>0.53</td>\n",
       "      <td>0.46</td>\n",
       "      <td>0.47</td>\n",
       "      <td>0.0</td>\n",
       "      <td>1675203</td>\n",
       "    </tr>\n",
       "    <tr>\n",
       "      <th>29119</th>\n",
       "      <td>KKC</td>\n",
       "      <td>2024-07-26</td>\n",
       "      <td>0.04</td>\n",
       "      <td>0.04</td>\n",
       "      <td>0.03</td>\n",
       "      <td>0.03</td>\n",
       "      <td>0.0</td>\n",
       "      <td>4462175</td>\n",
       "    </tr>\n",
       "    <tr>\n",
       "      <th>570667</th>\n",
       "      <td>JKN</td>\n",
       "      <td>2024-09-16</td>\n",
       "      <td>0.31</td>\n",
       "      <td>0.32</td>\n",
       "      <td>0.25</td>\n",
       "      <td>0.26</td>\n",
       "      <td>0.0</td>\n",
       "      <td>43155573</td>\n",
       "    </tr>\n",
       "    <tr>\n",
       "      <th>340860</th>\n",
       "      <td>CV</td>\n",
       "      <td>2025-02-28</td>\n",
       "      <td>0.20</td>\n",
       "      <td>0.24</td>\n",
       "      <td>0.18</td>\n",
       "      <td>0.22</td>\n",
       "      <td>0.0</td>\n",
       "      <td>18892801</td>\n",
       "    </tr>\n",
       "    <tr>\n",
       "      <th>578870</th>\n",
       "      <td>KWI</td>\n",
       "      <td>2025-02-28</td>\n",
       "      <td>0.30</td>\n",
       "      <td>0.30</td>\n",
       "      <td>0.28</td>\n",
       "      <td>0.29</td>\n",
       "      <td>0.0</td>\n",
       "      <td>264500</td>\n",
       "    </tr>\n",
       "    <tr>\n",
       "      <th>104554</th>\n",
       "      <td>TOPP</td>\n",
       "      <td>2025-05-02</td>\n",
       "      <td>155.00</td>\n",
       "      <td>155.00</td>\n",
       "      <td>155.00</td>\n",
       "      <td>155.00</td>\n",
       "      <td>0.0</td>\n",
       "      <td>100</td>\n",
       "    </tr>\n",
       "    <tr>\n",
       "      <th>175947</th>\n",
       "      <td>NEW</td>\n",
       "      <td>2025-05-02</td>\n",
       "      <td>97.00</td>\n",
       "      <td>97.00</td>\n",
       "      <td>97.00</td>\n",
       "      <td>97.00</td>\n",
       "      <td>0.0</td>\n",
       "      <td>100</td>\n",
       "    </tr>\n",
       "    <tr>\n",
       "      <th>485008</th>\n",
       "      <td>CSR</td>\n",
       "      <td>2025-05-14</td>\n",
       "      <td>71.50</td>\n",
       "      <td>71.50</td>\n",
       "      <td>71.50</td>\n",
       "      <td>71.50</td>\n",
       "      <td>0.0</td>\n",
       "      <td>100</td>\n",
       "    </tr>\n",
       "    <tr>\n",
       "      <th>190493</th>\n",
       "      <td>MVP</td>\n",
       "      <td>2025-05-15</td>\n",
       "      <td>0.50</td>\n",
       "      <td>0.53</td>\n",
       "      <td>0.50</td>\n",
       "      <td>0.52</td>\n",
       "      <td>0.0</td>\n",
       "      <td>535301</td>\n",
       "    </tr>\n",
       "  </tbody>\n",
       "</table>\n",
       "</div>"
      ],
      "text/plain": [
       "       symbol       time  close_price  high_price  low_price  open_price  \\\n",
       "296488   ACAP 2023-05-17         0.33        0.36       0.21        0.22   \n",
       "377055  TAPAC 2024-05-02         0.52        0.53       0.46        0.47   \n",
       "29119     KKC 2024-07-26         0.04        0.04       0.03        0.03   \n",
       "570667    JKN 2024-09-16         0.31        0.32       0.25        0.26   \n",
       "340860     CV 2025-02-28         0.20        0.24       0.18        0.22   \n",
       "578870    KWI 2025-02-28         0.30        0.30       0.28        0.29   \n",
       "104554   TOPP 2025-05-02       155.00      155.00     155.00      155.00   \n",
       "175947    NEW 2025-05-02        97.00       97.00      97.00       97.00   \n",
       "485008    CSR 2025-05-14        71.50       71.50      71.50       71.50   \n",
       "190493    MVP 2025-05-15         0.50        0.53       0.50        0.52   \n",
       "\n",
       "        value    volume  \n",
       "296488    0.0  13918556  \n",
       "377055    0.0   1675203  \n",
       "29119     0.0   4462175  \n",
       "570667    0.0  43155573  \n",
       "340860    0.0  18892801  \n",
       "578870    0.0    264500  \n",
       "104554    0.0       100  \n",
       "175947    0.0       100  \n",
       "485008    0.0       100  \n",
       "190493    0.0    535301  "
      ]
     },
     "execution_count": 13,
     "metadata": {},
     "output_type": "execute_result"
    }
   ],
   "source": [
    "df_latest_candle = (\n",
    "    df_cand.sort_values(\"time\")\n",
    "    .groupby(\"symbol\", as_index=False)\n",
    "    .tail(1)\n",
    ")\n",
    "df_latest_candle.head(10)"
   ]
  },
  {
   "cell_type": "markdown",
   "id": "fa781f90",
   "metadata": {},
   "source": [
    "ข้อมูลของราคาเหลือเเค่912บรรทัด"
   ]
  },
  {
   "cell_type": "code",
   "execution_count": 14,
   "id": "d9523685",
   "metadata": {},
   "outputs": [
    {
     "data": {
      "text/plain": [
       "(912, 8)"
      ]
     },
     "execution_count": 14,
     "metadata": {},
     "output_type": "execute_result"
    }
   ],
   "source": [
    "df_latest_candle.shape"
   ]
  },
  {
   "cell_type": "markdown",
   "id": "f28ec3ab",
   "metadata": {},
   "source": [
    "dropข้อมูลที่เป็นnan สาเหตุ บางหุ้นพึ่งเข้าตลาดหลักทรัพข้อมูลเลยไม่มี"
   ]
  },
  {
   "cell_type": "code",
   "execution_count": 15,
   "id": "6b6dab67",
   "metadata": {},
   "outputs": [
    {
     "data": {
      "text/plain": [
       "(838, 5)"
      ]
     },
     "execution_count": 15,
     "metadata": {},
     "output_type": "execute_result"
    }
   ],
   "source": [
    "fundrop=df_fun\n",
    "fundrop.dropna(inplace=True) \n",
    "fundrop.shape"
   ]
  },
  {
   "cell_type": "markdown",
   "id": "ca2e36b8",
   "metadata": {},
   "source": [
    "### Technical Data Grouping\n",
    "\n",
    "We categorize stock market technical signals using **Exponential Moving Averages (EMA)** and **Relative Strength Index (RSI)**.\n",
    "\n",
    "* **a: Strong Momentum / Overbought**\n",
    "\n",
    "  * Condition: `Close ≥ EMA5` **and** `RSI ≥ 70`\n",
    "  * Interpretation: The stock is in an **overbought zone** with very strong upward momentum.\n",
    "\n",
    "* **b: Clear Uptrend**\n",
    "\n",
    "  * Condition: `Close ≥ EMA35` **and** `EMA35 ≥ EMA89`\n",
    "  * Interpretation: The stock is trending upward, showing medium-term bullish strength.\n",
    "\n",
    "* **c: Sideways above EMA89**\n",
    "\n",
    "  * Condition: `Close ≥ EMA89` **and** short-term EMAs (5/15/35/89) are close together:\n",
    "\n",
    "    $$\n",
    "    \\frac{\\max(EMA) - \\min(EMA)}{\\text{mean}(EMA)} \\leq band\\_pct \\quad (default = 1.5\\%)\n",
    "    $$\n",
    "  * Interpretation: The stock is moving **sideways** but remains above the long-term EMA89, indicating consolidation.\n",
    "\n",
    "* **d: Downtrend**\n",
    "\n",
    "  * Condition: `Close < EMA89` **and** `Close < EMA200` **and** `EMA89 < EMA200`\n",
    "  * Interpretation: The stock is in a **bearish trend**, moving below key long-term averages.\n",
    "\n",
    "* **e: Crash**\n",
    "\n",
    "  * Condition: Strong descending order → `Close < EMA5 < EMA15 < EMA35 < EMA89 < EMA200` **and** `RSI ≤ 30`\n",
    "  * Interpretation: The stock is in a **sharp decline (crash)** with strong bearish momentum and oversold conditions.\n",
    "\n",
    "---"
   ]
  },
  {
   "cell_type": "markdown",
   "id": "e6277851",
   "metadata": {},
   "source": [
    "# 📊 วิธีการแบ่งกลุ่มหุ้นด้วย Technical Grade (a–e)\n",
    "\n",
    "การวิเคราะห์นี้ใช้ **ข้อมูลราคาหุ้นรายวัน (OHLCV)** และ **ตัวชี้วัดทางเทคนิค** ได้แก่\n",
    "\n",
    "* **EMA (Exponential Moving Average)** → เส้นค่าเฉลี่ยเคลื่อนที่แบบเอ็กซ์โพเนนเชียล (5, 15, 35, 89, 200 วัน)\n",
    "* **RSI (Relative Strength Index, 14 วัน)** → ตัวชี้วัดแรงซื้อมากเกินไป / แรงขายมากเกินไป\n",
    "\n",
    "---\n",
    "\n",
    "## 🔎 ขั้นตอนการคำนวณ\n",
    "\n",
    "1. **เตรียมข้อมูล**\n",
    "\n",
    "   * ใช้ราคาปิด (`close_price`) ของหุ้นแต่ละตัว\n",
    "   * คำนวณ **EMA5, EMA15, EMA35, EMA89, EMA200**\n",
    "   * คำนวณค่า **RSI14**\n",
    "\n",
    "2. **เลือกข้อมูลล่าสุด**\n",
    "\n",
    "   * ใช้แถวสุดท้ายของแต่ละหุ้น (วันที่ล่าสุด)\n",
    "   * นำค่าที่ได้มาใช้ตัดสินแนวโน้ม\n",
    "\n",
    "---\n",
    "\n",
    "## 🏷 เกณฑ์การแบ่งกลุ่ม (Trend Grade)\n",
    "\n",
    "| Grade                 | เงื่อนไข                                                              | ความหมาย                            |\n",
    "| --------------------- | --------------------------------------------------------------------- | ----------------------------------- |\n",
    "| **a (Super Bullish)** | ราคาปิด ≥ EMA5 และ RSI ≥ 70                                           | หุ้นร้อนแรงมาก มีแรงซื้อเก็งกำไรสูง |\n",
    "| **b (Up Trend)**      | ราคาปิด ≥ EMA35 และ EMA35 ≥ EMA89                                     | หุ้นอยู่ในขาขึ้นต่อเนื่อง           |\n",
    "| **c (Sideway)**       | ราคาปิด ≥ EMA89 และเส้น EMA (5,15,35,89) อยู่ใกล้กัน (บีบตัว ≤ band%) | หุ้นแกว่งตัวในกรอบ ยังไม่เลือกทาง   |\n",
    "| **d (Down Trend)**    | ราคาปิด < EMA89 และ EMA200 และ EMA89 < EMA200                         | หุ้นอยู่ในขาลงชัดเจน                |\n",
    "| **e (Crash)**         | ราคาปิด < ทุกเส้น EMA และ RSI ≤ 30                                    | หุ้นอ่อนแรงสุด ๆ กำลังถูกขายหนัก    |\n",
    "| **None**              | ไม่เข้าเงื่อนไขใด ๆ                                                   | ไม่มีการจัดเกรด (optional)          |\n",
    "\n",
    "\n"
   ]
  },
  {
   "cell_type": "code",
   "execution_count": 16,
   "id": "00bf1cd6",
   "metadata": {},
   "outputs": [],
   "source": [
    "import ta\n",
    "\n",
    "def compute_technical_grades(df_candle, band_pct=0.015):\n",
    "    df_result = []\n",
    "\n",
    "    for symbol, df_sym in df_candle.groupby('symbol'):\n",
    "        df_sym = df_sym.sort_values('time').copy()\n",
    "        df_sym = df_sym.dropna(subset=['close_price'])  # ลบแถวที่ไม่มีราคา\n",
    "\n",
    "        # ถ้าข้อมูลน้อยเกินไป ข้ามไป\n",
    "        if len(df_sym) < 50:\n",
    "            continue\n",
    "\n",
    "        # คำนวณ EMA + RSI\n",
    "        df_sym['ema5']   = df_sym['close_price'].ewm(span=5).mean()\n",
    "        df_sym['ema15']  = df_sym['close_price'].ewm(span=15).mean()\n",
    "        df_sym['ema35']  = df_sym['close_price'].ewm(span=35).mean()\n",
    "        df_sym['ema89']  = df_sym['close_price'].ewm(span=89).mean()\n",
    "        df_sym['ema200'] = df_sym['close_price'].ewm(span=200).mean()\n",
    "        df_sym['rsi']    = ta.momentum.RSIIndicator(close=df_sym['close_price'], window=14).rsi()\n",
    "\n",
    "        # ลบ NaN หลังคำนวณ indicator\n",
    "        df_sym = df_sym.dropna(subset=['ema5','ema15','ema35','ema89','ema200','rsi'])\n",
    "        if df_sym.empty:\n",
    "            continue\n",
    "\n",
    "        # ใช้ข้อมูลล่าสุด\n",
    "        row = df_sym.iloc[-1]\n",
    "        c, r = row['close_price'], row['rsi']\n",
    "        e5, e15, e35, e89, e200 = row['ema5'], row['ema15'], row['ema35'], row['ema89'], row['ema200']\n",
    "\n",
    "        # Logic grading\n",
    "        if c >= e5 and r >= 70:\n",
    "            grade = 'a'\n",
    "        elif c >= e35 and e35 >= e89:\n",
    "            grade = 'b'\n",
    "        elif c >= e89 and (max([e5,e15,e35,e89]) - min([e5,e15,e35,e89])) / np.mean([e5,e15,e35,e89]) <= band_pct:\n",
    "            grade = 'c'\n",
    "        elif c < e89 and c < e200 and e89 < e200:\n",
    "            grade = 'd'\n",
    "        elif c < e5 < e15 < e35 < e89 < e200 and r <= 30:\n",
    "            grade = 'e'\n",
    "        else:\n",
    "            grade = 'c'   # ตั้งค่า default\n",
    "\n",
    "        df_result.append({\n",
    "            'symbol': symbol,\n",
    "            'time': row['time'],\n",
    "            'close_price': row['close_price'],\n",
    "            'high_price': row['high_price'],\n",
    "            'low_price': row['low_price'],\n",
    "            'open_price': row['open_price'],\n",
    "            'value': row['value'],\n",
    "            'trend_grade': grade,\n",
    "        })\n",
    "\n",
    "    return pd.DataFrame(df_result)\n"
   ]
  },
  {
   "cell_type": "code",
   "execution_count": 17,
   "id": "01ddfb8d",
   "metadata": {},
   "outputs": [],
   "source": [
    "\n",
    "df_result = compute_technical_grades(df_cand)    "
   ]
  },
  {
   "cell_type": "code",
   "execution_count": 18,
   "id": "f99cf4a4",
   "metadata": {},
   "outputs": [
    {
     "data": {
      "text/html": [
       "<div>\n",
       "<style scoped>\n",
       "    .dataframe tbody tr th:only-of-type {\n",
       "        vertical-align: middle;\n",
       "    }\n",
       "\n",
       "    .dataframe tbody tr th {\n",
       "        vertical-align: top;\n",
       "    }\n",
       "\n",
       "    .dataframe thead th {\n",
       "        text-align: right;\n",
       "    }\n",
       "</style>\n",
       "<table border=\"1\" class=\"dataframe\">\n",
       "  <thead>\n",
       "    <tr style=\"text-align: right;\">\n",
       "      <th></th>\n",
       "      <th>symbol</th>\n",
       "      <th>time</th>\n",
       "      <th>close_price</th>\n",
       "      <th>high_price</th>\n",
       "      <th>low_price</th>\n",
       "      <th>open_price</th>\n",
       "      <th>value</th>\n",
       "      <th>trend_grade</th>\n",
       "    </tr>\n",
       "  </thead>\n",
       "  <tbody>\n",
       "    <tr>\n",
       "      <th>0</th>\n",
       "      <td>24CS</td>\n",
       "      <td>2025-05-28</td>\n",
       "      <td>1.00</td>\n",
       "      <td>1.11</td>\n",
       "      <td>0.98</td>\n",
       "      <td>1.08</td>\n",
       "      <td>0.0</td>\n",
       "      <td>d</td>\n",
       "    </tr>\n",
       "    <tr>\n",
       "      <th>1</th>\n",
       "      <td>2S</td>\n",
       "      <td>2025-05-28</td>\n",
       "      <td>2.32</td>\n",
       "      <td>2.32</td>\n",
       "      <td>2.30</td>\n",
       "      <td>2.32</td>\n",
       "      <td>0.0</td>\n",
       "      <td>c</td>\n",
       "    </tr>\n",
       "    <tr>\n",
       "      <th>2</th>\n",
       "      <td>3BBIF</td>\n",
       "      <td>2025-05-28</td>\n",
       "      <td>6.00</td>\n",
       "      <td>6.05</td>\n",
       "      <td>5.90</td>\n",
       "      <td>5.90</td>\n",
       "      <td>0.0</td>\n",
       "      <td>b</td>\n",
       "    </tr>\n",
       "    <tr>\n",
       "      <th>3</th>\n",
       "      <td>A</td>\n",
       "      <td>2025-08-19</td>\n",
       "      <td>4.82</td>\n",
       "      <td>4.84</td>\n",
       "      <td>4.82</td>\n",
       "      <td>4.82</td>\n",
       "      <td>366520.0</td>\n",
       "      <td>d</td>\n",
       "    </tr>\n",
       "    <tr>\n",
       "      <th>4</th>\n",
       "      <td>A5</td>\n",
       "      <td>2025-05-28</td>\n",
       "      <td>2.18</td>\n",
       "      <td>2.26</td>\n",
       "      <td>2.10</td>\n",
       "      <td>2.16</td>\n",
       "      <td>0.0</td>\n",
       "      <td>d</td>\n",
       "    </tr>\n",
       "    <tr>\n",
       "      <th>5</th>\n",
       "      <td>AAI</td>\n",
       "      <td>2025-05-28</td>\n",
       "      <td>4.18</td>\n",
       "      <td>4.26</td>\n",
       "      <td>4.18</td>\n",
       "      <td>4.22</td>\n",
       "      <td>0.0</td>\n",
       "      <td>d</td>\n",
       "    </tr>\n",
       "    <tr>\n",
       "      <th>6</th>\n",
       "      <td>AAV</td>\n",
       "      <td>2025-05-28</td>\n",
       "      <td>1.24</td>\n",
       "      <td>1.26</td>\n",
       "      <td>1.19</td>\n",
       "      <td>1.19</td>\n",
       "      <td>0.0</td>\n",
       "      <td>d</td>\n",
       "    </tr>\n",
       "    <tr>\n",
       "      <th>7</th>\n",
       "      <td>ABM</td>\n",
       "      <td>2025-05-28</td>\n",
       "      <td>0.64</td>\n",
       "      <td>0.64</td>\n",
       "      <td>0.63</td>\n",
       "      <td>0.64</td>\n",
       "      <td>0.0</td>\n",
       "      <td>d</td>\n",
       "    </tr>\n",
       "    <tr>\n",
       "      <th>8</th>\n",
       "      <td>ACAP</td>\n",
       "      <td>2023-05-17</td>\n",
       "      <td>0.33</td>\n",
       "      <td>0.36</td>\n",
       "      <td>0.21</td>\n",
       "      <td>0.22</td>\n",
       "      <td>0.0</td>\n",
       "      <td>d</td>\n",
       "    </tr>\n",
       "    <tr>\n",
       "      <th>9</th>\n",
       "      <td>ACC</td>\n",
       "      <td>2025-05-28</td>\n",
       "      <td>0.32</td>\n",
       "      <td>0.34</td>\n",
       "      <td>0.31</td>\n",
       "      <td>0.31</td>\n",
       "      <td>0.0</td>\n",
       "      <td>d</td>\n",
       "    </tr>\n",
       "  </tbody>\n",
       "</table>\n",
       "</div>"
      ],
      "text/plain": [
       "  symbol       time  close_price  high_price  low_price  open_price     value  \\\n",
       "0   24CS 2025-05-28         1.00        1.11       0.98        1.08       0.0   \n",
       "1     2S 2025-05-28         2.32        2.32       2.30        2.32       0.0   \n",
       "2  3BBIF 2025-05-28         6.00        6.05       5.90        5.90       0.0   \n",
       "3      A 2025-08-19         4.82        4.84       4.82        4.82  366520.0   \n",
       "4     A5 2025-05-28         2.18        2.26       2.10        2.16       0.0   \n",
       "5    AAI 2025-05-28         4.18        4.26       4.18        4.22       0.0   \n",
       "6    AAV 2025-05-28         1.24        1.26       1.19        1.19       0.0   \n",
       "7    ABM 2025-05-28         0.64        0.64       0.63        0.64       0.0   \n",
       "8   ACAP 2023-05-17         0.33        0.36       0.21        0.22       0.0   \n",
       "9    ACC 2025-05-28         0.32        0.34       0.31        0.31       0.0   \n",
       "\n",
       "  trend_grade  \n",
       "0           d  \n",
       "1           c  \n",
       "2           b  \n",
       "3           d  \n",
       "4           d  \n",
       "5           d  \n",
       "6           d  \n",
       "7           d  \n",
       "8           d  \n",
       "9           d  "
      ]
     },
     "execution_count": 18,
     "metadata": {},
     "output_type": "execute_result"
    }
   ],
   "source": [
    "df_result.head(10)"
   ]
  },
  {
   "cell_type": "code",
   "execution_count": 19,
   "id": "46393459",
   "metadata": {},
   "outputs": [
    {
     "data": {
      "text/plain": [
       "symbol         0\n",
       "time           0\n",
       "close_price    0\n",
       "high_price     0\n",
       "low_price      0\n",
       "open_price     0\n",
       "value          0\n",
       "trend_grade    0\n",
       "dtype: int64"
      ]
     },
     "execution_count": 19,
     "metadata": {},
     "output_type": "execute_result"
    }
   ],
   "source": [
    "df_result.shape\n",
    "df_result.isnull().sum()"
   ]
  },
  {
   "cell_type": "code",
   "execution_count": 20,
   "id": "9bc795cf",
   "metadata": {},
   "outputs": [],
   "source": [
    "df_result.dropna(inplace=True)"
   ]
  },
  {
   "cell_type": "code",
   "execution_count": 21,
   "id": "5c3daace",
   "metadata": {},
   "outputs": [
    {
     "data": {
      "text/plain": [
       "symbol         0\n",
       "time           0\n",
       "close_price    0\n",
       "high_price     0\n",
       "low_price      0\n",
       "open_price     0\n",
       "value          0\n",
       "trend_grade    0\n",
       "dtype: int64"
      ]
     },
     "execution_count": 21,
     "metadata": {},
     "output_type": "execute_result"
    }
   ],
   "source": [
    "df_result.isnull().sum()"
   ]
  },
  {
   "cell_type": "code",
   "execution_count": 22,
   "id": "6e749cc0",
   "metadata": {},
   "outputs": [
    {
     "data": {
      "text/plain": [
       "(910, 8)"
      ]
     },
     "execution_count": 22,
     "metadata": {},
     "output_type": "execute_result"
    }
   ],
   "source": [
    "df_result.shape"
   ]
  },
  {
   "cell_type": "code",
   "execution_count": 23,
   "id": "28219b18",
   "metadata": {},
   "outputs": [
    {
     "data": {
      "text/html": [
       "<div>\n",
       "<style scoped>\n",
       "    .dataframe tbody tr th:only-of-type {\n",
       "        vertical-align: middle;\n",
       "    }\n",
       "\n",
       "    .dataframe tbody tr th {\n",
       "        vertical-align: top;\n",
       "    }\n",
       "\n",
       "    .dataframe thead th {\n",
       "        text-align: right;\n",
       "    }\n",
       "</style>\n",
       "<table border=\"1\" class=\"dataframe\">\n",
       "  <thead>\n",
       "    <tr style=\"text-align: right;\">\n",
       "      <th></th>\n",
       "      <th>symbol</th>\n",
       "      <th>time</th>\n",
       "      <th>close_price</th>\n",
       "      <th>high_price</th>\n",
       "      <th>low_price</th>\n",
       "      <th>open_price</th>\n",
       "      <th>value</th>\n",
       "      <th>trend_grade</th>\n",
       "    </tr>\n",
       "  </thead>\n",
       "  <tbody>\n",
       "    <tr>\n",
       "      <th>0</th>\n",
       "      <td>24CS</td>\n",
       "      <td>2025-05-28</td>\n",
       "      <td>1.00</td>\n",
       "      <td>1.11</td>\n",
       "      <td>0.98</td>\n",
       "      <td>1.08</td>\n",
       "      <td>0.0</td>\n",
       "      <td>d</td>\n",
       "    </tr>\n",
       "    <tr>\n",
       "      <th>1</th>\n",
       "      <td>2S</td>\n",
       "      <td>2025-05-28</td>\n",
       "      <td>2.32</td>\n",
       "      <td>2.32</td>\n",
       "      <td>2.30</td>\n",
       "      <td>2.32</td>\n",
       "      <td>0.0</td>\n",
       "      <td>c</td>\n",
       "    </tr>\n",
       "    <tr>\n",
       "      <th>2</th>\n",
       "      <td>3BBIF</td>\n",
       "      <td>2025-05-28</td>\n",
       "      <td>6.00</td>\n",
       "      <td>6.05</td>\n",
       "      <td>5.90</td>\n",
       "      <td>5.90</td>\n",
       "      <td>0.0</td>\n",
       "      <td>b</td>\n",
       "    </tr>\n",
       "    <tr>\n",
       "      <th>3</th>\n",
       "      <td>A</td>\n",
       "      <td>2025-08-19</td>\n",
       "      <td>4.82</td>\n",
       "      <td>4.84</td>\n",
       "      <td>4.82</td>\n",
       "      <td>4.82</td>\n",
       "      <td>366520.0</td>\n",
       "      <td>d</td>\n",
       "    </tr>\n",
       "    <tr>\n",
       "      <th>4</th>\n",
       "      <td>A5</td>\n",
       "      <td>2025-05-28</td>\n",
       "      <td>2.18</td>\n",
       "      <td>2.26</td>\n",
       "      <td>2.10</td>\n",
       "      <td>2.16</td>\n",
       "      <td>0.0</td>\n",
       "      <td>d</td>\n",
       "    </tr>\n",
       "    <tr>\n",
       "      <th>5</th>\n",
       "      <td>AAI</td>\n",
       "      <td>2025-05-28</td>\n",
       "      <td>4.18</td>\n",
       "      <td>4.26</td>\n",
       "      <td>4.18</td>\n",
       "      <td>4.22</td>\n",
       "      <td>0.0</td>\n",
       "      <td>d</td>\n",
       "    </tr>\n",
       "    <tr>\n",
       "      <th>6</th>\n",
       "      <td>AAV</td>\n",
       "      <td>2025-05-28</td>\n",
       "      <td>1.24</td>\n",
       "      <td>1.26</td>\n",
       "      <td>1.19</td>\n",
       "      <td>1.19</td>\n",
       "      <td>0.0</td>\n",
       "      <td>d</td>\n",
       "    </tr>\n",
       "    <tr>\n",
       "      <th>7</th>\n",
       "      <td>ABM</td>\n",
       "      <td>2025-05-28</td>\n",
       "      <td>0.64</td>\n",
       "      <td>0.64</td>\n",
       "      <td>0.63</td>\n",
       "      <td>0.64</td>\n",
       "      <td>0.0</td>\n",
       "      <td>d</td>\n",
       "    </tr>\n",
       "    <tr>\n",
       "      <th>8</th>\n",
       "      <td>ACAP</td>\n",
       "      <td>2023-05-17</td>\n",
       "      <td>0.33</td>\n",
       "      <td>0.36</td>\n",
       "      <td>0.21</td>\n",
       "      <td>0.22</td>\n",
       "      <td>0.0</td>\n",
       "      <td>d</td>\n",
       "    </tr>\n",
       "    <tr>\n",
       "      <th>9</th>\n",
       "      <td>ACC</td>\n",
       "      <td>2025-05-28</td>\n",
       "      <td>0.32</td>\n",
       "      <td>0.34</td>\n",
       "      <td>0.31</td>\n",
       "      <td>0.31</td>\n",
       "      <td>0.0</td>\n",
       "      <td>d</td>\n",
       "    </tr>\n",
       "  </tbody>\n",
       "</table>\n",
       "</div>"
      ],
      "text/plain": [
       "  symbol       time  close_price  high_price  low_price  open_price     value  \\\n",
       "0   24CS 2025-05-28         1.00        1.11       0.98        1.08       0.0   \n",
       "1     2S 2025-05-28         2.32        2.32       2.30        2.32       0.0   \n",
       "2  3BBIF 2025-05-28         6.00        6.05       5.90        5.90       0.0   \n",
       "3      A 2025-08-19         4.82        4.84       4.82        4.82  366520.0   \n",
       "4     A5 2025-05-28         2.18        2.26       2.10        2.16       0.0   \n",
       "5    AAI 2025-05-28         4.18        4.26       4.18        4.22       0.0   \n",
       "6    AAV 2025-05-28         1.24        1.26       1.19        1.19       0.0   \n",
       "7    ABM 2025-05-28         0.64        0.64       0.63        0.64       0.0   \n",
       "8   ACAP 2023-05-17         0.33        0.36       0.21        0.22       0.0   \n",
       "9    ACC 2025-05-28         0.32        0.34       0.31        0.31       0.0   \n",
       "\n",
       "  trend_grade  \n",
       "0           d  \n",
       "1           c  \n",
       "2           b  \n",
       "3           d  \n",
       "4           d  \n",
       "5           d  \n",
       "6           d  \n",
       "7           d  \n",
       "8           d  \n",
       "9           d  "
      ]
     },
     "execution_count": 23,
     "metadata": {},
     "output_type": "execute_result"
    }
   ],
   "source": [
    "df_result.head(10)"
   ]
  },
  {
   "cell_type": "code",
   "execution_count": 24,
   "id": "e83d6319",
   "metadata": {},
   "outputs": [
    {
     "data": {
      "image/png": "[encoded data removed]",
      "text/plain": [
       "<Figure size 800x500 with 1 Axes>"
      ]
     },
     "metadata": {},
     "output_type": "display_data"
    }
   ],
   "source": [
    "import seaborn as sns\n",
    "import matplotlib.pyplot as plt\n",
    "\n",
    "plt.figure(figsize=(8,5))\n",
    "ax = sns.countplot(data=df_result, x=\"trend_grade\", order=df_result[\"trend_grade\"].value_counts().index)\n",
    "\n",
    "plt.title(\"Trend Grade\")\n",
    "plt.xlabel(\"Trend Grade\")\n",
    "plt.ylabel(\"count of symbol\")\n",
    "\n",
    "# ✅ ใส่ตัวเลขบนแท่ง\n",
    "for p in ax.patches:\n",
    "    ax.annotate(\n",
    "        str(int(p.get_height())), \n",
    "        (p.get_x() + p.get_width() / 2., p.get_height()), \n",
    "        ha='center', va='bottom', fontsize=10\n",
    "    )\n",
    "\n",
    "plt.show()\n"
   ]
  },
  {
   "cell_type": "markdown",
   "id": "eb9ec09c",
   "metadata": {},
   "source": [
    "เเบ่งกลุ่มของข้อมูลปัจจัยของหุ้น"
   ]
  },
  {
   "cell_type": "markdown",
   "id": "e06ea61d",
   "metadata": {},
   "source": [
    "เพิ่มคอลัมท์ marketcap"
   ]
  },
  {
   "cell_type": "code",
   "execution_count": 25,
   "id": "84c0d9f9",
   "metadata": {},
   "outputs": [],
   "source": [
    "# ✅ 1) ดึงแท่งล่าสุดของแต่ละ symbol\n",
    "df_latest_candle = (\n",
    "    df_cand.sort_values(\"time\")\n",
    "    .groupby(\"symbol\", as_index=False)\n",
    "    .tail(1)  # หรือใช้ .last() ก็ได้หลัง sort แล้ว\n",
    ")\n",
    "\n",
    "# ✅ 2) Merge กับข้อมูล fundamental\n",
    "df = pd.merge(df_fun, df_latest_candle, on=\"symbol\", how=\"inner\")\n",
    "\n",
    "# ✅ 3) คำนวณ marketcap\n",
    "df[\"marketcap\"] = df[\"close_price\"] * df[\"volume\"]"
   ]
  },
  {
   "cell_type": "code",
   "execution_count": 26,
   "id": "ede833c8",
   "metadata": {},
   "outputs": [
    {
     "data": {
      "text/html": [
       "<div>\n",
       "<style scoped>\n",
       "    .dataframe tbody tr th:only-of-type {\n",
       "        vertical-align: middle;\n",
       "    }\n",
       "\n",
       "    .dataframe tbody tr th {\n",
       "        vertical-align: top;\n",
       "    }\n",
       "\n",
       "    .dataframe thead th {\n",
       "        text-align: right;\n",
       "    }\n",
       "</style>\n",
       "<table border=\"1\" class=\"dataframe\">\n",
       "  <thead>\n",
       "    <tr style=\"text-align: right;\">\n",
       "      <th></th>\n",
       "      <th>symbol</th>\n",
       "      <th>eps</th>\n",
       "      <th>pe</th>\n",
       "      <th>pbv</th>\n",
       "      <th>percentyield</th>\n",
       "      <th>time</th>\n",
       "      <th>close_price</th>\n",
       "      <th>high_price</th>\n",
       "      <th>low_price</th>\n",
       "      <th>open_price</th>\n",
       "      <th>value</th>\n",
       "      <th>volume</th>\n",
       "      <th>marketcap</th>\n",
       "    </tr>\n",
       "  </thead>\n",
       "  <tbody>\n",
       "    <tr>\n",
       "      <th>0</th>\n",
       "      <td>PPPM</td>\n",
       "      <td>0.02000</td>\n",
       "      <td>0.00</td>\n",
       "      <td>0.70</td>\n",
       "      <td>0.00</td>\n",
       "      <td>2025-05-28</td>\n",
       "      <td>0.49</td>\n",
       "      <td>0.51</td>\n",
       "      <td>0.48</td>\n",
       "      <td>0.49</td>\n",
       "      <td>0.0</td>\n",
       "      <td>313650</td>\n",
       "      <td>153688.502991</td>\n",
       "    </tr>\n",
       "    <tr>\n",
       "      <th>1</th>\n",
       "      <td>TPCH</td>\n",
       "      <td>0.24112</td>\n",
       "      <td>7.90</td>\n",
       "      <td>0.34</td>\n",
       "      <td>13.91</td>\n",
       "      <td>2025-05-28</td>\n",
       "      <td>3.08</td>\n",
       "      <td>3.10</td>\n",
       "      <td>3.04</td>\n",
       "      <td>3.10</td>\n",
       "      <td>0.0</td>\n",
       "      <td>52708</td>\n",
       "      <td>162340.635979</td>\n",
       "    </tr>\n",
       "    <tr>\n",
       "      <th>2</th>\n",
       "      <td>POLY</td>\n",
       "      <td>0.27632</td>\n",
       "      <td>12.89</td>\n",
       "      <td>2.42</td>\n",
       "      <td>6.38</td>\n",
       "      <td>2025-05-28</td>\n",
       "      <td>6.95</td>\n",
       "      <td>6.95</td>\n",
       "      <td>6.65</td>\n",
       "      <td>6.90</td>\n",
       "      <td>0.0</td>\n",
       "      <td>5100</td>\n",
       "      <td>35444.999027</td>\n",
       "    </tr>\n",
       "    <tr>\n",
       "      <th>3</th>\n",
       "      <td>VCOM</td>\n",
       "      <td>0.21428</td>\n",
       "      <td>7.85</td>\n",
       "      <td>1.48</td>\n",
       "      <td>10.79</td>\n",
       "      <td>2025-05-28</td>\n",
       "      <td>2.50</td>\n",
       "      <td>2.62</td>\n",
       "      <td>2.50</td>\n",
       "      <td>2.56</td>\n",
       "      <td>0.0</td>\n",
       "      <td>335100</td>\n",
       "      <td>837750.000000</td>\n",
       "    </tr>\n",
       "    <tr>\n",
       "      <th>4</th>\n",
       "      <td>KDH</td>\n",
       "      <td>4.12186</td>\n",
       "      <td>10.62</td>\n",
       "      <td>1.93</td>\n",
       "      <td>3.01</td>\n",
       "      <td>2025-05-22</td>\n",
       "      <td>85.00</td>\n",
       "      <td>85.00</td>\n",
       "      <td>84.75</td>\n",
       "      <td>85.00</td>\n",
       "      <td>0.0</td>\n",
       "      <td>1200</td>\n",
       "      <td>102000.000000</td>\n",
       "    </tr>\n",
       "    <tr>\n",
       "      <th>5</th>\n",
       "      <td>NVD</td>\n",
       "      <td>-0.00942</td>\n",
       "      <td>38.87</td>\n",
       "      <td>0.32</td>\n",
       "      <td>0.00</td>\n",
       "      <td>2025-05-28</td>\n",
       "      <td>1.00</td>\n",
       "      <td>1.02</td>\n",
       "      <td>1.00</td>\n",
       "      <td>1.02</td>\n",
       "      <td>0.0</td>\n",
       "      <td>16301</td>\n",
       "      <td>16301.000000</td>\n",
       "    </tr>\n",
       "    <tr>\n",
       "      <th>6</th>\n",
       "      <td>JDF</td>\n",
       "      <td>0.04224</td>\n",
       "      <td>12.19</td>\n",
       "      <td>1.35</td>\n",
       "      <td>4.85</td>\n",
       "      <td>2025-05-28</td>\n",
       "      <td>1.84</td>\n",
       "      <td>1.85</td>\n",
       "      <td>1.84</td>\n",
       "      <td>1.85</td>\n",
       "      <td>0.0</td>\n",
       "      <td>200</td>\n",
       "      <td>368.000007</td>\n",
       "    </tr>\n",
       "    <tr>\n",
       "      <th>7</th>\n",
       "      <td>SVR</td>\n",
       "      <td>-0.03402</td>\n",
       "      <td>0.00</td>\n",
       "      <td>0.34</td>\n",
       "      <td>0.00</td>\n",
       "      <td>2025-05-28</td>\n",
       "      <td>0.58</td>\n",
       "      <td>0.59</td>\n",
       "      <td>0.57</td>\n",
       "      <td>0.58</td>\n",
       "      <td>0.0</td>\n",
       "      <td>47400</td>\n",
       "      <td>27491.999209</td>\n",
       "    </tr>\n",
       "    <tr>\n",
       "      <th>8</th>\n",
       "      <td>SUSCO</td>\n",
       "      <td>0.11000</td>\n",
       "      <td>8.75</td>\n",
       "      <td>0.55</td>\n",
       "      <td>8.37</td>\n",
       "      <td>2025-05-28</td>\n",
       "      <td>2.74</td>\n",
       "      <td>2.74</td>\n",
       "      <td>2.70</td>\n",
       "      <td>2.70</td>\n",
       "      <td>0.0</td>\n",
       "      <td>152516</td>\n",
       "      <td>417893.841455</td>\n",
       "    </tr>\n",
       "    <tr>\n",
       "      <th>9</th>\n",
       "      <td>STP</td>\n",
       "      <td>0.92828</td>\n",
       "      <td>6.74</td>\n",
       "      <td>1.37</td>\n",
       "      <td>5.60</td>\n",
       "      <td>2025-05-28</td>\n",
       "      <td>9.80</td>\n",
       "      <td>9.90</td>\n",
       "      <td>9.70</td>\n",
       "      <td>9.70</td>\n",
       "      <td>0.0</td>\n",
       "      <td>7600</td>\n",
       "      <td>74480.001450</td>\n",
       "    </tr>\n",
       "  </tbody>\n",
       "</table>\n",
       "</div>"
      ],
      "text/plain": [
       "  symbol      eps     pe   pbv  percentyield       time  close_price  \\\n",
       "0   PPPM  0.02000   0.00  0.70          0.00 2025-05-28         0.49   \n",
       "1   TPCH  0.24112   7.90  0.34         13.91 2025-05-28         3.08   \n",
       "2   POLY  0.27632  12.89  2.42          6.38 2025-05-28         6.95   \n",
       "3   VCOM  0.21428   7.85  1.48         10.79 2025-05-28         2.50   \n",
       "4    KDH  4.12186  10.62  1.93          3.01 2025-05-22        85.00   \n",
       "5    NVD -0.00942  38.87  0.32          0.00 2025-05-28         1.00   \n",
       "6    JDF  0.04224  12.19  1.35          4.85 2025-05-28         1.84   \n",
       "7    SVR -0.03402   0.00  0.34          0.00 2025-05-28         0.58   \n",
       "8  SUSCO  0.11000   8.75  0.55          8.37 2025-05-28         2.74   \n",
       "9    STP  0.92828   6.74  1.37          5.60 2025-05-28         9.80   \n",
       "\n",
       "   high_price  low_price  open_price  value  volume      marketcap  \n",
       "0        0.51       0.48        0.49    0.0  313650  153688.502991  \n",
       "1        3.10       3.04        3.10    0.0   52708  162340.635979  \n",
       "2        6.95       6.65        6.90    0.0    5100   35444.999027  \n",
       "3        2.62       2.50        2.56    0.0  335100  837750.000000  \n",
       "4       85.00      84.75       85.00    0.0    1200  102000.000000  \n",
       "5        1.02       1.00        1.02    0.0   16301   16301.000000  \n",
       "6        1.85       1.84        1.85    0.0     200     368.000007  \n",
       "7        0.59       0.57        0.58    0.0   47400   27491.999209  \n",
       "8        2.74       2.70        2.70    0.0  152516  417893.841455  \n",
       "9        9.90       9.70        9.70    0.0    7600   74480.001450  "
      ]
     },
     "execution_count": 26,
     "metadata": {},
     "output_type": "execute_result"
    }
   ],
   "source": [
    "df.head(10)"
   ]
  },
  {
   "cell_type": "code",
   "execution_count": 27,
   "id": "4c8cb942",
   "metadata": {},
   "outputs": [
    {
     "data": {
      "text/plain": [
       "(837, 13)"
      ]
     },
     "execution_count": 27,
     "metadata": {},
     "output_type": "execute_result"
    }
   ],
   "source": [
    "df.shape"
   ]
  },
  {
   "cell_type": "code",
   "execution_count": 28,
   "id": "7676c2d0",
   "metadata": {},
   "outputs": [
    {
     "data": {
      "text/plain": [
       "symbol          0\n",
       "eps             0\n",
       "pe              0\n",
       "pbv             0\n",
       "percentyield    0\n",
       "time            0\n",
       "close_price     0\n",
       "high_price      0\n",
       "low_price       0\n",
       "open_price      0\n",
       "value           0\n",
       "volume          0\n",
       "marketcap       0\n",
       "dtype: int64"
      ]
     },
     "execution_count": 28,
     "metadata": {},
     "output_type": "execute_result"
    }
   ],
   "source": [
    "df.isnull().sum()"
   ]
  },
  {
   "cell_type": "code",
   "execution_count": 29,
   "id": "762dea14",
   "metadata": {},
   "outputs": [
    {
     "data": {
      "text/plain": [
       "Index(['symbol', 'eps', 'pe', 'pbv', 'percentyield', 'time', 'close_price',\n",
       "       'high_price', 'low_price', 'open_price', 'value', 'volume',\n",
       "       'marketcap'],\n",
       "      dtype='object')"
      ]
     },
     "execution_count": 29,
     "metadata": {},
     "output_type": "execute_result"
    }
   ],
   "source": [
    "df.columns"
   ]
  },
  {
   "cell_type": "code",
   "execution_count": 30,
   "id": "99757b32",
   "metadata": {},
   "outputs": [],
   "source": [
    "df_fun2 = df.drop(columns=['time',\n",
    "       'close_price', 'high_price', 'low_price', 'open_price', 'value'])"
   ]
  },
  {
   "cell_type": "markdown",
   "id": "88bca421",
   "metadata": {},
   "source": [
    "# 📊 การแบ่งกลุ่มหุ้นตามปัจจัยพื้นฐาน (Fundamental Group)\n",
    "\n",
    "การจัดกลุ่มหุ้นด้วยปัจจัยพื้นฐาน (Fundamental) ใช้ตัวชี้วัดทางการเงินหลัก 5 ตัว ได้แก่:\n",
    "\n",
    "* **EPS (Earnings Per Share)** → กำไรต่อหุ้น ยิ่งสูงยิ่งดี\n",
    "* **PE (Price-to-Earnings Ratio)** → ราคาหุ้นเทียบกับกำไร ยิ่งต่ำยิ่งดี\n",
    "* **PBV (Price-to-Book Value Ratio)** → ราคาหุ้นเทียบกับมูลค่าทางบัญชี แสดงระดับการประเมินมูลค่า\n",
    "* **Percent Yield (Dividend Yield)** → อัตราผลตอบแทนจากเงินปันผล (%) ยิ่งสูงยิ่งดี\n",
    "* **Market Cap (Market Capitalization)** → มูลค่าตลาด ยิ่งสูงยิ่งมั่นคง\n",
    "\n",
    "---\n",
    "\n",
    "## 🔎 ขั้นตอนการคำนวณ\n",
    "\n",
    "1. **เลือกข้อมูลพื้นฐาน (Features)**\n",
    "   นำค่า `eps, pe, pbv, percentyield, marketcap` ของหุ้นแต่ละตัวมาใช้\n",
    "\n",
    "2. **ทำการ Standardization (Z-score Normalization)**\n",
    "   แปลงค่าแต่ละ feature ให้อยู่ในสเกลเดียวกัน (ค่าเฉลี่ย = 0, ส่วนเบี่ยงเบนมาตรฐาน = 1) เพื่อไม่ให้ค่าที่มีขนาดใหญ่ เช่น Market Cap ไปครอบงำค่าคะแนนรวม\n",
    "\n",
    "3. **สร้างคะแนนรวม (Score)**\n",
    "   รวมค่าที่ผ่านการปรับสเกลแล้วเป็นคะแนนเดียว\n",
    "\n",
    "   * `+ EPS` → EPS สูง ดี\n",
    "   * `- PE` → PE ต่ำ ดี\n",
    "   * `+ PBV` → PBV สูง (สะท้อนการเติบโต)\n",
    "   * `+ Dividend Yield` → ปันผลสูง ดี\n",
    "   * `+ Market Cap` → บริษัทใหญ่มั่นคง\n",
    "\n",
    "   สูตรคะแนนรวม:\n",
    "\n",
    "   ```\n",
    "   Score = (EPS_scaled) - (PE_scaled) + (PBV_scaled) + (Yield_scaled) + (MarketCap_scaled)\n",
    "   ```\n",
    "\n",
    "4. **แบ่งออกเป็น 5 กลุ่มด้วย Quantile (qcut)**\n",
    "\n",
    "   * A = Top 20% (พื้นฐานแข็งแกร่งที่สุด)\n",
    "   * B = 20–40% (พื้นฐานดี)\n",
    "   * C = 40–60% (พื้นฐานปานกลาง)\n",
    "   * D = 60–80% (พื้นฐานอ่อน)\n",
    "   * E = Bottom 20% (พื้นฐานอ่อนที่สุด)\n",
    "\n",
    "---\n",
    "\n",
    "## 🏷 การตีความ\n",
    "\n",
    "* **A** → หุ้นที่มีปัจจัยพื้นฐานดีที่สุด เหมาะกับการลงทุนระยะยาว\n",
    "* **B** → หุ้นพื้นฐานดี มีศักยภาพในการเติบโต\n",
    "* **C** → หุ้นพื้นฐานปานกลาง ความเสี่ยง/โอกาสสมดุล\n",
    "* **D** → หุ้นพื้นฐานอ่อน เสี่ยงสูงขึ้น\n",
    "* **E** → หุ้นพื้นฐานอ่อนที่สุด ควรหลีกเลี่ยง\n"
   ]
  },
  {
   "cell_type": "code",
   "execution_count": 31,
   "id": "89058d4c",
   "metadata": {},
   "outputs": [
    {
     "name": "stdout",
     "output_type": "stream",
     "text": [
      "  symbol      eps     pe   pbv  percentyield      marketcap stat_group\n",
      "0   PPPM  0.02000   0.00  0.70          0.00  153688.502991          B\n",
      "1   TPCH  0.24112   7.90  0.34         13.91  162340.635979          E\n",
      "2   POLY  0.27632  12.89  2.42          6.38   35444.999027          E\n",
      "3   VCOM  0.21428   7.85  1.48         10.79  837750.000000          E\n",
      "4    KDH  4.12186  10.62  1.93          3.01  102000.000000          E\n"
     ]
    }
   ],
   "source": [
    "import pandas as pd\n",
    "from sklearn.preprocessing import StandardScaler\n",
    "\n",
    "# ✅ เลือก features\n",
    "features = ['eps', 'pe', 'pbv', 'percentyield', 'marketcap']\n",
    "X = df_fun2[features].dropna().copy()\n",
    "\n",
    "# ✅ Standardization (Z-score)\n",
    "scaler = StandardScaler()\n",
    "X_scaled = scaler.fit_transform(X)\n",
    "X_scaled_df = pd.DataFrame(X_scaled, columns=features, index=X.index)\n",
    "\n",
    "# ✅ สร้างคะแนนรวม (ปรับเครื่องหมายตาม logic)\n",
    "X_scaled_df['score'] = (\n",
    "    X_scaled_df['eps'] - X_scaled_df['pe'] +\n",
    "    X_scaled_df['pbv'] + X_scaled_df['percentyield'] +\n",
    "    X_scaled_df['marketcap']\n",
    ")\n",
    "\n",
    "# ✅ แบ่งออกเป็น 5 กลุ่มตาม quantile แล้วใช้ label = ['a','b','c','d','e']\n",
    "df_fun2.loc[X.index, 'stat_group'] = pd.qcut(\n",
    "    X_scaled_df['score'],\n",
    "    5,\n",
    "    labels=['A','B','C','D','E']\n",
    ")\n",
    "\n",
    "# ✅ ดูผลลัพธ์\n",
    "print(df_fun2[['symbol','eps','pe','pbv','percentyield','marketcap','stat_group']].head())\n"
   ]
  },
  {
   "cell_type": "code",
   "execution_count": 32,
   "id": "7e7665fb",
   "metadata": {},
   "outputs": [
    {
     "data": {
      "text/html": [
       "<div>\n",
       "<style scoped>\n",
       "    .dataframe tbody tr th:only-of-type {\n",
       "        vertical-align: middle;\n",
       "    }\n",
       "\n",
       "    .dataframe tbody tr th {\n",
       "        vertical-align: top;\n",
       "    }\n",
       "\n",
       "    .dataframe thead th {\n",
       "        text-align: right;\n",
       "    }\n",
       "</style>\n",
       "<table border=\"1\" class=\"dataframe\">\n",
       "  <thead>\n",
       "    <tr style=\"text-align: right;\">\n",
       "      <th></th>\n",
       "      <th>symbol</th>\n",
       "      <th>eps</th>\n",
       "      <th>pe</th>\n",
       "      <th>pbv</th>\n",
       "      <th>percentyield</th>\n",
       "      <th>volume</th>\n",
       "      <th>marketcap</th>\n",
       "      <th>stat_group</th>\n",
       "    </tr>\n",
       "  </thead>\n",
       "  <tbody>\n",
       "    <tr>\n",
       "      <th>0</th>\n",
       "      <td>PPPM</td>\n",
       "      <td>0.02000</td>\n",
       "      <td>0.00</td>\n",
       "      <td>0.70</td>\n",
       "      <td>0.00</td>\n",
       "      <td>313650</td>\n",
       "      <td>153688.502991</td>\n",
       "      <td>B</td>\n",
       "    </tr>\n",
       "    <tr>\n",
       "      <th>1</th>\n",
       "      <td>TPCH</td>\n",
       "      <td>0.24112</td>\n",
       "      <td>7.90</td>\n",
       "      <td>0.34</td>\n",
       "      <td>13.91</td>\n",
       "      <td>52708</td>\n",
       "      <td>162340.635979</td>\n",
       "      <td>E</td>\n",
       "    </tr>\n",
       "    <tr>\n",
       "      <th>2</th>\n",
       "      <td>POLY</td>\n",
       "      <td>0.27632</td>\n",
       "      <td>12.89</td>\n",
       "      <td>2.42</td>\n",
       "      <td>6.38</td>\n",
       "      <td>5100</td>\n",
       "      <td>35444.999027</td>\n",
       "      <td>E</td>\n",
       "    </tr>\n",
       "    <tr>\n",
       "      <th>3</th>\n",
       "      <td>VCOM</td>\n",
       "      <td>0.21428</td>\n",
       "      <td>7.85</td>\n",
       "      <td>1.48</td>\n",
       "      <td>10.79</td>\n",
       "      <td>335100</td>\n",
       "      <td>837750.000000</td>\n",
       "      <td>E</td>\n",
       "    </tr>\n",
       "    <tr>\n",
       "      <th>4</th>\n",
       "      <td>KDH</td>\n",
       "      <td>4.12186</td>\n",
       "      <td>10.62</td>\n",
       "      <td>1.93</td>\n",
       "      <td>3.01</td>\n",
       "      <td>1200</td>\n",
       "      <td>102000.000000</td>\n",
       "      <td>E</td>\n",
       "    </tr>\n",
       "    <tr>\n",
       "      <th>5</th>\n",
       "      <td>NVD</td>\n",
       "      <td>-0.00942</td>\n",
       "      <td>38.87</td>\n",
       "      <td>0.32</td>\n",
       "      <td>0.00</td>\n",
       "      <td>16301</td>\n",
       "      <td>16301.000000</td>\n",
       "      <td>A</td>\n",
       "    </tr>\n",
       "    <tr>\n",
       "      <th>6</th>\n",
       "      <td>JDF</td>\n",
       "      <td>0.04224</td>\n",
       "      <td>12.19</td>\n",
       "      <td>1.35</td>\n",
       "      <td>4.85</td>\n",
       "      <td>200</td>\n",
       "      <td>368.000007</td>\n",
       "      <td>C</td>\n",
       "    </tr>\n",
       "    <tr>\n",
       "      <th>7</th>\n",
       "      <td>SVR</td>\n",
       "      <td>-0.03402</td>\n",
       "      <td>0.00</td>\n",
       "      <td>0.34</td>\n",
       "      <td>0.00</td>\n",
       "      <td>47400</td>\n",
       "      <td>27491.999209</td>\n",
       "      <td>A</td>\n",
       "    </tr>\n",
       "    <tr>\n",
       "      <th>8</th>\n",
       "      <td>SUSCO</td>\n",
       "      <td>0.11000</td>\n",
       "      <td>8.75</td>\n",
       "      <td>0.55</td>\n",
       "      <td>8.37</td>\n",
       "      <td>152516</td>\n",
       "      <td>417893.841455</td>\n",
       "      <td>D</td>\n",
       "    </tr>\n",
       "    <tr>\n",
       "      <th>9</th>\n",
       "      <td>STP</td>\n",
       "      <td>0.92828</td>\n",
       "      <td>6.74</td>\n",
       "      <td>1.37</td>\n",
       "      <td>5.60</td>\n",
       "      <td>7600</td>\n",
       "      <td>74480.001450</td>\n",
       "      <td>D</td>\n",
       "    </tr>\n",
       "  </tbody>\n",
       "</table>\n",
       "</div>"
      ],
      "text/plain": [
       "  symbol      eps     pe   pbv  percentyield  volume      marketcap stat_group\n",
       "0   PPPM  0.02000   0.00  0.70          0.00  313650  153688.502991          B\n",
       "1   TPCH  0.24112   7.90  0.34         13.91   52708  162340.635979          E\n",
       "2   POLY  0.27632  12.89  2.42          6.38    5100   35444.999027          E\n",
       "3   VCOM  0.21428   7.85  1.48         10.79  335100  837750.000000          E\n",
       "4    KDH  4.12186  10.62  1.93          3.01    1200  102000.000000          E\n",
       "5    NVD -0.00942  38.87  0.32          0.00   16301   16301.000000          A\n",
       "6    JDF  0.04224  12.19  1.35          4.85     200     368.000007          C\n",
       "7    SVR -0.03402   0.00  0.34          0.00   47400   27491.999209          A\n",
       "8  SUSCO  0.11000   8.75  0.55          8.37  152516  417893.841455          D\n",
       "9    STP  0.92828   6.74  1.37          5.60    7600   74480.001450          D"
      ]
     },
     "execution_count": 32,
     "metadata": {},
     "output_type": "execute_result"
    }
   ],
   "source": [
    "df_fun2.head(10)"
   ]
  },
  {
   "cell_type": "code",
   "execution_count": 33,
   "id": "8f919a8d",
   "metadata": {},
   "outputs": [],
   "source": [
    "df['quadrant'] = df_fun2['stat_group'].astype(str) + df_result['trend_grade'].astype(str)\n"
   ]
  },
  {
   "cell_type": "code",
   "execution_count": 34,
   "id": "4177d383",
   "metadata": {},
   "outputs": [
    {
     "data": {
      "text/html": [
       "<div>\n",
       "<style scoped>\n",
       "    .dataframe tbody tr th:only-of-type {\n",
       "        vertical-align: middle;\n",
       "    }\n",
       "\n",
       "    .dataframe tbody tr th {\n",
       "        vertical-align: top;\n",
       "    }\n",
       "\n",
       "    .dataframe thead th {\n",
       "        text-align: right;\n",
       "    }\n",
       "</style>\n",
       "<table border=\"1\" class=\"dataframe\">\n",
       "  <thead>\n",
       "    <tr style=\"text-align: right;\">\n",
       "      <th></th>\n",
       "      <th>symbol</th>\n",
       "      <th>eps</th>\n",
       "      <th>pe</th>\n",
       "      <th>pbv</th>\n",
       "      <th>percentyield</th>\n",
       "      <th>time</th>\n",
       "      <th>close_price</th>\n",
       "      <th>high_price</th>\n",
       "      <th>low_price</th>\n",
       "      <th>open_price</th>\n",
       "      <th>value</th>\n",
       "      <th>volume</th>\n",
       "      <th>marketcap</th>\n",
       "      <th>quadrant</th>\n",
       "    </tr>\n",
       "  </thead>\n",
       "  <tbody>\n",
       "    <tr>\n",
       "      <th>0</th>\n",
       "      <td>PPPM</td>\n",
       "      <td>0.02000</td>\n",
       "      <td>0.00</td>\n",
       "      <td>0.70</td>\n",
       "      <td>0.00</td>\n",
       "      <td>2025-05-28</td>\n",
       "      <td>0.49</td>\n",
       "      <td>0.51</td>\n",
       "      <td>0.48</td>\n",
       "      <td>0.49</td>\n",
       "      <td>0.0</td>\n",
       "      <td>313650</td>\n",
       "      <td>153688.502991</td>\n",
       "      <td>Bd</td>\n",
       "    </tr>\n",
       "    <tr>\n",
       "      <th>1</th>\n",
       "      <td>TPCH</td>\n",
       "      <td>0.24112</td>\n",
       "      <td>7.90</td>\n",
       "      <td>0.34</td>\n",
       "      <td>13.91</td>\n",
       "      <td>2025-05-28</td>\n",
       "      <td>3.08</td>\n",
       "      <td>3.10</td>\n",
       "      <td>3.04</td>\n",
       "      <td>3.10</td>\n",
       "      <td>0.0</td>\n",
       "      <td>52708</td>\n",
       "      <td>162340.635979</td>\n",
       "      <td>Ec</td>\n",
       "    </tr>\n",
       "    <tr>\n",
       "      <th>2</th>\n",
       "      <td>POLY</td>\n",
       "      <td>0.27632</td>\n",
       "      <td>12.89</td>\n",
       "      <td>2.42</td>\n",
       "      <td>6.38</td>\n",
       "      <td>2025-05-28</td>\n",
       "      <td>6.95</td>\n",
       "      <td>6.95</td>\n",
       "      <td>6.65</td>\n",
       "      <td>6.90</td>\n",
       "      <td>0.0</td>\n",
       "      <td>5100</td>\n",
       "      <td>35444.999027</td>\n",
       "      <td>Eb</td>\n",
       "    </tr>\n",
       "    <tr>\n",
       "      <th>3</th>\n",
       "      <td>VCOM</td>\n",
       "      <td>0.21428</td>\n",
       "      <td>7.85</td>\n",
       "      <td>1.48</td>\n",
       "      <td>10.79</td>\n",
       "      <td>2025-05-28</td>\n",
       "      <td>2.50</td>\n",
       "      <td>2.62</td>\n",
       "      <td>2.50</td>\n",
       "      <td>2.56</td>\n",
       "      <td>0.0</td>\n",
       "      <td>335100</td>\n",
       "      <td>837750.000000</td>\n",
       "      <td>Ed</td>\n",
       "    </tr>\n",
       "    <tr>\n",
       "      <th>4</th>\n",
       "      <td>KDH</td>\n",
       "      <td>4.12186</td>\n",
       "      <td>10.62</td>\n",
       "      <td>1.93</td>\n",
       "      <td>3.01</td>\n",
       "      <td>2025-05-22</td>\n",
       "      <td>85.00</td>\n",
       "      <td>85.00</td>\n",
       "      <td>84.75</td>\n",
       "      <td>85.00</td>\n",
       "      <td>0.0</td>\n",
       "      <td>1200</td>\n",
       "      <td>102000.000000</td>\n",
       "      <td>Ed</td>\n",
       "    </tr>\n",
       "    <tr>\n",
       "      <th>5</th>\n",
       "      <td>NVD</td>\n",
       "      <td>-0.00942</td>\n",
       "      <td>38.87</td>\n",
       "      <td>0.32</td>\n",
       "      <td>0.00</td>\n",
       "      <td>2025-05-28</td>\n",
       "      <td>1.00</td>\n",
       "      <td>1.02</td>\n",
       "      <td>1.00</td>\n",
       "      <td>1.02</td>\n",
       "      <td>0.0</td>\n",
       "      <td>16301</td>\n",
       "      <td>16301.000000</td>\n",
       "      <td>Ad</td>\n",
       "    </tr>\n",
       "    <tr>\n",
       "      <th>6</th>\n",
       "      <td>JDF</td>\n",
       "      <td>0.04224</td>\n",
       "      <td>12.19</td>\n",
       "      <td>1.35</td>\n",
       "      <td>4.85</td>\n",
       "      <td>2025-05-28</td>\n",
       "      <td>1.84</td>\n",
       "      <td>1.85</td>\n",
       "      <td>1.84</td>\n",
       "      <td>1.85</td>\n",
       "      <td>0.0</td>\n",
       "      <td>200</td>\n",
       "      <td>368.000007</td>\n",
       "      <td>Cd</td>\n",
       "    </tr>\n",
       "    <tr>\n",
       "      <th>7</th>\n",
       "      <td>SVR</td>\n",
       "      <td>-0.03402</td>\n",
       "      <td>0.00</td>\n",
       "      <td>0.34</td>\n",
       "      <td>0.00</td>\n",
       "      <td>2025-05-28</td>\n",
       "      <td>0.58</td>\n",
       "      <td>0.59</td>\n",
       "      <td>0.57</td>\n",
       "      <td>0.58</td>\n",
       "      <td>0.0</td>\n",
       "      <td>47400</td>\n",
       "      <td>27491.999209</td>\n",
       "      <td>Ad</td>\n",
       "    </tr>\n",
       "    <tr>\n",
       "      <th>8</th>\n",
       "      <td>SUSCO</td>\n",
       "      <td>0.11000</td>\n",
       "      <td>8.75</td>\n",
       "      <td>0.55</td>\n",
       "      <td>8.37</td>\n",
       "      <td>2025-05-28</td>\n",
       "      <td>2.74</td>\n",
       "      <td>2.74</td>\n",
       "      <td>2.70</td>\n",
       "      <td>2.70</td>\n",
       "      <td>0.0</td>\n",
       "      <td>152516</td>\n",
       "      <td>417893.841455</td>\n",
       "      <td>Dd</td>\n",
       "    </tr>\n",
       "    <tr>\n",
       "      <th>9</th>\n",
       "      <td>STP</td>\n",
       "      <td>0.92828</td>\n",
       "      <td>6.74</td>\n",
       "      <td>1.37</td>\n",
       "      <td>5.60</td>\n",
       "      <td>2025-05-28</td>\n",
       "      <td>9.80</td>\n",
       "      <td>9.90</td>\n",
       "      <td>9.70</td>\n",
       "      <td>9.70</td>\n",
       "      <td>0.0</td>\n",
       "      <td>7600</td>\n",
       "      <td>74480.001450</td>\n",
       "      <td>Dd</td>\n",
       "    </tr>\n",
       "  </tbody>\n",
       "</table>\n",
       "</div>"
      ],
      "text/plain": [
       "  symbol      eps     pe   pbv  percentyield       time  close_price  \\\n",
       "0   PPPM  0.02000   0.00  0.70          0.00 2025-05-28         0.49   \n",
       "1   TPCH  0.24112   7.90  0.34         13.91 2025-05-28         3.08   \n",
       "2   POLY  0.27632  12.89  2.42          6.38 2025-05-28         6.95   \n",
       "3   VCOM  0.21428   7.85  1.48         10.79 2025-05-28         2.50   \n",
       "4    KDH  4.12186  10.62  1.93          3.01 2025-05-22        85.00   \n",
       "5    NVD -0.00942  38.87  0.32          0.00 2025-05-28         1.00   \n",
       "6    JDF  0.04224  12.19  1.35          4.85 2025-05-28         1.84   \n",
       "7    SVR -0.03402   0.00  0.34          0.00 2025-05-28         0.58   \n",
       "8  SUSCO  0.11000   8.75  0.55          8.37 2025-05-28         2.74   \n",
       "9    STP  0.92828   6.74  1.37          5.60 2025-05-28         9.80   \n",
       "\n",
       "   high_price  low_price  open_price  value  volume      marketcap quadrant  \n",
       "0        0.51       0.48        0.49    0.0  313650  153688.502991       Bd  \n",
       "1        3.10       3.04        3.10    0.0   52708  162340.635979       Ec  \n",
       "2        6.95       6.65        6.90    0.0    5100   35444.999027       Eb  \n",
       "3        2.62       2.50        2.56    0.0  335100  837750.000000       Ed  \n",
       "4       85.00      84.75       85.00    0.0    1200  102000.000000       Ed  \n",
       "5        1.02       1.00        1.02    0.0   16301   16301.000000       Ad  \n",
       "6        1.85       1.84        1.85    0.0     200     368.000007       Cd  \n",
       "7        0.59       0.57        0.58    0.0   47400   27491.999209       Ad  \n",
       "8        2.74       2.70        2.70    0.0  152516  417893.841455       Dd  \n",
       "9        9.90       9.70        9.70    0.0    7600   74480.001450       Dd  "
      ]
     },
     "execution_count": 34,
     "metadata": {},
     "output_type": "execute_result"
    }
   ],
   "source": [
    "df.head(10) "
   ]
  },
  {
   "cell_type": "code",
   "execution_count": 35,
   "id": "b3d0a8b4",
   "metadata": {},
   "outputs": [
    {
     "data": {
      "application/vnd.plotly.v1+json": {
       "config": {
        "plotlyServerURL": "https://plot.ly"
       },
       "data": [
        {
         "cells": {
          "align": "center",
          "fill": {
           "color": [
            [
             "#2ecc71",
             "#2ecc71",
             "#2ecc71",
             "#2ecc71",
             "#2ecc71"
            ],
            [
             "#58d68d",
             "#58d68d",
             "#58d68d",
             "#58d68d",
             "#58d68d"
            ],
            [
             "#f4d03f",
             "#f4d03f",
             "#f4d03f",
             "#f4d03f",
             "#f4d03f"
            ],
            [
             "#f39c12",
             "#f39c12",
             "#f39c12",
             "#f39c12",
             "#f39c12"
            ],
            [
             "#e74c3c",
             "#e74c3c",
             "#e74c3c",
             "#e74c3c",
             "#e74c3c"
            ]
           ]
          },
          "font": {
           "color": "white",
           "size": 12
          },
          "height": 100,
          "values": [
           [
            "<b>Aa</b><br>WORK<br>FANCY<br>DPAINT<br>PTTGC<br>DEMCO",
            "<b>Ab</b><br>AJ<br>RICHY<br>MJD<br>FSX<br>TCJ<br>MK<br>BGT<br>CFRESH<br>TWP<br>TSE",
            "<b>Ac</b><br>TPOLY<br>UREKA<br>TCMC<br>SKE<br>BTW<br>B<br>KCM<br>GEL<br>SGF<br>SAMCO",
            "<b>Ad</b><br>NVD<br>SVR<br>PTECH<br>SIAM<br>ITEL<br>TIGER<br>SAF<br>CGD<br>PLAT<br>TSI",
            "<b>Ae</b><br>-"
           ],
           [
            "<b>Ba</b><br>NDR<br>ASN<br>BSRC<br>AMATAV<br>TNL",
            "<b>Bb</b><br>VGI<br>KSL<br>UMS<br>PANEL<br>MVP<br>SMT<br>PRINC<br>A<br>UBE<br>AS",
            "<b>Bc</b><br>PG<br>RPC<br>XBIO<br>KTMS<br>SGC<br>TKC<br>IVF<br>THG<br>JR<br>KC",
            "<b>Bd</b><br>PPPM<br>MANRIN<br>SFT<br>SHR<br>TGH<br>NPK<br>BIOTEC<br>LDC<br>ITD<br>UOBKH",
            "<b>Be</b><br>-"
           ],
           [
            "<b>Ca</b><br>CM<br>STI<br>SAWAD<br>2S<br>MEDEZE<br>TBN<br>OR<br>MALEE<br>GPSC<br>CMR",
            "<b>Cb</b><br>BIG<br>MAJOR<br>SUTHA<br>BEAUTY<br>ASK<br>TTA<br>LHFG<br>PSH<br>MTC<br>BJC",
            "<b>Cc</b><br>CRC<br>LEE<br>SNPS<br>RAM<br>SCGD<br>GFPT<br>ESTAR<br>BCPG<br>ACG<br>DEXON",
            "<b>Cd</b><br>JDF<br>PLUS<br>MGC<br>TK<br>LPN<br>GBX<br>WINDOW<br>TRP<br>PRG<br>KOOL",
            "<b>Ce</b><br>-"
           ],
           [
            "<b>Da</b><br>LRH<br>GFC<br>SEAOIL<br>YUASA<br>TPL<br>RJH<br>BM<br>LH<br>CPF",
            "<b>Db</b><br>SPREME<br>MGT<br>SMART<br>QH<br>EURO<br>ERW<br>CPI<br>CPW",
            "<b>Dc</b><br>PCSGH<br>PDJ<br>MGI<br>S&J<br>SWC<br>JMART<br>MOONG<br>PIMO<br>DCC<br>QTC",
            "<b>Dd</b><br>SUSCO<br>STP<br>NCP<br>ASP<br>SIS<br>PSP<br>TAN<br>OKJ<br>SFLEX<br>PCE",
            "<b>De</b><br>-"
           ],
           [
            "<b>Ea</b><br>CPALL<br>TNR<br>FTE<br>SABINA",
            "<b>Eb</b><br>POLY<br>ITC<br>ICHI<br>NER<br>UVAN<br>NOBLE<br>SUC<br>COM7<br>FE<br>XO",
            "<b>Ec</b><br>TPCH<br>BRR<br>DMT<br>NEX<br>GUNKUL<br>TOPP<br>MC<br>SPC<br>TISCO<br>TOP",
            "<b>Ed</b><br>VCOM<br>KDH<br>EA<br>ROJNA<br>ADVICE<br>SAT<br>TASCO<br>AYUD<br>CPAXT<br>TPBI",
            "<b>Ee</b><br>-"
           ]
          ]
         },
         "header": {
          "align": "center",
          "fill": {
           "color": "#dcdcdc"
          },
          "font": {
           "color": "black",
           "size": 14
          }
         },
         "type": "table"
        }
       ],
       "layout": {
        "template": {
         "data": {
          "bar": [
           {
            "error_x": {
             "color": "#2a3f5f"
            },
            "error_y": {
             "color": "#2a3f5f"
            },
            "marker": {
             "line": {
              "color": "#E5ECF6",
              "width": 0.5
             },
             "pattern": {
              "fillmode": "overlay",
              "size": 10,
              "solidity": 0.2
             }
            },
            "type": "bar"
           }
          ],
          "barpolar": [
           {
            "marker": {
             "line": {
              "color": "#E5ECF6",
              "width": 0.5
             },
             "pattern": {
              "fillmode": "overlay",
              "size": 10,
              "solidity": 0.2
             }
            },
            "type": "barpolar"
           }
          ],
          "carpet": [
           {
            "aaxis": {
             "endlinecolor": "#2a3f5f",
             "gridcolor": "white",
             "linecolor": "white",
             "minorgridcolor": "white",
             "startlinecolor": "#2a3f5f"
            },
            "baxis": {
             "endlinecolor": "#2a3f5f",
             "gridcolor": "white",
             "linecolor": "white",
             "minorgridcolor": "white",
             "startlinecolor": "#2a3f5f"
            },
            "type": "carpet"
           }
          ],
          "choropleth": [
           {
            "colorbar": {
             "outlinewidth": 0,
             "ticks": ""
            },
            "type": "choropleth"
           }
          ],
          "contour": [
           {
            "colorbar": {
             "outlinewidth": 0,
             "ticks": ""
            },
            "colorscale": [
             [
              0,
              "#0d0887"
             ],
             [
              0.1111111111111111,
              "#46039f"
             ],
             [
              0.2222222222222222,
              "#7201a8"
             ],
             [
              0.3333333333333333,
              "#9c179e"
             ],
             [
              0.4444444444444444,
              "#bd3786"
             ],
             [
              0.5555555555555556,
              "#d8576b"
             ],
             [
              0.6666666666666666,
              "#ed7953"
             ],
             [
              0.7777777777777778,
              "#fb9f3a"
             ],
             [
              0.8888888888888888,
              "#fdca26"
             ],
             [
              1,
              "#f0f921"
             ]
            ],
            "type": "contour"
           }
          ],
          "contourcarpet": [
           {
            "colorbar": {
             "outlinewidth": 0,
             "ticks": ""
            },
            "type": "contourcarpet"
           }
          ],
          "heatmap": [
           {
            "colorbar": {
             "outlinewidth": 0,
             "ticks": ""
            },
            "colorscale": [
             [
              0,
              "#0d0887"
             ],
             [
              0.1111111111111111,
              "#46039f"
             ],
             [
              0.2222222222222222,
              "#7201a8"
             ],
             [
              0.3333333333333333,
              "#9c179e"
             ],
             [
              0.4444444444444444,
              "#bd3786"
             ],
             [
              0.5555555555555556,
              "#d8576b"
             ],
             [
              0.6666666666666666,
              "#ed7953"
             ],
             [
              0.7777777777777778,
              "#fb9f3a"
             ],
             [
              0.8888888888888888,
              "#fdca26"
             ],
             [
              1,
              "#f0f921"
             ]
            ],
            "type": "heatmap"
           }
          ],
          "histogram": [
           {
            "marker": {
             "pattern": {
              "fillmode": "overlay",
              "size": 10,
              "solidity": 0.2
             }
            },
            "type": "histogram"
           }
          ],
          "histogram2d": [
           {
            "colorbar": {
             "outlinewidth": 0,
             "ticks": ""
            },
            "colorscale": [
             [
              0,
              "#0d0887"
             ],
             [
              0.1111111111111111,
              "#46039f"
             ],
             [
              0.2222222222222222,
              "#7201a8"
             ],
             [
              0.3333333333333333,
              "#9c179e"
             ],
             [
              0.4444444444444444,
              "#bd3786"
             ],
             [
              0.5555555555555556,
              "#d8576b"
             ],
             [
              0.6666666666666666,
              "#ed7953"
             ],
             [
              0.7777777777777778,
              "#fb9f3a"
             ],
             [
              0.8888888888888888,
              "#fdca26"
             ],
             [
              1,
              "#f0f921"
             ]
            ],
            "type": "histogram2d"
           }
          ],
          "histogram2dcontour": [
           {
            "colorbar": {
             "outlinewidth": 0,
             "ticks": ""
            },
            "colorscale": [
             [
              0,
              "#0d0887"
             ],
             [
              0.1111111111111111,
              "#46039f"
             ],
             [
              0.2222222222222222,
              "#7201a8"
             ],
             [
              0.3333333333333333,
              "#9c179e"
             ],
             [
              0.4444444444444444,
              "#bd3786"
             ],
             [
              0.5555555555555556,
              "#d8576b"
             ],
             [
              0.6666666666666666,
              "#ed7953"
             ],
             [
              0.7777777777777778,
              "#fb9f3a"
             ],
             [
              0.8888888888888888,
              "#fdca26"
             ],
             [
              1,
              "#f0f921"
             ]
            ],
            "type": "histogram2dcontour"
           }
          ],
          "mesh3d": [
           {
            "colorbar": {
             "outlinewidth": 0,
             "ticks": ""
            },
            "type": "mesh3d"
           }
          ],
          "parcoords": [
           {
            "line": {
             "colorbar": {
              "outlinewidth": 0,
              "ticks": ""
             }
            },
            "type": "parcoords"
           }
          ],
          "pie": [
           {
            "automargin": true,
            "type": "pie"
           }
          ],
          "scatter": [
           {
            "fillpattern": {
             "fillmode": "overlay",
             "size": 10,
             "solidity": 0.2
            },
            "type": "scatter"
           }
          ],
          "scatter3d": [
           {
            "line": {
             "colorbar": {
              "outlinewidth": 0,
              "ticks": ""
             }
            },
            "marker": {
             "colorbar": {
              "outlinewidth": 0,
              "ticks": ""
             }
            },
            "type": "scatter3d"
           }
          ],
          "scattercarpet": [
           {
            "marker": {
             "colorbar": {
              "outlinewidth": 0,
              "ticks": ""
             }
            },
            "type": "scattercarpet"
           }
          ],
          "scattergeo": [
           {
            "marker": {
             "colorbar": {
              "outlinewidth": 0,
              "ticks": ""
             }
            },
            "type": "scattergeo"
           }
          ],
          "scattergl": [
           {
            "marker": {
             "colorbar": {
              "outlinewidth": 0,
              "ticks": ""
             }
            },
            "type": "scattergl"
           }
          ],
          "scattermap": [
           {
            "marker": {
             "colorbar": {
              "outlinewidth": 0,
              "ticks": ""
             }
            },
            "type": "scattermap"
           }
          ],
          "scattermapbox": [
           {
            "marker": {
             "colorbar": {
              "outlinewidth": 0,
              "ticks": ""
             }
            },
            "type": "scattermapbox"
           }
          ],
          "scatterpolar": [
           {
            "marker": {
             "colorbar": {
              "outlinewidth": 0,
              "ticks": ""
             }
            },
            "type": "scatterpolar"
           }
          ],
          "scatterpolargl": [
           {
            "marker": {
             "colorbar": {
              "outlinewidth": 0,
              "ticks": ""
             }
            },
            "type": "scatterpolargl"
           }
          ],
          "scatterternary": [
           {
            "marker": {
             "colorbar": {
              "outlinewidth": 0,
              "ticks": ""
             }
            },
            "type": "scatterternary"
           }
          ],
          "surface": [
           {
            "colorbar": {
             "outlinewidth": 0,
             "ticks": ""
            },
            "colorscale": [
             [
              0,
              "#0d0887"
             ],
             [
              0.1111111111111111,
              "#46039f"
             ],
             [
              0.2222222222222222,
              "#7201a8"
             ],
             [
              0.3333333333333333,
              "#9c179e"
             ],
             [
              0.4444444444444444,
              "#bd3786"
             ],
             [
              0.5555555555555556,
              "#d8576b"
             ],
             [
              0.6666666666666666,
              "#ed7953"
             ],
             [
              0.7777777777777778,
              "#fb9f3a"
             ],
             [
              0.8888888888888888,
              "#fdca26"
             ],
             [
              1,
              "#f0f921"
             ]
            ],
            "type": "surface"
           }
          ],
          "table": [
           {
            "cells": {
             "fill": {
              "color": "#EBF0F8"
             },
             "line": {
              "color": "white"
             }
            },
            "header": {
             "fill": {
              "color": "#C8D4E3"
             },
             "line": {
              "color": "white"
             }
            },
            "type": "table"
           }
          ]
         },
         "layout": {
          "annotationdefaults": {
           "arrowcolor": "#2a3f5f",
           "arrowhead": 0,
           "arrowwidth": 1
          },
          "autotypenumbers": "strict",
          "coloraxis": {
           "colorbar": {
            "outlinewidth": 0,
            "ticks": ""
           }
          },
          "colorscale": {
           "diverging": [
            [
             0,
             "#8e0152"
            ],
            [
             0.1,
             "#c51b7d"
            ],
            [
             0.2,
             "#de77ae"
            ],
            [
             0.3,
             "#f1b6da"
            ],
            [
             0.4,
             "#fde0ef"
            ],
            [
             0.5,
             "#f7f7f7"
            ],
            [
             0.6,
             "#e6f5d0"
            ],
            [
             0.7,
             "#b8e186"
            ],
            [
             0.8,
             "#7fbc41"
            ],
            [
             0.9,
             "#4d9221"
            ],
            [
             1,
             "#276419"
            ]
           ],
           "sequential": [
            [
             0,
             "#0d0887"
            ],
            [
             0.1111111111111111,
             "#46039f"
            ],
            [
             0.2222222222222222,
             "#7201a8"
            ],
            [
             0.3333333333333333,
             "#9c179e"
            ],
            [
             0.4444444444444444,
             "#bd3786"
            ],
            [
             0.5555555555555556,
             "#d8576b"
            ],
            [
             0.6666666666666666,
             "#ed7953"
            ],
            [
             0.7777777777777778,
             "#fb9f3a"
            ],
            [
             0.8888888888888888,
             "#fdca26"
            ],
            [
             1,
             "#f0f921"
            ]
           ],
           "sequentialminus": [
            [
             0,
             "#0d0887"
            ],
            [
             0.1111111111111111,
             "#46039f"
            ],
            [
             0.2222222222222222,
             "#7201a8"
            ],
            [
             0.3333333333333333,
             "#9c179e"
            ],
            [
             0.4444444444444444,
             "#bd3786"
            ],
            [
             0.5555555555555556,
             "#d8576b"
            ],
            [
             0.6666666666666666,
             "#ed7953"
            ],
            [
             0.7777777777777778,
             "#fb9f3a"
            ],
            [
             0.8888888888888888,
             "#fdca26"
            ],
            [
             1,
             "#f0f921"
            ]
           ]
          },
          "colorway": [
           "#636efa",
           "#EF553B",
           "#00cc96",
           "#ab63fa",
           "#FFA15A",
           "#19d3f3",
           "#FF6692",
           "#B6E880",
           "#FF97FF",
           "#FECB52"
          ],
          "font": {
           "color": "#2a3f5f"
          },
          "geo": {
           "bgcolor": "white",
           "lakecolor": "white",
           "landcolor": "#E5ECF6",
           "showlakes": true,
           "showland": true,
           "subunitcolor": "white"
          },
          "hoverlabel": {
           "align": "left"
          },
          "hovermode": "closest",
          "mapbox": {
           "style": "light"
          },
          "paper_bgcolor": "white",
          "plot_bgcolor": "#E5ECF6",
          "polar": {
           "angularaxis": {
            "gridcolor": "white",
            "linecolor": "white",
            "ticks": ""
           },
           "bgcolor": "#E5ECF6",
           "radialaxis": {
            "gridcolor": "white",
            "linecolor": "white",
            "ticks": ""
           }
          },
          "scene": {
           "xaxis": {
            "backgroundcolor": "#E5ECF6",
            "gridcolor": "white",
            "gridwidth": 2,
            "linecolor": "white",
            "showbackground": true,
            "ticks": "",
            "zerolinecolor": "white"
           },
           "yaxis": {
            "backgroundcolor": "#E5ECF6",
            "gridcolor": "white",
            "gridwidth": 2,
            "linecolor": "white",
            "showbackground": true,
            "ticks": "",
            "zerolinecolor": "white"
           },
           "zaxis": {
            "backgroundcolor": "#E5ECF6",
            "gridcolor": "white",
            "gridwidth": 2,
            "linecolor": "white",
            "showbackground": true,
            "ticks": "",
            "zerolinecolor": "white"
           }
          },
          "shapedefaults": {
           "line": {
            "color": "#2a3f5f"
           }
          },
          "ternary": {
           "aaxis": {
            "gridcolor": "white",
            "linecolor": "white",
            "ticks": ""
           },
           "baxis": {
            "gridcolor": "white",
            "linecolor": "white",
            "ticks": ""
           },
           "bgcolor": "#E5ECF6",
           "caxis": {
            "gridcolor": "white",
            "linecolor": "white",
            "ticks": ""
           }
          },
          "title": {
           "x": 0.05
          },
          "xaxis": {
           "automargin": true,
           "gridcolor": "white",
           "linecolor": "white",
           "ticks": "",
           "title": {
            "standoff": 15
           },
           "zerolinecolor": "white",
           "zerolinewidth": 2
          },
          "yaxis": {
           "automargin": true,
           "gridcolor": "white",
           "linecolor": "white",
           "ticks": "",
           "title": {
            "standoff": 15
           },
           "zerolinecolor": "white",
           "zerolinewidth": 2
          }
         }
        },
        "title": {
         "text": "📊 Stock Quadrant Table (Aa–Ee) จาก Rule-Based or Model"
        }
       }
      }
     },
     "metadata": {},
     "output_type": "display_data"
    }
   ],
   "source": [
    "import plotly.graph_objects as go\n",
    "df_result3=df\n",
    "# ✅ จัดกลุ่มหุ้นตาม quadrant\n",
    "quadrant_groups = df_result3.groupby('quadrant')['symbol'].apply(list).to_dict()\n",
    "\n",
    "# ✅ กำหนดลำดับของแกน\n",
    "financial_levels = ['A', 'B', 'C', 'D', 'E']  # A = Strong fundamentals\n",
    "trend_levels = ['a', 'b', 'c', 'd', 'e']      # a = Bullish, e = Crash\n",
    "\n",
    "# ✅ เตรียมข้อมูลแต่ละเซลล์ในตาราง (5x5)\n",
    "plot_table = []\n",
    "for f in financial_levels:\n",
    "    row = []\n",
    "    for t in trend_levels:\n",
    "        code = f + t\n",
    "        stocks = quadrant_groups.get(code, [])\n",
    "        if stocks:\n",
    "            stock_list = \"<br>\".join(stocks[:10])  # แสดงสูงสุด 10 ตัว\n",
    "            cell_text = f\"<b>{code}</b><br>{stock_list}\"\n",
    "        else:\n",
    "            cell_text = f\"<b>{code}</b><br>-\"\n",
    "        row.append(cell_text)\n",
    "    plot_table.append(row)\n",
    "\n",
    "# ✅ สร้างสีของแต่ละแถวตามกลุ่มพื้นฐาน A–E\n",
    "colors = [[{'A': '#2ecc71', 'B': '#58d68d', 'C': '#f4d03f', 'D': '#f39c12', 'E': '#e74c3c'}[f]]*5 for f in financial_levels]\n",
    "\n",
    "# ✅ Plotly Table\n",
    "fig = go.Figure(data=go.Table(\n",
    "    header=dict(\n",
    "        fill_color=\"#dcdcdc\",\n",
    "        align=\"center\",\n",
    "        font=dict(color=\"black\", size=14)\n",
    "    ),\n",
    "    cells=dict(\n",
    "        values=plot_table,\n",
    "        fill_color=colors,\n",
    "        align=\"center\",\n",
    "        height=100,\n",
    "        font=dict(color=\"white\", size=12)\n",
    "    )\n",
    "))\n",
    "\n",
    "# ✅ ตั้งชื่อกราฟ\n",
    "fig.update_layout(title=\"📊 Stock Quadrant Table (Aa–Ee) จาก Rule-Based or Model\")\n",
    "fig.show()\n"
   ]
  },
  {
   "cell_type": "code",
   "execution_count": 36,
   "id": "297c7383",
   "metadata": {},
   "outputs": [
    {
     "data": {
      "application/vnd.plotly.v1+json": {
       "config": {
        "plotlyServerURL": "https://plot.ly"
       },
       "data": [
        {
         "coloraxis": "coloraxis",
         "hovertemplate": "Trend (a–e): %{x}<br>Fundamental Group (A–E): %{y}<br>Stock Count: %{z}<extra></extra>",
         "name": "0",
         "texttemplate": "%{z}",
         "type": "heatmap",
         "x": [
          "a",
          "b",
          "c",
          "d",
          "e"
         ],
         "xaxis": "x",
         "y": [
          "A",
          "B",
          "C",
          "D",
          "E"
         ],
         "yaxis": "y",
         "z": {
          "bdata": "BQANABcAfwAAAAUAEAAUAH4AAAAKAA4AGgB1AAAACQAIABcAfwAAAAQACwAVAIQAAAA=",
          "dtype": "i2",
          "shape": "5, 5"
         }
        }
       ],
       "layout": {
        "coloraxis": {
         "colorbar": {
          "title": {
           "text": "Stock Count"
          }
         },
         "colorscale": [
          [
           0,
           "rgb(255,255,204)"
          ],
          [
           0.125,
           "rgb(255,237,160)"
          ],
          [
           0.25,
           "rgb(254,217,118)"
          ],
          [
           0.375,
           "rgb(254,178,76)"
          ],
          [
           0.5,
           "rgb(253,141,60)"
          ],
          [
           0.625,
           "rgb(252,78,42)"
          ],
          [
           0.75,
           "rgb(227,26,28)"
          ],
          [
           0.875,
           "rgb(189,0,38)"
          ],
          [
           1,
           "rgb(128,0,38)"
          ]
         ]
        },
        "margin": {
         "t": 60
        },
        "template": {
         "data": {
          "bar": [
           {
            "error_x": {
             "color": "#2a3f5f"
            },
            "error_y": {
             "color": "#2a3f5f"
            },
            "marker": {
             "line": {
              "color": "#E5ECF6",
              "width": 0.5
             },
             "pattern": {
              "fillmode": "overlay",
              "size": 10,
              "solidity": 0.2
             }
            },
            "type": "bar"
           }
          ],
          "barpolar": [
           {
            "marker": {
             "line": {
              "color": "#E5ECF6",
              "width": 0.5
             },
             "pattern": {
              "fillmode": "overlay",
              "size": 10,
              "solidity": 0.2
             }
            },
            "type": "barpolar"
           }
          ],
          "carpet": [
           {
            "aaxis": {
             "endlinecolor": "#2a3f5f",
             "gridcolor": "white",
             "linecolor": "white",
             "minorgridcolor": "white",
             "startlinecolor": "#2a3f5f"
            },
            "baxis": {
             "endlinecolor": "#2a3f5f",
             "gridcolor": "white",
             "linecolor": "white",
             "minorgridcolor": "white",
             "startlinecolor": "#2a3f5f"
            },
            "type": "carpet"
           }
          ],
          "choropleth": [
           {
            "colorbar": {
             "outlinewidth": 0,
             "ticks": ""
            },
            "type": "choropleth"
           }
          ],
          "contour": [
           {
            "colorbar": {
             "outlinewidth": 0,
             "ticks": ""
            },
            "colorscale": [
             [
              0,
              "#0d0887"
             ],
             [
              0.1111111111111111,
              "#46039f"
             ],
             [
              0.2222222222222222,
              "#7201a8"
             ],
             [
              0.3333333333333333,
              "#9c179e"
             ],
             [
              0.4444444444444444,
              "#bd3786"
             ],
             [
              0.5555555555555556,
              "#d8576b"
             ],
             [
              0.6666666666666666,
              "#ed7953"
             ],
             [
              0.7777777777777778,
              "#fb9f3a"
             ],
             [
              0.8888888888888888,
              "#fdca26"
             ],
             [
              1,
              "#f0f921"
             ]
            ],
            "type": "contour"
           }
          ],
          "contourcarpet": [
           {
            "colorbar": {
             "outlinewidth": 0,
             "ticks": ""
            },
            "type": "contourcarpet"
           }
          ],
          "heatmap": [
           {
            "colorbar": {
             "outlinewidth": 0,
             "ticks": ""
            },
            "colorscale": [
             [
              0,
              "#0d0887"
             ],
             [
              0.1111111111111111,
              "#46039f"
             ],
             [
              0.2222222222222222,
              "#7201a8"
             ],
             [
              0.3333333333333333,
              "#9c179e"
             ],
             [
              0.4444444444444444,
              "#bd3786"
             ],
             [
              0.5555555555555556,
              "#d8576b"
             ],
             [
              0.6666666666666666,
              "#ed7953"
             ],
             [
              0.7777777777777778,
              "#fb9f3a"
             ],
             [
              0.8888888888888888,
              "#fdca26"
             ],
             [
              1,
              "#f0f921"
             ]
            ],
            "type": "heatmap"
           }
          ],
          "histogram": [
           {
            "marker": {
             "pattern": {
              "fillmode": "overlay",
              "size": 10,
              "solidity": 0.2
             }
            },
            "type": "histogram"
           }
          ],
          "histogram2d": [
           {
            "colorbar": {
             "outlinewidth": 0,
             "ticks": ""
            },
            "colorscale": [
             [
              0,
              "#0d0887"
             ],
             [
              0.1111111111111111,
              "#46039f"
             ],
             [
              0.2222222222222222,
              "#7201a8"
             ],
             [
              0.3333333333333333,
              "#9c179e"
             ],
             [
              0.4444444444444444,
              "#bd3786"
             ],
             [
              0.5555555555555556,
              "#d8576b"
             ],
             [
              0.6666666666666666,
              "#ed7953"
             ],
             [
              0.7777777777777778,
              "#fb9f3a"
             ],
             [
              0.8888888888888888,
              "#fdca26"
             ],
             [
              1,
              "#f0f921"
             ]
            ],
            "type": "histogram2d"
           }
          ],
          "histogram2dcontour": [
           {
            "colorbar": {
             "outlinewidth": 0,
             "ticks": ""
            },
            "colorscale": [
             [
              0,
              "#0d0887"
             ],
             [
              0.1111111111111111,
              "#46039f"
             ],
             [
              0.2222222222222222,
              "#7201a8"
             ],
             [
              0.3333333333333333,
              "#9c179e"
             ],
             [
              0.4444444444444444,
              "#bd3786"
             ],
             [
              0.5555555555555556,
              "#d8576b"
             ],
             [
              0.6666666666666666,
              "#ed7953"
             ],
             [
              0.7777777777777778,
              "#fb9f3a"
             ],
             [
              0.8888888888888888,
              "#fdca26"
             ],
             [
              1,
              "#f0f921"
             ]
            ],
            "type": "histogram2dcontour"
           }
          ],
          "mesh3d": [
           {
            "colorbar": {
             "outlinewidth": 0,
             "ticks": ""
            },
            "type": "mesh3d"
           }
          ],
          "parcoords": [
           {
            "line": {
             "colorbar": {
              "outlinewidth": 0,
              "ticks": ""
             }
            },
            "type": "parcoords"
           }
          ],
          "pie": [
           {
            "automargin": true,
            "type": "pie"
           }
          ],
          "scatter": [
           {
            "fillpattern": {
             "fillmode": "overlay",
             "size": 10,
             "solidity": 0.2
            },
            "type": "scatter"
           }
          ],
          "scatter3d": [
           {
            "line": {
             "colorbar": {
              "outlinewidth": 0,
              "ticks": ""
             }
            },
            "marker": {
             "colorbar": {
              "outlinewidth": 0,
              "ticks": ""
             }
            },
            "type": "scatter3d"
           }
          ],
          "scattercarpet": [
           {
            "marker": {
             "colorbar": {
              "outlinewidth": 0,
              "ticks": ""
             }
            },
            "type": "scattercarpet"
           }
          ],
          "scattergeo": [
           {
            "marker": {
             "colorbar": {
              "outlinewidth": 0,
              "ticks": ""
             }
            },
            "type": "scattergeo"
           }
          ],
          "scattergl": [
           {
            "marker": {
             "colorbar": {
              "outlinewidth": 0,
              "ticks": ""
             }
            },
            "type": "scattergl"
           }
          ],
          "scattermap": [
           {
            "marker": {
             "colorbar": {
              "outlinewidth": 0,
              "ticks": ""
             }
            },
            "type": "scattermap"
           }
          ],
          "scattermapbox": [
           {
            "marker": {
             "colorbar": {
              "outlinewidth": 0,
              "ticks": ""
             }
            },
            "type": "scattermapbox"
           }
          ],
          "scatterpolar": [
           {
            "marker": {
             "colorbar": {
              "outlinewidth": 0,
              "ticks": ""
             }
            },
            "type": "scatterpolar"
           }
          ],
          "scatterpolargl": [
           {
            "marker": {
             "colorbar": {
              "outlinewidth": 0,
              "ticks": ""
             }
            },
            "type": "scatterpolargl"
           }
          ],
          "scatterternary": [
           {
            "marker": {
             "colorbar": {
              "outlinewidth": 0,
              "ticks": ""
             }
            },
            "type": "scatterternary"
           }
          ],
          "surface": [
           {
            "colorbar": {
             "outlinewidth": 0,
             "ticks": ""
            },
            "colorscale": [
             [
              0,
              "#0d0887"
             ],
             [
              0.1111111111111111,
              "#46039f"
             ],
             [
              0.2222222222222222,
              "#7201a8"
             ],
             [
              0.3333333333333333,
              "#9c179e"
             ],
             [
              0.4444444444444444,
              "#bd3786"
             ],
             [
              0.5555555555555556,
              "#d8576b"
             ],
             [
              0.6666666666666666,
              "#ed7953"
             ],
             [
              0.7777777777777778,
              "#fb9f3a"
             ],
             [
              0.8888888888888888,
              "#fdca26"
             ],
             [
              1,
              "#f0f921"
             ]
            ],
            "type": "surface"
           }
          ],
          "table": [
           {
            "cells": {
             "fill": {
              "color": "#EBF0F8"
             },
             "line": {
              "color": "white"
             }
            },
            "header": {
             "fill": {
              "color": "#C8D4E3"
             },
             "line": {
              "color": "white"
             }
            },
            "type": "table"
           }
          ]
         },
         "layout": {
          "annotationdefaults": {
           "arrowcolor": "#2a3f5f",
           "arrowhead": 0,
           "arrowwidth": 1
          },
          "autotypenumbers": "strict",
          "coloraxis": {
           "colorbar": {
            "outlinewidth": 0,
            "ticks": ""
           }
          },
          "colorscale": {
           "diverging": [
            [
             0,
             "#8e0152"
            ],
            [
             0.1,
             "#c51b7d"
            ],
            [
             0.2,
             "#de77ae"
            ],
            [
             0.3,
             "#f1b6da"
            ],
            [
             0.4,
             "#fde0ef"
            ],
            [
             0.5,
             "#f7f7f7"
            ],
            [
             0.6,
             "#e6f5d0"
            ],
            [
             0.7,
             "#b8e186"
            ],
            [
             0.8,
             "#7fbc41"
            ],
            [
             0.9,
             "#4d9221"
            ],
            [
             1,
             "#276419"
            ]
           ],
           "sequential": [
            [
             0,
             "#0d0887"
            ],
            [
             0.1111111111111111,
             "#46039f"
            ],
            [
             0.2222222222222222,
             "#7201a8"
            ],
            [
             0.3333333333333333,
             "#9c179e"
            ],
            [
             0.4444444444444444,
             "#bd3786"
            ],
            [
             0.5555555555555556,
             "#d8576b"
            ],
            [
             0.6666666666666666,
             "#ed7953"
            ],
            [
             0.7777777777777778,
             "#fb9f3a"
            ],
            [
             0.8888888888888888,
             "#fdca26"
            ],
            [
             1,
             "#f0f921"
            ]
           ],
           "sequentialminus": [
            [
             0,
             "#0d0887"
            ],
            [
             0.1111111111111111,
             "#46039f"
            ],
            [
             0.2222222222222222,
             "#7201a8"
            ],
            [
             0.3333333333333333,
             "#9c179e"
            ],
            [
             0.4444444444444444,
             "#bd3786"
            ],
            [
             0.5555555555555556,
             "#d8576b"
            ],
            [
             0.6666666666666666,
             "#ed7953"
            ],
            [
             0.7777777777777778,
             "#fb9f3a"
            ],
            [
             0.8888888888888888,
             "#fdca26"
            ],
            [
             1,
             "#f0f921"
            ]
           ]
          },
          "colorway": [
           "#636efa",
           "#EF553B",
           "#00cc96",
           "#ab63fa",
           "#FFA15A",
           "#19d3f3",
           "#FF6692",
           "#B6E880",
           "#FF97FF",
           "#FECB52"
          ],
          "font": {
           "color": "#2a3f5f"
          },
          "geo": {
           "bgcolor": "white",
           "lakecolor": "white",
           "landcolor": "#E5ECF6",
           "showlakes": true,
           "showland": true,
           "subunitcolor": "white"
          },
          "hoverlabel": {
           "align": "left"
          },
          "hovermode": "closest",
          "mapbox": {
           "style": "light"
          },
          "paper_bgcolor": "white",
          "plot_bgcolor": "#E5ECF6",
          "polar": {
           "angularaxis": {
            "gridcolor": "white",
            "linecolor": "white",
            "ticks": ""
           },
           "bgcolor": "#E5ECF6",
           "radialaxis": {
            "gridcolor": "white",
            "linecolor": "white",
            "ticks": ""
           }
          },
          "scene": {
           "xaxis": {
            "backgroundcolor": "#E5ECF6",
            "gridcolor": "white",
            "gridwidth": 2,
            "linecolor": "white",
            "showbackground": true,
            "ticks": "",
            "zerolinecolor": "white"
           },
           "yaxis": {
            "backgroundcolor": "#E5ECF6",
            "gridcolor": "white",
            "gridwidth": 2,
            "linecolor": "white",
            "showbackground": true,
            "ticks": "",
            "zerolinecolor": "white"
           },
           "zaxis": {
            "backgroundcolor": "#E5ECF6",
            "gridcolor": "white",
            "gridwidth": 2,
            "linecolor": "white",
            "showbackground": true,
            "ticks": "",
            "zerolinecolor": "white"
           }
          },
          "shapedefaults": {
           "line": {
            "color": "#2a3f5f"
           }
          },
          "ternary": {
           "aaxis": {
            "gridcolor": "white",
            "linecolor": "white",
            "ticks": ""
           },
           "baxis": {
            "gridcolor": "white",
            "linecolor": "white",
            "ticks": ""
           },
           "bgcolor": "#E5ECF6",
           "caxis": {
            "gridcolor": "white",
            "linecolor": "white",
            "ticks": ""
           }
          },
          "title": {
           "x": 0.05
          },
          "xaxis": {
           "automargin": true,
           "gridcolor": "white",
           "linecolor": "white",
           "ticks": "",
           "title": {
            "standoff": 15
           },
           "zerolinecolor": "white",
           "zerolinewidth": 2
          },
          "yaxis": {
           "automargin": true,
           "gridcolor": "white",
           "linecolor": "white",
           "ticks": "",
           "title": {
            "standoff": 15
           },
           "zerolinecolor": "white",
           "zerolinewidth": 2
          }
         }
        },
        "title": {
         "text": "📊 Quadrant Heatmap (Predicted by ANN)"
        },
        "xaxis": {
         "anchor": "y",
         "constrain": "domain",
         "domain": [
          0,
          1
         ],
         "scaleanchor": "y",
         "title": {
          "text": "Trend (a–e)"
         }
        },
        "yaxis": {
         "anchor": "x",
         "autorange": "reversed",
         "constrain": "domain",
         "domain": [
          0,
          1
         ],
         "title": {
          "text": "Fundamental Group (A–E)"
         }
        }
       }
      }
     },
     "metadata": {},
     "output_type": "display_data"
    }
   ],
   "source": [
    "import plotly.express as px\n",
    "quadrant_counts = df_result3['quadrant'].value_counts().sort_index()\n",
    "financial_levels = [\"A\",\"B\",\"C\",\"D\",\"E\"]   # กลุ่มพื้นฐาน (Fundamental)\n",
    "trend_levels = [\"a\",\"b\",\"c\",\"d\",\"e\"]       # กลุ่มเทคนิค (Trend)\n",
    "\n",
    "heatmap_data = pd.DataFrame(0, index=financial_levels, columns=trend_levels)\n",
    "for q, count in quadrant_counts.items():\n",
    "    fin = q[0]   # เช่น \"A\"\n",
    "    trend = q[1] # เช่น \"a\"\n",
    "    heatmap_data.loc[fin, trend] = count\n",
    "fig = px.imshow(\n",
    "    heatmap_data,\n",
    "    labels=dict(x=\"Trend (a–e)\", y=\"Fundamental Group (A–E)\", color=\"Stock Count\"),\n",
    "    x=trend_levels,\n",
    "    y=financial_levels,\n",
    "    color_continuous_scale=\"YlOrRd\",\n",
    "    text_auto=True\n",
    ")\n",
    "fig.update_layout(title=\"📊 Quadrant Heatmap (Predicted by ANN)\")"
   ]
  },
  {
   "cell_type": "code",
   "execution_count": 37,
   "id": "ae9e895a",
   "metadata": {},
   "outputs": [
    {
     "data": {
      "text/plain": [
       "Index(['symbol', 'eps', 'pe', 'pbv', 'percentyield', 'time', 'close_price',\n",
       "       'high_price', 'low_price', 'open_price', 'value', 'volume', 'marketcap',\n",
       "       'quadrant'],\n",
       "      dtype='object')"
      ]
     },
     "execution_count": 37,
     "metadata": {},
     "output_type": "execute_result"
    }
   ],
   "source": [
    "df.columns"
   ]
  },
  {
   "cell_type": "code",
   "execution_count": 38,
   "id": "63bfc5fd",
   "metadata": {},
   "outputs": [
    {
     "data": {
      "text/plain": [
       "(837, 14)"
      ]
     },
     "execution_count": 38,
     "metadata": {},
     "output_type": "execute_result"
    }
   ],
   "source": [
    "df.shape"
   ]
  },
  {
   "cell_type": "markdown",
   "id": "dbf81127",
   "metadata": {},
   "source": [
    "Modelling"
   ]
  },
  {
   "cell_type": "code",
   "execution_count": 39,
   "id": "bcc6efd4",
   "metadata": {},
   "outputs": [],
   "source": [
    "import pandas as pd\n",
    "import numpy as np\n",
    "import matplotlib.pyplot as plt\n",
    "import seaborn as sns\n",
    "from sklearn.model_selection import train_test_split\n",
    "from sklearn.preprocessing import StandardScaler, LabelEncoder\n",
    "from sklearn.metrics import confusion_matrix, classification_report\n",
    "from tensorflow.keras.models import Sequential\n",
    "from tensorflow.keras.layers import Dense, Dropout\n",
    "from tensorflow.keras.utils import to_categorical"
   ]
  },
  {
   "cell_type": "code",
   "execution_count": 40,
   "id": "0e54f948",
   "metadata": {},
   "outputs": [
    {
     "name": "stdout",
     "output_type": "stream",
     "text": [
      "\n",
      "🔄 Training round 1\n"
     ]
    },
    {
     "name": "stderr",
     "output_type": "stream",
     "text": [
      "c:\\Users\\Admin\\AppData\\Local\\Programs\\Python\\Python310\\lib\\site-packages\\keras\\src\\layers\\core\\dense.py:87: UserWarning:\n",
      "\n",
      "Do not pass an `input_shape`/`input_dim` argument to a layer. When using Sequential models, prefer using an `Input(shape)` object as the first layer in the model instead.\n",
      "\n"
     ]
    },
    {
     "name": "stdout",
     "output_type": "stream",
     "text": [
      "✅ Accuracy = 74.40%\n",
      "\n",
      "🔄 Training round 2\n",
      "✅ Accuracy = 70.83%\n",
      "\n",
      "🔄 Training round 3\n",
      "✅ Accuracy = 72.62%\n",
      "\n",
      "🔄 Training round 4\n",
      "✅ Accuracy = 72.62%\n",
      "\n",
      "🔄 Training round 5\n",
      "✅ Accuracy = 73.21%\n",
      "\n",
      "🔄 Training round 6\n",
      "✅ Accuracy = 71.43%\n",
      "\n",
      "🔄 Training round 7\n",
      "✅ Accuracy = 72.62%\n",
      "\n",
      "🔄 Training round 8\n",
      "✅ Accuracy = 72.02%\n",
      "\n",
      "🔄 Training round 9\n",
      "✅ Accuracy = 72.62%\n",
      "\n",
      "🔄 Training round 10\n",
      "✅ Accuracy = 72.02%\n",
      "\n",
      "🔄 Training round 11\n",
      "✅ Accuracy = 72.02%\n",
      "\n",
      "🔄 Training round 12\n",
      "✅ Accuracy = 72.62%\n",
      "\n",
      "🔄 Training round 13\n",
      "✅ Accuracy = 72.62%\n",
      "\n",
      "🔄 Training round 14\n",
      "✅ Accuracy = 73.81%\n",
      "\n",
      "🔄 Training round 15\n",
      "✅ Accuracy = 71.43%\n",
      "\n",
      "🔄 Training round 16\n",
      "✅ Accuracy = 73.21%\n",
      "\n",
      "🔄 Training round 17\n",
      "✅ Accuracy = 72.62%\n",
      "\n",
      "🔄 Training round 18\n",
      "✅ Accuracy = 71.43%\n",
      "\n",
      "🔄 Training round 19\n",
      "✅ Accuracy = 72.62%\n",
      "\n",
      "🔄 Training round 20\n",
      "✅ Accuracy = 72.62%\n",
      "\n",
      "🔄 Training round 21\n",
      "✅ Accuracy = 70.24%\n",
      "\n",
      "🔄 Training round 22\n",
      "✅ Accuracy = 72.62%\n",
      "\n",
      "🔄 Training round 23\n",
      "✅ Accuracy = 73.81%\n",
      "\n",
      "🔄 Training round 24\n",
      "✅ Accuracy = 73.21%\n",
      "\n",
      "🔄 Training round 25\n",
      "✅ Accuracy = 73.21%\n",
      "\n",
      "🔄 Training round 26\n",
      "✅ Accuracy = 72.62%\n",
      "\n",
      "🔄 Training round 27\n",
      "✅ Accuracy = 73.81%\n",
      "\n",
      "🔄 Training round 28\n",
      "✅ Accuracy = 73.81%\n",
      "\n",
      "🔄 Training round 29\n",
      "✅ Accuracy = 71.43%\n",
      "\n",
      "🔄 Training round 30\n",
      "✅ Accuracy = 73.81%\n",
      "\n",
      "🔄 Training round 31\n",
      "✅ Accuracy = 73.21%\n",
      "\n",
      "🔄 Training round 32\n",
      "✅ Accuracy = 71.43%\n",
      "\n",
      "🔄 Training round 33\n",
      "✅ Accuracy = 73.81%\n",
      "\n",
      "🔄 Training round 34\n",
      "✅ Accuracy = 72.02%\n",
      "\n",
      "🔄 Training round 35\n",
      "✅ Accuracy = 72.02%\n",
      "\n",
      "🔄 Training round 36\n",
      "✅ Accuracy = 72.62%\n",
      "\n",
      "🔄 Training round 37\n",
      "✅ Accuracy = 72.62%\n",
      "\n",
      "🔄 Training round 38\n",
      "✅ Accuracy = 73.21%\n",
      "\n",
      "🔄 Training round 39\n",
      "✅ Accuracy = 71.43%\n",
      "\n",
      "🔄 Training round 40\n",
      "✅ Accuracy = 73.21%\n",
      "\n",
      "🔄 Training round 41\n",
      "✅ Accuracy = 72.02%\n",
      "\n",
      "🔄 Training round 42\n",
      "✅ Accuracy = 73.81%\n",
      "\n",
      "🔄 Training round 43\n",
      "✅ Accuracy = 71.43%\n",
      "\n",
      "🔄 Training round 44\n",
      "✅ Accuracy = 72.02%\n",
      "\n",
      "🔄 Training round 45\n",
      "✅ Accuracy = 73.81%\n",
      "\n",
      "🔄 Training round 46\n",
      "✅ Accuracy = 72.02%\n",
      "\n",
      "🔄 Training round 47\n",
      "✅ Accuracy = 72.62%\n",
      "\n",
      "🔄 Training round 48\n",
      "✅ Accuracy = 73.21%\n",
      "\n",
      "🔄 Training round 49\n",
      "✅ Accuracy = 71.43%\n",
      "\n",
      "🔄 Training round 50\n",
      "✅ Accuracy = 74.40%\n",
      "\n",
      "🔄 Training round 51\n",
      "✅ Accuracy = 70.24%\n",
      "\n",
      "🔄 Training round 52\n",
      "✅ Accuracy = 71.43%\n",
      "\n",
      "🔄 Training round 53\n",
      "✅ Accuracy = 72.62%\n",
      "\n",
      "🔄 Training round 54\n",
      "✅ Accuracy = 74.40%\n",
      "\n",
      "🔄 Training round 55\n",
      "✅ Accuracy = 72.02%\n",
      "\n",
      "🔄 Training round 56\n",
      "✅ Accuracy = 72.02%\n",
      "\n",
      "🔄 Training round 57\n",
      "✅ Accuracy = 74.40%\n",
      "\n",
      "🔄 Training round 58\n",
      "✅ Accuracy = 73.21%\n",
      "\n",
      "🔄 Training round 59\n",
      "✅ Accuracy = 74.40%\n",
      "\n",
      "🔄 Training round 60\n",
      "✅ Accuracy = 72.02%\n",
      "\n",
      "🔄 Training round 61\n",
      "✅ Accuracy = 70.83%\n",
      "\n",
      "🔄 Training round 62\n",
      "✅ Accuracy = 73.21%\n",
      "\n",
      "🔄 Training round 63\n",
      "✅ Accuracy = 72.02%\n",
      "\n",
      "🔄 Training round 64\n",
      "✅ Accuracy = 72.02%\n",
      "\n",
      "🔄 Training round 65\n",
      "✅ Accuracy = 71.43%\n",
      "\n",
      "🔄 Training round 66\n",
      "✅ Accuracy = 72.02%\n",
      "\n",
      "🔄 Training round 67\n",
      "✅ Accuracy = 73.81%\n",
      "\n",
      "🔄 Training round 68\n",
      "✅ Accuracy = 72.62%\n",
      "\n",
      "🔄 Training round 69\n",
      "✅ Accuracy = 73.21%\n",
      "\n",
      "🔄 Training round 70\n",
      "✅ Accuracy = 72.02%\n",
      "\n",
      "🔄 Training round 71\n",
      "✅ Accuracy = 72.62%\n",
      "\n",
      "🔄 Training round 72\n",
      "✅ Accuracy = 72.62%\n",
      "\n",
      "🔄 Training round 73\n",
      "✅ Accuracy = 70.83%\n",
      "\n",
      "🔄 Training round 74\n",
      "✅ Accuracy = 72.62%\n",
      "\n",
      "🔄 Training round 75\n",
      "✅ Accuracy = 73.21%\n",
      "\n",
      "🔄 Training round 76\n",
      "✅ Accuracy = 73.21%\n",
      "\n",
      "🔄 Training round 77\n",
      "✅ Accuracy = 72.02%\n",
      "\n",
      "🔄 Training round 78\n",
      "✅ Accuracy = 73.81%\n",
      "\n",
      "🔄 Training round 79\n",
      "✅ Accuracy = 72.02%\n",
      "\n",
      "🔄 Training round 80\n",
      "✅ Accuracy = 72.62%\n",
      "\n",
      "🔄 Training round 81\n",
      "✅ Accuracy = 72.62%\n",
      "\n",
      "🔄 Training round 82\n",
      "✅ Accuracy = 70.83%\n",
      "\n",
      "🔄 Training round 83\n",
      "✅ Accuracy = 72.62%\n",
      "\n",
      "🔄 Training round 84\n",
      "✅ Accuracy = 75.00%\n",
      "\n",
      "🔄 Training round 85\n",
      "✅ Accuracy = 72.62%\n",
      "\n",
      "🔄 Training round 86\n",
      "✅ Accuracy = 72.02%\n",
      "\n",
      "🔄 Training round 87\n",
      "✅ Accuracy = 72.62%\n",
      "\n",
      "🔄 Training round 88\n",
      "✅ Accuracy = 73.81%\n",
      "\n",
      "🔄 Training round 89\n",
      "✅ Accuracy = 71.43%\n",
      "\n",
      "🔄 Training round 90\n",
      "✅ Accuracy = 72.02%\n",
      "\n",
      "🔄 Training round 91\n",
      "✅ Accuracy = 73.21%\n",
      "\n",
      "🔄 Training round 92\n",
      "✅ Accuracy = 72.62%\n",
      "\n",
      "🔄 Training round 93\n",
      "✅ Accuracy = 71.43%\n",
      "\n",
      "🔄 Training round 94\n",
      "✅ Accuracy = 73.81%\n",
      "\n",
      "🔄 Training round 95\n",
      "✅ Accuracy = 73.81%\n",
      "\n",
      "🔄 Training round 96\n",
      "✅ Accuracy = 73.81%\n",
      "\n",
      "🔄 Training round 97\n",
      "✅ Accuracy = 72.02%\n",
      "\n",
      "🔄 Training round 98\n",
      "✅ Accuracy = 72.02%\n",
      "\n",
      "🔄 Training round 99\n",
      "✅ Accuracy = 70.83%\n",
      "\n",
      "🔄 Training round 100\n",
      "✅ Accuracy = 71.43%\n"
     ]
    }
   ],
   "source": [
    "# -----------------------------\n",
    "# 1. เตรียมข้อมูล\n",
    "# -----------------------------\n",
    "features = ['eps', 'pe', 'pbv', 'percentyield', 'time', 'close_price',\n",
    "            'high_price', 'low_price', 'open_price', 'value', 'marketcap']\n",
    "\n",
    "X = df[features].dropna().copy()\n",
    "X = X.select_dtypes(include=[\"float64\", \"int64\"])  # เอาเฉพาะ numeric\n",
    "y = df.loc[X.index, 'quadrant']\n",
    "\n",
    "# Encode target\n",
    "le = LabelEncoder()\n",
    "y_encoded = le.fit_transform(y)\n",
    "y_categorical = to_categorical(y_encoded)\n",
    "\n",
    "# Scaling\n",
    "scaler = StandardScaler()\n",
    "X_scaled = scaler.fit_transform(X)\n",
    "\n",
    "# Train/Test split\n",
    "X_train, X_test, y_train, y_test = train_test_split(\n",
    "    X_scaled, y_categorical, test_size=0.2, random_state=42\n",
    ")\n",
    "\n",
    "# -----------------------------\n",
    "# 2. ฟังก์ชันสร้างโมเดล\n",
    "# -----------------------------\n",
    "def create_model(input_dim, output_dim):\n",
    "    model = Sequential([\n",
    "        Dense(128, activation='relu', input_shape=(input_dim,)),\n",
    "        Dropout(0.3),\n",
    "        Dense(64, activation='relu'),\n",
    "        Dropout(0.3),\n",
    "        Dense(output_dim, activation='softmax')\n",
    "    ])\n",
    "    model.compile(optimizer='adam',\n",
    "                  loss='categorical_crossentropy',\n",
    "                  metrics=['accuracy'])\n",
    "    return model\n",
    "\n",
    "# -----------------------------\n",
    "# 3. Train หลายรอบหา Best Model\n",
    "# -----------------------------\n",
    "target_acc = 0.85\n",
    "best_model, best_acc, best_history = None, 0, None\n",
    "\n",
    "for i in range(100):  # เทรนใหม่สูงสุด 10 รอบ\n",
    "    print(f\"\\n🔄 Training round {i+1}\")\n",
    "    model = create_model(X_train.shape[1], y_categorical.shape[1])\n",
    "    \n",
    "    history = model.fit(\n",
    "        X_train, y_train,\n",
    "        validation_data=(X_test, y_test),\n",
    "        epochs=50,\n",
    "        batch_size=32,\n",
    "        verbose=0\n",
    "    )\n",
    "    \n",
    "    _, acc = model.evaluate(X_test, y_test, verbose=0)\n",
    "    print(f\"✅ Accuracy = {acc:.2%}\")\n",
    "    \n",
    "    if acc > best_acc:\n",
    "        best_acc = acc\n",
    "        best_model = model\n",
    "        best_history = history\n",
    "    \n",
    "    if acc >= target_acc:\n",
    "        print(\"🎯 Target reached! Stop training.\")\n",
    "        break"
   ]
  },
  {
   "cell_type": "markdown",
   "id": "bb553c21",
   "metadata": {},
   "source": [
    "ผลลัพท์ที่ดีที่สุดจากรันโมเดล100รอบ"
   ]
  },
  {
   "cell_type": "code",
   "execution_count": 41,
   "id": "ca2dd63c",
   "metadata": {},
   "outputs": [
    {
     "name": "stdout",
     "output_type": "stream",
     "text": [
      "\n",
      "Best Accuracy = 75.00%\n"
     ]
    }
   ],
   "source": [
    "print(f\"\\nBest Accuracy = {best_acc:.2%}\")"
   ]
  },
  {
   "cell_type": "code",
   "execution_count": 42,
   "id": "9cfce12c",
   "metadata": {},
   "outputs": [
    {
     "name": "stdout",
     "output_type": "stream",
     "text": [
      "\u001b[1m27/27\u001b[0m \u001b[32m━━━━━━━━━━━━━━━━━━━━\u001b[0m\u001b[37m\u001b[0m \u001b[1m0s\u001b[0m 2ms/step \n"
     ]
    },
    {
     "data": {
      "text/html": [
       "<div>\n",
       "<style scoped>\n",
       "    .dataframe tbody tr th:only-of-type {\n",
       "        vertical-align: middle;\n",
       "    }\n",
       "\n",
       "    .dataframe tbody tr th {\n",
       "        vertical-align: top;\n",
       "    }\n",
       "\n",
       "    .dataframe thead th {\n",
       "        text-align: right;\n",
       "    }\n",
       "</style>\n",
       "<table border=\"1\" class=\"dataframe\">\n",
       "  <thead>\n",
       "    <tr style=\"text-align: right;\">\n",
       "      <th></th>\n",
       "      <th>Symbol</th>\n",
       "      <th>True Quadrant</th>\n",
       "      <th>Predicted Quadrant</th>\n",
       "    </tr>\n",
       "  </thead>\n",
       "  <tbody>\n",
       "    <tr>\n",
       "      <th>0</th>\n",
       "      <td>PPPM</td>\n",
       "      <td>Bd</td>\n",
       "      <td>Bd</td>\n",
       "    </tr>\n",
       "    <tr>\n",
       "      <th>1</th>\n",
       "      <td>TPCH</td>\n",
       "      <td>Ec</td>\n",
       "      <td>Ed</td>\n",
       "    </tr>\n",
       "    <tr>\n",
       "      <th>2</th>\n",
       "      <td>POLY</td>\n",
       "      <td>Eb</td>\n",
       "      <td>Ed</td>\n",
       "    </tr>\n",
       "    <tr>\n",
       "      <th>3</th>\n",
       "      <td>VCOM</td>\n",
       "      <td>Ed</td>\n",
       "      <td>Ed</td>\n",
       "    </tr>\n",
       "    <tr>\n",
       "      <th>4</th>\n",
       "      <td>KDH</td>\n",
       "      <td>Ed</td>\n",
       "      <td>Ed</td>\n",
       "    </tr>\n",
       "    <tr>\n",
       "      <th>5</th>\n",
       "      <td>NVD</td>\n",
       "      <td>Ad</td>\n",
       "      <td>Ad</td>\n",
       "    </tr>\n",
       "    <tr>\n",
       "      <th>6</th>\n",
       "      <td>JDF</td>\n",
       "      <td>Cd</td>\n",
       "      <td>Cd</td>\n",
       "    </tr>\n",
       "    <tr>\n",
       "      <th>7</th>\n",
       "      <td>SVR</td>\n",
       "      <td>Ad</td>\n",
       "      <td>Ad</td>\n",
       "    </tr>\n",
       "    <tr>\n",
       "      <th>8</th>\n",
       "      <td>SUSCO</td>\n",
       "      <td>Dd</td>\n",
       "      <td>Dd</td>\n",
       "    </tr>\n",
       "    <tr>\n",
       "      <th>9</th>\n",
       "      <td>STP</td>\n",
       "      <td>Dd</td>\n",
       "      <td>Dd</td>\n",
       "    </tr>\n",
       "    <tr>\n",
       "      <th>10</th>\n",
       "      <td>VGI</td>\n",
       "      <td>Bb</td>\n",
       "      <td>Bd</td>\n",
       "    </tr>\n",
       "    <tr>\n",
       "      <th>11</th>\n",
       "      <td>NCP</td>\n",
       "      <td>Dd</td>\n",
       "      <td>Dd</td>\n",
       "    </tr>\n",
       "    <tr>\n",
       "      <th>12</th>\n",
       "      <td>EA</td>\n",
       "      <td>Ed</td>\n",
       "      <td>Ed</td>\n",
       "    </tr>\n",
       "    <tr>\n",
       "      <th>13</th>\n",
       "      <td>ROJNA</td>\n",
       "      <td>Ed</td>\n",
       "      <td>Ed</td>\n",
       "    </tr>\n",
       "    <tr>\n",
       "      <th>14</th>\n",
       "      <td>KSL</td>\n",
       "      <td>Bb</td>\n",
       "      <td>Bd</td>\n",
       "    </tr>\n",
       "    <tr>\n",
       "      <th>15</th>\n",
       "      <td>ASP</td>\n",
       "      <td>Dd</td>\n",
       "      <td>Dd</td>\n",
       "    </tr>\n",
       "    <tr>\n",
       "      <th>16</th>\n",
       "      <td>PTECH</td>\n",
       "      <td>Ad</td>\n",
       "      <td>Ad</td>\n",
       "    </tr>\n",
       "    <tr>\n",
       "      <th>17</th>\n",
       "      <td>PLUS</td>\n",
       "      <td>Cd</td>\n",
       "      <td>Cd</td>\n",
       "    </tr>\n",
       "    <tr>\n",
       "      <th>18</th>\n",
       "      <td>MANRIN</td>\n",
       "      <td>Bd</td>\n",
       "      <td>Bd</td>\n",
       "    </tr>\n",
       "    <tr>\n",
       "      <th>19</th>\n",
       "      <td>SIS</td>\n",
       "      <td>Dd</td>\n",
       "      <td>Dd</td>\n",
       "    </tr>\n",
       "  </tbody>\n",
       "</table>\n",
       "</div>"
      ],
      "text/plain": [
       "    Symbol True Quadrant Predicted Quadrant\n",
       "0     PPPM            Bd                 Bd\n",
       "1     TPCH            Ec                 Ed\n",
       "2     POLY            Eb                 Ed\n",
       "3     VCOM            Ed                 Ed\n",
       "4      KDH            Ed                 Ed\n",
       "5      NVD            Ad                 Ad\n",
       "6      JDF            Cd                 Cd\n",
       "7      SVR            Ad                 Ad\n",
       "8    SUSCO            Dd                 Dd\n",
       "9      STP            Dd                 Dd\n",
       "10     VGI            Bb                 Bd\n",
       "11     NCP            Dd                 Dd\n",
       "12      EA            Ed                 Ed\n",
       "13   ROJNA            Ed                 Ed\n",
       "14     KSL            Bb                 Bd\n",
       "15     ASP            Dd                 Dd\n",
       "16   PTECH            Ad                 Ad\n",
       "17    PLUS            Cd                 Cd\n",
       "18  MANRIN            Bd                 Bd\n",
       "19     SIS            Dd                 Dd"
      ]
     },
     "execution_count": 42,
     "metadata": {},
     "output_type": "execute_result"
    }
   ],
   "source": [
    "# -----------------------------\n",
    "# ใช้ best_model ที่เทรนมาแล้ว\n",
    "# -----------------------------\n",
    "\n",
    "# ทำนายทั้งหมด\n",
    "y_all_pred = best_model.predict(X_scaled)\n",
    "y_all_classes = np.argmax(y_all_pred, axis=1)\n",
    "\n",
    "# แปลงกลับเป็น label Quadrant\n",
    "y_all_labels = le.inverse_transform(y_all_classes)\n",
    "\n",
    "# ตารางผลลัพธ์ทั้งหมด\n",
    "df_all_results = pd.DataFrame({\n",
    "    \"Symbol\": df.loc[X.index, \"symbol\"],\n",
    "    \"True Quadrant\": le.inverse_transform(y_encoded),\n",
    "    \"Predicted Quadrant\": y_all_labels\n",
    "})\n",
    "\n",
    "df_all_results.head(20)\n"
   ]
  },
  {
   "cell_type": "code",
   "execution_count": 43,
   "id": "02a018ea",
   "metadata": {},
   "outputs": [
    {
     "data": {
      "text/plain": [
       "(837, 3)"
      ]
     },
     "execution_count": 43,
     "metadata": {},
     "output_type": "execute_result"
    }
   ],
   "source": [
    "df_all_results.shape"
   ]
  },
  {
   "cell_type": "code",
   "execution_count": 44,
   "id": "371486dc",
   "metadata": {},
   "outputs": [
    {
     "name": "stdout",
     "output_type": "stream",
     "text": [
      "📌 Accuracy on All Data = 73.00%\n"
     ]
    }
   ],
   "source": [
    "from sklearn.metrics import accuracy_score\n",
    "\n",
    "# Accuracy บนข้อมูลทั้งหมด\n",
    "all_acc = accuracy_score(\n",
    "    le.inverse_transform(y_encoded),   # ค่าจริง\n",
    "    y_all_labels                       # ค่าที่โมเดลทำนาย\n",
    ")\n",
    "\n",
    "print(f\"📌 Accuracy on All Data = {all_acc:.2%}\")"
   ]
  },
  {
   "cell_type": "code",
   "execution_count": 45,
   "id": "3061ab2e",
   "metadata": {},
   "outputs": [
    {
     "data": {
      "application/vnd.plotly.v1+json": {
       "config": {
        "plotlyServerURL": "https://plot.ly"
       },
       "data": [
        {
         "coloraxis": "coloraxis",
         "hovertemplate": "Trend (a–e): %{x}<br>Fundamental Group (A–E): %{y}<br>Stock Count: %{z}<extra></extra>",
         "name": "0",
         "texttemplate": "%{z}",
         "type": "heatmap",
         "x": [
          "a",
          "b",
          "c",
          "d",
          "e"
         ],
         "xaxis": "x",
         "y": [
          "A",
          "B",
          "C",
          "D",
          "E"
         ],
         "yaxis": "y",
         "z": {
          "bdata": "AAAAAAAArgAAAAAAAAAAAKIAAAAAAAAAAACkAAAAAAAAAAEApwAAAAAAAAAAAKkAAAA=",
          "dtype": "i2",
          "shape": "5, 5"
         }
        }
       ],
       "layout": {
        "coloraxis": {
         "colorbar": {
          "title": {
           "text": "Stock Count"
          }
         },
         "colorscale": [
          [
           0,
           "rgb(255,255,204)"
          ],
          [
           0.125,
           "rgb(255,237,160)"
          ],
          [
           0.25,
           "rgb(254,217,118)"
          ],
          [
           0.375,
           "rgb(254,178,76)"
          ],
          [
           0.5,
           "rgb(253,141,60)"
          ],
          [
           0.625,
           "rgb(252,78,42)"
          ],
          [
           0.75,
           "rgb(227,26,28)"
          ],
          [
           0.875,
           "rgb(189,0,38)"
          ],
          [
           1,
           "rgb(128,0,38)"
          ]
         ]
        },
        "margin": {
         "t": 60
        },
        "template": {
         "data": {
          "bar": [
           {
            "error_x": {
             "color": "#2a3f5f"
            },
            "error_y": {
             "color": "#2a3f5f"
            },
            "marker": {
             "line": {
              "color": "#E5ECF6",
              "width": 0.5
             },
             "pattern": {
              "fillmode": "overlay",
              "size": 10,
              "solidity": 0.2
             }
            },
            "type": "bar"
           }
          ],
          "barpolar": [
           {
            "marker": {
             "line": {
              "color": "#E5ECF6",
              "width": 0.5
             },
             "pattern": {
              "fillmode": "overlay",
              "size": 10,
              "solidity": 0.2
             }
            },
            "type": "barpolar"
           }
          ],
          "carpet": [
           {
            "aaxis": {
             "endlinecolor": "#2a3f5f",
             "gridcolor": "white",
             "linecolor": "white",
             "minorgridcolor": "white",
             "startlinecolor": "#2a3f5f"
            },
            "baxis": {
             "endlinecolor": "#2a3f5f",
             "gridcolor": "white",
             "linecolor": "white",
             "minorgridcolor": "white",
             "startlinecolor": "#2a3f5f"
            },
            "type": "carpet"
           }
          ],
          "choropleth": [
           {
            "colorbar": {
             "outlinewidth": 0,
             "ticks": ""
            },
            "type": "choropleth"
           }
          ],
          "contour": [
           {
            "colorbar": {
             "outlinewidth": 0,
             "ticks": ""
            },
            "colorscale": [
             [
              0,
              "#0d0887"
             ],
             [
              0.1111111111111111,
              "#46039f"
             ],
             [
              0.2222222222222222,
              "#7201a8"
             ],
             [
              0.3333333333333333,
              "#9c179e"
             ],
             [
              0.4444444444444444,
              "#bd3786"
             ],
             [
              0.5555555555555556,
              "#d8576b"
             ],
             [
              0.6666666666666666,
              "#ed7953"
             ],
             [
              0.7777777777777778,
              "#fb9f3a"
             ],
             [
              0.8888888888888888,
              "#fdca26"
             ],
             [
              1,
              "#f0f921"
             ]
            ],
            "type": "contour"
           }
          ],
          "contourcarpet": [
           {
            "colorbar": {
             "outlinewidth": 0,
             "ticks": ""
            },
            "type": "contourcarpet"
           }
          ],
          "heatmap": [
           {
            "colorbar": {
             "outlinewidth": 0,
             "ticks": ""
            },
            "colorscale": [
             [
              0,
              "#0d0887"
             ],
             [
              0.1111111111111111,
              "#46039f"
             ],
             [
              0.2222222222222222,
              "#7201a8"
             ],
             [
              0.3333333333333333,
              "#9c179e"
             ],
             [
              0.4444444444444444,
              "#bd3786"
             ],
             [
              0.5555555555555556,
              "#d8576b"
             ],
             [
              0.6666666666666666,
              "#ed7953"
             ],
             [
              0.7777777777777778,
              "#fb9f3a"
             ],
             [
              0.8888888888888888,
              "#fdca26"
             ],
             [
              1,
              "#f0f921"
             ]
            ],
            "type": "heatmap"
           }
          ],
          "histogram": [
           {
            "marker": {
             "pattern": {
              "fillmode": "overlay",
              "size": 10,
              "solidity": 0.2
             }
            },
            "type": "histogram"
           }
          ],
          "histogram2d": [
           {
            "colorbar": {
             "outlinewidth": 0,
             "ticks": ""
            },
            "colorscale": [
             [
              0,
              "#0d0887"
             ],
             [
              0.1111111111111111,
              "#46039f"
             ],
             [
              0.2222222222222222,
              "#7201a8"
             ],
             [
              0.3333333333333333,
              "#9c179e"
             ],
             [
              0.4444444444444444,
              "#bd3786"
             ],
             [
              0.5555555555555556,
              "#d8576b"
             ],
             [
              0.6666666666666666,
              "#ed7953"
             ],
             [
              0.7777777777777778,
              "#fb9f3a"
             ],
             [
              0.8888888888888888,
              "#fdca26"
             ],
             [
              1,
              "#f0f921"
             ]
            ],
            "type": "histogram2d"
           }
          ],
          "histogram2dcontour": [
           {
            "colorbar": {
             "outlinewidth": 0,
             "ticks": ""
            },
            "colorscale": [
             [
              0,
              "#0d0887"
             ],
             [
              0.1111111111111111,
              "#46039f"
             ],
             [
              0.2222222222222222,
              "#7201a8"
             ],
             [
              0.3333333333333333,
              "#9c179e"
             ],
             [
              0.4444444444444444,
              "#bd3786"
             ],
             [
              0.5555555555555556,
              "#d8576b"
             ],
             [
              0.6666666666666666,
              "#ed7953"
             ],
             [
              0.7777777777777778,
              "#fb9f3a"
             ],
             [
              0.8888888888888888,
              "#fdca26"
             ],
             [
              1,
              "#f0f921"
             ]
            ],
            "type": "histogram2dcontour"
           }
          ],
          "mesh3d": [
           {
            "colorbar": {
             "outlinewidth": 0,
             "ticks": ""
            },
            "type": "mesh3d"
           }
          ],
          "parcoords": [
           {
            "line": {
             "colorbar": {
              "outlinewidth": 0,
              "ticks": ""
             }
            },
            "type": "parcoords"
           }
          ],
          "pie": [
           {
            "automargin": true,
            "type": "pie"
           }
          ],
          "scatter": [
           {
            "fillpattern": {
             "fillmode": "overlay",
             "size": 10,
             "solidity": 0.2
            },
            "type": "scatter"
           }
          ],
          "scatter3d": [
           {
            "line": {
             "colorbar": {
              "outlinewidth": 0,
              "ticks": ""
             }
            },
            "marker": {
             "colorbar": {
              "outlinewidth": 0,
              "ticks": ""
             }
            },
            "type": "scatter3d"
           }
          ],
          "scattercarpet": [
           {
            "marker": {
             "colorbar": {
              "outlinewidth": 0,
              "ticks": ""
             }
            },
            "type": "scattercarpet"
           }
          ],
          "scattergeo": [
           {
            "marker": {
             "colorbar": {
              "outlinewidth": 0,
              "ticks": ""
             }
            },
            "type": "scattergeo"
           }
          ],
          "scattergl": [
           {
            "marker": {
             "colorbar": {
              "outlinewidth": 0,
              "ticks": ""
             }
            },
            "type": "scattergl"
           }
          ],
          "scattermap": [
           {
            "marker": {
             "colorbar": {
              "outlinewidth": 0,
              "ticks": ""
             }
            },
            "type": "scattermap"
           }
          ],
          "scattermapbox": [
           {
            "marker": {
             "colorbar": {
              "outlinewidth": 0,
              "ticks": ""
             }
            },
            "type": "scattermapbox"
           }
          ],
          "scatterpolar": [
           {
            "marker": {
             "colorbar": {
              "outlinewidth": 0,
              "ticks": ""
             }
            },
            "type": "scatterpolar"
           }
          ],
          "scatterpolargl": [
           {
            "marker": {
             "colorbar": {
              "outlinewidth": 0,
              "ticks": ""
             }
            },
            "type": "scatterpolargl"
           }
          ],
          "scatterternary": [
           {
            "marker": {
             "colorbar": {
              "outlinewidth": 0,
              "ticks": ""
             }
            },
            "type": "scatterternary"
           }
          ],
          "surface": [
           {
            "colorbar": {
             "outlinewidth": 0,
             "ticks": ""
            },
            "colorscale": [
             [
              0,
              "#0d0887"
             ],
             [
              0.1111111111111111,
              "#46039f"
             ],
             [
              0.2222222222222222,
              "#7201a8"
             ],
             [
              0.3333333333333333,
              "#9c179e"
             ],
             [
              0.4444444444444444,
              "#bd3786"
             ],
             [
              0.5555555555555556,
              "#d8576b"
             ],
             [
              0.6666666666666666,
              "#ed7953"
             ],
             [
              0.7777777777777778,
              "#fb9f3a"
             ],
             [
              0.8888888888888888,
              "#fdca26"
             ],
             [
              1,
              "#f0f921"
             ]
            ],
            "type": "surface"
           }
          ],
          "table": [
           {
            "cells": {
             "fill": {
              "color": "#EBF0F8"
             },
             "line": {
              "color": "white"
             }
            },
            "header": {
             "fill": {
              "color": "#C8D4E3"
             },
             "line": {
              "color": "white"
             }
            },
            "type": "table"
           }
          ]
         },
         "layout": {
          "annotationdefaults": {
           "arrowcolor": "#2a3f5f",
           "arrowhead": 0,
           "arrowwidth": 1
          },
          "autotypenumbers": "strict",
          "coloraxis": {
           "colorbar": {
            "outlinewidth": 0,
            "ticks": ""
           }
          },
          "colorscale": {
           "diverging": [
            [
             0,
             "#8e0152"
            ],
            [
             0.1,
             "#c51b7d"
            ],
            [
             0.2,
             "#de77ae"
            ],
            [
             0.3,
             "#f1b6da"
            ],
            [
             0.4,
             "#fde0ef"
            ],
            [
             0.5,
             "#f7f7f7"
            ],
            [
             0.6,
             "#e6f5d0"
            ],
            [
             0.7,
             "#b8e186"
            ],
            [
             0.8,
             "#7fbc41"
            ],
            [
             0.9,
             "#4d9221"
            ],
            [
             1,
             "#276419"
            ]
           ],
           "sequential": [
            [
             0,
             "#0d0887"
            ],
            [
             0.1111111111111111,
             "#46039f"
            ],
            [
             0.2222222222222222,
             "#7201a8"
            ],
            [
             0.3333333333333333,
             "#9c179e"
            ],
            [
             0.4444444444444444,
             "#bd3786"
            ],
            [
             0.5555555555555556,
             "#d8576b"
            ],
            [
             0.6666666666666666,
             "#ed7953"
            ],
            [
             0.7777777777777778,
             "#fb9f3a"
            ],
            [
             0.8888888888888888,
             "#fdca26"
            ],
            [
             1,
             "#f0f921"
            ]
           ],
           "sequentialminus": [
            [
             0,
             "#0d0887"
            ],
            [
             0.1111111111111111,
             "#46039f"
            ],
            [
             0.2222222222222222,
             "#7201a8"
            ],
            [
             0.3333333333333333,
             "#9c179e"
            ],
            [
             0.4444444444444444,
             "#bd3786"
            ],
            [
             0.5555555555555556,
             "#d8576b"
            ],
            [
             0.6666666666666666,
             "#ed7953"
            ],
            [
             0.7777777777777778,
             "#fb9f3a"
            ],
            [
             0.8888888888888888,
             "#fdca26"
            ],
            [
             1,
             "#f0f921"
            ]
           ]
          },
          "colorway": [
           "#636efa",
           "#EF553B",
           "#00cc96",
           "#ab63fa",
           "#FFA15A",
           "#19d3f3",
           "#FF6692",
           "#B6E880",
           "#FF97FF",
           "#FECB52"
          ],
          "font": {
           "color": "#2a3f5f"
          },
          "geo": {
           "bgcolor": "white",
           "lakecolor": "white",
           "landcolor": "#E5ECF6",
           "showlakes": true,
           "showland": true,
           "subunitcolor": "white"
          },
          "hoverlabel": {
           "align": "left"
          },
          "hovermode": "closest",
          "mapbox": {
           "style": "light"
          },
          "paper_bgcolor": "white",
          "plot_bgcolor": "#E5ECF6",
          "polar": {
           "angularaxis": {
            "gridcolor": "white",
            "linecolor": "white",
            "ticks": ""
           },
           "bgcolor": "#E5ECF6",
           "radialaxis": {
            "gridcolor": "white",
            "linecolor": "white",
            "ticks": ""
           }
          },
          "scene": {
           "xaxis": {
            "backgroundcolor": "#E5ECF6",
            "gridcolor": "white",
            "gridwidth": 2,
            "linecolor": "white",
            "showbackground": true,
            "ticks": "",
            "zerolinecolor": "white"
           },
           "yaxis": {
            "backgroundcolor": "#E5ECF6",
            "gridcolor": "white",
            "gridwidth": 2,
            "linecolor": "white",
            "showbackground": true,
            "ticks": "",
            "zerolinecolor": "white"
           },
           "zaxis": {
            "backgroundcolor": "#E5ECF6",
            "gridcolor": "white",
            "gridwidth": 2,
            "linecolor": "white",
            "showbackground": true,
            "ticks": "",
            "zerolinecolor": "white"
           }
          },
          "shapedefaults": {
           "line": {
            "color": "#2a3f5f"
           }
          },
          "ternary": {
           "aaxis": {
            "gridcolor": "white",
            "linecolor": "white",
            "ticks": ""
           },
           "baxis": {
            "gridcolor": "white",
            "linecolor": "white",
            "ticks": ""
           },
           "bgcolor": "#E5ECF6",
           "caxis": {
            "gridcolor": "white",
            "linecolor": "white",
            "ticks": ""
           }
          },
          "title": {
           "x": 0.05
          },
          "xaxis": {
           "automargin": true,
           "gridcolor": "white",
           "linecolor": "white",
           "ticks": "",
           "title": {
            "standoff": 15
           },
           "zerolinecolor": "white",
           "zerolinewidth": 2
          },
          "yaxis": {
           "automargin": true,
           "gridcolor": "white",
           "linecolor": "white",
           "ticks": "",
           "title": {
            "standoff": 15
           },
           "zerolinecolor": "white",
           "zerolinewidth": 2
          }
         }
        },
        "title": {
         "text": "📊 Quadrant Heatmap (Predicted by ANN)"
        },
        "xaxis": {
         "anchor": "y",
         "constrain": "domain",
         "domain": [
          0,
          1
         ],
         "scaleanchor": "y",
         "title": {
          "text": "Trend (a–e)"
         }
        },
        "yaxis": {
         "anchor": "x",
         "autorange": "reversed",
         "constrain": "domain",
         "domain": [
          0,
          1
         ],
         "title": {
          "text": "Fundamental Group (A–E)"
         }
        }
       }
      }
     },
     "metadata": {},
     "output_type": "display_data"
    }
   ],
   "source": [
    "import plotly.express as px\n",
    "quadrant_counts = df_all_results[\"Predicted Quadrant\"].value_counts().sort_index()\n",
    "financial_levels = [\"A\",\"B\",\"C\",\"D\",\"E\"]   # กลุ่มพื้นฐาน (Fundamental)\n",
    "trend_levels = [\"a\",\"b\",\"c\",\"d\",\"e\"]       # กลุ่มเทคนิค (Trend)\n",
    "\n",
    "heatmap_data = pd.DataFrame(0, index=financial_levels, columns=trend_levels)\n",
    "for q, count in quadrant_counts.items():\n",
    "    fin = q[0]   # เช่น \"A\"\n",
    "    trend = q[1] # เช่น \"a\"\n",
    "    heatmap_data.loc[fin, trend] = count\n",
    "fig = px.imshow(\n",
    "    heatmap_data,\n",
    "    labels=dict(x=\"Trend (a–e)\", y=\"Fundamental Group (A–E)\", color=\"Stock Count\"),\n",
    "    x=trend_levels,\n",
    "    y=financial_levels,\n",
    "    color_continuous_scale=\"YlOrRd\",\n",
    "    text_auto=True\n",
    ")\n",
    "fig.update_layout(title=\"📊 Quadrant Heatmap (Predicted by ANN)\")\n"
   ]
  },
  {
   "cell_type": "code",
   "execution_count": 49,
   "id": "b1e8e4bc",
   "metadata": {},
   "outputs": [
    {
     "data": {
      "application/vnd.plotly.v1+json": {
       "config": {
        "plotlyServerURL": "https://plot.ly"
       },
       "data": [
        {
         "cells": {
          "align": "center",
          "fill": {
           "color": [
            [
             "#2ecc71",
             "#2ecc71",
             "#2ecc71",
             "#2ecc71",
             "#2ecc71"
            ],
            [
             "#58d68d",
             "#58d68d",
             "#58d68d",
             "#58d68d",
             "#58d68d"
            ],
            [
             "#f4d03f",
             "#f4d03f",
             "#f4d03f",
             "#f4d03f",
             "#f4d03f"
            ],
            [
             "#f39c12",
             "#f39c12",
             "#f39c12",
             "#f39c12",
             "#f39c12"
            ],
            [
             "#e74c3c",
             "#e74c3c",
             "#e74c3c",
             "#e74c3c",
             "#e74c3c"
            ]
           ]
          },
          "font": {
           "color": "white",
           "size": 12
          },
          "height": 100,
          "values": [
           [
            "<b>Aa</b><br>-",
            "<b>Ab</b><br>-",
            "<b>Ac</b><br>-",
            "<b>Ad</b><br>NVD<br>SVR<br>PTECH<br>TPOLY<br>WORK<br>AJ<br>SIAM<br>ITEL<br>TIGER<br>SAF",
            "<b>Ae</b><br>-"
           ],
           [
            "<b>Ba</b><br>-",
            "<b>Bb</b><br>-",
            "<b>Bc</b><br>-",
            "<b>Bd</b><br>PPPM<br>VGI<br>KSL<br>MANRIN<br>SFT<br>SHR<br>TGH<br>NPK<br>PG<br>BIOTEC",
            "<b>Be</b><br>-"
           ],
           [
            "<b>Ca</b><br>-",
            "<b>Cb</b><br>-",
            "<b>Cc</b><br>-",
            "<b>Cd</b><br>JDF<br>PLUS<br>CRC<br>LEE<br>SNPS<br>MGC<br>TK<br>LPN<br>GBX<br>WINDOW",
            "<b>Ce</b><br>-"
           ],
           [
            "<b>Da</b><br>-",
            "<b>Db</b><br>-",
            "<b>Dc</b><br>TPL",
            "<b>Dd</b><br>SUSCO<br>STP<br>NCP<br>ASP<br>SIS<br>PSP<br>TAN<br>OKJ<br>SFLEX<br>PCE",
            "<b>De</b><br>-"
           ],
           [
            "<b>Ea</b><br>-",
            "<b>Eb</b><br>-",
            "<b>Ec</b><br>-",
            "<b>Ed</b><br>TPCH<br>POLY<br>VCOM<br>KDH<br>EA<br>ROJNA<br>ADVICE<br>SAT<br>TASCO<br>AYUD",
            "<b>Ee</b><br>-"
           ]
          ]
         },
         "header": {
          "align": "center",
          "fill": {
           "color": "#dcdcdc"
          },
          "font": {
           "color": "black",
           "size": 14
          },
          "values": [
           "Super Bullish (a)",
           "Up Trend (b)",
           "Sideway (c)",
           "Down Trend (d)",
           "Crash (e)"
          ]
         },
         "type": "table"
        }
       ],
       "layout": {
        "template": {
         "data": {
          "bar": [
           {
            "error_x": {
             "color": "#2a3f5f"
            },
            "error_y": {
             "color": "#2a3f5f"
            },
            "marker": {
             "line": {
              "color": "#E5ECF6",
              "width": 0.5
             },
             "pattern": {
              "fillmode": "overlay",
              "size": 10,
              "solidity": 0.2
             }
            },
            "type": "bar"
           }
          ],
          "barpolar": [
           {
            "marker": {
             "line": {
              "color": "#E5ECF6",
              "width": 0.5
             },
             "pattern": {
              "fillmode": "overlay",
              "size": 10,
              "solidity": 0.2
             }
            },
            "type": "barpolar"
           }
          ],
          "carpet": [
           {
            "aaxis": {
             "endlinecolor": "#2a3f5f",
             "gridcolor": "white",
             "linecolor": "white",
             "minorgridcolor": "white",
             "startlinecolor": "#2a3f5f"
            },
            "baxis": {
             "endlinecolor": "#2a3f5f",
             "gridcolor": "white",
             "linecolor": "white",
             "minorgridcolor": "white",
             "startlinecolor": "#2a3f5f"
            },
            "type": "carpet"
           }
          ],
          "choropleth": [
           {
            "colorbar": {
             "outlinewidth": 0,
             "ticks": ""
            },
            "type": "choropleth"
           }
          ],
          "contour": [
           {
            "colorbar": {
             "outlinewidth": 0,
             "ticks": ""
            },
            "colorscale": [
             [
              0,
              "#0d0887"
             ],
             [
              0.1111111111111111,
              "#46039f"
             ],
             [
              0.2222222222222222,
              "#7201a8"
             ],
             [
              0.3333333333333333,
              "#9c179e"
             ],
             [
              0.4444444444444444,
              "#bd3786"
             ],
             [
              0.5555555555555556,
              "#d8576b"
             ],
             [
              0.6666666666666666,
              "#ed7953"
             ],
             [
              0.7777777777777778,
              "#fb9f3a"
             ],
             [
              0.8888888888888888,
              "#fdca26"
             ],
             [
              1,
              "#f0f921"
             ]
            ],
            "type": "contour"
           }
          ],
          "contourcarpet": [
           {
            "colorbar": {
             "outlinewidth": 0,
             "ticks": ""
            },
            "type": "contourcarpet"
           }
          ],
          "heatmap": [
           {
            "colorbar": {
             "outlinewidth": 0,
             "ticks": ""
            },
            "colorscale": [
             [
              0,
              "#0d0887"
             ],
             [
              0.1111111111111111,
              "#46039f"
             ],
             [
              0.2222222222222222,
              "#7201a8"
             ],
             [
              0.3333333333333333,
              "#9c179e"
             ],
             [
              0.4444444444444444,
              "#bd3786"
             ],
             [
              0.5555555555555556,
              "#d8576b"
             ],
             [
              0.6666666666666666,
              "#ed7953"
             ],
             [
              0.7777777777777778,
              "#fb9f3a"
             ],
             [
              0.8888888888888888,
              "#fdca26"
             ],
             [
              1,
              "#f0f921"
             ]
            ],
            "type": "heatmap"
           }
          ],
          "histogram": [
           {
            "marker": {
             "pattern": {
              "fillmode": "overlay",
              "size": 10,
              "solidity": 0.2
             }
            },
            "type": "histogram"
           }
          ],
          "histogram2d": [
           {
            "colorbar": {
             "outlinewidth": 0,
             "ticks": ""
            },
            "colorscale": [
             [
              0,
              "#0d0887"
             ],
             [
              0.1111111111111111,
              "#46039f"
             ],
             [
              0.2222222222222222,
              "#7201a8"
             ],
             [
              0.3333333333333333,
              "#9c179e"
             ],
             [
              0.4444444444444444,
              "#bd3786"
             ],
             [
              0.5555555555555556,
              "#d8576b"
             ],
             [
              0.6666666666666666,
              "#ed7953"
             ],
             [
              0.7777777777777778,
              "#fb9f3a"
             ],
             [
              0.8888888888888888,
              "#fdca26"
             ],
             [
              1,
              "#f0f921"
             ]
            ],
            "type": "histogram2d"
           }
          ],
          "histogram2dcontour": [
           {
            "colorbar": {
             "outlinewidth": 0,
             "ticks": ""
            },
            "colorscale": [
             [
              0,
              "#0d0887"
             ],
             [
              0.1111111111111111,
              "#46039f"
             ],
             [
              0.2222222222222222,
              "#7201a8"
             ],
             [
              0.3333333333333333,
              "#9c179e"
             ],
             [
              0.4444444444444444,
              "#bd3786"
             ],
             [
              0.5555555555555556,
              "#d8576b"
             ],
             [
              0.6666666666666666,
              "#ed7953"
             ],
             [
              0.7777777777777778,
              "#fb9f3a"
             ],
             [
              0.8888888888888888,
              "#fdca26"
             ],
             [
              1,
              "#f0f921"
             ]
            ],
            "type": "histogram2dcontour"
           }
          ],
          "mesh3d": [
           {
            "colorbar": {
             "outlinewidth": 0,
             "ticks": ""
            },
            "type": "mesh3d"
           }
          ],
          "parcoords": [
           {
            "line": {
             "colorbar": {
              "outlinewidth": 0,
              "ticks": ""
             }
            },
            "type": "parcoords"
           }
          ],
          "pie": [
           {
            "automargin": true,
            "type": "pie"
           }
          ],
          "scatter": [
           {
            "fillpattern": {
             "fillmode": "overlay",
             "size": 10,
             "solidity": 0.2
            },
            "type": "scatter"
           }
          ],
          "scatter3d": [
           {
            "line": {
             "colorbar": {
              "outlinewidth": 0,
              "ticks": ""
             }
            },
            "marker": {
             "colorbar": {
              "outlinewidth": 0,
              "ticks": ""
             }
            },
            "type": "scatter3d"
           }
          ],
          "scattercarpet": [
           {
            "marker": {
             "colorbar": {
              "outlinewidth": 0,
              "ticks": ""
             }
            },
            "type": "scattercarpet"
           }
          ],
          "scattergeo": [
           {
            "marker": {
             "colorbar": {
              "outlinewidth": 0,
              "ticks": ""
             }
            },
            "type": "scattergeo"
           }
          ],
          "scattergl": [
           {
            "marker": {
             "colorbar": {
              "outlinewidth": 0,
              "ticks": ""
             }
            },
            "type": "scattergl"
           }
          ],
          "scattermap": [
           {
            "marker": {
             "colorbar": {
              "outlinewidth": 0,
              "ticks": ""
             }
            },
            "type": "scattermap"
           }
          ],
          "scattermapbox": [
           {
            "marker": {
             "colorbar": {
              "outlinewidth": 0,
              "ticks": ""
             }
            },
            "type": "scattermapbox"
           }
          ],
          "scatterpolar": [
           {
            "marker": {
             "colorbar": {
              "outlinewidth": 0,
              "ticks": ""
             }
            },
            "type": "scatterpolar"
           }
          ],
          "scatterpolargl": [
           {
            "marker": {
             "colorbar": {
              "outlinewidth": 0,
              "ticks": ""
             }
            },
            "type": "scatterpolargl"
           }
          ],
          "scatterternary": [
           {
            "marker": {
             "colorbar": {
              "outlinewidth": 0,
              "ticks": ""
             }
            },
            "type": "scatterternary"
           }
          ],
          "surface": [
           {
            "colorbar": {
             "outlinewidth": 0,
             "ticks": ""
            },
            "colorscale": [
             [
              0,
              "#0d0887"
             ],
             [
              0.1111111111111111,
              "#46039f"
             ],
             [
              0.2222222222222222,
              "#7201a8"
             ],
             [
              0.3333333333333333,
              "#9c179e"
             ],
             [
              0.4444444444444444,
              "#bd3786"
             ],
             [
              0.5555555555555556,
              "#d8576b"
             ],
             [
              0.6666666666666666,
              "#ed7953"
             ],
             [
              0.7777777777777778,
              "#fb9f3a"
             ],
             [
              0.8888888888888888,
              "#fdca26"
             ],
             [
              1,
              "#f0f921"
             ]
            ],
            "type": "surface"
           }
          ],
          "table": [
           {
            "cells": {
             "fill": {
              "color": "#EBF0F8"
             },
             "line": {
              "color": "white"
             }
            },
            "header": {
             "fill": {
              "color": "#C8D4E3"
             },
             "line": {
              "color": "white"
             }
            },
            "type": "table"
           }
          ]
         },
         "layout": {
          "annotationdefaults": {
           "arrowcolor": "#2a3f5f",
           "arrowhead": 0,
           "arrowwidth": 1
          },
          "autotypenumbers": "strict",
          "coloraxis": {
           "colorbar": {
            "outlinewidth": 0,
            "ticks": ""
           }
          },
          "colorscale": {
           "diverging": [
            [
             0,
             "#8e0152"
            ],
            [
             0.1,
             "#c51b7d"
            ],
            [
             0.2,
             "#de77ae"
            ],
            [
             0.3,
             "#f1b6da"
            ],
            [
             0.4,
             "#fde0ef"
            ],
            [
             0.5,
             "#f7f7f7"
            ],
            [
             0.6,
             "#e6f5d0"
            ],
            [
             0.7,
             "#b8e186"
            ],
            [
             0.8,
             "#7fbc41"
            ],
            [
             0.9,
             "#4d9221"
            ],
            [
             1,
             "#276419"
            ]
           ],
           "sequential": [
            [
             0,
             "#0d0887"
            ],
            [
             0.1111111111111111,
             "#46039f"
            ],
            [
             0.2222222222222222,
             "#7201a8"
            ],
            [
             0.3333333333333333,
             "#9c179e"
            ],
            [
             0.4444444444444444,
             "#bd3786"
            ],
            [
             0.5555555555555556,
             "#d8576b"
            ],
            [
             0.6666666666666666,
             "#ed7953"
            ],
            [
             0.7777777777777778,
             "#fb9f3a"
            ],
            [
             0.8888888888888888,
             "#fdca26"
            ],
            [
             1,
             "#f0f921"
            ]
           ],
           "sequentialminus": [
            [
             0,
             "#0d0887"
            ],
            [
             0.1111111111111111,
             "#46039f"
            ],
            [
             0.2222222222222222,
             "#7201a8"
            ],
            [
             0.3333333333333333,
             "#9c179e"
            ],
            [
             0.4444444444444444,
             "#bd3786"
            ],
            [
             0.5555555555555556,
             "#d8576b"
            ],
            [
             0.6666666666666666,
             "#ed7953"
            ],
            [
             0.7777777777777778,
             "#fb9f3a"
            ],
            [
             0.8888888888888888,
             "#fdca26"
            ],
            [
             1,
             "#f0f921"
            ]
           ]
          },
          "colorway": [
           "#636efa",
           "#EF553B",
           "#00cc96",
           "#ab63fa",
           "#FFA15A",
           "#19d3f3",
           "#FF6692",
           "#B6E880",
           "#FF97FF",
           "#FECB52"
          ],
          "font": {
           "color": "#2a3f5f"
          },
          "geo": {
           "bgcolor": "white",
           "lakecolor": "white",
           "landcolor": "#E5ECF6",
           "showlakes": true,
           "showland": true,
           "subunitcolor": "white"
          },
          "hoverlabel": {
           "align": "left"
          },
          "hovermode": "closest",
          "mapbox": {
           "style": "light"
          },
          "paper_bgcolor": "white",
          "plot_bgcolor": "#E5ECF6",
          "polar": {
           "angularaxis": {
            "gridcolor": "white",
            "linecolor": "white",
            "ticks": ""
           },
           "bgcolor": "#E5ECF6",
           "radialaxis": {
            "gridcolor": "white",
            "linecolor": "white",
            "ticks": ""
           }
          },
          "scene": {
           "xaxis": {
            "backgroundcolor": "#E5ECF6",
            "gridcolor": "white",
            "gridwidth": 2,
            "linecolor": "white",
            "showbackground": true,
            "ticks": "",
            "zerolinecolor": "white"
           },
           "yaxis": {
            "backgroundcolor": "#E5ECF6",
            "gridcolor": "white",
            "gridwidth": 2,
            "linecolor": "white",
            "showbackground": true,
            "ticks": "",
            "zerolinecolor": "white"
           },
           "zaxis": {
            "backgroundcolor": "#E5ECF6",
            "gridcolor": "white",
            "gridwidth": 2,
            "linecolor": "white",
            "showbackground": true,
            "ticks": "",
            "zerolinecolor": "white"
           }
          },
          "shapedefaults": {
           "line": {
            "color": "#2a3f5f"
           }
          },
          "ternary": {
           "aaxis": {
            "gridcolor": "white",
            "linecolor": "white",
            "ticks": ""
           },
           "baxis": {
            "gridcolor": "white",
            "linecolor": "white",
            "ticks": ""
           },
           "bgcolor": "#E5ECF6",
           "caxis": {
            "gridcolor": "white",
            "linecolor": "white",
            "ticks": ""
           }
          },
          "title": {
           "x": 0.05
          },
          "xaxis": {
           "automargin": true,
           "gridcolor": "white",
           "linecolor": "white",
           "ticks": "",
           "title": {
            "standoff": 15
           },
           "zerolinecolor": "white",
           "zerolinewidth": 2
          },
          "yaxis": {
           "automargin": true,
           "gridcolor": "white",
           "linecolor": "white",
           "ticks": "",
           "title": {
            "standoff": 15
           },
           "zerolinecolor": "white",
           "zerolinewidth": 2
          }
         }
        },
        "title": {
         "text": "📊 Stock Quadrant Table จาก df_all_results (Predicted)"
        }
       }
      }
     },
     "metadata": {},
     "output_type": "display_data"
    }
   ],
   "source": [
    "import plotly.graph_objects as go\n",
    "\n",
    "# ✅ สร้าง dict: Quadrant → รายชื่อหุ้น\n",
    "quadrant_groups = (\n",
    "    df_all_results.groupby(\"Predicted Quadrant\")[\"Symbol\"]\n",
    "    .apply(list)\n",
    "    .to_dict()\n",
    ")\n",
    "\n",
    "# ✅ กำหนดลำดับแกน\n",
    "financial_levels = ['A', 'B', 'C', 'D', 'E']  # A = Strong fundamentals\n",
    "trend_levels = ['a', 'b', 'c', 'd', 'e']      # a = Bullish, e = Crash\n",
    "\n",
    "# ✅ เตรียมตาราง 5x5\n",
    "plot_table = []\n",
    "for f in financial_levels:\n",
    "    row = []\n",
    "    for t in trend_levels:\n",
    "        code = f + t\n",
    "        stocks = quadrant_groups.get(code, [])\n",
    "        if stocks:\n",
    "            stock_list = \"<br>\".join(stocks[:10])  # แสดงสูงสุด 10 ตัว\n",
    "            cell_text = f\"<b>{code}</b><br>{stock_list}\"\n",
    "        else:\n",
    "            cell_text = f\"<b>{code}</b><br>-\"\n",
    "        row.append(cell_text)\n",
    "    plot_table.append(row)\n",
    "\n",
    "# ✅ สีแต่ละแถว (A–E)\n",
    "colors = [[{'A': '#2ecc71', 'B': '#58d68d', 'C': '#f4d03f',\n",
    "            'D': '#f39c12', 'E': '#e74c3c'}[f]]*5 for f in financial_levels]\n",
    "\n",
    "# ✅ วาดตาราง\n",
    "fig = go.Figure(data=go.Table(\n",
    "    header=dict(\n",
    "        values=[\"Super Bullish (a)\", \"Up Trend (b)\", \"Sideway (c)\", \"Down Trend (d)\", \"Crash (e)\"],\n",
    "        fill_color=\"#dcdcdc\",\n",
    "        align=\"center\",\n",
    "        font=dict(color=\"black\", size=14)\n",
    "    ),\n",
    "    cells=dict(\n",
    "        values=plot_table,\n",
    "        fill_color=colors,\n",
    "        align=\"center\",\n",
    "        height=100,\n",
    "        font=dict(color=\"white\", size=12)\n",
    "    )\n",
    "))\n",
    "\n",
    "fig.update_layout(title=\"📊 Stock Quadrant Table จาก df_all_results (Predicted)\")\n",
    "fig.show()\n"
   ]
  },
  {
   "cell_type": "markdown",
   "id": "a46893c2",
   "metadata": {},
   "source": [
    "RULE-BASE"
   ]
  },
  {
   "cell_type": "code",
   "execution_count": 55,
   "id": "41456e12",
   "metadata": {},
   "outputs": [],
   "source": [
    "import pandas as pd\n",
    "import numpy as np\n",
    "import ta\n",
    "from sklearn.preprocessing import StandardScaler\n",
    "\n",
    "# -------------------------------\n",
    "# 1) ฟังก์ชันคำนวณ Technical Grade (a–e)\n",
    "# -------------------------------\n",
    "def compute_technical_grades(df_candle, band_pct=0.015):\n",
    "    df_result = []\n",
    "\n",
    "    for symbol, df_sym in df_candle.groupby('symbol'):\n",
    "        df_sym = df_sym.sort_values('time').copy()\n",
    "        df_sym = df_sym.dropna(subset=['close_price'])\n",
    "\n",
    "        if len(df_sym) < 50:\n",
    "            continue\n",
    "\n",
    "        # EMA + RSI\n",
    "        df_sym['ema5']   = df_sym['close_price'].ewm(span=5).mean()\n",
    "        df_sym['ema15']  = df_sym['close_price'].ewm(span=15).mean()\n",
    "        df_sym['ema35']  = df_sym['close_price'].ewm(span=35).mean()\n",
    "        df_sym['ema89']  = df_sym['close_price'].ewm(span=89).mean()\n",
    "        df_sym['ema200'] = df_sym['close_price'].ewm(span=200).mean()\n",
    "        df_sym['rsi']    = ta.momentum.RSIIndicator(close=df_sym['close_price'], window=14).rsi()\n",
    "\n",
    "        df_sym = df_sym.dropna(subset=['ema5','ema15','ema35','ema89','ema200','rsi'])\n",
    "        if df_sym.empty:\n",
    "            continue\n",
    "\n",
    "        # ใช้ข้อมูลล่าสุด\n",
    "        row = df_sym.iloc[-1]\n",
    "        c, r = row['close_price'], row['rsi']\n",
    "        e5, e15, e35, e89, e200 = row['ema5'], row['ema15'], row['ema35'], row['ema89'], row['ema200']\n",
    "\n",
    "        # Rule-based grading\n",
    "        if c >= e5 and r >= 70:\n",
    "            grade = 'a'\n",
    "        elif c >= e35 and e35 >= e89:\n",
    "            grade = 'b'\n",
    "        elif c >= e89 and (max([e5,e15,e35,e89]) - min([e5,e15,e35,e89])) / np.mean([e5,e15,e35,e89]) <= band_pct:\n",
    "            grade = 'c'\n",
    "        elif c < e89 and c < e200 and e89 < e200:\n",
    "            grade = 'd'\n",
    "        elif c < e5 < e15 < e35 < e89 < e200 and r <= 30:\n",
    "            grade = 'e'\n",
    "        else:\n",
    "            grade = 'c'\n",
    "\n",
    "        df_result.append({\n",
    "            'symbol': symbol,\n",
    "            'trend_grade': grade\n",
    "        })\n",
    "\n",
    "    return pd.DataFrame(df_result)\n",
    "\n",
    "\n",
    "# -------------------------------\n",
    "# 2) ฟังก์ชันคำนวณ Fundamental Group (A–E)\n",
    "# -------------------------------\n",
    "def compute_fundamental_groups(df_fun):\n",
    "    features = ['eps', 'pe', 'pbv', 'percentyield', 'marketcap']\n",
    "    X = df_fun[features].dropna().copy()\n",
    "\n",
    "    scaler = StandardScaler()\n",
    "    X_scaled = scaler.fit_transform(X)\n",
    "    X_scaled_df = pd.DataFrame(X_scaled, columns=features, index=X.index)\n",
    "\n",
    "    # สร้างคะแนนรวม (คุณอาจปรับ logic ได้)\n",
    "    X_scaled_df['score'] = (\n",
    "        X_scaled_df['eps'] - X_scaled_df['pe'] +\n",
    "        X_scaled_df['pbv'] + X_scaled_df['percentyield'] +\n",
    "        X_scaled_df['marketcap']\n",
    "    )\n",
    "\n",
    "    df_fun.loc[X.index, 'stat_group'] = pd.qcut(\n",
    "        X_scaled_df['score'], 5, labels=['A','B','C','D','E']\n",
    "    )\n",
    "\n",
    "    return df_fun[['symbol','stat_group']]\n",
    "\n",
    "\n",
    "# -------------------------------\n",
    "# 3) รวมสองผลลัพธ์ → Quadrant (Aa–Ee)\n",
    "# -------------------------------\n",
    "def compute_quadrant(df_fun, df_candle):\n",
    "    df_fundamental = compute_fundamental_groups(df_fun)\n",
    "    df_technical   = compute_technical_grades(df_candle)\n",
    "\n",
    "    df_merge = pd.merge(df_fundamental, df_technical, on='symbol', how='inner')\n",
    "    \n",
    "    # ✅ fix type error\n",
    "    df_merge['quadrant'] = df_merge['stat_group'].astype(str) + df_merge['trend_grade'].astype(str)\n",
    "    return df_merge\n"
   ]
  },
  {
   "cell_type": "code",
   "execution_count": 56,
   "id": "c0d5ff8d",
   "metadata": {},
   "outputs": [
    {
     "name": "stdout",
     "output_type": "stream",
     "text": [
      "  symbol stat_group trend_grade quadrant\n",
      "0   PPPM          B           c       Bc\n",
      "1   TPCH          E           d       Ed\n",
      "2   POLY          E           d       Ed\n",
      "3   VCOM          E           c       Ec\n",
      "4    KDH          E           d       Ed\n"
     ]
    }
   ],
   "source": [
    "# -------------------------------\n",
    "# ✅ ใช้งาน\n",
    "# -------------------------------\n",
    "df_quadrant = compute_quadrant(df_fun2, df_cand)\n",
    "\n",
    "print(df_quadrant.head())"
   ]
  }
 ],
 "metadata": {
  "kernelspec": {
   "display_name": "Python 3",
   "language": "python",
   "name": "python3"
  },
  "language_info": {
   "codemirror_mode": {
    "name": "ipython",
    "version": 3
   },
   "file_extension": ".py",
   "mimetype": "text/x-python",
   "name": "python",
   "nbconvert_exporter": "python",
   "pygments_lexer": "ipython3",
   "version": "3.10.0"
  }
 },
 "nbformat": 4,
 "nbformat_minor": 5
}
