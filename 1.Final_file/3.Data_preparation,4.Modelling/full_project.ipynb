{
 "cells": [
  {
   "cell_type": "code",
   "execution_count": 160,
   "id": "51cc81f7",
   "metadata": {},
   "outputs": [],
   "source": [
    "from cassandra.cluster import Cluster\n",
    "import pandas as pd\n",
    "import numpy as np\n",
    "from datetime import datetime"
   ]
  },
  {
   "cell_type": "code",
   "execution_count": 161,
   "id": "6a456434",
   "metadata": {},
   "outputs": [],
   "source": [
    "cluster = Cluster(['127.0.0.1'])\n",
    "session = cluster.connect()\n",
    "session.set_keyspace('data_stock')"
   ]
  },
  {
   "cell_type": "code",
   "execution_count": 162,
   "id": "3ed836a6",
   "metadata": {},
   "outputs": [],
   "source": [
    "rows_price = session.execute(\"\"\"\n",
    "    SELECT * FROM candlestick_data ALLOW FILTERING\n",
    "\"\"\")\n",
    "df_cand = pd.DataFrame(rows_price)\n",
    "df_cand['time'] = pd.to_datetime(df_cand['time'])\n",
    "df_cand = df_cand.sort_values(['symbol', 'time'])"
   ]
  },
  {
   "cell_type": "code",
   "execution_count": 163,
   "id": "2a45bf6d",
   "metadata": {},
   "outputs": [
    {
     "data": {
      "text/html": [
       "<div>\n",
       "<style scoped>\n",
       "    .dataframe tbody tr th:only-of-type {\n",
       "        vertical-align: middle;\n",
       "    }\n",
       "\n",
       "    .dataframe tbody tr th {\n",
       "        vertical-align: top;\n",
       "    }\n",
       "\n",
       "    .dataframe thead th {\n",
       "        text-align: right;\n",
       "    }\n",
       "</style>\n",
       "<table border=\"1\" class=\"dataframe\">\n",
       "  <thead>\n",
       "    <tr style=\"text-align: right;\">\n",
       "      <th></th>\n",
       "      <th>symbol</th>\n",
       "      <th>time</th>\n",
       "      <th>close_price</th>\n",
       "      <th>high_price</th>\n",
       "      <th>low_price</th>\n",
       "      <th>open_price</th>\n",
       "      <th>value</th>\n",
       "      <th>volume</th>\n",
       "    </tr>\n",
       "  </thead>\n",
       "  <tbody>\n",
       "    <tr>\n",
       "      <th>362761</th>\n",
       "      <td>24CS</td>\n",
       "      <td>2022-10-03</td>\n",
       "      <td>10.20</td>\n",
       "      <td>10.20</td>\n",
       "      <td>7.10</td>\n",
       "      <td>7.10</td>\n",
       "      <td>0.0</td>\n",
       "      <td>559474246</td>\n",
       "    </tr>\n",
       "    <tr>\n",
       "      <th>362762</th>\n",
       "      <td>24CS</td>\n",
       "      <td>2022-10-04</td>\n",
       "      <td>7.15</td>\n",
       "      <td>11.10</td>\n",
       "      <td>7.15</td>\n",
       "      <td>10.70</td>\n",
       "      <td>0.0</td>\n",
       "      <td>330716796</td>\n",
       "    </tr>\n",
       "    <tr>\n",
       "      <th>362763</th>\n",
       "      <td>24CS</td>\n",
       "      <td>2022-10-05</td>\n",
       "      <td>5.15</td>\n",
       "      <td>6.45</td>\n",
       "      <td>5.05</td>\n",
       "      <td>5.85</td>\n",
       "      <td>0.0</td>\n",
       "      <td>361105489</td>\n",
       "    </tr>\n",
       "    <tr>\n",
       "      <th>362764</th>\n",
       "      <td>24CS</td>\n",
       "      <td>2022-10-06</td>\n",
       "      <td>5.20</td>\n",
       "      <td>5.45</td>\n",
       "      <td>4.70</td>\n",
       "      <td>5.40</td>\n",
       "      <td>0.0</td>\n",
       "      <td>232684182</td>\n",
       "    </tr>\n",
       "    <tr>\n",
       "      <th>362765</th>\n",
       "      <td>24CS</td>\n",
       "      <td>2022-10-07</td>\n",
       "      <td>5.00</td>\n",
       "      <td>5.15</td>\n",
       "      <td>4.76</td>\n",
       "      <td>5.10</td>\n",
       "      <td>0.0</td>\n",
       "      <td>131780847</td>\n",
       "    </tr>\n",
       "    <tr>\n",
       "      <th>362766</th>\n",
       "      <td>24CS</td>\n",
       "      <td>2022-10-10</td>\n",
       "      <td>5.00</td>\n",
       "      <td>5.15</td>\n",
       "      <td>4.88</td>\n",
       "      <td>4.98</td>\n",
       "      <td>0.0</td>\n",
       "      <td>51045639</td>\n",
       "    </tr>\n",
       "    <tr>\n",
       "      <th>362767</th>\n",
       "      <td>24CS</td>\n",
       "      <td>2022-10-11</td>\n",
       "      <td>4.48</td>\n",
       "      <td>5.05</td>\n",
       "      <td>4.48</td>\n",
       "      <td>5.00</td>\n",
       "      <td>0.0</td>\n",
       "      <td>43520132</td>\n",
       "    </tr>\n",
       "    <tr>\n",
       "      <th>362768</th>\n",
       "      <td>24CS</td>\n",
       "      <td>2022-10-12</td>\n",
       "      <td>3.88</td>\n",
       "      <td>4.62</td>\n",
       "      <td>3.88</td>\n",
       "      <td>4.50</td>\n",
       "      <td>0.0</td>\n",
       "      <td>85779188</td>\n",
       "    </tr>\n",
       "    <tr>\n",
       "      <th>362769</th>\n",
       "      <td>24CS</td>\n",
       "      <td>2022-10-17</td>\n",
       "      <td>3.68</td>\n",
       "      <td>3.90</td>\n",
       "      <td>3.56</td>\n",
       "      <td>3.88</td>\n",
       "      <td>0.0</td>\n",
       "      <td>9027003</td>\n",
       "    </tr>\n",
       "    <tr>\n",
       "      <th>362770</th>\n",
       "      <td>24CS</td>\n",
       "      <td>2022-10-18</td>\n",
       "      <td>3.88</td>\n",
       "      <td>3.90</td>\n",
       "      <td>3.64</td>\n",
       "      <td>3.72</td>\n",
       "      <td>0.0</td>\n",
       "      <td>11371787</td>\n",
       "    </tr>\n",
       "  </tbody>\n",
       "</table>\n",
       "</div>"
      ],
      "text/plain": [
       "       symbol       time  close_price  high_price  low_price  open_price  \\\n",
       "362761   24CS 2022-10-03        10.20       10.20       7.10        7.10   \n",
       "362762   24CS 2022-10-04         7.15       11.10       7.15       10.70   \n",
       "362763   24CS 2022-10-05         5.15        6.45       5.05        5.85   \n",
       "362764   24CS 2022-10-06         5.20        5.45       4.70        5.40   \n",
       "362765   24CS 2022-10-07         5.00        5.15       4.76        5.10   \n",
       "362766   24CS 2022-10-10         5.00        5.15       4.88        4.98   \n",
       "362767   24CS 2022-10-11         4.48        5.05       4.48        5.00   \n",
       "362768   24CS 2022-10-12         3.88        4.62       3.88        4.50   \n",
       "362769   24CS 2022-10-17         3.68        3.90       3.56        3.88   \n",
       "362770   24CS 2022-10-18         3.88        3.90       3.64        3.72   \n",
       "\n",
       "        value     volume  \n",
       "362761    0.0  559474246  \n",
       "362762    0.0  330716796  \n",
       "362763    0.0  361105489  \n",
       "362764    0.0  232684182  \n",
       "362765    0.0  131780847  \n",
       "362766    0.0   51045639  \n",
       "362767    0.0   43520132  \n",
       "362768    0.0   85779188  \n",
       "362769    0.0    9027003  \n",
       "362770    0.0   11371787  "
      ]
     },
     "execution_count": 163,
     "metadata": {},
     "output_type": "execute_result"
    }
   ],
   "source": [
    "df_cand.head(10)"
   ]
  },
  {
   "cell_type": "code",
   "execution_count": 164,
   "id": "45b48071",
   "metadata": {},
   "outputs": [
    {
     "data": {
      "application/vnd.plotly.v1+json": {
       "config": {
        "plotlyServerURL": "https://plot.ly"
       },
       "data": [
        {
         "close": {
          "bdata": "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",
          "dtype": "f8"
         },
         "high": {
          "bdata": "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",
          "dtype": "f8"
         },
         "low": {
          "bdata": "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",
          "dtype": "f8"
         },
         "name": "Candlestick",
         "open": {
          "bdata": "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",
          "dtype": "f8"
         },
         "type": "candlestick",
         "x": [
          "2024-08-02T00:00:00.000000000",
          "2024-08-05T00:00:00.000000000",
          "2024-08-06T00:00:00.000000000",
          "2024-08-07T00:00:00.000000000",
          "2024-08-08T00:00:00.000000000",
          "2024-08-09T00:00:00.000000000",
          "2024-08-13T00:00:00.000000000",
          "2024-08-14T00:00:00.000000000",
          "2024-08-15T00:00:00.000000000",
          "2024-08-16T00:00:00.000000000",
          "2024-08-19T00:00:00.000000000",
          "2024-08-20T00:00:00.000000000",
          "2024-08-21T00:00:00.000000000",
          "2024-08-22T00:00:00.000000000",
          "2024-08-23T00:00:00.000000000",
          "2024-08-26T00:00:00.000000000",
          "2024-08-27T00:00:00.000000000",
          "2024-08-28T00:00:00.000000000",
          "2024-08-29T00:00:00.000000000",
          "2024-08-30T00:00:00.000000000",
          "2024-09-02T00:00:00.000000000",
          "2024-09-03T00:00:00.000000000",
          "2024-09-04T00:00:00.000000000",
          "2024-09-05T00:00:00.000000000",
          "2024-09-06T00:00:00.000000000",
          "2024-09-09T00:00:00.000000000",
          "2024-09-10T00:00:00.000000000",
          "2024-09-11T00:00:00.000000000",
          "2024-09-12T00:00:00.000000000",
          "2024-09-13T00:00:00.000000000",
          "2024-09-16T00:00:00.000000000",
          "2024-09-17T00:00:00.000000000",
          "2024-09-18T00:00:00.000000000",
          "2024-09-19T00:00:00.000000000",
          "2024-09-20T00:00:00.000000000",
          "2024-09-23T00:00:00.000000000",
          "2024-09-24T00:00:00.000000000",
          "2024-09-25T00:00:00.000000000",
          "2024-09-26T00:00:00.000000000",
          "2024-09-27T00:00:00.000000000",
          "2024-09-30T00:00:00.000000000",
          "2024-10-01T00:00:00.000000000",
          "2024-10-02T00:00:00.000000000",
          "2024-10-03T00:00:00.000000000",
          "2024-10-04T00:00:00.000000000",
          "2024-10-07T00:00:00.000000000",
          "2024-10-08T00:00:00.000000000",
          "2024-10-09T00:00:00.000000000",
          "2024-10-10T00:00:00.000000000",
          "2024-10-11T00:00:00.000000000",
          "2024-10-15T00:00:00.000000000",
          "2024-10-16T00:00:00.000000000",
          "2024-10-17T00:00:00.000000000",
          "2024-10-18T00:00:00.000000000",
          "2024-10-21T00:00:00.000000000",
          "2024-10-22T00:00:00.000000000",
          "2024-10-24T00:00:00.000000000",
          "2024-10-25T00:00:00.000000000",
          "2024-10-28T00:00:00.000000000",
          "2024-10-29T00:00:00.000000000",
          "2024-10-30T00:00:00.000000000",
          "2024-10-31T00:00:00.000000000",
          "2024-11-01T00:00:00.000000000",
          "2024-11-04T00:00:00.000000000",
          "2024-11-05T00:00:00.000000000",
          "2024-11-06T00:00:00.000000000",
          "2024-11-07T00:00:00.000000000",
          "2024-11-08T00:00:00.000000000",
          "2024-11-11T00:00:00.000000000",
          "2024-11-12T00:00:00.000000000",
          "2024-11-13T00:00:00.000000000",
          "2024-11-14T00:00:00.000000000",
          "2024-11-15T00:00:00.000000000",
          "2024-11-18T00:00:00.000000000",
          "2024-11-19T00:00:00.000000000",
          "2024-11-20T00:00:00.000000000",
          "2024-11-21T00:00:00.000000000",
          "2024-11-22T00:00:00.000000000",
          "2024-11-25T00:00:00.000000000",
          "2024-11-26T00:00:00.000000000",
          "2024-11-27T00:00:00.000000000",
          "2024-11-28T00:00:00.000000000",
          "2024-11-29T00:00:00.000000000",
          "2024-12-02T00:00:00.000000000",
          "2024-12-03T00:00:00.000000000",
          "2024-12-04T00:00:00.000000000",
          "2024-12-06T00:00:00.000000000",
          "2024-12-09T00:00:00.000000000",
          "2024-12-11T00:00:00.000000000",
          "2024-12-12T00:00:00.000000000",
          "2024-12-13T00:00:00.000000000",
          "2024-12-16T00:00:00.000000000",
          "2024-12-17T00:00:00.000000000",
          "2024-12-18T00:00:00.000000000",
          "2024-12-19T00:00:00.000000000",
          "2024-12-20T00:00:00.000000000",
          "2024-12-23T00:00:00.000000000",
          "2024-12-24T00:00:00.000000000",
          "2024-12-25T00:00:00.000000000",
          "2024-12-26T00:00:00.000000000",
          "2024-12-27T00:00:00.000000000",
          "2024-12-30T00:00:00.000000000",
          "2025-01-02T00:00:00.000000000",
          "2025-01-03T00:00:00.000000000",
          "2025-01-06T00:00:00.000000000",
          "2025-01-07T00:00:00.000000000",
          "2025-01-08T00:00:00.000000000",
          "2025-01-09T00:00:00.000000000",
          "2025-01-10T00:00:00.000000000",
          "2025-01-13T00:00:00.000000000",
          "2025-01-14T00:00:00.000000000",
          "2025-01-15T00:00:00.000000000",
          "2025-01-16T00:00:00.000000000",
          "2025-01-17T00:00:00.000000000",
          "2025-01-20T00:00:00.000000000",
          "2025-01-21T00:00:00.000000000",
          "2025-01-22T00:00:00.000000000",
          "2025-01-23T00:00:00.000000000",
          "2025-01-24T00:00:00.000000000",
          "2025-01-27T00:00:00.000000000",
          "2025-01-28T00:00:00.000000000",
          "2025-01-29T00:00:00.000000000",
          "2025-01-30T00:00:00.000000000",
          "2025-01-31T00:00:00.000000000",
          "2025-02-03T00:00:00.000000000",
          "2025-02-04T00:00:00.000000000",
          "2025-02-05T00:00:00.000000000",
          "2025-02-06T00:00:00.000000000",
          "2025-02-07T00:00:00.000000000",
          "2025-02-10T00:00:00.000000000",
          "2025-02-11T00:00:00.000000000",
          "2025-02-13T00:00:00.000000000",
          "2025-02-14T00:00:00.000000000",
          "2025-02-17T00:00:00.000000000",
          "2025-02-18T00:00:00.000000000",
          "2025-02-19T00:00:00.000000000",
          "2025-02-20T00:00:00.000000000",
          "2025-02-21T00:00:00.000000000",
          "2025-02-24T00:00:00.000000000",
          "2025-02-25T00:00:00.000000000",
          "2025-02-26T00:00:00.000000000",
          "2025-02-27T00:00:00.000000000",
          "2025-02-28T00:00:00.000000000",
          "2025-03-03T00:00:00.000000000",
          "2025-03-04T00:00:00.000000000",
          "2025-03-05T00:00:00.000000000",
          "2025-03-06T00:00:00.000000000",
          "2025-03-07T00:00:00.000000000",
          "2025-03-10T00:00:00.000000000",
          "2025-03-11T00:00:00.000000000",
          "2025-03-12T00:00:00.000000000",
          "2025-03-13T00:00:00.000000000",
          "2025-03-14T00:00:00.000000000",
          "2025-03-17T00:00:00.000000000",
          "2025-03-18T00:00:00.000000000",
          "2025-03-19T00:00:00.000000000",
          "2025-03-20T00:00:00.000000000",
          "2025-03-21T00:00:00.000000000",
          "2025-03-24T00:00:00.000000000",
          "2025-03-25T00:00:00.000000000",
          "2025-03-26T00:00:00.000000000",
          "2025-03-27T00:00:00.000000000",
          "2025-03-28T00:00:00.000000000",
          "2025-03-31T00:00:00.000000000",
          "2025-04-01T00:00:00.000000000",
          "2025-04-02T00:00:00.000000000",
          "2025-04-03T00:00:00.000000000",
          "2025-04-04T00:00:00.000000000",
          "2025-04-08T00:00:00.000000000",
          "2025-04-09T00:00:00.000000000",
          "2025-04-10T00:00:00.000000000",
          "2025-04-11T00:00:00.000000000",
          "2025-04-16T00:00:00.000000000",
          "2025-04-17T00:00:00.000000000",
          "2025-04-18T00:00:00.000000000",
          "2025-04-21T00:00:00.000000000",
          "2025-04-22T00:00:00.000000000",
          "2025-04-23T00:00:00.000000000",
          "2025-04-24T00:00:00.000000000",
          "2025-04-25T00:00:00.000000000",
          "2025-04-28T00:00:00.000000000",
          "2025-04-29T00:00:00.000000000",
          "2025-04-30T00:00:00.000000000",
          "2025-05-02T00:00:00.000000000",
          "2025-05-06T00:00:00.000000000",
          "2025-05-07T00:00:00.000000000",
          "2025-05-08T00:00:00.000000000",
          "2025-05-09T00:00:00.000000000",
          "2025-05-13T00:00:00.000000000",
          "2025-05-14T00:00:00.000000000",
          "2025-05-15T00:00:00.000000000",
          "2025-05-16T00:00:00.000000000",
          "2025-05-19T00:00:00.000000000",
          "2025-05-20T00:00:00.000000000",
          "2025-05-21T00:00:00.000000000",
          "2025-05-22T00:00:00.000000000",
          "2025-05-23T00:00:00.000000000",
          "2025-05-26T00:00:00.000000000",
          "2025-05-27T00:00:00.000000000",
          "2025-05-28T00:00:00.000000000"
         ]
        },
        {
         "marker": {
          "color": "lightblue"
         },
         "name": "Volume",
         "opacity": 0.5,
         "type": "bar",
         "x": [
          "2024-08-02T00:00:00.000000000",
          "2024-08-05T00:00:00.000000000",
          "2024-08-06T00:00:00.000000000",
          "2024-08-07T00:00:00.000000000",
          "2024-08-08T00:00:00.000000000",
          "2024-08-09T00:00:00.000000000",
          "2024-08-13T00:00:00.000000000",
          "2024-08-14T00:00:00.000000000",
          "2024-08-15T00:00:00.000000000",
          "2024-08-16T00:00:00.000000000",
          "2024-08-19T00:00:00.000000000",
          "2024-08-20T00:00:00.000000000",
          "2024-08-21T00:00:00.000000000",
          "2024-08-22T00:00:00.000000000",
          "2024-08-23T00:00:00.000000000",
          "2024-08-26T00:00:00.000000000",
          "2024-08-27T00:00:00.000000000",
          "2024-08-28T00:00:00.000000000",
          "2024-08-29T00:00:00.000000000",
          "2024-08-30T00:00:00.000000000",
          "2024-09-02T00:00:00.000000000",
          "2024-09-03T00:00:00.000000000",
          "2024-09-04T00:00:00.000000000",
          "2024-09-05T00:00:00.000000000",
          "2024-09-06T00:00:00.000000000",
          "2024-09-09T00:00:00.000000000",
          "2024-09-10T00:00:00.000000000",
          "2024-09-11T00:00:00.000000000",
          "2024-09-12T00:00:00.000000000",
          "2024-09-13T00:00:00.000000000",
          "2024-09-16T00:00:00.000000000",
          "2024-09-17T00:00:00.000000000",
          "2024-09-18T00:00:00.000000000",
          "2024-09-19T00:00:00.000000000",
          "2024-09-20T00:00:00.000000000",
          "2024-09-23T00:00:00.000000000",
          "2024-09-24T00:00:00.000000000",
          "2024-09-25T00:00:00.000000000",
          "2024-09-26T00:00:00.000000000",
          "2024-09-27T00:00:00.000000000",
          "2024-09-30T00:00:00.000000000",
          "2024-10-01T00:00:00.000000000",
          "2024-10-02T00:00:00.000000000",
          "2024-10-03T00:00:00.000000000",
          "2024-10-04T00:00:00.000000000",
          "2024-10-07T00:00:00.000000000",
          "2024-10-08T00:00:00.000000000",
          "2024-10-09T00:00:00.000000000",
          "2024-10-10T00:00:00.000000000",
          "2024-10-11T00:00:00.000000000",
          "2024-10-15T00:00:00.000000000",
          "2024-10-16T00:00:00.000000000",
          "2024-10-17T00:00:00.000000000",
          "2024-10-18T00:00:00.000000000",
          "2024-10-21T00:00:00.000000000",
          "2024-10-22T00:00:00.000000000",
          "2024-10-24T00:00:00.000000000",
          "2024-10-25T00:00:00.000000000",
          "2024-10-28T00:00:00.000000000",
          "2024-10-29T00:00:00.000000000",
          "2024-10-30T00:00:00.000000000",
          "2024-10-31T00:00:00.000000000",
          "2024-11-01T00:00:00.000000000",
          "2024-11-04T00:00:00.000000000",
          "2024-11-05T00:00:00.000000000",
          "2024-11-06T00:00:00.000000000",
          "2024-11-07T00:00:00.000000000",
          "2024-11-08T00:00:00.000000000",
          "2024-11-11T00:00:00.000000000",
          "2024-11-12T00:00:00.000000000",
          "2024-11-13T00:00:00.000000000",
          "2024-11-14T00:00:00.000000000",
          "2024-11-15T00:00:00.000000000",
          "2024-11-18T00:00:00.000000000",
          "2024-11-19T00:00:00.000000000",
          "2024-11-20T00:00:00.000000000",
          "2024-11-21T00:00:00.000000000",
          "2024-11-22T00:00:00.000000000",
          "2024-11-25T00:00:00.000000000",
          "2024-11-26T00:00:00.000000000",
          "2024-11-27T00:00:00.000000000",
          "2024-11-28T00:00:00.000000000",
          "2024-11-29T00:00:00.000000000",
          "2024-12-02T00:00:00.000000000",
          "2024-12-03T00:00:00.000000000",
          "2024-12-04T00:00:00.000000000",
          "2024-12-06T00:00:00.000000000",
          "2024-12-09T00:00:00.000000000",
          "2024-12-11T00:00:00.000000000",
          "2024-12-12T00:00:00.000000000",
          "2024-12-13T00:00:00.000000000",
          "2024-12-16T00:00:00.000000000",
          "2024-12-17T00:00:00.000000000",
          "2024-12-18T00:00:00.000000000",
          "2024-12-19T00:00:00.000000000",
          "2024-12-20T00:00:00.000000000",
          "2024-12-23T00:00:00.000000000",
          "2024-12-24T00:00:00.000000000",
          "2024-12-25T00:00:00.000000000",
          "2024-12-26T00:00:00.000000000",
          "2024-12-27T00:00:00.000000000",
          "2024-12-30T00:00:00.000000000",
          "2025-01-02T00:00:00.000000000",
          "2025-01-03T00:00:00.000000000",
          "2025-01-06T00:00:00.000000000",
          "2025-01-07T00:00:00.000000000",
          "2025-01-08T00:00:00.000000000",
          "2025-01-09T00:00:00.000000000",
          "2025-01-10T00:00:00.000000000",
          "2025-01-13T00:00:00.000000000",
          "2025-01-14T00:00:00.000000000",
          "2025-01-15T00:00:00.000000000",
          "2025-01-16T00:00:00.000000000",
          "2025-01-17T00:00:00.000000000",
          "2025-01-20T00:00:00.000000000",
          "2025-01-21T00:00:00.000000000",
          "2025-01-22T00:00:00.000000000",
          "2025-01-23T00:00:00.000000000",
          "2025-01-24T00:00:00.000000000",
          "2025-01-27T00:00:00.000000000",
          "2025-01-28T00:00:00.000000000",
          "2025-01-29T00:00:00.000000000",
          "2025-01-30T00:00:00.000000000",
          "2025-01-31T00:00:00.000000000",
          "2025-02-03T00:00:00.000000000",
          "2025-02-04T00:00:00.000000000",
          "2025-02-05T00:00:00.000000000",
          "2025-02-06T00:00:00.000000000",
          "2025-02-07T00:00:00.000000000",
          "2025-02-10T00:00:00.000000000",
          "2025-02-11T00:00:00.000000000",
          "2025-02-13T00:00:00.000000000",
          "2025-02-14T00:00:00.000000000",
          "2025-02-17T00:00:00.000000000",
          "2025-02-18T00:00:00.000000000",
          "2025-02-19T00:00:00.000000000",
          "2025-02-20T00:00:00.000000000",
          "2025-02-21T00:00:00.000000000",
          "2025-02-24T00:00:00.000000000",
          "2025-02-25T00:00:00.000000000",
          "2025-02-26T00:00:00.000000000",
          "2025-02-27T00:00:00.000000000",
          "2025-02-28T00:00:00.000000000",
          "2025-03-03T00:00:00.000000000",
          "2025-03-04T00:00:00.000000000",
          "2025-03-05T00:00:00.000000000",
          "2025-03-06T00:00:00.000000000",
          "2025-03-07T00:00:00.000000000",
          "2025-03-10T00:00:00.000000000",
          "2025-03-11T00:00:00.000000000",
          "2025-03-12T00:00:00.000000000",
          "2025-03-13T00:00:00.000000000",
          "2025-03-14T00:00:00.000000000",
          "2025-03-17T00:00:00.000000000",
          "2025-03-18T00:00:00.000000000",
          "2025-03-19T00:00:00.000000000",
          "2025-03-20T00:00:00.000000000",
          "2025-03-21T00:00:00.000000000",
          "2025-03-24T00:00:00.000000000",
          "2025-03-25T00:00:00.000000000",
          "2025-03-26T00:00:00.000000000",
          "2025-03-27T00:00:00.000000000",
          "2025-03-28T00:00:00.000000000",
          "2025-03-31T00:00:00.000000000",
          "2025-04-01T00:00:00.000000000",
          "2025-04-02T00:00:00.000000000",
          "2025-04-03T00:00:00.000000000",
          "2025-04-04T00:00:00.000000000",
          "2025-04-08T00:00:00.000000000",
          "2025-04-09T00:00:00.000000000",
          "2025-04-10T00:00:00.000000000",
          "2025-04-11T00:00:00.000000000",
          "2025-04-16T00:00:00.000000000",
          "2025-04-17T00:00:00.000000000",
          "2025-04-18T00:00:00.000000000",
          "2025-04-21T00:00:00.000000000",
          "2025-04-22T00:00:00.000000000",
          "2025-04-23T00:00:00.000000000",
          "2025-04-24T00:00:00.000000000",
          "2025-04-25T00:00:00.000000000",
          "2025-04-28T00:00:00.000000000",
          "2025-04-29T00:00:00.000000000",
          "2025-04-30T00:00:00.000000000",
          "2025-05-02T00:00:00.000000000",
          "2025-05-06T00:00:00.000000000",
          "2025-05-07T00:00:00.000000000",
          "2025-05-08T00:00:00.000000000",
          "2025-05-09T00:00:00.000000000",
          "2025-05-13T00:00:00.000000000",
          "2025-05-14T00:00:00.000000000",
          "2025-05-15T00:00:00.000000000",
          "2025-05-16T00:00:00.000000000",
          "2025-05-19T00:00:00.000000000",
          "2025-05-20T00:00:00.000000000",
          "2025-05-21T00:00:00.000000000",
          "2025-05-22T00:00:00.000000000",
          "2025-05-23T00:00:00.000000000",
          "2025-05-26T00:00:00.000000000",
          "2025-05-27T00:00:00.000000000",
          "2025-05-28T00:00:00.000000000"
         ],
         "y": {
          "bdata": "Y5cqAECIcQCdbRUASFAmADOrLABUXBMABjY7AZFRKQD0RR8AXXYYANsaEgAB/30AcwA9AWxeLwDCVSMA7pQiAI0bKwCvCzsA+K4cAKKzcwBLIz8A6ANNALlOGwCAvy4ALAwTALQECwCCFUIARf4RADveHwAMcg4A3ZgTAOZGFQBPVhQAUAsOABr+BwAsCj8AWbJYAN5LwQAkNDEAvKQXAD08EwAb/w0ArrIYAEhSFQDJwCkAky1NAHRKCwDWzSkAGgmWAH8aAQEd1SkAHpOZACSzQQD9Sh8ALPgZACAZLQCTUDcARUhOACiSEwCCeQsAqncXABfDCABGeRYAvmsJAEM2BwCLVREAT3EkAM/9HwG+NwkBEiYvABK+BQAs0QcADeIFADUhBwCoRgkAWZASAMqUEQBQ6xEAdk03AA3dEgBBwAgAjGUOAGOpBABIbAUAoI0EAPj3CQAwugEA3A8EAIYhAQAcmAoAtLIHABNtBQCc1w4AraACADIFAgCCqwAAKnkIAFpJAQCIkAAA0QEBAHXsAgD0fgAA2B0DAF1rHwCH8x4Ak+UPAHzJIAA7rwoAfIEHADNKAwAnSQUAFaEGALouKQDfvQQAPBAEAO4YBgDEdAMARVcYAKhuAgDetgEAIzIRACS8AQD4EgQA3NUHANyPAgDSOQAAhFsCAFKhDgBeOAUAz6sZAIe2QAA2sAsAyvcCAFV5DwBIKwUAc9EIAHQoBABo+AMAJQ0BAAopBABBZAEAafMIAK0BDQAUZAUAlvsHAMMuAQCiywUAG+sBAGToBgC1ygMAqP8HAJUMBQCamgAA1sIAAJoNCQAbjAcApJ8BAB7LBABQ/AMAZxIUAK+rCgA9ISIBr3NVAIylHQAhVhsAWDcMAOCvCQD0ywgAzMQUAAhQEQDwkAsAGLoKAHXfCwBnoRcALWp4AE9tLgDsoxoAYK4jAIYCYABwiZgABIqjALTIKwBwWhIAAZgRANhuCQA4yQgAfIcfADajGgDXYZ4Bvi5LATAVmQCNIhMBgQghAlGqpwKWA2gBaS1ZAKYrVAKSV9UCZicwAwZ7mwI=",
          "dtype": "i4"
         },
         "yaxis": "y2"
        }
       ],
       "layout": {
        "height": 600,
        "template": {
         "data": {
          "bar": [
           {
            "error_x": {
             "color": "#2a3f5f"
            },
            "error_y": {
             "color": "#2a3f5f"
            },
            "marker": {
             "line": {
              "color": "white",
              "width": 0.5
             },
             "pattern": {
              "fillmode": "overlay",
              "size": 10,
              "solidity": 0.2
             }
            },
            "type": "bar"
           }
          ],
          "barpolar": [
           {
            "marker": {
             "line": {
              "color": "white",
              "width": 0.5
             },
             "pattern": {
              "fillmode": "overlay",
              "size": 10,
              "solidity": 0.2
             }
            },
            "type": "barpolar"
           }
          ],
          "carpet": [
           {
            "aaxis": {
             "endlinecolor": "#2a3f5f",
             "gridcolor": "#C8D4E3",
             "linecolor": "#C8D4E3",
             "minorgridcolor": "#C8D4E3",
             "startlinecolor": "#2a3f5f"
            },
            "baxis": {
             "endlinecolor": "#2a3f5f",
             "gridcolor": "#C8D4E3",
             "linecolor": "#C8D4E3",
             "minorgridcolor": "#C8D4E3",
             "startlinecolor": "#2a3f5f"
            },
            "type": "carpet"
           }
          ],
          "choropleth": [
           {
            "colorbar": {
             "outlinewidth": 0,
             "ticks": ""
            },
            "type": "choropleth"
           }
          ],
          "contour": [
           {
            "colorbar": {
             "outlinewidth": 0,
             "ticks": ""
            },
            "colorscale": [
             [
              0,
              "#0d0887"
             ],
             [
              0.1111111111111111,
              "#46039f"
             ],
             [
              0.2222222222222222,
              "#7201a8"
             ],
             [
              0.3333333333333333,
              "#9c179e"
             ],
             [
              0.4444444444444444,
              "#bd3786"
             ],
             [
              0.5555555555555556,
              "#d8576b"
             ],
             [
              0.6666666666666666,
              "#ed7953"
             ],
             [
              0.7777777777777778,
              "#fb9f3a"
             ],
             [
              0.8888888888888888,
              "#fdca26"
             ],
             [
              1,
              "#f0f921"
             ]
            ],
            "type": "contour"
           }
          ],
          "contourcarpet": [
           {
            "colorbar": {
             "outlinewidth": 0,
             "ticks": ""
            },
            "type": "contourcarpet"
           }
          ],
          "heatmap": [
           {
            "colorbar": {
             "outlinewidth": 0,
             "ticks": ""
            },
            "colorscale": [
             [
              0,
              "#0d0887"
             ],
             [
              0.1111111111111111,
              "#46039f"
             ],
             [
              0.2222222222222222,
              "#7201a8"
             ],
             [
              0.3333333333333333,
              "#9c179e"
             ],
             [
              0.4444444444444444,
              "#bd3786"
             ],
             [
              0.5555555555555556,
              "#d8576b"
             ],
             [
              0.6666666666666666,
              "#ed7953"
             ],
             [
              0.7777777777777778,
              "#fb9f3a"
             ],
             [
              0.8888888888888888,
              "#fdca26"
             ],
             [
              1,
              "#f0f921"
             ]
            ],
            "type": "heatmap"
           }
          ],
          "histogram": [
           {
            "marker": {
             "pattern": {
              "fillmode": "overlay",
              "size": 10,
              "solidity": 0.2
             }
            },
            "type": "histogram"
           }
          ],
          "histogram2d": [
           {
            "colorbar": {
             "outlinewidth": 0,
             "ticks": ""
            },
            "colorscale": [
             [
              0,
              "#0d0887"
             ],
             [
              0.1111111111111111,
              "#46039f"
             ],
             [
              0.2222222222222222,
              "#7201a8"
             ],
             [
              0.3333333333333333,
              "#9c179e"
             ],
             [
              0.4444444444444444,
              "#bd3786"
             ],
             [
              0.5555555555555556,
              "#d8576b"
             ],
             [
              0.6666666666666666,
              "#ed7953"
             ],
             [
              0.7777777777777778,
              "#fb9f3a"
             ],
             [
              0.8888888888888888,
              "#fdca26"
             ],
             [
              1,
              "#f0f921"
             ]
            ],
            "type": "histogram2d"
           }
          ],
          "histogram2dcontour": [
           {
            "colorbar": {
             "outlinewidth": 0,
             "ticks": ""
            },
            "colorscale": [
             [
              0,
              "#0d0887"
             ],
             [
              0.1111111111111111,
              "#46039f"
             ],
             [
              0.2222222222222222,
              "#7201a8"
             ],
             [
              0.3333333333333333,
              "#9c179e"
             ],
             [
              0.4444444444444444,
              "#bd3786"
             ],
             [
              0.5555555555555556,
              "#d8576b"
             ],
             [
              0.6666666666666666,
              "#ed7953"
             ],
             [
              0.7777777777777778,
              "#fb9f3a"
             ],
             [
              0.8888888888888888,
              "#fdca26"
             ],
             [
              1,
              "#f0f921"
             ]
            ],
            "type": "histogram2dcontour"
           }
          ],
          "mesh3d": [
           {
            "colorbar": {
             "outlinewidth": 0,
             "ticks": ""
            },
            "type": "mesh3d"
           }
          ],
          "parcoords": [
           {
            "line": {
             "colorbar": {
              "outlinewidth": 0,
              "ticks": ""
             }
            },
            "type": "parcoords"
           }
          ],
          "pie": [
           {
            "automargin": true,
            "type": "pie"
           }
          ],
          "scatter": [
           {
            "fillpattern": {
             "fillmode": "overlay",
             "size": 10,
             "solidity": 0.2
            },
            "type": "scatter"
           }
          ],
          "scatter3d": [
           {
            "line": {
             "colorbar": {
              "outlinewidth": 0,
              "ticks": ""
             }
            },
            "marker": {
             "colorbar": {
              "outlinewidth": 0,
              "ticks": ""
             }
            },
            "type": "scatter3d"
           }
          ],
          "scattercarpet": [
           {
            "marker": {
             "colorbar": {
              "outlinewidth": 0,
              "ticks": ""
             }
            },
            "type": "scattercarpet"
           }
          ],
          "scattergeo": [
           {
            "marker": {
             "colorbar": {
              "outlinewidth": 0,
              "ticks": ""
             }
            },
            "type": "scattergeo"
           }
          ],
          "scattergl": [
           {
            "marker": {
             "colorbar": {
              "outlinewidth": 0,
              "ticks": ""
             }
            },
            "type": "scattergl"
           }
          ],
          "scattermap": [
           {
            "marker": {
             "colorbar": {
              "outlinewidth": 0,
              "ticks": ""
             }
            },
            "type": "scattermap"
           }
          ],
          "scattermapbox": [
           {
            "marker": {
             "colorbar": {
              "outlinewidth": 0,
              "ticks": ""
             }
            },
            "type": "scattermapbox"
           }
          ],
          "scatterpolar": [
           {
            "marker": {
             "colorbar": {
              "outlinewidth": 0,
              "ticks": ""
             }
            },
            "type": "scatterpolar"
           }
          ],
          "scatterpolargl": [
           {
            "marker": {
             "colorbar": {
              "outlinewidth": 0,
              "ticks": ""
             }
            },
            "type": "scatterpolargl"
           }
          ],
          "scatterternary": [
           {
            "marker": {
             "colorbar": {
              "outlinewidth": 0,
              "ticks": ""
             }
            },
            "type": "scatterternary"
           }
          ],
          "surface": [
           {
            "colorbar": {
             "outlinewidth": 0,
             "ticks": ""
            },
            "colorscale": [
             [
              0,
              "#0d0887"
             ],
             [
              0.1111111111111111,
              "#46039f"
             ],
             [
              0.2222222222222222,
              "#7201a8"
             ],
             [
              0.3333333333333333,
              "#9c179e"
             ],
             [
              0.4444444444444444,
              "#bd3786"
             ],
             [
              0.5555555555555556,
              "#d8576b"
             ],
             [
              0.6666666666666666,
              "#ed7953"
             ],
             [
              0.7777777777777778,
              "#fb9f3a"
             ],
             [
              0.8888888888888888,
              "#fdca26"
             ],
             [
              1,
              "#f0f921"
             ]
            ],
            "type": "surface"
           }
          ],
          "table": [
           {
            "cells": {
             "fill": {
              "color": "#EBF0F8"
             },
             "line": {
              "color": "white"
             }
            },
            "header": {
             "fill": {
              "color": "#C8D4E3"
             },
             "line": {
              "color": "white"
             }
            },
            "type": "table"
           }
          ]
         },
         "layout": {
          "annotationdefaults": {
           "arrowcolor": "#2a3f5f",
           "arrowhead": 0,
           "arrowwidth": 1
          },
          "autotypenumbers": "strict",
          "coloraxis": {
           "colorbar": {
            "outlinewidth": 0,
            "ticks": ""
           }
          },
          "colorscale": {
           "diverging": [
            [
             0,
             "#8e0152"
            ],
            [
             0.1,
             "#c51b7d"
            ],
            [
             0.2,
             "#de77ae"
            ],
            [
             0.3,
             "#f1b6da"
            ],
            [
             0.4,
             "#fde0ef"
            ],
            [
             0.5,
             "#f7f7f7"
            ],
            [
             0.6,
             "#e6f5d0"
            ],
            [
             0.7,
             "#b8e186"
            ],
            [
             0.8,
             "#7fbc41"
            ],
            [
             0.9,
             "#4d9221"
            ],
            [
             1,
             "#276419"
            ]
           ],
           "sequential": [
            [
             0,
             "#0d0887"
            ],
            [
             0.1111111111111111,
             "#46039f"
            ],
            [
             0.2222222222222222,
             "#7201a8"
            ],
            [
             0.3333333333333333,
             "#9c179e"
            ],
            [
             0.4444444444444444,
             "#bd3786"
            ],
            [
             0.5555555555555556,
             "#d8576b"
            ],
            [
             0.6666666666666666,
             "#ed7953"
            ],
            [
             0.7777777777777778,
             "#fb9f3a"
            ],
            [
             0.8888888888888888,
             "#fdca26"
            ],
            [
             1,
             "#f0f921"
            ]
           ],
           "sequentialminus": [
            [
             0,
             "#0d0887"
            ],
            [
             0.1111111111111111,
             "#46039f"
            ],
            [
             0.2222222222222222,
             "#7201a8"
            ],
            [
             0.3333333333333333,
             "#9c179e"
            ],
            [
             0.4444444444444444,
             "#bd3786"
            ],
            [
             0.5555555555555556,
             "#d8576b"
            ],
            [
             0.6666666666666666,
             "#ed7953"
            ],
            [
             0.7777777777777778,
             "#fb9f3a"
            ],
            [
             0.8888888888888888,
             "#fdca26"
            ],
            [
             1,
             "#f0f921"
            ]
           ]
          },
          "colorway": [
           "#636efa",
           "#EF553B",
           "#00cc96",
           "#ab63fa",
           "#FFA15A",
           "#19d3f3",
           "#FF6692",
           "#B6E880",
           "#FF97FF",
           "#FECB52"
          ],
          "font": {
           "color": "#2a3f5f"
          },
          "geo": {
           "bgcolor": "white",
           "lakecolor": "white",
           "landcolor": "white",
           "showlakes": true,
           "showland": true,
           "subunitcolor": "#C8D4E3"
          },
          "hoverlabel": {
           "align": "left"
          },
          "hovermode": "closest",
          "mapbox": {
           "style": "light"
          },
          "paper_bgcolor": "white",
          "plot_bgcolor": "white",
          "polar": {
           "angularaxis": {
            "gridcolor": "#EBF0F8",
            "linecolor": "#EBF0F8",
            "ticks": ""
           },
           "bgcolor": "white",
           "radialaxis": {
            "gridcolor": "#EBF0F8",
            "linecolor": "#EBF0F8",
            "ticks": ""
           }
          },
          "scene": {
           "xaxis": {
            "backgroundcolor": "white",
            "gridcolor": "#DFE8F3",
            "gridwidth": 2,
            "linecolor": "#EBF0F8",
            "showbackground": true,
            "ticks": "",
            "zerolinecolor": "#EBF0F8"
           },
           "yaxis": {
            "backgroundcolor": "white",
            "gridcolor": "#DFE8F3",
            "gridwidth": 2,
            "linecolor": "#EBF0F8",
            "showbackground": true,
            "ticks": "",
            "zerolinecolor": "#EBF0F8"
           },
           "zaxis": {
            "backgroundcolor": "white",
            "gridcolor": "#DFE8F3",
            "gridwidth": 2,
            "linecolor": "#EBF0F8",
            "showbackground": true,
            "ticks": "",
            "zerolinecolor": "#EBF0F8"
           }
          },
          "shapedefaults": {
           "line": {
            "color": "#2a3f5f"
           }
          },
          "ternary": {
           "aaxis": {
            "gridcolor": "#DFE8F3",
            "linecolor": "#A2B1C6",
            "ticks": ""
           },
           "baxis": {
            "gridcolor": "#DFE8F3",
            "linecolor": "#A2B1C6",
            "ticks": ""
           },
           "bgcolor": "white",
           "caxis": {
            "gridcolor": "#DFE8F3",
            "linecolor": "#A2B1C6",
            "ticks": ""
           }
          },
          "title": {
           "x": 0.05
          },
          "xaxis": {
           "automargin": true,
           "gridcolor": "#EBF0F8",
           "linecolor": "#EBF0F8",
           "ticks": "",
           "title": {
            "standoff": 15
           },
           "zerolinecolor": "#EBF0F8",
           "zerolinewidth": 2
          },
          "yaxis": {
           "automargin": true,
           "gridcolor": "#EBF0F8",
           "linecolor": "#EBF0F8",
           "ticks": "",
           "title": {
            "standoff": 15
           },
           "zerolinecolor": "#EBF0F8",
           "zerolinewidth": 2
          }
         }
        },
        "title": {
         "text": "24CS Stock Candlestick Chart with Volume"
        },
        "width": 950,
        "xaxis": {
         "rangeslider": {
          "visible": false
         },
         "title": {
          "text": "Date"
         }
        },
        "yaxis": {
         "domain": [
          0.3,
          1
         ],
         "title": {
          "text": "Price"
         }
        },
        "yaxis2": {
         "domain": [
          0,
          0.25
         ],
         "title": {
          "text": "Volume"
         }
        }
       }
      }
     },
     "metadata": {},
     "output_type": "display_data"
    }
   ],
   "source": [
    "import plotly.graph_objects as go\n",
    "\n",
    "# 🔹 เลือกเฉพาะหุ้น 24CS\n",
    "ohlc_df = df_cand[df_cand[\"symbol\"] == \"24CS\"].copy()\n",
    "\n",
    "# 🔹 จัดการ index\n",
    "ohlc_df[\"time\"] = pd.to_datetime(ohlc_df[\"time\"])\n",
    "ohlc_df = ohlc_df.sort_values(\"time\")\n",
    "ohlc_df = ohlc_df.set_index(\"time\")\n",
    "ohlc_df.index.name = \"Date\"\n",
    "\n",
    "# 🔹 Rename columns ให้ตรงกับ Plotly\n",
    "ohlc_df = ohlc_df.rename(columns={\n",
    "    \"open_price\": \"Open\",\n",
    "    \"high_price\": \"High\",\n",
    "    \"low_price\": \"Low\",\n",
    "    \"close_price\": \"Close\",\n",
    "    \"volume\": \"Volume\"\n",
    "})\n",
    "\n",
    "# 🔹 เลือกแค่ 200 วันล่าสุด (เพื่อให้ดูง่าย)\n",
    "ohlc_df = ohlc_df.tail(200)\n",
    "\n",
    "# ✅ วาดกราฟ Candlestick\n",
    "fig = go.Figure(data=[go.Candlestick(\n",
    "    x=ohlc_df.index,\n",
    "    open=ohlc_df['Open'],\n",
    "    high=ohlc_df['High'],\n",
    "    low=ohlc_df['Low'],\n",
    "    close=ohlc_df['Close'],\n",
    "    name=\"Candlestick\"\n",
    ")])\n",
    "\n",
    "# ✅ เพิ่ม Volume\n",
    "fig.add_trace(go.Bar(\n",
    "    x=ohlc_df.index,\n",
    "    y=ohlc_df['Volume'],\n",
    "    name=\"Volume\",\n",
    "    marker_color=\"lightblue\",\n",
    "    opacity=0.5,\n",
    "    yaxis=\"y2\"\n",
    "))\n",
    "\n",
    "# ✅ Layout\n",
    "fig.update_layout(\n",
    "    title=\"24CS Stock Candlestick Chart with Volume\",\n",
    "    yaxis=dict(title=\"Price\", domain=[0.3, 1]),\n",
    "    yaxis2=dict(title=\"Volume\", domain=[0, 0.25]),\n",
    "    xaxis=dict(title=\"Date\"),\n",
    "    xaxis_rangeslider_visible=False,\n",
    "    template=\"plotly_white\",\n",
    "    width=950,\n",
    "    height=600\n",
    ")\n",
    "\n",
    "fig.show()\n"
   ]
  },
  {
   "cell_type": "markdown",
   "id": "ab1e7f64",
   "metadata": {},
   "source": [
    "🔵 EMA5 = ระยะสั้น, สัญญาณไว\n",
    "🟠 EMA15 = ระยะกลาง, ช่วยกรองสัญญาณ\n",
    "🟢 EMA35 = แนวโน้มกลาง\n",
    "🟣 EMA89 = แนวโน้มหลัก\n",
    "🔴 EMA200 = แนวโน้มระยะยาว (เส้นใหญ่สุด)"
   ]
  },
  {
   "cell_type": "code",
   "execution_count": 165,
   "id": "fb01f8d3",
   "metadata": {},
   "outputs": [
    {
     "data": {
      "application/vnd.plotly.v1+json": {
       "config": {
        "plotlyServerURL": "https://plot.ly"
       },
       "data": [
        {
         "close": {
          "bdata": "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",
          "dtype": "f8"
         },
         "high": {
          "bdata": "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",
          "dtype": "f8"
         },
         "low": {
          "bdata": "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",
          "dtype": "f8"
         },
         "name": "Candlestick",
         "open": {
          "bdata": "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",
          "dtype": "f8"
         },
         "type": "candlestick",
         "x": [
          "2024-08-02T00:00:00.000000000",
          "2024-08-05T00:00:00.000000000",
          "2024-08-06T00:00:00.000000000",
          "2024-08-07T00:00:00.000000000",
          "2024-08-08T00:00:00.000000000",
          "2024-08-09T00:00:00.000000000",
          "2024-08-13T00:00:00.000000000",
          "2024-08-14T00:00:00.000000000",
          "2024-08-15T00:00:00.000000000",
          "2024-08-16T00:00:00.000000000",
          "2024-08-19T00:00:00.000000000",
          "2024-08-20T00:00:00.000000000",
          "2024-08-21T00:00:00.000000000",
          "2024-08-22T00:00:00.000000000",
          "2024-08-23T00:00:00.000000000",
          "2024-08-26T00:00:00.000000000",
          "2024-08-27T00:00:00.000000000",
          "2024-08-28T00:00:00.000000000",
          "2024-08-29T00:00:00.000000000",
          "2024-08-30T00:00:00.000000000",
          "2024-09-02T00:00:00.000000000",
          "2024-09-03T00:00:00.000000000",
          "2024-09-04T00:00:00.000000000",
          "2024-09-05T00:00:00.000000000",
          "2024-09-06T00:00:00.000000000",
          "2024-09-09T00:00:00.000000000",
          "2024-09-10T00:00:00.000000000",
          "2024-09-11T00:00:00.000000000",
          "2024-09-12T00:00:00.000000000",
          "2024-09-13T00:00:00.000000000",
          "2024-09-16T00:00:00.000000000",
          "2024-09-17T00:00:00.000000000",
          "2024-09-18T00:00:00.000000000",
          "2024-09-19T00:00:00.000000000",
          "2024-09-20T00:00:00.000000000",
          "2024-09-23T00:00:00.000000000",
          "2024-09-24T00:00:00.000000000",
          "2024-09-25T00:00:00.000000000",
          "2024-09-26T00:00:00.000000000",
          "2024-09-27T00:00:00.000000000",
          "2024-09-30T00:00:00.000000000",
          "2024-10-01T00:00:00.000000000",
          "2024-10-02T00:00:00.000000000",
          "2024-10-03T00:00:00.000000000",
          "2024-10-04T00:00:00.000000000",
          "2024-10-07T00:00:00.000000000",
          "2024-10-08T00:00:00.000000000",
          "2024-10-09T00:00:00.000000000",
          "2024-10-10T00:00:00.000000000",
          "2024-10-11T00:00:00.000000000",
          "2024-10-15T00:00:00.000000000",
          "2024-10-16T00:00:00.000000000",
          "2024-10-17T00:00:00.000000000",
          "2024-10-18T00:00:00.000000000",
          "2024-10-21T00:00:00.000000000",
          "2024-10-22T00:00:00.000000000",
          "2024-10-24T00:00:00.000000000",
          "2024-10-25T00:00:00.000000000",
          "2024-10-28T00:00:00.000000000",
          "2024-10-29T00:00:00.000000000",
          "2024-10-30T00:00:00.000000000",
          "2024-10-31T00:00:00.000000000",
          "2024-11-01T00:00:00.000000000",
          "2024-11-04T00:00:00.000000000",
          "2024-11-05T00:00:00.000000000",
          "2024-11-06T00:00:00.000000000",
          "2024-11-07T00:00:00.000000000",
          "2024-11-08T00:00:00.000000000",
          "2024-11-11T00:00:00.000000000",
          "2024-11-12T00:00:00.000000000",
          "2024-11-13T00:00:00.000000000",
          "2024-11-14T00:00:00.000000000",
          "2024-11-15T00:00:00.000000000",
          "2024-11-18T00:00:00.000000000",
          "2024-11-19T00:00:00.000000000",
          "2024-11-20T00:00:00.000000000",
          "2024-11-21T00:00:00.000000000",
          "2024-11-22T00:00:00.000000000",
          "2024-11-25T00:00:00.000000000",
          "2024-11-26T00:00:00.000000000",
          "2024-11-27T00:00:00.000000000",
          "2024-11-28T00:00:00.000000000",
          "2024-11-29T00:00:00.000000000",
          "2024-12-02T00:00:00.000000000",
          "2024-12-03T00:00:00.000000000",
          "2024-12-04T00:00:00.000000000",
          "2024-12-06T00:00:00.000000000",
          "2024-12-09T00:00:00.000000000",
          "2024-12-11T00:00:00.000000000",
          "2024-12-12T00:00:00.000000000",
          "2024-12-13T00:00:00.000000000",
          "2024-12-16T00:00:00.000000000",
          "2024-12-17T00:00:00.000000000",
          "2024-12-18T00:00:00.000000000",
          "2024-12-19T00:00:00.000000000",
          "2024-12-20T00:00:00.000000000",
          "2024-12-23T00:00:00.000000000",
          "2024-12-24T00:00:00.000000000",
          "2024-12-25T00:00:00.000000000",
          "2024-12-26T00:00:00.000000000",
          "2024-12-27T00:00:00.000000000",
          "2024-12-30T00:00:00.000000000",
          "2025-01-02T00:00:00.000000000",
          "2025-01-03T00:00:00.000000000",
          "2025-01-06T00:00:00.000000000",
          "2025-01-07T00:00:00.000000000",
          "2025-01-08T00:00:00.000000000",
          "2025-01-09T00:00:00.000000000",
          "2025-01-10T00:00:00.000000000",
          "2025-01-13T00:00:00.000000000",
          "2025-01-14T00:00:00.000000000",
          "2025-01-15T00:00:00.000000000",
          "2025-01-16T00:00:00.000000000",
          "2025-01-17T00:00:00.000000000",
          "2025-01-20T00:00:00.000000000",
          "2025-01-21T00:00:00.000000000",
          "2025-01-22T00:00:00.000000000",
          "2025-01-23T00:00:00.000000000",
          "2025-01-24T00:00:00.000000000",
          "2025-01-27T00:00:00.000000000",
          "2025-01-28T00:00:00.000000000",
          "2025-01-29T00:00:00.000000000",
          "2025-01-30T00:00:00.000000000",
          "2025-01-31T00:00:00.000000000",
          "2025-02-03T00:00:00.000000000",
          "2025-02-04T00:00:00.000000000",
          "2025-02-05T00:00:00.000000000",
          "2025-02-06T00:00:00.000000000",
          "2025-02-07T00:00:00.000000000",
          "2025-02-10T00:00:00.000000000",
          "2025-02-11T00:00:00.000000000",
          "2025-02-13T00:00:00.000000000",
          "2025-02-14T00:00:00.000000000",
          "2025-02-17T00:00:00.000000000",
          "2025-02-18T00:00:00.000000000",
          "2025-02-19T00:00:00.000000000",
          "2025-02-20T00:00:00.000000000",
          "2025-02-21T00:00:00.000000000",
          "2025-02-24T00:00:00.000000000",
          "2025-02-25T00:00:00.000000000",
          "2025-02-26T00:00:00.000000000",
          "2025-02-27T00:00:00.000000000",
          "2025-02-28T00:00:00.000000000",
          "2025-03-03T00:00:00.000000000",
          "2025-03-04T00:00:00.000000000",
          "2025-03-05T00:00:00.000000000",
          "2025-03-06T00:00:00.000000000",
          "2025-03-07T00:00:00.000000000",
          "2025-03-10T00:00:00.000000000",
          "2025-03-11T00:00:00.000000000",
          "2025-03-12T00:00:00.000000000",
          "2025-03-13T00:00:00.000000000",
          "2025-03-14T00:00:00.000000000",
          "2025-03-17T00:00:00.000000000",
          "2025-03-18T00:00:00.000000000",
          "2025-03-19T00:00:00.000000000",
          "2025-03-20T00:00:00.000000000",
          "2025-03-21T00:00:00.000000000",
          "2025-03-24T00:00:00.000000000",
          "2025-03-25T00:00:00.000000000",
          "2025-03-26T00:00:00.000000000",
          "2025-03-27T00:00:00.000000000",
          "2025-03-28T00:00:00.000000000",
          "2025-03-31T00:00:00.000000000",
          "2025-04-01T00:00:00.000000000",
          "2025-04-02T00:00:00.000000000",
          "2025-04-03T00:00:00.000000000",
          "2025-04-04T00:00:00.000000000",
          "2025-04-08T00:00:00.000000000",
          "2025-04-09T00:00:00.000000000",
          "2025-04-10T00:00:00.000000000",
          "2025-04-11T00:00:00.000000000",
          "2025-04-16T00:00:00.000000000",
          "2025-04-17T00:00:00.000000000",
          "2025-04-18T00:00:00.000000000",
          "2025-04-21T00:00:00.000000000",
          "2025-04-22T00:00:00.000000000",
          "2025-04-23T00:00:00.000000000",
          "2025-04-24T00:00:00.000000000",
          "2025-04-25T00:00:00.000000000",
          "2025-04-28T00:00:00.000000000",
          "2025-04-29T00:00:00.000000000",
          "2025-04-30T00:00:00.000000000",
          "2025-05-02T00:00:00.000000000",
          "2025-05-06T00:00:00.000000000",
          "2025-05-07T00:00:00.000000000",
          "2025-05-08T00:00:00.000000000",
          "2025-05-09T00:00:00.000000000",
          "2025-05-13T00:00:00.000000000",
          "2025-05-14T00:00:00.000000000",
          "2025-05-15T00:00:00.000000000",
          "2025-05-16T00:00:00.000000000",
          "2025-05-19T00:00:00.000000000",
          "2025-05-20T00:00:00.000000000",
          "2025-05-21T00:00:00.000000000",
          "2025-05-22T00:00:00.000000000",
          "2025-05-23T00:00:00.000000000",
          "2025-05-26T00:00:00.000000000",
          "2025-05-27T00:00:00.000000000",
          "2025-05-28T00:00:00.000000000"
         ]
        },
        {
         "line": {
          "color": "blue",
          "width": 2
         },
         "mode": "lines",
         "name": "EMA5",
         "type": "scatter",
         "x": [
          "2024-08-02T00:00:00.000000000",
          "2024-08-05T00:00:00.000000000",
          "2024-08-06T00:00:00.000000000",
          "2024-08-07T00:00:00.000000000",
          "2024-08-08T00:00:00.000000000",
          "2024-08-09T00:00:00.000000000",
          "2024-08-13T00:00:00.000000000",
          "2024-08-14T00:00:00.000000000",
          "2024-08-15T00:00:00.000000000",
          "2024-08-16T00:00:00.000000000",
          "2024-08-19T00:00:00.000000000",
          "2024-08-20T00:00:00.000000000",
          "2024-08-21T00:00:00.000000000",
          "2024-08-22T00:00:00.000000000",
          "2024-08-23T00:00:00.000000000",
          "2024-08-26T00:00:00.000000000",
          "2024-08-27T00:00:00.000000000",
          "2024-08-28T00:00:00.000000000",
          "2024-08-29T00:00:00.000000000",
          "2024-08-30T00:00:00.000000000",
          "2024-09-02T00:00:00.000000000",
          "2024-09-03T00:00:00.000000000",
          "2024-09-04T00:00:00.000000000",
          "2024-09-05T00:00:00.000000000",
          "2024-09-06T00:00:00.000000000",
          "2024-09-09T00:00:00.000000000",
          "2024-09-10T00:00:00.000000000",
          "2024-09-11T00:00:00.000000000",
          "2024-09-12T00:00:00.000000000",
          "2024-09-13T00:00:00.000000000",
          "2024-09-16T00:00:00.000000000",
          "2024-09-17T00:00:00.000000000",
          "2024-09-18T00:00:00.000000000",
          "2024-09-19T00:00:00.000000000",
          "2024-09-20T00:00:00.000000000",
          "2024-09-23T00:00:00.000000000",
          "2024-09-24T00:00:00.000000000",
          "2024-09-25T00:00:00.000000000",
          "2024-09-26T00:00:00.000000000",
          "2024-09-27T00:00:00.000000000",
          "2024-09-30T00:00:00.000000000",
          "2024-10-01T00:00:00.000000000",
          "2024-10-02T00:00:00.000000000",
          "2024-10-03T00:00:00.000000000",
          "2024-10-04T00:00:00.000000000",
          "2024-10-07T00:00:00.000000000",
          "2024-10-08T00:00:00.000000000",
          "2024-10-09T00:00:00.000000000",
          "2024-10-10T00:00:00.000000000",
          "2024-10-11T00:00:00.000000000",
          "2024-10-15T00:00:00.000000000",
          "2024-10-16T00:00:00.000000000",
          "2024-10-17T00:00:00.000000000",
          "2024-10-18T00:00:00.000000000",
          "2024-10-21T00:00:00.000000000",
          "2024-10-22T00:00:00.000000000",
          "2024-10-24T00:00:00.000000000",
          "2024-10-25T00:00:00.000000000",
          "2024-10-28T00:00:00.000000000",
          "2024-10-29T00:00:00.000000000",
          "2024-10-30T00:00:00.000000000",
          "2024-10-31T00:00:00.000000000",
          "2024-11-01T00:00:00.000000000",
          "2024-11-04T00:00:00.000000000",
          "2024-11-05T00:00:00.000000000",
          "2024-11-06T00:00:00.000000000",
          "2024-11-07T00:00:00.000000000",
          "2024-11-08T00:00:00.000000000",
          "2024-11-11T00:00:00.000000000",
          "2024-11-12T00:00:00.000000000",
          "2024-11-13T00:00:00.000000000",
          "2024-11-14T00:00:00.000000000",
          "2024-11-15T00:00:00.000000000",
          "2024-11-18T00:00:00.000000000",
          "2024-11-19T00:00:00.000000000",
          "2024-11-20T00:00:00.000000000",
          "2024-11-21T00:00:00.000000000",
          "2024-11-22T00:00:00.000000000",
          "2024-11-25T00:00:00.000000000",
          "2024-11-26T00:00:00.000000000",
          "2024-11-27T00:00:00.000000000",
          "2024-11-28T00:00:00.000000000",
          "2024-11-29T00:00:00.000000000",
          "2024-12-02T00:00:00.000000000",
          "2024-12-03T00:00:00.000000000",
          "2024-12-04T00:00:00.000000000",
          "2024-12-06T00:00:00.000000000",
          "2024-12-09T00:00:00.000000000",
          "2024-12-11T00:00:00.000000000",
          "2024-12-12T00:00:00.000000000",
          "2024-12-13T00:00:00.000000000",
          "2024-12-16T00:00:00.000000000",
          "2024-12-17T00:00:00.000000000",
          "2024-12-18T00:00:00.000000000",
          "2024-12-19T00:00:00.000000000",
          "2024-12-20T00:00:00.000000000",
          "2024-12-23T00:00:00.000000000",
          "2024-12-24T00:00:00.000000000",
          "2024-12-25T00:00:00.000000000",
          "2024-12-26T00:00:00.000000000",
          "2024-12-27T00:00:00.000000000",
          "2024-12-30T00:00:00.000000000",
          "2025-01-02T00:00:00.000000000",
          "2025-01-03T00:00:00.000000000",
          "2025-01-06T00:00:00.000000000",
          "2025-01-07T00:00:00.000000000",
          "2025-01-08T00:00:00.000000000",
          "2025-01-09T00:00:00.000000000",
          "2025-01-10T00:00:00.000000000",
          "2025-01-13T00:00:00.000000000",
          "2025-01-14T00:00:00.000000000",
          "2025-01-15T00:00:00.000000000",
          "2025-01-16T00:00:00.000000000",
          "2025-01-17T00:00:00.000000000",
          "2025-01-20T00:00:00.000000000",
          "2025-01-21T00:00:00.000000000",
          "2025-01-22T00:00:00.000000000",
          "2025-01-23T00:00:00.000000000",
          "2025-01-24T00:00:00.000000000",
          "2025-01-27T00:00:00.000000000",
          "2025-01-28T00:00:00.000000000",
          "2025-01-29T00:00:00.000000000",
          "2025-01-30T00:00:00.000000000",
          "2025-01-31T00:00:00.000000000",
          "2025-02-03T00:00:00.000000000",
          "2025-02-04T00:00:00.000000000",
          "2025-02-05T00:00:00.000000000",
          "2025-02-06T00:00:00.000000000",
          "2025-02-07T00:00:00.000000000",
          "2025-02-10T00:00:00.000000000",
          "2025-02-11T00:00:00.000000000",
          "2025-02-13T00:00:00.000000000",
          "2025-02-14T00:00:00.000000000",
          "2025-02-17T00:00:00.000000000",
          "2025-02-18T00:00:00.000000000",
          "2025-02-19T00:00:00.000000000",
          "2025-02-20T00:00:00.000000000",
          "2025-02-21T00:00:00.000000000",
          "2025-02-24T00:00:00.000000000",
          "2025-02-25T00:00:00.000000000",
          "2025-02-26T00:00:00.000000000",
          "2025-02-27T00:00:00.000000000",
          "2025-02-28T00:00:00.000000000",
          "2025-03-03T00:00:00.000000000",
          "2025-03-04T00:00:00.000000000",
          "2025-03-05T00:00:00.000000000",
          "2025-03-06T00:00:00.000000000",
          "2025-03-07T00:00:00.000000000",
          "2025-03-10T00:00:00.000000000",
          "2025-03-11T00:00:00.000000000",
          "2025-03-12T00:00:00.000000000",
          "2025-03-13T00:00:00.000000000",
          "2025-03-14T00:00:00.000000000",
          "2025-03-17T00:00:00.000000000",
          "2025-03-18T00:00:00.000000000",
          "2025-03-19T00:00:00.000000000",
          "2025-03-20T00:00:00.000000000",
          "2025-03-21T00:00:00.000000000",
          "2025-03-24T00:00:00.000000000",
          "2025-03-25T00:00:00.000000000",
          "2025-03-26T00:00:00.000000000",
          "2025-03-27T00:00:00.000000000",
          "2025-03-28T00:00:00.000000000",
          "2025-03-31T00:00:00.000000000",
          "2025-04-01T00:00:00.000000000",
          "2025-04-02T00:00:00.000000000",
          "2025-04-03T00:00:00.000000000",
          "2025-04-04T00:00:00.000000000",
          "2025-04-08T00:00:00.000000000",
          "2025-04-09T00:00:00.000000000",
          "2025-04-10T00:00:00.000000000",
          "2025-04-11T00:00:00.000000000",
          "2025-04-16T00:00:00.000000000",
          "2025-04-17T00:00:00.000000000",
          "2025-04-18T00:00:00.000000000",
          "2025-04-21T00:00:00.000000000",
          "2025-04-22T00:00:00.000000000",
          "2025-04-23T00:00:00.000000000",
          "2025-04-24T00:00:00.000000000",
          "2025-04-25T00:00:00.000000000",
          "2025-04-28T00:00:00.000000000",
          "2025-04-29T00:00:00.000000000",
          "2025-04-30T00:00:00.000000000",
          "2025-05-02T00:00:00.000000000",
          "2025-05-06T00:00:00.000000000",
          "2025-05-07T00:00:00.000000000",
          "2025-05-08T00:00:00.000000000",
          "2025-05-09T00:00:00.000000000",
          "2025-05-13T00:00:00.000000000",
          "2025-05-14T00:00:00.000000000",
          "2025-05-15T00:00:00.000000000",
          "2025-05-16T00:00:00.000000000",
          "2025-05-19T00:00:00.000000000",
          "2025-05-20T00:00:00.000000000",
          "2025-05-21T00:00:00.000000000",
          "2025-05-22T00:00:00.000000000",
          "2025-05-23T00:00:00.000000000",
          "2025-05-26T00:00:00.000000000",
          "2025-05-27T00:00:00.000000000",
          "2025-05-28T00:00:00.000000000"
         ],
         "y": {
          "bdata": "AAAAwB6FEUAAAABA0GkRQKuqqipDZRFAchzHUbV2EUBMaC/BVoIRQN6aH3ZwfBFAP2dq+UqoEUAqmvEwZaMRQMdm9jX/fRFAhUSk7jxeEUCuLRjfMmsRQB/JuvSVzBFAatvRbaGSEUCc54ver1ARQL7vBx+NKxFAf0oF6p4ZEUBV3FixJSIRQI49O1aGDBFAX34nZMMLEUCVqW/NCjsRQA5xSh68UxFAtKAx9AVrEUB4wMsiYIERQKbVh+xGkBFAxOOvHTaaEUDYl8rzAZoRQJC6MQ29dxFAYHx2Mz1TEUDrUqQXCl0RQPLhwk9mahFAopYs1XpsEUBsZMi4u0sRQEiYhbA/KBFA27oDS2sXEUDo0VcHMwwRQPCLOlraJhFA9gcn3A92EUCkWm9dnQMSQBjn9CitRhJAZu9NO0BREkDv9DMy9GUSQKD4dyGVehJAwKX6oDNmEkDWw1FrIkQSQOTXiwco6RFAmDpdGoGsEUBmfJMxPn0RQO9SYrZtQhFASjfs7hX5EEDcJEhfZ5gQQOhthT+aZRBANj0Hyu/+D0Akfq8GX60PQBlUyjm6Mg9AvOKGhqjFDkB+7FlEXx0OQP/yOzjBDA5AAKLSeo58DkCrFjdHepAOQHNkz6Rzgg5Ao+0043xCDkAYSSOifyUOQGbbbOGEBA5A7zzzYIjuDUBL00zLONINQN2MiMcUew1APrMFhVUzDUB/d674/rQNQKtPdHAh8A1Ac4pNAPu3DUBNXN4KjJINQDToPqc+hw1AI/ApOmdkDUAYoMYmNyQNQGYVL+8d3gxARA7KtM9PDEDYXjEjNTUMQObpIAKD+gtA75vAFhO4C0BKvdV5yIsLQIjT41sHAQtABo1CnYakCkBas4HzjEsKQOjMq9c7EApA8N3Hb7DoCUD2k9p/8AQKQFAN558eCgpAjLNENUTyCUBeIoMDttQJQJXBrBdvYQlAZNYdZZ/rCEBD5BOu0FgIQC2YYonx9gdAHhCX2wqoB0C/CrrHyWUHQNWxJmUBAwdAOSFvw2oFB0B8a5+XrRQHQFPyFCXaHgdAOExjQ/sXB0B73eysA0oHQFI+8x0QUAdAN9RMaRhUB0AlODPm4z4IQBrQzE4nlwhAEuDdKUMWCUC46pMmvCYJQCZHDe9oFglAGtoIit/9CEASPFvxg+0IQLfSPDZidQhA0OF9uUslCEDh61Omjv0HQEGd4g4lkQdA1mjsKZAtB0A6m53mLOsGQHxnvvn0lQZAqO9+htZBBkAb9al5aRcGQBJOcQbICAZADDT2jvJQBkAIePkpGVgGQFul+5t6kwZAPW5SXcKfBkB+SYxz/H4GQP8wCK1xhAZAqiCwqCk2BkBywMql+QEGQKLVMfnLFQZAFzkhZourBkC60MAOf5QGQNI1K//SaQZAjM4cimokBkBeNBPc6ogFQJTNDKhK+ARAuDOzGiTcBEDQd3e8X8kEQOBP+tI/hgRAQDX84X9ZBECAI6hWAy4EQKsXcKQFEQRAyA+gjdCCA0AwtWp+yLYCQHYjR9R+6gFApBfako4JAUDDDzzXjpwAQIIKKDpfaABAAgdwUUYqAEACWvXgLhwAQAI8TutmSQBAV32Jh/kHAEB1/GF/GYL/P6T96/Q5CP8/bv5Hw6ub/j+fqdosHb39PxZxPFMryfw/uqB9F4om/D/SFalPoAj7P+JjG3VnE/o/7JdnIz4o+D/0D0XCfsX2P0612LYkmPY/iiM77/JQ9j+yF9LUHPX0P3e6NsPVQ/Q/UHwkYgmX8z+L/cJ21iPzP7JT15liyfI/zDc6kUjA8T/ezyaG79jwPz81b6kCWvA/qvE+d/Jm7z8codTkSFLuPxQW422aj+4/ZLnsc++S7z/MPaTmmgTwPzMpGC9WR/A/Isa6VBe48D9s2dGNcpnxP/OQNunU7vI/TQvP0AgJ9D80sjSrNZz0P852eEcPuvQ/iqSlr/XN9D9cGBm1ks30Pz4QZoNG9vQ/f7XuzMED9T+qI5+oW0P1P3LCFBs9gvc/99YN0nMq+T9Qj14hAp74P+G06eB4i/Y/7M2bMOpL8z9IiRIbYsXxPzAGt9wbb/A/ll1JBqCo7j9kPoZZslHvP5kpBLFDA+8/ZsYCdrzE7z+a2QGkfdjvPw==",
          "dtype": "f8"
         }
        },
        {
         "line": {
          "color": "orange",
          "width": 2
         },
         "mode": "lines",
         "name": "EMA15",
         "type": "scatter",
         "x": [
          "2024-08-02T00:00:00.000000000",
          "2024-08-05T00:00:00.000000000",
          "2024-08-06T00:00:00.000000000",
          "2024-08-07T00:00:00.000000000",
          "2024-08-08T00:00:00.000000000",
          "2024-08-09T00:00:00.000000000",
          "2024-08-13T00:00:00.000000000",
          "2024-08-14T00:00:00.000000000",
          "2024-08-15T00:00:00.000000000",
          "2024-08-16T00:00:00.000000000",
          "2024-08-19T00:00:00.000000000",
          "2024-08-20T00:00:00.000000000",
          "2024-08-21T00:00:00.000000000",
          "2024-08-22T00:00:00.000000000",
          "2024-08-23T00:00:00.000000000",
          "2024-08-26T00:00:00.000000000",
          "2024-08-27T00:00:00.000000000",
          "2024-08-28T00:00:00.000000000",
          "2024-08-29T00:00:00.000000000",
          "2024-08-30T00:00:00.000000000",
          "2024-09-02T00:00:00.000000000",
          "2024-09-03T00:00:00.000000000",
          "2024-09-04T00:00:00.000000000",
          "2024-09-05T00:00:00.000000000",
          "2024-09-06T00:00:00.000000000",
          "2024-09-09T00:00:00.000000000",
          "2024-09-10T00:00:00.000000000",
          "2024-09-11T00:00:00.000000000",
          "2024-09-12T00:00:00.000000000",
          "2024-09-13T00:00:00.000000000",
          "2024-09-16T00:00:00.000000000",
          "2024-09-17T00:00:00.000000000",
          "2024-09-18T00:00:00.000000000",
          "2024-09-19T00:00:00.000000000",
          "2024-09-20T00:00:00.000000000",
          "2024-09-23T00:00:00.000000000",
          "2024-09-24T00:00:00.000000000",
          "2024-09-25T00:00:00.000000000",
          "2024-09-26T00:00:00.000000000",
          "2024-09-27T00:00:00.000000000",
          "2024-09-30T00:00:00.000000000",
          "2024-10-01T00:00:00.000000000",
          "2024-10-02T00:00:00.000000000",
          "2024-10-03T00:00:00.000000000",
          "2024-10-04T00:00:00.000000000",
          "2024-10-07T00:00:00.000000000",
          "2024-10-08T00:00:00.000000000",
          "2024-10-09T00:00:00.000000000",
          "2024-10-10T00:00:00.000000000",
          "2024-10-11T00:00:00.000000000",
          "2024-10-15T00:00:00.000000000",
          "2024-10-16T00:00:00.000000000",
          "2024-10-17T00:00:00.000000000",
          "2024-10-18T00:00:00.000000000",
          "2024-10-21T00:00:00.000000000",
          "2024-10-22T00:00:00.000000000",
          "2024-10-24T00:00:00.000000000",
          "2024-10-25T00:00:00.000000000",
          "2024-10-28T00:00:00.000000000",
          "2024-10-29T00:00:00.000000000",
          "2024-10-30T00:00:00.000000000",
          "2024-10-31T00:00:00.000000000",
          "2024-11-01T00:00:00.000000000",
          "2024-11-04T00:00:00.000000000",
          "2024-11-05T00:00:00.000000000",
          "2024-11-06T00:00:00.000000000",
          "2024-11-07T00:00:00.000000000",
          "2024-11-08T00:00:00.000000000",
          "2024-11-11T00:00:00.000000000",
          "2024-11-12T00:00:00.000000000",
          "2024-11-13T00:00:00.000000000",
          "2024-11-14T00:00:00.000000000",
          "2024-11-15T00:00:00.000000000",
          "2024-11-18T00:00:00.000000000",
          "2024-11-19T00:00:00.000000000",
          "2024-11-20T00:00:00.000000000",
          "2024-11-21T00:00:00.000000000",
          "2024-11-22T00:00:00.000000000",
          "2024-11-25T00:00:00.000000000",
          "2024-11-26T00:00:00.000000000",
          "2024-11-27T00:00:00.000000000",
          "2024-11-28T00:00:00.000000000",
          "2024-11-29T00:00:00.000000000",
          "2024-12-02T00:00:00.000000000",
          "2024-12-03T00:00:00.000000000",
          "2024-12-04T00:00:00.000000000",
          "2024-12-06T00:00:00.000000000",
          "2024-12-09T00:00:00.000000000",
          "2024-12-11T00:00:00.000000000",
          "2024-12-12T00:00:00.000000000",
          "2024-12-13T00:00:00.000000000",
          "2024-12-16T00:00:00.000000000",
          "2024-12-17T00:00:00.000000000",
          "2024-12-18T00:00:00.000000000",
          "2024-12-19T00:00:00.000000000",
          "2024-12-20T00:00:00.000000000",
          "2024-12-23T00:00:00.000000000",
          "2024-12-24T00:00:00.000000000",
          "2024-12-25T00:00:00.000000000",
          "2024-12-26T00:00:00.000000000",
          "2024-12-27T00:00:00.000000000",
          "2024-12-30T00:00:00.000000000",
          "2025-01-02T00:00:00.000000000",
          "2025-01-03T00:00:00.000000000",
          "2025-01-06T00:00:00.000000000",
          "2025-01-07T00:00:00.000000000",
          "2025-01-08T00:00:00.000000000",
          "2025-01-09T00:00:00.000000000",
          "2025-01-10T00:00:00.000000000",
          "2025-01-13T00:00:00.000000000",
          "2025-01-14T00:00:00.000000000",
          "2025-01-15T00:00:00.000000000",
          "2025-01-16T00:00:00.000000000",
          "2025-01-17T00:00:00.000000000",
          "2025-01-20T00:00:00.000000000",
          "2025-01-21T00:00:00.000000000",
          "2025-01-22T00:00:00.000000000",
          "2025-01-23T00:00:00.000000000",
          "2025-01-24T00:00:00.000000000",
          "2025-01-27T00:00:00.000000000",
          "2025-01-28T00:00:00.000000000",
          "2025-01-29T00:00:00.000000000",
          "2025-01-30T00:00:00.000000000",
          "2025-01-31T00:00:00.000000000",
          "2025-02-03T00:00:00.000000000",
          "2025-02-04T00:00:00.000000000",
          "2025-02-05T00:00:00.000000000",
          "2025-02-06T00:00:00.000000000",
          "2025-02-07T00:00:00.000000000",
          "2025-02-10T00:00:00.000000000",
          "2025-02-11T00:00:00.000000000",
          "2025-02-13T00:00:00.000000000",
          "2025-02-14T00:00:00.000000000",
          "2025-02-17T00:00:00.000000000",
          "2025-02-18T00:00:00.000000000",
          "2025-02-19T00:00:00.000000000",
          "2025-02-20T00:00:00.000000000",
          "2025-02-21T00:00:00.000000000",
          "2025-02-24T00:00:00.000000000",
          "2025-02-25T00:00:00.000000000",
          "2025-02-26T00:00:00.000000000",
          "2025-02-27T00:00:00.000000000",
          "2025-02-28T00:00:00.000000000",
          "2025-03-03T00:00:00.000000000",
          "2025-03-04T00:00:00.000000000",
          "2025-03-05T00:00:00.000000000",
          "2025-03-06T00:00:00.000000000",
          "2025-03-07T00:00:00.000000000",
          "2025-03-10T00:00:00.000000000",
          "2025-03-11T00:00:00.000000000",
          "2025-03-12T00:00:00.000000000",
          "2025-03-13T00:00:00.000000000",
          "2025-03-14T00:00:00.000000000",
          "2025-03-17T00:00:00.000000000",
          "2025-03-18T00:00:00.000000000",
          "2025-03-19T00:00:00.000000000",
          "2025-03-20T00:00:00.000000000",
          "2025-03-21T00:00:00.000000000",
          "2025-03-24T00:00:00.000000000",
          "2025-03-25T00:00:00.000000000",
          "2025-03-26T00:00:00.000000000",
          "2025-03-27T00:00:00.000000000",
          "2025-03-28T00:00:00.000000000",
          "2025-03-31T00:00:00.000000000",
          "2025-04-01T00:00:00.000000000",
          "2025-04-02T00:00:00.000000000",
          "2025-04-03T00:00:00.000000000",
          "2025-04-04T00:00:00.000000000",
          "2025-04-08T00:00:00.000000000",
          "2025-04-09T00:00:00.000000000",
          "2025-04-10T00:00:00.000000000",
          "2025-04-11T00:00:00.000000000",
          "2025-04-16T00:00:00.000000000",
          "2025-04-17T00:00:00.000000000",
          "2025-04-18T00:00:00.000000000",
          "2025-04-21T00:00:00.000000000",
          "2025-04-22T00:00:00.000000000",
          "2025-04-23T00:00:00.000000000",
          "2025-04-24T00:00:00.000000000",
          "2025-04-25T00:00:00.000000000",
          "2025-04-28T00:00:00.000000000",
          "2025-04-29T00:00:00.000000000",
          "2025-04-30T00:00:00.000000000",
          "2025-05-02T00:00:00.000000000",
          "2025-05-06T00:00:00.000000000",
          "2025-05-07T00:00:00.000000000",
          "2025-05-08T00:00:00.000000000",
          "2025-05-09T00:00:00.000000000",
          "2025-05-13T00:00:00.000000000",
          "2025-05-14T00:00:00.000000000",
          "2025-05-15T00:00:00.000000000",
          "2025-05-16T00:00:00.000000000",
          "2025-05-19T00:00:00.000000000",
          "2025-05-20T00:00:00.000000000",
          "2025-05-21T00:00:00.000000000",
          "2025-05-22T00:00:00.000000000",
          "2025-05-23T00:00:00.000000000",
          "2025-05-26T00:00:00.000000000",
          "2025-05-27T00:00:00.000000000",
          "2025-05-28T00:00:00.000000000"
         ],
         "y": {
          "bdata": "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",
          "dtype": "f8"
         }
        },
        {
         "line": {
          "color": "green",
          "width": 2
         },
         "mode": "lines",
         "name": "EMA35",
         "type": "scatter",
         "x": [
          "2024-08-02T00:00:00.000000000",
          "2024-08-05T00:00:00.000000000",
          "2024-08-06T00:00:00.000000000",
          "2024-08-07T00:00:00.000000000",
          "2024-08-08T00:00:00.000000000",
          "2024-08-09T00:00:00.000000000",
          "2024-08-13T00:00:00.000000000",
          "2024-08-14T00:00:00.000000000",
          "2024-08-15T00:00:00.000000000",
          "2024-08-16T00:00:00.000000000",
          "2024-08-19T00:00:00.000000000",
          "2024-08-20T00:00:00.000000000",
          "2024-08-21T00:00:00.000000000",
          "2024-08-22T00:00:00.000000000",
          "2024-08-23T00:00:00.000000000",
          "2024-08-26T00:00:00.000000000",
          "2024-08-27T00:00:00.000000000",
          "2024-08-28T00:00:00.000000000",
          "2024-08-29T00:00:00.000000000",
          "2024-08-30T00:00:00.000000000",
          "2024-09-02T00:00:00.000000000",
          "2024-09-03T00:00:00.000000000",
          "2024-09-04T00:00:00.000000000",
          "2024-09-05T00:00:00.000000000",
          "2024-09-06T00:00:00.000000000",
          "2024-09-09T00:00:00.000000000",
          "2024-09-10T00:00:00.000000000",
          "2024-09-11T00:00:00.000000000",
          "2024-09-12T00:00:00.000000000",
          "2024-09-13T00:00:00.000000000",
          "2024-09-16T00:00:00.000000000",
          "2024-09-17T00:00:00.000000000",
          "2024-09-18T00:00:00.000000000",
          "2024-09-19T00:00:00.000000000",
          "2024-09-20T00:00:00.000000000",
          "2024-09-23T00:00:00.000000000",
          "2024-09-24T00:00:00.000000000",
          "2024-09-25T00:00:00.000000000",
          "2024-09-26T00:00:00.000000000",
          "2024-09-27T00:00:00.000000000",
          "2024-09-30T00:00:00.000000000",
          "2024-10-01T00:00:00.000000000",
          "2024-10-02T00:00:00.000000000",
          "2024-10-03T00:00:00.000000000",
          "2024-10-04T00:00:00.000000000",
          "2024-10-07T00:00:00.000000000",
          "2024-10-08T00:00:00.000000000",
          "2024-10-09T00:00:00.000000000",
          "2024-10-10T00:00:00.000000000",
          "2024-10-11T00:00:00.000000000",
          "2024-10-15T00:00:00.000000000",
          "2024-10-16T00:00:00.000000000",
          "2024-10-17T00:00:00.000000000",
          "2024-10-18T00:00:00.000000000",
          "2024-10-21T00:00:00.000000000",
          "2024-10-22T00:00:00.000000000",
          "2024-10-24T00:00:00.000000000",
          "2024-10-25T00:00:00.000000000",
          "2024-10-28T00:00:00.000000000",
          "2024-10-29T00:00:00.000000000",
          "2024-10-30T00:00:00.000000000",
          "2024-10-31T00:00:00.000000000",
          "2024-11-01T00:00:00.000000000",
          "2024-11-04T00:00:00.000000000",
          "2024-11-05T00:00:00.000000000",
          "2024-11-06T00:00:00.000000000",
          "2024-11-07T00:00:00.000000000",
          "2024-11-08T00:00:00.000000000",
          "2024-11-11T00:00:00.000000000",
          "2024-11-12T00:00:00.000000000",
          "2024-11-13T00:00:00.000000000",
          "2024-11-14T00:00:00.000000000",
          "2024-11-15T00:00:00.000000000",
          "2024-11-18T00:00:00.000000000",
          "2024-11-19T00:00:00.000000000",
          "2024-11-20T00:00:00.000000000",
          "2024-11-21T00:00:00.000000000",
          "2024-11-22T00:00:00.000000000",
          "2024-11-25T00:00:00.000000000",
          "2024-11-26T00:00:00.000000000",
          "2024-11-27T00:00:00.000000000",
          "2024-11-28T00:00:00.000000000",
          "2024-11-29T00:00:00.000000000",
          "2024-12-02T00:00:00.000000000",
          "2024-12-03T00:00:00.000000000",
          "2024-12-04T00:00:00.000000000",
          "2024-12-06T00:00:00.000000000",
          "2024-12-09T00:00:00.000000000",
          "2024-12-11T00:00:00.000000000",
          "2024-12-12T00:00:00.000000000",
          "2024-12-13T00:00:00.000000000",
          "2024-12-16T00:00:00.000000000",
          "2024-12-17T00:00:00.000000000",
          "2024-12-18T00:00:00.000000000",
          "2024-12-19T00:00:00.000000000",
          "2024-12-20T00:00:00.000000000",
          "2024-12-23T00:00:00.000000000",
          "2024-12-24T00:00:00.000000000",
          "2024-12-25T00:00:00.000000000",
          "2024-12-26T00:00:00.000000000",
          "2024-12-27T00:00:00.000000000",
          "2024-12-30T00:00:00.000000000",
          "2025-01-02T00:00:00.000000000",
          "2025-01-03T00:00:00.000000000",
          "2025-01-06T00:00:00.000000000",
          "2025-01-07T00:00:00.000000000",
          "2025-01-08T00:00:00.000000000",
          "2025-01-09T00:00:00.000000000",
          "2025-01-10T00:00:00.000000000",
          "2025-01-13T00:00:00.000000000",
          "2025-01-14T00:00:00.000000000",
          "2025-01-15T00:00:00.000000000",
          "2025-01-16T00:00:00.000000000",
          "2025-01-17T00:00:00.000000000",
          "2025-01-20T00:00:00.000000000",
          "2025-01-21T00:00:00.000000000",
          "2025-01-22T00:00:00.000000000",
          "2025-01-23T00:00:00.000000000",
          "2025-01-24T00:00:00.000000000",
          "2025-01-27T00:00:00.000000000",
          "2025-01-28T00:00:00.000000000",
          "2025-01-29T00:00:00.000000000",
          "2025-01-30T00:00:00.000000000",
          "2025-01-31T00:00:00.000000000",
          "2025-02-03T00:00:00.000000000",
          "2025-02-04T00:00:00.000000000",
          "2025-02-05T00:00:00.000000000",
          "2025-02-06T00:00:00.000000000",
          "2025-02-07T00:00:00.000000000",
          "2025-02-10T00:00:00.000000000",
          "2025-02-11T00:00:00.000000000",
          "2025-02-13T00:00:00.000000000",
          "2025-02-14T00:00:00.000000000",
          "2025-02-17T00:00:00.000000000",
          "2025-02-18T00:00:00.000000000",
          "2025-02-19T00:00:00.000000000",
          "2025-02-20T00:00:00.000000000",
          "2025-02-21T00:00:00.000000000",
          "2025-02-24T00:00:00.000000000",
          "2025-02-25T00:00:00.000000000",
          "2025-02-26T00:00:00.000000000",
          "2025-02-27T00:00:00.000000000",
          "2025-02-28T00:00:00.000000000",
          "2025-03-03T00:00:00.000000000",
          "2025-03-04T00:00:00.000000000",
          "2025-03-05T00:00:00.000000000",
          "2025-03-06T00:00:00.000000000",
          "2025-03-07T00:00:00.000000000",
          "2025-03-10T00:00:00.000000000",
          "2025-03-11T00:00:00.000000000",
          "2025-03-12T00:00:00.000000000",
          "2025-03-13T00:00:00.000000000",
          "2025-03-14T00:00:00.000000000",
          "2025-03-17T00:00:00.000000000",
          "2025-03-18T00:00:00.000000000",
          "2025-03-19T00:00:00.000000000",
          "2025-03-20T00:00:00.000000000",
          "2025-03-21T00:00:00.000000000",
          "2025-03-24T00:00:00.000000000",
          "2025-03-25T00:00:00.000000000",
          "2025-03-26T00:00:00.000000000",
          "2025-03-27T00:00:00.000000000",
          "2025-03-28T00:00:00.000000000",
          "2025-03-31T00:00:00.000000000",
          "2025-04-01T00:00:00.000000000",
          "2025-04-02T00:00:00.000000000",
          "2025-04-03T00:00:00.000000000",
          "2025-04-04T00:00:00.000000000",
          "2025-04-08T00:00:00.000000000",
          "2025-04-09T00:00:00.000000000",
          "2025-04-10T00:00:00.000000000",
          "2025-04-11T00:00:00.000000000",
          "2025-04-16T00:00:00.000000000",
          "2025-04-17T00:00:00.000000000",
          "2025-04-18T00:00:00.000000000",
          "2025-04-21T00:00:00.000000000",
          "2025-04-22T00:00:00.000000000",
          "2025-04-23T00:00:00.000000000",
          "2025-04-24T00:00:00.000000000",
          "2025-04-25T00:00:00.000000000",
          "2025-04-28T00:00:00.000000000",
          "2025-04-29T00:00:00.000000000",
          "2025-04-30T00:00:00.000000000",
          "2025-05-02T00:00:00.000000000",
          "2025-05-06T00:00:00.000000000",
          "2025-05-07T00:00:00.000000000",
          "2025-05-08T00:00:00.000000000",
          "2025-05-09T00:00:00.000000000",
          "2025-05-13T00:00:00.000000000",
          "2025-05-14T00:00:00.000000000",
          "2025-05-15T00:00:00.000000000",
          "2025-05-16T00:00:00.000000000",
          "2025-05-19T00:00:00.000000000",
          "2025-05-20T00:00:00.000000000",
          "2025-05-21T00:00:00.000000000",
          "2025-05-22T00:00:00.000000000",
          "2025-05-23T00:00:00.000000000",
          "2025-05-26T00:00:00.000000000",
          "2025-05-27T00:00:00.000000000",
          "2025-05-28T00:00:00.000000000"
         ],
         "y": {
          "bdata": "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",
          "dtype": "f8"
         }
        },
        {
         "line": {
          "color": "purple",
          "width": 2
         },
         "mode": "lines",
         "name": "EMA89",
         "type": "scatter",
         "x": [
          "2024-08-02T00:00:00.000000000",
          "2024-08-05T00:00:00.000000000",
          "2024-08-06T00:00:00.000000000",
          "2024-08-07T00:00:00.000000000",
          "2024-08-08T00:00:00.000000000",
          "2024-08-09T00:00:00.000000000",
          "2024-08-13T00:00:00.000000000",
          "2024-08-14T00:00:00.000000000",
          "2024-08-15T00:00:00.000000000",
          "2024-08-16T00:00:00.000000000",
          "2024-08-19T00:00:00.000000000",
          "2024-08-20T00:00:00.000000000",
          "2024-08-21T00:00:00.000000000",
          "2024-08-22T00:00:00.000000000",
          "2024-08-23T00:00:00.000000000",
          "2024-08-26T00:00:00.000000000",
          "2024-08-27T00:00:00.000000000",
          "2024-08-28T00:00:00.000000000",
          "2024-08-29T00:00:00.000000000",
          "2024-08-30T00:00:00.000000000",
          "2024-09-02T00:00:00.000000000",
          "2024-09-03T00:00:00.000000000",
          "2024-09-04T00:00:00.000000000",
          "2024-09-05T00:00:00.000000000",
          "2024-09-06T00:00:00.000000000",
          "2024-09-09T00:00:00.000000000",
          "2024-09-10T00:00:00.000000000",
          "2024-09-11T00:00:00.000000000",
          "2024-09-12T00:00:00.000000000",
          "2024-09-13T00:00:00.000000000",
          "2024-09-16T00:00:00.000000000",
          "2024-09-17T00:00:00.000000000",
          "2024-09-18T00:00:00.000000000",
          "2024-09-19T00:00:00.000000000",
          "2024-09-20T00:00:00.000000000",
          "2024-09-23T00:00:00.000000000",
          "2024-09-24T00:00:00.000000000",
          "2024-09-25T00:00:00.000000000",
          "2024-09-26T00:00:00.000000000",
          "2024-09-27T00:00:00.000000000",
          "2024-09-30T00:00:00.000000000",
          "2024-10-01T00:00:00.000000000",
          "2024-10-02T00:00:00.000000000",
          "2024-10-03T00:00:00.000000000",
          "2024-10-04T00:00:00.000000000",
          "2024-10-07T00:00:00.000000000",
          "2024-10-08T00:00:00.000000000",
          "2024-10-09T00:00:00.000000000",
          "2024-10-10T00:00:00.000000000",
          "2024-10-11T00:00:00.000000000",
          "2024-10-15T00:00:00.000000000",
          "2024-10-16T00:00:00.000000000",
          "2024-10-17T00:00:00.000000000",
          "2024-10-18T00:00:00.000000000",
          "2024-10-21T00:00:00.000000000",
          "2024-10-22T00:00:00.000000000",
          "2024-10-24T00:00:00.000000000",
          "2024-10-25T00:00:00.000000000",
          "2024-10-28T00:00:00.000000000",
          "2024-10-29T00:00:00.000000000",
          "2024-10-30T00:00:00.000000000",
          "2024-10-31T00:00:00.000000000",
          "2024-11-01T00:00:00.000000000",
          "2024-11-04T00:00:00.000000000",
          "2024-11-05T00:00:00.000000000",
          "2024-11-06T00:00:00.000000000",
          "2024-11-07T00:00:00.000000000",
          "2024-11-08T00:00:00.000000000",
          "2024-11-11T00:00:00.000000000",
          "2024-11-12T00:00:00.000000000",
          "2024-11-13T00:00:00.000000000",
          "2024-11-14T00:00:00.000000000",
          "2024-11-15T00:00:00.000000000",
          "2024-11-18T00:00:00.000000000",
          "2024-11-19T00:00:00.000000000",
          "2024-11-20T00:00:00.000000000",
          "2024-11-21T00:00:00.000000000",
          "2024-11-22T00:00:00.000000000",
          "2024-11-25T00:00:00.000000000",
          "2024-11-26T00:00:00.000000000",
          "2024-11-27T00:00:00.000000000",
          "2024-11-28T00:00:00.000000000",
          "2024-11-29T00:00:00.000000000",
          "2024-12-02T00:00:00.000000000",
          "2024-12-03T00:00:00.000000000",
          "2024-12-04T00:00:00.000000000",
          "2024-12-06T00:00:00.000000000",
          "2024-12-09T00:00:00.000000000",
          "2024-12-11T00:00:00.000000000",
          "2024-12-12T00:00:00.000000000",
          "2024-12-13T00:00:00.000000000",
          "2024-12-16T00:00:00.000000000",
          "2024-12-17T00:00:00.000000000",
          "2024-12-18T00:00:00.000000000",
          "2024-12-19T00:00:00.000000000",
          "2024-12-20T00:00:00.000000000",
          "2024-12-23T00:00:00.000000000",
          "2024-12-24T00:00:00.000000000",
          "2024-12-25T00:00:00.000000000",
          "2024-12-26T00:00:00.000000000",
          "2024-12-27T00:00:00.000000000",
          "2024-12-30T00:00:00.000000000",
          "2025-01-02T00:00:00.000000000",
          "2025-01-03T00:00:00.000000000",
          "2025-01-06T00:00:00.000000000",
          "2025-01-07T00:00:00.000000000",
          "2025-01-08T00:00:00.000000000",
          "2025-01-09T00:00:00.000000000",
          "2025-01-10T00:00:00.000000000",
          "2025-01-13T00:00:00.000000000",
          "2025-01-14T00:00:00.000000000",
          "2025-01-15T00:00:00.000000000",
          "2025-01-16T00:00:00.000000000",
          "2025-01-17T00:00:00.000000000",
          "2025-01-20T00:00:00.000000000",
          "2025-01-21T00:00:00.000000000",
          "2025-01-22T00:00:00.000000000",
          "2025-01-23T00:00:00.000000000",
          "2025-01-24T00:00:00.000000000",
          "2025-01-27T00:00:00.000000000",
          "2025-01-28T00:00:00.000000000",
          "2025-01-29T00:00:00.000000000",
          "2025-01-30T00:00:00.000000000",
          "2025-01-31T00:00:00.000000000",
          "2025-02-03T00:00:00.000000000",
          "2025-02-04T00:00:00.000000000",
          "2025-02-05T00:00:00.000000000",
          "2025-02-06T00:00:00.000000000",
          "2025-02-07T00:00:00.000000000",
          "2025-02-10T00:00:00.000000000",
          "2025-02-11T00:00:00.000000000",
          "2025-02-13T00:00:00.000000000",
          "2025-02-14T00:00:00.000000000",
          "2025-02-17T00:00:00.000000000",
          "2025-02-18T00:00:00.000000000",
          "2025-02-19T00:00:00.000000000",
          "2025-02-20T00:00:00.000000000",
          "2025-02-21T00:00:00.000000000",
          "2025-02-24T00:00:00.000000000",
          "2025-02-25T00:00:00.000000000",
          "2025-02-26T00:00:00.000000000",
          "2025-02-27T00:00:00.000000000",
          "2025-02-28T00:00:00.000000000",
          "2025-03-03T00:00:00.000000000",
          "2025-03-04T00:00:00.000000000",
          "2025-03-05T00:00:00.000000000",
          "2025-03-06T00:00:00.000000000",
          "2025-03-07T00:00:00.000000000",
          "2025-03-10T00:00:00.000000000",
          "2025-03-11T00:00:00.000000000",
          "2025-03-12T00:00:00.000000000",
          "2025-03-13T00:00:00.000000000",
          "2025-03-14T00:00:00.000000000",
          "2025-03-17T00:00:00.000000000",
          "2025-03-18T00:00:00.000000000",
          "2025-03-19T00:00:00.000000000",
          "2025-03-20T00:00:00.000000000",
          "2025-03-21T00:00:00.000000000",
          "2025-03-24T00:00:00.000000000",
          "2025-03-25T00:00:00.000000000",
          "2025-03-26T00:00:00.000000000",
          "2025-03-27T00:00:00.000000000",
          "2025-03-28T00:00:00.000000000",
          "2025-03-31T00:00:00.000000000",
          "2025-04-01T00:00:00.000000000",
          "2025-04-02T00:00:00.000000000",
          "2025-04-03T00:00:00.000000000",
          "2025-04-04T00:00:00.000000000",
          "2025-04-08T00:00:00.000000000",
          "2025-04-09T00:00:00.000000000",
          "2025-04-10T00:00:00.000000000",
          "2025-04-11T00:00:00.000000000",
          "2025-04-16T00:00:00.000000000",
          "2025-04-17T00:00:00.000000000",
          "2025-04-18T00:00:00.000000000",
          "2025-04-21T00:00:00.000000000",
          "2025-04-22T00:00:00.000000000",
          "2025-04-23T00:00:00.000000000",
          "2025-04-24T00:00:00.000000000",
          "2025-04-25T00:00:00.000000000",
          "2025-04-28T00:00:00.000000000",
          "2025-04-29T00:00:00.000000000",
          "2025-04-30T00:00:00.000000000",
          "2025-05-02T00:00:00.000000000",
          "2025-05-06T00:00:00.000000000",
          "2025-05-07T00:00:00.000000000",
          "2025-05-08T00:00:00.000000000",
          "2025-05-09T00:00:00.000000000",
          "2025-05-13T00:00:00.000000000",
          "2025-05-14T00:00:00.000000000",
          "2025-05-15T00:00:00.000000000",
          "2025-05-16T00:00:00.000000000",
          "2025-05-19T00:00:00.000000000",
          "2025-05-20T00:00:00.000000000",
          "2025-05-21T00:00:00.000000000",
          "2025-05-22T00:00:00.000000000",
          "2025-05-23T00:00:00.000000000",
          "2025-05-26T00:00:00.000000000",
          "2025-05-27T00:00:00.000000000",
          "2025-05-28T00:00:00.000000000"
         ],
         "y": {
          "bdata": "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",
          "dtype": "f8"
         }
        },
        {
         "line": {
          "color": "red",
          "width": 2
         },
         "mode": "lines",
         "name": "EMA200",
         "type": "scatter",
         "x": [
          "2024-08-02T00:00:00.000000000",
          "2024-08-05T00:00:00.000000000",
          "2024-08-06T00:00:00.000000000",
          "2024-08-07T00:00:00.000000000",
          "2024-08-08T00:00:00.000000000",
          "2024-08-09T00:00:00.000000000",
          "2024-08-13T00:00:00.000000000",
          "2024-08-14T00:00:00.000000000",
          "2024-08-15T00:00:00.000000000",
          "2024-08-16T00:00:00.000000000",
          "2024-08-19T00:00:00.000000000",
          "2024-08-20T00:00:00.000000000",
          "2024-08-21T00:00:00.000000000",
          "2024-08-22T00:00:00.000000000",
          "2024-08-23T00:00:00.000000000",
          "2024-08-26T00:00:00.000000000",
          "2024-08-27T00:00:00.000000000",
          "2024-08-28T00:00:00.000000000",
          "2024-08-29T00:00:00.000000000",
          "2024-08-30T00:00:00.000000000",
          "2024-09-02T00:00:00.000000000",
          "2024-09-03T00:00:00.000000000",
          "2024-09-04T00:00:00.000000000",
          "2024-09-05T00:00:00.000000000",
          "2024-09-06T00:00:00.000000000",
          "2024-09-09T00:00:00.000000000",
          "2024-09-10T00:00:00.000000000",
          "2024-09-11T00:00:00.000000000",
          "2024-09-12T00:00:00.000000000",
          "2024-09-13T00:00:00.000000000",
          "2024-09-16T00:00:00.000000000",
          "2024-09-17T00:00:00.000000000",
          "2024-09-18T00:00:00.000000000",
          "2024-09-19T00:00:00.000000000",
          "2024-09-20T00:00:00.000000000",
          "2024-09-23T00:00:00.000000000",
          "2024-09-24T00:00:00.000000000",
          "2024-09-25T00:00:00.000000000",
          "2024-09-26T00:00:00.000000000",
          "2024-09-27T00:00:00.000000000",
          "2024-09-30T00:00:00.000000000",
          "2024-10-01T00:00:00.000000000",
          "2024-10-02T00:00:00.000000000",
          "2024-10-03T00:00:00.000000000",
          "2024-10-04T00:00:00.000000000",
          "2024-10-07T00:00:00.000000000",
          "2024-10-08T00:00:00.000000000",
          "2024-10-09T00:00:00.000000000",
          "2024-10-10T00:00:00.000000000",
          "2024-10-11T00:00:00.000000000",
          "2024-10-15T00:00:00.000000000",
          "2024-10-16T00:00:00.000000000",
          "2024-10-17T00:00:00.000000000",
          "2024-10-18T00:00:00.000000000",
          "2024-10-21T00:00:00.000000000",
          "2024-10-22T00:00:00.000000000",
          "2024-10-24T00:00:00.000000000",
          "2024-10-25T00:00:00.000000000",
          "2024-10-28T00:00:00.000000000",
          "2024-10-29T00:00:00.000000000",
          "2024-10-30T00:00:00.000000000",
          "2024-10-31T00:00:00.000000000",
          "2024-11-01T00:00:00.000000000",
          "2024-11-04T00:00:00.000000000",
          "2024-11-05T00:00:00.000000000",
          "2024-11-06T00:00:00.000000000",
          "2024-11-07T00:00:00.000000000",
          "2024-11-08T00:00:00.000000000",
          "2024-11-11T00:00:00.000000000",
          "2024-11-12T00:00:00.000000000",
          "2024-11-13T00:00:00.000000000",
          "2024-11-14T00:00:00.000000000",
          "2024-11-15T00:00:00.000000000",
          "2024-11-18T00:00:00.000000000",
          "2024-11-19T00:00:00.000000000",
          "2024-11-20T00:00:00.000000000",
          "2024-11-21T00:00:00.000000000",
          "2024-11-22T00:00:00.000000000",
          "2024-11-25T00:00:00.000000000",
          "2024-11-26T00:00:00.000000000",
          "2024-11-27T00:00:00.000000000",
          "2024-11-28T00:00:00.000000000",
          "2024-11-29T00:00:00.000000000",
          "2024-12-02T00:00:00.000000000",
          "2024-12-03T00:00:00.000000000",
          "2024-12-04T00:00:00.000000000",
          "2024-12-06T00:00:00.000000000",
          "2024-12-09T00:00:00.000000000",
          "2024-12-11T00:00:00.000000000",
          "2024-12-12T00:00:00.000000000",
          "2024-12-13T00:00:00.000000000",
          "2024-12-16T00:00:00.000000000",
          "2024-12-17T00:00:00.000000000",
          "2024-12-18T00:00:00.000000000",
          "2024-12-19T00:00:00.000000000",
          "2024-12-20T00:00:00.000000000",
          "2024-12-23T00:00:00.000000000",
          "2024-12-24T00:00:00.000000000",
          "2024-12-25T00:00:00.000000000",
          "2024-12-26T00:00:00.000000000",
          "2024-12-27T00:00:00.000000000",
          "2024-12-30T00:00:00.000000000",
          "2025-01-02T00:00:00.000000000",
          "2025-01-03T00:00:00.000000000",
          "2025-01-06T00:00:00.000000000",
          "2025-01-07T00:00:00.000000000",
          "2025-01-08T00:00:00.000000000",
          "2025-01-09T00:00:00.000000000",
          "2025-01-10T00:00:00.000000000",
          "2025-01-13T00:00:00.000000000",
          "2025-01-14T00:00:00.000000000",
          "2025-01-15T00:00:00.000000000",
          "2025-01-16T00:00:00.000000000",
          "2025-01-17T00:00:00.000000000",
          "2025-01-20T00:00:00.000000000",
          "2025-01-21T00:00:00.000000000",
          "2025-01-22T00:00:00.000000000",
          "2025-01-23T00:00:00.000000000",
          "2025-01-24T00:00:00.000000000",
          "2025-01-27T00:00:00.000000000",
          "2025-01-28T00:00:00.000000000",
          "2025-01-29T00:00:00.000000000",
          "2025-01-30T00:00:00.000000000",
          "2025-01-31T00:00:00.000000000",
          "2025-02-03T00:00:00.000000000",
          "2025-02-04T00:00:00.000000000",
          "2025-02-05T00:00:00.000000000",
          "2025-02-06T00:00:00.000000000",
          "2025-02-07T00:00:00.000000000",
          "2025-02-10T00:00:00.000000000",
          "2025-02-11T00:00:00.000000000",
          "2025-02-13T00:00:00.000000000",
          "2025-02-14T00:00:00.000000000",
          "2025-02-17T00:00:00.000000000",
          "2025-02-18T00:00:00.000000000",
          "2025-02-19T00:00:00.000000000",
          "2025-02-20T00:00:00.000000000",
          "2025-02-21T00:00:00.000000000",
          "2025-02-24T00:00:00.000000000",
          "2025-02-25T00:00:00.000000000",
          "2025-02-26T00:00:00.000000000",
          "2025-02-27T00:00:00.000000000",
          "2025-02-28T00:00:00.000000000",
          "2025-03-03T00:00:00.000000000",
          "2025-03-04T00:00:00.000000000",
          "2025-03-05T00:00:00.000000000",
          "2025-03-06T00:00:00.000000000",
          "2025-03-07T00:00:00.000000000",
          "2025-03-10T00:00:00.000000000",
          "2025-03-11T00:00:00.000000000",
          "2025-03-12T00:00:00.000000000",
          "2025-03-13T00:00:00.000000000",
          "2025-03-14T00:00:00.000000000",
          "2025-03-17T00:00:00.000000000",
          "2025-03-18T00:00:00.000000000",
          "2025-03-19T00:00:00.000000000",
          "2025-03-20T00:00:00.000000000",
          "2025-03-21T00:00:00.000000000",
          "2025-03-24T00:00:00.000000000",
          "2025-03-25T00:00:00.000000000",
          "2025-03-26T00:00:00.000000000",
          "2025-03-27T00:00:00.000000000",
          "2025-03-28T00:00:00.000000000",
          "2025-03-31T00:00:00.000000000",
          "2025-04-01T00:00:00.000000000",
          "2025-04-02T00:00:00.000000000",
          "2025-04-03T00:00:00.000000000",
          "2025-04-04T00:00:00.000000000",
          "2025-04-08T00:00:00.000000000",
          "2025-04-09T00:00:00.000000000",
          "2025-04-10T00:00:00.000000000",
          "2025-04-11T00:00:00.000000000",
          "2025-04-16T00:00:00.000000000",
          "2025-04-17T00:00:00.000000000",
          "2025-04-18T00:00:00.000000000",
          "2025-04-21T00:00:00.000000000",
          "2025-04-22T00:00:00.000000000",
          "2025-04-23T00:00:00.000000000",
          "2025-04-24T00:00:00.000000000",
          "2025-04-25T00:00:00.000000000",
          "2025-04-28T00:00:00.000000000",
          "2025-04-29T00:00:00.000000000",
          "2025-04-30T00:00:00.000000000",
          "2025-05-02T00:00:00.000000000",
          "2025-05-06T00:00:00.000000000",
          "2025-05-07T00:00:00.000000000",
          "2025-05-08T00:00:00.000000000",
          "2025-05-09T00:00:00.000000000",
          "2025-05-13T00:00:00.000000000",
          "2025-05-14T00:00:00.000000000",
          "2025-05-15T00:00:00.000000000",
          "2025-05-16T00:00:00.000000000",
          "2025-05-19T00:00:00.000000000",
          "2025-05-20T00:00:00.000000000",
          "2025-05-21T00:00:00.000000000",
          "2025-05-22T00:00:00.000000000",
          "2025-05-23T00:00:00.000000000",
          "2025-05-26T00:00:00.000000000",
          "2025-05-27T00:00:00.000000000",
          "2025-05-28T00:00:00.000000000"
         ],
         "y": {
          "bdata": "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",
          "dtype": "f8"
         }
        },
        {
         "marker": {
          "color": "lightblue"
         },
         "name": "Volume",
         "opacity": 0.5,
         "type": "bar",
         "x": [
          "2024-08-02T00:00:00.000000000",
          "2024-08-05T00:00:00.000000000",
          "2024-08-06T00:00:00.000000000",
          "2024-08-07T00:00:00.000000000",
          "2024-08-08T00:00:00.000000000",
          "2024-08-09T00:00:00.000000000",
          "2024-08-13T00:00:00.000000000",
          "2024-08-14T00:00:00.000000000",
          "2024-08-15T00:00:00.000000000",
          "2024-08-16T00:00:00.000000000",
          "2024-08-19T00:00:00.000000000",
          "2024-08-20T00:00:00.000000000",
          "2024-08-21T00:00:00.000000000",
          "2024-08-22T00:00:00.000000000",
          "2024-08-23T00:00:00.000000000",
          "2024-08-26T00:00:00.000000000",
          "2024-08-27T00:00:00.000000000",
          "2024-08-28T00:00:00.000000000",
          "2024-08-29T00:00:00.000000000",
          "2024-08-30T00:00:00.000000000",
          "2024-09-02T00:00:00.000000000",
          "2024-09-03T00:00:00.000000000",
          "2024-09-04T00:00:00.000000000",
          "2024-09-05T00:00:00.000000000",
          "2024-09-06T00:00:00.000000000",
          "2024-09-09T00:00:00.000000000",
          "2024-09-10T00:00:00.000000000",
          "2024-09-11T00:00:00.000000000",
          "2024-09-12T00:00:00.000000000",
          "2024-09-13T00:00:00.000000000",
          "2024-09-16T00:00:00.000000000",
          "2024-09-17T00:00:00.000000000",
          "2024-09-18T00:00:00.000000000",
          "2024-09-19T00:00:00.000000000",
          "2024-09-20T00:00:00.000000000",
          "2024-09-23T00:00:00.000000000",
          "2024-09-24T00:00:00.000000000",
          "2024-09-25T00:00:00.000000000",
          "2024-09-26T00:00:00.000000000",
          "2024-09-27T00:00:00.000000000",
          "2024-09-30T00:00:00.000000000",
          "2024-10-01T00:00:00.000000000",
          "2024-10-02T00:00:00.000000000",
          "2024-10-03T00:00:00.000000000",
          "2024-10-04T00:00:00.000000000",
          "2024-10-07T00:00:00.000000000",
          "2024-10-08T00:00:00.000000000",
          "2024-10-09T00:00:00.000000000",
          "2024-10-10T00:00:00.000000000",
          "2024-10-11T00:00:00.000000000",
          "2024-10-15T00:00:00.000000000",
          "2024-10-16T00:00:00.000000000",
          "2024-10-17T00:00:00.000000000",
          "2024-10-18T00:00:00.000000000",
          "2024-10-21T00:00:00.000000000",
          "2024-10-22T00:00:00.000000000",
          "2024-10-24T00:00:00.000000000",
          "2024-10-25T00:00:00.000000000",
          "2024-10-28T00:00:00.000000000",
          "2024-10-29T00:00:00.000000000",
          "2024-10-30T00:00:00.000000000",
          "2024-10-31T00:00:00.000000000",
          "2024-11-01T00:00:00.000000000",
          "2024-11-04T00:00:00.000000000",
          "2024-11-05T00:00:00.000000000",
          "2024-11-06T00:00:00.000000000",
          "2024-11-07T00:00:00.000000000",
          "2024-11-08T00:00:00.000000000",
          "2024-11-11T00:00:00.000000000",
          "2024-11-12T00:00:00.000000000",
          "2024-11-13T00:00:00.000000000",
          "2024-11-14T00:00:00.000000000",
          "2024-11-15T00:00:00.000000000",
          "2024-11-18T00:00:00.000000000",
          "2024-11-19T00:00:00.000000000",
          "2024-11-20T00:00:00.000000000",
          "2024-11-21T00:00:00.000000000",
          "2024-11-22T00:00:00.000000000",
          "2024-11-25T00:00:00.000000000",
          "2024-11-26T00:00:00.000000000",
          "2024-11-27T00:00:00.000000000",
          "2024-11-28T00:00:00.000000000",
          "2024-11-29T00:00:00.000000000",
          "2024-12-02T00:00:00.000000000",
          "2024-12-03T00:00:00.000000000",
          "2024-12-04T00:00:00.000000000",
          "2024-12-06T00:00:00.000000000",
          "2024-12-09T00:00:00.000000000",
          "2024-12-11T00:00:00.000000000",
          "2024-12-12T00:00:00.000000000",
          "2024-12-13T00:00:00.000000000",
          "2024-12-16T00:00:00.000000000",
          "2024-12-17T00:00:00.000000000",
          "2024-12-18T00:00:00.000000000",
          "2024-12-19T00:00:00.000000000",
          "2024-12-20T00:00:00.000000000",
          "2024-12-23T00:00:00.000000000",
          "2024-12-24T00:00:00.000000000",
          "2024-12-25T00:00:00.000000000",
          "2024-12-26T00:00:00.000000000",
          "2024-12-27T00:00:00.000000000",
          "2024-12-30T00:00:00.000000000",
          "2025-01-02T00:00:00.000000000",
          "2025-01-03T00:00:00.000000000",
          "2025-01-06T00:00:00.000000000",
          "2025-01-07T00:00:00.000000000",
          "2025-01-08T00:00:00.000000000",
          "2025-01-09T00:00:00.000000000",
          "2025-01-10T00:00:00.000000000",
          "2025-01-13T00:00:00.000000000",
          "2025-01-14T00:00:00.000000000",
          "2025-01-15T00:00:00.000000000",
          "2025-01-16T00:00:00.000000000",
          "2025-01-17T00:00:00.000000000",
          "2025-01-20T00:00:00.000000000",
          "2025-01-21T00:00:00.000000000",
          "2025-01-22T00:00:00.000000000",
          "2025-01-23T00:00:00.000000000",
          "2025-01-24T00:00:00.000000000",
          "2025-01-27T00:00:00.000000000",
          "2025-01-28T00:00:00.000000000",
          "2025-01-29T00:00:00.000000000",
          "2025-01-30T00:00:00.000000000",
          "2025-01-31T00:00:00.000000000",
          "2025-02-03T00:00:00.000000000",
          "2025-02-04T00:00:00.000000000",
          "2025-02-05T00:00:00.000000000",
          "2025-02-06T00:00:00.000000000",
          "2025-02-07T00:00:00.000000000",
          "2025-02-10T00:00:00.000000000",
          "2025-02-11T00:00:00.000000000",
          "2025-02-13T00:00:00.000000000",
          "2025-02-14T00:00:00.000000000",
          "2025-02-17T00:00:00.000000000",
          "2025-02-18T00:00:00.000000000",
          "2025-02-19T00:00:00.000000000",
          "2025-02-20T00:00:00.000000000",
          "2025-02-21T00:00:00.000000000",
          "2025-02-24T00:00:00.000000000",
          "2025-02-25T00:00:00.000000000",
          "2025-02-26T00:00:00.000000000",
          "2025-02-27T00:00:00.000000000",
          "2025-02-28T00:00:00.000000000",
          "2025-03-03T00:00:00.000000000",
          "2025-03-04T00:00:00.000000000",
          "2025-03-05T00:00:00.000000000",
          "2025-03-06T00:00:00.000000000",
          "2025-03-07T00:00:00.000000000",
          "2025-03-10T00:00:00.000000000",
          "2025-03-11T00:00:00.000000000",
          "2025-03-12T00:00:00.000000000",
          "2025-03-13T00:00:00.000000000",
          "2025-03-14T00:00:00.000000000",
          "2025-03-17T00:00:00.000000000",
          "2025-03-18T00:00:00.000000000",
          "2025-03-19T00:00:00.000000000",
          "2025-03-20T00:00:00.000000000",
          "2025-03-21T00:00:00.000000000",
          "2025-03-24T00:00:00.000000000",
          "2025-03-25T00:00:00.000000000",
          "2025-03-26T00:00:00.000000000",
          "2025-03-27T00:00:00.000000000",
          "2025-03-28T00:00:00.000000000",
          "2025-03-31T00:00:00.000000000",
          "2025-04-01T00:00:00.000000000",
          "2025-04-02T00:00:00.000000000",
          "2025-04-03T00:00:00.000000000",
          "2025-04-04T00:00:00.000000000",
          "2025-04-08T00:00:00.000000000",
          "2025-04-09T00:00:00.000000000",
          "2025-04-10T00:00:00.000000000",
          "2025-04-11T00:00:00.000000000",
          "2025-04-16T00:00:00.000000000",
          "2025-04-17T00:00:00.000000000",
          "2025-04-18T00:00:00.000000000",
          "2025-04-21T00:00:00.000000000",
          "2025-04-22T00:00:00.000000000",
          "2025-04-23T00:00:00.000000000",
          "2025-04-24T00:00:00.000000000",
          "2025-04-25T00:00:00.000000000",
          "2025-04-28T00:00:00.000000000",
          "2025-04-29T00:00:00.000000000",
          "2025-04-30T00:00:00.000000000",
          "2025-05-02T00:00:00.000000000",
          "2025-05-06T00:00:00.000000000",
          "2025-05-07T00:00:00.000000000",
          "2025-05-08T00:00:00.000000000",
          "2025-05-09T00:00:00.000000000",
          "2025-05-13T00:00:00.000000000",
          "2025-05-14T00:00:00.000000000",
          "2025-05-15T00:00:00.000000000",
          "2025-05-16T00:00:00.000000000",
          "2025-05-19T00:00:00.000000000",
          "2025-05-20T00:00:00.000000000",
          "2025-05-21T00:00:00.000000000",
          "2025-05-22T00:00:00.000000000",
          "2025-05-23T00:00:00.000000000",
          "2025-05-26T00:00:00.000000000",
          "2025-05-27T00:00:00.000000000",
          "2025-05-28T00:00:00.000000000"
         ],
         "y": {
          "bdata": "Y5cqAECIcQCdbRUASFAmADOrLABUXBMABjY7AZFRKQD0RR8AXXYYANsaEgAB/30AcwA9AWxeLwDCVSMA7pQiAI0bKwCvCzsA+K4cAKKzcwBLIz8A6ANNALlOGwCAvy4ALAwTALQECwCCFUIARf4RADveHwAMcg4A3ZgTAOZGFQBPVhQAUAsOABr+BwAsCj8AWbJYAN5LwQAkNDEAvKQXAD08EwAb/w0ArrIYAEhSFQDJwCkAky1NAHRKCwDWzSkAGgmWAH8aAQEd1SkAHpOZACSzQQD9Sh8ALPgZACAZLQCTUDcARUhOACiSEwCCeQsAqncXABfDCABGeRYAvmsJAEM2BwCLVREAT3EkAM/9HwG+NwkBEiYvABK+BQAs0QcADeIFADUhBwCoRgkAWZASAMqUEQBQ6xEAdk03AA3dEgBBwAgAjGUOAGOpBABIbAUAoI0EAPj3CQAwugEA3A8EAIYhAQAcmAoAtLIHABNtBQCc1w4AraACADIFAgCCqwAAKnkIAFpJAQCIkAAA0QEBAHXsAgD0fgAA2B0DAF1rHwCH8x4Ak+UPAHzJIAA7rwoAfIEHADNKAwAnSQUAFaEGALouKQDfvQQAPBAEAO4YBgDEdAMARVcYAKhuAgDetgEAIzIRACS8AQD4EgQA3NUHANyPAgDSOQAAhFsCAFKhDgBeOAUAz6sZAIe2QAA2sAsAyvcCAFV5DwBIKwUAc9EIAHQoBABo+AMAJQ0BAAopBABBZAEAafMIAK0BDQAUZAUAlvsHAMMuAQCiywUAG+sBAGToBgC1ygMAqP8HAJUMBQCamgAA1sIAAJoNCQAbjAcApJ8BAB7LBABQ/AMAZxIUAK+rCgA9ISIBr3NVAIylHQAhVhsAWDcMAOCvCQD0ywgAzMQUAAhQEQDwkAsAGLoKAHXfCwBnoRcALWp4AE9tLgDsoxoAYK4jAIYCYABwiZgABIqjALTIKwBwWhIAAZgRANhuCQA4yQgAfIcfADajGgDXYZ4Bvi5LATAVmQCNIhMBgQghAlGqpwKWA2gBaS1ZAKYrVAKSV9UCZicwAwZ7mwI=",
          "dtype": "i4"
         },
         "yaxis": "y2"
        }
       ],
       "layout": {
        "height": 600,
        "template": {
         "data": {
          "bar": [
           {
            "error_x": {
             "color": "#2a3f5f"
            },
            "error_y": {
             "color": "#2a3f5f"
            },
            "marker": {
             "line": {
              "color": "white",
              "width": 0.5
             },
             "pattern": {
              "fillmode": "overlay",
              "size": 10,
              "solidity": 0.2
             }
            },
            "type": "bar"
           }
          ],
          "barpolar": [
           {
            "marker": {
             "line": {
              "color": "white",
              "width": 0.5
             },
             "pattern": {
              "fillmode": "overlay",
              "size": 10,
              "solidity": 0.2
             }
            },
            "type": "barpolar"
           }
          ],
          "carpet": [
           {
            "aaxis": {
             "endlinecolor": "#2a3f5f",
             "gridcolor": "#C8D4E3",
             "linecolor": "#C8D4E3",
             "minorgridcolor": "#C8D4E3",
             "startlinecolor": "#2a3f5f"
            },
            "baxis": {
             "endlinecolor": "#2a3f5f",
             "gridcolor": "#C8D4E3",
             "linecolor": "#C8D4E3",
             "minorgridcolor": "#C8D4E3",
             "startlinecolor": "#2a3f5f"
            },
            "type": "carpet"
           }
          ],
          "choropleth": [
           {
            "colorbar": {
             "outlinewidth": 0,
             "ticks": ""
            },
            "type": "choropleth"
           }
          ],
          "contour": [
           {
            "colorbar": {
             "outlinewidth": 0,
             "ticks": ""
            },
            "colorscale": [
             [
              0,
              "#0d0887"
             ],
             [
              0.1111111111111111,
              "#46039f"
             ],
             [
              0.2222222222222222,
              "#7201a8"
             ],
             [
              0.3333333333333333,
              "#9c179e"
             ],
             [
              0.4444444444444444,
              "#bd3786"
             ],
             [
              0.5555555555555556,
              "#d8576b"
             ],
             [
              0.6666666666666666,
              "#ed7953"
             ],
             [
              0.7777777777777778,
              "#fb9f3a"
             ],
             [
              0.8888888888888888,
              "#fdca26"
             ],
             [
              1,
              "#f0f921"
             ]
            ],
            "type": "contour"
           }
          ],
          "contourcarpet": [
           {
            "colorbar": {
             "outlinewidth": 0,
             "ticks": ""
            },
            "type": "contourcarpet"
           }
          ],
          "heatmap": [
           {
            "colorbar": {
             "outlinewidth": 0,
             "ticks": ""
            },
            "colorscale": [
             [
              0,
              "#0d0887"
             ],
             [
              0.1111111111111111,
              "#46039f"
             ],
             [
              0.2222222222222222,
              "#7201a8"
             ],
             [
              0.3333333333333333,
              "#9c179e"
             ],
             [
              0.4444444444444444,
              "#bd3786"
             ],
             [
              0.5555555555555556,
              "#d8576b"
             ],
             [
              0.6666666666666666,
              "#ed7953"
             ],
             [
              0.7777777777777778,
              "#fb9f3a"
             ],
             [
              0.8888888888888888,
              "#fdca26"
             ],
             [
              1,
              "#f0f921"
             ]
            ],
            "type": "heatmap"
           }
          ],
          "histogram": [
           {
            "marker": {
             "pattern": {
              "fillmode": "overlay",
              "size": 10,
              "solidity": 0.2
             }
            },
            "type": "histogram"
           }
          ],
          "histogram2d": [
           {
            "colorbar": {
             "outlinewidth": 0,
             "ticks": ""
            },
            "colorscale": [
             [
              0,
              "#0d0887"
             ],
             [
              0.1111111111111111,
              "#46039f"
             ],
             [
              0.2222222222222222,
              "#7201a8"
             ],
             [
              0.3333333333333333,
              "#9c179e"
             ],
             [
              0.4444444444444444,
              "#bd3786"
             ],
             [
              0.5555555555555556,
              "#d8576b"
             ],
             [
              0.6666666666666666,
              "#ed7953"
             ],
             [
              0.7777777777777778,
              "#fb9f3a"
             ],
             [
              0.8888888888888888,
              "#fdca26"
             ],
             [
              1,
              "#f0f921"
             ]
            ],
            "type": "histogram2d"
           }
          ],
          "histogram2dcontour": [
           {
            "colorbar": {
             "outlinewidth": 0,
             "ticks": ""
            },
            "colorscale": [
             [
              0,
              "#0d0887"
             ],
             [
              0.1111111111111111,
              "#46039f"
             ],
             [
              0.2222222222222222,
              "#7201a8"
             ],
             [
              0.3333333333333333,
              "#9c179e"
             ],
             [
              0.4444444444444444,
              "#bd3786"
             ],
             [
              0.5555555555555556,
              "#d8576b"
             ],
             [
              0.6666666666666666,
              "#ed7953"
             ],
             [
              0.7777777777777778,
              "#fb9f3a"
             ],
             [
              0.8888888888888888,
              "#fdca26"
             ],
             [
              1,
              "#f0f921"
             ]
            ],
            "type": "histogram2dcontour"
           }
          ],
          "mesh3d": [
           {
            "colorbar": {
             "outlinewidth": 0,
             "ticks": ""
            },
            "type": "mesh3d"
           }
          ],
          "parcoords": [
           {
            "line": {
             "colorbar": {
              "outlinewidth": 0,
              "ticks": ""
             }
            },
            "type": "parcoords"
           }
          ],
          "pie": [
           {
            "automargin": true,
            "type": "pie"
           }
          ],
          "scatter": [
           {
            "fillpattern": {
             "fillmode": "overlay",
             "size": 10,
             "solidity": 0.2
            },
            "type": "scatter"
           }
          ],
          "scatter3d": [
           {
            "line": {
             "colorbar": {
              "outlinewidth": 0,
              "ticks": ""
             }
            },
            "marker": {
             "colorbar": {
              "outlinewidth": 0,
              "ticks": ""
             }
            },
            "type": "scatter3d"
           }
          ],
          "scattercarpet": [
           {
            "marker": {
             "colorbar": {
              "outlinewidth": 0,
              "ticks": ""
             }
            },
            "type": "scattercarpet"
           }
          ],
          "scattergeo": [
           {
            "marker": {
             "colorbar": {
              "outlinewidth": 0,
              "ticks": ""
             }
            },
            "type": "scattergeo"
           }
          ],
          "scattergl": [
           {
            "marker": {
             "colorbar": {
              "outlinewidth": 0,
              "ticks": ""
             }
            },
            "type": "scattergl"
           }
          ],
          "scattermap": [
           {
            "marker": {
             "colorbar": {
              "outlinewidth": 0,
              "ticks": ""
             }
            },
            "type": "scattermap"
           }
          ],
          "scattermapbox": [
           {
            "marker": {
             "colorbar": {
              "outlinewidth": 0,
              "ticks": ""
             }
            },
            "type": "scattermapbox"
           }
          ],
          "scatterpolar": [
           {
            "marker": {
             "colorbar": {
              "outlinewidth": 0,
              "ticks": ""
             }
            },
            "type": "scatterpolar"
           }
          ],
          "scatterpolargl": [
           {
            "marker": {
             "colorbar": {
              "outlinewidth": 0,
              "ticks": ""
             }
            },
            "type": "scatterpolargl"
           }
          ],
          "scatterternary": [
           {
            "marker": {
             "colorbar": {
              "outlinewidth": 0,
              "ticks": ""
             }
            },
            "type": "scatterternary"
           }
          ],
          "surface": [
           {
            "colorbar": {
             "outlinewidth": 0,
             "ticks": ""
            },
            "colorscale": [
             [
              0,
              "#0d0887"
             ],
             [
              0.1111111111111111,
              "#46039f"
             ],
             [
              0.2222222222222222,
              "#7201a8"
             ],
             [
              0.3333333333333333,
              "#9c179e"
             ],
             [
              0.4444444444444444,
              "#bd3786"
             ],
             [
              0.5555555555555556,
              "#d8576b"
             ],
             [
              0.6666666666666666,
              "#ed7953"
             ],
             [
              0.7777777777777778,
              "#fb9f3a"
             ],
             [
              0.8888888888888888,
              "#fdca26"
             ],
             [
              1,
              "#f0f921"
             ]
            ],
            "type": "surface"
           }
          ],
          "table": [
           {
            "cells": {
             "fill": {
              "color": "#EBF0F8"
             },
             "line": {
              "color": "white"
             }
            },
            "header": {
             "fill": {
              "color": "#C8D4E3"
             },
             "line": {
              "color": "white"
             }
            },
            "type": "table"
           }
          ]
         },
         "layout": {
          "annotationdefaults": {
           "arrowcolor": "#2a3f5f",
           "arrowhead": 0,
           "arrowwidth": 1
          },
          "autotypenumbers": "strict",
          "coloraxis": {
           "colorbar": {
            "outlinewidth": 0,
            "ticks": ""
           }
          },
          "colorscale": {
           "diverging": [
            [
             0,
             "#8e0152"
            ],
            [
             0.1,
             "#c51b7d"
            ],
            [
             0.2,
             "#de77ae"
            ],
            [
             0.3,
             "#f1b6da"
            ],
            [
             0.4,
             "#fde0ef"
            ],
            [
             0.5,
             "#f7f7f7"
            ],
            [
             0.6,
             "#e6f5d0"
            ],
            [
             0.7,
             "#b8e186"
            ],
            [
             0.8,
             "#7fbc41"
            ],
            [
             0.9,
             "#4d9221"
            ],
            [
             1,
             "#276419"
            ]
           ],
           "sequential": [
            [
             0,
             "#0d0887"
            ],
            [
             0.1111111111111111,
             "#46039f"
            ],
            [
             0.2222222222222222,
             "#7201a8"
            ],
            [
             0.3333333333333333,
             "#9c179e"
            ],
            [
             0.4444444444444444,
             "#bd3786"
            ],
            [
             0.5555555555555556,
             "#d8576b"
            ],
            [
             0.6666666666666666,
             "#ed7953"
            ],
            [
             0.7777777777777778,
             "#fb9f3a"
            ],
            [
             0.8888888888888888,
             "#fdca26"
            ],
            [
             1,
             "#f0f921"
            ]
           ],
           "sequentialminus": [
            [
             0,
             "#0d0887"
            ],
            [
             0.1111111111111111,
             "#46039f"
            ],
            [
             0.2222222222222222,
             "#7201a8"
            ],
            [
             0.3333333333333333,
             "#9c179e"
            ],
            [
             0.4444444444444444,
             "#bd3786"
            ],
            [
             0.5555555555555556,
             "#d8576b"
            ],
            [
             0.6666666666666666,
             "#ed7953"
            ],
            [
             0.7777777777777778,
             "#fb9f3a"
            ],
            [
             0.8888888888888888,
             "#fdca26"
            ],
            [
             1,
             "#f0f921"
            ]
           ]
          },
          "colorway": [
           "#636efa",
           "#EF553B",
           "#00cc96",
           "#ab63fa",
           "#FFA15A",
           "#19d3f3",
           "#FF6692",
           "#B6E880",
           "#FF97FF",
           "#FECB52"
          ],
          "font": {
           "color": "#2a3f5f"
          },
          "geo": {
           "bgcolor": "white",
           "lakecolor": "white",
           "landcolor": "white",
           "showlakes": true,
           "showland": true,
           "subunitcolor": "#C8D4E3"
          },
          "hoverlabel": {
           "align": "left"
          },
          "hovermode": "closest",
          "mapbox": {
           "style": "light"
          },
          "paper_bgcolor": "white",
          "plot_bgcolor": "white",
          "polar": {
           "angularaxis": {
            "gridcolor": "#EBF0F8",
            "linecolor": "#EBF0F8",
            "ticks": ""
           },
           "bgcolor": "white",
           "radialaxis": {
            "gridcolor": "#EBF0F8",
            "linecolor": "#EBF0F8",
            "ticks": ""
           }
          },
          "scene": {
           "xaxis": {
            "backgroundcolor": "white",
            "gridcolor": "#DFE8F3",
            "gridwidth": 2,
            "linecolor": "#EBF0F8",
            "showbackground": true,
            "ticks": "",
            "zerolinecolor": "#EBF0F8"
           },
           "yaxis": {
            "backgroundcolor": "white",
            "gridcolor": "#DFE8F3",
            "gridwidth": 2,
            "linecolor": "#EBF0F8",
            "showbackground": true,
            "ticks": "",
            "zerolinecolor": "#EBF0F8"
           },
           "zaxis": {
            "backgroundcolor": "white",
            "gridcolor": "#DFE8F3",
            "gridwidth": 2,
            "linecolor": "#EBF0F8",
            "showbackground": true,
            "ticks": "",
            "zerolinecolor": "#EBF0F8"
           }
          },
          "shapedefaults": {
           "line": {
            "color": "#2a3f5f"
           }
          },
          "ternary": {
           "aaxis": {
            "gridcolor": "#DFE8F3",
            "linecolor": "#A2B1C6",
            "ticks": ""
           },
           "baxis": {
            "gridcolor": "#DFE8F3",
            "linecolor": "#A2B1C6",
            "ticks": ""
           },
           "bgcolor": "white",
           "caxis": {
            "gridcolor": "#DFE8F3",
            "linecolor": "#A2B1C6",
            "ticks": ""
           }
          },
          "title": {
           "x": 0.05
          },
          "xaxis": {
           "automargin": true,
           "gridcolor": "#EBF0F8",
           "linecolor": "#EBF0F8",
           "ticks": "",
           "title": {
            "standoff": 15
           },
           "zerolinecolor": "#EBF0F8",
           "zerolinewidth": 2
          },
          "yaxis": {
           "automargin": true,
           "gridcolor": "#EBF0F8",
           "linecolor": "#EBF0F8",
           "ticks": "",
           "title": {
            "standoff": 15
           },
           "zerolinecolor": "#EBF0F8",
           "zerolinewidth": 2
          }
         }
        },
        "title": {
         "text": "24CS Stock Candlestick Chart with EMA(5,15,35,89,200) and Volume"
        },
        "width": 950,
        "xaxis": {
         "rangeslider": {
          "visible": false
         },
         "title": {
          "text": "Date"
         }
        },
        "yaxis": {
         "domain": [
          0.3,
          1
         ],
         "title": {
          "text": "Price"
         }
        },
        "yaxis2": {
         "domain": [
          0,
          0.25
         ],
         "title": {
          "text": "Volume"
         }
        }
       }
      }
     },
     "metadata": {},
     "output_type": "display_data"
    }
   ],
   "source": [
    "import plotly.graph_objects as go\n",
    "\n",
    "# 🔹 เลือกเฉพาะหุ้น 24CS\n",
    "ohlc_df = df_cand[df_cand[\"symbol\"] == \"24CS\"].copy()\n",
    "\n",
    "# 🔹 จัดการ index\n",
    "ohlc_df[\"time\"] = pd.to_datetime(ohlc_df[\"time\"])\n",
    "ohlc_df = ohlc_df.sort_values(\"time\")\n",
    "ohlc_df = ohlc_df.set_index(\"time\")\n",
    "ohlc_df.index.name = \"Date\"\n",
    "\n",
    "# 🔹 Rename columns ให้ตรงกับ Plotly\n",
    "ohlc_df = ohlc_df.rename(columns={\n",
    "    \"open_price\": \"Open\",\n",
    "    \"high_price\": \"High\",\n",
    "    \"low_price\": \"Low\",\n",
    "    \"close_price\": \"Close\",\n",
    "    \"volume\": \"Volume\"\n",
    "})\n",
    "\n",
    "# 🔹 เลือกแค่ 200 วันล่าสุด (เพื่อดูง่าย)\n",
    "ohlc_df = ohlc_df.tail(200)\n",
    "\n",
    "# 🔹 คำนวณ EMA\n",
    "for p in [5, 15, 35, 89, 200]:\n",
    "    ohlc_df[f\"EMA{p}\"] = ohlc_df[\"Close\"].ewm(span=p, adjust=False).mean()\n",
    "\n",
    "# ✅ กราฟ Candlestick\n",
    "fig = go.Figure(data=[go.Candlestick(\n",
    "    x=ohlc_df.index,\n",
    "    open=ohlc_df['Open'],\n",
    "    high=ohlc_df['High'],\n",
    "    low=ohlc_df['Low'],\n",
    "    close=ohlc_df['Close'],\n",
    "    name=\"Candlestick\"\n",
    ")])\n",
    "\n",
    "# ✅ เส้น EMA\n",
    "colors = {5:\"blue\", 15:\"orange\", 35:\"green\", 89:\"purple\", 200:\"red\"}\n",
    "for p in [5, 15, 35, 89, 200]:\n",
    "    fig.add_trace(go.Scatter(\n",
    "        x=ohlc_df.index,\n",
    "        y=ohlc_df[f\"EMA{p}\"],\n",
    "        mode=\"lines\",\n",
    "        line=dict(width=2, color=colors[p]),\n",
    "        name=f\"EMA{p}\"\n",
    "    ))\n",
    "\n",
    "# ✅ Volume\n",
    "fig.add_trace(go.Bar(\n",
    "    x=ohlc_df.index,\n",
    "    y=ohlc_df['Volume'],\n",
    "    name=\"Volume\",\n",
    "    marker_color=\"lightblue\",\n",
    "    opacity=0.5,\n",
    "    yaxis=\"y2\"\n",
    "))\n",
    "\n",
    "# ✅ Layout\n",
    "fig.update_layout(\n",
    "    title=\"24CS Stock Candlestick Chart with EMA(5,15,35,89,200) and Volume\",\n",
    "    yaxis=dict(title=\"Price\", domain=[0.3, 1]),\n",
    "    yaxis2=dict(title=\"Volume\", domain=[0, 0.25]),\n",
    "    xaxis=dict(title=\"Date\"),\n",
    "    xaxis_rangeslider_visible=False,\n",
    "    template=\"plotly_white\",\n",
    "    width=950,\n",
    "    height=600\n",
    ")\n",
    "\n",
    "fig.show()\n"
   ]
  },
  {
   "cell_type": "code",
   "execution_count": 166,
   "id": "478175da",
   "metadata": {},
   "outputs": [
    {
     "data": {
      "application/vnd.plotly.v1+json": {
       "config": {
        "plotlyServerURL": "https://plot.ly"
       },
       "data": [
        {
         "close": {
          "bdata": "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",
          "dtype": "f8"
         },
         "high": {
          "bdata": "AAAAIIXrEUAAAADA9SgSQAAAAAApXBFAAAAAQArXEUAAAAAghesRQAAAAIAUrhFAAAAAYGZmEkAAAADA9SgSQAAAAEAK1xFAAAAAwB6FEUAAAACAFK4RQAAAAOBRuBJAAAAAAClcE0AAAAAgrkcRQAAAAEAzMxFAAAAAIK5HEUAAAAAAKVwRQAAAAAApXBFAAAAAgD0KEUAAAACA61ESQAAAAIDrURJAAAAAQArXEUAAAAAghesRQAAAAMD1KBJAAAAAAAAAEkAAAACAFK4RQAAAAIAUrhFAAAAAIK5HEUAAAABgj8IRQAAAAKCZmRFAAAAAQArXEUAAAACgmZkRQAAAAEAzMxFAAAAAYLgeEUAAAABguB4RQAAAAGBmZhJAAAAAYGZmEkAAAABACtcTQAAAAMAehRNAAAAAgML1EkAAAADgUbgSQAAAAIDC9RJAAAAA4FG4EkAAAABgZmYSQAAAAAAAABJAAAAAwB6FEUAAAAAgrkcRQAAAACCuRxFAAAAAAClcEUAAAABA4XoQQAAAAOB6FBBAAAAAANejEEAAAACgcD0QQAAAAAApXA9AAAAA4FG4DkAAAABgZmYOQAAAACBcjw5AAAAAoHA9EEAAAAAAKVwPQAAAAIA9Cg9AAAAAwB6FD0AAAADgUbgOQAAAAKBH4Q5AAAAAoHA9DkAAAADgehQOQAAAAKBH4Q5AAAAAYLgeDUAAAAAA16MQQAAAAMDMzBBAAAAAIFyPDkAAAACgcD0OQAAAACCF6w1AAAAAoJmZDUAAAAAgrkcNQAAAAIDC9QxAAAAAgOtRDEAAAAAAAAAMQAAAAMDMzAxAAAAAAAAADEAAAABAMzMLQAAAAIA9CgtAAAAAYGZmCkAAAABgZmYKQAAAACCF6wlAAAAAoJmZCUAAAADgUbgKQAAAAGBmZgpAAAAAIIXrCUAAAABgj8IJQAAAAKCZmQlAAAAAQOF6CEAAAACA61EIQAAAAEAK1wdAAAAAwB6FB0AAAADAHoUHQAAAAMAehQdAAAAAAClcB0AAAAAAKVwHQAAAAAApXAdAAAAAAClcB0AAAACAFK4HQAAAAIAUrgdAAAAAQArXB0AAAACgcD0KQAAAAAApXAtAAAAAYGZmCkAAAABAMzMLQAAAAOCjcAlAAAAAIK5HCUAAAAAgrkcJQAAAAIDC9QhAAAAAAAAACEAAAACgmZkJQAAAAEAzMwdAAAAA4FG4BkAAAABAMzMHQAAAACBcjwZAAAAAYGZmBkAAAADgehQGQAAAAOB6FAZAAAAAQArXB0AAAACAPQoHQAAAAEAzMwdAAAAAgD0KB0AAAABgZmYGQAAAAKBH4QZAAAAAIFyPBkAAAAAgXI8GQAAAAKBH4QZAAAAAgOtRCEAAAABguB4JQAAAAAApXAdAAAAAYGZmBkAAAABgj8IFQAAAAIDrUQRAAAAAIK5HBUAAAABguB4FQAAAAGC4HgVAAAAAQOF6BEAAAADA9SgEQAAAAIDrUQRAAAAAwB6FA0AAAABgZmYCQAAAAGCPwgFAAAAAQOF6AEAAAADA9SgAQAAAAMD1KABAAAAAgOtRAEAAAACA61EAQAAAAADXowBAAAAAwMzMAEAAAAAAAAAAQAAAAGBmZv4/AAAAoHA9/j8AAACgcD3+PwAAAMD1KPw/AAAAgD0K+z8AAACAPQr7PwAAAGC4Hvk/AAAAgOtR+D8AAADA9Sj0PwAAAIDC9fg/AAAAgD0K9z8AAADgo3D1PwAAAMD1KPQ/AAAAAClc8z8AAAAgXI/yPwAAACBcj/I/AAAAIK5H8T8AAACAFK7vPwAAAMD1KPA/AAAAYI/C7T8AAADAzMzsPwAAAIDrUfA/AAAA4HoU8j8AAADgehTyPwAAAGC4HvE/AAAAYI/C8T8AAACAFK7zPwAAAOB6FPY/AAAAgD0K9z8AAACAPQr3PwAAAOB6FPY/AAAAoHA99j8AAAAgrkf1PwAAAGCPwvU/AAAAYGZm9j8AAACgcD32PwAAAMD1KPw/AAAAYGZm/j8AAAAAAAD8PwAAAIDC9fg/AAAAIFyP8j8AAABgZmbuPwAAAOBRuO4/AAAAwB6F6z8AAADAzMzwPwAAAEDhevA/AAAAgML18D8AAABgj8LxPw==",
          "dtype": "f8"
         },
         "low": {
          "bdata": "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",
          "dtype": "f8"
         },
         "name": "Candlestick",
         "open": {
          "bdata": "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",
          "dtype": "f8"
         },
         "type": "candlestick",
         "x": [
          "2024-08-02T00:00:00.000000000",
          "2024-08-05T00:00:00.000000000",
          "2024-08-06T00:00:00.000000000",
          "2024-08-07T00:00:00.000000000",
          "2024-08-08T00:00:00.000000000",
          "2024-08-09T00:00:00.000000000",
          "2024-08-13T00:00:00.000000000",
          "2024-08-14T00:00:00.000000000",
          "2024-08-15T00:00:00.000000000",
          "2024-08-16T00:00:00.000000000",
          "2024-08-19T00:00:00.000000000",
          "2024-08-20T00:00:00.000000000",
          "2024-08-21T00:00:00.000000000",
          "2024-08-22T00:00:00.000000000",
          "2024-08-23T00:00:00.000000000",
          "2024-08-26T00:00:00.000000000",
          "2024-08-27T00:00:00.000000000",
          "2024-08-28T00:00:00.000000000",
          "2024-08-29T00:00:00.000000000",
          "2024-08-30T00:00:00.000000000",
          "2024-09-02T00:00:00.000000000",
          "2024-09-03T00:00:00.000000000",
          "2024-09-04T00:00:00.000000000",
          "2024-09-05T00:00:00.000000000",
          "2024-09-06T00:00:00.000000000",
          "2024-09-09T00:00:00.000000000",
          "2024-09-10T00:00:00.000000000",
          "2024-09-11T00:00:00.000000000",
          "2024-09-12T00:00:00.000000000",
          "2024-09-13T00:00:00.000000000",
          "2024-09-16T00:00:00.000000000",
          "2024-09-17T00:00:00.000000000",
          "2024-09-18T00:00:00.000000000",
          "2024-09-19T00:00:00.000000000",
          "2024-09-20T00:00:00.000000000",
          "2024-09-23T00:00:00.000000000",
          "2024-09-24T00:00:00.000000000",
          "2024-09-25T00:00:00.000000000",
          "2024-09-26T00:00:00.000000000",
          "2024-09-27T00:00:00.000000000",
          "2024-09-30T00:00:00.000000000",
          "2024-10-01T00:00:00.000000000",
          "2024-10-02T00:00:00.000000000",
          "2024-10-03T00:00:00.000000000",
          "2024-10-04T00:00:00.000000000",
          "2024-10-07T00:00:00.000000000",
          "2024-10-08T00:00:00.000000000",
          "2024-10-09T00:00:00.000000000",
          "2024-10-10T00:00:00.000000000",
          "2024-10-11T00:00:00.000000000",
          "2024-10-15T00:00:00.000000000",
          "2024-10-16T00:00:00.000000000",
          "2024-10-17T00:00:00.000000000",
          "2024-10-18T00:00:00.000000000",
          "2024-10-21T00:00:00.000000000",
          "2024-10-22T00:00:00.000000000",
          "2024-10-24T00:00:00.000000000",
          "2024-10-25T00:00:00.000000000",
          "2024-10-28T00:00:00.000000000",
          "2024-10-29T00:00:00.000000000",
          "2024-10-30T00:00:00.000000000",
          "2024-10-31T00:00:00.000000000",
          "2024-11-01T00:00:00.000000000",
          "2024-11-04T00:00:00.000000000",
          "2024-11-05T00:00:00.000000000",
          "2024-11-06T00:00:00.000000000",
          "2024-11-07T00:00:00.000000000",
          "2024-11-08T00:00:00.000000000",
          "2024-11-11T00:00:00.000000000",
          "2024-11-12T00:00:00.000000000",
          "2024-11-13T00:00:00.000000000",
          "2024-11-14T00:00:00.000000000",
          "2024-11-15T00:00:00.000000000",
          "2024-11-18T00:00:00.000000000",
          "2024-11-19T00:00:00.000000000",
          "2024-11-20T00:00:00.000000000",
          "2024-11-21T00:00:00.000000000",
          "2024-11-22T00:00:00.000000000",
          "2024-11-25T00:00:00.000000000",
          "2024-11-26T00:00:00.000000000",
          "2024-11-27T00:00:00.000000000",
          "2024-11-28T00:00:00.000000000",
          "2024-11-29T00:00:00.000000000",
          "2024-12-02T00:00:00.000000000",
          "2024-12-03T00:00:00.000000000",
          "2024-12-04T00:00:00.000000000",
          "2024-12-06T00:00:00.000000000",
          "2024-12-09T00:00:00.000000000",
          "2024-12-11T00:00:00.000000000",
          "2024-12-12T00:00:00.000000000",
          "2024-12-13T00:00:00.000000000",
          "2024-12-16T00:00:00.000000000",
          "2024-12-17T00:00:00.000000000",
          "2024-12-18T00:00:00.000000000",
          "2024-12-19T00:00:00.000000000",
          "2024-12-20T00:00:00.000000000",
          "2024-12-23T00:00:00.000000000",
          "2024-12-24T00:00:00.000000000",
          "2024-12-25T00:00:00.000000000",
          "2024-12-26T00:00:00.000000000",
          "2024-12-27T00:00:00.000000000",
          "2024-12-30T00:00:00.000000000",
          "2025-01-02T00:00:00.000000000",
          "2025-01-03T00:00:00.000000000",
          "2025-01-06T00:00:00.000000000",
          "2025-01-07T00:00:00.000000000",
          "2025-01-08T00:00:00.000000000",
          "2025-01-09T00:00:00.000000000",
          "2025-01-10T00:00:00.000000000",
          "2025-01-13T00:00:00.000000000",
          "2025-01-14T00:00:00.000000000",
          "2025-01-15T00:00:00.000000000",
          "2025-01-16T00:00:00.000000000",
          "2025-01-17T00:00:00.000000000",
          "2025-01-20T00:00:00.000000000",
          "2025-01-21T00:00:00.000000000",
          "2025-01-22T00:00:00.000000000",
          "2025-01-23T00:00:00.000000000",
          "2025-01-24T00:00:00.000000000",
          "2025-01-27T00:00:00.000000000",
          "2025-01-28T00:00:00.000000000",
          "2025-01-29T00:00:00.000000000",
          "2025-01-30T00:00:00.000000000",
          "2025-01-31T00:00:00.000000000",
          "2025-02-03T00:00:00.000000000",
          "2025-02-04T00:00:00.000000000",
          "2025-02-05T00:00:00.000000000",
          "2025-02-06T00:00:00.000000000",
          "2025-02-07T00:00:00.000000000",
          "2025-02-10T00:00:00.000000000",
          "2025-02-11T00:00:00.000000000",
          "2025-02-13T00:00:00.000000000",
          "2025-02-14T00:00:00.000000000",
          "2025-02-17T00:00:00.000000000",
          "2025-02-18T00:00:00.000000000",
          "2025-02-19T00:00:00.000000000",
          "2025-02-20T00:00:00.000000000",
          "2025-02-21T00:00:00.000000000",
          "2025-02-24T00:00:00.000000000",
          "2025-02-25T00:00:00.000000000",
          "2025-02-26T00:00:00.000000000",
          "2025-02-27T00:00:00.000000000",
          "2025-02-28T00:00:00.000000000",
          "2025-03-03T00:00:00.000000000",
          "2025-03-04T00:00:00.000000000",
          "2025-03-05T00:00:00.000000000",
          "2025-03-06T00:00:00.000000000",
          "2025-03-07T00:00:00.000000000",
          "2025-03-10T00:00:00.000000000",
          "2025-03-11T00:00:00.000000000",
          "2025-03-12T00:00:00.000000000",
          "2025-03-13T00:00:00.000000000",
          "2025-03-14T00:00:00.000000000",
          "2025-03-17T00:00:00.000000000",
          "2025-03-18T00:00:00.000000000",
          "2025-03-19T00:00:00.000000000",
          "2025-03-20T00:00:00.000000000",
          "2025-03-21T00:00:00.000000000",
          "2025-03-24T00:00:00.000000000",
          "2025-03-25T00:00:00.000000000",
          "2025-03-26T00:00:00.000000000",
          "2025-03-27T00:00:00.000000000",
          "2025-03-28T00:00:00.000000000",
          "2025-03-31T00:00:00.000000000",
          "2025-04-01T00:00:00.000000000",
          "2025-04-02T00:00:00.000000000",
          "2025-04-03T00:00:00.000000000",
          "2025-04-04T00:00:00.000000000",
          "2025-04-08T00:00:00.000000000",
          "2025-04-09T00:00:00.000000000",
          "2025-04-10T00:00:00.000000000",
          "2025-04-11T00:00:00.000000000",
          "2025-04-16T00:00:00.000000000",
          "2025-04-17T00:00:00.000000000",
          "2025-04-18T00:00:00.000000000",
          "2025-04-21T00:00:00.000000000",
          "2025-04-22T00:00:00.000000000",
          "2025-04-23T00:00:00.000000000",
          "2025-04-24T00:00:00.000000000",
          "2025-04-25T00:00:00.000000000",
          "2025-04-28T00:00:00.000000000",
          "2025-04-29T00:00:00.000000000",
          "2025-04-30T00:00:00.000000000",
          "2025-05-02T00:00:00.000000000",
          "2025-05-06T00:00:00.000000000",
          "2025-05-07T00:00:00.000000000",
          "2025-05-08T00:00:00.000000000",
          "2025-05-09T00:00:00.000000000",
          "2025-05-13T00:00:00.000000000",
          "2025-05-14T00:00:00.000000000",
          "2025-05-15T00:00:00.000000000",
          "2025-05-16T00:00:00.000000000",
          "2025-05-19T00:00:00.000000000",
          "2025-05-20T00:00:00.000000000",
          "2025-05-21T00:00:00.000000000",
          "2025-05-22T00:00:00.000000000",
          "2025-05-23T00:00:00.000000000",
          "2025-05-26T00:00:00.000000000",
          "2025-05-27T00:00:00.000000000",
          "2025-05-28T00:00:00.000000000"
         ],
         "xaxis": "x",
         "yaxis": "y"
        },
        {
         "line": {
          "color": "blue",
          "width": 2
         },
         "mode": "lines",
         "name": "EMA5",
         "type": "scatter",
         "x": [
          "2024-08-02T00:00:00.000000000",
          "2024-08-05T00:00:00.000000000",
          "2024-08-06T00:00:00.000000000",
          "2024-08-07T00:00:00.000000000",
          "2024-08-08T00:00:00.000000000",
          "2024-08-09T00:00:00.000000000",
          "2024-08-13T00:00:00.000000000",
          "2024-08-14T00:00:00.000000000",
          "2024-08-15T00:00:00.000000000",
          "2024-08-16T00:00:00.000000000",
          "2024-08-19T00:00:00.000000000",
          "2024-08-20T00:00:00.000000000",
          "2024-08-21T00:00:00.000000000",
          "2024-08-22T00:00:00.000000000",
          "2024-08-23T00:00:00.000000000",
          "2024-08-26T00:00:00.000000000",
          "2024-08-27T00:00:00.000000000",
          "2024-08-28T00:00:00.000000000",
          "2024-08-29T00:00:00.000000000",
          "2024-08-30T00:00:00.000000000",
          "2024-09-02T00:00:00.000000000",
          "2024-09-03T00:00:00.000000000",
          "2024-09-04T00:00:00.000000000",
          "2024-09-05T00:00:00.000000000",
          "2024-09-06T00:00:00.000000000",
          "2024-09-09T00:00:00.000000000",
          "2024-09-10T00:00:00.000000000",
          "2024-09-11T00:00:00.000000000",
          "2024-09-12T00:00:00.000000000",
          "2024-09-13T00:00:00.000000000",
          "2024-09-16T00:00:00.000000000",
          "2024-09-17T00:00:00.000000000",
          "2024-09-18T00:00:00.000000000",
          "2024-09-19T00:00:00.000000000",
          "2024-09-20T00:00:00.000000000",
          "2024-09-23T00:00:00.000000000",
          "2024-09-24T00:00:00.000000000",
          "2024-09-25T00:00:00.000000000",
          "2024-09-26T00:00:00.000000000",
          "2024-09-27T00:00:00.000000000",
          "2024-09-30T00:00:00.000000000",
          "2024-10-01T00:00:00.000000000",
          "2024-10-02T00:00:00.000000000",
          "2024-10-03T00:00:00.000000000",
          "2024-10-04T00:00:00.000000000",
          "2024-10-07T00:00:00.000000000",
          "2024-10-08T00:00:00.000000000",
          "2024-10-09T00:00:00.000000000",
          "2024-10-10T00:00:00.000000000",
          "2024-10-11T00:00:00.000000000",
          "2024-10-15T00:00:00.000000000",
          "2024-10-16T00:00:00.000000000",
          "2024-10-17T00:00:00.000000000",
          "2024-10-18T00:00:00.000000000",
          "2024-10-21T00:00:00.000000000",
          "2024-10-22T00:00:00.000000000",
          "2024-10-24T00:00:00.000000000",
          "2024-10-25T00:00:00.000000000",
          "2024-10-28T00:00:00.000000000",
          "2024-10-29T00:00:00.000000000",
          "2024-10-30T00:00:00.000000000",
          "2024-10-31T00:00:00.000000000",
          "2024-11-01T00:00:00.000000000",
          "2024-11-04T00:00:00.000000000",
          "2024-11-05T00:00:00.000000000",
          "2024-11-06T00:00:00.000000000",
          "2024-11-07T00:00:00.000000000",
          "2024-11-08T00:00:00.000000000",
          "2024-11-11T00:00:00.000000000",
          "2024-11-12T00:00:00.000000000",
          "2024-11-13T00:00:00.000000000",
          "2024-11-14T00:00:00.000000000",
          "2024-11-15T00:00:00.000000000",
          "2024-11-18T00:00:00.000000000",
          "2024-11-19T00:00:00.000000000",
          "2024-11-20T00:00:00.000000000",
          "2024-11-21T00:00:00.000000000",
          "2024-11-22T00:00:00.000000000",
          "2024-11-25T00:00:00.000000000",
          "2024-11-26T00:00:00.000000000",
          "2024-11-27T00:00:00.000000000",
          "2024-11-28T00:00:00.000000000",
          "2024-11-29T00:00:00.000000000",
          "2024-12-02T00:00:00.000000000",
          "2024-12-03T00:00:00.000000000",
          "2024-12-04T00:00:00.000000000",
          "2024-12-06T00:00:00.000000000",
          "2024-12-09T00:00:00.000000000",
          "2024-12-11T00:00:00.000000000",
          "2024-12-12T00:00:00.000000000",
          "2024-12-13T00:00:00.000000000",
          "2024-12-16T00:00:00.000000000",
          "2024-12-17T00:00:00.000000000",
          "2024-12-18T00:00:00.000000000",
          "2024-12-19T00:00:00.000000000",
          "2024-12-20T00:00:00.000000000",
          "2024-12-23T00:00:00.000000000",
          "2024-12-24T00:00:00.000000000",
          "2024-12-25T00:00:00.000000000",
          "2024-12-26T00:00:00.000000000",
          "2024-12-27T00:00:00.000000000",
          "2024-12-30T00:00:00.000000000",
          "2025-01-02T00:00:00.000000000",
          "2025-01-03T00:00:00.000000000",
          "2025-01-06T00:00:00.000000000",
          "2025-01-07T00:00:00.000000000",
          "2025-01-08T00:00:00.000000000",
          "2025-01-09T00:00:00.000000000",
          "2025-01-10T00:00:00.000000000",
          "2025-01-13T00:00:00.000000000",
          "2025-01-14T00:00:00.000000000",
          "2025-01-15T00:00:00.000000000",
          "2025-01-16T00:00:00.000000000",
          "2025-01-17T00:00:00.000000000",
          "2025-01-20T00:00:00.000000000",
          "2025-01-21T00:00:00.000000000",
          "2025-01-22T00:00:00.000000000",
          "2025-01-23T00:00:00.000000000",
          "2025-01-24T00:00:00.000000000",
          "2025-01-27T00:00:00.000000000",
          "2025-01-28T00:00:00.000000000",
          "2025-01-29T00:00:00.000000000",
          "2025-01-30T00:00:00.000000000",
          "2025-01-31T00:00:00.000000000",
          "2025-02-03T00:00:00.000000000",
          "2025-02-04T00:00:00.000000000",
          "2025-02-05T00:00:00.000000000",
          "2025-02-06T00:00:00.000000000",
          "2025-02-07T00:00:00.000000000",
          "2025-02-10T00:00:00.000000000",
          "2025-02-11T00:00:00.000000000",
          "2025-02-13T00:00:00.000000000",
          "2025-02-14T00:00:00.000000000",
          "2025-02-17T00:00:00.000000000",
          "2025-02-18T00:00:00.000000000",
          "2025-02-19T00:00:00.000000000",
          "2025-02-20T00:00:00.000000000",
          "2025-02-21T00:00:00.000000000",
          "2025-02-24T00:00:00.000000000",
          "2025-02-25T00:00:00.000000000",
          "2025-02-26T00:00:00.000000000",
          "2025-02-27T00:00:00.000000000",
          "2025-02-28T00:00:00.000000000",
          "2025-03-03T00:00:00.000000000",
          "2025-03-04T00:00:00.000000000",
          "2025-03-05T00:00:00.000000000",
          "2025-03-06T00:00:00.000000000",
          "2025-03-07T00:00:00.000000000",
          "2025-03-10T00:00:00.000000000",
          "2025-03-11T00:00:00.000000000",
          "2025-03-12T00:00:00.000000000",
          "2025-03-13T00:00:00.000000000",
          "2025-03-14T00:00:00.000000000",
          "2025-03-17T00:00:00.000000000",
          "2025-03-18T00:00:00.000000000",
          "2025-03-19T00:00:00.000000000",
          "2025-03-20T00:00:00.000000000",
          "2025-03-21T00:00:00.000000000",
          "2025-03-24T00:00:00.000000000",
          "2025-03-25T00:00:00.000000000",
          "2025-03-26T00:00:00.000000000",
          "2025-03-27T00:00:00.000000000",
          "2025-03-28T00:00:00.000000000",
          "2025-03-31T00:00:00.000000000",
          "2025-04-01T00:00:00.000000000",
          "2025-04-02T00:00:00.000000000",
          "2025-04-03T00:00:00.000000000",
          "2025-04-04T00:00:00.000000000",
          "2025-04-08T00:00:00.000000000",
          "2025-04-09T00:00:00.000000000",
          "2025-04-10T00:00:00.000000000",
          "2025-04-11T00:00:00.000000000",
          "2025-04-16T00:00:00.000000000",
          "2025-04-17T00:00:00.000000000",
          "2025-04-18T00:00:00.000000000",
          "2025-04-21T00:00:00.000000000",
          "2025-04-22T00:00:00.000000000",
          "2025-04-23T00:00:00.000000000",
          "2025-04-24T00:00:00.000000000",
          "2025-04-25T00:00:00.000000000",
          "2025-04-28T00:00:00.000000000",
          "2025-04-29T00:00:00.000000000",
          "2025-04-30T00:00:00.000000000",
          "2025-05-02T00:00:00.000000000",
          "2025-05-06T00:00:00.000000000",
          "2025-05-07T00:00:00.000000000",
          "2025-05-08T00:00:00.000000000",
          "2025-05-09T00:00:00.000000000",
          "2025-05-13T00:00:00.000000000",
          "2025-05-14T00:00:00.000000000",
          "2025-05-15T00:00:00.000000000",
          "2025-05-16T00:00:00.000000000",
          "2025-05-19T00:00:00.000000000",
          "2025-05-20T00:00:00.000000000",
          "2025-05-21T00:00:00.000000000",
          "2025-05-22T00:00:00.000000000",
          "2025-05-23T00:00:00.000000000",
          "2025-05-26T00:00:00.000000000",
          "2025-05-27T00:00:00.000000000",
          "2025-05-28T00:00:00.000000000"
         ],
         "xaxis": "x",
         "y": {
          "bdata": "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",
          "dtype": "f8"
         },
         "yaxis": "y"
        },
        {
         "line": {
          "color": "orange",
          "width": 2
         },
         "mode": "lines",
         "name": "EMA15",
         "type": "scatter",
         "x": [
          "2024-08-02T00:00:00.000000000",
          "2024-08-05T00:00:00.000000000",
          "2024-08-06T00:00:00.000000000",
          "2024-08-07T00:00:00.000000000",
          "2024-08-08T00:00:00.000000000",
          "2024-08-09T00:00:00.000000000",
          "2024-08-13T00:00:00.000000000",
          "2024-08-14T00:00:00.000000000",
          "2024-08-15T00:00:00.000000000",
          "2024-08-16T00:00:00.000000000",
          "2024-08-19T00:00:00.000000000",
          "2024-08-20T00:00:00.000000000",
          "2024-08-21T00:00:00.000000000",
          "2024-08-22T00:00:00.000000000",
          "2024-08-23T00:00:00.000000000",
          "2024-08-26T00:00:00.000000000",
          "2024-08-27T00:00:00.000000000",
          "2024-08-28T00:00:00.000000000",
          "2024-08-29T00:00:00.000000000",
          "2024-08-30T00:00:00.000000000",
          "2024-09-02T00:00:00.000000000",
          "2024-09-03T00:00:00.000000000",
          "2024-09-04T00:00:00.000000000",
          "2024-09-05T00:00:00.000000000",
          "2024-09-06T00:00:00.000000000",
          "2024-09-09T00:00:00.000000000",
          "2024-09-10T00:00:00.000000000",
          "2024-09-11T00:00:00.000000000",
          "2024-09-12T00:00:00.000000000",
          "2024-09-13T00:00:00.000000000",
          "2024-09-16T00:00:00.000000000",
          "2024-09-17T00:00:00.000000000",
          "2024-09-18T00:00:00.000000000",
          "2024-09-19T00:00:00.000000000",
          "2024-09-20T00:00:00.000000000",
          "2024-09-23T00:00:00.000000000",
          "2024-09-24T00:00:00.000000000",
          "2024-09-25T00:00:00.000000000",
          "2024-09-26T00:00:00.000000000",
          "2024-09-27T00:00:00.000000000",
          "2024-09-30T00:00:00.000000000",
          "2024-10-01T00:00:00.000000000",
          "2024-10-02T00:00:00.000000000",
          "2024-10-03T00:00:00.000000000",
          "2024-10-04T00:00:00.000000000",
          "2024-10-07T00:00:00.000000000",
          "2024-10-08T00:00:00.000000000",
          "2024-10-09T00:00:00.000000000",
          "2024-10-10T00:00:00.000000000",
          "2024-10-11T00:00:00.000000000",
          "2024-10-15T00:00:00.000000000",
          "2024-10-16T00:00:00.000000000",
          "2024-10-17T00:00:00.000000000",
          "2024-10-18T00:00:00.000000000",
          "2024-10-21T00:00:00.000000000",
          "2024-10-22T00:00:00.000000000",
          "2024-10-24T00:00:00.000000000",
          "2024-10-25T00:00:00.000000000",
          "2024-10-28T00:00:00.000000000",
          "2024-10-29T00:00:00.000000000",
          "2024-10-30T00:00:00.000000000",
          "2024-10-31T00:00:00.000000000",
          "2024-11-01T00:00:00.000000000",
          "2024-11-04T00:00:00.000000000",
          "2024-11-05T00:00:00.000000000",
          "2024-11-06T00:00:00.000000000",
          "2024-11-07T00:00:00.000000000",
          "2024-11-08T00:00:00.000000000",
          "2024-11-11T00:00:00.000000000",
          "2024-11-12T00:00:00.000000000",
          "2024-11-13T00:00:00.000000000",
          "2024-11-14T00:00:00.000000000",
          "2024-11-15T00:00:00.000000000",
          "2024-11-18T00:00:00.000000000",
          "2024-11-19T00:00:00.000000000",
          "2024-11-20T00:00:00.000000000",
          "2024-11-21T00:00:00.000000000",
          "2024-11-22T00:00:00.000000000",
          "2024-11-25T00:00:00.000000000",
          "2024-11-26T00:00:00.000000000",
          "2024-11-27T00:00:00.000000000",
          "2024-11-28T00:00:00.000000000",
          "2024-11-29T00:00:00.000000000",
          "2024-12-02T00:00:00.000000000",
          "2024-12-03T00:00:00.000000000",
          "2024-12-04T00:00:00.000000000",
          "2024-12-06T00:00:00.000000000",
          "2024-12-09T00:00:00.000000000",
          "2024-12-11T00:00:00.000000000",
          "2024-12-12T00:00:00.000000000",
          "2024-12-13T00:00:00.000000000",
          "2024-12-16T00:00:00.000000000",
          "2024-12-17T00:00:00.000000000",
          "2024-12-18T00:00:00.000000000",
          "2024-12-19T00:00:00.000000000",
          "2024-12-20T00:00:00.000000000",
          "2024-12-23T00:00:00.000000000",
          "2024-12-24T00:00:00.000000000",
          "2024-12-25T00:00:00.000000000",
          "2024-12-26T00:00:00.000000000",
          "2024-12-27T00:00:00.000000000",
          "2024-12-30T00:00:00.000000000",
          "2025-01-02T00:00:00.000000000",
          "2025-01-03T00:00:00.000000000",
          "2025-01-06T00:00:00.000000000",
          "2025-01-07T00:00:00.000000000",
          "2025-01-08T00:00:00.000000000",
          "2025-01-09T00:00:00.000000000",
          "2025-01-10T00:00:00.000000000",
          "2025-01-13T00:00:00.000000000",
          "2025-01-14T00:00:00.000000000",
          "2025-01-15T00:00:00.000000000",
          "2025-01-16T00:00:00.000000000",
          "2025-01-17T00:00:00.000000000",
          "2025-01-20T00:00:00.000000000",
          "2025-01-21T00:00:00.000000000",
          "2025-01-22T00:00:00.000000000",
          "2025-01-23T00:00:00.000000000",
          "2025-01-24T00:00:00.000000000",
          "2025-01-27T00:00:00.000000000",
          "2025-01-28T00:00:00.000000000",
          "2025-01-29T00:00:00.000000000",
          "2025-01-30T00:00:00.000000000",
          "2025-01-31T00:00:00.000000000",
          "2025-02-03T00:00:00.000000000",
          "2025-02-04T00:00:00.000000000",
          "2025-02-05T00:00:00.000000000",
          "2025-02-06T00:00:00.000000000",
          "2025-02-07T00:00:00.000000000",
          "2025-02-10T00:00:00.000000000",
          "2025-02-11T00:00:00.000000000",
          "2025-02-13T00:00:00.000000000",
          "2025-02-14T00:00:00.000000000",
          "2025-02-17T00:00:00.000000000",
          "2025-02-18T00:00:00.000000000",
          "2025-02-19T00:00:00.000000000",
          "2025-02-20T00:00:00.000000000",
          "2025-02-21T00:00:00.000000000",
          "2025-02-24T00:00:00.000000000",
          "2025-02-25T00:00:00.000000000",
          "2025-02-26T00:00:00.000000000",
          "2025-02-27T00:00:00.000000000",
          "2025-02-28T00:00:00.000000000",
          "2025-03-03T00:00:00.000000000",
          "2025-03-04T00:00:00.000000000",
          "2025-03-05T00:00:00.000000000",
          "2025-03-06T00:00:00.000000000",
          "2025-03-07T00:00:00.000000000",
          "2025-03-10T00:00:00.000000000",
          "2025-03-11T00:00:00.000000000",
          "2025-03-12T00:00:00.000000000",
          "2025-03-13T00:00:00.000000000",
          "2025-03-14T00:00:00.000000000",
          "2025-03-17T00:00:00.000000000",
          "2025-03-18T00:00:00.000000000",
          "2025-03-19T00:00:00.000000000",
          "2025-03-20T00:00:00.000000000",
          "2025-03-21T00:00:00.000000000",
          "2025-03-24T00:00:00.000000000",
          "2025-03-25T00:00:00.000000000",
          "2025-03-26T00:00:00.000000000",
          "2025-03-27T00:00:00.000000000",
          "2025-03-28T00:00:00.000000000",
          "2025-03-31T00:00:00.000000000",
          "2025-04-01T00:00:00.000000000",
          "2025-04-02T00:00:00.000000000",
          "2025-04-03T00:00:00.000000000",
          "2025-04-04T00:00:00.000000000",
          "2025-04-08T00:00:00.000000000",
          "2025-04-09T00:00:00.000000000",
          "2025-04-10T00:00:00.000000000",
          "2025-04-11T00:00:00.000000000",
          "2025-04-16T00:00:00.000000000",
          "2025-04-17T00:00:00.000000000",
          "2025-04-18T00:00:00.000000000",
          "2025-04-21T00:00:00.000000000",
          "2025-04-22T00:00:00.000000000",
          "2025-04-23T00:00:00.000000000",
          "2025-04-24T00:00:00.000000000",
          "2025-04-25T00:00:00.000000000",
          "2025-04-28T00:00:00.000000000",
          "2025-04-29T00:00:00.000000000",
          "2025-04-30T00:00:00.000000000",
          "2025-05-02T00:00:00.000000000",
          "2025-05-06T00:00:00.000000000",
          "2025-05-07T00:00:00.000000000",
          "2025-05-08T00:00:00.000000000",
          "2025-05-09T00:00:00.000000000",
          "2025-05-13T00:00:00.000000000",
          "2025-05-14T00:00:00.000000000",
          "2025-05-15T00:00:00.000000000",
          "2025-05-16T00:00:00.000000000",
          "2025-05-19T00:00:00.000000000",
          "2025-05-20T00:00:00.000000000",
          "2025-05-21T00:00:00.000000000",
          "2025-05-22T00:00:00.000000000",
          "2025-05-23T00:00:00.000000000",
          "2025-05-26T00:00:00.000000000",
          "2025-05-27T00:00:00.000000000",
          "2025-05-28T00:00:00.000000000"
         ],
         "xaxis": "x",
         "y": {
          "bdata": "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",
          "dtype": "f8"
         },
         "yaxis": "y"
        },
        {
         "line": {
          "color": "green",
          "width": 2
         },
         "mode": "lines",
         "name": "EMA35",
         "type": "scatter",
         "x": [
          "2024-08-02T00:00:00.000000000",
          "2024-08-05T00:00:00.000000000",
          "2024-08-06T00:00:00.000000000",
          "2024-08-07T00:00:00.000000000",
          "2024-08-08T00:00:00.000000000",
          "2024-08-09T00:00:00.000000000",
          "2024-08-13T00:00:00.000000000",
          "2024-08-14T00:00:00.000000000",
          "2024-08-15T00:00:00.000000000",
          "2024-08-16T00:00:00.000000000",
          "2024-08-19T00:00:00.000000000",
          "2024-08-20T00:00:00.000000000",
          "2024-08-21T00:00:00.000000000",
          "2024-08-22T00:00:00.000000000",
          "2024-08-23T00:00:00.000000000",
          "2024-08-26T00:00:00.000000000",
          "2024-08-27T00:00:00.000000000",
          "2024-08-28T00:00:00.000000000",
          "2024-08-29T00:00:00.000000000",
          "2024-08-30T00:00:00.000000000",
          "2024-09-02T00:00:00.000000000",
          "2024-09-03T00:00:00.000000000",
          "2024-09-04T00:00:00.000000000",
          "2024-09-05T00:00:00.000000000",
          "2024-09-06T00:00:00.000000000",
          "2024-09-09T00:00:00.000000000",
          "2024-09-10T00:00:00.000000000",
          "2024-09-11T00:00:00.000000000",
          "2024-09-12T00:00:00.000000000",
          "2024-09-13T00:00:00.000000000",
          "2024-09-16T00:00:00.000000000",
          "2024-09-17T00:00:00.000000000",
          "2024-09-18T00:00:00.000000000",
          "2024-09-19T00:00:00.000000000",
          "2024-09-20T00:00:00.000000000",
          "2024-09-23T00:00:00.000000000",
          "2024-09-24T00:00:00.000000000",
          "2024-09-25T00:00:00.000000000",
          "2024-09-26T00:00:00.000000000",
          "2024-09-27T00:00:00.000000000",
          "2024-09-30T00:00:00.000000000",
          "2024-10-01T00:00:00.000000000",
          "2024-10-02T00:00:00.000000000",
          "2024-10-03T00:00:00.000000000",
          "2024-10-04T00:00:00.000000000",
          "2024-10-07T00:00:00.000000000",
          "2024-10-08T00:00:00.000000000",
          "2024-10-09T00:00:00.000000000",
          "2024-10-10T00:00:00.000000000",
          "2024-10-11T00:00:00.000000000",
          "2024-10-15T00:00:00.000000000",
          "2024-10-16T00:00:00.000000000",
          "2024-10-17T00:00:00.000000000",
          "2024-10-18T00:00:00.000000000",
          "2024-10-21T00:00:00.000000000",
          "2024-10-22T00:00:00.000000000",
          "2024-10-24T00:00:00.000000000",
          "2024-10-25T00:00:00.000000000",
          "2024-10-28T00:00:00.000000000",
          "2024-10-29T00:00:00.000000000",
          "2024-10-30T00:00:00.000000000",
          "2024-10-31T00:00:00.000000000",
          "2024-11-01T00:00:00.000000000",
          "2024-11-04T00:00:00.000000000",
          "2024-11-05T00:00:00.000000000",
          "2024-11-06T00:00:00.000000000",
          "2024-11-07T00:00:00.000000000",
          "2024-11-08T00:00:00.000000000",
          "2024-11-11T00:00:00.000000000",
          "2024-11-12T00:00:00.000000000",
          "2024-11-13T00:00:00.000000000",
          "2024-11-14T00:00:00.000000000",
          "2024-11-15T00:00:00.000000000",
          "2024-11-18T00:00:00.000000000",
          "2024-11-19T00:00:00.000000000",
          "2024-11-20T00:00:00.000000000",
          "2024-11-21T00:00:00.000000000",
          "2024-11-22T00:00:00.000000000",
          "2024-11-25T00:00:00.000000000",
          "2024-11-26T00:00:00.000000000",
          "2024-11-27T00:00:00.000000000",
          "2024-11-28T00:00:00.000000000",
          "2024-11-29T00:00:00.000000000",
          "2024-12-02T00:00:00.000000000",
          "2024-12-03T00:00:00.000000000",
          "2024-12-04T00:00:00.000000000",
          "2024-12-06T00:00:00.000000000",
          "2024-12-09T00:00:00.000000000",
          "2024-12-11T00:00:00.000000000",
          "2024-12-12T00:00:00.000000000",
          "2024-12-13T00:00:00.000000000",
          "2024-12-16T00:00:00.000000000",
          "2024-12-17T00:00:00.000000000",
          "2024-12-18T00:00:00.000000000",
          "2024-12-19T00:00:00.000000000",
          "2024-12-20T00:00:00.000000000",
          "2024-12-23T00:00:00.000000000",
          "2024-12-24T00:00:00.000000000",
          "2024-12-25T00:00:00.000000000",
          "2024-12-26T00:00:00.000000000",
          "2024-12-27T00:00:00.000000000",
          "2024-12-30T00:00:00.000000000",
          "2025-01-02T00:00:00.000000000",
          "2025-01-03T00:00:00.000000000",
          "2025-01-06T00:00:00.000000000",
          "2025-01-07T00:00:00.000000000",
          "2025-01-08T00:00:00.000000000",
          "2025-01-09T00:00:00.000000000",
          "2025-01-10T00:00:00.000000000",
          "2025-01-13T00:00:00.000000000",
          "2025-01-14T00:00:00.000000000",
          "2025-01-15T00:00:00.000000000",
          "2025-01-16T00:00:00.000000000",
          "2025-01-17T00:00:00.000000000",
          "2025-01-20T00:00:00.000000000",
          "2025-01-21T00:00:00.000000000",
          "2025-01-22T00:00:00.000000000",
          "2025-01-23T00:00:00.000000000",
          "2025-01-24T00:00:00.000000000",
          "2025-01-27T00:00:00.000000000",
          "2025-01-28T00:00:00.000000000",
          "2025-01-29T00:00:00.000000000",
          "2025-01-30T00:00:00.000000000",
          "2025-01-31T00:00:00.000000000",
          "2025-02-03T00:00:00.000000000",
          "2025-02-04T00:00:00.000000000",
          "2025-02-05T00:00:00.000000000",
          "2025-02-06T00:00:00.000000000",
          "2025-02-07T00:00:00.000000000",
          "2025-02-10T00:00:00.000000000",
          "2025-02-11T00:00:00.000000000",
          "2025-02-13T00:00:00.000000000",
          "2025-02-14T00:00:00.000000000",
          "2025-02-17T00:00:00.000000000",
          "2025-02-18T00:00:00.000000000",
          "2025-02-19T00:00:00.000000000",
          "2025-02-20T00:00:00.000000000",
          "2025-02-21T00:00:00.000000000",
          "2025-02-24T00:00:00.000000000",
          "2025-02-25T00:00:00.000000000",
          "2025-02-26T00:00:00.000000000",
          "2025-02-27T00:00:00.000000000",
          "2025-02-28T00:00:00.000000000",
          "2025-03-03T00:00:00.000000000",
          "2025-03-04T00:00:00.000000000",
          "2025-03-05T00:00:00.000000000",
          "2025-03-06T00:00:00.000000000",
          "2025-03-07T00:00:00.000000000",
          "2025-03-10T00:00:00.000000000",
          "2025-03-11T00:00:00.000000000",
          "2025-03-12T00:00:00.000000000",
          "2025-03-13T00:00:00.000000000",
          "2025-03-14T00:00:00.000000000",
          "2025-03-17T00:00:00.000000000",
          "2025-03-18T00:00:00.000000000",
          "2025-03-19T00:00:00.000000000",
          "2025-03-20T00:00:00.000000000",
          "2025-03-21T00:00:00.000000000",
          "2025-03-24T00:00:00.000000000",
          "2025-03-25T00:00:00.000000000",
          "2025-03-26T00:00:00.000000000",
          "2025-03-27T00:00:00.000000000",
          "2025-03-28T00:00:00.000000000",
          "2025-03-31T00:00:00.000000000",
          "2025-04-01T00:00:00.000000000",
          "2025-04-02T00:00:00.000000000",
          "2025-04-03T00:00:00.000000000",
          "2025-04-04T00:00:00.000000000",
          "2025-04-08T00:00:00.000000000",
          "2025-04-09T00:00:00.000000000",
          "2025-04-10T00:00:00.000000000",
          "2025-04-11T00:00:00.000000000",
          "2025-04-16T00:00:00.000000000",
          "2025-04-17T00:00:00.000000000",
          "2025-04-18T00:00:00.000000000",
          "2025-04-21T00:00:00.000000000",
          "2025-04-22T00:00:00.000000000",
          "2025-04-23T00:00:00.000000000",
          "2025-04-24T00:00:00.000000000",
          "2025-04-25T00:00:00.000000000",
          "2025-04-28T00:00:00.000000000",
          "2025-04-29T00:00:00.000000000",
          "2025-04-30T00:00:00.000000000",
          "2025-05-02T00:00:00.000000000",
          "2025-05-06T00:00:00.000000000",
          "2025-05-07T00:00:00.000000000",
          "2025-05-08T00:00:00.000000000",
          "2025-05-09T00:00:00.000000000",
          "2025-05-13T00:00:00.000000000",
          "2025-05-14T00:00:00.000000000",
          "2025-05-15T00:00:00.000000000",
          "2025-05-16T00:00:00.000000000",
          "2025-05-19T00:00:00.000000000",
          "2025-05-20T00:00:00.000000000",
          "2025-05-21T00:00:00.000000000",
          "2025-05-22T00:00:00.000000000",
          "2025-05-23T00:00:00.000000000",
          "2025-05-26T00:00:00.000000000",
          "2025-05-27T00:00:00.000000000",
          "2025-05-28T00:00:00.000000000"
         ],
         "xaxis": "x",
         "y": {
          "bdata": "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",
          "dtype": "f8"
         },
         "yaxis": "y"
        },
        {
         "line": {
          "color": "purple",
          "width": 2
         },
         "mode": "lines",
         "name": "EMA89",
         "type": "scatter",
         "x": [
          "2024-08-02T00:00:00.000000000",
          "2024-08-05T00:00:00.000000000",
          "2024-08-06T00:00:00.000000000",
          "2024-08-07T00:00:00.000000000",
          "2024-08-08T00:00:00.000000000",
          "2024-08-09T00:00:00.000000000",
          "2024-08-13T00:00:00.000000000",
          "2024-08-14T00:00:00.000000000",
          "2024-08-15T00:00:00.000000000",
          "2024-08-16T00:00:00.000000000",
          "2024-08-19T00:00:00.000000000",
          "2024-08-20T00:00:00.000000000",
          "2024-08-21T00:00:00.000000000",
          "2024-08-22T00:00:00.000000000",
          "2024-08-23T00:00:00.000000000",
          "2024-08-26T00:00:00.000000000",
          "2024-08-27T00:00:00.000000000",
          "2024-08-28T00:00:00.000000000",
          "2024-08-29T00:00:00.000000000",
          "2024-08-30T00:00:00.000000000",
          "2024-09-02T00:00:00.000000000",
          "2024-09-03T00:00:00.000000000",
          "2024-09-04T00:00:00.000000000",
          "2024-09-05T00:00:00.000000000",
          "2024-09-06T00:00:00.000000000",
          "2024-09-09T00:00:00.000000000",
          "2024-09-10T00:00:00.000000000",
          "2024-09-11T00:00:00.000000000",
          "2024-09-12T00:00:00.000000000",
          "2024-09-13T00:00:00.000000000",
          "2024-09-16T00:00:00.000000000",
          "2024-09-17T00:00:00.000000000",
          "2024-09-18T00:00:00.000000000",
          "2024-09-19T00:00:00.000000000",
          "2024-09-20T00:00:00.000000000",
          "2024-09-23T00:00:00.000000000",
          "2024-09-24T00:00:00.000000000",
          "2024-09-25T00:00:00.000000000",
          "2024-09-26T00:00:00.000000000",
          "2024-09-27T00:00:00.000000000",
          "2024-09-30T00:00:00.000000000",
          "2024-10-01T00:00:00.000000000",
          "2024-10-02T00:00:00.000000000",
          "2024-10-03T00:00:00.000000000",
          "2024-10-04T00:00:00.000000000",
          "2024-10-07T00:00:00.000000000",
          "2024-10-08T00:00:00.000000000",
          "2024-10-09T00:00:00.000000000",
          "2024-10-10T00:00:00.000000000",
          "2024-10-11T00:00:00.000000000",
          "2024-10-15T00:00:00.000000000",
          "2024-10-16T00:00:00.000000000",
          "2024-10-17T00:00:00.000000000",
          "2024-10-18T00:00:00.000000000",
          "2024-10-21T00:00:00.000000000",
          "2024-10-22T00:00:00.000000000",
          "2024-10-24T00:00:00.000000000",
          "2024-10-25T00:00:00.000000000",
          "2024-10-28T00:00:00.000000000",
          "2024-10-29T00:00:00.000000000",
          "2024-10-30T00:00:00.000000000",
          "2024-10-31T00:00:00.000000000",
          "2024-11-01T00:00:00.000000000",
          "2024-11-04T00:00:00.000000000",
          "2024-11-05T00:00:00.000000000",
          "2024-11-06T00:00:00.000000000",
          "2024-11-07T00:00:00.000000000",
          "2024-11-08T00:00:00.000000000",
          "2024-11-11T00:00:00.000000000",
          "2024-11-12T00:00:00.000000000",
          "2024-11-13T00:00:00.000000000",
          "2024-11-14T00:00:00.000000000",
          "2024-11-15T00:00:00.000000000",
          "2024-11-18T00:00:00.000000000",
          "2024-11-19T00:00:00.000000000",
          "2024-11-20T00:00:00.000000000",
          "2024-11-21T00:00:00.000000000",
          "2024-11-22T00:00:00.000000000",
          "2024-11-25T00:00:00.000000000",
          "2024-11-26T00:00:00.000000000",
          "2024-11-27T00:00:00.000000000",
          "2024-11-28T00:00:00.000000000",
          "2024-11-29T00:00:00.000000000",
          "2024-12-02T00:00:00.000000000",
          "2024-12-03T00:00:00.000000000",
          "2024-12-04T00:00:00.000000000",
          "2024-12-06T00:00:00.000000000",
          "2024-12-09T00:00:00.000000000",
          "2024-12-11T00:00:00.000000000",
          "2024-12-12T00:00:00.000000000",
          "2024-12-13T00:00:00.000000000",
          "2024-12-16T00:00:00.000000000",
          "2024-12-17T00:00:00.000000000",
          "2024-12-18T00:00:00.000000000",
          "2024-12-19T00:00:00.000000000",
          "2024-12-20T00:00:00.000000000",
          "2024-12-23T00:00:00.000000000",
          "2024-12-24T00:00:00.000000000",
          "2024-12-25T00:00:00.000000000",
          "2024-12-26T00:00:00.000000000",
          "2024-12-27T00:00:00.000000000",
          "2024-12-30T00:00:00.000000000",
          "2025-01-02T00:00:00.000000000",
          "2025-01-03T00:00:00.000000000",
          "2025-01-06T00:00:00.000000000",
          "2025-01-07T00:00:00.000000000",
          "2025-01-08T00:00:00.000000000",
          "2025-01-09T00:00:00.000000000",
          "2025-01-10T00:00:00.000000000",
          "2025-01-13T00:00:00.000000000",
          "2025-01-14T00:00:00.000000000",
          "2025-01-15T00:00:00.000000000",
          "2025-01-16T00:00:00.000000000",
          "2025-01-17T00:00:00.000000000",
          "2025-01-20T00:00:00.000000000",
          "2025-01-21T00:00:00.000000000",
          "2025-01-22T00:00:00.000000000",
          "2025-01-23T00:00:00.000000000",
          "2025-01-24T00:00:00.000000000",
          "2025-01-27T00:00:00.000000000",
          "2025-01-28T00:00:00.000000000",
          "2025-01-29T00:00:00.000000000",
          "2025-01-30T00:00:00.000000000",
          "2025-01-31T00:00:00.000000000",
          "2025-02-03T00:00:00.000000000",
          "2025-02-04T00:00:00.000000000",
          "2025-02-05T00:00:00.000000000",
          "2025-02-06T00:00:00.000000000",
          "2025-02-07T00:00:00.000000000",
          "2025-02-10T00:00:00.000000000",
          "2025-02-11T00:00:00.000000000",
          "2025-02-13T00:00:00.000000000",
          "2025-02-14T00:00:00.000000000",
          "2025-02-17T00:00:00.000000000",
          "2025-02-18T00:00:00.000000000",
          "2025-02-19T00:00:00.000000000",
          "2025-02-20T00:00:00.000000000",
          "2025-02-21T00:00:00.000000000",
          "2025-02-24T00:00:00.000000000",
          "2025-02-25T00:00:00.000000000",
          "2025-02-26T00:00:00.000000000",
          "2025-02-27T00:00:00.000000000",
          "2025-02-28T00:00:00.000000000",
          "2025-03-03T00:00:00.000000000",
          "2025-03-04T00:00:00.000000000",
          "2025-03-05T00:00:00.000000000",
          "2025-03-06T00:00:00.000000000",
          "2025-03-07T00:00:00.000000000",
          "2025-03-10T00:00:00.000000000",
          "2025-03-11T00:00:00.000000000",
          "2025-03-12T00:00:00.000000000",
          "2025-03-13T00:00:00.000000000",
          "2025-03-14T00:00:00.000000000",
          "2025-03-17T00:00:00.000000000",
          "2025-03-18T00:00:00.000000000",
          "2025-03-19T00:00:00.000000000",
          "2025-03-20T00:00:00.000000000",
          "2025-03-21T00:00:00.000000000",
          "2025-03-24T00:00:00.000000000",
          "2025-03-25T00:00:00.000000000",
          "2025-03-26T00:00:00.000000000",
          "2025-03-27T00:00:00.000000000",
          "2025-03-28T00:00:00.000000000",
          "2025-03-31T00:00:00.000000000",
          "2025-04-01T00:00:00.000000000",
          "2025-04-02T00:00:00.000000000",
          "2025-04-03T00:00:00.000000000",
          "2025-04-04T00:00:00.000000000",
          "2025-04-08T00:00:00.000000000",
          "2025-04-09T00:00:00.000000000",
          "2025-04-10T00:00:00.000000000",
          "2025-04-11T00:00:00.000000000",
          "2025-04-16T00:00:00.000000000",
          "2025-04-17T00:00:00.000000000",
          "2025-04-18T00:00:00.000000000",
          "2025-04-21T00:00:00.000000000",
          "2025-04-22T00:00:00.000000000",
          "2025-04-23T00:00:00.000000000",
          "2025-04-24T00:00:00.000000000",
          "2025-04-25T00:00:00.000000000",
          "2025-04-28T00:00:00.000000000",
          "2025-04-29T00:00:00.000000000",
          "2025-04-30T00:00:00.000000000",
          "2025-05-02T00:00:00.000000000",
          "2025-05-06T00:00:00.000000000",
          "2025-05-07T00:00:00.000000000",
          "2025-05-08T00:00:00.000000000",
          "2025-05-09T00:00:00.000000000",
          "2025-05-13T00:00:00.000000000",
          "2025-05-14T00:00:00.000000000",
          "2025-05-15T00:00:00.000000000",
          "2025-05-16T00:00:00.000000000",
          "2025-05-19T00:00:00.000000000",
          "2025-05-20T00:00:00.000000000",
          "2025-05-21T00:00:00.000000000",
          "2025-05-22T00:00:00.000000000",
          "2025-05-23T00:00:00.000000000",
          "2025-05-26T00:00:00.000000000",
          "2025-05-27T00:00:00.000000000",
          "2025-05-28T00:00:00.000000000"
         ],
         "xaxis": "x",
         "y": {
          "bdata": "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",
          "dtype": "f8"
         },
         "yaxis": "y"
        },
        {
         "line": {
          "color": "red",
          "width": 2
         },
         "mode": "lines",
         "name": "EMA200",
         "type": "scatter",
         "x": [
          "2024-08-02T00:00:00.000000000",
          "2024-08-05T00:00:00.000000000",
          "2024-08-06T00:00:00.000000000",
          "2024-08-07T00:00:00.000000000",
          "2024-08-08T00:00:00.000000000",
          "2024-08-09T00:00:00.000000000",
          "2024-08-13T00:00:00.000000000",
          "2024-08-14T00:00:00.000000000",
          "2024-08-15T00:00:00.000000000",
          "2024-08-16T00:00:00.000000000",
          "2024-08-19T00:00:00.000000000",
          "2024-08-20T00:00:00.000000000",
          "2024-08-21T00:00:00.000000000",
          "2024-08-22T00:00:00.000000000",
          "2024-08-23T00:00:00.000000000",
          "2024-08-26T00:00:00.000000000",
          "2024-08-27T00:00:00.000000000",
          "2024-08-28T00:00:00.000000000",
          "2024-08-29T00:00:00.000000000",
          "2024-08-30T00:00:00.000000000",
          "2024-09-02T00:00:00.000000000",
          "2024-09-03T00:00:00.000000000",
          "2024-09-04T00:00:00.000000000",
          "2024-09-05T00:00:00.000000000",
          "2024-09-06T00:00:00.000000000",
          "2024-09-09T00:00:00.000000000",
          "2024-09-10T00:00:00.000000000",
          "2024-09-11T00:00:00.000000000",
          "2024-09-12T00:00:00.000000000",
          "2024-09-13T00:00:00.000000000",
          "2024-09-16T00:00:00.000000000",
          "2024-09-17T00:00:00.000000000",
          "2024-09-18T00:00:00.000000000",
          "2024-09-19T00:00:00.000000000",
          "2024-09-20T00:00:00.000000000",
          "2024-09-23T00:00:00.000000000",
          "2024-09-24T00:00:00.000000000",
          "2024-09-25T00:00:00.000000000",
          "2024-09-26T00:00:00.000000000",
          "2024-09-27T00:00:00.000000000",
          "2024-09-30T00:00:00.000000000",
          "2024-10-01T00:00:00.000000000",
          "2024-10-02T00:00:00.000000000",
          "2024-10-03T00:00:00.000000000",
          "2024-10-04T00:00:00.000000000",
          "2024-10-07T00:00:00.000000000",
          "2024-10-08T00:00:00.000000000",
          "2024-10-09T00:00:00.000000000",
          "2024-10-10T00:00:00.000000000",
          "2024-10-11T00:00:00.000000000",
          "2024-10-15T00:00:00.000000000",
          "2024-10-16T00:00:00.000000000",
          "2024-10-17T00:00:00.000000000",
          "2024-10-18T00:00:00.000000000",
          "2024-10-21T00:00:00.000000000",
          "2024-10-22T00:00:00.000000000",
          "2024-10-24T00:00:00.000000000",
          "2024-10-25T00:00:00.000000000",
          "2024-10-28T00:00:00.000000000",
          "2024-10-29T00:00:00.000000000",
          "2024-10-30T00:00:00.000000000",
          "2024-10-31T00:00:00.000000000",
          "2024-11-01T00:00:00.000000000",
          "2024-11-04T00:00:00.000000000",
          "2024-11-05T00:00:00.000000000",
          "2024-11-06T00:00:00.000000000",
          "2024-11-07T00:00:00.000000000",
          "2024-11-08T00:00:00.000000000",
          "2024-11-11T00:00:00.000000000",
          "2024-11-12T00:00:00.000000000",
          "2024-11-13T00:00:00.000000000",
          "2024-11-14T00:00:00.000000000",
          "2024-11-15T00:00:00.000000000",
          "2024-11-18T00:00:00.000000000",
          "2024-11-19T00:00:00.000000000",
          "2024-11-20T00:00:00.000000000",
          "2024-11-21T00:00:00.000000000",
          "2024-11-22T00:00:00.000000000",
          "2024-11-25T00:00:00.000000000",
          "2024-11-26T00:00:00.000000000",
          "2024-11-27T00:00:00.000000000",
          "2024-11-28T00:00:00.000000000",
          "2024-11-29T00:00:00.000000000",
          "2024-12-02T00:00:00.000000000",
          "2024-12-03T00:00:00.000000000",
          "2024-12-04T00:00:00.000000000",
          "2024-12-06T00:00:00.000000000",
          "2024-12-09T00:00:00.000000000",
          "2024-12-11T00:00:00.000000000",
          "2024-12-12T00:00:00.000000000",
          "2024-12-13T00:00:00.000000000",
          "2024-12-16T00:00:00.000000000",
          "2024-12-17T00:00:00.000000000",
          "2024-12-18T00:00:00.000000000",
          "2024-12-19T00:00:00.000000000",
          "2024-12-20T00:00:00.000000000",
          "2024-12-23T00:00:00.000000000",
          "2024-12-24T00:00:00.000000000",
          "2024-12-25T00:00:00.000000000",
          "2024-12-26T00:00:00.000000000",
          "2024-12-27T00:00:00.000000000",
          "2024-12-30T00:00:00.000000000",
          "2025-01-02T00:00:00.000000000",
          "2025-01-03T00:00:00.000000000",
          "2025-01-06T00:00:00.000000000",
          "2025-01-07T00:00:00.000000000",
          "2025-01-08T00:00:00.000000000",
          "2025-01-09T00:00:00.000000000",
          "2025-01-10T00:00:00.000000000",
          "2025-01-13T00:00:00.000000000",
          "2025-01-14T00:00:00.000000000",
          "2025-01-15T00:00:00.000000000",
          "2025-01-16T00:00:00.000000000",
          "2025-01-17T00:00:00.000000000",
          "2025-01-20T00:00:00.000000000",
          "2025-01-21T00:00:00.000000000",
          "2025-01-22T00:00:00.000000000",
          "2025-01-23T00:00:00.000000000",
          "2025-01-24T00:00:00.000000000",
          "2025-01-27T00:00:00.000000000",
          "2025-01-28T00:00:00.000000000",
          "2025-01-29T00:00:00.000000000",
          "2025-01-30T00:00:00.000000000",
          "2025-01-31T00:00:00.000000000",
          "2025-02-03T00:00:00.000000000",
          "2025-02-04T00:00:00.000000000",
          "2025-02-05T00:00:00.000000000",
          "2025-02-06T00:00:00.000000000",
          "2025-02-07T00:00:00.000000000",
          "2025-02-10T00:00:00.000000000",
          "2025-02-11T00:00:00.000000000",
          "2025-02-13T00:00:00.000000000",
          "2025-02-14T00:00:00.000000000",
          "2025-02-17T00:00:00.000000000",
          "2025-02-18T00:00:00.000000000",
          "2025-02-19T00:00:00.000000000",
          "2025-02-20T00:00:00.000000000",
          "2025-02-21T00:00:00.000000000",
          "2025-02-24T00:00:00.000000000",
          "2025-02-25T00:00:00.000000000",
          "2025-02-26T00:00:00.000000000",
          "2025-02-27T00:00:00.000000000",
          "2025-02-28T00:00:00.000000000",
          "2025-03-03T00:00:00.000000000",
          "2025-03-04T00:00:00.000000000",
          "2025-03-05T00:00:00.000000000",
          "2025-03-06T00:00:00.000000000",
          "2025-03-07T00:00:00.000000000",
          "2025-03-10T00:00:00.000000000",
          "2025-03-11T00:00:00.000000000",
          "2025-03-12T00:00:00.000000000",
          "2025-03-13T00:00:00.000000000",
          "2025-03-14T00:00:00.000000000",
          "2025-03-17T00:00:00.000000000",
          "2025-03-18T00:00:00.000000000",
          "2025-03-19T00:00:00.000000000",
          "2025-03-20T00:00:00.000000000",
          "2025-03-21T00:00:00.000000000",
          "2025-03-24T00:00:00.000000000",
          "2025-03-25T00:00:00.000000000",
          "2025-03-26T00:00:00.000000000",
          "2025-03-27T00:00:00.000000000",
          "2025-03-28T00:00:00.000000000",
          "2025-03-31T00:00:00.000000000",
          "2025-04-01T00:00:00.000000000",
          "2025-04-02T00:00:00.000000000",
          "2025-04-03T00:00:00.000000000",
          "2025-04-04T00:00:00.000000000",
          "2025-04-08T00:00:00.000000000",
          "2025-04-09T00:00:00.000000000",
          "2025-04-10T00:00:00.000000000",
          "2025-04-11T00:00:00.000000000",
          "2025-04-16T00:00:00.000000000",
          "2025-04-17T00:00:00.000000000",
          "2025-04-18T00:00:00.000000000",
          "2025-04-21T00:00:00.000000000",
          "2025-04-22T00:00:00.000000000",
          "2025-04-23T00:00:00.000000000",
          "2025-04-24T00:00:00.000000000",
          "2025-04-25T00:00:00.000000000",
          "2025-04-28T00:00:00.000000000",
          "2025-04-29T00:00:00.000000000",
          "2025-04-30T00:00:00.000000000",
          "2025-05-02T00:00:00.000000000",
          "2025-05-06T00:00:00.000000000",
          "2025-05-07T00:00:00.000000000",
          "2025-05-08T00:00:00.000000000",
          "2025-05-09T00:00:00.000000000",
          "2025-05-13T00:00:00.000000000",
          "2025-05-14T00:00:00.000000000",
          "2025-05-15T00:00:00.000000000",
          "2025-05-16T00:00:00.000000000",
          "2025-05-19T00:00:00.000000000",
          "2025-05-20T00:00:00.000000000",
          "2025-05-21T00:00:00.000000000",
          "2025-05-22T00:00:00.000000000",
          "2025-05-23T00:00:00.000000000",
          "2025-05-26T00:00:00.000000000",
          "2025-05-27T00:00:00.000000000",
          "2025-05-28T00:00:00.000000000"
         ],
         "xaxis": "x",
         "y": {
          "bdata": "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",
          "dtype": "f8"
         },
         "yaxis": "y"
        },
        {
         "marker": {
          "color": "lightblue"
         },
         "name": "Volume",
         "type": "bar",
         "x": [
          "2024-08-02T00:00:00.000000000",
          "2024-08-05T00:00:00.000000000",
          "2024-08-06T00:00:00.000000000",
          "2024-08-07T00:00:00.000000000",
          "2024-08-08T00:00:00.000000000",
          "2024-08-09T00:00:00.000000000",
          "2024-08-13T00:00:00.000000000",
          "2024-08-14T00:00:00.000000000",
          "2024-08-15T00:00:00.000000000",
          "2024-08-16T00:00:00.000000000",
          "2024-08-19T00:00:00.000000000",
          "2024-08-20T00:00:00.000000000",
          "2024-08-21T00:00:00.000000000",
          "2024-08-22T00:00:00.000000000",
          "2024-08-23T00:00:00.000000000",
          "2024-08-26T00:00:00.000000000",
          "2024-08-27T00:00:00.000000000",
          "2024-08-28T00:00:00.000000000",
          "2024-08-29T00:00:00.000000000",
          "2024-08-30T00:00:00.000000000",
          "2024-09-02T00:00:00.000000000",
          "2024-09-03T00:00:00.000000000",
          "2024-09-04T00:00:00.000000000",
          "2024-09-05T00:00:00.000000000",
          "2024-09-06T00:00:00.000000000",
          "2024-09-09T00:00:00.000000000",
          "2024-09-10T00:00:00.000000000",
          "2024-09-11T00:00:00.000000000",
          "2024-09-12T00:00:00.000000000",
          "2024-09-13T00:00:00.000000000",
          "2024-09-16T00:00:00.000000000",
          "2024-09-17T00:00:00.000000000",
          "2024-09-18T00:00:00.000000000",
          "2024-09-19T00:00:00.000000000",
          "2024-09-20T00:00:00.000000000",
          "2024-09-23T00:00:00.000000000",
          "2024-09-24T00:00:00.000000000",
          "2024-09-25T00:00:00.000000000",
          "2024-09-26T00:00:00.000000000",
          "2024-09-27T00:00:00.000000000",
          "2024-09-30T00:00:00.000000000",
          "2024-10-01T00:00:00.000000000",
          "2024-10-02T00:00:00.000000000",
          "2024-10-03T00:00:00.000000000",
          "2024-10-04T00:00:00.000000000",
          "2024-10-07T00:00:00.000000000",
          "2024-10-08T00:00:00.000000000",
          "2024-10-09T00:00:00.000000000",
          "2024-10-10T00:00:00.000000000",
          "2024-10-11T00:00:00.000000000",
          "2024-10-15T00:00:00.000000000",
          "2024-10-16T00:00:00.000000000",
          "2024-10-17T00:00:00.000000000",
          "2024-10-18T00:00:00.000000000",
          "2024-10-21T00:00:00.000000000",
          "2024-10-22T00:00:00.000000000",
          "2024-10-24T00:00:00.000000000",
          "2024-10-25T00:00:00.000000000",
          "2024-10-28T00:00:00.000000000",
          "2024-10-29T00:00:00.000000000",
          "2024-10-30T00:00:00.000000000",
          "2024-10-31T00:00:00.000000000",
          "2024-11-01T00:00:00.000000000",
          "2024-11-04T00:00:00.000000000",
          "2024-11-05T00:00:00.000000000",
          "2024-11-06T00:00:00.000000000",
          "2024-11-07T00:00:00.000000000",
          "2024-11-08T00:00:00.000000000",
          "2024-11-11T00:00:00.000000000",
          "2024-11-12T00:00:00.000000000",
          "2024-11-13T00:00:00.000000000",
          "2024-11-14T00:00:00.000000000",
          "2024-11-15T00:00:00.000000000",
          "2024-11-18T00:00:00.000000000",
          "2024-11-19T00:00:00.000000000",
          "2024-11-20T00:00:00.000000000",
          "2024-11-21T00:00:00.000000000",
          "2024-11-22T00:00:00.000000000",
          "2024-11-25T00:00:00.000000000",
          "2024-11-26T00:00:00.000000000",
          "2024-11-27T00:00:00.000000000",
          "2024-11-28T00:00:00.000000000",
          "2024-11-29T00:00:00.000000000",
          "2024-12-02T00:00:00.000000000",
          "2024-12-03T00:00:00.000000000",
          "2024-12-04T00:00:00.000000000",
          "2024-12-06T00:00:00.000000000",
          "2024-12-09T00:00:00.000000000",
          "2024-12-11T00:00:00.000000000",
          "2024-12-12T00:00:00.000000000",
          "2024-12-13T00:00:00.000000000",
          "2024-12-16T00:00:00.000000000",
          "2024-12-17T00:00:00.000000000",
          "2024-12-18T00:00:00.000000000",
          "2024-12-19T00:00:00.000000000",
          "2024-12-20T00:00:00.000000000",
          "2024-12-23T00:00:00.000000000",
          "2024-12-24T00:00:00.000000000",
          "2024-12-25T00:00:00.000000000",
          "2024-12-26T00:00:00.000000000",
          "2024-12-27T00:00:00.000000000",
          "2024-12-30T00:00:00.000000000",
          "2025-01-02T00:00:00.000000000",
          "2025-01-03T00:00:00.000000000",
          "2025-01-06T00:00:00.000000000",
          "2025-01-07T00:00:00.000000000",
          "2025-01-08T00:00:00.000000000",
          "2025-01-09T00:00:00.000000000",
          "2025-01-10T00:00:00.000000000",
          "2025-01-13T00:00:00.000000000",
          "2025-01-14T00:00:00.000000000",
          "2025-01-15T00:00:00.000000000",
          "2025-01-16T00:00:00.000000000",
          "2025-01-17T00:00:00.000000000",
          "2025-01-20T00:00:00.000000000",
          "2025-01-21T00:00:00.000000000",
          "2025-01-22T00:00:00.000000000",
          "2025-01-23T00:00:00.000000000",
          "2025-01-24T00:00:00.000000000",
          "2025-01-27T00:00:00.000000000",
          "2025-01-28T00:00:00.000000000",
          "2025-01-29T00:00:00.000000000",
          "2025-01-30T00:00:00.000000000",
          "2025-01-31T00:00:00.000000000",
          "2025-02-03T00:00:00.000000000",
          "2025-02-04T00:00:00.000000000",
          "2025-02-05T00:00:00.000000000",
          "2025-02-06T00:00:00.000000000",
          "2025-02-07T00:00:00.000000000",
          "2025-02-10T00:00:00.000000000",
          "2025-02-11T00:00:00.000000000",
          "2025-02-13T00:00:00.000000000",
          "2025-02-14T00:00:00.000000000",
          "2025-02-17T00:00:00.000000000",
          "2025-02-18T00:00:00.000000000",
          "2025-02-19T00:00:00.000000000",
          "2025-02-20T00:00:00.000000000",
          "2025-02-21T00:00:00.000000000",
          "2025-02-24T00:00:00.000000000",
          "2025-02-25T00:00:00.000000000",
          "2025-02-26T00:00:00.000000000",
          "2025-02-27T00:00:00.000000000",
          "2025-02-28T00:00:00.000000000",
          "2025-03-03T00:00:00.000000000",
          "2025-03-04T00:00:00.000000000",
          "2025-03-05T00:00:00.000000000",
          "2025-03-06T00:00:00.000000000",
          "2025-03-07T00:00:00.000000000",
          "2025-03-10T00:00:00.000000000",
          "2025-03-11T00:00:00.000000000",
          "2025-03-12T00:00:00.000000000",
          "2025-03-13T00:00:00.000000000",
          "2025-03-14T00:00:00.000000000",
          "2025-03-17T00:00:00.000000000",
          "2025-03-18T00:00:00.000000000",
          "2025-03-19T00:00:00.000000000",
          "2025-03-20T00:00:00.000000000",
          "2025-03-21T00:00:00.000000000",
          "2025-03-24T00:00:00.000000000",
          "2025-03-25T00:00:00.000000000",
          "2025-03-26T00:00:00.000000000",
          "2025-03-27T00:00:00.000000000",
          "2025-03-28T00:00:00.000000000",
          "2025-03-31T00:00:00.000000000",
          "2025-04-01T00:00:00.000000000",
          "2025-04-02T00:00:00.000000000",
          "2025-04-03T00:00:00.000000000",
          "2025-04-04T00:00:00.000000000",
          "2025-04-08T00:00:00.000000000",
          "2025-04-09T00:00:00.000000000",
          "2025-04-10T00:00:00.000000000",
          "2025-04-11T00:00:00.000000000",
          "2025-04-16T00:00:00.000000000",
          "2025-04-17T00:00:00.000000000",
          "2025-04-18T00:00:00.000000000",
          "2025-04-21T00:00:00.000000000",
          "2025-04-22T00:00:00.000000000",
          "2025-04-23T00:00:00.000000000",
          "2025-04-24T00:00:00.000000000",
          "2025-04-25T00:00:00.000000000",
          "2025-04-28T00:00:00.000000000",
          "2025-04-29T00:00:00.000000000",
          "2025-04-30T00:00:00.000000000",
          "2025-05-02T00:00:00.000000000",
          "2025-05-06T00:00:00.000000000",
          "2025-05-07T00:00:00.000000000",
          "2025-05-08T00:00:00.000000000",
          "2025-05-09T00:00:00.000000000",
          "2025-05-13T00:00:00.000000000",
          "2025-05-14T00:00:00.000000000",
          "2025-05-15T00:00:00.000000000",
          "2025-05-16T00:00:00.000000000",
          "2025-05-19T00:00:00.000000000",
          "2025-05-20T00:00:00.000000000",
          "2025-05-21T00:00:00.000000000",
          "2025-05-22T00:00:00.000000000",
          "2025-05-23T00:00:00.000000000",
          "2025-05-26T00:00:00.000000000",
          "2025-05-27T00:00:00.000000000",
          "2025-05-28T00:00:00.000000000"
         ],
         "xaxis": "x2",
         "y": {
          "bdata": "Y5cqAECIcQCdbRUASFAmADOrLABUXBMABjY7AZFRKQD0RR8AXXYYANsaEgAB/30AcwA9AWxeLwDCVSMA7pQiAI0bKwCvCzsA+K4cAKKzcwBLIz8A6ANNALlOGwCAvy4ALAwTALQECwCCFUIARf4RADveHwAMcg4A3ZgTAOZGFQBPVhQAUAsOABr+BwAsCj8AWbJYAN5LwQAkNDEAvKQXAD08EwAb/w0ArrIYAEhSFQDJwCkAky1NAHRKCwDWzSkAGgmWAH8aAQEd1SkAHpOZACSzQQD9Sh8ALPgZACAZLQCTUDcARUhOACiSEwCCeQsAqncXABfDCABGeRYAvmsJAEM2BwCLVREAT3EkAM/9HwG+NwkBEiYvABK+BQAs0QcADeIFADUhBwCoRgkAWZASAMqUEQBQ6xEAdk03AA3dEgBBwAgAjGUOAGOpBABIbAUAoI0EAPj3CQAwugEA3A8EAIYhAQAcmAoAtLIHABNtBQCc1w4AraACADIFAgCCqwAAKnkIAFpJAQCIkAAA0QEBAHXsAgD0fgAA2B0DAF1rHwCH8x4Ak+UPAHzJIAA7rwoAfIEHADNKAwAnSQUAFaEGALouKQDfvQQAPBAEAO4YBgDEdAMARVcYAKhuAgDetgEAIzIRACS8AQD4EgQA3NUHANyPAgDSOQAAhFsCAFKhDgBeOAUAz6sZAIe2QAA2sAsAyvcCAFV5DwBIKwUAc9EIAHQoBABo+AMAJQ0BAAopBABBZAEAafMIAK0BDQAUZAUAlvsHAMMuAQCiywUAG+sBAGToBgC1ygMAqP8HAJUMBQCamgAA1sIAAJoNCQAbjAcApJ8BAB7LBABQ/AMAZxIUAK+rCgA9ISIBr3NVAIylHQAhVhsAWDcMAOCvCQD0ywgAzMQUAAhQEQDwkAsAGLoKAHXfCwBnoRcALWp4AE9tLgDsoxoAYK4jAIYCYABwiZgABIqjALTIKwBwWhIAAZgRANhuCQA4yQgAfIcfADajGgDXYZ4Bvi5LATAVmQCNIhMBgQghAlGqpwKWA2gBaS1ZAKYrVAKSV9UCZicwAwZ7mwI=",
          "dtype": "i4"
         },
         "yaxis": "y2"
        },
        {
         "line": {
          "color": "darkorange",
          "width": 2
         },
         "name": "RSI14",
         "type": "scatter",
         "x": [
          "2024-08-02T00:00:00.000000000",
          "2024-08-05T00:00:00.000000000",
          "2024-08-06T00:00:00.000000000",
          "2024-08-07T00:00:00.000000000",
          "2024-08-08T00:00:00.000000000",
          "2024-08-09T00:00:00.000000000",
          "2024-08-13T00:00:00.000000000",
          "2024-08-14T00:00:00.000000000",
          "2024-08-15T00:00:00.000000000",
          "2024-08-16T00:00:00.000000000",
          "2024-08-19T00:00:00.000000000",
          "2024-08-20T00:00:00.000000000",
          "2024-08-21T00:00:00.000000000",
          "2024-08-22T00:00:00.000000000",
          "2024-08-23T00:00:00.000000000",
          "2024-08-26T00:00:00.000000000",
          "2024-08-27T00:00:00.000000000",
          "2024-08-28T00:00:00.000000000",
          "2024-08-29T00:00:00.000000000",
          "2024-08-30T00:00:00.000000000",
          "2024-09-02T00:00:00.000000000",
          "2024-09-03T00:00:00.000000000",
          "2024-09-04T00:00:00.000000000",
          "2024-09-05T00:00:00.000000000",
          "2024-09-06T00:00:00.000000000",
          "2024-09-09T00:00:00.000000000",
          "2024-09-10T00:00:00.000000000",
          "2024-09-11T00:00:00.000000000",
          "2024-09-12T00:00:00.000000000",
          "2024-09-13T00:00:00.000000000",
          "2024-09-16T00:00:00.000000000",
          "2024-09-17T00:00:00.000000000",
          "2024-09-18T00:00:00.000000000",
          "2024-09-19T00:00:00.000000000",
          "2024-09-20T00:00:00.000000000",
          "2024-09-23T00:00:00.000000000",
          "2024-09-24T00:00:00.000000000",
          "2024-09-25T00:00:00.000000000",
          "2024-09-26T00:00:00.000000000",
          "2024-09-27T00:00:00.000000000",
          "2024-09-30T00:00:00.000000000",
          "2024-10-01T00:00:00.000000000",
          "2024-10-02T00:00:00.000000000",
          "2024-10-03T00:00:00.000000000",
          "2024-10-04T00:00:00.000000000",
          "2024-10-07T00:00:00.000000000",
          "2024-10-08T00:00:00.000000000",
          "2024-10-09T00:00:00.000000000",
          "2024-10-10T00:00:00.000000000",
          "2024-10-11T00:00:00.000000000",
          "2024-10-15T00:00:00.000000000",
          "2024-10-16T00:00:00.000000000",
          "2024-10-17T00:00:00.000000000",
          "2024-10-18T00:00:00.000000000",
          "2024-10-21T00:00:00.000000000",
          "2024-10-22T00:00:00.000000000",
          "2024-10-24T00:00:00.000000000",
          "2024-10-25T00:00:00.000000000",
          "2024-10-28T00:00:00.000000000",
          "2024-10-29T00:00:00.000000000",
          "2024-10-30T00:00:00.000000000",
          "2024-10-31T00:00:00.000000000",
          "2024-11-01T00:00:00.000000000",
          "2024-11-04T00:00:00.000000000",
          "2024-11-05T00:00:00.000000000",
          "2024-11-06T00:00:00.000000000",
          "2024-11-07T00:00:00.000000000",
          "2024-11-08T00:00:00.000000000",
          "2024-11-11T00:00:00.000000000",
          "2024-11-12T00:00:00.000000000",
          "2024-11-13T00:00:00.000000000",
          "2024-11-14T00:00:00.000000000",
          "2024-11-15T00:00:00.000000000",
          "2024-11-18T00:00:00.000000000",
          "2024-11-19T00:00:00.000000000",
          "2024-11-20T00:00:00.000000000",
          "2024-11-21T00:00:00.000000000",
          "2024-11-22T00:00:00.000000000",
          "2024-11-25T00:00:00.000000000",
          "2024-11-26T00:00:00.000000000",
          "2024-11-27T00:00:00.000000000",
          "2024-11-28T00:00:00.000000000",
          "2024-11-29T00:00:00.000000000",
          "2024-12-02T00:00:00.000000000",
          "2024-12-03T00:00:00.000000000",
          "2024-12-04T00:00:00.000000000",
          "2024-12-06T00:00:00.000000000",
          "2024-12-09T00:00:00.000000000",
          "2024-12-11T00:00:00.000000000",
          "2024-12-12T00:00:00.000000000",
          "2024-12-13T00:00:00.000000000",
          "2024-12-16T00:00:00.000000000",
          "2024-12-17T00:00:00.000000000",
          "2024-12-18T00:00:00.000000000",
          "2024-12-19T00:00:00.000000000",
          "2024-12-20T00:00:00.000000000",
          "2024-12-23T00:00:00.000000000",
          "2024-12-24T00:00:00.000000000",
          "2024-12-25T00:00:00.000000000",
          "2024-12-26T00:00:00.000000000",
          "2024-12-27T00:00:00.000000000",
          "2024-12-30T00:00:00.000000000",
          "2025-01-02T00:00:00.000000000",
          "2025-01-03T00:00:00.000000000",
          "2025-01-06T00:00:00.000000000",
          "2025-01-07T00:00:00.000000000",
          "2025-01-08T00:00:00.000000000",
          "2025-01-09T00:00:00.000000000",
          "2025-01-10T00:00:00.000000000",
          "2025-01-13T00:00:00.000000000",
          "2025-01-14T00:00:00.000000000",
          "2025-01-15T00:00:00.000000000",
          "2025-01-16T00:00:00.000000000",
          "2025-01-17T00:00:00.000000000",
          "2025-01-20T00:00:00.000000000",
          "2025-01-21T00:00:00.000000000",
          "2025-01-22T00:00:00.000000000",
          "2025-01-23T00:00:00.000000000",
          "2025-01-24T00:00:00.000000000",
          "2025-01-27T00:00:00.000000000",
          "2025-01-28T00:00:00.000000000",
          "2025-01-29T00:00:00.000000000",
          "2025-01-30T00:00:00.000000000",
          "2025-01-31T00:00:00.000000000",
          "2025-02-03T00:00:00.000000000",
          "2025-02-04T00:00:00.000000000",
          "2025-02-05T00:00:00.000000000",
          "2025-02-06T00:00:00.000000000",
          "2025-02-07T00:00:00.000000000",
          "2025-02-10T00:00:00.000000000",
          "2025-02-11T00:00:00.000000000",
          "2025-02-13T00:00:00.000000000",
          "2025-02-14T00:00:00.000000000",
          "2025-02-17T00:00:00.000000000",
          "2025-02-18T00:00:00.000000000",
          "2025-02-19T00:00:00.000000000",
          "2025-02-20T00:00:00.000000000",
          "2025-02-21T00:00:00.000000000",
          "2025-02-24T00:00:00.000000000",
          "2025-02-25T00:00:00.000000000",
          "2025-02-26T00:00:00.000000000",
          "2025-02-27T00:00:00.000000000",
          "2025-02-28T00:00:00.000000000",
          "2025-03-03T00:00:00.000000000",
          "2025-03-04T00:00:00.000000000",
          "2025-03-05T00:00:00.000000000",
          "2025-03-06T00:00:00.000000000",
          "2025-03-07T00:00:00.000000000",
          "2025-03-10T00:00:00.000000000",
          "2025-03-11T00:00:00.000000000",
          "2025-03-12T00:00:00.000000000",
          "2025-03-13T00:00:00.000000000",
          "2025-03-14T00:00:00.000000000",
          "2025-03-17T00:00:00.000000000",
          "2025-03-18T00:00:00.000000000",
          "2025-03-19T00:00:00.000000000",
          "2025-03-20T00:00:00.000000000",
          "2025-03-21T00:00:00.000000000",
          "2025-03-24T00:00:00.000000000",
          "2025-03-25T00:00:00.000000000",
          "2025-03-26T00:00:00.000000000",
          "2025-03-27T00:00:00.000000000",
          "2025-03-28T00:00:00.000000000",
          "2025-03-31T00:00:00.000000000",
          "2025-04-01T00:00:00.000000000",
          "2025-04-02T00:00:00.000000000",
          "2025-04-03T00:00:00.000000000",
          "2025-04-04T00:00:00.000000000",
          "2025-04-08T00:00:00.000000000",
          "2025-04-09T00:00:00.000000000",
          "2025-04-10T00:00:00.000000000",
          "2025-04-11T00:00:00.000000000",
          "2025-04-16T00:00:00.000000000",
          "2025-04-17T00:00:00.000000000",
          "2025-04-18T00:00:00.000000000",
          "2025-04-21T00:00:00.000000000",
          "2025-04-22T00:00:00.000000000",
          "2025-04-23T00:00:00.000000000",
          "2025-04-24T00:00:00.000000000",
          "2025-04-25T00:00:00.000000000",
          "2025-04-28T00:00:00.000000000",
          "2025-04-29T00:00:00.000000000",
          "2025-04-30T00:00:00.000000000",
          "2025-05-02T00:00:00.000000000",
          "2025-05-06T00:00:00.000000000",
          "2025-05-07T00:00:00.000000000",
          "2025-05-08T00:00:00.000000000",
          "2025-05-09T00:00:00.000000000",
          "2025-05-13T00:00:00.000000000",
          "2025-05-14T00:00:00.000000000",
          "2025-05-15T00:00:00.000000000",
          "2025-05-16T00:00:00.000000000",
          "2025-05-19T00:00:00.000000000",
          "2025-05-20T00:00:00.000000000",
          "2025-05-21T00:00:00.000000000",
          "2025-05-22T00:00:00.000000000",
          "2025-05-23T00:00:00.000000000",
          "2025-05-26T00:00:00.000000000",
          "2025-05-27T00:00:00.000000000",
          "2025-05-28T00:00:00.000000000"
         ],
         "xaxis": "x3",
         "y": {
          "bdata": "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",
          "dtype": "f8"
         },
         "yaxis": "y3"
        }
       ],
       "layout": {
        "annotations": [
         {
          "font": {
           "size": 16
          },
          "showarrow": false,
          "text": "Candlestick + EMA",
          "x": 0.5,
          "xanchor": "center",
          "xref": "paper",
          "y": 1,
          "yanchor": "bottom",
          "yref": "paper"
         },
         {
          "font": {
           "size": 16
          },
          "showarrow": false,
          "text": "Volume",
          "x": 0.5,
          "xanchor": "center",
          "xref": "paper",
          "y": 0.5,
          "yanchor": "bottom",
          "yref": "paper"
         },
         {
          "font": {
           "size": 16
          },
          "showarrow": false,
          "text": "RSI14",
          "x": 0.5,
          "xanchor": "center",
          "xref": "paper",
          "y": 0.27,
          "yanchor": "bottom",
          "yref": "paper"
         }
        ],
        "height": 800,
        "shapes": [
         {
          "line": {
           "color": "gray",
           "dash": "dot"
          },
          "type": "line",
          "x0": 0,
          "x1": 1,
          "xref": "x3 domain",
          "y0": 30,
          "y1": 30,
          "yref": "y3"
         },
         {
          "line": {
           "color": "gray",
           "dash": "dot"
          },
          "type": "line",
          "x0": 0,
          "x1": 1,
          "xref": "x3 domain",
          "y0": 70,
          "y1": 70,
          "yref": "y3"
         }
        ],
        "template": {
         "data": {
          "bar": [
           {
            "error_x": {
             "color": "#2a3f5f"
            },
            "error_y": {
             "color": "#2a3f5f"
            },
            "marker": {
             "line": {
              "color": "white",
              "width": 0.5
             },
             "pattern": {
              "fillmode": "overlay",
              "size": 10,
              "solidity": 0.2
             }
            },
            "type": "bar"
           }
          ],
          "barpolar": [
           {
            "marker": {
             "line": {
              "color": "white",
              "width": 0.5
             },
             "pattern": {
              "fillmode": "overlay",
              "size": 10,
              "solidity": 0.2
             }
            },
            "type": "barpolar"
           }
          ],
          "carpet": [
           {
            "aaxis": {
             "endlinecolor": "#2a3f5f",
             "gridcolor": "#C8D4E3",
             "linecolor": "#C8D4E3",
             "minorgridcolor": "#C8D4E3",
             "startlinecolor": "#2a3f5f"
            },
            "baxis": {
             "endlinecolor": "#2a3f5f",
             "gridcolor": "#C8D4E3",
             "linecolor": "#C8D4E3",
             "minorgridcolor": "#C8D4E3",
             "startlinecolor": "#2a3f5f"
            },
            "type": "carpet"
           }
          ],
          "choropleth": [
           {
            "colorbar": {
             "outlinewidth": 0,
             "ticks": ""
            },
            "type": "choropleth"
           }
          ],
          "contour": [
           {
            "colorbar": {
             "outlinewidth": 0,
             "ticks": ""
            },
            "colorscale": [
             [
              0,
              "#0d0887"
             ],
             [
              0.1111111111111111,
              "#46039f"
             ],
             [
              0.2222222222222222,
              "#7201a8"
             ],
             [
              0.3333333333333333,
              "#9c179e"
             ],
             [
              0.4444444444444444,
              "#bd3786"
             ],
             [
              0.5555555555555556,
              "#d8576b"
             ],
             [
              0.6666666666666666,
              "#ed7953"
             ],
             [
              0.7777777777777778,
              "#fb9f3a"
             ],
             [
              0.8888888888888888,
              "#fdca26"
             ],
             [
              1,
              "#f0f921"
             ]
            ],
            "type": "contour"
           }
          ],
          "contourcarpet": [
           {
            "colorbar": {
             "outlinewidth": 0,
             "ticks": ""
            },
            "type": "contourcarpet"
           }
          ],
          "heatmap": [
           {
            "colorbar": {
             "outlinewidth": 0,
             "ticks": ""
            },
            "colorscale": [
             [
              0,
              "#0d0887"
             ],
             [
              0.1111111111111111,
              "#46039f"
             ],
             [
              0.2222222222222222,
              "#7201a8"
             ],
             [
              0.3333333333333333,
              "#9c179e"
             ],
             [
              0.4444444444444444,
              "#bd3786"
             ],
             [
              0.5555555555555556,
              "#d8576b"
             ],
             [
              0.6666666666666666,
              "#ed7953"
             ],
             [
              0.7777777777777778,
              "#fb9f3a"
             ],
             [
              0.8888888888888888,
              "#fdca26"
             ],
             [
              1,
              "#f0f921"
             ]
            ],
            "type": "heatmap"
           }
          ],
          "histogram": [
           {
            "marker": {
             "pattern": {
              "fillmode": "overlay",
              "size": 10,
              "solidity": 0.2
             }
            },
            "type": "histogram"
           }
          ],
          "histogram2d": [
           {
            "colorbar": {
             "outlinewidth": 0,
             "ticks": ""
            },
            "colorscale": [
             [
              0,
              "#0d0887"
             ],
             [
              0.1111111111111111,
              "#46039f"
             ],
             [
              0.2222222222222222,
              "#7201a8"
             ],
             [
              0.3333333333333333,
              "#9c179e"
             ],
             [
              0.4444444444444444,
              "#bd3786"
             ],
             [
              0.5555555555555556,
              "#d8576b"
             ],
             [
              0.6666666666666666,
              "#ed7953"
             ],
             [
              0.7777777777777778,
              "#fb9f3a"
             ],
             [
              0.8888888888888888,
              "#fdca26"
             ],
             [
              1,
              "#f0f921"
             ]
            ],
            "type": "histogram2d"
           }
          ],
          "histogram2dcontour": [
           {
            "colorbar": {
             "outlinewidth": 0,
             "ticks": ""
            },
            "colorscale": [
             [
              0,
              "#0d0887"
             ],
             [
              0.1111111111111111,
              "#46039f"
             ],
             [
              0.2222222222222222,
              "#7201a8"
             ],
             [
              0.3333333333333333,
              "#9c179e"
             ],
             [
              0.4444444444444444,
              "#bd3786"
             ],
             [
              0.5555555555555556,
              "#d8576b"
             ],
             [
              0.6666666666666666,
              "#ed7953"
             ],
             [
              0.7777777777777778,
              "#fb9f3a"
             ],
             [
              0.8888888888888888,
              "#fdca26"
             ],
             [
              1,
              "#f0f921"
             ]
            ],
            "type": "histogram2dcontour"
           }
          ],
          "mesh3d": [
           {
            "colorbar": {
             "outlinewidth": 0,
             "ticks": ""
            },
            "type": "mesh3d"
           }
          ],
          "parcoords": [
           {
            "line": {
             "colorbar": {
              "outlinewidth": 0,
              "ticks": ""
             }
            },
            "type": "parcoords"
           }
          ],
          "pie": [
           {
            "automargin": true,
            "type": "pie"
           }
          ],
          "scatter": [
           {
            "fillpattern": {
             "fillmode": "overlay",
             "size": 10,
             "solidity": 0.2
            },
            "type": "scatter"
           }
          ],
          "scatter3d": [
           {
            "line": {
             "colorbar": {
              "outlinewidth": 0,
              "ticks": ""
             }
            },
            "marker": {
             "colorbar": {
              "outlinewidth": 0,
              "ticks": ""
             }
            },
            "type": "scatter3d"
           }
          ],
          "scattercarpet": [
           {
            "marker": {
             "colorbar": {
              "outlinewidth": 0,
              "ticks": ""
             }
            },
            "type": "scattercarpet"
           }
          ],
          "scattergeo": [
           {
            "marker": {
             "colorbar": {
              "outlinewidth": 0,
              "ticks": ""
             }
            },
            "type": "scattergeo"
           }
          ],
          "scattergl": [
           {
            "marker": {
             "colorbar": {
              "outlinewidth": 0,
              "ticks": ""
             }
            },
            "type": "scattergl"
           }
          ],
          "scattermap": [
           {
            "marker": {
             "colorbar": {
              "outlinewidth": 0,
              "ticks": ""
             }
            },
            "type": "scattermap"
           }
          ],
          "scattermapbox": [
           {
            "marker": {
             "colorbar": {
              "outlinewidth": 0,
              "ticks": ""
             }
            },
            "type": "scattermapbox"
           }
          ],
          "scatterpolar": [
           {
            "marker": {
             "colorbar": {
              "outlinewidth": 0,
              "ticks": ""
             }
            },
            "type": "scatterpolar"
           }
          ],
          "scatterpolargl": [
           {
            "marker": {
             "colorbar": {
              "outlinewidth": 0,
              "ticks": ""
             }
            },
            "type": "scatterpolargl"
           }
          ],
          "scatterternary": [
           {
            "marker": {
             "colorbar": {
              "outlinewidth": 0,
              "ticks": ""
             }
            },
            "type": "scatterternary"
           }
          ],
          "surface": [
           {
            "colorbar": {
             "outlinewidth": 0,
             "ticks": ""
            },
            "colorscale": [
             [
              0,
              "#0d0887"
             ],
             [
              0.1111111111111111,
              "#46039f"
             ],
             [
              0.2222222222222222,
              "#7201a8"
             ],
             [
              0.3333333333333333,
              "#9c179e"
             ],
             [
              0.4444444444444444,
              "#bd3786"
             ],
             [
              0.5555555555555556,
              "#d8576b"
             ],
             [
              0.6666666666666666,
              "#ed7953"
             ],
             [
              0.7777777777777778,
              "#fb9f3a"
             ],
             [
              0.8888888888888888,
              "#fdca26"
             ],
             [
              1,
              "#f0f921"
             ]
            ],
            "type": "surface"
           }
          ],
          "table": [
           {
            "cells": {
             "fill": {
              "color": "#EBF0F8"
             },
             "line": {
              "color": "white"
             }
            },
            "header": {
             "fill": {
              "color": "#C8D4E3"
             },
             "line": {
              "color": "white"
             }
            },
            "type": "table"
           }
          ]
         },
         "layout": {
          "annotationdefaults": {
           "arrowcolor": "#2a3f5f",
           "arrowhead": 0,
           "arrowwidth": 1
          },
          "autotypenumbers": "strict",
          "coloraxis": {
           "colorbar": {
            "outlinewidth": 0,
            "ticks": ""
           }
          },
          "colorscale": {
           "diverging": [
            [
             0,
             "#8e0152"
            ],
            [
             0.1,
             "#c51b7d"
            ],
            [
             0.2,
             "#de77ae"
            ],
            [
             0.3,
             "#f1b6da"
            ],
            [
             0.4,
             "#fde0ef"
            ],
            [
             0.5,
             "#f7f7f7"
            ],
            [
             0.6,
             "#e6f5d0"
            ],
            [
             0.7,
             "#b8e186"
            ],
            [
             0.8,
             "#7fbc41"
            ],
            [
             0.9,
             "#4d9221"
            ],
            [
             1,
             "#276419"
            ]
           ],
           "sequential": [
            [
             0,
             "#0d0887"
            ],
            [
             0.1111111111111111,
             "#46039f"
            ],
            [
             0.2222222222222222,
             "#7201a8"
            ],
            [
             0.3333333333333333,
             "#9c179e"
            ],
            [
             0.4444444444444444,
             "#bd3786"
            ],
            [
             0.5555555555555556,
             "#d8576b"
            ],
            [
             0.6666666666666666,
             "#ed7953"
            ],
            [
             0.7777777777777778,
             "#fb9f3a"
            ],
            [
             0.8888888888888888,
             "#fdca26"
            ],
            [
             1,
             "#f0f921"
            ]
           ],
           "sequentialminus": [
            [
             0,
             "#0d0887"
            ],
            [
             0.1111111111111111,
             "#46039f"
            ],
            [
             0.2222222222222222,
             "#7201a8"
            ],
            [
             0.3333333333333333,
             "#9c179e"
            ],
            [
             0.4444444444444444,
             "#bd3786"
            ],
            [
             0.5555555555555556,
             "#d8576b"
            ],
            [
             0.6666666666666666,
             "#ed7953"
            ],
            [
             0.7777777777777778,
             "#fb9f3a"
            ],
            [
             0.8888888888888888,
             "#fdca26"
            ],
            [
             1,
             "#f0f921"
            ]
           ]
          },
          "colorway": [
           "#636efa",
           "#EF553B",
           "#00cc96",
           "#ab63fa",
           "#FFA15A",
           "#19d3f3",
           "#FF6692",
           "#B6E880",
           "#FF97FF",
           "#FECB52"
          ],
          "font": {
           "color": "#2a3f5f"
          },
          "geo": {
           "bgcolor": "white",
           "lakecolor": "white",
           "landcolor": "white",
           "showlakes": true,
           "showland": true,
           "subunitcolor": "#C8D4E3"
          },
          "hoverlabel": {
           "align": "left"
          },
          "hovermode": "closest",
          "mapbox": {
           "style": "light"
          },
          "paper_bgcolor": "white",
          "plot_bgcolor": "white",
          "polar": {
           "angularaxis": {
            "gridcolor": "#EBF0F8",
            "linecolor": "#EBF0F8",
            "ticks": ""
           },
           "bgcolor": "white",
           "radialaxis": {
            "gridcolor": "#EBF0F8",
            "linecolor": "#EBF0F8",
            "ticks": ""
           }
          },
          "scene": {
           "xaxis": {
            "backgroundcolor": "white",
            "gridcolor": "#DFE8F3",
            "gridwidth": 2,
            "linecolor": "#EBF0F8",
            "showbackground": true,
            "ticks": "",
            "zerolinecolor": "#EBF0F8"
           },
           "yaxis": {
            "backgroundcolor": "white",
            "gridcolor": "#DFE8F3",
            "gridwidth": 2,
            "linecolor": "#EBF0F8",
            "showbackground": true,
            "ticks": "",
            "zerolinecolor": "#EBF0F8"
           },
           "zaxis": {
            "backgroundcolor": "white",
            "gridcolor": "#DFE8F3",
            "gridwidth": 2,
            "linecolor": "#EBF0F8",
            "showbackground": true,
            "ticks": "",
            "zerolinecolor": "#EBF0F8"
           }
          },
          "shapedefaults": {
           "line": {
            "color": "#2a3f5f"
           }
          },
          "ternary": {
           "aaxis": {
            "gridcolor": "#DFE8F3",
            "linecolor": "#A2B1C6",
            "ticks": ""
           },
           "baxis": {
            "gridcolor": "#DFE8F3",
            "linecolor": "#A2B1C6",
            "ticks": ""
           },
           "bgcolor": "white",
           "caxis": {
            "gridcolor": "#DFE8F3",
            "linecolor": "#A2B1C6",
            "ticks": ""
           }
          },
          "title": {
           "x": 0.05
          },
          "xaxis": {
           "automargin": true,
           "gridcolor": "#EBF0F8",
           "linecolor": "#EBF0F8",
           "ticks": "",
           "title": {
            "standoff": 15
           },
           "zerolinecolor": "#EBF0F8",
           "zerolinewidth": 2
          },
          "yaxis": {
           "automargin": true,
           "gridcolor": "#EBF0F8",
           "linecolor": "#EBF0F8",
           "ticks": "",
           "title": {
            "standoff": 15
           },
           "zerolinecolor": "#EBF0F8",
           "zerolinewidth": 2
          }
         }
        },
        "title": {
         "text": "24CS Candlestick with EMA, Volume, and RSI14"
        },
        "width": 1000,
        "xaxis": {
         "anchor": "y",
         "domain": [
          0,
          1
         ],
         "matches": "x3",
         "rangeslider": {
          "visible": false
         },
         "showticklabels": false
        },
        "xaxis2": {
         "anchor": "y2",
         "domain": [
          0,
          1
         ],
         "matches": "x3",
         "showticklabels": false
        },
        "xaxis3": {
         "anchor": "y3",
         "domain": [
          0,
          1
         ]
        },
        "yaxis": {
         "anchor": "x",
         "domain": [
          0.55,
          1
         ]
        },
        "yaxis2": {
         "anchor": "x2",
         "domain": [
          0.32,
          0.5
         ]
        },
        "yaxis3": {
         "anchor": "x3",
         "domain": [
          0,
          0.27
         ]
        }
       }
      }
     },
     "metadata": {},
     "output_type": "display_data"
    }
   ],
   "source": [
    "import plotly.graph_objects as go\n",
    "from plotly.subplots import make_subplots\n",
    "\n",
    "# 🔹 เลือกหุ้นเดียว (เช่น 24CS)\n",
    "ohlc_df = df_cand[df_cand[\"symbol\"] == \"24CS\"].copy()\n",
    "\n",
    "# 🔹 จัดการ index\n",
    "ohlc_df[\"time\"] = pd.to_datetime(ohlc_df[\"time\"])\n",
    "ohlc_df = ohlc_df.sort_values(\"time\")\n",
    "ohlc_df = ohlc_df.set_index(\"time\")\n",
    "ohlc_df.index.name = \"Date\"\n",
    "\n",
    "# 🔹 Rename columns\n",
    "ohlc_df = ohlc_df.rename(columns={\n",
    "    \"open_price\": \"Open\",\n",
    "    \"high_price\": \"High\",\n",
    "    \"low_price\": \"Low\",\n",
    "    \"close_price\": \"Close\",\n",
    "    \"volume\": \"Volume\"\n",
    "})\n",
    "\n",
    "# 🔹 เลือก 200 วันล่าสุด\n",
    "ohlc_df = ohlc_df.tail(200)\n",
    "\n",
    "# 🔹 คำนวณ EMA\n",
    "for p in [5, 15, 35, 89, 200]:\n",
    "    ohlc_df[f\"EMA{p}\"] = ohlc_df[\"Close\"].ewm(span=p, adjust=False).mean()\n",
    "\n",
    "# 🔹 คำนวณ RSI14\n",
    "delta = ohlc_df[\"Close\"].diff()\n",
    "gain = (delta.where(delta > 0, 0)).rolling(14).mean()\n",
    "loss = (-delta.where(delta < 0, 0)).rolling(14).mean()\n",
    "rs = gain / loss\n",
    "ohlc_df[\"RSI14\"] = 100 - (100 / (1 + rs))\n",
    "\n",
    "# ✅ Subplots (3 แถว)\n",
    "fig = make_subplots(\n",
    "    rows=3, cols=1, shared_xaxes=True,\n",
    "    row_heights=[0.5, 0.2, 0.3],\n",
    "    vertical_spacing=0.05,\n",
    "    subplot_titles=(\"Candlestick + EMA\", \"Volume\", \"RSI14\")\n",
    ")\n",
    "\n",
    "# ✅ Candlestick\n",
    "fig.add_trace(go.Candlestick(\n",
    "    x=ohlc_df.index,\n",
    "    open=ohlc_df['Open'],\n",
    "    high=ohlc_df['High'],\n",
    "    low=ohlc_df['Low'],\n",
    "    close=ohlc_df['Close'],\n",
    "    name=\"Candlestick\"\n",
    "), row=1, col=1)\n",
    "\n",
    "# ✅ EMA lines\n",
    "colors = {5:\"blue\", 15:\"orange\", 35:\"green\", 89:\"purple\", 200:\"red\"}\n",
    "for p in [5, 15, 35, 89, 200]:\n",
    "    fig.add_trace(go.Scatter(\n",
    "        x=ohlc_df.index,\n",
    "        y=ohlc_df[f\"EMA{p}\"],\n",
    "        mode=\"lines\",\n",
    "        line=dict(width=2, color=colors[p]),\n",
    "        name=f\"EMA{p}\"\n",
    "    ), row=1, col=1)\n",
    "\n",
    "# ✅ Volume\n",
    "fig.add_trace(go.Bar(\n",
    "    x=ohlc_df.index,\n",
    "    y=ohlc_df['Volume'],\n",
    "    marker_color=\"lightblue\",\n",
    "    name=\"Volume\"\n",
    "), row=2, col=1)\n",
    "\n",
    "# ✅ RSI14\n",
    "fig.add_trace(go.Scatter(\n",
    "    x=ohlc_df.index,\n",
    "    y=ohlc_df[\"RSI14\"],\n",
    "    line=dict(color=\"darkorange\", width=2),\n",
    "    name=\"RSI14\"\n",
    "), row=3, col=1)\n",
    "\n",
    "# ✅ เส้นระดับ RSI 30 และ 70\n",
    "for level in [30, 70]:\n",
    "    fig.add_hline(y=level, line_dash=\"dot\", line_color=\"gray\", row=3, col=1)\n",
    "\n",
    "# ✅ Layout\n",
    "fig.update_layout(\n",
    "    title=\"24CS Candlestick with EMA, Volume, and RSI14\",\n",
    "    xaxis_rangeslider_visible=False,\n",
    "    template=\"plotly_white\",\n",
    "    width=1000,\n",
    "    height=800\n",
    ")\n",
    "\n",
    "fig.show()\n"
   ]
  },
  {
   "cell_type": "code",
   "execution_count": 167,
   "id": "22a7597e",
   "metadata": {},
   "outputs": [
    {
     "data": {
      "text/html": [
       "<div>\n",
       "<style scoped>\n",
       "    .dataframe tbody tr th:only-of-type {\n",
       "        vertical-align: middle;\n",
       "    }\n",
       "\n",
       "    .dataframe tbody tr th {\n",
       "        vertical-align: top;\n",
       "    }\n",
       "\n",
       "    .dataframe thead th {\n",
       "        text-align: right;\n",
       "    }\n",
       "</style>\n",
       "<table border=\"1\" class=\"dataframe\">\n",
       "  <thead>\n",
       "    <tr style=\"text-align: right;\">\n",
       "      <th></th>\n",
       "      <th>symbol</th>\n",
       "      <th>eps</th>\n",
       "      <th>pe</th>\n",
       "      <th>pbv</th>\n",
       "      <th>percentyield</th>\n",
       "    </tr>\n",
       "  </thead>\n",
       "  <tbody>\n",
       "    <tr>\n",
       "      <th>0</th>\n",
       "      <td>PPPM</td>\n",
       "      <td>0.02000</td>\n",
       "      <td>0.00</td>\n",
       "      <td>0.70</td>\n",
       "      <td>0.00</td>\n",
       "    </tr>\n",
       "    <tr>\n",
       "      <th>1</th>\n",
       "      <td>TPCH</td>\n",
       "      <td>0.24112</td>\n",
       "      <td>7.90</td>\n",
       "      <td>0.34</td>\n",
       "      <td>13.91</td>\n",
       "    </tr>\n",
       "    <tr>\n",
       "      <th>2</th>\n",
       "      <td>KPNREIT</td>\n",
       "      <td>NaN</td>\n",
       "      <td>NaN</td>\n",
       "      <td>0.23</td>\n",
       "      <td>0.00</td>\n",
       "    </tr>\n",
       "    <tr>\n",
       "      <th>3</th>\n",
       "      <td>POLY</td>\n",
       "      <td>0.27632</td>\n",
       "      <td>12.89</td>\n",
       "      <td>2.42</td>\n",
       "      <td>6.38</td>\n",
       "    </tr>\n",
       "    <tr>\n",
       "      <th>4</th>\n",
       "      <td>QHBREIT</td>\n",
       "      <td>NaN</td>\n",
       "      <td>NaN</td>\n",
       "      <td>0.41</td>\n",
       "      <td>0.00</td>\n",
       "    </tr>\n",
       "    <tr>\n",
       "      <th>5</th>\n",
       "      <td>VCOM</td>\n",
       "      <td>0.21428</td>\n",
       "      <td>7.85</td>\n",
       "      <td>1.48</td>\n",
       "      <td>10.79</td>\n",
       "    </tr>\n",
       "    <tr>\n",
       "      <th>6</th>\n",
       "      <td>KDH</td>\n",
       "      <td>4.12186</td>\n",
       "      <td>10.62</td>\n",
       "      <td>1.93</td>\n",
       "      <td>3.01</td>\n",
       "    </tr>\n",
       "    <tr>\n",
       "      <th>7</th>\n",
       "      <td>NVD</td>\n",
       "      <td>-0.00942</td>\n",
       "      <td>38.87</td>\n",
       "      <td>0.32</td>\n",
       "      <td>0.00</td>\n",
       "    </tr>\n",
       "    <tr>\n",
       "      <th>8</th>\n",
       "      <td>JDF</td>\n",
       "      <td>0.04224</td>\n",
       "      <td>12.19</td>\n",
       "      <td>1.35</td>\n",
       "      <td>4.85</td>\n",
       "    </tr>\n",
       "    <tr>\n",
       "      <th>9</th>\n",
       "      <td>SVR</td>\n",
       "      <td>-0.03402</td>\n",
       "      <td>0.00</td>\n",
       "      <td>0.34</td>\n",
       "      <td>0.00</td>\n",
       "    </tr>\n",
       "  </tbody>\n",
       "</table>\n",
       "</div>"
      ],
      "text/plain": [
       "    symbol      eps     pe   pbv  percentyield\n",
       "0     PPPM  0.02000   0.00  0.70          0.00\n",
       "1     TPCH  0.24112   7.90  0.34         13.91\n",
       "2  KPNREIT      NaN    NaN  0.23          0.00\n",
       "3     POLY  0.27632  12.89  2.42          6.38\n",
       "4  QHBREIT      NaN    NaN  0.41          0.00\n",
       "5     VCOM  0.21428   7.85  1.48         10.79\n",
       "6      KDH  4.12186  10.62  1.93          3.01\n",
       "7      NVD -0.00942  38.87  0.32          0.00\n",
       "8      JDF  0.04224  12.19  1.35          4.85\n",
       "9      SVR -0.03402   0.00  0.34          0.00"
      ]
     },
     "execution_count": 167,
     "metadata": {},
     "output_type": "execute_result"
    }
   ],
   "source": [
    "rows_fin2 = session.execute(\"\"\"\n",
    "    SELECT symbol,eps,pe,pbv,percentYield FROM financal_data_fromsettradeAPI ALLOW FILTERING\n",
    "\"\"\")\n",
    "df_fun= pd.DataFrame(rows_fin2)\n",
    "df_fun.head(10)"
   ]
  },
  {
   "cell_type": "code",
   "execution_count": 168,
   "id": "ed427609",
   "metadata": {},
   "outputs": [
    {
     "data": {
      "text/plain": [
       "(597057, 8)"
      ]
     },
     "execution_count": 168,
     "metadata": {},
     "output_type": "execute_result"
    }
   ],
   "source": [
    "df_cand.shape"
   ]
  },
  {
   "cell_type": "code",
   "execution_count": 169,
   "id": "c7c6ca0b",
   "metadata": {},
   "outputs": [
    {
     "data": {
      "text/plain": [
       "(913, 5)"
      ]
     },
     "execution_count": 169,
     "metadata": {},
     "output_type": "execute_result"
    }
   ],
   "source": [
    "df_fun.shape"
   ]
  },
  {
   "cell_type": "code",
   "execution_count": 170,
   "id": "42958e73",
   "metadata": {},
   "outputs": [
    {
     "data": {
      "text/plain": [
       "symbol         0\n",
       "time           0\n",
       "close_price    0\n",
       "high_price     0\n",
       "low_price      0\n",
       "open_price     0\n",
       "value          0\n",
       "volume         0\n",
       "dtype: int64"
      ]
     },
     "execution_count": 170,
     "metadata": {},
     "output_type": "execute_result"
    }
   ],
   "source": [
    "df_cand.isnull().sum()"
   ]
  },
  {
   "cell_type": "code",
   "execution_count": 171,
   "id": "9237b61b",
   "metadata": {},
   "outputs": [
    {
     "data": {
      "text/plain": [
       "symbol           0\n",
       "eps             65\n",
       "pe              75\n",
       "pbv             12\n",
       "percentyield    11\n",
       "dtype: int64"
      ]
     },
     "execution_count": 171,
     "metadata": {},
     "output_type": "execute_result"
    }
   ],
   "source": [
    "df_fun.isnull().sum()"
   ]
  },
  {
   "cell_type": "code",
   "execution_count": 172,
   "id": "6214766c",
   "metadata": {},
   "outputs": [
    {
     "data": {
      "text/html": [
       "<div>\n",
       "<style scoped>\n",
       "    .dataframe tbody tr th:only-of-type {\n",
       "        vertical-align: middle;\n",
       "    }\n",
       "\n",
       "    .dataframe tbody tr th {\n",
       "        vertical-align: top;\n",
       "    }\n",
       "\n",
       "    .dataframe thead th {\n",
       "        text-align: right;\n",
       "    }\n",
       "</style>\n",
       "<table border=\"1\" class=\"dataframe\">\n",
       "  <thead>\n",
       "    <tr style=\"text-align: right;\">\n",
       "      <th></th>\n",
       "      <th>symbol</th>\n",
       "      <th>time</th>\n",
       "      <th>close_price</th>\n",
       "      <th>high_price</th>\n",
       "      <th>low_price</th>\n",
       "      <th>open_price</th>\n",
       "      <th>value</th>\n",
       "      <th>volume</th>\n",
       "    </tr>\n",
       "  </thead>\n",
       "  <tbody>\n",
       "    <tr>\n",
       "      <th>296488</th>\n",
       "      <td>ACAP</td>\n",
       "      <td>2023-05-17</td>\n",
       "      <td>0.33</td>\n",
       "      <td>0.36</td>\n",
       "      <td>0.21</td>\n",
       "      <td>0.22</td>\n",
       "      <td>0.0</td>\n",
       "      <td>13918556</td>\n",
       "    </tr>\n",
       "    <tr>\n",
       "      <th>377055</th>\n",
       "      <td>TAPAC</td>\n",
       "      <td>2024-05-02</td>\n",
       "      <td>0.52</td>\n",
       "      <td>0.53</td>\n",
       "      <td>0.46</td>\n",
       "      <td>0.47</td>\n",
       "      <td>0.0</td>\n",
       "      <td>1675203</td>\n",
       "    </tr>\n",
       "    <tr>\n",
       "      <th>29119</th>\n",
       "      <td>KKC</td>\n",
       "      <td>2024-07-26</td>\n",
       "      <td>0.04</td>\n",
       "      <td>0.04</td>\n",
       "      <td>0.03</td>\n",
       "      <td>0.03</td>\n",
       "      <td>0.0</td>\n",
       "      <td>4462175</td>\n",
       "    </tr>\n",
       "    <tr>\n",
       "      <th>570667</th>\n",
       "      <td>JKN</td>\n",
       "      <td>2024-09-16</td>\n",
       "      <td>0.31</td>\n",
       "      <td>0.32</td>\n",
       "      <td>0.25</td>\n",
       "      <td>0.26</td>\n",
       "      <td>0.0</td>\n",
       "      <td>43155573</td>\n",
       "    </tr>\n",
       "    <tr>\n",
       "      <th>340860</th>\n",
       "      <td>CV</td>\n",
       "      <td>2025-02-28</td>\n",
       "      <td>0.20</td>\n",
       "      <td>0.24</td>\n",
       "      <td>0.18</td>\n",
       "      <td>0.22</td>\n",
       "      <td>0.0</td>\n",
       "      <td>18892801</td>\n",
       "    </tr>\n",
       "    <tr>\n",
       "      <th>578870</th>\n",
       "      <td>KWI</td>\n",
       "      <td>2025-02-28</td>\n",
       "      <td>0.30</td>\n",
       "      <td>0.30</td>\n",
       "      <td>0.28</td>\n",
       "      <td>0.29</td>\n",
       "      <td>0.0</td>\n",
       "      <td>264500</td>\n",
       "    </tr>\n",
       "    <tr>\n",
       "      <th>104554</th>\n",
       "      <td>TOPP</td>\n",
       "      <td>2025-05-02</td>\n",
       "      <td>155.00</td>\n",
       "      <td>155.00</td>\n",
       "      <td>155.00</td>\n",
       "      <td>155.00</td>\n",
       "      <td>0.0</td>\n",
       "      <td>100</td>\n",
       "    </tr>\n",
       "    <tr>\n",
       "      <th>175947</th>\n",
       "      <td>NEW</td>\n",
       "      <td>2025-05-02</td>\n",
       "      <td>97.00</td>\n",
       "      <td>97.00</td>\n",
       "      <td>97.00</td>\n",
       "      <td>97.00</td>\n",
       "      <td>0.0</td>\n",
       "      <td>100</td>\n",
       "    </tr>\n",
       "    <tr>\n",
       "      <th>485008</th>\n",
       "      <td>CSR</td>\n",
       "      <td>2025-05-14</td>\n",
       "      <td>71.50</td>\n",
       "      <td>71.50</td>\n",
       "      <td>71.50</td>\n",
       "      <td>71.50</td>\n",
       "      <td>0.0</td>\n",
       "      <td>100</td>\n",
       "    </tr>\n",
       "    <tr>\n",
       "      <th>190493</th>\n",
       "      <td>MVP</td>\n",
       "      <td>2025-05-15</td>\n",
       "      <td>0.50</td>\n",
       "      <td>0.53</td>\n",
       "      <td>0.50</td>\n",
       "      <td>0.52</td>\n",
       "      <td>0.0</td>\n",
       "      <td>535301</td>\n",
       "    </tr>\n",
       "  </tbody>\n",
       "</table>\n",
       "</div>"
      ],
      "text/plain": [
       "       symbol       time  close_price  high_price  low_price  open_price  \\\n",
       "296488   ACAP 2023-05-17         0.33        0.36       0.21        0.22   \n",
       "377055  TAPAC 2024-05-02         0.52        0.53       0.46        0.47   \n",
       "29119     KKC 2024-07-26         0.04        0.04       0.03        0.03   \n",
       "570667    JKN 2024-09-16         0.31        0.32       0.25        0.26   \n",
       "340860     CV 2025-02-28         0.20        0.24       0.18        0.22   \n",
       "578870    KWI 2025-02-28         0.30        0.30       0.28        0.29   \n",
       "104554   TOPP 2025-05-02       155.00      155.00     155.00      155.00   \n",
       "175947    NEW 2025-05-02        97.00       97.00      97.00       97.00   \n",
       "485008    CSR 2025-05-14        71.50       71.50      71.50       71.50   \n",
       "190493    MVP 2025-05-15         0.50        0.53       0.50        0.52   \n",
       "\n",
       "        value    volume  \n",
       "296488    0.0  13918556  \n",
       "377055    0.0   1675203  \n",
       "29119     0.0   4462175  \n",
       "570667    0.0  43155573  \n",
       "340860    0.0  18892801  \n",
       "578870    0.0    264500  \n",
       "104554    0.0       100  \n",
       "175947    0.0       100  \n",
       "485008    0.0       100  \n",
       "190493    0.0    535301  "
      ]
     },
     "execution_count": 172,
     "metadata": {},
     "output_type": "execute_result"
    }
   ],
   "source": [
    "# ✅ 1) ดึงแท่งล่าสุดของแต่ละ symbol\n",
    "df_latest_candle = (\n",
    "    df_cand.sort_values(\"time\")\n",
    "    .groupby(\"symbol\", as_index=False)\n",
    "    .tail(1)  # หรือใช้ .last() ก็ได้หลัง sort แล้ว\n",
    ")\n",
    "df_latest_candle.head(10)"
   ]
  },
  {
   "cell_type": "code",
   "execution_count": 173,
   "id": "d9523685",
   "metadata": {},
   "outputs": [
    {
     "data": {
      "text/plain": [
       "(912, 8)"
      ]
     },
     "execution_count": 173,
     "metadata": {},
     "output_type": "execute_result"
    }
   ],
   "source": [
    "df_latest_candle.shape"
   ]
  },
  {
   "cell_type": "code",
   "execution_count": 174,
   "id": "6b6dab67",
   "metadata": {},
   "outputs": [
    {
     "data": {
      "text/plain": [
       "(838, 5)"
      ]
     },
     "execution_count": 174,
     "metadata": {},
     "output_type": "execute_result"
    }
   ],
   "source": [
    "fundrop=df_fun\n",
    "fundrop.dropna(inplace=True) \n",
    "fundrop.shape"
   ]
  },
  {
   "cell_type": "code",
   "execution_count": 175,
   "id": "00bf1cd6",
   "metadata": {},
   "outputs": [],
   "source": [
    "import ta\n",
    "import numpy as np\n",
    "import pandas as pd\n",
    "\n",
    "def compute_technical_grades(df_candle, band_pct=0.015):\n",
    "    df_result = []\n",
    "\n",
    "    for symbol, df_sym in df_candle.groupby('symbol'):\n",
    "        df_sym = df_sym.sort_values('time').copy()\n",
    "\n",
    "        # ✅ คำนวณ EMA และ RSI\n",
    "        df_sym['ema5'] = df_sym['close_price'].ewm(span=5, adjust=False).mean()\n",
    "        df_sym['ema15'] = df_sym['close_price'].ewm(span=15, adjust=False).mean()\n",
    "        df_sym['ema35'] = df_sym['close_price'].ewm(span=35, adjust=False).mean()\n",
    "        df_sym['ema89'] = df_sym['close_price'].ewm(span=89, adjust=False).mean()\n",
    "        df_sym['ema200'] = df_sym['close_price'].ewm(span=200, adjust=False).mean()\n",
    "        df_sym['rsi'] = ta.momentum.RSIIndicator(close=df_sym['close_price'], window=14).rsi()\n",
    "\n",
    "        # ✅ ใช้ข้อมูลแถวสุดท้าย (ล่าสุด)\n",
    "        row = df_sym.iloc[-1]\n",
    "        try:\n",
    "            c = row['close_price']\n",
    "            r = row['rsi']\n",
    "            e5, e15, e35, e89, e200 = row['ema5'], row['ema15'], row['ema35'], row['ema89'], row['ema200']\n",
    "\n",
    "            # ✅ Logic การให้เกรด\n",
    "            if c >= e5 and r >= 70:\n",
    "                grade = 'a'\n",
    "            elif c >= e35 and e35 >= e89:\n",
    "                grade = 'b'\n",
    "            elif c >= e89 and (max([e5,e15,e35,e89]) - min([e5,e15,e35,e89])) / np.mean([e5,e15,e35,e89]) <= band_pct:\n",
    "                grade = 'c'\n",
    "            elif c < e89 and c < e200 and e89 < e200:\n",
    "                grade = 'd'\n",
    "            elif c < e5 < e15 < e35 < e89 < e200 and r <= 30:\n",
    "                grade = 'e'\n",
    "            else:\n",
    "                grade = None\n",
    "        except:\n",
    "            grade = None\n",
    "        df_result.append({'symbol': symbol, 'trend_grade': grade})\n",
    "        # ✅ เก็บข้อมูลทั้งหมดลงใน dict\n",
    "        df_result.append({\n",
    "            'symbol': symbol,\n",
    "            'time': row['time'],\n",
    "            'close_price': row['close_price'],\n",
    "            'high_price': row['high_price'],\n",
    "            'low_price': row['low_price'],\n",
    "            'open_price': row['open_price'],\n",
    "            'value': row['value'],\n",
    "            'trend_grade': grade,\n",
    "        })\n",
    "\n",
    "    return pd.DataFrame(df_result)\n"
   ]
  },
  {
   "cell_type": "code",
   "execution_count": 176,
   "id": "01ddfb8d",
   "metadata": {},
   "outputs": [],
   "source": [
    "df_result = compute_technical_grades(df_cand)    "
   ]
  },
  {
   "cell_type": "code",
   "execution_count": 177,
   "id": "f99cf4a4",
   "metadata": {},
   "outputs": [
    {
     "data": {
      "text/html": [
       "<div>\n",
       "<style scoped>\n",
       "    .dataframe tbody tr th:only-of-type {\n",
       "        vertical-align: middle;\n",
       "    }\n",
       "\n",
       "    .dataframe tbody tr th {\n",
       "        vertical-align: top;\n",
       "    }\n",
       "\n",
       "    .dataframe thead th {\n",
       "        text-align: right;\n",
       "    }\n",
       "</style>\n",
       "<table border=\"1\" class=\"dataframe\">\n",
       "  <thead>\n",
       "    <tr style=\"text-align: right;\">\n",
       "      <th></th>\n",
       "      <th>symbol</th>\n",
       "      <th>trend_grade</th>\n",
       "      <th>time</th>\n",
       "      <th>close_price</th>\n",
       "      <th>high_price</th>\n",
       "      <th>low_price</th>\n",
       "      <th>open_price</th>\n",
       "      <th>value</th>\n",
       "    </tr>\n",
       "  </thead>\n",
       "  <tbody>\n",
       "    <tr>\n",
       "      <th>0</th>\n",
       "      <td>24CS</td>\n",
       "      <td>d</td>\n",
       "      <td>NaT</td>\n",
       "      <td>NaN</td>\n",
       "      <td>NaN</td>\n",
       "      <td>NaN</td>\n",
       "      <td>NaN</td>\n",
       "      <td>NaN</td>\n",
       "    </tr>\n",
       "    <tr>\n",
       "      <th>1</th>\n",
       "      <td>24CS</td>\n",
       "      <td>d</td>\n",
       "      <td>2025-05-28</td>\n",
       "      <td>1.00</td>\n",
       "      <td>1.11</td>\n",
       "      <td>0.98</td>\n",
       "      <td>1.08</td>\n",
       "      <td>0.0</td>\n",
       "    </tr>\n",
       "    <tr>\n",
       "      <th>2</th>\n",
       "      <td>2S</td>\n",
       "      <td>None</td>\n",
       "      <td>NaT</td>\n",
       "      <td>NaN</td>\n",
       "      <td>NaN</td>\n",
       "      <td>NaN</td>\n",
       "      <td>NaN</td>\n",
       "      <td>NaN</td>\n",
       "    </tr>\n",
       "    <tr>\n",
       "      <th>3</th>\n",
       "      <td>2S</td>\n",
       "      <td>None</td>\n",
       "      <td>2025-05-28</td>\n",
       "      <td>2.32</td>\n",
       "      <td>2.32</td>\n",
       "      <td>2.30</td>\n",
       "      <td>2.32</td>\n",
       "      <td>0.0</td>\n",
       "    </tr>\n",
       "    <tr>\n",
       "      <th>4</th>\n",
       "      <td>3BBIF</td>\n",
       "      <td>b</td>\n",
       "      <td>NaT</td>\n",
       "      <td>NaN</td>\n",
       "      <td>NaN</td>\n",
       "      <td>NaN</td>\n",
       "      <td>NaN</td>\n",
       "      <td>NaN</td>\n",
       "    </tr>\n",
       "    <tr>\n",
       "      <th>5</th>\n",
       "      <td>3BBIF</td>\n",
       "      <td>b</td>\n",
       "      <td>2025-05-28</td>\n",
       "      <td>6.00</td>\n",
       "      <td>6.05</td>\n",
       "      <td>5.90</td>\n",
       "      <td>5.90</td>\n",
       "      <td>0.0</td>\n",
       "    </tr>\n",
       "    <tr>\n",
       "      <th>6</th>\n",
       "      <td>A</td>\n",
       "      <td>d</td>\n",
       "      <td>NaT</td>\n",
       "      <td>NaN</td>\n",
       "      <td>NaN</td>\n",
       "      <td>NaN</td>\n",
       "      <td>NaN</td>\n",
       "      <td>NaN</td>\n",
       "    </tr>\n",
       "    <tr>\n",
       "      <th>7</th>\n",
       "      <td>A</td>\n",
       "      <td>d</td>\n",
       "      <td>2025-08-19</td>\n",
       "      <td>4.82</td>\n",
       "      <td>4.84</td>\n",
       "      <td>4.82</td>\n",
       "      <td>4.82</td>\n",
       "      <td>366520.0</td>\n",
       "    </tr>\n",
       "    <tr>\n",
       "      <th>8</th>\n",
       "      <td>A5</td>\n",
       "      <td>d</td>\n",
       "      <td>NaT</td>\n",
       "      <td>NaN</td>\n",
       "      <td>NaN</td>\n",
       "      <td>NaN</td>\n",
       "      <td>NaN</td>\n",
       "      <td>NaN</td>\n",
       "    </tr>\n",
       "    <tr>\n",
       "      <th>9</th>\n",
       "      <td>A5</td>\n",
       "      <td>d</td>\n",
       "      <td>2025-05-28</td>\n",
       "      <td>2.18</td>\n",
       "      <td>2.26</td>\n",
       "      <td>2.10</td>\n",
       "      <td>2.16</td>\n",
       "      <td>0.0</td>\n",
       "    </tr>\n",
       "  </tbody>\n",
       "</table>\n",
       "</div>"
      ],
      "text/plain": [
       "  symbol trend_grade       time  close_price  high_price  low_price  \\\n",
       "0   24CS           d        NaT          NaN         NaN        NaN   \n",
       "1   24CS           d 2025-05-28         1.00        1.11       0.98   \n",
       "2     2S        None        NaT          NaN         NaN        NaN   \n",
       "3     2S        None 2025-05-28         2.32        2.32       2.30   \n",
       "4  3BBIF           b        NaT          NaN         NaN        NaN   \n",
       "5  3BBIF           b 2025-05-28         6.00        6.05       5.90   \n",
       "6      A           d        NaT          NaN         NaN        NaN   \n",
       "7      A           d 2025-08-19         4.82        4.84       4.82   \n",
       "8     A5           d        NaT          NaN         NaN        NaN   \n",
       "9     A5           d 2025-05-28         2.18        2.26       2.10   \n",
       "\n",
       "   open_price     value  \n",
       "0         NaN       NaN  \n",
       "1        1.08       0.0  \n",
       "2         NaN       NaN  \n",
       "3        2.32       0.0  \n",
       "4         NaN       NaN  \n",
       "5        5.90       0.0  \n",
       "6         NaN       NaN  \n",
       "7        4.82  366520.0  \n",
       "8         NaN       NaN  \n",
       "9        2.16       0.0  "
      ]
     },
     "execution_count": 177,
     "metadata": {},
     "output_type": "execute_result"
    }
   ],
   "source": [
    "df_result.head(10)"
   ]
  },
  {
   "cell_type": "code",
   "execution_count": 178,
   "id": "46393459",
   "metadata": {},
   "outputs": [
    {
     "data": {
      "text/plain": [
       "symbol           0\n",
       "trend_grade    230\n",
       "time           912\n",
       "close_price    912\n",
       "high_price     912\n",
       "low_price      912\n",
       "open_price     912\n",
       "value          912\n",
       "dtype: int64"
      ]
     },
     "execution_count": 178,
     "metadata": {},
     "output_type": "execute_result"
    }
   ],
   "source": [
    "df_result.shape\n",
    "df_result.isnull().sum()"
   ]
  },
  {
   "cell_type": "code",
   "execution_count": 179,
   "id": "9bc795cf",
   "metadata": {},
   "outputs": [],
   "source": [
    "df_result.dropna(inplace=True)"
   ]
  },
  {
   "cell_type": "code",
   "execution_count": 180,
   "id": "5c3daace",
   "metadata": {},
   "outputs": [
    {
     "data": {
      "text/plain": [
       "symbol         0\n",
       "trend_grade    0\n",
       "time           0\n",
       "close_price    0\n",
       "high_price     0\n",
       "low_price      0\n",
       "open_price     0\n",
       "value          0\n",
       "dtype: int64"
      ]
     },
     "execution_count": 180,
     "metadata": {},
     "output_type": "execute_result"
    }
   ],
   "source": [
    "df_result.isnull().sum()"
   ]
  },
  {
   "cell_type": "code",
   "execution_count": 181,
   "id": "6e749cc0",
   "metadata": {},
   "outputs": [
    {
     "data": {
      "text/plain": [
       "(797, 8)"
      ]
     },
     "execution_count": 181,
     "metadata": {},
     "output_type": "execute_result"
    }
   ],
   "source": [
    "df_result.shape"
   ]
  },
  {
   "cell_type": "code",
   "execution_count": 182,
   "id": "28219b18",
   "metadata": {},
   "outputs": [
    {
     "data": {
      "text/html": [
       "<div>\n",
       "<style scoped>\n",
       "    .dataframe tbody tr th:only-of-type {\n",
       "        vertical-align: middle;\n",
       "    }\n",
       "\n",
       "    .dataframe tbody tr th {\n",
       "        vertical-align: top;\n",
       "    }\n",
       "\n",
       "    .dataframe thead th {\n",
       "        text-align: right;\n",
       "    }\n",
       "</style>\n",
       "<table border=\"1\" class=\"dataframe\">\n",
       "  <thead>\n",
       "    <tr style=\"text-align: right;\">\n",
       "      <th></th>\n",
       "      <th>symbol</th>\n",
       "      <th>trend_grade</th>\n",
       "      <th>time</th>\n",
       "      <th>close_price</th>\n",
       "      <th>high_price</th>\n",
       "      <th>low_price</th>\n",
       "      <th>open_price</th>\n",
       "      <th>value</th>\n",
       "    </tr>\n",
       "  </thead>\n",
       "  <tbody>\n",
       "    <tr>\n",
       "      <th>1</th>\n",
       "      <td>24CS</td>\n",
       "      <td>d</td>\n",
       "      <td>2025-05-28</td>\n",
       "      <td>1.00</td>\n",
       "      <td>1.11</td>\n",
       "      <td>0.98</td>\n",
       "      <td>1.08</td>\n",
       "      <td>0.0</td>\n",
       "    </tr>\n",
       "    <tr>\n",
       "      <th>5</th>\n",
       "      <td>3BBIF</td>\n",
       "      <td>b</td>\n",
       "      <td>2025-05-28</td>\n",
       "      <td>6.00</td>\n",
       "      <td>6.05</td>\n",
       "      <td>5.90</td>\n",
       "      <td>5.90</td>\n",
       "      <td>0.0</td>\n",
       "    </tr>\n",
       "    <tr>\n",
       "      <th>7</th>\n",
       "      <td>A</td>\n",
       "      <td>d</td>\n",
       "      <td>2025-08-19</td>\n",
       "      <td>4.82</td>\n",
       "      <td>4.84</td>\n",
       "      <td>4.82</td>\n",
       "      <td>4.82</td>\n",
       "      <td>366520.0</td>\n",
       "    </tr>\n",
       "    <tr>\n",
       "      <th>9</th>\n",
       "      <td>A5</td>\n",
       "      <td>d</td>\n",
       "      <td>2025-05-28</td>\n",
       "      <td>2.18</td>\n",
       "      <td>2.26</td>\n",
       "      <td>2.10</td>\n",
       "      <td>2.16</td>\n",
       "      <td>0.0</td>\n",
       "    </tr>\n",
       "    <tr>\n",
       "      <th>11</th>\n",
       "      <td>AAI</td>\n",
       "      <td>d</td>\n",
       "      <td>2025-05-28</td>\n",
       "      <td>4.18</td>\n",
       "      <td>4.26</td>\n",
       "      <td>4.18</td>\n",
       "      <td>4.22</td>\n",
       "      <td>0.0</td>\n",
       "    </tr>\n",
       "    <tr>\n",
       "      <th>13</th>\n",
       "      <td>AAV</td>\n",
       "      <td>d</td>\n",
       "      <td>2025-05-28</td>\n",
       "      <td>1.24</td>\n",
       "      <td>1.26</td>\n",
       "      <td>1.19</td>\n",
       "      <td>1.19</td>\n",
       "      <td>0.0</td>\n",
       "    </tr>\n",
       "    <tr>\n",
       "      <th>15</th>\n",
       "      <td>ABM</td>\n",
       "      <td>d</td>\n",
       "      <td>2025-05-28</td>\n",
       "      <td>0.64</td>\n",
       "      <td>0.64</td>\n",
       "      <td>0.63</td>\n",
       "      <td>0.64</td>\n",
       "      <td>0.0</td>\n",
       "    </tr>\n",
       "    <tr>\n",
       "      <th>17</th>\n",
       "      <td>ACAP</td>\n",
       "      <td>d</td>\n",
       "      <td>2023-05-17</td>\n",
       "      <td>0.33</td>\n",
       "      <td>0.36</td>\n",
       "      <td>0.21</td>\n",
       "      <td>0.22</td>\n",
       "      <td>0.0</td>\n",
       "    </tr>\n",
       "    <tr>\n",
       "      <th>19</th>\n",
       "      <td>ACC</td>\n",
       "      <td>d</td>\n",
       "      <td>2025-05-28</td>\n",
       "      <td>0.32</td>\n",
       "      <td>0.34</td>\n",
       "      <td>0.31</td>\n",
       "      <td>0.31</td>\n",
       "      <td>0.0</td>\n",
       "    </tr>\n",
       "    <tr>\n",
       "      <th>21</th>\n",
       "      <td>ACE</td>\n",
       "      <td>b</td>\n",
       "      <td>2025-05-28</td>\n",
       "      <td>1.31</td>\n",
       "      <td>1.31</td>\n",
       "      <td>1.30</td>\n",
       "      <td>1.30</td>\n",
       "      <td>0.0</td>\n",
       "    </tr>\n",
       "  </tbody>\n",
       "</table>\n",
       "</div>"
      ],
      "text/plain": [
       "   symbol trend_grade       time  close_price  high_price  low_price  \\\n",
       "1    24CS           d 2025-05-28         1.00        1.11       0.98   \n",
       "5   3BBIF           b 2025-05-28         6.00        6.05       5.90   \n",
       "7       A           d 2025-08-19         4.82        4.84       4.82   \n",
       "9      A5           d 2025-05-28         2.18        2.26       2.10   \n",
       "11    AAI           d 2025-05-28         4.18        4.26       4.18   \n",
       "13    AAV           d 2025-05-28         1.24        1.26       1.19   \n",
       "15    ABM           d 2025-05-28         0.64        0.64       0.63   \n",
       "17   ACAP           d 2023-05-17         0.33        0.36       0.21   \n",
       "19    ACC           d 2025-05-28         0.32        0.34       0.31   \n",
       "21    ACE           b 2025-05-28         1.31        1.31       1.30   \n",
       "\n",
       "    open_price     value  \n",
       "1         1.08       0.0  \n",
       "5         5.90       0.0  \n",
       "7         4.82  366520.0  \n",
       "9         2.16       0.0  \n",
       "11        4.22       0.0  \n",
       "13        1.19       0.0  \n",
       "15        0.64       0.0  \n",
       "17        0.22       0.0  \n",
       "19        0.31       0.0  \n",
       "21        1.30       0.0  "
      ]
     },
     "execution_count": 182,
     "metadata": {},
     "output_type": "execute_result"
    }
   ],
   "source": [
    "df_result.head(10)"
   ]
  },
  {
   "cell_type": "code",
   "execution_count": 183,
   "id": "ede833c8",
   "metadata": {},
   "outputs": [
    {
     "data": {
      "text/html": [
       "<div>\n",
       "<style scoped>\n",
       "    .dataframe tbody tr th:only-of-type {\n",
       "        vertical-align: middle;\n",
       "    }\n",
       "\n",
       "    .dataframe tbody tr th {\n",
       "        vertical-align: top;\n",
       "    }\n",
       "\n",
       "    .dataframe thead th {\n",
       "        text-align: right;\n",
       "    }\n",
       "</style>\n",
       "<table border=\"1\" class=\"dataframe\">\n",
       "  <thead>\n",
       "    <tr style=\"text-align: right;\">\n",
       "      <th></th>\n",
       "      <th>symbol</th>\n",
       "      <th>eps</th>\n",
       "      <th>pe</th>\n",
       "      <th>pbv</th>\n",
       "      <th>percentyield</th>\n",
       "    </tr>\n",
       "  </thead>\n",
       "  <tbody>\n",
       "    <tr>\n",
       "      <th>0</th>\n",
       "      <td>PPPM</td>\n",
       "      <td>0.02000</td>\n",
       "      <td>0.00</td>\n",
       "      <td>0.70</td>\n",
       "      <td>0.00</td>\n",
       "    </tr>\n",
       "    <tr>\n",
       "      <th>1</th>\n",
       "      <td>TPCH</td>\n",
       "      <td>0.24112</td>\n",
       "      <td>7.90</td>\n",
       "      <td>0.34</td>\n",
       "      <td>13.91</td>\n",
       "    </tr>\n",
       "    <tr>\n",
       "      <th>3</th>\n",
       "      <td>POLY</td>\n",
       "      <td>0.27632</td>\n",
       "      <td>12.89</td>\n",
       "      <td>2.42</td>\n",
       "      <td>6.38</td>\n",
       "    </tr>\n",
       "    <tr>\n",
       "      <th>5</th>\n",
       "      <td>VCOM</td>\n",
       "      <td>0.21428</td>\n",
       "      <td>7.85</td>\n",
       "      <td>1.48</td>\n",
       "      <td>10.79</td>\n",
       "    </tr>\n",
       "    <tr>\n",
       "      <th>6</th>\n",
       "      <td>KDH</td>\n",
       "      <td>4.12186</td>\n",
       "      <td>10.62</td>\n",
       "      <td>1.93</td>\n",
       "      <td>3.01</td>\n",
       "    </tr>\n",
       "    <tr>\n",
       "      <th>7</th>\n",
       "      <td>NVD</td>\n",
       "      <td>-0.00942</td>\n",
       "      <td>38.87</td>\n",
       "      <td>0.32</td>\n",
       "      <td>0.00</td>\n",
       "    </tr>\n",
       "    <tr>\n",
       "      <th>8</th>\n",
       "      <td>JDF</td>\n",
       "      <td>0.04224</td>\n",
       "      <td>12.19</td>\n",
       "      <td>1.35</td>\n",
       "      <td>4.85</td>\n",
       "    </tr>\n",
       "    <tr>\n",
       "      <th>9</th>\n",
       "      <td>SVR</td>\n",
       "      <td>-0.03402</td>\n",
       "      <td>0.00</td>\n",
       "      <td>0.34</td>\n",
       "      <td>0.00</td>\n",
       "    </tr>\n",
       "    <tr>\n",
       "      <th>10</th>\n",
       "      <td>SUSCO</td>\n",
       "      <td>0.11000</td>\n",
       "      <td>8.75</td>\n",
       "      <td>0.55</td>\n",
       "      <td>8.37</td>\n",
       "    </tr>\n",
       "    <tr>\n",
       "      <th>11</th>\n",
       "      <td>STP</td>\n",
       "      <td>0.92828</td>\n",
       "      <td>6.74</td>\n",
       "      <td>1.37</td>\n",
       "      <td>5.60</td>\n",
       "    </tr>\n",
       "  </tbody>\n",
       "</table>\n",
       "</div>"
      ],
      "text/plain": [
       "   symbol      eps     pe   pbv  percentyield\n",
       "0    PPPM  0.02000   0.00  0.70          0.00\n",
       "1    TPCH  0.24112   7.90  0.34         13.91\n",
       "3    POLY  0.27632  12.89  2.42          6.38\n",
       "5    VCOM  0.21428   7.85  1.48         10.79\n",
       "6     KDH  4.12186  10.62  1.93          3.01\n",
       "7     NVD -0.00942  38.87  0.32          0.00\n",
       "8     JDF  0.04224  12.19  1.35          4.85\n",
       "9     SVR -0.03402   0.00  0.34          0.00\n",
       "10  SUSCO  0.11000   8.75  0.55          8.37\n",
       "11    STP  0.92828   6.74  1.37          5.60"
      ]
     },
     "execution_count": 183,
     "metadata": {},
     "output_type": "execute_result"
    }
   ],
   "source": [
    "dffundrop.head(10)"
   ]
  },
  {
   "cell_type": "code",
   "execution_count": 184,
   "id": "1b458c6a",
   "metadata": {},
   "outputs": [],
   "source": [
    "# ✅ 2) Merge กับข้อมูล fundamental\n",
    "df_result2 = pd.merge(dffundrop, df_result, on=\"symbol\", how=\"inner\")\n",
    "\n",
    "# ✅ 3) คำนวณ marketcap\n",
    "df_result2[\"marketcap\"] = df_result2[\"close_price\"] * df[\"volume\"]"
   ]
  },
  {
   "cell_type": "code",
   "execution_count": 185,
   "id": "c03cd6c5",
   "metadata": {},
   "outputs": [
    {
     "data": {
      "text/html": [
       "<div>\n",
       "<style scoped>\n",
       "    .dataframe tbody tr th:only-of-type {\n",
       "        vertical-align: middle;\n",
       "    }\n",
       "\n",
       "    .dataframe tbody tr th {\n",
       "        vertical-align: top;\n",
       "    }\n",
       "\n",
       "    .dataframe thead th {\n",
       "        text-align: right;\n",
       "    }\n",
       "</style>\n",
       "<table border=\"1\" class=\"dataframe\">\n",
       "  <thead>\n",
       "    <tr style=\"text-align: right;\">\n",
       "      <th></th>\n",
       "      <th>symbol</th>\n",
       "      <th>eps</th>\n",
       "      <th>pe</th>\n",
       "      <th>pbv</th>\n",
       "      <th>percentyield</th>\n",
       "      <th>trend_grade</th>\n",
       "      <th>time</th>\n",
       "      <th>close_price</th>\n",
       "      <th>high_price</th>\n",
       "      <th>low_price</th>\n",
       "      <th>open_price</th>\n",
       "      <th>value</th>\n",
       "      <th>marketcap</th>\n",
       "    </tr>\n",
       "  </thead>\n",
       "  <tbody>\n",
       "    <tr>\n",
       "      <th>0</th>\n",
       "      <td>TPCH</td>\n",
       "      <td>0.24112</td>\n",
       "      <td>7.90</td>\n",
       "      <td>0.34</td>\n",
       "      <td>13.91</td>\n",
       "      <td>d</td>\n",
       "      <td>2025-05-28</td>\n",
       "      <td>3.08</td>\n",
       "      <td>3.10</td>\n",
       "      <td>3.04</td>\n",
       "      <td>3.10</td>\n",
       "      <td>0.0</td>\n",
       "      <td>966041.976070</td>\n",
       "    </tr>\n",
       "    <tr>\n",
       "      <th>1</th>\n",
       "      <td>POLY</td>\n",
       "      <td>0.27632</td>\n",
       "      <td>12.89</td>\n",
       "      <td>2.42</td>\n",
       "      <td>6.38</td>\n",
       "      <td>d</td>\n",
       "      <td>2025-05-28</td>\n",
       "      <td>6.95</td>\n",
       "      <td>6.95</td>\n",
       "      <td>6.65</td>\n",
       "      <td>6.90</td>\n",
       "      <td>0.0</td>\n",
       "      <td>366320.589947</td>\n",
       "    </tr>\n",
       "    <tr>\n",
       "      <th>2</th>\n",
       "      <td>KDH</td>\n",
       "      <td>4.12186</td>\n",
       "      <td>10.62</td>\n",
       "      <td>1.93</td>\n",
       "      <td>3.01</td>\n",
       "      <td>d</td>\n",
       "      <td>2025-05-22</td>\n",
       "      <td>85.00</td>\n",
       "      <td>85.00</td>\n",
       "      <td>84.75</td>\n",
       "      <td>85.00</td>\n",
       "      <td>0.0</td>\n",
       "      <td>8500.000000</td>\n",
       "    </tr>\n",
       "    <tr>\n",
       "      <th>3</th>\n",
       "      <td>NVD</td>\n",
       "      <td>-0.00942</td>\n",
       "      <td>38.87</td>\n",
       "      <td>0.32</td>\n",
       "      <td>0.00</td>\n",
       "      <td>d</td>\n",
       "      <td>2025-05-28</td>\n",
       "      <td>1.00</td>\n",
       "      <td>1.02</td>\n",
       "      <td>1.00</td>\n",
       "      <td>1.02</td>\n",
       "      <td>0.0</td>\n",
       "      <td>5100.000000</td>\n",
       "    </tr>\n",
       "    <tr>\n",
       "      <th>4</th>\n",
       "      <td>JDF</td>\n",
       "      <td>0.04224</td>\n",
       "      <td>12.19</td>\n",
       "      <td>1.35</td>\n",
       "      <td>4.85</td>\n",
       "      <td>d</td>\n",
       "      <td>2025-05-28</td>\n",
       "      <td>1.84</td>\n",
       "      <td>1.85</td>\n",
       "      <td>1.84</td>\n",
       "      <td>1.85</td>\n",
       "      <td>0.0</td>\n",
       "      <td>258153.844683</td>\n",
       "    </tr>\n",
       "    <tr>\n",
       "      <th>5</th>\n",
       "      <td>SVR</td>\n",
       "      <td>-0.03402</td>\n",
       "      <td>0.00</td>\n",
       "      <td>0.34</td>\n",
       "      <td>0.00</td>\n",
       "      <td>d</td>\n",
       "      <td>2025-05-28</td>\n",
       "      <td>0.58</td>\n",
       "      <td>0.59</td>\n",
       "      <td>0.57</td>\n",
       "      <td>0.58</td>\n",
       "      <td>0.0</td>\n",
       "      <td>194357.994407</td>\n",
       "    </tr>\n",
       "    <tr>\n",
       "      <th>6</th>\n",
       "      <td>SUSCO</td>\n",
       "      <td>0.11000</td>\n",
       "      <td>8.75</td>\n",
       "      <td>0.55</td>\n",
       "      <td>8.37</td>\n",
       "      <td>d</td>\n",
       "      <td>2025-05-28</td>\n",
       "      <td>2.74</td>\n",
       "      <td>2.74</td>\n",
       "      <td>2.70</td>\n",
       "      <td>2.70</td>\n",
       "      <td>0.0</td>\n",
       "      <td>3288.000011</td>\n",
       "    </tr>\n",
       "    <tr>\n",
       "      <th>7</th>\n",
       "      <td>STP</td>\n",
       "      <td>0.92828</td>\n",
       "      <td>6.74</td>\n",
       "      <td>1.37</td>\n",
       "      <td>5.60</td>\n",
       "      <td>d</td>\n",
       "      <td>2025-05-28</td>\n",
       "      <td>9.80</td>\n",
       "      <td>9.90</td>\n",
       "      <td>9.70</td>\n",
       "      <td>9.70</td>\n",
       "      <td>0.0</td>\n",
       "      <td>159749.803109</td>\n",
       "    </tr>\n",
       "    <tr>\n",
       "      <th>8</th>\n",
       "      <td>VGI</td>\n",
       "      <td>0.00224</td>\n",
       "      <td>85.27</td>\n",
       "      <td>1.20</td>\n",
       "      <td>0.63</td>\n",
       "      <td>d</td>\n",
       "      <td>2025-08-19</td>\n",
       "      <td>2.10</td>\n",
       "      <td>2.10</td>\n",
       "      <td>2.10</td>\n",
       "      <td>2.10</td>\n",
       "      <td>21840.0</td>\n",
       "      <td>419.999981</td>\n",
       "    </tr>\n",
       "    <tr>\n",
       "      <th>9</th>\n",
       "      <td>NCP</td>\n",
       "      <td>0.06168</td>\n",
       "      <td>10.60</td>\n",
       "      <td>1.19</td>\n",
       "      <td>5.76</td>\n",
       "      <td>b</td>\n",
       "      <td>2025-05-28</td>\n",
       "      <td>1.15</td>\n",
       "      <td>1.16</td>\n",
       "      <td>1.11</td>\n",
       "      <td>1.11</td>\n",
       "      <td>0.0</td>\n",
       "      <td>54509.998870</td>\n",
       "    </tr>\n",
       "  </tbody>\n",
       "</table>\n",
       "</div>"
      ],
      "text/plain": [
       "  symbol      eps     pe   pbv  percentyield trend_grade       time  \\\n",
       "0   TPCH  0.24112   7.90  0.34         13.91           d 2025-05-28   \n",
       "1   POLY  0.27632  12.89  2.42          6.38           d 2025-05-28   \n",
       "2    KDH  4.12186  10.62  1.93          3.01           d 2025-05-22   \n",
       "3    NVD -0.00942  38.87  0.32          0.00           d 2025-05-28   \n",
       "4    JDF  0.04224  12.19  1.35          4.85           d 2025-05-28   \n",
       "5    SVR -0.03402   0.00  0.34          0.00           d 2025-05-28   \n",
       "6  SUSCO  0.11000   8.75  0.55          8.37           d 2025-05-28   \n",
       "7    STP  0.92828   6.74  1.37          5.60           d 2025-05-28   \n",
       "8    VGI  0.00224  85.27  1.20          0.63           d 2025-08-19   \n",
       "9    NCP  0.06168  10.60  1.19          5.76           b 2025-05-28   \n",
       "\n",
       "   close_price  high_price  low_price  open_price    value      marketcap  \n",
       "0         3.08        3.10       3.04        3.10      0.0  966041.976070  \n",
       "1         6.95        6.95       6.65        6.90      0.0  366320.589947  \n",
       "2        85.00       85.00      84.75       85.00      0.0    8500.000000  \n",
       "3         1.00        1.02       1.00        1.02      0.0    5100.000000  \n",
       "4         1.84        1.85       1.84        1.85      0.0  258153.844683  \n",
       "5         0.58        0.59       0.57        0.58      0.0  194357.994407  \n",
       "6         2.74        2.74       2.70        2.70      0.0    3288.000011  \n",
       "7         9.80        9.90       9.70        9.70      0.0  159749.803109  \n",
       "8         2.10        2.10       2.10        2.10  21840.0     419.999981  \n",
       "9         1.15        1.16       1.11        1.11      0.0   54509.998870  "
      ]
     },
     "execution_count": 185,
     "metadata": {},
     "output_type": "execute_result"
    }
   ],
   "source": [
    "df_result2.head(10)"
   ]
  },
  {
   "cell_type": "code",
   "execution_count": 186,
   "id": "4c8cb942",
   "metadata": {},
   "outputs": [
    {
     "data": {
      "text/plain": [
       "(735, 13)"
      ]
     },
     "execution_count": 186,
     "metadata": {},
     "output_type": "execute_result"
    }
   ],
   "source": [
    "df_result2.shape"
   ]
  },
  {
   "cell_type": "code",
   "execution_count": 187,
   "id": "762dea14",
   "metadata": {},
   "outputs": [
    {
     "data": {
      "text/plain": [
       "Index(['symbol', 'eps', 'pe', 'pbv', 'percentyield', 'trend_grade', 'time',\n",
       "       'close_price', 'high_price', 'low_price', 'open_price', 'value',\n",
       "       'marketcap'],\n",
       "      dtype='object')"
      ]
     },
     "execution_count": 187,
     "metadata": {},
     "output_type": "execute_result"
    }
   ],
   "source": [
    "df_result2.columns"
   ]
  },
  {
   "cell_type": "code",
   "execution_count": 188,
   "id": "99757b32",
   "metadata": {},
   "outputs": [],
   "source": [
    "df_fun2 = df_result2.drop(columns=['trend_grade', 'time',\n",
    "       'close_price', 'high_price', 'low_price', 'open_price', 'value'])"
   ]
  },
  {
   "cell_type": "code",
   "execution_count": 189,
   "id": "dda78647",
   "metadata": {},
   "outputs": [],
   "source": [
    "import pandas as pd\n",
    "from sklearn.preprocessing import StandardScaler\n",
    "from sklearn.cluster import KMeans\n",
    "\n",
    "# ✅ เลือก features\n",
    "features = ['eps', 'pe', 'pbv', 'percentyield', 'marketcap']\n",
    "X = df_fun2[features].dropna()\n",
    "\n",
    "# ✅ Standardization (Z-score)\n",
    "scaler = StandardScaler()\n",
    "X_scaled = scaler.fit_transform(X)\n",
    "\n",
    "# ✅ KMeans clustering (5 groups)\n",
    "kmeans = KMeans(n_clusters=5, random_state=42, n_init=10)\n",
    "labels = kmeans.fit_predict(X_scaled)\n",
    "\n",
    "# ✅ เพิ่มผลลัพธ์กลับเข้า DataFrame\n",
    "df_clustered = df_fun2.loc[X.index].copy()\n",
    "df_clustered['cluster'] = labels"
   ]
  },
  {
   "cell_type": "code",
   "execution_count": 190,
   "id": "8f19fa0e",
   "metadata": {},
   "outputs": [
    {
     "name": "stdout",
     "output_type": "stream",
     "text": [
      "Silhouette Score: 0.4292037690075441\n"
     ]
    }
   ],
   "source": [
    "from sklearn.metrics import silhouette_score\n",
    "\n",
    "# ✅ Silhouette Score\n",
    "sil_score = silhouette_score(X_scaled, labels)\n",
    "print(\"Silhouette Score:\", sil_score)\n"
   ]
  },
  {
   "cell_type": "code",
   "execution_count": 191,
   "id": "a81ef3e8",
   "metadata": {},
   "outputs": [
    {
     "data": {
      "text/html": [
       "<div>\n",
       "<style scoped>\n",
       "    .dataframe tbody tr th:only-of-type {\n",
       "        vertical-align: middle;\n",
       "    }\n",
       "\n",
       "    .dataframe tbody tr th {\n",
       "        vertical-align: top;\n",
       "    }\n",
       "\n",
       "    .dataframe thead th {\n",
       "        text-align: right;\n",
       "    }\n",
       "</style>\n",
       "<table border=\"1\" class=\"dataframe\">\n",
       "  <thead>\n",
       "    <tr style=\"text-align: right;\">\n",
       "      <th></th>\n",
       "      <th>symbol</th>\n",
       "      <th>eps</th>\n",
       "      <th>pe</th>\n",
       "      <th>pbv</th>\n",
       "      <th>percentyield</th>\n",
       "      <th>marketcap</th>\n",
       "      <th>cluster</th>\n",
       "    </tr>\n",
       "  </thead>\n",
       "  <tbody>\n",
       "    <tr>\n",
       "      <th>0</th>\n",
       "      <td>TPCH</td>\n",
       "      <td>0.24112</td>\n",
       "      <td>7.90</td>\n",
       "      <td>0.34</td>\n",
       "      <td>13.91</td>\n",
       "      <td>966041.976070</td>\n",
       "      <td>0</td>\n",
       "    </tr>\n",
       "    <tr>\n",
       "      <th>1</th>\n",
       "      <td>POLY</td>\n",
       "      <td>0.27632</td>\n",
       "      <td>12.89</td>\n",
       "      <td>2.42</td>\n",
       "      <td>6.38</td>\n",
       "      <td>366320.589947</td>\n",
       "      <td>0</td>\n",
       "    </tr>\n",
       "    <tr>\n",
       "      <th>2</th>\n",
       "      <td>KDH</td>\n",
       "      <td>4.12186</td>\n",
       "      <td>10.62</td>\n",
       "      <td>1.93</td>\n",
       "      <td>3.01</td>\n",
       "      <td>8500.000000</td>\n",
       "      <td>0</td>\n",
       "    </tr>\n",
       "    <tr>\n",
       "      <th>3</th>\n",
       "      <td>NVD</td>\n",
       "      <td>-0.00942</td>\n",
       "      <td>38.87</td>\n",
       "      <td>0.32</td>\n",
       "      <td>0.00</td>\n",
       "      <td>5100.000000</td>\n",
       "      <td>3</td>\n",
       "    </tr>\n",
       "    <tr>\n",
       "      <th>4</th>\n",
       "      <td>JDF</td>\n",
       "      <td>0.04224</td>\n",
       "      <td>12.19</td>\n",
       "      <td>1.35</td>\n",
       "      <td>4.85</td>\n",
       "      <td>258153.844683</td>\n",
       "      <td>0</td>\n",
       "    </tr>\n",
       "  </tbody>\n",
       "</table>\n",
       "</div>"
      ],
      "text/plain": [
       "  symbol      eps     pe   pbv  percentyield      marketcap  cluster\n",
       "0   TPCH  0.24112   7.90  0.34         13.91  966041.976070        0\n",
       "1   POLY  0.27632  12.89  2.42          6.38  366320.589947        0\n",
       "2    KDH  4.12186  10.62  1.93          3.01    8500.000000        0\n",
       "3    NVD -0.00942  38.87  0.32          0.00    5100.000000        3\n",
       "4    JDF  0.04224  12.19  1.35          4.85  258153.844683        0"
      ]
     },
     "execution_count": 191,
     "metadata": {},
     "output_type": "execute_result"
    }
   ],
   "source": [
    "df_clustered.head()"
   ]
  },
  {
   "cell_type": "code",
   "execution_count": 192,
   "id": "89058d4c",
   "metadata": {},
   "outputs": [
    {
     "name": "stdout",
     "output_type": "stream",
     "text": [
      "  symbol      eps     pe   pbv  percentyield      marketcap stat_group\n",
      "0   TPCH  0.24112   7.90  0.34         13.91  966041.976070          E\n",
      "1   POLY  0.27632  12.89  2.42          6.38  366320.589947          E\n",
      "2    KDH  4.12186  10.62  1.93          3.01    8500.000000          E\n",
      "3    NVD -0.00942  38.87  0.32          0.00    5100.000000          A\n",
      "4    JDF  0.04224  12.19  1.35          4.85  258153.844683          D\n"
     ]
    }
   ],
   "source": [
    "import pandas as pd\n",
    "from sklearn.preprocessing import StandardScaler\n",
    "\n",
    "# ✅ เลือก features\n",
    "features = ['eps', 'pe', 'pbv', 'percentyield', 'marketcap']\n",
    "X = df_fun2[features].dropna().copy()\n",
    "\n",
    "# ✅ Standardization (Z-score)\n",
    "scaler = StandardScaler()\n",
    "X_scaled = scaler.fit_transform(X)\n",
    "X_scaled_df = pd.DataFrame(X_scaled, columns=features, index=X.index)\n",
    "\n",
    "# ✅ สร้างคะแนนรวม (ปรับเครื่องหมายตาม logic)\n",
    "X_scaled_df['score'] = (\n",
    "    X_scaled_df['eps'] - X_scaled_df['pe'] +\n",
    "    X_scaled_df['pbv'] + X_scaled_df['percentyield'] +\n",
    "    X_scaled_df['marketcap']\n",
    ")\n",
    "\n",
    "# ✅ แบ่งออกเป็น 5 กลุ่มตาม quantile แล้วใช้ label = ['a','b','c','d','e']\n",
    "df_fun2.loc[X.index, 'stat_group'] = pd.qcut(\n",
    "    X_scaled_df['score'],\n",
    "    5,\n",
    "    labels=['A','B','C','D','E']\n",
    ")\n",
    "\n",
    "# ✅ ดูผลลัพธ์\n",
    "print(df_fun2[['symbol','eps','pe','pbv','percentyield','marketcap','stat_group']].head())\n"
   ]
  },
  {
   "cell_type": "code",
   "execution_count": 194,
   "id": "7e7665fb",
   "metadata": {},
   "outputs": [
    {
     "data": {
      "text/html": [
       "<div>\n",
       "<style scoped>\n",
       "    .dataframe tbody tr th:only-of-type {\n",
       "        vertical-align: middle;\n",
       "    }\n",
       "\n",
       "    .dataframe tbody tr th {\n",
       "        vertical-align: top;\n",
       "    }\n",
       "\n",
       "    .dataframe thead th {\n",
       "        text-align: right;\n",
       "    }\n",
       "</style>\n",
       "<table border=\"1\" class=\"dataframe\">\n",
       "  <thead>\n",
       "    <tr style=\"text-align: right;\">\n",
       "      <th></th>\n",
       "      <th>symbol</th>\n",
       "      <th>eps_x</th>\n",
       "      <th>pe_x</th>\n",
       "      <th>pbv_x</th>\n",
       "      <th>percentyield_x</th>\n",
       "      <th>marketcap_x</th>\n",
       "      <th>stat_group</th>\n",
       "      <th>eps_y</th>\n",
       "      <th>pe_y</th>\n",
       "      <th>pbv_y</th>\n",
       "      <th>percentyield_y</th>\n",
       "      <th>trend_grade</th>\n",
       "      <th>time</th>\n",
       "      <th>close_price</th>\n",
       "      <th>high_price</th>\n",
       "      <th>low_price</th>\n",
       "      <th>open_price</th>\n",
       "      <th>value</th>\n",
       "      <th>marketcap_y</th>\n",
       "    </tr>\n",
       "  </thead>\n",
       "  <tbody>\n",
       "    <tr>\n",
       "      <th>0</th>\n",
       "      <td>TPCH</td>\n",
       "      <td>0.24112</td>\n",
       "      <td>7.90</td>\n",
       "      <td>0.34</td>\n",
       "      <td>13.91</td>\n",
       "      <td>966041.976070</td>\n",
       "      <td>E</td>\n",
       "      <td>0.24112</td>\n",
       "      <td>7.90</td>\n",
       "      <td>0.34</td>\n",
       "      <td>13.91</td>\n",
       "      <td>d</td>\n",
       "      <td>2025-05-28</td>\n",
       "      <td>3.08</td>\n",
       "      <td>3.10</td>\n",
       "      <td>3.04</td>\n",
       "      <td>3.10</td>\n",
       "      <td>0.0</td>\n",
       "      <td>966041.976070</td>\n",
       "    </tr>\n",
       "    <tr>\n",
       "      <th>1</th>\n",
       "      <td>POLY</td>\n",
       "      <td>0.27632</td>\n",
       "      <td>12.89</td>\n",
       "      <td>2.42</td>\n",
       "      <td>6.38</td>\n",
       "      <td>366320.589947</td>\n",
       "      <td>E</td>\n",
       "      <td>0.27632</td>\n",
       "      <td>12.89</td>\n",
       "      <td>2.42</td>\n",
       "      <td>6.38</td>\n",
       "      <td>d</td>\n",
       "      <td>2025-05-28</td>\n",
       "      <td>6.95</td>\n",
       "      <td>6.95</td>\n",
       "      <td>6.65</td>\n",
       "      <td>6.90</td>\n",
       "      <td>0.0</td>\n",
       "      <td>366320.589947</td>\n",
       "    </tr>\n",
       "    <tr>\n",
       "      <th>2</th>\n",
       "      <td>KDH</td>\n",
       "      <td>4.12186</td>\n",
       "      <td>10.62</td>\n",
       "      <td>1.93</td>\n",
       "      <td>3.01</td>\n",
       "      <td>8500.000000</td>\n",
       "      <td>E</td>\n",
       "      <td>4.12186</td>\n",
       "      <td>10.62</td>\n",
       "      <td>1.93</td>\n",
       "      <td>3.01</td>\n",
       "      <td>d</td>\n",
       "      <td>2025-05-22</td>\n",
       "      <td>85.00</td>\n",
       "      <td>85.00</td>\n",
       "      <td>84.75</td>\n",
       "      <td>85.00</td>\n",
       "      <td>0.0</td>\n",
       "      <td>8500.000000</td>\n",
       "    </tr>\n",
       "    <tr>\n",
       "      <th>3</th>\n",
       "      <td>NVD</td>\n",
       "      <td>-0.00942</td>\n",
       "      <td>38.87</td>\n",
       "      <td>0.32</td>\n",
       "      <td>0.00</td>\n",
       "      <td>5100.000000</td>\n",
       "      <td>A</td>\n",
       "      <td>-0.00942</td>\n",
       "      <td>38.87</td>\n",
       "      <td>0.32</td>\n",
       "      <td>0.00</td>\n",
       "      <td>d</td>\n",
       "      <td>2025-05-28</td>\n",
       "      <td>1.00</td>\n",
       "      <td>1.02</td>\n",
       "      <td>1.00</td>\n",
       "      <td>1.02</td>\n",
       "      <td>0.0</td>\n",
       "      <td>5100.000000</td>\n",
       "    </tr>\n",
       "    <tr>\n",
       "      <th>4</th>\n",
       "      <td>JDF</td>\n",
       "      <td>0.04224</td>\n",
       "      <td>12.19</td>\n",
       "      <td>1.35</td>\n",
       "      <td>4.85</td>\n",
       "      <td>258153.844683</td>\n",
       "      <td>D</td>\n",
       "      <td>0.04224</td>\n",
       "      <td>12.19</td>\n",
       "      <td>1.35</td>\n",
       "      <td>4.85</td>\n",
       "      <td>d</td>\n",
       "      <td>2025-05-28</td>\n",
       "      <td>1.84</td>\n",
       "      <td>1.85</td>\n",
       "      <td>1.84</td>\n",
       "      <td>1.85</td>\n",
       "      <td>0.0</td>\n",
       "      <td>258153.844683</td>\n",
       "    </tr>\n",
       "    <tr>\n",
       "      <th>5</th>\n",
       "      <td>SVR</td>\n",
       "      <td>-0.03402</td>\n",
       "      <td>0.00</td>\n",
       "      <td>0.34</td>\n",
       "      <td>0.00</td>\n",
       "      <td>194357.994407</td>\n",
       "      <td>A</td>\n",
       "      <td>-0.03402</td>\n",
       "      <td>0.00</td>\n",
       "      <td>0.34</td>\n",
       "      <td>0.00</td>\n",
       "      <td>d</td>\n",
       "      <td>2025-05-28</td>\n",
       "      <td>0.58</td>\n",
       "      <td>0.59</td>\n",
       "      <td>0.57</td>\n",
       "      <td>0.58</td>\n",
       "      <td>0.0</td>\n",
       "      <td>194357.994407</td>\n",
       "    </tr>\n",
       "    <tr>\n",
       "      <th>6</th>\n",
       "      <td>SUSCO</td>\n",
       "      <td>0.11000</td>\n",
       "      <td>8.75</td>\n",
       "      <td>0.55</td>\n",
       "      <td>8.37</td>\n",
       "      <td>3288.000011</td>\n",
       "      <td>D</td>\n",
       "      <td>0.11000</td>\n",
       "      <td>8.75</td>\n",
       "      <td>0.55</td>\n",
       "      <td>8.37</td>\n",
       "      <td>d</td>\n",
       "      <td>2025-05-28</td>\n",
       "      <td>2.74</td>\n",
       "      <td>2.74</td>\n",
       "      <td>2.70</td>\n",
       "      <td>2.70</td>\n",
       "      <td>0.0</td>\n",
       "      <td>3288.000011</td>\n",
       "    </tr>\n",
       "    <tr>\n",
       "      <th>7</th>\n",
       "      <td>STP</td>\n",
       "      <td>0.92828</td>\n",
       "      <td>6.74</td>\n",
       "      <td>1.37</td>\n",
       "      <td>5.60</td>\n",
       "      <td>159749.803109</td>\n",
       "      <td>D</td>\n",
       "      <td>0.92828</td>\n",
       "      <td>6.74</td>\n",
       "      <td>1.37</td>\n",
       "      <td>5.60</td>\n",
       "      <td>d</td>\n",
       "      <td>2025-05-28</td>\n",
       "      <td>9.80</td>\n",
       "      <td>9.90</td>\n",
       "      <td>9.70</td>\n",
       "      <td>9.70</td>\n",
       "      <td>0.0</td>\n",
       "      <td>159749.803109</td>\n",
       "    </tr>\n",
       "    <tr>\n",
       "      <th>8</th>\n",
       "      <td>VGI</td>\n",
       "      <td>0.00224</td>\n",
       "      <td>85.27</td>\n",
       "      <td>1.20</td>\n",
       "      <td>0.63</td>\n",
       "      <td>419.999981</td>\n",
       "      <td>B</td>\n",
       "      <td>0.00224</td>\n",
       "      <td>85.27</td>\n",
       "      <td>1.20</td>\n",
       "      <td>0.63</td>\n",
       "      <td>d</td>\n",
       "      <td>2025-08-19</td>\n",
       "      <td>2.10</td>\n",
       "      <td>2.10</td>\n",
       "      <td>2.10</td>\n",
       "      <td>2.10</td>\n",
       "      <td>21840.0</td>\n",
       "      <td>419.999981</td>\n",
       "    </tr>\n",
       "    <tr>\n",
       "      <th>9</th>\n",
       "      <td>NCP</td>\n",
       "      <td>0.06168</td>\n",
       "      <td>10.60</td>\n",
       "      <td>1.19</td>\n",
       "      <td>5.76</td>\n",
       "      <td>54509.998870</td>\n",
       "      <td>D</td>\n",
       "      <td>0.06168</td>\n",
       "      <td>10.60</td>\n",
       "      <td>1.19</td>\n",
       "      <td>5.76</td>\n",
       "      <td>b</td>\n",
       "      <td>2025-05-28</td>\n",
       "      <td>1.15</td>\n",
       "      <td>1.16</td>\n",
       "      <td>1.11</td>\n",
       "      <td>1.11</td>\n",
       "      <td>0.0</td>\n",
       "      <td>54509.998870</td>\n",
       "    </tr>\n",
       "  </tbody>\n",
       "</table>\n",
       "</div>"
      ],
      "text/plain": [
       "  symbol    eps_x   pe_x  pbv_x  percentyield_x    marketcap_x stat_group  \\\n",
       "0   TPCH  0.24112   7.90   0.34           13.91  966041.976070          E   \n",
       "1   POLY  0.27632  12.89   2.42            6.38  366320.589947          E   \n",
       "2    KDH  4.12186  10.62   1.93            3.01    8500.000000          E   \n",
       "3    NVD -0.00942  38.87   0.32            0.00    5100.000000          A   \n",
       "4    JDF  0.04224  12.19   1.35            4.85  258153.844683          D   \n",
       "5    SVR -0.03402   0.00   0.34            0.00  194357.994407          A   \n",
       "6  SUSCO  0.11000   8.75   0.55            8.37    3288.000011          D   \n",
       "7    STP  0.92828   6.74   1.37            5.60  159749.803109          D   \n",
       "8    VGI  0.00224  85.27   1.20            0.63     419.999981          B   \n",
       "9    NCP  0.06168  10.60   1.19            5.76   54509.998870          D   \n",
       "\n",
       "     eps_y   pe_y  pbv_y  percentyield_y trend_grade       time  close_price  \\\n",
       "0  0.24112   7.90   0.34           13.91           d 2025-05-28         3.08   \n",
       "1  0.27632  12.89   2.42            6.38           d 2025-05-28         6.95   \n",
       "2  4.12186  10.62   1.93            3.01           d 2025-05-22        85.00   \n",
       "3 -0.00942  38.87   0.32            0.00           d 2025-05-28         1.00   \n",
       "4  0.04224  12.19   1.35            4.85           d 2025-05-28         1.84   \n",
       "5 -0.03402   0.00   0.34            0.00           d 2025-05-28         0.58   \n",
       "6  0.11000   8.75   0.55            8.37           d 2025-05-28         2.74   \n",
       "7  0.92828   6.74   1.37            5.60           d 2025-05-28         9.80   \n",
       "8  0.00224  85.27   1.20            0.63           d 2025-08-19         2.10   \n",
       "9  0.06168  10.60   1.19            5.76           b 2025-05-28         1.15   \n",
       "\n",
       "   high_price  low_price  open_price    value    marketcap_y  \n",
       "0        3.10       3.04        3.10      0.0  966041.976070  \n",
       "1        6.95       6.65        6.90      0.0  366320.589947  \n",
       "2       85.00      84.75       85.00      0.0    8500.000000  \n",
       "3        1.02       1.00        1.02      0.0    5100.000000  \n",
       "4        1.85       1.84        1.85      0.0  258153.844683  \n",
       "5        0.59       0.57        0.58      0.0  194357.994407  \n",
       "6        2.74       2.70        2.70      0.0    3288.000011  \n",
       "7        9.90       9.70        9.70      0.0  159749.803109  \n",
       "8        2.10       2.10        2.10  21840.0     419.999981  \n",
       "9        1.16       1.11        1.11      0.0   54509.998870  "
      ]
     },
     "execution_count": 194,
     "metadata": {},
     "output_type": "execute_result"
    }
   ],
   "source": [
    "df_2tabela =pd.merge(df_fun2, df_result2, on=\"symbol\", how=\"inner\")\n",
    "df_2tabela.head(10)"
   ]
  },
  {
   "cell_type": "code",
   "execution_count": 197,
   "id": "8f919a8d",
   "metadata": {},
   "outputs": [],
   "source": [
    "df_2tabela['quadrant'] = df_2tabela['stat_group'].astype(str) + df_2tabela['trend_grade'].astype(str)\n"
   ]
  },
  {
   "cell_type": "code",
   "execution_count": 199,
   "id": "b3d0a8b4",
   "metadata": {},
   "outputs": [
    {
     "data": {
      "application/vnd.plotly.v1+json": {
       "config": {
        "plotlyServerURL": "https://plot.ly"
       },
       "data": [
        {
         "cells": {
          "align": "center",
          "fill": {
           "color": [
            [
             "#2ecc71",
             "#2ecc71",
             "#2ecc71",
             "#2ecc71",
             "#2ecc71"
            ],
            [
             "#58d68d",
             "#58d68d",
             "#58d68d",
             "#58d68d",
             "#58d68d"
            ],
            [
             "#f4d03f",
             "#f4d03f",
             "#f4d03f",
             "#f4d03f",
             "#f4d03f"
            ],
            [
             "#f39c12",
             "#f39c12",
             "#f39c12",
             "#f39c12",
             "#f39c12"
            ],
            [
             "#e74c3c",
             "#e74c3c",
             "#e74c3c",
             "#e74c3c",
             "#e74c3c"
            ]
           ]
          },
          "font": {
           "color": "white",
           "size": 12
          },
          "height": 100,
          "values": [
           [
            "<b>Aa</b><br>TKT<br>PTTGC<br>TPL<br>THE<br>BYD",
            "<b>Ab</b><br>PK<br>STELLA<br>TSTH",
            "<b>Ac</b><br>-",
            "<b>Ad</b><br>NVD<br>SVR<br>TPOLY<br>WORK<br>AJ<br>SIAM<br>ITEL<br>TIGER<br>SAF<br>CGD",
            "<b>Ae</b><br>-"
           ],
           [
            "<b>Ba</b><br>NEX<br>ALT<br>TKC<br>MOTHER<br>AS<br>ETL<br>PRECHA",
            "<b>Bb</b><br>UOBKH<br>PAP<br>ACE<br>WGE<br>GGC<br>UMI<br>BCP<br>OCC<br>SNC<br>VARO",
            "<b>Bc</b><br>PANEL<br>SEAFCO<br>TPCS",
            "<b>Bd</b><br>VGI<br>KSL<br>SHR<br>TGH<br>NPK<br>PG<br>BIOTEC<br>NDR<br>LDC<br>ASN",
            "<b>Be</b><br>-"
           ],
           [
            "<b>Ca</b><br>WINDOW<br>KYE<br>UKEM<br>BANPU<br>SRICHA",
            "<b>Cb</b><br>KCAR<br>GFPT<br>TIDLOR<br>PLANET<br>TURTLE<br>CNT<br>SYNTEC<br>SPI<br>SA<br>ASEFA",
            "<b>Cc</b><br>WPH<br>NAM",
            "<b>Cd</b><br>PLUS<br>CPAXT<br>MGC<br>GBX<br>TRP<br>PRG<br>KOOL<br>CENTEL<br>CM<br>MAJOR",
            "<b>Ce</b><br>-"
           ],
           [
            "<b>Da</b><br>M<br>TU<br>SWC<br>LHK<br>STGT<br>MTI<br>ANI",
            "<b>Db</b><br>NCP<br>PSP<br>MFC<br>KCG<br>SINO<br>APP<br>TFG<br>SAAM<br>TTB<br>YUASA",
            "<b>Dc</b><br>PTT<br>UPOIC<br>SKN",
            "<b>Dd</b><br>JDF<br>SUSCO<br>STP<br>ASP<br>CRC<br>TAN<br>TASCO<br>OKJ<br>SFLEX<br>LPN",
            "<b>De</b><br>-"
           ],
           [
            "<b>Ea</b><br>PTTEP<br>UP<br>TISCO<br>TOP<br>TACC<br>DV8<br>DELTA<br>COM7<br>BOL",
            "<b>Eb</b><br>SAT<br>THAI<br>FM<br>MONO<br>PM<br>RCL<br>TRUE<br>TMD<br>MCS<br>PDG",
            "<b>Ec</b><br>CSC<br>BBL<br>WP<br>JCT",
            "<b>Ed</b><br>TPCH<br>POLY<br>KDH<br>ROJNA<br>SIS<br>ADVICE<br>AYUD<br>TPBI<br>SNP<br>TFMAMA",
            "<b>Ee</b><br>-"
           ]
          ]
         },
         "header": {
          "align": "center",
          "fill": {
           "color": "#dcdcdc"
          },
          "font": {
           "color": "black",
           "size": 14
          }
         },
         "type": "table"
        }
       ],
       "layout": {
        "template": {
         "data": {
          "bar": [
           {
            "error_x": {
             "color": "#2a3f5f"
            },
            "error_y": {
             "color": "#2a3f5f"
            },
            "marker": {
             "line": {
              "color": "#E5ECF6",
              "width": 0.5
             },
             "pattern": {
              "fillmode": "overlay",
              "size": 10,
              "solidity": 0.2
             }
            },
            "type": "bar"
           }
          ],
          "barpolar": [
           {
            "marker": {
             "line": {
              "color": "#E5ECF6",
              "width": 0.5
             },
             "pattern": {
              "fillmode": "overlay",
              "size": 10,
              "solidity": 0.2
             }
            },
            "type": "barpolar"
           }
          ],
          "carpet": [
           {
            "aaxis": {
             "endlinecolor": "#2a3f5f",
             "gridcolor": "white",
             "linecolor": "white",
             "minorgridcolor": "white",
             "startlinecolor": "#2a3f5f"
            },
            "baxis": {
             "endlinecolor": "#2a3f5f",
             "gridcolor": "white",
             "linecolor": "white",
             "minorgridcolor": "white",
             "startlinecolor": "#2a3f5f"
            },
            "type": "carpet"
           }
          ],
          "choropleth": [
           {
            "colorbar": {
             "outlinewidth": 0,
             "ticks": ""
            },
            "type": "choropleth"
           }
          ],
          "contour": [
           {
            "colorbar": {
             "outlinewidth": 0,
             "ticks": ""
            },
            "colorscale": [
             [
              0,
              "#0d0887"
             ],
             [
              0.1111111111111111,
              "#46039f"
             ],
             [
              0.2222222222222222,
              "#7201a8"
             ],
             [
              0.3333333333333333,
              "#9c179e"
             ],
             [
              0.4444444444444444,
              "#bd3786"
             ],
             [
              0.5555555555555556,
              "#d8576b"
             ],
             [
              0.6666666666666666,
              "#ed7953"
             ],
             [
              0.7777777777777778,
              "#fb9f3a"
             ],
             [
              0.8888888888888888,
              "#fdca26"
             ],
             [
              1,
              "#f0f921"
             ]
            ],
            "type": "contour"
           }
          ],
          "contourcarpet": [
           {
            "colorbar": {
             "outlinewidth": 0,
             "ticks": ""
            },
            "type": "contourcarpet"
           }
          ],
          "heatmap": [
           {
            "colorbar": {
             "outlinewidth": 0,
             "ticks": ""
            },
            "colorscale": [
             [
              0,
              "#0d0887"
             ],
             [
              0.1111111111111111,
              "#46039f"
             ],
             [
              0.2222222222222222,
              "#7201a8"
             ],
             [
              0.3333333333333333,
              "#9c179e"
             ],
             [
              0.4444444444444444,
              "#bd3786"
             ],
             [
              0.5555555555555556,
              "#d8576b"
             ],
             [
              0.6666666666666666,
              "#ed7953"
             ],
             [
              0.7777777777777778,
              "#fb9f3a"
             ],
             [
              0.8888888888888888,
              "#fdca26"
             ],
             [
              1,
              "#f0f921"
             ]
            ],
            "type": "heatmap"
           }
          ],
          "histogram": [
           {
            "marker": {
             "pattern": {
              "fillmode": "overlay",
              "size": 10,
              "solidity": 0.2
             }
            },
            "type": "histogram"
           }
          ],
          "histogram2d": [
           {
            "colorbar": {
             "outlinewidth": 0,
             "ticks": ""
            },
            "colorscale": [
             [
              0,
              "#0d0887"
             ],
             [
              0.1111111111111111,
              "#46039f"
             ],
             [
              0.2222222222222222,
              "#7201a8"
             ],
             [
              0.3333333333333333,
              "#9c179e"
             ],
             [
              0.4444444444444444,
              "#bd3786"
             ],
             [
              0.5555555555555556,
              "#d8576b"
             ],
             [
              0.6666666666666666,
              "#ed7953"
             ],
             [
              0.7777777777777778,
              "#fb9f3a"
             ],
             [
              0.8888888888888888,
              "#fdca26"
             ],
             [
              1,
              "#f0f921"
             ]
            ],
            "type": "histogram2d"
           }
          ],
          "histogram2dcontour": [
           {
            "colorbar": {
             "outlinewidth": 0,
             "ticks": ""
            },
            "colorscale": [
             [
              0,
              "#0d0887"
             ],
             [
              0.1111111111111111,
              "#46039f"
             ],
             [
              0.2222222222222222,
              "#7201a8"
             ],
             [
              0.3333333333333333,
              "#9c179e"
             ],
             [
              0.4444444444444444,
              "#bd3786"
             ],
             [
              0.5555555555555556,
              "#d8576b"
             ],
             [
              0.6666666666666666,
              "#ed7953"
             ],
             [
              0.7777777777777778,
              "#fb9f3a"
             ],
             [
              0.8888888888888888,
              "#fdca26"
             ],
             [
              1,
              "#f0f921"
             ]
            ],
            "type": "histogram2dcontour"
           }
          ],
          "mesh3d": [
           {
            "colorbar": {
             "outlinewidth": 0,
             "ticks": ""
            },
            "type": "mesh3d"
           }
          ],
          "parcoords": [
           {
            "line": {
             "colorbar": {
              "outlinewidth": 0,
              "ticks": ""
             }
            },
            "type": "parcoords"
           }
          ],
          "pie": [
           {
            "automargin": true,
            "type": "pie"
           }
          ],
          "scatter": [
           {
            "fillpattern": {
             "fillmode": "overlay",
             "size": 10,
             "solidity": 0.2
            },
            "type": "scatter"
           }
          ],
          "scatter3d": [
           {
            "line": {
             "colorbar": {
              "outlinewidth": 0,
              "ticks": ""
             }
            },
            "marker": {
             "colorbar": {
              "outlinewidth": 0,
              "ticks": ""
             }
            },
            "type": "scatter3d"
           }
          ],
          "scattercarpet": [
           {
            "marker": {
             "colorbar": {
              "outlinewidth": 0,
              "ticks": ""
             }
            },
            "type": "scattercarpet"
           }
          ],
          "scattergeo": [
           {
            "marker": {
             "colorbar": {
              "outlinewidth": 0,
              "ticks": ""
             }
            },
            "type": "scattergeo"
           }
          ],
          "scattergl": [
           {
            "marker": {
             "colorbar": {
              "outlinewidth": 0,
              "ticks": ""
             }
            },
            "type": "scattergl"
           }
          ],
          "scattermap": [
           {
            "marker": {
             "colorbar": {
              "outlinewidth": 0,
              "ticks": ""
             }
            },
            "type": "scattermap"
           }
          ],
          "scattermapbox": [
           {
            "marker": {
             "colorbar": {
              "outlinewidth": 0,
              "ticks": ""
             }
            },
            "type": "scattermapbox"
           }
          ],
          "scatterpolar": [
           {
            "marker": {
             "colorbar": {
              "outlinewidth": 0,
              "ticks": ""
             }
            },
            "type": "scatterpolar"
           }
          ],
          "scatterpolargl": [
           {
            "marker": {
             "colorbar": {
              "outlinewidth": 0,
              "ticks": ""
             }
            },
            "type": "scatterpolargl"
           }
          ],
          "scatterternary": [
           {
            "marker": {
             "colorbar": {
              "outlinewidth": 0,
              "ticks": ""
             }
            },
            "type": "scatterternary"
           }
          ],
          "surface": [
           {
            "colorbar": {
             "outlinewidth": 0,
             "ticks": ""
            },
            "colorscale": [
             [
              0,
              "#0d0887"
             ],
             [
              0.1111111111111111,
              "#46039f"
             ],
             [
              0.2222222222222222,
              "#7201a8"
             ],
             [
              0.3333333333333333,
              "#9c179e"
             ],
             [
              0.4444444444444444,
              "#bd3786"
             ],
             [
              0.5555555555555556,
              "#d8576b"
             ],
             [
              0.6666666666666666,
              "#ed7953"
             ],
             [
              0.7777777777777778,
              "#fb9f3a"
             ],
             [
              0.8888888888888888,
              "#fdca26"
             ],
             [
              1,
              "#f0f921"
             ]
            ],
            "type": "surface"
           }
          ],
          "table": [
           {
            "cells": {
             "fill": {
              "color": "#EBF0F8"
             },
             "line": {
              "color": "white"
             }
            },
            "header": {
             "fill": {
              "color": "#C8D4E3"
             },
             "line": {
              "color": "white"
             }
            },
            "type": "table"
           }
          ]
         },
         "layout": {
          "annotationdefaults": {
           "arrowcolor": "#2a3f5f",
           "arrowhead": 0,
           "arrowwidth": 1
          },
          "autotypenumbers": "strict",
          "coloraxis": {
           "colorbar": {
            "outlinewidth": 0,
            "ticks": ""
           }
          },
          "colorscale": {
           "diverging": [
            [
             0,
             "#8e0152"
            ],
            [
             0.1,
             "#c51b7d"
            ],
            [
             0.2,
             "#de77ae"
            ],
            [
             0.3,
             "#f1b6da"
            ],
            [
             0.4,
             "#fde0ef"
            ],
            [
             0.5,
             "#f7f7f7"
            ],
            [
             0.6,
             "#e6f5d0"
            ],
            [
             0.7,
             "#b8e186"
            ],
            [
             0.8,
             "#7fbc41"
            ],
            [
             0.9,
             "#4d9221"
            ],
            [
             1,
             "#276419"
            ]
           ],
           "sequential": [
            [
             0,
             "#0d0887"
            ],
            [
             0.1111111111111111,
             "#46039f"
            ],
            [
             0.2222222222222222,
             "#7201a8"
            ],
            [
             0.3333333333333333,
             "#9c179e"
            ],
            [
             0.4444444444444444,
             "#bd3786"
            ],
            [
             0.5555555555555556,
             "#d8576b"
            ],
            [
             0.6666666666666666,
             "#ed7953"
            ],
            [
             0.7777777777777778,
             "#fb9f3a"
            ],
            [
             0.8888888888888888,
             "#fdca26"
            ],
            [
             1,
             "#f0f921"
            ]
           ],
           "sequentialminus": [
            [
             0,
             "#0d0887"
            ],
            [
             0.1111111111111111,
             "#46039f"
            ],
            [
             0.2222222222222222,
             "#7201a8"
            ],
            [
             0.3333333333333333,
             "#9c179e"
            ],
            [
             0.4444444444444444,
             "#bd3786"
            ],
            [
             0.5555555555555556,
             "#d8576b"
            ],
            [
             0.6666666666666666,
             "#ed7953"
            ],
            [
             0.7777777777777778,
             "#fb9f3a"
            ],
            [
             0.8888888888888888,
             "#fdca26"
            ],
            [
             1,
             "#f0f921"
            ]
           ]
          },
          "colorway": [
           "#636efa",
           "#EF553B",
           "#00cc96",
           "#ab63fa",
           "#FFA15A",
           "#19d3f3",
           "#FF6692",
           "#B6E880",
           "#FF97FF",
           "#FECB52"
          ],
          "font": {
           "color": "#2a3f5f"
          },
          "geo": {
           "bgcolor": "white",
           "lakecolor": "white",
           "landcolor": "#E5ECF6",
           "showlakes": true,
           "showland": true,
           "subunitcolor": "white"
          },
          "hoverlabel": {
           "align": "left"
          },
          "hovermode": "closest",
          "mapbox": {
           "style": "light"
          },
          "paper_bgcolor": "white",
          "plot_bgcolor": "#E5ECF6",
          "polar": {
           "angularaxis": {
            "gridcolor": "white",
            "linecolor": "white",
            "ticks": ""
           },
           "bgcolor": "#E5ECF6",
           "radialaxis": {
            "gridcolor": "white",
            "linecolor": "white",
            "ticks": ""
           }
          },
          "scene": {
           "xaxis": {
            "backgroundcolor": "#E5ECF6",
            "gridcolor": "white",
            "gridwidth": 2,
            "linecolor": "white",
            "showbackground": true,
            "ticks": "",
            "zerolinecolor": "white"
           },
           "yaxis": {
            "backgroundcolor": "#E5ECF6",
            "gridcolor": "white",
            "gridwidth": 2,
            "linecolor": "white",
            "showbackground": true,
            "ticks": "",
            "zerolinecolor": "white"
           },
           "zaxis": {
            "backgroundcolor": "#E5ECF6",
            "gridcolor": "white",
            "gridwidth": 2,
            "linecolor": "white",
            "showbackground": true,
            "ticks": "",
            "zerolinecolor": "white"
           }
          },
          "shapedefaults": {
           "line": {
            "color": "#2a3f5f"
           }
          },
          "ternary": {
           "aaxis": {
            "gridcolor": "white",
            "linecolor": "white",
            "ticks": ""
           },
           "baxis": {
            "gridcolor": "white",
            "linecolor": "white",
            "ticks": ""
           },
           "bgcolor": "#E5ECF6",
           "caxis": {
            "gridcolor": "white",
            "linecolor": "white",
            "ticks": ""
           }
          },
          "title": {
           "x": 0.05
          },
          "xaxis": {
           "automargin": true,
           "gridcolor": "white",
           "linecolor": "white",
           "ticks": "",
           "title": {
            "standoff": 15
           },
           "zerolinecolor": "white",
           "zerolinewidth": 2
          },
          "yaxis": {
           "automargin": true,
           "gridcolor": "white",
           "linecolor": "white",
           "ticks": "",
           "title": {
            "standoff": 15
           },
           "zerolinecolor": "white",
           "zerolinewidth": 2
          }
         }
        },
        "title": {
         "text": "📊 Stock Quadrant Table (Aa–Ee) จาก Rule-Based or Model"
        }
       }
      }
     },
     "metadata": {},
     "output_type": "display_data"
    }
   ],
   "source": [
    "import plotly.graph_objects as go\n",
    "df_result3=df_2tabela\n",
    "# ✅ จัดกลุ่มหุ้นตาม quadrant\n",
    "quadrant_groups = df_result3.groupby('quadrant')['symbol'].apply(list).to_dict()\n",
    "\n",
    "# ✅ กำหนดลำดับของแกน\n",
    "financial_levels = ['A', 'B', 'C', 'D', 'E']  # A = Strong fundamentals\n",
    "trend_levels = ['a', 'b', 'c', 'd', 'e']      # a = Bullish, e = Crash\n",
    "\n",
    "# ✅ เตรียมข้อมูลแต่ละเซลล์ในตาราง (5x5)\n",
    "plot_table = []\n",
    "for f in financial_levels:\n",
    "    row = []\n",
    "    for t in trend_levels:\n",
    "        code = f + t\n",
    "        stocks = quadrant_groups.get(code, [])\n",
    "        if stocks:\n",
    "            stock_list = \"<br>\".join(stocks[:10])  # แสดงสูงสุด 10 ตัว\n",
    "            cell_text = f\"<b>{code}</b><br>{stock_list}\"\n",
    "        else:\n",
    "            cell_text = f\"<b>{code}</b><br>-\"\n",
    "        row.append(cell_text)\n",
    "    plot_table.append(row)\n",
    "\n",
    "# ✅ สร้างสีของแต่ละแถวตามกลุ่มพื้นฐาน A–E\n",
    "colors = [[{'A': '#2ecc71', 'B': '#58d68d', 'C': '#f4d03f', 'D': '#f39c12', 'E': '#e74c3c'}[f]]*5 for f in financial_levels]\n",
    "\n",
    "# ✅ Plotly Table\n",
    "fig = go.Figure(data=go.Table(\n",
    "    header=dict(\n",
    "        fill_color=\"#dcdcdc\",\n",
    "        align=\"center\",\n",
    "        font=dict(color=\"black\", size=14)\n",
    "    ),\n",
    "    cells=dict(\n",
    "        values=plot_table,\n",
    "        fill_color=colors,\n",
    "        align=\"center\",\n",
    "        height=100,\n",
    "        font=dict(color=\"white\", size=12)\n",
    "    )\n",
    "))\n",
    "\n",
    "# ✅ ตั้งชื่อกราฟ\n",
    "fig.update_layout(title=\"📊 Stock Quadrant Table (Aa–Ee) จาก Rule-Based or Model\")\n",
    "fig.show()\n"
   ]
  },
  {
   "cell_type": "code",
   "execution_count": 202,
   "id": "ae9e895a",
   "metadata": {},
   "outputs": [
    {
     "data": {
      "text/plain": [
       "Index(['symbol', 'eps_x', 'pe_x', 'pbv_x', 'percentyield_x', 'marketcap_x',\n",
       "       'stat_group', 'eps_y', 'pe_y', 'pbv_y', 'percentyield_y', 'trend_grade',\n",
       "       'time', 'close_price', 'high_price', 'low_price', 'open_price', 'value',\n",
       "       'marketcap_y', 'quadrant'],\n",
       "      dtype='object')"
      ]
     },
     "execution_count": 202,
     "metadata": {},
     "output_type": "execute_result"
    }
   ],
   "source": [
    "df_2tabela.columns"
   ]
  },
  {
   "cell_type": "code",
   "execution_count": 206,
   "id": "bc6e07f2",
   "metadata": {},
   "outputs": [
    {
     "name": "stdout",
     "output_type": "stream",
     "text": [
      "Epoch 1/50\n"
     ]
    },
    {
     "name": "stderr",
     "output_type": "stream",
     "text": [
      "c:\\Users\\Admin\\AppData\\Local\\Programs\\Python\\Python310\\lib\\site-packages\\keras\\src\\layers\\core\\dense.py:87: UserWarning:\n",
      "\n",
      "Do not pass an `input_shape`/`input_dim` argument to a layer. When using Sequential models, prefer using an `Input(shape)` object as the first layer in the model instead.\n",
      "\n"
     ]
    },
    {
     "name": "stdout",
     "output_type": "stream",
     "text": [
      "\u001b[1m37/37\u001b[0m \u001b[32m━━━━━━━━━━━━━━━━━━━━\u001b[0m\u001b[37m\u001b[0m \u001b[1m1s\u001b[0m 6ms/step - accuracy: 0.0862 - loss: 2.9003 - val_accuracy: 0.4082 - val_loss: 2.5745\n",
      "Epoch 2/50\n",
      "\u001b[1m37/37\u001b[0m \u001b[32m━━━━━━━━━━━━━━━━━━━━\u001b[0m\u001b[37m\u001b[0m \u001b[1m0s\u001b[0m 3ms/step - accuracy: 0.3146 - loss: 2.5526 - val_accuracy: 0.4286 - val_loss: 2.1832\n",
      "Epoch 3/50\n",
      "\u001b[1m37/37\u001b[0m \u001b[32m━━━━━━━━━━━━━━━━━━━━\u001b[0m\u001b[37m\u001b[0m \u001b[1m0s\u001b[0m 3ms/step - accuracy: 0.3674 - loss: 2.1878 - val_accuracy: 0.4286 - val_loss: 1.8481\n",
      "Epoch 4/50\n",
      "\u001b[1m37/37\u001b[0m \u001b[32m━━━━━━━━━━━━━━━━━━━━\u001b[0m\u001b[37m\u001b[0m \u001b[1m0s\u001b[0m 3ms/step - accuracy: 0.4235 - loss: 1.9331 - val_accuracy: 0.4762 - val_loss: 1.6860\n",
      "Epoch 5/50\n",
      "\u001b[1m37/37\u001b[0m \u001b[32m━━━━━━━━━━━━━━━━━━━━\u001b[0m\u001b[37m\u001b[0m \u001b[1m0s\u001b[0m 3ms/step - accuracy: 0.4477 - loss: 1.7865 - val_accuracy: 0.5374 - val_loss: 1.6089\n",
      "Epoch 6/50\n",
      "\u001b[1m37/37\u001b[0m \u001b[32m━━━━━━━━━━━━━━━━━━━━\u001b[0m\u001b[37m\u001b[0m \u001b[1m0s\u001b[0m 3ms/step - accuracy: 0.4630 - loss: 1.6508 - val_accuracy: 0.6054 - val_loss: 1.5352\n",
      "Epoch 7/50\n",
      "\u001b[1m37/37\u001b[0m \u001b[32m━━━━━━━━━━━━━━━━━━━━\u001b[0m\u001b[37m\u001b[0m \u001b[1m0s\u001b[0m 3ms/step - accuracy: 0.4574 - loss: 1.5806 - val_accuracy: 0.6395 - val_loss: 1.4738\n",
      "Epoch 8/50\n",
      "\u001b[1m37/37\u001b[0m \u001b[32m━━━━━━━━━━━━━━━━━━━━\u001b[0m\u001b[37m\u001b[0m \u001b[1m0s\u001b[0m 3ms/step - accuracy: 0.5800 - loss: 1.4210 - val_accuracy: 0.6259 - val_loss: 1.4135\n",
      "Epoch 9/50\n",
      "\u001b[1m37/37\u001b[0m \u001b[32m━━━━━━━━━━━━━━━━━━━━\u001b[0m\u001b[37m\u001b[0m \u001b[1m0s\u001b[0m 3ms/step - accuracy: 0.5545 - loss: 1.5215 - val_accuracy: 0.6531 - val_loss: 1.3719\n",
      "Epoch 10/50\n",
      "\u001b[1m37/37\u001b[0m \u001b[32m━━━━━━━━━━━━━━━━━━━━\u001b[0m\u001b[37m\u001b[0m \u001b[1m0s\u001b[0m 3ms/step - accuracy: 0.5303 - loss: 1.3894 - val_accuracy: 0.6531 - val_loss: 1.3385\n",
      "Epoch 11/50\n",
      "\u001b[1m37/37\u001b[0m \u001b[32m━━━━━━━━━━━━━━━━━━━━\u001b[0m\u001b[37m\u001b[0m \u001b[1m0s\u001b[0m 3ms/step - accuracy: 0.5808 - loss: 1.3850 - val_accuracy: 0.6803 - val_loss: 1.2928\n",
      "Epoch 12/50\n",
      "\u001b[1m37/37\u001b[0m \u001b[32m━━━━━━━━━━━━━━━━━━━━\u001b[0m\u001b[37m\u001b[0m \u001b[1m0s\u001b[0m 3ms/step - accuracy: 0.5845 - loss: 1.3045 - val_accuracy: 0.6735 - val_loss: 1.2534\n",
      "Epoch 13/50\n",
      "\u001b[1m37/37\u001b[0m \u001b[32m━━━━━━━━━━━━━━━━━━━━\u001b[0m\u001b[37m\u001b[0m \u001b[1m0s\u001b[0m 3ms/step - accuracy: 0.5978 - loss: 1.3506 - val_accuracy: 0.6803 - val_loss: 1.2216\n",
      "Epoch 14/50\n",
      "\u001b[1m37/37\u001b[0m \u001b[32m━━━━━━━━━━━━━━━━━━━━\u001b[0m\u001b[37m\u001b[0m \u001b[1m0s\u001b[0m 3ms/step - accuracy: 0.6297 - loss: 1.2728 - val_accuracy: 0.7075 - val_loss: 1.1924\n",
      "Epoch 15/50\n",
      "\u001b[1m37/37\u001b[0m \u001b[32m━━━━━━━━━━━━━━━━━━━━\u001b[0m\u001b[37m\u001b[0m \u001b[1m0s\u001b[0m 3ms/step - accuracy: 0.6044 - loss: 1.2346 - val_accuracy: 0.7143 - val_loss: 1.1613\n",
      "Epoch 16/50\n",
      "\u001b[1m37/37\u001b[0m \u001b[32m━━━━━━━━━━━━━━━━━━━━\u001b[0m\u001b[37m\u001b[0m \u001b[1m0s\u001b[0m 3ms/step - accuracy: 0.6397 - loss: 1.2099 - val_accuracy: 0.7279 - val_loss: 1.1298\n",
      "Epoch 17/50\n",
      "\u001b[1m37/37\u001b[0m \u001b[32m━━━━━━━━━━━━━━━━━━━━\u001b[0m\u001b[37m\u001b[0m \u001b[1m0s\u001b[0m 3ms/step - accuracy: 0.6453 - loss: 1.2599 - val_accuracy: 0.7347 - val_loss: 1.1034\n",
      "Epoch 18/50\n",
      "\u001b[1m37/37\u001b[0m \u001b[32m━━━━━━━━━━━━━━━━━━━━\u001b[0m\u001b[37m\u001b[0m \u001b[1m0s\u001b[0m 3ms/step - accuracy: 0.6481 - loss: 1.1584 - val_accuracy: 0.7415 - val_loss: 1.0806\n",
      "Epoch 19/50\n",
      "\u001b[1m37/37\u001b[0m \u001b[32m━━━━━━━━━━━━━━━━━━━━\u001b[0m\u001b[37m\u001b[0m \u001b[1m0s\u001b[0m 3ms/step - accuracy: 0.6538 - loss: 1.1872 - val_accuracy: 0.7551 - val_loss: 1.0555\n",
      "Epoch 20/50\n",
      "\u001b[1m37/37\u001b[0m \u001b[32m━━━━━━━━━━━━━━━━━━━━\u001b[0m\u001b[37m\u001b[0m \u001b[1m0s\u001b[0m 3ms/step - accuracy: 0.6666 - loss: 1.1153 - val_accuracy: 0.7551 - val_loss: 1.0460\n",
      "Epoch 21/50\n",
      "\u001b[1m37/37\u001b[0m \u001b[32m━━━━━━━━━━━━━━━━━━━━\u001b[0m\u001b[37m\u001b[0m \u001b[1m0s\u001b[0m 3ms/step - accuracy: 0.7053 - loss: 1.0384 - val_accuracy: 0.7347 - val_loss: 1.0270\n",
      "Epoch 22/50\n",
      "\u001b[1m37/37\u001b[0m \u001b[32m━━━━━━━━━━━━━━━━━━━━\u001b[0m\u001b[37m\u001b[0m \u001b[1m0s\u001b[0m 3ms/step - accuracy: 0.6434 - loss: 1.1570 - val_accuracy: 0.7619 - val_loss: 1.0099\n",
      "Epoch 23/50\n",
      "\u001b[1m37/37\u001b[0m \u001b[32m━━━━━━━━━━━━━━━━━━━━\u001b[0m\u001b[37m\u001b[0m \u001b[1m0s\u001b[0m 3ms/step - accuracy: 0.6919 - loss: 1.0712 - val_accuracy: 0.7755 - val_loss: 0.9916\n",
      "Epoch 24/50\n",
      "\u001b[1m37/37\u001b[0m \u001b[32m━━━━━━━━━━━━━━━━━━━━\u001b[0m\u001b[37m\u001b[0m \u001b[1m0s\u001b[0m 3ms/step - accuracy: 0.6812 - loss: 1.1102 - val_accuracy: 0.7483 - val_loss: 0.9827\n",
      "Epoch 25/50\n",
      "\u001b[1m37/37\u001b[0m \u001b[32m━━━━━━━━━━━━━━━━━━━━\u001b[0m\u001b[37m\u001b[0m \u001b[1m0s\u001b[0m 3ms/step - accuracy: 0.6524 - loss: 1.1174 - val_accuracy: 0.7619 - val_loss: 0.9721\n",
      "Epoch 26/50\n",
      "\u001b[1m37/37\u001b[0m \u001b[32m━━━━━━━━━━━━━━━━━━━━\u001b[0m\u001b[37m\u001b[0m \u001b[1m0s\u001b[0m 3ms/step - accuracy: 0.6857 - loss: 1.0866 - val_accuracy: 0.7619 - val_loss: 0.9571\n",
      "Epoch 27/50\n",
      "\u001b[1m37/37\u001b[0m \u001b[32m━━━━━━━━━━━━━━━━━━━━\u001b[0m\u001b[37m\u001b[0m \u001b[1m0s\u001b[0m 3ms/step - accuracy: 0.7187 - loss: 1.0110 - val_accuracy: 0.7483 - val_loss: 0.9416\n",
      "Epoch 28/50\n",
      "\u001b[1m37/37\u001b[0m \u001b[32m━━━━━━━━━━━━━━━━━━━━\u001b[0m\u001b[37m\u001b[0m \u001b[1m0s\u001b[0m 3ms/step - accuracy: 0.7203 - loss: 1.0067 - val_accuracy: 0.7755 - val_loss: 0.9266\n",
      "Epoch 29/50\n",
      "\u001b[1m37/37\u001b[0m \u001b[32m━━━━━━━━━━━━━━━━━━━━\u001b[0m\u001b[37m\u001b[0m \u001b[1m0s\u001b[0m 3ms/step - accuracy: 0.7200 - loss: 0.9493 - val_accuracy: 0.7823 - val_loss: 0.9158\n",
      "Epoch 30/50\n",
      "\u001b[1m37/37\u001b[0m \u001b[32m━━━━━━━━━━━━━━━━━━━━\u001b[0m\u001b[37m\u001b[0m \u001b[1m0s\u001b[0m 3ms/step - accuracy: 0.7321 - loss: 0.9683 - val_accuracy: 0.7891 - val_loss: 0.9108\n",
      "Epoch 31/50\n",
      "\u001b[1m37/37\u001b[0m \u001b[32m━━━━━━━━━━━━━━━━━━━━\u001b[0m\u001b[37m\u001b[0m \u001b[1m0s\u001b[0m 3ms/step - accuracy: 0.7063 - loss: 1.0170 - val_accuracy: 0.7755 - val_loss: 0.9009\n",
      "Epoch 32/50\n",
      "\u001b[1m37/37\u001b[0m \u001b[32m━━━━━━━━━━━━━━━━━━━━\u001b[0m\u001b[37m\u001b[0m \u001b[1m0s\u001b[0m 3ms/step - accuracy: 0.7116 - loss: 0.9733 - val_accuracy: 0.7891 - val_loss: 0.8945\n",
      "Epoch 33/50\n",
      "\u001b[1m37/37\u001b[0m \u001b[32m━━━━━━━━━━━━━━━━━━━━\u001b[0m\u001b[37m\u001b[0m \u001b[1m0s\u001b[0m 3ms/step - accuracy: 0.7264 - loss: 0.9209 - val_accuracy: 0.7823 - val_loss: 0.8919\n",
      "Epoch 34/50\n",
      "\u001b[1m37/37\u001b[0m \u001b[32m━━━━━━━━━━━━━━━━━━━━\u001b[0m\u001b[37m\u001b[0m \u001b[1m0s\u001b[0m 3ms/step - accuracy: 0.7018 - loss: 0.9648 - val_accuracy: 0.7687 - val_loss: 0.8855\n",
      "Epoch 35/50\n",
      "\u001b[1m37/37\u001b[0m \u001b[32m━━━━━━━━━━━━━━━━━━━━\u001b[0m\u001b[37m\u001b[0m \u001b[1m0s\u001b[0m 3ms/step - accuracy: 0.7162 - loss: 0.9609 - val_accuracy: 0.7891 - val_loss: 0.8739\n",
      "Epoch 36/50\n",
      "\u001b[1m37/37\u001b[0m \u001b[32m━━━━━━━━━━━━━━━━━━━━\u001b[0m\u001b[37m\u001b[0m \u001b[1m0s\u001b[0m 4ms/step - accuracy: 0.7258 - loss: 0.9631 - val_accuracy: 0.7959 - val_loss: 0.8542\n",
      "Epoch 37/50\n",
      "\u001b[1m37/37\u001b[0m \u001b[32m━━━━━━━━━━━━━━━━━━━━\u001b[0m\u001b[37m\u001b[0m \u001b[1m0s\u001b[0m 3ms/step - accuracy: 0.6942 - loss: 0.9773 - val_accuracy: 0.7823 - val_loss: 0.8640\n",
      "Epoch 38/50\n",
      "\u001b[1m37/37\u001b[0m \u001b[32m━━━━━━━━━━━━━━━━━━━━\u001b[0m\u001b[37m\u001b[0m \u001b[1m0s\u001b[0m 3ms/step - accuracy: 0.7395 - loss: 0.9330 - val_accuracy: 0.7755 - val_loss: 0.8578\n",
      "Epoch 39/50\n",
      "\u001b[1m37/37\u001b[0m \u001b[32m━━━━━━━━━━━━━━━━━━━━\u001b[0m\u001b[37m\u001b[0m \u001b[1m0s\u001b[0m 3ms/step - accuracy: 0.7665 - loss: 0.8759 - val_accuracy: 0.7891 - val_loss: 0.8342\n",
      "Epoch 40/50\n",
      "\u001b[1m37/37\u001b[0m \u001b[32m━━━━━━━━━━━━━━━━━━━━\u001b[0m\u001b[37m\u001b[0m \u001b[1m0s\u001b[0m 3ms/step - accuracy: 0.7611 - loss: 0.8109 - val_accuracy: 0.7891 - val_loss: 0.8362\n",
      "Epoch 41/50\n",
      "\u001b[1m37/37\u001b[0m \u001b[32m━━━━━━━━━━━━━━━━━━━━\u001b[0m\u001b[37m\u001b[0m \u001b[1m0s\u001b[0m 3ms/step - accuracy: 0.7406 - loss: 0.8711 - val_accuracy: 0.8095 - val_loss: 0.8339\n",
      "Epoch 42/50\n",
      "\u001b[1m37/37\u001b[0m \u001b[32m━━━━━━━━━━━━━━━━━━━━\u001b[0m\u001b[37m\u001b[0m \u001b[1m0s\u001b[0m 3ms/step - accuracy: 0.7271 - loss: 0.8987 - val_accuracy: 0.7891 - val_loss: 0.8193\n",
      "Epoch 43/50\n",
      "\u001b[1m37/37\u001b[0m \u001b[32m━━━━━━━━━━━━━━━━━━━━\u001b[0m\u001b[37m\u001b[0m \u001b[1m0s\u001b[0m 3ms/step - accuracy: 0.7542 - loss: 0.8508 - val_accuracy: 0.7891 - val_loss: 0.8143\n",
      "Epoch 44/50\n",
      "\u001b[1m37/37\u001b[0m \u001b[32m━━━━━━━━━━━━━━━━━━━━\u001b[0m\u001b[37m\u001b[0m \u001b[1m0s\u001b[0m 3ms/step - accuracy: 0.7538 - loss: 0.8339 - val_accuracy: 0.7755 - val_loss: 0.8149\n",
      "Epoch 45/50\n",
      "\u001b[1m37/37\u001b[0m \u001b[32m━━━━━━━━━━━━━━━━━━━━\u001b[0m\u001b[37m\u001b[0m \u001b[1m0s\u001b[0m 3ms/step - accuracy: 0.7716 - loss: 0.8099 - val_accuracy: 0.7755 - val_loss: 0.8205\n",
      "Epoch 46/50\n",
      "\u001b[1m37/37\u001b[0m \u001b[32m━━━━━━━━━━━━━━━━━━━━\u001b[0m\u001b[37m\u001b[0m \u001b[1m0s\u001b[0m 3ms/step - accuracy: 0.7500 - loss: 0.8307 - val_accuracy: 0.7891 - val_loss: 0.8088\n",
      "Epoch 47/50\n",
      "\u001b[1m37/37\u001b[0m \u001b[32m━━━━━━━━━━━━━━━━━━━━\u001b[0m\u001b[37m\u001b[0m \u001b[1m0s\u001b[0m 3ms/step - accuracy: 0.7770 - loss: 0.8219 - val_accuracy: 0.7823 - val_loss: 0.7993\n",
      "Epoch 48/50\n",
      "\u001b[1m37/37\u001b[0m \u001b[32m━━━━━━━━━━━━━━━━━━━━\u001b[0m\u001b[37m\u001b[0m \u001b[1m0s\u001b[0m 3ms/step - accuracy: 0.7465 - loss: 0.8848 - val_accuracy: 0.7823 - val_loss: 0.7997\n",
      "Epoch 49/50\n",
      "\u001b[1m37/37\u001b[0m \u001b[32m━━━━━━━━━━━━━━━━━━━━\u001b[0m\u001b[37m\u001b[0m \u001b[1m0s\u001b[0m 3ms/step - accuracy: 0.7246 - loss: 0.9101 - val_accuracy: 0.7755 - val_loss: 0.7968\n",
      "Epoch 50/50\n",
      "\u001b[1m37/37\u001b[0m \u001b[32m━━━━━━━━━━━━━━━━━━━━\u001b[0m\u001b[37m\u001b[0m \u001b[1m0s\u001b[0m 3ms/step - accuracy: 0.7555 - loss: 0.8713 - val_accuracy: 0.7891 - val_loss: 0.7869\n",
      "✅ Test Accuracy: 0.7891\n"
     ]
    }
   ],
   "source": [
    "import pandas as pd\n",
    "import numpy as np\n",
    "from sklearn.model_selection import train_test_split\n",
    "from sklearn.preprocessing import StandardScaler, LabelEncoder\n",
    "from tensorflow.keras.models import Sequential\n",
    "from tensorflow.keras.layers import Dense, Dropout\n",
    "from tensorflow.keras.utils import to_categorical\n",
    "\n",
    "# -----------------------------\n",
    "# 1. เตรียมข้อมูล\n",
    "# -----------------------------\n",
    "features = ['eps_x', 'pe_x', 'pbv_x', 'percentyield_x', 'marketcap_x','close_price', 'high_price', 'low_price', 'open_price', 'value']\n",
    "X = df_2tabela[features].dropna().copy()\n",
    "\n",
    "# ✅ เอาเฉพาะ numeric columns\n",
    "X = X.select_dtypes(include=[\"float64\", \"int64\"])\n",
    "\n",
    "y = df_2tabela.loc[X.index, 'quadrant']\n",
    "\n",
    "# Encode target\n",
    "le = LabelEncoder()\n",
    "y_encoded = le.fit_transform(y)\n",
    "y_categorical = to_categorical(y_encoded)\n",
    "\n",
    "# Scale features\n",
    "scaler = StandardScaler()\n",
    "X_scaled = scaler.fit_transform(X)\n",
    "\n",
    "# Split train-test\n",
    "X_train, X_test, y_train, y_test = train_test_split(\n",
    "    X_scaled, y_categorical, test_size=0.2, random_state=42, stratify=y_categorical\n",
    ")\n",
    "\n",
    "# -----------------------------\n",
    "# 2. สร้างโมเดล ANN\n",
    "# -----------------------------\n",
    "model = Sequential([\n",
    "    Dense(64, input_dim=X_train.shape[1], activation='relu'),\n",
    "    Dropout(0.3),\n",
    "    Dense(32, activation='relu'),\n",
    "    Dropout(0.2),\n",
    "    Dense(y_categorical.shape[1], activation='softmax')\n",
    "])\n",
    "\n",
    "model.compile(loss='categorical_crossentropy', optimizer='adam', metrics=['accuracy'])\n",
    "\n",
    "# -----------------------------\n",
    "# 3. Train\n",
    "# -----------------------------\n",
    "history = model.fit(\n",
    "    X_train, y_train,\n",
    "    epochs=50, batch_size=16,\n",
    "    validation_data=(X_test, y_test),\n",
    "    verbose=1\n",
    ")\n",
    "\n",
    "# -----------------------------\n",
    "# 4. Evaluate\n",
    "# -----------------------------\n",
    "loss, acc = model.evaluate(X_test, y_test, verbose=0)\n",
    "print(f\"✅ Test Accuracy: {acc:.4f}\")\n"
   ]
  },
  {
   "cell_type": "code",
   "execution_count": 207,
   "id": "ccb92f9d",
   "metadata": {},
   "outputs": [
    {
     "name": "stdout",
     "output_type": "stream",
     "text": [
      "\u001b[1m5/5\u001b[0m \u001b[32m━━━━━━━━━━━━━━━━━━━━\u001b[0m\u001b[37m\u001b[0m \u001b[1m0s\u001b[0m 28ms/step\n"
     ]
    },
    {
     "data": {
      "image/png": "[encoded data removed]",
      "text/plain": [
       "<Figure size 800x600 with 2 Axes>"
      ]
     },
     "metadata": {},
     "output_type": "display_data"
    }
   ],
   "source": [
    "import matplotlib.pyplot as plt\n",
    "import seaborn as sns\n",
    "from sklearn.metrics import confusion_matrix\n",
    "\n",
    "# -----------------------------\n",
    "# 1. Predict บน Test set\n",
    "# -----------------------------\n",
    "y_pred = model.predict(X_test)\n",
    "y_pred_labels = np.argmax(y_pred, axis=1)\n",
    "y_true_labels = np.argmax(y_test, axis=1)\n",
    "\n",
    "# -----------------------------\n",
    "# 2. สร้าง Confusion Matrix\n",
    "# -----------------------------\n",
    "cm = confusion_matrix(y_true_labels, y_pred_labels)\n",
    "\n",
    "# -----------------------------\n",
    "# 3. วาด Heatmap\n",
    "# -----------------------------\n",
    "plt.figure(figsize=(8,6))\n",
    "sns.heatmap(cm, annot=True, fmt=\"d\", cmap=\"Blues\",\n",
    "            xticklabels=le.classes_,\n",
    "            yticklabels=le.classes_)\n",
    "\n",
    "plt.xlabel(\"Predicted\")\n",
    "plt.ylabel(\"True\")\n",
    "plt.title(\"Confusion Matrix Heatmap - Deep Learning Quadrant Classification\")\n",
    "plt.show()\n"
   ]
  },
  {
   "cell_type": "code",
   "execution_count": 212,
   "id": "8af4fa66",
   "metadata": {},
   "outputs": [
    {
     "name": "stdout",
     "output_type": "stream",
     "text": [
      "\u001b[1m5/5\u001b[0m \u001b[32m━━━━━━━━━━━━━━━━━━━━\u001b[0m\u001b[37m\u001b[0m \u001b[1m0s\u001b[0m 4ms/step \n"
     ]
    },
    {
     "data": {
      "text/html": [
       "<div>\n",
       "<style scoped>\n",
       "    .dataframe tbody tr th:only-of-type {\n",
       "        vertical-align: middle;\n",
       "    }\n",
       "\n",
       "    .dataframe tbody tr th {\n",
       "        vertical-align: top;\n",
       "    }\n",
       "\n",
       "    .dataframe thead th {\n",
       "        text-align: right;\n",
       "    }\n",
       "</style>\n",
       "<table border=\"1\" class=\"dataframe\">\n",
       "  <thead>\n",
       "    <tr style=\"text-align: right;\">\n",
       "      <th></th>\n",
       "      <th>True Quadrant</th>\n",
       "      <th>Predicted Quadrant</th>\n",
       "    </tr>\n",
       "  </thead>\n",
       "  <tbody>\n",
       "    <tr>\n",
       "      <th>0</th>\n",
       "      <td>Ed</td>\n",
       "      <td>Ed</td>\n",
       "    </tr>\n",
       "    <tr>\n",
       "      <th>1</th>\n",
       "      <td>Ba</td>\n",
       "      <td>Bd</td>\n",
       "    </tr>\n",
       "    <tr>\n",
       "      <th>2</th>\n",
       "      <td>Ed</td>\n",
       "      <td>Ed</td>\n",
       "    </tr>\n",
       "    <tr>\n",
       "      <th>3</th>\n",
       "      <td>Ad</td>\n",
       "      <td>Ad</td>\n",
       "    </tr>\n",
       "    <tr>\n",
       "      <th>4</th>\n",
       "      <td>Bd</td>\n",
       "      <td>Bd</td>\n",
       "    </tr>\n",
       "    <tr>\n",
       "      <th>5</th>\n",
       "      <td>Bd</td>\n",
       "      <td>Bd</td>\n",
       "    </tr>\n",
       "    <tr>\n",
       "      <th>6</th>\n",
       "      <td>Bd</td>\n",
       "      <td>Bd</td>\n",
       "    </tr>\n",
       "    <tr>\n",
       "      <th>7</th>\n",
       "      <td>Cd</td>\n",
       "      <td>Cd</td>\n",
       "    </tr>\n",
       "    <tr>\n",
       "      <th>8</th>\n",
       "      <td>Ed</td>\n",
       "      <td>Ed</td>\n",
       "    </tr>\n",
       "    <tr>\n",
       "      <th>9</th>\n",
       "      <td>Dd</td>\n",
       "      <td>Dd</td>\n",
       "    </tr>\n",
       "  </tbody>\n",
       "</table>\n",
       "</div>"
      ],
      "text/plain": [
       "  True Quadrant Predicted Quadrant\n",
       "0            Ed                 Ed\n",
       "1            Ba                 Bd\n",
       "2            Ed                 Ed\n",
       "3            Ad                 Ad\n",
       "4            Bd                 Bd\n",
       "5            Bd                 Bd\n",
       "6            Bd                 Bd\n",
       "7            Cd                 Cd\n",
       "8            Ed                 Ed\n",
       "9            Dd                 Dd"
      ]
     },
     "execution_count": 212,
     "metadata": {},
     "output_type": "execute_result"
    }
   ],
   "source": [
    "import numpy as np\n",
    "import pandas as pd\n",
    "\n",
    "# -----------------------------\n",
    "# 1. Predict บน Test set\n",
    "# -----------------------------\n",
    "y_pred = model.predict(X_test)\n",
    "\n",
    "# แปลง one-hot → class index\n",
    "y_true_idx = np.argmax(y_test, axis=1)\n",
    "y_pred_idx = np.argmax(y_pred, axis=1)\n",
    "\n",
    "# -----------------------------\n",
    "# 2. แปลงเป็น label จริง\n",
    "# -----------------------------\n",
    "y_true_labels = le.inverse_transform(y_true_idx)\n",
    "y_pred_labels = le.inverse_transform(y_pred_idx)\n",
    "\n",
    "# -----------------------------\n",
    "# 3. สร้าง DataFrame ของผลการทดสอบ\n",
    "# -----------------------------\n",
    "df_results = pd.DataFrame({\n",
    "    \"True Quadrant\": y_true_labels,\n",
    "    \"Predicted Quadrant\": y_pred_labels\n",
    "})\n",
    "\n",
    "# ✅ แสดง 10 แถวแรก\n",
    "df_results.head(10)\n"
   ]
  },
  {
   "cell_type": "code",
   "execution_count": 213,
   "id": "cdb8f93e",
   "metadata": {},
   "outputs": [
    {
     "data": {
      "application/vnd.plotly.v1+json": {
       "config": {
        "plotlyServerURL": "https://plot.ly"
       },
       "data": [
        {
         "coloraxis": "coloraxis",
         "hovertemplate": "Trend (a–e): %{x}<br>Fundamental Group (A–E): %{y}<br>Stock Count: %{z}<extra></extra>",
         "name": "0",
         "texttemplate": "%{z}",
         "type": "heatmap",
         "x": [
          "a",
          "b",
          "d"
         ],
         "xaxis": "x",
         "y": [
          "A",
          "B",
          "C",
          "D",
          "E"
         ],
         "yaxis": "y",
         "z": {
          "bdata": "AAAhAAAbAAAcAAAdAQEc",
          "dtype": "i1",
          "shape": "5, 3"
         }
        }
       ],
       "layout": {
        "coloraxis": {
         "colorbar": {
          "title": {
           "text": "Stock Count"
          }
         },
         "colorscale": [
          [
           0,
           "rgb(255,255,204)"
          ],
          [
           0.125,
           "rgb(255,237,160)"
          ],
          [
           0.25,
           "rgb(254,217,118)"
          ],
          [
           0.375,
           "rgb(254,178,76)"
          ],
          [
           0.5,
           "rgb(253,141,60)"
          ],
          [
           0.625,
           "rgb(252,78,42)"
          ],
          [
           0.75,
           "rgb(227,26,28)"
          ],
          [
           0.875,
           "rgb(189,0,38)"
          ],
          [
           1,
           "rgb(128,0,38)"
          ]
         ]
        },
        "template": {
         "data": {
          "bar": [
           {
            "error_x": {
             "color": "#2a3f5f"
            },
            "error_y": {
             "color": "#2a3f5f"
            },
            "marker": {
             "line": {
              "color": "#E5ECF6",
              "width": 0.5
             },
             "pattern": {
              "fillmode": "overlay",
              "size": 10,
              "solidity": 0.2
             }
            },
            "type": "bar"
           }
          ],
          "barpolar": [
           {
            "marker": {
             "line": {
              "color": "#E5ECF6",
              "width": 0.5
             },
             "pattern": {
              "fillmode": "overlay",
              "size": 10,
              "solidity": 0.2
             }
            },
            "type": "barpolar"
           }
          ],
          "carpet": [
           {
            "aaxis": {
             "endlinecolor": "#2a3f5f",
             "gridcolor": "white",
             "linecolor": "white",
             "minorgridcolor": "white",
             "startlinecolor": "#2a3f5f"
            },
            "baxis": {
             "endlinecolor": "#2a3f5f",
             "gridcolor": "white",
             "linecolor": "white",
             "minorgridcolor": "white",
             "startlinecolor": "#2a3f5f"
            },
            "type": "carpet"
           }
          ],
          "choropleth": [
           {
            "colorbar": {
             "outlinewidth": 0,
             "ticks": ""
            },
            "type": "choropleth"
           }
          ],
          "contour": [
           {
            "colorbar": {
             "outlinewidth": 0,
             "ticks": ""
            },
            "colorscale": [
             [
              0,
              "#0d0887"
             ],
             [
              0.1111111111111111,
              "#46039f"
             ],
             [
              0.2222222222222222,
              "#7201a8"
             ],
             [
              0.3333333333333333,
              "#9c179e"
             ],
             [
              0.4444444444444444,
              "#bd3786"
             ],
             [
              0.5555555555555556,
              "#d8576b"
             ],
             [
              0.6666666666666666,
              "#ed7953"
             ],
             [
              0.7777777777777778,
              "#fb9f3a"
             ],
             [
              0.8888888888888888,
              "#fdca26"
             ],
             [
              1,
              "#f0f921"
             ]
            ],
            "type": "contour"
           }
          ],
          "contourcarpet": [
           {
            "colorbar": {
             "outlinewidth": 0,
             "ticks": ""
            },
            "type": "contourcarpet"
           }
          ],
          "heatmap": [
           {
            "colorbar": {
             "outlinewidth": 0,
             "ticks": ""
            },
            "colorscale": [
             [
              0,
              "#0d0887"
             ],
             [
              0.1111111111111111,
              "#46039f"
             ],
             [
              0.2222222222222222,
              "#7201a8"
             ],
             [
              0.3333333333333333,
              "#9c179e"
             ],
             [
              0.4444444444444444,
              "#bd3786"
             ],
             [
              0.5555555555555556,
              "#d8576b"
             ],
             [
              0.6666666666666666,
              "#ed7953"
             ],
             [
              0.7777777777777778,
              "#fb9f3a"
             ],
             [
              0.8888888888888888,
              "#fdca26"
             ],
             [
              1,
              "#f0f921"
             ]
            ],
            "type": "heatmap"
           }
          ],
          "histogram": [
           {
            "marker": {
             "pattern": {
              "fillmode": "overlay",
              "size": 10,
              "solidity": 0.2
             }
            },
            "type": "histogram"
           }
          ],
          "histogram2d": [
           {
            "colorbar": {
             "outlinewidth": 0,
             "ticks": ""
            },
            "colorscale": [
             [
              0,
              "#0d0887"
             ],
             [
              0.1111111111111111,
              "#46039f"
             ],
             [
              0.2222222222222222,
              "#7201a8"
             ],
             [
              0.3333333333333333,
              "#9c179e"
             ],
             [
              0.4444444444444444,
              "#bd3786"
             ],
             [
              0.5555555555555556,
              "#d8576b"
             ],
             [
              0.6666666666666666,
              "#ed7953"
             ],
             [
              0.7777777777777778,
              "#fb9f3a"
             ],
             [
              0.8888888888888888,
              "#fdca26"
             ],
             [
              1,
              "#f0f921"
             ]
            ],
            "type": "histogram2d"
           }
          ],
          "histogram2dcontour": [
           {
            "colorbar": {
             "outlinewidth": 0,
             "ticks": ""
            },
            "colorscale": [
             [
              0,
              "#0d0887"
             ],
             [
              0.1111111111111111,
              "#46039f"
             ],
             [
              0.2222222222222222,
              "#7201a8"
             ],
             [
              0.3333333333333333,
              "#9c179e"
             ],
             [
              0.4444444444444444,
              "#bd3786"
             ],
             [
              0.5555555555555556,
              "#d8576b"
             ],
             [
              0.6666666666666666,
              "#ed7953"
             ],
             [
              0.7777777777777778,
              "#fb9f3a"
             ],
             [
              0.8888888888888888,
              "#fdca26"
             ],
             [
              1,
              "#f0f921"
             ]
            ],
            "type": "histogram2dcontour"
           }
          ],
          "mesh3d": [
           {
            "colorbar": {
             "outlinewidth": 0,
             "ticks": ""
            },
            "type": "mesh3d"
           }
          ],
          "parcoords": [
           {
            "line": {
             "colorbar": {
              "outlinewidth": 0,
              "ticks": ""
             }
            },
            "type": "parcoords"
           }
          ],
          "pie": [
           {
            "automargin": true,
            "type": "pie"
           }
          ],
          "scatter": [
           {
            "fillpattern": {
             "fillmode": "overlay",
             "size": 10,
             "solidity": 0.2
            },
            "type": "scatter"
           }
          ],
          "scatter3d": [
           {
            "line": {
             "colorbar": {
              "outlinewidth": 0,
              "ticks": ""
             }
            },
            "marker": {
             "colorbar": {
              "outlinewidth": 0,
              "ticks": ""
             }
            },
            "type": "scatter3d"
           }
          ],
          "scattercarpet": [
           {
            "marker": {
             "colorbar": {
              "outlinewidth": 0,
              "ticks": ""
             }
            },
            "type": "scattercarpet"
           }
          ],
          "scattergeo": [
           {
            "marker": {
             "colorbar": {
              "outlinewidth": 0,
              "ticks": ""
             }
            },
            "type": "scattergeo"
           }
          ],
          "scattergl": [
           {
            "marker": {
             "colorbar": {
              "outlinewidth": 0,
              "ticks": ""
             }
            },
            "type": "scattergl"
           }
          ],
          "scattermap": [
           {
            "marker": {
             "colorbar": {
              "outlinewidth": 0,
              "ticks": ""
             }
            },
            "type": "scattermap"
           }
          ],
          "scattermapbox": [
           {
            "marker": {
             "colorbar": {
              "outlinewidth": 0,
              "ticks": ""
             }
            },
            "type": "scattermapbox"
           }
          ],
          "scatterpolar": [
           {
            "marker": {
             "colorbar": {
              "outlinewidth": 0,
              "ticks": ""
             }
            },
            "type": "scatterpolar"
           }
          ],
          "scatterpolargl": [
           {
            "marker": {
             "colorbar": {
              "outlinewidth": 0,
              "ticks": ""
             }
            },
            "type": "scatterpolargl"
           }
          ],
          "scatterternary": [
           {
            "marker": {
             "colorbar": {
              "outlinewidth": 0,
              "ticks": ""
             }
            },
            "type": "scatterternary"
           }
          ],
          "surface": [
           {
            "colorbar": {
             "outlinewidth": 0,
             "ticks": ""
            },
            "colorscale": [
             [
              0,
              "#0d0887"
             ],
             [
              0.1111111111111111,
              "#46039f"
             ],
             [
              0.2222222222222222,
              "#7201a8"
             ],
             [
              0.3333333333333333,
              "#9c179e"
             ],
             [
              0.4444444444444444,
              "#bd3786"
             ],
             [
              0.5555555555555556,
              "#d8576b"
             ],
             [
              0.6666666666666666,
              "#ed7953"
             ],
             [
              0.7777777777777778,
              "#fb9f3a"
             ],
             [
              0.8888888888888888,
              "#fdca26"
             ],
             [
              1,
              "#f0f921"
             ]
            ],
            "type": "surface"
           }
          ],
          "table": [
           {
            "cells": {
             "fill": {
              "color": "#EBF0F8"
             },
             "line": {
              "color": "white"
             }
            },
            "header": {
             "fill": {
              "color": "#C8D4E3"
             },
             "line": {
              "color": "white"
             }
            },
            "type": "table"
           }
          ]
         },
         "layout": {
          "annotationdefaults": {
           "arrowcolor": "#2a3f5f",
           "arrowhead": 0,
           "arrowwidth": 1
          },
          "autotypenumbers": "strict",
          "coloraxis": {
           "colorbar": {
            "outlinewidth": 0,
            "ticks": ""
           }
          },
          "colorscale": {
           "diverging": [
            [
             0,
             "#8e0152"
            ],
            [
             0.1,
             "#c51b7d"
            ],
            [
             0.2,
             "#de77ae"
            ],
            [
             0.3,
             "#f1b6da"
            ],
            [
             0.4,
             "#fde0ef"
            ],
            [
             0.5,
             "#f7f7f7"
            ],
            [
             0.6,
             "#e6f5d0"
            ],
            [
             0.7,
             "#b8e186"
            ],
            [
             0.8,
             "#7fbc41"
            ],
            [
             0.9,
             "#4d9221"
            ],
            [
             1,
             "#276419"
            ]
           ],
           "sequential": [
            [
             0,
             "#0d0887"
            ],
            [
             0.1111111111111111,
             "#46039f"
            ],
            [
             0.2222222222222222,
             "#7201a8"
            ],
            [
             0.3333333333333333,
             "#9c179e"
            ],
            [
             0.4444444444444444,
             "#bd3786"
            ],
            [
             0.5555555555555556,
             "#d8576b"
            ],
            [
             0.6666666666666666,
             "#ed7953"
            ],
            [
             0.7777777777777778,
             "#fb9f3a"
            ],
            [
             0.8888888888888888,
             "#fdca26"
            ],
            [
             1,
             "#f0f921"
            ]
           ],
           "sequentialminus": [
            [
             0,
             "#0d0887"
            ],
            [
             0.1111111111111111,
             "#46039f"
            ],
            [
             0.2222222222222222,
             "#7201a8"
            ],
            [
             0.3333333333333333,
             "#9c179e"
            ],
            [
             0.4444444444444444,
             "#bd3786"
            ],
            [
             0.5555555555555556,
             "#d8576b"
            ],
            [
             0.6666666666666666,
             "#ed7953"
            ],
            [
             0.7777777777777778,
             "#fb9f3a"
            ],
            [
             0.8888888888888888,
             "#fdca26"
            ],
            [
             1,
             "#f0f921"
            ]
           ]
          },
          "colorway": [
           "#636efa",
           "#EF553B",
           "#00cc96",
           "#ab63fa",
           "#FFA15A",
           "#19d3f3",
           "#FF6692",
           "#B6E880",
           "#FF97FF",
           "#FECB52"
          ],
          "font": {
           "color": "#2a3f5f"
          },
          "geo": {
           "bgcolor": "white",
           "lakecolor": "white",
           "landcolor": "#E5ECF6",
           "showlakes": true,
           "showland": true,
           "subunitcolor": "white"
          },
          "hoverlabel": {
           "align": "left"
          },
          "hovermode": "closest",
          "mapbox": {
           "style": "light"
          },
          "paper_bgcolor": "white",
          "plot_bgcolor": "#E5ECF6",
          "polar": {
           "angularaxis": {
            "gridcolor": "white",
            "linecolor": "white",
            "ticks": ""
           },
           "bgcolor": "#E5ECF6",
           "radialaxis": {
            "gridcolor": "white",
            "linecolor": "white",
            "ticks": ""
           }
          },
          "scene": {
           "xaxis": {
            "backgroundcolor": "#E5ECF6",
            "gridcolor": "white",
            "gridwidth": 2,
            "linecolor": "white",
            "showbackground": true,
            "ticks": "",
            "zerolinecolor": "white"
           },
           "yaxis": {
            "backgroundcolor": "#E5ECF6",
            "gridcolor": "white",
            "gridwidth": 2,
            "linecolor": "white",
            "showbackground": true,
            "ticks": "",
            "zerolinecolor": "white"
           },
           "zaxis": {
            "backgroundcolor": "#E5ECF6",
            "gridcolor": "white",
            "gridwidth": 2,
            "linecolor": "white",
            "showbackground": true,
            "ticks": "",
            "zerolinecolor": "white"
           }
          },
          "shapedefaults": {
           "line": {
            "color": "#2a3f5f"
           }
          },
          "ternary": {
           "aaxis": {
            "gridcolor": "white",
            "linecolor": "white",
            "ticks": ""
           },
           "baxis": {
            "gridcolor": "white",
            "linecolor": "white",
            "ticks": ""
           },
           "bgcolor": "#E5ECF6",
           "caxis": {
            "gridcolor": "white",
            "linecolor": "white",
            "ticks": ""
           }
          },
          "title": {
           "x": 0.05
          },
          "xaxis": {
           "automargin": true,
           "gridcolor": "white",
           "linecolor": "white",
           "ticks": "",
           "title": {
            "standoff": 15
           },
           "zerolinecolor": "white",
           "zerolinewidth": 2
          },
          "yaxis": {
           "automargin": true,
           "gridcolor": "white",
           "linecolor": "white",
           "ticks": "",
           "title": {
            "standoff": 15
           },
           "zerolinecolor": "white",
           "zerolinewidth": 2
          }
         }
        },
        "title": {
         "text": "📊 Quadrant Heatmap (Predicted by ANN)"
        },
        "xaxis": {
         "anchor": "y",
         "constrain": "domain",
         "domain": [
          0,
          1
         ],
         "scaleanchor": "y",
         "title": {
          "text": "Trend (a–e)"
         }
        },
        "yaxis": {
         "anchor": "x",
         "autorange": "reversed",
         "constrain": "domain",
         "domain": [
          0,
          1
         ],
         "title": {
          "text": "Fundamental Group (A–E)"
         }
        }
       }
      }
     },
     "metadata": {},
     "output_type": "display_data"
    }
   ],
   "source": [
    "import plotly.express as px\n",
    "import pandas as pd\n",
    "\n",
    "# -----------------------------\n",
    "# 1. แตก True Quadrant ออกเป็น Fundamental (A–E) และ Trend (a–e)\n",
    "# -----------------------------\n",
    "df_results['Fundamental'] = df_results['Predicted Quadrant'].str[0]   # ตัวแรก เช่น A, B, C, D, E\n",
    "df_results['Trend'] = df_results['Predicted Quadrant'].str[1]        # ตัวสอง เช่น a, b, c, d, e\n",
    "\n",
    "# -----------------------------\n",
    "# 2. สร้าง Pivot Table\n",
    "# -----------------------------\n",
    "heatmap_data = pd.pivot_table(\n",
    "    df_results,\n",
    "    index=\"Fundamental\", columns=\"Trend\",\n",
    "    values=\"Predicted Quadrant\",\n",
    "    aggfunc=\"count\", fill_value=0\n",
    ")\n",
    "\n",
    "# -----------------------------\n",
    "# 3. Plot Heatmap\n",
    "# -----------------------------\n",
    "fig = px.imshow(\n",
    "    heatmap_data,\n",
    "    text_auto=True,\n",
    "    color_continuous_scale=\"YlOrRd\",\n",
    "    labels=dict(x=\"Trend (a–e)\", y=\"Fundamental Group (A–E)\", color=\"Stock Count\"),\n",
    "    title=\"📊 Quadrant Heatmap (Predicted by ANN)\"\n",
    ")\n",
    "\n",
    "fig.update_layout(xaxis_title=\"Trend (a–e)\", yaxis_title=\"Fundamental Group (A–E)\")\n",
    "fig.show()\n"
   ]
  }
 ],
 "metadata": {
  "kernelspec": {
   "display_name": "Python 3",
   "language": "python",
   "name": "python3"
  },
  "language_info": {
   "codemirror_mode": {
    "name": "ipython",
    "version": 3
   },
   "file_extension": ".py",
   "mimetype": "text/x-python",
   "name": "python",
   "nbconvert_exporter": "python",
   "pygments_lexer": "ipython3",
   "version": "3.10.0"
  }
 },
 "nbformat": 4,
 "nbformat_minor": 5
}
