{
 "cells": [
  {
   "cell_type": "markdown",
   "id": "7ac66c30",
   "metadata": {},
   "source": [
    "# CRISP-DM \n",
    "\n",
    "This notebook follows the **CRISP-DM (Cross Industry Standard Process for Data Mining)** methodology:\n",
    "1. Business Understanding\n",
    "2. Data Understanding\n",
    "3. Data Preparation\n",
    "4. Modeling\n",
    "5. Evaluation\n",
    "6. Deployment\n",
    "\n",
    "The project aims to build a Quadrant Stock Classification System using **deep learning models**.\n"
   ]
  },
  {
   "cell_type": "markdown",
   "id": "d10c8668",
   "metadata": {},
   "source": [
    "## Business Understanding\n",
    "\n",
    "a. To help investors analyze stocks more quickly and accurately.\n",
    "\n",
    "b. To establish a standard for stock analysis that is easy to understand and practical.\n",
    "\n",
    "c. To reduce risks from uninformed investment decisions and build confidence among investors"
   ]
  },
  {
   "cell_type": "markdown",
   "id": "136fdd1b",
   "metadata": {},
   "source": [
    "## Data Understanding\n",
    "\n",
    "ดึงชื่อหุ้นของประเทศไทย\n",
    "\n",
    "[coding name stock](https://github.com/phqsuema123/Stock-quadrant-quantitative-analysis-using-deep-learning-classification/blob/main/1.Final_file/1.Pull_the_name_of_Thai_stocks/name_stock.ipynb)\n",
    "\n",
    "ดึงข้อมูลจากAPI Settrade API \n",
    "\n",
    "ข้อมูลพื้นฐานของหุ้นดึงมาจาก https://developer.settrade.com/open-api/api-reference/reference/sdkv2/python/market-data/getQuoteSymbol\n",
    "\n",
    "[coding fundematal](https://github.com/phqsuema123/Stock-quadrant-quantitative-analysis-using-deep-learning-classification/blob/main/1.Final_file/2.Data_collection/data_finan_setAPI.ipynb)\n",
    "\n",
    "ข้อมูลของTechnical Data.\n",
    "\n",
    " https://developer.settrade.com/open-api/api-reference/reference/sdkv2/python/market-historical-data/2_getCandlestick \n",
    " \n",
    " โดยดึงล่าสุดวันที่1 เดือน10 ปี68 \n",
    "\n",
    "[Technical Data](https://github.com/phqsuema123/Stock-quadrant-quantitative-analysis-using-deep-learning-classification/blob/main/1.Final_file/2.Data_collection/Technical_data.ipynb)\n",
    "\n",
    "โหลดข้อมูลเข้าฐานข้อมูลcassandra เเละ โหลดข้อมูลที่ใช้ลงexcel \n",
    "\n",
    "ข้อมูลของพื้นฐานของหุ้น เอาคอลัมท์ symbol,eps,pe,pbv,percentYield \n",
    "\n",
    "เเละข้อมูลของเทคนิค ดึงตั่งเเต่วันที่1 เดือนjune 2025 (2025-06-01)\n",
    "\n",
    "[coding save to excel](https://github.com/phqsuema123/Stock-quadrant-quantitative-analysis-using-deep-learning-classification/blob/main/1.Final_file/2.Data_collection/savetoexcel.ipynb)"
   ]
  },
  {
   "cell_type": "code",
   "execution_count": 1,
   "id": "85084795",
   "metadata": {},
   "outputs": [],
   "source": [
    "import pandas as pd\n",
    "import numpy as np"
   ]
  },
  {
   "cell_type": "code",
   "execution_count": 2,
   "id": "dd217eec",
   "metadata": {},
   "outputs": [],
   "source": [
    "df_fun=pd.read_excel(\"C:/Users/Admin/OneDrive/Desktop/Stock-quadrant-quantitative-analysis-using-deep-learning-classification/1.Final_file/2.Data_collection/stock_fun.xlsx\")"
   ]
  },
  {
   "cell_type": "code",
   "execution_count": 3,
   "id": "480c4692",
   "metadata": {},
   "outputs": [],
   "source": [
    "df_tn=pd.read_excel(\"C:/Users/Admin/OneDrive/Desktop/Stock-quadrant-quantitative-analysis-using-deep-learning-classification/1.Final_file/2.Data_collection/stock_june2025_onwards.xlsx\")"
   ]
  },
  {
   "cell_type": "markdown",
   "id": "7f23407b",
   "metadata": {},
   "source": [
    "## Data Preparation"
   ]
  },
  {
   "cell_type": "markdown",
   "id": "c1961fcb",
   "metadata": {},
   "source": [
    "สำรวจข้อมูลแท่ง บรรทัด คอลัมท์ ข้อมูลmissing(NAN) ข้อมูลสรุปสถิติ "
   ]
  },
  {
   "cell_type": "code",
   "execution_count": 4,
   "id": "3c88b70d",
   "metadata": {},
   "outputs": [
    {
     "name": "stdout",
     "output_type": "stream",
     "text": [
      "(69362, 8)\n",
      "symbol         0\n",
      "time           0\n",
      "close_price    0\n",
      "high_price     0\n",
      "low_price      0\n",
      "open_price     0\n",
      "value          0\n",
      "volume         0\n",
      "dtype: int64\n",
      "                                time   close_price    high_price  \\\n",
      "count                          69362  69362.000000  69362.000000   \n",
      "mean   2025-08-01 21:57:51.906807552      9.963896     10.069459   \n",
      "min              2025-06-04 00:00:00      0.010000      0.010000   \n",
      "25%              2025-07-02 00:00:00      0.900000      0.910000   \n",
      "50%              2025-08-01 00:00:00      2.680000      2.720000   \n",
      "75%              2025-09-02 00:00:00      7.158460      7.250000   \n",
      "max              2025-10-01 00:00:00    350.000000    360.000000   \n",
      "std                              NaN     29.165057     29.381371   \n",
      "\n",
      "          low_price    open_price          value        volume  \n",
      "count  69362.000000  69362.000000   69362.000000  6.936200e+04  \n",
      "mean       9.858781      9.962452       7.314754  5.693653e+06  \n",
      "min        0.010000      0.010000       0.000000  1.000000e+02  \n",
      "25%        0.880000      0.900000       0.000000  4.270600e+04  \n",
      "50%        2.640000      2.680000       0.000000  2.783810e+05  \n",
      "75%        7.100000      7.150000       0.000000  1.821910e+06  \n",
      "max      350.000000    350.000000  462855.000000  1.097277e+10  \n",
      "std       28.976406     29.182551    1765.197582  7.446444e+07  \n"
     ]
    }
   ],
   "source": [
    "print(df_tn.shape)\n",
    "print(df_tn.isnull().sum())\n",
    "print(df_tn.describe())"
   ]
  },
  {
   "cell_type": "markdown",
   "id": "f9f566dd",
   "metadata": {},
   "source": [
    "สำรวจข้อมูลพท้นฐาน บรรทัด คอลัมท์ ข้อมูลmissing(NAN) ข้อมูลสรุปสถิติ "
   ]
  },
  {
   "cell_type": "code",
   "execution_count": 5,
   "id": "864c772a",
   "metadata": {},
   "outputs": [
    {
     "name": "stdout",
     "output_type": "stream",
     "text": [
      "(907, 7)\n",
      "symbol           0\n",
      "eps             64\n",
      "pe              71\n",
      "pbv              8\n",
      "percentyield     7\n",
      "volume           0\n",
      "marketcap        0\n",
      "dtype: int64\n",
      "              eps            pe         pbv  percentyield        volume  \\\n",
      "count  843.000000    836.000000  899.000000    900.000000  9.070000e+02   \n",
      "mean     0.416486     29.970897    1.181869      3.909367  4.594697e+06   \n",
      "std      2.098391    455.065368    1.845644      3.944323  1.986407e+07   \n",
      "min    -11.024490      0.000000    0.000000      0.000000  1.000000e+02   \n",
      "25%     -0.008735      0.000000    0.490000      0.000000  4.120000e+04   \n",
      "50%      0.070000      9.325000    0.770000      3.280000  3.178100e+05   \n",
      "75%      0.277725     15.457500    1.280000      6.492500  2.076406e+06   \n",
      "max     36.741980  13142.170000   33.130000     24.910000  4.516564e+08   \n",
      "\n",
      "          marketcap  \n",
      "count  9.070000e+02  \n",
      "mean   4.609440e+07  \n",
      "std    2.740798e+08  \n",
      "min    1.800000e+02  \n",
      "25%    8.427056e+04  \n",
      "50%    5.555000e+05  \n",
      "75%    4.324607e+06  \n",
      "max    5.845970e+09  \n"
     ]
    }
   ],
   "source": [
    "print(df_fun.shape)\n",
    "print(df_fun.isnull().sum())\n",
    "print(df_fun.describe())"
   ]
  },
  {
   "cell_type": "markdown",
   "id": "02119c92",
   "metadata": {},
   "source": [
    "ดรอปข้อมูล NAN"
   ]
  },
  {
   "cell_type": "code",
   "execution_count": 6,
   "id": "373ab116",
   "metadata": {},
   "outputs": [],
   "source": [
    "df_fun.dropna(inplace=True)"
   ]
  },
  {
   "cell_type": "code",
   "execution_count": 7,
   "id": "03fe4cc0",
   "metadata": {},
   "outputs": [
    {
     "name": "stdout",
     "output_type": "stream",
     "text": [
      "symbol          0\n",
      "eps             0\n",
      "pe              0\n",
      "pbv             0\n",
      "percentyield    0\n",
      "volume          0\n",
      "marketcap       0\n",
      "dtype: int64\n",
      "(836, 7)\n"
     ]
    }
   ],
   "source": [
    "print(df_fun.isnull().sum())\n",
    "print(df_fun.shape)"
   ]
  },
  {
   "cell_type": "markdown",
   "id": "d38a6635",
   "metadata": {},
   "source": [
    "data vizulation"
   ]
  },
  {
   "cell_type": "markdown",
   "id": "a9e6f67c",
   "metadata": {},
   "source": [
    "เส้นค่าเฉลี่ยเคลื่อนที่แบบเอ็กซ์โพเนนเชียล (Exponential Moving Average - EMA)\n",
    "\n",
    "คือเส้นค่าเฉลี่ยของราคาหุ้นย้อนหลังในระยะเวลาต่างๆ กัน (5, 15, 35, 89, และ 200 วัน) โดยให้ความสำคัญกับราคาล่าสุดมากกว่า เส้นเหล่านี้ช่วยบอกถึงแนวโน้มในระยะสั้นไปจนถึงระยะยาว\n",
    "\n",
    "🔵 EMA5 = ระยะสั้น, สัญญาณไว\n",
    "\n",
    "🟠 EMA15 = ระยะกลาง, ช่วยกรองสัญญาณ\n",
    "\n",
    "🟢 EMA35 = แนวโน้มกลาง\n",
    "\n",
    "🟣 EMA89 = แนวโน้มหลัก\n",
    "\n",
    "🔴 EMA200 = แนวโน้มระยะยาว (เส้นใหญ่สุด)"
   ]
  },
  {
   "cell_type": "markdown",
   "id": "36f9e2be",
   "metadata": {},
   "source": [
    "โดยทั่วไปจำนวน “5, 15, 35, 89, 200” ของ EMA มักอิงกับจำนวน “วันทำการซื้อขาย (trading days)”**\n",
    "ซึ่งหมายถึง **วันทำงานของตลาดหุ้น (วันราชการที่ตลาดเปิด)** ไม่รวมเสาร์–อาทิตย์ หรือวันหยุดนักขัตฤกษ์ของตลาดหลักทรัพย์\n",
    "\n",
    "---\n",
    "\n",
    "### 💡 อธิบายอย่างละเอียด\n",
    "\n",
    "| ค่า EMA    | ช่วงเวลาโดยประมาณ | อิงจาก       | ใช้เพื่อวิเคราะห์อะไร                                    |\n",
    "| ---------- | ----------------- | ------------ | -------------------------------------------------------- |\n",
    "| **EMA5**   | ~1 สัปดาห์        | 5 วันทำการ   | แนวโน้มระยะสั้นมาก (daily momentum)                      |\n",
    "| **EMA15**  | ~3 สัปดาห์        | 15 วันทำการ  | แนวโน้มระยะสั้น                                          |\n",
    "| **EMA35**  | ~7 สัปดาห์        | 35 วันทำการ  | แนวโน้มระยะกลาง                                          |\n",
    "| **EMA89**  | ~4 เดือน          | 89 วันทำการ  | แนวโน้มระยะกลางถึงยาว                                    |\n",
    "| **EMA200** | ~10 เดือน         | 200 วันทำการ | แนวโน้มระยะยาว (ใช้บ่อยในตลาดโลก เช่น S&P500, SET Index) |\n",
    "\n",
    "---\n",
    "\n",
    "### 📆 ตัวอย่างการแปลงเป็น “ระยะเวลาในปฏิทินจริง”\n",
    "\n",
    "โดยทั่วไปตลาดหุ้นไทย (SET) เปิดทำการประมาณ **21–22 วันต่อเดือน**\n",
    "ดังนั้นเราจะได้โดยประมาณว่า:\n",
    "\n",
    "| ค่า    | คิดเป็นวันทำการ | เทียบเป็น “ระยะเวลาในปฏิทิน” |\n",
    "| ------ | --------------- | ---------------------------- |\n",
    "| EMA5   | 1 สัปดาห์       | 1 สัปดาห์                    |\n",
    "| EMA15  | 3 สัปดาห์       | ~3 สัปดาห์                   |\n",
    "| EMA35  | 7 สัปดาห์       | ~1.5 เดือน                   |\n",
    "| EMA89  | 4 เดือน         | ~4 เดือน                     |\n",
    "| EMA200 | 10 เดือน        | ~10 เดือน – 1 ปี             |\n",
    "\n",
    "---\n",
    "\n",
    "### 🔍 สรุปสั้น ๆ\n",
    "\n",
    "> ค่าของ **EMA 5, 15, 35, 89, 200** มาจาก “จำนวนวันทำการของตลาดหุ้น” (Trading Days)\n",
    "> ซึ่งถือเป็น “วันราชการที่ตลาดหลักทรัพย์เปิด”\n",
    "> และถูกเลือกเพื่อให้ครอบคลุมแนวโน้มหลายระดับ — จากสั้นที่สุด (EMA5) ถึงยาวที่สุด (EMA200)"
   ]
  },
  {
   "cell_type": "code",
   "execution_count": 8,
   "id": "39027bbc",
   "metadata": {},
   "outputs": [
    {
     "data": {
      "application/vnd.plotly.v1+json": {
       "config": {
        "plotlyServerURL": "https://plot.ly"
       },
       "data": [
        {
         "close": {
          "bdata": "AAAAAACgV0AAAAAAAHBYQAAAAAAA4FdAAAAAAADgWEAAAAAAAOBYQAAAAAAAQFlAAAAAAABQWEAAAAAAAOBYQAAAAAAAAFlAAAAAAADAWEAAAAAAAIBYQAAAAAAAkFhAAAAAAACAWEAAAAAAABBYQAAAAAAAIFpAAAAAAABAWkAAAAAAAMBYQAAAAAAAAFhAAAAAAAAAWEAAAAAAAABaQAAAAAAAQFpAAAAAAACAW0AAAAAAAGBbQAAAAAAAoFtAAAAAAAAgW0AAAAAAAIBaQAAAAAAAIFtAAAAAAAAAXEAAAAAAAKBcQAAAAAAAoFxAAAAAAACQYEAAAAAAADBhQAAAAAAAYGFAAAAAAAAgYUAAAAAAANBhQAAAAAAAkGFAAAAAAADQYUAAAAAAAOBhQAAAAAAAAGJAAAAAAABAYkAAAAAAAMBhQAAAAAAAcGJAAAAAAABwYkAAAAAAAHBiQAAAAAAAYGJAAAAAAAAAYkAAAAAAAEBjQAAAAAAA4GJAAAAAAACwYkAAAAAAAHBiQAAAAAAAQGJAAAAAAAAgYkAAAAAAAFBiQAAAAAAA4GJAAAAAAAAgY0AAAAAAAMBiQAAAAAAAQGNAAAAAAADAYkAAAAAAAMBiQAAAAAAAoGJAAAAAAABgYkAAAAAAAOBiQAAAAAAAMGJAAAAAAABwYkAAAAAAAOBhQAAAAAAAMGJAAAAAAACAYkAAAAAAAFBjQAAAAAAAoGNAAAAAAAAAZEAAAAAAACBkQAAAAAAAUGRAAAAAAABQZEAAAAAAACBkQAAAAAAAMGRAAAAAAADgZEAAAAAAAIBkQAAAAAAAoGRAAAAAAACwY0AAAAAAADBkQAAAAAAA0GNA",
          "dtype": "f8"
         },
         "high": {
          "bdata": "AAAAAACAWUAAAAAAAKBYQAAAAAAAUFhAAAAAAABAWUAAAAAAAGBZQAAAAAAAYFlAAAAAAADwWEAAAAAAAABZQAAAAAAAYFlAAAAAAABAWUAAAAAAAKBZQAAAAAAA0FhAAAAAAADQWEAAAAAAAIBYQAAAAAAAgFpAAAAAAADAWkAAAAAAAEBaQAAAAAAA8FhAAAAAAAAAWUAAAAAAACBaQAAAAAAAYFpAAAAAAACAW0AAAAAAAKBbQAAAAAAAwFtAAAAAAACAW0AAAAAAAGBbQAAAAAAAwFtAAAAAAAAAXEAAAAAAAMBcQAAAAAAAAF1AAAAAAADQYEAAAAAAAEBhQAAAAAAAAGJAAAAAAACwYUAAAAAAACBiQAAAAAAAAGJAAAAAAADgYUAAAAAAADBiQAAAAAAAAGJAAAAAAADAYkAAAAAAAOBiQAAAAAAAgGJAAAAAAADAYkAAAAAAAJBiQAAAAAAAkGJAAAAAAABgYkAAAAAAAGBjQAAAAAAAkGNAAAAAAAAQY0AAAAAAAOBiQAAAAAAAkGJAAAAAAABAYkAAAAAAALBiQAAAAAAAIGNAAAAAAABgY0AAAAAAAABjQAAAAAAA0GNAAAAAAABAY0AAAAAAADBjQAAAAAAAwGJAAAAAAADQYkAAAAAAABBjQAAAAAAAAGNAAAAAAACgYkAAAAAAAIBiQAAAAAAAcGJAAAAAAACwYkAAAAAAAJBjQAAAAAAAwGNAAAAAAAAQZEAAAAAAALBkQAAAAAAAkGRAAAAAAACgZEAAAAAAAJBkQAAAAAAAYGRAAAAAAABgZUAAAAAAAABlQAAAAAAAwGRAAAAAAACAZEAAAAAAAFBkQAAAAAAAoGRA",
          "dtype": "f8"
         },
         "low": {
          "bdata": "AAAAAADQVkAAAAAAAPBXQAAAAAAAYFdAAAAAAABAWEAAAAAAAMBYQAAAAAAA8FhAAAAAAABAWEAAAAAAAOBXQAAAAAAAUFhAAAAAAACAWEAAAAAAAHBYQAAAAAAAMFhAAAAAAAAwWEAAAAAAANBXQAAAAAAAsFhAAAAAAAAAWkAAAAAAAMBYQAAAAAAA8FdAAAAAAAAAV0AAAAAAAEBYQAAAAAAAoFlAAAAAAABAWkAAAAAAAMBaQAAAAAAAYFpAAAAAAADAWkAAAAAAAGBaQAAAAAAAAFtAAAAAAAAAW0AAAAAAAMBbQAAAAAAAIFxAAAAAAADgXEAAAAAAAFBgQAAAAAAA4GBAAAAAAADgYEAAAAAAAHBhQAAAAAAAcGFAAAAAAAAwYUAAAAAAAHBhQAAAAAAAwGFAAAAAAADAYUAAAAAAAMBhQAAAAAAAwGFAAAAAAABgYkAAAAAAACBiQAAAAAAAMGJAAAAAAADgYUAAAAAAAGBiQAAAAAAA4GJAAAAAAACQYkAAAAAAAHBiQAAAAAAAQGJAAAAAAACQYUAAAAAAACBiQAAAAAAAYGJAAAAAAADwYkAAAAAAAKBiQAAAAAAAwGJAAAAAAADAYkAAAAAAAKBiQAAAAAAAgGJAAAAAAABgYkAAAAAAAIBiQAAAAAAAMGJAAAAAAABQYkAAAAAAAKBhQAAAAAAA0GFAAAAAAABAYkAAAAAAAIBiQAAAAAAAUGNAAAAAAABgY0AAAAAAAABkQAAAAAAAIGRAAAAAAADwY0AAAAAAACBkQAAAAAAAAGRAAAAAAABgZEAAAAAAADBkQAAAAAAAUGRAAAAAAACwY0AAAAAAANBjQAAAAAAAwGNA",
          "dtype": "f8"
         },
         "name": "Candlestick",
         "open": {
          "bdata": "AAAAAABgWUAAAAAAAEBYQAAAAAAAUFhAAAAAAABAWEAAAAAAAPBYQAAAAAAAQFlAAAAAAADQWEAAAAAAAABYQAAAAAAAoFhAAAAAAABAWUAAAAAAAIBYQAAAAAAAMFhAAAAAAACAWEAAAAAAAEBYQAAAAAAAwFhAAAAAAAAAWkAAAAAAAEBaQAAAAAAA8FhAAAAAAABAWEAAAAAAAIBYQAAAAAAAAFpAAAAAAACAWkAAAAAAAIBbQAAAAAAAoFpAAAAAAAAAW0AAAAAAACBbQAAAAAAAQFtAAAAAAAAgW0AAAAAAAEBcQAAAAAAAoFxAAAAAAADgXEAAAAAAAGBgQAAAAAAA4GFAAAAAAABgYUAAAAAAAJBhQAAAAAAAwGFAAAAAAABAYUAAAAAAAABiQAAAAAAAAGJAAAAAAAAgYkAAAAAAALBiQAAAAAAA8GFAAAAAAACgYkAAAAAAAJBiQAAAAAAAYGJAAAAAAAAwYkAAAAAAAHBiQAAAAAAAMGNAAAAAAAAAY0AAAAAAALBiQAAAAAAAkGJAAAAAAAAQYkAAAAAAAEBiQAAAAAAAgGJAAAAAAAAwY0AAAAAAAOBiQAAAAAAA4GJAAAAAAAAgY0AAAAAAAMBiQAAAAAAAoGJAAAAAAADQYkAAAAAAAJBiQAAAAAAA8GJAAAAAAABwYkAAAAAAAIBiQAAAAAAA4GFAAAAAAACAYkAAAAAAAIBiQAAAAAAAkGNAAAAAAACgY0AAAAAAAEBkQAAAAAAAMGRAAAAAAACgZEAAAAAAAIBkQAAAAAAAUGRAAAAAAABgZEAAAAAAAOBkQAAAAAAAgGRAAAAAAABgZEAAAAAAAABkQAAAAAAAMGRA",
          "dtype": "f8"
         },
         "type": "candlestick",
         "x": [
          "2025-06-04T00:00:00.000000000",
          "2025-06-05T00:00:00.000000000",
          "2025-06-06T00:00:00.000000000",
          "2025-06-09T00:00:00.000000000",
          "2025-06-10T00:00:00.000000000",
          "2025-06-11T00:00:00.000000000",
          "2025-06-12T00:00:00.000000000",
          "2025-06-13T00:00:00.000000000",
          "2025-06-16T00:00:00.000000000",
          "2025-06-17T00:00:00.000000000",
          "2025-06-18T00:00:00.000000000",
          "2025-06-19T00:00:00.000000000",
          "2025-06-20T00:00:00.000000000",
          "2025-06-23T00:00:00.000000000",
          "2025-06-24T00:00:00.000000000",
          "2025-06-25T00:00:00.000000000",
          "2025-06-26T00:00:00.000000000",
          "2025-06-27T00:00:00.000000000",
          "2025-06-30T00:00:00.000000000",
          "2025-07-01T00:00:00.000000000",
          "2025-07-02T00:00:00.000000000",
          "2025-07-03T00:00:00.000000000",
          "2025-07-04T00:00:00.000000000",
          "2025-07-07T00:00:00.000000000",
          "2025-07-08T00:00:00.000000000",
          "2025-07-09T00:00:00.000000000",
          "2025-07-11T00:00:00.000000000",
          "2025-07-14T00:00:00.000000000",
          "2025-07-15T00:00:00.000000000",
          "2025-07-16T00:00:00.000000000",
          "2025-07-17T00:00:00.000000000",
          "2025-07-18T00:00:00.000000000",
          "2025-07-21T00:00:00.000000000",
          "2025-07-22T00:00:00.000000000",
          "2025-07-23T00:00:00.000000000",
          "2025-07-24T00:00:00.000000000",
          "2025-07-25T00:00:00.000000000",
          "2025-07-29T00:00:00.000000000",
          "2025-07-30T00:00:00.000000000",
          "2025-07-31T00:00:00.000000000",
          "2025-08-01T00:00:00.000000000",
          "2025-08-04T00:00:00.000000000",
          "2025-08-05T00:00:00.000000000",
          "2025-08-06T00:00:00.000000000",
          "2025-08-07T00:00:00.000000000",
          "2025-08-08T00:00:00.000000000",
          "2025-08-13T00:00:00.000000000",
          "2025-08-14T00:00:00.000000000",
          "2025-08-15T00:00:00.000000000",
          "2025-08-18T00:00:00.000000000",
          "2025-08-19T00:00:00.000000000",
          "2025-08-20T00:00:00.000000000",
          "2025-08-21T00:00:00.000000000",
          "2025-08-22T00:00:00.000000000",
          "2025-08-25T00:00:00.000000000",
          "2025-08-26T00:00:00.000000000",
          "2025-08-27T00:00:00.000000000",
          "2025-08-28T00:00:00.000000000",
          "2025-08-29T00:00:00.000000000",
          "2025-09-01T00:00:00.000000000",
          "2025-09-02T00:00:00.000000000",
          "2025-09-03T00:00:00.000000000",
          "2025-09-04T00:00:00.000000000",
          "2025-09-05T00:00:00.000000000",
          "2025-09-08T00:00:00.000000000",
          "2025-09-09T00:00:00.000000000",
          "2025-09-10T00:00:00.000000000",
          "2025-09-11T00:00:00.000000000",
          "2025-09-12T00:00:00.000000000",
          "2025-09-15T00:00:00.000000000",
          "2025-09-16T00:00:00.000000000",
          "2025-09-17T00:00:00.000000000",
          "2025-09-18T00:00:00.000000000",
          "2025-09-19T00:00:00.000000000",
          "2025-09-22T00:00:00.000000000",
          "2025-09-23T00:00:00.000000000",
          "2025-09-24T00:00:00.000000000",
          "2025-09-25T00:00:00.000000000",
          "2025-09-26T00:00:00.000000000",
          "2025-09-29T00:00:00.000000000",
          "2025-09-30T00:00:00.000000000"
         ]
        },
        {
         "line": {
          "color": "blue",
          "width": 2
         },
         "mode": "lines",
         "name": "EMA5",
         "type": "scatter",
         "x": [
          "2025-06-04T00:00:00.000000000",
          "2025-06-05T00:00:00.000000000",
          "2025-06-06T00:00:00.000000000",
          "2025-06-09T00:00:00.000000000",
          "2025-06-10T00:00:00.000000000",
          "2025-06-11T00:00:00.000000000",
          "2025-06-12T00:00:00.000000000",
          "2025-06-13T00:00:00.000000000",
          "2025-06-16T00:00:00.000000000",
          "2025-06-17T00:00:00.000000000",
          "2025-06-18T00:00:00.000000000",
          "2025-06-19T00:00:00.000000000",
          "2025-06-20T00:00:00.000000000",
          "2025-06-23T00:00:00.000000000",
          "2025-06-24T00:00:00.000000000",
          "2025-06-25T00:00:00.000000000",
          "2025-06-26T00:00:00.000000000",
          "2025-06-27T00:00:00.000000000",
          "2025-06-30T00:00:00.000000000",
          "2025-07-01T00:00:00.000000000",
          "2025-07-02T00:00:00.000000000",
          "2025-07-03T00:00:00.000000000",
          "2025-07-04T00:00:00.000000000",
          "2025-07-07T00:00:00.000000000",
          "2025-07-08T00:00:00.000000000",
          "2025-07-09T00:00:00.000000000",
          "2025-07-11T00:00:00.000000000",
          "2025-07-14T00:00:00.000000000",
          "2025-07-15T00:00:00.000000000",
          "2025-07-16T00:00:00.000000000",
          "2025-07-17T00:00:00.000000000",
          "2025-07-18T00:00:00.000000000",
          "2025-07-21T00:00:00.000000000",
          "2025-07-22T00:00:00.000000000",
          "2025-07-23T00:00:00.000000000",
          "2025-07-24T00:00:00.000000000",
          "2025-07-25T00:00:00.000000000",
          "2025-07-29T00:00:00.000000000",
          "2025-07-30T00:00:00.000000000",
          "2025-07-31T00:00:00.000000000",
          "2025-08-01T00:00:00.000000000",
          "2025-08-04T00:00:00.000000000",
          "2025-08-05T00:00:00.000000000",
          "2025-08-06T00:00:00.000000000",
          "2025-08-07T00:00:00.000000000",
          "2025-08-08T00:00:00.000000000",
          "2025-08-13T00:00:00.000000000",
          "2025-08-14T00:00:00.000000000",
          "2025-08-15T00:00:00.000000000",
          "2025-08-18T00:00:00.000000000",
          "2025-08-19T00:00:00.000000000",
          "2025-08-20T00:00:00.000000000",
          "2025-08-21T00:00:00.000000000",
          "2025-08-22T00:00:00.000000000",
          "2025-08-25T00:00:00.000000000",
          "2025-08-26T00:00:00.000000000",
          "2025-08-27T00:00:00.000000000",
          "2025-08-28T00:00:00.000000000",
          "2025-08-29T00:00:00.000000000",
          "2025-09-01T00:00:00.000000000",
          "2025-09-02T00:00:00.000000000",
          "2025-09-03T00:00:00.000000000",
          "2025-09-04T00:00:00.000000000",
          "2025-09-05T00:00:00.000000000",
          "2025-09-08T00:00:00.000000000",
          "2025-09-09T00:00:00.000000000",
          "2025-09-10T00:00:00.000000000",
          "2025-09-11T00:00:00.000000000",
          "2025-09-12T00:00:00.000000000",
          "2025-09-15T00:00:00.000000000",
          "2025-09-16T00:00:00.000000000",
          "2025-09-17T00:00:00.000000000",
          "2025-09-18T00:00:00.000000000",
          "2025-09-19T00:00:00.000000000",
          "2025-09-22T00:00:00.000000000",
          "2025-09-23T00:00:00.000000000",
          "2025-09-24T00:00:00.000000000",
          "2025-09-25T00:00:00.000000000",
          "2025-09-26T00:00:00.000000000",
          "2025-09-29T00:00:00.000000000",
          "2025-09-30T00:00:00.000000000"
         ],
         "y": {
          "bdata": "AAAAAACgV0BWVVVVVeVXQDqO4ziO41dAfAntJbQ3WEBUBp5uzW9YQDgEFJ8ztVhAfK1iv3eTWEBUHpd/+qxYQDgUuv+myFhAew18qsTFWECos1Icg65YQHEiN2hXpFhA9hZ6RTqYWED6uaaD0WpYQFLRGa2L/FhANzYRHl1oWUB7eQsUPjBZQKj7XA3UylhAxqfoCDiHWEDab/AF0ARZQOef9QPgbVlARhX5V5UeWkDauFDluIlaQOcli0N75lpA8MNcgqf5WkCgguhWGtFaQMABm+Rm61pA1qu87ZlHW0Dkx32eZrpbQJjaUxTvBlxAEOc3uPS5XUALmnolo0ZfQATeKLeLN2BAA5RwzweFYEBYDUuKWvNgQDteh7GRJ2FA0j5adrZfYUDiKTykeYphQEJxfW2msWFA16BTnhnhYUCQwDcUEdZhQAsrJbhgCWJAXccY0JUrYkDphBDgY0JiQJxYYJVCTGJAEztADtcyYkC4fNVej4xiQCZTjpRfqGJAxIwJY+qqYkCDCLHsRpdiQK0FdkgvemJAyQOkhR9cYkAxrcIDFVhiQCEe11djhWJAFhQ65ey4YkC6YtGYSLtiQNJBNruF52JAN4F5J1naYkB6q/vEkNFiQPwc/S0LwWJA/r2oHrKgYkCqfnAUzLViQBz/SrgyiWJAE6rcesyAYkANHJP8MktiQAlot/0hQmJAsZrPU8FWYkB2vN831qliQPrSPyXk+2JAUjfVGJhSY0DiJI4QEJdjQELDXmC11GNA1yw/QM79Y0CQyNQqNAlkQLaFOMciFmRAJFnQhGxZZEAY5opYSGZkQGaZXJCFeWRARGboClk2ZEDY7ppcOzRkQDufvD3SEmRA",
          "dtype": "f8"
         }
        },
        {
         "line": {
          "color": "orange",
          "width": 2
         },
         "mode": "lines",
         "name": "EMA15",
         "type": "scatter",
         "x": [
          "2025-06-04T00:00:00.000000000",
          "2025-06-05T00:00:00.000000000",
          "2025-06-06T00:00:00.000000000",
          "2025-06-09T00:00:00.000000000",
          "2025-06-10T00:00:00.000000000",
          "2025-06-11T00:00:00.000000000",
          "2025-06-12T00:00:00.000000000",
          "2025-06-13T00:00:00.000000000",
          "2025-06-16T00:00:00.000000000",
          "2025-06-17T00:00:00.000000000",
          "2025-06-18T00:00:00.000000000",
          "2025-06-19T00:00:00.000000000",
          "2025-06-20T00:00:00.000000000",
          "2025-06-23T00:00:00.000000000",
          "2025-06-24T00:00:00.000000000",
          "2025-06-25T00:00:00.000000000",
          "2025-06-26T00:00:00.000000000",
          "2025-06-27T00:00:00.000000000",
          "2025-06-30T00:00:00.000000000",
          "2025-07-01T00:00:00.000000000",
          "2025-07-02T00:00:00.000000000",
          "2025-07-03T00:00:00.000000000",
          "2025-07-04T00:00:00.000000000",
          "2025-07-07T00:00:00.000000000",
          "2025-07-08T00:00:00.000000000",
          "2025-07-09T00:00:00.000000000",
          "2025-07-11T00:00:00.000000000",
          "2025-07-14T00:00:00.000000000",
          "2025-07-15T00:00:00.000000000",
          "2025-07-16T00:00:00.000000000",
          "2025-07-17T00:00:00.000000000",
          "2025-07-18T00:00:00.000000000",
          "2025-07-21T00:00:00.000000000",
          "2025-07-22T00:00:00.000000000",
          "2025-07-23T00:00:00.000000000",
          "2025-07-24T00:00:00.000000000",
          "2025-07-25T00:00:00.000000000",
          "2025-07-29T00:00:00.000000000",
          "2025-07-30T00:00:00.000000000",
          "2025-07-31T00:00:00.000000000",
          "2025-08-01T00:00:00.000000000",
          "2025-08-04T00:00:00.000000000",
          "2025-08-05T00:00:00.000000000",
          "2025-08-06T00:00:00.000000000",
          "2025-08-07T00:00:00.000000000",
          "2025-08-08T00:00:00.000000000",
          "2025-08-13T00:00:00.000000000",
          "2025-08-14T00:00:00.000000000",
          "2025-08-15T00:00:00.000000000",
          "2025-08-18T00:00:00.000000000",
          "2025-08-19T00:00:00.000000000",
          "2025-08-20T00:00:00.000000000",
          "2025-08-21T00:00:00.000000000",
          "2025-08-22T00:00:00.000000000",
          "2025-08-25T00:00:00.000000000",
          "2025-08-26T00:00:00.000000000",
          "2025-08-27T00:00:00.000000000",
          "2025-08-28T00:00:00.000000000",
          "2025-08-29T00:00:00.000000000",
          "2025-09-01T00:00:00.000000000",
          "2025-09-02T00:00:00.000000000",
          "2025-09-03T00:00:00.000000000",
          "2025-09-04T00:00:00.000000000",
          "2025-09-05T00:00:00.000000000",
          "2025-09-08T00:00:00.000000000",
          "2025-09-09T00:00:00.000000000",
          "2025-09-10T00:00:00.000000000",
          "2025-09-11T00:00:00.000000000",
          "2025-09-12T00:00:00.000000000",
          "2025-09-15T00:00:00.000000000",
          "2025-09-16T00:00:00.000000000",
          "2025-09-17T00:00:00.000000000",
          "2025-09-18T00:00:00.000000000",
          "2025-09-19T00:00:00.000000000",
          "2025-09-22T00:00:00.000000000",
          "2025-09-23T00:00:00.000000000",
          "2025-09-24T00:00:00.000000000",
          "2025-09-25T00:00:00.000000000",
          "2025-09-26T00:00:00.000000000",
          "2025-09-29T00:00:00.000000000",
          "2025-09-30T00:00:00.000000000"
         ],
         "y": {
          "bdata": "AAAAAACgV0AAAAAAALpXQAAAAADAvldAAAAAAOjiV0AAAAAAiwJYQAAAAKA5KlhAAAAAbPIuWEAAAIAeFEVYQAAAsJpxXFhAAABaZ+NoWEAAwG76xmtYQADoIBtOcFhAAMu8V0RyWECgMcXM+2VYQGyLLFM8nVhA/vnGyJTRWEC+Gq4vYs9YQGZXuOl1tVhAeUyBLMeeWEDqIvFG7spYQI3+En6Q+VhAu55Qbl5KWUDkioagEo1ZQIi5dUxwz1lAVwLnQoL5WUAMIor6UQpaQMrdOLsHLVpAEcLRw2ZnWkDPiVfrea5aQJWY7K2q7FpAggUvWBWzW0DSJCmtsohcQDgAhFecT11AMYCTzKjtXUArEAGz86NeQCbuoDx1M19AYdAMlQbBX0AqmzXhciBgQMXnDoVkXGBAzApt9NeYYEByad/1vL1gQER8I1cF9GBAvAw/rIQjYUAkK7cWFE1hQMBF4JNxb2FACD1kYYOBYUBntTf1UrlhQLq+kJYo3mFA46a+g2P4YUAG0kYTVwdiQMX33TBsDmJAzDjCqp4QYkCy8WnVihhiQHyzvHp5MWJADB1lS0pPYkBqefgBYV1iQD1queG0eWJA9TyCRX6CYkBW9dF8LopiQKu2N63ojGJA1r+Ql0uHYkDbp54kYpJiQODSCuAVhmJAhHgJJFODYkB0SYi/6G5iQEZAl6cLZ2JAPVikMipqYkA1zU/s5IZiQI7TxU4IqmJAHBntRMfUYkD4dU9cLv5iQDmHxZBoKGNAUtasfltNY0CIO9cOsGdjQBdU/Ay6gGNAlMlcy6KsY0BiMPFxDsdjQFYKs6Ms4mNAC6k8D+fbY0DqE1UtauZjQG1xquec42NA",
          "dtype": "f8"
         }
        },
        {
         "line": {
          "color": "green",
          "width": 2
         },
         "mode": "lines",
         "name": "EMA35",
         "type": "scatter",
         "x": [
          "2025-06-04T00:00:00.000000000",
          "2025-06-05T00:00:00.000000000",
          "2025-06-06T00:00:00.000000000",
          "2025-06-09T00:00:00.000000000",
          "2025-06-10T00:00:00.000000000",
          "2025-06-11T00:00:00.000000000",
          "2025-06-12T00:00:00.000000000",
          "2025-06-13T00:00:00.000000000",
          "2025-06-16T00:00:00.000000000",
          "2025-06-17T00:00:00.000000000",
          "2025-06-18T00:00:00.000000000",
          "2025-06-19T00:00:00.000000000",
          "2025-06-20T00:00:00.000000000",
          "2025-06-23T00:00:00.000000000",
          "2025-06-24T00:00:00.000000000",
          "2025-06-25T00:00:00.000000000",
          "2025-06-26T00:00:00.000000000",
          "2025-06-27T00:00:00.000000000",
          "2025-06-30T00:00:00.000000000",
          "2025-07-01T00:00:00.000000000",
          "2025-07-02T00:00:00.000000000",
          "2025-07-03T00:00:00.000000000",
          "2025-07-04T00:00:00.000000000",
          "2025-07-07T00:00:00.000000000",
          "2025-07-08T00:00:00.000000000",
          "2025-07-09T00:00:00.000000000",
          "2025-07-11T00:00:00.000000000",
          "2025-07-14T00:00:00.000000000",
          "2025-07-15T00:00:00.000000000",
          "2025-07-16T00:00:00.000000000",
          "2025-07-17T00:00:00.000000000",
          "2025-07-18T00:00:00.000000000",
          "2025-07-21T00:00:00.000000000",
          "2025-07-22T00:00:00.000000000",
          "2025-07-23T00:00:00.000000000",
          "2025-07-24T00:00:00.000000000",
          "2025-07-25T00:00:00.000000000",
          "2025-07-29T00:00:00.000000000",
          "2025-07-30T00:00:00.000000000",
          "2025-07-31T00:00:00.000000000",
          "2025-08-01T00:00:00.000000000",
          "2025-08-04T00:00:00.000000000",
          "2025-08-05T00:00:00.000000000",
          "2025-08-06T00:00:00.000000000",
          "2025-08-07T00:00:00.000000000",
          "2025-08-08T00:00:00.000000000",
          "2025-08-13T00:00:00.000000000",
          "2025-08-14T00:00:00.000000000",
          "2025-08-15T00:00:00.000000000",
          "2025-08-18T00:00:00.000000000",
          "2025-08-19T00:00:00.000000000",
          "2025-08-20T00:00:00.000000000",
          "2025-08-21T00:00:00.000000000",
          "2025-08-22T00:00:00.000000000",
          "2025-08-25T00:00:00.000000000",
          "2025-08-26T00:00:00.000000000",
          "2025-08-27T00:00:00.000000000",
          "2025-08-28T00:00:00.000000000",
          "2025-08-29T00:00:00.000000000",
          "2025-09-01T00:00:00.000000000",
          "2025-09-02T00:00:00.000000000",
          "2025-09-03T00:00:00.000000000",
          "2025-09-04T00:00:00.000000000",
          "2025-09-05T00:00:00.000000000",
          "2025-09-08T00:00:00.000000000",
          "2025-09-09T00:00:00.000000000",
          "2025-09-10T00:00:00.000000000",
          "2025-09-11T00:00:00.000000000",
          "2025-09-12T00:00:00.000000000",
          "2025-09-15T00:00:00.000000000",
          "2025-09-16T00:00:00.000000000",
          "2025-09-17T00:00:00.000000000",
          "2025-09-18T00:00:00.000000000",
          "2025-09-19T00:00:00.000000000",
          "2025-09-22T00:00:00.000000000",
          "2025-09-23T00:00:00.000000000",
          "2025-09-24T00:00:00.000000000",
          "2025-09-25T00:00:00.000000000",
          "2025-09-26T00:00:00.000000000",
          "2025-09-29T00:00:00.000000000",
          "2025-09-30T00:00:00.000000000"
         ],
         "y": {
          "bdata": "AAAAAACgV0A5juM4jqtXQP2wSBl4rldARG42bXG/V0CxS+xYec9XQJkOGJvy41dAc7iWWfPpV0Clyiq4nvdXQJxNYcpOBlhAMAIjv58QWEARgr3CzxZYQIGlXVSLHVhAwTjKlgMjWEB+btsq9SFYQMwEQRpLPlhAh4QEJ9VaWEDx7i76c2BYQAA3ZTMYW1hAnF5RoghWWECTZzDSsm1YQGBFEaqah1hAMGzXLtmxWECfAq/I99dYQAhmbHaG/1hAI9KCGsYdWUBa/5f8czFZQLhUAYvtTFlAWCW6H1JzWUB+sWg6eKBZQPf8KTccy1lAeFJSwmEzWkBxMWpwo6daQLIunQbFGltAGqwiv2SAW0Dg9y5f7fNbQP4iHmjuWVxAt8txKWHBXED0I5bD2yRdQNha8cZdhl1Ad4DHdJHpXUBwwBFgCTleQBSLgkyll15Ay5/Qq//wXkDOz7Y+Y0VfQHxSV4JPk19A582n3jzSX0BX6Hm+nBhgQDbNHUIiQGBAeuyNBctiYECstLCh+H9gQGkctZjcmGBAY37Hc5euYEDs2ljtx8VgQMLODJmu42BARsM2O3oDYUAYY15ULBxhQF3PA6WbOmFAEdIRqj1QYUBmRi0ErGRhQJmJnK4wdmFA9IE++i2DYUBKXpD6jpZhQCog+kEVn2FA0zpshbCqYUCPN+a2pq1hQHk0S5DktGFAj7HxMi3AYUCVYKuTY9ZhQFSik9LP72FAiKcZ1ScNYkCrOpiepSpiQL6MAaQqSWJA7ATlmv1lYkDDS9j1i35iQP9jE6GglmJAcN517SW3YkBqp0Rgh9BiQMdIXfdG6mJAn/0QBkP1YkBsKNdMvwZjQJ7Cro/tEWNA",
          "dtype": "f8"
         }
        },
        {
         "line": {
          "color": "purple",
          "width": 2
         },
         "mode": "lines",
         "name": "EMA89",
         "type": "scatter",
         "x": [
          "2025-06-04T00:00:00.000000000",
          "2025-06-05T00:00:00.000000000",
          "2025-06-06T00:00:00.000000000",
          "2025-06-09T00:00:00.000000000",
          "2025-06-10T00:00:00.000000000",
          "2025-06-11T00:00:00.000000000",
          "2025-06-12T00:00:00.000000000",
          "2025-06-13T00:00:00.000000000",
          "2025-06-16T00:00:00.000000000",
          "2025-06-17T00:00:00.000000000",
          "2025-06-18T00:00:00.000000000",
          "2025-06-19T00:00:00.000000000",
          "2025-06-20T00:00:00.000000000",
          "2025-06-23T00:00:00.000000000",
          "2025-06-24T00:00:00.000000000",
          "2025-06-25T00:00:00.000000000",
          "2025-06-26T00:00:00.000000000",
          "2025-06-27T00:00:00.000000000",
          "2025-06-30T00:00:00.000000000",
          "2025-07-01T00:00:00.000000000",
          "2025-07-02T00:00:00.000000000",
          "2025-07-03T00:00:00.000000000",
          "2025-07-04T00:00:00.000000000",
          "2025-07-07T00:00:00.000000000",
          "2025-07-08T00:00:00.000000000",
          "2025-07-09T00:00:00.000000000",
          "2025-07-11T00:00:00.000000000",
          "2025-07-14T00:00:00.000000000",
          "2025-07-15T00:00:00.000000000",
          "2025-07-16T00:00:00.000000000",
          "2025-07-17T00:00:00.000000000",
          "2025-07-18T00:00:00.000000000",
          "2025-07-21T00:00:00.000000000",
          "2025-07-22T00:00:00.000000000",
          "2025-07-23T00:00:00.000000000",
          "2025-07-24T00:00:00.000000000",
          "2025-07-25T00:00:00.000000000",
          "2025-07-29T00:00:00.000000000",
          "2025-07-30T00:00:00.000000000",
          "2025-07-31T00:00:00.000000000",
          "2025-08-01T00:00:00.000000000",
          "2025-08-04T00:00:00.000000000",
          "2025-08-05T00:00:00.000000000",
          "2025-08-06T00:00:00.000000000",
          "2025-08-07T00:00:00.000000000",
          "2025-08-08T00:00:00.000000000",
          "2025-08-13T00:00:00.000000000",
          "2025-08-14T00:00:00.000000000",
          "2025-08-15T00:00:00.000000000",
          "2025-08-18T00:00:00.000000000",
          "2025-08-19T00:00:00.000000000",
          "2025-08-20T00:00:00.000000000",
          "2025-08-21T00:00:00.000000000",
          "2025-08-22T00:00:00.000000000",
          "2025-08-25T00:00:00.000000000",
          "2025-08-26T00:00:00.000000000",
          "2025-08-27T00:00:00.000000000",
          "2025-08-28T00:00:00.000000000",
          "2025-08-29T00:00:00.000000000",
          "2025-09-01T00:00:00.000000000",
          "2025-09-02T00:00:00.000000000",
          "2025-09-03T00:00:00.000000000",
          "2025-09-04T00:00:00.000000000",
          "2025-09-05T00:00:00.000000000",
          "2025-09-08T00:00:00.000000000",
          "2025-09-09T00:00:00.000000000",
          "2025-09-10T00:00:00.000000000",
          "2025-09-11T00:00:00.000000000",
          "2025-09-12T00:00:00.000000000",
          "2025-09-15T00:00:00.000000000",
          "2025-09-16T00:00:00.000000000",
          "2025-09-17T00:00:00.000000000",
          "2025-09-18T00:00:00.000000000",
          "2025-09-19T00:00:00.000000000",
          "2025-09-22T00:00:00.000000000",
          "2025-09-23T00:00:00.000000000",
          "2025-09-24T00:00:00.000000000",
          "2025-09-25T00:00:00.000000000",
          "2025-09-26T00:00:00.000000000",
          "2025-09-29T00:00:00.000000000",
          "2025-09-30T00:00:00.000000000"
         ],
         "y": {
          "bdata": "AAAAAACgV0BJn/RJn6RXQICyHBXxpVdAbOeeueusV0CcNx6qvrNXQIezmuqMvFdAGJORvdO/V0AiisEfO8ZXQBbiDB80zVdABCfwXJnSV0CS51bSc9ZXQBeNk2GT2ldASd8pdkDeV0AlAjp5W99XQJbU/+0r7FdAjNX/h2n5V0DkPGZG0/1XQMPJi6Xf/VdA+MpPvuv9V0AJBU5IWAlYQDv/rOvvFVhA+7rnXVwpWECJFxBFpDtYQHQzh0PwTlhAiMBnTfZeWECWEVr2EmtYQLqZ4PB4elhAYaeRoYGOWEB8y5mSpqVYQPFrTNlHvFhAMLlK/AHsWECV4nANySFZQAmwaFGAWFlAgbcWIiiLWUBR7HZDgsRZQKQlUvK9+VlAUVJQ+KIwWkD/fZi/BWdaQBBZfjifnVpAaqydQtrVWkDCgO8NJQdbQH4XfuspP1tA0Jl1GfB1W0B7As6sfqtbQDnP1IYm31tAqYCRP2QNXEARwmDM00hcQEPrWPWsflxAA4vwpTGxXEAOqmLEvt9cQEBLiO0gC11A6Z41MiA0XUBF1JpeWF5dQHEI58IGjl1AepbnE36/XUDjqXC4l+tdQKqJedZmHF5ARTEn7m9GXkCpAizjiW9eQKW4MO9Nll5A2q7lRF25XkBHpfGBVeFeQBh0xN+XAF9A7zKHlgAiX0C8IHPXRDxfQGiGuuOBWV9AiEpK06Z5X0CL80J5U6JfQCLuuPOmzV9A+QpDOEj8X0DgMuImphVgQOwJu4azLWBAynX1EThFYEAKUerBJVtgQGXM6rfxcGBAzxG47CqKYEBZAA+BsqBgQJtEqPVvt2BAAzJPt1bIYEA2KwmAtdtgQAFBqPSD7GBA",
          "dtype": "f8"
         }
        },
        {
         "line": {
          "color": "red",
          "width": 2
         },
         "mode": "lines",
         "name": "EMA200",
         "type": "scatter",
         "x": [
          "2025-06-04T00:00:00.000000000",
          "2025-06-05T00:00:00.000000000",
          "2025-06-06T00:00:00.000000000",
          "2025-06-09T00:00:00.000000000",
          "2025-06-10T00:00:00.000000000",
          "2025-06-11T00:00:00.000000000",
          "2025-06-12T00:00:00.000000000",
          "2025-06-13T00:00:00.000000000",
          "2025-06-16T00:00:00.000000000",
          "2025-06-17T00:00:00.000000000",
          "2025-06-18T00:00:00.000000000",
          "2025-06-19T00:00:00.000000000",
          "2025-06-20T00:00:00.000000000",
          "2025-06-23T00:00:00.000000000",
          "2025-06-24T00:00:00.000000000",
          "2025-06-25T00:00:00.000000000",
          "2025-06-26T00:00:00.000000000",
          "2025-06-27T00:00:00.000000000",
          "2025-06-30T00:00:00.000000000",
          "2025-07-01T00:00:00.000000000",
          "2025-07-02T00:00:00.000000000",
          "2025-07-03T00:00:00.000000000",
          "2025-07-04T00:00:00.000000000",
          "2025-07-07T00:00:00.000000000",
          "2025-07-08T00:00:00.000000000",
          "2025-07-09T00:00:00.000000000",
          "2025-07-11T00:00:00.000000000",
          "2025-07-14T00:00:00.000000000",
          "2025-07-15T00:00:00.000000000",
          "2025-07-16T00:00:00.000000000",
          "2025-07-17T00:00:00.000000000",
          "2025-07-18T00:00:00.000000000",
          "2025-07-21T00:00:00.000000000",
          "2025-07-22T00:00:00.000000000",
          "2025-07-23T00:00:00.000000000",
          "2025-07-24T00:00:00.000000000",
          "2025-07-25T00:00:00.000000000",
          "2025-07-29T00:00:00.000000000",
          "2025-07-30T00:00:00.000000000",
          "2025-07-31T00:00:00.000000000",
          "2025-08-01T00:00:00.000000000",
          "2025-08-04T00:00:00.000000000",
          "2025-08-05T00:00:00.000000000",
          "2025-08-06T00:00:00.000000000",
          "2025-08-07T00:00:00.000000000",
          "2025-08-08T00:00:00.000000000",
          "2025-08-13T00:00:00.000000000",
          "2025-08-14T00:00:00.000000000",
          "2025-08-15T00:00:00.000000000",
          "2025-08-18T00:00:00.000000000",
          "2025-08-19T00:00:00.000000000",
          "2025-08-20T00:00:00.000000000",
          "2025-08-21T00:00:00.000000000",
          "2025-08-22T00:00:00.000000000",
          "2025-08-25T00:00:00.000000000",
          "2025-08-26T00:00:00.000000000",
          "2025-08-27T00:00:00.000000000",
          "2025-08-28T00:00:00.000000000",
          "2025-08-29T00:00:00.000000000",
          "2025-09-01T00:00:00.000000000",
          "2025-09-02T00:00:00.000000000",
          "2025-09-03T00:00:00.000000000",
          "2025-09-04T00:00:00.000000000",
          "2025-09-05T00:00:00.000000000",
          "2025-09-08T00:00:00.000000000",
          "2025-09-09T00:00:00.000000000",
          "2025-09-10T00:00:00.000000000",
          "2025-09-11T00:00:00.000000000",
          "2025-09-12T00:00:00.000000000",
          "2025-09-15T00:00:00.000000000",
          "2025-09-16T00:00:00.000000000",
          "2025-09-17T00:00:00.000000000",
          "2025-09-18T00:00:00.000000000",
          "2025-09-19T00:00:00.000000000",
          "2025-09-22T00:00:00.000000000",
          "2025-09-23T00:00:00.000000000",
          "2025-09-24T00:00:00.000000000",
          "2025-09-25T00:00:00.000000000",
          "2025-09-26T00:00:00.000000000",
          "2025-09-29T00:00:00.000000000",
          "2025-09-30T00:00:00.000000000"
         ],
         "y": {
          "bdata": "AAAAAACgV0D3TrLUEaJXQFUgcpWvoldAglXU3delV0B3w00b+KhXQHNf6OsErVdAdBiXE6SuV0CngBforbFXQEVscIIBtVdAKkEpnam3V0CVGxztp7lXQGcgwOrJu1dAvkMEuL29V0DU8gJBj75XQDttzaifxFdA7TdkIfLKV0DCWRlZYs1XQMK+p0fjzVdA3bzJ7WLOV0BK5rWB+dNXQFU58d8k2ldABqXypm/jV0CFZ2U/UexXQPPqwz6/9VdAa1dPLM/9V0Dnx5AAMwRYQAt82h0eDFhAacPVpS8WWEB93RUYvyFYQGiD2BcxLVhADLXAYvxDWEBvvXi9vF1YQP0jRwkweFhAvTYS6BmRWEBbncXzRK1YQFozTTLix1hAGBhwsoHjWEAMIshYLP9YQLAFHowzG1lAq7YPZzk4WUBcf7s6aVJZQKSAA/3Wb1lA1BHTyPmMWUAqYx1d0qlZQK0ewPMPxllAARidhxzgWUAZbYgARQBaQAPlEXwyHlpAHwU9Mt86WkDBRPHQ/FVaQG489dPgb1pAYsVP3d+IWkDxIi/Ek6JaQLzm987jvlpA03/QxzHcWkA2Gw4ITPdaQN+4NlitFFtAr8whuDcvW0Alh/x8fklbQE9QnkzfYltAJ1dsarl6W0Ad4c/f4pRbQGKp+w1Jq1tA0MhrOrzCW0B0R4kOFtdbQBvGw5vT7FtAtWn8V/EDXECqdpHb9x5cQGyayhdRO1xAx/4GMUtZXEB6xa30m3dcQNBnKwmUllxAEv2/Oj21XEC66M/Io9JcQHk68PUQ8FxASmoa0bMQXUBnVyR3Gi9dQFU+F7PWTV1AV7DP9H1nXUD5SXj3b4NdQKWH37cxnV1A",
          "dtype": "f8"
         }
        },
        {
         "marker": {
          "color": "lightblue"
         },
         "name": "Volume",
         "opacity": 0.5,
         "type": "bar",
         "x": [
          "2025-06-04T00:00:00.000000000",
          "2025-06-05T00:00:00.000000000",
          "2025-06-06T00:00:00.000000000",
          "2025-06-09T00:00:00.000000000",
          "2025-06-10T00:00:00.000000000",
          "2025-06-11T00:00:00.000000000",
          "2025-06-12T00:00:00.000000000",
          "2025-06-13T00:00:00.000000000",
          "2025-06-16T00:00:00.000000000",
          "2025-06-17T00:00:00.000000000",
          "2025-06-18T00:00:00.000000000",
          "2025-06-19T00:00:00.000000000",
          "2025-06-20T00:00:00.000000000",
          "2025-06-23T00:00:00.000000000",
          "2025-06-24T00:00:00.000000000",
          "2025-06-25T00:00:00.000000000",
          "2025-06-26T00:00:00.000000000",
          "2025-06-27T00:00:00.000000000",
          "2025-06-30T00:00:00.000000000",
          "2025-07-01T00:00:00.000000000",
          "2025-07-02T00:00:00.000000000",
          "2025-07-03T00:00:00.000000000",
          "2025-07-04T00:00:00.000000000",
          "2025-07-07T00:00:00.000000000",
          "2025-07-08T00:00:00.000000000",
          "2025-07-09T00:00:00.000000000",
          "2025-07-11T00:00:00.000000000",
          "2025-07-14T00:00:00.000000000",
          "2025-07-15T00:00:00.000000000",
          "2025-07-16T00:00:00.000000000",
          "2025-07-17T00:00:00.000000000",
          "2025-07-18T00:00:00.000000000",
          "2025-07-21T00:00:00.000000000",
          "2025-07-22T00:00:00.000000000",
          "2025-07-23T00:00:00.000000000",
          "2025-07-24T00:00:00.000000000",
          "2025-07-25T00:00:00.000000000",
          "2025-07-29T00:00:00.000000000",
          "2025-07-30T00:00:00.000000000",
          "2025-07-31T00:00:00.000000000",
          "2025-08-01T00:00:00.000000000",
          "2025-08-04T00:00:00.000000000",
          "2025-08-05T00:00:00.000000000",
          "2025-08-06T00:00:00.000000000",
          "2025-08-07T00:00:00.000000000",
          "2025-08-08T00:00:00.000000000",
          "2025-08-13T00:00:00.000000000",
          "2025-08-14T00:00:00.000000000",
          "2025-08-15T00:00:00.000000000",
          "2025-08-18T00:00:00.000000000",
          "2025-08-19T00:00:00.000000000",
          "2025-08-20T00:00:00.000000000",
          "2025-08-21T00:00:00.000000000",
          "2025-08-22T00:00:00.000000000",
          "2025-08-25T00:00:00.000000000",
          "2025-08-26T00:00:00.000000000",
          "2025-08-27T00:00:00.000000000",
          "2025-08-28T00:00:00.000000000",
          "2025-08-29T00:00:00.000000000",
          "2025-09-01T00:00:00.000000000",
          "2025-09-02T00:00:00.000000000",
          "2025-09-03T00:00:00.000000000",
          "2025-09-04T00:00:00.000000000",
          "2025-09-05T00:00:00.000000000",
          "2025-09-08T00:00:00.000000000",
          "2025-09-09T00:00:00.000000000",
          "2025-09-10T00:00:00.000000000",
          "2025-09-11T00:00:00.000000000",
          "2025-09-12T00:00:00.000000000",
          "2025-09-15T00:00:00.000000000",
          "2025-09-16T00:00:00.000000000",
          "2025-09-17T00:00:00.000000000",
          "2025-09-18T00:00:00.000000000",
          "2025-09-19T00:00:00.000000000",
          "2025-09-22T00:00:00.000000000",
          "2025-09-23T00:00:00.000000000",
          "2025-09-24T00:00:00.000000000",
          "2025-09-25T00:00:00.000000000",
          "2025-09-26T00:00:00.000000000",
          "2025-09-29T00:00:00.000000000",
          "2025-09-30T00:00:00.000000000"
         ],
         "y": {
          "bdata": "2nrUAsJl/ADnpOUAbWj1ANKrhAAMHH4A7dKqAB5d3ACaP6cABi6KAOiP+gCAzLsAi1kDAW3K1QDvH2EC7QEKAVy3dgFeEmYBqytAAjiJzwGCRuUAjodjAaQPyQDmvvgAAiMLARMMnQCVzdAA/pSdAKjH0QAu4bQAzP30Ag67rQEkKeMBXJ8DAdzSTgEMqgQBo8YFAQ7BRgFc/pwA7qpgAV9DVQHKdPUAy7iUABBAvgCmTH8AzdWoALwElQEUgtQAjkxpAFHfcgAJCWIAN3LMAKGyhwCS6JoAPEOGAIA3qwBz1UIBQqPDAOlw5wAwXl4AN1ZuAIpjlgBHfrEAusZ6AMD4zgDCKcoAEHOfAN/JMgFgpLEATBvXAFFUxwDrxHQAjOuiAFIMpgAyfF0AFvstAeWq3gASN4kAzqYVAagiAgGUyjIC",
          "dtype": "i4"
         },
         "yaxis": "y2"
        }
       ],
       "layout": {
        "height": 600,
        "template": {
         "data": {
          "bar": [
           {
            "error_x": {
             "color": "#2a3f5f"
            },
            "error_y": {
             "color": "#2a3f5f"
            },
            "marker": {
             "line": {
              "color": "white",
              "width": 0.5
             },
             "pattern": {
              "fillmode": "overlay",
              "size": 10,
              "solidity": 0.2
             }
            },
            "type": "bar"
           }
          ],
          "barpolar": [
           {
            "marker": {
             "line": {
              "color": "white",
              "width": 0.5
             },
             "pattern": {
              "fillmode": "overlay",
              "size": 10,
              "solidity": 0.2
             }
            },
            "type": "barpolar"
           }
          ],
          "carpet": [
           {
            "aaxis": {
             "endlinecolor": "#2a3f5f",
             "gridcolor": "#C8D4E3",
             "linecolor": "#C8D4E3",
             "minorgridcolor": "#C8D4E3",
             "startlinecolor": "#2a3f5f"
            },
            "baxis": {
             "endlinecolor": "#2a3f5f",
             "gridcolor": "#C8D4E3",
             "linecolor": "#C8D4E3",
             "minorgridcolor": "#C8D4E3",
             "startlinecolor": "#2a3f5f"
            },
            "type": "carpet"
           }
          ],
          "choropleth": [
           {
            "colorbar": {
             "outlinewidth": 0,
             "ticks": ""
            },
            "type": "choropleth"
           }
          ],
          "contour": [
           {
            "colorbar": {
             "outlinewidth": 0,
             "ticks": ""
            },
            "colorscale": [
             [
              0,
              "#0d0887"
             ],
             [
              0.1111111111111111,
              "#46039f"
             ],
             [
              0.2222222222222222,
              "#7201a8"
             ],
             [
              0.3333333333333333,
              "#9c179e"
             ],
             [
              0.4444444444444444,
              "#bd3786"
             ],
             [
              0.5555555555555556,
              "#d8576b"
             ],
             [
              0.6666666666666666,
              "#ed7953"
             ],
             [
              0.7777777777777778,
              "#fb9f3a"
             ],
             [
              0.8888888888888888,
              "#fdca26"
             ],
             [
              1,
              "#f0f921"
             ]
            ],
            "type": "contour"
           }
          ],
          "contourcarpet": [
           {
            "colorbar": {
             "outlinewidth": 0,
             "ticks": ""
            },
            "type": "contourcarpet"
           }
          ],
          "heatmap": [
           {
            "colorbar": {
             "outlinewidth": 0,
             "ticks": ""
            },
            "colorscale": [
             [
              0,
              "#0d0887"
             ],
             [
              0.1111111111111111,
              "#46039f"
             ],
             [
              0.2222222222222222,
              "#7201a8"
             ],
             [
              0.3333333333333333,
              "#9c179e"
             ],
             [
              0.4444444444444444,
              "#bd3786"
             ],
             [
              0.5555555555555556,
              "#d8576b"
             ],
             [
              0.6666666666666666,
              "#ed7953"
             ],
             [
              0.7777777777777778,
              "#fb9f3a"
             ],
             [
              0.8888888888888888,
              "#fdca26"
             ],
             [
              1,
              "#f0f921"
             ]
            ],
            "type": "heatmap"
           }
          ],
          "histogram": [
           {
            "marker": {
             "pattern": {
              "fillmode": "overlay",
              "size": 10,
              "solidity": 0.2
             }
            },
            "type": "histogram"
           }
          ],
          "histogram2d": [
           {
            "colorbar": {
             "outlinewidth": 0,
             "ticks": ""
            },
            "colorscale": [
             [
              0,
              "#0d0887"
             ],
             [
              0.1111111111111111,
              "#46039f"
             ],
             [
              0.2222222222222222,
              "#7201a8"
             ],
             [
              0.3333333333333333,
              "#9c179e"
             ],
             [
              0.4444444444444444,
              "#bd3786"
             ],
             [
              0.5555555555555556,
              "#d8576b"
             ],
             [
              0.6666666666666666,
              "#ed7953"
             ],
             [
              0.7777777777777778,
              "#fb9f3a"
             ],
             [
              0.8888888888888888,
              "#fdca26"
             ],
             [
              1,
              "#f0f921"
             ]
            ],
            "type": "histogram2d"
           }
          ],
          "histogram2dcontour": [
           {
            "colorbar": {
             "outlinewidth": 0,
             "ticks": ""
            },
            "colorscale": [
             [
              0,
              "#0d0887"
             ],
             [
              0.1111111111111111,
              "#46039f"
             ],
             [
              0.2222222222222222,
              "#7201a8"
             ],
             [
              0.3333333333333333,
              "#9c179e"
             ],
             [
              0.4444444444444444,
              "#bd3786"
             ],
             [
              0.5555555555555556,
              "#d8576b"
             ],
             [
              0.6666666666666666,
              "#ed7953"
             ],
             [
              0.7777777777777778,
              "#fb9f3a"
             ],
             [
              0.8888888888888888,
              "#fdca26"
             ],
             [
              1,
              "#f0f921"
             ]
            ],
            "type": "histogram2dcontour"
           }
          ],
          "mesh3d": [
           {
            "colorbar": {
             "outlinewidth": 0,
             "ticks": ""
            },
            "type": "mesh3d"
           }
          ],
          "parcoords": [
           {
            "line": {
             "colorbar": {
              "outlinewidth": 0,
              "ticks": ""
             }
            },
            "type": "parcoords"
           }
          ],
          "pie": [
           {
            "automargin": true,
            "type": "pie"
           }
          ],
          "scatter": [
           {
            "fillpattern": {
             "fillmode": "overlay",
             "size": 10,
             "solidity": 0.2
            },
            "type": "scatter"
           }
          ],
          "scatter3d": [
           {
            "line": {
             "colorbar": {
              "outlinewidth": 0,
              "ticks": ""
             }
            },
            "marker": {
             "colorbar": {
              "outlinewidth": 0,
              "ticks": ""
             }
            },
            "type": "scatter3d"
           }
          ],
          "scattercarpet": [
           {
            "marker": {
             "colorbar": {
              "outlinewidth": 0,
              "ticks": ""
             }
            },
            "type": "scattercarpet"
           }
          ],
          "scattergeo": [
           {
            "marker": {
             "colorbar": {
              "outlinewidth": 0,
              "ticks": ""
             }
            },
            "type": "scattergeo"
           }
          ],
          "scattergl": [
           {
            "marker": {
             "colorbar": {
              "outlinewidth": 0,
              "ticks": ""
             }
            },
            "type": "scattergl"
           }
          ],
          "scattermap": [
           {
            "marker": {
             "colorbar": {
              "outlinewidth": 0,
              "ticks": ""
             }
            },
            "type": "scattermap"
           }
          ],
          "scattermapbox": [
           {
            "marker": {
             "colorbar": {
              "outlinewidth": 0,
              "ticks": ""
             }
            },
            "type": "scattermapbox"
           }
          ],
          "scatterpolar": [
           {
            "marker": {
             "colorbar": {
              "outlinewidth": 0,
              "ticks": ""
             }
            },
            "type": "scatterpolar"
           }
          ],
          "scatterpolargl": [
           {
            "marker": {
             "colorbar": {
              "outlinewidth": 0,
              "ticks": ""
             }
            },
            "type": "scatterpolargl"
           }
          ],
          "scatterternary": [
           {
            "marker": {
             "colorbar": {
              "outlinewidth": 0,
              "ticks": ""
             }
            },
            "type": "scatterternary"
           }
          ],
          "surface": [
           {
            "colorbar": {
             "outlinewidth": 0,
             "ticks": ""
            },
            "colorscale": [
             [
              0,
              "#0d0887"
             ],
             [
              0.1111111111111111,
              "#46039f"
             ],
             [
              0.2222222222222222,
              "#7201a8"
             ],
             [
              0.3333333333333333,
              "#9c179e"
             ],
             [
              0.4444444444444444,
              "#bd3786"
             ],
             [
              0.5555555555555556,
              "#d8576b"
             ],
             [
              0.6666666666666666,
              "#ed7953"
             ],
             [
              0.7777777777777778,
              "#fb9f3a"
             ],
             [
              0.8888888888888888,
              "#fdca26"
             ],
             [
              1,
              "#f0f921"
             ]
            ],
            "type": "surface"
           }
          ],
          "table": [
           {
            "cells": {
             "fill": {
              "color": "#EBF0F8"
             },
             "line": {
              "color": "white"
             }
            },
            "header": {
             "fill": {
              "color": "#C8D4E3"
             },
             "line": {
              "color": "white"
             }
            },
            "type": "table"
           }
          ]
         },
         "layout": {
          "annotationdefaults": {
           "arrowcolor": "#2a3f5f",
           "arrowhead": 0,
           "arrowwidth": 1
          },
          "autotypenumbers": "strict",
          "coloraxis": {
           "colorbar": {
            "outlinewidth": 0,
            "ticks": ""
           }
          },
          "colorscale": {
           "diverging": [
            [
             0,
             "#8e0152"
            ],
            [
             0.1,
             "#c51b7d"
            ],
            [
             0.2,
             "#de77ae"
            ],
            [
             0.3,
             "#f1b6da"
            ],
            [
             0.4,
             "#fde0ef"
            ],
            [
             0.5,
             "#f7f7f7"
            ],
            [
             0.6,
             "#e6f5d0"
            ],
            [
             0.7,
             "#b8e186"
            ],
            [
             0.8,
             "#7fbc41"
            ],
            [
             0.9,
             "#4d9221"
            ],
            [
             1,
             "#276419"
            ]
           ],
           "sequential": [
            [
             0,
             "#0d0887"
            ],
            [
             0.1111111111111111,
             "#46039f"
            ],
            [
             0.2222222222222222,
             "#7201a8"
            ],
            [
             0.3333333333333333,
             "#9c179e"
            ],
            [
             0.4444444444444444,
             "#bd3786"
            ],
            [
             0.5555555555555556,
             "#d8576b"
            ],
            [
             0.6666666666666666,
             "#ed7953"
            ],
            [
             0.7777777777777778,
             "#fb9f3a"
            ],
            [
             0.8888888888888888,
             "#fdca26"
            ],
            [
             1,
             "#f0f921"
            ]
           ],
           "sequentialminus": [
            [
             0,
             "#0d0887"
            ],
            [
             0.1111111111111111,
             "#46039f"
            ],
            [
             0.2222222222222222,
             "#7201a8"
            ],
            [
             0.3333333333333333,
             "#9c179e"
            ],
            [
             0.4444444444444444,
             "#bd3786"
            ],
            [
             0.5555555555555556,
             "#d8576b"
            ],
            [
             0.6666666666666666,
             "#ed7953"
            ],
            [
             0.7777777777777778,
             "#fb9f3a"
            ],
            [
             0.8888888888888888,
             "#fdca26"
            ],
            [
             1,
             "#f0f921"
            ]
           ]
          },
          "colorway": [
           "#636efa",
           "#EF553B",
           "#00cc96",
           "#ab63fa",
           "#FFA15A",
           "#19d3f3",
           "#FF6692",
           "#B6E880",
           "#FF97FF",
           "#FECB52"
          ],
          "font": {
           "color": "#2a3f5f"
          },
          "geo": {
           "bgcolor": "white",
           "lakecolor": "white",
           "landcolor": "white",
           "showlakes": true,
           "showland": true,
           "subunitcolor": "#C8D4E3"
          },
          "hoverlabel": {
           "align": "left"
          },
          "hovermode": "closest",
          "mapbox": {
           "style": "light"
          },
          "paper_bgcolor": "white",
          "plot_bgcolor": "white",
          "polar": {
           "angularaxis": {
            "gridcolor": "#EBF0F8",
            "linecolor": "#EBF0F8",
            "ticks": ""
           },
           "bgcolor": "white",
           "radialaxis": {
            "gridcolor": "#EBF0F8",
            "linecolor": "#EBF0F8",
            "ticks": ""
           }
          },
          "scene": {
           "xaxis": {
            "backgroundcolor": "white",
            "gridcolor": "#DFE8F3",
            "gridwidth": 2,
            "linecolor": "#EBF0F8",
            "showbackground": true,
            "ticks": "",
            "zerolinecolor": "#EBF0F8"
           },
           "yaxis": {
            "backgroundcolor": "white",
            "gridcolor": "#DFE8F3",
            "gridwidth": 2,
            "linecolor": "#EBF0F8",
            "showbackground": true,
            "ticks": "",
            "zerolinecolor": "#EBF0F8"
           },
           "zaxis": {
            "backgroundcolor": "white",
            "gridcolor": "#DFE8F3",
            "gridwidth": 2,
            "linecolor": "#EBF0F8",
            "showbackground": true,
            "ticks": "",
            "zerolinecolor": "#EBF0F8"
           }
          },
          "shapedefaults": {
           "line": {
            "color": "#2a3f5f"
           }
          },
          "ternary": {
           "aaxis": {
            "gridcolor": "#DFE8F3",
            "linecolor": "#A2B1C6",
            "ticks": ""
           },
           "baxis": {
            "gridcolor": "#DFE8F3",
            "linecolor": "#A2B1C6",
            "ticks": ""
           },
           "bgcolor": "white",
           "caxis": {
            "gridcolor": "#DFE8F3",
            "linecolor": "#A2B1C6",
            "ticks": ""
           }
          },
          "title": {
           "x": 0.05
          },
          "xaxis": {
           "automargin": true,
           "gridcolor": "#EBF0F8",
           "linecolor": "#EBF0F8",
           "ticks": "",
           "title": {
            "standoff": 15
           },
           "zerolinecolor": "#EBF0F8",
           "zerolinewidth": 2
          },
          "yaxis": {
           "automargin": true,
           "gridcolor": "#EBF0F8",
           "linecolor": "#EBF0F8",
           "ticks": "",
           "title": {
            "standoff": 15
           },
           "zerolinecolor": "#EBF0F8",
           "zerolinewidth": 2
          }
         }
        },
        "title": {
         "text": "DELTA Stock Candlestick Chart with EMA(5,15,35,89,200) and Volume"
        },
        "width": 950,
        "xaxis": {
         "rangeslider": {
          "visible": false
         },
         "title": {
          "text": "Date"
         }
        },
        "yaxis": {
         "domain": [
          0.3,
          1
         ],
         "title": {
          "text": "Price"
         }
        },
        "yaxis2": {
         "domain": [
          0,
          0.25
         ],
         "title": {
          "text": "Volume"
         }
        }
       }
      }
     },
     "metadata": {},
     "output_type": "display_data"
    }
   ],
   "source": [
    "import plotly.graph_objects as go\n",
    "\n",
    "# 🔹 เลือกเฉพาะหุ้น 24CS\n",
    "ohlc_df = df_tn[df_tn[\"symbol\"] == \"DELTA\"].copy()\n",
    "\n",
    "# 🔹 จัดการ index\n",
    "ohlc_df[\"time\"] = pd.to_datetime(ohlc_df[\"time\"])\n",
    "ohlc_df = ohlc_df.sort_values(\"time\")\n",
    "ohlc_df = ohlc_df.set_index(\"time\")\n",
    "ohlc_df.index.name = \"Date\"\n",
    "\n",
    "# 🔹 Rename columns ให้ตรงกับ Plotly\n",
    "ohlc_df = ohlc_df.rename(columns={\n",
    "    \"open_price\": \"Open\",\n",
    "    \"high_price\": \"High\",\n",
    "    \"low_price\": \"Low\",\n",
    "    \"close_price\": \"Close\",\n",
    "    \"volume\": \"Volume\"\n",
    "})\n",
    "\n",
    "# 🔹 เลือกแค่ 200 วันล่าสุด (เพื่อดูง่าย)\n",
    "ohlc_df = ohlc_df.tail(200)\n",
    "\n",
    "# 🔹 คำนวณ EMA\n",
    "for p in [5, 15, 35, 89, 200]:\n",
    "    ohlc_df[f\"EMA{p}\"] = ohlc_df[\"Close\"].ewm(span=p, adjust=False).mean()\n",
    "\n",
    "# ✅ กราฟ Candlestick\n",
    "fig = go.Figure(data=[go.Candlestick(\n",
    "    x=ohlc_df.index,\n",
    "    open=ohlc_df['Open'],\n",
    "    high=ohlc_df['High'],\n",
    "    low=ohlc_df['Low'],\n",
    "    close=ohlc_df['Close'],\n",
    "    name=\"Candlestick\"\n",
    ")])\n",
    "\n",
    "# ✅ เส้น EMA\n",
    "colors = {5:\"blue\", 15:\"orange\", 35:\"green\", 89:\"purple\", 200:\"red\"}\n",
    "for p in [5, 15, 35, 89, 200]:\n",
    "    fig.add_trace(go.Scatter(\n",
    "        x=ohlc_df.index,\n",
    "        y=ohlc_df[f\"EMA{p}\"],\n",
    "        mode=\"lines\",\n",
    "        line=dict(width=2, color=colors[p]),\n",
    "        name=f\"EMA{p}\"\n",
    "    ))\n",
    "\n",
    "# ✅ Volume\n",
    "fig.add_trace(go.Bar(\n",
    "    x=ohlc_df.index,\n",
    "    y=ohlc_df['Volume'],\n",
    "    name=\"Volume\",\n",
    "    marker_color=\"lightblue\",\n",
    "    opacity=0.5,\n",
    "    yaxis=\"y2\"\n",
    "))\n",
    "\n",
    "# ✅ Layout\n",
    "fig.update_layout(\n",
    "    title=\"DELTA Stock Candlestick Chart with EMA(5,15,35,89,200) and Volume\",\n",
    "    yaxis=dict(title=\"Price\", domain=[0.3, 1]),\n",
    "    yaxis2=dict(title=\"Volume\", domain=[0, 0.25]),\n",
    "    xaxis=dict(title=\"Date\"),\n",
    "    xaxis_rangeslider_visible=False,\n",
    "    template=\"plotly_white\",\n",
    "    width=950,\n",
    "    height=600\n",
    ")\n",
    "\n",
    "fig.show()"
   ]
  },
  {
   "cell_type": "markdown",
   "id": "6b7afce1",
   "metadata": {},
   "source": [
    "### Technical Data Grouping\n",
    "\n",
    "We categorize stock market technical signals using **Exponential Moving Averages (EMA)** and **Relative Strength Index (RSI)**.\n",
    "\n",
    "* **a: Strong Momentum / Overbought**\n",
    "\n",
    "  * Condition: `Close ≥ EMA5` **and** `RSI ≥ 70`\n",
    "  * Interpretation: The stock is in an **overbought zone** with very strong upward momentum.\n",
    "\n",
    "* **b: Clear Uptrend**\n",
    "\n",
    "  * Condition: `Close ≥ EMA35` **and** `EMA35 ≥ EMA89`\n",
    "  * Interpretation: The stock is trending upward, showing medium-term bullish strength.\n",
    "\n",
    "* **c: Sideways above EMA89**\n",
    "\n",
    "  * Condition: `Close ≥ EMA89` **and** short-term EMAs (5/15/35/89) are close together:\n",
    "\n",
    "    $$\n",
    "    \\frac{\\max(EMA) - \\min(EMA)}{\\text{mean}(EMA)} \\leq band\\_pct \\quad (default = 1.5\\%)\n",
    "    $$\n",
    "  * Interpretation: The stock is moving **sideways** but remains above the long-term EMA89, indicating consolidation.\n",
    "\n",
    "* **d: Downtrend**\n",
    "\n",
    "  * Condition: `Close < EMA89` **and** `Close < EMA200` **and** `EMA89 < EMA200`\n",
    "  * Interpretation: The stock is in a **bearish trend**, moving below key long-term averages.\n",
    "\n",
    "* **e: Crash**\n",
    "\n",
    "  * Condition: Strong descending order → `Close < EMA5 < EMA15 < EMA35 < EMA89 < EMA200` **and** `RSI ≤ 30`\n",
    "  * Interpretation: The stock is in a **sharp decline (crash)** with strong bearish momentum and oversold conditions.\n",
    "\n",
    "---"
   ]
  },
  {
   "cell_type": "code",
   "execution_count": 9,
   "id": "9dabf9a1",
   "metadata": {},
   "outputs": [],
   "source": [
    "import pandas as pd\n",
    "import numpy as np\n",
    "import ta\n",
    "\n",
    "def compute_technical_grades(df_candle, band_pct=0.015):\n",
    "    df_result = []\n",
    "\n",
    "    for symbol, df_sym in df_candle.groupby('symbol'):\n",
    "        df_sym = df_sym.sort_values('time').copy()\n",
    "        df_sym = df_sym.dropna(subset=['close_price'])\n",
    "\n",
    "        if len(df_sym) < 50:\n",
    "            continue\n",
    "\n",
    "        # ✅ คำนวณ EMA และ RSI\n",
    "        df_sym['ema5']   = df_sym['close_price'].ewm(span=5).mean()\n",
    "        df_sym['ema15']  = df_sym['close_price'].ewm(span=15).mean()\n",
    "        df_sym['ema35']  = df_sym['close_price'].ewm(span=35).mean()\n",
    "        df_sym['ema89']  = df_sym['close_price'].ewm(span=89).mean()\n",
    "        df_sym['ema200'] = df_sym['close_price'].ewm(span=200).mean()\n",
    "        df_sym['rsi']    = ta.momentum.RSIIndicator(close=df_sym['close_price'], window=14).rsi()\n",
    "\n",
    "        df_sym = df_sym.dropna(subset=['ema5','ema15','ema35','ema89','ema200','rsi'])\n",
    "        if df_sym.empty:\n",
    "            continue\n",
    "\n",
    "        # ✅ ใช้ข้อมูลล่าสุด\n",
    "        row = df_sym.iloc[-1]\n",
    "        c, r = row['close_price'], row['rsi']\n",
    "        e5, e15, e35, e89, e200 = row['ema5'], row['ema15'], row['ema35'], row['ema89'], row['ema200']\n",
    "\n",
    "        # ✅ Logic grading\n",
    "        if c >= e5 and r >= 70:\n",
    "            grade = 'a'\n",
    "        elif c >= e35 and e35 >= e89:\n",
    "            grade = 'b'\n",
    "        elif c >= e89 and (max([e5,e15,e35,e89]) - min([e5,e15,e35,e89])) / np.mean([e5,e15,e35,e89]) <= band_pct:\n",
    "            grade = 'c'\n",
    "        elif c < e89 and c < e200 and e89 < e200:\n",
    "            grade = 'd'\n",
    "        elif c < e5 < e15 < e35 < e89 < e200 and r <= 30:\n",
    "            grade = 'e'\n",
    "        else:\n",
    "            grade = 'c'\n",
    "\n",
    "        # ✅ บันทึกค่าทั้งหมด รวม EMA และ RSI\n",
    "        df_result.append({\n",
    "            'symbol': symbol,\n",
    "            'time': row['time'],\n",
    "            'close_price': row['close_price'],\n",
    "            'high_price': row['high_price'],\n",
    "            'low_price': row['low_price'],\n",
    "            'open_price': row['open_price'],\n",
    "            'value': row['value'],\n",
    "            'ema5': e5,\n",
    "            'ema15': e15,\n",
    "            'ema35': e35,\n",
    "            'ema89': e89,\n",
    "            'ema200': e200,\n",
    "            'rsi': r,\n",
    "            'trend_grade': grade\n",
    "        })\n",
    "\n",
    "    return pd.DataFrame(df_result)\n"
   ]
  },
  {
   "cell_type": "code",
   "execution_count": 10,
   "id": "d98228b0",
   "metadata": {},
   "outputs": [],
   "source": [
    "df_result = compute_technical_grades(df_tn) "
   ]
  },
  {
   "cell_type": "markdown",
   "id": "ae5f4de6",
   "metadata": {},
   "source": [
    "### ✅ **1. EMA (Exponential Moving Average)**\n",
    "\n",
    "> ใช้เพื่อบ่งบอกแนวโน้ม (trend) ของราคาหุ้นในช่วงเวลาต่าง ๆ\n",
    "\n",
    "| ค่า        | สูตร / ความหมาย                              | ใช้สำหรับ                                    |\n",
    "| ---------- | -------------------------------------------- | -------------------------------------------- |\n",
    "| **ema5**   | ค่าเฉลี่ยเคลื่อนที่แบบเอ็กซ์โปเนนเชียล 5 วัน | แนวโน้มระยะสั้นมาก                           |\n",
    "| **ema15**  | ค่าเฉลี่ยเคลื่อนที่ 15 วัน                   | แนวโน้มระยะสั้น                              |\n",
    "| **ema35**  | ค่าเฉลี่ยเคลื่อนที่ 35 วัน                   | แนวโน้มระยะกลาง                              |\n",
    "| **ema89**  | ค่าเฉลี่ยเคลื่อนที่ 89 วัน                   | แนวโน้มระยะยาว                               |\n",
    "| **ema200** | ค่าเฉลี่ยเคลื่อนที่ 200 วัน                  | แนวโน้มระยะยาวมาก (บ่งบอกแนวโน้มหลักของตลาด) |\n",
    "\n",
    "**สูตรทั่วไปของ EMA:**\n",
    "[\n",
    "EMA_t = (P_t \\times k) + (EMA_{t-1} \\times (1 - k))\n",
    "]\n",
    "โดยที่\n",
    "\n",
    "* ( P_t ) = ราคาปิดของวันปัจจุบัน\n",
    "* ( k = \\frac{2}{N+1} ), เมื่อ ( N ) คือจำนวนวันที่ใช้คำนวณ (เช่น 5, 15, 35, 89, 200)\n",
    "* ใช้ข้อมูลราคาปิด (`close_price`) จาก API หรือฐานข้อมูล Cassandra\n",
    "\n",
    "**ใน Python:**\n",
    "\n",
    "```python\n",
    "import pandas as pd\n",
    "\n",
    "df['ema5'] = df['close_price'].ewm(span=5, adjust=False).mean()\n",
    "df['ema15'] = df['close_price'].ewm(span=15, adjust=False).mean()\n",
    "df['ema35'] = df['close_price'].ewm(span=35, adjust=False).mean()\n",
    "df['ema89'] = df['close_price'].ewm(span=89, adjust=False).mean()\n",
    "df['ema200'] = df['close_price'].ewm(span=200, adjust=False).mean()\n",
    "```\n",
    "\n",
    "---\n",
    "\n",
    "### ✅ **2. RSI (Relative Strength Index)**\n",
    "\n",
    "> ใช้เพื่อวัด “แรงซื้อ–แรงขาย” และระดับ Overbought / Oversold\n",
    "\n",
    "**สูตรทั่วไปของ RSI:**\n",
    "[\n",
    "RSI = 100 - \\frac{100}{1 + RS}\n",
    "]\n",
    "โดยที่\n",
    "[\n",
    "RS = \\frac{\\text{ค่าเฉลี่ยกำไร (Average Gain)}}{\\text{ค่าเฉลี่ยขาดทุน (Average Loss)}}\n",
    "]\n",
    "มักใช้คำนวณในช่วง **14 วัน (RSI14)**\n",
    "\n",
    "**ใน Python:**\n",
    "\n",
    "```python\n",
    "import pandas as pd\n",
    "\n",
    "delta = df['close_price'].diff()\n",
    "gain = (delta.where(delta > 0, 0)).rolling(window=14).mean()\n",
    "loss = (-delta.where(delta < 0, 0)).rolling(window=14).mean()\n",
    "\n",
    "rs = gain / loss\n",
    "df['rsi'] = 100 - (100 / (1 + rs))\n",
    "```\n",
    "\n",
    "---\n",
    "\n",
    "### ✅ **3. แหล่งข้อมูลต้นทาง**\n",
    "\n",
    "จากรายงานโครงงานของคุณระบุว่า\n",
    "\n",
    "> “The stock data for analysis is retrieved from **SETTRADE Open API** and stored in a PostgreSQL database. Technical Data includes close, high, low, open, value, volume...”\n",
    "\n",
    "ดังนั้นค่าพวกนี้ถูกคำนวณจาก **ราคาปิดของหุ้นแต่ละตัวในแต่ละวัน** ที่ได้จาก API (หรือจากตาราง Cassandra เช่น `candlestick_data`) แล้วสร้างเป็นฟีเจอร์ใหม่ในขั้นตอน Feature Engineering ก่อนนำเข้าโมเดล Deep Learning\n",
    "\n",
    "---\n",
    "\n",
    "สรุปสั้น ๆ:\n",
    "\n",
    "| Indicator     | ที่มาจาก                 | ใช้บอกอะไร                |\n",
    "| ------------- | ------------------------ | ------------------------- |\n",
    "| `ema5–ema200` | ราคาปิด (`close_price`)  | แนวโน้มของราคา (trend)    |\n",
    "| `rsi`         | การเปลี่ยนแปลงของราคาปิด | แรงซื้อ–แรงขาย (momentum) |"
   ]
  },
  {
   "cell_type": "code",
   "execution_count": 11,
   "id": "377b600d",
   "metadata": {},
   "outputs": [
    {
     "data": {
      "text/html": [
       "<div>\n",
       "<style scoped>\n",
       "    .dataframe tbody tr th:only-of-type {\n",
       "        vertical-align: middle;\n",
       "    }\n",
       "\n",
       "    .dataframe tbody tr th {\n",
       "        vertical-align: top;\n",
       "    }\n",
       "\n",
       "    .dataframe thead th {\n",
       "        text-align: right;\n",
       "    }\n",
       "</style>\n",
       "<table border=\"1\" class=\"dataframe\">\n",
       "  <thead>\n",
       "    <tr style=\"text-align: right;\">\n",
       "      <th></th>\n",
       "      <th>symbol</th>\n",
       "      <th>time</th>\n",
       "      <th>close_price</th>\n",
       "      <th>high_price</th>\n",
       "      <th>low_price</th>\n",
       "      <th>open_price</th>\n",
       "      <th>value</th>\n",
       "      <th>ema5</th>\n",
       "      <th>ema15</th>\n",
       "      <th>ema35</th>\n",
       "      <th>ema89</th>\n",
       "      <th>ema200</th>\n",
       "      <th>rsi</th>\n",
       "      <th>trend_grade</th>\n",
       "    </tr>\n",
       "  </thead>\n",
       "  <tbody>\n",
       "    <tr>\n",
       "      <th>0</th>\n",
       "      <td>24CS</td>\n",
       "      <td>2025-10-01</td>\n",
       "      <td>1.14</td>\n",
       "      <td>1.14</td>\n",
       "      <td>1.13</td>\n",
       "      <td>1.13</td>\n",
       "      <td>43498</td>\n",
       "      <td>1.394893</td>\n",
       "      <td>1.408289</td>\n",
       "      <td>1.357985</td>\n",
       "      <td>1.326928</td>\n",
       "      <td>1.317656</td>\n",
       "      <td>37.621724</td>\n",
       "      <td>c</td>\n",
       "    </tr>\n",
       "    <tr>\n",
       "      <th>1</th>\n",
       "      <td>2S</td>\n",
       "      <td>2025-09-30</td>\n",
       "      <td>2.62</td>\n",
       "      <td>2.66</td>\n",
       "      <td>2.62</td>\n",
       "      <td>2.66</td>\n",
       "      <td>0</td>\n",
       "      <td>2.668552</td>\n",
       "      <td>2.702923</td>\n",
       "      <td>2.667533</td>\n",
       "      <td>2.578062</td>\n",
       "      <td>2.527286</td>\n",
       "      <td>41.847623</td>\n",
       "      <td>c</td>\n",
       "    </tr>\n",
       "    <tr>\n",
       "      <th>2</th>\n",
       "      <td>3BBIF</td>\n",
       "      <td>2025-09-30</td>\n",
       "      <td>6.50</td>\n",
       "      <td>6.60</td>\n",
       "      <td>6.45</td>\n",
       "      <td>6.60</td>\n",
       "      <td>0</td>\n",
       "      <td>6.525378</td>\n",
       "      <td>6.517466</td>\n",
       "      <td>6.424244</td>\n",
       "      <td>6.290236</td>\n",
       "      <td>6.223712</td>\n",
       "      <td>52.051964</td>\n",
       "      <td>b</td>\n",
       "    </tr>\n",
       "    <tr>\n",
       "      <th>3</th>\n",
       "      <td>A</td>\n",
       "      <td>2025-09-30</td>\n",
       "      <td>4.84</td>\n",
       "      <td>4.86</td>\n",
       "      <td>4.84</td>\n",
       "      <td>4.86</td>\n",
       "      <td>0</td>\n",
       "      <td>4.843595</td>\n",
       "      <td>4.842305</td>\n",
       "      <td>4.842802</td>\n",
       "      <td>4.846905</td>\n",
       "      <td>4.849548</td>\n",
       "      <td>49.416702</td>\n",
       "      <td>d</td>\n",
       "    </tr>\n",
       "    <tr>\n",
       "      <th>4</th>\n",
       "      <td>A5</td>\n",
       "      <td>2025-10-01</td>\n",
       "      <td>1.87</td>\n",
       "      <td>1.87</td>\n",
       "      <td>1.87</td>\n",
       "      <td>1.87</td>\n",
       "      <td>187</td>\n",
       "      <td>1.883256</td>\n",
       "      <td>1.881561</td>\n",
       "      <td>1.880982</td>\n",
       "      <td>1.896469</td>\n",
       "      <td>1.910181</td>\n",
       "      <td>46.558915</td>\n",
       "      <td>d</td>\n",
       "    </tr>\n",
       "    <tr>\n",
       "      <th>5</th>\n",
       "      <td>AAI</td>\n",
       "      <td>2025-09-30</td>\n",
       "      <td>4.90</td>\n",
       "      <td>5.00</td>\n",
       "      <td>4.90</td>\n",
       "      <td>4.90</td>\n",
       "      <td>0</td>\n",
       "      <td>4.927358</td>\n",
       "      <td>4.929880</td>\n",
       "      <td>4.864235</td>\n",
       "      <td>4.732070</td>\n",
       "      <td>4.658863</td>\n",
       "      <td>50.403746</td>\n",
       "      <td>b</td>\n",
       "    </tr>\n",
       "    <tr>\n",
       "      <th>6</th>\n",
       "      <td>AAV</td>\n",
       "      <td>2025-09-30</td>\n",
       "      <td>1.27</td>\n",
       "      <td>1.29</td>\n",
       "      <td>1.25</td>\n",
       "      <td>1.28</td>\n",
       "      <td>0</td>\n",
       "      <td>1.278322</td>\n",
       "      <td>1.296927</td>\n",
       "      <td>1.290124</td>\n",
       "      <td>1.262610</td>\n",
       "      <td>1.245126</td>\n",
       "      <td>45.279678</td>\n",
       "      <td>c</td>\n",
       "    </tr>\n",
       "    <tr>\n",
       "      <th>7</th>\n",
       "      <td>ABM</td>\n",
       "      <td>2025-09-30</td>\n",
       "      <td>0.81</td>\n",
       "      <td>0.85</td>\n",
       "      <td>0.81</td>\n",
       "      <td>0.84</td>\n",
       "      <td>0</td>\n",
       "      <td>0.838448</td>\n",
       "      <td>0.829629</td>\n",
       "      <td>0.782279</td>\n",
       "      <td>0.722080</td>\n",
       "      <td>0.693195</td>\n",
       "      <td>51.614097</td>\n",
       "      <td>b</td>\n",
       "    </tr>\n",
       "    <tr>\n",
       "      <th>8</th>\n",
       "      <td>ACC</td>\n",
       "      <td>2025-09-30</td>\n",
       "      <td>0.53</td>\n",
       "      <td>0.56</td>\n",
       "      <td>0.52</td>\n",
       "      <td>0.53</td>\n",
       "      <td>0</td>\n",
       "      <td>0.509517</td>\n",
       "      <td>0.461628</td>\n",
       "      <td>0.410535</td>\n",
       "      <td>0.369044</td>\n",
       "      <td>0.352834</td>\n",
       "      <td>66.139845</td>\n",
       "      <td>b</td>\n",
       "    </tr>\n",
       "    <tr>\n",
       "      <th>9</th>\n",
       "      <td>ACE</td>\n",
       "      <td>2025-09-30</td>\n",
       "      <td>1.31</td>\n",
       "      <td>1.31</td>\n",
       "      <td>1.29</td>\n",
       "      <td>1.30</td>\n",
       "      <td>0</td>\n",
       "      <td>1.301751</td>\n",
       "      <td>1.299684</td>\n",
       "      <td>1.299543</td>\n",
       "      <td>1.299531</td>\n",
       "      <td>1.299557</td>\n",
       "      <td>54.691942</td>\n",
       "      <td>b</td>\n",
       "    </tr>\n",
       "  </tbody>\n",
       "</table>\n",
       "</div>"
      ],
      "text/plain": [
       "  symbol       time  close_price  high_price  low_price  open_price  value  \\\n",
       "0   24CS 2025-10-01         1.14        1.14       1.13        1.13  43498   \n",
       "1     2S 2025-09-30         2.62        2.66       2.62        2.66      0   \n",
       "2  3BBIF 2025-09-30         6.50        6.60       6.45        6.60      0   \n",
       "3      A 2025-09-30         4.84        4.86       4.84        4.86      0   \n",
       "4     A5 2025-10-01         1.87        1.87       1.87        1.87    187   \n",
       "5    AAI 2025-09-30         4.90        5.00       4.90        4.90      0   \n",
       "6    AAV 2025-09-30         1.27        1.29       1.25        1.28      0   \n",
       "7    ABM 2025-09-30         0.81        0.85       0.81        0.84      0   \n",
       "8    ACC 2025-09-30         0.53        0.56       0.52        0.53      0   \n",
       "9    ACE 2025-09-30         1.31        1.31       1.29        1.30      0   \n",
       "\n",
       "       ema5     ema15     ema35     ema89    ema200        rsi trend_grade  \n",
       "0  1.394893  1.408289  1.357985  1.326928  1.317656  37.621724           c  \n",
       "1  2.668552  2.702923  2.667533  2.578062  2.527286  41.847623           c  \n",
       "2  6.525378  6.517466  6.424244  6.290236  6.223712  52.051964           b  \n",
       "3  4.843595  4.842305  4.842802  4.846905  4.849548  49.416702           d  \n",
       "4  1.883256  1.881561  1.880982  1.896469  1.910181  46.558915           d  \n",
       "5  4.927358  4.929880  4.864235  4.732070  4.658863  50.403746           b  \n",
       "6  1.278322  1.296927  1.290124  1.262610  1.245126  45.279678           c  \n",
       "7  0.838448  0.829629  0.782279  0.722080  0.693195  51.614097           b  \n",
       "8  0.509517  0.461628  0.410535  0.369044  0.352834  66.139845           b  \n",
       "9  1.301751  1.299684  1.299543  1.299531  1.299557  54.691942           b  "
      ]
     },
     "execution_count": 11,
     "metadata": {},
     "output_type": "execute_result"
    }
   ],
   "source": [
    "df_result.head(10)"
   ]
  },
  {
   "cell_type": "markdown",
   "id": "c3d31bcb",
   "metadata": {},
   "source": [
    "### 📊 **ชื่อกราฟ:** Trend Grade\n",
    "\n",
    "**แกน X:**\n",
    "→ คือระดับแนวโน้ม (Trend Grade) ที่แบ่งเป็นตัวอักษร **a, b, c, d**\n",
    "\n",
    "**แกน Y:**\n",
    "→ คือจำนวนหุ้น (`count of symbol`) ที่อยู่ในแต่ละระดับแนวโน้ม\n",
    "\n",
    "---\n",
    "\n",
    "### 🔠 **ความหมายของแต่ละเกรด (ตามระบบ Quadrant Trend Classification)**\n",
    "\n",
    "|  เกรด | ความหมายทั่วไป   | ลักษณะของแนวโน้ม                            | การตีความเชิงลงทุน                                                |\n",
    "| :---: | :--------------- | :------------------------------------------ | :---------------------------------------------------------------- |\n",
    "| **a** | ขาขึ้นแรงมาก     | EMA ระยะสั้น > ระยะยาว อย่างชัดเจน, RSI สูง | หุ้นอยู่ในแนวโน้มขาขึ้นชัดเจน เหมาะกับการ “ถือหรือซื้อเพิ่ม”      |\n",
    "| **b** | ขาขึ้น           | EMA สั้นอยู่เหนือ EMA ยาว, RSI เริ่มสูงขึ้น | แนวโน้มดี มีโอกาสเติบโตต่อ เหมาะกับการ “เข้าซื้อระยะกลาง”         |\n",
    "| **c** | ทรงตัว / Sideway | EMA ตัดกันหรือใกล้กัน                       | หุ้นพักตัวหรือเคลื่อนไหวในกรอบ ยังไม่ชัดเจน                       |\n",
    "| **d** | ขาลง             | EMA สั้นอยู่ต่ำกว่า EMA ยาว                 | หุ้นเริ่มอ่อนแรงหรือปรับฐาน เหมาะกับ “รอดูท่าที” หรือ “ขายทำกำไร” |\n",
    "\n",
    "---\n",
    "\n",
    "### 📈 **จากกราฟ:**\n",
    "\n",
    "|  เกรด | จำนวนหุ้น | สัดส่วนโดยประมาณ | การตีความภาพรวมตลาด                      |\n",
    "| :---: | :-------- | :--------------- | :--------------------------------------- |\n",
    "| **b** | 373       | ≈ 46%            | หุ้นส่วนใหญ่ยังอยู่ในแนวโน้ม “ขาขึ้น”    |\n",
    "| **c** | 253       | ≈ 31%            | หุ้นจำนวนมากอยู่ในภาวะ “ทรงตัว”          |\n",
    "| **d** | 205       | ≈ 20%            | หุ้นบางส่วนเริ่ม “อ่อนแรง”               |\n",
    "| **a** | 25        | ≈ 3%             | มีเพียงไม่กี่ตัวที่อยู่ใน “ขาขึ้นแรงมาก” |\n",
    "\n",
    "---\n",
    "\n",
    "### 🧠 **สรุปความหมายเชิงวิเคราะห์**\n",
    "\n",
    "* ตลาดโดยรวม **มีแนวโน้มเชิงบวก (bullish bias)**\n",
    "  เพราะหุ้นส่วนใหญ่ (~46%) อยู่ในเกรด **b** ซึ่งบ่งชี้ถึง “แนวโน้มขาขึ้นปกติ”\n",
    "* มีเพียงส่วนน้อย (~3%) ที่เป็นเกรด **a** ซึ่งหมายถึง “ขาขึ้นแรง” — มักเกิดในหุ้นที่มี momentum สูง\n",
    "* หุ้นกลุ่ม **c และ d** รวมกัน (~51%) บ่งบอกว่าตลาดมีส่วนที่ “เริ่มชะลอ” หรือ “พักฐาน”\n",
    "  ซึ่งสอดคล้องกับภาวะตลาดที่กำลังรอปัจจัยใหม่ (เช่น ข่าวเศรษฐกิจ หรือผลประกอบการ)"
   ]
  },
  {
   "cell_type": "code",
   "execution_count": 12,
   "id": "a22943cc",
   "metadata": {},
   "outputs": [
    {
     "data": {
      "image/png": "[encoded data removed]",
      "text/plain": [
       "<Figure size 800x500 with 1 Axes>"
      ]
     },
     "metadata": {},
     "output_type": "display_data"
    }
   ],
   "source": [
    "import seaborn as sns\n",
    "import matplotlib.pyplot as plt\n",
    "\n",
    "plt.figure(figsize=(8,5))\n",
    "ax = sns.countplot(data=df_result, x=\"trend_grade\", order=df_result[\"trend_grade\"].value_counts().index)\n",
    "\n",
    "plt.title(\"Trend Grade\")\n",
    "plt.xlabel(\"Trend Grade\")\n",
    "plt.ylabel(\"count of symbol\")\n",
    "\n",
    "# ✅ ใส่ตัวเลขบนแท่ง\n",
    "for p in ax.patches:\n",
    "    ax.annotate(\n",
    "        str(int(p.get_height())), \n",
    "        (p.get_x() + p.get_width() / 2., p.get_height()), \n",
    "        ha='center', va='bottom', fontsize=10\n",
    "    )\n",
    "\n",
    "plt.show()"
   ]
  },
  {
   "cell_type": "markdown",
   "id": "0dc33c2c",
   "metadata": {},
   "source": [
    "# 📊 การแบ่งกลุ่มหุ้นตามปัจจัยพื้นฐาน (Fundamental Group)\n",
    "\n",
    "การจัดกลุ่มหุ้นด้วยปัจจัยพื้นฐาน (Fundamental) ใช้ตัวชี้วัดทางการเงินหลัก 5 ตัว ได้แก่:\n",
    "\n",
    "* **EPS (Earnings Per Share)** → กำไรต่อหุ้น ยิ่งสูงยิ่งดี\n",
    "* **PE (Price-to-Earnings Ratio)** → ราคาหุ้นเทียบกับกำไร ยิ่งต่ำยิ่งดี\n",
    "* **PBV (Price-to-Book Value Ratio)** → ราคาหุ้นเทียบกับมูลค่าทางบัญชี แสดงระดับการประเมินมูลค่า\n",
    "* **Percent Yield (Dividend Yield)** → อัตราผลตอบแทนจากเงินปันผล (%) ยิ่งสูงยิ่งดี\n",
    "* **Market Cap (Market Capitalization)** → มูลค่าตลาด ยิ่งสูงยิ่งมั่นคง\n",
    "\n",
    "---\n",
    "\n",
    "## 🔎 ขั้นตอนการคำนวณ\n",
    "\n",
    "1. **เลือกข้อมูลพื้นฐาน (Features)**\n",
    "   นำค่า `eps, pe, pbv, percentyield, marketcap` ของหุ้นแต่ละตัวมาใช้\n",
    "\n",
    "2. **ทำการ Standardization (Z-score Normalization)**\n",
    "   แปลงค่าแต่ละ feature ให้อยู่ในสเกลเดียวกัน (ค่าเฉลี่ย = 0, ส่วนเบี่ยงเบนมาตรฐาน = 1) เพื่อไม่ให้ค่าที่มีขนาดใหญ่ เช่น Market Cap ไปครอบงำค่าคะแนนรวม\n",
    "\n",
    "3. **สร้างคะแนนรวม (Score)**\n",
    "   รวมค่าที่ผ่านการปรับสเกลแล้วเป็นคะแนนเดียว\n",
    "\n",
    "   * `+ EPS` → EPS สูง ดี\n",
    "   * `- PE` → PE ต่ำ ดี\n",
    "   * `+ PBV` → PBV สูง (สะท้อนการเติบโต)\n",
    "   * `+ Dividend Yield` → ปันผลสูง ดี\n",
    "   * `+ Market Cap` → บริษัทใหญ่มั่นคง\n",
    "\n",
    "   สูตรคะแนนรวม:\n",
    "\n",
    "   ```\n",
    "   Score = (EPS_scaled) - (PE_scaled) + (PBV_scaled) + (Yield_scaled) + (MarketCap_scaled)\n",
    "   ```\n",
    "\n",
    "4. **แบ่งออกเป็น 5 กลุ่มด้วย Quantile (qcut)**\n",
    "\n",
    "   * A = Top 20% (พื้นฐานแข็งแกร่งที่สุด)\n",
    "   * B = 20–40% (พื้นฐานดี)\n",
    "   * C = 40–60% (พื้นฐานปานกลาง)\n",
    "   * D = 60–80% (พื้นฐานอ่อน)\n",
    "   * E = Bottom 20% (พื้นฐานอ่อนที่สุด)\n",
    "\n",
    "---\n",
    "\n",
    "## 🏷 การตีความ\n",
    "\n",
    "* **A** → หุ้นที่มีปัจจัยพื้นฐานดีที่สุด เหมาะกับการลงทุนระยะยาว\n",
    "* **B** → หุ้นพื้นฐานดี มีศักยภาพในการเติบโต\n",
    "* **C** → หุ้นพื้นฐานปานกลาง ความเสี่ยง/โอกาสสมดุล\n",
    "* **D** → หุ้นพื้นฐานอ่อน เสี่ยงสูงขึ้น\n",
    "* **E** → หุ้นพื้นฐานอ่อนที่สุด ควรหลีกเลี่ยง\n"
   ]
  },
  {
   "cell_type": "code",
   "execution_count": 13,
   "id": "53157c43",
   "metadata": {},
   "outputs": [],
   "source": [
    "import pandas as pd\n",
    "from sklearn.preprocessing import StandardScaler\n",
    "\n",
    "# --------------------------\n",
    "# 1. เลือก Features\n",
    "# --------------------------\n",
    "features = [\"eps\", \"pe\", \"pbv\", \"percentyield\", \"marketcap\"]\n",
    "\n",
    "# --------------------------\n",
    "# 2. Standardization (Z-score)\n",
    "# --------------------------\n",
    "scaler = StandardScaler()\n",
    "scaled = scaler.fit_transform(df_fun[features])\n",
    "\n",
    "df_scaled = pd.DataFrame(scaled, columns=[f + \"_scaled\" for f in features], index=df_fun.index)\n",
    "\n",
    "# --------------------------\n",
    "# 3. สร้างคะแนนรวม (Score)\n",
    "# --------------------------\n",
    "df_fun[\"score\"] = (\n",
    "    df_scaled[\"eps_scaled\"]        # + EPS\n",
    "    - df_scaled[\"pe_scaled\"]       # - PE\n",
    "    + df_scaled[\"pbv_scaled\"]      # + PBV\n",
    "    + df_scaled[\"percentyield_scaled\"]  # + Yield\n",
    "    + df_scaled[\"marketcap_scaled\"]     # + Market Cap\n",
    ")\n",
    "\n",
    "# --------------------------\n",
    "# 4. แบ่งออกเป็น 5 กลุ่ม (Quantile)\n",
    "# --------------------------\n",
    "df_fun[\"fundamental_group\"] = pd.qcut(\n",
    "    df_fun[\"score\"], \n",
    "    q=5, \n",
    "    labels=[\"E\", \"D\", \"C\", \"B\", \"A\"]  # E = อ่อนสุด → A = แข็งสุด\n",
    ")"
   ]
  },
  {
   "cell_type": "code",
   "execution_count": 14,
   "id": "cd91428a",
   "metadata": {},
   "outputs": [
    {
     "data": {
      "text/html": [
       "<div>\n",
       "<style scoped>\n",
       "    .dataframe tbody tr th:only-of-type {\n",
       "        vertical-align: middle;\n",
       "    }\n",
       "\n",
       "    .dataframe tbody tr th {\n",
       "        vertical-align: top;\n",
       "    }\n",
       "\n",
       "    .dataframe thead th {\n",
       "        text-align: right;\n",
       "    }\n",
       "</style>\n",
       "<table border=\"1\" class=\"dataframe\">\n",
       "  <thead>\n",
       "    <tr style=\"text-align: right;\">\n",
       "      <th></th>\n",
       "      <th>symbol</th>\n",
       "      <th>eps</th>\n",
       "      <th>pe</th>\n",
       "      <th>pbv</th>\n",
       "      <th>percentyield</th>\n",
       "      <th>marketcap</th>\n",
       "      <th>fundamental_group</th>\n",
       "    </tr>\n",
       "  </thead>\n",
       "  <tbody>\n",
       "    <tr>\n",
       "      <th>0</th>\n",
       "      <td>PPPM</td>\n",
       "      <td>0.02000</td>\n",
       "      <td>0.00</td>\n",
       "      <td>0.70</td>\n",
       "      <td>0.00</td>\n",
       "      <td>105500.001572</td>\n",
       "      <td>D</td>\n",
       "    </tr>\n",
       "    <tr>\n",
       "      <th>1</th>\n",
       "      <td>TPCH</td>\n",
       "      <td>0.24112</td>\n",
       "      <td>7.90</td>\n",
       "      <td>0.34</td>\n",
       "      <td>13.91</td>\n",
       "      <td>401575.987864</td>\n",
       "      <td>A</td>\n",
       "    </tr>\n",
       "    <tr>\n",
       "      <th>3</th>\n",
       "      <td>POLY</td>\n",
       "      <td>0.27632</td>\n",
       "      <td>12.89</td>\n",
       "      <td>2.42</td>\n",
       "      <td>6.38</td>\n",
       "      <td>152320.004272</td>\n",
       "      <td>A</td>\n",
       "    </tr>\n",
       "    <tr>\n",
       "      <th>5</th>\n",
       "      <td>VCOM</td>\n",
       "      <td>0.21428</td>\n",
       "      <td>7.85</td>\n",
       "      <td>1.48</td>\n",
       "      <td>10.79</td>\n",
       "      <td>303722.809988</td>\n",
       "      <td>A</td>\n",
       "    </tr>\n",
       "    <tr>\n",
       "      <th>6</th>\n",
       "      <td>KDH</td>\n",
       "      <td>4.12186</td>\n",
       "      <td>10.62</td>\n",
       "      <td>1.93</td>\n",
       "      <td>3.01</td>\n",
       "      <td>348900.750000</td>\n",
       "      <td>A</td>\n",
       "    </tr>\n",
       "  </tbody>\n",
       "</table>\n",
       "</div>"
      ],
      "text/plain": [
       "  symbol      eps     pe   pbv  percentyield      marketcap fundamental_group\n",
       "0   PPPM  0.02000   0.00  0.70          0.00  105500.001572                 D\n",
       "1   TPCH  0.24112   7.90  0.34         13.91  401575.987864                 A\n",
       "3   POLY  0.27632  12.89  2.42          6.38  152320.004272                 A\n",
       "5   VCOM  0.21428   7.85  1.48         10.79  303722.809988                 A\n",
       "6    KDH  4.12186  10.62  1.93          3.01  348900.750000                 A"
      ]
     },
     "execution_count": 14,
     "metadata": {},
     "output_type": "execute_result"
    }
   ],
   "source": [
    "# ✅ ดูผลลัพธ์\n",
    "df_fun[['symbol','eps','pe','pbv','percentyield','marketcap','fundamental_group']].head()"
   ]
  },
  {
   "cell_type": "markdown",
   "id": "68ea8975",
   "metadata": {},
   "source": [
    "### 📘 **ชื่อกราฟ:** Fundamental Group Distribution\n",
    "\n",
    "**แกน X:**\n",
    "→ หมายถึง **กลุ่มพื้นฐาน (Fundamental Group)** ที่แบ่งเป็นระดับ **A, B, C, D, E**\n",
    "\n",
    "**แกน Y:**\n",
    "→ หมายถึง **จำนวนหุ้น (count)** ที่อยู่ในแต่ละกลุ่ม\n",
    "\n",
    "---\n",
    "\n",
    "### 🔠 **ความหมายของแต่ละกลุ่ม (Fundamental Grade A–E)**\n",
    "\n",
    "| กลุ่ม | ความหมาย        | ลักษณะทางการเงินของบริษัท              | การตีความเชิงลงทุน        |\n",
    "| :---: | :-------------- | :------------------------------------- | :------------------------ |\n",
    "| **A** | พื้นฐานดีเยี่ยม | EPS, ROE, Dividend Yield สูง / P/E ต่ำ | หุ้นคุณภาพสูง เหมาะถือยาว |\n",
    "| **B** | พื้นฐานดี       | ตัวชี้วัดพื้นฐานเกินค่าเฉลี่ย          | หุ้นเติบโตระยะกลาง        |\n",
    "| **C** | พื้นฐานปานกลาง  | กำไรสม่ำเสมอ แต่ไม่เด่น                | หุ้นคงที่ / เน้นปันผล     |\n",
    "| **D** | พื้นฐานอ่อน     | รายได้หรือกำไรผันผวน                   | หุ้นเสี่ยงระดับกลาง       |\n",
    "| **E** | พื้นฐานอ่อนมาก  | ขาดทุนหรือมีภาระหนี้สูง                | หุ้นที่ควรหลีกเลี่ยง      |\n",
    "\n",
    "---\n",
    "\n",
    "### 📈 **จากกราฟที่เห็น**\n",
    "\n",
    "| กลุ่ม | จำนวนหุ้น | สัดส่วนโดยประมาณ | การตีความ          |\n",
    "| :---: | :-------: | :--------------- | :----------------- |\n",
    "| **A** |    167    | ≈ 20%            | หุ้นพื้นฐานดีมาก   |\n",
    "| **B** |    167    | ≈ 20%            | หุ้นพื้นฐานดี      |\n",
    "| **C** |    167    | ≈ 20%            | หุ้นพื้นฐานปานกลาง |\n",
    "| **D** |    167    | ≈ 20%            | หุ้นพื้นฐานอ่อน    |\n",
    "| **E** |    168    | ≈ 20%            | หุ้นพื้นฐานอ่อนมาก |\n",
    "\n",
    "ผลที่เห็นแทบ **สมดุลทุกกลุ่ม (เกือบเท่ากันทั้งหมด)** — บ่งบอกว่า\n",
    "\n",
    "> “ระบบจัดกลุ่ม (fundamental_group classification)” ถูกออกแบบให้แบ่งหุ้น **แบบเท่า ๆ กัน (balanced segmentation)**\n",
    "> เพื่อไม่ให้กลุ่มใดมีอิทธิพลมากเกินไปตอนฝึกโมเดล Deep Learning\n",
    "\n",
    "---\n",
    "\n",
    "### 🧠 **สรุปความหมายเชิงวิเคราะห์**\n",
    "\n",
    "* กราฟนี้แสดงว่า **การกระจายของกลุ่มพื้นฐานเป็นแบบสมดุล (Balanced Dataset)**\n",
    "  → ช่วยให้โมเดลเรียนรู้ได้ดีโดยไม่เกิด Bias ไปทางหุ้นพื้นฐานดีหรือแย่เกินไป\n",
    "* ในเชิงตลาดจริง: การมีหุ้นในทุกระดับพื้นฐานช่วยให้ระบบ Quadrant แบ่งชัดเจนว่า\n",
    "  “หุ้นดี–แนวโน้มดี” อยู่มุมบนขวา และ “หุ้นอ่อน–แนวโน้มแย่” อยู่มุมล่างซ้าย\n",
    "\n",
    "---"
   ]
  },
  {
   "cell_type": "code",
   "execution_count": 15,
   "id": "53c7b395",
   "metadata": {},
   "outputs": [
    {
     "data": {
      "image/png": "[encoded data removed]",
      "text/plain": [
       "<Figure size 800x500 with 1 Axes>"
      ]
     },
     "metadata": {},
     "output_type": "display_data"
    }
   ],
   "source": [
    "import seaborn as sns\n",
    "import matplotlib.pyplot as plt\n",
    "\n",
    "plt.figure(figsize=(8,5))\n",
    "ax = sns.countplot(data=df_fun, x=\"fundamental_group\", order=df_fun[\"fundamental_group\"].value_counts().index)\n",
    "\n",
    "\n",
    "# ✅ ใส่ตัวเลขบนแท่ง\n",
    "for p in ax.patches:\n",
    "    ax.annotate(\n",
    "        str(int(p.get_height())), \n",
    "        (p.get_x() + p.get_width() / 2., p.get_height()), \n",
    "        ha='center', va='bottom', fontsize=10\n",
    "    )\n",
    "\n",
    "plt.show()\n"
   ]
  },
  {
   "cell_type": "markdown",
   "id": "2ca9089a",
   "metadata": {},
   "source": [
    "รวมตาราง โดยsymbol เป็น pimarykey"
   ]
  },
  {
   "cell_type": "code",
   "execution_count": 16,
   "id": "1ee3022a",
   "metadata": {},
   "outputs": [],
   "source": [
    "# ✅ 1) ดึงแท่งล่าสุดของแต่ละ symbol\n",
    "df_latest_candle = (\n",
    "    df_result.sort_values(\"time\")\n",
    "    .groupby(\"symbol\", as_index=False)\n",
    "    .tail(1)  # หรือใช้ .last() ก็ได้หลัง sort แล้ว\n",
    ")\n",
    "\n",
    "# ✅ 2) Merge กับข้อมูล fundamental\n",
    "df = pd.merge(df_fun, df_latest_candle, on=\"symbol\", how=\"inner\")\n",
    "df['quadrant'] = df_fun['fundamental_group'].astype(str) + df_result['trend_grade'].astype(str)"
   ]
  },
  {
   "cell_type": "code",
   "execution_count": 17,
   "id": "08b478e6",
   "metadata": {},
   "outputs": [
    {
     "data": {
      "text/html": [
       "<div>\n",
       "<style scoped>\n",
       "    .dataframe tbody tr th:only-of-type {\n",
       "        vertical-align: middle;\n",
       "    }\n",
       "\n",
       "    .dataframe tbody tr th {\n",
       "        vertical-align: top;\n",
       "    }\n",
       "\n",
       "    .dataframe thead th {\n",
       "        text-align: right;\n",
       "    }\n",
       "</style>\n",
       "<table border=\"1\" class=\"dataframe\">\n",
       "  <thead>\n",
       "    <tr style=\"text-align: right;\">\n",
       "      <th></th>\n",
       "      <th>symbol</th>\n",
       "      <th>eps</th>\n",
       "      <th>pe</th>\n",
       "      <th>pbv</th>\n",
       "      <th>percentyield</th>\n",
       "      <th>volume</th>\n",
       "      <th>marketcap</th>\n",
       "      <th>score</th>\n",
       "      <th>fundamental_group</th>\n",
       "      <th>time</th>\n",
       "      <th>...</th>\n",
       "      <th>open_price</th>\n",
       "      <th>value</th>\n",
       "      <th>ema5</th>\n",
       "      <th>ema15</th>\n",
       "      <th>ema35</th>\n",
       "      <th>ema89</th>\n",
       "      <th>ema200</th>\n",
       "      <th>rsi</th>\n",
       "      <th>trend_grade</th>\n",
       "      <th>quadrant</th>\n",
       "    </tr>\n",
       "  </thead>\n",
       "  <tbody>\n",
       "    <tr>\n",
       "      <th>0</th>\n",
       "      <td>PPPM</td>\n",
       "      <td>0.02000</td>\n",
       "      <td>0.00</td>\n",
       "      <td>0.70</td>\n",
       "      <td>0.00</td>\n",
       "      <td>263750</td>\n",
       "      <td>105500.001572</td>\n",
       "      <td>-1.556113</td>\n",
       "      <td>D</td>\n",
       "      <td>2025-09-30</td>\n",
       "      <td>...</td>\n",
       "      <td>0.42</td>\n",
       "      <td>0</td>\n",
       "      <td>0.405345</td>\n",
       "      <td>0.413705</td>\n",
       "      <td>0.419833</td>\n",
       "      <td>0.428406</td>\n",
       "      <td>0.434019</td>\n",
       "      <td>40.720717</td>\n",
       "      <td>d</td>\n",
       "      <td>Dc</td>\n",
       "    </tr>\n",
       "    <tr>\n",
       "      <th>1</th>\n",
       "      <td>TPCH</td>\n",
       "      <td>0.24112</td>\n",
       "      <td>7.90</td>\n",
       "      <td>0.34</td>\n",
       "      <td>13.91</td>\n",
       "      <td>141400</td>\n",
       "      <td>401575.987864</td>\n",
       "      <td>2.044158</td>\n",
       "      <td>A</td>\n",
       "      <td>2025-09-30</td>\n",
       "      <td>...</td>\n",
       "      <td>2.86</td>\n",
       "      <td>0</td>\n",
       "      <td>2.844297</td>\n",
       "      <td>2.849749</td>\n",
       "      <td>2.849346</td>\n",
       "      <td>2.849244</td>\n",
       "      <td>2.848840</td>\n",
       "      <td>47.825269</td>\n",
       "      <td>c</td>\n",
       "      <td>Ac</td>\n",
       "    </tr>\n",
       "    <tr>\n",
       "      <th>2</th>\n",
       "      <td>POLY</td>\n",
       "      <td>0.27632</td>\n",
       "      <td>12.89</td>\n",
       "      <td>2.42</td>\n",
       "      <td>6.38</td>\n",
       "      <td>22400</td>\n",
       "      <td>152320.004272</td>\n",
       "      <td>1.137471</td>\n",
       "      <td>A</td>\n",
       "      <td>2025-09-30</td>\n",
       "      <td>...</td>\n",
       "      <td>6.90</td>\n",
       "      <td>0</td>\n",
       "      <td>6.829600</td>\n",
       "      <td>6.925563</td>\n",
       "      <td>6.948069</td>\n",
       "      <td>6.916856</td>\n",
       "      <td>6.896954</td>\n",
       "      <td>44.452126</td>\n",
       "      <td>c</td>\n",
       "      <td>NaN</td>\n",
       "    </tr>\n",
       "    <tr>\n",
       "      <th>3</th>\n",
       "      <td>VCOM</td>\n",
       "      <td>0.21428</td>\n",
       "      <td>7.85</td>\n",
       "      <td>1.48</td>\n",
       "      <td>10.79</td>\n",
       "      <td>104732</td>\n",
       "      <td>303722.809988</td>\n",
       "      <td>1.799435</td>\n",
       "      <td>A</td>\n",
       "      <td>2025-09-30</td>\n",
       "      <td>...</td>\n",
       "      <td>2.92</td>\n",
       "      <td>0</td>\n",
       "      <td>2.899084</td>\n",
       "      <td>2.905416</td>\n",
       "      <td>2.884641</td>\n",
       "      <td>2.827082</td>\n",
       "      <td>2.789608</td>\n",
       "      <td>50.733075</td>\n",
       "      <td>b</td>\n",
       "      <td>Ad</td>\n",
       "    </tr>\n",
       "    <tr>\n",
       "      <th>4</th>\n",
       "      <td>NVD</td>\n",
       "      <td>-0.00942</td>\n",
       "      <td>38.87</td>\n",
       "      <td>0.32</td>\n",
       "      <td>0.00</td>\n",
       "      <td>4600</td>\n",
       "      <td>4186.000121</td>\n",
       "      <td>-1.855348</td>\n",
       "      <td>E</td>\n",
       "      <td>2025-09-30</td>\n",
       "      <td>...</td>\n",
       "      <td>0.93</td>\n",
       "      <td>0</td>\n",
       "      <td>0.924915</td>\n",
       "      <td>0.929716</td>\n",
       "      <td>0.935469</td>\n",
       "      <td>0.947964</td>\n",
       "      <td>0.955180</td>\n",
       "      <td>43.396960</td>\n",
       "      <td>d</td>\n",
       "      <td>NaN</td>\n",
       "    </tr>\n",
       "  </tbody>\n",
       "</table>\n",
       "<p>5 rows × 23 columns</p>\n",
       "</div>"
      ],
      "text/plain": [
       "  symbol      eps     pe   pbv  percentyield  volume      marketcap     score  \\\n",
       "0   PPPM  0.02000   0.00  0.70          0.00  263750  105500.001572 -1.556113   \n",
       "1   TPCH  0.24112   7.90  0.34         13.91  141400  401575.987864  2.044158   \n",
       "2   POLY  0.27632  12.89  2.42          6.38   22400  152320.004272  1.137471   \n",
       "3   VCOM  0.21428   7.85  1.48         10.79  104732  303722.809988  1.799435   \n",
       "4    NVD -0.00942  38.87  0.32          0.00    4600    4186.000121 -1.855348   \n",
       "\n",
       "  fundamental_group       time  ...  open_price  value      ema5     ema15  \\\n",
       "0                 D 2025-09-30  ...        0.42      0  0.405345  0.413705   \n",
       "1                 A 2025-09-30  ...        2.86      0  2.844297  2.849749   \n",
       "2                 A 2025-09-30  ...        6.90      0  6.829600  6.925563   \n",
       "3                 A 2025-09-30  ...        2.92      0  2.899084  2.905416   \n",
       "4                 E 2025-09-30  ...        0.93      0  0.924915  0.929716   \n",
       "\n",
       "      ema35     ema89    ema200        rsi  trend_grade  quadrant  \n",
       "0  0.419833  0.428406  0.434019  40.720717            d        Dc  \n",
       "1  2.849346  2.849244  2.848840  47.825269            c        Ac  \n",
       "2  6.948069  6.916856  6.896954  44.452126            c       NaN  \n",
       "3  2.884641  2.827082  2.789608  50.733075            b        Ad  \n",
       "4  0.935469  0.947964  0.955180  43.396960            d       NaN  \n",
       "\n",
       "[5 rows x 23 columns]"
      ]
     },
     "execution_count": 17,
     "metadata": {},
     "output_type": "execute_result"
    }
   ],
   "source": [
    "df.head()"
   ]
  },
  {
   "cell_type": "code",
   "execution_count": 18,
   "id": "72d88e95",
   "metadata": {},
   "outputs": [
    {
     "data": {
      "text/plain": [
       "(799, 23)"
      ]
     },
     "execution_count": 18,
     "metadata": {},
     "output_type": "execute_result"
    }
   ],
   "source": [
    "df.shape"
   ]
  },
  {
   "cell_type": "code",
   "execution_count": 19,
   "id": "ebb028d5",
   "metadata": {},
   "outputs": [
    {
     "data": {
      "text/plain": [
       "symbol                0\n",
       "eps                   0\n",
       "pe                    0\n",
       "pbv                   0\n",
       "percentyield          0\n",
       "volume                0\n",
       "marketcap             0\n",
       "score                 0\n",
       "fundamental_group     0\n",
       "time                  0\n",
       "close_price           0\n",
       "high_price            0\n",
       "low_price             0\n",
       "open_price            0\n",
       "value                 0\n",
       "ema5                  0\n",
       "ema15                 0\n",
       "ema35                 0\n",
       "ema89                 0\n",
       "ema200                0\n",
       "rsi                   0\n",
       "trend_grade           0\n",
       "quadrant             60\n",
       "dtype: int64"
      ]
     },
     "execution_count": 19,
     "metadata": {},
     "output_type": "execute_result"
    }
   ],
   "source": [
    "df.isnull().sum()"
   ]
  },
  {
   "cell_type": "code",
   "execution_count": 20,
   "id": "15cb5aa1",
   "metadata": {},
   "outputs": [
    {
     "name": "stdout",
     "output_type": "stream",
     "text": [
      "  fundamental_group trend_grade quadrant\n",
      "0                 D           d       Dd\n",
      "1                 A           c       Ac\n",
      "2                 A           c       Ac\n",
      "3                 A           b       Ab\n",
      "4                 E           d       Ed\n"
     ]
    }
   ],
   "source": [
    "def create_quadrant(df, col1=\"fundamental_group\", col2=\"trend_grade\", new_col=\"quadrant\"):\n",
    "    # normalize ค่าให้ตรง format\n",
    "    df[col1] = df[col1].astype(str).str.upper()   # A–E\n",
    "    df[col2] = df[col2].astype(str).str.lower()   # a–e\n",
    "    \n",
    "    # รวมกันเป็น quadrant\n",
    "    df[new_col] = df[col1] + df[col2]\n",
    "    return df\n",
    "\n",
    "# ✅ ใช้งาน\n",
    "df = create_quadrant(df)\n",
    "print(df[['fundamental_group','trend_grade','quadrant']].head())\n"
   ]
  },
  {
   "cell_type": "code",
   "execution_count": 21,
   "id": "2bf3e22e",
   "metadata": {},
   "outputs": [
    {
     "data": {
      "text/html": [
       "<div>\n",
       "<style scoped>\n",
       "    .dataframe tbody tr th:only-of-type {\n",
       "        vertical-align: middle;\n",
       "    }\n",
       "\n",
       "    .dataframe tbody tr th {\n",
       "        vertical-align: top;\n",
       "    }\n",
       "\n",
       "    .dataframe thead th {\n",
       "        text-align: right;\n",
       "    }\n",
       "</style>\n",
       "<table border=\"1\" class=\"dataframe\">\n",
       "  <thead>\n",
       "    <tr style=\"text-align: right;\">\n",
       "      <th></th>\n",
       "      <th>symbol</th>\n",
       "      <th>eps</th>\n",
       "      <th>pe</th>\n",
       "      <th>pbv</th>\n",
       "      <th>percentyield</th>\n",
       "      <th>volume</th>\n",
       "      <th>marketcap</th>\n",
       "      <th>score</th>\n",
       "      <th>fundamental_group</th>\n",
       "      <th>time</th>\n",
       "      <th>...</th>\n",
       "      <th>open_price</th>\n",
       "      <th>value</th>\n",
       "      <th>ema5</th>\n",
       "      <th>ema15</th>\n",
       "      <th>ema35</th>\n",
       "      <th>ema89</th>\n",
       "      <th>ema200</th>\n",
       "      <th>rsi</th>\n",
       "      <th>trend_grade</th>\n",
       "      <th>quadrant</th>\n",
       "    </tr>\n",
       "  </thead>\n",
       "  <tbody>\n",
       "    <tr>\n",
       "      <th>0</th>\n",
       "      <td>PPPM</td>\n",
       "      <td>0.02000</td>\n",
       "      <td>0.00</td>\n",
       "      <td>0.70</td>\n",
       "      <td>0.00</td>\n",
       "      <td>263750</td>\n",
       "      <td>105500.001572</td>\n",
       "      <td>-1.556113</td>\n",
       "      <td>D</td>\n",
       "      <td>2025-09-30</td>\n",
       "      <td>...</td>\n",
       "      <td>0.42</td>\n",
       "      <td>0</td>\n",
       "      <td>0.405345</td>\n",
       "      <td>0.413705</td>\n",
       "      <td>0.419833</td>\n",
       "      <td>0.428406</td>\n",
       "      <td>0.434019</td>\n",
       "      <td>40.720717</td>\n",
       "      <td>d</td>\n",
       "      <td>Dd</td>\n",
       "    </tr>\n",
       "    <tr>\n",
       "      <th>1</th>\n",
       "      <td>TPCH</td>\n",
       "      <td>0.24112</td>\n",
       "      <td>7.90</td>\n",
       "      <td>0.34</td>\n",
       "      <td>13.91</td>\n",
       "      <td>141400</td>\n",
       "      <td>401575.987864</td>\n",
       "      <td>2.044158</td>\n",
       "      <td>A</td>\n",
       "      <td>2025-09-30</td>\n",
       "      <td>...</td>\n",
       "      <td>2.86</td>\n",
       "      <td>0</td>\n",
       "      <td>2.844297</td>\n",
       "      <td>2.849749</td>\n",
       "      <td>2.849346</td>\n",
       "      <td>2.849244</td>\n",
       "      <td>2.848840</td>\n",
       "      <td>47.825269</td>\n",
       "      <td>c</td>\n",
       "      <td>Ac</td>\n",
       "    </tr>\n",
       "    <tr>\n",
       "      <th>2</th>\n",
       "      <td>POLY</td>\n",
       "      <td>0.27632</td>\n",
       "      <td>12.89</td>\n",
       "      <td>2.42</td>\n",
       "      <td>6.38</td>\n",
       "      <td>22400</td>\n",
       "      <td>152320.004272</td>\n",
       "      <td>1.137471</td>\n",
       "      <td>A</td>\n",
       "      <td>2025-09-30</td>\n",
       "      <td>...</td>\n",
       "      <td>6.90</td>\n",
       "      <td>0</td>\n",
       "      <td>6.829600</td>\n",
       "      <td>6.925563</td>\n",
       "      <td>6.948069</td>\n",
       "      <td>6.916856</td>\n",
       "      <td>6.896954</td>\n",
       "      <td>44.452126</td>\n",
       "      <td>c</td>\n",
       "      <td>Ac</td>\n",
       "    </tr>\n",
       "    <tr>\n",
       "      <th>3</th>\n",
       "      <td>VCOM</td>\n",
       "      <td>0.21428</td>\n",
       "      <td>7.85</td>\n",
       "      <td>1.48</td>\n",
       "      <td>10.79</td>\n",
       "      <td>104732</td>\n",
       "      <td>303722.809988</td>\n",
       "      <td>1.799435</td>\n",
       "      <td>A</td>\n",
       "      <td>2025-09-30</td>\n",
       "      <td>...</td>\n",
       "      <td>2.92</td>\n",
       "      <td>0</td>\n",
       "      <td>2.899084</td>\n",
       "      <td>2.905416</td>\n",
       "      <td>2.884641</td>\n",
       "      <td>2.827082</td>\n",
       "      <td>2.789608</td>\n",
       "      <td>50.733075</td>\n",
       "      <td>b</td>\n",
       "      <td>Ab</td>\n",
       "    </tr>\n",
       "    <tr>\n",
       "      <th>4</th>\n",
       "      <td>NVD</td>\n",
       "      <td>-0.00942</td>\n",
       "      <td>38.87</td>\n",
       "      <td>0.32</td>\n",
       "      <td>0.00</td>\n",
       "      <td>4600</td>\n",
       "      <td>4186.000121</td>\n",
       "      <td>-1.855348</td>\n",
       "      <td>E</td>\n",
       "      <td>2025-09-30</td>\n",
       "      <td>...</td>\n",
       "      <td>0.93</td>\n",
       "      <td>0</td>\n",
       "      <td>0.924915</td>\n",
       "      <td>0.929716</td>\n",
       "      <td>0.935469</td>\n",
       "      <td>0.947964</td>\n",
       "      <td>0.955180</td>\n",
       "      <td>43.396960</td>\n",
       "      <td>d</td>\n",
       "      <td>Ed</td>\n",
       "    </tr>\n",
       "  </tbody>\n",
       "</table>\n",
       "<p>5 rows × 23 columns</p>\n",
       "</div>"
      ],
      "text/plain": [
       "  symbol      eps     pe   pbv  percentyield  volume      marketcap     score  \\\n",
       "0   PPPM  0.02000   0.00  0.70          0.00  263750  105500.001572 -1.556113   \n",
       "1   TPCH  0.24112   7.90  0.34         13.91  141400  401575.987864  2.044158   \n",
       "2   POLY  0.27632  12.89  2.42          6.38   22400  152320.004272  1.137471   \n",
       "3   VCOM  0.21428   7.85  1.48         10.79  104732  303722.809988  1.799435   \n",
       "4    NVD -0.00942  38.87  0.32          0.00    4600    4186.000121 -1.855348   \n",
       "\n",
       "  fundamental_group       time  ...  open_price  value      ema5     ema15  \\\n",
       "0                 D 2025-09-30  ...        0.42      0  0.405345  0.413705   \n",
       "1                 A 2025-09-30  ...        2.86      0  2.844297  2.849749   \n",
       "2                 A 2025-09-30  ...        6.90      0  6.829600  6.925563   \n",
       "3                 A 2025-09-30  ...        2.92      0  2.899084  2.905416   \n",
       "4                 E 2025-09-30  ...        0.93      0  0.924915  0.929716   \n",
       "\n",
       "      ema35     ema89    ema200        rsi  trend_grade  quadrant  \n",
       "0  0.419833  0.428406  0.434019  40.720717            d        Dd  \n",
       "1  2.849346  2.849244  2.848840  47.825269            c        Ac  \n",
       "2  6.948069  6.916856  6.896954  44.452126            c        Ac  \n",
       "3  2.884641  2.827082  2.789608  50.733075            b        Ab  \n",
       "4  0.935469  0.947964  0.955180  43.396960            d        Ed  \n",
       "\n",
       "[5 rows x 23 columns]"
      ]
     },
     "execution_count": 21,
     "metadata": {},
     "output_type": "execute_result"
    }
   ],
   "source": [
    "df.head()"
   ]
  },
  {
   "cell_type": "markdown",
   "id": "f570df75",
   "metadata": {},
   "source": [
    "ข้อมูลtop10ของSET50"
   ]
  },
  {
   "cell_type": "code",
   "execution_count": 22,
   "id": "7838368f",
   "metadata": {},
   "outputs": [
    {
     "data": {
      "text/html": [
       "<div>\n",
       "<style scoped>\n",
       "    .dataframe tbody tr th:only-of-type {\n",
       "        vertical-align: middle;\n",
       "    }\n",
       "\n",
       "    .dataframe tbody tr th {\n",
       "        vertical-align: top;\n",
       "    }\n",
       "\n",
       "    .dataframe thead th {\n",
       "        text-align: right;\n",
       "    }\n",
       "</style>\n",
       "<table border=\"1\" class=\"dataframe\">\n",
       "  <thead>\n",
       "    <tr style=\"text-align: right;\">\n",
       "      <th></th>\n",
       "      <th>symbol</th>\n",
       "      <th>eps</th>\n",
       "      <th>pe</th>\n",
       "      <th>pbv</th>\n",
       "      <th>percentyield</th>\n",
       "      <th>volume</th>\n",
       "      <th>marketcap</th>\n",
       "      <th>score</th>\n",
       "      <th>fundamental_group</th>\n",
       "      <th>time</th>\n",
       "      <th>...</th>\n",
       "      <th>open_price</th>\n",
       "      <th>value</th>\n",
       "      <th>ema5</th>\n",
       "      <th>ema15</th>\n",
       "      <th>ema35</th>\n",
       "      <th>ema89</th>\n",
       "      <th>ema200</th>\n",
       "      <th>rsi</th>\n",
       "      <th>trend_grade</th>\n",
       "      <th>quadrant</th>\n",
       "    </tr>\n",
       "  </thead>\n",
       "  <tbody>\n",
       "    <tr>\n",
       "      <th>67</th>\n",
       "      <td>KBANK</td>\n",
       "      <td>5.67000</td>\n",
       "      <td>8.09</td>\n",
       "      <td>0.68</td>\n",
       "      <td>7.19</td>\n",
       "      <td>7113291</td>\n",
       "      <td>1.191476e+09</td>\n",
       "      <td>7.195536</td>\n",
       "      <td>A</td>\n",
       "      <td>2025-09-30</td>\n",
       "      <td>...</td>\n",
       "      <td>168.00</td>\n",
       "      <td>0</td>\n",
       "      <td>166.488939</td>\n",
       "      <td>166.002595</td>\n",
       "      <td>165.726270</td>\n",
       "      <td>163.890242</td>\n",
       "      <td>162.641398</td>\n",
       "      <td>54.781408</td>\n",
       "      <td>b</td>\n",
       "      <td>Ab</td>\n",
       "    </tr>\n",
       "    <tr>\n",
       "      <th>169</th>\n",
       "      <td>CPALL</td>\n",
       "      <td>1.57000</td>\n",
       "      <td>14.91</td>\n",
       "      <td>3.18</td>\n",
       "      <td>3.00</td>\n",
       "      <td>27433089</td>\n",
       "      <td>1.296213e+09</td>\n",
       "      <td>5.795673</td>\n",
       "      <td>A</td>\n",
       "      <td>2025-09-30</td>\n",
       "      <td>...</td>\n",
       "      <td>48.00</td>\n",
       "      <td>0</td>\n",
       "      <td>47.611345</td>\n",
       "      <td>47.609995</td>\n",
       "      <td>47.128683</td>\n",
       "      <td>46.601172</td>\n",
       "      <td>46.377395</td>\n",
       "      <td>49.625573</td>\n",
       "      <td>b</td>\n",
       "      <td>Ab</td>\n",
       "    </tr>\n",
       "    <tr>\n",
       "      <th>279</th>\n",
       "      <td>PTT</td>\n",
       "      <td>1.57000</td>\n",
       "      <td>12.86</td>\n",
       "      <td>0.80</td>\n",
       "      <td>6.62</td>\n",
       "      <td>62633553</td>\n",
       "      <td>2.082566e+09</td>\n",
       "      <td>8.273408</td>\n",
       "      <td>A</td>\n",
       "      <td>2025-09-30</td>\n",
       "      <td>...</td>\n",
       "      <td>33.50</td>\n",
       "      <td>0</td>\n",
       "      <td>33.317711</td>\n",
       "      <td>33.029751</td>\n",
       "      <td>32.595977</td>\n",
       "      <td>32.110532</td>\n",
       "      <td>31.859979</td>\n",
       "      <td>56.704477</td>\n",
       "      <td>b</td>\n",
       "      <td>Ab</td>\n",
       "    </tr>\n",
       "    <tr>\n",
       "      <th>290</th>\n",
       "      <td>AOT</td>\n",
       "      <td>0.99837</td>\n",
       "      <td>29.10</td>\n",
       "      <td>4.25</td>\n",
       "      <td>2.09</td>\n",
       "      <td>37282120</td>\n",
       "      <td>1.509926e+09</td>\n",
       "      <td>6.561982</td>\n",
       "      <td>A</td>\n",
       "      <td>2025-09-30</td>\n",
       "      <td>...</td>\n",
       "      <td>40.00</td>\n",
       "      <td>0</td>\n",
       "      <td>39.855237</td>\n",
       "      <td>39.237135</td>\n",
       "      <td>38.498190</td>\n",
       "      <td>37.330585</td>\n",
       "      <td>36.597189</td>\n",
       "      <td>61.842397</td>\n",
       "      <td>b</td>\n",
       "      <td>Ab</td>\n",
       "    </tr>\n",
       "    <tr>\n",
       "      <th>343</th>\n",
       "      <td>KTC</td>\n",
       "      <td>1.46000</td>\n",
       "      <td>9.46</td>\n",
       "      <td>1.78</td>\n",
       "      <td>4.76</td>\n",
       "      <td>18935378</td>\n",
       "      <td>5.680613e+08</td>\n",
       "      <td>2.933818</td>\n",
       "      <td>A</td>\n",
       "      <td>2025-09-30</td>\n",
       "      <td>...</td>\n",
       "      <td>30.50</td>\n",
       "      <td>0</td>\n",
       "      <td>30.032762</td>\n",
       "      <td>29.761581</td>\n",
       "      <td>29.252493</td>\n",
       "      <td>29.077067</td>\n",
       "      <td>29.182725</td>\n",
       "      <td>56.056035</td>\n",
       "      <td>b</td>\n",
       "      <td>Ab</td>\n",
       "    </tr>\n",
       "    <tr>\n",
       "      <th>402</th>\n",
       "      <td>TRUE</td>\n",
       "      <td>0.10607</td>\n",
       "      <td>0.00</td>\n",
       "      <td>5.08</td>\n",
       "      <td>0.00</td>\n",
       "      <td>140305879</td>\n",
       "      <td>1.459181e+09</td>\n",
       "      <td>5.903172</td>\n",
       "      <td>A</td>\n",
       "      <td>2025-09-30</td>\n",
       "      <td>...</td>\n",
       "      <td>10.60</td>\n",
       "      <td>0</td>\n",
       "      <td>10.545747</td>\n",
       "      <td>10.825567</td>\n",
       "      <td>11.016595</td>\n",
       "      <td>11.104259</td>\n",
       "      <td>11.142516</td>\n",
       "      <td>35.539418</td>\n",
       "      <td>d</td>\n",
       "      <td>Ad</td>\n",
       "    </tr>\n",
       "    <tr>\n",
       "      <th>582</th>\n",
       "      <td>DELTA</td>\n",
       "      <td>0.81107</td>\n",
       "      <td>100.50</td>\n",
       "      <td>21.75</td>\n",
       "      <td>0.31</td>\n",
       "      <td>36883092</td>\n",
       "      <td>5.845970e+09</td>\n",
       "      <td>30.241061</td>\n",
       "      <td>A</td>\n",
       "      <td>2025-09-30</td>\n",
       "      <td>...</td>\n",
       "      <td>161.50</td>\n",
       "      <td>0</td>\n",
       "      <td>160.588164</td>\n",
       "      <td>159.114201</td>\n",
       "      <td>153.132289</td>\n",
       "      <td>143.294728</td>\n",
       "      <td>137.652982</td>\n",
       "      <td>54.079336</td>\n",
       "      <td>b</td>\n",
       "      <td>Ab</td>\n",
       "    </tr>\n",
       "    <tr>\n",
       "      <th>697</th>\n",
       "      <td>SCB</td>\n",
       "      <td>7.51035</td>\n",
       "      <td>9.03</td>\n",
       "      <td>0.90</td>\n",
       "      <td>8.12</td>\n",
       "      <td>8036020</td>\n",
       "      <td>1.032629e+09</td>\n",
       "      <td>7.874111</td>\n",
       "      <td>A</td>\n",
       "      <td>2025-09-30</td>\n",
       "      <td>...</td>\n",
       "      <td>128.00</td>\n",
       "      <td>0</td>\n",
       "      <td>127.749732</td>\n",
       "      <td>127.114766</td>\n",
       "      <td>126.669944</td>\n",
       "      <td>125.287093</td>\n",
       "      <td>124.359820</td>\n",
       "      <td>59.366471</td>\n",
       "      <td>b</td>\n",
       "      <td>Ab</td>\n",
       "    </tr>\n",
       "    <tr>\n",
       "      <th>759</th>\n",
       "      <td>KTB</td>\n",
       "      <td>0.84000</td>\n",
       "      <td>7.54</td>\n",
       "      <td>0.74</td>\n",
       "      <td>6.44</td>\n",
       "      <td>109260312</td>\n",
       "      <td>2.709656e+09</td>\n",
       "      <td>10.058986</td>\n",
       "      <td>A</td>\n",
       "      <td>2025-09-30</td>\n",
       "      <td>...</td>\n",
       "      <td>25.25</td>\n",
       "      <td>0</td>\n",
       "      <td>25.017375</td>\n",
       "      <td>25.159347</td>\n",
       "      <td>24.760301</td>\n",
       "      <td>23.956117</td>\n",
       "      <td>23.540038</td>\n",
       "      <td>47.171995</td>\n",
       "      <td>b</td>\n",
       "      <td>Ab</td>\n",
       "    </tr>\n",
       "    <tr>\n",
       "      <th>788</th>\n",
       "      <td>ADVANC</td>\n",
       "      <td>7.25000</td>\n",
       "      <td>21.85</td>\n",
       "      <td>8.51</td>\n",
       "      <td>3.65</td>\n",
       "      <td>6902339</td>\n",
       "      <td>2.008581e+09</td>\n",
       "      <td>13.951199</td>\n",
       "      <td>A</td>\n",
       "      <td>2025-09-30</td>\n",
       "      <td>...</td>\n",
       "      <td>294.00</td>\n",
       "      <td>0</td>\n",
       "      <td>291.430875</td>\n",
       "      <td>292.161805</td>\n",
       "      <td>292.544081</td>\n",
       "      <td>291.449350</td>\n",
       "      <td>290.545165</td>\n",
       "      <td>47.447405</td>\n",
       "      <td>c</td>\n",
       "      <td>Ac</td>\n",
       "    </tr>\n",
       "  </tbody>\n",
       "</table>\n",
       "<p>10 rows × 23 columns</p>\n",
       "</div>"
      ],
      "text/plain": [
       "     symbol      eps      pe    pbv  percentyield     volume     marketcap  \\\n",
       "67    KBANK  5.67000    8.09   0.68          7.19    7113291  1.191476e+09   \n",
       "169   CPALL  1.57000   14.91   3.18          3.00   27433089  1.296213e+09   \n",
       "279     PTT  1.57000   12.86   0.80          6.62   62633553  2.082566e+09   \n",
       "290     AOT  0.99837   29.10   4.25          2.09   37282120  1.509926e+09   \n",
       "343     KTC  1.46000    9.46   1.78          4.76   18935378  5.680613e+08   \n",
       "402    TRUE  0.10607    0.00   5.08          0.00  140305879  1.459181e+09   \n",
       "582   DELTA  0.81107  100.50  21.75          0.31   36883092  5.845970e+09   \n",
       "697     SCB  7.51035    9.03   0.90          8.12    8036020  1.032629e+09   \n",
       "759     KTB  0.84000    7.54   0.74          6.44  109260312  2.709656e+09   \n",
       "788  ADVANC  7.25000   21.85   8.51          3.65    6902339  2.008581e+09   \n",
       "\n",
       "         score fundamental_group       time  ...  open_price  value  \\\n",
       "67    7.195536                 A 2025-09-30  ...      168.00      0   \n",
       "169   5.795673                 A 2025-09-30  ...       48.00      0   \n",
       "279   8.273408                 A 2025-09-30  ...       33.50      0   \n",
       "290   6.561982                 A 2025-09-30  ...       40.00      0   \n",
       "343   2.933818                 A 2025-09-30  ...       30.50      0   \n",
       "402   5.903172                 A 2025-09-30  ...       10.60      0   \n",
       "582  30.241061                 A 2025-09-30  ...      161.50      0   \n",
       "697   7.874111                 A 2025-09-30  ...      128.00      0   \n",
       "759  10.058986                 A 2025-09-30  ...       25.25      0   \n",
       "788  13.951199                 A 2025-09-30  ...      294.00      0   \n",
       "\n",
       "           ema5       ema15       ema35       ema89      ema200        rsi  \\\n",
       "67   166.488939  166.002595  165.726270  163.890242  162.641398  54.781408   \n",
       "169   47.611345   47.609995   47.128683   46.601172   46.377395  49.625573   \n",
       "279   33.317711   33.029751   32.595977   32.110532   31.859979  56.704477   \n",
       "290   39.855237   39.237135   38.498190   37.330585   36.597189  61.842397   \n",
       "343   30.032762   29.761581   29.252493   29.077067   29.182725  56.056035   \n",
       "402   10.545747   10.825567   11.016595   11.104259   11.142516  35.539418   \n",
       "582  160.588164  159.114201  153.132289  143.294728  137.652982  54.079336   \n",
       "697  127.749732  127.114766  126.669944  125.287093  124.359820  59.366471   \n",
       "759   25.017375   25.159347   24.760301   23.956117   23.540038  47.171995   \n",
       "788  291.430875  292.161805  292.544081  291.449350  290.545165  47.447405   \n",
       "\n",
       "     trend_grade  quadrant  \n",
       "67             b        Ab  \n",
       "169            b        Ab  \n",
       "279            b        Ab  \n",
       "290            b        Ab  \n",
       "343            b        Ab  \n",
       "402            d        Ad  \n",
       "582            b        Ab  \n",
       "697            b        Ab  \n",
       "759            b        Ab  \n",
       "788            c        Ac  \n",
       "\n",
       "[10 rows x 23 columns]"
      ]
     },
     "execution_count": 22,
     "metadata": {},
     "output_type": "execute_result"
    }
   ],
   "source": [
    "symbols = [\"DELTA\", \"PTT\", \"AOT\", \"ADVANC\", \"KBANK\", \n",
    "           \"TRUE\", \"GULF\", \"SCB\", \"KTC\", \"KTB\", \"CPALL\"]\n",
    "\n",
    "df_filtered = df[df['symbol'].isin(symbols)]\n",
    "\n",
    "df_filtered.head(11)\n"
   ]
  },
  {
   "cell_type": "code",
   "execution_count": 23,
   "id": "93c34097",
   "metadata": {},
   "outputs": [
    {
     "data": {
      "application/vnd.plotly.v1+json": {
       "config": {
        "plotlyServerURL": "https://plot.ly"
       },
       "data": [
        {
         "cells": {
          "align": "center",
          "fill": {
           "color": [
            [
             "#2ecc71",
             "#2ecc71",
             "#2ecc71",
             "#2ecc71",
             "#2ecc71"
            ],
            [
             "#58d68d",
             "#58d68d",
             "#58d68d",
             "#58d68d",
             "#58d68d"
            ],
            [
             "#f4d03f",
             "#f4d03f",
             "#f4d03f",
             "#f4d03f",
             "#f4d03f"
            ],
            [
             "#f39c12",
             "#f39c12",
             "#f39c12",
             "#f39c12",
             "#f39c12"
            ],
            [
             "#e74c3c",
             "#e74c3c",
             "#e74c3c",
             "#e74c3c",
             "#e74c3c"
            ]
           ]
          },
          "font": {
           "color": "white",
           "size": 12
          },
          "height": 100,
          "values": [
           [
            "<b>Aa</b><br>AYUD<br>M<br>BIZ",
            "<b>Ab</b><br>VCOM<br>ADVICE<br>SAT<br>PTTEP<br>TFMAMA<br>KBANK<br>SAPPE<br>SCGP<br>TSC<br>TTW",
            "<b>Ac</b><br>TPCH<br>POLY<br>TPBI<br>SNP<br>APO<br>UP<br>CSC<br>SIRI<br>FTE<br>PIN",
            "<b>Ad</b><br>BRR<br>SMD100<br>KEX<br>NSL<br>SISB<br>FM<br>KISS<br>TNR<br>MONO<br>STANLY",
            "<b>Ae</b><br>-"
           ],
           [
            "<b>Ba</b><br>PTG<br>MODERN<br>PCC<br>TPS<br>CPI<br>FSMART",
            "<b>Bb</b><br>ROJNA<br>ASP<br>PSP<br>CPAXT<br>ARROW<br>TPAC<br>ZAA<br>FORTH<br>TEAMG<br>KCG",
            "<b>Bc</b><br>STP<br>NCP<br>SIS<br>CRC<br>TAN<br>TASCO<br>CENTEL<br>TOA<br>UTP<br>AWC",
            "<b>Bd</b><br>SUSCO<br>SFLEX<br>PCE<br>PCSGH<br>SPA<br>ILINK<br>PDJ<br>MST<br>MGI<br>MFC",
            "<b>Be</b><br>-"
           ],
           [
            "<b>Ca</b><br>TK<br>GBX<br>M-CHAI<br>CMR",
            "<b>Cb</b><br>EA<br>LEE<br>MGC<br>WINDOW<br>BIG<br>PRG<br>KOOL<br>TVH<br>RAM<br>SCGD",
            "<b>Cc</b><br>CM<br>NKT<br>BVG<br>HARN<br>CKP<br>THANI<br>ZEN<br>SJWD<br>LPH<br>ACG",
            "<b>Cd</b><br>JDF<br>PLUS<br>SNPS<br>OKJ<br>LPN<br>TRP<br>MAJOR<br>ESTAR<br>DEXON<br>STC",
            "<b>Ce</b><br>-"
           ],
           [
            "<b>Da</b><br>SEAFCO<br>AS<br>AIRA<br>AMARIN<br>NCL<br>MTW<br>DEMCO",
            "<b>Db</b><br>SFT<br>SHR<br>NPK<br>BIOTEC<br>NDR<br>LDC<br>ITD<br>RPC<br>PAP<br>WACOAL",
            "<b>Dc</b><br>SVOA<br>QTCG<br>XBIO<br>WGE<br>ALT<br>MATCH<br>AAV<br>NEWS<br>JAS<br>GLORY",
            "<b>Dd</b><br>PPPM<br>VGI<br>KSL<br>PG<br>ASN<br>ASAP<br>NOVA<br>KGEN<br>GGC<br>BSRC",
            "<b>De</b><br>-"
           ],
           [
            "<b>Ea</b><br>CHEWA<br>CMC<br>BWG",
            "<b>Eb</b><br>TPOLY<br>WORK<br>SIAM<br>TNPC<br>IRCP<br>WAVE<br>SOLAR<br>EMC<br>SKE<br>TGPRO",
            "<b>Ec</b><br>SVR<br>AJ<br>ITEL<br>RICHY<br>PLAT<br>J<br>META<br>ASIA<br>WFX<br>FANCY",
            "<b>Ed</b><br>NVD<br>TIGER<br>SAF<br>CGD<br>TSI<br>MCOT<br>MUD<br>JCKH<br>WIN<br>UREKA",
            "<b>Ee</b><br>-"
           ]
          ]
         },
         "header": {
          "align": "center",
          "fill": {
           "color": "#dcdcdc"
          },
          "font": {
           "color": "black",
           "size": 14
          }
         },
         "type": "table"
        }
       ],
       "layout": {
        "template": {
         "data": {
          "bar": [
           {
            "error_x": {
             "color": "#2a3f5f"
            },
            "error_y": {
             "color": "#2a3f5f"
            },
            "marker": {
             "line": {
              "color": "#E5ECF6",
              "width": 0.5
             },
             "pattern": {
              "fillmode": "overlay",
              "size": 10,
              "solidity": 0.2
             }
            },
            "type": "bar"
           }
          ],
          "barpolar": [
           {
            "marker": {
             "line": {
              "color": "#E5ECF6",
              "width": 0.5
             },
             "pattern": {
              "fillmode": "overlay",
              "size": 10,
              "solidity": 0.2
             }
            },
            "type": "barpolar"
           }
          ],
          "carpet": [
           {
            "aaxis": {
             "endlinecolor": "#2a3f5f",
             "gridcolor": "white",
             "linecolor": "white",
             "minorgridcolor": "white",
             "startlinecolor": "#2a3f5f"
            },
            "baxis": {
             "endlinecolor": "#2a3f5f",
             "gridcolor": "white",
             "linecolor": "white",
             "minorgridcolor": "white",
             "startlinecolor": "#2a3f5f"
            },
            "type": "carpet"
           }
          ],
          "choropleth": [
           {
            "colorbar": {
             "outlinewidth": 0,
             "ticks": ""
            },
            "type": "choropleth"
           }
          ],
          "contour": [
           {
            "colorbar": {
             "outlinewidth": 0,
             "ticks": ""
            },
            "colorscale": [
             [
              0,
              "#0d0887"
             ],
             [
              0.1111111111111111,
              "#46039f"
             ],
             [
              0.2222222222222222,
              "#7201a8"
             ],
             [
              0.3333333333333333,
              "#9c179e"
             ],
             [
              0.4444444444444444,
              "#bd3786"
             ],
             [
              0.5555555555555556,
              "#d8576b"
             ],
             [
              0.6666666666666666,
              "#ed7953"
             ],
             [
              0.7777777777777778,
              "#fb9f3a"
             ],
             [
              0.8888888888888888,
              "#fdca26"
             ],
             [
              1,
              "#f0f921"
             ]
            ],
            "type": "contour"
           }
          ],
          "contourcarpet": [
           {
            "colorbar": {
             "outlinewidth": 0,
             "ticks": ""
            },
            "type": "contourcarpet"
           }
          ],
          "heatmap": [
           {
            "colorbar": {
             "outlinewidth": 0,
             "ticks": ""
            },
            "colorscale": [
             [
              0,
              "#0d0887"
             ],
             [
              0.1111111111111111,
              "#46039f"
             ],
             [
              0.2222222222222222,
              "#7201a8"
             ],
             [
              0.3333333333333333,
              "#9c179e"
             ],
             [
              0.4444444444444444,
              "#bd3786"
             ],
             [
              0.5555555555555556,
              "#d8576b"
             ],
             [
              0.6666666666666666,
              "#ed7953"
             ],
             [
              0.7777777777777778,
              "#fb9f3a"
             ],
             [
              0.8888888888888888,
              "#fdca26"
             ],
             [
              1,
              "#f0f921"
             ]
            ],
            "type": "heatmap"
           }
          ],
          "histogram": [
           {
            "marker": {
             "pattern": {
              "fillmode": "overlay",
              "size": 10,
              "solidity": 0.2
             }
            },
            "type": "histogram"
           }
          ],
          "histogram2d": [
           {
            "colorbar": {
             "outlinewidth": 0,
             "ticks": ""
            },
            "colorscale": [
             [
              0,
              "#0d0887"
             ],
             [
              0.1111111111111111,
              "#46039f"
             ],
             [
              0.2222222222222222,
              "#7201a8"
             ],
             [
              0.3333333333333333,
              "#9c179e"
             ],
             [
              0.4444444444444444,
              "#bd3786"
             ],
             [
              0.5555555555555556,
              "#d8576b"
             ],
             [
              0.6666666666666666,
              "#ed7953"
             ],
             [
              0.7777777777777778,
              "#fb9f3a"
             ],
             [
              0.8888888888888888,
              "#fdca26"
             ],
             [
              1,
              "#f0f921"
             ]
            ],
            "type": "histogram2d"
           }
          ],
          "histogram2dcontour": [
           {
            "colorbar": {
             "outlinewidth": 0,
             "ticks": ""
            },
            "colorscale": [
             [
              0,
              "#0d0887"
             ],
             [
              0.1111111111111111,
              "#46039f"
             ],
             [
              0.2222222222222222,
              "#7201a8"
             ],
             [
              0.3333333333333333,
              "#9c179e"
             ],
             [
              0.4444444444444444,
              "#bd3786"
             ],
             [
              0.5555555555555556,
              "#d8576b"
             ],
             [
              0.6666666666666666,
              "#ed7953"
             ],
             [
              0.7777777777777778,
              "#fb9f3a"
             ],
             [
              0.8888888888888888,
              "#fdca26"
             ],
             [
              1,
              "#f0f921"
             ]
            ],
            "type": "histogram2dcontour"
           }
          ],
          "mesh3d": [
           {
            "colorbar": {
             "outlinewidth": 0,
             "ticks": ""
            },
            "type": "mesh3d"
           }
          ],
          "parcoords": [
           {
            "line": {
             "colorbar": {
              "outlinewidth": 0,
              "ticks": ""
             }
            },
            "type": "parcoords"
           }
          ],
          "pie": [
           {
            "automargin": true,
            "type": "pie"
           }
          ],
          "scatter": [
           {
            "fillpattern": {
             "fillmode": "overlay",
             "size": 10,
             "solidity": 0.2
            },
            "type": "scatter"
           }
          ],
          "scatter3d": [
           {
            "line": {
             "colorbar": {
              "outlinewidth": 0,
              "ticks": ""
             }
            },
            "marker": {
             "colorbar": {
              "outlinewidth": 0,
              "ticks": ""
             }
            },
            "type": "scatter3d"
           }
          ],
          "scattercarpet": [
           {
            "marker": {
             "colorbar": {
              "outlinewidth": 0,
              "ticks": ""
             }
            },
            "type": "scattercarpet"
           }
          ],
          "scattergeo": [
           {
            "marker": {
             "colorbar": {
              "outlinewidth": 0,
              "ticks": ""
             }
            },
            "type": "scattergeo"
           }
          ],
          "scattergl": [
           {
            "marker": {
             "colorbar": {
              "outlinewidth": 0,
              "ticks": ""
             }
            },
            "type": "scattergl"
           }
          ],
          "scattermap": [
           {
            "marker": {
             "colorbar": {
              "outlinewidth": 0,
              "ticks": ""
             }
            },
            "type": "scattermap"
           }
          ],
          "scattermapbox": [
           {
            "marker": {
             "colorbar": {
              "outlinewidth": 0,
              "ticks": ""
             }
            },
            "type": "scattermapbox"
           }
          ],
          "scatterpolar": [
           {
            "marker": {
             "colorbar": {
              "outlinewidth": 0,
              "ticks": ""
             }
            },
            "type": "scatterpolar"
           }
          ],
          "scatterpolargl": [
           {
            "marker": {
             "colorbar": {
              "outlinewidth": 0,
              "ticks": ""
             }
            },
            "type": "scatterpolargl"
           }
          ],
          "scatterternary": [
           {
            "marker": {
             "colorbar": {
              "outlinewidth": 0,
              "ticks": ""
             }
            },
            "type": "scatterternary"
           }
          ],
          "surface": [
           {
            "colorbar": {
             "outlinewidth": 0,
             "ticks": ""
            },
            "colorscale": [
             [
              0,
              "#0d0887"
             ],
             [
              0.1111111111111111,
              "#46039f"
             ],
             [
              0.2222222222222222,
              "#7201a8"
             ],
             [
              0.3333333333333333,
              "#9c179e"
             ],
             [
              0.4444444444444444,
              "#bd3786"
             ],
             [
              0.5555555555555556,
              "#d8576b"
             ],
             [
              0.6666666666666666,
              "#ed7953"
             ],
             [
              0.7777777777777778,
              "#fb9f3a"
             ],
             [
              0.8888888888888888,
              "#fdca26"
             ],
             [
              1,
              "#f0f921"
             ]
            ],
            "type": "surface"
           }
          ],
          "table": [
           {
            "cells": {
             "fill": {
              "color": "#EBF0F8"
             },
             "line": {
              "color": "white"
             }
            },
            "header": {
             "fill": {
              "color": "#C8D4E3"
             },
             "line": {
              "color": "white"
             }
            },
            "type": "table"
           }
          ]
         },
         "layout": {
          "annotationdefaults": {
           "arrowcolor": "#2a3f5f",
           "arrowhead": 0,
           "arrowwidth": 1
          },
          "autotypenumbers": "strict",
          "coloraxis": {
           "colorbar": {
            "outlinewidth": 0,
            "ticks": ""
           }
          },
          "colorscale": {
           "diverging": [
            [
             0,
             "#8e0152"
            ],
            [
             0.1,
             "#c51b7d"
            ],
            [
             0.2,
             "#de77ae"
            ],
            [
             0.3,
             "#f1b6da"
            ],
            [
             0.4,
             "#fde0ef"
            ],
            [
             0.5,
             "#f7f7f7"
            ],
            [
             0.6,
             "#e6f5d0"
            ],
            [
             0.7,
             "#b8e186"
            ],
            [
             0.8,
             "#7fbc41"
            ],
            [
             0.9,
             "#4d9221"
            ],
            [
             1,
             "#276419"
            ]
           ],
           "sequential": [
            [
             0,
             "#0d0887"
            ],
            [
             0.1111111111111111,
             "#46039f"
            ],
            [
             0.2222222222222222,
             "#7201a8"
            ],
            [
             0.3333333333333333,
             "#9c179e"
            ],
            [
             0.4444444444444444,
             "#bd3786"
            ],
            [
             0.5555555555555556,
             "#d8576b"
            ],
            [
             0.6666666666666666,
             "#ed7953"
            ],
            [
             0.7777777777777778,
             "#fb9f3a"
            ],
            [
             0.8888888888888888,
             "#fdca26"
            ],
            [
             1,
             "#f0f921"
            ]
           ],
           "sequentialminus": [
            [
             0,
             "#0d0887"
            ],
            [
             0.1111111111111111,
             "#46039f"
            ],
            [
             0.2222222222222222,
             "#7201a8"
            ],
            [
             0.3333333333333333,
             "#9c179e"
            ],
            [
             0.4444444444444444,
             "#bd3786"
            ],
            [
             0.5555555555555556,
             "#d8576b"
            ],
            [
             0.6666666666666666,
             "#ed7953"
            ],
            [
             0.7777777777777778,
             "#fb9f3a"
            ],
            [
             0.8888888888888888,
             "#fdca26"
            ],
            [
             1,
             "#f0f921"
            ]
           ]
          },
          "colorway": [
           "#636efa",
           "#EF553B",
           "#00cc96",
           "#ab63fa",
           "#FFA15A",
           "#19d3f3",
           "#FF6692",
           "#B6E880",
           "#FF97FF",
           "#FECB52"
          ],
          "font": {
           "color": "#2a3f5f"
          },
          "geo": {
           "bgcolor": "white",
           "lakecolor": "white",
           "landcolor": "#E5ECF6",
           "showlakes": true,
           "showland": true,
           "subunitcolor": "white"
          },
          "hoverlabel": {
           "align": "left"
          },
          "hovermode": "closest",
          "mapbox": {
           "style": "light"
          },
          "paper_bgcolor": "white",
          "plot_bgcolor": "#E5ECF6",
          "polar": {
           "angularaxis": {
            "gridcolor": "white",
            "linecolor": "white",
            "ticks": ""
           },
           "bgcolor": "#E5ECF6",
           "radialaxis": {
            "gridcolor": "white",
            "linecolor": "white",
            "ticks": ""
           }
          },
          "scene": {
           "xaxis": {
            "backgroundcolor": "#E5ECF6",
            "gridcolor": "white",
            "gridwidth": 2,
            "linecolor": "white",
            "showbackground": true,
            "ticks": "",
            "zerolinecolor": "white"
           },
           "yaxis": {
            "backgroundcolor": "#E5ECF6",
            "gridcolor": "white",
            "gridwidth": 2,
            "linecolor": "white",
            "showbackground": true,
            "ticks": "",
            "zerolinecolor": "white"
           },
           "zaxis": {
            "backgroundcolor": "#E5ECF6",
            "gridcolor": "white",
            "gridwidth": 2,
            "linecolor": "white",
            "showbackground": true,
            "ticks": "",
            "zerolinecolor": "white"
           }
          },
          "shapedefaults": {
           "line": {
            "color": "#2a3f5f"
           }
          },
          "ternary": {
           "aaxis": {
            "gridcolor": "white",
            "linecolor": "white",
            "ticks": ""
           },
           "baxis": {
            "gridcolor": "white",
            "linecolor": "white",
            "ticks": ""
           },
           "bgcolor": "#E5ECF6",
           "caxis": {
            "gridcolor": "white",
            "linecolor": "white",
            "ticks": ""
           }
          },
          "title": {
           "x": 0.05
          },
          "xaxis": {
           "automargin": true,
           "gridcolor": "white",
           "linecolor": "white",
           "ticks": "",
           "title": {
            "standoff": 15
           },
           "zerolinecolor": "white",
           "zerolinewidth": 2
          },
          "yaxis": {
           "automargin": true,
           "gridcolor": "white",
           "linecolor": "white",
           "ticks": "",
           "title": {
            "standoff": 15
           },
           "zerolinecolor": "white",
           "zerolinewidth": 2
          }
         }
        },
        "title": {
         "text": "📊 Stock Quadrant Table (Aa–Ee) จาก Rule-Based or Model"
        }
       }
      }
     },
     "metadata": {},
     "output_type": "display_data"
    }
   ],
   "source": [
    "import plotly.graph_objects as go\n",
    "df_result3=df\n",
    "# ✅ จัดกลุ่มหุ้นตาม quadrant\n",
    "quadrant_groups = df_result3.groupby('quadrant')['symbol'].apply(list).to_dict()\n",
    "\n",
    "# ✅ กำหนดลำดับของแกน\n",
    "financial_levels = ['A', 'B', 'C', 'D', 'E']  # A = Strong fundamentals\n",
    "trend_levels = ['a', 'b', 'c', 'd', 'e']      # a = Bullish, e = Crash\n",
    "\n",
    "# ✅ เตรียมข้อมูลแต่ละเซลล์ในตาราง (5x5)\n",
    "plot_table = []\n",
    "for f in financial_levels:\n",
    "    row = []\n",
    "    for t in trend_levels:\n",
    "        code = f + t\n",
    "        stocks = quadrant_groups.get(code, [])\n",
    "        if stocks:\n",
    "            stock_list = \"<br>\".join(stocks[:10])  # แสดงสูงสุด 10 ตัว\n",
    "            cell_text = f\"<b>{code}</b><br>{stock_list}\"\n",
    "        else:\n",
    "            cell_text = f\"<b>{code}</b><br>-\"\n",
    "        row.append(cell_text)\n",
    "    plot_table.append(row)\n",
    "\n",
    "# ✅ สร้างสีของแต่ละแถวตามกลุ่มพื้นฐาน A–E\n",
    "colors = [[{'A': '#2ecc71', 'B': '#58d68d', 'C': '#f4d03f', 'D': '#f39c12', 'E': '#e74c3c'}[f]]*5 for f in financial_levels]\n",
    "\n",
    "# ✅ Plotly Table\n",
    "fig = go.Figure(data=go.Table(\n",
    "    header=dict(\n",
    "        fill_color=\"#dcdcdc\",\n",
    "        align=\"center\",\n",
    "        font=dict(color=\"black\", size=14)\n",
    "    ),\n",
    "    cells=dict(\n",
    "        values=plot_table,\n",
    "        fill_color=colors,\n",
    "        align=\"center\",\n",
    "        height=100,\n",
    "        font=dict(color=\"white\", size=12)\n",
    "    )\n",
    "))\n",
    "\n",
    "# ✅ ตั้งชื่อกราฟ\n",
    "fig.update_layout(title=\"📊 Stock Quadrant Table (Aa–Ee) จาก Rule-Based or Model\")\n",
    "fig.show()\n"
   ]
  },
  {
   "cell_type": "markdown",
   "id": "d36038a8",
   "metadata": {},
   "source": [
    "### 📘 **ชื่อกราฟ:** Quadrant Heatmap\n",
    "\n",
    "**แกน Y (แนวตั้ง):** Fundamental Group (A–E)\n",
    "\n",
    "> A = พื้นฐานดีมาก → E = พื้นฐานแย่ที่สุด\n",
    "\n",
    "**แกน X (แนวนอน):** Trend Grade (a–e)\n",
    "\n",
    "> a = ขาขึ้นแรง → e = ขาลงแรง\n",
    "\n",
    "**สี:**\n",
    "\n",
    "* สีเข้ม (แดง–เลือดหมู) หมายถึง มีจำนวนหุ้นมากใน Quadrant นั้น\n",
    "* สีอ่อน (เหลือง–ขาว) หมายถึง มีหุ้นน้อยหรือแทบไม่มี\n",
    "\n",
    "---\n",
    "\n",
    "### 📊 **สิ่งที่ Heatmap แสดงให้เห็น**\n",
    "\n",
    "| พื้นฐาน \\ แนวโน้ม | a | b      | c  | d  | e |\n",
    "| ----------------- | - | ------ | -- | -- | - |\n",
    "| **A**             | 3 | **76** | 45 | 35 | 0 |\n",
    "| **B**             | 6 | **66** | 54 | 39 | 0 |\n",
    "| **C**             | 4 | **68** | 50 | 39 | 0 |\n",
    "| **D**             | 7 | **58** | 48 | 40 | 0 |\n",
    "| **E**             | 3 | **67** | 50 | 41 | 0 |\n",
    "\n",
    "---\n",
    "\n",
    "### 🔍 **วิเคราะห์ความหมาย**\n",
    "\n",
    "1. **จุดหนาแน่นสูงสุด (สีแดงเข้ม)**\n",
    "\n",
    "   * อยู่ที่คอลัมน์ **b (trend ขาขึ้น)** ในทุกระดับพื้นฐาน A–E\n",
    "   * โดยเฉพาะ **A–b (76 หุ้น)** มากที่สุด\n",
    "     👉 หมายความว่า หุ้นส่วนใหญ่ในตลาดตอนนี้ **มีแนวโน้มขาขึ้นระดับปานกลางถึงดี**\n",
    "\n",
    "2. **แทบไม่มีหุ้นในแนวโน้ม “e” (ขาลงแรง)**\n",
    "\n",
    "   * แถวสุดท้ายของทุกกลุ่มเป็น 0\n",
    "     👉 บ่งบอกว่าตลาดโดยรวมยัง “ไม่เข้าสู่ภาวะขาลงแรง”\n",
    "\n",
    "3. **กลุ่ม A–b, B–b, C–b, E–b** มีจำนวนสูงใกล้เคียงกัน\n",
    "   👉 สะท้อนว่าการขึ้นของตลาดเกิดทั่วทั้งกลุ่ม ไม่เฉพาะหุ้นพื้นฐานดี\n",
    "\n",
    "4. **กลุ่ม A–a มีเพียง 3 หุ้น**\n",
    "   👉 หุ้นพื้นฐานดีและขาขึ้นแรงจริง ๆ มีน้อยมาก — เป็น “กลุ่มเด่นพิเศษ” หรือ “หุ้นนำตลาด (leaders)”\n",
    "\n",
    "---\n",
    "\n",
    "### 🧠 **สรุปภาพรวมตลาดจากกราฟนี้**\n",
    "\n",
    "* ตลาดส่วนใหญ่ **อยู่ในแนวโน้มขาขึ้นระดับ b และ c**\n",
    "* **หุ้นพื้นฐานดี (A, B)** ก็ยังคงเป็นขาขึ้น → ภาวะตลาด “เชิงบวก” (bullish sentiment)\n",
    "* **ไม่มีหุ้นใน e (ขาลงแรง)** → ความเสี่ยงตลาดโดยรวมต่ำ\n",
    "* สามารถสรุปได้ว่า\n",
    "\n",
    "  > “Most stocks are in a mild-to-strong uptrend, with concentration in Quadrants Ab–Cb, indicating a stable bullish phase.”\n",
    "\n",
    "---"
   ]
  },
  {
   "cell_type": "code",
   "execution_count": 24,
   "id": "760a8505",
   "metadata": {},
   "outputs": [
    {
     "data": {
      "application/vnd.plotly.v1+json": {
       "config": {
        "plotlyServerURL": "https://plot.ly"
       },
       "data": [
        {
         "coloraxis": "coloraxis",
         "hovertemplate": "Trend (a–e): %{x}<br>Fundamental Group (A–E): %{y}<br>Stock Count: %{z}<extra></extra>",
         "name": "0",
         "texttemplate": "%{z}",
         "type": "heatmap",
         "x": [
          "a",
          "b",
          "c",
          "d",
          "e"
         ],
         "xaxis": "x",
         "y": [
          "A",
          "B",
          "C",
          "D",
          "E"
         ],
         "yaxis": "y",
         "z": {
          "bdata": "A0wtIwAGQjYnAAREMicABzowKAADQzIpAA==",
          "dtype": "i1",
          "shape": "5, 5"
         }
        }
       ],
       "layout": {
        "coloraxis": {
         "colorbar": {
          "title": {
           "text": "Stock Count"
          }
         },
         "colorscale": [
          [
           0,
           "rgb(255,255,204)"
          ],
          [
           0.125,
           "rgb(255,237,160)"
          ],
          [
           0.25,
           "rgb(254,217,118)"
          ],
          [
           0.375,
           "rgb(254,178,76)"
          ],
          [
           0.5,
           "rgb(253,141,60)"
          ],
          [
           0.625,
           "rgb(252,78,42)"
          ],
          [
           0.75,
           "rgb(227,26,28)"
          ],
          [
           0.875,
           "rgb(189,0,38)"
          ],
          [
           1,
           "rgb(128,0,38)"
          ]
         ]
        },
        "margin": {
         "t": 60
        },
        "template": {
         "data": {
          "bar": [
           {
            "error_x": {
             "color": "#2a3f5f"
            },
            "error_y": {
             "color": "#2a3f5f"
            },
            "marker": {
             "line": {
              "color": "#E5ECF6",
              "width": 0.5
             },
             "pattern": {
              "fillmode": "overlay",
              "size": 10,
              "solidity": 0.2
             }
            },
            "type": "bar"
           }
          ],
          "barpolar": [
           {
            "marker": {
             "line": {
              "color": "#E5ECF6",
              "width": 0.5
             },
             "pattern": {
              "fillmode": "overlay",
              "size": 10,
              "solidity": 0.2
             }
            },
            "type": "barpolar"
           }
          ],
          "carpet": [
           {
            "aaxis": {
             "endlinecolor": "#2a3f5f",
             "gridcolor": "white",
             "linecolor": "white",
             "minorgridcolor": "white",
             "startlinecolor": "#2a3f5f"
            },
            "baxis": {
             "endlinecolor": "#2a3f5f",
             "gridcolor": "white",
             "linecolor": "white",
             "minorgridcolor": "white",
             "startlinecolor": "#2a3f5f"
            },
            "type": "carpet"
           }
          ],
          "choropleth": [
           {
            "colorbar": {
             "outlinewidth": 0,
             "ticks": ""
            },
            "type": "choropleth"
           }
          ],
          "contour": [
           {
            "colorbar": {
             "outlinewidth": 0,
             "ticks": ""
            },
            "colorscale": [
             [
              0,
              "#0d0887"
             ],
             [
              0.1111111111111111,
              "#46039f"
             ],
             [
              0.2222222222222222,
              "#7201a8"
             ],
             [
              0.3333333333333333,
              "#9c179e"
             ],
             [
              0.4444444444444444,
              "#bd3786"
             ],
             [
              0.5555555555555556,
              "#d8576b"
             ],
             [
              0.6666666666666666,
              "#ed7953"
             ],
             [
              0.7777777777777778,
              "#fb9f3a"
             ],
             [
              0.8888888888888888,
              "#fdca26"
             ],
             [
              1,
              "#f0f921"
             ]
            ],
            "type": "contour"
           }
          ],
          "contourcarpet": [
           {
            "colorbar": {
             "outlinewidth": 0,
             "ticks": ""
            },
            "type": "contourcarpet"
           }
          ],
          "heatmap": [
           {
            "colorbar": {
             "outlinewidth": 0,
             "ticks": ""
            },
            "colorscale": [
             [
              0,
              "#0d0887"
             ],
             [
              0.1111111111111111,
              "#46039f"
             ],
             [
              0.2222222222222222,
              "#7201a8"
             ],
             [
              0.3333333333333333,
              "#9c179e"
             ],
             [
              0.4444444444444444,
              "#bd3786"
             ],
             [
              0.5555555555555556,
              "#d8576b"
             ],
             [
              0.6666666666666666,
              "#ed7953"
             ],
             [
              0.7777777777777778,
              "#fb9f3a"
             ],
             [
              0.8888888888888888,
              "#fdca26"
             ],
             [
              1,
              "#f0f921"
             ]
            ],
            "type": "heatmap"
           }
          ],
          "histogram": [
           {
            "marker": {
             "pattern": {
              "fillmode": "overlay",
              "size": 10,
              "solidity": 0.2
             }
            },
            "type": "histogram"
           }
          ],
          "histogram2d": [
           {
            "colorbar": {
             "outlinewidth": 0,
             "ticks": ""
            },
            "colorscale": [
             [
              0,
              "#0d0887"
             ],
             [
              0.1111111111111111,
              "#46039f"
             ],
             [
              0.2222222222222222,
              "#7201a8"
             ],
             [
              0.3333333333333333,
              "#9c179e"
             ],
             [
              0.4444444444444444,
              "#bd3786"
             ],
             [
              0.5555555555555556,
              "#d8576b"
             ],
             [
              0.6666666666666666,
              "#ed7953"
             ],
             [
              0.7777777777777778,
              "#fb9f3a"
             ],
             [
              0.8888888888888888,
              "#fdca26"
             ],
             [
              1,
              "#f0f921"
             ]
            ],
            "type": "histogram2d"
           }
          ],
          "histogram2dcontour": [
           {
            "colorbar": {
             "outlinewidth": 0,
             "ticks": ""
            },
            "colorscale": [
             [
              0,
              "#0d0887"
             ],
             [
              0.1111111111111111,
              "#46039f"
             ],
             [
              0.2222222222222222,
              "#7201a8"
             ],
             [
              0.3333333333333333,
              "#9c179e"
             ],
             [
              0.4444444444444444,
              "#bd3786"
             ],
             [
              0.5555555555555556,
              "#d8576b"
             ],
             [
              0.6666666666666666,
              "#ed7953"
             ],
             [
              0.7777777777777778,
              "#fb9f3a"
             ],
             [
              0.8888888888888888,
              "#fdca26"
             ],
             [
              1,
              "#f0f921"
             ]
            ],
            "type": "histogram2dcontour"
           }
          ],
          "mesh3d": [
           {
            "colorbar": {
             "outlinewidth": 0,
             "ticks": ""
            },
            "type": "mesh3d"
           }
          ],
          "parcoords": [
           {
            "line": {
             "colorbar": {
              "outlinewidth": 0,
              "ticks": ""
             }
            },
            "type": "parcoords"
           }
          ],
          "pie": [
           {
            "automargin": true,
            "type": "pie"
           }
          ],
          "scatter": [
           {
            "fillpattern": {
             "fillmode": "overlay",
             "size": 10,
             "solidity": 0.2
            },
            "type": "scatter"
           }
          ],
          "scatter3d": [
           {
            "line": {
             "colorbar": {
              "outlinewidth": 0,
              "ticks": ""
             }
            },
            "marker": {
             "colorbar": {
              "outlinewidth": 0,
              "ticks": ""
             }
            },
            "type": "scatter3d"
           }
          ],
          "scattercarpet": [
           {
            "marker": {
             "colorbar": {
              "outlinewidth": 0,
              "ticks": ""
             }
            },
            "type": "scattercarpet"
           }
          ],
          "scattergeo": [
           {
            "marker": {
             "colorbar": {
              "outlinewidth": 0,
              "ticks": ""
             }
            },
            "type": "scattergeo"
           }
          ],
          "scattergl": [
           {
            "marker": {
             "colorbar": {
              "outlinewidth": 0,
              "ticks": ""
             }
            },
            "type": "scattergl"
           }
          ],
          "scattermap": [
           {
            "marker": {
             "colorbar": {
              "outlinewidth": 0,
              "ticks": ""
             }
            },
            "type": "scattermap"
           }
          ],
          "scattermapbox": [
           {
            "marker": {
             "colorbar": {
              "outlinewidth": 0,
              "ticks": ""
             }
            },
            "type": "scattermapbox"
           }
          ],
          "scatterpolar": [
           {
            "marker": {
             "colorbar": {
              "outlinewidth": 0,
              "ticks": ""
             }
            },
            "type": "scatterpolar"
           }
          ],
          "scatterpolargl": [
           {
            "marker": {
             "colorbar": {
              "outlinewidth": 0,
              "ticks": ""
             }
            },
            "type": "scatterpolargl"
           }
          ],
          "scatterternary": [
           {
            "marker": {
             "colorbar": {
              "outlinewidth": 0,
              "ticks": ""
             }
            },
            "type": "scatterternary"
           }
          ],
          "surface": [
           {
            "colorbar": {
             "outlinewidth": 0,
             "ticks": ""
            },
            "colorscale": [
             [
              0,
              "#0d0887"
             ],
             [
              0.1111111111111111,
              "#46039f"
             ],
             [
              0.2222222222222222,
              "#7201a8"
             ],
             [
              0.3333333333333333,
              "#9c179e"
             ],
             [
              0.4444444444444444,
              "#bd3786"
             ],
             [
              0.5555555555555556,
              "#d8576b"
             ],
             [
              0.6666666666666666,
              "#ed7953"
             ],
             [
              0.7777777777777778,
              "#fb9f3a"
             ],
             [
              0.8888888888888888,
              "#fdca26"
             ],
             [
              1,
              "#f0f921"
             ]
            ],
            "type": "surface"
           }
          ],
          "table": [
           {
            "cells": {
             "fill": {
              "color": "#EBF0F8"
             },
             "line": {
              "color": "white"
             }
            },
            "header": {
             "fill": {
              "color": "#C8D4E3"
             },
             "line": {
              "color": "white"
             }
            },
            "type": "table"
           }
          ]
         },
         "layout": {
          "annotationdefaults": {
           "arrowcolor": "#2a3f5f",
           "arrowhead": 0,
           "arrowwidth": 1
          },
          "autotypenumbers": "strict",
          "coloraxis": {
           "colorbar": {
            "outlinewidth": 0,
            "ticks": ""
           }
          },
          "colorscale": {
           "diverging": [
            [
             0,
             "#8e0152"
            ],
            [
             0.1,
             "#c51b7d"
            ],
            [
             0.2,
             "#de77ae"
            ],
            [
             0.3,
             "#f1b6da"
            ],
            [
             0.4,
             "#fde0ef"
            ],
            [
             0.5,
             "#f7f7f7"
            ],
            [
             0.6,
             "#e6f5d0"
            ],
            [
             0.7,
             "#b8e186"
            ],
            [
             0.8,
             "#7fbc41"
            ],
            [
             0.9,
             "#4d9221"
            ],
            [
             1,
             "#276419"
            ]
           ],
           "sequential": [
            [
             0,
             "#0d0887"
            ],
            [
             0.1111111111111111,
             "#46039f"
            ],
            [
             0.2222222222222222,
             "#7201a8"
            ],
            [
             0.3333333333333333,
             "#9c179e"
            ],
            [
             0.4444444444444444,
             "#bd3786"
            ],
            [
             0.5555555555555556,
             "#d8576b"
            ],
            [
             0.6666666666666666,
             "#ed7953"
            ],
            [
             0.7777777777777778,
             "#fb9f3a"
            ],
            [
             0.8888888888888888,
             "#fdca26"
            ],
            [
             1,
             "#f0f921"
            ]
           ],
           "sequentialminus": [
            [
             0,
             "#0d0887"
            ],
            [
             0.1111111111111111,
             "#46039f"
            ],
            [
             0.2222222222222222,
             "#7201a8"
            ],
            [
             0.3333333333333333,
             "#9c179e"
            ],
            [
             0.4444444444444444,
             "#bd3786"
            ],
            [
             0.5555555555555556,
             "#d8576b"
            ],
            [
             0.6666666666666666,
             "#ed7953"
            ],
            [
             0.7777777777777778,
             "#fb9f3a"
            ],
            [
             0.8888888888888888,
             "#fdca26"
            ],
            [
             1,
             "#f0f921"
            ]
           ]
          },
          "colorway": [
           "#636efa",
           "#EF553B",
           "#00cc96",
           "#ab63fa",
           "#FFA15A",
           "#19d3f3",
           "#FF6692",
           "#B6E880",
           "#FF97FF",
           "#FECB52"
          ],
          "font": {
           "color": "#2a3f5f"
          },
          "geo": {
           "bgcolor": "white",
           "lakecolor": "white",
           "landcolor": "#E5ECF6",
           "showlakes": true,
           "showland": true,
           "subunitcolor": "white"
          },
          "hoverlabel": {
           "align": "left"
          },
          "hovermode": "closest",
          "mapbox": {
           "style": "light"
          },
          "paper_bgcolor": "white",
          "plot_bgcolor": "#E5ECF6",
          "polar": {
           "angularaxis": {
            "gridcolor": "white",
            "linecolor": "white",
            "ticks": ""
           },
           "bgcolor": "#E5ECF6",
           "radialaxis": {
            "gridcolor": "white",
            "linecolor": "white",
            "ticks": ""
           }
          },
          "scene": {
           "xaxis": {
            "backgroundcolor": "#E5ECF6",
            "gridcolor": "white",
            "gridwidth": 2,
            "linecolor": "white",
            "showbackground": true,
            "ticks": "",
            "zerolinecolor": "white"
           },
           "yaxis": {
            "backgroundcolor": "#E5ECF6",
            "gridcolor": "white",
            "gridwidth": 2,
            "linecolor": "white",
            "showbackground": true,
            "ticks": "",
            "zerolinecolor": "white"
           },
           "zaxis": {
            "backgroundcolor": "#E5ECF6",
            "gridcolor": "white",
            "gridwidth": 2,
            "linecolor": "white",
            "showbackground": true,
            "ticks": "",
            "zerolinecolor": "white"
           }
          },
          "shapedefaults": {
           "line": {
            "color": "#2a3f5f"
           }
          },
          "ternary": {
           "aaxis": {
            "gridcolor": "white",
            "linecolor": "white",
            "ticks": ""
           },
           "baxis": {
            "gridcolor": "white",
            "linecolor": "white",
            "ticks": ""
           },
           "bgcolor": "#E5ECF6",
           "caxis": {
            "gridcolor": "white",
            "linecolor": "white",
            "ticks": ""
           }
          },
          "title": {
           "x": 0.05
          },
          "xaxis": {
           "automargin": true,
           "gridcolor": "white",
           "linecolor": "white",
           "ticks": "",
           "title": {
            "standoff": 15
           },
           "zerolinecolor": "white",
           "zerolinewidth": 2
          },
          "yaxis": {
           "automargin": true,
           "gridcolor": "white",
           "linecolor": "white",
           "ticks": "",
           "title": {
            "standoff": 15
           },
           "zerolinecolor": "white",
           "zerolinewidth": 2
          }
         }
        },
        "title": {
         "text": "📊 Quadrant Heatmap"
        },
        "xaxis": {
         "anchor": "y",
         "constrain": "domain",
         "domain": [
          0,
          1
         ],
         "scaleanchor": "y",
         "title": {
          "text": "Trend (a–e)"
         }
        },
        "yaxis": {
         "anchor": "x",
         "autorange": "reversed",
         "constrain": "domain",
         "domain": [
          0,
          1
         ],
         "title": {
          "text": "Fundamental Group (A–E)"
         }
        }
       }
      }
     },
     "metadata": {},
     "output_type": "display_data"
    }
   ],
   "source": [
    "import plotly.express as px\n",
    "quadrant_counts = df_result3['quadrant'].value_counts().sort_index()\n",
    "financial_levels = [\"A\",\"B\",\"C\",\"D\",\"E\"]   # กลุ่มพื้นฐาน (Fundamental)\n",
    "trend_levels = [\"a\",\"b\",\"c\",\"d\",\"e\"]       # กลุ่มเทคนิค (Trend)\n",
    "\n",
    "heatmap_data = pd.DataFrame(0, index=financial_levels, columns=trend_levels)\n",
    "for q, count in quadrant_counts.items():\n",
    "    fin = q[0]   # เช่น \"A\"\n",
    "    trend = q[1] # เช่น \"a\"\n",
    "    heatmap_data.loc[fin, trend] = count\n",
    "fig = px.imshow(\n",
    "    heatmap_data,\n",
    "    labels=dict(x=\"Trend (a–e)\", y=\"Fundamental Group (A–E)\", color=\"Stock Count\"),\n",
    "    x=trend_levels,\n",
    "    y=financial_levels,\n",
    "    color_continuous_scale=\"YlOrRd\",\n",
    "    text_auto=True\n",
    ")\n",
    "fig.update_layout(title=\"📊 Quadrant Heatmap\")"
   ]
  },
  {
   "cell_type": "markdown",
   "id": "ec60f374",
   "metadata": {},
   "source": [
    "Modelling"
   ]
  },
  {
   "cell_type": "code",
   "execution_count": 25,
   "id": "1ac59a0a",
   "metadata": {},
   "outputs": [
    {
     "name": "stdout",
     "output_type": "stream",
     "text": [
      "🚀 Running K-Means...\n",
      "🌳 Running Decision Tree...\n",
      "🔹 Running K-Nearest Neighbors...\n",
      "🤖 Running ANN...\n"
     ]
    },
    {
     "name": "stderr",
     "output_type": "stream",
     "text": [
      "c:\\Users\\Admin\\AppData\\Local\\Programs\\Python\\Python310\\lib\\site-packages\\keras\\src\\layers\\core\\dense.py:87: UserWarning:\n",
      "\n",
      "Do not pass an `input_shape`/`input_dim` argument to a layer. When using Sequential models, prefer using an `Input(shape)` object as the first layer in the model instead.\n",
      "\n"
     ]
    },
    {
     "name": "stdout",
     "output_type": "stream",
     "text": [
      "\u001b[1m5/5\u001b[0m \u001b[32m━━━━━━━━━━━━━━━━━━━━\u001b[0m\u001b[37m\u001b[0m \u001b[1m0s\u001b[0m 16ms/step \n",
      "🧠 Running Deep Learning...\n"
     ]
    },
    {
     "name": "stderr",
     "output_type": "stream",
     "text": [
      "c:\\Users\\Admin\\AppData\\Local\\Programs\\Python\\Python310\\lib\\site-packages\\keras\\src\\layers\\core\\dense.py:87: UserWarning:\n",
      "\n",
      "Do not pass an `input_shape`/`input_dim` argument to a layer. When using Sequential models, prefer using an `Input(shape)` object as the first layer in the model instead.\n",
      "\n"
     ]
    },
    {
     "name": "stdout",
     "output_type": "stream",
     "text": [
      "\u001b[1m5/5\u001b[0m \u001b[32m━━━━━━━━━━━━━━━━━━━━\u001b[0m\u001b[37m\u001b[0m \u001b[1m0s\u001b[0m 10ms/step \n",
      "\n",
      "📊 MODEL PERFORMANCE SUMMARY\n"
     ]
    },
    {
     "data": {
      "text/html": [
       "<div>\n",
       "<style scoped>\n",
       "    .dataframe tbody tr th:only-of-type {\n",
       "        vertical-align: middle;\n",
       "    }\n",
       "\n",
       "    .dataframe tbody tr th {\n",
       "        vertical-align: top;\n",
       "    }\n",
       "\n",
       "    .dataframe thead th {\n",
       "        text-align: right;\n",
       "    }\n",
       "</style>\n",
       "<table border=\"1\" class=\"dataframe\">\n",
       "  <thead>\n",
       "    <tr style=\"text-align: right;\">\n",
       "      <th></th>\n",
       "      <th>Model</th>\n",
       "      <th>Accuracy</th>\n",
       "      <th>F1-Score</th>\n",
       "    </tr>\n",
       "  </thead>\n",
       "  <tbody>\n",
       "    <tr>\n",
       "      <th>0</th>\n",
       "      <td>Artificial Neural Network (ANN)</td>\n",
       "      <td>0.581250</td>\n",
       "      <td>0.535334</td>\n",
       "    </tr>\n",
       "    <tr>\n",
       "      <th>1</th>\n",
       "      <td>Deep Learning (Improved ANN)</td>\n",
       "      <td>0.575000</td>\n",
       "      <td>0.516531</td>\n",
       "    </tr>\n",
       "    <tr>\n",
       "      <th>2</th>\n",
       "      <td>K-Nearest Neighbors (KNN)</td>\n",
       "      <td>0.468750</td>\n",
       "      <td>0.447683</td>\n",
       "    </tr>\n",
       "    <tr>\n",
       "      <th>3</th>\n",
       "      <td>Decision Tree</td>\n",
       "      <td>0.456250</td>\n",
       "      <td>0.416173</td>\n",
       "    </tr>\n",
       "    <tr>\n",
       "      <th>4</th>\n",
       "      <td>K-Means (Unsupervised)</td>\n",
       "      <td>0.067584</td>\n",
       "      <td>0.020737</td>\n",
       "    </tr>\n",
       "  </tbody>\n",
       "</table>\n",
       "</div>"
      ],
      "text/plain": [
       "                             Model  Accuracy  F1-Score\n",
       "0  Artificial Neural Network (ANN)  0.581250  0.535334\n",
       "1     Deep Learning (Improved ANN)  0.575000  0.516531\n",
       "2        K-Nearest Neighbors (KNN)  0.468750  0.447683\n",
       "3                    Decision Tree  0.456250  0.416173\n",
       "4           K-Means (Unsupervised)  0.067584  0.020737"
      ]
     },
     "metadata": {},
     "output_type": "display_data"
    },
    {
     "data": {
      "image/png": "[encoded data removed]",
      "text/plain": [
       "<Figure size 900x500 with 1 Axes>"
      ]
     },
     "metadata": {},
     "output_type": "display_data"
    }
   ],
   "source": [
    "# ============================================================\n",
    "# 🔰 Stock Quadrant Quantitative Analysis - Auto Model Pipeline\n",
    "# ============================================================\n",
    "\n",
    "import pandas as pd\n",
    "import numpy as np\n",
    "import matplotlib.pyplot as plt\n",
    "import seaborn as sns\n",
    "from sklearn.preprocessing import StandardScaler, LabelEncoder\n",
    "from sklearn.model_selection import train_test_split\n",
    "from sklearn.metrics import accuracy_score, f1_score, classification_report, confusion_matrix\n",
    "\n",
    "# Machine Learning Models\n",
    "from sklearn.cluster import KMeans\n",
    "from sklearn.tree import DecisionTreeClassifier\n",
    "from sklearn.neighbors import KNeighborsClassifier\n",
    "\n",
    "# Deep Learning Models\n",
    "from tensorflow.keras.models import Sequential\n",
    "from tensorflow.keras.layers import Dense, Dropout, BatchNormalization\n",
    "from tensorflow.keras.utils import to_categorical\n",
    "from tensorflow.keras.callbacks import EarlyStopping\n",
    "\n",
    "# -----------------------------\n",
    "# 1. โหลดข้อมูล\n",
    "# -----------------------------\n",
    "df = pd.read_excel(\"stock_all_data.xlsx\")\n",
    "\n",
    "features = [\"eps\", \"pe\", \"pbv\", \"percentyield\", \"marketcap\",\n",
    "            \"close_price\", \"high_price\", \"low_price\", \"open_price\",\n",
    "            \"value\", \"ema5\", \"ema15\", \"ema35\", \"ema89\", \"ema200\", \"rsi\"]\n",
    "\n",
    "df = df.dropna(subset=features + [\"quadrant\"])\n",
    "X = df[features]\n",
    "y = df[\"quadrant\"]\n",
    "\n",
    "# -----------------------------\n",
    "# 2. เตรียมข้อมูล\n",
    "# -----------------------------\n",
    "le = LabelEncoder()\n",
    "y_encoded = le.fit_transform(y)\n",
    "y_categorical = to_categorical(y_encoded)\n",
    "\n",
    "scaler = StandardScaler()\n",
    "X_scaled = scaler.fit_transform(X)\n",
    "\n",
    "X_train, X_test, y_train, y_test = train_test_split(\n",
    "    X_scaled, y_encoded, test_size=0.2, random_state=42\n",
    ")\n",
    "\n",
    "# -----------------------------\n",
    "# 3. เริ่มเก็บผลลัพธ์\n",
    "# -----------------------------\n",
    "results = []\n",
    "\n",
    "# ============================================================\n",
    "# ✅ 1. K-Means (Baseline)\n",
    "# ============================================================\n",
    "print(\"🚀 Running K-Means...\")\n",
    "kmeans = KMeans(n_clusters=5, random_state=42, n_init=10)\n",
    "clusters = kmeans.fit_predict(X_scaled)\n",
    "acc_kmeans = accuracy_score(y_encoded, clusters)\n",
    "f1_kmeans = f1_score(y_encoded, clusters, average=\"weighted\", zero_division=0)\n",
    "results.append([\"K-Means (Unsupervised)\", acc_kmeans, f1_kmeans])\n",
    "\n",
    "# ============================================================\n",
    "# ✅ 2. Decision Tree\n",
    "# ============================================================\n",
    "print(\"🌳 Running Decision Tree...\")\n",
    "tree_model = DecisionTreeClassifier(criterion=\"entropy\", max_depth=6, random_state=42)\n",
    "tree_model.fit(X_train, y_train)\n",
    "y_pred_tree = tree_model.predict(X_test)\n",
    "acc_tree = accuracy_score(y_test, y_pred_tree)\n",
    "f1_tree = f1_score(y_test, y_pred_tree, average=\"weighted\")\n",
    "results.append([\"Decision Tree\", acc_tree, f1_tree])\n",
    "\n",
    "# ============================================================\n",
    "# ✅ 3. KNN\n",
    "# ============================================================\n",
    "print(\"🔹 Running K-Nearest Neighbors...\")\n",
    "knn_model = KNeighborsClassifier(n_neighbors=7, weights=\"distance\")\n",
    "knn_model.fit(X_train, y_train)\n",
    "y_pred_knn = knn_model.predict(X_test)\n",
    "acc_knn = accuracy_score(y_test, y_pred_knn)\n",
    "f1_knn = f1_score(y_test, y_pred_knn, average=\"weighted\")\n",
    "results.append([\"K-Nearest Neighbors (KNN)\", acc_knn, f1_knn])\n",
    "\n",
    "# ============================================================\n",
    "# ✅ 4. ANN (Basic Neural Network)\n",
    "# ============================================================\n",
    "print(\"🤖 Running ANN...\")\n",
    "y_train_cat = to_categorical(y_train)\n",
    "y_test_cat = to_categorical(y_test)\n",
    "\n",
    "ann = Sequential([\n",
    "    Dense(128, activation='relu', input_dim=X_train.shape[1]),\n",
    "    Dropout(0.3),\n",
    "    Dense(64, activation='relu'),\n",
    "    Dropout(0.3),\n",
    "    Dense(y_train_cat.shape[1], activation='softmax')\n",
    "])\n",
    "ann.compile(optimizer='adam', loss='categorical_crossentropy', metrics=['accuracy'])\n",
    "ann.fit(X_train, y_train_cat, epochs=40, batch_size=16, verbose=0)\n",
    "loss_ann, acc_ann = ann.evaluate(X_test, y_test_cat, verbose=0)\n",
    "y_pred_ann = ann.predict(X_test)\n",
    "y_pred_ann_class = np.argmax(y_pred_ann, axis=1)\n",
    "f1_ann = f1_score(y_test, y_pred_ann_class, average=\"weighted\")\n",
    "results.append([\"Artificial Neural Network (ANN)\", acc_ann, f1_ann])\n",
    "\n",
    "# ============================================================\n",
    "# ✅ 5. Deep Learning (Improved ANN)\n",
    "# ============================================================\n",
    "print(\"🧠 Running Deep Learning...\")\n",
    "deep = Sequential([\n",
    "    Dense(256, activation='relu', input_dim=X_train.shape[1]),\n",
    "    BatchNormalization(), Dropout(0.4),\n",
    "    Dense(128, activation='relu'),\n",
    "    BatchNormalization(), Dropout(0.3),\n",
    "    Dense(64, activation='relu'),\n",
    "    BatchNormalization(), Dropout(0.3),\n",
    "    Dense(y_train_cat.shape[1], activation='softmax')\n",
    "])\n",
    "deep.compile(optimizer='adam', loss='categorical_crossentropy', metrics=['accuracy'])\n",
    "early_stop = EarlyStopping(monitor='val_loss', patience=10, restore_best_weights=True)\n",
    "deep.fit(X_train, y_train_cat, validation_split=0.2, epochs=100, batch_size=16, verbose=0, callbacks=[early_stop])\n",
    "loss_deep, acc_deep = deep.evaluate(X_test, y_test_cat, verbose=0)\n",
    "y_pred_deep = deep.predict(X_test)\n",
    "y_pred_deep_class = np.argmax(y_pred_deep, axis=1)\n",
    "f1_deep = f1_score(y_test, y_pred_deep_class, average=\"weighted\")\n",
    "results.append([\"Deep Learning (Improved ANN)\", acc_deep, f1_deep])\n",
    "\n",
    "# ============================================================\n",
    "# ✅ 6. สรุปผลลัพธ์ทั้งหมด\n",
    "# ============================================================\n",
    "df_results = pd.DataFrame(results, columns=[\"Model\", \"Accuracy\", \"F1-Score\"])\n",
    "df_results = df_results.sort_values(by=\"Accuracy\", ascending=False).reset_index(drop=True)\n",
    "\n",
    "print(\"\\n📊 MODEL PERFORMANCE SUMMARY\")\n",
    "display(df_results)\n",
    "\n",
    "# ============================================================\n",
    "# ✅ 7. วาดกราฟเปรียบเทียบ\n",
    "# ============================================================\n",
    "plt.figure(figsize=(9,5))\n",
    "plt.barh(df_results[\"Model\"], df_results[\"Accuracy\"], color=\"steelblue\", label=\"Accuracy\")\n",
    "plt.barh(df_results[\"Model\"], df_results[\"F1-Score\"], color=\"orange\", alpha=0.6, label=\"F1-Score\")\n",
    "plt.title(\"Model Performance Comparison (Accuracy vs F1-Score)\")\n",
    "plt.xlabel(\"Score\")\n",
    "plt.legend()\n",
    "plt.gca().invert_yaxis()\n",
    "plt.show()\n"
   ]
  },
  {
   "cell_type": "markdown",
   "id": "7cc65f8d",
   "metadata": {},
   "source": [
    "## 📊 **รายละเอียดกราฟ**\n",
    "\n",
    "### 🧾 ตารางด้านบน\n",
    "\n",
    "ตารางแสดงค่า **Accuracy** และ **F1-Score** ของโมเดล 5 แบบ ได้แก่\n",
    "\n",
    "| ลำดับ | โมเดล                               |  Accuracy |  F1-Score | คำอธิบาย                                           |\n",
    "| :---: | :---------------------------------- | :-------: | :-------: | :------------------------------------------------- |\n",
    "|   0   | **Artificial Neural Network (ANN)** | **0.606** | **0.556** | โมเดล ANN พื้นฐานให้ผลดีที่สุด                     |\n",
    "|   1   | **Deep Learning (Improved ANN)**    |   0.531   |   0.485   | ปรับโครงสร้าง ANN แต่ยังไม่เหนือกว่าแบบเดิม        |\n",
    "|   2   | **K-Nearest Neighbors (KNN)**       |   0.469   |   0.448   | ความแม่นยำระดับกลาง เหมาะกับข้อมูลที่ไม่ซับซ้อนมาก |\n",
    "|   3   | **Decision Tree**                   |   0.457   |   0.416   | เข้าใจง่าย แต่มีแนวโน้ม Overfitting                |\n",
    "|   4   | **K-Means (Unsupervised)**          |   0.068   |   0.021   | ใช้แบบไม่กำกับ (Unsupervised) จึงแม่นยำต่ำมาก      |\n",
    "\n",
    "---\n",
    "\n",
    "### 📉 กราฟแท่งด้านล่าง\n",
    "\n",
    "> ชื่อ: **Model Performance Comparison (Accuracy vs F1-Score)**\n",
    "\n",
    "* แกน **Y**: รายชื่อโมเดลที่ใช้\n",
    "* แกน **X**: ค่าความแม่นยำ (Accuracy และ F1-Score)\n",
    "* **สีฟ้า (Blue)** → Accuracy\n",
    "* **สีน้ำตาลทอง (Golden Brown)** → F1-Score\n",
    "\n",
    "---\n",
    "\n",
    "## 🔍 **การตีความผลลัพธ์**\n",
    "\n",
    "1. **Artificial Neural Network (ANN)**\n",
    "\n",
    "   * เป็นโมเดลที่ทำผลงานดีที่สุด ทั้ง Accuracy (≈60.6%) และ F1-Score (≈55.6%)\n",
    "   * แสดงให้เห็นว่า ANN สามารถเรียนรู้ pattern ที่ซับซ้อนได้ดี\n",
    "\n",
    "2. **Deep Learning (Improved ANN)**\n",
    "\n",
    "   * แม้จะใช้โครงสร้างลึกขึ้น แต่ผลลดลงเล็กน้อย (Accuracy 53.1%)\n",
    "   * อาจเกิดจาก Overfitting หรือจำนวนข้อมูลฝึกที่ยังไม่มากพอ\n",
    "\n",
    "3. **KNN และ Decision Tree**\n",
    "\n",
    "   * ให้ค่าความแม่นยำใกล้เคียงกัน (~45–46%)\n",
    "   * เหมาะสำหรับ baseline หรือเปรียบเทียบเบื้องต้น แต่ไม่ดีพอสำหรับ deployment\n",
    "\n",
    "4. **K-Means (Unsupervised)**\n",
    "\n",
    "   * แทบไม่สามารถจำแนก Quadrant ได้ (Accuracy ต่ำเพียง 6.7%)\n",
    "   * เนื่องจากไม่ได้ใช้ label ในการฝึก\n",
    "\n",
    "---\n",
    "\n",
    "## 🧠 **สรุปเชิงวิเคราะห์**\n",
    "\n",
    "* โมเดลที่เหมาะสมที่สุดในงานนี้คือ **Artificial Neural Network (ANN)**\n",
    "  เพราะให้ทั้ง **Accuracy และ F1-Score สูงสุด**\n",
    "* การใช้โมเดลเชิงลึก (Deep Learning) ควรเพิ่มจำนวนข้อมูลและปรับ hyperparameters เพื่อเพิ่มประสิทธิภาพ\n",
    "* โมเดลเชิงง่าย (KNN, Decision Tree) อาจใช้ในขั้นตอนอธิบายผล (Explainable AI)\n",
    "* การใช้ K-Means ควรจำกัดเฉพาะขั้นตอน exploratory หรือ clustering เบื้องต้นเท่านั้น"
   ]
  },
  {
   "cell_type": "code",
   "execution_count": 33,
   "id": "09ceef41",
   "metadata": {},
   "outputs": [
    {
     "name": "stdout",
     "output_type": "stream",
     "text": [
      "\n",
      "===== 🔁 Run 1/100 =====\n"
     ]
    },
    {
     "name": "stderr",
     "output_type": "stream",
     "text": [
      "c:\\Users\\Admin\\AppData\\Local\\Programs\\Python\\Python310\\lib\\site-packages\\keras\\src\\layers\\core\\dense.py:87: UserWarning:\n",
      "\n",
      "Do not pass an `input_shape`/`input_dim` argument to a layer. When using Sequential models, prefer using an `Input(shape)` object as the first layer in the model instead.\n",
      "\n"
     ]
    },
    {
     "name": "stdout",
     "output_type": "stream",
     "text": [
      "\u001b[1m5/5\u001b[0m \u001b[32m━━━━━━━━━━━━━━━━━━━━\u001b[0m\u001b[37m\u001b[0m \u001b[1m0s\u001b[0m 9ms/step \n"
     ]
    },
    {
     "name": "stderr",
     "output_type": "stream",
     "text": [
      "c:\\Users\\Admin\\AppData\\Local\\Programs\\Python\\Python310\\lib\\site-packages\\keras\\src\\layers\\core\\dense.py:87: UserWarning:\n",
      "\n",
      "Do not pass an `input_shape`/`input_dim` argument to a layer. When using Sequential models, prefer using an `Input(shape)` object as the first layer in the model instead.\n",
      "\n"
     ]
    },
    {
     "name": "stdout",
     "output_type": "stream",
     "text": [
      "\u001b[1m5/5\u001b[0m \u001b[32m━━━━━━━━━━━━━━━━━━━━\u001b[0m\u001b[37m\u001b[0m \u001b[1m0s\u001b[0m 8ms/step  \n",
      "\n",
      "===== 🔁 Run 2/100 =====\n"
     ]
    },
    {
     "name": "stderr",
     "output_type": "stream",
     "text": [
      "c:\\Users\\Admin\\AppData\\Local\\Programs\\Python\\Python310\\lib\\site-packages\\keras\\src\\layers\\core\\dense.py:87: UserWarning:\n",
      "\n",
      "Do not pass an `input_shape`/`input_dim` argument to a layer. When using Sequential models, prefer using an `Input(shape)` object as the first layer in the model instead.\n",
      "\n"
     ]
    },
    {
     "name": "stdout",
     "output_type": "stream",
     "text": [
      "\u001b[1m5/5\u001b[0m \u001b[32m━━━━━━━━━━━━━━━━━━━━\u001b[0m\u001b[37m\u001b[0m \u001b[1m0s\u001b[0m 6ms/step \n"
     ]
    },
    {
     "name": "stderr",
     "output_type": "stream",
     "text": [
      "c:\\Users\\Admin\\AppData\\Local\\Programs\\Python\\Python310\\lib\\site-packages\\keras\\src\\layers\\core\\dense.py:87: UserWarning:\n",
      "\n",
      "Do not pass an `input_shape`/`input_dim` argument to a layer. When using Sequential models, prefer using an `Input(shape)` object as the first layer in the model instead.\n",
      "\n"
     ]
    },
    {
     "name": "stdout",
     "output_type": "stream",
     "text": [
      "\u001b[1m5/5\u001b[0m \u001b[32m━━━━━━━━━━━━━━━━━━━━\u001b[0m\u001b[37m\u001b[0m \u001b[1m0s\u001b[0m 4ms/step \n",
      "\n",
      "===== 🔁 Run 3/100 =====\n"
     ]
    },
    {
     "name": "stderr",
     "output_type": "stream",
     "text": [
      "c:\\Users\\Admin\\AppData\\Local\\Programs\\Python\\Python310\\lib\\site-packages\\keras\\src\\layers\\core\\dense.py:87: UserWarning:\n",
      "\n",
      "Do not pass an `input_shape`/`input_dim` argument to a layer. When using Sequential models, prefer using an `Input(shape)` object as the first layer in the model instead.\n",
      "\n"
     ]
    },
    {
     "name": "stdout",
     "output_type": "stream",
     "text": [
      "\u001b[1m5/5\u001b[0m \u001b[32m━━━━━━━━━━━━━━━━━━━━\u001b[0m\u001b[37m\u001b[0m \u001b[1m0s\u001b[0m 5ms/step \n"
     ]
    },
    {
     "name": "stderr",
     "output_type": "stream",
     "text": [
      "c:\\Users\\Admin\\AppData\\Local\\Programs\\Python\\Python310\\lib\\site-packages\\keras\\src\\layers\\core\\dense.py:87: UserWarning:\n",
      "\n",
      "Do not pass an `input_shape`/`input_dim` argument to a layer. When using Sequential models, prefer using an `Input(shape)` object as the first layer in the model instead.\n",
      "\n"
     ]
    },
    {
     "name": "stdout",
     "output_type": "stream",
     "text": [
      "\u001b[1m5/5\u001b[0m \u001b[32m━━━━━━━━━━━━━━━━━━━━\u001b[0m\u001b[37m\u001b[0m \u001b[1m0s\u001b[0m 5ms/step \n",
      "\n",
      "===== 🔁 Run 4/100 =====\n"
     ]
    },
    {
     "name": "stderr",
     "output_type": "stream",
     "text": [
      "c:\\Users\\Admin\\AppData\\Local\\Programs\\Python\\Python310\\lib\\site-packages\\keras\\src\\layers\\core\\dense.py:87: UserWarning:\n",
      "\n",
      "Do not pass an `input_shape`/`input_dim` argument to a layer. When using Sequential models, prefer using an `Input(shape)` object as the first layer in the model instead.\n",
      "\n"
     ]
    },
    {
     "name": "stdout",
     "output_type": "stream",
     "text": [
      "\u001b[1m5/5\u001b[0m \u001b[32m━━━━━━━━━━━━━━━━━━━━\u001b[0m\u001b[37m\u001b[0m \u001b[1m0s\u001b[0m 4ms/step \n"
     ]
    },
    {
     "name": "stderr",
     "output_type": "stream",
     "text": [
      "c:\\Users\\Admin\\AppData\\Local\\Programs\\Python\\Python310\\lib\\site-packages\\keras\\src\\layers\\core\\dense.py:87: UserWarning:\n",
      "\n",
      "Do not pass an `input_shape`/`input_dim` argument to a layer. When using Sequential models, prefer using an `Input(shape)` object as the first layer in the model instead.\n",
      "\n"
     ]
    },
    {
     "name": "stdout",
     "output_type": "stream",
     "text": [
      "\u001b[1m5/5\u001b[0m \u001b[32m━━━━━━━━━━━━━━━━━━━━\u001b[0m\u001b[37m\u001b[0m \u001b[1m0s\u001b[0m 5ms/step \n",
      "\n",
      "===== 🔁 Run 5/100 =====\n"
     ]
    },
    {
     "name": "stderr",
     "output_type": "stream",
     "text": [
      "c:\\Users\\Admin\\AppData\\Local\\Programs\\Python\\Python310\\lib\\site-packages\\keras\\src\\layers\\core\\dense.py:87: UserWarning:\n",
      "\n",
      "Do not pass an `input_shape`/`input_dim` argument to a layer. When using Sequential models, prefer using an `Input(shape)` object as the first layer in the model instead.\n",
      "\n"
     ]
    },
    {
     "name": "stdout",
     "output_type": "stream",
     "text": [
      "\u001b[1m5/5\u001b[0m \u001b[32m━━━━━━━━━━━━━━━━━━━━\u001b[0m\u001b[37m\u001b[0m \u001b[1m0s\u001b[0m 6ms/step \n"
     ]
    },
    {
     "name": "stderr",
     "output_type": "stream",
     "text": [
      "c:\\Users\\Admin\\AppData\\Local\\Programs\\Python\\Python310\\lib\\site-packages\\keras\\src\\layers\\core\\dense.py:87: UserWarning:\n",
      "\n",
      "Do not pass an `input_shape`/`input_dim` argument to a layer. When using Sequential models, prefer using an `Input(shape)` object as the first layer in the model instead.\n",
      "\n"
     ]
    },
    {
     "name": "stdout",
     "output_type": "stream",
     "text": [
      "\u001b[1m5/5\u001b[0m \u001b[32m━━━━━━━━━━━━━━━━━━━━\u001b[0m\u001b[37m\u001b[0m \u001b[1m0s\u001b[0m 5ms/step \n",
      "\n",
      "===== 🔁 Run 6/100 =====\n"
     ]
    },
    {
     "name": "stderr",
     "output_type": "stream",
     "text": [
      "c:\\Users\\Admin\\AppData\\Local\\Programs\\Python\\Python310\\lib\\site-packages\\keras\\src\\layers\\core\\dense.py:87: UserWarning:\n",
      "\n",
      "Do not pass an `input_shape`/`input_dim` argument to a layer. When using Sequential models, prefer using an `Input(shape)` object as the first layer in the model instead.\n",
      "\n"
     ]
    },
    {
     "name": "stdout",
     "output_type": "stream",
     "text": [
      "\u001b[1m5/5\u001b[0m \u001b[32m━━━━━━━━━━━━━━━━━━━━\u001b[0m\u001b[37m\u001b[0m \u001b[1m0s\u001b[0m 5ms/step \n"
     ]
    },
    {
     "name": "stderr",
     "output_type": "stream",
     "text": [
      "c:\\Users\\Admin\\AppData\\Local\\Programs\\Python\\Python310\\lib\\site-packages\\keras\\src\\layers\\core\\dense.py:87: UserWarning:\n",
      "\n",
      "Do not pass an `input_shape`/`input_dim` argument to a layer. When using Sequential models, prefer using an `Input(shape)` object as the first layer in the model instead.\n",
      "\n"
     ]
    },
    {
     "name": "stdout",
     "output_type": "stream",
     "text": [
      "\u001b[1m5/5\u001b[0m \u001b[32m━━━━━━━━━━━━━━━━━━━━\u001b[0m\u001b[37m\u001b[0m \u001b[1m0s\u001b[0m 6ms/step \n",
      "\n",
      "===== 🔁 Run 7/100 =====\n"
     ]
    },
    {
     "name": "stderr",
     "output_type": "stream",
     "text": [
      "c:\\Users\\Admin\\AppData\\Local\\Programs\\Python\\Python310\\lib\\site-packages\\keras\\src\\layers\\core\\dense.py:87: UserWarning:\n",
      "\n",
      "Do not pass an `input_shape`/`input_dim` argument to a layer. When using Sequential models, prefer using an `Input(shape)` object as the first layer in the model instead.\n",
      "\n"
     ]
    },
    {
     "name": "stdout",
     "output_type": "stream",
     "text": [
      "\u001b[1m5/5\u001b[0m \u001b[32m━━━━━━━━━━━━━━━━━━━━\u001b[0m\u001b[37m\u001b[0m \u001b[1m0s\u001b[0m 5ms/step \n"
     ]
    },
    {
     "name": "stderr",
     "output_type": "stream",
     "text": [
      "c:\\Users\\Admin\\AppData\\Local\\Programs\\Python\\Python310\\lib\\site-packages\\keras\\src\\layers\\core\\dense.py:87: UserWarning:\n",
      "\n",
      "Do not pass an `input_shape`/`input_dim` argument to a layer. When using Sequential models, prefer using an `Input(shape)` object as the first layer in the model instead.\n",
      "\n"
     ]
    },
    {
     "name": "stdout",
     "output_type": "stream",
     "text": [
      "\u001b[1m5/5\u001b[0m \u001b[32m━━━━━━━━━━━━━━━━━━━━\u001b[0m\u001b[37m\u001b[0m \u001b[1m0s\u001b[0m 6ms/step \n",
      "\n",
      "===== 🔁 Run 8/100 =====\n"
     ]
    },
    {
     "name": "stderr",
     "output_type": "stream",
     "text": [
      "c:\\Users\\Admin\\AppData\\Local\\Programs\\Python\\Python310\\lib\\site-packages\\keras\\src\\layers\\core\\dense.py:87: UserWarning:\n",
      "\n",
      "Do not pass an `input_shape`/`input_dim` argument to a layer. When using Sequential models, prefer using an `Input(shape)` object as the first layer in the model instead.\n",
      "\n"
     ]
    },
    {
     "name": "stdout",
     "output_type": "stream",
     "text": [
      "\u001b[1m5/5\u001b[0m \u001b[32m━━━━━━━━━━━━━━━━━━━━\u001b[0m\u001b[37m\u001b[0m \u001b[1m0s\u001b[0m 5ms/step \n"
     ]
    },
    {
     "name": "stderr",
     "output_type": "stream",
     "text": [
      "c:\\Users\\Admin\\AppData\\Local\\Programs\\Python\\Python310\\lib\\site-packages\\keras\\src\\layers\\core\\dense.py:87: UserWarning:\n",
      "\n",
      "Do not pass an `input_shape`/`input_dim` argument to a layer. When using Sequential models, prefer using an `Input(shape)` object as the first layer in the model instead.\n",
      "\n"
     ]
    },
    {
     "name": "stdout",
     "output_type": "stream",
     "text": [
      "\u001b[1m5/5\u001b[0m \u001b[32m━━━━━━━━━━━━━━━━━━━━\u001b[0m\u001b[37m\u001b[0m \u001b[1m0s\u001b[0m 5ms/step \n",
      "\n",
      "===== 🔁 Run 9/100 =====\n"
     ]
    },
    {
     "name": "stderr",
     "output_type": "stream",
     "text": [
      "c:\\Users\\Admin\\AppData\\Local\\Programs\\Python\\Python310\\lib\\site-packages\\keras\\src\\layers\\core\\dense.py:87: UserWarning:\n",
      "\n",
      "Do not pass an `input_shape`/`input_dim` argument to a layer. When using Sequential models, prefer using an `Input(shape)` object as the first layer in the model instead.\n",
      "\n"
     ]
    },
    {
     "name": "stdout",
     "output_type": "stream",
     "text": [
      "\u001b[1m5/5\u001b[0m \u001b[32m━━━━━━━━━━━━━━━━━━━━\u001b[0m\u001b[37m\u001b[0m \u001b[1m0s\u001b[0m 4ms/step \n"
     ]
    },
    {
     "name": "stderr",
     "output_type": "stream",
     "text": [
      "c:\\Users\\Admin\\AppData\\Local\\Programs\\Python\\Python310\\lib\\site-packages\\keras\\src\\layers\\core\\dense.py:87: UserWarning:\n",
      "\n",
      "Do not pass an `input_shape`/`input_dim` argument to a layer. When using Sequential models, prefer using an `Input(shape)` object as the first layer in the model instead.\n",
      "\n"
     ]
    },
    {
     "name": "stdout",
     "output_type": "stream",
     "text": [
      "\u001b[1m5/5\u001b[0m \u001b[32m━━━━━━━━━━━━━━━━━━━━\u001b[0m\u001b[37m\u001b[0m \u001b[1m0s\u001b[0m 5ms/step \n",
      "\n",
      "===== 🔁 Run 10/100 =====\n"
     ]
    },
    {
     "name": "stderr",
     "output_type": "stream",
     "text": [
      "c:\\Users\\Admin\\AppData\\Local\\Programs\\Python\\Python310\\lib\\site-packages\\keras\\src\\layers\\core\\dense.py:87: UserWarning:\n",
      "\n",
      "Do not pass an `input_shape`/`input_dim` argument to a layer. When using Sequential models, prefer using an `Input(shape)` object as the first layer in the model instead.\n",
      "\n"
     ]
    },
    {
     "name": "stdout",
     "output_type": "stream",
     "text": [
      "\u001b[1m5/5\u001b[0m \u001b[32m━━━━━━━━━━━━━━━━━━━━\u001b[0m\u001b[37m\u001b[0m \u001b[1m0s\u001b[0m 5ms/step \n"
     ]
    },
    {
     "name": "stderr",
     "output_type": "stream",
     "text": [
      "c:\\Users\\Admin\\AppData\\Local\\Programs\\Python\\Python310\\lib\\site-packages\\keras\\src\\layers\\core\\dense.py:87: UserWarning:\n",
      "\n",
      "Do not pass an `input_shape`/`input_dim` argument to a layer. When using Sequential models, prefer using an `Input(shape)` object as the first layer in the model instead.\n",
      "\n"
     ]
    },
    {
     "name": "stdout",
     "output_type": "stream",
     "text": [
      "\u001b[1m5/5\u001b[0m \u001b[32m━━━━━━━━━━━━━━━━━━━━\u001b[0m\u001b[37m\u001b[0m \u001b[1m0s\u001b[0m 6ms/step \n",
      "\n",
      "===== 🔁 Run 11/100 =====\n"
     ]
    },
    {
     "name": "stderr",
     "output_type": "stream",
     "text": [
      "c:\\Users\\Admin\\AppData\\Local\\Programs\\Python\\Python310\\lib\\site-packages\\keras\\src\\layers\\core\\dense.py:87: UserWarning:\n",
      "\n",
      "Do not pass an `input_shape`/`input_dim` argument to a layer. When using Sequential models, prefer using an `Input(shape)` object as the first layer in the model instead.\n",
      "\n"
     ]
    },
    {
     "name": "stdout",
     "output_type": "stream",
     "text": [
      "\u001b[1m5/5\u001b[0m \u001b[32m━━━━━━━━━━━━━━━━━━━━\u001b[0m\u001b[37m\u001b[0m \u001b[1m0s\u001b[0m 5ms/step \n"
     ]
    },
    {
     "name": "stderr",
     "output_type": "stream",
     "text": [
      "c:\\Users\\Admin\\AppData\\Local\\Programs\\Python\\Python310\\lib\\site-packages\\keras\\src\\layers\\core\\dense.py:87: UserWarning:\n",
      "\n",
      "Do not pass an `input_shape`/`input_dim` argument to a layer. When using Sequential models, prefer using an `Input(shape)` object as the first layer in the model instead.\n",
      "\n"
     ]
    },
    {
     "name": "stdout",
     "output_type": "stream",
     "text": [
      "\u001b[1m5/5\u001b[0m \u001b[32m━━━━━━━━━━━━━━━━━━━━\u001b[0m\u001b[37m\u001b[0m \u001b[1m0s\u001b[0m 5ms/step  \n",
      "\n",
      "===== 🔁 Run 12/100 =====\n"
     ]
    },
    {
     "name": "stderr",
     "output_type": "stream",
     "text": [
      "c:\\Users\\Admin\\AppData\\Local\\Programs\\Python\\Python310\\lib\\site-packages\\keras\\src\\layers\\core\\dense.py:87: UserWarning:\n",
      "\n",
      "Do not pass an `input_shape`/`input_dim` argument to a layer. When using Sequential models, prefer using an `Input(shape)` object as the first layer in the model instead.\n",
      "\n"
     ]
    },
    {
     "name": "stdout",
     "output_type": "stream",
     "text": [
      "\u001b[1m5/5\u001b[0m \u001b[32m━━━━━━━━━━━━━━━━━━━━\u001b[0m\u001b[37m\u001b[0m \u001b[1m0s\u001b[0m 12ms/step \n"
     ]
    },
    {
     "name": "stderr",
     "output_type": "stream",
     "text": [
      "c:\\Users\\Admin\\AppData\\Local\\Programs\\Python\\Python310\\lib\\site-packages\\keras\\src\\layers\\core\\dense.py:87: UserWarning:\n",
      "\n",
      "Do not pass an `input_shape`/`input_dim` argument to a layer. When using Sequential models, prefer using an `Input(shape)` object as the first layer in the model instead.\n",
      "\n"
     ]
    },
    {
     "name": "stdout",
     "output_type": "stream",
     "text": [
      "\u001b[1m5/5\u001b[0m \u001b[32m━━━━━━━━━━━━━━━━━━━━\u001b[0m\u001b[37m\u001b[0m \u001b[1m0s\u001b[0m 18ms/step \n",
      "\n",
      "===== 🔁 Run 13/100 =====\n"
     ]
    },
    {
     "name": "stderr",
     "output_type": "stream",
     "text": [
      "c:\\Users\\Admin\\AppData\\Local\\Programs\\Python\\Python310\\lib\\site-packages\\keras\\src\\layers\\core\\dense.py:87: UserWarning:\n",
      "\n",
      "Do not pass an `input_shape`/`input_dim` argument to a layer. When using Sequential models, prefer using an `Input(shape)` object as the first layer in the model instead.\n",
      "\n"
     ]
    },
    {
     "name": "stdout",
     "output_type": "stream",
     "text": [
      "\u001b[1m5/5\u001b[0m \u001b[32m━━━━━━━━━━━━━━━━━━━━\u001b[0m\u001b[37m\u001b[0m \u001b[1m0s\u001b[0m 6ms/step \n"
     ]
    },
    {
     "name": "stderr",
     "output_type": "stream",
     "text": [
      "c:\\Users\\Admin\\AppData\\Local\\Programs\\Python\\Python310\\lib\\site-packages\\keras\\src\\layers\\core\\dense.py:87: UserWarning:\n",
      "\n",
      "Do not pass an `input_shape`/`input_dim` argument to a layer. When using Sequential models, prefer using an `Input(shape)` object as the first layer in the model instead.\n",
      "\n"
     ]
    },
    {
     "name": "stdout",
     "output_type": "stream",
     "text": [
      "\u001b[1m5/5\u001b[0m \u001b[32m━━━━━━━━━━━━━━━━━━━━\u001b[0m\u001b[37m\u001b[0m \u001b[1m0s\u001b[0m 5ms/step  \n",
      "\n",
      "===== 🔁 Run 14/100 =====\n"
     ]
    },
    {
     "name": "stderr",
     "output_type": "stream",
     "text": [
      "c:\\Users\\Admin\\AppData\\Local\\Programs\\Python\\Python310\\lib\\site-packages\\keras\\src\\layers\\core\\dense.py:87: UserWarning:\n",
      "\n",
      "Do not pass an `input_shape`/`input_dim` argument to a layer. When using Sequential models, prefer using an `Input(shape)` object as the first layer in the model instead.\n",
      "\n"
     ]
    },
    {
     "name": "stdout",
     "output_type": "stream",
     "text": [
      "\u001b[1m5/5\u001b[0m \u001b[32m━━━━━━━━━━━━━━━━━━━━\u001b[0m\u001b[37m\u001b[0m \u001b[1m0s\u001b[0m 5ms/step \n"
     ]
    },
    {
     "name": "stderr",
     "output_type": "stream",
     "text": [
      "c:\\Users\\Admin\\AppData\\Local\\Programs\\Python\\Python310\\lib\\site-packages\\keras\\src\\layers\\core\\dense.py:87: UserWarning:\n",
      "\n",
      "Do not pass an `input_shape`/`input_dim` argument to a layer. When using Sequential models, prefer using an `Input(shape)` object as the first layer in the model instead.\n",
      "\n"
     ]
    },
    {
     "name": "stdout",
     "output_type": "stream",
     "text": [
      "\u001b[1m5/5\u001b[0m \u001b[32m━━━━━━━━━━━━━━━━━━━━\u001b[0m\u001b[37m\u001b[0m \u001b[1m0s\u001b[0m 5ms/step  \n",
      "\n",
      "===== 🔁 Run 15/100 =====\n"
     ]
    },
    {
     "name": "stderr",
     "output_type": "stream",
     "text": [
      "c:\\Users\\Admin\\AppData\\Local\\Programs\\Python\\Python310\\lib\\site-packages\\keras\\src\\layers\\core\\dense.py:87: UserWarning:\n",
      "\n",
      "Do not pass an `input_shape`/`input_dim` argument to a layer. When using Sequential models, prefer using an `Input(shape)` object as the first layer in the model instead.\n",
      "\n"
     ]
    },
    {
     "name": "stdout",
     "output_type": "stream",
     "text": [
      "\u001b[1m5/5\u001b[0m \u001b[32m━━━━━━━━━━━━━━━━━━━━\u001b[0m\u001b[37m\u001b[0m \u001b[1m0s\u001b[0m 5ms/step \n"
     ]
    },
    {
     "name": "stderr",
     "output_type": "stream",
     "text": [
      "c:\\Users\\Admin\\AppData\\Local\\Programs\\Python\\Python310\\lib\\site-packages\\keras\\src\\layers\\core\\dense.py:87: UserWarning:\n",
      "\n",
      "Do not pass an `input_shape`/`input_dim` argument to a layer. When using Sequential models, prefer using an `Input(shape)` object as the first layer in the model instead.\n",
      "\n"
     ]
    },
    {
     "name": "stdout",
     "output_type": "stream",
     "text": [
      "\u001b[1m5/5\u001b[0m \u001b[32m━━━━━━━━━━━━━━━━━━━━\u001b[0m\u001b[37m\u001b[0m \u001b[1m0s\u001b[0m 6ms/step  \n",
      "\n",
      "===== 🔁 Run 16/100 =====\n"
     ]
    },
    {
     "name": "stderr",
     "output_type": "stream",
     "text": [
      "c:\\Users\\Admin\\AppData\\Local\\Programs\\Python\\Python310\\lib\\site-packages\\keras\\src\\layers\\core\\dense.py:87: UserWarning:\n",
      "\n",
      "Do not pass an `input_shape`/`input_dim` argument to a layer. When using Sequential models, prefer using an `Input(shape)` object as the first layer in the model instead.\n",
      "\n"
     ]
    },
    {
     "name": "stdout",
     "output_type": "stream",
     "text": [
      "\u001b[1m5/5\u001b[0m \u001b[32m━━━━━━━━━━━━━━━━━━━━\u001b[0m\u001b[37m\u001b[0m \u001b[1m0s\u001b[0m 15ms/step\n"
     ]
    },
    {
     "name": "stderr",
     "output_type": "stream",
     "text": [
      "c:\\Users\\Admin\\AppData\\Local\\Programs\\Python\\Python310\\lib\\site-packages\\keras\\src\\layers\\core\\dense.py:87: UserWarning:\n",
      "\n",
      "Do not pass an `input_shape`/`input_dim` argument to a layer. When using Sequential models, prefer using an `Input(shape)` object as the first layer in the model instead.\n",
      "\n"
     ]
    },
    {
     "name": "stdout",
     "output_type": "stream",
     "text": [
      "\u001b[1m5/5\u001b[0m \u001b[32m━━━━━━━━━━━━━━━━━━━━\u001b[0m\u001b[37m\u001b[0m \u001b[1m0s\u001b[0m 7ms/step  \n",
      "\n",
      "===== 🔁 Run 17/100 =====\n"
     ]
    },
    {
     "name": "stderr",
     "output_type": "stream",
     "text": [
      "c:\\Users\\Admin\\AppData\\Local\\Programs\\Python\\Python310\\lib\\site-packages\\keras\\src\\layers\\core\\dense.py:87: UserWarning:\n",
      "\n",
      "Do not pass an `input_shape`/`input_dim` argument to a layer. When using Sequential models, prefer using an `Input(shape)` object as the first layer in the model instead.\n",
      "\n"
     ]
    },
    {
     "name": "stdout",
     "output_type": "stream",
     "text": [
      "\u001b[1m5/5\u001b[0m \u001b[32m━━━━━━━━━━━━━━━━━━━━\u001b[0m\u001b[37m\u001b[0m \u001b[1m0s\u001b[0m 12ms/step \n"
     ]
    },
    {
     "name": "stderr",
     "output_type": "stream",
     "text": [
      "c:\\Users\\Admin\\AppData\\Local\\Programs\\Python\\Python310\\lib\\site-packages\\keras\\src\\layers\\core\\dense.py:87: UserWarning:\n",
      "\n",
      "Do not pass an `input_shape`/`input_dim` argument to a layer. When using Sequential models, prefer using an `Input(shape)` object as the first layer in the model instead.\n",
      "\n"
     ]
    },
    {
     "name": "stdout",
     "output_type": "stream",
     "text": [
      "\u001b[1m5/5\u001b[0m \u001b[32m━━━━━━━━━━━━━━━━━━━━\u001b[0m\u001b[37m\u001b[0m \u001b[1m0s\u001b[0m 10ms/step \n",
      "\n",
      "===== 🔁 Run 18/100 =====\n"
     ]
    },
    {
     "name": "stderr",
     "output_type": "stream",
     "text": [
      "c:\\Users\\Admin\\AppData\\Local\\Programs\\Python\\Python310\\lib\\site-packages\\keras\\src\\layers\\core\\dense.py:87: UserWarning:\n",
      "\n",
      "Do not pass an `input_shape`/`input_dim` argument to a layer. When using Sequential models, prefer using an `Input(shape)` object as the first layer in the model instead.\n",
      "\n"
     ]
    },
    {
     "name": "stdout",
     "output_type": "stream",
     "text": [
      "\u001b[1m5/5\u001b[0m \u001b[32m━━━━━━━━━━━━━━━━━━━━\u001b[0m\u001b[37m\u001b[0m \u001b[1m0s\u001b[0m 11ms/step\n"
     ]
    },
    {
     "name": "stderr",
     "output_type": "stream",
     "text": [
      "c:\\Users\\Admin\\AppData\\Local\\Programs\\Python\\Python310\\lib\\site-packages\\keras\\src\\layers\\core\\dense.py:87: UserWarning:\n",
      "\n",
      "Do not pass an `input_shape`/`input_dim` argument to a layer. When using Sequential models, prefer using an `Input(shape)` object as the first layer in the model instead.\n",
      "\n"
     ]
    },
    {
     "name": "stdout",
     "output_type": "stream",
     "text": [
      "\u001b[1m5/5\u001b[0m \u001b[32m━━━━━━━━━━━━━━━━━━━━\u001b[0m\u001b[37m\u001b[0m \u001b[1m0s\u001b[0m 7ms/step  \n",
      "\n",
      "===== 🔁 Run 19/100 =====\n"
     ]
    },
    {
     "name": "stderr",
     "output_type": "stream",
     "text": [
      "c:\\Users\\Admin\\AppData\\Local\\Programs\\Python\\Python310\\lib\\site-packages\\keras\\src\\layers\\core\\dense.py:87: UserWarning:\n",
      "\n",
      "Do not pass an `input_shape`/`input_dim` argument to a layer. When using Sequential models, prefer using an `Input(shape)` object as the first layer in the model instead.\n",
      "\n"
     ]
    },
    {
     "name": "stdout",
     "output_type": "stream",
     "text": [
      "\u001b[1m5/5\u001b[0m \u001b[32m━━━━━━━━━━━━━━━━━━━━\u001b[0m\u001b[37m\u001b[0m \u001b[1m0s\u001b[0m 7ms/step \n"
     ]
    },
    {
     "name": "stderr",
     "output_type": "stream",
     "text": [
      "c:\\Users\\Admin\\AppData\\Local\\Programs\\Python\\Python310\\lib\\site-packages\\keras\\src\\layers\\core\\dense.py:87: UserWarning:\n",
      "\n",
      "Do not pass an `input_shape`/`input_dim` argument to a layer. When using Sequential models, prefer using an `Input(shape)` object as the first layer in the model instead.\n",
      "\n"
     ]
    },
    {
     "name": "stdout",
     "output_type": "stream",
     "text": [
      "\u001b[1m5/5\u001b[0m \u001b[32m━━━━━━━━━━━━━━━━━━━━\u001b[0m\u001b[37m\u001b[0m \u001b[1m0s\u001b[0m 19ms/step \n",
      "\n",
      "===== 🔁 Run 20/100 =====\n"
     ]
    },
    {
     "name": "stderr",
     "output_type": "stream",
     "text": [
      "c:\\Users\\Admin\\AppData\\Local\\Programs\\Python\\Python310\\lib\\site-packages\\keras\\src\\layers\\core\\dense.py:87: UserWarning:\n",
      "\n",
      "Do not pass an `input_shape`/`input_dim` argument to a layer. When using Sequential models, prefer using an `Input(shape)` object as the first layer in the model instead.\n",
      "\n"
     ]
    },
    {
     "name": "stdout",
     "output_type": "stream",
     "text": [
      "\u001b[1m5/5\u001b[0m \u001b[32m━━━━━━━━━━━━━━━━━━━━\u001b[0m\u001b[37m\u001b[0m \u001b[1m0s\u001b[0m 15ms/step\n"
     ]
    },
    {
     "name": "stderr",
     "output_type": "stream",
     "text": [
      "c:\\Users\\Admin\\AppData\\Local\\Programs\\Python\\Python310\\lib\\site-packages\\keras\\src\\layers\\core\\dense.py:87: UserWarning:\n",
      "\n",
      "Do not pass an `input_shape`/`input_dim` argument to a layer. When using Sequential models, prefer using an `Input(shape)` object as the first layer in the model instead.\n",
      "\n"
     ]
    },
    {
     "name": "stdout",
     "output_type": "stream",
     "text": [
      "\u001b[1m5/5\u001b[0m \u001b[32m━━━━━━━━━━━━━━━━━━━━\u001b[0m\u001b[37m\u001b[0m \u001b[1m0s\u001b[0m 23ms/step \n",
      "\n",
      "===== 🔁 Run 21/100 =====\n"
     ]
    },
    {
     "name": "stderr",
     "output_type": "stream",
     "text": [
      "c:\\Users\\Admin\\AppData\\Local\\Programs\\Python\\Python310\\lib\\site-packages\\keras\\src\\layers\\core\\dense.py:87: UserWarning:\n",
      "\n",
      "Do not pass an `input_shape`/`input_dim` argument to a layer. When using Sequential models, prefer using an `Input(shape)` object as the first layer in the model instead.\n",
      "\n"
     ]
    },
    {
     "name": "stdout",
     "output_type": "stream",
     "text": [
      "\u001b[1m5/5\u001b[0m \u001b[32m━━━━━━━━━━━━━━━━━━━━\u001b[0m\u001b[37m\u001b[0m \u001b[1m0s\u001b[0m 17ms/step\n"
     ]
    },
    {
     "name": "stderr",
     "output_type": "stream",
     "text": [
      "c:\\Users\\Admin\\AppData\\Local\\Programs\\Python\\Python310\\lib\\site-packages\\keras\\src\\layers\\core\\dense.py:87: UserWarning:\n",
      "\n",
      "Do not pass an `input_shape`/`input_dim` argument to a layer. When using Sequential models, prefer using an `Input(shape)` object as the first layer in the model instead.\n",
      "\n"
     ]
    },
    {
     "name": "stdout",
     "output_type": "stream",
     "text": [
      "\u001b[1m5/5\u001b[0m \u001b[32m━━━━━━━━━━━━━━━━━━━━\u001b[0m\u001b[37m\u001b[0m \u001b[1m0s\u001b[0m 14ms/step\n",
      "\n",
      "===== 🔁 Run 22/100 =====\n"
     ]
    },
    {
     "name": "stderr",
     "output_type": "stream",
     "text": [
      "c:\\Users\\Admin\\AppData\\Local\\Programs\\Python\\Python310\\lib\\site-packages\\keras\\src\\layers\\core\\dense.py:87: UserWarning:\n",
      "\n",
      "Do not pass an `input_shape`/`input_dim` argument to a layer. When using Sequential models, prefer using an `Input(shape)` object as the first layer in the model instead.\n",
      "\n"
     ]
    },
    {
     "name": "stdout",
     "output_type": "stream",
     "text": [
      "\u001b[1m5/5\u001b[0m \u001b[32m━━━━━━━━━━━━━━━━━━━━\u001b[0m\u001b[37m\u001b[0m \u001b[1m0s\u001b[0m 5ms/step \n"
     ]
    },
    {
     "name": "stderr",
     "output_type": "stream",
     "text": [
      "c:\\Users\\Admin\\AppData\\Local\\Programs\\Python\\Python310\\lib\\site-packages\\keras\\src\\layers\\core\\dense.py:87: UserWarning:\n",
      "\n",
      "Do not pass an `input_shape`/`input_dim` argument to a layer. When using Sequential models, prefer using an `Input(shape)` object as the first layer in the model instead.\n",
      "\n"
     ]
    },
    {
     "name": "stdout",
     "output_type": "stream",
     "text": [
      "\u001b[1m5/5\u001b[0m \u001b[32m━━━━━━━━━━━━━━━━━━━━\u001b[0m\u001b[37m\u001b[0m \u001b[1m0s\u001b[0m 14ms/step \n",
      "\n",
      "===== 🔁 Run 23/100 =====\n"
     ]
    },
    {
     "name": "stderr",
     "output_type": "stream",
     "text": [
      "c:\\Users\\Admin\\AppData\\Local\\Programs\\Python\\Python310\\lib\\site-packages\\keras\\src\\layers\\core\\dense.py:87: UserWarning:\n",
      "\n",
      "Do not pass an `input_shape`/`input_dim` argument to a layer. When using Sequential models, prefer using an `Input(shape)` object as the first layer in the model instead.\n",
      "\n"
     ]
    },
    {
     "name": "stdout",
     "output_type": "stream",
     "text": [
      "\u001b[1m5/5\u001b[0m \u001b[32m━━━━━━━━━━━━━━━━━━━━\u001b[0m\u001b[37m\u001b[0m \u001b[1m0s\u001b[0m 20ms/step\n"
     ]
    },
    {
     "name": "stderr",
     "output_type": "stream",
     "text": [
      "c:\\Users\\Admin\\AppData\\Local\\Programs\\Python\\Python310\\lib\\site-packages\\keras\\src\\layers\\core\\dense.py:87: UserWarning:\n",
      "\n",
      "Do not pass an `input_shape`/`input_dim` argument to a layer. When using Sequential models, prefer using an `Input(shape)` object as the first layer in the model instead.\n",
      "\n"
     ]
    },
    {
     "name": "stdout",
     "output_type": "stream",
     "text": [
      "\u001b[1m5/5\u001b[0m \u001b[32m━━━━━━━━━━━━━━━━━━━━\u001b[0m\u001b[37m\u001b[0m \u001b[1m0s\u001b[0m 19ms/step \n",
      "\n",
      "===== 🔁 Run 24/100 =====\n"
     ]
    },
    {
     "name": "stderr",
     "output_type": "stream",
     "text": [
      "c:\\Users\\Admin\\AppData\\Local\\Programs\\Python\\Python310\\lib\\site-packages\\keras\\src\\layers\\core\\dense.py:87: UserWarning:\n",
      "\n",
      "Do not pass an `input_shape`/`input_dim` argument to a layer. When using Sequential models, prefer using an `Input(shape)` object as the first layer in the model instead.\n",
      "\n"
     ]
    },
    {
     "name": "stdout",
     "output_type": "stream",
     "text": [
      "\u001b[1m5/5\u001b[0m \u001b[32m━━━━━━━━━━━━━━━━━━━━\u001b[0m\u001b[37m\u001b[0m \u001b[1m0s\u001b[0m 5ms/step \n"
     ]
    },
    {
     "name": "stderr",
     "output_type": "stream",
     "text": [
      "c:\\Users\\Admin\\AppData\\Local\\Programs\\Python\\Python310\\lib\\site-packages\\keras\\src\\layers\\core\\dense.py:87: UserWarning:\n",
      "\n",
      "Do not pass an `input_shape`/`input_dim` argument to a layer. When using Sequential models, prefer using an `Input(shape)` object as the first layer in the model instead.\n",
      "\n"
     ]
    },
    {
     "name": "stdout",
     "output_type": "stream",
     "text": [
      "\u001b[1m5/5\u001b[0m \u001b[32m━━━━━━━━━━━━━━━━━━━━\u001b[0m\u001b[37m\u001b[0m \u001b[1m0s\u001b[0m 18ms/step\n",
      "\n",
      "===== 🔁 Run 25/100 =====\n"
     ]
    },
    {
     "name": "stderr",
     "output_type": "stream",
     "text": [
      "c:\\Users\\Admin\\AppData\\Local\\Programs\\Python\\Python310\\lib\\site-packages\\keras\\src\\layers\\core\\dense.py:87: UserWarning:\n",
      "\n",
      "Do not pass an `input_shape`/`input_dim` argument to a layer. When using Sequential models, prefer using an `Input(shape)` object as the first layer in the model instead.\n",
      "\n"
     ]
    },
    {
     "name": "stdout",
     "output_type": "stream",
     "text": [
      "\u001b[1m5/5\u001b[0m \u001b[32m━━━━━━━━━━━━━━━━━━━━\u001b[0m\u001b[37m\u001b[0m \u001b[1m0s\u001b[0m 15ms/step\n"
     ]
    },
    {
     "name": "stderr",
     "output_type": "stream",
     "text": [
      "c:\\Users\\Admin\\AppData\\Local\\Programs\\Python\\Python310\\lib\\site-packages\\keras\\src\\layers\\core\\dense.py:87: UserWarning:\n",
      "\n",
      "Do not pass an `input_shape`/`input_dim` argument to a layer. When using Sequential models, prefer using an `Input(shape)` object as the first layer in the model instead.\n",
      "\n"
     ]
    },
    {
     "name": "stdout",
     "output_type": "stream",
     "text": [
      "\u001b[1m5/5\u001b[0m \u001b[32m━━━━━━━━━━━━━━━━━━━━\u001b[0m\u001b[37m\u001b[0m \u001b[1m0s\u001b[0m 13ms/step \n",
      "\n",
      "===== 🔁 Run 26/100 =====\n"
     ]
    },
    {
     "name": "stderr",
     "output_type": "stream",
     "text": [
      "c:\\Users\\Admin\\AppData\\Local\\Programs\\Python\\Python310\\lib\\site-packages\\keras\\src\\layers\\core\\dense.py:87: UserWarning:\n",
      "\n",
      "Do not pass an `input_shape`/`input_dim` argument to a layer. When using Sequential models, prefer using an `Input(shape)` object as the first layer in the model instead.\n",
      "\n"
     ]
    },
    {
     "name": "stdout",
     "output_type": "stream",
     "text": [
      "\u001b[1m5/5\u001b[0m \u001b[32m━━━━━━━━━━━━━━━━━━━━\u001b[0m\u001b[37m\u001b[0m \u001b[1m0s\u001b[0m 17ms/step\n"
     ]
    },
    {
     "name": "stderr",
     "output_type": "stream",
     "text": [
      "c:\\Users\\Admin\\AppData\\Local\\Programs\\Python\\Python310\\lib\\site-packages\\keras\\src\\layers\\core\\dense.py:87: UserWarning:\n",
      "\n",
      "Do not pass an `input_shape`/`input_dim` argument to a layer. When using Sequential models, prefer using an `Input(shape)` object as the first layer in the model instead.\n",
      "\n"
     ]
    },
    {
     "name": "stdout",
     "output_type": "stream",
     "text": [
      "\u001b[1m5/5\u001b[0m \u001b[32m━━━━━━━━━━━━━━━━━━━━\u001b[0m\u001b[37m\u001b[0m \u001b[1m0s\u001b[0m 15ms/step \n",
      "\n",
      "===== 🔁 Run 27/100 =====\n"
     ]
    },
    {
     "name": "stderr",
     "output_type": "stream",
     "text": [
      "c:\\Users\\Admin\\AppData\\Local\\Programs\\Python\\Python310\\lib\\site-packages\\keras\\src\\layers\\core\\dense.py:87: UserWarning:\n",
      "\n",
      "Do not pass an `input_shape`/`input_dim` argument to a layer. When using Sequential models, prefer using an `Input(shape)` object as the first layer in the model instead.\n",
      "\n"
     ]
    },
    {
     "name": "stdout",
     "output_type": "stream",
     "text": [
      "\u001b[1m5/5\u001b[0m \u001b[32m━━━━━━━━━━━━━━━━━━━━\u001b[0m\u001b[37m\u001b[0m \u001b[1m0s\u001b[0m 5ms/step \n"
     ]
    },
    {
     "name": "stderr",
     "output_type": "stream",
     "text": [
      "c:\\Users\\Admin\\AppData\\Local\\Programs\\Python\\Python310\\lib\\site-packages\\keras\\src\\layers\\core\\dense.py:87: UserWarning:\n",
      "\n",
      "Do not pass an `input_shape`/`input_dim` argument to a layer. When using Sequential models, prefer using an `Input(shape)` object as the first layer in the model instead.\n",
      "\n"
     ]
    },
    {
     "name": "stdout",
     "output_type": "stream",
     "text": [
      "\u001b[1m5/5\u001b[0m \u001b[32m━━━━━━━━━━━━━━━━━━━━\u001b[0m\u001b[37m\u001b[0m \u001b[1m0s\u001b[0m 4ms/step  \n",
      "\n",
      "===== 🔁 Run 28/100 =====\n"
     ]
    },
    {
     "name": "stderr",
     "output_type": "stream",
     "text": [
      "c:\\Users\\Admin\\AppData\\Local\\Programs\\Python\\Python310\\lib\\site-packages\\keras\\src\\layers\\core\\dense.py:87: UserWarning:\n",
      "\n",
      "Do not pass an `input_shape`/`input_dim` argument to a layer. When using Sequential models, prefer using an `Input(shape)` object as the first layer in the model instead.\n",
      "\n"
     ]
    },
    {
     "name": "stdout",
     "output_type": "stream",
     "text": [
      "\u001b[1m5/5\u001b[0m \u001b[32m━━━━━━━━━━━━━━━━━━━━\u001b[0m\u001b[37m\u001b[0m \u001b[1m0s\u001b[0m 5ms/step \n"
     ]
    },
    {
     "name": "stderr",
     "output_type": "stream",
     "text": [
      "c:\\Users\\Admin\\AppData\\Local\\Programs\\Python\\Python310\\lib\\site-packages\\keras\\src\\layers\\core\\dense.py:87: UserWarning:\n",
      "\n",
      "Do not pass an `input_shape`/`input_dim` argument to a layer. When using Sequential models, prefer using an `Input(shape)` object as the first layer in the model instead.\n",
      "\n"
     ]
    },
    {
     "name": "stdout",
     "output_type": "stream",
     "text": [
      "\u001b[1m5/5\u001b[0m \u001b[32m━━━━━━━━━━━━━━━━━━━━\u001b[0m\u001b[37m\u001b[0m \u001b[1m0s\u001b[0m 16ms/step \n",
      "\n",
      "===== 🔁 Run 29/100 =====\n"
     ]
    },
    {
     "name": "stderr",
     "output_type": "stream",
     "text": [
      "c:\\Users\\Admin\\AppData\\Local\\Programs\\Python\\Python310\\lib\\site-packages\\keras\\src\\layers\\core\\dense.py:87: UserWarning:\n",
      "\n",
      "Do not pass an `input_shape`/`input_dim` argument to a layer. When using Sequential models, prefer using an `Input(shape)` object as the first layer in the model instead.\n",
      "\n"
     ]
    },
    {
     "name": "stdout",
     "output_type": "stream",
     "text": [
      "\u001b[1m5/5\u001b[0m \u001b[32m━━━━━━━━━━━━━━━━━━━━\u001b[0m\u001b[37m\u001b[0m \u001b[1m0s\u001b[0m 7ms/step \n"
     ]
    },
    {
     "name": "stderr",
     "output_type": "stream",
     "text": [
      "c:\\Users\\Admin\\AppData\\Local\\Programs\\Python\\Python310\\lib\\site-packages\\keras\\src\\layers\\core\\dense.py:87: UserWarning:\n",
      "\n",
      "Do not pass an `input_shape`/`input_dim` argument to a layer. When using Sequential models, prefer using an `Input(shape)` object as the first layer in the model instead.\n",
      "\n"
     ]
    },
    {
     "name": "stdout",
     "output_type": "stream",
     "text": [
      "\u001b[1m5/5\u001b[0m \u001b[32m━━━━━━━━━━━━━━━━━━━━\u001b[0m\u001b[37m\u001b[0m \u001b[1m0s\u001b[0m 6ms/step  \n",
      "\n",
      "===== 🔁 Run 30/100 =====\n"
     ]
    },
    {
     "name": "stderr",
     "output_type": "stream",
     "text": [
      "c:\\Users\\Admin\\AppData\\Local\\Programs\\Python\\Python310\\lib\\site-packages\\keras\\src\\layers\\core\\dense.py:87: UserWarning:\n",
      "\n",
      "Do not pass an `input_shape`/`input_dim` argument to a layer. When using Sequential models, prefer using an `Input(shape)` object as the first layer in the model instead.\n",
      "\n"
     ]
    },
    {
     "name": "stdout",
     "output_type": "stream",
     "text": [
      "\u001b[1m5/5\u001b[0m \u001b[32m━━━━━━━━━━━━━━━━━━━━\u001b[0m\u001b[37m\u001b[0m \u001b[1m0s\u001b[0m 6ms/step \n"
     ]
    },
    {
     "name": "stderr",
     "output_type": "stream",
     "text": [
      "c:\\Users\\Admin\\AppData\\Local\\Programs\\Python\\Python310\\lib\\site-packages\\keras\\src\\layers\\core\\dense.py:87: UserWarning:\n",
      "\n",
      "Do not pass an `input_shape`/`input_dim` argument to a layer. When using Sequential models, prefer using an `Input(shape)` object as the first layer in the model instead.\n",
      "\n"
     ]
    },
    {
     "name": "stdout",
     "output_type": "stream",
     "text": [
      "\u001b[1m5/5\u001b[0m \u001b[32m━━━━━━━━━━━━━━━━━━━━\u001b[0m\u001b[37m\u001b[0m \u001b[1m0s\u001b[0m 7ms/step  \n",
      "\n",
      "===== 🔁 Run 31/100 =====\n"
     ]
    },
    {
     "name": "stderr",
     "output_type": "stream",
     "text": [
      "c:\\Users\\Admin\\AppData\\Local\\Programs\\Python\\Python310\\lib\\site-packages\\keras\\src\\layers\\core\\dense.py:87: UserWarning:\n",
      "\n",
      "Do not pass an `input_shape`/`input_dim` argument to a layer. When using Sequential models, prefer using an `Input(shape)` object as the first layer in the model instead.\n",
      "\n"
     ]
    },
    {
     "name": "stdout",
     "output_type": "stream",
     "text": [
      "\u001b[1m5/5\u001b[0m \u001b[32m━━━━━━━━━━━━━━━━━━━━\u001b[0m\u001b[37m\u001b[0m \u001b[1m0s\u001b[0m 11ms/step\n"
     ]
    },
    {
     "name": "stderr",
     "output_type": "stream",
     "text": [
      "c:\\Users\\Admin\\AppData\\Local\\Programs\\Python\\Python310\\lib\\site-packages\\keras\\src\\layers\\core\\dense.py:87: UserWarning:\n",
      "\n",
      "Do not pass an `input_shape`/`input_dim` argument to a layer. When using Sequential models, prefer using an `Input(shape)` object as the first layer in the model instead.\n",
      "\n"
     ]
    },
    {
     "name": "stdout",
     "output_type": "stream",
     "text": [
      "\u001b[1m5/5\u001b[0m \u001b[32m━━━━━━━━━━━━━━━━━━━━\u001b[0m\u001b[37m\u001b[0m \u001b[1m0s\u001b[0m 17ms/step \n",
      "\n",
      "===== 🔁 Run 32/100 =====\n"
     ]
    },
    {
     "name": "stderr",
     "output_type": "stream",
     "text": [
      "c:\\Users\\Admin\\AppData\\Local\\Programs\\Python\\Python310\\lib\\site-packages\\keras\\src\\layers\\core\\dense.py:87: UserWarning:\n",
      "\n",
      "Do not pass an `input_shape`/`input_dim` argument to a layer. When using Sequential models, prefer using an `Input(shape)` object as the first layer in the model instead.\n",
      "\n"
     ]
    },
    {
     "name": "stdout",
     "output_type": "stream",
     "text": [
      "\u001b[1m5/5\u001b[0m \u001b[32m━━━━━━━━━━━━━━━━━━━━\u001b[0m\u001b[37m\u001b[0m \u001b[1m0s\u001b[0m 5ms/step \n"
     ]
    },
    {
     "name": "stderr",
     "output_type": "stream",
     "text": [
      "c:\\Users\\Admin\\AppData\\Local\\Programs\\Python\\Python310\\lib\\site-packages\\keras\\src\\layers\\core\\dense.py:87: UserWarning:\n",
      "\n",
      "Do not pass an `input_shape`/`input_dim` argument to a layer. When using Sequential models, prefer using an `Input(shape)` object as the first layer in the model instead.\n",
      "\n"
     ]
    },
    {
     "name": "stdout",
     "output_type": "stream",
     "text": [
      "\u001b[1m5/5\u001b[0m \u001b[32m━━━━━━━━━━━━━━━━━━━━\u001b[0m\u001b[37m\u001b[0m \u001b[1m0s\u001b[0m 5ms/step  \n",
      "\n",
      "===== 🔁 Run 33/100 =====\n"
     ]
    },
    {
     "name": "stderr",
     "output_type": "stream",
     "text": [
      "c:\\Users\\Admin\\AppData\\Local\\Programs\\Python\\Python310\\lib\\site-packages\\keras\\src\\layers\\core\\dense.py:87: UserWarning:\n",
      "\n",
      "Do not pass an `input_shape`/`input_dim` argument to a layer. When using Sequential models, prefer using an `Input(shape)` object as the first layer in the model instead.\n",
      "\n"
     ]
    },
    {
     "name": "stdout",
     "output_type": "stream",
     "text": [
      "\u001b[1m5/5\u001b[0m \u001b[32m━━━━━━━━━━━━━━━━━━━━\u001b[0m\u001b[37m\u001b[0m \u001b[1m0s\u001b[0m 13ms/step\n"
     ]
    },
    {
     "name": "stderr",
     "output_type": "stream",
     "text": [
      "c:\\Users\\Admin\\AppData\\Local\\Programs\\Python\\Python310\\lib\\site-packages\\keras\\src\\layers\\core\\dense.py:87: UserWarning:\n",
      "\n",
      "Do not pass an `input_shape`/`input_dim` argument to a layer. When using Sequential models, prefer using an `Input(shape)` object as the first layer in the model instead.\n",
      "\n"
     ]
    },
    {
     "name": "stdout",
     "output_type": "stream",
     "text": [
      "\u001b[1m5/5\u001b[0m \u001b[32m━━━━━━━━━━━━━━━━━━━━\u001b[0m\u001b[37m\u001b[0m \u001b[1m0s\u001b[0m 5ms/step  \n",
      "\n",
      "===== 🔁 Run 34/100 =====\n"
     ]
    },
    {
     "name": "stderr",
     "output_type": "stream",
     "text": [
      "c:\\Users\\Admin\\AppData\\Local\\Programs\\Python\\Python310\\lib\\site-packages\\keras\\src\\layers\\core\\dense.py:87: UserWarning:\n",
      "\n",
      "Do not pass an `input_shape`/`input_dim` argument to a layer. When using Sequential models, prefer using an `Input(shape)` object as the first layer in the model instead.\n",
      "\n"
     ]
    },
    {
     "name": "stdout",
     "output_type": "stream",
     "text": [
      "\u001b[1m5/5\u001b[0m \u001b[32m━━━━━━━━━━━━━━━━━━━━\u001b[0m\u001b[37m\u001b[0m \u001b[1m0s\u001b[0m 8ms/step \n"
     ]
    },
    {
     "name": "stderr",
     "output_type": "stream",
     "text": [
      "c:\\Users\\Admin\\AppData\\Local\\Programs\\Python\\Python310\\lib\\site-packages\\keras\\src\\layers\\core\\dense.py:87: UserWarning:\n",
      "\n",
      "Do not pass an `input_shape`/`input_dim` argument to a layer. When using Sequential models, prefer using an `Input(shape)` object as the first layer in the model instead.\n",
      "\n"
     ]
    },
    {
     "name": "stdout",
     "output_type": "stream",
     "text": [
      "\u001b[1m5/5\u001b[0m \u001b[32m━━━━━━━━━━━━━━━━━━━━\u001b[0m\u001b[37m\u001b[0m \u001b[1m0s\u001b[0m 21ms/step \n",
      "\n",
      "===== 🔁 Run 35/100 =====\n"
     ]
    },
    {
     "name": "stderr",
     "output_type": "stream",
     "text": [
      "c:\\Users\\Admin\\AppData\\Local\\Programs\\Python\\Python310\\lib\\site-packages\\keras\\src\\layers\\core\\dense.py:87: UserWarning:\n",
      "\n",
      "Do not pass an `input_shape`/`input_dim` argument to a layer. When using Sequential models, prefer using an `Input(shape)` object as the first layer in the model instead.\n",
      "\n"
     ]
    },
    {
     "name": "stdout",
     "output_type": "stream",
     "text": [
      "\u001b[1m5/5\u001b[0m \u001b[32m━━━━━━━━━━━━━━━━━━━━\u001b[0m\u001b[37m\u001b[0m \u001b[1m0s\u001b[0m 15ms/step\n"
     ]
    },
    {
     "name": "stderr",
     "output_type": "stream",
     "text": [
      "c:\\Users\\Admin\\AppData\\Local\\Programs\\Python\\Python310\\lib\\site-packages\\keras\\src\\layers\\core\\dense.py:87: UserWarning:\n",
      "\n",
      "Do not pass an `input_shape`/`input_dim` argument to a layer. When using Sequential models, prefer using an `Input(shape)` object as the first layer in the model instead.\n",
      "\n"
     ]
    },
    {
     "name": "stdout",
     "output_type": "stream",
     "text": [
      "\u001b[1m5/5\u001b[0m \u001b[32m━━━━━━━━━━━━━━━━━━━━\u001b[0m\u001b[37m\u001b[0m \u001b[1m0s\u001b[0m 10ms/step \n",
      "\n",
      "===== 🔁 Run 36/100 =====\n"
     ]
    },
    {
     "name": "stderr",
     "output_type": "stream",
     "text": [
      "c:\\Users\\Admin\\AppData\\Local\\Programs\\Python\\Python310\\lib\\site-packages\\keras\\src\\layers\\core\\dense.py:87: UserWarning:\n",
      "\n",
      "Do not pass an `input_shape`/`input_dim` argument to a layer. When using Sequential models, prefer using an `Input(shape)` object as the first layer in the model instead.\n",
      "\n"
     ]
    },
    {
     "name": "stdout",
     "output_type": "stream",
     "text": [
      "\u001b[1m5/5\u001b[0m \u001b[32m━━━━━━━━━━━━━━━━━━━━\u001b[0m\u001b[37m\u001b[0m \u001b[1m0s\u001b[0m 5ms/step  \n"
     ]
    },
    {
     "name": "stderr",
     "output_type": "stream",
     "text": [
      "c:\\Users\\Admin\\AppData\\Local\\Programs\\Python\\Python310\\lib\\site-packages\\keras\\src\\layers\\core\\dense.py:87: UserWarning:\n",
      "\n",
      "Do not pass an `input_shape`/`input_dim` argument to a layer. When using Sequential models, prefer using an `Input(shape)` object as the first layer in the model instead.\n",
      "\n"
     ]
    },
    {
     "name": "stdout",
     "output_type": "stream",
     "text": [
      "\u001b[1m5/5\u001b[0m \u001b[32m━━━━━━━━━━━━━━━━━━━━\u001b[0m\u001b[37m\u001b[0m \u001b[1m0s\u001b[0m 17ms/step \n",
      "\n",
      "===== 🔁 Run 37/100 =====\n"
     ]
    },
    {
     "name": "stderr",
     "output_type": "stream",
     "text": [
      "c:\\Users\\Admin\\AppData\\Local\\Programs\\Python\\Python310\\lib\\site-packages\\keras\\src\\layers\\core\\dense.py:87: UserWarning:\n",
      "\n",
      "Do not pass an `input_shape`/`input_dim` argument to a layer. When using Sequential models, prefer using an `Input(shape)` object as the first layer in the model instead.\n",
      "\n"
     ]
    },
    {
     "name": "stdout",
     "output_type": "stream",
     "text": [
      "\u001b[1m5/5\u001b[0m \u001b[32m━━━━━━━━━━━━━━━━━━━━\u001b[0m\u001b[37m\u001b[0m \u001b[1m0s\u001b[0m 5ms/step \n"
     ]
    },
    {
     "name": "stderr",
     "output_type": "stream",
     "text": [
      "c:\\Users\\Admin\\AppData\\Local\\Programs\\Python\\Python310\\lib\\site-packages\\keras\\src\\layers\\core\\dense.py:87: UserWarning:\n",
      "\n",
      "Do not pass an `input_shape`/`input_dim` argument to a layer. When using Sequential models, prefer using an `Input(shape)` object as the first layer in the model instead.\n",
      "\n"
     ]
    },
    {
     "name": "stdout",
     "output_type": "stream",
     "text": [
      "\u001b[1m5/5\u001b[0m \u001b[32m━━━━━━━━━━━━━━━━━━━━\u001b[0m\u001b[37m\u001b[0m \u001b[1m0s\u001b[0m 14ms/step \n",
      "\n",
      "===== 🔁 Run 38/100 =====\n"
     ]
    },
    {
     "name": "stderr",
     "output_type": "stream",
     "text": [
      "c:\\Users\\Admin\\AppData\\Local\\Programs\\Python\\Python310\\lib\\site-packages\\keras\\src\\layers\\core\\dense.py:87: UserWarning:\n",
      "\n",
      "Do not pass an `input_shape`/`input_dim` argument to a layer. When using Sequential models, prefer using an `Input(shape)` object as the first layer in the model instead.\n",
      "\n"
     ]
    },
    {
     "name": "stdout",
     "output_type": "stream",
     "text": [
      "\u001b[1m5/5\u001b[0m \u001b[32m━━━━━━━━━━━━━━━━━━━━\u001b[0m\u001b[37m\u001b[0m \u001b[1m0s\u001b[0m 8ms/step  \n"
     ]
    },
    {
     "name": "stderr",
     "output_type": "stream",
     "text": [
      "c:\\Users\\Admin\\AppData\\Local\\Programs\\Python\\Python310\\lib\\site-packages\\keras\\src\\layers\\core\\dense.py:87: UserWarning:\n",
      "\n",
      "Do not pass an `input_shape`/`input_dim` argument to a layer. When using Sequential models, prefer using an `Input(shape)` object as the first layer in the model instead.\n",
      "\n"
     ]
    },
    {
     "name": "stdout",
     "output_type": "stream",
     "text": [
      "\u001b[1m5/5\u001b[0m \u001b[32m━━━━━━━━━━━━━━━━━━━━\u001b[0m\u001b[37m\u001b[0m \u001b[1m0s\u001b[0m 5ms/step \n",
      "\n",
      "===== 🔁 Run 39/100 =====\n"
     ]
    },
    {
     "name": "stderr",
     "output_type": "stream",
     "text": [
      "c:\\Users\\Admin\\AppData\\Local\\Programs\\Python\\Python310\\lib\\site-packages\\keras\\src\\layers\\core\\dense.py:87: UserWarning:\n",
      "\n",
      "Do not pass an `input_shape`/`input_dim` argument to a layer. When using Sequential models, prefer using an `Input(shape)` object as the first layer in the model instead.\n",
      "\n"
     ]
    },
    {
     "name": "stdout",
     "output_type": "stream",
     "text": [
      "\u001b[1m5/5\u001b[0m \u001b[32m━━━━━━━━━━━━━━━━━━━━\u001b[0m\u001b[37m\u001b[0m \u001b[1m0s\u001b[0m 9ms/step \n"
     ]
    },
    {
     "name": "stderr",
     "output_type": "stream",
     "text": [
      "c:\\Users\\Admin\\AppData\\Local\\Programs\\Python\\Python310\\lib\\site-packages\\keras\\src\\layers\\core\\dense.py:87: UserWarning:\n",
      "\n",
      "Do not pass an `input_shape`/`input_dim` argument to a layer. When using Sequential models, prefer using an `Input(shape)` object as the first layer in the model instead.\n",
      "\n"
     ]
    },
    {
     "name": "stdout",
     "output_type": "stream",
     "text": [
      "\u001b[1m5/5\u001b[0m \u001b[32m━━━━━━━━━━━━━━━━━━━━\u001b[0m\u001b[37m\u001b[0m \u001b[1m0s\u001b[0m 16ms/step\n",
      "\n",
      "===== 🔁 Run 40/100 =====\n"
     ]
    },
    {
     "name": "stderr",
     "output_type": "stream",
     "text": [
      "c:\\Users\\Admin\\AppData\\Local\\Programs\\Python\\Python310\\lib\\site-packages\\keras\\src\\layers\\core\\dense.py:87: UserWarning:\n",
      "\n",
      "Do not pass an `input_shape`/`input_dim` argument to a layer. When using Sequential models, prefer using an `Input(shape)` object as the first layer in the model instead.\n",
      "\n"
     ]
    },
    {
     "name": "stdout",
     "output_type": "stream",
     "text": [
      "\u001b[1m5/5\u001b[0m \u001b[32m━━━━━━━━━━━━━━━━━━━━\u001b[0m\u001b[37m\u001b[0m \u001b[1m0s\u001b[0m 5ms/step \n"
     ]
    },
    {
     "name": "stderr",
     "output_type": "stream",
     "text": [
      "c:\\Users\\Admin\\AppData\\Local\\Programs\\Python\\Python310\\lib\\site-packages\\keras\\src\\layers\\core\\dense.py:87: UserWarning:\n",
      "\n",
      "Do not pass an `input_shape`/`input_dim` argument to a layer. When using Sequential models, prefer using an `Input(shape)` object as the first layer in the model instead.\n",
      "\n"
     ]
    },
    {
     "name": "stdout",
     "output_type": "stream",
     "text": [
      "\u001b[1m5/5\u001b[0m \u001b[32m━━━━━━━━━━━━━━━━━━━━\u001b[0m\u001b[37m\u001b[0m \u001b[1m0s\u001b[0m 11ms/step \n",
      "\n",
      "===== 🔁 Run 41/100 =====\n"
     ]
    },
    {
     "name": "stderr",
     "output_type": "stream",
     "text": [
      "c:\\Users\\Admin\\AppData\\Local\\Programs\\Python\\Python310\\lib\\site-packages\\keras\\src\\layers\\core\\dense.py:87: UserWarning:\n",
      "\n",
      "Do not pass an `input_shape`/`input_dim` argument to a layer. When using Sequential models, prefer using an `Input(shape)` object as the first layer in the model instead.\n",
      "\n"
     ]
    },
    {
     "name": "stdout",
     "output_type": "stream",
     "text": [
      "\u001b[1m5/5\u001b[0m \u001b[32m━━━━━━━━━━━━━━━━━━━━\u001b[0m\u001b[37m\u001b[0m \u001b[1m0s\u001b[0m 11ms/step\n"
     ]
    },
    {
     "name": "stderr",
     "output_type": "stream",
     "text": [
      "c:\\Users\\Admin\\AppData\\Local\\Programs\\Python\\Python310\\lib\\site-packages\\keras\\src\\layers\\core\\dense.py:87: UserWarning:\n",
      "\n",
      "Do not pass an `input_shape`/`input_dim` argument to a layer. When using Sequential models, prefer using an `Input(shape)` object as the first layer in the model instead.\n",
      "\n"
     ]
    },
    {
     "name": "stdout",
     "output_type": "stream",
     "text": [
      "\u001b[1m5/5\u001b[0m \u001b[32m━━━━━━━━━━━━━━━━━━━━\u001b[0m\u001b[37m\u001b[0m \u001b[1m0s\u001b[0m 9ms/step  \n",
      "\n",
      "===== 🔁 Run 42/100 =====\n"
     ]
    },
    {
     "name": "stderr",
     "output_type": "stream",
     "text": [
      "c:\\Users\\Admin\\AppData\\Local\\Programs\\Python\\Python310\\lib\\site-packages\\keras\\src\\layers\\core\\dense.py:87: UserWarning:\n",
      "\n",
      "Do not pass an `input_shape`/`input_dim` argument to a layer. When using Sequential models, prefer using an `Input(shape)` object as the first layer in the model instead.\n",
      "\n"
     ]
    },
    {
     "name": "stdout",
     "output_type": "stream",
     "text": [
      "\u001b[1m5/5\u001b[0m \u001b[32m━━━━━━━━━━━━━━━━━━━━\u001b[0m\u001b[37m\u001b[0m \u001b[1m0s\u001b[0m 16ms/step\n"
     ]
    },
    {
     "name": "stderr",
     "output_type": "stream",
     "text": [
      "c:\\Users\\Admin\\AppData\\Local\\Programs\\Python\\Python310\\lib\\site-packages\\keras\\src\\layers\\core\\dense.py:87: UserWarning:\n",
      "\n",
      "Do not pass an `input_shape`/`input_dim` argument to a layer. When using Sequential models, prefer using an `Input(shape)` object as the first layer in the model instead.\n",
      "\n"
     ]
    },
    {
     "name": "stdout",
     "output_type": "stream",
     "text": [
      "\u001b[1m5/5\u001b[0m \u001b[32m━━━━━━━━━━━━━━━━━━━━\u001b[0m\u001b[37m\u001b[0m \u001b[1m0s\u001b[0m 6ms/step  \n",
      "\n",
      "===== 🔁 Run 43/100 =====\n"
     ]
    },
    {
     "name": "stderr",
     "output_type": "stream",
     "text": [
      "c:\\Users\\Admin\\AppData\\Local\\Programs\\Python\\Python310\\lib\\site-packages\\keras\\src\\layers\\core\\dense.py:87: UserWarning:\n",
      "\n",
      "Do not pass an `input_shape`/`input_dim` argument to a layer. When using Sequential models, prefer using an `Input(shape)` object as the first layer in the model instead.\n",
      "\n"
     ]
    },
    {
     "name": "stdout",
     "output_type": "stream",
     "text": [
      "\u001b[1m5/5\u001b[0m \u001b[32m━━━━━━━━━━━━━━━━━━━━\u001b[0m\u001b[37m\u001b[0m \u001b[1m0s\u001b[0m 11ms/step \n"
     ]
    },
    {
     "name": "stderr",
     "output_type": "stream",
     "text": [
      "c:\\Users\\Admin\\AppData\\Local\\Programs\\Python\\Python310\\lib\\site-packages\\keras\\src\\layers\\core\\dense.py:87: UserWarning:\n",
      "\n",
      "Do not pass an `input_shape`/`input_dim` argument to a layer. When using Sequential models, prefer using an `Input(shape)` object as the first layer in the model instead.\n",
      "\n"
     ]
    },
    {
     "name": "stdout",
     "output_type": "stream",
     "text": [
      "\u001b[1m5/5\u001b[0m \u001b[32m━━━━━━━━━━━━━━━━━━━━\u001b[0m\u001b[37m\u001b[0m \u001b[1m0s\u001b[0m 8ms/step  \n",
      "\n",
      "===== 🔁 Run 44/100 =====\n"
     ]
    },
    {
     "name": "stderr",
     "output_type": "stream",
     "text": [
      "c:\\Users\\Admin\\AppData\\Local\\Programs\\Python\\Python310\\lib\\site-packages\\keras\\src\\layers\\core\\dense.py:87: UserWarning:\n",
      "\n",
      "Do not pass an `input_shape`/`input_dim` argument to a layer. When using Sequential models, prefer using an `Input(shape)` object as the first layer in the model instead.\n",
      "\n"
     ]
    },
    {
     "name": "stdout",
     "output_type": "stream",
     "text": [
      "\u001b[1m5/5\u001b[0m \u001b[32m━━━━━━━━━━━━━━━━━━━━\u001b[0m\u001b[37m\u001b[0m \u001b[1m0s\u001b[0m 12ms/step\n"
     ]
    },
    {
     "name": "stderr",
     "output_type": "stream",
     "text": [
      "c:\\Users\\Admin\\AppData\\Local\\Programs\\Python\\Python310\\lib\\site-packages\\keras\\src\\layers\\core\\dense.py:87: UserWarning:\n",
      "\n",
      "Do not pass an `input_shape`/`input_dim` argument to a layer. When using Sequential models, prefer using an `Input(shape)` object as the first layer in the model instead.\n",
      "\n"
     ]
    },
    {
     "name": "stdout",
     "output_type": "stream",
     "text": [
      "\u001b[1m5/5\u001b[0m \u001b[32m━━━━━━━━━━━━━━━━━━━━\u001b[0m\u001b[37m\u001b[0m \u001b[1m0s\u001b[0m 19ms/step \n",
      "\n",
      "===== 🔁 Run 45/100 =====\n"
     ]
    },
    {
     "name": "stderr",
     "output_type": "stream",
     "text": [
      "c:\\Users\\Admin\\AppData\\Local\\Programs\\Python\\Python310\\lib\\site-packages\\keras\\src\\layers\\core\\dense.py:87: UserWarning:\n",
      "\n",
      "Do not pass an `input_shape`/`input_dim` argument to a layer. When using Sequential models, prefer using an `Input(shape)` object as the first layer in the model instead.\n",
      "\n"
     ]
    },
    {
     "name": "stdout",
     "output_type": "stream",
     "text": [
      "\u001b[1m5/5\u001b[0m \u001b[32m━━━━━━━━━━━━━━━━━━━━\u001b[0m\u001b[37m\u001b[0m \u001b[1m0s\u001b[0m 13ms/step\n"
     ]
    },
    {
     "name": "stderr",
     "output_type": "stream",
     "text": [
      "c:\\Users\\Admin\\AppData\\Local\\Programs\\Python\\Python310\\lib\\site-packages\\keras\\src\\layers\\core\\dense.py:87: UserWarning:\n",
      "\n",
      "Do not pass an `input_shape`/`input_dim` argument to a layer. When using Sequential models, prefer using an `Input(shape)` object as the first layer in the model instead.\n",
      "\n"
     ]
    },
    {
     "name": "stdout",
     "output_type": "stream",
     "text": [
      "\u001b[1m5/5\u001b[0m \u001b[32m━━━━━━━━━━━━━━━━━━━━\u001b[0m\u001b[37m\u001b[0m \u001b[1m0s\u001b[0m 5ms/step \n",
      "\n",
      "===== 🔁 Run 46/100 =====\n"
     ]
    },
    {
     "name": "stderr",
     "output_type": "stream",
     "text": [
      "c:\\Users\\Admin\\AppData\\Local\\Programs\\Python\\Python310\\lib\\site-packages\\keras\\src\\layers\\core\\dense.py:87: UserWarning:\n",
      "\n",
      "Do not pass an `input_shape`/`input_dim` argument to a layer. When using Sequential models, prefer using an `Input(shape)` object as the first layer in the model instead.\n",
      "\n"
     ]
    },
    {
     "name": "stdout",
     "output_type": "stream",
     "text": [
      "\u001b[1m5/5\u001b[0m \u001b[32m━━━━━━━━━━━━━━━━━━━━\u001b[0m\u001b[37m\u001b[0m \u001b[1m0s\u001b[0m 6ms/step \n"
     ]
    },
    {
     "name": "stderr",
     "output_type": "stream",
     "text": [
      "c:\\Users\\Admin\\AppData\\Local\\Programs\\Python\\Python310\\lib\\site-packages\\keras\\src\\layers\\core\\dense.py:87: UserWarning:\n",
      "\n",
      "Do not pass an `input_shape`/`input_dim` argument to a layer. When using Sequential models, prefer using an `Input(shape)` object as the first layer in the model instead.\n",
      "\n"
     ]
    },
    {
     "name": "stdout",
     "output_type": "stream",
     "text": [
      "\u001b[1m5/5\u001b[0m \u001b[32m━━━━━━━━━━━━━━━━━━━━\u001b[0m\u001b[37m\u001b[0m \u001b[1m0s\u001b[0m 17ms/step \n",
      "\n",
      "===== 🔁 Run 47/100 =====\n"
     ]
    },
    {
     "name": "stderr",
     "output_type": "stream",
     "text": [
      "c:\\Users\\Admin\\AppData\\Local\\Programs\\Python\\Python310\\lib\\site-packages\\keras\\src\\layers\\core\\dense.py:87: UserWarning:\n",
      "\n",
      "Do not pass an `input_shape`/`input_dim` argument to a layer. When using Sequential models, prefer using an `Input(shape)` object as the first layer in the model instead.\n",
      "\n"
     ]
    },
    {
     "name": "stdout",
     "output_type": "stream",
     "text": [
      "\u001b[1m5/5\u001b[0m \u001b[32m━━━━━━━━━━━━━━━━━━━━\u001b[0m\u001b[37m\u001b[0m \u001b[1m0s\u001b[0m 12ms/step\n"
     ]
    },
    {
     "name": "stderr",
     "output_type": "stream",
     "text": [
      "c:\\Users\\Admin\\AppData\\Local\\Programs\\Python\\Python310\\lib\\site-packages\\keras\\src\\layers\\core\\dense.py:87: UserWarning:\n",
      "\n",
      "Do not pass an `input_shape`/`input_dim` argument to a layer. When using Sequential models, prefer using an `Input(shape)` object as the first layer in the model instead.\n",
      "\n"
     ]
    },
    {
     "name": "stdout",
     "output_type": "stream",
     "text": [
      "\u001b[1m5/5\u001b[0m \u001b[32m━━━━━━━━━━━━━━━━━━━━\u001b[0m\u001b[37m\u001b[0m \u001b[1m0s\u001b[0m 7ms/step \n",
      "\n",
      "===== 🔁 Run 48/100 =====\n"
     ]
    },
    {
     "name": "stderr",
     "output_type": "stream",
     "text": [
      "c:\\Users\\Admin\\AppData\\Local\\Programs\\Python\\Python310\\lib\\site-packages\\keras\\src\\layers\\core\\dense.py:87: UserWarning:\n",
      "\n",
      "Do not pass an `input_shape`/`input_dim` argument to a layer. When using Sequential models, prefer using an `Input(shape)` object as the first layer in the model instead.\n",
      "\n"
     ]
    },
    {
     "name": "stdout",
     "output_type": "stream",
     "text": [
      "\u001b[1m5/5\u001b[0m \u001b[32m━━━━━━━━━━━━━━━━━━━━\u001b[0m\u001b[37m\u001b[0m \u001b[1m0s\u001b[0m 7ms/step  \n"
     ]
    },
    {
     "name": "stderr",
     "output_type": "stream",
     "text": [
      "c:\\Users\\Admin\\AppData\\Local\\Programs\\Python\\Python310\\lib\\site-packages\\keras\\src\\layers\\core\\dense.py:87: UserWarning:\n",
      "\n",
      "Do not pass an `input_shape`/`input_dim` argument to a layer. When using Sequential models, prefer using an `Input(shape)` object as the first layer in the model instead.\n",
      "\n"
     ]
    },
    {
     "name": "stdout",
     "output_type": "stream",
     "text": [
      "\u001b[1m5/5\u001b[0m \u001b[32m━━━━━━━━━━━━━━━━━━━━\u001b[0m\u001b[37m\u001b[0m \u001b[1m0s\u001b[0m 11ms/step \n",
      "\n",
      "===== 🔁 Run 49/100 =====\n"
     ]
    },
    {
     "name": "stderr",
     "output_type": "stream",
     "text": [
      "c:\\Users\\Admin\\AppData\\Local\\Programs\\Python\\Python310\\lib\\site-packages\\keras\\src\\layers\\core\\dense.py:87: UserWarning:\n",
      "\n",
      "Do not pass an `input_shape`/`input_dim` argument to a layer. When using Sequential models, prefer using an `Input(shape)` object as the first layer in the model instead.\n",
      "\n"
     ]
    },
    {
     "name": "stdout",
     "output_type": "stream",
     "text": [
      "\u001b[1m5/5\u001b[0m \u001b[32m━━━━━━━━━━━━━━━━━━━━\u001b[0m\u001b[37m\u001b[0m \u001b[1m0s\u001b[0m 6ms/step \n"
     ]
    },
    {
     "name": "stderr",
     "output_type": "stream",
     "text": [
      "c:\\Users\\Admin\\AppData\\Local\\Programs\\Python\\Python310\\lib\\site-packages\\keras\\src\\layers\\core\\dense.py:87: UserWarning:\n",
      "\n",
      "Do not pass an `input_shape`/`input_dim` argument to a layer. When using Sequential models, prefer using an `Input(shape)` object as the first layer in the model instead.\n",
      "\n"
     ]
    },
    {
     "name": "stdout",
     "output_type": "stream",
     "text": [
      "\u001b[1m5/5\u001b[0m \u001b[32m━━━━━━━━━━━━━━━━━━━━\u001b[0m\u001b[37m\u001b[0m \u001b[1m0s\u001b[0m 19ms/step \n",
      "\n",
      "===== 🔁 Run 50/100 =====\n"
     ]
    },
    {
     "name": "stderr",
     "output_type": "stream",
     "text": [
      "c:\\Users\\Admin\\AppData\\Local\\Programs\\Python\\Python310\\lib\\site-packages\\keras\\src\\layers\\core\\dense.py:87: UserWarning:\n",
      "\n",
      "Do not pass an `input_shape`/`input_dim` argument to a layer. When using Sequential models, prefer using an `Input(shape)` object as the first layer in the model instead.\n",
      "\n"
     ]
    },
    {
     "name": "stdout",
     "output_type": "stream",
     "text": [
      "\u001b[1m5/5\u001b[0m \u001b[32m━━━━━━━━━━━━━━━━━━━━\u001b[0m\u001b[37m\u001b[0m \u001b[1m0s\u001b[0m 7ms/step \n"
     ]
    },
    {
     "name": "stderr",
     "output_type": "stream",
     "text": [
      "c:\\Users\\Admin\\AppData\\Local\\Programs\\Python\\Python310\\lib\\site-packages\\keras\\src\\layers\\core\\dense.py:87: UserWarning:\n",
      "\n",
      "Do not pass an `input_shape`/`input_dim` argument to a layer. When using Sequential models, prefer using an `Input(shape)` object as the first layer in the model instead.\n",
      "\n"
     ]
    },
    {
     "name": "stdout",
     "output_type": "stream",
     "text": [
      "\u001b[1m5/5\u001b[0m \u001b[32m━━━━━━━━━━━━━━━━━━━━\u001b[0m\u001b[37m\u001b[0m \u001b[1m0s\u001b[0m 6ms/step  \n",
      "\n",
      "===== 🔁 Run 51/100 =====\n"
     ]
    },
    {
     "name": "stderr",
     "output_type": "stream",
     "text": [
      "c:\\Users\\Admin\\AppData\\Local\\Programs\\Python\\Python310\\lib\\site-packages\\keras\\src\\layers\\core\\dense.py:87: UserWarning:\n",
      "\n",
      "Do not pass an `input_shape`/`input_dim` argument to a layer. When using Sequential models, prefer using an `Input(shape)` object as the first layer in the model instead.\n",
      "\n"
     ]
    },
    {
     "name": "stdout",
     "output_type": "stream",
     "text": [
      "\u001b[1m5/5\u001b[0m \u001b[32m━━━━━━━━━━━━━━━━━━━━\u001b[0m\u001b[37m\u001b[0m \u001b[1m0s\u001b[0m 6ms/step \n"
     ]
    },
    {
     "name": "stderr",
     "output_type": "stream",
     "text": [
      "c:\\Users\\Admin\\AppData\\Local\\Programs\\Python\\Python310\\lib\\site-packages\\keras\\src\\layers\\core\\dense.py:87: UserWarning:\n",
      "\n",
      "Do not pass an `input_shape`/`input_dim` argument to a layer. When using Sequential models, prefer using an `Input(shape)` object as the first layer in the model instead.\n",
      "\n"
     ]
    },
    {
     "name": "stdout",
     "output_type": "stream",
     "text": [
      "\u001b[1m5/5\u001b[0m \u001b[32m━━━━━━━━━━━━━━━━━━━━\u001b[0m\u001b[37m\u001b[0m \u001b[1m0s\u001b[0m 17ms/step\n",
      "\n",
      "===== 🔁 Run 52/100 =====\n"
     ]
    },
    {
     "name": "stderr",
     "output_type": "stream",
     "text": [
      "c:\\Users\\Admin\\AppData\\Local\\Programs\\Python\\Python310\\lib\\site-packages\\keras\\src\\layers\\core\\dense.py:87: UserWarning:\n",
      "\n",
      "Do not pass an `input_shape`/`input_dim` argument to a layer. When using Sequential models, prefer using an `Input(shape)` object as the first layer in the model instead.\n",
      "\n"
     ]
    },
    {
     "name": "stdout",
     "output_type": "stream",
     "text": [
      "\u001b[1m5/5\u001b[0m \u001b[32m━━━━━━━━━━━━━━━━━━━━\u001b[0m\u001b[37m\u001b[0m \u001b[1m0s\u001b[0m 5ms/step \n"
     ]
    },
    {
     "name": "stderr",
     "output_type": "stream",
     "text": [
      "c:\\Users\\Admin\\AppData\\Local\\Programs\\Python\\Python310\\lib\\site-packages\\keras\\src\\layers\\core\\dense.py:87: UserWarning:\n",
      "\n",
      "Do not pass an `input_shape`/`input_dim` argument to a layer. When using Sequential models, prefer using an `Input(shape)` object as the first layer in the model instead.\n",
      "\n"
     ]
    },
    {
     "name": "stdout",
     "output_type": "stream",
     "text": [
      "\u001b[1m5/5\u001b[0m \u001b[32m━━━━━━━━━━━━━━━━━━━━\u001b[0m\u001b[37m\u001b[0m \u001b[1m0s\u001b[0m 12ms/step \n",
      "\n",
      "===== 🔁 Run 53/100 =====\n"
     ]
    },
    {
     "name": "stderr",
     "output_type": "stream",
     "text": [
      "c:\\Users\\Admin\\AppData\\Local\\Programs\\Python\\Python310\\lib\\site-packages\\keras\\src\\layers\\core\\dense.py:87: UserWarning:\n",
      "\n",
      "Do not pass an `input_shape`/`input_dim` argument to a layer. When using Sequential models, prefer using an `Input(shape)` object as the first layer in the model instead.\n",
      "\n"
     ]
    },
    {
     "name": "stdout",
     "output_type": "stream",
     "text": [
      "\u001b[1m5/5\u001b[0m \u001b[32m━━━━━━━━━━━━━━━━━━━━\u001b[0m\u001b[37m\u001b[0m \u001b[1m0s\u001b[0m 7ms/step \n"
     ]
    },
    {
     "name": "stderr",
     "output_type": "stream",
     "text": [
      "c:\\Users\\Admin\\AppData\\Local\\Programs\\Python\\Python310\\lib\\site-packages\\keras\\src\\layers\\core\\dense.py:87: UserWarning:\n",
      "\n",
      "Do not pass an `input_shape`/`input_dim` argument to a layer. When using Sequential models, prefer using an `Input(shape)` object as the first layer in the model instead.\n",
      "\n"
     ]
    },
    {
     "name": "stdout",
     "output_type": "stream",
     "text": [
      "\u001b[1m5/5\u001b[0m \u001b[32m━━━━━━━━━━━━━━━━━━━━\u001b[0m\u001b[37m\u001b[0m \u001b[1m0s\u001b[0m 12ms/step \n",
      "\n",
      "===== 🔁 Run 54/100 =====\n"
     ]
    },
    {
     "name": "stderr",
     "output_type": "stream",
     "text": [
      "c:\\Users\\Admin\\AppData\\Local\\Programs\\Python\\Python310\\lib\\site-packages\\keras\\src\\layers\\core\\dense.py:87: UserWarning:\n",
      "\n",
      "Do not pass an `input_shape`/`input_dim` argument to a layer. When using Sequential models, prefer using an `Input(shape)` object as the first layer in the model instead.\n",
      "\n"
     ]
    },
    {
     "name": "stdout",
     "output_type": "stream",
     "text": [
      "\u001b[1m5/5\u001b[0m \u001b[32m━━━━━━━━━━━━━━━━━━━━\u001b[0m\u001b[37m\u001b[0m \u001b[1m0s\u001b[0m 6ms/step \n"
     ]
    },
    {
     "name": "stderr",
     "output_type": "stream",
     "text": [
      "c:\\Users\\Admin\\AppData\\Local\\Programs\\Python\\Python310\\lib\\site-packages\\keras\\src\\layers\\core\\dense.py:87: UserWarning:\n",
      "\n",
      "Do not pass an `input_shape`/`input_dim` argument to a layer. When using Sequential models, prefer using an `Input(shape)` object as the first layer in the model instead.\n",
      "\n"
     ]
    },
    {
     "name": "stdout",
     "output_type": "stream",
     "text": [
      "\u001b[1m5/5\u001b[0m \u001b[32m━━━━━━━━━━━━━━━━━━━━\u001b[0m\u001b[37m\u001b[0m \u001b[1m0s\u001b[0m 5ms/step \n",
      "\n",
      "===== 🔁 Run 55/100 =====\n"
     ]
    },
    {
     "name": "stderr",
     "output_type": "stream",
     "text": [
      "c:\\Users\\Admin\\AppData\\Local\\Programs\\Python\\Python310\\lib\\site-packages\\keras\\src\\layers\\core\\dense.py:87: UserWarning:\n",
      "\n",
      "Do not pass an `input_shape`/`input_dim` argument to a layer. When using Sequential models, prefer using an `Input(shape)` object as the first layer in the model instead.\n",
      "\n"
     ]
    },
    {
     "name": "stdout",
     "output_type": "stream",
     "text": [
      "\u001b[1m5/5\u001b[0m \u001b[32m━━━━━━━━━━━━━━━━━━━━\u001b[0m\u001b[37m\u001b[0m \u001b[1m0s\u001b[0m 8ms/step \n"
     ]
    },
    {
     "name": "stderr",
     "output_type": "stream",
     "text": [
      "c:\\Users\\Admin\\AppData\\Local\\Programs\\Python\\Python310\\lib\\site-packages\\keras\\src\\layers\\core\\dense.py:87: UserWarning:\n",
      "\n",
      "Do not pass an `input_shape`/`input_dim` argument to a layer. When using Sequential models, prefer using an `Input(shape)` object as the first layer in the model instead.\n",
      "\n"
     ]
    },
    {
     "name": "stdout",
     "output_type": "stream",
     "text": [
      "\u001b[1m5/5\u001b[0m \u001b[32m━━━━━━━━━━━━━━━━━━━━\u001b[0m\u001b[37m\u001b[0m \u001b[1m0s\u001b[0m 14ms/step \n",
      "\n",
      "===== 🔁 Run 56/100 =====\n"
     ]
    },
    {
     "name": "stderr",
     "output_type": "stream",
     "text": [
      "c:\\Users\\Admin\\AppData\\Local\\Programs\\Python\\Python310\\lib\\site-packages\\keras\\src\\layers\\core\\dense.py:87: UserWarning:\n",
      "\n",
      "Do not pass an `input_shape`/`input_dim` argument to a layer. When using Sequential models, prefer using an `Input(shape)` object as the first layer in the model instead.\n",
      "\n"
     ]
    },
    {
     "name": "stdout",
     "output_type": "stream",
     "text": [
      "\u001b[1m5/5\u001b[0m \u001b[32m━━━━━━━━━━━━━━━━━━━━\u001b[0m\u001b[37m\u001b[0m \u001b[1m0s\u001b[0m 5ms/step \n"
     ]
    },
    {
     "name": "stderr",
     "output_type": "stream",
     "text": [
      "c:\\Users\\Admin\\AppData\\Local\\Programs\\Python\\Python310\\lib\\site-packages\\keras\\src\\layers\\core\\dense.py:87: UserWarning:\n",
      "\n",
      "Do not pass an `input_shape`/`input_dim` argument to a layer. When using Sequential models, prefer using an `Input(shape)` object as the first layer in the model instead.\n",
      "\n"
     ]
    },
    {
     "name": "stdout",
     "output_type": "stream",
     "text": [
      "\u001b[1m5/5\u001b[0m \u001b[32m━━━━━━━━━━━━━━━━━━━━\u001b[0m\u001b[37m\u001b[0m \u001b[1m0s\u001b[0m 5ms/step \n",
      "\n",
      "===== 🔁 Run 57/100 =====\n"
     ]
    },
    {
     "name": "stderr",
     "output_type": "stream",
     "text": [
      "c:\\Users\\Admin\\AppData\\Local\\Programs\\Python\\Python310\\lib\\site-packages\\keras\\src\\layers\\core\\dense.py:87: UserWarning:\n",
      "\n",
      "Do not pass an `input_shape`/`input_dim` argument to a layer. When using Sequential models, prefer using an `Input(shape)` object as the first layer in the model instead.\n",
      "\n"
     ]
    },
    {
     "name": "stdout",
     "output_type": "stream",
     "text": [
      "\u001b[1m5/5\u001b[0m \u001b[32m━━━━━━━━━━━━━━━━━━━━\u001b[0m\u001b[37m\u001b[0m \u001b[1m0s\u001b[0m 5ms/step \n"
     ]
    },
    {
     "name": "stderr",
     "output_type": "stream",
     "text": [
      "c:\\Users\\Admin\\AppData\\Local\\Programs\\Python\\Python310\\lib\\site-packages\\keras\\src\\layers\\core\\dense.py:87: UserWarning:\n",
      "\n",
      "Do not pass an `input_shape`/`input_dim` argument to a layer. When using Sequential models, prefer using an `Input(shape)` object as the first layer in the model instead.\n",
      "\n"
     ]
    },
    {
     "name": "stdout",
     "output_type": "stream",
     "text": [
      "\u001b[1m5/5\u001b[0m \u001b[32m━━━━━━━━━━━━━━━━━━━━\u001b[0m\u001b[37m\u001b[0m \u001b[1m0s\u001b[0m 5ms/step \n",
      "\n",
      "===== 🔁 Run 58/100 =====\n"
     ]
    },
    {
     "name": "stderr",
     "output_type": "stream",
     "text": [
      "c:\\Users\\Admin\\AppData\\Local\\Programs\\Python\\Python310\\lib\\site-packages\\keras\\src\\layers\\core\\dense.py:87: UserWarning:\n",
      "\n",
      "Do not pass an `input_shape`/`input_dim` argument to a layer. When using Sequential models, prefer using an `Input(shape)` object as the first layer in the model instead.\n",
      "\n"
     ]
    },
    {
     "name": "stdout",
     "output_type": "stream",
     "text": [
      "\u001b[1m5/5\u001b[0m \u001b[32m━━━━━━━━━━━━━━━━━━━━\u001b[0m\u001b[37m\u001b[0m \u001b[1m0s\u001b[0m 6ms/step \n"
     ]
    },
    {
     "name": "stderr",
     "output_type": "stream",
     "text": [
      "c:\\Users\\Admin\\AppData\\Local\\Programs\\Python\\Python310\\lib\\site-packages\\keras\\src\\layers\\core\\dense.py:87: UserWarning:\n",
      "\n",
      "Do not pass an `input_shape`/`input_dim` argument to a layer. When using Sequential models, prefer using an `Input(shape)` object as the first layer in the model instead.\n",
      "\n"
     ]
    },
    {
     "name": "stdout",
     "output_type": "stream",
     "text": [
      "\u001b[1m5/5\u001b[0m \u001b[32m━━━━━━━━━━━━━━━━━━━━\u001b[0m\u001b[37m\u001b[0m \u001b[1m0s\u001b[0m 7ms/step  \n",
      "\n",
      "===== 🔁 Run 59/100 =====\n"
     ]
    },
    {
     "name": "stderr",
     "output_type": "stream",
     "text": [
      "c:\\Users\\Admin\\AppData\\Local\\Programs\\Python\\Python310\\lib\\site-packages\\keras\\src\\layers\\core\\dense.py:87: UserWarning:\n",
      "\n",
      "Do not pass an `input_shape`/`input_dim` argument to a layer. When using Sequential models, prefer using an `Input(shape)` object as the first layer in the model instead.\n",
      "\n"
     ]
    },
    {
     "name": "stdout",
     "output_type": "stream",
     "text": [
      "\u001b[1m5/5\u001b[0m \u001b[32m━━━━━━━━━━━━━━━━━━━━\u001b[0m\u001b[37m\u001b[0m \u001b[1m0s\u001b[0m 5ms/step \n"
     ]
    },
    {
     "name": "stderr",
     "output_type": "stream",
     "text": [
      "c:\\Users\\Admin\\AppData\\Local\\Programs\\Python\\Python310\\lib\\site-packages\\keras\\src\\layers\\core\\dense.py:87: UserWarning:\n",
      "\n",
      "Do not pass an `input_shape`/`input_dim` argument to a layer. When using Sequential models, prefer using an `Input(shape)` object as the first layer in the model instead.\n",
      "\n"
     ]
    },
    {
     "name": "stdout",
     "output_type": "stream",
     "text": [
      "\u001b[1m5/5\u001b[0m \u001b[32m━━━━━━━━━━━━━━━━━━━━\u001b[0m\u001b[37m\u001b[0m \u001b[1m0s\u001b[0m 14ms/step \n",
      "\n",
      "===== 🔁 Run 60/100 =====\n"
     ]
    },
    {
     "name": "stderr",
     "output_type": "stream",
     "text": [
      "c:\\Users\\Admin\\AppData\\Local\\Programs\\Python\\Python310\\lib\\site-packages\\keras\\src\\layers\\core\\dense.py:87: UserWarning:\n",
      "\n",
      "Do not pass an `input_shape`/`input_dim` argument to a layer. When using Sequential models, prefer using an `Input(shape)` object as the first layer in the model instead.\n",
      "\n"
     ]
    },
    {
     "name": "stdout",
     "output_type": "stream",
     "text": [
      "\u001b[1m5/5\u001b[0m \u001b[32m━━━━━━━━━━━━━━━━━━━━\u001b[0m\u001b[37m\u001b[0m \u001b[1m0s\u001b[0m 5ms/step \n"
     ]
    },
    {
     "name": "stderr",
     "output_type": "stream",
     "text": [
      "c:\\Users\\Admin\\AppData\\Local\\Programs\\Python\\Python310\\lib\\site-packages\\keras\\src\\layers\\core\\dense.py:87: UserWarning:\n",
      "\n",
      "Do not pass an `input_shape`/`input_dim` argument to a layer. When using Sequential models, prefer using an `Input(shape)` object as the first layer in the model instead.\n",
      "\n"
     ]
    },
    {
     "name": "stdout",
     "output_type": "stream",
     "text": [
      "\u001b[1m5/5\u001b[0m \u001b[32m━━━━━━━━━━━━━━━━━━━━\u001b[0m\u001b[37m\u001b[0m \u001b[1m0s\u001b[0m 5ms/step  \n",
      "\n",
      "===== 🔁 Run 61/100 =====\n"
     ]
    },
    {
     "name": "stderr",
     "output_type": "stream",
     "text": [
      "c:\\Users\\Admin\\AppData\\Local\\Programs\\Python\\Python310\\lib\\site-packages\\keras\\src\\layers\\core\\dense.py:87: UserWarning:\n",
      "\n",
      "Do not pass an `input_shape`/`input_dim` argument to a layer. When using Sequential models, prefer using an `Input(shape)` object as the first layer in the model instead.\n",
      "\n"
     ]
    },
    {
     "name": "stdout",
     "output_type": "stream",
     "text": [
      "\u001b[1m5/5\u001b[0m \u001b[32m━━━━━━━━━━━━━━━━━━━━\u001b[0m\u001b[37m\u001b[0m \u001b[1m0s\u001b[0m 6ms/step \n"
     ]
    },
    {
     "name": "stderr",
     "output_type": "stream",
     "text": [
      "c:\\Users\\Admin\\AppData\\Local\\Programs\\Python\\Python310\\lib\\site-packages\\keras\\src\\layers\\core\\dense.py:87: UserWarning:\n",
      "\n",
      "Do not pass an `input_shape`/`input_dim` argument to a layer. When using Sequential models, prefer using an `Input(shape)` object as the first layer in the model instead.\n",
      "\n"
     ]
    },
    {
     "name": "stdout",
     "output_type": "stream",
     "text": [
      "\u001b[1m5/5\u001b[0m \u001b[32m━━━━━━━━━━━━━━━━━━━━\u001b[0m\u001b[37m\u001b[0m \u001b[1m0s\u001b[0m 10ms/step \n",
      "\n",
      "===== 🔁 Run 62/100 =====\n"
     ]
    },
    {
     "name": "stderr",
     "output_type": "stream",
     "text": [
      "c:\\Users\\Admin\\AppData\\Local\\Programs\\Python\\Python310\\lib\\site-packages\\keras\\src\\layers\\core\\dense.py:87: UserWarning:\n",
      "\n",
      "Do not pass an `input_shape`/`input_dim` argument to a layer. When using Sequential models, prefer using an `Input(shape)` object as the first layer in the model instead.\n",
      "\n"
     ]
    },
    {
     "name": "stdout",
     "output_type": "stream",
     "text": [
      "\u001b[1m5/5\u001b[0m \u001b[32m━━━━━━━━━━━━━━━━━━━━\u001b[0m\u001b[37m\u001b[0m \u001b[1m0s\u001b[0m 4ms/step \n"
     ]
    },
    {
     "name": "stderr",
     "output_type": "stream",
     "text": [
      "c:\\Users\\Admin\\AppData\\Local\\Programs\\Python\\Python310\\lib\\site-packages\\keras\\src\\layers\\core\\dense.py:87: UserWarning:\n",
      "\n",
      "Do not pass an `input_shape`/`input_dim` argument to a layer. When using Sequential models, prefer using an `Input(shape)` object as the first layer in the model instead.\n",
      "\n"
     ]
    },
    {
     "name": "stdout",
     "output_type": "stream",
     "text": [
      "\u001b[1m5/5\u001b[0m \u001b[32m━━━━━━━━━━━━━━━━━━━━\u001b[0m\u001b[37m\u001b[0m \u001b[1m0s\u001b[0m 6ms/step  \n",
      "\n",
      "===== 🔁 Run 63/100 =====\n"
     ]
    },
    {
     "name": "stderr",
     "output_type": "stream",
     "text": [
      "c:\\Users\\Admin\\AppData\\Local\\Programs\\Python\\Python310\\lib\\site-packages\\keras\\src\\layers\\core\\dense.py:87: UserWarning:\n",
      "\n",
      "Do not pass an `input_shape`/`input_dim` argument to a layer. When using Sequential models, prefer using an `Input(shape)` object as the first layer in the model instead.\n",
      "\n"
     ]
    },
    {
     "name": "stdout",
     "output_type": "stream",
     "text": [
      "\u001b[1m5/5\u001b[0m \u001b[32m━━━━━━━━━━━━━━━━━━━━\u001b[0m\u001b[37m\u001b[0m \u001b[1m0s\u001b[0m 18ms/step \n"
     ]
    },
    {
     "name": "stderr",
     "output_type": "stream",
     "text": [
      "c:\\Users\\Admin\\AppData\\Local\\Programs\\Python\\Python310\\lib\\site-packages\\keras\\src\\layers\\core\\dense.py:87: UserWarning:\n",
      "\n",
      "Do not pass an `input_shape`/`input_dim` argument to a layer. When using Sequential models, prefer using an `Input(shape)` object as the first layer in the model instead.\n",
      "\n"
     ]
    },
    {
     "name": "stdout",
     "output_type": "stream",
     "text": [
      "\u001b[1m5/5\u001b[0m \u001b[32m━━━━━━━━━━━━━━━━━━━━\u001b[0m\u001b[37m\u001b[0m \u001b[1m0s\u001b[0m 8ms/step  \n",
      "\n",
      "===== 🔁 Run 64/100 =====\n"
     ]
    },
    {
     "name": "stderr",
     "output_type": "stream",
     "text": [
      "c:\\Users\\Admin\\AppData\\Local\\Programs\\Python\\Python310\\lib\\site-packages\\keras\\src\\layers\\core\\dense.py:87: UserWarning:\n",
      "\n",
      "Do not pass an `input_shape`/`input_dim` argument to a layer. When using Sequential models, prefer using an `Input(shape)` object as the first layer in the model instead.\n",
      "\n"
     ]
    },
    {
     "name": "stdout",
     "output_type": "stream",
     "text": [
      "\u001b[1m5/5\u001b[0m \u001b[32m━━━━━━━━━━━━━━━━━━━━\u001b[0m\u001b[37m\u001b[0m \u001b[1m0s\u001b[0m 5ms/step \n"
     ]
    },
    {
     "name": "stderr",
     "output_type": "stream",
     "text": [
      "c:\\Users\\Admin\\AppData\\Local\\Programs\\Python\\Python310\\lib\\site-packages\\keras\\src\\layers\\core\\dense.py:87: UserWarning:\n",
      "\n",
      "Do not pass an `input_shape`/`input_dim` argument to a layer. When using Sequential models, prefer using an `Input(shape)` object as the first layer in the model instead.\n",
      "\n"
     ]
    },
    {
     "name": "stdout",
     "output_type": "stream",
     "text": [
      "\u001b[1m5/5\u001b[0m \u001b[32m━━━━━━━━━━━━━━━━━━━━\u001b[0m\u001b[37m\u001b[0m \u001b[1m0s\u001b[0m 6ms/step  \n",
      "\n",
      "===== 🔁 Run 65/100 =====\n"
     ]
    },
    {
     "name": "stderr",
     "output_type": "stream",
     "text": [
      "c:\\Users\\Admin\\AppData\\Local\\Programs\\Python\\Python310\\lib\\site-packages\\keras\\src\\layers\\core\\dense.py:87: UserWarning:\n",
      "\n",
      "Do not pass an `input_shape`/`input_dim` argument to a layer. When using Sequential models, prefer using an `Input(shape)` object as the first layer in the model instead.\n",
      "\n"
     ]
    },
    {
     "name": "stdout",
     "output_type": "stream",
     "text": [
      "\u001b[1m5/5\u001b[0m \u001b[32m━━━━━━━━━━━━━━━━━━━━\u001b[0m\u001b[37m\u001b[0m \u001b[1m0s\u001b[0m 6ms/step \n"
     ]
    },
    {
     "name": "stderr",
     "output_type": "stream",
     "text": [
      "c:\\Users\\Admin\\AppData\\Local\\Programs\\Python\\Python310\\lib\\site-packages\\keras\\src\\layers\\core\\dense.py:87: UserWarning:\n",
      "\n",
      "Do not pass an `input_shape`/`input_dim` argument to a layer. When using Sequential models, prefer using an `Input(shape)` object as the first layer in the model instead.\n",
      "\n"
     ]
    },
    {
     "name": "stdout",
     "output_type": "stream",
     "text": [
      "\u001b[1m5/5\u001b[0m \u001b[32m━━━━━━━━━━━━━━━━━━━━\u001b[0m\u001b[37m\u001b[0m \u001b[1m0s\u001b[0m 15ms/step \n",
      "\n",
      "===== 🔁 Run 66/100 =====\n"
     ]
    },
    {
     "name": "stderr",
     "output_type": "stream",
     "text": [
      "c:\\Users\\Admin\\AppData\\Local\\Programs\\Python\\Python310\\lib\\site-packages\\keras\\src\\layers\\core\\dense.py:87: UserWarning:\n",
      "\n",
      "Do not pass an `input_shape`/`input_dim` argument to a layer. When using Sequential models, prefer using an `Input(shape)` object as the first layer in the model instead.\n",
      "\n"
     ]
    },
    {
     "name": "stdout",
     "output_type": "stream",
     "text": [
      "\u001b[1m5/5\u001b[0m \u001b[32m━━━━━━━━━━━━━━━━━━━━\u001b[0m\u001b[37m\u001b[0m \u001b[1m0s\u001b[0m 17ms/step\n"
     ]
    },
    {
     "name": "stderr",
     "output_type": "stream",
     "text": [
      "c:\\Users\\Admin\\AppData\\Local\\Programs\\Python\\Python310\\lib\\site-packages\\keras\\src\\layers\\core\\dense.py:87: UserWarning:\n",
      "\n",
      "Do not pass an `input_shape`/`input_dim` argument to a layer. When using Sequential models, prefer using an `Input(shape)` object as the first layer in the model instead.\n",
      "\n"
     ]
    },
    {
     "name": "stdout",
     "output_type": "stream",
     "text": [
      "\u001b[1m5/5\u001b[0m \u001b[32m━━━━━━━━━━━━━━━━━━━━\u001b[0m\u001b[37m\u001b[0m \u001b[1m0s\u001b[0m 18ms/step \n",
      "\n",
      "===== 🔁 Run 67/100 =====\n"
     ]
    },
    {
     "name": "stderr",
     "output_type": "stream",
     "text": [
      "c:\\Users\\Admin\\AppData\\Local\\Programs\\Python\\Python310\\lib\\site-packages\\keras\\src\\layers\\core\\dense.py:87: UserWarning:\n",
      "\n",
      "Do not pass an `input_shape`/`input_dim` argument to a layer. When using Sequential models, prefer using an `Input(shape)` object as the first layer in the model instead.\n",
      "\n"
     ]
    },
    {
     "name": "stdout",
     "output_type": "stream",
     "text": [
      "\u001b[1m5/5\u001b[0m \u001b[32m━━━━━━━━━━━━━━━━━━━━\u001b[0m\u001b[37m\u001b[0m \u001b[1m0s\u001b[0m 9ms/step \n"
     ]
    },
    {
     "name": "stderr",
     "output_type": "stream",
     "text": [
      "c:\\Users\\Admin\\AppData\\Local\\Programs\\Python\\Python310\\lib\\site-packages\\keras\\src\\layers\\core\\dense.py:87: UserWarning:\n",
      "\n",
      "Do not pass an `input_shape`/`input_dim` argument to a layer. When using Sequential models, prefer using an `Input(shape)` object as the first layer in the model instead.\n",
      "\n"
     ]
    },
    {
     "name": "stdout",
     "output_type": "stream",
     "text": [
      "\u001b[1m5/5\u001b[0m \u001b[32m━━━━━━━━━━━━━━━━━━━━\u001b[0m\u001b[37m\u001b[0m \u001b[1m0s\u001b[0m 5ms/step  \n",
      "\n",
      "===== 🔁 Run 68/100 =====\n"
     ]
    },
    {
     "name": "stderr",
     "output_type": "stream",
     "text": [
      "c:\\Users\\Admin\\AppData\\Local\\Programs\\Python\\Python310\\lib\\site-packages\\keras\\src\\layers\\core\\dense.py:87: UserWarning:\n",
      "\n",
      "Do not pass an `input_shape`/`input_dim` argument to a layer. When using Sequential models, prefer using an `Input(shape)` object as the first layer in the model instead.\n",
      "\n"
     ]
    },
    {
     "name": "stdout",
     "output_type": "stream",
     "text": [
      "\u001b[1m5/5\u001b[0m \u001b[32m━━━━━━━━━━━━━━━━━━━━\u001b[0m\u001b[37m\u001b[0m \u001b[1m0s\u001b[0m 11ms/step\n"
     ]
    },
    {
     "name": "stderr",
     "output_type": "stream",
     "text": [
      "c:\\Users\\Admin\\AppData\\Local\\Programs\\Python\\Python310\\lib\\site-packages\\keras\\src\\layers\\core\\dense.py:87: UserWarning:\n",
      "\n",
      "Do not pass an `input_shape`/`input_dim` argument to a layer. When using Sequential models, prefer using an `Input(shape)` object as the first layer in the model instead.\n",
      "\n"
     ]
    },
    {
     "name": "stdout",
     "output_type": "stream",
     "text": [
      "\u001b[1m5/5\u001b[0m \u001b[32m━━━━━━━━━━━━━━━━━━━━\u001b[0m\u001b[37m\u001b[0m \u001b[1m0s\u001b[0m 23ms/step \n",
      "\n",
      "===== 🔁 Run 69/100 =====\n"
     ]
    },
    {
     "name": "stderr",
     "output_type": "stream",
     "text": [
      "c:\\Users\\Admin\\AppData\\Local\\Programs\\Python\\Python310\\lib\\site-packages\\keras\\src\\layers\\core\\dense.py:87: UserWarning:\n",
      "\n",
      "Do not pass an `input_shape`/`input_dim` argument to a layer. When using Sequential models, prefer using an `Input(shape)` object as the first layer in the model instead.\n",
      "\n"
     ]
    },
    {
     "name": "stdout",
     "output_type": "stream",
     "text": [
      "\u001b[1m5/5\u001b[0m \u001b[32m━━━━━━━━━━━━━━━━━━━━\u001b[0m\u001b[37m\u001b[0m \u001b[1m0s\u001b[0m 11ms/step\n"
     ]
    },
    {
     "name": "stderr",
     "output_type": "stream",
     "text": [
      "c:\\Users\\Admin\\AppData\\Local\\Programs\\Python\\Python310\\lib\\site-packages\\keras\\src\\layers\\core\\dense.py:87: UserWarning:\n",
      "\n",
      "Do not pass an `input_shape`/`input_dim` argument to a layer. When using Sequential models, prefer using an `Input(shape)` object as the first layer in the model instead.\n",
      "\n"
     ]
    },
    {
     "name": "stdout",
     "output_type": "stream",
     "text": [
      "\u001b[1m5/5\u001b[0m \u001b[32m━━━━━━━━━━━━━━━━━━━━\u001b[0m\u001b[37m\u001b[0m \u001b[1m0s\u001b[0m 5ms/step \n",
      "\n",
      "===== 🔁 Run 70/100 =====\n"
     ]
    },
    {
     "name": "stderr",
     "output_type": "stream",
     "text": [
      "c:\\Users\\Admin\\AppData\\Local\\Programs\\Python\\Python310\\lib\\site-packages\\keras\\src\\layers\\core\\dense.py:87: UserWarning:\n",
      "\n",
      "Do not pass an `input_shape`/`input_dim` argument to a layer. When using Sequential models, prefer using an `Input(shape)` object as the first layer in the model instead.\n",
      "\n"
     ]
    },
    {
     "name": "stdout",
     "output_type": "stream",
     "text": [
      "\u001b[1m5/5\u001b[0m \u001b[32m━━━━━━━━━━━━━━━━━━━━\u001b[0m\u001b[37m\u001b[0m \u001b[1m0s\u001b[0m 11ms/step \n"
     ]
    },
    {
     "name": "stderr",
     "output_type": "stream",
     "text": [
      "c:\\Users\\Admin\\AppData\\Local\\Programs\\Python\\Python310\\lib\\site-packages\\keras\\src\\layers\\core\\dense.py:87: UserWarning:\n",
      "\n",
      "Do not pass an `input_shape`/`input_dim` argument to a layer. When using Sequential models, prefer using an `Input(shape)` object as the first layer in the model instead.\n",
      "\n"
     ]
    },
    {
     "name": "stdout",
     "output_type": "stream",
     "text": [
      "\u001b[1m5/5\u001b[0m \u001b[32m━━━━━━━━━━━━━━━━━━━━\u001b[0m\u001b[37m\u001b[0m \u001b[1m0s\u001b[0m 21ms/step \n",
      "\n",
      "===== 🔁 Run 71/100 =====\n"
     ]
    },
    {
     "name": "stderr",
     "output_type": "stream",
     "text": [
      "c:\\Users\\Admin\\AppData\\Local\\Programs\\Python\\Python310\\lib\\site-packages\\keras\\src\\layers\\core\\dense.py:87: UserWarning:\n",
      "\n",
      "Do not pass an `input_shape`/`input_dim` argument to a layer. When using Sequential models, prefer using an `Input(shape)` object as the first layer in the model instead.\n",
      "\n"
     ]
    },
    {
     "name": "stdout",
     "output_type": "stream",
     "text": [
      "\u001b[1m5/5\u001b[0m \u001b[32m━━━━━━━━━━━━━━━━━━━━\u001b[0m\u001b[37m\u001b[0m \u001b[1m0s\u001b[0m 25ms/step \n"
     ]
    },
    {
     "name": "stderr",
     "output_type": "stream",
     "text": [
      "c:\\Users\\Admin\\AppData\\Local\\Programs\\Python\\Python310\\lib\\site-packages\\keras\\src\\layers\\core\\dense.py:87: UserWarning:\n",
      "\n",
      "Do not pass an `input_shape`/`input_dim` argument to a layer. When using Sequential models, prefer using an `Input(shape)` object as the first layer in the model instead.\n",
      "\n"
     ]
    },
    {
     "name": "stdout",
     "output_type": "stream",
     "text": [
      "\u001b[1m5/5\u001b[0m \u001b[32m━━━━━━━━━━━━━━━━━━━━\u001b[0m\u001b[37m\u001b[0m \u001b[1m0s\u001b[0m 5ms/step \n",
      "\n",
      "===== 🔁 Run 72/100 =====\n"
     ]
    },
    {
     "name": "stderr",
     "output_type": "stream",
     "text": [
      "c:\\Users\\Admin\\AppData\\Local\\Programs\\Python\\Python310\\lib\\site-packages\\keras\\src\\layers\\core\\dense.py:87: UserWarning:\n",
      "\n",
      "Do not pass an `input_shape`/`input_dim` argument to a layer. When using Sequential models, prefer using an `Input(shape)` object as the first layer in the model instead.\n",
      "\n"
     ]
    },
    {
     "name": "stdout",
     "output_type": "stream",
     "text": [
      "\u001b[1m5/5\u001b[0m \u001b[32m━━━━━━━━━━━━━━━━━━━━\u001b[0m\u001b[37m\u001b[0m \u001b[1m0s\u001b[0m 12ms/step\n"
     ]
    },
    {
     "name": "stderr",
     "output_type": "stream",
     "text": [
      "c:\\Users\\Admin\\AppData\\Local\\Programs\\Python\\Python310\\lib\\site-packages\\keras\\src\\layers\\core\\dense.py:87: UserWarning:\n",
      "\n",
      "Do not pass an `input_shape`/`input_dim` argument to a layer. When using Sequential models, prefer using an `Input(shape)` object as the first layer in the model instead.\n",
      "\n"
     ]
    },
    {
     "name": "stdout",
     "output_type": "stream",
     "text": [
      "\u001b[1m5/5\u001b[0m \u001b[32m━━━━━━━━━━━━━━━━━━━━\u001b[0m\u001b[37m\u001b[0m \u001b[1m0s\u001b[0m 8ms/step  \n",
      "\n",
      "===== 🔁 Run 73/100 =====\n"
     ]
    },
    {
     "name": "stderr",
     "output_type": "stream",
     "text": [
      "c:\\Users\\Admin\\AppData\\Local\\Programs\\Python\\Python310\\lib\\site-packages\\keras\\src\\layers\\core\\dense.py:87: UserWarning:\n",
      "\n",
      "Do not pass an `input_shape`/`input_dim` argument to a layer. When using Sequential models, prefer using an `Input(shape)` object as the first layer in the model instead.\n",
      "\n"
     ]
    },
    {
     "name": "stdout",
     "output_type": "stream",
     "text": [
      "\u001b[1m5/5\u001b[0m \u001b[32m━━━━━━━━━━━━━━━━━━━━\u001b[0m\u001b[37m\u001b[0m \u001b[1m0s\u001b[0m 10ms/step \n"
     ]
    },
    {
     "name": "stderr",
     "output_type": "stream",
     "text": [
      "c:\\Users\\Admin\\AppData\\Local\\Programs\\Python\\Python310\\lib\\site-packages\\keras\\src\\layers\\core\\dense.py:87: UserWarning:\n",
      "\n",
      "Do not pass an `input_shape`/`input_dim` argument to a layer. When using Sequential models, prefer using an `Input(shape)` object as the first layer in the model instead.\n",
      "\n"
     ]
    },
    {
     "name": "stdout",
     "output_type": "stream",
     "text": [
      "\u001b[1m5/5\u001b[0m \u001b[32m━━━━━━━━━━━━━━━━━━━━\u001b[0m\u001b[37m\u001b[0m \u001b[1m0s\u001b[0m 17ms/step \n",
      "\n",
      "===== 🔁 Run 74/100 =====\n"
     ]
    },
    {
     "name": "stderr",
     "output_type": "stream",
     "text": [
      "c:\\Users\\Admin\\AppData\\Local\\Programs\\Python\\Python310\\lib\\site-packages\\keras\\src\\layers\\core\\dense.py:87: UserWarning:\n",
      "\n",
      "Do not pass an `input_shape`/`input_dim` argument to a layer. When using Sequential models, prefer using an `Input(shape)` object as the first layer in the model instead.\n",
      "\n"
     ]
    },
    {
     "name": "stdout",
     "output_type": "stream",
     "text": [
      "\u001b[1m5/5\u001b[0m \u001b[32m━━━━━━━━━━━━━━━━━━━━\u001b[0m\u001b[37m\u001b[0m \u001b[1m0s\u001b[0m 8ms/step \n"
     ]
    },
    {
     "name": "stderr",
     "output_type": "stream",
     "text": [
      "c:\\Users\\Admin\\AppData\\Local\\Programs\\Python\\Python310\\lib\\site-packages\\keras\\src\\layers\\core\\dense.py:87: UserWarning:\n",
      "\n",
      "Do not pass an `input_shape`/`input_dim` argument to a layer. When using Sequential models, prefer using an `Input(shape)` object as the first layer in the model instead.\n",
      "\n"
     ]
    },
    {
     "name": "stdout",
     "output_type": "stream",
     "text": [
      "\u001b[1m5/5\u001b[0m \u001b[32m━━━━━━━━━━━━━━━━━━━━\u001b[0m\u001b[37m\u001b[0m \u001b[1m0s\u001b[0m 6ms/step  \n",
      "\n",
      "===== 🔁 Run 75/100 =====\n"
     ]
    },
    {
     "name": "stderr",
     "output_type": "stream",
     "text": [
      "c:\\Users\\Admin\\AppData\\Local\\Programs\\Python\\Python310\\lib\\site-packages\\keras\\src\\layers\\core\\dense.py:87: UserWarning:\n",
      "\n",
      "Do not pass an `input_shape`/`input_dim` argument to a layer. When using Sequential models, prefer using an `Input(shape)` object as the first layer in the model instead.\n",
      "\n"
     ]
    },
    {
     "name": "stdout",
     "output_type": "stream",
     "text": [
      "\u001b[1m5/5\u001b[0m \u001b[32m━━━━━━━━━━━━━━━━━━━━\u001b[0m\u001b[37m\u001b[0m \u001b[1m0s\u001b[0m 12ms/step\n"
     ]
    },
    {
     "name": "stderr",
     "output_type": "stream",
     "text": [
      "c:\\Users\\Admin\\AppData\\Local\\Programs\\Python\\Python310\\lib\\site-packages\\keras\\src\\layers\\core\\dense.py:87: UserWarning:\n",
      "\n",
      "Do not pass an `input_shape`/`input_dim` argument to a layer. When using Sequential models, prefer using an `Input(shape)` object as the first layer in the model instead.\n",
      "\n"
     ]
    },
    {
     "name": "stdout",
     "output_type": "stream",
     "text": [
      "\u001b[1m5/5\u001b[0m \u001b[32m━━━━━━━━━━━━━━━━━━━━\u001b[0m\u001b[37m\u001b[0m \u001b[1m0s\u001b[0m 18ms/step \n",
      "\n",
      "===== 🔁 Run 76/100 =====\n"
     ]
    },
    {
     "name": "stderr",
     "output_type": "stream",
     "text": [
      "c:\\Users\\Admin\\AppData\\Local\\Programs\\Python\\Python310\\lib\\site-packages\\keras\\src\\layers\\core\\dense.py:87: UserWarning:\n",
      "\n",
      "Do not pass an `input_shape`/`input_dim` argument to a layer. When using Sequential models, prefer using an `Input(shape)` object as the first layer in the model instead.\n",
      "\n"
     ]
    },
    {
     "name": "stdout",
     "output_type": "stream",
     "text": [
      "\u001b[1m5/5\u001b[0m \u001b[32m━━━━━━━━━━━━━━━━━━━━\u001b[0m\u001b[37m\u001b[0m \u001b[1m0s\u001b[0m 12ms/step\n"
     ]
    },
    {
     "name": "stderr",
     "output_type": "stream",
     "text": [
      "c:\\Users\\Admin\\AppData\\Local\\Programs\\Python\\Python310\\lib\\site-packages\\keras\\src\\layers\\core\\dense.py:87: UserWarning:\n",
      "\n",
      "Do not pass an `input_shape`/`input_dim` argument to a layer. When using Sequential models, prefer using an `Input(shape)` object as the first layer in the model instead.\n",
      "\n"
     ]
    },
    {
     "name": "stdout",
     "output_type": "stream",
     "text": [
      "\u001b[1m5/5\u001b[0m \u001b[32m━━━━━━━━━━━━━━━━━━━━\u001b[0m\u001b[37m\u001b[0m \u001b[1m0s\u001b[0m 18ms/step \n",
      "\n",
      "===== 🔁 Run 77/100 =====\n"
     ]
    },
    {
     "name": "stderr",
     "output_type": "stream",
     "text": [
      "c:\\Users\\Admin\\AppData\\Local\\Programs\\Python\\Python310\\lib\\site-packages\\keras\\src\\layers\\core\\dense.py:87: UserWarning:\n",
      "\n",
      "Do not pass an `input_shape`/`input_dim` argument to a layer. When using Sequential models, prefer using an `Input(shape)` object as the first layer in the model instead.\n",
      "\n"
     ]
    },
    {
     "name": "stdout",
     "output_type": "stream",
     "text": [
      "\u001b[1m5/5\u001b[0m \u001b[32m━━━━━━━━━━━━━━━━━━━━\u001b[0m\u001b[37m\u001b[0m \u001b[1m0s\u001b[0m 7ms/step \n"
     ]
    },
    {
     "name": "stderr",
     "output_type": "stream",
     "text": [
      "c:\\Users\\Admin\\AppData\\Local\\Programs\\Python\\Python310\\lib\\site-packages\\keras\\src\\layers\\core\\dense.py:87: UserWarning:\n",
      "\n",
      "Do not pass an `input_shape`/`input_dim` argument to a layer. When using Sequential models, prefer using an `Input(shape)` object as the first layer in the model instead.\n",
      "\n"
     ]
    },
    {
     "name": "stdout",
     "output_type": "stream",
     "text": [
      "\u001b[1m5/5\u001b[0m \u001b[32m━━━━━━━━━━━━━━━━━━━━\u001b[0m\u001b[37m\u001b[0m \u001b[1m0s\u001b[0m 9ms/step  \n",
      "\n",
      "===== 🔁 Run 78/100 =====\n"
     ]
    },
    {
     "name": "stderr",
     "output_type": "stream",
     "text": [
      "c:\\Users\\Admin\\AppData\\Local\\Programs\\Python\\Python310\\lib\\site-packages\\keras\\src\\layers\\core\\dense.py:87: UserWarning:\n",
      "\n",
      "Do not pass an `input_shape`/`input_dim` argument to a layer. When using Sequential models, prefer using an `Input(shape)` object as the first layer in the model instead.\n",
      "\n"
     ]
    },
    {
     "name": "stdout",
     "output_type": "stream",
     "text": [
      "\u001b[1m5/5\u001b[0m \u001b[32m━━━━━━━━━━━━━━━━━━━━\u001b[0m\u001b[37m\u001b[0m \u001b[1m0s\u001b[0m 19ms/step \n"
     ]
    },
    {
     "name": "stderr",
     "output_type": "stream",
     "text": [
      "c:\\Users\\Admin\\AppData\\Local\\Programs\\Python\\Python310\\lib\\site-packages\\keras\\src\\layers\\core\\dense.py:87: UserWarning:\n",
      "\n",
      "Do not pass an `input_shape`/`input_dim` argument to a layer. When using Sequential models, prefer using an `Input(shape)` object as the first layer in the model instead.\n",
      "\n"
     ]
    },
    {
     "name": "stdout",
     "output_type": "stream",
     "text": [
      "\u001b[1m5/5\u001b[0m \u001b[32m━━━━━━━━━━━━━━━━━━━━\u001b[0m\u001b[37m\u001b[0m \u001b[1m0s\u001b[0m 5ms/step \n",
      "\n",
      "===== 🔁 Run 79/100 =====\n"
     ]
    },
    {
     "name": "stderr",
     "output_type": "stream",
     "text": [
      "c:\\Users\\Admin\\AppData\\Local\\Programs\\Python\\Python310\\lib\\site-packages\\keras\\src\\layers\\core\\dense.py:87: UserWarning:\n",
      "\n",
      "Do not pass an `input_shape`/`input_dim` argument to a layer. When using Sequential models, prefer using an `Input(shape)` object as the first layer in the model instead.\n",
      "\n"
     ]
    },
    {
     "name": "stdout",
     "output_type": "stream",
     "text": [
      "\u001b[1m5/5\u001b[0m \u001b[32m━━━━━━━━━━━━━━━━━━━━\u001b[0m\u001b[37m\u001b[0m \u001b[1m0s\u001b[0m 16ms/step \n"
     ]
    },
    {
     "name": "stderr",
     "output_type": "stream",
     "text": [
      "c:\\Users\\Admin\\AppData\\Local\\Programs\\Python\\Python310\\lib\\site-packages\\keras\\src\\layers\\core\\dense.py:87: UserWarning:\n",
      "\n",
      "Do not pass an `input_shape`/`input_dim` argument to a layer. When using Sequential models, prefer using an `Input(shape)` object as the first layer in the model instead.\n",
      "\n"
     ]
    },
    {
     "name": "stdout",
     "output_type": "stream",
     "text": [
      "\u001b[1m5/5\u001b[0m \u001b[32m━━━━━━━━━━━━━━━━━━━━\u001b[0m\u001b[37m\u001b[0m \u001b[1m0s\u001b[0m 8ms/step \n",
      "\n",
      "===== 🔁 Run 80/100 =====\n"
     ]
    },
    {
     "name": "stderr",
     "output_type": "stream",
     "text": [
      "c:\\Users\\Admin\\AppData\\Local\\Programs\\Python\\Python310\\lib\\site-packages\\keras\\src\\layers\\core\\dense.py:87: UserWarning:\n",
      "\n",
      "Do not pass an `input_shape`/`input_dim` argument to a layer. When using Sequential models, prefer using an `Input(shape)` object as the first layer in the model instead.\n",
      "\n"
     ]
    },
    {
     "name": "stdout",
     "output_type": "stream",
     "text": [
      "\u001b[1m5/5\u001b[0m \u001b[32m━━━━━━━━━━━━━━━━━━━━\u001b[0m\u001b[37m\u001b[0m \u001b[1m0s\u001b[0m 11ms/step\n"
     ]
    },
    {
     "name": "stderr",
     "output_type": "stream",
     "text": [
      "c:\\Users\\Admin\\AppData\\Local\\Programs\\Python\\Python310\\lib\\site-packages\\keras\\src\\layers\\core\\dense.py:87: UserWarning:\n",
      "\n",
      "Do not pass an `input_shape`/`input_dim` argument to a layer. When using Sequential models, prefer using an `Input(shape)` object as the first layer in the model instead.\n",
      "\n"
     ]
    },
    {
     "name": "stdout",
     "output_type": "stream",
     "text": [
      "\u001b[1m5/5\u001b[0m \u001b[32m━━━━━━━━━━━━━━━━━━━━\u001b[0m\u001b[37m\u001b[0m \u001b[1m0s\u001b[0m 7ms/step  \n",
      "\n",
      "===== 🔁 Run 81/100 =====\n"
     ]
    },
    {
     "name": "stderr",
     "output_type": "stream",
     "text": [
      "c:\\Users\\Admin\\AppData\\Local\\Programs\\Python\\Python310\\lib\\site-packages\\keras\\src\\layers\\core\\dense.py:87: UserWarning:\n",
      "\n",
      "Do not pass an `input_shape`/`input_dim` argument to a layer. When using Sequential models, prefer using an `Input(shape)` object as the first layer in the model instead.\n",
      "\n"
     ]
    },
    {
     "name": "stdout",
     "output_type": "stream",
     "text": [
      "\u001b[1m5/5\u001b[0m \u001b[32m━━━━━━━━━━━━━━━━━━━━\u001b[0m\u001b[37m\u001b[0m \u001b[1m0s\u001b[0m 5ms/step \n"
     ]
    },
    {
     "name": "stderr",
     "output_type": "stream",
     "text": [
      "c:\\Users\\Admin\\AppData\\Local\\Programs\\Python\\Python310\\lib\\site-packages\\keras\\src\\layers\\core\\dense.py:87: UserWarning:\n",
      "\n",
      "Do not pass an `input_shape`/`input_dim` argument to a layer. When using Sequential models, prefer using an `Input(shape)` object as the first layer in the model instead.\n",
      "\n"
     ]
    },
    {
     "name": "stdout",
     "output_type": "stream",
     "text": [
      "\u001b[1m5/5\u001b[0m \u001b[32m━━━━━━━━━━━━━━━━━━━━\u001b[0m\u001b[37m\u001b[0m \u001b[1m0s\u001b[0m 7ms/step  \n",
      "\n",
      "===== 🔁 Run 82/100 =====\n"
     ]
    },
    {
     "name": "stderr",
     "output_type": "stream",
     "text": [
      "c:\\Users\\Admin\\AppData\\Local\\Programs\\Python\\Python310\\lib\\site-packages\\keras\\src\\layers\\core\\dense.py:87: UserWarning:\n",
      "\n",
      "Do not pass an `input_shape`/`input_dim` argument to a layer. When using Sequential models, prefer using an `Input(shape)` object as the first layer in the model instead.\n",
      "\n"
     ]
    },
    {
     "name": "stdout",
     "output_type": "stream",
     "text": [
      "\u001b[1m5/5\u001b[0m \u001b[32m━━━━━━━━━━━━━━━━━━━━\u001b[0m\u001b[37m\u001b[0m \u001b[1m0s\u001b[0m 8ms/step \n"
     ]
    },
    {
     "name": "stderr",
     "output_type": "stream",
     "text": [
      "c:\\Users\\Admin\\AppData\\Local\\Programs\\Python\\Python310\\lib\\site-packages\\keras\\src\\layers\\core\\dense.py:87: UserWarning:\n",
      "\n",
      "Do not pass an `input_shape`/`input_dim` argument to a layer. When using Sequential models, prefer using an `Input(shape)` object as the first layer in the model instead.\n",
      "\n"
     ]
    },
    {
     "name": "stdout",
     "output_type": "stream",
     "text": [
      "\u001b[1m5/5\u001b[0m \u001b[32m━━━━━━━━━━━━━━━━━━━━\u001b[0m\u001b[37m\u001b[0m \u001b[1m0s\u001b[0m 19ms/step \n",
      "\n",
      "===== 🔁 Run 83/100 =====\n"
     ]
    },
    {
     "name": "stderr",
     "output_type": "stream",
     "text": [
      "c:\\Users\\Admin\\AppData\\Local\\Programs\\Python\\Python310\\lib\\site-packages\\keras\\src\\layers\\core\\dense.py:87: UserWarning:\n",
      "\n",
      "Do not pass an `input_shape`/`input_dim` argument to a layer. When using Sequential models, prefer using an `Input(shape)` object as the first layer in the model instead.\n",
      "\n"
     ]
    },
    {
     "name": "stdout",
     "output_type": "stream",
     "text": [
      "\u001b[1m5/5\u001b[0m \u001b[32m━━━━━━━━━━━━━━━━━━━━\u001b[0m\u001b[37m\u001b[0m \u001b[1m0s\u001b[0m 5ms/step \n"
     ]
    },
    {
     "name": "stderr",
     "output_type": "stream",
     "text": [
      "c:\\Users\\Admin\\AppData\\Local\\Programs\\Python\\Python310\\lib\\site-packages\\keras\\src\\layers\\core\\dense.py:87: UserWarning:\n",
      "\n",
      "Do not pass an `input_shape`/`input_dim` argument to a layer. When using Sequential models, prefer using an `Input(shape)` object as the first layer in the model instead.\n",
      "\n"
     ]
    },
    {
     "name": "stdout",
     "output_type": "stream",
     "text": [
      "\u001b[1m5/5\u001b[0m \u001b[32m━━━━━━━━━━━━━━━━━━━━\u001b[0m\u001b[37m\u001b[0m \u001b[1m0s\u001b[0m 10ms/step \n",
      "\n",
      "===== 🔁 Run 84/100 =====\n"
     ]
    },
    {
     "name": "stderr",
     "output_type": "stream",
     "text": [
      "c:\\Users\\Admin\\AppData\\Local\\Programs\\Python\\Python310\\lib\\site-packages\\keras\\src\\layers\\core\\dense.py:87: UserWarning:\n",
      "\n",
      "Do not pass an `input_shape`/`input_dim` argument to a layer. When using Sequential models, prefer using an `Input(shape)` object as the first layer in the model instead.\n",
      "\n"
     ]
    },
    {
     "name": "stdout",
     "output_type": "stream",
     "text": [
      "\u001b[1m5/5\u001b[0m \u001b[32m━━━━━━━━━━━━━━━━━━━━\u001b[0m\u001b[37m\u001b[0m \u001b[1m0s\u001b[0m 7ms/step \n"
     ]
    },
    {
     "name": "stderr",
     "output_type": "stream",
     "text": [
      "c:\\Users\\Admin\\AppData\\Local\\Programs\\Python\\Python310\\lib\\site-packages\\keras\\src\\layers\\core\\dense.py:87: UserWarning:\n",
      "\n",
      "Do not pass an `input_shape`/`input_dim` argument to a layer. When using Sequential models, prefer using an `Input(shape)` object as the first layer in the model instead.\n",
      "\n"
     ]
    },
    {
     "name": "stdout",
     "output_type": "stream",
     "text": [
      "\u001b[1m5/5\u001b[0m \u001b[32m━━━━━━━━━━━━━━━━━━━━\u001b[0m\u001b[37m\u001b[0m \u001b[1m0s\u001b[0m 6ms/step  \n",
      "\n",
      "===== 🔁 Run 85/100 =====\n"
     ]
    },
    {
     "name": "stderr",
     "output_type": "stream",
     "text": [
      "c:\\Users\\Admin\\AppData\\Local\\Programs\\Python\\Python310\\lib\\site-packages\\keras\\src\\layers\\core\\dense.py:87: UserWarning:\n",
      "\n",
      "Do not pass an `input_shape`/`input_dim` argument to a layer. When using Sequential models, prefer using an `Input(shape)` object as the first layer in the model instead.\n",
      "\n"
     ]
    },
    {
     "name": "stdout",
     "output_type": "stream",
     "text": [
      "\u001b[1m5/5\u001b[0m \u001b[32m━━━━━━━━━━━━━━━━━━━━\u001b[0m\u001b[37m\u001b[0m \u001b[1m0s\u001b[0m 5ms/step \n"
     ]
    },
    {
     "name": "stderr",
     "output_type": "stream",
     "text": [
      "c:\\Users\\Admin\\AppData\\Local\\Programs\\Python\\Python310\\lib\\site-packages\\keras\\src\\layers\\core\\dense.py:87: UserWarning:\n",
      "\n",
      "Do not pass an `input_shape`/`input_dim` argument to a layer. When using Sequential models, prefer using an `Input(shape)` object as the first layer in the model instead.\n",
      "\n"
     ]
    },
    {
     "name": "stdout",
     "output_type": "stream",
     "text": [
      "\u001b[1m5/5\u001b[0m \u001b[32m━━━━━━━━━━━━━━━━━━━━\u001b[0m\u001b[37m\u001b[0m \u001b[1m0s\u001b[0m 6ms/step \n",
      "\n",
      "===== 🔁 Run 86/100 =====\n"
     ]
    },
    {
     "name": "stderr",
     "output_type": "stream",
     "text": [
      "c:\\Users\\Admin\\AppData\\Local\\Programs\\Python\\Python310\\lib\\site-packages\\keras\\src\\layers\\core\\dense.py:87: UserWarning:\n",
      "\n",
      "Do not pass an `input_shape`/`input_dim` argument to a layer. When using Sequential models, prefer using an `Input(shape)` object as the first layer in the model instead.\n",
      "\n"
     ]
    },
    {
     "name": "stdout",
     "output_type": "stream",
     "text": [
      "\u001b[1m5/5\u001b[0m \u001b[32m━━━━━━━━━━━━━━━━━━━━\u001b[0m\u001b[37m\u001b[0m \u001b[1m0s\u001b[0m 20ms/step\n"
     ]
    },
    {
     "name": "stderr",
     "output_type": "stream",
     "text": [
      "c:\\Users\\Admin\\AppData\\Local\\Programs\\Python\\Python310\\lib\\site-packages\\keras\\src\\layers\\core\\dense.py:87: UserWarning:\n",
      "\n",
      "Do not pass an `input_shape`/`input_dim` argument to a layer. When using Sequential models, prefer using an `Input(shape)` object as the first layer in the model instead.\n",
      "\n"
     ]
    },
    {
     "name": "stdout",
     "output_type": "stream",
     "text": [
      "\u001b[1m5/5\u001b[0m \u001b[32m━━━━━━━━━━━━━━━━━━━━\u001b[0m\u001b[37m\u001b[0m \u001b[1m0s\u001b[0m 9ms/step  \n",
      "\n",
      "===== 🔁 Run 87/100 =====\n"
     ]
    },
    {
     "name": "stderr",
     "output_type": "stream",
     "text": [
      "c:\\Users\\Admin\\AppData\\Local\\Programs\\Python\\Python310\\lib\\site-packages\\keras\\src\\layers\\core\\dense.py:87: UserWarning:\n",
      "\n",
      "Do not pass an `input_shape`/`input_dim` argument to a layer. When using Sequential models, prefer using an `Input(shape)` object as the first layer in the model instead.\n",
      "\n"
     ]
    },
    {
     "name": "stdout",
     "output_type": "stream",
     "text": [
      "\u001b[1m5/5\u001b[0m \u001b[32m━━━━━━━━━━━━━━━━━━━━\u001b[0m\u001b[37m\u001b[0m \u001b[1m0s\u001b[0m 9ms/step \n"
     ]
    },
    {
     "name": "stderr",
     "output_type": "stream",
     "text": [
      "c:\\Users\\Admin\\AppData\\Local\\Programs\\Python\\Python310\\lib\\site-packages\\keras\\src\\layers\\core\\dense.py:87: UserWarning:\n",
      "\n",
      "Do not pass an `input_shape`/`input_dim` argument to a layer. When using Sequential models, prefer using an `Input(shape)` object as the first layer in the model instead.\n",
      "\n"
     ]
    },
    {
     "name": "stdout",
     "output_type": "stream",
     "text": [
      "\u001b[1m5/5\u001b[0m \u001b[32m━━━━━━━━━━━━━━━━━━━━\u001b[0m\u001b[37m\u001b[0m \u001b[1m0s\u001b[0m 5ms/step \n",
      "\n",
      "===== 🔁 Run 88/100 =====\n"
     ]
    },
    {
     "name": "stderr",
     "output_type": "stream",
     "text": [
      "c:\\Users\\Admin\\AppData\\Local\\Programs\\Python\\Python310\\lib\\site-packages\\keras\\src\\layers\\core\\dense.py:87: UserWarning:\n",
      "\n",
      "Do not pass an `input_shape`/`input_dim` argument to a layer. When using Sequential models, prefer using an `Input(shape)` object as the first layer in the model instead.\n",
      "\n"
     ]
    },
    {
     "name": "stdout",
     "output_type": "stream",
     "text": [
      "\u001b[1m5/5\u001b[0m \u001b[32m━━━━━━━━━━━━━━━━━━━━\u001b[0m\u001b[37m\u001b[0m \u001b[1m0s\u001b[0m 18ms/step\n"
     ]
    },
    {
     "name": "stderr",
     "output_type": "stream",
     "text": [
      "c:\\Users\\Admin\\AppData\\Local\\Programs\\Python\\Python310\\lib\\site-packages\\keras\\src\\layers\\core\\dense.py:87: UserWarning:\n",
      "\n",
      "Do not pass an `input_shape`/`input_dim` argument to a layer. When using Sequential models, prefer using an `Input(shape)` object as the first layer in the model instead.\n",
      "\n"
     ]
    },
    {
     "name": "stdout",
     "output_type": "stream",
     "text": [
      "\u001b[1m5/5\u001b[0m \u001b[32m━━━━━━━━━━━━━━━━━━━━\u001b[0m\u001b[37m\u001b[0m \u001b[1m0s\u001b[0m 12ms/step \n",
      "\n",
      "===== 🔁 Run 89/100 =====\n"
     ]
    },
    {
     "name": "stderr",
     "output_type": "stream",
     "text": [
      "c:\\Users\\Admin\\AppData\\Local\\Programs\\Python\\Python310\\lib\\site-packages\\keras\\src\\layers\\core\\dense.py:87: UserWarning:\n",
      "\n",
      "Do not pass an `input_shape`/`input_dim` argument to a layer. When using Sequential models, prefer using an `Input(shape)` object as the first layer in the model instead.\n",
      "\n"
     ]
    },
    {
     "name": "stdout",
     "output_type": "stream",
     "text": [
      "\u001b[1m5/5\u001b[0m \u001b[32m━━━━━━━━━━━━━━━━━━━━\u001b[0m\u001b[37m\u001b[0m \u001b[1m0s\u001b[0m 8ms/step \n"
     ]
    },
    {
     "name": "stderr",
     "output_type": "stream",
     "text": [
      "c:\\Users\\Admin\\AppData\\Local\\Programs\\Python\\Python310\\lib\\site-packages\\keras\\src\\layers\\core\\dense.py:87: UserWarning:\n",
      "\n",
      "Do not pass an `input_shape`/`input_dim` argument to a layer. When using Sequential models, prefer using an `Input(shape)` object as the first layer in the model instead.\n",
      "\n"
     ]
    },
    {
     "name": "stdout",
     "output_type": "stream",
     "text": [
      "\u001b[1m5/5\u001b[0m \u001b[32m━━━━━━━━━━━━━━━━━━━━\u001b[0m\u001b[37m\u001b[0m \u001b[1m0s\u001b[0m 21ms/step \n",
      "\n",
      "===== 🔁 Run 90/100 =====\n"
     ]
    },
    {
     "name": "stderr",
     "output_type": "stream",
     "text": [
      "c:\\Users\\Admin\\AppData\\Local\\Programs\\Python\\Python310\\lib\\site-packages\\keras\\src\\layers\\core\\dense.py:87: UserWarning:\n",
      "\n",
      "Do not pass an `input_shape`/`input_dim` argument to a layer. When using Sequential models, prefer using an `Input(shape)` object as the first layer in the model instead.\n",
      "\n"
     ]
    },
    {
     "name": "stdout",
     "output_type": "stream",
     "text": [
      "\u001b[1m5/5\u001b[0m \u001b[32m━━━━━━━━━━━━━━━━━━━━\u001b[0m\u001b[37m\u001b[0m \u001b[1m0s\u001b[0m 10ms/step\n"
     ]
    },
    {
     "name": "stderr",
     "output_type": "stream",
     "text": [
      "c:\\Users\\Admin\\AppData\\Local\\Programs\\Python\\Python310\\lib\\site-packages\\keras\\src\\layers\\core\\dense.py:87: UserWarning:\n",
      "\n",
      "Do not pass an `input_shape`/`input_dim` argument to a layer. When using Sequential models, prefer using an `Input(shape)` object as the first layer in the model instead.\n",
      "\n"
     ]
    },
    {
     "name": "stdout",
     "output_type": "stream",
     "text": [
      "\u001b[1m5/5\u001b[0m \u001b[32m━━━━━━━━━━━━━━━━━━━━\u001b[0m\u001b[37m\u001b[0m \u001b[1m0s\u001b[0m 5ms/step  \n",
      "\n",
      "===== 🔁 Run 91/100 =====\n"
     ]
    },
    {
     "name": "stderr",
     "output_type": "stream",
     "text": [
      "c:\\Users\\Admin\\AppData\\Local\\Programs\\Python\\Python310\\lib\\site-packages\\keras\\src\\layers\\core\\dense.py:87: UserWarning:\n",
      "\n",
      "Do not pass an `input_shape`/`input_dim` argument to a layer. When using Sequential models, prefer using an `Input(shape)` object as the first layer in the model instead.\n",
      "\n"
     ]
    },
    {
     "name": "stdout",
     "output_type": "stream",
     "text": [
      "\u001b[1m5/5\u001b[0m \u001b[32m━━━━━━━━━━━━━━━━━━━━\u001b[0m\u001b[37m\u001b[0m \u001b[1m0s\u001b[0m 23ms/step\n"
     ]
    },
    {
     "name": "stderr",
     "output_type": "stream",
     "text": [
      "c:\\Users\\Admin\\AppData\\Local\\Programs\\Python\\Python310\\lib\\site-packages\\keras\\src\\layers\\core\\dense.py:87: UserWarning:\n",
      "\n",
      "Do not pass an `input_shape`/`input_dim` argument to a layer. When using Sequential models, prefer using an `Input(shape)` object as the first layer in the model instead.\n",
      "\n"
     ]
    },
    {
     "name": "stdout",
     "output_type": "stream",
     "text": [
      "\u001b[1m5/5\u001b[0m \u001b[32m━━━━━━━━━━━━━━━━━━━━\u001b[0m\u001b[37m\u001b[0m \u001b[1m0s\u001b[0m 5ms/step \n",
      "\n",
      "===== 🔁 Run 92/100 =====\n"
     ]
    },
    {
     "name": "stderr",
     "output_type": "stream",
     "text": [
      "c:\\Users\\Admin\\AppData\\Local\\Programs\\Python\\Python310\\lib\\site-packages\\keras\\src\\layers\\core\\dense.py:87: UserWarning:\n",
      "\n",
      "Do not pass an `input_shape`/`input_dim` argument to a layer. When using Sequential models, prefer using an `Input(shape)` object as the first layer in the model instead.\n",
      "\n"
     ]
    },
    {
     "name": "stdout",
     "output_type": "stream",
     "text": [
      "\u001b[1m5/5\u001b[0m \u001b[32m━━━━━━━━━━━━━━━━━━━━\u001b[0m\u001b[37m\u001b[0m \u001b[1m0s\u001b[0m 14ms/step\n"
     ]
    },
    {
     "name": "stderr",
     "output_type": "stream",
     "text": [
      "c:\\Users\\Admin\\AppData\\Local\\Programs\\Python\\Python310\\lib\\site-packages\\keras\\src\\layers\\core\\dense.py:87: UserWarning:\n",
      "\n",
      "Do not pass an `input_shape`/`input_dim` argument to a layer. When using Sequential models, prefer using an `Input(shape)` object as the first layer in the model instead.\n",
      "\n"
     ]
    },
    {
     "name": "stdout",
     "output_type": "stream",
     "text": [
      "\u001b[1m5/5\u001b[0m \u001b[32m━━━━━━━━━━━━━━━━━━━━\u001b[0m\u001b[37m\u001b[0m \u001b[1m0s\u001b[0m 6ms/step  \n",
      "\n",
      "===== 🔁 Run 93/100 =====\n"
     ]
    },
    {
     "name": "stderr",
     "output_type": "stream",
     "text": [
      "c:\\Users\\Admin\\AppData\\Local\\Programs\\Python\\Python310\\lib\\site-packages\\keras\\src\\layers\\core\\dense.py:87: UserWarning:\n",
      "\n",
      "Do not pass an `input_shape`/`input_dim` argument to a layer. When using Sequential models, prefer using an `Input(shape)` object as the first layer in the model instead.\n",
      "\n"
     ]
    },
    {
     "name": "stdout",
     "output_type": "stream",
     "text": [
      "\u001b[1m5/5\u001b[0m \u001b[32m━━━━━━━━━━━━━━━━━━━━\u001b[0m\u001b[37m\u001b[0m \u001b[1m0s\u001b[0m 20ms/step\n"
     ]
    },
    {
     "name": "stderr",
     "output_type": "stream",
     "text": [
      "c:\\Users\\Admin\\AppData\\Local\\Programs\\Python\\Python310\\lib\\site-packages\\keras\\src\\layers\\core\\dense.py:87: UserWarning:\n",
      "\n",
      "Do not pass an `input_shape`/`input_dim` argument to a layer. When using Sequential models, prefer using an `Input(shape)` object as the first layer in the model instead.\n",
      "\n"
     ]
    },
    {
     "name": "stdout",
     "output_type": "stream",
     "text": [
      "\u001b[1m5/5\u001b[0m \u001b[32m━━━━━━━━━━━━━━━━━━━━\u001b[0m\u001b[37m\u001b[0m \u001b[1m0s\u001b[0m 5ms/step  \n",
      "\n",
      "===== 🔁 Run 94/100 =====\n"
     ]
    },
    {
     "name": "stderr",
     "output_type": "stream",
     "text": [
      "c:\\Users\\Admin\\AppData\\Local\\Programs\\Python\\Python310\\lib\\site-packages\\keras\\src\\layers\\core\\dense.py:87: UserWarning:\n",
      "\n",
      "Do not pass an `input_shape`/`input_dim` argument to a layer. When using Sequential models, prefer using an `Input(shape)` object as the first layer in the model instead.\n",
      "\n"
     ]
    },
    {
     "name": "stdout",
     "output_type": "stream",
     "text": [
      "\u001b[1m5/5\u001b[0m \u001b[32m━━━━━━━━━━━━━━━━━━━━\u001b[0m\u001b[37m\u001b[0m \u001b[1m0s\u001b[0m 11ms/step\n"
     ]
    },
    {
     "name": "stderr",
     "output_type": "stream",
     "text": [
      "c:\\Users\\Admin\\AppData\\Local\\Programs\\Python\\Python310\\lib\\site-packages\\keras\\src\\layers\\core\\dense.py:87: UserWarning:\n",
      "\n",
      "Do not pass an `input_shape`/`input_dim` argument to a layer. When using Sequential models, prefer using an `Input(shape)` object as the first layer in the model instead.\n",
      "\n"
     ]
    },
    {
     "name": "stdout",
     "output_type": "stream",
     "text": [
      "\u001b[1m5/5\u001b[0m \u001b[32m━━━━━━━━━━━━━━━━━━━━\u001b[0m\u001b[37m\u001b[0m \u001b[1m0s\u001b[0m 7ms/step  \n",
      "\n",
      "===== 🔁 Run 95/100 =====\n"
     ]
    },
    {
     "name": "stderr",
     "output_type": "stream",
     "text": [
      "c:\\Users\\Admin\\AppData\\Local\\Programs\\Python\\Python310\\lib\\site-packages\\keras\\src\\layers\\core\\dense.py:87: UserWarning:\n",
      "\n",
      "Do not pass an `input_shape`/`input_dim` argument to a layer. When using Sequential models, prefer using an `Input(shape)` object as the first layer in the model instead.\n",
      "\n"
     ]
    },
    {
     "name": "stdout",
     "output_type": "stream",
     "text": [
      "\u001b[1m5/5\u001b[0m \u001b[32m━━━━━━━━━━━━━━━━━━━━\u001b[0m\u001b[37m\u001b[0m \u001b[1m0s\u001b[0m 7ms/step \n"
     ]
    },
    {
     "name": "stderr",
     "output_type": "stream",
     "text": [
      "c:\\Users\\Admin\\AppData\\Local\\Programs\\Python\\Python310\\lib\\site-packages\\keras\\src\\layers\\core\\dense.py:87: UserWarning:\n",
      "\n",
      "Do not pass an `input_shape`/`input_dim` argument to a layer. When using Sequential models, prefer using an `Input(shape)` object as the first layer in the model instead.\n",
      "\n"
     ]
    },
    {
     "name": "stdout",
     "output_type": "stream",
     "text": [
      "\u001b[1m5/5\u001b[0m \u001b[32m━━━━━━━━━━━━━━━━━━━━\u001b[0m\u001b[37m\u001b[0m \u001b[1m0s\u001b[0m 6ms/step  \n",
      "\n",
      "===== 🔁 Run 96/100 =====\n"
     ]
    },
    {
     "name": "stderr",
     "output_type": "stream",
     "text": [
      "c:\\Users\\Admin\\AppData\\Local\\Programs\\Python\\Python310\\lib\\site-packages\\keras\\src\\layers\\core\\dense.py:87: UserWarning:\n",
      "\n",
      "Do not pass an `input_shape`/`input_dim` argument to a layer. When using Sequential models, prefer using an `Input(shape)` object as the first layer in the model instead.\n",
      "\n"
     ]
    },
    {
     "name": "stdout",
     "output_type": "stream",
     "text": [
      "\u001b[1m5/5\u001b[0m \u001b[32m━━━━━━━━━━━━━━━━━━━━\u001b[0m\u001b[37m\u001b[0m \u001b[1m0s\u001b[0m 5ms/step \n"
     ]
    },
    {
     "name": "stderr",
     "output_type": "stream",
     "text": [
      "c:\\Users\\Admin\\AppData\\Local\\Programs\\Python\\Python310\\lib\\site-packages\\keras\\src\\layers\\core\\dense.py:87: UserWarning:\n",
      "\n",
      "Do not pass an `input_shape`/`input_dim` argument to a layer. When using Sequential models, prefer using an `Input(shape)` object as the first layer in the model instead.\n",
      "\n"
     ]
    },
    {
     "name": "stdout",
     "output_type": "stream",
     "text": [
      "\u001b[1m5/5\u001b[0m \u001b[32m━━━━━━━━━━━━━━━━━━━━\u001b[0m\u001b[37m\u001b[0m \u001b[1m0s\u001b[0m 6ms/step  \n",
      "\n",
      "===== 🔁 Run 97/100 =====\n"
     ]
    },
    {
     "name": "stderr",
     "output_type": "stream",
     "text": [
      "c:\\Users\\Admin\\AppData\\Local\\Programs\\Python\\Python310\\lib\\site-packages\\keras\\src\\layers\\core\\dense.py:87: UserWarning:\n",
      "\n",
      "Do not pass an `input_shape`/`input_dim` argument to a layer. When using Sequential models, prefer using an `Input(shape)` object as the first layer in the model instead.\n",
      "\n"
     ]
    },
    {
     "name": "stdout",
     "output_type": "stream",
     "text": [
      "\u001b[1m5/5\u001b[0m \u001b[32m━━━━━━━━━━━━━━━━━━━━\u001b[0m\u001b[37m\u001b[0m \u001b[1m0s\u001b[0m 6ms/step \n"
     ]
    },
    {
     "name": "stderr",
     "output_type": "stream",
     "text": [
      "c:\\Users\\Admin\\AppData\\Local\\Programs\\Python\\Python310\\lib\\site-packages\\keras\\src\\layers\\core\\dense.py:87: UserWarning:\n",
      "\n",
      "Do not pass an `input_shape`/`input_dim` argument to a layer. When using Sequential models, prefer using an `Input(shape)` object as the first layer in the model instead.\n",
      "\n"
     ]
    },
    {
     "name": "stdout",
     "output_type": "stream",
     "text": [
      "\u001b[1m5/5\u001b[0m \u001b[32m━━━━━━━━━━━━━━━━━━━━\u001b[0m\u001b[37m\u001b[0m \u001b[1m0s\u001b[0m 6ms/step  \n",
      "\n",
      "===== 🔁 Run 98/100 =====\n"
     ]
    },
    {
     "name": "stderr",
     "output_type": "stream",
     "text": [
      "c:\\Users\\Admin\\AppData\\Local\\Programs\\Python\\Python310\\lib\\site-packages\\keras\\src\\layers\\core\\dense.py:87: UserWarning:\n",
      "\n",
      "Do not pass an `input_shape`/`input_dim` argument to a layer. When using Sequential models, prefer using an `Input(shape)` object as the first layer in the model instead.\n",
      "\n"
     ]
    },
    {
     "name": "stdout",
     "output_type": "stream",
     "text": [
      "\u001b[1m5/5\u001b[0m \u001b[32m━━━━━━━━━━━━━━━━━━━━\u001b[0m\u001b[37m\u001b[0m \u001b[1m0s\u001b[0m 12ms/step\n"
     ]
    },
    {
     "name": "stderr",
     "output_type": "stream",
     "text": [
      "c:\\Users\\Admin\\AppData\\Local\\Programs\\Python\\Python310\\lib\\site-packages\\keras\\src\\layers\\core\\dense.py:87: UserWarning:\n",
      "\n",
      "Do not pass an `input_shape`/`input_dim` argument to a layer. When using Sequential models, prefer using an `Input(shape)` object as the first layer in the model instead.\n",
      "\n"
     ]
    },
    {
     "name": "stdout",
     "output_type": "stream",
     "text": [
      "\u001b[1m5/5\u001b[0m \u001b[32m━━━━━━━━━━━━━━━━━━━━\u001b[0m\u001b[37m\u001b[0m \u001b[1m0s\u001b[0m 6ms/step  \n",
      "\n",
      "===== 🔁 Run 99/100 =====\n"
     ]
    },
    {
     "name": "stderr",
     "output_type": "stream",
     "text": [
      "c:\\Users\\Admin\\AppData\\Local\\Programs\\Python\\Python310\\lib\\site-packages\\keras\\src\\layers\\core\\dense.py:87: UserWarning:\n",
      "\n",
      "Do not pass an `input_shape`/`input_dim` argument to a layer. When using Sequential models, prefer using an `Input(shape)` object as the first layer in the model instead.\n",
      "\n"
     ]
    },
    {
     "name": "stdout",
     "output_type": "stream",
     "text": [
      "\u001b[1m5/5\u001b[0m \u001b[32m━━━━━━━━━━━━━━━━━━━━\u001b[0m\u001b[37m\u001b[0m \u001b[1m0s\u001b[0m 13ms/step\n"
     ]
    },
    {
     "name": "stderr",
     "output_type": "stream",
     "text": [
      "c:\\Users\\Admin\\AppData\\Local\\Programs\\Python\\Python310\\lib\\site-packages\\keras\\src\\layers\\core\\dense.py:87: UserWarning:\n",
      "\n",
      "Do not pass an `input_shape`/`input_dim` argument to a layer. When using Sequential models, prefer using an `Input(shape)` object as the first layer in the model instead.\n",
      "\n"
     ]
    },
    {
     "name": "stdout",
     "output_type": "stream",
     "text": [
      "\u001b[1m5/5\u001b[0m \u001b[32m━━━━━━━━━━━━━━━━━━━━\u001b[0m\u001b[37m\u001b[0m \u001b[1m0s\u001b[0m 13ms/step \n",
      "\n",
      "===== 🔁 Run 100/100 =====\n"
     ]
    },
    {
     "name": "stderr",
     "output_type": "stream",
     "text": [
      "c:\\Users\\Admin\\AppData\\Local\\Programs\\Python\\Python310\\lib\\site-packages\\keras\\src\\layers\\core\\dense.py:87: UserWarning:\n",
      "\n",
      "Do not pass an `input_shape`/`input_dim` argument to a layer. When using Sequential models, prefer using an `Input(shape)` object as the first layer in the model instead.\n",
      "\n"
     ]
    },
    {
     "name": "stdout",
     "output_type": "stream",
     "text": [
      "\u001b[1m5/5\u001b[0m \u001b[32m━━━━━━━━━━━━━━━━━━━━\u001b[0m\u001b[37m\u001b[0m \u001b[1m0s\u001b[0m 17ms/step\n"
     ]
    },
    {
     "name": "stderr",
     "output_type": "stream",
     "text": [
      "c:\\Users\\Admin\\AppData\\Local\\Programs\\Python\\Python310\\lib\\site-packages\\keras\\src\\layers\\core\\dense.py:87: UserWarning:\n",
      "\n",
      "Do not pass an `input_shape`/`input_dim` argument to a layer. When using Sequential models, prefer using an `Input(shape)` object as the first layer in the model instead.\n",
      "\n"
     ]
    },
    {
     "name": "stdout",
     "output_type": "stream",
     "text": [
      "\u001b[1m5/5\u001b[0m \u001b[32m━━━━━━━━━━━━━━━━━━━━\u001b[0m\u001b[37m\u001b[0m \u001b[1m0s\u001b[0m 10ms/step \n",
      "\n",
      "📊 Best Performance from 100 Runs:\n"
     ]
    },
    {
     "data": {
      "text/html": [
       "<div>\n",
       "<style scoped>\n",
       "    .dataframe tbody tr th:only-of-type {\n",
       "        vertical-align: middle;\n",
       "    }\n",
       "\n",
       "    .dataframe tbody tr th {\n",
       "        vertical-align: top;\n",
       "    }\n",
       "\n",
       "    .dataframe thead th {\n",
       "        text-align: right;\n",
       "    }\n",
       "</style>\n",
       "<table border=\"1\" class=\"dataframe\">\n",
       "  <thead>\n",
       "    <tr style=\"text-align: right;\">\n",
       "      <th></th>\n",
       "      <th>Model</th>\n",
       "      <th>Best Accuracy</th>\n",
       "      <th>Best F1-Score</th>\n",
       "      <th>Best Run</th>\n",
       "    </tr>\n",
       "  </thead>\n",
       "  <tbody>\n",
       "    <tr>\n",
       "      <th>0</th>\n",
       "      <td>Decision Tree</td>\n",
       "      <td>0.56250</td>\n",
       "      <td>0.535491</td>\n",
       "      <td>57</td>\n",
       "    </tr>\n",
       "    <tr>\n",
       "      <th>1</th>\n",
       "      <td>KNN</td>\n",
       "      <td>0.56875</td>\n",
       "      <td>0.555045</td>\n",
       "      <td>28</td>\n",
       "    </tr>\n",
       "    <tr>\n",
       "      <th>2</th>\n",
       "      <td>ANN</td>\n",
       "      <td>0.70000</td>\n",
       "      <td>0.691472</td>\n",
       "      <td>75</td>\n",
       "    </tr>\n",
       "    <tr>\n",
       "      <th>3</th>\n",
       "      <td>Deep Learning</td>\n",
       "      <td>0.65000</td>\n",
       "      <td>0.631099</td>\n",
       "      <td>61</td>\n",
       "    </tr>\n",
       "  </tbody>\n",
       "</table>\n",
       "</div>"
      ],
      "text/plain": [
       "           Model  Best Accuracy  Best F1-Score  Best Run\n",
       "0  Decision Tree        0.56250       0.535491        57\n",
       "1            KNN        0.56875       0.555045        28\n",
       "2            ANN        0.70000       0.691472        75\n",
       "3  Deep Learning        0.65000       0.631099        61"
      ]
     },
     "metadata": {},
     "output_type": "display_data"
    }
   ],
   "source": [
    "# ============================================================\n",
    "# 🔁 Run Models 100 Times and Pick Best Results\n",
    "# ============================================================\n",
    "\n",
    "best_results = []\n",
    "\n",
    "for i in range(1, 101):\n",
    "    print(f\"\\n===== 🔁 Run {i}/100 =====\")\n",
    "    \n",
    "    # Split ใหม่แต่ละรอบ\n",
    "    X_train, X_test, y_train, y_test = train_test_split(\n",
    "        X_scaled, y_encoded, test_size=0.2, random_state=i\n",
    "    )\n",
    "\n",
    "    # ✅ Decision Tree\n",
    "    tree = DecisionTreeClassifier(criterion=\"entropy\", max_depth=6, random_state=i)\n",
    "    tree.fit(X_train, y_train)\n",
    "    y_pred_tree = tree.predict(X_test)\n",
    "    acc_tree = accuracy_score(y_test, y_pred_tree)\n",
    "    f1_tree = f1_score(y_test, y_pred_tree, average=\"weighted\")\n",
    "\n",
    "    # ✅ KNN\n",
    "    knn = KNeighborsClassifier(n_neighbors=7, weights=\"distance\")\n",
    "    knn.fit(X_train, y_train)\n",
    "    y_pred_knn = knn.predict(X_test)\n",
    "    acc_knn = accuracy_score(y_test, y_pred_knn)\n",
    "    f1_knn = f1_score(y_test, y_pred_knn, average=\"weighted\")\n",
    "\n",
    "    # ✅ ANN\n",
    "    y_train_cat = to_categorical(y_train)\n",
    "    y_test_cat = to_categorical(y_test)\n",
    "    ann = Sequential([\n",
    "        Dense(128, activation='relu', input_dim=X_train.shape[1]),\n",
    "        Dropout(0.3),\n",
    "        Dense(64, activation='relu'),\n",
    "        Dropout(0.3),\n",
    "        Dense(y_train_cat.shape[1], activation='softmax')\n",
    "    ])\n",
    "    ann.compile(optimizer='adam', loss='categorical_crossentropy', metrics=['accuracy'])\n",
    "    ann.fit(X_train, y_train_cat, epochs=40, batch_size=16, verbose=0)\n",
    "    loss_ann, acc_ann = ann.evaluate(X_test, y_test_cat, verbose=0)\n",
    "    y_pred_ann = ann.predict(X_test)\n",
    "    y_pred_ann_class = np.argmax(y_pred_ann, axis=1)\n",
    "    f1_ann = f1_score(y_test, y_pred_ann_class, average=\"weighted\")\n",
    "\n",
    "    # ✅ Deep Learning\n",
    "    deep = Sequential([\n",
    "        Dense(256, activation='relu', input_dim=X_train.shape[1]),\n",
    "        BatchNormalization(), Dropout(0.4),\n",
    "        Dense(128, activation='relu'),\n",
    "        BatchNormalization(), Dropout(0.3),\n",
    "        Dense(64, activation='relu'),\n",
    "        BatchNormalization(), Dropout(0.3),\n",
    "        Dense(y_train_cat.shape[1], activation='softmax')\n",
    "    ])\n",
    "    deep.compile(optimizer='adam', loss='categorical_crossentropy', metrics=['accuracy'])\n",
    "    deep.fit(X_train, y_train_cat, validation_split=0.2,\n",
    "             epochs=100, batch_size=16, verbose=0)\n",
    "    loss_deep, acc_deep = deep.evaluate(X_test, y_test_cat, verbose=0)\n",
    "    y_pred_deep = deep.predict(X_test)\n",
    "    y_pred_deep_class = np.argmax(y_pred_deep, axis=1)\n",
    "    f1_deep = f1_score(y_test, y_pred_deep_class, average=\"weighted\")\n",
    "\n",
    "    best_results.append({\n",
    "        \"Run\": i,\n",
    "        \"DecisionTree_Acc\": acc_tree, \"DecisionTree_F1\": f1_tree,\n",
    "        \"KNN_Acc\": acc_knn, \"KNN_F1\": f1_knn,\n",
    "        \"ANN_Acc\": acc_ann, \"ANN_F1\": f1_ann,\n",
    "        \"Deep_Acc\": acc_deep, \"Deep_F1\": f1_deep\n",
    "    })\n",
    "\n",
    "# สรุปผลรอบที่ดีที่สุดของแต่ละโมเดล\n",
    "df_best = pd.DataFrame(best_results)\n",
    "summary = pd.DataFrame({\n",
    "    \"Model\": [\"Decision Tree\", \"KNN\", \"ANN\", \"Deep Learning\"],\n",
    "    \"Best Accuracy\": [\n",
    "        df_best[\"DecisionTree_Acc\"].max(),\n",
    "        df_best[\"KNN_Acc\"].max(),\n",
    "        df_best[\"ANN_Acc\"].max(),\n",
    "        df_best[\"Deep_Acc\"].max()\n",
    "    ],\n",
    "    \"Best F1-Score\": [\n",
    "        df_best[\"DecisionTree_F1\"].max(),\n",
    "        df_best[\"KNN_F1\"].max(),\n",
    "        df_best[\"ANN_F1\"].max(),\n",
    "        df_best[\"Deep_F1\"].max()\n",
    "    ],\n",
    "    \"Best Run\": [\n",
    "        df_best[\"DecisionTree_Acc\"].idxmax()+1,\n",
    "        df_best[\"KNN_Acc\"].idxmax()+1,\n",
    "        df_best[\"ANN_Acc\"].idxmax()+1,\n",
    "        df_best[\"Deep_Acc\"].idxmax()+1\n",
    "    ]\n",
    "})\n",
    "\n",
    "print(\"\\n📊 Best Performance from 100 Runs:\")\n",
    "display(summary)\n"
   ]
  },
  {
   "cell_type": "markdown",
   "id": "66724680",
   "metadata": {},
   "source": [
    "ตารางนี้คือ **ผลสรุปคะแนนดีที่สุด (Best Performance)** จากการรันโมเดลทั้งหมด 100 รอบ🔁\n",
    "\n",
    "---\n",
    "\n",
    "### 🧩 ความหมายของแต่ละคอลัมน์\n",
    "\n",
    "| คอลัมน์           | ความหมาย                                                                                           |\n",
    "| ----------------- | -------------------------------------------------------------------------------------------------- |\n",
    "| **Model**         | ชื่อของโมเดลที่ใช้ เช่น Decision Tree, KNN, ANN, Deep Learning                                     |\n",
    "| **Best Accuracy** | ค่าความแม่นยำ (Accuracy) ที่สูงที่สุดจาก 100 รอบนั้น — วัดว่าโมเดลทำนายถูกกี่เปอร์เซ็นต์จากทั้งหมด |\n",
    "| **Best F1-Score** | ค่าความสมดุลระหว่าง Precision และ Recall — บอกว่าโมเดลทำนายดีแค่ไหนในทุกคลาส                       |\n",
    "| **Best Run**      | รอบที่ได้ผลลัพธ์ดีที่สุด (เช่น Run 57 หมายถึงตอนรันครั้งที่ 57 ได้ค่าดีที่สุด)                     |\n",
    "\n",
    "---\n",
    "\n",
    "### 📊 การตีความผลลัพธ์ของคุณ\n",
    "\n",
    "| Model                            | Best Accuracy    | Best F1-Score | Best Run | การวิเคราะห์                                                                            |\n",
    "| -------------------------------- | ---------------- | ------------- | -------- | --------------------------------------------------------------------------------------- |\n",
    "| **Decision Tree**                | 0.5625 (56.25%)  | 0.535         | 57       | ความแม่นยำระดับกลาง อาจ Overfit หรือต้องเพิ่ม Depth/Pruning                             |\n",
    "| **KNN**                          | 0.5688 (56.88%)  | 0.555         | 28       | คล้าย Decision Tree แต่จับ pattern ได้ดีกว่าเล็กน้อย                                    |\n",
    "| **ANN (Basic Neural Network)**   | **0.7000 (70%)** | **0.691**     | **75**   | ✅ โมเดลนี้ให้ผลดีที่สุด แสดงว่าโครงข่ายประสาทเทียมสามารถเรียนรู้ pattern จากข้อมูลได้ดี |\n",
    "| **Deep Learning (Improved ANN)** | 0.6500 (65%)     | 0.631         | 61       | ดีรองลงมา — แสดงว่าอาจมี overfitting เล็กน้อย หรือ layer ซับซ้อนเกินข้อมูลที่มี         |\n",
    "\n",
    "---\n",
    "\n",
    "### 🔍 สรุปเชิงวิจัย\n",
    "\n",
    "* **โมเดลที่แม่นที่สุด:** ANN (Accuracy 70%)\n",
    "* **โมเดลที่เสถียรแต่เรียบง่าย:** KNN และ Decision Tree (~56%)\n",
    "* **Deep Learning แบบซับซ้อนกว่าไม่ได้ช่วยเพิ่มผลลัพธ์มากนัก** — อาจต้องเพิ่มข้อมูล หรือใช้ feature เพิ่มเติม (เช่น RSI, MACD, volatility, หรือ time window)"
   ]
  },
  {
   "cell_type": "code",
   "execution_count": 34,
   "id": "bbf05d11",
   "metadata": {},
   "outputs": [
    {
     "name": "stdout",
     "output_type": "stream",
     "text": [
      "🏆 Best model selected: Artificial Neural Network (ANN)\n",
      "\u001b[1m25/25\u001b[0m \u001b[32m━━━━━━━━━━━━━━━━━━━━\u001b[0m\u001b[37m\u001b[0m \u001b[1m0s\u001b[0m 3ms/step\n"
     ]
    },
    {
     "data": {
      "application/vnd.plotly.v1+json": {
       "config": {
        "plotlyServerURL": "https://plot.ly"
       },
       "data": [
        {
         "cells": {
          "align": "center",
          "fill": {
           "color": [
            [
             "#2ecc71",
             "#2ecc71",
             "#2ecc71",
             "#2ecc71",
             "#2ecc71"
            ],
            [
             "#58d68d",
             "#58d68d",
             "#58d68d",
             "#58d68d",
             "#58d68d"
            ],
            [
             "#f4d03f",
             "#f4d03f",
             "#f4d03f",
             "#f4d03f",
             "#f4d03f"
            ],
            [
             "#f39c12",
             "#f39c12",
             "#f39c12",
             "#f39c12",
             "#f39c12"
            ],
            [
             "#e74c3c",
             "#e74c3c",
             "#e74c3c",
             "#e74c3c",
             "#e74c3c"
            ]
           ]
          },
          "font": {
           "color": "white",
           "size": 12
          },
          "height": 80,
          "values": [
           [
            "<b>Aa</b><br><span style='color:white'>M</span>",
            "<b>Ab</b><br><span style='color:white'>VCOM<br>ADVICE<br>SAT<br>AYUD<br>TPBI<br>PTTEP<br>TFMAMA<br>KBANK<br>SAPPE<br>SCGP</span>",
            "<b>Ac</b><br><span style='color:white'>TPCH<br>POLY<br>ROJNA<br>SNP<br>APO<br>UP<br>FM<br>STANLY<br>GABLE<br>MOSHI</span>",
            "<b>Ad</b><br><span style='color:white'>SMD100<br>KEX<br>NSL<br>SISB<br>KISS<br>TNR<br>MONO<br>SCM<br>SAV<br>BDMS</span>",
            "<b>Ae</b><br>-"
           ],
           [
            "<b>Ba</b><br><span style='color:white'>PTG<br>TPS<br>MTI<br>CPI<br>FSMART</span>",
            "<b>Bb</b><br><span style='color:white'>ASP<br>PSP<br>CPAXT<br>ARROW<br>PCSGH<br>TPAC<br>FORTH<br>TEAMG<br>KCG<br>BBIK</span>",
            "<b>Bc</b><br><span style='color:white'>STP<br>NCP<br>SIS<br>CRC<br>TAN<br>TASCO<br>SFLEX<br>PCE<br>CENTEL<br>SPA</span>",
            "<b>Bd</b><br><span style='color:white'>SUSCO<br>APP<br>PQS<br>DCC<br>BTC<br>GFC<br>HUMAN<br>ALLA<br>SRS<br>PRTR</span>",
            "<b>Be</b><br>-"
           ],
           [
            "<b>Ca</b><br><span style='color:white'>GBX<br>CMR</span>",
            "<b>Cb</b><br><span style='color:white'>LEE<br>SNPS<br>MGC<br>TK<br>NDR<br>WINDOW<br>BIG<br>PRG<br>KOOL<br>MAJOR</span>",
            "<b>Cc</b><br><span style='color:white'>JDF<br>PLUS<br>OKJ<br>LPN<br>TRP<br>CM<br>AF<br>GUNKUL<br>NKT<br>BVG</span>",
            "<b>Cd</b><br><span style='color:white'>BCP<br>IVL</span>",
            "<b>Ce</b><br>-"
           ],
           [
            "<b>Da</b><br><span style='color:white'>M-CHAI<br>BR<br>SEAFCO<br>AS<br>AIRA<br>CMC<br>AMARIN<br>NCL<br>MTW<br>DEMCO</span>",
            "<b>Db</b><br><span style='color:white'>EA<br>SFT<br>SHR<br>NPK<br>ITD<br>RPC<br>WACOAL<br>TWPC<br>EFORL<br>NEX</span>",
            "<b>Dc</b><br><span style='color:white'>KSL<br>PG<br>SVOA<br>ASAP<br>QTCG<br>XBIO<br>WGE<br>CCP<br>ALT<br>KGEN</span>",
            "<b>Dd</b><br><span style='color:white'>VGI<br>NOVA<br>GGC<br>PLANET<br>QLT<br>PROEN<br>SAMTEL<br>SCI<br>INSURE<br>ETL</span>",
            "<b>De</b><br>-"
           ],
           [
            "<b>Ea</b><br>-",
            "<b>Eb</b><br><span style='color:white'>TPOLY<br>WORK<br>SIAM<br>BIOTEC<br>LDC<br>RICHY<br>TSI<br>TNPC<br>META<br>IRCP</span>",
            "<b>Ec</b><br><span style='color:white'>SVR<br>AJ<br>TIGER<br>CGD<br>PLAT<br>J<br>ASIA<br>FANCY<br>GCAP<br>AMR</span>",
            "<b>Ed</b><br><span style='color:white'>PPPM<br>NVD<br>ITEL<br>SAF<br>ASN<br>MCOT<br>MUD<br>JCKH<br>WIN<br>UREKA</span>",
            "<b>Ee</b><br>-"
           ]
          ]
         },
         "header": {
          "align": "center",
          "fill": {
           "color": "#dcdcdc"
          },
          "font": {
           "color": "black",
           "size": 14
          },
          "values": [
           "Super Bullish",
           "Up Trend",
           "Sideway",
           "Down Trend",
           "Crash"
          ]
         },
         "type": "table"
        }
       ],
       "layout": {
        "template": {
         "data": {
          "bar": [
           {
            "error_x": {
             "color": "#2a3f5f"
            },
            "error_y": {
             "color": "#2a3f5f"
            },
            "marker": {
             "line": {
              "color": "#E5ECF6",
              "width": 0.5
             },
             "pattern": {
              "fillmode": "overlay",
              "size": 10,
              "solidity": 0.2
             }
            },
            "type": "bar"
           }
          ],
          "barpolar": [
           {
            "marker": {
             "line": {
              "color": "#E5ECF6",
              "width": 0.5
             },
             "pattern": {
              "fillmode": "overlay",
              "size": 10,
              "solidity": 0.2
             }
            },
            "type": "barpolar"
           }
          ],
          "carpet": [
           {
            "aaxis": {
             "endlinecolor": "#2a3f5f",
             "gridcolor": "white",
             "linecolor": "white",
             "minorgridcolor": "white",
             "startlinecolor": "#2a3f5f"
            },
            "baxis": {
             "endlinecolor": "#2a3f5f",
             "gridcolor": "white",
             "linecolor": "white",
             "minorgridcolor": "white",
             "startlinecolor": "#2a3f5f"
            },
            "type": "carpet"
           }
          ],
          "choropleth": [
           {
            "colorbar": {
             "outlinewidth": 0,
             "ticks": ""
            },
            "type": "choropleth"
           }
          ],
          "contour": [
           {
            "colorbar": {
             "outlinewidth": 0,
             "ticks": ""
            },
            "colorscale": [
             [
              0,
              "#0d0887"
             ],
             [
              0.1111111111111111,
              "#46039f"
             ],
             [
              0.2222222222222222,
              "#7201a8"
             ],
             [
              0.3333333333333333,
              "#9c179e"
             ],
             [
              0.4444444444444444,
              "#bd3786"
             ],
             [
              0.5555555555555556,
              "#d8576b"
             ],
             [
              0.6666666666666666,
              "#ed7953"
             ],
             [
              0.7777777777777778,
              "#fb9f3a"
             ],
             [
              0.8888888888888888,
              "#fdca26"
             ],
             [
              1,
              "#f0f921"
             ]
            ],
            "type": "contour"
           }
          ],
          "contourcarpet": [
           {
            "colorbar": {
             "outlinewidth": 0,
             "ticks": ""
            },
            "type": "contourcarpet"
           }
          ],
          "heatmap": [
           {
            "colorbar": {
             "outlinewidth": 0,
             "ticks": ""
            },
            "colorscale": [
             [
              0,
              "#0d0887"
             ],
             [
              0.1111111111111111,
              "#46039f"
             ],
             [
              0.2222222222222222,
              "#7201a8"
             ],
             [
              0.3333333333333333,
              "#9c179e"
             ],
             [
              0.4444444444444444,
              "#bd3786"
             ],
             [
              0.5555555555555556,
              "#d8576b"
             ],
             [
              0.6666666666666666,
              "#ed7953"
             ],
             [
              0.7777777777777778,
              "#fb9f3a"
             ],
             [
              0.8888888888888888,
              "#fdca26"
             ],
             [
              1,
              "#f0f921"
             ]
            ],
            "type": "heatmap"
           }
          ],
          "histogram": [
           {
            "marker": {
             "pattern": {
              "fillmode": "overlay",
              "size": 10,
              "solidity": 0.2
             }
            },
            "type": "histogram"
           }
          ],
          "histogram2d": [
           {
            "colorbar": {
             "outlinewidth": 0,
             "ticks": ""
            },
            "colorscale": [
             [
              0,
              "#0d0887"
             ],
             [
              0.1111111111111111,
              "#46039f"
             ],
             [
              0.2222222222222222,
              "#7201a8"
             ],
             [
              0.3333333333333333,
              "#9c179e"
             ],
             [
              0.4444444444444444,
              "#bd3786"
             ],
             [
              0.5555555555555556,
              "#d8576b"
             ],
             [
              0.6666666666666666,
              "#ed7953"
             ],
             [
              0.7777777777777778,
              "#fb9f3a"
             ],
             [
              0.8888888888888888,
              "#fdca26"
             ],
             [
              1,
              "#f0f921"
             ]
            ],
            "type": "histogram2d"
           }
          ],
          "histogram2dcontour": [
           {
            "colorbar": {
             "outlinewidth": 0,
             "ticks": ""
            },
            "colorscale": [
             [
              0,
              "#0d0887"
             ],
             [
              0.1111111111111111,
              "#46039f"
             ],
             [
              0.2222222222222222,
              "#7201a8"
             ],
             [
              0.3333333333333333,
              "#9c179e"
             ],
             [
              0.4444444444444444,
              "#bd3786"
             ],
             [
              0.5555555555555556,
              "#d8576b"
             ],
             [
              0.6666666666666666,
              "#ed7953"
             ],
             [
              0.7777777777777778,
              "#fb9f3a"
             ],
             [
              0.8888888888888888,
              "#fdca26"
             ],
             [
              1,
              "#f0f921"
             ]
            ],
            "type": "histogram2dcontour"
           }
          ],
          "mesh3d": [
           {
            "colorbar": {
             "outlinewidth": 0,
             "ticks": ""
            },
            "type": "mesh3d"
           }
          ],
          "parcoords": [
           {
            "line": {
             "colorbar": {
              "outlinewidth": 0,
              "ticks": ""
             }
            },
            "type": "parcoords"
           }
          ],
          "pie": [
           {
            "automargin": true,
            "type": "pie"
           }
          ],
          "scatter": [
           {
            "fillpattern": {
             "fillmode": "overlay",
             "size": 10,
             "solidity": 0.2
            },
            "type": "scatter"
           }
          ],
          "scatter3d": [
           {
            "line": {
             "colorbar": {
              "outlinewidth": 0,
              "ticks": ""
             }
            },
            "marker": {
             "colorbar": {
              "outlinewidth": 0,
              "ticks": ""
             }
            },
            "type": "scatter3d"
           }
          ],
          "scattercarpet": [
           {
            "marker": {
             "colorbar": {
              "outlinewidth": 0,
              "ticks": ""
             }
            },
            "type": "scattercarpet"
           }
          ],
          "scattergeo": [
           {
            "marker": {
             "colorbar": {
              "outlinewidth": 0,
              "ticks": ""
             }
            },
            "type": "scattergeo"
           }
          ],
          "scattergl": [
           {
            "marker": {
             "colorbar": {
              "outlinewidth": 0,
              "ticks": ""
             }
            },
            "type": "scattergl"
           }
          ],
          "scattermap": [
           {
            "marker": {
             "colorbar": {
              "outlinewidth": 0,
              "ticks": ""
             }
            },
            "type": "scattermap"
           }
          ],
          "scattermapbox": [
           {
            "marker": {
             "colorbar": {
              "outlinewidth": 0,
              "ticks": ""
             }
            },
            "type": "scattermapbox"
           }
          ],
          "scatterpolar": [
           {
            "marker": {
             "colorbar": {
              "outlinewidth": 0,
              "ticks": ""
             }
            },
            "type": "scatterpolar"
           }
          ],
          "scatterpolargl": [
           {
            "marker": {
             "colorbar": {
              "outlinewidth": 0,
              "ticks": ""
             }
            },
            "type": "scatterpolargl"
           }
          ],
          "scatterternary": [
           {
            "marker": {
             "colorbar": {
              "outlinewidth": 0,
              "ticks": ""
             }
            },
            "type": "scatterternary"
           }
          ],
          "surface": [
           {
            "colorbar": {
             "outlinewidth": 0,
             "ticks": ""
            },
            "colorscale": [
             [
              0,
              "#0d0887"
             ],
             [
              0.1111111111111111,
              "#46039f"
             ],
             [
              0.2222222222222222,
              "#7201a8"
             ],
             [
              0.3333333333333333,
              "#9c179e"
             ],
             [
              0.4444444444444444,
              "#bd3786"
             ],
             [
              0.5555555555555556,
              "#d8576b"
             ],
             [
              0.6666666666666666,
              "#ed7953"
             ],
             [
              0.7777777777777778,
              "#fb9f3a"
             ],
             [
              0.8888888888888888,
              "#fdca26"
             ],
             [
              1,
              "#f0f921"
             ]
            ],
            "type": "surface"
           }
          ],
          "table": [
           {
            "cells": {
             "fill": {
              "color": "#EBF0F8"
             },
             "line": {
              "color": "white"
             }
            },
            "header": {
             "fill": {
              "color": "#C8D4E3"
             },
             "line": {
              "color": "white"
             }
            },
            "type": "table"
           }
          ]
         },
         "layout": {
          "annotationdefaults": {
           "arrowcolor": "#2a3f5f",
           "arrowhead": 0,
           "arrowwidth": 1
          },
          "autotypenumbers": "strict",
          "coloraxis": {
           "colorbar": {
            "outlinewidth": 0,
            "ticks": ""
           }
          },
          "colorscale": {
           "diverging": [
            [
             0,
             "#8e0152"
            ],
            [
             0.1,
             "#c51b7d"
            ],
            [
             0.2,
             "#de77ae"
            ],
            [
             0.3,
             "#f1b6da"
            ],
            [
             0.4,
             "#fde0ef"
            ],
            [
             0.5,
             "#f7f7f7"
            ],
            [
             0.6,
             "#e6f5d0"
            ],
            [
             0.7,
             "#b8e186"
            ],
            [
             0.8,
             "#7fbc41"
            ],
            [
             0.9,
             "#4d9221"
            ],
            [
             1,
             "#276419"
            ]
           ],
           "sequential": [
            [
             0,
             "#0d0887"
            ],
            [
             0.1111111111111111,
             "#46039f"
            ],
            [
             0.2222222222222222,
             "#7201a8"
            ],
            [
             0.3333333333333333,
             "#9c179e"
            ],
            [
             0.4444444444444444,
             "#bd3786"
            ],
            [
             0.5555555555555556,
             "#d8576b"
            ],
            [
             0.6666666666666666,
             "#ed7953"
            ],
            [
             0.7777777777777778,
             "#fb9f3a"
            ],
            [
             0.8888888888888888,
             "#fdca26"
            ],
            [
             1,
             "#f0f921"
            ]
           ],
           "sequentialminus": [
            [
             0,
             "#0d0887"
            ],
            [
             0.1111111111111111,
             "#46039f"
            ],
            [
             0.2222222222222222,
             "#7201a8"
            ],
            [
             0.3333333333333333,
             "#9c179e"
            ],
            [
             0.4444444444444444,
             "#bd3786"
            ],
            [
             0.5555555555555556,
             "#d8576b"
            ],
            [
             0.6666666666666666,
             "#ed7953"
            ],
            [
             0.7777777777777778,
             "#fb9f3a"
            ],
            [
             0.8888888888888888,
             "#fdca26"
            ],
            [
             1,
             "#f0f921"
            ]
           ]
          },
          "colorway": [
           "#636efa",
           "#EF553B",
           "#00cc96",
           "#ab63fa",
           "#FFA15A",
           "#19d3f3",
           "#FF6692",
           "#B6E880",
           "#FF97FF",
           "#FECB52"
          ],
          "font": {
           "color": "#2a3f5f"
          },
          "geo": {
           "bgcolor": "white",
           "lakecolor": "white",
           "landcolor": "#E5ECF6",
           "showlakes": true,
           "showland": true,
           "subunitcolor": "white"
          },
          "hoverlabel": {
           "align": "left"
          },
          "hovermode": "closest",
          "mapbox": {
           "style": "light"
          },
          "paper_bgcolor": "white",
          "plot_bgcolor": "#E5ECF6",
          "polar": {
           "angularaxis": {
            "gridcolor": "white",
            "linecolor": "white",
            "ticks": ""
           },
           "bgcolor": "#E5ECF6",
           "radialaxis": {
            "gridcolor": "white",
            "linecolor": "white",
            "ticks": ""
           }
          },
          "scene": {
           "xaxis": {
            "backgroundcolor": "#E5ECF6",
            "gridcolor": "white",
            "gridwidth": 2,
            "linecolor": "white",
            "showbackground": true,
            "ticks": "",
            "zerolinecolor": "white"
           },
           "yaxis": {
            "backgroundcolor": "#E5ECF6",
            "gridcolor": "white",
            "gridwidth": 2,
            "linecolor": "white",
            "showbackground": true,
            "ticks": "",
            "zerolinecolor": "white"
           },
           "zaxis": {
            "backgroundcolor": "#E5ECF6",
            "gridcolor": "white",
            "gridwidth": 2,
            "linecolor": "white",
            "showbackground": true,
            "ticks": "",
            "zerolinecolor": "white"
           }
          },
          "shapedefaults": {
           "line": {
            "color": "#2a3f5f"
           }
          },
          "ternary": {
           "aaxis": {
            "gridcolor": "white",
            "linecolor": "white",
            "ticks": ""
           },
           "baxis": {
            "gridcolor": "white",
            "linecolor": "white",
            "ticks": ""
           },
           "bgcolor": "#E5ECF6",
           "caxis": {
            "gridcolor": "white",
            "linecolor": "white",
            "ticks": ""
           }
          },
          "title": {
           "x": 0.05
          },
          "xaxis": {
           "automargin": true,
           "gridcolor": "white",
           "linecolor": "white",
           "ticks": "",
           "title": {
            "standoff": 15
           },
           "zerolinecolor": "white",
           "zerolinewidth": 2
          },
          "yaxis": {
           "automargin": true,
           "gridcolor": "white",
           "linecolor": "white",
           "ticks": "",
           "title": {
            "standoff": 15
           },
           "zerolinecolor": "white",
           "zerolinewidth": 2
          }
         }
        },
        "title": {
         "text": "📊 Stock Quadrant Table (Aa–Ee) — Predicted by Artificial Neural Network (ANN)"
        }
       }
      }
     },
     "metadata": {},
     "output_type": "display_data"
    }
   ],
   "source": [
    "# ============================================================\n",
    "# ✅ 10. ใช้ผลจากโมเดลที่มี Accuracy สูงสุดสร้าง Quadrant Table\n",
    "# ============================================================\n",
    "\n",
    "# 📌 หาว่าโมเดลไหนคะแนนสูงสุด\n",
    "best_model_name = df_results.iloc[0][\"Model\"]\n",
    "print(f\"🏆 Best model selected: {best_model_name}\")\n",
    "\n",
    "# 📊 เลือกผลทำนายจากโมเดลนั้น\n",
    "if \"K-Means\" in best_model_name:\n",
    "    df_result = pd.DataFrame({\n",
    "        \"Symbol\": df[\"symbol\"],\n",
    "        \"Predicted Quadrant\": le.inverse_transform(clusters)\n",
    "    })\n",
    "elif \"Decision Tree\" in best_model_name:\n",
    "    y_all_pred = tree_model.predict(X_scaled)\n",
    "    df_result = pd.DataFrame({\n",
    "        \"Symbol\": df[\"symbol\"],\n",
    "        \"Predicted Quadrant\": le.inverse_transform(y_all_pred)\n",
    "    })\n",
    "elif \"KNN\" in best_model_name:\n",
    "    y_all_pred = knn_model.predict(X_scaled)\n",
    "    df_result = pd.DataFrame({\n",
    "        \"Symbol\": df[\"symbol\"],\n",
    "        \"Predicted Quadrant\": le.inverse_transform(y_all_pred)\n",
    "    })\n",
    "elif \"ANN\" in best_model_name and \"Improved\" not in best_model_name:\n",
    "    y_all_pred = np.argmax(ann.predict(X_scaled), axis=1)\n",
    "    df_result = pd.DataFrame({\n",
    "        \"Symbol\": df[\"symbol\"],\n",
    "        \"Predicted Quadrant\": le.inverse_transform(y_all_pred)\n",
    "    })\n",
    "else:  # Deep Learning (Improved ANN)\n",
    "    y_all_pred = np.argmax(deep.predict(X_scaled), axis=1)\n",
    "    df_result = pd.DataFrame({\n",
    "        \"Symbol\": df[\"symbol\"],\n",
    "        \"Predicted Quadrant\": le.inverse_transform(y_all_pred)\n",
    "    })\n",
    "\n",
    "# ✅ Group หุ้นตาม Quadrant\n",
    "quadrant_groups = df_result.groupby('Predicted Quadrant')['Symbol'].apply(list).to_dict()\n",
    "\n",
    "# ✅ Define แกน\n",
    "financial_levels = ['A', 'B', 'C', 'D', 'E']\n",
    "trend_levels = ['a', 'b', 'c', 'd', 'e']\n",
    "\n",
    "# ✅ เตรียมตาราง 5x5 (Aa–Ee)\n",
    "plot_table = []\n",
    "for f in financial_levels:\n",
    "    row = []\n",
    "    for t in trend_levels:\n",
    "        code = f + t\n",
    "        stocks = quadrant_groups.get(code, [])\n",
    "        if stocks:\n",
    "            stock_list = \"<br>\".join(stocks[:10])\n",
    "            cell_text = f\"<b>{code}</b><br><span style='color:white'>{stock_list}</span>\"\n",
    "        else:\n",
    "            cell_text = f\"<b>{code}</b><br>-\"\n",
    "        row.append(cell_text)\n",
    "    plot_table.append(row)\n",
    "\n",
    "# ✅ สีพื้นตามระดับ Fundamental\n",
    "color_map = {'A': '#2ecc71', 'B': '#58d68d', 'C': '#f4d03f', 'D': '#f39c12', 'E': '#e74c3c'}\n",
    "colors = [[color_map[f]] * 5 for f in financial_levels]\n",
    "\n",
    "# ✅ วาดตารางด้วย Plotly\n",
    "import plotly.graph_objects as go\n",
    "\n",
    "fig = go.Figure(data=go.Table(\n",
    "    header=dict(\n",
    "        values=[\"Super Bullish\", \"Up Trend\", \"Sideway\", \"Down Trend\", \"Crash\"],\n",
    "        fill_color=\"#dcdcdc\",\n",
    "        align=\"center\",\n",
    "        font=dict(color=\"black\", size=14)\n",
    "    ),\n",
    "    cells=dict(\n",
    "        values=plot_table,\n",
    "        fill_color=colors,\n",
    "        align=\"center\",\n",
    "        height=80,\n",
    "        font=dict(color=\"white\", size=12)\n",
    "    )\n",
    "))\n",
    "\n",
    "fig.update_layout(title=f\"📊 Stock Quadrant Table (Aa–Ee) — Predicted by {best_model_name}\")\n",
    "fig.show()\n"
   ]
  },
  {
   "cell_type": "code",
   "execution_count": 35,
   "id": "9d706fe6",
   "metadata": {},
   "outputs": [
    {
     "name": "stdout",
     "output_type": "stream",
     "text": [
      "🔥 Generating Quadrant Heatmap from best model...\n",
      "🏆 Best model selected: Artificial Neural Network (ANN)\n",
      "\u001b[1m25/25\u001b[0m \u001b[32m━━━━━━━━━━━━━━━━━━━━\u001b[0m\u001b[37m\u001b[0m \u001b[1m0s\u001b[0m 2ms/step \n"
     ]
    },
    {
     "data": {
      "application/vnd.plotly.v1+json": {
       "config": {
        "plotlyServerURL": "https://plot.ly"
       },
       "data": [
        {
         "coloraxis": "coloraxis",
         "hovertemplate": "Trend (a–e): %{x}<br>Fundamental Group (A–E): %{y}<br>Stock Count: %{z}<extra></extra>",
         "name": "0",
         "texttemplate": "%{z}",
         "type": "heatmap",
         "x": [
          "a",
          "b",
          "c",
          "d",
          "e"
         ],
         "xaxis": "x",
         "y": [
          "A",
          "B",
          "C",
          "D",
          "E"
         ],
         "yaxis": "y",
         "z": {
          "bdata": "AVctGgAFR0sNAAJNUgIACic+DAAAXiI+AA==",
          "dtype": "i1",
          "shape": "5, 5"
         }
        }
       ],
       "layout": {
        "coloraxis": {
         "colorbar": {
          "title": {
           "text": "Stock Count"
          }
         },
         "colorscale": [
          [
           0,
           "rgb(255,255,204)"
          ],
          [
           0.125,
           "rgb(255,237,160)"
          ],
          [
           0.25,
           "rgb(254,217,118)"
          ],
          [
           0.375,
           "rgb(254,178,76)"
          ],
          [
           0.5,
           "rgb(253,141,60)"
          ],
          [
           0.625,
           "rgb(252,78,42)"
          ],
          [
           0.75,
           "rgb(227,26,28)"
          ],
          [
           0.875,
           "rgb(189,0,38)"
          ],
          [
           1,
           "rgb(128,0,38)"
          ]
         ]
        },
        "margin": {
         "t": 60
        },
        "template": {
         "data": {
          "bar": [
           {
            "error_x": {
             "color": "#2a3f5f"
            },
            "error_y": {
             "color": "#2a3f5f"
            },
            "marker": {
             "line": {
              "color": "#E5ECF6",
              "width": 0.5
             },
             "pattern": {
              "fillmode": "overlay",
              "size": 10,
              "solidity": 0.2
             }
            },
            "type": "bar"
           }
          ],
          "barpolar": [
           {
            "marker": {
             "line": {
              "color": "#E5ECF6",
              "width": 0.5
             },
             "pattern": {
              "fillmode": "overlay",
              "size": 10,
              "solidity": 0.2
             }
            },
            "type": "barpolar"
           }
          ],
          "carpet": [
           {
            "aaxis": {
             "endlinecolor": "#2a3f5f",
             "gridcolor": "white",
             "linecolor": "white",
             "minorgridcolor": "white",
             "startlinecolor": "#2a3f5f"
            },
            "baxis": {
             "endlinecolor": "#2a3f5f",
             "gridcolor": "white",
             "linecolor": "white",
             "minorgridcolor": "white",
             "startlinecolor": "#2a3f5f"
            },
            "type": "carpet"
           }
          ],
          "choropleth": [
           {
            "colorbar": {
             "outlinewidth": 0,
             "ticks": ""
            },
            "type": "choropleth"
           }
          ],
          "contour": [
           {
            "colorbar": {
             "outlinewidth": 0,
             "ticks": ""
            },
            "colorscale": [
             [
              0,
              "#0d0887"
             ],
             [
              0.1111111111111111,
              "#46039f"
             ],
             [
              0.2222222222222222,
              "#7201a8"
             ],
             [
              0.3333333333333333,
              "#9c179e"
             ],
             [
              0.4444444444444444,
              "#bd3786"
             ],
             [
              0.5555555555555556,
              "#d8576b"
             ],
             [
              0.6666666666666666,
              "#ed7953"
             ],
             [
              0.7777777777777778,
              "#fb9f3a"
             ],
             [
              0.8888888888888888,
              "#fdca26"
             ],
             [
              1,
              "#f0f921"
             ]
            ],
            "type": "contour"
           }
          ],
          "contourcarpet": [
           {
            "colorbar": {
             "outlinewidth": 0,
             "ticks": ""
            },
            "type": "contourcarpet"
           }
          ],
          "heatmap": [
           {
            "colorbar": {
             "outlinewidth": 0,
             "ticks": ""
            },
            "colorscale": [
             [
              0,
              "#0d0887"
             ],
             [
              0.1111111111111111,
              "#46039f"
             ],
             [
              0.2222222222222222,
              "#7201a8"
             ],
             [
              0.3333333333333333,
              "#9c179e"
             ],
             [
              0.4444444444444444,
              "#bd3786"
             ],
             [
              0.5555555555555556,
              "#d8576b"
             ],
             [
              0.6666666666666666,
              "#ed7953"
             ],
             [
              0.7777777777777778,
              "#fb9f3a"
             ],
             [
              0.8888888888888888,
              "#fdca26"
             ],
             [
              1,
              "#f0f921"
             ]
            ],
            "type": "heatmap"
           }
          ],
          "histogram": [
           {
            "marker": {
             "pattern": {
              "fillmode": "overlay",
              "size": 10,
              "solidity": 0.2
             }
            },
            "type": "histogram"
           }
          ],
          "histogram2d": [
           {
            "colorbar": {
             "outlinewidth": 0,
             "ticks": ""
            },
            "colorscale": [
             [
              0,
              "#0d0887"
             ],
             [
              0.1111111111111111,
              "#46039f"
             ],
             [
              0.2222222222222222,
              "#7201a8"
             ],
             [
              0.3333333333333333,
              "#9c179e"
             ],
             [
              0.4444444444444444,
              "#bd3786"
             ],
             [
              0.5555555555555556,
              "#d8576b"
             ],
             [
              0.6666666666666666,
              "#ed7953"
             ],
             [
              0.7777777777777778,
              "#fb9f3a"
             ],
             [
              0.8888888888888888,
              "#fdca26"
             ],
             [
              1,
              "#f0f921"
             ]
            ],
            "type": "histogram2d"
           }
          ],
          "histogram2dcontour": [
           {
            "colorbar": {
             "outlinewidth": 0,
             "ticks": ""
            },
            "colorscale": [
             [
              0,
              "#0d0887"
             ],
             [
              0.1111111111111111,
              "#46039f"
             ],
             [
              0.2222222222222222,
              "#7201a8"
             ],
             [
              0.3333333333333333,
              "#9c179e"
             ],
             [
              0.4444444444444444,
              "#bd3786"
             ],
             [
              0.5555555555555556,
              "#d8576b"
             ],
             [
              0.6666666666666666,
              "#ed7953"
             ],
             [
              0.7777777777777778,
              "#fb9f3a"
             ],
             [
              0.8888888888888888,
              "#fdca26"
             ],
             [
              1,
              "#f0f921"
             ]
            ],
            "type": "histogram2dcontour"
           }
          ],
          "mesh3d": [
           {
            "colorbar": {
             "outlinewidth": 0,
             "ticks": ""
            },
            "type": "mesh3d"
           }
          ],
          "parcoords": [
           {
            "line": {
             "colorbar": {
              "outlinewidth": 0,
              "ticks": ""
             }
            },
            "type": "parcoords"
           }
          ],
          "pie": [
           {
            "automargin": true,
            "type": "pie"
           }
          ],
          "scatter": [
           {
            "fillpattern": {
             "fillmode": "overlay",
             "size": 10,
             "solidity": 0.2
            },
            "type": "scatter"
           }
          ],
          "scatter3d": [
           {
            "line": {
             "colorbar": {
              "outlinewidth": 0,
              "ticks": ""
             }
            },
            "marker": {
             "colorbar": {
              "outlinewidth": 0,
              "ticks": ""
             }
            },
            "type": "scatter3d"
           }
          ],
          "scattercarpet": [
           {
            "marker": {
             "colorbar": {
              "outlinewidth": 0,
              "ticks": ""
             }
            },
            "type": "scattercarpet"
           }
          ],
          "scattergeo": [
           {
            "marker": {
             "colorbar": {
              "outlinewidth": 0,
              "ticks": ""
             }
            },
            "type": "scattergeo"
           }
          ],
          "scattergl": [
           {
            "marker": {
             "colorbar": {
              "outlinewidth": 0,
              "ticks": ""
             }
            },
            "type": "scattergl"
           }
          ],
          "scattermap": [
           {
            "marker": {
             "colorbar": {
              "outlinewidth": 0,
              "ticks": ""
             }
            },
            "type": "scattermap"
           }
          ],
          "scattermapbox": [
           {
            "marker": {
             "colorbar": {
              "outlinewidth": 0,
              "ticks": ""
             }
            },
            "type": "scattermapbox"
           }
          ],
          "scatterpolar": [
           {
            "marker": {
             "colorbar": {
              "outlinewidth": 0,
              "ticks": ""
             }
            },
            "type": "scatterpolar"
           }
          ],
          "scatterpolargl": [
           {
            "marker": {
             "colorbar": {
              "outlinewidth": 0,
              "ticks": ""
             }
            },
            "type": "scatterpolargl"
           }
          ],
          "scatterternary": [
           {
            "marker": {
             "colorbar": {
              "outlinewidth": 0,
              "ticks": ""
             }
            },
            "type": "scatterternary"
           }
          ],
          "surface": [
           {
            "colorbar": {
             "outlinewidth": 0,
             "ticks": ""
            },
            "colorscale": [
             [
              0,
              "#0d0887"
             ],
             [
              0.1111111111111111,
              "#46039f"
             ],
             [
              0.2222222222222222,
              "#7201a8"
             ],
             [
              0.3333333333333333,
              "#9c179e"
             ],
             [
              0.4444444444444444,
              "#bd3786"
             ],
             [
              0.5555555555555556,
              "#d8576b"
             ],
             [
              0.6666666666666666,
              "#ed7953"
             ],
             [
              0.7777777777777778,
              "#fb9f3a"
             ],
             [
              0.8888888888888888,
              "#fdca26"
             ],
             [
              1,
              "#f0f921"
             ]
            ],
            "type": "surface"
           }
          ],
          "table": [
           {
            "cells": {
             "fill": {
              "color": "#EBF0F8"
             },
             "line": {
              "color": "white"
             }
            },
            "header": {
             "fill": {
              "color": "#C8D4E3"
             },
             "line": {
              "color": "white"
             }
            },
            "type": "table"
           }
          ]
         },
         "layout": {
          "annotationdefaults": {
           "arrowcolor": "#2a3f5f",
           "arrowhead": 0,
           "arrowwidth": 1
          },
          "autotypenumbers": "strict",
          "coloraxis": {
           "colorbar": {
            "outlinewidth": 0,
            "ticks": ""
           }
          },
          "colorscale": {
           "diverging": [
            [
             0,
             "#8e0152"
            ],
            [
             0.1,
             "#c51b7d"
            ],
            [
             0.2,
             "#de77ae"
            ],
            [
             0.3,
             "#f1b6da"
            ],
            [
             0.4,
             "#fde0ef"
            ],
            [
             0.5,
             "#f7f7f7"
            ],
            [
             0.6,
             "#e6f5d0"
            ],
            [
             0.7,
             "#b8e186"
            ],
            [
             0.8,
             "#7fbc41"
            ],
            [
             0.9,
             "#4d9221"
            ],
            [
             1,
             "#276419"
            ]
           ],
           "sequential": [
            [
             0,
             "#0d0887"
            ],
            [
             0.1111111111111111,
             "#46039f"
            ],
            [
             0.2222222222222222,
             "#7201a8"
            ],
            [
             0.3333333333333333,
             "#9c179e"
            ],
            [
             0.4444444444444444,
             "#bd3786"
            ],
            [
             0.5555555555555556,
             "#d8576b"
            ],
            [
             0.6666666666666666,
             "#ed7953"
            ],
            [
             0.7777777777777778,
             "#fb9f3a"
            ],
            [
             0.8888888888888888,
             "#fdca26"
            ],
            [
             1,
             "#f0f921"
            ]
           ],
           "sequentialminus": [
            [
             0,
             "#0d0887"
            ],
            [
             0.1111111111111111,
             "#46039f"
            ],
            [
             0.2222222222222222,
             "#7201a8"
            ],
            [
             0.3333333333333333,
             "#9c179e"
            ],
            [
             0.4444444444444444,
             "#bd3786"
            ],
            [
             0.5555555555555556,
             "#d8576b"
            ],
            [
             0.6666666666666666,
             "#ed7953"
            ],
            [
             0.7777777777777778,
             "#fb9f3a"
            ],
            [
             0.8888888888888888,
             "#fdca26"
            ],
            [
             1,
             "#f0f921"
            ]
           ]
          },
          "colorway": [
           "#636efa",
           "#EF553B",
           "#00cc96",
           "#ab63fa",
           "#FFA15A",
           "#19d3f3",
           "#FF6692",
           "#B6E880",
           "#FF97FF",
           "#FECB52"
          ],
          "font": {
           "color": "#2a3f5f"
          },
          "geo": {
           "bgcolor": "white",
           "lakecolor": "white",
           "landcolor": "#E5ECF6",
           "showlakes": true,
           "showland": true,
           "subunitcolor": "white"
          },
          "hoverlabel": {
           "align": "left"
          },
          "hovermode": "closest",
          "mapbox": {
           "style": "light"
          },
          "paper_bgcolor": "white",
          "plot_bgcolor": "#E5ECF6",
          "polar": {
           "angularaxis": {
            "gridcolor": "white",
            "linecolor": "white",
            "ticks": ""
           },
           "bgcolor": "#E5ECF6",
           "radialaxis": {
            "gridcolor": "white",
            "linecolor": "white",
            "ticks": ""
           }
          },
          "scene": {
           "xaxis": {
            "backgroundcolor": "#E5ECF6",
            "gridcolor": "white",
            "gridwidth": 2,
            "linecolor": "white",
            "showbackground": true,
            "ticks": "",
            "zerolinecolor": "white"
           },
           "yaxis": {
            "backgroundcolor": "#E5ECF6",
            "gridcolor": "white",
            "gridwidth": 2,
            "linecolor": "white",
            "showbackground": true,
            "ticks": "",
            "zerolinecolor": "white"
           },
           "zaxis": {
            "backgroundcolor": "#E5ECF6",
            "gridcolor": "white",
            "gridwidth": 2,
            "linecolor": "white",
            "showbackground": true,
            "ticks": "",
            "zerolinecolor": "white"
           }
          },
          "shapedefaults": {
           "line": {
            "color": "#2a3f5f"
           }
          },
          "ternary": {
           "aaxis": {
            "gridcolor": "white",
            "linecolor": "white",
            "ticks": ""
           },
           "baxis": {
            "gridcolor": "white",
            "linecolor": "white",
            "ticks": ""
           },
           "bgcolor": "#E5ECF6",
           "caxis": {
            "gridcolor": "white",
            "linecolor": "white",
            "ticks": ""
           }
          },
          "title": {
           "x": 0.05
          },
          "xaxis": {
           "automargin": true,
           "gridcolor": "white",
           "linecolor": "white",
           "ticks": "",
           "title": {
            "standoff": 15
           },
           "zerolinecolor": "white",
           "zerolinewidth": 2
          },
          "yaxis": {
           "automargin": true,
           "gridcolor": "white",
           "linecolor": "white",
           "ticks": "",
           "title": {
            "standoff": 15
           },
           "zerolinecolor": "white",
           "zerolinewidth": 2
          }
         }
        },
        "title": {
         "text": "📊 Quadrant Heatmap (Predicted by Artificial Neural Network (ANN))"
        },
        "xaxis": {
         "anchor": "y",
         "constrain": "domain",
         "domain": [
          0,
          1
         ],
         "scaleanchor": "y",
         "title": {
          "text": "Trend (a–e)"
         }
        },
        "yaxis": {
         "anchor": "x",
         "autorange": "reversed",
         "constrain": "domain",
         "domain": [
          0,
          1
         ],
         "title": {
          "text": "Fundamental Group (A–E)"
         }
        }
       }
      }
     },
     "metadata": {},
     "output_type": "display_data"
    }
   ],
   "source": [
    "import pandas as pd\n",
    "import plotly.express as px\n",
    "\n",
    "# ============================================================\n",
    "# ✅ สร้าง Heatmap จากโมเดลที่ดีที่สุด\n",
    "# ============================================================\n",
    "print(\"🔥 Generating Quadrant Heatmap from best model...\")\n",
    "\n",
    "# 📌 หาว่าโมเดลไหนคะแนนสูงสุด\n",
    "best_model_name = df_results.iloc[0][\"Model\"]\n",
    "print(f\"🏆 Best model selected: {best_model_name}\")\n",
    "\n",
    "# 📊 สร้าง Predicted Quadrant ทั้งหมดตามโมเดลนั้น\n",
    "if \"K-Means\" in best_model_name:\n",
    "    df_all_results = pd.DataFrame({\n",
    "        \"Symbol\": df[\"symbol\"],\n",
    "        \"Predicted Quadrant\": le.inverse_transform(clusters)\n",
    "    })\n",
    "elif \"Decision Tree\" in best_model_name:\n",
    "    y_all_pred = tree_model.predict(X_scaled)\n",
    "    df_all_results = pd.DataFrame({\n",
    "        \"Symbol\": df[\"symbol\"],\n",
    "        \"Predicted Quadrant\": le.inverse_transform(y_all_pred)\n",
    "    })\n",
    "elif \"KNN\" in best_model_name:\n",
    "    y_all_pred = knn_model.predict(X_scaled)\n",
    "    df_all_results = pd.DataFrame({\n",
    "        \"Symbol\": df[\"symbol\"],\n",
    "        \"Predicted Quadrant\": le.inverse_transform(y_all_pred)\n",
    "    })\n",
    "elif \"ANN\" in best_model_name and \"Improved\" not in best_model_name:\n",
    "    y_all_pred = np.argmax(ann.predict(X_scaled), axis=1)\n",
    "    df_all_results = pd.DataFrame({\n",
    "        \"Symbol\": df[\"symbol\"],\n",
    "        \"Predicted Quadrant\": le.inverse_transform(y_all_pred)\n",
    "    })\n",
    "else:  # Deep Learning (Improved ANN)\n",
    "    y_all_pred = np.argmax(deep.predict(X_scaled), axis=1)\n",
    "    df_all_results = pd.DataFrame({\n",
    "        \"Symbol\": df[\"symbol\"],\n",
    "        \"Predicted Quadrant\": le.inverse_transform(y_all_pred)\n",
    "    })\n",
    "\n",
    "# ============================================================\n",
    "# ✅ นับจำนวนหุ้นในแต่ละ Quadrant\n",
    "# ============================================================\n",
    "quadrant_counts = df_all_results[\"Predicted Quadrant\"].value_counts().sort_index()\n",
    "\n",
    "financial_levels = [\"A\",\"B\",\"C\",\"D\",\"E\"]\n",
    "trend_levels = [\"a\",\"b\",\"c\",\"d\",\"e\"]\n",
    "heatmap_data = pd.DataFrame(0, index=financial_levels, columns=trend_levels)\n",
    "\n",
    "for q, count in quadrant_counts.items():\n",
    "    if len(q) == 2:\n",
    "        fin, trend = q[0], q[1]\n",
    "        if fin in financial_levels and trend in trend_levels:\n",
    "            heatmap_data.loc[fin, trend] = count\n",
    "\n",
    "# ============================================================\n",
    "# ✅ วาด Heatmap ด้วย Plotly\n",
    "# ============================================================\n",
    "fig = px.imshow(\n",
    "    heatmap_data,\n",
    "    labels=dict(x=\"Trend (a–e)\", y=\"Fundamental Group (A–E)\", color=\"Stock Count\"),\n",
    "    x=trend_levels,\n",
    "    y=financial_levels,\n",
    "    color_continuous_scale=\"YlOrRd\",\n",
    "    text_auto=True\n",
    ")\n",
    "\n",
    "fig.update_layout(title=f\"📊 Quadrant Heatmap (Predicted by {best_model_name})\")\n",
    "fig.show()\n"
   ]
  },
  {
   "cell_type": "markdown",
   "id": "23c26ef5",
   "metadata": {},
   "source": [
    "## 📘 **องค์ประกอบของกราฟ**\n",
    "\n",
    "* **แกนแนวนอน (X):** Trend Grade (a–e)\n",
    "  → แสดงแนวโน้มราคาหุ้นจาก “ขาขึ้นแรง” ไปจนถึง “ขาลงแรง”\n",
    "\n",
    "  * a = ขาขึ้นแรง\n",
    "  * b = ขาขึ้น\n",
    "  * c = ทรงตัว\n",
    "  * d = ขาลง\n",
    "  * e = ขาลงแรง\n",
    "\n",
    "* **แกนแนวตั้ง (Y):** Fundamental Group (A–E)\n",
    "  → แสดงคุณภาพพื้นฐานของบริษัทจาก “ดีมาก” ไปจนถึง “อ่อนมาก”\n",
    "\n",
    "  * A = พื้นฐานดีเยี่ยม\n",
    "  * B = ดี\n",
    "  * C = ปานกลาง\n",
    "  * D = อ่อน\n",
    "  * E = อ่อนมาก\n",
    "\n",
    "* **สี (Color Scale):** แสดงจำนวนหุ้น (Stock Count)\n",
    "\n",
    "  * สีแดงเข้ม = มีหุ้นมาก\n",
    "  * สีเหลืองอ่อน = หุ้นน้อย\n",
    "\n",
    "---\n",
    "\n",
    "## 📊 **สิ่งที่กราฟแสดง**\n",
    "\n",
    "| Fundamental\\Trend | a | b      | c      | d  | e |\n",
    "| ----------------- | - | ------ | ------ | -- | - |\n",
    "| **A**             | 0 | **90** | 46     | 21 | 0 |\n",
    "| **B**             | 5 | 71     | **81** | 5  | 0 |\n",
    "| **C**             | 3 | **81** | **76** | 5  | 0 |\n",
    "| **D**             | 4 | 59     | 38     | 30 | 0 |\n",
    "| **E**             | 0 | **89** | 58     | 37 | 0 |\n",
    "\n",
    "---\n",
    "\n",
    "## 🔍 **การวิเคราะห์เชิงลึก**\n",
    "\n",
    "1. **แนวโน้มเด่นที่สุดอยู่ที่คอลัมน์ b (ขาขึ้นปานกลาง)**\n",
    "\n",
    "   * ทุกกลุ่มพื้นฐาน A–E มีจำนวนหุ้นมากที่สุดในช่อง **b**\n",
    "   * โดยเฉพาะ **A–b (90 หุ้น)**, **C–b (81 หุ้น)**, และ **E–b (89 หุ้น)**\n",
    "     👉 หมายความว่า โมเดล ANN ทำนายว่าหุ้นส่วนใหญ่กำลังอยู่ใน “ภาวะขาขึ้นปานกลาง”\n",
    "\n",
    "2. **แทบไม่มีหุ้นในแนวโน้ม “e” (ขาลงแรง)**\n",
    "\n",
    "   * แถวสุดท้ายของทุกคอลัมน์เป็น 0\n",
    "     👉 ตลาดโดยรวมยังคง “เชิงบวก” ไม่มีสัญญาณปรับฐานรุนแรง\n",
    "\n",
    "3. **กลุ่มพื้นฐานดี (A, B, C)** มีแนวโน้มดี (b–c) ชัดเจน\n",
    "\n",
    "   * เช่น A–b, B–c, C–b เป็นจุดร้อน (Hot Zones)\n",
    "     👉 บ่งบอกว่าโมเดลเรียนรู้ความสัมพันธ์ได้ถูกต้อง: หุ้นพื้นฐานดีมักอยู่ในแนวโน้มขาขึ้น\n",
    "\n",
    "4. **กลุ่มพื้นฐานอ่อน (D, E)**\n",
    "\n",
    "   * ยังคงมีจำนวนหุ้นใน “b” และ “c” สูง\n",
    "     👉 แสดงว่าแม้หุ้นพื้นฐานอ่อนบางตัวก็อาจอยู่ในช่วงฟื้นตัวทางเทคนิค\n",
    "\n",
    "---\n",
    "\n",
    "## 🧠 **สรุปเชิงวิเคราะห์**\n",
    "\n",
    "> ผลลัพธ์จากโมเดล ANN แสดงให้เห็นว่าตลาดโดยรวมอยู่ใน “ภาวะขาขึ้นต่อเนื่อง (Bullish Phase)”\n",
    "> หุ้นส่วนใหญ่ โดยเฉพาะกลุ่มพื้นฐานดีถึงปานกลาง (A–C) ถูกจัดให้อยู่ในแนวโน้ม **b–c**\n",
    "> ซึ่งสะท้อนถึงความมั่นคงและแรงซื้อในตลาดหุ้นไทยช่วงที่วิเคราะห์\n"
   ]
  },
  {
   "cell_type": "code",
   "execution_count": 38,
   "id": "ae75bbae",
   "metadata": {},
   "outputs": [
    {
     "data": {
      "text/html": [
       "<div>\n",
       "<style scoped>\n",
       "    .dataframe tbody tr th:only-of-type {\n",
       "        vertical-align: middle;\n",
       "    }\n",
       "\n",
       "    .dataframe tbody tr th {\n",
       "        vertical-align: top;\n",
       "    }\n",
       "\n",
       "    .dataframe thead th {\n",
       "        text-align: right;\n",
       "    }\n",
       "</style>\n",
       "<table border=\"1\" class=\"dataframe\">\n",
       "  <thead>\n",
       "    <tr style=\"text-align: right;\">\n",
       "      <th></th>\n",
       "      <th>Symbol</th>\n",
       "      <th>Predicted Quadrant</th>\n",
       "    </tr>\n",
       "  </thead>\n",
       "  <tbody>\n",
       "    <tr>\n",
       "      <th>0</th>\n",
       "      <td>PPPM</td>\n",
       "      <td>Ed</td>\n",
       "    </tr>\n",
       "    <tr>\n",
       "      <th>1</th>\n",
       "      <td>TPCH</td>\n",
       "      <td>Ac</td>\n",
       "    </tr>\n",
       "    <tr>\n",
       "      <th>2</th>\n",
       "      <td>POLY</td>\n",
       "      <td>Ac</td>\n",
       "    </tr>\n",
       "    <tr>\n",
       "      <th>3</th>\n",
       "      <td>VCOM</td>\n",
       "      <td>Ab</td>\n",
       "    </tr>\n",
       "    <tr>\n",
       "      <th>4</th>\n",
       "      <td>NVD</td>\n",
       "      <td>Ed</td>\n",
       "    </tr>\n",
       "    <tr>\n",
       "      <th>5</th>\n",
       "      <td>JDF</td>\n",
       "      <td>Cc</td>\n",
       "    </tr>\n",
       "    <tr>\n",
       "      <th>6</th>\n",
       "      <td>SVR</td>\n",
       "      <td>Ec</td>\n",
       "    </tr>\n",
       "    <tr>\n",
       "      <th>7</th>\n",
       "      <td>SUSCO</td>\n",
       "      <td>Bd</td>\n",
       "    </tr>\n",
       "    <tr>\n",
       "      <th>8</th>\n",
       "      <td>STP</td>\n",
       "      <td>Bc</td>\n",
       "    </tr>\n",
       "    <tr>\n",
       "      <th>9</th>\n",
       "      <td>VGI</td>\n",
       "      <td>Dd</td>\n",
       "    </tr>\n",
       "  </tbody>\n",
       "</table>\n",
       "</div>"
      ],
      "text/plain": [
       "  Symbol Predicted Quadrant\n",
       "0   PPPM                 Ed\n",
       "1   TPCH                 Ac\n",
       "2   POLY                 Ac\n",
       "3   VCOM                 Ab\n",
       "4    NVD                 Ed\n",
       "5    JDF                 Cc\n",
       "6    SVR                 Ec\n",
       "7  SUSCO                 Bd\n",
       "8    STP                 Bc\n",
       "9    VGI                 Dd"
      ]
     },
     "execution_count": 38,
     "metadata": {},
     "output_type": "execute_result"
    }
   ],
   "source": [
    "df_result.head(10)"
   ]
  },
  {
   "cell_type": "markdown",
   "id": "d8d6252d",
   "metadata": {},
   "source": [
    "Deployment"
   ]
  },
  {
   "cell_type": "code",
   "execution_count": 39,
   "id": "38a17f2e",
   "metadata": {},
   "outputs": [
    {
     "name": "stderr",
     "output_type": "stream",
     "text": [
      "WARNING:absl:You are saving your model as an HDF5 file via `model.save()` or `keras.saving.save_model(model)`. This file format is considered legacy. We recommend using instead the native Keras format, e.g. `model.save('my_model.keras')` or `keras.saving.save_model(model, 'my_model.keras')`. \n"
     ]
    },
    {
     "name": "stdout",
     "output_type": "stream",
     "text": [
      "🏆 Best model selected for saving: Artificial Neural Network (ANN)\n",
      "✅ Saved best_model_ann.h5\n",
      "✅ Saved scaler.pkl and label_encoder.pkl\n"
     ]
    }
   ],
   "source": [
    "import joblib\n",
    "from tensorflow.keras.models import save_model\n",
    "\n",
    "# ============================================================\n",
    "# ✅ 10. Save Best Model Automatically\n",
    "# ============================================================\n",
    "best_model_name = df_results.iloc[0][\"Model\"]\n",
    "print(f\"🏆 Best model selected for saving: {best_model_name}\")\n",
    "\n",
    "# ✅ ตรวจสอบและบันทึกโมเดลที่ดีที่สุด\n",
    "if \"K-Means\" in best_model_name:\n",
    "    joblib.dump(kmeans, \"best_model_kmeans.pkl\")\n",
    "    print(\"✅ Saved best_model_kmeans.pkl\")\n",
    "\n",
    "elif \"Decision Tree\" in best_model_name:\n",
    "    joblib.dump(tree_model, \"best_model_decision_tree.pkl\")\n",
    "    print(\"✅ Saved best_model_decision_tree.pkl\")\n",
    "\n",
    "elif \"KNN\" in best_model_name:\n",
    "    joblib.dump(knn_model, \"best_model_knn.pkl\")\n",
    "    print(\"✅ Saved best_model_knn.pkl\")\n",
    "\n",
    "elif \"ANN\" in best_model_name and \"Improved\" not in best_model_name:\n",
    "    ann.save(\"best_model_ann.h5\")\n",
    "    print(\"✅ Saved best_model_ann.h5\")\n",
    "\n",
    "elif \"Deep Learning\" in best_model_name:\n",
    "    deep.save(\"best_model_deep_learning.h5\")\n",
    "    print(\"✅ Saved best_model_deep_learning.h5\")\n",
    "\n",
    "else:\n",
    "    print(\"⚠️ No recognized model name found. Skipped saving model.\")\n",
    "\n",
    "# ✅ บันทึก scaler และ label encoder ใช้กับทุกโมเดล\n",
    "joblib.dump(scaler, \"scaler.pkl\")\n",
    "joblib.dump(le, \"label_encoder.pkl\")\n",
    "print(\"✅ Saved scaler.pkl and label_encoder.pkl\")\n"
   ]
  },
  {
   "cell_type": "code",
   "execution_count": 40,
   "id": "b636c56d",
   "metadata": {},
   "outputs": [
    {
     "name": "stderr",
     "output_type": "stream",
     "text": [
      "WARNING:cassandra.cluster:Cluster.__init__ called with contact_points specified, but no load_balancing_policy. In the next major version, this will raise an error; please specify a load-balancing policy. (contact_points = ['127.0.0.1'], lbp = None)\n",
      "WARNING:cassandra.cluster:Downgrading core protocol version from 66 to 65 for 127.0.0.1:9042. To avoid this, it is best practice to explicitly set Cluster(protocol_version) to the version supported by your cluster. http://datastax.github.io/python-driver/api/cassandra/cluster.html#cassandra.cluster.Cluster.protocol_version\n",
      "WARNING:cassandra.cluster:Downgrading core protocol version from 65 to 5 for 127.0.0.1:9042. To avoid this, it is best practice to explicitly set Cluster(protocol_version) to the version supported by your cluster. http://datastax.github.io/python-driver/api/cassandra/cluster.html#cassandra.cluster.Cluster.protocol_version\n",
      "WARNING:cassandra.cluster:Downgrading core protocol version from 5 to 4 for 127.0.0.1:9042. To avoid this, it is best practice to explicitly set Cluster(protocol_version) to the version supported by your cluster. http://datastax.github.io/python-driver/api/cassandra/cluster.html#cassandra.cluster.Cluster.protocol_version\n",
      "WARNING:absl:Compiled the loaded model, but the compiled metrics have yet to be built. `model.compile_metrics` will be empty until you train or evaluate the model.\n"
     ]
    },
    {
     "name": "stdout",
     "output_type": "stream",
     "text": [
      "\u001b[1m1/1\u001b[0m \u001b[32m━━━━━━━━━━━━━━━━━━━━\u001b[0m\u001b[37m\u001b[0m \u001b[1m0s\u001b[0m 108ms/step"
     ]
    },
    {
     "name": "stderr",
     "output_type": "stream",
     "text": [
      "c:\\Users\\Admin\\AppData\\Local\\Programs\\Python\\Python310\\lib\\site-packages\\sklearn\\utils\\validation.py:2739: UserWarning:\n",
      "\n",
      "X does not have valid feature names, but StandardScaler was fitted with feature names\n",
      "\n"
     ]
    },
    {
     "name": "stdout",
     "output_type": "stream",
     "text": [
      "\u001b[1m1/1\u001b[0m \u001b[32m━━━━━━━━━━━━━━━━━━━━\u001b[0m\u001b[37m\u001b[0m \u001b[1m0s\u001b[0m 144ms/step\n",
      "\n",
      "✅ หุ้น AOT อยู่ใน Quadrant → Ab\n",
      "\n",
      "📊 ข้อมูลที่ใช้ในการวิเคราะห์:\n",
      "  eps            : 1.00\n",
      "  pe             : 29.10\n",
      "  pbv            : 4.25\n",
      "  percentyield   : 2.09\n",
      "  marketcap      : 1266001848.00\n",
      "  close_price    : 72.00\n",
      "  high_price     : 73.00\n",
      "  low_price      : 72.00\n",
      "  open_price     : 72.75\n",
      "  value          : 0.00\n",
      "  ema5           : 72.39\n",
      "  ema15          : 71.91\n",
      "  ema35          : 71.51\n",
      "  ema89          : 71.55\n",
      "  ema200         : 71.91\n",
      "  rsi            : 59.26\n"
     ]
    }
   ],
   "source": [
    "# ============================================================\n",
    "# 🔰 Deployment: Predict Quadrant (Cassandra + Auto Compute Indicators + Marketcap)\n",
    "# ============================================================\n",
    "\n",
    "from cassandra.cluster import Cluster\n",
    "import pandas as pd\n",
    "import numpy as np\n",
    "import joblib\n",
    "from tensorflow.keras.models import load_model\n",
    "\n",
    "# -----------------------------\n",
    "# 1. Connect Cassandra (Local)\n",
    "# -----------------------------\n",
    "def connect_cassandra():\n",
    "    cluster = Cluster(['127.0.0.1'])\n",
    "    session = cluster.connect()\n",
    "    session.set_keyspace('data_stock')  # 👈 ตั้ง keyspace ให้ตรงกับที่คุณสร้างไว้\n",
    "    return session\n",
    "\n",
    "\n",
    "# -----------------------------\n",
    "# 2. ดึงข้อมูลจาก Cassandra\n",
    "# -----------------------------\n",
    "def get_stock_data(session, symbol):\n",
    "    # ข้อมูลราคาหลัก\n",
    "    q_price = f\"\"\"\n",
    "        SELECT time, close_price, high_price, low_price, open_price, value\n",
    "        FROM candlestick_data\n",
    "        WHERE symbol='{symbol}'\n",
    "        LIMIT 300;\n",
    "    \"\"\"\n",
    "    # ข้อมูล volume สำหรับคำนวณ marketcap\n",
    "    q_vol = f\"\"\"\n",
    "        SELECT time, volume\n",
    "        FROM candlestick1_1068_data\n",
    "        WHERE symbol='{symbol}'\n",
    "        LIMIT 300;\n",
    "    \"\"\"\n",
    "    # ข้อมูลพื้นฐาน\n",
    "    q_fund = f\"\"\"\n",
    "        SELECT eps, pe, pbv, percentyield\n",
    "        FROM financal_data_fromsettradeAPI\n",
    "        WHERE symbol='{symbol}'\n",
    "        LIMIT 1;\n",
    "    \"\"\"\n",
    "\n",
    "    df_price = pd.DataFrame(session.execute(q_price).all())\n",
    "    df_vol = pd.DataFrame(session.execute(q_vol).all())\n",
    "    fund = session.execute(q_fund).one()\n",
    "\n",
    "    if df_price.empty or df_vol.empty or not fund:\n",
    "        raise ValueError(f\"❌ ไม่มีข้อมูลครบสำหรับ {symbol}\")\n",
    "\n",
    "    df_price = df_price.sort_values(\"time\")\n",
    "    df_vol = df_vol.sort_values(\"time\")\n",
    "\n",
    "    # รวม price + volume ตามเวลา\n",
    "    df = pd.merge(df_price, df_vol, on=\"time\", how=\"inner\")\n",
    "    df[\"marketcap\"] = df[\"close_price\"] * df[\"volume\"]\n",
    "\n",
    "    return df, fund._asdict()\n",
    "\n",
    "\n",
    "# -----------------------------\n",
    "# 3. คำนวณ EMA และ RSI\n",
    "# -----------------------------\n",
    "def compute_indicators(df):\n",
    "    # EMA หลายช่วงเวลา\n",
    "    df[\"ema5\"] = df[\"close_price\"].ewm(span=5, adjust=False).mean()\n",
    "    df[\"ema15\"] = df[\"close_price\"].ewm(span=15, adjust=False).mean()\n",
    "    df[\"ema35\"] = df[\"close_price\"].ewm(span=35, adjust=False).mean()\n",
    "    df[\"ema89\"] = df[\"close_price\"].ewm(span=89, adjust=False).mean()\n",
    "    df[\"ema200\"] = df[\"close_price\"].ewm(span=200, adjust=False).mean()\n",
    "\n",
    "    # RSI 14\n",
    "    delta = df[\"close_price\"].diff()\n",
    "    gain = delta.clip(lower=0)\n",
    "    loss = -delta.clip(upper=0)\n",
    "    avg_gain = gain.rolling(window=14).mean()\n",
    "    avg_loss = loss.rolling(window=14).mean()\n",
    "    rs = avg_gain / avg_loss\n",
    "    df[\"rsi\"] = 100 - (100 / (1 + rs))\n",
    "\n",
    "    df = df.dropna().reset_index(drop=True)\n",
    "    return df\n",
    "\n",
    "\n",
    "# -----------------------------\n",
    "# 4. ทำนาย Quadrant ด้วย Deep Learning\n",
    "# -----------------------------\n",
    "def predict_quadrant(symbol):\n",
    "    session = connect_cassandra()\n",
    "    df, fund_data = get_stock_data(session, symbol)\n",
    "    df = compute_indicators(df)\n",
    "\n",
    "    # ใช้ข้อมูลล่าสุด (แถวสุดท้าย)\n",
    "    last = df.iloc[-1]\n",
    "\n",
    "    input_data = {\n",
    "        **fund_data,\n",
    "        \"marketcap\": last[\"marketcap\"],\n",
    "        \"close_price\": last[\"close_price\"],\n",
    "        \"high_price\": last[\"high_price\"],\n",
    "        \"low_price\": last[\"low_price\"],\n",
    "        \"open_price\": last[\"open_price\"],\n",
    "        \"value\": last[\"value\"],\n",
    "        \"ema5\": last[\"ema5\"],\n",
    "        \"ema15\": last[\"ema15\"],\n",
    "        \"ema35\": last[\"ema35\"],\n",
    "        \"ema89\": last[\"ema89\"],\n",
    "        \"ema200\": last[\"ema200\"],\n",
    "        \"rsi\": last[\"rsi\"]\n",
    "    }\n",
    "\n",
    "    # เรียงฟีเจอร์ให้ตรงกับที่เทรนโมเดล\n",
    "    features = [\"eps\", \"pe\", \"pbv\", \"percentyield\", \"marketcap\",\n",
    "                \"close_price\", \"high_price\", \"low_price\", \"open_price\",\n",
    "                \"value\", \"ema5\", \"ema15\", \"ema35\", \"ema89\", \"ema200\", \"rsi\"]\n",
    "\n",
    "    X = np.array([[input_data[f] for f in features]])\n",
    "\n",
    "    # โหลดโมเดลและเครื่องมือ\n",
    "    deep_model = load_model(\"deep_quadrant_model.h5\")\n",
    "    scaler = joblib.load(\"scaler.pkl\")\n",
    "    le = joblib.load(\"label_encoder.pkl\")\n",
    "\n",
    "    # สเกลข้อมูล\n",
    "    X_scaled = scaler.transform(X)\n",
    "    y_pred = deep_model.predict(X_scaled)\n",
    "    y_class = np.argmax(y_pred, axis=1)\n",
    "    quadrant = le.inverse_transform(y_class)[0]\n",
    "\n",
    "    return quadrant, input_data\n",
    "\n",
    "\n",
    "# -----------------------------\n",
    "# 5. ทดสอบระบบ\n",
    "# -----------------------------\n",
    "try:\n",
    "    symbol = input(\"🔎 พิมพ์ชื่อหุ้น (เช่น AOT): \").upper()\n",
    "    quadrant, used_data = predict_quadrant(symbol)\n",
    "\n",
    "    print(f\"\\n✅ หุ้น {symbol} อยู่ใน Quadrant → {quadrant}\")\n",
    "    print(\"\\n📊 ข้อมูลที่ใช้ในการวิเคราะห์:\")\n",
    "    for k, v in used_data.items():\n",
    "        print(f\"  {k:15s}: {v:.2f}\")\n",
    "\n",
    "except Exception as e:\n",
    "    print(\"❌ เกิดข้อผิดพลาด:\", e)\n"
   ]
  },
  {
   "cell_type": "code",
   "execution_count": null,
   "id": "1566e1d6",
   "metadata": {},
   "outputs": [
    {
     "name": "stderr",
     "output_type": "stream",
     "text": [
      "WARNING:cassandra.cluster:Cluster.__init__ called with contact_points specified, but no load_balancing_policy. In the next major version, this will raise an error; please specify a load-balancing policy. (contact_points = ['127.0.0.1'], lbp = None)\n",
      "WARNING:cassandra.cluster:Downgrading core protocol version from 66 to 65 for 127.0.0.1:9042. To avoid this, it is best practice to explicitly set Cluster(protocol_version) to the version supported by your cluster. http://datastax.github.io/python-driver/api/cassandra/cluster.html#cassandra.cluster.Cluster.protocol_version\n",
      "WARNING:cassandra.cluster:Downgrading core protocol version from 65 to 5 for 127.0.0.1:9042. To avoid this, it is best practice to explicitly set Cluster(protocol_version) to the version supported by your cluster. http://datastax.github.io/python-driver/api/cassandra/cluster.html#cassandra.cluster.Cluster.protocol_version\n",
      "WARNING:cassandra.cluster:Downgrading core protocol version from 5 to 4 for 127.0.0.1:9042. To avoid this, it is best practice to explicitly set Cluster(protocol_version) to the version supported by your cluster. http://datastax.github.io/python-driver/api/cassandra/cluster.html#cassandra.cluster.Cluster.protocol_version\n",
      "WARNING:absl:Compiled the loaded model, but the compiled metrics have yet to be built. `model.compile_metrics` will be empty until you train or evaluate the model.\n"
     ]
    },
    {
     "name": "stdout",
     "output_type": "stream",
     "text": [
      "\u001b[1m1/1\u001b[0m \u001b[32m━━━━━━━━━━━━━━━━━━━━\u001b[0m\u001b[37m\u001b[0m \u001b[1m0s\u001b[0m 111ms/step\n"
     ]
    },
    {
     "name": "stderr",
     "output_type": "stream",
     "text": [
      "c:\\Users\\Admin\\AppData\\Local\\Programs\\Python\\Python310\\lib\\site-packages\\sklearn\\utils\\validation.py:2739: UserWarning:\n",
      "\n",
      "X does not have valid feature names, but StandardScaler was fitted with feature names\n",
      "\n",
      "WARNING:cassandra.cluster:Cluster.__init__ called with contact_points specified, but no load_balancing_policy. In the next major version, this will raise an error; please specify a load-balancing policy. (contact_points = ['127.0.0.1'], lbp = None)\n"
     ]
    },
    {
     "name": "stdout",
     "output_type": "stream",
     "text": [
      "✅ DELTA → Ac\n"
     ]
    },
    {
     "name": "stderr",
     "output_type": "stream",
     "text": [
      "WARNING:cassandra.cluster:Downgrading core protocol version from 66 to 65 for 127.0.0.1:9042. To avoid this, it is best practice to explicitly set Cluster(protocol_version) to the version supported by your cluster. http://datastax.github.io/python-driver/api/cassandra/cluster.html#cassandra.cluster.Cluster.protocol_version\n",
      "WARNING:cassandra.cluster:Downgrading core protocol version from 65 to 5 for 127.0.0.1:9042. To avoid this, it is best practice to explicitly set Cluster(protocol_version) to the version supported by your cluster. http://datastax.github.io/python-driver/api/cassandra/cluster.html#cassandra.cluster.Cluster.protocol_version\n",
      "WARNING:cassandra.cluster:Downgrading core protocol version from 5 to 4 for 127.0.0.1:9042. To avoid this, it is best practice to explicitly set Cluster(protocol_version) to the version supported by your cluster. http://datastax.github.io/python-driver/api/cassandra/cluster.html#cassandra.cluster.Cluster.protocol_version\n",
      "WARNING:absl:Compiled the loaded model, but the compiled metrics have yet to be built. `model.compile_metrics` will be empty until you train or evaluate the model.\n"
     ]
    },
    {
     "name": "stdout",
     "output_type": "stream",
     "text": [
      "\u001b[1m1/1\u001b[0m \u001b[32m━━━━━━━━━━━━━━━━━━━━\u001b[0m\u001b[37m\u001b[0m \u001b[1m0s\u001b[0m 97ms/step\n"
     ]
    },
    {
     "name": "stderr",
     "output_type": "stream",
     "text": [
      "c:\\Users\\Admin\\AppData\\Local\\Programs\\Python\\Python310\\lib\\site-packages\\sklearn\\utils\\validation.py:2739: UserWarning:\n",
      "\n",
      "X does not have valid feature names, but StandardScaler was fitted with feature names\n",
      "\n",
      "WARNING:cassandra.cluster:Cluster.__init__ called with contact_points specified, but no load_balancing_policy. In the next major version, this will raise an error; please specify a load-balancing policy. (contact_points = ['127.0.0.1'], lbp = None)\n"
     ]
    },
    {
     "name": "stdout",
     "output_type": "stream",
     "text": [
      "✅ PTT → Ad\n"
     ]
    },
    {
     "name": "stderr",
     "output_type": "stream",
     "text": [
      "WARNING:cassandra.cluster:Downgrading core protocol version from 66 to 65 for 127.0.0.1:9042. To avoid this, it is best practice to explicitly set Cluster(protocol_version) to the version supported by your cluster. http://datastax.github.io/python-driver/api/cassandra/cluster.html#cassandra.cluster.Cluster.protocol_version\n",
      "WARNING:cassandra.cluster:Downgrading core protocol version from 65 to 5 for 127.0.0.1:9042. To avoid this, it is best practice to explicitly set Cluster(protocol_version) to the version supported by your cluster. http://datastax.github.io/python-driver/api/cassandra/cluster.html#cassandra.cluster.Cluster.protocol_version\n",
      "WARNING:cassandra.cluster:Downgrading core protocol version from 5 to 4 for 127.0.0.1:9042. To avoid this, it is best practice to explicitly set Cluster(protocol_version) to the version supported by your cluster. http://datastax.github.io/python-driver/api/cassandra/cluster.html#cassandra.cluster.Cluster.protocol_version\n",
      "WARNING:absl:Compiled the loaded model, but the compiled metrics have yet to be built. `model.compile_metrics` will be empty until you train or evaluate the model.\n"
     ]
    },
    {
     "name": "stdout",
     "output_type": "stream",
     "text": [
      "\u001b[1m1/1\u001b[0m \u001b[32m━━━━━━━━━━━━━━━━━━━━\u001b[0m\u001b[37m\u001b[0m \u001b[1m0s\u001b[0m 114ms/step\n"
     ]
    },
    {
     "name": "stderr",
     "output_type": "stream",
     "text": [
      "c:\\Users\\Admin\\AppData\\Local\\Programs\\Python\\Python310\\lib\\site-packages\\sklearn\\utils\\validation.py:2739: UserWarning:\n",
      "\n",
      "X does not have valid feature names, but StandardScaler was fitted with feature names\n",
      "\n",
      "WARNING:cassandra.cluster:Cluster.__init__ called with contact_points specified, but no load_balancing_policy. In the next major version, this will raise an error; please specify a load-balancing policy. (contact_points = ['127.0.0.1'], lbp = None)\n"
     ]
    },
    {
     "name": "stdout",
     "output_type": "stream",
     "text": [
      "✅ AOT → Ab\n"
     ]
    },
    {
     "name": "stderr",
     "output_type": "stream",
     "text": [
      "WARNING:cassandra.cluster:Downgrading core protocol version from 66 to 65 for 127.0.0.1:9042. To avoid this, it is best practice to explicitly set Cluster(protocol_version) to the version supported by your cluster. http://datastax.github.io/python-driver/api/cassandra/cluster.html#cassandra.cluster.Cluster.protocol_version\n",
      "WARNING:cassandra.cluster:Downgrading core protocol version from 65 to 5 for 127.0.0.1:9042. To avoid this, it is best practice to explicitly set Cluster(protocol_version) to the version supported by your cluster. http://datastax.github.io/python-driver/api/cassandra/cluster.html#cassandra.cluster.Cluster.protocol_version\n",
      "WARNING:cassandra.cluster:Downgrading core protocol version from 5 to 4 for 127.0.0.1:9042. To avoid this, it is best practice to explicitly set Cluster(protocol_version) to the version supported by your cluster. http://datastax.github.io/python-driver/api/cassandra/cluster.html#cassandra.cluster.Cluster.protocol_version\n",
      "WARNING:absl:Compiled the loaded model, but the compiled metrics have yet to be built. `model.compile_metrics` will be empty until you train or evaluate the model.\n"
     ]
    },
    {
     "name": "stdout",
     "output_type": "stream",
     "text": [
      "\u001b[1m1/1\u001b[0m \u001b[32m━━━━━━━━━━━━━━━━━━━━\u001b[0m\u001b[37m\u001b[0m \u001b[1m0s\u001b[0m 98ms/step\n"
     ]
    },
    {
     "name": "stderr",
     "output_type": "stream",
     "text": [
      "c:\\Users\\Admin\\AppData\\Local\\Programs\\Python\\Python310\\lib\\site-packages\\sklearn\\utils\\validation.py:2739: UserWarning:\n",
      "\n",
      "X does not have valid feature names, but StandardScaler was fitted with feature names\n",
      "\n",
      "WARNING:cassandra.cluster:Cluster.__init__ called with contact_points specified, but no load_balancing_policy. In the next major version, this will raise an error; please specify a load-balancing policy. (contact_points = ['127.0.0.1'], lbp = None)\n"
     ]
    },
    {
     "name": "stdout",
     "output_type": "stream",
     "text": [
      "✅ ADVANC → Ac\n"
     ]
    },
    {
     "name": "stderr",
     "output_type": "stream",
     "text": [
      "WARNING:cassandra.cluster:Downgrading core protocol version from 66 to 65 for 127.0.0.1:9042. To avoid this, it is best practice to explicitly set Cluster(protocol_version) to the version supported by your cluster. http://datastax.github.io/python-driver/api/cassandra/cluster.html#cassandra.cluster.Cluster.protocol_version\n",
      "WARNING:cassandra.cluster:Downgrading core protocol version from 65 to 5 for 127.0.0.1:9042. To avoid this, it is best practice to explicitly set Cluster(protocol_version) to the version supported by your cluster. http://datastax.github.io/python-driver/api/cassandra/cluster.html#cassandra.cluster.Cluster.protocol_version\n",
      "WARNING:cassandra.cluster:Downgrading core protocol version from 5 to 4 for 127.0.0.1:9042. To avoid this, it is best practice to explicitly set Cluster(protocol_version) to the version supported by your cluster. http://datastax.github.io/python-driver/api/cassandra/cluster.html#cassandra.cluster.Cluster.protocol_version\n",
      "WARNING:absl:Compiled the loaded model, but the compiled metrics have yet to be built. `model.compile_metrics` will be empty until you train or evaluate the model.\n"
     ]
    },
    {
     "name": "stdout",
     "output_type": "stream",
     "text": [
      "\u001b[1m1/1\u001b[0m \u001b[32m━━━━━━━━━━━━━━━━━━━━\u001b[0m\u001b[37m\u001b[0m \u001b[1m0s\u001b[0m 95ms/step\n"
     ]
    },
    {
     "name": "stderr",
     "output_type": "stream",
     "text": [
      "c:\\Users\\Admin\\AppData\\Local\\Programs\\Python\\Python310\\lib\\site-packages\\sklearn\\utils\\validation.py:2739: UserWarning:\n",
      "\n",
      "X does not have valid feature names, but StandardScaler was fitted with feature names\n",
      "\n",
      "WARNING:cassandra.cluster:Cluster.__init__ called with contact_points specified, but no load_balancing_policy. In the next major version, this will raise an error; please specify a load-balancing policy. (contact_points = ['127.0.0.1'], lbp = None)\n"
     ]
    },
    {
     "name": "stdout",
     "output_type": "stream",
     "text": [
      "✅ KBANK → Ab\n"
     ]
    },
    {
     "name": "stderr",
     "output_type": "stream",
     "text": [
      "WARNING:cassandra.cluster:Downgrading core protocol version from 66 to 65 for 127.0.0.1:9042. To avoid this, it is best practice to explicitly set Cluster(protocol_version) to the version supported by your cluster. http://datastax.github.io/python-driver/api/cassandra/cluster.html#cassandra.cluster.Cluster.protocol_version\n",
      "WARNING:cassandra.cluster:Downgrading core protocol version from 65 to 5 for 127.0.0.1:9042. To avoid this, it is best practice to explicitly set Cluster(protocol_version) to the version supported by your cluster. http://datastax.github.io/python-driver/api/cassandra/cluster.html#cassandra.cluster.Cluster.protocol_version\n",
      "WARNING:cassandra.cluster:Downgrading core protocol version from 5 to 4 for 127.0.0.1:9042. To avoid this, it is best practice to explicitly set Cluster(protocol_version) to the version supported by your cluster. http://datastax.github.io/python-driver/api/cassandra/cluster.html#cassandra.cluster.Cluster.protocol_version\n",
      "WARNING:absl:Compiled the loaded model, but the compiled metrics have yet to be built. `model.compile_metrics` will be empty until you train or evaluate the model.\n"
     ]
    },
    {
     "name": "stdout",
     "output_type": "stream",
     "text": [
      "\u001b[1m1/1\u001b[0m \u001b[32m━━━━━━━━━━━━━━━━━━━━\u001b[0m\u001b[37m\u001b[0m \u001b[1m0s\u001b[0m 106ms/step\n"
     ]
    },
    {
     "name": "stderr",
     "output_type": "stream",
     "text": [
      "c:\\Users\\Admin\\AppData\\Local\\Programs\\Python\\Python310\\lib\\site-packages\\sklearn\\utils\\validation.py:2739: UserWarning:\n",
      "\n",
      "X does not have valid feature names, but StandardScaler was fitted with feature names\n",
      "\n",
      "WARNING:cassandra.cluster:Cluster.__init__ called with contact_points specified, but no load_balancing_policy. In the next major version, this will raise an error; please specify a load-balancing policy. (contact_points = ['127.0.0.1'], lbp = None)\n"
     ]
    },
    {
     "name": "stdout",
     "output_type": "stream",
     "text": [
      "✅ TRUE → Ab\n"
     ]
    },
    {
     "name": "stderr",
     "output_type": "stream",
     "text": [
      "WARNING:cassandra.cluster:Downgrading core protocol version from 66 to 65 for 127.0.0.1:9042. To avoid this, it is best practice to explicitly set Cluster(protocol_version) to the version supported by your cluster. http://datastax.github.io/python-driver/api/cassandra/cluster.html#cassandra.cluster.Cluster.protocol_version\n",
      "WARNING:cassandra.cluster:Downgrading core protocol version from 65 to 5 for 127.0.0.1:9042. To avoid this, it is best practice to explicitly set Cluster(protocol_version) to the version supported by your cluster. http://datastax.github.io/python-driver/api/cassandra/cluster.html#cassandra.cluster.Cluster.protocol_version\n",
      "WARNING:cassandra.cluster:Downgrading core protocol version from 5 to 4 for 127.0.0.1:9042. To avoid this, it is best practice to explicitly set Cluster(protocol_version) to the version supported by your cluster. http://datastax.github.io/python-driver/api/cassandra/cluster.html#cassandra.cluster.Cluster.protocol_version\n",
      "WARNING:cassandra.cluster:Cluster.__init__ called with contact_points specified, but no load_balancing_policy. In the next major version, this will raise an error; please specify a load-balancing policy. (contact_points = ['127.0.0.1'], lbp = None)\n"
     ]
    },
    {
     "name": "stdout",
     "output_type": "stream",
     "text": [
      "❌ GULF: ❌ ไม่มีข้อมูลครบสำหรับ GULF\n"
     ]
    },
    {
     "name": "stderr",
     "output_type": "stream",
     "text": [
      "WARNING:cassandra.cluster:Downgrading core protocol version from 66 to 65 for 127.0.0.1:9042. To avoid this, it is best practice to explicitly set Cluster(protocol_version) to the version supported by your cluster. http://datastax.github.io/python-driver/api/cassandra/cluster.html#cassandra.cluster.Cluster.protocol_version\n",
      "WARNING:cassandra.cluster:Downgrading core protocol version from 65 to 5 for 127.0.0.1:9042. To avoid this, it is best practice to explicitly set Cluster(protocol_version) to the version supported by your cluster. http://datastax.github.io/python-driver/api/cassandra/cluster.html#cassandra.cluster.Cluster.protocol_version\n",
      "WARNING:cassandra.cluster:Downgrading core protocol version from 5 to 4 for 127.0.0.1:9042. To avoid this, it is best practice to explicitly set Cluster(protocol_version) to the version supported by your cluster. http://datastax.github.io/python-driver/api/cassandra/cluster.html#cassandra.cluster.Cluster.protocol_version\n",
      "WARNING:absl:Compiled the loaded model, but the compiled metrics have yet to be built. `model.compile_metrics` will be empty until you train or evaluate the model.\n"
     ]
    },
    {
     "name": "stdout",
     "output_type": "stream",
     "text": [
      "\u001b[1m1/1\u001b[0m \u001b[32m━━━━━━━━━━━━━━━━━━━━\u001b[0m\u001b[37m\u001b[0m \u001b[1m0s\u001b[0m 104ms/step\n"
     ]
    },
    {
     "name": "stderr",
     "output_type": "stream",
     "text": [
      "c:\\Users\\Admin\\AppData\\Local\\Programs\\Python\\Python310\\lib\\site-packages\\sklearn\\utils\\validation.py:2739: UserWarning:\n",
      "\n",
      "X does not have valid feature names, but StandardScaler was fitted with feature names\n",
      "\n",
      "WARNING:cassandra.cluster:Cluster.__init__ called with contact_points specified, but no load_balancing_policy. In the next major version, this will raise an error; please specify a load-balancing policy. (contact_points = ['127.0.0.1'], lbp = None)\n"
     ]
    },
    {
     "name": "stdout",
     "output_type": "stream",
     "text": [
      "✅ SCB → Ab\n"
     ]
    },
    {
     "name": "stderr",
     "output_type": "stream",
     "text": [
      "WARNING:cassandra.cluster:Downgrading core protocol version from 66 to 65 for 127.0.0.1:9042. To avoid this, it is best practice to explicitly set Cluster(protocol_version) to the version supported by your cluster. http://datastax.github.io/python-driver/api/cassandra/cluster.html#cassandra.cluster.Cluster.protocol_version\n",
      "WARNING:cassandra.cluster:Downgrading core protocol version from 65 to 5 for 127.0.0.1:9042. To avoid this, it is best practice to explicitly set Cluster(protocol_version) to the version supported by your cluster. http://datastax.github.io/python-driver/api/cassandra/cluster.html#cassandra.cluster.Cluster.protocol_version\n",
      "WARNING:cassandra.cluster:Downgrading core protocol version from 5 to 4 for 127.0.0.1:9042. To avoid this, it is best practice to explicitly set Cluster(protocol_version) to the version supported by your cluster. http://datastax.github.io/python-driver/api/cassandra/cluster.html#cassandra.cluster.Cluster.protocol_version\n",
      "WARNING:absl:Compiled the loaded model, but the compiled metrics have yet to be built. `model.compile_metrics` will be empty until you train or evaluate the model.\n"
     ]
    },
    {
     "name": "stdout",
     "output_type": "stream",
     "text": [
      "\u001b[1m1/1\u001b[0m \u001b[32m━━━━━━━━━━━━━━━━━━━━\u001b[0m\u001b[37m\u001b[0m \u001b[1m0s\u001b[0m 107ms/step\n"
     ]
    },
    {
     "name": "stderr",
     "output_type": "stream",
     "text": [
      "c:\\Users\\Admin\\AppData\\Local\\Programs\\Python\\Python310\\lib\\site-packages\\sklearn\\utils\\validation.py:2739: UserWarning:\n",
      "\n",
      "X does not have valid feature names, but StandardScaler was fitted with feature names\n",
      "\n",
      "WARNING:cassandra.cluster:Cluster.__init__ called with contact_points specified, but no load_balancing_policy. In the next major version, this will raise an error; please specify a load-balancing policy. (contact_points = ['127.0.0.1'], lbp = None)\n"
     ]
    },
    {
     "name": "stdout",
     "output_type": "stream",
     "text": [
      "✅ KTC → Ab\n"
     ]
    },
    {
     "name": "stderr",
     "output_type": "stream",
     "text": [
      "WARNING:cassandra.cluster:Downgrading core protocol version from 66 to 65 for 127.0.0.1:9042. To avoid this, it is best practice to explicitly set Cluster(protocol_version) to the version supported by your cluster. http://datastax.github.io/python-driver/api/cassandra/cluster.html#cassandra.cluster.Cluster.protocol_version\n",
      "WARNING:cassandra.cluster:Downgrading core protocol version from 65 to 5 for 127.0.0.1:9042. To avoid this, it is best practice to explicitly set Cluster(protocol_version) to the version supported by your cluster. http://datastax.github.io/python-driver/api/cassandra/cluster.html#cassandra.cluster.Cluster.protocol_version\n",
      "WARNING:cassandra.cluster:Downgrading core protocol version from 5 to 4 for 127.0.0.1:9042. To avoid this, it is best practice to explicitly set Cluster(protocol_version) to the version supported by your cluster. http://datastax.github.io/python-driver/api/cassandra/cluster.html#cassandra.cluster.Cluster.protocol_version\n",
      "WARNING:absl:Compiled the loaded model, but the compiled metrics have yet to be built. `model.compile_metrics` will be empty until you train or evaluate the model.\n"
     ]
    },
    {
     "name": "stdout",
     "output_type": "stream",
     "text": [
      "\u001b[1m1/1\u001b[0m \u001b[32m━━━━━━━━━━━━━━━━━━━━\u001b[0m\u001b[37m\u001b[0m \u001b[1m0s\u001b[0m 100ms/step"
     ]
    },
    {
     "name": "stderr",
     "output_type": "stream",
     "text": [
      "c:\\Users\\Admin\\AppData\\Local\\Programs\\Python\\Python310\\lib\\site-packages\\sklearn\\utils\\validation.py:2739: UserWarning:\n",
      "\n",
      "X does not have valid feature names, but StandardScaler was fitted with feature names\n",
      "\n"
     ]
    },
    {
     "name": "stdout",
     "output_type": "stream",
     "text": [
      "\u001b[1m1/1\u001b[0m \u001b[32m━━━━━━━━━━━━━━━━━━━━\u001b[0m\u001b[37m\u001b[0m \u001b[1m0s\u001b[0m 141ms/step\n"
     ]
    },
    {
     "name": "stderr",
     "output_type": "stream",
     "text": [
      "WARNING:cassandra.cluster:Cluster.__init__ called with contact_points specified, but no load_balancing_policy. In the next major version, this will raise an error; please specify a load-balancing policy. (contact_points = ['127.0.0.1'], lbp = None)\n"
     ]
    },
    {
     "name": "stdout",
     "output_type": "stream",
     "text": [
      "✅ KTB → Ac\n"
     ]
    },
    {
     "name": "stderr",
     "output_type": "stream",
     "text": [
      "WARNING:cassandra.cluster:Downgrading core protocol version from 66 to 65 for 127.0.0.1:9042. To avoid this, it is best practice to explicitly set Cluster(protocol_version) to the version supported by your cluster. http://datastax.github.io/python-driver/api/cassandra/cluster.html#cassandra.cluster.Cluster.protocol_version\n",
      "WARNING:cassandra.cluster:Downgrading core protocol version from 65 to 5 for 127.0.0.1:9042. To avoid this, it is best practice to explicitly set Cluster(protocol_version) to the version supported by your cluster. http://datastax.github.io/python-driver/api/cassandra/cluster.html#cassandra.cluster.Cluster.protocol_version\n",
      "WARNING:cassandra.cluster:Downgrading core protocol version from 5 to 4 for 127.0.0.1:9042. To avoid this, it is best practice to explicitly set Cluster(protocol_version) to the version supported by your cluster. http://datastax.github.io/python-driver/api/cassandra/cluster.html#cassandra.cluster.Cluster.protocol_version\n",
      "WARNING:absl:Compiled the loaded model, but the compiled metrics have yet to be built. `model.compile_metrics` will be empty until you train or evaluate the model.\n",
      "c:\\Users\\Admin\\AppData\\Local\\Programs\\Python\\Python310\\lib\\site-packages\\sklearn\\utils\\validation.py:2739: UserWarning:\n",
      "\n",
      "X does not have valid feature names, but StandardScaler was fitted with feature names\n",
      "\n"
     ]
    },
    {
     "name": "stdout",
     "output_type": "stream",
     "text": [
      "\u001b[1m1/1\u001b[0m \u001b[32m━━━━━━━━━━━━━━━━━━━━\u001b[0m\u001b[37m\u001b[0m \u001b[1m0s\u001b[0m 144ms/step\n",
      "✅ CPALL → Ab\n",
      "\n",
      "📊 ผลการทำนายทั้งหมด:\n"
     ]
    },
    {
     "data": {
      "text/html": [
       "<div>\n",
       "<style scoped>\n",
       "    .dataframe tbody tr th:only-of-type {\n",
       "        vertical-align: middle;\n",
       "    }\n",
       "\n",
       "    .dataframe tbody tr th {\n",
       "        vertical-align: top;\n",
       "    }\n",
       "\n",
       "    .dataframe thead th {\n",
       "        text-align: right;\n",
       "    }\n",
       "</style>\n",
       "<table border=\"1\" class=\"dataframe\">\n",
       "  <thead>\n",
       "    <tr style=\"text-align: right;\">\n",
       "      <th></th>\n",
       "      <th>Symbol</th>\n",
       "      <th>Quadrant</th>\n",
       "      <th>eps</th>\n",
       "      <th>pe</th>\n",
       "      <th>pbv</th>\n",
       "      <th>percentyield</th>\n",
       "      <th>marketcap</th>\n",
       "      <th>close_price</th>\n",
       "      <th>ema5</th>\n",
       "      <th>ema15</th>\n",
       "      <th>ema35</th>\n",
       "      <th>rsi</th>\n",
       "    </tr>\n",
       "  </thead>\n",
       "  <tbody>\n",
       "    <tr>\n",
       "      <th>0</th>\n",
       "      <td>DELTA</td>\n",
       "      <td>Ac</td>\n",
       "      <td>0.81</td>\n",
       "      <td>100.50</td>\n",
       "      <td>21.75</td>\n",
       "      <td>0.31</td>\n",
       "      <td>5.194120e+08</td>\n",
       "      <td>109.00</td>\n",
       "      <td>108.85</td>\n",
       "      <td>107.59</td>\n",
       "      <td>106.02</td>\n",
       "      <td>58.73</td>\n",
       "    </tr>\n",
       "    <tr>\n",
       "      <th>1</th>\n",
       "      <td>PTT</td>\n",
       "      <td>Ad</td>\n",
       "      <td>1.57</td>\n",
       "      <td>12.86</td>\n",
       "      <td>0.80</td>\n",
       "      <td>6.62</td>\n",
       "      <td>1.744858e+09</td>\n",
       "      <td>34.75</td>\n",
       "      <td>35.07</td>\n",
       "      <td>35.33</td>\n",
       "      <td>34.93</td>\n",
       "      <td>30.77</td>\n",
       "    </tr>\n",
       "    <tr>\n",
       "      <th>2</th>\n",
       "      <td>AOT</td>\n",
       "      <td>Ab</td>\n",
       "      <td>1.00</td>\n",
       "      <td>29.10</td>\n",
       "      <td>4.25</td>\n",
       "      <td>2.09</td>\n",
       "      <td>1.266002e+09</td>\n",
       "      <td>72.00</td>\n",
       "      <td>72.39</td>\n",
       "      <td>71.91</td>\n",
       "      <td>71.51</td>\n",
       "      <td>59.26</td>\n",
       "    </tr>\n",
       "    <tr>\n",
       "      <th>3</th>\n",
       "      <td>ADVANC</td>\n",
       "      <td>Ac</td>\n",
       "      <td>7.25</td>\n",
       "      <td>21.85</td>\n",
       "      <td>8.51</td>\n",
       "      <td>3.65</td>\n",
       "      <td>9.322627e+08</td>\n",
       "      <td>213.00</td>\n",
       "      <td>215.24</td>\n",
       "      <td>217.95</td>\n",
       "      <td>218.91</td>\n",
       "      <td>31.82</td>\n",
       "    </tr>\n",
       "    <tr>\n",
       "      <th>4</th>\n",
       "      <td>KBANK</td>\n",
       "      <td>Ab</td>\n",
       "      <td>5.67</td>\n",
       "      <td>8.09</td>\n",
       "      <td>0.68</td>\n",
       "      <td>7.19</td>\n",
       "      <td>8.519348e+08</td>\n",
       "      <td>130.50</td>\n",
       "      <td>130.65</td>\n",
       "      <td>130.06</td>\n",
       "      <td>129.43</td>\n",
       "      <td>62.07</td>\n",
       "    </tr>\n",
       "    <tr>\n",
       "      <th>5</th>\n",
       "      <td>TRUE</td>\n",
       "      <td>Ab</td>\n",
       "      <td>0.11</td>\n",
       "      <td>0.00</td>\n",
       "      <td>5.08</td>\n",
       "      <td>0.00</td>\n",
       "      <td>8.345208e+08</td>\n",
       "      <td>8.70</td>\n",
       "      <td>8.54</td>\n",
       "      <td>8.43</td>\n",
       "      <td>8.20</td>\n",
       "      <td>52.38</td>\n",
       "    </tr>\n",
       "    <tr>\n",
       "      <th>6</th>\n",
       "      <td>SCB</td>\n",
       "      <td>Ab</td>\n",
       "      <td>7.51</td>\n",
       "      <td>9.03</td>\n",
       "      <td>0.90</td>\n",
       "      <td>8.12</td>\n",
       "      <td>7.943464e+08</td>\n",
       "      <td>118.50</td>\n",
       "      <td>117.80</td>\n",
       "      <td>116.09</td>\n",
       "      <td>113.50</td>\n",
       "      <td>76.19</td>\n",
       "    </tr>\n",
       "    <tr>\n",
       "      <th>7</th>\n",
       "      <td>KTC</td>\n",
       "      <td>Ab</td>\n",
       "      <td>1.46</td>\n",
       "      <td>9.46</td>\n",
       "      <td>1.78</td>\n",
       "      <td>4.76</td>\n",
       "      <td>2.434419e+08</td>\n",
       "      <td>47.00</td>\n",
       "      <td>47.87</td>\n",
       "      <td>47.60</td>\n",
       "      <td>47.57</td>\n",
       "      <td>55.56</td>\n",
       "    </tr>\n",
       "    <tr>\n",
       "      <th>8</th>\n",
       "      <td>KTB</td>\n",
       "      <td>Ac</td>\n",
       "      <td>0.84</td>\n",
       "      <td>7.54</td>\n",
       "      <td>0.74</td>\n",
       "      <td>6.44</td>\n",
       "      <td>8.139685e+08</td>\n",
       "      <td>19.00</td>\n",
       "      <td>19.28</td>\n",
       "      <td>19.52</td>\n",
       "      <td>19.64</td>\n",
       "      <td>35.48</td>\n",
       "    </tr>\n",
       "    <tr>\n",
       "      <th>9</th>\n",
       "      <td>CPALL</td>\n",
       "      <td>Ab</td>\n",
       "      <td>1.57</td>\n",
       "      <td>14.91</td>\n",
       "      <td>3.18</td>\n",
       "      <td>3.00</td>\n",
       "      <td>1.141302e+09</td>\n",
       "      <td>64.50</td>\n",
       "      <td>64.99</td>\n",
       "      <td>64.30</td>\n",
       "      <td>63.45</td>\n",
       "      <td>67.86</td>\n",
       "    </tr>\n",
       "  </tbody>\n",
       "</table>\n",
       "</div>"
      ],
      "text/plain": [
       "   Symbol Quadrant   eps      pe    pbv  percentyield     marketcap  \\\n",
       "0   DELTA       Ac  0.81  100.50  21.75          0.31  5.194120e+08   \n",
       "1     PTT       Ad  1.57   12.86   0.80          6.62  1.744858e+09   \n",
       "2     AOT       Ab  1.00   29.10   4.25          2.09  1.266002e+09   \n",
       "3  ADVANC       Ac  7.25   21.85   8.51          3.65  9.322627e+08   \n",
       "4   KBANK       Ab  5.67    8.09   0.68          7.19  8.519348e+08   \n",
       "5    TRUE       Ab  0.11    0.00   5.08          0.00  8.345208e+08   \n",
       "6     SCB       Ab  7.51    9.03   0.90          8.12  7.943464e+08   \n",
       "7     KTC       Ab  1.46    9.46   1.78          4.76  2.434419e+08   \n",
       "8     KTB       Ac  0.84    7.54   0.74          6.44  8.139685e+08   \n",
       "9   CPALL       Ab  1.57   14.91   3.18          3.00  1.141302e+09   \n",
       "\n",
       "   close_price    ema5   ema15   ema35    rsi  \n",
       "0       109.00  108.85  107.59  106.02  58.73  \n",
       "1        34.75   35.07   35.33   34.93  30.77  \n",
       "2        72.00   72.39   71.91   71.51  59.26  \n",
       "3       213.00  215.24  217.95  218.91  31.82  \n",
       "4       130.50  130.65  130.06  129.43  62.07  \n",
       "5         8.70    8.54    8.43    8.20  52.38  \n",
       "6       118.50  117.80  116.09  113.50  76.19  \n",
       "7        47.00   47.87   47.60   47.57  55.56  \n",
       "8        19.00   19.28   19.52   19.64  35.48  \n",
       "9        64.50   64.99   64.30   63.45  67.86  "
      ]
     },
     "metadata": {},
     "output_type": "display_data"
    },
    {
     "name": "stderr",
     "output_type": "stream",
     "text": [
      "WARNING:cassandra.connection:Heartbeat failed for connection (2135200603712) to 127.0.0.1:9042\n",
      "WARNING:cassandra.cluster:Host 127.0.0.1:9042 has been marked down\n",
      "WARNING:cassandra.connection:Heartbeat failed for connection (2135194591360) to 127.0.0.1:9042\n",
      "WARNING:cassandra.cluster:Host 127.0.0.1:9042 has been marked down\n",
      "WARNING:cassandra.cluster:[control connection] Error connecting to 127.0.0.1:9042:\n",
      "Traceback (most recent call last):\n",
      "  File \"c:\\Users\\Admin\\AppData\\Local\\Programs\\Python\\Python310\\lib\\site-packages\\cassandra\\cluster.py\", line 3577, in _reconnect_internal\n",
      "    return self._try_connect(host)\n",
      "  File \"c:\\Users\\Admin\\AppData\\Local\\Programs\\Python\\Python310\\lib\\site-packages\\cassandra\\cluster.py\", line 3599, in _try_connect\n",
      "    connection = self._cluster.connection_factory(host.endpoint, is_control_connection=True)\n",
      "  File \"c:\\Users\\Admin\\AppData\\Local\\Programs\\Python\\Python310\\lib\\site-packages\\cassandra\\cluster.py\", line 1670, in connection_factory\n",
      "    return self.connection_class.factory(endpoint, self.connect_timeout, *args, **kwargs)\n",
      "  File \"c:\\Users\\Admin\\AppData\\Local\\Programs\\Python\\Python310\\lib\\site-packages\\cassandra\\connection.py\", line 846, in factory\n",
      "    conn = cls(endpoint, *args, **kwargs)\n",
      "  File \"c:\\Users\\Admin\\AppData\\Local\\Programs\\Python\\Python310\\lib\\site-packages\\cassandra\\io\\asyncorereactor.py\", line 353, in __init__\n",
      "    self._connect_socket()\n",
      "  File \"c:\\Users\\Admin\\AppData\\Local\\Programs\\Python\\Python310\\lib\\site-packages\\cassandra\\connection.py\", line 951, in _connect_socket\n",
      "    raise socket.error(sockerr.errno, \"Tried connecting to %s. Last error: %s\" %\n",
      "ConnectionRefusedError: [Errno 10061] Tried connecting to [('127.0.0.1', 9042)]. Last error: No connection could be made because the target machine actively refused it\n",
      "WARNING:cassandra.pool:Error attempting to reconnect to 127.0.0.1:9042, scheduling retry in 1.82 seconds: [Errno 10061] Tried connecting to [('127.0.0.1', 9042)]. Last error: No connection could be made because the target machine actively refused it\n",
      "WARNING:cassandra.cluster:[control connection] Error connecting to 127.0.0.1:9042:\n",
      "Traceback (most recent call last):\n",
      "  File \"c:\\Users\\Admin\\AppData\\Local\\Programs\\Python\\Python310\\lib\\site-packages\\cassandra\\cluster.py\", line 3577, in _reconnect_internal\n",
      "    return self._try_connect(host)\n",
      "  File \"c:\\Users\\Admin\\AppData\\Local\\Programs\\Python\\Python310\\lib\\site-packages\\cassandra\\cluster.py\", line 3599, in _try_connect\n",
      "    connection = self._cluster.connection_factory(host.endpoint, is_control_connection=True)\n",
      "  File \"c:\\Users\\Admin\\AppData\\Local\\Programs\\Python\\Python310\\lib\\site-packages\\cassandra\\cluster.py\", line 1670, in connection_factory\n",
      "    return self.connection_class.factory(endpoint, self.connect_timeout, *args, **kwargs)\n",
      "  File \"c:\\Users\\Admin\\AppData\\Local\\Programs\\Python\\Python310\\lib\\site-packages\\cassandra\\connection.py\", line 846, in factory\n",
      "    conn = cls(endpoint, *args, **kwargs)\n",
      "  File \"c:\\Users\\Admin\\AppData\\Local\\Programs\\Python\\Python310\\lib\\site-packages\\cassandra\\io\\asyncorereactor.py\", line 353, in __init__\n",
      "    self._connect_socket()\n",
      "  File \"c:\\Users\\Admin\\AppData\\Local\\Programs\\Python\\Python310\\lib\\site-packages\\cassandra\\connection.py\", line 951, in _connect_socket\n",
      "    raise socket.error(sockerr.errno, \"Tried connecting to %s. Last error: %s\" %\n",
      "ConnectionRefusedError: [Errno 10061] Tried connecting to [('127.0.0.1', 9042)]. Last error: No connection could be made because the target machine actively refused it\n",
      "WARNING:cassandra.pool:Error attempting to reconnect to 127.0.0.1:9042, scheduling retry in 2.08 seconds: [Errno 10061] Tried connecting to [('127.0.0.1', 9042)]. Last error: No connection could be made because the target machine actively refused it\n"
     ]
    }
   ],
   "source": [
    "# ============================================================\n",
    "# 🔰 Predict Multiple Stocks and Combine into DataFrame\n",
    "# ============================================================\n",
    "\n",
    "import pandas as pd\n",
    "\n",
    "# สมมติว่าคุณมีฟังก์ชันนี้จากขั้นตอนก่อนหน้าแล้ว\n",
    "# def predict_quadrant(symbol): -> return quadrant, input_data\n",
    "\n",
    "# -----------------------------\n",
    "# 1. รายชื่อหุ้นที่ต้องการทำนาย\n",
    "# -----------------------------\n",
    "symbols = [\"DELTA\", \"PTT\", \"AOT\", \"ADVANC\", \"KBANK\", \n",
    "           \"TRUE\", \"GULF\", \"SCB\", \"KTC\", \"KTB\", \"CPALL\"]\n",
    "\n",
    "# -----------------------------\n",
    "# 2. วนลูปทำนายหุ้นแต่ละตัว\n",
    "# -----------------------------\n",
    "results = []\n",
    "for sym in symbols:\n",
    "    try:\n",
    "        quadrant, data_used = predict_quadrant(sym)\n",
    "        row = {\"Symbol\": sym, \"Quadrant\": quadrant}\n",
    "        row.update(data_used)  # รวมฟีเจอร์ที่ใช้ในการทำนาย (optional)\n",
    "        results.append(row)\n",
    "        print(f\"✅ {sym} → {quadrant}\")\n",
    "    except Exception as e:\n",
    "        print(f\"❌ {sym}: {e}\")\n",
    "\n",
    "# -----------------------------\n",
    "# 3. รวมผลเป็น DataFrame\n",
    "# -----------------------------\n",
    "df_pred = pd.DataFrame(results)\n",
    "\n",
    "# แสดงเฉพาะคอลัมน์สำคัญ\n",
    "cols_show = [\"Symbol\", \"Quadrant\", \"eps\", \"pe\", \"pbv\", \"percentyield\", \n",
    "             \"marketcap\", \"close_price\", \"ema5\", \"ema15\", \"ema35\", \"rsi\"]\n",
    "df_show = df_pred[cols_show].round(2)\n",
    "\n",
    "print(\"\\n📊 ผลการทำนายทั้งหมด:\")\n",
    "display(df_show)\n"
   ]
  }
 ],
 "metadata": {
  "kernelspec": {
   "display_name": "Python 3",
   "language": "python",
   "name": "python3"
  },
  "language_info": {
   "codemirror_mode": {
    "name": "ipython",
    "version": 3
   },
   "file_extension": ".py",
   "mimetype": "text/x-python",
   "name": "python",
   "nbconvert_exporter": "python",
   "pygments_lexer": "ipython3",
   "version": "3.10.0"
  }
 },
 "nbformat": 4,
 "nbformat_minor": 5
}
