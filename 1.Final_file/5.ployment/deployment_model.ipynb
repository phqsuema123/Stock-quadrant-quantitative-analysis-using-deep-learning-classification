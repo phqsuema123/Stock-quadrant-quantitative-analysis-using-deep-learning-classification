{
 "cells": [
  {
   "cell_type": "code",
   "execution_count": 1,
   "id": "15873893",
   "metadata": {},
   "outputs": [
    {
     "name": "stderr",
     "output_type": "stream",
     "text": [
      "WARNING:absl:Compiled the loaded model, but the compiled metrics have yet to be built. `model.compile_metrics` will be empty until you train or evaluate the model.\n",
      "c:\\Users\\Admin\\AppData\\Local\\Programs\\Python\\Python310\\lib\\site-packages\\sklearn\\base.py:442: InconsistentVersionWarning: Trying to unpickle estimator StandardScaler from version 1.6.1 when using version 1.7.2. This might lead to breaking code or invalid results. Use at your own risk. For more info please refer to:\n",
      "https://scikit-learn.org/stable/model_persistence.html#security-maintainability-limitations\n",
      "  warnings.warn(\n",
      "c:\\Users\\Admin\\AppData\\Local\\Programs\\Python\\Python310\\lib\\site-packages\\sklearn\\base.py:442: InconsistentVersionWarning: Trying to unpickle estimator LabelEncoder from version 1.6.1 when using version 1.7.2. This might lead to breaking code or invalid results. Use at your own risk. For more info please refer to:\n",
      "https://scikit-learn.org/stable/model_persistence.html#security-maintainability-limitations\n",
      "  warnings.warn(\n",
      "c:\\Users\\Admin\\AppData\\Local\\Programs\\Python\\Python310\\lib\\site-packages\\sklearn\\utils\\validation.py:2749: UserWarning: X does not have valid feature names, but StandardScaler was fitted with feature names\n",
      "  warnings.warn(\n"
     ]
    },
    {
     "name": "stdout",
     "output_type": "stream",
     "text": [
      "\u001b[1m1/1\u001b[0m \u001b[32m━━━━━━━━━━━━━━━━━━━━\u001b[0m\u001b[37m\u001b[0m \u001b[1m0s\u001b[0m 295ms/step\n",
      "\n",
      "✅ หุ้น AOT อยู่ใน Quadrant → Ab\n",
      "\n",
      "📊 ข้อมูลที่ใช้ในการวิเคราะห์:\n",
      "  eps            : 1.00\n",
      "  pe             : 29.10\n",
      "  pbv            : 4.25\n",
      "  percentyield   : 2.09\n",
      "  marketcap      : 1266001848.00\n",
      "  close_price    : 72.00\n",
      "  high_price     : 73.00\n",
      "  low_price      : 72.00\n",
      "  open_price     : 72.75\n",
      "  value          : 0.00\n",
      "  ema5           : 72.39\n",
      "  ema15          : 71.91\n",
      "  ema35          : 71.51\n",
      "  ema89          : 71.55\n",
      "  ema200         : 71.91\n",
      "  rsi            : 59.26\n"
     ]
    },
    {
     "name": "stderr",
     "output_type": "stream",
     "text": [
      "ERROR:cassandra.connection:Closing connection <AsyncoreConnection(2081518373760) 127.0.0.1:9042> due to protocol error: Error from server: code=000a [Protocol error] message=\"Beta version of the protocol used (5/v5-beta), but USE_BETA flag is unset\"\n",
      "ERROR:cassandra.connection:Closing connection <AsyncoreConnection(2082517756240) 127.0.0.1:9042> due to protocol error: Error from server: code=000a [Protocol error] message=\"Beta version of the protocol used (5/v5-beta), but USE_BETA flag is unset\"\n",
      "ERROR:cassandra.connection:Closing connection <AsyncoreConnection(2082519249776) 127.0.0.1:9042> due to protocol error: Error from server: code=000a [Protocol error] message=\"Beta version of the protocol used (5/v5-beta), but USE_BETA flag is unset\"\n",
      "ERROR:cassandra.connection:Closing connection <AsyncoreConnection(2082537306672) 127.0.0.1:9042> due to protocol error: Error from server: code=000a [Protocol error] message=\"Beta version of the protocol used (5/v5-beta), but USE_BETA flag is unset\"\n",
      "ERROR:cassandra.connection:Closing connection <AsyncoreConnection(2082538861760) 127.0.0.1:9042> due to protocol error: Error from server: code=000a [Protocol error] message=\"Beta version of the protocol used (5/v5-beta), but USE_BETA flag is unset\"\n",
      "ERROR:cassandra.connection:Closing connection <AsyncoreConnection(2082540424256) 127.0.0.1:9042> due to protocol error: Error from server: code=000a [Protocol error] message=\"Beta version of the protocol used (5/v5-beta), but USE_BETA flag is unset\"\n",
      "ERROR:cassandra.connection:Closing connection <AsyncoreConnection(2082541941232) 127.0.0.1:9042> due to protocol error: Error from server: code=000a [Protocol error] message=\"Beta version of the protocol used (5/v5-beta), but USE_BETA flag is unset\"\n",
      "ERROR:cassandra.connection:Closing connection <AsyncoreConnection(2082542296880) 127.0.0.1:9042> due to protocol error: Error from server: code=000a [Protocol error] message=\"Beta version of the protocol used (5/v5-beta), but USE_BETA flag is unset\"\n",
      "ERROR:cassandra.connection:Closing connection <AsyncoreConnection(2082542490368) 127.0.0.1:9042> due to protocol error: Error from server: code=000a [Protocol error] message=\"Beta version of the protocol used (5/v5-beta), but USE_BETA flag is unset\"\n",
      "ERROR:cassandra.connection:Closing connection <AsyncoreConnection(2082545391536) 127.0.0.1:9042> due to protocol error: Error from server: code=000a [Protocol error] message=\"Beta version of the protocol used (5/v5-beta), but USE_BETA flag is unset\"\n",
      "ERROR:cassandra.connection:Closing connection <AsyncoreConnection(2082546756544) 127.0.0.1:9042> due to protocol error: Error from server: code=000a [Protocol error] message=\"Beta version of the protocol used (5/v5-beta), but USE_BETA flag is unset\"\n"
     ]
    }
   ],
   "source": [
    "# ============================================================\n",
    "# 🔰 Deployment: Predict Quadrant (Cassandra + Auto Compute Indicators + Marketcap)\n",
    "# ============================================================\n",
    "\n",
    "from cassandra.cluster import Cluster\n",
    "import pandas as pd\n",
    "import numpy as np\n",
    "import joblib\n",
    "from tensorflow.keras.models import load_model\n",
    "\n",
    "# -----------------------------\n",
    "# 1. Connect Cassandra (Local)\n",
    "# -----------------------------\n",
    "def connect_cassandra():\n",
    "    cluster = Cluster(['127.0.0.1'])\n",
    "    session = cluster.connect()\n",
    "    session.set_keyspace('data_stock')  # 👈 ตั้ง keyspace ให้ตรงกับที่คุณสร้างไว้\n",
    "    return session\n",
    "\n",
    "\n",
    "# -----------------------------\n",
    "# 2. ดึงข้อมูลจาก Cassandra\n",
    "# -----------------------------\n",
    "def get_stock_data(session, symbol):\n",
    "    # ข้อมูลราคาหลัก\n",
    "    q_price = f\"\"\"\n",
    "        SELECT time, close_price, high_price, low_price, open_price, value\n",
    "        FROM candlestick_data\n",
    "        WHERE symbol='{symbol}'\n",
    "        LIMIT 300;\n",
    "    \"\"\"\n",
    "    # ข้อมูล volume สำหรับคำนวณ marketcap\n",
    "    q_vol = f\"\"\"\n",
    "        SELECT time, volume\n",
    "        FROM candlestick1_1068_data\n",
    "        WHERE symbol='{symbol}'\n",
    "        LIMIT 300;\n",
    "    \"\"\"\n",
    "    # ข้อมูลพื้นฐาน\n",
    "    q_fund = f\"\"\"\n",
    "        SELECT eps, pe, pbv, percentyield\n",
    "        FROM financal_data_fromsettradeAPI\n",
    "        WHERE symbol='{symbol}'\n",
    "        LIMIT 1;\n",
    "    \"\"\"\n",
    "\n",
    "    df_price = pd.DataFrame(session.execute(q_price).all())\n",
    "    df_vol = pd.DataFrame(session.execute(q_vol).all())\n",
    "    fund = session.execute(q_fund).one()\n",
    "\n",
    "    if df_price.empty or df_vol.empty or not fund:\n",
    "        raise ValueError(f\"❌ ไม่มีข้อมูลครบสำหรับ {symbol}\")\n",
    "\n",
    "    df_price = df_price.sort_values(\"time\")\n",
    "    df_vol = df_vol.sort_values(\"time\")\n",
    "\n",
    "    # รวม price + volume ตามเวลา\n",
    "    df = pd.merge(df_price, df_vol, on=\"time\", how=\"inner\")\n",
    "    df[\"marketcap\"] = df[\"close_price\"] * df[\"volume\"]\n",
    "\n",
    "    return df, fund._asdict()\n",
    "\n",
    "\n",
    "# -----------------------------\n",
    "# 3. คำนวณ EMA และ RSI\n",
    "# -----------------------------\n",
    "def compute_indicators(df):\n",
    "    # EMA หลายช่วงเวลา\n",
    "    df[\"ema5\"] = df[\"close_price\"].ewm(span=5, adjust=False).mean()\n",
    "    df[\"ema15\"] = df[\"close_price\"].ewm(span=15, adjust=False).mean()\n",
    "    df[\"ema35\"] = df[\"close_price\"].ewm(span=35, adjust=False).mean()\n",
    "    df[\"ema89\"] = df[\"close_price\"].ewm(span=89, adjust=False).mean()\n",
    "    df[\"ema200\"] = df[\"close_price\"].ewm(span=200, adjust=False).mean()\n",
    "\n",
    "    # RSI 14\n",
    "    delta = df[\"close_price\"].diff()\n",
    "    gain = delta.clip(lower=0)\n",
    "    loss = -delta.clip(upper=0)\n",
    "    avg_gain = gain.rolling(window=14).mean()\n",
    "    avg_loss = loss.rolling(window=14).mean()\n",
    "    rs = avg_gain / avg_loss\n",
    "    df[\"rsi\"] = 100 - (100 / (1 + rs))\n",
    "\n",
    "    df = df.dropna().reset_index(drop=True)\n",
    "    return df\n",
    "\n",
    "\n",
    "# -----------------------------\n",
    "# 4. ทำนาย Quadrant ด้วย Deep Learning\n",
    "# -----------------------------\n",
    "def predict_quadrant(symbol):\n",
    "    session = connect_cassandra()\n",
    "    df, fund_data = get_stock_data(session, symbol)\n",
    "    df = compute_indicators(df)\n",
    "\n",
    "    # ใช้ข้อมูลล่าสุด (แถวสุดท้าย)\n",
    "    last = df.iloc[-1]\n",
    "\n",
    "    input_data = {\n",
    "        **fund_data,\n",
    "        \"marketcap\": last[\"marketcap\"],\n",
    "        \"close_price\": last[\"close_price\"],\n",
    "        \"high_price\": last[\"high_price\"],\n",
    "        \"low_price\": last[\"low_price\"],\n",
    "        \"open_price\": last[\"open_price\"],\n",
    "        \"value\": last[\"value\"],\n",
    "        \"ema5\": last[\"ema5\"],\n",
    "        \"ema15\": last[\"ema15\"],\n",
    "        \"ema35\": last[\"ema35\"],\n",
    "        \"ema89\": last[\"ema89\"],\n",
    "        \"ema200\": last[\"ema200\"],\n",
    "        \"rsi\": last[\"rsi\"]\n",
    "    }\n",
    "\n",
    "    # เรียงฟีเจอร์ให้ตรงกับที่เทรนโมเดล\n",
    "    features = [\"eps\", \"pe\", \"pbv\", \"percentyield\", \"marketcap\",\n",
    "                \"close_price\", \"high_price\", \"low_price\", \"open_price\",\n",
    "                \"value\", \"ema5\", \"ema15\", \"ema35\", \"ema89\", \"ema200\", \"rsi\"]\n",
    "\n",
    "    X = np.array([[input_data[f] for f in features]])\n",
    "\n",
    "    # โหลดโมเดลและเครื่องมือ\n",
    "    deep_model = load_model(\"deep_quadrant_model.h5\")\n",
    "    scaler = joblib.load(\"scaler.pkl\")\n",
    "    le = joblib.load(\"label_encoder.pkl\")\n",
    "\n",
    "    # สเกลข้อมูล\n",
    "    X_scaled = scaler.transform(X)\n",
    "    y_pred = deep_model.predict(X_scaled)\n",
    "    y_class = np.argmax(y_pred, axis=1)\n",
    "    quadrant = le.inverse_transform(y_class)[0]\n",
    "\n",
    "    return quadrant, input_data\n",
    "\n",
    "\n",
    "# -----------------------------\n",
    "# 5. ทดสอบระบบ\n",
    "# -----------------------------\n",
    "try:\n",
    "    symbol = input(\"🔎 พิมพ์ชื่อหุ้น (เช่น AOT): \").upper()\n",
    "    quadrant, used_data = predict_quadrant(symbol)\n",
    "\n",
    "    print(f\"\\n✅ หุ้น {symbol} อยู่ใน Quadrant → {quadrant}\")\n",
    "    print(\"\\n📊 ข้อมูลที่ใช้ในการวิเคราะห์:\")\n",
    "    for k, v in used_data.items():\n",
    "        print(f\"  {k:15s}: {v:.2f}\")\n",
    "\n",
    "except Exception as e:\n",
    "    print(\"❌ เกิดข้อผิดพลาด:\", e)\n"
   ]
  },
  {
   "cell_type": "code",
   "execution_count": 2,
   "id": "828672f8",
   "metadata": {},
   "outputs": [
    {
     "name": "stderr",
     "output_type": "stream",
     "text": [
      "WARNING:cassandra.cluster:Cluster.__init__ called with contact_points specified, but no load_balancing_policy. In the next major version, this will raise an error; please specify a load-balancing policy. (contact_points = ['127.0.0.1'], lbp = None)\n",
      "WARNING:cassandra.cluster:Downgrading core protocol version from 66 to 65 for 127.0.0.1:9042. To avoid this, it is best practice to explicitly set Cluster(protocol_version) to the version supported by your cluster. http://datastax.github.io/python-driver/api/cassandra/cluster.html#cassandra.cluster.Cluster.protocol_version\n",
      "WARNING:cassandra.cluster:Downgrading core protocol version from 65 to 5 for 127.0.0.1:9042. To avoid this, it is best practice to explicitly set Cluster(protocol_version) to the version supported by your cluster. http://datastax.github.io/python-driver/api/cassandra/cluster.html#cassandra.cluster.Cluster.protocol_version\n",
      "WARNING:cassandra.cluster:Downgrading core protocol version from 5 to 4 for 127.0.0.1:9042. To avoid this, it is best practice to explicitly set Cluster(protocol_version) to the version supported by your cluster. http://datastax.github.io/python-driver/api/cassandra/cluster.html#cassandra.cluster.Cluster.protocol_version\n",
      "WARNING:absl:Compiled the loaded model, but the compiled metrics have yet to be built. `model.compile_metrics` will be empty until you train or evaluate the model.\n",
      "c:\\Users\\Admin\\AppData\\Local\\Programs\\Python\\Python310\\lib\\site-packages\\sklearn\\base.py:442: InconsistentVersionWarning: Trying to unpickle estimator StandardScaler from version 1.6.1 when using version 1.7.2. This might lead to breaking code or invalid results. Use at your own risk. For more info please refer to:\n",
      "https://scikit-learn.org/stable/model_persistence.html#security-maintainability-limitations\n",
      "  warnings.warn(\n",
      "c:\\Users\\Admin\\AppData\\Local\\Programs\\Python\\Python310\\lib\\site-packages\\sklearn\\base.py:442: InconsistentVersionWarning: Trying to unpickle estimator LabelEncoder from version 1.6.1 when using version 1.7.2. This might lead to breaking code or invalid results. Use at your own risk. For more info please refer to:\n",
      "https://scikit-learn.org/stable/model_persistence.html#security-maintainability-limitations\n",
      "  warnings.warn(\n",
      "c:\\Users\\Admin\\AppData\\Local\\Programs\\Python\\Python310\\lib\\site-packages\\sklearn\\utils\\validation.py:2749: UserWarning: X does not have valid feature names, but StandardScaler was fitted with feature names\n",
      "  warnings.warn(\n"
     ]
    },
    {
     "name": "stdout",
     "output_type": "stream",
     "text": [
      "\u001b[1m1/1\u001b[0m \u001b[32m━━━━━━━━━━━━━━━━━━━━\u001b[0m\u001b[37m\u001b[0m \u001b[1m0s\u001b[0m 282ms/step\n"
     ]
    },
    {
     "name": "stderr",
     "output_type": "stream",
     "text": [
      "WARNING:cassandra.cluster:Cluster.__init__ called with contact_points specified, but no load_balancing_policy. In the next major version, this will raise an error; please specify a load-balancing policy. (contact_points = ['127.0.0.1'], lbp = None)\n"
     ]
    },
    {
     "name": "stdout",
     "output_type": "stream",
     "text": [
      "✅ DELTA → Ac\n"
     ]
    },
    {
     "name": "stderr",
     "output_type": "stream",
     "text": [
      "WARNING:cassandra.cluster:Downgrading core protocol version from 66 to 65 for 127.0.0.1:9042. To avoid this, it is best practice to explicitly set Cluster(protocol_version) to the version supported by your cluster. http://datastax.github.io/python-driver/api/cassandra/cluster.html#cassandra.cluster.Cluster.protocol_version\n",
      "WARNING:cassandra.cluster:Downgrading core protocol version from 65 to 5 for 127.0.0.1:9042. To avoid this, it is best practice to explicitly set Cluster(protocol_version) to the version supported by your cluster. http://datastax.github.io/python-driver/api/cassandra/cluster.html#cassandra.cluster.Cluster.protocol_version\n",
      "WARNING:cassandra.cluster:Downgrading core protocol version from 5 to 4 for 127.0.0.1:9042. To avoid this, it is best practice to explicitly set Cluster(protocol_version) to the version supported by your cluster. http://datastax.github.io/python-driver/api/cassandra/cluster.html#cassandra.cluster.Cluster.protocol_version\n",
      "WARNING:absl:Compiled the loaded model, but the compiled metrics have yet to be built. `model.compile_metrics` will be empty until you train or evaluate the model.\n"
     ]
    },
    {
     "name": "stdout",
     "output_type": "stream",
     "text": [
      "\u001b[1m1/1\u001b[0m \u001b[32m━━━━━━━━━━━━━━━━━━━━\u001b[0m\u001b[37m\u001b[0m \u001b[1m0s\u001b[0m 131ms/step"
     ]
    },
    {
     "name": "stderr",
     "output_type": "stream",
     "text": [
      "c:\\Users\\Admin\\AppData\\Local\\Programs\\Python\\Python310\\lib\\site-packages\\sklearn\\base.py:442: InconsistentVersionWarning: Trying to unpickle estimator StandardScaler from version 1.6.1 when using version 1.7.2. This might lead to breaking code or invalid results. Use at your own risk. For more info please refer to:\n",
      "https://scikit-learn.org/stable/model_persistence.html#security-maintainability-limitations\n",
      "  warnings.warn(\n",
      "c:\\Users\\Admin\\AppData\\Local\\Programs\\Python\\Python310\\lib\\site-packages\\sklearn\\base.py:442: InconsistentVersionWarning: Trying to unpickle estimator LabelEncoder from version 1.6.1 when using version 1.7.2. This might lead to breaking code or invalid results. Use at your own risk. For more info please refer to:\n",
      "https://scikit-learn.org/stable/model_persistence.html#security-maintainability-limitations\n",
      "  warnings.warn(\n",
      "c:\\Users\\Admin\\AppData\\Local\\Programs\\Python\\Python310\\lib\\site-packages\\sklearn\\utils\\validation.py:2749: UserWarning: X does not have valid feature names, but StandardScaler was fitted with feature names\n",
      "  warnings.warn(\n"
     ]
    },
    {
     "name": "stdout",
     "output_type": "stream",
     "text": [
      "\u001b[1m1/1\u001b[0m \u001b[32m━━━━━━━━━━━━━━━━━━━━\u001b[0m\u001b[37m\u001b[0m \u001b[1m0s\u001b[0m 182ms/step\n"
     ]
    },
    {
     "name": "stderr",
     "output_type": "stream",
     "text": [
      "WARNING:cassandra.cluster:Cluster.__init__ called with contact_points specified, but no load_balancing_policy. In the next major version, this will raise an error; please specify a load-balancing policy. (contact_points = ['127.0.0.1'], lbp = None)\n"
     ]
    },
    {
     "name": "stdout",
     "output_type": "stream",
     "text": [
      "✅ PTT → Ad\n"
     ]
    },
    {
     "name": "stderr",
     "output_type": "stream",
     "text": [
      "WARNING:cassandra.cluster:Downgrading core protocol version from 66 to 65 for 127.0.0.1:9042. To avoid this, it is best practice to explicitly set Cluster(protocol_version) to the version supported by your cluster. http://datastax.github.io/python-driver/api/cassandra/cluster.html#cassandra.cluster.Cluster.protocol_version\n",
      "WARNING:cassandra.cluster:Downgrading core protocol version from 65 to 5 for 127.0.0.1:9042. To avoid this, it is best practice to explicitly set Cluster(protocol_version) to the version supported by your cluster. http://datastax.github.io/python-driver/api/cassandra/cluster.html#cassandra.cluster.Cluster.protocol_version\n",
      "WARNING:cassandra.cluster:Downgrading core protocol version from 5 to 4 for 127.0.0.1:9042. To avoid this, it is best practice to explicitly set Cluster(protocol_version) to the version supported by your cluster. http://datastax.github.io/python-driver/api/cassandra/cluster.html#cassandra.cluster.Cluster.protocol_version\n",
      "WARNING:absl:Compiled the loaded model, but the compiled metrics have yet to be built. `model.compile_metrics` will be empty until you train or evaluate the model.\n",
      "c:\\Users\\Admin\\AppData\\Local\\Programs\\Python\\Python310\\lib\\site-packages\\sklearn\\base.py:442: InconsistentVersionWarning: Trying to unpickle estimator StandardScaler from version 1.6.1 when using version 1.7.2. This might lead to breaking code or invalid results. Use at your own risk. For more info please refer to:\n",
      "https://scikit-learn.org/stable/model_persistence.html#security-maintainability-limitations\n",
      "  warnings.warn(\n",
      "c:\\Users\\Admin\\AppData\\Local\\Programs\\Python\\Python310\\lib\\site-packages\\sklearn\\base.py:442: InconsistentVersionWarning: Trying to unpickle estimator LabelEncoder from version 1.6.1 when using version 1.7.2. This might lead to breaking code or invalid results. Use at your own risk. For more info please refer to:\n",
      "https://scikit-learn.org/stable/model_persistence.html#security-maintainability-limitations\n",
      "  warnings.warn(\n",
      "c:\\Users\\Admin\\AppData\\Local\\Programs\\Python\\Python310\\lib\\site-packages\\sklearn\\utils\\validation.py:2749: UserWarning: X does not have valid feature names, but StandardScaler was fitted with feature names\n",
      "  warnings.warn(\n"
     ]
    },
    {
     "name": "stdout",
     "output_type": "stream",
     "text": [
      "\u001b[1m1/1\u001b[0m \u001b[32m━━━━━━━━━━━━━━━━━━━━\u001b[0m\u001b[37m\u001b[0m \u001b[1m0s\u001b[0m 202ms/step\n"
     ]
    },
    {
     "name": "stderr",
     "output_type": "stream",
     "text": [
      "WARNING:cassandra.cluster:Cluster.__init__ called with contact_points specified, but no load_balancing_policy. In the next major version, this will raise an error; please specify a load-balancing policy. (contact_points = ['127.0.0.1'], lbp = None)\n"
     ]
    },
    {
     "name": "stdout",
     "output_type": "stream",
     "text": [
      "✅ AOT → Ab\n"
     ]
    },
    {
     "name": "stderr",
     "output_type": "stream",
     "text": [
      "WARNING:cassandra.cluster:Downgrading core protocol version from 66 to 65 for 127.0.0.1:9042. To avoid this, it is best practice to explicitly set Cluster(protocol_version) to the version supported by your cluster. http://datastax.github.io/python-driver/api/cassandra/cluster.html#cassandra.cluster.Cluster.protocol_version\n",
      "WARNING:cassandra.cluster:Downgrading core protocol version from 65 to 5 for 127.0.0.1:9042. To avoid this, it is best practice to explicitly set Cluster(protocol_version) to the version supported by your cluster. http://datastax.github.io/python-driver/api/cassandra/cluster.html#cassandra.cluster.Cluster.protocol_version\n",
      "WARNING:cassandra.cluster:Downgrading core protocol version from 5 to 4 for 127.0.0.1:9042. To avoid this, it is best practice to explicitly set Cluster(protocol_version) to the version supported by your cluster. http://datastax.github.io/python-driver/api/cassandra/cluster.html#cassandra.cluster.Cluster.protocol_version\n",
      "WARNING:absl:Compiled the loaded model, but the compiled metrics have yet to be built. `model.compile_metrics` will be empty until you train or evaluate the model.\n",
      "c:\\Users\\Admin\\AppData\\Local\\Programs\\Python\\Python310\\lib\\site-packages\\sklearn\\base.py:442: InconsistentVersionWarning: Trying to unpickle estimator StandardScaler from version 1.6.1 when using version 1.7.2. This might lead to breaking code or invalid results. Use at your own risk. For more info please refer to:\n",
      "https://scikit-learn.org/stable/model_persistence.html#security-maintainability-limitations\n",
      "  warnings.warn(\n",
      "c:\\Users\\Admin\\AppData\\Local\\Programs\\Python\\Python310\\lib\\site-packages\\sklearn\\base.py:442: InconsistentVersionWarning: Trying to unpickle estimator LabelEncoder from version 1.6.1 when using version 1.7.2. This might lead to breaking code or invalid results. Use at your own risk. For more info please refer to:\n",
      "https://scikit-learn.org/stable/model_persistence.html#security-maintainability-limitations\n",
      "  warnings.warn(\n",
      "c:\\Users\\Admin\\AppData\\Local\\Programs\\Python\\Python310\\lib\\site-packages\\sklearn\\utils\\validation.py:2749: UserWarning: X does not have valid feature names, but StandardScaler was fitted with feature names\n",
      "  warnings.warn(\n"
     ]
    },
    {
     "name": "stdout",
     "output_type": "stream",
     "text": [
      "WARNING:tensorflow:5 out of the last 5 calls to <function TensorFlowTrainer.make_predict_function.<locals>.one_step_on_data_distributed at 0x000001E4E0FA35B0> triggered tf.function retracing. Tracing is expensive and the excessive number of tracings could be due to (1) creating @tf.function repeatedly in a loop, (2) passing tensors with different shapes, (3) passing Python objects instead of tensors. For (1), please define your @tf.function outside of the loop. For (2), @tf.function has reduce_retracing=True option that can avoid unnecessary retracing. For (3), please refer to https://www.tensorflow.org/guide/function#controlling_retracing and https://www.tensorflow.org/api_docs/python/tf/function for  more details.\n"
     ]
    },
    {
     "name": "stderr",
     "output_type": "stream",
     "text": [
      "WARNING:tensorflow:5 out of the last 5 calls to <function TensorFlowTrainer.make_predict_function.<locals>.one_step_on_data_distributed at 0x000001E4E0FA35B0> triggered tf.function retracing. Tracing is expensive and the excessive number of tracings could be due to (1) creating @tf.function repeatedly in a loop, (2) passing tensors with different shapes, (3) passing Python objects instead of tensors. For (1), please define your @tf.function outside of the loop. For (2), @tf.function has reduce_retracing=True option that can avoid unnecessary retracing. For (3), please refer to https://www.tensorflow.org/guide/function#controlling_retracing and https://www.tensorflow.org/api_docs/python/tf/function for  more details.\n"
     ]
    },
    {
     "name": "stdout",
     "output_type": "stream",
     "text": [
      "\u001b[1m1/1\u001b[0m \u001b[32m━━━━━━━━━━━━━━━━━━━━\u001b[0m\u001b[37m\u001b[0m \u001b[1m0s\u001b[0m 238ms/step\n"
     ]
    },
    {
     "name": "stderr",
     "output_type": "stream",
     "text": [
      "WARNING:cassandra.cluster:Cluster.__init__ called with contact_points specified, but no load_balancing_policy. In the next major version, this will raise an error; please specify a load-balancing policy. (contact_points = ['127.0.0.1'], lbp = None)\n"
     ]
    },
    {
     "name": "stdout",
     "output_type": "stream",
     "text": [
      "✅ ADVANC → Ac\n"
     ]
    },
    {
     "name": "stderr",
     "output_type": "stream",
     "text": [
      "WARNING:cassandra.cluster:Downgrading core protocol version from 66 to 65 for 127.0.0.1:9042. To avoid this, it is best practice to explicitly set Cluster(protocol_version) to the version supported by your cluster. http://datastax.github.io/python-driver/api/cassandra/cluster.html#cassandra.cluster.Cluster.protocol_version\n",
      "WARNING:cassandra.cluster:Downgrading core protocol version from 65 to 5 for 127.0.0.1:9042. To avoid this, it is best practice to explicitly set Cluster(protocol_version) to the version supported by your cluster. http://datastax.github.io/python-driver/api/cassandra/cluster.html#cassandra.cluster.Cluster.protocol_version\n",
      "WARNING:cassandra.cluster:Downgrading core protocol version from 5 to 4 for 127.0.0.1:9042. To avoid this, it is best practice to explicitly set Cluster(protocol_version) to the version supported by your cluster. http://datastax.github.io/python-driver/api/cassandra/cluster.html#cassandra.cluster.Cluster.protocol_version\n",
      "WARNING:absl:Compiled the loaded model, but the compiled metrics have yet to be built. `model.compile_metrics` will be empty until you train or evaluate the model.\n",
      "c:\\Users\\Admin\\AppData\\Local\\Programs\\Python\\Python310\\lib\\site-packages\\sklearn\\base.py:442: InconsistentVersionWarning: Trying to unpickle estimator StandardScaler from version 1.6.1 when using version 1.7.2. This might lead to breaking code or invalid results. Use at your own risk. For more info please refer to:\n",
      "https://scikit-learn.org/stable/model_persistence.html#security-maintainability-limitations\n",
      "  warnings.warn(\n",
      "c:\\Users\\Admin\\AppData\\Local\\Programs\\Python\\Python310\\lib\\site-packages\\sklearn\\base.py:442: InconsistentVersionWarning: Trying to unpickle estimator LabelEncoder from version 1.6.1 when using version 1.7.2. This might lead to breaking code or invalid results. Use at your own risk. For more info please refer to:\n",
      "https://scikit-learn.org/stable/model_persistence.html#security-maintainability-limitations\n",
      "  warnings.warn(\n",
      "c:\\Users\\Admin\\AppData\\Local\\Programs\\Python\\Python310\\lib\\site-packages\\sklearn\\utils\\validation.py:2749: UserWarning: X does not have valid feature names, but StandardScaler was fitted with feature names\n",
      "  warnings.warn(\n"
     ]
    },
    {
     "name": "stdout",
     "output_type": "stream",
     "text": [
      "WARNING:tensorflow:6 out of the last 6 calls to <function TensorFlowTrainer.make_predict_function.<locals>.one_step_on_data_distributed at 0x000001E4E112E8C0> triggered tf.function retracing. Tracing is expensive and the excessive number of tracings could be due to (1) creating @tf.function repeatedly in a loop, (2) passing tensors with different shapes, (3) passing Python objects instead of tensors. For (1), please define your @tf.function outside of the loop. For (2), @tf.function has reduce_retracing=True option that can avoid unnecessary retracing. For (3), please refer to https://www.tensorflow.org/guide/function#controlling_retracing and https://www.tensorflow.org/api_docs/python/tf/function for  more details.\n"
     ]
    },
    {
     "name": "stderr",
     "output_type": "stream",
     "text": [
      "WARNING:tensorflow:6 out of the last 6 calls to <function TensorFlowTrainer.make_predict_function.<locals>.one_step_on_data_distributed at 0x000001E4E112E8C0> triggered tf.function retracing. Tracing is expensive and the excessive number of tracings could be due to (1) creating @tf.function repeatedly in a loop, (2) passing tensors with different shapes, (3) passing Python objects instead of tensors. For (1), please define your @tf.function outside of the loop. For (2), @tf.function has reduce_retracing=True option that can avoid unnecessary retracing. For (3), please refer to https://www.tensorflow.org/guide/function#controlling_retracing and https://www.tensorflow.org/api_docs/python/tf/function for  more details.\n"
     ]
    },
    {
     "name": "stdout",
     "output_type": "stream",
     "text": [
      "\u001b[1m1/1\u001b[0m \u001b[32m━━━━━━━━━━━━━━━━━━━━\u001b[0m\u001b[37m\u001b[0m \u001b[1m0s\u001b[0m 219ms/step\n"
     ]
    },
    {
     "name": "stderr",
     "output_type": "stream",
     "text": [
      "WARNING:cassandra.cluster:Cluster.__init__ called with contact_points specified, but no load_balancing_policy. In the next major version, this will raise an error; please specify a load-balancing policy. (contact_points = ['127.0.0.1'], lbp = None)\n"
     ]
    },
    {
     "name": "stdout",
     "output_type": "stream",
     "text": [
      "✅ KBANK → Ab\n"
     ]
    },
    {
     "name": "stderr",
     "output_type": "stream",
     "text": [
      "WARNING:cassandra.cluster:Downgrading core protocol version from 66 to 65 for 127.0.0.1:9042. To avoid this, it is best practice to explicitly set Cluster(protocol_version) to the version supported by your cluster. http://datastax.github.io/python-driver/api/cassandra/cluster.html#cassandra.cluster.Cluster.protocol_version\n",
      "WARNING:cassandra.cluster:Downgrading core protocol version from 65 to 5 for 127.0.0.1:9042. To avoid this, it is best practice to explicitly set Cluster(protocol_version) to the version supported by your cluster. http://datastax.github.io/python-driver/api/cassandra/cluster.html#cassandra.cluster.Cluster.protocol_version\n",
      "WARNING:cassandra.cluster:Downgrading core protocol version from 5 to 4 for 127.0.0.1:9042. To avoid this, it is best practice to explicitly set Cluster(protocol_version) to the version supported by your cluster. http://datastax.github.io/python-driver/api/cassandra/cluster.html#cassandra.cluster.Cluster.protocol_version\n",
      "WARNING:absl:Compiled the loaded model, but the compiled metrics have yet to be built. `model.compile_metrics` will be empty until you train or evaluate the model.\n",
      "c:\\Users\\Admin\\AppData\\Local\\Programs\\Python\\Python310\\lib\\site-packages\\sklearn\\base.py:442: InconsistentVersionWarning: Trying to unpickle estimator StandardScaler from version 1.6.1 when using version 1.7.2. This might lead to breaking code or invalid results. Use at your own risk. For more info please refer to:\n",
      "https://scikit-learn.org/stable/model_persistence.html#security-maintainability-limitations\n",
      "  warnings.warn(\n",
      "c:\\Users\\Admin\\AppData\\Local\\Programs\\Python\\Python310\\lib\\site-packages\\sklearn\\base.py:442: InconsistentVersionWarning: Trying to unpickle estimator LabelEncoder from version 1.6.1 when using version 1.7.2. This might lead to breaking code or invalid results. Use at your own risk. For more info please refer to:\n",
      "https://scikit-learn.org/stable/model_persistence.html#security-maintainability-limitations\n",
      "  warnings.warn(\n",
      "c:\\Users\\Admin\\AppData\\Local\\Programs\\Python\\Python310\\lib\\site-packages\\sklearn\\utils\\validation.py:2749: UserWarning: X does not have valid feature names, but StandardScaler was fitted with feature names\n",
      "  warnings.warn(\n"
     ]
    },
    {
     "name": "stdout",
     "output_type": "stream",
     "text": [
      "\u001b[1m1/1\u001b[0m \u001b[32m━━━━━━━━━━━━━━━━━━━━\u001b[0m\u001b[37m\u001b[0m \u001b[1m0s\u001b[0m 210ms/step\n"
     ]
    },
    {
     "name": "stderr",
     "output_type": "stream",
     "text": [
      "WARNING:cassandra.cluster:Cluster.__init__ called with contact_points specified, but no load_balancing_policy. In the next major version, this will raise an error; please specify a load-balancing policy. (contact_points = ['127.0.0.1'], lbp = None)\n"
     ]
    },
    {
     "name": "stdout",
     "output_type": "stream",
     "text": [
      "✅ TRUE → Ab\n"
     ]
    },
    {
     "name": "stderr",
     "output_type": "stream",
     "text": [
      "WARNING:cassandra.cluster:Downgrading core protocol version from 66 to 65 for 127.0.0.1:9042. To avoid this, it is best practice to explicitly set Cluster(protocol_version) to the version supported by your cluster. http://datastax.github.io/python-driver/api/cassandra/cluster.html#cassandra.cluster.Cluster.protocol_version\n",
      "WARNING:cassandra.cluster:Downgrading core protocol version from 65 to 5 for 127.0.0.1:9042. To avoid this, it is best practice to explicitly set Cluster(protocol_version) to the version supported by your cluster. http://datastax.github.io/python-driver/api/cassandra/cluster.html#cassandra.cluster.Cluster.protocol_version\n",
      "WARNING:cassandra.cluster:Downgrading core protocol version from 5 to 4 for 127.0.0.1:9042. To avoid this, it is best practice to explicitly set Cluster(protocol_version) to the version supported by your cluster. http://datastax.github.io/python-driver/api/cassandra/cluster.html#cassandra.cluster.Cluster.protocol_version\n",
      "WARNING:cassandra.cluster:Cluster.__init__ called with contact_points specified, but no load_balancing_policy. In the next major version, this will raise an error; please specify a load-balancing policy. (contact_points = ['127.0.0.1'], lbp = None)\n"
     ]
    },
    {
     "name": "stdout",
     "output_type": "stream",
     "text": [
      "❌ GULF: ❌ ไม่มีข้อมูลครบสำหรับ GULF\n"
     ]
    },
    {
     "name": "stderr",
     "output_type": "stream",
     "text": [
      "WARNING:cassandra.cluster:Downgrading core protocol version from 66 to 65 for 127.0.0.1:9042. To avoid this, it is best practice to explicitly set Cluster(protocol_version) to the version supported by your cluster. http://datastax.github.io/python-driver/api/cassandra/cluster.html#cassandra.cluster.Cluster.protocol_version\n",
      "WARNING:cassandra.cluster:Downgrading core protocol version from 65 to 5 for 127.0.0.1:9042. To avoid this, it is best practice to explicitly set Cluster(protocol_version) to the version supported by your cluster. http://datastax.github.io/python-driver/api/cassandra/cluster.html#cassandra.cluster.Cluster.protocol_version\n",
      "WARNING:cassandra.cluster:Downgrading core protocol version from 5 to 4 for 127.0.0.1:9042. To avoid this, it is best practice to explicitly set Cluster(protocol_version) to the version supported by your cluster. http://datastax.github.io/python-driver/api/cassandra/cluster.html#cassandra.cluster.Cluster.protocol_version\n",
      "WARNING:absl:Compiled the loaded model, but the compiled metrics have yet to be built. `model.compile_metrics` will be empty until you train or evaluate the model.\n"
     ]
    },
    {
     "name": "stdout",
     "output_type": "stream",
     "text": [
      "\u001b[1m1/1\u001b[0m \u001b[32m━━━━━━━━━━━━━━━━━━━━\u001b[0m\u001b[37m\u001b[0m \u001b[1m0s\u001b[0m 180ms/step"
     ]
    },
    {
     "name": "stderr",
     "output_type": "stream",
     "text": [
      "c:\\Users\\Admin\\AppData\\Local\\Programs\\Python\\Python310\\lib\\site-packages\\sklearn\\base.py:442: InconsistentVersionWarning: Trying to unpickle estimator StandardScaler from version 1.6.1 when using version 1.7.2. This might lead to breaking code or invalid results. Use at your own risk. For more info please refer to:\n",
      "https://scikit-learn.org/stable/model_persistence.html#security-maintainability-limitations\n",
      "  warnings.warn(\n",
      "c:\\Users\\Admin\\AppData\\Local\\Programs\\Python\\Python310\\lib\\site-packages\\sklearn\\base.py:442: InconsistentVersionWarning: Trying to unpickle estimator LabelEncoder from version 1.6.1 when using version 1.7.2. This might lead to breaking code or invalid results. Use at your own risk. For more info please refer to:\n",
      "https://scikit-learn.org/stable/model_persistence.html#security-maintainability-limitations\n",
      "  warnings.warn(\n",
      "c:\\Users\\Admin\\AppData\\Local\\Programs\\Python\\Python310\\lib\\site-packages\\sklearn\\utils\\validation.py:2749: UserWarning: X does not have valid feature names, but StandardScaler was fitted with feature names\n",
      "  warnings.warn(\n"
     ]
    },
    {
     "name": "stdout",
     "output_type": "stream",
     "text": [
      "\u001b[1m1/1\u001b[0m \u001b[32m━━━━━━━━━━━━━━━━━━━━\u001b[0m\u001b[37m\u001b[0m \u001b[1m0s\u001b[0m 202ms/step\n"
     ]
    },
    {
     "name": "stderr",
     "output_type": "stream",
     "text": [
      "WARNING:cassandra.cluster:Cluster.__init__ called with contact_points specified, but no load_balancing_policy. In the next major version, this will raise an error; please specify a load-balancing policy. (contact_points = ['127.0.0.1'], lbp = None)\n"
     ]
    },
    {
     "name": "stdout",
     "output_type": "stream",
     "text": [
      "✅ SCB → Ab\n"
     ]
    },
    {
     "name": "stderr",
     "output_type": "stream",
     "text": [
      "WARNING:cassandra.cluster:Downgrading core protocol version from 66 to 65 for 127.0.0.1:9042. To avoid this, it is best practice to explicitly set Cluster(protocol_version) to the version supported by your cluster. http://datastax.github.io/python-driver/api/cassandra/cluster.html#cassandra.cluster.Cluster.protocol_version\n",
      "WARNING:cassandra.cluster:Downgrading core protocol version from 65 to 5 for 127.0.0.1:9042. To avoid this, it is best practice to explicitly set Cluster(protocol_version) to the version supported by your cluster. http://datastax.github.io/python-driver/api/cassandra/cluster.html#cassandra.cluster.Cluster.protocol_version\n",
      "WARNING:cassandra.cluster:Downgrading core protocol version from 5 to 4 for 127.0.0.1:9042. To avoid this, it is best practice to explicitly set Cluster(protocol_version) to the version supported by your cluster. http://datastax.github.io/python-driver/api/cassandra/cluster.html#cassandra.cluster.Cluster.protocol_version\n",
      "WARNING:absl:Compiled the loaded model, but the compiled metrics have yet to be built. `model.compile_metrics` will be empty until you train or evaluate the model.\n",
      "c:\\Users\\Admin\\AppData\\Local\\Programs\\Python\\Python310\\lib\\site-packages\\sklearn\\base.py:442: InconsistentVersionWarning: Trying to unpickle estimator StandardScaler from version 1.6.1 when using version 1.7.2. This might lead to breaking code or invalid results. Use at your own risk. For more info please refer to:\n",
      "https://scikit-learn.org/stable/model_persistence.html#security-maintainability-limitations\n",
      "  warnings.warn(\n",
      "c:\\Users\\Admin\\AppData\\Local\\Programs\\Python\\Python310\\lib\\site-packages\\sklearn\\base.py:442: InconsistentVersionWarning: Trying to unpickle estimator LabelEncoder from version 1.6.1 when using version 1.7.2. This might lead to breaking code or invalid results. Use at your own risk. For more info please refer to:\n",
      "https://scikit-learn.org/stable/model_persistence.html#security-maintainability-limitations\n",
      "  warnings.warn(\n",
      "c:\\Users\\Admin\\AppData\\Local\\Programs\\Python\\Python310\\lib\\site-packages\\sklearn\\utils\\validation.py:2749: UserWarning: X does not have valid feature names, but StandardScaler was fitted with feature names\n",
      "  warnings.warn(\n"
     ]
    },
    {
     "name": "stdout",
     "output_type": "stream",
     "text": [
      "\u001b[1m1/1\u001b[0m \u001b[32m━━━━━━━━━━━━━━━━━━━━\u001b[0m\u001b[37m\u001b[0m \u001b[1m0s\u001b[0m 338ms/step\n"
     ]
    },
    {
     "name": "stderr",
     "output_type": "stream",
     "text": [
      "WARNING:cassandra.cluster:Cluster.__init__ called with contact_points specified, but no load_balancing_policy. In the next major version, this will raise an error; please specify a load-balancing policy. (contact_points = ['127.0.0.1'], lbp = None)\n"
     ]
    },
    {
     "name": "stdout",
     "output_type": "stream",
     "text": [
      "✅ KTC → Ab\n"
     ]
    },
    {
     "name": "stderr",
     "output_type": "stream",
     "text": [
      "WARNING:cassandra.cluster:Downgrading core protocol version from 66 to 65 for 127.0.0.1:9042. To avoid this, it is best practice to explicitly set Cluster(protocol_version) to the version supported by your cluster. http://datastax.github.io/python-driver/api/cassandra/cluster.html#cassandra.cluster.Cluster.protocol_version\n",
      "WARNING:cassandra.cluster:Downgrading core protocol version from 65 to 5 for 127.0.0.1:9042. To avoid this, it is best practice to explicitly set Cluster(protocol_version) to the version supported by your cluster. http://datastax.github.io/python-driver/api/cassandra/cluster.html#cassandra.cluster.Cluster.protocol_version\n",
      "WARNING:cassandra.cluster:Downgrading core protocol version from 5 to 4 for 127.0.0.1:9042. To avoid this, it is best practice to explicitly set Cluster(protocol_version) to the version supported by your cluster. http://datastax.github.io/python-driver/api/cassandra/cluster.html#cassandra.cluster.Cluster.protocol_version\n",
      "WARNING:absl:Compiled the loaded model, but the compiled metrics have yet to be built. `model.compile_metrics` will be empty until you train or evaluate the model.\n",
      "c:\\Users\\Admin\\AppData\\Local\\Programs\\Python\\Python310\\lib\\site-packages\\sklearn\\base.py:442: InconsistentVersionWarning: Trying to unpickle estimator StandardScaler from version 1.6.1 when using version 1.7.2. This might lead to breaking code or invalid results. Use at your own risk. For more info please refer to:\n",
      "https://scikit-learn.org/stable/model_persistence.html#security-maintainability-limitations\n",
      "  warnings.warn(\n",
      "c:\\Users\\Admin\\AppData\\Local\\Programs\\Python\\Python310\\lib\\site-packages\\sklearn\\base.py:442: InconsistentVersionWarning: Trying to unpickle estimator LabelEncoder from version 1.6.1 when using version 1.7.2. This might lead to breaking code or invalid results. Use at your own risk. For more info please refer to:\n",
      "https://scikit-learn.org/stable/model_persistence.html#security-maintainability-limitations\n",
      "  warnings.warn(\n",
      "c:\\Users\\Admin\\AppData\\Local\\Programs\\Python\\Python310\\lib\\site-packages\\sklearn\\utils\\validation.py:2749: UserWarning: X does not have valid feature names, but StandardScaler was fitted with feature names\n",
      "  warnings.warn(\n"
     ]
    },
    {
     "name": "stdout",
     "output_type": "stream",
     "text": [
      "\u001b[1m1/1\u001b[0m \u001b[32m━━━━━━━━━━━━━━━━━━━━\u001b[0m\u001b[37m\u001b[0m \u001b[1m0s\u001b[0m 291ms/step\n"
     ]
    },
    {
     "name": "stderr",
     "output_type": "stream",
     "text": [
      "WARNING:cassandra.cluster:Cluster.__init__ called with contact_points specified, but no load_balancing_policy. In the next major version, this will raise an error; please specify a load-balancing policy. (contact_points = ['127.0.0.1'], lbp = None)\n"
     ]
    },
    {
     "name": "stdout",
     "output_type": "stream",
     "text": [
      "✅ KTB → Ac\n"
     ]
    },
    {
     "name": "stderr",
     "output_type": "stream",
     "text": [
      "WARNING:cassandra.cluster:Downgrading core protocol version from 66 to 65 for 127.0.0.1:9042. To avoid this, it is best practice to explicitly set Cluster(protocol_version) to the version supported by your cluster. http://datastax.github.io/python-driver/api/cassandra/cluster.html#cassandra.cluster.Cluster.protocol_version\n",
      "WARNING:cassandra.cluster:Downgrading core protocol version from 65 to 5 for 127.0.0.1:9042. To avoid this, it is best practice to explicitly set Cluster(protocol_version) to the version supported by your cluster. http://datastax.github.io/python-driver/api/cassandra/cluster.html#cassandra.cluster.Cluster.protocol_version\n",
      "WARNING:cassandra.cluster:Downgrading core protocol version from 5 to 4 for 127.0.0.1:9042. To avoid this, it is best practice to explicitly set Cluster(protocol_version) to the version supported by your cluster. http://datastax.github.io/python-driver/api/cassandra/cluster.html#cassandra.cluster.Cluster.protocol_version\n",
      "WARNING:absl:Compiled the loaded model, but the compiled metrics have yet to be built. `model.compile_metrics` will be empty until you train or evaluate the model.\n",
      "c:\\Users\\Admin\\AppData\\Local\\Programs\\Python\\Python310\\lib\\site-packages\\sklearn\\base.py:442: InconsistentVersionWarning: Trying to unpickle estimator StandardScaler from version 1.6.1 when using version 1.7.2. This might lead to breaking code or invalid results. Use at your own risk. For more info please refer to:\n",
      "https://scikit-learn.org/stable/model_persistence.html#security-maintainability-limitations\n",
      "  warnings.warn(\n",
      "c:\\Users\\Admin\\AppData\\Local\\Programs\\Python\\Python310\\lib\\site-packages\\sklearn\\base.py:442: InconsistentVersionWarning: Trying to unpickle estimator LabelEncoder from version 1.6.1 when using version 1.7.2. This might lead to breaking code or invalid results. Use at your own risk. For more info please refer to:\n",
      "https://scikit-learn.org/stable/model_persistence.html#security-maintainability-limitations\n",
      "  warnings.warn(\n",
      "c:\\Users\\Admin\\AppData\\Local\\Programs\\Python\\Python310\\lib\\site-packages\\sklearn\\utils\\validation.py:2749: UserWarning: X does not have valid feature names, but StandardScaler was fitted with feature names\n",
      "  warnings.warn(\n"
     ]
    },
    {
     "name": "stdout",
     "output_type": "stream",
     "text": [
      "\u001b[1m1/1\u001b[0m \u001b[32m━━━━━━━━━━━━━━━━━━━━\u001b[0m\u001b[37m\u001b[0m \u001b[1m0s\u001b[0m 255ms/step\n",
      "✅ CPALL → Ab\n",
      "\n",
      "📊 ผลการทำนายทั้งหมด:\n"
     ]
    },
    {
     "data": {
      "text/html": [
       "<div>\n",
       "<style scoped>\n",
       "    .dataframe tbody tr th:only-of-type {\n",
       "        vertical-align: middle;\n",
       "    }\n",
       "\n",
       "    .dataframe tbody tr th {\n",
       "        vertical-align: top;\n",
       "    }\n",
       "\n",
       "    .dataframe thead th {\n",
       "        text-align: right;\n",
       "    }\n",
       "</style>\n",
       "<table border=\"1\" class=\"dataframe\">\n",
       "  <thead>\n",
       "    <tr style=\"text-align: right;\">\n",
       "      <th></th>\n",
       "      <th>Symbol</th>\n",
       "      <th>Quadrant</th>\n",
       "      <th>eps</th>\n",
       "      <th>pe</th>\n",
       "      <th>pbv</th>\n",
       "      <th>percentyield</th>\n",
       "      <th>marketcap</th>\n",
       "      <th>close_price</th>\n",
       "      <th>ema5</th>\n",
       "      <th>ema15</th>\n",
       "      <th>ema35</th>\n",
       "      <th>rsi</th>\n",
       "    </tr>\n",
       "  </thead>\n",
       "  <tbody>\n",
       "    <tr>\n",
       "      <th>0</th>\n",
       "      <td>DELTA</td>\n",
       "      <td>Ac</td>\n",
       "      <td>0.81</td>\n",
       "      <td>100.50</td>\n",
       "      <td>21.75</td>\n",
       "      <td>0.31</td>\n",
       "      <td>5.194120e+08</td>\n",
       "      <td>109.00</td>\n",
       "      <td>108.85</td>\n",
       "      <td>107.59</td>\n",
       "      <td>106.02</td>\n",
       "      <td>58.73</td>\n",
       "    </tr>\n",
       "    <tr>\n",
       "      <th>1</th>\n",
       "      <td>PTT</td>\n",
       "      <td>Ad</td>\n",
       "      <td>1.57</td>\n",
       "      <td>12.86</td>\n",
       "      <td>0.80</td>\n",
       "      <td>6.62</td>\n",
       "      <td>1.744858e+09</td>\n",
       "      <td>34.75</td>\n",
       "      <td>35.07</td>\n",
       "      <td>35.33</td>\n",
       "      <td>34.93</td>\n",
       "      <td>30.77</td>\n",
       "    </tr>\n",
       "    <tr>\n",
       "      <th>2</th>\n",
       "      <td>AOT</td>\n",
       "      <td>Ab</td>\n",
       "      <td>1.00</td>\n",
       "      <td>29.10</td>\n",
       "      <td>4.25</td>\n",
       "      <td>2.09</td>\n",
       "      <td>1.266002e+09</td>\n",
       "      <td>72.00</td>\n",
       "      <td>72.39</td>\n",
       "      <td>71.91</td>\n",
       "      <td>71.51</td>\n",
       "      <td>59.26</td>\n",
       "    </tr>\n",
       "    <tr>\n",
       "      <th>3</th>\n",
       "      <td>ADVANC</td>\n",
       "      <td>Ac</td>\n",
       "      <td>7.25</td>\n",
       "      <td>21.85</td>\n",
       "      <td>8.51</td>\n",
       "      <td>3.65</td>\n",
       "      <td>9.322627e+08</td>\n",
       "      <td>213.00</td>\n",
       "      <td>215.24</td>\n",
       "      <td>217.95</td>\n",
       "      <td>218.91</td>\n",
       "      <td>31.82</td>\n",
       "    </tr>\n",
       "    <tr>\n",
       "      <th>4</th>\n",
       "      <td>KBANK</td>\n",
       "      <td>Ab</td>\n",
       "      <td>5.67</td>\n",
       "      <td>8.09</td>\n",
       "      <td>0.68</td>\n",
       "      <td>7.19</td>\n",
       "      <td>8.519348e+08</td>\n",
       "      <td>130.50</td>\n",
       "      <td>130.65</td>\n",
       "      <td>130.06</td>\n",
       "      <td>129.43</td>\n",
       "      <td>62.07</td>\n",
       "    </tr>\n",
       "    <tr>\n",
       "      <th>5</th>\n",
       "      <td>TRUE</td>\n",
       "      <td>Ab</td>\n",
       "      <td>0.11</td>\n",
       "      <td>0.00</td>\n",
       "      <td>5.08</td>\n",
       "      <td>0.00</td>\n",
       "      <td>8.345208e+08</td>\n",
       "      <td>8.70</td>\n",
       "      <td>8.54</td>\n",
       "      <td>8.43</td>\n",
       "      <td>8.20</td>\n",
       "      <td>52.38</td>\n",
       "    </tr>\n",
       "    <tr>\n",
       "      <th>6</th>\n",
       "      <td>SCB</td>\n",
       "      <td>Ab</td>\n",
       "      <td>7.51</td>\n",
       "      <td>9.03</td>\n",
       "      <td>0.90</td>\n",
       "      <td>8.12</td>\n",
       "      <td>7.943464e+08</td>\n",
       "      <td>118.50</td>\n",
       "      <td>117.80</td>\n",
       "      <td>116.09</td>\n",
       "      <td>113.50</td>\n",
       "      <td>76.19</td>\n",
       "    </tr>\n",
       "    <tr>\n",
       "      <th>7</th>\n",
       "      <td>KTC</td>\n",
       "      <td>Ab</td>\n",
       "      <td>1.46</td>\n",
       "      <td>9.46</td>\n",
       "      <td>1.78</td>\n",
       "      <td>4.76</td>\n",
       "      <td>2.434419e+08</td>\n",
       "      <td>47.00</td>\n",
       "      <td>47.87</td>\n",
       "      <td>47.60</td>\n",
       "      <td>47.57</td>\n",
       "      <td>55.56</td>\n",
       "    </tr>\n",
       "    <tr>\n",
       "      <th>8</th>\n",
       "      <td>KTB</td>\n",
       "      <td>Ac</td>\n",
       "      <td>0.84</td>\n",
       "      <td>7.54</td>\n",
       "      <td>0.74</td>\n",
       "      <td>6.44</td>\n",
       "      <td>8.139685e+08</td>\n",
       "      <td>19.00</td>\n",
       "      <td>19.28</td>\n",
       "      <td>19.52</td>\n",
       "      <td>19.64</td>\n",
       "      <td>35.48</td>\n",
       "    </tr>\n",
       "    <tr>\n",
       "      <th>9</th>\n",
       "      <td>CPALL</td>\n",
       "      <td>Ab</td>\n",
       "      <td>1.57</td>\n",
       "      <td>14.91</td>\n",
       "      <td>3.18</td>\n",
       "      <td>3.00</td>\n",
       "      <td>1.141302e+09</td>\n",
       "      <td>64.50</td>\n",
       "      <td>64.99</td>\n",
       "      <td>64.30</td>\n",
       "      <td>63.45</td>\n",
       "      <td>67.86</td>\n",
       "    </tr>\n",
       "  </tbody>\n",
       "</table>\n",
       "</div>"
      ],
      "text/plain": [
       "   Symbol Quadrant   eps      pe    pbv  percentyield     marketcap  \\\n",
       "0   DELTA       Ac  0.81  100.50  21.75          0.31  5.194120e+08   \n",
       "1     PTT       Ad  1.57   12.86   0.80          6.62  1.744858e+09   \n",
       "2     AOT       Ab  1.00   29.10   4.25          2.09  1.266002e+09   \n",
       "3  ADVANC       Ac  7.25   21.85   8.51          3.65  9.322627e+08   \n",
       "4   KBANK       Ab  5.67    8.09   0.68          7.19  8.519348e+08   \n",
       "5    TRUE       Ab  0.11    0.00   5.08          0.00  8.345208e+08   \n",
       "6     SCB       Ab  7.51    9.03   0.90          8.12  7.943464e+08   \n",
       "7     KTC       Ab  1.46    9.46   1.78          4.76  2.434419e+08   \n",
       "8     KTB       Ac  0.84    7.54   0.74          6.44  8.139685e+08   \n",
       "9   CPALL       Ab  1.57   14.91   3.18          3.00  1.141302e+09   \n",
       "\n",
       "   close_price    ema5   ema15   ema35    rsi  \n",
       "0       109.00  108.85  107.59  106.02  58.73  \n",
       "1        34.75   35.07   35.33   34.93  30.77  \n",
       "2        72.00   72.39   71.91   71.51  59.26  \n",
       "3       213.00  215.24  217.95  218.91  31.82  \n",
       "4       130.50  130.65  130.06  129.43  62.07  \n",
       "5         8.70    8.54    8.43    8.20  52.38  \n",
       "6       118.50  117.80  116.09  113.50  76.19  \n",
       "7        47.00   47.87   47.60   47.57  55.56  \n",
       "8        19.00   19.28   19.52   19.64  35.48  \n",
       "9        64.50   64.99   64.30   63.45  67.86  "
      ]
     },
     "metadata": {},
     "output_type": "display_data"
    }
   ],
   "source": [
    "# ============================================================\n",
    "# 🔰 Predict Multiple Stocks and Combine into DataFrame\n",
    "# ============================================================\n",
    "\n",
    "import pandas as pd\n",
    "\n",
    "# สมมติว่าคุณมีฟังก์ชันนี้จากขั้นตอนก่อนหน้าแล้ว\n",
    "# def predict_quadrant(symbol): -> return quadrant, input_data\n",
    "\n",
    "# -----------------------------\n",
    "# 1. รายชื่อหุ้นที่ต้องการทำนาย\n",
    "# -----------------------------\n",
    "symbols = [\"DELTA\", \"PTT\", \"AOT\", \"ADVANC\", \"KBANK\", \n",
    "           \"TRUE\", \"GULF\", \"SCB\", \"KTC\", \"KTB\", \"CPALL\"]\n",
    "\n",
    "# -----------------------------\n",
    "# 2. วนลูปทำนายหุ้นแต่ละตัว\n",
    "# -----------------------------\n",
    "results = []\n",
    "for sym in symbols:\n",
    "    try:\n",
    "        quadrant, data_used = predict_quadrant(sym)\n",
    "        row = {\"Symbol\": sym, \"Quadrant\": quadrant}\n",
    "        row.update(data_used)  # รวมฟีเจอร์ที่ใช้ในการทำนาย (optional)\n",
    "        results.append(row)\n",
    "        print(f\"✅ {sym} → {quadrant}\")\n",
    "    except Exception as e:\n",
    "        print(f\"❌ {sym}: {e}\")\n",
    "\n",
    "# -----------------------------\n",
    "# 3. รวมผลเป็น DataFrame\n",
    "# -----------------------------\n",
    "df_pred = pd.DataFrame(results)\n",
    "\n",
    "# แสดงเฉพาะคอลัมน์สำคัญ\n",
    "cols_show = [\"Symbol\", \"Quadrant\", \"eps\", \"pe\", \"pbv\", \"percentyield\", \n",
    "             \"marketcap\", \"close_price\", \"ema5\", \"ema15\", \"ema35\", \"rsi\"]\n",
    "df_show = df_pred[cols_show].round(2)\n",
    "\n",
    "print(\"\\n📊 ผลการทำนายทั้งหมด:\")\n",
    "display(df_show)\n"
   ]
  },
  {
   "cell_type": "code",
   "execution_count": 2,
   "id": "17db7967",
   "metadata": {},
   "outputs": [
    {
     "name": "stderr",
     "output_type": "stream",
     "text": [
      "WARNING:absl:Compiled the loaded model, but the compiled metrics have yet to be built. `model.compile_metrics` will be empty until you train or evaluate the model.\n"
     ]
    },
    {
     "name": "stdout",
     "output_type": "stream",
     "text": [
      "\u001b[1m 1/25\u001b[0m \u001b[37m━━━━━━━━━━━━━━━━━━━━\u001b[0m \u001b[1m2s\u001b[0m 88ms/step"
     ]
    },
    {
     "name": "stderr",
     "output_type": "stream",
     "text": [
      "e:\\Anaconda\\Lib\\site-packages\\sklearn\\base.py:376: InconsistentVersionWarning: Trying to unpickle estimator StandardScaler from version 1.6.1 when using version 1.5.2. This might lead to breaking code or invalid results. Use at your own risk. For more info please refer to:\n",
      "https://scikit-learn.org/stable/model_persistence.html#security-maintainability-limitations\n",
      "  warnings.warn(\n",
      "e:\\Anaconda\\Lib\\site-packages\\sklearn\\base.py:376: InconsistentVersionWarning: Trying to unpickle estimator LabelEncoder from version 1.6.1 when using version 1.5.2. This might lead to breaking code or invalid results. Use at your own risk. For more info please refer to:\n",
      "https://scikit-learn.org/stable/model_persistence.html#security-maintainability-limitations\n",
      "  warnings.warn(\n"
     ]
    },
    {
     "name": "stdout",
     "output_type": "stream",
     "text": [
      "\u001b[1m25/25\u001b[0m \u001b[32m━━━━━━━━━━━━━━━━━━━━\u001b[0m\u001b[37m\u001b[0m \u001b[1m0s\u001b[0m 6ms/step\n",
      "✅ Saved prediction results to: predicted_quadrants.xlsx\n"
     ]
    },
    {
     "data": {
      "image/png": "[encoded data removed]",
      "text/plain": [
       "<Figure size 600x500 with 2 Axes>"
      ]
     },
     "metadata": {},
     "output_type": "display_data"
    },
    {
     "name": "stdout",
     "output_type": "stream",
     "text": [
      "\n",
      "📊 Quadrant Count Matrix:\n",
      "Trend         a    b   c   d  e\n",
      "Fundamental                    \n",
      "A             0   69  32  13  0\n",
      "B             3  110  81  12  0\n",
      "C             0   88  47  36  0\n",
      "D            12   55  46  30  0\n",
      "E             0   75  81   9  0\n"
     ]
    }
   ],
   "source": [
    "# ============================================================\n",
    "# 🔰 Deployment: Predict All Stocks from Excel + Quadrant Heatmap\n",
    "# ============================================================\n",
    "\n",
    "import pandas as pd\n",
    "import numpy as np\n",
    "import joblib\n",
    "from tensorflow.keras.models import load_model\n",
    "import matplotlib.pyplot as plt\n",
    "\n",
    "# -----------------------------\n",
    "# 1️⃣ โหลดไฟล์ Excel และโมเดล\n",
    "# -----------------------------\n",
    "excel_path = \"fileformodel.xlsx\"\n",
    "model_path = \"deep_quadrant_model.h5\"\n",
    "scaler_path = \"scaler.pkl\"\n",
    "le_path = \"label_encoder.pkl\"\n",
    "\n",
    "df = pd.read_excel(excel_path)\n",
    "deep_model = load_model(model_path)\n",
    "scaler = joblib.load(scaler_path)\n",
    "le = joblib.load(le_path)\n",
    "\n",
    "# -----------------------------\n",
    "# 2️⃣ เตรียมฟีเจอร์ที่ใช้เทรนโมเดล\n",
    "# -----------------------------\n",
    "features = [\n",
    "    \"eps\", \"pe\", \"pbv\", \"percentyield\", \"marketcap\",\n",
    "    \"close_price\", \"high_price\", \"low_price\", \"open_price\",\n",
    "    \"value\", \"ema5\", \"ema15\", \"ema35\", \"ema89\", \"ema200\", \"rsi\"\n",
    "]\n",
    "\n",
    "# ตรวจสอบว่าฟีเจอร์ครบไหม\n",
    "missing = [f for f in features if f not in df.columns]\n",
    "if missing:\n",
    "    raise ValueError(f\"❌ ขาดคอลัมน์: {missing}\")\n",
    "\n",
    "# -----------------------------\n",
    "# 3️⃣ เตรียมข้อมูลและสเกล\n",
    "# -----------------------------\n",
    "X = df[features].replace([np.inf, -np.inf], np.nan)\n",
    "for c in X.columns:\n",
    "    X[c] = X[c].fillna(X[c].median())\n",
    "\n",
    "X_scaled = scaler.transform(X)\n",
    "\n",
    "# -----------------------------\n",
    "# 4️⃣ ทำนาย Quadrant ทั้งหมด\n",
    "# -----------------------------\n",
    "y_pred = deep_model.predict(X_scaled)\n",
    "y_class = np.argmax(y_pred, axis=1)\n",
    "df[\"Predicted Quadrant\"] = le.inverse_transform(y_class)\n",
    "\n",
    "# -----------------------------\n",
    "# 5️⃣ บันทึกผลลัพธ์ทั้งหมด\n",
    "# -----------------------------\n",
    "output_file = \"predicted_quadrants.xlsx\"\n",
    "df.to_excel(output_file, index=False)\n",
    "print(f\"✅ Saved prediction results to: {output_file}\")\n",
    "# -----------------------------\n",
    "# 6️⃣ สร้างตารางนับจำนวนหุ้นแต่ละ Quadrant\n",
    "# -----------------------------\n",
    "# แยก Quadrant ออกเป็น 2 ส่วน เช่น A–E และ a–e\n",
    "df[\"Fundamental\"] = df[\"Predicted Quadrant\"].str[0]\n",
    "df[\"Trend\"] = df[\"Predicted Quadrant\"].str[1]\n",
    "\n",
    "financial_levels = [\"A\", \"B\", \"C\", \"D\", \"E\"]\n",
    "trend_levels = [\"a\", \"b\", \"c\", \"d\", \"e\"]\n",
    "\n",
    "# สร้าง pivot table เพื่อนับจำนวนในแต่ละ Quadrant\n",
    "heatmap_data = pd.pivot_table(\n",
    "    df,\n",
    "    index=\"Fundamental\",\n",
    "    columns=\"Trend\",\n",
    "    values=\"symbol\",\n",
    "    aggfunc=\"count\",\n",
    "    fill_value=0\n",
    ").reindex(index=financial_levels, columns=trend_levels, fill_value=0)\n",
    "\n",
    "# -----------------------------\n",
    "# 7️⃣ วาด Heatmap (กำหนดโทนสีเอง)\n",
    "# -----------------------------\n",
    "import matplotlib.pyplot as plt\n",
    "import numpy as np\n",
    "\n",
    "\n",
    "color_theme = \"coolwarm\"\n",
    "\n",
    "fig, ax = plt.subplots(figsize=(6,5))\n",
    "im = ax.imshow(heatmap_data.values, cmap=color_theme)\n",
    "\n",
    "# ตั้งค่าฉลากแกน\n",
    "ax.set_xticks(np.arange(len(trend_levels)))\n",
    "ax.set_yticks(np.arange(len(financial_levels)))\n",
    "ax.set_xticklabels(trend_levels)\n",
    "ax.set_yticklabels(financial_levels)\n",
    "ax.set_xlabel(\"Trend (a–e)\")\n",
    "ax.set_ylabel(\"Fundamental Group (A–E)\")\n",
    "ax.set_title(f\"Quadrant Heatmap (Predicted) — Theme: {color_theme}\")\n",
    "\n",
    "# ใส่จำนวนในแต่ละช่อง\n",
    "for i in range(len(financial_levels)):\n",
    "    for j in range(len(trend_levels)):\n",
    "        ax.text(j, i, int(heatmap_data.values[i, j]), ha=\"center\", va=\"center\", color=\"white\", fontsize=10)\n",
    "\n",
    "# เพิ่มแถบสีด้านข้าง\n",
    "cbar = plt.colorbar(im)\n",
    "cbar.set_label(\"Stock Count\")\n",
    "\n",
    "plt.tight_layout()\n",
    "plt.show()\n",
    "\n",
    "\n",
    "# แสดงตารางสรุปจำนวนหุ้นแต่ละ Quadrant\n",
    "print(\"\\n📊 Quadrant Count Matrix:\")\n",
    "print(heatmap_data)\n"
   ]
  },
  {
   "cell_type": "code",
   "execution_count": 3,
   "id": "cc312ecf",
   "metadata": {},
   "outputs": [],
   "source": [
    "df_original = pd.read_excel(\"stock_all_data.xlsx\")\n",
    "df_predicted =df"
   ]
  },
  {
   "cell_type": "code",
   "execution_count": 4,
   "id": "01ebcea5",
   "metadata": {},
   "outputs": [
    {
     "data": {
      "text/plain": [
       "Index(['symbol', 'eps', 'pe', 'pbv', 'percentyield', 'volume', 'marketcap',\n",
       "       'score', 'time', 'close_price', 'high_price', 'low_price', 'open_price',\n",
       "       'value', 'ema5', 'ema15', 'ema35', 'ema89', 'ema200', 'rsi',\n",
       "       'Predicted Quadrant', 'Fundamental', 'Trend'],\n",
       "      dtype='object')"
      ]
     },
     "execution_count": 4,
     "metadata": {},
     "output_type": "execute_result"
    }
   ],
   "source": [
    "df.columns"
   ]
  },
  {
   "cell_type": "code",
   "execution_count": 5,
   "id": "fe0ee4aa",
   "metadata": {},
   "outputs": [
    {
     "name": "stdout",
     "output_type": "stream",
     "text": [
      "    symbol quadrant Predicted Quadrant        Match\n",
      "0     PPPM       Dd                 Dd       ✅ Same\n",
      "1     TPCH       Ac                 Bb  ❌ Different\n",
      "2     POLY       Ac                 Bc  ❌ Different\n",
      "3     VCOM       Ab                 Ab       ✅ Same\n",
      "4      NVD       Ed                 Ec  ❌ Different\n",
      "..     ...      ...                ...          ...\n",
      "794    TFM       Ab                 Ab       ✅ Same\n",
      "795  TRITN       Ed                 Ec  ❌ Different\n",
      "796     I2       Bd                 Bc  ❌ Different\n",
      "797   SPRC       Bd                 Bc  ❌ Different\n",
      "798  BLAND       Db                 Db       ✅ Same\n",
      "\n",
      "[799 rows x 4 columns]\n",
      "\n",
      "📊 Summary:\n",
      "Match\n",
      "✅ Same         502\n",
      "❌ Different    297\n",
      "Name: count, dtype: int64\n"
     ]
    }
   ],
   "source": [
    "merged = pd.merge(\n",
    "    df_original,\n",
    "    df_predicted[[\"symbol\", \"Predicted Quadrant\"]],\n",
    "    on=\"symbol\",\n",
    "    how=\"inner\",\n",
    "    suffixes=(\"_actual\", \"_predicted\")\n",
    ")\n",
    "\n",
    "# -----------------------------\n",
    "# 3️⃣ เปรียบเทียบ Quadrant เดิม vs ทำนาย\n",
    "# -----------------------------\n",
    "merged[\"Match\"] = merged.apply(\n",
    "    lambda x: \"✅ Same\" if x[\"quadrant\"] == x[\"Predicted Quadrant\"] else \"❌ Different\",\n",
    "    axis=1\n",
    ")\n",
    "\n",
    "# -----------------------------\n",
    "# 4️⃣ แสดงผลการเปรียบเทียบ\n",
    "# -----------------------------\n",
    "comparison = merged[[\"symbol\", \"quadrant\", \"Predicted Quadrant\", \"Match\"]]\n",
    "print(comparison)\n",
    "\n",
    "# -----------------------------\n",
    "# 5️⃣ นับจำนวนที่ตรง / ไม่ตรง\n",
    "# -----------------------------\n",
    "summary = comparison[\"Match\"].value_counts()\n",
    "print(\"\\n📊 Summary:\")\n",
    "print(summary)"
   ]
  },
  {
   "cell_type": "code",
   "execution_count": 6,
   "id": "162a14b7",
   "metadata": {},
   "outputs": [
    {
     "data": {
      "text/html": [
       "<div>\n",
       "<style scoped>\n",
       "    .dataframe tbody tr th:only-of-type {\n",
       "        vertical-align: middle;\n",
       "    }\n",
       "\n",
       "    .dataframe tbody tr th {\n",
       "        vertical-align: top;\n",
       "    }\n",
       "\n",
       "    .dataframe thead th {\n",
       "        text-align: right;\n",
       "    }\n",
       "</style>\n",
       "<table border=\"1\" class=\"dataframe\">\n",
       "  <thead>\n",
       "    <tr style=\"text-align: right;\">\n",
       "      <th></th>\n",
       "      <th>symbol</th>\n",
       "      <th>quadrant</th>\n",
       "      <th>Predicted Quadrant</th>\n",
       "      <th>Match</th>\n",
       "    </tr>\n",
       "  </thead>\n",
       "  <tbody>\n",
       "    <tr>\n",
       "      <th>0</th>\n",
       "      <td>PPPM</td>\n",
       "      <td>Dd</td>\n",
       "      <td>Dd</td>\n",
       "      <td>✅ Same</td>\n",
       "    </tr>\n",
       "    <tr>\n",
       "      <th>1</th>\n",
       "      <td>TPCH</td>\n",
       "      <td>Ac</td>\n",
       "      <td>Bb</td>\n",
       "      <td>❌ Different</td>\n",
       "    </tr>\n",
       "    <tr>\n",
       "      <th>2</th>\n",
       "      <td>POLY</td>\n",
       "      <td>Ac</td>\n",
       "      <td>Bc</td>\n",
       "      <td>❌ Different</td>\n",
       "    </tr>\n",
       "    <tr>\n",
       "      <th>3</th>\n",
       "      <td>VCOM</td>\n",
       "      <td>Ab</td>\n",
       "      <td>Ab</td>\n",
       "      <td>✅ Same</td>\n",
       "    </tr>\n",
       "    <tr>\n",
       "      <th>4</th>\n",
       "      <td>NVD</td>\n",
       "      <td>Ed</td>\n",
       "      <td>Ec</td>\n",
       "      <td>❌ Different</td>\n",
       "    </tr>\n",
       "    <tr>\n",
       "      <th>...</th>\n",
       "      <td>...</td>\n",
       "      <td>...</td>\n",
       "      <td>...</td>\n",
       "      <td>...</td>\n",
       "    </tr>\n",
       "    <tr>\n",
       "      <th>794</th>\n",
       "      <td>TFM</td>\n",
       "      <td>Ab</td>\n",
       "      <td>Ab</td>\n",
       "      <td>✅ Same</td>\n",
       "    </tr>\n",
       "    <tr>\n",
       "      <th>795</th>\n",
       "      <td>TRITN</td>\n",
       "      <td>Ed</td>\n",
       "      <td>Ec</td>\n",
       "      <td>❌ Different</td>\n",
       "    </tr>\n",
       "    <tr>\n",
       "      <th>796</th>\n",
       "      <td>I2</td>\n",
       "      <td>Bd</td>\n",
       "      <td>Bc</td>\n",
       "      <td>❌ Different</td>\n",
       "    </tr>\n",
       "    <tr>\n",
       "      <th>797</th>\n",
       "      <td>SPRC</td>\n",
       "      <td>Bd</td>\n",
       "      <td>Bc</td>\n",
       "      <td>❌ Different</td>\n",
       "    </tr>\n",
       "    <tr>\n",
       "      <th>798</th>\n",
       "      <td>BLAND</td>\n",
       "      <td>Db</td>\n",
       "      <td>Db</td>\n",
       "      <td>✅ Same</td>\n",
       "    </tr>\n",
       "  </tbody>\n",
       "</table>\n",
       "<p>799 rows × 4 columns</p>\n",
       "</div>"
      ],
      "text/plain": [
       "    symbol quadrant Predicted Quadrant        Match\n",
       "0     PPPM       Dd                 Dd       ✅ Same\n",
       "1     TPCH       Ac                 Bb  ❌ Different\n",
       "2     POLY       Ac                 Bc  ❌ Different\n",
       "3     VCOM       Ab                 Ab       ✅ Same\n",
       "4      NVD       Ed                 Ec  ❌ Different\n",
       "..     ...      ...                ...          ...\n",
       "794    TFM       Ab                 Ab       ✅ Same\n",
       "795  TRITN       Ed                 Ec  ❌ Different\n",
       "796     I2       Bd                 Bc  ❌ Different\n",
       "797   SPRC       Bd                 Bc  ❌ Different\n",
       "798  BLAND       Db                 Db       ✅ Same\n",
       "\n",
       "[799 rows x 4 columns]"
      ]
     },
     "execution_count": 6,
     "metadata": {},
     "output_type": "execute_result"
    }
   ],
   "source": [
    "# -----------------------------\n",
    "# 2️⃣ รวมข้อมูลโดยใช้ Symbol เป็นกุญแจ\n",
    "# -----------------------------\n",
    "merged = pd.merge(\n",
    "    df_original,\n",
    "    df_predicted[[\"symbol\", \"Predicted Quadrant\"]],\n",
    "    on=\"symbol\",\n",
    "    how=\"inner\",\n",
    "    suffixes=(\"_actual\", \"_predicted\")\n",
    ")\n",
    "\n",
    "# -----------------------------\n",
    "# 3️⃣ สร้างคอลัมน์เปรียบเทียบ\n",
    "# -----------------------------\n",
    "merged[\"Match\"] = merged.apply(\n",
    "    lambda x: \"✅ Same\" if x[\"quadrant\"] == x[\"Predicted Quadrant\"] else \"❌ Different\",\n",
    "    axis=1\n",
    ")\n",
    "\n",
    "# -----------------------------\n",
    "# 4️⃣ เลือกเฉพาะคอลัมน์สำคัญและเก็บเป็น DataFrame\n",
    "# -----------------------------\n",
    "comparison_df = merged[[\"symbol\", \"quadrant\", \"Predicted Quadrant\", \"Match\"]]\n",
    "\n",
    "# ✅ แสดง DataFrame (หรือใช้ในขั้นตอนต่อไป)\n",
    "comparison_df\n"
   ]
  },
  {
   "cell_type": "code",
   "execution_count": null,
   "id": "ed442955",
   "metadata": {},
   "outputs": [
    {
     "data": {
      "text/html": [
       "<div>\n",
       "<style scoped>\n",
       "    .dataframe tbody tr th:only-of-type {\n",
       "        vertical-align: middle;\n",
       "    }\n",
       "\n",
       "    .dataframe tbody tr th {\n",
       "        vertical-align: top;\n",
       "    }\n",
       "\n",
       "    .dataframe thead th {\n",
       "        text-align: right;\n",
       "    }\n",
       "</style>\n",
       "<table border=\"1\" class=\"dataframe\">\n",
       "  <thead>\n",
       "    <tr style=\"text-align: right;\">\n",
       "      <th></th>\n",
       "      <th>symbol</th>\n",
       "      <th>quadrant</th>\n",
       "      <th>Predicted Quadrant</th>\n",
       "      <th>Match</th>\n",
       "    </tr>\n",
       "  </thead>\n",
       "  <tbody>\n",
       "    <tr>\n",
       "      <th>67</th>\n",
       "      <td>KBANK</td>\n",
       "      <td>Ab</td>\n",
       "      <td>Ab</td>\n",
       "      <td>✅ Same</td>\n",
       "    </tr>\n",
       "    <tr>\n",
       "      <th>169</th>\n",
       "      <td>CPALL</td>\n",
       "      <td>Ab</td>\n",
       "      <td>Ab</td>\n",
       "      <td>✅ Same</td>\n",
       "    </tr>\n",
       "    <tr>\n",
       "      <th>279</th>\n",
       "      <td>PTT</td>\n",
       "      <td>Ab</td>\n",
       "      <td>Ab</td>\n",
       "      <td>✅ Same</td>\n",
       "    </tr>\n",
       "    <tr>\n",
       "      <th>290</th>\n",
       "      <td>AOT</td>\n",
       "      <td>Ab</td>\n",
       "      <td>Ab</td>\n",
       "      <td>✅ Same</td>\n",
       "    </tr>\n",
       "    <tr>\n",
       "      <th>343</th>\n",
       "      <td>KTC</td>\n",
       "      <td>Ab</td>\n",
       "      <td>Ab</td>\n",
       "      <td>✅ Same</td>\n",
       "    </tr>\n",
       "    <tr>\n",
       "      <th>402</th>\n",
       "      <td>TRUE</td>\n",
       "      <td>Ad</td>\n",
       "      <td>Ad</td>\n",
       "      <td>✅ Same</td>\n",
       "    </tr>\n",
       "    <tr>\n",
       "      <th>582</th>\n",
       "      <td>DELTA</td>\n",
       "      <td>Ab</td>\n",
       "      <td>Ab</td>\n",
       "      <td>✅ Same</td>\n",
       "    </tr>\n",
       "    <tr>\n",
       "      <th>697</th>\n",
       "      <td>SCB</td>\n",
       "      <td>Ab</td>\n",
       "      <td>Ab</td>\n",
       "      <td>✅ Same</td>\n",
       "    </tr>\n",
       "    <tr>\n",
       "      <th>759</th>\n",
       "      <td>KTB</td>\n",
       "      <td>Ab</td>\n",
       "      <td>Ab</td>\n",
       "      <td>✅ Same</td>\n",
       "    </tr>\n",
       "    <tr>\n",
       "      <th>788</th>\n",
       "      <td>ADVANC</td>\n",
       "      <td>Ac</td>\n",
       "      <td>Ab</td>\n",
       "      <td>❌ Different</td>\n",
       "    </tr>\n",
       "  </tbody>\n",
       "</table>\n",
       "</div>"
      ],
      "text/plain": [
       "     symbol quadrant Predicted Quadrant        Match\n",
       "67    KBANK       Ab                 Ab       ✅ Same\n",
       "169   CPALL       Ab                 Ab       ✅ Same\n",
       "279     PTT       Ab                 Ab       ✅ Same\n",
       "290     AOT       Ab                 Ab       ✅ Same\n",
       "343     KTC       Ab                 Ab       ✅ Same\n",
       "402    TRUE       Ad                 Ad       ✅ Same\n",
       "582   DELTA       Ab                 Ab       ✅ Same\n",
       "697     SCB       Ab                 Ab       ✅ Same\n",
       "759     KTB       Ab                 Ab       ✅ Same\n",
       "788  ADVANC       Ac                 Ab  ❌ Different"
      ]
     },
     "execution_count": 7,
     "metadata": {},
     "output_type": "execute_result"
    }
   ],
   "source": [
    "symbols = [\"DELTA\", \"PTT\", \"AOT\", \"ADVANC\", \"KBANK\", \n",
    "           \"TRUE\", \"GULF\", \"SCB\", \"KTC\", \"KTB\", \"CPALL\"]\n",
    "\n",
    "df_filtered = comparison_df[comparison_df['symbol'].isin(symbols)]\n",
    "\n",
    "df_filtered.head(11)"
   ]
  },
  {
   "cell_type": "code",
   "execution_count": 8,
   "id": "2dcb965c",
   "metadata": {},
   "outputs": [
    {
     "data": {
      "text/plain": [
       "(799, 4)"
      ]
     },
     "execution_count": 8,
     "metadata": {},
     "output_type": "execute_result"
    }
   ],
   "source": [
    "comparison_df.shape"
   ]
  },
  {
   "cell_type": "code",
   "execution_count": 9,
   "id": "c400da51",
   "metadata": {},
   "outputs": [
    {
     "name": "stdout",
     "output_type": "stream",
     "text": [
      "📘 Summary:\n"
     ]
    },
    {
     "data": {
      "text/html": [
       "<div>\n",
       "<style scoped>\n",
       "    .dataframe tbody tr th:only-of-type {\n",
       "        vertical-align: middle;\n",
       "    }\n",
       "\n",
       "    .dataframe tbody tr th {\n",
       "        vertical-align: top;\n",
       "    }\n",
       "\n",
       "    .dataframe thead th {\n",
       "        text-align: right;\n",
       "    }\n",
       "</style>\n",
       "<table border=\"1\" class=\"dataframe\">\n",
       "  <thead>\n",
       "    <tr style=\"text-align: right;\">\n",
       "      <th></th>\n",
       "      <th>Category</th>\n",
       "      <th>Count</th>\n",
       "    </tr>\n",
       "  </thead>\n",
       "  <tbody>\n",
       "    <tr>\n",
       "      <th>0</th>\n",
       "      <td>✅ Same</td>\n",
       "      <td>502</td>\n",
       "    </tr>\n",
       "    <tr>\n",
       "      <th>1</th>\n",
       "      <td>❌ Different</td>\n",
       "      <td>297</td>\n",
       "    </tr>\n",
       "  </tbody>\n",
       "</table>\n",
       "</div>"
      ],
      "text/plain": [
       "      Category  Count\n",
       "0       ✅ Same    502\n",
       "1  ❌ Different    297"
      ]
     },
     "metadata": {},
     "output_type": "display_data"
    }
   ],
   "source": [
    "# -----------------------------\n",
    "# ✅ รวมสรุปจำนวน\n",
    "# -----------------------------\n",
    "summary_df = (\n",
    "    comparison_df[\"Match\"]\n",
    "    .value_counts()\n",
    "    .rename_axis(\"Category\")\n",
    "    .reset_index(name=\"Count\")\n",
    ")\n",
    "\n",
    "# -----------------------------\n",
    "# ✅ แสดงผลทั้งหมด (ใช้ใน Notebook)\n",
    "# -----------------------------\n",
    "print(\"📘 Summary:\")\n",
    "display(summary_df)\n"
   ]
  },
  {
   "cell_type": "code",
   "execution_count": 10,
   "id": "5e757ac5",
   "metadata": {},
   "outputs": [
    {
     "name": "stdout",
     "output_type": "stream",
     "text": [
      "✅ Accuracy: 62.83%\n",
      "❌ Error: 37.17%\n"
     ]
    }
   ],
   "source": [
    "total = 799\n",
    "same = 502\n",
    "diff = 297\n",
    "\n",
    "accuracy = (same / total) * 100\n",
    "error = (diff / total) * 100\n",
    "\n",
    "print(f\"✅ Accuracy: {accuracy:.2f}%\")\n",
    "print(f\"❌ Error: {error:.2f}%\")\n"
   ]
  },
  {
   "cell_type": "code",
   "execution_count": 11,
   "id": "6d54a2f7",
   "metadata": {},
   "outputs": [
    {
     "data": {
      "text/html": [
       "<div>\n",
       "<style scoped>\n",
       "    .dataframe tbody tr th:only-of-type {\n",
       "        vertical-align: middle;\n",
       "    }\n",
       "\n",
       "    .dataframe tbody tr th {\n",
       "        vertical-align: top;\n",
       "    }\n",
       "\n",
       "    .dataframe thead th {\n",
       "        text-align: right;\n",
       "    }\n",
       "</style>\n",
       "<table border=\"1\" class=\"dataframe\">\n",
       "  <thead>\n",
       "    <tr style=\"text-align: right;\">\n",
       "      <th>Match</th>\n",
       "      <th>quadrant</th>\n",
       "      <th>✅ Same</th>\n",
       "      <th>❌ Different</th>\n",
       "      <th>Total</th>\n",
       "      <th>Accuracy (%)</th>\n",
       "    </tr>\n",
       "  </thead>\n",
       "  <tbody>\n",
       "    <tr>\n",
       "      <th>12</th>\n",
       "      <td>Da</td>\n",
       "      <td>7</td>\n",
       "      <td>0</td>\n",
       "      <td>7</td>\n",
       "      <td>100.00</td>\n",
       "    </tr>\n",
       "    <tr>\n",
       "      <th>5</th>\n",
       "      <td>Bb</td>\n",
       "      <td>63</td>\n",
       "      <td>3</td>\n",
       "      <td>66</td>\n",
       "      <td>95.45</td>\n",
       "    </tr>\n",
       "    <tr>\n",
       "      <th>17</th>\n",
       "      <td>Eb</td>\n",
       "      <td>62</td>\n",
       "      <td>5</td>\n",
       "      <td>67</td>\n",
       "      <td>92.54</td>\n",
       "    </tr>\n",
       "    <tr>\n",
       "      <th>9</th>\n",
       "      <td>Cb</td>\n",
       "      <td>62</td>\n",
       "      <td>6</td>\n",
       "      <td>68</td>\n",
       "      <td>91.18</td>\n",
       "    </tr>\n",
       "    <tr>\n",
       "      <th>18</th>\n",
       "      <td>Ec</td>\n",
       "      <td>39</td>\n",
       "      <td>11</td>\n",
       "      <td>50</td>\n",
       "      <td>78.00</td>\n",
       "    </tr>\n",
       "    <tr>\n",
       "      <th>1</th>\n",
       "      <td>Ab</td>\n",
       "      <td>57</td>\n",
       "      <td>19</td>\n",
       "      <td>76</td>\n",
       "      <td>75.00</td>\n",
       "    </tr>\n",
       "    <tr>\n",
       "      <th>13</th>\n",
       "      <td>Db</td>\n",
       "      <td>43</td>\n",
       "      <td>15</td>\n",
       "      <td>58</td>\n",
       "      <td>74.14</td>\n",
       "    </tr>\n",
       "    <tr>\n",
       "      <th>6</th>\n",
       "      <td>Bc</td>\n",
       "      <td>38</td>\n",
       "      <td>16</td>\n",
       "      <td>54</td>\n",
       "      <td>70.37</td>\n",
       "    </tr>\n",
       "    <tr>\n",
       "      <th>14</th>\n",
       "      <td>Dc</td>\n",
       "      <td>27</td>\n",
       "      <td>21</td>\n",
       "      <td>48</td>\n",
       "      <td>56.25</td>\n",
       "    </tr>\n",
       "    <tr>\n",
       "      <th>10</th>\n",
       "      <td>Cc</td>\n",
       "      <td>28</td>\n",
       "      <td>22</td>\n",
       "      <td>50</td>\n",
       "      <td>56.00</td>\n",
       "    </tr>\n",
       "    <tr>\n",
       "      <th>4</th>\n",
       "      <td>Ba</td>\n",
       "      <td>3</td>\n",
       "      <td>3</td>\n",
       "      <td>6</td>\n",
       "      <td>50.00</td>\n",
       "    </tr>\n",
       "    <tr>\n",
       "      <th>2</th>\n",
       "      <td>Ac</td>\n",
       "      <td>22</td>\n",
       "      <td>23</td>\n",
       "      <td>45</td>\n",
       "      <td>48.89</td>\n",
       "    </tr>\n",
       "    <tr>\n",
       "      <th>15</th>\n",
       "      <td>Dd</td>\n",
       "      <td>17</td>\n",
       "      <td>23</td>\n",
       "      <td>40</td>\n",
       "      <td>42.50</td>\n",
       "    </tr>\n",
       "    <tr>\n",
       "      <th>3</th>\n",
       "      <td>Ad</td>\n",
       "      <td>12</td>\n",
       "      <td>23</td>\n",
       "      <td>35</td>\n",
       "      <td>34.29</td>\n",
       "    </tr>\n",
       "    <tr>\n",
       "      <th>11</th>\n",
       "      <td>Cd</td>\n",
       "      <td>12</td>\n",
       "      <td>27</td>\n",
       "      <td>39</td>\n",
       "      <td>30.77</td>\n",
       "    </tr>\n",
       "    <tr>\n",
       "      <th>7</th>\n",
       "      <td>Bd</td>\n",
       "      <td>6</td>\n",
       "      <td>33</td>\n",
       "      <td>39</td>\n",
       "      <td>15.38</td>\n",
       "    </tr>\n",
       "    <tr>\n",
       "      <th>19</th>\n",
       "      <td>Ed</td>\n",
       "      <td>4</td>\n",
       "      <td>37</td>\n",
       "      <td>41</td>\n",
       "      <td>9.76</td>\n",
       "    </tr>\n",
       "    <tr>\n",
       "      <th>16</th>\n",
       "      <td>Ea</td>\n",
       "      <td>0</td>\n",
       "      <td>3</td>\n",
       "      <td>3</td>\n",
       "      <td>0.00</td>\n",
       "    </tr>\n",
       "    <tr>\n",
       "      <th>8</th>\n",
       "      <td>Ca</td>\n",
       "      <td>0</td>\n",
       "      <td>4</td>\n",
       "      <td>4</td>\n",
       "      <td>0.00</td>\n",
       "    </tr>\n",
       "    <tr>\n",
       "      <th>0</th>\n",
       "      <td>Aa</td>\n",
       "      <td>0</td>\n",
       "      <td>3</td>\n",
       "      <td>3</td>\n",
       "      <td>0.00</td>\n",
       "    </tr>\n",
       "  </tbody>\n",
       "</table>\n",
       "</div>"
      ],
      "text/plain": [
       "Match quadrant  ✅ Same  ❌ Different  Total  Accuracy (%)\n",
       "12          Da       7            0      7        100.00\n",
       "5           Bb      63            3     66         95.45\n",
       "17          Eb      62            5     67         92.54\n",
       "9           Cb      62            6     68         91.18\n",
       "18          Ec      39           11     50         78.00\n",
       "1           Ab      57           19     76         75.00\n",
       "13          Db      43           15     58         74.14\n",
       "6           Bc      38           16     54         70.37\n",
       "14          Dc      27           21     48         56.25\n",
       "10          Cc      28           22     50         56.00\n",
       "4           Ba       3            3      6         50.00\n",
       "2           Ac      22           23     45         48.89\n",
       "15          Dd      17           23     40         42.50\n",
       "3           Ad      12           23     35         34.29\n",
       "11          Cd      12           27     39         30.77\n",
       "7           Bd       6           33     39         15.38\n",
       "19          Ed       4           37     41          9.76\n",
       "16          Ea       0            3      3          0.00\n",
       "8           Ca       0            4      4          0.00\n",
       "0           Aa       0            3      3          0.00"
      ]
     },
     "metadata": {},
     "output_type": "display_data"
    }
   ],
   "source": [
    "# ------------------------------------------------\n",
    "# ✅ นับจำนวน 'Same' / 'Different' แยกตาม Quadrant จริง\n",
    "# ------------------------------------------------\n",
    "group_summary = (\n",
    "    comparison_df\n",
    "    .groupby([\"quadrant\", \"Match\"])\n",
    "    .size()\n",
    "    .unstack(fill_value=0)\n",
    "    .reset_index()\n",
    ")\n",
    "\n",
    "# เพิ่มคอลัมน์เปอร์เซ็นต์ความถูกต้องต่อกลุ่ม\n",
    "group_summary[\"Total\"] = group_summary[\"✅ Same\"] + group_summary[\"❌ Different\"]\n",
    "group_summary[\"Accuracy (%)\"] = (group_summary[\"✅ Same\"] / group_summary[\"Total\"] * 100).round(2)\n",
    "\n",
    "# เรียงจาก Accuracy สูง → ต่ำ\n",
    "group_summary = group_summary.sort_values(\"Accuracy (%)\", ascending=False)\n",
    "\n",
    "display(group_summary)\n"
   ]
  },
  {
   "cell_type": "code",
   "execution_count": 12,
   "id": "e7389f1f",
   "metadata": {},
   "outputs": [
    {
     "data": {
      "image/png": "[encoded data removed]",
      "text/plain": [
       "<Figure size 800x500 with 1 Axes>"
      ]
     },
     "metadata": {},
     "output_type": "display_data"
    }
   ],
   "source": [
    "import matplotlib.pyplot as plt\n",
    "\n",
    "plt.figure(figsize=(8,5))\n",
    "plt.bar(group_summary[\"quadrant\"], group_summary[\"Accuracy (%)\"], color=\"skyblue\")\n",
    "plt.title(\"Model Accuracy per Quadrant Group\")\n",
    "plt.xlabel(\"True Quadrant\")\n",
    "plt.ylabel(\"Accuracy (%)\")\n",
    "plt.xticks(rotation=45)\n",
    "plt.tight_layout()\n",
    "plt.show()\n"
   ]
  },
  {
   "cell_type": "code",
   "execution_count": 16,
   "id": "b0716e8e",
   "metadata": {},
   "outputs": [
    {
     "data": {
      "application/vnd.plotly.v1+json": {
       "config": {
        "plotlyServerURL": "https://plot.ly"
       },
       "data": [
        {
         "cells": {
          "align": "center",
          "fill": {
           "color": [
            [
             "#2ecc71",
             "#2ecc71",
             "#2ecc71",
             "#2ecc71",
             "#2ecc71"
            ],
            [
             "#58d68d",
             "#58d68d",
             "#58d68d",
             "#58d68d",
             "#58d68d"
            ],
            [
             "#f4d03f",
             "#f4d03f",
             "#f4d03f",
             "#f4d03f",
             "#f4d03f"
            ],
            [
             "#f39c12",
             "#f39c12",
             "#f39c12",
             "#f39c12",
             "#f39c12"
            ],
            [
             "#e74c3c",
             "#e74c3c",
             "#e74c3c",
             "#e74c3c",
             "#e74c3c"
            ]
           ]
          },
          "font": {
           "color": "white",
           "size": 11
          },
          "height": 150,
          "values": [
           [
            "<b>Aa</b><br>-",
            "<b>Ab</b><br>VCOM<br>ADVICE<br>SAT<br>AYUD<br>PTTEP<br>KBANK<br>SAPPE<br>SCGP<br>TSC<br>BRR<br>TTW<br>ITC<br>DMT<br>PMTA<br>UAC<br>SCC<br>CPALL<br>KKP<br>CSC<br>PACO<br>BKIH<br>MC<br>SECURE<br>SPC<br>PTT<br>TISCO<br>AOT<br>MEGA<br>BDMS<br>TOP<br>ICHI<br>KTC<br>PM<br>CPR<br>BBL<br>UVAN<br>TIPH<br>KBS<br>AMA<br>AEONTS<br>ICN<br>CBG<br>BUI<br>AAI<br>TTB<br>TCAP<br>PATO<br>TVO<br>SAFE<br>SMPC<br>DELTA<br>COM7<br>ASIAN<br>SAUCE<br>DRT<br>PRM<br>ALUCON<br>HMPRO<br>SCP<br>BIZ<br>NYT<br>SABINA<br>SCB<br>SPALI<br>BH<br>CPN<br>KTB<br>ADVANC<br>TFM",
            "<b>Ac</b><br>SNP<br>APO<br>UP<br>MOSHI<br>PIN<br>SAV<br>TQM<br>KLINIQ<br>TACC<br>TKN<br>RCL<br>AU<br>LANNA<br>GYT<br>DV8<br>KJL<br>AIE<br>EGCO<br>NETBAY<br>TRT<br>XO<br>AUCT<br>TMW<br>GC<br>SPCG<br>JTS<br>METCO<br>SCCC<br>PT<br>HYDRO<br>AIT<br>TQR",
            "<b>Ad</b><br>SMD100<br>KEX<br>NSL<br>KISS<br>TNR<br>MONO<br>RSP<br>TRUE<br>NAT<br>MEB<br>BA<br>SNNP<br>EKH",
            "<b>Ae</b><br>-"
           ],
           [
            "<b>Ba</b><br>PTG<br>TPS<br>CPI",
            "<b>Bb</b><br>TPCH<br>ROJNA<br>ASP<br>CPAXT<br>TPBI<br>M<br>ARROW<br>PCSGH<br>SPA<br>TPAC<br>ZAA<br>FORTH<br>TEAMG<br>KCG<br>BBIK<br>YONG<br>TRU<br>SO<br>TIDLOR<br>SAK<br>HARN<br>IRC<br>ONEE<br>IT<br>TU<br>SK<br>DTCENT<br>SINO<br>HFT<br>WINNER<br>HPT<br>SAWAD<br>GABLE<br>SPREME<br>MOONG<br>PIMO<br>K<br>ILM<br>PHOL<br>AURA<br>ROCK<br>AKR<br>QTC<br>TOG<br>SMIT<br>PSL<br>MODERN<br>TCC<br>MPJ<br>SPI<br>PRI<br>TNH<br>SCL<br>BKD<br>SEAOIL<br>INGRS<br>PDG<br>YUASA<br>NOBLE<br>WICE<br>TATG<br>UEC<br>BLA<br>WP<br>BTG<br>KWM<br>RPH<br>UV<br>PCC<br>ALLA<br>APCO<br>KGI<br>MTC<br>PR9<br>TLI<br>OR<br>BJC<br>ASIMAR<br>SC<br>MAGURO<br>LHK<br>TRC<br>ITNS<br>STGT<br>FLOYD<br>IFS<br>UBA<br>UPOIC<br>TPIPP<br>IVL<br>LEO<br>BGRIM<br>MTI<br>SKN<br>CH<br>TERA<br>RJH<br>WHAUP<br>TEGH<br>CPW<br>MFEC<br>COCOCO<br>LH<br>NNCL<br>SUN<br>MSC<br>FSMART<br>ANI<br>WARRIX<br>ADD",
            "<b>Bc</b><br>POLY<br>SUSCO<br>STP<br>NCP<br>SIS<br>CRC<br>TAN<br>TASCO<br>SFLEX<br>PCE<br>CENTEL<br>ILINK<br>MST<br>TOA<br>UTP<br>LALIN<br>MFC<br>PHG<br>MASTER<br>CPH<br>BEM<br>FM<br>S&J<br>HTC<br>DITTO<br>CCET<br>SIRI<br>BPP<br>PQS<br>TFG<br>ITTHI<br>FTE<br>SCM<br>SMART<br>HANA<br>STA<br>KAMART<br>JMT<br>SORKON<br>NER<br>SVI<br>SSF<br>CREDIT<br>TMD<br>GTB<br>AMATA<br>TEAM<br>TEKA<br>MCS<br>SYNEX<br>BCH<br>KCE<br>QH<br>SUC<br>PB<br>GPI<br>PTTGC<br>AI<br>MINT<br>AH<br>EURO<br>III<br>NTV<br>Q-CON<br>OSP<br>KIAT<br>TKS<br>MBK<br>STX<br>BM<br>BANPU<br>A5<br>NEO<br>THIP<br>GPSC<br>CPF<br>APURE<br>WHA<br>PRAKIT<br>I2<br>SPRC",
            "<b>Bd</b><br>MGI<br>SISB<br>SWC<br>APP<br>DCC<br>BTC<br>GFC<br>SRS<br>PRTR<br>CHG<br>SSSC<br>READY",
            "<b>Be</b><br>-"
           ],
           [
            "<b>Ca</b><br>-",
            "<b>Cb</b><br>EA<br>LEE<br>PSP<br>SNPS<br>NPK<br>MGC<br>TK<br>NDR<br>WINDOW<br>BIG<br>PRG<br>KOOL<br>SVOA<br>RPC<br>MAJOR<br>TVH<br>TWPC<br>RAM<br>SCGD<br>AHC<br>KCAR<br>STI<br>ROCTEC<br>GFPT<br>CCP<br>M-CHAI<br>SUTHA<br>SYMC<br>VIBHA<br>PTL<br>PYLON<br>JUBILE<br>BCPG<br>TPLAS<br>JMART<br>ATP30<br>STC<br>KK<br>ASK<br>MGT<br>FMT<br>CNT<br>VIH<br>SELIC<br>ADB<br>BKGI<br>SPVI<br>AMC<br>ARIP<br>CPT<br>TTA<br>TC<br>SVT<br>BAFS<br>BTS<br>THANA<br>TNP<br>FPT<br>COLOR<br>SE<br>HL<br>SKR<br>FTI<br>BE8<br>BCT<br>PJW<br>ICC<br>SGP<br>TITLE<br>AKP<br>VNG<br>EPG<br>PRAPAT<br>CMAN<br>STECH<br>MILL<br>SENA<br>WPH<br>TTT<br>PLT<br>KUMWEL<br>SRICHA<br>S11<br>SDC<br>VL<br>MENA<br>BAY<br>D",
            "<b>Cc</b><br>PLUS<br>LPN<br>TRP<br>CM<br>GUNKUL<br>NKT<br>BVG<br>ESTAR<br>CKP<br>THANI<br>SJWD<br>ACG<br>DEXON<br>CHAO<br>L&E<br>HTECH<br>PSG<br>SYNTEC<br>CSS<br>BGC<br>BAM<br>2S<br>HUMAN<br>UBE<br>TBN<br>LHFG<br>ASEFA<br>CEYE<br>PSH<br>VRANDA<br>BC<br>MCA<br>TPP<br>SONIC<br>TIPCO<br>INOX<br>LST<br>HENG<br>WIIK<br>PREB<br>INET<br>TMAN<br>B52<br>NAM<br>AMARC<br>TPIPL<br>BIS",
            "<b>Cd</b><br>JDF<br>OKJ<br>TFMAMA<br>PDJ<br>AWC<br>AF<br>ZEN<br>IND<br>STANLY<br>LPH<br>BCP<br>GLOBAL<br>CK<br>SAAM<br>EASON<br>MEDEZE<br>BLC<br>SKY<br>SITHAI<br>IHL<br>RBF<br>SICT<br>ERW<br>FPI<br>SEI<br>KYE<br>SSP<br>SANKO<br>NL<br>MALEE<br>PTC<br>PLANB<br>INSET<br>JPARK<br>YGG<br>KTIS",
            "<b>Ce</b><br>-"
           ],
           [
            "<b>Da</b><br>GBX<br>BR<br>AP<br>SEAFCO<br>AS<br>AIRA<br>CMC<br>AMARIN<br>NCL<br>MTW<br>DEMCO<br>CMR",
            "<b>Db</b><br>SFT<br>SHR<br>BIOTEC<br>LDC<br>ITD<br>PAP<br>WACOAL<br>EFORL<br>DCON<br>PERM<br>NEX<br>ACE<br>IP<br>KTMS<br>CTW<br>STPI<br>PANEL<br>DHOUSE<br>TMILL<br>SGC<br>DDD<br>THG<br>DIMET<br>ACC<br>ARIN<br>ORN<br>IMH<br>MOTHER<br>PPS<br>CPANEL<br>TPA<br>DUSIT<br>UPF<br>STECON<br>BTNC<br>KCC<br>WINMED<br>SENX<br>CHASE<br>CIVIL<br>SCG<br>AMATAV<br>IROYAL<br>UKEM<br>JSP<br>ORI<br>LOXLEY<br>TGE<br>NTSC<br>CMO<br>SE-ED<br>SINGER<br>PRECHA<br>PEACE<br>BLAND",
            "<b>Dc</b><br>KSL<br>PG<br>ASAP<br>QTCG<br>XBIO<br>WGE<br>ALT<br>KGEN<br>AAV<br>BEAUTY<br>BSRC<br>NEWS<br>JAS<br>GLORY<br>UMI<br>IVF<br>TMI<br>TMT<br>SMT<br>NCAP<br>PROS<br>LTS<br>AJA<br>JR<br>KC<br>THREL<br>PPM<br>PRINC<br>A<br>TNDT<br>DOHOME<br>MATI<br>KUN<br>JAK<br>UNIQ<br>CHAYO<br>VS<br>IRPC<br>BROCK<br>XYZ<br>BPS<br>BBGI<br>SALEE<br>VPO<br>MITSIB<br>FVC",
            "<b>Dd</b><br>PPPM<br>VGI<br>NOVA<br>MATCH<br>GGC<br>PLANET<br>TKC<br>NEP<br>NC<br>SNC<br>PIS<br>THCOM<br>ZIGA<br>QLT<br>PROEN<br>VARO<br>SA<br>ASW<br>SAMTEL<br>24CS<br>SCI<br>CAZ<br>DOD<br>GREEN<br>ETL<br>PMC<br>PAF<br>SAMART<br>GRAMMY<br>SCAP",
            "<b>De</b><br>-"
           ],
           [
            "<b>Ea</b><br>-",
            "<b>Eb</b><br>TPOLY<br>WORK<br>SIAM<br>RICHY<br>TSI<br>META<br>IRCP<br>WAVE<br>ASIA<br>SOLAR<br>EMC<br>SKE<br>TGPRO<br>KCM<br>FSX<br>CITY<br>SCN<br>NCH<br>SLP<br>TWZ<br>BLESS<br>UBIS<br>TFI<br>DPAINT<br>AE<br>TRV<br>SGF<br>MK<br>PPP<br>TSR<br>SAMCO<br>EASTW<br>TMC<br>TRUBB<br>TTCL<br>PRIME<br>CHEWA<br>THRE<br>CHIC<br>PK<br>HEALTH<br>FNS<br>TYCN<br>ABM<br>ML<br>BJCHI<br>CFRESH<br>TWP<br>TSE<br>RT<br>MBAX<br>GRAND<br>TPL<br>PL<br>BEYOND<br>CRD<br>CI<br>BRI<br>BSM<br>CSP<br>CHO<br>SAM<br>SR<br>S<br>AGE<br>RML<br>STELLA<br>CWT<br>CGH<br>AKS<br>BWG<br>APCS<br>BYD<br>TSTH<br>SPACK",
            "<b>Ec</b><br>NVD<br>SVR<br>AJ<br>TIGER<br>SAF<br>ASN<br>CGD<br>PLAT<br>MCOT<br>MUD<br>TNPC<br>J<br>JCKH<br>UREKA<br>WFX<br>FANCY<br>TCMC<br>GCAP<br>PORT<br>AMR<br>BTW<br>TAKUNI<br>TNITY<br>B<br>MJD<br>XPG<br>MIDA<br>MDX<br>TAE<br>TCJ<br>TVT<br>GENCO<br>CIG<br>PEER<br>SUPER<br>RABBIT<br>EP<br>GEL<br>MICRO<br>ECF<br>RS<br>CRANE<br>SST<br>BGT<br>TKT<br>SIMAT<br>TVDH<br>SAWANG<br>NV<br>PRIN<br>CFARM<br>ALPHAX<br>THMUI<br>COMAN<br>IIG<br>LIT<br>CEN<br>ETE<br>ANAN<br>BSBM<br>PSTC<br>INSURE<br>JCK<br>GJS<br>PLE<br>STOWER<br>RP<br>KASET<br>FN<br>ETC<br>TH<br>AMANAH<br>THE<br>TM<br>EVER<br>CHOW<br>GTV<br>AQUA<br>OGC<br>RWI<br>TRITN",
            "<b>Ed</b><br>ITEL<br>WIN<br>MORE<br>PROUD<br>EAST<br>PF<br>NATION<br>CPL<br>SQ",
            "<b>Ee</b><br>-"
           ]
          ]
         },
         "header": {
          "align": "center",
          "fill": {
           "color": "#dcdcdc"
          },
          "font": {
           "color": "black",
           "size": 14
          },
          "values": [
           "<b>a</b>",
           "<b>b</b>",
           "<b>c</b>",
           "<b>d</b>",
           "<b>e</b>"
          ]
         },
         "type": "table"
        }
       ],
       "layout": {
        "template": {
         "data": {
          "bar": [
           {
            "error_x": {
             "color": "#2a3f5f"
            },
            "error_y": {
             "color": "#2a3f5f"
            },
            "marker": {
             "line": {
              "color": "#E5ECF6",
              "width": 0.5
             },
             "pattern": {
              "fillmode": "overlay",
              "size": 10,
              "solidity": 0.2
             }
            },
            "type": "bar"
           }
          ],
          "barpolar": [
           {
            "marker": {
             "line": {
              "color": "#E5ECF6",
              "width": 0.5
             },
             "pattern": {
              "fillmode": "overlay",
              "size": 10,
              "solidity": 0.2
             }
            },
            "type": "barpolar"
           }
          ],
          "carpet": [
           {
            "aaxis": {
             "endlinecolor": "#2a3f5f",
             "gridcolor": "white",
             "linecolor": "white",
             "minorgridcolor": "white",
             "startlinecolor": "#2a3f5f"
            },
            "baxis": {
             "endlinecolor": "#2a3f5f",
             "gridcolor": "white",
             "linecolor": "white",
             "minorgridcolor": "white",
             "startlinecolor": "#2a3f5f"
            },
            "type": "carpet"
           }
          ],
          "choropleth": [
           {
            "colorbar": {
             "outlinewidth": 0,
             "ticks": ""
            },
            "type": "choropleth"
           }
          ],
          "contour": [
           {
            "colorbar": {
             "outlinewidth": 0,
             "ticks": ""
            },
            "colorscale": [
             [
              0,
              "#0d0887"
             ],
             [
              0.1111111111111111,
              "#46039f"
             ],
             [
              0.2222222222222222,
              "#7201a8"
             ],
             [
              0.3333333333333333,
              "#9c179e"
             ],
             [
              0.4444444444444444,
              "#bd3786"
             ],
             [
              0.5555555555555556,
              "#d8576b"
             ],
             [
              0.6666666666666666,
              "#ed7953"
             ],
             [
              0.7777777777777778,
              "#fb9f3a"
             ],
             [
              0.8888888888888888,
              "#fdca26"
             ],
             [
              1,
              "#f0f921"
             ]
            ],
            "type": "contour"
           }
          ],
          "contourcarpet": [
           {
            "colorbar": {
             "outlinewidth": 0,
             "ticks": ""
            },
            "type": "contourcarpet"
           }
          ],
          "heatmap": [
           {
            "colorbar": {
             "outlinewidth": 0,
             "ticks": ""
            },
            "colorscale": [
             [
              0,
              "#0d0887"
             ],
             [
              0.1111111111111111,
              "#46039f"
             ],
             [
              0.2222222222222222,
              "#7201a8"
             ],
             [
              0.3333333333333333,
              "#9c179e"
             ],
             [
              0.4444444444444444,
              "#bd3786"
             ],
             [
              0.5555555555555556,
              "#d8576b"
             ],
             [
              0.6666666666666666,
              "#ed7953"
             ],
             [
              0.7777777777777778,
              "#fb9f3a"
             ],
             [
              0.8888888888888888,
              "#fdca26"
             ],
             [
              1,
              "#f0f921"
             ]
            ],
            "type": "heatmap"
           }
          ],
          "heatmapgl": [
           {
            "colorbar": {
             "outlinewidth": 0,
             "ticks": ""
            },
            "colorscale": [
             [
              0,
              "#0d0887"
             ],
             [
              0.1111111111111111,
              "#46039f"
             ],
             [
              0.2222222222222222,
              "#7201a8"
             ],
             [
              0.3333333333333333,
              "#9c179e"
             ],
             [
              0.4444444444444444,
              "#bd3786"
             ],
             [
              0.5555555555555556,
              "#d8576b"
             ],
             [
              0.6666666666666666,
              "#ed7953"
             ],
             [
              0.7777777777777778,
              "#fb9f3a"
             ],
             [
              0.8888888888888888,
              "#fdca26"
             ],
             [
              1,
              "#f0f921"
             ]
            ],
            "type": "heatmapgl"
           }
          ],
          "histogram": [
           {
            "marker": {
             "pattern": {
              "fillmode": "overlay",
              "size": 10,
              "solidity": 0.2
             }
            },
            "type": "histogram"
           }
          ],
          "histogram2d": [
           {
            "colorbar": {
             "outlinewidth": 0,
             "ticks": ""
            },
            "colorscale": [
             [
              0,
              "#0d0887"
             ],
             [
              0.1111111111111111,
              "#46039f"
             ],
             [
              0.2222222222222222,
              "#7201a8"
             ],
             [
              0.3333333333333333,
              "#9c179e"
             ],
             [
              0.4444444444444444,
              "#bd3786"
             ],
             [
              0.5555555555555556,
              "#d8576b"
             ],
             [
              0.6666666666666666,
              "#ed7953"
             ],
             [
              0.7777777777777778,
              "#fb9f3a"
             ],
             [
              0.8888888888888888,
              "#fdca26"
             ],
             [
              1,
              "#f0f921"
             ]
            ],
            "type": "histogram2d"
           }
          ],
          "histogram2dcontour": [
           {
            "colorbar": {
             "outlinewidth": 0,
             "ticks": ""
            },
            "colorscale": [
             [
              0,
              "#0d0887"
             ],
             [
              0.1111111111111111,
              "#46039f"
             ],
             [
              0.2222222222222222,
              "#7201a8"
             ],
             [
              0.3333333333333333,
              "#9c179e"
             ],
             [
              0.4444444444444444,
              "#bd3786"
             ],
             [
              0.5555555555555556,
              "#d8576b"
             ],
             [
              0.6666666666666666,
              "#ed7953"
             ],
             [
              0.7777777777777778,
              "#fb9f3a"
             ],
             [
              0.8888888888888888,
              "#fdca26"
             ],
             [
              1,
              "#f0f921"
             ]
            ],
            "type": "histogram2dcontour"
           }
          ],
          "mesh3d": [
           {
            "colorbar": {
             "outlinewidth": 0,
             "ticks": ""
            },
            "type": "mesh3d"
           }
          ],
          "parcoords": [
           {
            "line": {
             "colorbar": {
              "outlinewidth": 0,
              "ticks": ""
             }
            },
            "type": "parcoords"
           }
          ],
          "pie": [
           {
            "automargin": true,
            "type": "pie"
           }
          ],
          "scatter": [
           {
            "fillpattern": {
             "fillmode": "overlay",
             "size": 10,
             "solidity": 0.2
            },
            "type": "scatter"
           }
          ],
          "scatter3d": [
           {
            "line": {
             "colorbar": {
              "outlinewidth": 0,
              "ticks": ""
             }
            },
            "marker": {
             "colorbar": {
              "outlinewidth": 0,
              "ticks": ""
             }
            },
            "type": "scatter3d"
           }
          ],
          "scattercarpet": [
           {
            "marker": {
             "colorbar": {
              "outlinewidth": 0,
              "ticks": ""
             }
            },
            "type": "scattercarpet"
           }
          ],
          "scattergeo": [
           {
            "marker": {
             "colorbar": {
              "outlinewidth": 0,
              "ticks": ""
             }
            },
            "type": "scattergeo"
           }
          ],
          "scattergl": [
           {
            "marker": {
             "colorbar": {
              "outlinewidth": 0,
              "ticks": ""
             }
            },
            "type": "scattergl"
           }
          ],
          "scattermapbox": [
           {
            "marker": {
             "colorbar": {
              "outlinewidth": 0,
              "ticks": ""
             }
            },
            "type": "scattermapbox"
           }
          ],
          "scatterpolar": [
           {
            "marker": {
             "colorbar": {
              "outlinewidth": 0,
              "ticks": ""
             }
            },
            "type": "scatterpolar"
           }
          ],
          "scatterpolargl": [
           {
            "marker": {
             "colorbar": {
              "outlinewidth": 0,
              "ticks": ""
             }
            },
            "type": "scatterpolargl"
           }
          ],
          "scatterternary": [
           {
            "marker": {
             "colorbar": {
              "outlinewidth": 0,
              "ticks": ""
             }
            },
            "type": "scatterternary"
           }
          ],
          "surface": [
           {
            "colorbar": {
             "outlinewidth": 0,
             "ticks": ""
            },
            "colorscale": [
             [
              0,
              "#0d0887"
             ],
             [
              0.1111111111111111,
              "#46039f"
             ],
             [
              0.2222222222222222,
              "#7201a8"
             ],
             [
              0.3333333333333333,
              "#9c179e"
             ],
             [
              0.4444444444444444,
              "#bd3786"
             ],
             [
              0.5555555555555556,
              "#d8576b"
             ],
             [
              0.6666666666666666,
              "#ed7953"
             ],
             [
              0.7777777777777778,
              "#fb9f3a"
             ],
             [
              0.8888888888888888,
              "#fdca26"
             ],
             [
              1,
              "#f0f921"
             ]
            ],
            "type": "surface"
           }
          ],
          "table": [
           {
            "cells": {
             "fill": {
              "color": "#EBF0F8"
             },
             "line": {
              "color": "white"
             }
            },
            "header": {
             "fill": {
              "color": "#C8D4E3"
             },
             "line": {
              "color": "white"
             }
            },
            "type": "table"
           }
          ]
         },
         "layout": {
          "annotationdefaults": {
           "arrowcolor": "#2a3f5f",
           "arrowhead": 0,
           "arrowwidth": 1
          },
          "autotypenumbers": "strict",
          "coloraxis": {
           "colorbar": {
            "outlinewidth": 0,
            "ticks": ""
           }
          },
          "colorscale": {
           "diverging": [
            [
             0,
             "#8e0152"
            ],
            [
             0.1,
             "#c51b7d"
            ],
            [
             0.2,
             "#de77ae"
            ],
            [
             0.3,
             "#f1b6da"
            ],
            [
             0.4,
             "#fde0ef"
            ],
            [
             0.5,
             "#f7f7f7"
            ],
            [
             0.6,
             "#e6f5d0"
            ],
            [
             0.7,
             "#b8e186"
            ],
            [
             0.8,
             "#7fbc41"
            ],
            [
             0.9,
             "#4d9221"
            ],
            [
             1,
             "#276419"
            ]
           ],
           "sequential": [
            [
             0,
             "#0d0887"
            ],
            [
             0.1111111111111111,
             "#46039f"
            ],
            [
             0.2222222222222222,
             "#7201a8"
            ],
            [
             0.3333333333333333,
             "#9c179e"
            ],
            [
             0.4444444444444444,
             "#bd3786"
            ],
            [
             0.5555555555555556,
             "#d8576b"
            ],
            [
             0.6666666666666666,
             "#ed7953"
            ],
            [
             0.7777777777777778,
             "#fb9f3a"
            ],
            [
             0.8888888888888888,
             "#fdca26"
            ],
            [
             1,
             "#f0f921"
            ]
           ],
           "sequentialminus": [
            [
             0,
             "#0d0887"
            ],
            [
             0.1111111111111111,
             "#46039f"
            ],
            [
             0.2222222222222222,
             "#7201a8"
            ],
            [
             0.3333333333333333,
             "#9c179e"
            ],
            [
             0.4444444444444444,
             "#bd3786"
            ],
            [
             0.5555555555555556,
             "#d8576b"
            ],
            [
             0.6666666666666666,
             "#ed7953"
            ],
            [
             0.7777777777777778,
             "#fb9f3a"
            ],
            [
             0.8888888888888888,
             "#fdca26"
            ],
            [
             1,
             "#f0f921"
            ]
           ]
          },
          "colorway": [
           "#636efa",
           "#EF553B",
           "#00cc96",
           "#ab63fa",
           "#FFA15A",
           "#19d3f3",
           "#FF6692",
           "#B6E880",
           "#FF97FF",
           "#FECB52"
          ],
          "font": {
           "color": "#2a3f5f"
          },
          "geo": {
           "bgcolor": "white",
           "lakecolor": "white",
           "landcolor": "#E5ECF6",
           "showlakes": true,
           "showland": true,
           "subunitcolor": "white"
          },
          "hoverlabel": {
           "align": "left"
          },
          "hovermode": "closest",
          "mapbox": {
           "style": "light"
          },
          "paper_bgcolor": "white",
          "plot_bgcolor": "#E5ECF6",
          "polar": {
           "angularaxis": {
            "gridcolor": "white",
            "linecolor": "white",
            "ticks": ""
           },
           "bgcolor": "#E5ECF6",
           "radialaxis": {
            "gridcolor": "white",
            "linecolor": "white",
            "ticks": ""
           }
          },
          "scene": {
           "xaxis": {
            "backgroundcolor": "#E5ECF6",
            "gridcolor": "white",
            "gridwidth": 2,
            "linecolor": "white",
            "showbackground": true,
            "ticks": "",
            "zerolinecolor": "white"
           },
           "yaxis": {
            "backgroundcolor": "#E5ECF6",
            "gridcolor": "white",
            "gridwidth": 2,
            "linecolor": "white",
            "showbackground": true,
            "ticks": "",
            "zerolinecolor": "white"
           },
           "zaxis": {
            "backgroundcolor": "#E5ECF6",
            "gridcolor": "white",
            "gridwidth": 2,
            "linecolor": "white",
            "showbackground": true,
            "ticks": "",
            "zerolinecolor": "white"
           }
          },
          "shapedefaults": {
           "line": {
            "color": "#2a3f5f"
           }
          },
          "ternary": {
           "aaxis": {
            "gridcolor": "white",
            "linecolor": "white",
            "ticks": ""
           },
           "baxis": {
            "gridcolor": "white",
            "linecolor": "white",
            "ticks": ""
           },
           "bgcolor": "#E5ECF6",
           "caxis": {
            "gridcolor": "white",
            "linecolor": "white",
            "ticks": ""
           }
          },
          "title": {
           "x": 0.05
          },
          "xaxis": {
           "automargin": true,
           "gridcolor": "white",
           "linecolor": "white",
           "ticks": "",
           "title": {
            "standoff": 15
           },
           "zerolinecolor": "white",
           "zerolinewidth": 2
          },
          "yaxis": {
           "automargin": true,
           "gridcolor": "white",
           "linecolor": "white",
           "ticks": "",
           "title": {
            "standoff": 15
           },
           "zerolinecolor": "white",
           "zerolinewidth": 2
          }
         }
        },
        "title": {
         "text": "📊 Stock Quadrant Table (Aa–Ee) — แสดงหุ้นทั้งหมดในแต่ละ Quadrant"
        }
       }
      }
     },
     "metadata": {},
     "output_type": "display_data"
    }
   ],
   "source": [
    "import plotly.graph_objects as go\n",
    "\n",
    "df_result3 = comparison_df.copy()\n",
    "\n",
    "# ✅ จัดกลุ่มหุ้นตาม quadrant\n",
    "quadrant_groups = df_result3.groupby('Predicted Quadrant')['symbol'].apply(list).to_dict()\n",
    "\n",
    "# ✅ ลำดับของแกน\n",
    "financial_levels = ['A', 'B', 'C', 'D', 'E']  # A = Strong fundamentals\n",
    "trend_levels = ['a', 'b', 'c', 'd', 'e']      # a = Bullish, e = Crash\n",
    "\n",
    "# ✅ เตรียมข้อมูลแต่ละเซลล์\n",
    "plot_table = []\n",
    "for f in financial_levels:\n",
    "    row = []\n",
    "    for t in trend_levels:\n",
    "        code = f + t\n",
    "        stocks = quadrant_groups.get(code, [])\n",
    "        if stocks:\n",
    "            stock_list = \"<br>\".join(stocks)  # ✅ แสดงหุ้นทั้งหมด\n",
    "            cell_text = f\"<b>{code}</b><br>{stock_list}\"\n",
    "        else:\n",
    "            cell_text = f\"<b>{code}</b><br>-\"\n",
    "        row.append(cell_text)\n",
    "    plot_table.append(row)\n",
    "\n",
    "# ✅ สีพื้นหลังของแต่ละแถว\n",
    "colors = [[{'A': '#2ecc71', 'B': '#58d68d', 'C': '#f4d03f', 'D': '#f39c12', 'E': '#e74c3c'}[f]]*5 for f in financial_levels]\n",
    "\n",
    "# ✅ สร้างตาราง\n",
    "fig = go.Figure(data=go.Table(\n",
    "    header=dict(\n",
    "        values=[f\"<b>{t}</b>\" for t in trend_levels],\n",
    "        fill_color=\"#dcdcdc\",\n",
    "        align=\"center\",\n",
    "        font=dict(color=\"black\", size=14)\n",
    "    ),\n",
    "    cells=dict(\n",
    "        values=plot_table,\n",
    "        fill_color=colors,\n",
    "        align=\"center\",\n",
    "        height=150,  # ✅ เพิ่มความสูงเพื่อรองรับข้อความมาก\n",
    "        font=dict(color=\"white\", size=11)\n",
    "    )\n",
    "))\n",
    "\n",
    "# ✅ ชื่อกราฟ\n",
    "fig.update_layout(title=\"📊 Stock Quadrant Table (Aa–Ee) — แสดงหุ้นทั้งหมดในแต่ละ Quadrant\")\n",
    "fig.show()\n"
   ]
  }
 ],
 "metadata": {
  "kernelspec": {
   "display_name": "base",
   "language": "python",
   "name": "python3"
  },
  "language_info": {
   "codemirror_mode": {
    "name": "ipython",
    "version": 3
   },
   "file_extension": ".py",
   "mimetype": "text/x-python",
   "name": "python",
   "nbconvert_exporter": "python",
   "pygments_lexer": "ipython3",
   "version": "3.12.3"
  }
 },
 "nbformat": 4,
 "nbformat_minor": 5
}
