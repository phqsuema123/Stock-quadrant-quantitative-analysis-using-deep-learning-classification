{
 "cells": [
  {
   "cell_type": "code",
   "execution_count": 1,
   "id": "5e698442",
   "metadata": {},
   "outputs": [],
   "source": [
    "from cassandra.cluster import Cluster\n",
    "import pandas as pd\n",
    "import numpy as np\n",
    "from datetime import datetime"
   ]
  },
  {
   "cell_type": "code",
   "execution_count": 2,
   "id": "2100c9ec",
   "metadata": {},
   "outputs": [],
   "source": [
    "cluster = Cluster(['127.0.0.1'])\n",
    "session = cluster.connect()\n",
    "session.set_keyspace('data_stock')"
   ]
  },
  {
   "cell_type": "code",
   "execution_count": 3,
   "id": "9d6c6270",
   "metadata": {},
   "outputs": [],
   "source": [
    "rows_price = session.execute(\"\"\"\n",
    "    SELECT * FROM candlestick_data ALLOW FILTERING\n",
    "\"\"\")\n",
    "df_cand = pd.DataFrame(rows_price)\n",
    "df_cand['time'] = pd.to_datetime(df_cand['time'])\n",
    "df_cand = df_cand.sort_values(['symbol', 'time'])\n"
   ]
  },
  {
   "cell_type": "code",
   "execution_count": 4,
   "id": "9a26d2f9",
   "metadata": {},
   "outputs": [
    {
     "data": {
      "text/html": [
       "<div>\n",
       "<style scoped>\n",
       "    .dataframe tbody tr th:only-of-type {\n",
       "        vertical-align: middle;\n",
       "    }\n",
       "\n",
       "    .dataframe tbody tr th {\n",
       "        vertical-align: top;\n",
       "    }\n",
       "\n",
       "    .dataframe thead th {\n",
       "        text-align: right;\n",
       "    }\n",
       "</style>\n",
       "<table border=\"1\" class=\"dataframe\">\n",
       "  <thead>\n",
       "    <tr style=\"text-align: right;\">\n",
       "      <th></th>\n",
       "      <th>symbol</th>\n",
       "      <th>eps</th>\n",
       "      <th>pe</th>\n",
       "      <th>pbv</th>\n",
       "      <th>percentyield</th>\n",
       "    </tr>\n",
       "  </thead>\n",
       "  <tbody>\n",
       "    <tr>\n",
       "      <th>0</th>\n",
       "      <td>PPPM</td>\n",
       "      <td>0.02000</td>\n",
       "      <td>0.00</td>\n",
       "      <td>0.70</td>\n",
       "      <td>0.00</td>\n",
       "    </tr>\n",
       "    <tr>\n",
       "      <th>1</th>\n",
       "      <td>TPCH</td>\n",
       "      <td>0.24112</td>\n",
       "      <td>7.90</td>\n",
       "      <td>0.34</td>\n",
       "      <td>13.91</td>\n",
       "    </tr>\n",
       "    <tr>\n",
       "      <th>2</th>\n",
       "      <td>KPNREIT</td>\n",
       "      <td>NaN</td>\n",
       "      <td>NaN</td>\n",
       "      <td>0.23</td>\n",
       "      <td>0.00</td>\n",
       "    </tr>\n",
       "    <tr>\n",
       "      <th>3</th>\n",
       "      <td>POLY</td>\n",
       "      <td>0.27632</td>\n",
       "      <td>12.89</td>\n",
       "      <td>2.42</td>\n",
       "      <td>6.38</td>\n",
       "    </tr>\n",
       "    <tr>\n",
       "      <th>4</th>\n",
       "      <td>QHBREIT</td>\n",
       "      <td>NaN</td>\n",
       "      <td>NaN</td>\n",
       "      <td>0.41</td>\n",
       "      <td>0.00</td>\n",
       "    </tr>\n",
       "    <tr>\n",
       "      <th>5</th>\n",
       "      <td>VCOM</td>\n",
       "      <td>0.21428</td>\n",
       "      <td>7.85</td>\n",
       "      <td>1.48</td>\n",
       "      <td>10.79</td>\n",
       "    </tr>\n",
       "    <tr>\n",
       "      <th>6</th>\n",
       "      <td>KDH</td>\n",
       "      <td>4.12186</td>\n",
       "      <td>10.62</td>\n",
       "      <td>1.93</td>\n",
       "      <td>3.01</td>\n",
       "    </tr>\n",
       "    <tr>\n",
       "      <th>7</th>\n",
       "      <td>NVD</td>\n",
       "      <td>-0.00942</td>\n",
       "      <td>38.87</td>\n",
       "      <td>0.32</td>\n",
       "      <td>0.00</td>\n",
       "    </tr>\n",
       "    <tr>\n",
       "      <th>8</th>\n",
       "      <td>JDF</td>\n",
       "      <td>0.04224</td>\n",
       "      <td>12.19</td>\n",
       "      <td>1.35</td>\n",
       "      <td>4.85</td>\n",
       "    </tr>\n",
       "    <tr>\n",
       "      <th>9</th>\n",
       "      <td>SVR</td>\n",
       "      <td>-0.03402</td>\n",
       "      <td>0.00</td>\n",
       "      <td>0.34</td>\n",
       "      <td>0.00</td>\n",
       "    </tr>\n",
       "  </tbody>\n",
       "</table>\n",
       "</div>"
      ],
      "text/plain": [
       "    symbol      eps     pe   pbv  percentyield\n",
       "0     PPPM  0.02000   0.00  0.70          0.00\n",
       "1     TPCH  0.24112   7.90  0.34         13.91\n",
       "2  KPNREIT      NaN    NaN  0.23          0.00\n",
       "3     POLY  0.27632  12.89  2.42          6.38\n",
       "4  QHBREIT      NaN    NaN  0.41          0.00\n",
       "5     VCOM  0.21428   7.85  1.48         10.79\n",
       "6      KDH  4.12186  10.62  1.93          3.01\n",
       "7      NVD -0.00942  38.87  0.32          0.00\n",
       "8      JDF  0.04224  12.19  1.35          4.85\n",
       "9      SVR -0.03402   0.00  0.34          0.00"
      ]
     },
     "execution_count": 4,
     "metadata": {},
     "output_type": "execute_result"
    }
   ],
   "source": [
    "rows_fin2 = session.execute(\"\"\"\n",
    "    SELECT symbol,eps,pe,pbv,percentYield FROM financal_data_fromsettradeAPI ALLOW FILTERING\n",
    "\"\"\")\n",
    "df_fun= pd.DataFrame(rows_fin2)\n",
    "df_fun.head(10)"
   ]
  },
  {
   "cell_type": "code",
   "execution_count": 5,
   "id": "63b87463",
   "metadata": {},
   "outputs": [
    {
     "data": {
      "text/plain": [
       "(912, 8)"
      ]
     },
     "execution_count": 5,
     "metadata": {},
     "output_type": "execute_result"
    }
   ],
   "source": [
    "candlestick_data=df_cand\n",
    "candlestick_data[\"time\"] = pd.to_datetime(candlestick_data[\"time\"])\n",
    "# ✅ ดึงแท่งเทียนล่าสุดของแต่ละ symbol\n",
    "latest_candle = candlestick_data.sort_values(\"time\").groupby(\"symbol\").tail(1)\n",
    "latest_candle.shape"
   ]
  },
  {
   "cell_type": "code",
   "execution_count": 6,
   "id": "628db74a",
   "metadata": {},
   "outputs": [],
   "source": [
    "# ✅ 1) ดึงแท่งล่าสุดของแต่ละ symbol\n",
    "df_latest_candle = (\n",
    "    df_cand.sort_values(\"time\")\n",
    "    .groupby(\"symbol\", as_index=False)\n",
    "    .tail(1)  # หรือใช้ .last() ก็ได้หลัง sort แล้ว\n",
    ")\n",
    "\n",
    "# ✅ 2) Merge กับข้อมูล fundamental\n",
    "df = pd.merge(df_fun, df_latest_candle, on=\"symbol\", how=\"inner\")\n",
    "\n",
    "# ✅ 3) คำนวณ marketcap\n",
    "df[\"marketcap\"] = df[\"close_price\"] * df[\"volume\"]\n"
   ]
  },
  {
   "cell_type": "code",
   "execution_count": 7,
   "id": "cf364ed5",
   "metadata": {},
   "outputs": [],
   "source": [
    "df = df.drop(columns=['time', 'close_price',\n",
    "       'high_price', 'low_price', 'open_price', 'value', 'volume',])"
   ]
  },
  {
   "cell_type": "code",
   "execution_count": 8,
   "id": "c4a09b0b",
   "metadata": {},
   "outputs": [],
   "source": [
    "import ta\n",
    "def compute_technical_grades(df_candle, band_pct=0.015):\n",
    "    df_result = []\n",
    "\n",
    "    for symbol, df_sym in df_candle.groupby('symbol'):\n",
    "        df_sym = df_sym.sort_values('time').copy()\n",
    "        df_sym['ema5'] = df_sym['close_price'].ewm(span=5, adjust=False).mean()\n",
    "        df_sym['ema15'] = df_sym['close_price'].ewm(span=15, adjust=False).mean()\n",
    "        df_sym['ema35'] = df_sym['close_price'].ewm(span=35, adjust=False).mean()\n",
    "        df_sym['ema89'] = df_sym['close_price'].ewm(span=89, adjust=False).mean()\n",
    "        df_sym['ema200'] = df_sym['close_price'].ewm(span=200, adjust=False).mean()\n",
    "        df_sym['rsi'] = ta.momentum.RSIIndicator(close=df_sym['close_price'], window=14).rsi()\n",
    "\n",
    "        # ใช้แท่งล่าสุดในการประเมิน\n",
    "        row = df_sym.iloc[-1]\n",
    "        try:\n",
    "            c = row['close_price']\n",
    "            r = row['rsi']\n",
    "            e5, e15, e35, e89, e200 = row['ema5'], row['ema15'], row['ema35'], row['ema89'], row['ema200']\n",
    "\n",
    "            if c >= e5 and r >= 70:\n",
    "                grade = 'a'\n",
    "            elif c >= e35 and e35 >= e89:\n",
    "                grade = 'b'\n",
    "            elif c >= e89 and (max([e5,e15,e35,e89]) - min([e5,e15,e35,e89])) / np.mean([e5,e15,e35,e89]) <= band_pct:\n",
    "                grade = 'c'\n",
    "            elif c < e89 and c < e200 and e89 < e200:\n",
    "                grade = 'd'\n",
    "            elif c < e5 < e15 < e35 < e89 < e200 and r <= 30:\n",
    "                grade = 'e'\n",
    "            else:\n",
    "                grade = None\n",
    "        except:\n",
    "            grade = None\n",
    "\n",
    "        df_result.append({'symbol': symbol, 'trend_grade': grade})\n",
    "\n",
    "    return pd.DataFrame(df_result)"
   ]
  },
  {
   "cell_type": "code",
   "execution_count": 9,
   "id": "66b88f7e",
   "metadata": {},
   "outputs": [],
   "source": [
    "df_result = compute_technical_grades(df_cand)    "
   ]
  },
  {
   "cell_type": "code",
   "execution_count": 10,
   "id": "578effc8",
   "metadata": {},
   "outputs": [],
   "source": [
    "df_result.dropna(inplace=True)"
   ]
  },
  {
   "cell_type": "code",
   "execution_count": 11,
   "id": "4e4cd04e",
   "metadata": {},
   "outputs": [],
   "source": [
    "# ✅ Clustering กลุ่ม A–E ด้วย KMeans\n",
    "from sklearn.preprocessing import StandardScaler\n",
    "from sklearn.cluster import KMeans\n",
    "\n",
    "features = ['eps', 'pe', 'pbv', 'percentyield', 'marketcap']\n",
    "X = df[features].dropna()\n",
    "scaler = StandardScaler()\n",
    "X_scaled = scaler.fit_transform(X)\n",
    "\n",
    "kmeans = KMeans(n_clusters=5, random_state=42, n_init='auto')\n",
    "kmeans_labels = kmeans.fit_predict(X_scaled)\n",
    "df.loc[X.index, 'group'] = kmeans_labels\n",
    "\n",
    "group_map = {i: chr(65+i) for i in range(5)}\n",
    "df['group'] = df['group'].map(group_map)"
   ]
  },
  {
   "cell_type": "code",
   "execution_count": 12,
   "id": "556acc11",
   "metadata": {},
   "outputs": [],
   "source": [
    "# ✅ 1) สมมติว่า df_graded มี: symbol | trend_grade\n",
    "#         และ df มี:        symbol | group\n",
    "\n",
    "# ✅ 2) Merge โดยใช้คอลัมน์ 'symbol'\n",
    "df_merged = pd.merge(df, df_result[['symbol', 'trend_grade']], on='symbol', how='inner')\n",
    "\n",
    "# ✅ 3) สร้างคอลัมน์ quadrant (เช่น Aa, Be, Dc, etc.)\n",
    "df_merged['quadrant'] = df_merged['group'] + df_merged['trend_grade']"
   ]
  },
  {
   "cell_type": "code",
   "execution_count": 13,
   "id": "4d19936f",
   "metadata": {},
   "outputs": [],
   "source": [
    "import pandas as pd\n",
    "import numpy as np\n",
    "from sklearn.model_selection import train_test_split\n",
    "from sklearn.preprocessing import StandardScaler, LabelEncoder\n",
    "from sklearn.metrics import accuracy_score, f1_score, confusion_matrix\n",
    "import matplotlib.pyplot as plt\n",
    "import seaborn as sns\n",
    "import torch\n",
    "import torch.nn as nn\n",
    "import torch.optim as optim\n",
    "from pytorch_tabnet.tab_model import TabNetClassifier"
   ]
  },
  {
   "cell_type": "code",
   "execution_count": 16,
   "id": "67ce9571",
   "metadata": {},
   "outputs": [
    {
     "name": "stderr",
     "output_type": "stream",
     "text": [
      "C:\\Users\\Admin\\AppData\\Local\\Temp\\ipykernel_20888\\1280323607.py:4: SettingWithCopyWarning: \n",
      "A value is trying to be set on a copy of a slice from a DataFrame.\n",
      "Try using .loc[row_indexer,col_indexer] = value instead\n",
      "\n",
      "See the caveats in the documentation: https://pandas.pydata.org/pandas-docs/stable/user_guide/indexing.html#returning-a-view-versus-a-copy\n",
      "  df['quadrant'] = df['group'] + df_result['trend_grade']  # เช่น 'Aa', 'Bb'\n"
     ]
    }
   ],
   "source": [
    "# ✅ Features และ Quadrant (สมมุติ df เตรียมไว้แล้ว)\n",
    "features = ['eps', 'pe', 'pbv', 'percentyield', 'marketcap']\n",
    "df = df_merged.dropna(subset=features + ['group', 'trend_grade'])\n",
    "df['quadrant'] = df['group'] + df_result['trend_grade']  # เช่น 'Aa', 'Bb'"
   ]
  },
  {
   "cell_type": "code",
   "execution_count": 17,
   "id": "753e84e4",
   "metadata": {},
   "outputs": [],
   "source": [
    "le = LabelEncoder()\n",
    "y = le.fit_transform(df['quadrant'])\n",
    "scaler = StandardScaler()\n",
    "X = scaler.fit_transform(df[features])\n",
    "\n",
    "\n",
    "X_train, X_test, y_train, y_test = train_test_split(X, y, test_size=0.2, random_state=42)"
   ]
  },
  {
   "cell_type": "code",
   "execution_count": 18,
   "id": "06222642",
   "metadata": {},
   "outputs": [],
   "source": [
    "# ✅ Model 1: ANN\n",
    "class ANN(nn.Module):\n",
    "    def __init__(self, input_size, num_classes):\n",
    "        super(ANN, self).__init__()\n",
    "        self.model = nn.Sequential(\n",
    "            nn.Linear(input_size, 64),\n",
    "            nn.ReLU(),\n",
    "            nn.Dropout(0.3),\n",
    "            nn.Linear(64, 64),\n",
    "            nn.ReLU(),\n",
    "            nn.Linear(64, num_classes)\n",
    "        )\n",
    "    def forward(self, x):\n",
    "        return self.model(x)\n",
    "\n",
    "X_train_tensor = torch.tensor(X_train, dtype=torch.float32)\n",
    "X_test_tensor = torch.tensor(X_test, dtype=torch.float32)\n",
    "y_train_tensor = torch.tensor(y_train, dtype=torch.long)\n",
    "y_test_tensor = torch.tensor(y_test, dtype=torch.long)\n",
    "\n",
    "ann = ANN(X_train.shape[1], len(le.classes_))\n",
    "criterion = nn.CrossEntropyLoss()\n",
    "optimizer = optim.Adam(ann.parameters(), lr=0.001)\n",
    "\n",
    "for epoch in range(50):\n",
    "    ann.train()\n",
    "    optimizer.zero_grad()\n",
    "    output = ann(X_train_tensor)\n",
    "    loss = criterion(output, y_train_tensor)\n",
    "    loss.backward()\n",
    "    optimizer.step()\n",
    "\n",
    "y_pred_ann = torch.argmax(ann(X_test_tensor), axis=1).numpy()\n"
   ]
  },
  {
   "cell_type": "code",
   "execution_count": 39,
   "id": "8fb7df8a",
   "metadata": {},
   "outputs": [
    {
     "name": "stdout",
     "output_type": "stream",
     "text": [
      "epoch 0  | loss: 0.0     | val_0_accuracy: 0.02721 |  0:00:00s\n",
      "epoch 1  | loss: 0.0     | val_0_accuracy: 0.02721 |  0:00:00s\n",
      "epoch 2  | loss: 0.0     | val_0_accuracy: 0.02721 |  0:00:00s\n",
      "epoch 3  | loss: 0.0     | val_0_accuracy: 0.02721 |  0:00:00s\n",
      "epoch 4  | loss: 0.0     | val_0_accuracy: 0.02721 |  0:00:00s\n",
      "epoch 5  | loss: 0.0     | val_0_accuracy: 0.02721 |  0:00:00s\n",
      "epoch 6  | loss: 0.0     | val_0_accuracy: 0.02721 |  0:00:00s\n",
      "epoch 7  | loss: 0.0     | val_0_accuracy: 0.02721 |  0:00:00s\n",
      "epoch 8  | loss: 0.0     | val_0_accuracy: 0.02721 |  0:00:00s\n",
      "epoch 9  | loss: 0.0     | val_0_accuracy: 0.02721 |  0:00:00s\n",
      "epoch 10 | loss: 0.0     | val_0_accuracy: 0.02721 |  0:00:00s\n",
      "\n",
      "Early stopping occurred at epoch 10 with best_epoch = 0 and best_val_0_accuracy = 0.02721\n"
     ]
    },
    {
     "name": "stderr",
     "output_type": "stream",
     "text": [
      "c:\\Users\\Admin\\AppData\\Local\\Programs\\Python\\Python310\\lib\\site-packages\\pytorch_tabnet\\callbacks.py:172: UserWarning: Best weights from best epoch are automatically used!\n",
      "  warnings.warn(wrn_msg)\n"
     ]
    }
   ],
   "source": [
    "# ✅ กรองเฉพาะคลาสที่มีอย่างน้อย 2 แถว\n",
    "from collections import Counter\n",
    "\n",
    "# แปลง label เป็น DataFrame ชั่วคราว\n",
    "df_y = pd.DataFrame({'label': y})\n",
    "valid_classes = df_y['label'].value_counts()[lambda x: x >= 2].index\n",
    "\n",
    "# Filter ทั้ง X และ y\n",
    "mask = df_y['label'].isin(valid_classes)\n",
    "X_filtered = X[mask]\n",
    "y_filtered = y[mask]\n",
    "X_train, X_test, y_train, y_test = train_test_split(\n",
    "    X_filtered, y_filtered,\n",
    "    test_size=0.2,\n",
    "    random_state=42,\n",
    "    stratify=y_filtered\n",
    ")\n",
    "clf_tabnet.fit(\n",
    "    X_train, y_train,\n",
    "    eval_set=[(X_test, y_test)],\n",
    "    max_epochs=100,\n",
    "    patience=10,\n",
    "    batch_size=1024,\n",
    "    virtual_batch_size=128\n",
    ")\n",
    "# ✅ ทำนายด้วย TabNet\n",
    "y_pred_tabnet = clf_tabnet.predict(X_test)\n",
    "\n"
   ]
  },
  {
   "cell_type": "code",
   "execution_count": 35,
   "id": "3a1d41ee",
   "metadata": {},
   "outputs": [
    {
     "name": "stderr",
     "output_type": "stream",
     "text": [
      "c:\\Users\\Admin\\AppData\\Local\\Programs\\Python\\Python310\\lib\\site-packages\\xgboost\\training.py:183: UserWarning: [11:27:24] WARNING: C:\\actions-runner\\_work\\xgboost\\xgboost\\src\\learner.cc:738: \n",
      "Parameters: { \"use_label_encoder\" } are not used.\n",
      "\n",
      "  bst.update(dtrain, iteration=i, fobj=obj)\n"
     ]
    }
   ],
   "source": [
    "# 1. กรอง class ที่มีข้อมูล ≥2\n",
    "from collections import Counter\n",
    "from sklearn.preprocessing import LabelEncoder\n",
    "\n",
    "df_temp = pd.DataFrame({'label': y})\n",
    "valid_classes = df_temp['label'].value_counts()[lambda x: x >= 2].index\n",
    "mask = df_temp['label'].isin(valid_classes)\n",
    "\n",
    "X_filtered = X[mask]\n",
    "y_filtered = y[mask]\n",
    "\n",
    "# 2. ✅ Re-encode y ใหม่\n",
    "le_new = LabelEncoder()\n",
    "y_filtered_encoded = le_new.fit_transform(y_filtered)\n",
    "\n",
    "# 3. แบ่ง train/test แบบ stratify\n",
    "X_train, X_test, y_train, y_test = train_test_split(\n",
    "    X_filtered, y_filtered_encoded,\n",
    "    test_size=0.2,\n",
    "    random_state=42,\n",
    "    stratify=y_filtered_encoded\n",
    ")\n",
    "from xgboost import XGBClassifier\n",
    "\n",
    "clf_xgb = XGBClassifier(use_label_encoder=False, eval_metric='mlogloss')\n",
    "clf_xgb.fit(X_train, y_train)  # ✅ No error\n",
    "y_pred_xgb = clf_xgb.predict(X_test)\n",
    "\n"
   ]
  },
  {
   "cell_type": "code",
   "execution_count": 25,
   "id": "f13e1d8f",
   "metadata": {},
   "outputs": [],
   "source": [
    "# ✅ Model 4: Random Forest\n",
    "from sklearn.ensemble import RandomForestClassifier\n",
    "clf_rf = RandomForestClassifier()\n",
    "clf_rf.fit(X_train, y_train)\n",
    "y_pred_rf = clf_rf.predict(X_test)"
   ]
  },
  {
   "cell_type": "code",
   "execution_count": 40,
   "id": "84714551",
   "metadata": {},
   "outputs": [],
   "source": [
    "# ✅ Evaluation Function\n",
    "def evaluate(y_true, y_pred):\n",
    "    acc = accuracy_score(y_true, y_pred)\n",
    "    f1 = f1_score(y_true, y_pred, average='macro')\n",
    "    return acc, f1\n",
    "acc_ann, f1_ann = evaluate(y_test, y_pred_ann)\n",
    "acc_tabnet, f1_tabnet = evaluate(y_test, y_pred_tabnet)\n",
    "acc_xgb, f1_xgb = evaluate(y_test, y_pred_xgb)\n",
    "acc_rf, f1_rf = evaluate(y_test, y_pred_rf)"
   ]
  },
  {
   "cell_type": "code",
   "execution_count": 42,
   "id": "a346363a",
   "metadata": {},
   "outputs": [
    {
     "name": "stderr",
     "output_type": "stream",
     "text": [
      "C:\\Users\\Admin\\AppData\\Local\\Temp\\ipykernel_20888\\1195726091.py:24: UserWarning: Glyph 128202 (\\N{BAR CHART}) missing from font(s) DejaVu Sans.\n",
      "  plt.tight_layout()\n",
      "C:\\Users\\Admin\\AppData\\Roaming\\Python\\Python310\\site-packages\\IPython\\core\\pylabtools.py:170: UserWarning: Glyph 128202 (\\N{BAR CHART}) missing from font(s) DejaVu Sans.\n",
      "  fig.canvas.print_figure(bytes_io, **kw)\n"
     ]
    },
    {
     "data": {
      "image/png": "[encoded data removed]",
      "text/plain": [
       "<Figure size 1000x600 with 1 Axes>"
      ]
     },
     "metadata": {},
     "output_type": "display_data"
    }
   ],
   "source": [
    "# ✅ Bar Chart\n",
    "models = ['ANN (Baseline)', 'TabNet', 'XGBoost', 'Random Forest']\n",
    "accuracies = [acc_ann, acc_tabnet, acc_xgb, acc_rf]\n",
    "f1_scores = [f1_ann, f1_tabnet, f1_xgb, f1_rf]\n",
    "\n",
    "x = np.arange(len(models))\n",
    "width = 0.35\n",
    "\n",
    "fig, ax = plt.subplots(figsize=(10, 6))\n",
    "bars1 = ax.bar(x - width/2, accuracies, width, label='Accuracy')\n",
    "bars2 = ax.bar(x + width/2, f1_scores, width, label='F1 Macro')\n",
    "\n",
    "for bar in bars1 + bars2:\n",
    "    height = bar.get_height()\n",
    "    ax.annotate(f'{height:.2f}', xy=(bar.get_x() + bar.get_width()/2, height),\n",
    "                xytext=(0, 3), textcoords='offset points', ha='center', va='bottom')\n",
    "\n",
    "ax.set_ylabel('Score')\n",
    "ax.set_title('📊  ANN, TabNet, XGBoost, Random Forest')\n",
    "ax.set_xticks(x)\n",
    "ax.set_xticklabels(models)\n",
    "ax.set_ylim(0, 1.05)\n",
    "ax.legend()\n",
    "plt.tight_layout()\n",
    "plt.show()"
   ]
  }
 ],
 "metadata": {
  "kernelspec": {
   "display_name": "Python 3",
   "language": "python",
   "name": "python3"
  },
  "language_info": {
   "codemirror_mode": {
    "name": "ipython",
    "version": 3
   },
   "file_extension": ".py",
   "mimetype": "text/x-python",
   "name": "python",
   "nbconvert_exporter": "python",
   "pygments_lexer": "ipython3",
   "version": "3.10.0"
  }
 },
 "nbformat": 4,
 "nbformat_minor": 5
}
