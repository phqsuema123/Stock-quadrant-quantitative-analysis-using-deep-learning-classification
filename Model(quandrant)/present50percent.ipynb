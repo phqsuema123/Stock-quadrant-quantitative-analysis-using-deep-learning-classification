{
 "cells": [
  {
   "cell_type": "markdown",
   "id": "9a3d9d22",
   "metadata": {},
   "source": [
    "# CRISP-DM "
   ]
  },
  {
   "cell_type": "markdown",
   "id": "89ca7126",
   "metadata": {},
   "source": [
    "## Data Understanding"
   ]
  },
  {
   "cell_type": "markdown",
   "id": "132cf69c",
   "metadata": {},
   "source": [
    "ข้อมูลมาจากsettarde API เเล้วใส่ในฐานข้อมูล Cassandra"
   ]
  },
  {
   "cell_type": "code",
   "execution_count": 93,
   "id": "ca3be24d",
   "metadata": {},
   "outputs": [],
   "source": [
    "from cassandra.cluster import Cluster\n",
    "import pandas as pd\n",
    "import numpy as np\n",
    "from datetime import datetime"
   ]
  },
  {
   "cell_type": "code",
   "execution_count": 94,
   "id": "98ac8ee2",
   "metadata": {},
   "outputs": [],
   "source": [
    "cluster = Cluster(['127.0.0.1'])\n",
    "session = cluster.connect()\n",
    "session.set_keyspace('data_stock')"
   ]
  },
  {
   "cell_type": "code",
   "execution_count": 95,
   "id": "fa0d7ef8",
   "metadata": {},
   "outputs": [],
   "source": [
    "rows_price = session.execute(\"\"\"\n",
    "    SELECT * FROM candlestick_data ALLOW FILTERING\n",
    "\"\"\")\n",
    "df_cand = pd.DataFrame(rows_price)\n",
    "df_cand['time'] = pd.to_datetime(df_cand['time'])\n",
    "df_cand = df_cand.sort_values(['symbol', 'time'])\n"
   ]
  },
  {
   "cell_type": "code",
   "execution_count": 96,
   "id": "713b5a46",
   "metadata": {},
   "outputs": [
    {
     "data": {
      "text/html": [
       "<div>\n",
       "<style scoped>\n",
       "    .dataframe tbody tr th:only-of-type {\n",
       "        vertical-align: middle;\n",
       "    }\n",
       "\n",
       "    .dataframe tbody tr th {\n",
       "        vertical-align: top;\n",
       "    }\n",
       "\n",
       "    .dataframe thead th {\n",
       "        text-align: right;\n",
       "    }\n",
       "</style>\n",
       "<table border=\"1\" class=\"dataframe\">\n",
       "  <thead>\n",
       "    <tr style=\"text-align: right;\">\n",
       "      <th></th>\n",
       "      <th>symbol</th>\n",
       "      <th>time</th>\n",
       "      <th>close_price</th>\n",
       "      <th>high_price</th>\n",
       "      <th>low_price</th>\n",
       "      <th>open_price</th>\n",
       "      <th>value</th>\n",
       "      <th>volume</th>\n",
       "    </tr>\n",
       "  </thead>\n",
       "  <tbody>\n",
       "    <tr>\n",
       "      <th>362761</th>\n",
       "      <td>24CS</td>\n",
       "      <td>2022-10-03</td>\n",
       "      <td>10.20</td>\n",
       "      <td>10.20</td>\n",
       "      <td>7.10</td>\n",
       "      <td>7.10</td>\n",
       "      <td>0.0</td>\n",
       "      <td>559474246</td>\n",
       "    </tr>\n",
       "    <tr>\n",
       "      <th>362762</th>\n",
       "      <td>24CS</td>\n",
       "      <td>2022-10-04</td>\n",
       "      <td>7.15</td>\n",
       "      <td>11.10</td>\n",
       "      <td>7.15</td>\n",
       "      <td>10.70</td>\n",
       "      <td>0.0</td>\n",
       "      <td>330716796</td>\n",
       "    </tr>\n",
       "    <tr>\n",
       "      <th>362763</th>\n",
       "      <td>24CS</td>\n",
       "      <td>2022-10-05</td>\n",
       "      <td>5.15</td>\n",
       "      <td>6.45</td>\n",
       "      <td>5.05</td>\n",
       "      <td>5.85</td>\n",
       "      <td>0.0</td>\n",
       "      <td>361105489</td>\n",
       "    </tr>\n",
       "    <tr>\n",
       "      <th>362764</th>\n",
       "      <td>24CS</td>\n",
       "      <td>2022-10-06</td>\n",
       "      <td>5.20</td>\n",
       "      <td>5.45</td>\n",
       "      <td>4.70</td>\n",
       "      <td>5.40</td>\n",
       "      <td>0.0</td>\n",
       "      <td>232684182</td>\n",
       "    </tr>\n",
       "    <tr>\n",
       "      <th>362765</th>\n",
       "      <td>24CS</td>\n",
       "      <td>2022-10-07</td>\n",
       "      <td>5.00</td>\n",
       "      <td>5.15</td>\n",
       "      <td>4.76</td>\n",
       "      <td>5.10</td>\n",
       "      <td>0.0</td>\n",
       "      <td>131780847</td>\n",
       "    </tr>\n",
       "    <tr>\n",
       "      <th>362766</th>\n",
       "      <td>24CS</td>\n",
       "      <td>2022-10-10</td>\n",
       "      <td>5.00</td>\n",
       "      <td>5.15</td>\n",
       "      <td>4.88</td>\n",
       "      <td>4.98</td>\n",
       "      <td>0.0</td>\n",
       "      <td>51045639</td>\n",
       "    </tr>\n",
       "    <tr>\n",
       "      <th>362767</th>\n",
       "      <td>24CS</td>\n",
       "      <td>2022-10-11</td>\n",
       "      <td>4.48</td>\n",
       "      <td>5.05</td>\n",
       "      <td>4.48</td>\n",
       "      <td>5.00</td>\n",
       "      <td>0.0</td>\n",
       "      <td>43520132</td>\n",
       "    </tr>\n",
       "    <tr>\n",
       "      <th>362768</th>\n",
       "      <td>24CS</td>\n",
       "      <td>2022-10-12</td>\n",
       "      <td>3.88</td>\n",
       "      <td>4.62</td>\n",
       "      <td>3.88</td>\n",
       "      <td>4.50</td>\n",
       "      <td>0.0</td>\n",
       "      <td>85779188</td>\n",
       "    </tr>\n",
       "    <tr>\n",
       "      <th>362769</th>\n",
       "      <td>24CS</td>\n",
       "      <td>2022-10-17</td>\n",
       "      <td>3.68</td>\n",
       "      <td>3.90</td>\n",
       "      <td>3.56</td>\n",
       "      <td>3.88</td>\n",
       "      <td>0.0</td>\n",
       "      <td>9027003</td>\n",
       "    </tr>\n",
       "    <tr>\n",
       "      <th>362770</th>\n",
       "      <td>24CS</td>\n",
       "      <td>2022-10-18</td>\n",
       "      <td>3.88</td>\n",
       "      <td>3.90</td>\n",
       "      <td>3.64</td>\n",
       "      <td>3.72</td>\n",
       "      <td>0.0</td>\n",
       "      <td>11371787</td>\n",
       "    </tr>\n",
       "  </tbody>\n",
       "</table>\n",
       "</div>"
      ],
      "text/plain": [
       "       symbol       time  close_price  high_price  low_price  open_price  \\\n",
       "362761   24CS 2022-10-03        10.20       10.20       7.10        7.10   \n",
       "362762   24CS 2022-10-04         7.15       11.10       7.15       10.70   \n",
       "362763   24CS 2022-10-05         5.15        6.45       5.05        5.85   \n",
       "362764   24CS 2022-10-06         5.20        5.45       4.70        5.40   \n",
       "362765   24CS 2022-10-07         5.00        5.15       4.76        5.10   \n",
       "362766   24CS 2022-10-10         5.00        5.15       4.88        4.98   \n",
       "362767   24CS 2022-10-11         4.48        5.05       4.48        5.00   \n",
       "362768   24CS 2022-10-12         3.88        4.62       3.88        4.50   \n",
       "362769   24CS 2022-10-17         3.68        3.90       3.56        3.88   \n",
       "362770   24CS 2022-10-18         3.88        3.90       3.64        3.72   \n",
       "\n",
       "        value     volume  \n",
       "362761    0.0  559474246  \n",
       "362762    0.0  330716796  \n",
       "362763    0.0  361105489  \n",
       "362764    0.0  232684182  \n",
       "362765    0.0  131780847  \n",
       "362766    0.0   51045639  \n",
       "362767    0.0   43520132  \n",
       "362768    0.0   85779188  \n",
       "362769    0.0    9027003  \n",
       "362770    0.0   11371787  "
      ]
     },
     "execution_count": 96,
     "metadata": {},
     "output_type": "execute_result"
    }
   ],
   "source": [
    "df_cand.head(10)"
   ]
  },
  {
   "cell_type": "markdown",
   "id": "e0f19cfc",
   "metadata": {},
   "source": [
    "### ดึงข้อมูลของFundametalของเเต่ละหุ้น โดยเอาคอลัมท์ EPS,PE,PBV,PercentYield\n",
    "\n",
    "EPS=Profit per share(Negative, indicating a loss)\n",
    "\n",
    "PE=Zero due  to company  losses\n",
    "\n",
    "PBV= Relatively high, indicating  a premium valuation\n",
    "\n",
    "PercentYield = "
   ]
  },
  {
   "cell_type": "code",
   "execution_count": 97,
   "id": "d6796ae7",
   "metadata": {},
   "outputs": [
    {
     "data": {
      "text/html": [
       "<div>\n",
       "<style scoped>\n",
       "    .dataframe tbody tr th:only-of-type {\n",
       "        vertical-align: middle;\n",
       "    }\n",
       "\n",
       "    .dataframe tbody tr th {\n",
       "        vertical-align: top;\n",
       "    }\n",
       "\n",
       "    .dataframe thead th {\n",
       "        text-align: right;\n",
       "    }\n",
       "</style>\n",
       "<table border=\"1\" class=\"dataframe\">\n",
       "  <thead>\n",
       "    <tr style=\"text-align: right;\">\n",
       "      <th></th>\n",
       "      <th>symbol</th>\n",
       "      <th>eps</th>\n",
       "      <th>pe</th>\n",
       "      <th>pbv</th>\n",
       "      <th>percentyield</th>\n",
       "    </tr>\n",
       "  </thead>\n",
       "  <tbody>\n",
       "    <tr>\n",
       "      <th>0</th>\n",
       "      <td>PPPM</td>\n",
       "      <td>0.02000</td>\n",
       "      <td>0.00</td>\n",
       "      <td>0.70</td>\n",
       "      <td>0.00</td>\n",
       "    </tr>\n",
       "    <tr>\n",
       "      <th>1</th>\n",
       "      <td>TPCH</td>\n",
       "      <td>0.24112</td>\n",
       "      <td>7.90</td>\n",
       "      <td>0.34</td>\n",
       "      <td>13.91</td>\n",
       "    </tr>\n",
       "    <tr>\n",
       "      <th>2</th>\n",
       "      <td>KPNREIT</td>\n",
       "      <td>NaN</td>\n",
       "      <td>NaN</td>\n",
       "      <td>0.23</td>\n",
       "      <td>0.00</td>\n",
       "    </tr>\n",
       "    <tr>\n",
       "      <th>3</th>\n",
       "      <td>POLY</td>\n",
       "      <td>0.27632</td>\n",
       "      <td>12.89</td>\n",
       "      <td>2.42</td>\n",
       "      <td>6.38</td>\n",
       "    </tr>\n",
       "    <tr>\n",
       "      <th>4</th>\n",
       "      <td>QHBREIT</td>\n",
       "      <td>NaN</td>\n",
       "      <td>NaN</td>\n",
       "      <td>0.41</td>\n",
       "      <td>0.00</td>\n",
       "    </tr>\n",
       "    <tr>\n",
       "      <th>5</th>\n",
       "      <td>VCOM</td>\n",
       "      <td>0.21428</td>\n",
       "      <td>7.85</td>\n",
       "      <td>1.48</td>\n",
       "      <td>10.79</td>\n",
       "    </tr>\n",
       "    <tr>\n",
       "      <th>6</th>\n",
       "      <td>KDH</td>\n",
       "      <td>4.12186</td>\n",
       "      <td>10.62</td>\n",
       "      <td>1.93</td>\n",
       "      <td>3.01</td>\n",
       "    </tr>\n",
       "    <tr>\n",
       "      <th>7</th>\n",
       "      <td>NVD</td>\n",
       "      <td>-0.00942</td>\n",
       "      <td>38.87</td>\n",
       "      <td>0.32</td>\n",
       "      <td>0.00</td>\n",
       "    </tr>\n",
       "    <tr>\n",
       "      <th>8</th>\n",
       "      <td>JDF</td>\n",
       "      <td>0.04224</td>\n",
       "      <td>12.19</td>\n",
       "      <td>1.35</td>\n",
       "      <td>4.85</td>\n",
       "    </tr>\n",
       "    <tr>\n",
       "      <th>9</th>\n",
       "      <td>SVR</td>\n",
       "      <td>-0.03402</td>\n",
       "      <td>0.00</td>\n",
       "      <td>0.34</td>\n",
       "      <td>0.00</td>\n",
       "    </tr>\n",
       "  </tbody>\n",
       "</table>\n",
       "</div>"
      ],
      "text/plain": [
       "    symbol      eps     pe   pbv  percentyield\n",
       "0     PPPM  0.02000   0.00  0.70          0.00\n",
       "1     TPCH  0.24112   7.90  0.34         13.91\n",
       "2  KPNREIT      NaN    NaN  0.23          0.00\n",
       "3     POLY  0.27632  12.89  2.42          6.38\n",
       "4  QHBREIT      NaN    NaN  0.41          0.00\n",
       "5     VCOM  0.21428   7.85  1.48         10.79\n",
       "6      KDH  4.12186  10.62  1.93          3.01\n",
       "7      NVD -0.00942  38.87  0.32          0.00\n",
       "8      JDF  0.04224  12.19  1.35          4.85\n",
       "9      SVR -0.03402   0.00  0.34          0.00"
      ]
     },
     "execution_count": 97,
     "metadata": {},
     "output_type": "execute_result"
    }
   ],
   "source": [
    "rows_fin2 = session.execute(\"\"\"\n",
    "    SELECT symbol,eps,pe,pbv,percentYield FROM financal_data_fromsettradeAPI ALLOW FILTERING\n",
    "\"\"\")\n",
    "df_fun= pd.DataFrame(rows_fin2)\n",
    "df_fun.head(10)"
   ]
  },
  {
   "cell_type": "markdown",
   "id": "75ce31ea",
   "metadata": {},
   "source": [
    "## Data preparation"
   ]
  },
  {
   "cell_type": "markdown",
   "id": "89c1fe3b",
   "metadata": {},
   "source": [
    "### เอาข้อมูลเฉพาะของล่าสุด"
   ]
  },
  {
   "cell_type": "code",
   "execution_count": 98,
   "id": "8450d94e",
   "metadata": {},
   "outputs": [
    {
     "data": {
      "text/plain": [
       "(912, 8)"
      ]
     },
     "execution_count": 98,
     "metadata": {},
     "output_type": "execute_result"
    }
   ],
   "source": [
    "candlestick_data=df_cand\n",
    "candlestick_data[\"time\"] = pd.to_datetime(candlestick_data[\"time\"])\n",
    "# ✅ ดึงแท่งเทียนล่าสุดของแต่ละ symbol\n",
    "latest_candle = candlestick_data.sort_values(\"time\").groupby(\"symbol\").tail(1)\n",
    "latest_candle.shape"
   ]
  },
  {
   "cell_type": "code",
   "execution_count": 99,
   "id": "85cefdcb",
   "metadata": {},
   "outputs": [
    {
     "data": {
      "text/html": [
       "<div>\n",
       "<style scoped>\n",
       "    .dataframe tbody tr th:only-of-type {\n",
       "        vertical-align: middle;\n",
       "    }\n",
       "\n",
       "    .dataframe tbody tr th {\n",
       "        vertical-align: top;\n",
       "    }\n",
       "\n",
       "    .dataframe thead th {\n",
       "        text-align: right;\n",
       "    }\n",
       "</style>\n",
       "<table border=\"1\" class=\"dataframe\">\n",
       "  <thead>\n",
       "    <tr style=\"text-align: right;\">\n",
       "      <th></th>\n",
       "      <th>symbol</th>\n",
       "      <th>time</th>\n",
       "      <th>close_price</th>\n",
       "      <th>high_price</th>\n",
       "      <th>low_price</th>\n",
       "      <th>open_price</th>\n",
       "      <th>value</th>\n",
       "      <th>volume</th>\n",
       "    </tr>\n",
       "  </thead>\n",
       "  <tbody>\n",
       "    <tr>\n",
       "      <th>296488</th>\n",
       "      <td>ACAP</td>\n",
       "      <td>2023-05-17</td>\n",
       "      <td>0.33</td>\n",
       "      <td>0.36</td>\n",
       "      <td>0.21</td>\n",
       "      <td>0.22</td>\n",
       "      <td>0.0</td>\n",
       "      <td>13918556</td>\n",
       "    </tr>\n",
       "    <tr>\n",
       "      <th>377055</th>\n",
       "      <td>TAPAC</td>\n",
       "      <td>2024-05-02</td>\n",
       "      <td>0.52</td>\n",
       "      <td>0.53</td>\n",
       "      <td>0.46</td>\n",
       "      <td>0.47</td>\n",
       "      <td>0.0</td>\n",
       "      <td>1675203</td>\n",
       "    </tr>\n",
       "    <tr>\n",
       "      <th>29119</th>\n",
       "      <td>KKC</td>\n",
       "      <td>2024-07-26</td>\n",
       "      <td>0.04</td>\n",
       "      <td>0.04</td>\n",
       "      <td>0.03</td>\n",
       "      <td>0.03</td>\n",
       "      <td>0.0</td>\n",
       "      <td>4462175</td>\n",
       "    </tr>\n",
       "    <tr>\n",
       "      <th>570667</th>\n",
       "      <td>JKN</td>\n",
       "      <td>2024-09-16</td>\n",
       "      <td>0.31</td>\n",
       "      <td>0.32</td>\n",
       "      <td>0.25</td>\n",
       "      <td>0.26</td>\n",
       "      <td>0.0</td>\n",
       "      <td>43155573</td>\n",
       "    </tr>\n",
       "    <tr>\n",
       "      <th>340860</th>\n",
       "      <td>CV</td>\n",
       "      <td>2025-02-28</td>\n",
       "      <td>0.20</td>\n",
       "      <td>0.24</td>\n",
       "      <td>0.18</td>\n",
       "      <td>0.22</td>\n",
       "      <td>0.0</td>\n",
       "      <td>18892801</td>\n",
       "    </tr>\n",
       "  </tbody>\n",
       "</table>\n",
       "</div>"
      ],
      "text/plain": [
       "       symbol       time  close_price  high_price  low_price  open_price  \\\n",
       "296488   ACAP 2023-05-17         0.33        0.36       0.21        0.22   \n",
       "377055  TAPAC 2024-05-02         0.52        0.53       0.46        0.47   \n",
       "29119     KKC 2024-07-26         0.04        0.04       0.03        0.03   \n",
       "570667    JKN 2024-09-16         0.31        0.32       0.25        0.26   \n",
       "340860     CV 2025-02-28         0.20        0.24       0.18        0.22   \n",
       "\n",
       "        value    volume  \n",
       "296488    0.0  13918556  \n",
       "377055    0.0   1675203  \n",
       "29119     0.0   4462175  \n",
       "570667    0.0  43155573  \n",
       "340860    0.0  18892801  "
      ]
     },
     "execution_count": 99,
     "metadata": {},
     "output_type": "execute_result"
    }
   ],
   "source": [
    "latest_candle.head()"
   ]
  },
  {
   "cell_type": "markdown",
   "id": "ef07cda0",
   "metadata": {},
   "source": [
    "### เพิ่มคอลัมท์ Marketcap โดยเอา คอลัมท์ Close_price คูณ Volume"
   ]
  },
  {
   "cell_type": "code",
   "execution_count": 100,
   "id": "5fdfdcfa",
   "metadata": {},
   "outputs": [],
   "source": [
    "# ✅ 1) ดึงแท่งล่าสุดของแต่ละ symbol\n",
    "df_latest_candle = (\n",
    "    df_cand.sort_values(\"time\")\n",
    "    .groupby(\"symbol\", as_index=False)\n",
    "    .tail(1)  # หรือใช้ .last() ก็ได้หลัง sort แล้ว\n",
    ")\n",
    "\n",
    "# ✅ 2) Merge กับข้อมูล fundamental\n",
    "df = pd.merge(df_fun, df_latest_candle, on=\"symbol\", how=\"inner\")\n",
    "\n",
    "# ✅ 3) คำนวณ marketcap\n",
    "df[\"marketcap\"] = df[\"close_price\"] * df[\"volume\"]\n"
   ]
  },
  {
   "cell_type": "code",
   "execution_count": 101,
   "id": "a7a636c0",
   "metadata": {},
   "outputs": [
    {
     "data": {
      "text/html": [
       "<div>\n",
       "<style scoped>\n",
       "    .dataframe tbody tr th:only-of-type {\n",
       "        vertical-align: middle;\n",
       "    }\n",
       "\n",
       "    .dataframe tbody tr th {\n",
       "        vertical-align: top;\n",
       "    }\n",
       "\n",
       "    .dataframe thead th {\n",
       "        text-align: right;\n",
       "    }\n",
       "</style>\n",
       "<table border=\"1\" class=\"dataframe\">\n",
       "  <thead>\n",
       "    <tr style=\"text-align: right;\">\n",
       "      <th></th>\n",
       "      <th>symbol</th>\n",
       "      <th>eps</th>\n",
       "      <th>pe</th>\n",
       "      <th>pbv</th>\n",
       "      <th>percentyield</th>\n",
       "      <th>time</th>\n",
       "      <th>close_price</th>\n",
       "      <th>high_price</th>\n",
       "      <th>low_price</th>\n",
       "      <th>open_price</th>\n",
       "      <th>value</th>\n",
       "      <th>volume</th>\n",
       "      <th>marketcap</th>\n",
       "    </tr>\n",
       "  </thead>\n",
       "  <tbody>\n",
       "    <tr>\n",
       "      <th>0</th>\n",
       "      <td>PPPM</td>\n",
       "      <td>0.02000</td>\n",
       "      <td>0.00</td>\n",
       "      <td>0.70</td>\n",
       "      <td>0.00</td>\n",
       "      <td>2025-05-28</td>\n",
       "      <td>0.49</td>\n",
       "      <td>0.51</td>\n",
       "      <td>0.48</td>\n",
       "      <td>0.49</td>\n",
       "      <td>0.0</td>\n",
       "      <td>313650</td>\n",
       "      <td>153688.502991</td>\n",
       "    </tr>\n",
       "    <tr>\n",
       "      <th>1</th>\n",
       "      <td>TPCH</td>\n",
       "      <td>0.24112</td>\n",
       "      <td>7.90</td>\n",
       "      <td>0.34</td>\n",
       "      <td>13.91</td>\n",
       "      <td>2025-05-28</td>\n",
       "      <td>3.08</td>\n",
       "      <td>3.10</td>\n",
       "      <td>3.04</td>\n",
       "      <td>3.10</td>\n",
       "      <td>0.0</td>\n",
       "      <td>52708</td>\n",
       "      <td>162340.635979</td>\n",
       "    </tr>\n",
       "    <tr>\n",
       "      <th>2</th>\n",
       "      <td>KPNREIT</td>\n",
       "      <td>NaN</td>\n",
       "      <td>NaN</td>\n",
       "      <td>0.23</td>\n",
       "      <td>0.00</td>\n",
       "      <td>2025-05-22</td>\n",
       "      <td>2.56</td>\n",
       "      <td>2.56</td>\n",
       "      <td>2.56</td>\n",
       "      <td>2.56</td>\n",
       "      <td>0.0</td>\n",
       "      <td>100</td>\n",
       "      <td>255.999994</td>\n",
       "    </tr>\n",
       "    <tr>\n",
       "      <th>3</th>\n",
       "      <td>POLY</td>\n",
       "      <td>0.27632</td>\n",
       "      <td>12.89</td>\n",
       "      <td>2.42</td>\n",
       "      <td>6.38</td>\n",
       "      <td>2025-05-28</td>\n",
       "      <td>6.95</td>\n",
       "      <td>6.95</td>\n",
       "      <td>6.65</td>\n",
       "      <td>6.90</td>\n",
       "      <td>0.0</td>\n",
       "      <td>5100</td>\n",
       "      <td>35444.999027</td>\n",
       "    </tr>\n",
       "    <tr>\n",
       "      <th>4</th>\n",
       "      <td>QHBREIT</td>\n",
       "      <td>NaN</td>\n",
       "      <td>NaN</td>\n",
       "      <td>0.41</td>\n",
       "      <td>0.00</td>\n",
       "      <td>2025-05-28</td>\n",
       "      <td>3.44</td>\n",
       "      <td>3.44</td>\n",
       "      <td>3.42</td>\n",
       "      <td>3.44</td>\n",
       "      <td>0.0</td>\n",
       "      <td>140301</td>\n",
       "      <td>482635.448028</td>\n",
       "    </tr>\n",
       "    <tr>\n",
       "      <th>5</th>\n",
       "      <td>VCOM</td>\n",
       "      <td>0.21428</td>\n",
       "      <td>7.85</td>\n",
       "      <td>1.48</td>\n",
       "      <td>10.79</td>\n",
       "      <td>2025-05-28</td>\n",
       "      <td>2.50</td>\n",
       "      <td>2.62</td>\n",
       "      <td>2.50</td>\n",
       "      <td>2.56</td>\n",
       "      <td>0.0</td>\n",
       "      <td>335100</td>\n",
       "      <td>837750.000000</td>\n",
       "    </tr>\n",
       "    <tr>\n",
       "      <th>6</th>\n",
       "      <td>KDH</td>\n",
       "      <td>4.12186</td>\n",
       "      <td>10.62</td>\n",
       "      <td>1.93</td>\n",
       "      <td>3.01</td>\n",
       "      <td>2025-05-22</td>\n",
       "      <td>85.00</td>\n",
       "      <td>85.00</td>\n",
       "      <td>84.75</td>\n",
       "      <td>85.00</td>\n",
       "      <td>0.0</td>\n",
       "      <td>1200</td>\n",
       "      <td>102000.000000</td>\n",
       "    </tr>\n",
       "    <tr>\n",
       "      <th>7</th>\n",
       "      <td>NVD</td>\n",
       "      <td>-0.00942</td>\n",
       "      <td>38.87</td>\n",
       "      <td>0.32</td>\n",
       "      <td>0.00</td>\n",
       "      <td>2025-05-28</td>\n",
       "      <td>1.00</td>\n",
       "      <td>1.02</td>\n",
       "      <td>1.00</td>\n",
       "      <td>1.02</td>\n",
       "      <td>0.0</td>\n",
       "      <td>16301</td>\n",
       "      <td>16301.000000</td>\n",
       "    </tr>\n",
       "    <tr>\n",
       "      <th>8</th>\n",
       "      <td>JDF</td>\n",
       "      <td>0.04224</td>\n",
       "      <td>12.19</td>\n",
       "      <td>1.35</td>\n",
       "      <td>4.85</td>\n",
       "      <td>2025-05-28</td>\n",
       "      <td>1.84</td>\n",
       "      <td>1.85</td>\n",
       "      <td>1.84</td>\n",
       "      <td>1.85</td>\n",
       "      <td>0.0</td>\n",
       "      <td>200</td>\n",
       "      <td>368.000007</td>\n",
       "    </tr>\n",
       "    <tr>\n",
       "      <th>9</th>\n",
       "      <td>SVR</td>\n",
       "      <td>-0.03402</td>\n",
       "      <td>0.00</td>\n",
       "      <td>0.34</td>\n",
       "      <td>0.00</td>\n",
       "      <td>2025-05-28</td>\n",
       "      <td>0.58</td>\n",
       "      <td>0.59</td>\n",
       "      <td>0.57</td>\n",
       "      <td>0.58</td>\n",
       "      <td>0.0</td>\n",
       "      <td>47400</td>\n",
       "      <td>27491.999209</td>\n",
       "    </tr>\n",
       "  </tbody>\n",
       "</table>\n",
       "</div>"
      ],
      "text/plain": [
       "    symbol      eps     pe   pbv  percentyield       time  close_price  \\\n",
       "0     PPPM  0.02000   0.00  0.70          0.00 2025-05-28         0.49   \n",
       "1     TPCH  0.24112   7.90  0.34         13.91 2025-05-28         3.08   \n",
       "2  KPNREIT      NaN    NaN  0.23          0.00 2025-05-22         2.56   \n",
       "3     POLY  0.27632  12.89  2.42          6.38 2025-05-28         6.95   \n",
       "4  QHBREIT      NaN    NaN  0.41          0.00 2025-05-28         3.44   \n",
       "5     VCOM  0.21428   7.85  1.48         10.79 2025-05-28         2.50   \n",
       "6      KDH  4.12186  10.62  1.93          3.01 2025-05-22        85.00   \n",
       "7      NVD -0.00942  38.87  0.32          0.00 2025-05-28         1.00   \n",
       "8      JDF  0.04224  12.19  1.35          4.85 2025-05-28         1.84   \n",
       "9      SVR -0.03402   0.00  0.34          0.00 2025-05-28         0.58   \n",
       "\n",
       "   high_price  low_price  open_price  value  volume      marketcap  \n",
       "0        0.51       0.48        0.49    0.0  313650  153688.502991  \n",
       "1        3.10       3.04        3.10    0.0   52708  162340.635979  \n",
       "2        2.56       2.56        2.56    0.0     100     255.999994  \n",
       "3        6.95       6.65        6.90    0.0    5100   35444.999027  \n",
       "4        3.44       3.42        3.44    0.0  140301  482635.448028  \n",
       "5        2.62       2.50        2.56    0.0  335100  837750.000000  \n",
       "6       85.00      84.75       85.00    0.0    1200  102000.000000  \n",
       "7        1.02       1.00        1.02    0.0   16301   16301.000000  \n",
       "8        1.85       1.84        1.85    0.0     200     368.000007  \n",
       "9        0.59       0.57        0.58    0.0   47400   27491.999209  "
      ]
     },
     "execution_count": 101,
     "metadata": {},
     "output_type": "execute_result"
    }
   ],
   "source": [
    "df.head(10)"
   ]
  },
  {
   "cell_type": "markdown",
   "id": "ffced96c",
   "metadata": {},
   "source": [
    "### เช็คข้อมูลที่เป็นNAN เเล้วดรอป (เหตุผล หุ้นบางตัวอาจจะพึ่งเข้าตลาดหลักทรัพร์)"
   ]
  },
  {
   "cell_type": "code",
   "execution_count": 102,
   "id": "6bf24923",
   "metadata": {},
   "outputs": [
    {
     "data": {
      "text/plain": [
       "symbol           0\n",
       "eps             65\n",
       "pe              72\n",
       "pbv              9\n",
       "percentyield     8\n",
       "time             0\n",
       "close_price      0\n",
       "high_price       0\n",
       "low_price        0\n",
       "open_price       0\n",
       "value            0\n",
       "volume           0\n",
       "marketcap        0\n",
       "dtype: int64"
      ]
     },
     "execution_count": 102,
     "metadata": {},
     "output_type": "execute_result"
    }
   ],
   "source": [
    "df.isnull().sum()"
   ]
  },
  {
   "cell_type": "code",
   "execution_count": 103,
   "id": "4d9efa2f",
   "metadata": {},
   "outputs": [],
   "source": [
    "df.dropna(inplace=True)  # ลบแถวที่มีค่าว่าง"
   ]
  },
  {
   "cell_type": "code",
   "execution_count": 104,
   "id": "3b7faf11",
   "metadata": {},
   "outputs": [
    {
     "data": {
      "text/plain": [
       "symbol          0\n",
       "eps             0\n",
       "pe              0\n",
       "pbv             0\n",
       "percentyield    0\n",
       "time            0\n",
       "close_price     0\n",
       "high_price      0\n",
       "low_price       0\n",
       "open_price      0\n",
       "value           0\n",
       "volume          0\n",
       "marketcap       0\n",
       "dtype: int64"
      ]
     },
     "execution_count": 104,
     "metadata": {},
     "output_type": "execute_result"
    }
   ],
   "source": [
    "df.isnull().sum()"
   ]
  },
  {
   "cell_type": "code",
   "execution_count": 105,
   "id": "ecd8e54c",
   "metadata": {},
   "outputs": [
    {
     "data": {
      "text/plain": [
       "Index(['symbol', 'eps', 'pe', 'pbv', 'percentyield', 'time', 'close_price',\n",
       "       'high_price', 'low_price', 'open_price', 'value', 'volume',\n",
       "       'marketcap'],\n",
       "      dtype='object')"
      ]
     },
     "execution_count": 105,
     "metadata": {},
     "output_type": "execute_result"
    }
   ],
   "source": [
    "df.columns"
   ]
  },
  {
   "cell_type": "code",
   "execution_count": 106,
   "id": "92535e1e",
   "metadata": {},
   "outputs": [],
   "source": [
    "df = df.drop(columns=['time', 'close_price',\n",
    "       'high_price', 'low_price', 'open_price', 'value', 'volume',])"
   ]
  },
  {
   "cell_type": "markdown",
   "id": "1a6b4748",
   "metadata": {},
   "source": [
    "### แยกกลุ่มของข้อมูล Technical\n",
    "\n",
    "โดยใช้เส้นEMA\n",
    "\n",
    "a: แรงมาก/overbought — Close ≥ EMA5 และ RSI ≥ 70\n",
    "\n",
    "b: ขาขึ้นชัด — Close ≥ EMA35 และ EMA35 ≥ EMA89\n",
    "\n",
    "c: Sideways เหนือ EMA89 — Close ≥ EMA89 และแถบ EMA ระยะสั้น (5/15/35/89) แคบ: (max-min)/mean ≤ band_pct (ค่าเริ่ม 1.5%)\n",
    "\n",
    "d: ขาลง — Close < EMA89 และ Close < EMA200 และ EMA89 < EMA200\n",
    "\n",
    "e: Crash — ลำดับลดหลั่นแรง Close < EMA5 < EMA15 < EMA35 < EMA89 < EMA200 และ RSI ≤ 30"
   ]
  },
  {
   "cell_type": "code",
   "execution_count": 107,
   "id": "6e1022ab",
   "metadata": {},
   "outputs": [],
   "source": [
    "import ta\n",
    "import numpy as np\n",
    "import pandas as pd\n",
    "\n",
    "def compute_technical_grades(df_candle, band_pct=0.015):\n",
    "    df_result = []\n",
    "\n",
    "    for symbol, df_sym in df_candle.groupby('symbol'):\n",
    "        df_sym = df_sym.sort_values('time').copy()\n",
    "\n",
    "        # ✅ คำนวณ EMA และ RSI\n",
    "        df_sym['ema5'] = df_sym['close_price'].ewm(span=5, adjust=False).mean()\n",
    "        df_sym['ema15'] = df_sym['close_price'].ewm(span=15, adjust=False).mean()\n",
    "        df_sym['ema35'] = df_sym['close_price'].ewm(span=35, adjust=False).mean()\n",
    "        df_sym['ema89'] = df_sym['close_price'].ewm(span=89, adjust=False).mean()\n",
    "        df_sym['ema200'] = df_sym['close_price'].ewm(span=200, adjust=False).mean()\n",
    "        df_sym['rsi'] = ta.momentum.RSIIndicator(close=df_sym['close_price'], window=14).rsi()\n",
    "\n",
    "        # ✅ ใช้ข้อมูลแถวสุดท้าย (ล่าสุด)\n",
    "        row = df_sym.iloc[-1]\n",
    "        try:\n",
    "            c = row['close_price']\n",
    "            r = row['rsi']\n",
    "            e5, e15, e35, e89, e200 = row['ema5'], row['ema15'], row['ema35'], row['ema89'], row['ema200']\n",
    "\n",
    "            # ✅ Logic การให้เกรด\n",
    "            if c >= e5 and r >= 70:\n",
    "                grade = 'a'\n",
    "            elif c >= e35 and e35 >= e89:\n",
    "                grade = 'b'\n",
    "            elif c >= e89 and (max([e5,e15,e35,e89]) - min([e5,e15,e35,e89])) / np.mean([e5,e15,e35,e89]) <= band_pct:\n",
    "                grade = 'c'\n",
    "            elif c < e89 and c < e200 and e89 < e200:\n",
    "                grade = 'd'\n",
    "            elif c < e5 < e15 < e35 < e89 < e200 and r <= 30:\n",
    "                grade = 'e'\n",
    "            else:\n",
    "                grade = None\n",
    "        except:\n",
    "            grade = None\n",
    "        df_result.append({'symbol': symbol, 'trend_grade': grade})\n",
    "        # ✅ เก็บข้อมูลทั้งหมดลงใน dict\n",
    "        df_result.append({\n",
    "            'symbol': symbol,\n",
    "            'trend_grade': grade,\n",
    "            'time': row['time'],\n",
    "            'close_price': row['close_price'],\n",
    "            'high_price': row['high_price'],\n",
    "            'low_price': row['low_price'],\n",
    "            'open_price': row['open_price'],\n",
    "            'value': row['value'],\n",
    "            'volume': row['volume']\n",
    "        })\n",
    "\n",
    "    return pd.DataFrame(df_result)\n"
   ]
  },
  {
   "cell_type": "code",
   "execution_count": 108,
   "id": "12c63b39",
   "metadata": {},
   "outputs": [],
   "source": [
    "df_result = compute_technical_grades(df_cand)    "
   ]
  },
  {
   "cell_type": "code",
   "execution_count": 109,
   "id": "acb43ec0",
   "metadata": {},
   "outputs": [
    {
     "data": {
      "text/html": [
       "<div>\n",
       "<style scoped>\n",
       "    .dataframe tbody tr th:only-of-type {\n",
       "        vertical-align: middle;\n",
       "    }\n",
       "\n",
       "    .dataframe tbody tr th {\n",
       "        vertical-align: top;\n",
       "    }\n",
       "\n",
       "    .dataframe thead th {\n",
       "        text-align: right;\n",
       "    }\n",
       "</style>\n",
       "<table border=\"1\" class=\"dataframe\">\n",
       "  <thead>\n",
       "    <tr style=\"text-align: right;\">\n",
       "      <th></th>\n",
       "      <th>symbol</th>\n",
       "      <th>trend_grade</th>\n",
       "      <th>time</th>\n",
       "      <th>close_price</th>\n",
       "      <th>high_price</th>\n",
       "      <th>low_price</th>\n",
       "      <th>open_price</th>\n",
       "      <th>value</th>\n",
       "      <th>volume</th>\n",
       "    </tr>\n",
       "  </thead>\n",
       "  <tbody>\n",
       "    <tr>\n",
       "      <th>0</th>\n",
       "      <td>24CS</td>\n",
       "      <td>d</td>\n",
       "      <td>NaT</td>\n",
       "      <td>NaN</td>\n",
       "      <td>NaN</td>\n",
       "      <td>NaN</td>\n",
       "      <td>NaN</td>\n",
       "      <td>NaN</td>\n",
       "      <td>NaN</td>\n",
       "    </tr>\n",
       "    <tr>\n",
       "      <th>1</th>\n",
       "      <td>24CS</td>\n",
       "      <td>d</td>\n",
       "      <td>2025-05-28</td>\n",
       "      <td>1.00</td>\n",
       "      <td>1.11</td>\n",
       "      <td>0.98</td>\n",
       "      <td>1.08</td>\n",
       "      <td>0.0</td>\n",
       "      <td>43744006.0</td>\n",
       "    </tr>\n",
       "    <tr>\n",
       "      <th>2</th>\n",
       "      <td>2S</td>\n",
       "      <td>None</td>\n",
       "      <td>NaT</td>\n",
       "      <td>NaN</td>\n",
       "      <td>NaN</td>\n",
       "      <td>NaN</td>\n",
       "      <td>NaN</td>\n",
       "      <td>NaN</td>\n",
       "      <td>NaN</td>\n",
       "    </tr>\n",
       "    <tr>\n",
       "      <th>3</th>\n",
       "      <td>2S</td>\n",
       "      <td>None</td>\n",
       "      <td>2025-05-28</td>\n",
       "      <td>2.32</td>\n",
       "      <td>2.32</td>\n",
       "      <td>2.30</td>\n",
       "      <td>2.32</td>\n",
       "      <td>0.0</td>\n",
       "      <td>14600.0</td>\n",
       "    </tr>\n",
       "    <tr>\n",
       "      <th>4</th>\n",
       "      <td>3BBIF</td>\n",
       "      <td>b</td>\n",
       "      <td>NaT</td>\n",
       "      <td>NaN</td>\n",
       "      <td>NaN</td>\n",
       "      <td>NaN</td>\n",
       "      <td>NaN</td>\n",
       "      <td>NaN</td>\n",
       "      <td>NaN</td>\n",
       "    </tr>\n",
       "    <tr>\n",
       "      <th>5</th>\n",
       "      <td>3BBIF</td>\n",
       "      <td>b</td>\n",
       "      <td>2025-05-28</td>\n",
       "      <td>6.00</td>\n",
       "      <td>6.05</td>\n",
       "      <td>5.90</td>\n",
       "      <td>5.90</td>\n",
       "      <td>0.0</td>\n",
       "      <td>9248268.0</td>\n",
       "    </tr>\n",
       "    <tr>\n",
       "      <th>6</th>\n",
       "      <td>A</td>\n",
       "      <td>d</td>\n",
       "      <td>NaT</td>\n",
       "      <td>NaN</td>\n",
       "      <td>NaN</td>\n",
       "      <td>NaN</td>\n",
       "      <td>NaN</td>\n",
       "      <td>NaN</td>\n",
       "      <td>NaN</td>\n",
       "    </tr>\n",
       "    <tr>\n",
       "      <th>7</th>\n",
       "      <td>A</td>\n",
       "      <td>d</td>\n",
       "      <td>2025-08-19</td>\n",
       "      <td>4.82</td>\n",
       "      <td>4.84</td>\n",
       "      <td>4.82</td>\n",
       "      <td>4.82</td>\n",
       "      <td>366520.0</td>\n",
       "      <td>76000.0</td>\n",
       "    </tr>\n",
       "    <tr>\n",
       "      <th>8</th>\n",
       "      <td>A5</td>\n",
       "      <td>d</td>\n",
       "      <td>NaT</td>\n",
       "      <td>NaN</td>\n",
       "      <td>NaN</td>\n",
       "      <td>NaN</td>\n",
       "      <td>NaN</td>\n",
       "      <td>NaN</td>\n",
       "      <td>NaN</td>\n",
       "    </tr>\n",
       "    <tr>\n",
       "      <th>9</th>\n",
       "      <td>A5</td>\n",
       "      <td>d</td>\n",
       "      <td>2025-05-28</td>\n",
       "      <td>2.18</td>\n",
       "      <td>2.26</td>\n",
       "      <td>2.10</td>\n",
       "      <td>2.16</td>\n",
       "      <td>0.0</td>\n",
       "      <td>340700.0</td>\n",
       "    </tr>\n",
       "  </tbody>\n",
       "</table>\n",
       "</div>"
      ],
      "text/plain": [
       "  symbol trend_grade       time  close_price  high_price  low_price  \\\n",
       "0   24CS           d        NaT          NaN         NaN        NaN   \n",
       "1   24CS           d 2025-05-28         1.00        1.11       0.98   \n",
       "2     2S        None        NaT          NaN         NaN        NaN   \n",
       "3     2S        None 2025-05-28         2.32        2.32       2.30   \n",
       "4  3BBIF           b        NaT          NaN         NaN        NaN   \n",
       "5  3BBIF           b 2025-05-28         6.00        6.05       5.90   \n",
       "6      A           d        NaT          NaN         NaN        NaN   \n",
       "7      A           d 2025-08-19         4.82        4.84       4.82   \n",
       "8     A5           d        NaT          NaN         NaN        NaN   \n",
       "9     A5           d 2025-05-28         2.18        2.26       2.10   \n",
       "\n",
       "   open_price     value      volume  \n",
       "0         NaN       NaN         NaN  \n",
       "1        1.08       0.0  43744006.0  \n",
       "2         NaN       NaN         NaN  \n",
       "3        2.32       0.0     14600.0  \n",
       "4         NaN       NaN         NaN  \n",
       "5        5.90       0.0   9248268.0  \n",
       "6         NaN       NaN         NaN  \n",
       "7        4.82  366520.0     76000.0  \n",
       "8         NaN       NaN         NaN  \n",
       "9        2.16       0.0    340700.0  "
      ]
     },
     "execution_count": 109,
     "metadata": {},
     "output_type": "execute_result"
    }
   ],
   "source": [
    "df_result.head(10)"
   ]
  },
  {
   "cell_type": "markdown",
   "id": "66d7297b",
   "metadata": {},
   "source": [
    "### ดรอปหุ้นที่เป็นNAN"
   ]
  },
  {
   "cell_type": "code",
   "execution_count": 110,
   "id": "7f64ddac",
   "metadata": {},
   "outputs": [],
   "source": [
    "df_result.dropna(inplace=True)"
   ]
  },
  {
   "cell_type": "code",
   "execution_count": 111,
   "id": "534f7ee1",
   "metadata": {},
   "outputs": [
    {
     "data": {
      "image/png": "[encoded data removed]",
      "text/plain": [
       "<Figure size 800x500 with 1 Axes>"
      ]
     },
     "metadata": {},
     "output_type": "display_data"
    }
   ],
   "source": [
    "import seaborn as sns\n",
    "import matplotlib.pyplot as plt\n",
    "\n",
    "plt.figure(figsize=(8,5))\n",
    "ax = sns.countplot(data=df_result, x=\"trend_grade\", order=df_result[\"trend_grade\"].value_counts().index)\n",
    "\n",
    "plt.title(\"Trend Grade\")\n",
    "plt.xlabel(\"Trend Grade\")\n",
    "plt.ylabel(\"count of symbol\")\n",
    "\n",
    "# ✅ ใส่ตัวเลขบนแท่ง\n",
    "for p in ax.patches:\n",
    "    ax.annotate(\n",
    "        str(int(p.get_height())), \n",
    "        (p.get_x() + p.get_width() / 2., p.get_height()), \n",
    "        ha='center', va='bottom', fontsize=10\n",
    "    )\n",
    "\n",
    "plt.show()\n"
   ]
  },
  {
   "cell_type": "markdown",
   "id": "7d344236",
   "metadata": {},
   "source": [
    "### เเยกกลุ่มของข้อมูล Fundematal โดยใช้Mechine learning (KMEANS)"
   ]
  },
  {
   "cell_type": "code",
   "execution_count": null,
   "id": "c406134f",
   "metadata": {},
   "outputs": [],
   "source": [
    "# ✅ Clustering กลุ่ม A–E ด้วย KMeans\n",
    "from sklearn.preprocessing import StandardScaler\n",
    "from sklearn.cluster import KMeans\n",
    "\n",
    "features = ['eps', 'pe', 'pbv', 'percentyield', 'marketcap']\n",
    "X = df[features].dropna()\n",
    "scaler = StandardScaler()\n",
    "X_scaled = scaler.fit_transform(X)\n",
    "\n",
    "kmeans = KMeans(n_clusters=5, random_state=42, n_init='auto')\n",
    "kmeans_labels = kmeans.fit_predict(X_scaled)\n",
    "df.loc[X.index, 'group'] = kmeans_labels\n",
    "\n",
    "group_map = {i: chr(65+i) for i in range(5)}\n",
    "df['group'] = df['group'].map(group_map)"
   ]
  },
  {
   "cell_type": "code",
   "execution_count": 113,
   "id": "f5b94734",
   "metadata": {},
   "outputs": [
    {
     "data": {
      "text/html": [
       "<div>\n",
       "<style scoped>\n",
       "    .dataframe tbody tr th:only-of-type {\n",
       "        vertical-align: middle;\n",
       "    }\n",
       "\n",
       "    .dataframe tbody tr th {\n",
       "        vertical-align: top;\n",
       "    }\n",
       "\n",
       "    .dataframe thead th {\n",
       "        text-align: right;\n",
       "    }\n",
       "</style>\n",
       "<table border=\"1\" class=\"dataframe\">\n",
       "  <thead>\n",
       "    <tr style=\"text-align: right;\">\n",
       "      <th></th>\n",
       "      <th>symbol</th>\n",
       "      <th>eps</th>\n",
       "      <th>pe</th>\n",
       "      <th>pbv</th>\n",
       "      <th>percentyield</th>\n",
       "      <th>marketcap</th>\n",
       "      <th>group</th>\n",
       "    </tr>\n",
       "  </thead>\n",
       "  <tbody>\n",
       "    <tr>\n",
       "      <th>0</th>\n",
       "      <td>PPPM</td>\n",
       "      <td>0.02000</td>\n",
       "      <td>0.00</td>\n",
       "      <td>0.70</td>\n",
       "      <td>0.00</td>\n",
       "      <td>153688.502991</td>\n",
       "      <td>A</td>\n",
       "    </tr>\n",
       "    <tr>\n",
       "      <th>1</th>\n",
       "      <td>TPCH</td>\n",
       "      <td>0.24112</td>\n",
       "      <td>7.90</td>\n",
       "      <td>0.34</td>\n",
       "      <td>13.91</td>\n",
       "      <td>162340.635979</td>\n",
       "      <td>B</td>\n",
       "    </tr>\n",
       "    <tr>\n",
       "      <th>3</th>\n",
       "      <td>POLY</td>\n",
       "      <td>0.27632</td>\n",
       "      <td>12.89</td>\n",
       "      <td>2.42</td>\n",
       "      <td>6.38</td>\n",
       "      <td>35444.999027</td>\n",
       "      <td>B</td>\n",
       "    </tr>\n",
       "    <tr>\n",
       "      <th>5</th>\n",
       "      <td>VCOM</td>\n",
       "      <td>0.21428</td>\n",
       "      <td>7.85</td>\n",
       "      <td>1.48</td>\n",
       "      <td>10.79</td>\n",
       "      <td>837750.000000</td>\n",
       "      <td>B</td>\n",
       "    </tr>\n",
       "    <tr>\n",
       "      <th>6</th>\n",
       "      <td>KDH</td>\n",
       "      <td>4.12186</td>\n",
       "      <td>10.62</td>\n",
       "      <td>1.93</td>\n",
       "      <td>3.01</td>\n",
       "      <td>102000.000000</td>\n",
       "      <td>A</td>\n",
       "    </tr>\n",
       "    <tr>\n",
       "      <th>7</th>\n",
       "      <td>NVD</td>\n",
       "      <td>-0.00942</td>\n",
       "      <td>38.87</td>\n",
       "      <td>0.32</td>\n",
       "      <td>0.00</td>\n",
       "      <td>16301.000000</td>\n",
       "      <td>A</td>\n",
       "    </tr>\n",
       "    <tr>\n",
       "      <th>8</th>\n",
       "      <td>JDF</td>\n",
       "      <td>0.04224</td>\n",
       "      <td>12.19</td>\n",
       "      <td>1.35</td>\n",
       "      <td>4.85</td>\n",
       "      <td>368.000007</td>\n",
       "      <td>B</td>\n",
       "    </tr>\n",
       "    <tr>\n",
       "      <th>9</th>\n",
       "      <td>SVR</td>\n",
       "      <td>-0.03402</td>\n",
       "      <td>0.00</td>\n",
       "      <td>0.34</td>\n",
       "      <td>0.00</td>\n",
       "      <td>27491.999209</td>\n",
       "      <td>A</td>\n",
       "    </tr>\n",
       "    <tr>\n",
       "      <th>10</th>\n",
       "      <td>SUSCO</td>\n",
       "      <td>0.11000</td>\n",
       "      <td>8.75</td>\n",
       "      <td>0.55</td>\n",
       "      <td>8.37</td>\n",
       "      <td>417893.841455</td>\n",
       "      <td>B</td>\n",
       "    </tr>\n",
       "    <tr>\n",
       "      <th>11</th>\n",
       "      <td>STP</td>\n",
       "      <td>0.92828</td>\n",
       "      <td>6.74</td>\n",
       "      <td>1.37</td>\n",
       "      <td>5.60</td>\n",
       "      <td>74480.001450</td>\n",
       "      <td>B</td>\n",
       "    </tr>\n",
       "  </tbody>\n",
       "</table>\n",
       "</div>"
      ],
      "text/plain": [
       "   symbol      eps     pe   pbv  percentyield      marketcap group\n",
       "0    PPPM  0.02000   0.00  0.70          0.00  153688.502991     A\n",
       "1    TPCH  0.24112   7.90  0.34         13.91  162340.635979     B\n",
       "3    POLY  0.27632  12.89  2.42          6.38   35444.999027     B\n",
       "5    VCOM  0.21428   7.85  1.48         10.79  837750.000000     B\n",
       "6     KDH  4.12186  10.62  1.93          3.01  102000.000000     A\n",
       "7     NVD -0.00942  38.87  0.32          0.00   16301.000000     A\n",
       "8     JDF  0.04224  12.19  1.35          4.85     368.000007     B\n",
       "9     SVR -0.03402   0.00  0.34          0.00   27491.999209     A\n",
       "10  SUSCO  0.11000   8.75  0.55          8.37  417893.841455     B\n",
       "11    STP  0.92828   6.74  1.37          5.60   74480.001450     B"
      ]
     },
     "execution_count": 113,
     "metadata": {},
     "output_type": "execute_result"
    }
   ],
   "source": [
    "df.head(10)"
   ]
  },
  {
   "cell_type": "code",
   "execution_count": 114,
   "id": "46c0ec7c",
   "metadata": {},
   "outputs": [],
   "source": [
    "# ✅ 1) สมมติว่า df_graded มี: symbol | trend_grade\n",
    "#         และ df มี:        symbol | group\n",
    "\n",
    "# ✅ 2) Merge โดยใช้คอลัมน์ 'symbol'\n",
    "df_merged = pd.merge(df, df_result[['symbol', 'trend_grade']], on='symbol', how='inner')\n",
    "\n",
    "# ✅ 3) สร้างคอลัมน์ quadrant (เช่น Aa, Be, Dc, etc.)\n",
    "df_merged['quadrant'] = df_merged['group'] + df_merged['trend_grade']"
   ]
  },
  {
   "cell_type": "code",
   "execution_count": 115,
   "id": "90c7a105",
   "metadata": {},
   "outputs": [
    {
     "data": {
      "text/html": [
       "<div>\n",
       "<style scoped>\n",
       "    .dataframe tbody tr th:only-of-type {\n",
       "        vertical-align: middle;\n",
       "    }\n",
       "\n",
       "    .dataframe tbody tr th {\n",
       "        vertical-align: top;\n",
       "    }\n",
       "\n",
       "    .dataframe thead th {\n",
       "        text-align: right;\n",
       "    }\n",
       "</style>\n",
       "<table border=\"1\" class=\"dataframe\">\n",
       "  <thead>\n",
       "    <tr style=\"text-align: right;\">\n",
       "      <th></th>\n",
       "      <th>symbol</th>\n",
       "      <th>eps</th>\n",
       "      <th>pe</th>\n",
       "      <th>pbv</th>\n",
       "      <th>percentyield</th>\n",
       "      <th>marketcap</th>\n",
       "      <th>group</th>\n",
       "      <th>trend_grade</th>\n",
       "      <th>quadrant</th>\n",
       "    </tr>\n",
       "  </thead>\n",
       "  <tbody>\n",
       "    <tr>\n",
       "      <th>0</th>\n",
       "      <td>TPCH</td>\n",
       "      <td>0.24112</td>\n",
       "      <td>7.90</td>\n",
       "      <td>0.34</td>\n",
       "      <td>13.91</td>\n",
       "      <td>162340.635979</td>\n",
       "      <td>B</td>\n",
       "      <td>d</td>\n",
       "      <td>Bd</td>\n",
       "    </tr>\n",
       "    <tr>\n",
       "      <th>1</th>\n",
       "      <td>POLY</td>\n",
       "      <td>0.27632</td>\n",
       "      <td>12.89</td>\n",
       "      <td>2.42</td>\n",
       "      <td>6.38</td>\n",
       "      <td>35444.999027</td>\n",
       "      <td>B</td>\n",
       "      <td>d</td>\n",
       "      <td>Bd</td>\n",
       "    </tr>\n",
       "    <tr>\n",
       "      <th>2</th>\n",
       "      <td>KDH</td>\n",
       "      <td>4.12186</td>\n",
       "      <td>10.62</td>\n",
       "      <td>1.93</td>\n",
       "      <td>3.01</td>\n",
       "      <td>102000.000000</td>\n",
       "      <td>A</td>\n",
       "      <td>d</td>\n",
       "      <td>Ad</td>\n",
       "    </tr>\n",
       "    <tr>\n",
       "      <th>3</th>\n",
       "      <td>NVD</td>\n",
       "      <td>-0.00942</td>\n",
       "      <td>38.87</td>\n",
       "      <td>0.32</td>\n",
       "      <td>0.00</td>\n",
       "      <td>16301.000000</td>\n",
       "      <td>A</td>\n",
       "      <td>d</td>\n",
       "      <td>Ad</td>\n",
       "    </tr>\n",
       "    <tr>\n",
       "      <th>4</th>\n",
       "      <td>JDF</td>\n",
       "      <td>0.04224</td>\n",
       "      <td>12.19</td>\n",
       "      <td>1.35</td>\n",
       "      <td>4.85</td>\n",
       "      <td>368.000007</td>\n",
       "      <td>B</td>\n",
       "      <td>d</td>\n",
       "      <td>Bd</td>\n",
       "    </tr>\n",
       "    <tr>\n",
       "      <th>5</th>\n",
       "      <td>SVR</td>\n",
       "      <td>-0.03402</td>\n",
       "      <td>0.00</td>\n",
       "      <td>0.34</td>\n",
       "      <td>0.00</td>\n",
       "      <td>27491.999209</td>\n",
       "      <td>A</td>\n",
       "      <td>d</td>\n",
       "      <td>Ad</td>\n",
       "    </tr>\n",
       "    <tr>\n",
       "      <th>6</th>\n",
       "      <td>SUSCO</td>\n",
       "      <td>0.11000</td>\n",
       "      <td>8.75</td>\n",
       "      <td>0.55</td>\n",
       "      <td>8.37</td>\n",
       "      <td>417893.841455</td>\n",
       "      <td>B</td>\n",
       "      <td>d</td>\n",
       "      <td>Bd</td>\n",
       "    </tr>\n",
       "    <tr>\n",
       "      <th>7</th>\n",
       "      <td>STP</td>\n",
       "      <td>0.92828</td>\n",
       "      <td>6.74</td>\n",
       "      <td>1.37</td>\n",
       "      <td>5.60</td>\n",
       "      <td>74480.001450</td>\n",
       "      <td>B</td>\n",
       "      <td>d</td>\n",
       "      <td>Bd</td>\n",
       "    </tr>\n",
       "    <tr>\n",
       "      <th>8</th>\n",
       "      <td>VGI</td>\n",
       "      <td>0.00224</td>\n",
       "      <td>85.27</td>\n",
       "      <td>1.20</td>\n",
       "      <td>0.63</td>\n",
       "      <td>21839.999008</td>\n",
       "      <td>A</td>\n",
       "      <td>d</td>\n",
       "      <td>Ad</td>\n",
       "    </tr>\n",
       "    <tr>\n",
       "      <th>9</th>\n",
       "      <td>NCP</td>\n",
       "      <td>0.06168</td>\n",
       "      <td>10.60</td>\n",
       "      <td>1.19</td>\n",
       "      <td>5.76</td>\n",
       "      <td>17249.999642</td>\n",
       "      <td>B</td>\n",
       "      <td>b</td>\n",
       "      <td>Bb</td>\n",
       "    </tr>\n",
       "  </tbody>\n",
       "</table>\n",
       "</div>"
      ],
      "text/plain": [
       "  symbol      eps     pe   pbv  percentyield      marketcap group trend_grade  \\\n",
       "0   TPCH  0.24112   7.90  0.34         13.91  162340.635979     B           d   \n",
       "1   POLY  0.27632  12.89  2.42          6.38   35444.999027     B           d   \n",
       "2    KDH  4.12186  10.62  1.93          3.01  102000.000000     A           d   \n",
       "3    NVD -0.00942  38.87  0.32          0.00   16301.000000     A           d   \n",
       "4    JDF  0.04224  12.19  1.35          4.85     368.000007     B           d   \n",
       "5    SVR -0.03402   0.00  0.34          0.00   27491.999209     A           d   \n",
       "6  SUSCO  0.11000   8.75  0.55          8.37  417893.841455     B           d   \n",
       "7    STP  0.92828   6.74  1.37          5.60   74480.001450     B           d   \n",
       "8    VGI  0.00224  85.27  1.20          0.63   21839.999008     A           d   \n",
       "9    NCP  0.06168  10.60  1.19          5.76   17249.999642     B           b   \n",
       "\n",
       "  quadrant  \n",
       "0       Bd  \n",
       "1       Bd  \n",
       "2       Ad  \n",
       "3       Ad  \n",
       "4       Bd  \n",
       "5       Ad  \n",
       "6       Bd  \n",
       "7       Bd  \n",
       "8       Ad  \n",
       "9       Bb  "
      ]
     },
     "execution_count": 115,
     "metadata": {},
     "output_type": "execute_result"
    }
   ],
   "source": [
    "df_merged.head(10)"
   ]
  },
  {
   "cell_type": "code",
   "execution_count": 116,
   "id": "40e7ac86",
   "metadata": {},
   "outputs": [
    {
     "data": {
      "application/vnd.plotly.v1+json": {
       "config": {
        "plotlyServerURL": "https://plot.ly"
       },
       "data": [
        {
         "cells": {
          "align": "center",
          "fill": {
           "color": [
            [
             "#2ecc71",
             "#2ecc71",
             "#2ecc71",
             "#2ecc71",
             "#2ecc71"
            ],
            [
             "#58d68d",
             "#58d68d",
             "#58d68d",
             "#58d68d",
             "#58d68d"
            ],
            [
             "#f4d03f",
             "#f4d03f",
             "#f4d03f",
             "#f4d03f",
             "#f4d03f"
            ],
            [
             "#f39c12",
             "#f39c12",
             "#f39c12",
             "#f39c12",
             "#f39c12"
            ],
            [
             "#e74c3c",
             "#e74c3c",
             "#e74c3c",
             "#e74c3c",
             "#e74c3c"
            ]
           ]
          },
          "font": {
           "color": "white",
           "size": 12
          },
          "height": 100,
          "values": [
           [
            "<b>Aa</b><br>WINDOW<br>NEX<br>ALT<br>SWC<br>TKC<br>TKT<br>MOTHER<br>AS<br>PTTGC<br>TPL",
            "<b>Ab</b><br>PSP<br>THAI<br>UOBKH<br>PAP<br>MFC<br>KCAR<br>ACE<br>WGE<br>GFPT<br>TIDLOR",
            "<b>Ac</b><br>PANEL<br>SEAFCO<br>WPH<br>NAM<br>TPCS",
            "<b>Ad</b><br>KDH<br>NVD<br>SVR<br>VGI<br>KSL<br>PLUS<br>CRC<br>SHR<br>TGH<br>NPK",
            "<b>Ae</b><br>-"
           ],
           [
            "<b>Ba</b><br>M<br>UP<br>TU<br>TISCO<br>TOP<br>TACC<br>LHK<br>STGT<br>MTI<br>KYE",
            "<b>Bb</b><br>NCP<br>SAT<br>KCG<br>FM<br>SINO<br>APP<br>TFG<br>SYNTEC<br>PM<br>RCL",
            "<b>Bc</b><br>CSC<br>PTT<br>BBL<br>WP<br>UPOIC<br>SKN<br>JCT",
            "<b>Bd</b><br>TPCH<br>POLY<br>JDF<br>SUSCO<br>STP<br>ROJNA<br>ASP<br>SIS<br>ADVICE<br>TAN",
            "<b>Be</b><br>-"
           ],
           [
            "<b>Ca</b><br>-",
            "<b>Cb</b><br>-",
            "<b>Cc</b><br>-",
            "<b>Cd</b><br>-",
            "<b>Ce</b><br>-"
           ],
           [
            "<b>Da</b><br>PTTEP",
            "<b>Db</b><br>GYT<br>EGCO<br>SCB<br>METCO<br>ADVANC",
            "<b>Dc</b><br>-",
            "<b>Dd</b><br>TOPP<br>SCC<br>BKIH<br>OHTL<br>ALUCON",
            "<b>De</b><br>-"
           ],
           [
            "<b>Ea</b><br>DV8<br>DELTA",
            "<b>Eb</b><br>MONO",
            "<b>Ec</b><br>-",
            "<b>Ed</b><br>JTS",
            "<b>Ee</b><br>-"
           ]
          ]
         },
         "header": {
          "align": "center",
          "fill": {
           "color": "#dcdcdc"
          },
          "font": {
           "color": "black",
           "size": 14
          },
          "values": [
           "Super Bullish",
           "Up Trend",
           "Sideway",
           "Down Trend",
           "Crash"
          ]
         },
         "type": "table"
        }
       ],
       "layout": {
        "template": {
         "data": {
          "bar": [
           {
            "error_x": {
             "color": "#2a3f5f"
            },
            "error_y": {
             "color": "#2a3f5f"
            },
            "marker": {
             "line": {
              "color": "#E5ECF6",
              "width": 0.5
             },
             "pattern": {
              "fillmode": "overlay",
              "size": 10,
              "solidity": 0.2
             }
            },
            "type": "bar"
           }
          ],
          "barpolar": [
           {
            "marker": {
             "line": {
              "color": "#E5ECF6",
              "width": 0.5
             },
             "pattern": {
              "fillmode": "overlay",
              "size": 10,
              "solidity": 0.2
             }
            },
            "type": "barpolar"
           }
          ],
          "carpet": [
           {
            "aaxis": {
             "endlinecolor": "#2a3f5f",
             "gridcolor": "white",
             "linecolor": "white",
             "minorgridcolor": "white",
             "startlinecolor": "#2a3f5f"
            },
            "baxis": {
             "endlinecolor": "#2a3f5f",
             "gridcolor": "white",
             "linecolor": "white",
             "minorgridcolor": "white",
             "startlinecolor": "#2a3f5f"
            },
            "type": "carpet"
           }
          ],
          "choropleth": [
           {
            "colorbar": {
             "outlinewidth": 0,
             "ticks": ""
            },
            "type": "choropleth"
           }
          ],
          "contour": [
           {
            "colorbar": {
             "outlinewidth": 0,
             "ticks": ""
            },
            "colorscale": [
             [
              0,
              "#0d0887"
             ],
             [
              0.1111111111111111,
              "#46039f"
             ],
             [
              0.2222222222222222,
              "#7201a8"
             ],
             [
              0.3333333333333333,
              "#9c179e"
             ],
             [
              0.4444444444444444,
              "#bd3786"
             ],
             [
              0.5555555555555556,
              "#d8576b"
             ],
             [
              0.6666666666666666,
              "#ed7953"
             ],
             [
              0.7777777777777778,
              "#fb9f3a"
             ],
             [
              0.8888888888888888,
              "#fdca26"
             ],
             [
              1,
              "#f0f921"
             ]
            ],
            "type": "contour"
           }
          ],
          "contourcarpet": [
           {
            "colorbar": {
             "outlinewidth": 0,
             "ticks": ""
            },
            "type": "contourcarpet"
           }
          ],
          "heatmap": [
           {
            "colorbar": {
             "outlinewidth": 0,
             "ticks": ""
            },
            "colorscale": [
             [
              0,
              "#0d0887"
             ],
             [
              0.1111111111111111,
              "#46039f"
             ],
             [
              0.2222222222222222,
              "#7201a8"
             ],
             [
              0.3333333333333333,
              "#9c179e"
             ],
             [
              0.4444444444444444,
              "#bd3786"
             ],
             [
              0.5555555555555556,
              "#d8576b"
             ],
             [
              0.6666666666666666,
              "#ed7953"
             ],
             [
              0.7777777777777778,
              "#fb9f3a"
             ],
             [
              0.8888888888888888,
              "#fdca26"
             ],
             [
              1,
              "#f0f921"
             ]
            ],
            "type": "heatmap"
           }
          ],
          "histogram": [
           {
            "marker": {
             "pattern": {
              "fillmode": "overlay",
              "size": 10,
              "solidity": 0.2
             }
            },
            "type": "histogram"
           }
          ],
          "histogram2d": [
           {
            "colorbar": {
             "outlinewidth": 0,
             "ticks": ""
            },
            "colorscale": [
             [
              0,
              "#0d0887"
             ],
             [
              0.1111111111111111,
              "#46039f"
             ],
             [
              0.2222222222222222,
              "#7201a8"
             ],
             [
              0.3333333333333333,
              "#9c179e"
             ],
             [
              0.4444444444444444,
              "#bd3786"
             ],
             [
              0.5555555555555556,
              "#d8576b"
             ],
             [
              0.6666666666666666,
              "#ed7953"
             ],
             [
              0.7777777777777778,
              "#fb9f3a"
             ],
             [
              0.8888888888888888,
              "#fdca26"
             ],
             [
              1,
              "#f0f921"
             ]
            ],
            "type": "histogram2d"
           }
          ],
          "histogram2dcontour": [
           {
            "colorbar": {
             "outlinewidth": 0,
             "ticks": ""
            },
            "colorscale": [
             [
              0,
              "#0d0887"
             ],
             [
              0.1111111111111111,
              "#46039f"
             ],
             [
              0.2222222222222222,
              "#7201a8"
             ],
             [
              0.3333333333333333,
              "#9c179e"
             ],
             [
              0.4444444444444444,
              "#bd3786"
             ],
             [
              0.5555555555555556,
              "#d8576b"
             ],
             [
              0.6666666666666666,
              "#ed7953"
             ],
             [
              0.7777777777777778,
              "#fb9f3a"
             ],
             [
              0.8888888888888888,
              "#fdca26"
             ],
             [
              1,
              "#f0f921"
             ]
            ],
            "type": "histogram2dcontour"
           }
          ],
          "mesh3d": [
           {
            "colorbar": {
             "outlinewidth": 0,
             "ticks": ""
            },
            "type": "mesh3d"
           }
          ],
          "parcoords": [
           {
            "line": {
             "colorbar": {
              "outlinewidth": 0,
              "ticks": ""
             }
            },
            "type": "parcoords"
           }
          ],
          "pie": [
           {
            "automargin": true,
            "type": "pie"
           }
          ],
          "scatter": [
           {
            "fillpattern": {
             "fillmode": "overlay",
             "size": 10,
             "solidity": 0.2
            },
            "type": "scatter"
           }
          ],
          "scatter3d": [
           {
            "line": {
             "colorbar": {
              "outlinewidth": 0,
              "ticks": ""
             }
            },
            "marker": {
             "colorbar": {
              "outlinewidth": 0,
              "ticks": ""
             }
            },
            "type": "scatter3d"
           }
          ],
          "scattercarpet": [
           {
            "marker": {
             "colorbar": {
              "outlinewidth": 0,
              "ticks": ""
             }
            },
            "type": "scattercarpet"
           }
          ],
          "scattergeo": [
           {
            "marker": {
             "colorbar": {
              "outlinewidth": 0,
              "ticks": ""
             }
            },
            "type": "scattergeo"
           }
          ],
          "scattergl": [
           {
            "marker": {
             "colorbar": {
              "outlinewidth": 0,
              "ticks": ""
             }
            },
            "type": "scattergl"
           }
          ],
          "scattermap": [
           {
            "marker": {
             "colorbar": {
              "outlinewidth": 0,
              "ticks": ""
             }
            },
            "type": "scattermap"
           }
          ],
          "scattermapbox": [
           {
            "marker": {
             "colorbar": {
              "outlinewidth": 0,
              "ticks": ""
             }
            },
            "type": "scattermapbox"
           }
          ],
          "scatterpolar": [
           {
            "marker": {
             "colorbar": {
              "outlinewidth": 0,
              "ticks": ""
             }
            },
            "type": "scatterpolar"
           }
          ],
          "scatterpolargl": [
           {
            "marker": {
             "colorbar": {
              "outlinewidth": 0,
              "ticks": ""
             }
            },
            "type": "scatterpolargl"
           }
          ],
          "scatterternary": [
           {
            "marker": {
             "colorbar": {
              "outlinewidth": 0,
              "ticks": ""
             }
            },
            "type": "scatterternary"
           }
          ],
          "surface": [
           {
            "colorbar": {
             "outlinewidth": 0,
             "ticks": ""
            },
            "colorscale": [
             [
              0,
              "#0d0887"
             ],
             [
              0.1111111111111111,
              "#46039f"
             ],
             [
              0.2222222222222222,
              "#7201a8"
             ],
             [
              0.3333333333333333,
              "#9c179e"
             ],
             [
              0.4444444444444444,
              "#bd3786"
             ],
             [
              0.5555555555555556,
              "#d8576b"
             ],
             [
              0.6666666666666666,
              "#ed7953"
             ],
             [
              0.7777777777777778,
              "#fb9f3a"
             ],
             [
              0.8888888888888888,
              "#fdca26"
             ],
             [
              1,
              "#f0f921"
             ]
            ],
            "type": "surface"
           }
          ],
          "table": [
           {
            "cells": {
             "fill": {
              "color": "#EBF0F8"
             },
             "line": {
              "color": "white"
             }
            },
            "header": {
             "fill": {
              "color": "#C8D4E3"
             },
             "line": {
              "color": "white"
             }
            },
            "type": "table"
           }
          ]
         },
         "layout": {
          "annotationdefaults": {
           "arrowcolor": "#2a3f5f",
           "arrowhead": 0,
           "arrowwidth": 1
          },
          "autotypenumbers": "strict",
          "coloraxis": {
           "colorbar": {
            "outlinewidth": 0,
            "ticks": ""
           }
          },
          "colorscale": {
           "diverging": [
            [
             0,
             "#8e0152"
            ],
            [
             0.1,
             "#c51b7d"
            ],
            [
             0.2,
             "#de77ae"
            ],
            [
             0.3,
             "#f1b6da"
            ],
            [
             0.4,
             "#fde0ef"
            ],
            [
             0.5,
             "#f7f7f7"
            ],
            [
             0.6,
             "#e6f5d0"
            ],
            [
             0.7,
             "#b8e186"
            ],
            [
             0.8,
             "#7fbc41"
            ],
            [
             0.9,
             "#4d9221"
            ],
            [
             1,
             "#276419"
            ]
           ],
           "sequential": [
            [
             0,
             "#0d0887"
            ],
            [
             0.1111111111111111,
             "#46039f"
            ],
            [
             0.2222222222222222,
             "#7201a8"
            ],
            [
             0.3333333333333333,
             "#9c179e"
            ],
            [
             0.4444444444444444,
             "#bd3786"
            ],
            [
             0.5555555555555556,
             "#d8576b"
            ],
            [
             0.6666666666666666,
             "#ed7953"
            ],
            [
             0.7777777777777778,
             "#fb9f3a"
            ],
            [
             0.8888888888888888,
             "#fdca26"
            ],
            [
             1,
             "#f0f921"
            ]
           ],
           "sequentialminus": [
            [
             0,
             "#0d0887"
            ],
            [
             0.1111111111111111,
             "#46039f"
            ],
            [
             0.2222222222222222,
             "#7201a8"
            ],
            [
             0.3333333333333333,
             "#9c179e"
            ],
            [
             0.4444444444444444,
             "#bd3786"
            ],
            [
             0.5555555555555556,
             "#d8576b"
            ],
            [
             0.6666666666666666,
             "#ed7953"
            ],
            [
             0.7777777777777778,
             "#fb9f3a"
            ],
            [
             0.8888888888888888,
             "#fdca26"
            ],
            [
             1,
             "#f0f921"
            ]
           ]
          },
          "colorway": [
           "#636efa",
           "#EF553B",
           "#00cc96",
           "#ab63fa",
           "#FFA15A",
           "#19d3f3",
           "#FF6692",
           "#B6E880",
           "#FF97FF",
           "#FECB52"
          ],
          "font": {
           "color": "#2a3f5f"
          },
          "geo": {
           "bgcolor": "white",
           "lakecolor": "white",
           "landcolor": "#E5ECF6",
           "showlakes": true,
           "showland": true,
           "subunitcolor": "white"
          },
          "hoverlabel": {
           "align": "left"
          },
          "hovermode": "closest",
          "mapbox": {
           "style": "light"
          },
          "paper_bgcolor": "white",
          "plot_bgcolor": "#E5ECF6",
          "polar": {
           "angularaxis": {
            "gridcolor": "white",
            "linecolor": "white",
            "ticks": ""
           },
           "bgcolor": "#E5ECF6",
           "radialaxis": {
            "gridcolor": "white",
            "linecolor": "white",
            "ticks": ""
           }
          },
          "scene": {
           "xaxis": {
            "backgroundcolor": "#E5ECF6",
            "gridcolor": "white",
            "gridwidth": 2,
            "linecolor": "white",
            "showbackground": true,
            "ticks": "",
            "zerolinecolor": "white"
           },
           "yaxis": {
            "backgroundcolor": "#E5ECF6",
            "gridcolor": "white",
            "gridwidth": 2,
            "linecolor": "white",
            "showbackground": true,
            "ticks": "",
            "zerolinecolor": "white"
           },
           "zaxis": {
            "backgroundcolor": "#E5ECF6",
            "gridcolor": "white",
            "gridwidth": 2,
            "linecolor": "white",
            "showbackground": true,
            "ticks": "",
            "zerolinecolor": "white"
           }
          },
          "shapedefaults": {
           "line": {
            "color": "#2a3f5f"
           }
          },
          "ternary": {
           "aaxis": {
            "gridcolor": "white",
            "linecolor": "white",
            "ticks": ""
           },
           "baxis": {
            "gridcolor": "white",
            "linecolor": "white",
            "ticks": ""
           },
           "bgcolor": "#E5ECF6",
           "caxis": {
            "gridcolor": "white",
            "linecolor": "white",
            "ticks": ""
           }
          },
          "title": {
           "x": 0.05
          },
          "xaxis": {
           "automargin": true,
           "gridcolor": "white",
           "linecolor": "white",
           "ticks": "",
           "title": {
            "standoff": 15
           },
           "zerolinecolor": "white",
           "zerolinewidth": 2
          },
          "yaxis": {
           "automargin": true,
           "gridcolor": "white",
           "linecolor": "white",
           "ticks": "",
           "title": {
            "standoff": 15
           },
           "zerolinecolor": "white",
           "zerolinewidth": 2
          }
         }
        },
        "title": {
         "text": "📊 Stock Quadrant Table (Aa–Ee) จาก Rule-Based or Model"
        }
       }
      }
     },
     "metadata": {},
     "output_type": "display_data"
    }
   ],
   "source": [
    "import plotly.graph_objects as go\n",
    "df_result=df_merged\n",
    "# ✅ จัดกลุ่มหุ้นตาม quadrant\n",
    "quadrant_groups = df_result.groupby('quadrant')['symbol'].apply(list).to_dict()\n",
    "\n",
    "# ✅ กำหนดลำดับของแกน\n",
    "financial_levels = ['A', 'B', 'C', 'D', 'E']  # A = Strong fundamentals\n",
    "trend_levels = ['a', 'b', 'c', 'd', 'e']      # a = Bullish, e = Crash\n",
    "\n",
    "# ✅ เตรียมข้อมูลแต่ละเซลล์ในตาราง (5x5)\n",
    "plot_table = []\n",
    "for f in financial_levels:\n",
    "    row = []\n",
    "    for t in trend_levels:\n",
    "        code = f + t\n",
    "        stocks = quadrant_groups.get(code, [])\n",
    "        if stocks:\n",
    "            stock_list = \"<br>\".join(stocks[:10])  # แสดงสูงสุด 10 ตัว\n",
    "            cell_text = f\"<b>{code}</b><br>{stock_list}\"\n",
    "        else:\n",
    "            cell_text = f\"<b>{code}</b><br>-\"\n",
    "        row.append(cell_text)\n",
    "    plot_table.append(row)\n",
    "\n",
    "# ✅ สร้างสีของแต่ละแถวตามกลุ่มพื้นฐาน A–E\n",
    "colors = [[{'A': '#2ecc71', 'B': '#58d68d', 'C': '#f4d03f', 'D': '#f39c12', 'E': '#e74c3c'}[f]]*5 for f in financial_levels]\n",
    "\n",
    "# ✅ Plotly Table\n",
    "fig = go.Figure(data=go.Table(\n",
    "    header=dict(\n",
    "        values=[\"Super Bullish\", \"Up Trend\", \"Sideway\", \"Down Trend\", \"Crash\"],\n",
    "        fill_color=\"#dcdcdc\",\n",
    "        align=\"center\",\n",
    "        font=dict(color=\"black\", size=14)\n",
    "    ),\n",
    "    cells=dict(\n",
    "        values=plot_table,\n",
    "        fill_color=colors,\n",
    "        align=\"center\",\n",
    "        height=100,\n",
    "        font=dict(color=\"white\", size=12)\n",
    "    )\n",
    "))\n",
    "\n",
    "# ✅ ตั้งชื่อกราฟ\n",
    "fig.update_layout(title=\"📊 Stock Quadrant Table (Aa–Ee) จาก Rule-Based or Model\")\n",
    "fig.show()\n"
   ]
  },
  {
   "cell_type": "markdown",
   "id": "b493fb63",
   "metadata": {},
   "source": [
    "## Modelling"
   ]
  },
  {
   "cell_type": "code",
   "execution_count": 117,
   "id": "c07818d5",
   "metadata": {},
   "outputs": [],
   "source": [
    "import torch\n",
    "import torch.nn as nn\n",
    "import torch.optim as optim\n",
    "import matplotlib.pyplot as plt\n",
    "from sklearn.model_selection import train_test_split\n",
    "from sklearn.preprocessing import LabelEncoder, StandardScaler\n",
    "from sklearn.metrics import accuracy_score, f1_score"
   ]
  },
  {
   "cell_type": "code",
   "execution_count": 118,
   "id": "fd16cae6",
   "metadata": {},
   "outputs": [],
   "source": [
    "# ✅ Features และ Quadrant (สมมุติ df เตรียมไว้แล้ว)\n",
    "features = ['eps', 'pe', 'pbv', 'percentyield', 'marketcap']\n",
    "df = df_result.dropna(subset=features + ['group', 'trend_grade'])\n",
    "df['quadrant'] = df['group'] + df_result['trend_grade']  # เช่น 'Aa', 'Bb'\n",
    "\n"
   ]
  },
  {
   "cell_type": "code",
   "execution_count": 119,
   "id": "8f4873d1",
   "metadata": {},
   "outputs": [
    {
     "data": {
      "text/html": [
       "<div>\n",
       "<style scoped>\n",
       "    .dataframe tbody tr th:only-of-type {\n",
       "        vertical-align: middle;\n",
       "    }\n",
       "\n",
       "    .dataframe tbody tr th {\n",
       "        vertical-align: top;\n",
       "    }\n",
       "\n",
       "    .dataframe thead th {\n",
       "        text-align: right;\n",
       "    }\n",
       "</style>\n",
       "<table border=\"1\" class=\"dataframe\">\n",
       "  <thead>\n",
       "    <tr style=\"text-align: right;\">\n",
       "      <th></th>\n",
       "      <th>symbol</th>\n",
       "      <th>eps</th>\n",
       "      <th>pe</th>\n",
       "      <th>pbv</th>\n",
       "      <th>percentyield</th>\n",
       "      <th>marketcap</th>\n",
       "      <th>group</th>\n",
       "      <th>trend_grade</th>\n",
       "      <th>quadrant</th>\n",
       "    </tr>\n",
       "  </thead>\n",
       "  <tbody>\n",
       "    <tr>\n",
       "      <th>0</th>\n",
       "      <td>TPCH</td>\n",
       "      <td>0.24112</td>\n",
       "      <td>7.90</td>\n",
       "      <td>0.34</td>\n",
       "      <td>13.91</td>\n",
       "      <td>162340.635979</td>\n",
       "      <td>B</td>\n",
       "      <td>d</td>\n",
       "      <td>Bd</td>\n",
       "    </tr>\n",
       "    <tr>\n",
       "      <th>1</th>\n",
       "      <td>POLY</td>\n",
       "      <td>0.27632</td>\n",
       "      <td>12.89</td>\n",
       "      <td>2.42</td>\n",
       "      <td>6.38</td>\n",
       "      <td>35444.999027</td>\n",
       "      <td>B</td>\n",
       "      <td>d</td>\n",
       "      <td>Bd</td>\n",
       "    </tr>\n",
       "    <tr>\n",
       "      <th>2</th>\n",
       "      <td>KDH</td>\n",
       "      <td>4.12186</td>\n",
       "      <td>10.62</td>\n",
       "      <td>1.93</td>\n",
       "      <td>3.01</td>\n",
       "      <td>102000.000000</td>\n",
       "      <td>A</td>\n",
       "      <td>d</td>\n",
       "      <td>Ad</td>\n",
       "    </tr>\n",
       "    <tr>\n",
       "      <th>3</th>\n",
       "      <td>NVD</td>\n",
       "      <td>-0.00942</td>\n",
       "      <td>38.87</td>\n",
       "      <td>0.32</td>\n",
       "      <td>0.00</td>\n",
       "      <td>16301.000000</td>\n",
       "      <td>A</td>\n",
       "      <td>d</td>\n",
       "      <td>Ad</td>\n",
       "    </tr>\n",
       "    <tr>\n",
       "      <th>4</th>\n",
       "      <td>JDF</td>\n",
       "      <td>0.04224</td>\n",
       "      <td>12.19</td>\n",
       "      <td>1.35</td>\n",
       "      <td>4.85</td>\n",
       "      <td>368.000007</td>\n",
       "      <td>B</td>\n",
       "      <td>d</td>\n",
       "      <td>Bd</td>\n",
       "    </tr>\n",
       "    <tr>\n",
       "      <th>5</th>\n",
       "      <td>SVR</td>\n",
       "      <td>-0.03402</td>\n",
       "      <td>0.00</td>\n",
       "      <td>0.34</td>\n",
       "      <td>0.00</td>\n",
       "      <td>27491.999209</td>\n",
       "      <td>A</td>\n",
       "      <td>d</td>\n",
       "      <td>Ad</td>\n",
       "    </tr>\n",
       "    <tr>\n",
       "      <th>6</th>\n",
       "      <td>SUSCO</td>\n",
       "      <td>0.11000</td>\n",
       "      <td>8.75</td>\n",
       "      <td>0.55</td>\n",
       "      <td>8.37</td>\n",
       "      <td>417893.841455</td>\n",
       "      <td>B</td>\n",
       "      <td>d</td>\n",
       "      <td>Bd</td>\n",
       "    </tr>\n",
       "    <tr>\n",
       "      <th>7</th>\n",
       "      <td>STP</td>\n",
       "      <td>0.92828</td>\n",
       "      <td>6.74</td>\n",
       "      <td>1.37</td>\n",
       "      <td>5.60</td>\n",
       "      <td>74480.001450</td>\n",
       "      <td>B</td>\n",
       "      <td>d</td>\n",
       "      <td>Bd</td>\n",
       "    </tr>\n",
       "    <tr>\n",
       "      <th>8</th>\n",
       "      <td>VGI</td>\n",
       "      <td>0.00224</td>\n",
       "      <td>85.27</td>\n",
       "      <td>1.20</td>\n",
       "      <td>0.63</td>\n",
       "      <td>21839.999008</td>\n",
       "      <td>A</td>\n",
       "      <td>d</td>\n",
       "      <td>Ad</td>\n",
       "    </tr>\n",
       "    <tr>\n",
       "      <th>9</th>\n",
       "      <td>NCP</td>\n",
       "      <td>0.06168</td>\n",
       "      <td>10.60</td>\n",
       "      <td>1.19</td>\n",
       "      <td>5.76</td>\n",
       "      <td>17249.999642</td>\n",
       "      <td>B</td>\n",
       "      <td>b</td>\n",
       "      <td>Bb</td>\n",
       "    </tr>\n",
       "  </tbody>\n",
       "</table>\n",
       "</div>"
      ],
      "text/plain": [
       "  symbol      eps     pe   pbv  percentyield      marketcap group trend_grade  \\\n",
       "0   TPCH  0.24112   7.90  0.34         13.91  162340.635979     B           d   \n",
       "1   POLY  0.27632  12.89  2.42          6.38   35444.999027     B           d   \n",
       "2    KDH  4.12186  10.62  1.93          3.01  102000.000000     A           d   \n",
       "3    NVD -0.00942  38.87  0.32          0.00   16301.000000     A           d   \n",
       "4    JDF  0.04224  12.19  1.35          4.85     368.000007     B           d   \n",
       "5    SVR -0.03402   0.00  0.34          0.00   27491.999209     A           d   \n",
       "6  SUSCO  0.11000   8.75  0.55          8.37  417893.841455     B           d   \n",
       "7    STP  0.92828   6.74  1.37          5.60   74480.001450     B           d   \n",
       "8    VGI  0.00224  85.27  1.20          0.63   21839.999008     A           d   \n",
       "9    NCP  0.06168  10.60  1.19          5.76   17249.999642     B           b   \n",
       "\n",
       "  quadrant  \n",
       "0       Bd  \n",
       "1       Bd  \n",
       "2       Ad  \n",
       "3       Ad  \n",
       "4       Bd  \n",
       "5       Ad  \n",
       "6       Bd  \n",
       "7       Bd  \n",
       "8       Ad  \n",
       "9       Bb  "
      ]
     },
     "execution_count": 119,
     "metadata": {},
     "output_type": "execute_result"
    }
   ],
   "source": [
    "df.head(10)"
   ]
  },
  {
   "cell_type": "code",
   "execution_count": 120,
   "id": "eb6cafb4",
   "metadata": {},
   "outputs": [
    {
     "data": {
      "text/plain": [
       "(735, 9)"
      ]
     },
     "execution_count": 120,
     "metadata": {},
     "output_type": "execute_result"
    }
   ],
   "source": [
    "df.shape"
   ]
  },
  {
   "cell_type": "code",
   "execution_count": 121,
   "id": "af50515d",
   "metadata": {},
   "outputs": [
    {
     "name": "stdout",
     "output_type": "stream",
     "text": [
      "Epoch 10 | Loss: 2.3887\n",
      "Epoch 20 | Loss: 2.0814\n",
      "Epoch 30 | Loss: 1.6860\n",
      "Epoch 40 | Loss: 1.2981\n",
      "Epoch 50 | Loss: 1.0593\n",
      "Epoch 60 | Loss: 0.9246\n",
      "Epoch 70 | Loss: 0.8350\n",
      "Epoch 80 | Loss: 0.7733\n",
      "Epoch 90 | Loss: 0.7322\n",
      "Epoch 100 | Loss: 0.7145\n",
      "\n",
      "📊 Accuracy: 0.8571\n",
      "🎯 F1 Score (macro): 0.1966\n"
     ]
    }
   ],
   "source": [
    "# ✅ Encode Quadrant\n",
    "le = LabelEncoder()\n",
    "y_encoded = le.fit_transform(df['quadrant'])\n",
    "\n",
    "# ✅ Scale features\n",
    "scaler = StandardScaler()\n",
    "X_scaled = scaler.fit_transform(df[features])\n",
    "X_indices = df.index.values  # เก็บ index เดิมไว้\n",
    "\n",
    "# ✅ Split\n",
    "X_train, X_test, y_train, y_test, idx_train, idx_test = train_test_split(\n",
    "    torch.tensor(X_scaled, dtype=torch.float32),\n",
    "    torch.tensor(y_encoded, dtype=torch.long),\n",
    "    X_indices,\n",
    "    test_size=0.2,\n",
    "    random_state=42\n",
    ")\n",
    "\n",
    "# ✅ Neural Network\n",
    "class ANN(nn.Module):\n",
    "    def __init__(self, input_size, num_classes):\n",
    "        super(ANN, self).__init__()\n",
    "        self.model = nn.Sequential(\n",
    "            nn.Linear(input_size, 64),\n",
    "            nn.ReLU(),\n",
    "            nn.Dropout(0.3),\n",
    "            nn.Linear(64, 64),\n",
    "            nn.ReLU(),\n",
    "            nn.Linear(64, num_classes)\n",
    "        )\n",
    "    def forward(self, x):\n",
    "        return self.model(x)\n",
    "\n",
    "# ✅ Train model\n",
    "input_size = X_train.shape[1]\n",
    "num_classes = len(le.classes_)\n",
    "model = ANN(input_size, num_classes)\n",
    "criterion = nn.CrossEntropyLoss()\n",
    "optimizer = optim.Adam(model.parameters(), lr=0.001)\n",
    "\n",
    "for epoch in range(100):\n",
    "    model.train()\n",
    "    optimizer.zero_grad()\n",
    "    outputs = model(X_train)\n",
    "    loss = criterion(outputs, y_train)\n",
    "    loss.backward()\n",
    "    optimizer.step()\n",
    "    if (epoch+1) % 10 == 0:\n",
    "        print(f\"Epoch {epoch+1} | Loss: {loss.item():.4f}\")\n",
    "\n",
    "# ✅ Predict\n",
    "model.eval()\n",
    "with torch.no_grad():\n",
    "    y_pred_logits = model(X_test)\n",
    "    y_pred = torch.argmax(y_pred_logits, axis=1)\n",
    "\n",
    "# ✅ Score\n",
    "acc = accuracy_score(y_test.numpy(), y_pred.numpy())\n",
    "f1 = f1_score(y_test.numpy(), y_pred.numpy(), average='macro')\n",
    "print(f\"\\n📊 Accuracy: {acc:.4f}\")\n",
    "print(f\"🎯 F1 Score (macro): {f1:.4f}\")\n"
   ]
  },
  {
   "cell_type": "markdown",
   "id": "019f284f",
   "metadata": {},
   "source": [
    "## Evaluation"
   ]
  },
  {
   "cell_type": "code",
   "execution_count": 122,
   "id": "85171cd9",
   "metadata": {},
   "outputs": [
    {
     "data": {
      "image/png": "[encoded data removed]",
      "text/plain": [
       "<Figure size 1000x800 with 2 Axes>"
      ]
     },
     "metadata": {},
     "output_type": "display_data"
    }
   ],
   "source": [
    "from sklearn.metrics import confusion_matrix\n",
    "import seaborn as sns\n",
    "import matplotlib.pyplot as plt\n",
    "\n",
    "# ✅ Decode labels\n",
    "y_test_labels = le.inverse_transform(y_test.numpy())\n",
    "y_pred_labels = le.inverse_transform(y_pred.numpy())\n",
    "\n",
    "# ✅ Confusion Matrix\n",
    "cm = confusion_matrix(y_test_labels, y_pred_labels, labels=le.classes_)\n",
    "\n",
    "# ✅ Plot heatmap\n",
    "plt.figure(figsize=(10, 8))\n",
    "sns.heatmap(cm, annot=True, fmt='d', cmap='Blues',\n",
    "            yticklabels=le.classes_, xticklabels=le.classes_)\n",
    "\n",
    "plt.xticks(rotation=45)\n",
    "plt.xlabel(\"Predicted\")\n",
    "plt.ylabel(\"True\")\n",
    "plt.title(\" Confusion Matrix Heatmap (Quadrant Classification)\")\n",
    "plt.tight_layout()\n",
    "plt.show()\n"
   ]
  },
  {
   "cell_type": "code",
   "execution_count": 123,
   "id": "50db4253",
   "metadata": {},
   "outputs": [
    {
     "data": {
      "application/vnd.plotly.v1+json": {
       "config": {
        "plotlyServerURL": "https://plot.ly"
       },
       "data": [
        {
         "cells": {
          "align": "center",
          "fill": {
           "color": [
            [
             "#2ecc71",
             "#2ecc71",
             "#2ecc71",
             "#2ecc71",
             "#2ecc71"
            ],
            [
             "#58d68d",
             "#58d68d",
             "#58d68d",
             "#58d68d",
             "#58d68d"
            ],
            [
             "#f4d03f",
             "#f4d03f",
             "#f4d03f",
             "#f4d03f",
             "#f4d03f"
            ],
            [
             "#f39c12",
             "#f39c12",
             "#f39c12",
             "#f39c12",
             "#f39c12"
            ],
            [
             "#e74c3c",
             "#e74c3c",
             "#e74c3c",
             "#e74c3c",
             "#e74c3c"
            ]
           ]
          },
          "font": {
           "color": "white",
           "size": 12
          },
          "height": 80,
          "values": [
           [
            "<b>Aa</b><br><span style='color:white'>WINDOW<br>NEX<br>ALT<br>SWC<br>TKC<br>TKT<br>MOTHER<br>AS<br>PTTGC<br>TPL</span>",
            "<b>Ab</b><br><span style='color:white'>PSP<br>THAI<br>UOBKH<br>PAP<br>MFC<br>KCAR<br>ACE<br>WGE<br>GFPT<br>TIDLOR</span>",
            "<b>Ac</b><br><span style='color:white'>PANEL<br>SEAFCO<br>WPH<br>NAM<br>TPCS</span>",
            "<b>Ad</b><br><span style='color:white'>KDH<br>NVD<br>SVR<br>VGI<br>KSL<br>PLUS<br>CRC<br>SHR<br>TGH<br>NPK</span>",
            "<b>Ae</b><br>-"
           ],
           [
            "<b>Ba</b><br><span style='color:white'>M<br>UP<br>TU<br>TISCO<br>TOP<br>TACC<br>LHK<br>STGT<br>MTI<br>KYE</span>",
            "<b>Bb</b><br><span style='color:white'>NCP<br>SAT<br>KCG<br>FM<br>SINO<br>APP<br>TFG<br>SYNTEC<br>PM<br>RCL</span>",
            "<b>Bc</b><br><span style='color:white'>CSC<br>PTT<br>BBL<br>WP<br>UPOIC<br>SKN<br>JCT</span>",
            "<b>Bd</b><br><span style='color:white'>TPCH<br>POLY<br>JDF<br>SUSCO<br>STP<br>ROJNA<br>ASP<br>SIS<br>ADVICE<br>TAN</span>",
            "<b>Be</b><br>-"
           ],
           [
            "<b>Ca</b><br>-",
            "<b>Cb</b><br>-",
            "<b>Cc</b><br>-",
            "<b>Cd</b><br>-",
            "<b>Ce</b><br>-"
           ],
           [
            "<b>Da</b><br><span style='color:white'>PTTEP</span>",
            "<b>Db</b><br><span style='color:white'>GYT<br>EGCO<br>SCB<br>METCO<br>ADVANC</span>",
            "<b>Dc</b><br>-",
            "<b>Dd</b><br><span style='color:white'>TOPP<br>SCC<br>BKIH<br>OHTL<br>ALUCON</span>",
            "<b>De</b><br>-"
           ],
           [
            "<b>Ea</b><br><span style='color:white'>DV8<br>DELTA</span>",
            "<b>Eb</b><br><span style='color:white'>MONO</span>",
            "<b>Ec</b><br>-",
            "<b>Ed</b><br><span style='color:white'>JTS</span>",
            "<b>Ee</b><br>-"
           ]
          ]
         },
         "header": {
          "align": "center",
          "fill": {
           "color": "#dcdcdc"
          },
          "font": {
           "color": "black",
           "size": 14
          },
          "values": [
           "Super Bullish",
           "Up Trend",
           "Sideway",
           "Down Trend",
           "Crash"
          ]
         },
         "type": "table"
        }
       ],
       "layout": {
        "template": {
         "data": {
          "bar": [
           {
            "error_x": {
             "color": "#2a3f5f"
            },
            "error_y": {
             "color": "#2a3f5f"
            },
            "marker": {
             "line": {
              "color": "#E5ECF6",
              "width": 0.5
             },
             "pattern": {
              "fillmode": "overlay",
              "size": 10,
              "solidity": 0.2
             }
            },
            "type": "bar"
           }
          ],
          "barpolar": [
           {
            "marker": {
             "line": {
              "color": "#E5ECF6",
              "width": 0.5
             },
             "pattern": {
              "fillmode": "overlay",
              "size": 10,
              "solidity": 0.2
             }
            },
            "type": "barpolar"
           }
          ],
          "carpet": [
           {
            "aaxis": {
             "endlinecolor": "#2a3f5f",
             "gridcolor": "white",
             "linecolor": "white",
             "minorgridcolor": "white",
             "startlinecolor": "#2a3f5f"
            },
            "baxis": {
             "endlinecolor": "#2a3f5f",
             "gridcolor": "white",
             "linecolor": "white",
             "minorgridcolor": "white",
             "startlinecolor": "#2a3f5f"
            },
            "type": "carpet"
           }
          ],
          "choropleth": [
           {
            "colorbar": {
             "outlinewidth": 0,
             "ticks": ""
            },
            "type": "choropleth"
           }
          ],
          "contour": [
           {
            "colorbar": {
             "outlinewidth": 0,
             "ticks": ""
            },
            "colorscale": [
             [
              0,
              "#0d0887"
             ],
             [
              0.1111111111111111,
              "#46039f"
             ],
             [
              0.2222222222222222,
              "#7201a8"
             ],
             [
              0.3333333333333333,
              "#9c179e"
             ],
             [
              0.4444444444444444,
              "#bd3786"
             ],
             [
              0.5555555555555556,
              "#d8576b"
             ],
             [
              0.6666666666666666,
              "#ed7953"
             ],
             [
              0.7777777777777778,
              "#fb9f3a"
             ],
             [
              0.8888888888888888,
              "#fdca26"
             ],
             [
              1,
              "#f0f921"
             ]
            ],
            "type": "contour"
           }
          ],
          "contourcarpet": [
           {
            "colorbar": {
             "outlinewidth": 0,
             "ticks": ""
            },
            "type": "contourcarpet"
           }
          ],
          "heatmap": [
           {
            "colorbar": {
             "outlinewidth": 0,
             "ticks": ""
            },
            "colorscale": [
             [
              0,
              "#0d0887"
             ],
             [
              0.1111111111111111,
              "#46039f"
             ],
             [
              0.2222222222222222,
              "#7201a8"
             ],
             [
              0.3333333333333333,
              "#9c179e"
             ],
             [
              0.4444444444444444,
              "#bd3786"
             ],
             [
              0.5555555555555556,
              "#d8576b"
             ],
             [
              0.6666666666666666,
              "#ed7953"
             ],
             [
              0.7777777777777778,
              "#fb9f3a"
             ],
             [
              0.8888888888888888,
              "#fdca26"
             ],
             [
              1,
              "#f0f921"
             ]
            ],
            "type": "heatmap"
           }
          ],
          "histogram": [
           {
            "marker": {
             "pattern": {
              "fillmode": "overlay",
              "size": 10,
              "solidity": 0.2
             }
            },
            "type": "histogram"
           }
          ],
          "histogram2d": [
           {
            "colorbar": {
             "outlinewidth": 0,
             "ticks": ""
            },
            "colorscale": [
             [
              0,
              "#0d0887"
             ],
             [
              0.1111111111111111,
              "#46039f"
             ],
             [
              0.2222222222222222,
              "#7201a8"
             ],
             [
              0.3333333333333333,
              "#9c179e"
             ],
             [
              0.4444444444444444,
              "#bd3786"
             ],
             [
              0.5555555555555556,
              "#d8576b"
             ],
             [
              0.6666666666666666,
              "#ed7953"
             ],
             [
              0.7777777777777778,
              "#fb9f3a"
             ],
             [
              0.8888888888888888,
              "#fdca26"
             ],
             [
              1,
              "#f0f921"
             ]
            ],
            "type": "histogram2d"
           }
          ],
          "histogram2dcontour": [
           {
            "colorbar": {
             "outlinewidth": 0,
             "ticks": ""
            },
            "colorscale": [
             [
              0,
              "#0d0887"
             ],
             [
              0.1111111111111111,
              "#46039f"
             ],
             [
              0.2222222222222222,
              "#7201a8"
             ],
             [
              0.3333333333333333,
              "#9c179e"
             ],
             [
              0.4444444444444444,
              "#bd3786"
             ],
             [
              0.5555555555555556,
              "#d8576b"
             ],
             [
              0.6666666666666666,
              "#ed7953"
             ],
             [
              0.7777777777777778,
              "#fb9f3a"
             ],
             [
              0.8888888888888888,
              "#fdca26"
             ],
             [
              1,
              "#f0f921"
             ]
            ],
            "type": "histogram2dcontour"
           }
          ],
          "mesh3d": [
           {
            "colorbar": {
             "outlinewidth": 0,
             "ticks": ""
            },
            "type": "mesh3d"
           }
          ],
          "parcoords": [
           {
            "line": {
             "colorbar": {
              "outlinewidth": 0,
              "ticks": ""
             }
            },
            "type": "parcoords"
           }
          ],
          "pie": [
           {
            "automargin": true,
            "type": "pie"
           }
          ],
          "scatter": [
           {
            "fillpattern": {
             "fillmode": "overlay",
             "size": 10,
             "solidity": 0.2
            },
            "type": "scatter"
           }
          ],
          "scatter3d": [
           {
            "line": {
             "colorbar": {
              "outlinewidth": 0,
              "ticks": ""
             }
            },
            "marker": {
             "colorbar": {
              "outlinewidth": 0,
              "ticks": ""
             }
            },
            "type": "scatter3d"
           }
          ],
          "scattercarpet": [
           {
            "marker": {
             "colorbar": {
              "outlinewidth": 0,
              "ticks": ""
             }
            },
            "type": "scattercarpet"
           }
          ],
          "scattergeo": [
           {
            "marker": {
             "colorbar": {
              "outlinewidth": 0,
              "ticks": ""
             }
            },
            "type": "scattergeo"
           }
          ],
          "scattergl": [
           {
            "marker": {
             "colorbar": {
              "outlinewidth": 0,
              "ticks": ""
             }
            },
            "type": "scattergl"
           }
          ],
          "scattermap": [
           {
            "marker": {
             "colorbar": {
              "outlinewidth": 0,
              "ticks": ""
             }
            },
            "type": "scattermap"
           }
          ],
          "scattermapbox": [
           {
            "marker": {
             "colorbar": {
              "outlinewidth": 0,
              "ticks": ""
             }
            },
            "type": "scattermapbox"
           }
          ],
          "scatterpolar": [
           {
            "marker": {
             "colorbar": {
              "outlinewidth": 0,
              "ticks": ""
             }
            },
            "type": "scatterpolar"
           }
          ],
          "scatterpolargl": [
           {
            "marker": {
             "colorbar": {
              "outlinewidth": 0,
              "ticks": ""
             }
            },
            "type": "scatterpolargl"
           }
          ],
          "scatterternary": [
           {
            "marker": {
             "colorbar": {
              "outlinewidth": 0,
              "ticks": ""
             }
            },
            "type": "scatterternary"
           }
          ],
          "surface": [
           {
            "colorbar": {
             "outlinewidth": 0,
             "ticks": ""
            },
            "colorscale": [
             [
              0,
              "#0d0887"
             ],
             [
              0.1111111111111111,
              "#46039f"
             ],
             [
              0.2222222222222222,
              "#7201a8"
             ],
             [
              0.3333333333333333,
              "#9c179e"
             ],
             [
              0.4444444444444444,
              "#bd3786"
             ],
             [
              0.5555555555555556,
              "#d8576b"
             ],
             [
              0.6666666666666666,
              "#ed7953"
             ],
             [
              0.7777777777777778,
              "#fb9f3a"
             ],
             [
              0.8888888888888888,
              "#fdca26"
             ],
             [
              1,
              "#f0f921"
             ]
            ],
            "type": "surface"
           }
          ],
          "table": [
           {
            "cells": {
             "fill": {
              "color": "#EBF0F8"
             },
             "line": {
              "color": "white"
             }
            },
            "header": {
             "fill": {
              "color": "#C8D4E3"
             },
             "line": {
              "color": "white"
             }
            },
            "type": "table"
           }
          ]
         },
         "layout": {
          "annotationdefaults": {
           "arrowcolor": "#2a3f5f",
           "arrowhead": 0,
           "arrowwidth": 1
          },
          "autotypenumbers": "strict",
          "coloraxis": {
           "colorbar": {
            "outlinewidth": 0,
            "ticks": ""
           }
          },
          "colorscale": {
           "diverging": [
            [
             0,
             "#8e0152"
            ],
            [
             0.1,
             "#c51b7d"
            ],
            [
             0.2,
             "#de77ae"
            ],
            [
             0.3,
             "#f1b6da"
            ],
            [
             0.4,
             "#fde0ef"
            ],
            [
             0.5,
             "#f7f7f7"
            ],
            [
             0.6,
             "#e6f5d0"
            ],
            [
             0.7,
             "#b8e186"
            ],
            [
             0.8,
             "#7fbc41"
            ],
            [
             0.9,
             "#4d9221"
            ],
            [
             1,
             "#276419"
            ]
           ],
           "sequential": [
            [
             0,
             "#0d0887"
            ],
            [
             0.1111111111111111,
             "#46039f"
            ],
            [
             0.2222222222222222,
             "#7201a8"
            ],
            [
             0.3333333333333333,
             "#9c179e"
            ],
            [
             0.4444444444444444,
             "#bd3786"
            ],
            [
             0.5555555555555556,
             "#d8576b"
            ],
            [
             0.6666666666666666,
             "#ed7953"
            ],
            [
             0.7777777777777778,
             "#fb9f3a"
            ],
            [
             0.8888888888888888,
             "#fdca26"
            ],
            [
             1,
             "#f0f921"
            ]
           ],
           "sequentialminus": [
            [
             0,
             "#0d0887"
            ],
            [
             0.1111111111111111,
             "#46039f"
            ],
            [
             0.2222222222222222,
             "#7201a8"
            ],
            [
             0.3333333333333333,
             "#9c179e"
            ],
            [
             0.4444444444444444,
             "#bd3786"
            ],
            [
             0.5555555555555556,
             "#d8576b"
            ],
            [
             0.6666666666666666,
             "#ed7953"
            ],
            [
             0.7777777777777778,
             "#fb9f3a"
            ],
            [
             0.8888888888888888,
             "#fdca26"
            ],
            [
             1,
             "#f0f921"
            ]
           ]
          },
          "colorway": [
           "#636efa",
           "#EF553B",
           "#00cc96",
           "#ab63fa",
           "#FFA15A",
           "#19d3f3",
           "#FF6692",
           "#B6E880",
           "#FF97FF",
           "#FECB52"
          ],
          "font": {
           "color": "#2a3f5f"
          },
          "geo": {
           "bgcolor": "white",
           "lakecolor": "white",
           "landcolor": "#E5ECF6",
           "showlakes": true,
           "showland": true,
           "subunitcolor": "white"
          },
          "hoverlabel": {
           "align": "left"
          },
          "hovermode": "closest",
          "mapbox": {
           "style": "light"
          },
          "paper_bgcolor": "white",
          "plot_bgcolor": "#E5ECF6",
          "polar": {
           "angularaxis": {
            "gridcolor": "white",
            "linecolor": "white",
            "ticks": ""
           },
           "bgcolor": "#E5ECF6",
           "radialaxis": {
            "gridcolor": "white",
            "linecolor": "white",
            "ticks": ""
           }
          },
          "scene": {
           "xaxis": {
            "backgroundcolor": "#E5ECF6",
            "gridcolor": "white",
            "gridwidth": 2,
            "linecolor": "white",
            "showbackground": true,
            "ticks": "",
            "zerolinecolor": "white"
           },
           "yaxis": {
            "backgroundcolor": "#E5ECF6",
            "gridcolor": "white",
            "gridwidth": 2,
            "linecolor": "white",
            "showbackground": true,
            "ticks": "",
            "zerolinecolor": "white"
           },
           "zaxis": {
            "backgroundcolor": "#E5ECF6",
            "gridcolor": "white",
            "gridwidth": 2,
            "linecolor": "white",
            "showbackground": true,
            "ticks": "",
            "zerolinecolor": "white"
           }
          },
          "shapedefaults": {
           "line": {
            "color": "#2a3f5f"
           }
          },
          "ternary": {
           "aaxis": {
            "gridcolor": "white",
            "linecolor": "white",
            "ticks": ""
           },
           "baxis": {
            "gridcolor": "white",
            "linecolor": "white",
            "ticks": ""
           },
           "bgcolor": "#E5ECF6",
           "caxis": {
            "gridcolor": "white",
            "linecolor": "white",
            "ticks": ""
           }
          },
          "title": {
           "x": 0.05
          },
          "xaxis": {
           "automargin": true,
           "gridcolor": "white",
           "linecolor": "white",
           "ticks": "",
           "title": {
            "standoff": 15
           },
           "zerolinecolor": "white",
           "zerolinewidth": 2
          },
          "yaxis": {
           "automargin": true,
           "gridcolor": "white",
           "linecolor": "white",
           "ticks": "",
           "title": {
            "standoff": 15
           },
           "zerolinecolor": "white",
           "zerolinewidth": 2
          }
         }
        },
        "title": {
         "text": "📊 Stock Quadrant Table (Aa–Ee) จาก Rule-Based หรือ Neural Net"
        }
       }
      }
     },
     "metadata": {},
     "output_type": "display_data"
    }
   ],
   "source": [
    "import plotly.graph_objects as go\n",
    "\n",
    "# ✅ ใช้ df_merged ที่มี symbol + quadrant\n",
    "df_result = df_merged.copy()\n",
    "\n",
    "# ✅ Group หุ้นตาม quadrant\n",
    "quadrant_groups = df_result.groupby('quadrant')['symbol'].apply(list).to_dict()\n",
    "\n",
    "# ✅ Define ลำดับแกน\n",
    "financial_levels = ['A', 'B', 'C', 'D', 'E']\n",
    "trend_levels = ['a', 'b', 'c', 'd', 'e']\n",
    "\n",
    "# ✅ เตรียมตาราง 5x5 (Aa–Ee)\n",
    "plot_table = []\n",
    "for f in financial_levels:\n",
    "    row = []\n",
    "    for t in trend_levels:\n",
    "        code = f + t\n",
    "        stocks = quadrant_groups.get(code, [])\n",
    "        if stocks:\n",
    "            stock_list = \"<br>\".join(stocks[:10])  # จำกัดไม่เกิน 10 ตัว\n",
    "            cell_text = f\"<b>{code}</b><br><span style='color:white'>{stock_list}</span>\"\n",
    "        else:\n",
    "            cell_text = f\"<b>{code}</b><br>-\"\n",
    "        row.append(cell_text)\n",
    "    plot_table.append(row)\n",
    "\n",
    "# ✅ กำหนดสีพื้นตามระดับ A–E\n",
    "color_map = {'A': '#2ecc71', 'B': '#58d68d', 'C': '#f4d03f', 'D': '#f39c12', 'E': '#e74c3c'}\n",
    "colors = [[color_map[f]] * 5 for f in financial_levels]\n",
    "\n",
    "# ✅ วาดตาราง Plotly\n",
    "fig = go.Figure(data=go.Table(\n",
    "    header=dict(\n",
    "        values=[\"Super Bullish\", \"Up Trend\", \"Sideway\", \"Down Trend\", \"Crash\"],\n",
    "        fill_color=\"#dcdcdc\",\n",
    "        align=\"center\",\n",
    "        font=dict(color=\"black\", size=14)\n",
    "    ),\n",
    "    cells=dict(\n",
    "        values=plot_table,\n",
    "        fill_color=colors,\n",
    "        align=\"center\",\n",
    "        height=80,\n",
    "        font=dict(color=\"white\", size=12)\n",
    "    )\n",
    "))\n",
    "\n",
    "fig.update_layout(title=\"📊 Stock Quadrant Table (Aa–Ee) จาก Rule-Based หรือ Neural Net\")\n",
    "fig.show()\n"
   ]
  }
 ],
 "metadata": {
  "kernelspec": {
   "display_name": "Python 3",
   "language": "python",
   "name": "python3"
  },
  "language_info": {
   "codemirror_mode": {
    "name": "ipython",
    "version": 3
   },
   "file_extension": ".py",
   "mimetype": "text/x-python",
   "name": "python",
   "nbconvert_exporter": "python",
   "pygments_lexer": "ipython3",
   "version": "3.10.0"
  }
 },
 "nbformat": 4,
 "nbformat_minor": 5
}
