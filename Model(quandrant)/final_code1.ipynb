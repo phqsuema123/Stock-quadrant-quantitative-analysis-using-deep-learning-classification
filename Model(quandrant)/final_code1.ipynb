{
 "cells": [
  {
   "cell_type": "markdown",
   "id": "4f276ba8",
   "metadata": {},
   "source": [
    "Feature Engineering"
   ]
  },
  {
   "cell_type": "markdown",
   "id": "224f8c3e",
   "metadata": {},
   "source": [
    "a=EMA >=5 RSI>=70\n",
    "b=EMA >=35, >89\n",
    "c=EMA >=89 ; sideway == 5,15,35,89,=>200\n",
    "d= EMA = 89 ; down trend = <=89, <200\n",
    "e= EMA <=85,5; crash"
   ]
  },
  {
   "cell_type": "code",
   "execution_count": 12,
   "id": "b6de8ff6",
   "metadata": {},
   "outputs": [],
   "source": [
    "import pandas as pd\n",
    "import numpy as np\n",
    "import plotly.graph_objects as go\n",
    "from cassandra.cluster import Cluster\n",
    "from datetime import datetime\n"
   ]
  },
  {
   "cell_type": "code",
   "execution_count": 13,
   "id": "d61f6acd",
   "metadata": {},
   "outputs": [],
   "source": [
    "cluster = Cluster(['127.0.0.1'])\n",
    "session = cluster.connect()\n",
    "session.set_keyspace('data_stock')"
   ]
  },
  {
   "cell_type": "markdown",
   "id": "03f840f1",
   "metadata": {},
   "source": [
    "eps pe pbv percentyield marketcap\n",
    "\n",
    "\n",
    "ทำไมตั้งแบบนี้\n",
    "\n",
    "EPS>0 = บริษัทมีกำไร (คุณภาพพื้นฐานขั้นต่ำ)\n",
    "\n",
    "P/E 8–25 = กรองถูก/แพงเกินไป (ค่า default ทั่วไป—ปรับได้ตามอุตสาหกรรม)\n",
    "\n",
    "P/BV 0.8–2.5 = ไม่ต่ำกว่าทุนมากเกิน (เสี่ยง) และไม่แพงเวอร์\n",
    "\n",
    "Dividend Yield ≥ 3% (≤ 20%) = ให้ผลตอบแทนเงินสดพอเหมาะ (กัน outlier yield สูงผิดปกติ)\n",
    "\n",
    "Quantile mode ใช้สัดส่วนภายในชุดข้อมูล → ดีสำหรับเปรียบเทียบ “สัมพัทธ์” ในตลาด/อุตสาหกรรมเดียวกัน\n",
    "\n",
    "ถ้าต้องการ “น้ำหนัก” ไม่เท่ากัน (เช่นให้ EPS/PE หนักกว่า PBV/Yield) บอกได้ ผมปรับให้เป็น weighted score ได้เลย เช่น EPS/PE = 2 คะแนน, อีกสองตัว=1 คะแนน แล้วค่อยแปลงเป็น A–E ตามสัดส่วนคะแนนครับ"
   ]
  },
  {
   "cell_type": "code",
   "execution_count": 17,
   "id": "e2ae8fd1",
   "metadata": {},
   "outputs": [],
   "source": [
    "rows_fin = session.execute(\"\"\"\n",
    "    SELECT symbol,close, pe, pbv, dividendyield,marketcap,bvps FROM smartset_finan_data ALLOW FILTERING\n",
    "\"\"\")\n",
    "df_financial = pd.DataFrame(rows_fin, columns=[\"symbol\",\"close\",\"pe\",\"pbv\",\"dividendyield\",\"marketcap\",\"bvps\"])\n",
    "df_financial = df_financial.dropna()"
   ]
  },
  {
   "cell_type": "code",
   "execution_count": 18,
   "id": "e169442c",
   "metadata": {},
   "outputs": [
    {
     "ename": "TypeError",
     "evalue": "unsupported operand type(s) for /: 'decimal.Decimal' and 'float'",
     "output_type": "error",
     "traceback": [
      "\u001b[1;31m---------------------------------------------------------------------------\u001b[0m",
      "\u001b[1;31mTypeError\u001b[0m                                 Traceback (most recent call last)",
      "File \u001b[1;32mc:\\Users\\Admin\\AppData\\Local\\Programs\\Python\\Python310\\lib\\site-packages\\pandas\\core\\ops\\array_ops.py:218\u001b[0m, in \u001b[0;36m_na_arithmetic_op\u001b[1;34m(left, right, op, is_cmp)\u001b[0m\n\u001b[0;32m    217\u001b[0m \u001b[38;5;28;01mtry\u001b[39;00m:\n\u001b[1;32m--> 218\u001b[0m     result \u001b[38;5;241m=\u001b[39m \u001b[43mfunc\u001b[49m\u001b[43m(\u001b[49m\u001b[43mleft\u001b[49m\u001b[43m,\u001b[49m\u001b[43m \u001b[49m\u001b[43mright\u001b[49m\u001b[43m)\u001b[49m\n\u001b[0;32m    219\u001b[0m \u001b[38;5;28;01mexcept\u001b[39;00m \u001b[38;5;167;01mTypeError\u001b[39;00m:\n",
      "File \u001b[1;32mc:\\Users\\Admin\\AppData\\Local\\Programs\\Python\\Python310\\lib\\site-packages\\pandas\\core\\computation\\expressions.py:242\u001b[0m, in \u001b[0;36mevaluate\u001b[1;34m(op, a, b, use_numexpr)\u001b[0m\n\u001b[0;32m    240\u001b[0m     \u001b[38;5;28;01mif\u001b[39;00m use_numexpr:\n\u001b[0;32m    241\u001b[0m         \u001b[38;5;66;03m# error: \"None\" not callable\u001b[39;00m\n\u001b[1;32m--> 242\u001b[0m         \u001b[38;5;28;01mreturn\u001b[39;00m \u001b[43m_evaluate\u001b[49m\u001b[43m(\u001b[49m\u001b[43mop\u001b[49m\u001b[43m,\u001b[49m\u001b[43m \u001b[49m\u001b[43mop_str\u001b[49m\u001b[43m,\u001b[49m\u001b[43m \u001b[49m\u001b[43ma\u001b[49m\u001b[43m,\u001b[49m\u001b[43m \u001b[49m\u001b[43mb\u001b[49m\u001b[43m)\u001b[49m  \u001b[38;5;66;03m# type: ignore[misc]\u001b[39;00m\n\u001b[0;32m    243\u001b[0m \u001b[38;5;28;01mreturn\u001b[39;00m _evaluate_standard(op, op_str, a, b)\n",
      "File \u001b[1;32mc:\\Users\\Admin\\AppData\\Local\\Programs\\Python\\Python310\\lib\\site-packages\\pandas\\core\\computation\\expressions.py:73\u001b[0m, in \u001b[0;36m_evaluate_standard\u001b[1;34m(op, op_str, a, b)\u001b[0m\n\u001b[0;32m     72\u001b[0m     _store_test_result(\u001b[38;5;28;01mFalse\u001b[39;00m)\n\u001b[1;32m---> 73\u001b[0m \u001b[38;5;28;01mreturn\u001b[39;00m \u001b[43mop\u001b[49m\u001b[43m(\u001b[49m\u001b[43ma\u001b[49m\u001b[43m,\u001b[49m\u001b[43m \u001b[49m\u001b[43mb\u001b[49m\u001b[43m)\u001b[49m\n",
      "\u001b[1;31mTypeError\u001b[0m: unsupported operand type(s) for /: 'decimal.Decimal' and 'float'",
      "\nDuring handling of the above exception, another exception occurred:\n",
      "\u001b[1;31mTypeError\u001b[0m                                 Traceback (most recent call last)",
      "Cell \u001b[1;32mIn[18], line 75\u001b[0m\n\u001b[0;32m     71\u001b[0m     \u001b[38;5;28;01mreturn\u001b[39;00m pd\u001b[38;5;241m.\u001b[39mSeries(grade, index\u001b[38;5;241m=\u001b[39mdf\u001b[38;5;241m.\u001b[39mindex), score\n\u001b[0;32m     73\u001b[0m \u001b[38;5;66;03m# ----------------- ใช้งานกับ df_financial -----------------\u001b[39;00m\n\u001b[0;32m     74\u001b[0m \u001b[38;5;66;03m# โหมด fixed (ค่าเริ่มแนะนำ)\u001b[39;00m\n\u001b[1;32m---> 75\u001b[0m df_financial[\u001b[38;5;124m\"\u001b[39m\u001b[38;5;124mfinancial_level\u001b[39m\u001b[38;5;124m\"\u001b[39m], df_financial[\u001b[38;5;124m\"\u001b[39m\u001b[38;5;124mfinancial_score\u001b[39m\u001b[38;5;124m\"\u001b[39m] \u001b[38;5;241m=\u001b[39m \u001b[43mgrade_financial\u001b[49m\u001b[43m(\u001b[49m\n\u001b[0;32m     76\u001b[0m \u001b[43m    \u001b[49m\u001b[43mdf_financial\u001b[49m\u001b[43m,\u001b[49m\n\u001b[0;32m     77\u001b[0m \u001b[43m    \u001b[49m\u001b[43mmode\u001b[49m\u001b[38;5;241;43m=\u001b[39;49m\u001b[38;5;124;43m\"\u001b[39;49m\u001b[38;5;124;43mfixed\u001b[39;49m\u001b[38;5;124;43m\"\u001b[39;49m\u001b[43m,\u001b[49m\n\u001b[0;32m     78\u001b[0m \u001b[43m    \u001b[49m\u001b[43mpe_range\u001b[49m\u001b[38;5;241;43m=\u001b[39;49m\u001b[43m(\u001b[49m\u001b[38;5;241;43m8\u001b[39;49m\u001b[43m,\u001b[49m\u001b[43m \u001b[49m\u001b[38;5;241;43m25\u001b[39;49m\u001b[43m)\u001b[49m\u001b[43m,\u001b[49m\n\u001b[0;32m     79\u001b[0m \u001b[43m    \u001b[49m\u001b[43mpbv_range\u001b[49m\u001b[38;5;241;43m=\u001b[39;49m\u001b[43m(\u001b[49m\u001b[38;5;241;43m0.8\u001b[39;49m\u001b[43m,\u001b[49m\u001b[43m \u001b[49m\u001b[38;5;241;43m2.5\u001b[39;49m\u001b[43m)\u001b[49m\u001b[43m,\u001b[49m\n\u001b[0;32m     80\u001b[0m \u001b[43m    \u001b[49m\u001b[43myld_min\u001b[49m\u001b[38;5;241;43m=\u001b[39;49m\u001b[38;5;241;43m3.0\u001b[39;49m\u001b[43m,\u001b[49m\n\u001b[0;32m     81\u001b[0m \u001b[43m    \u001b[49m\u001b[43myld_max\u001b[49m\u001b[38;5;241;43m=\u001b[39;49m\u001b[38;5;241;43m20.0\u001b[39;49m\u001b[43m,\u001b[49m\n\u001b[0;32m     82\u001b[0m \u001b[43m    \u001b[49m\u001b[43muse_mcap\u001b[49m\u001b[38;5;241;43m=\u001b[39;49m\u001b[38;5;28;43;01mFalse\u001b[39;49;00m\u001b[43m   \u001b[49m\u001b[38;5;66;43;03m# เปลี่ยนเป็น True ถ้าอยากนับ marketcap ด้วย\u001b[39;49;00m\n\u001b[0;32m     83\u001b[0m \u001b[43m)\u001b[49m\n\u001b[0;32m     85\u001b[0m \u001b[38;5;66;03m# หรือ โหมด quantile (ยืดหยุ่นกับแต่ละกลุ่ม/ตลาด)\u001b[39;00m\n\u001b[0;32m     86\u001b[0m \u001b[38;5;66;03m# df_financial[\"financial_level\"], df_financial[\"financial_score\"] = grade_financial(\u001b[39;00m\n\u001b[0;32m     87\u001b[0m \u001b[38;5;66;03m#     df_financial,\u001b[39;00m\n\u001b[0;32m     88\u001b[0m \u001b[38;5;66;03m#     mode=\"quantile\",\u001b[39;00m\n\u001b[0;32m     89\u001b[0m \u001b[38;5;66;03m#     use_mcap=False\u001b[39;00m\n\u001b[0;32m     90\u001b[0m \u001b[38;5;66;03m# )\u001b[39;00m\n",
      "Cell \u001b[1;32mIn[18], line 29\u001b[0m, in \u001b[0;36mgrade_financial\u001b[1;34m(df, eps_col, pe_col, pbv_col, yld_col, mcap_col, mode, pe_range, pbv_range, yld_min, yld_max, use_mcap, mcap_min_pct, pe_q, pbv_q, yld_q)\u001b[0m\n\u001b[0;32m     27\u001b[0m \u001b[38;5;66;03m# สร้าง EPS ถ้ายังไม่มี (ต้องมี close และ pe > 0)\u001b[39;00m\n\u001b[0;32m     28\u001b[0m \u001b[38;5;28;01mif\u001b[39;00m eps_col \u001b[38;5;129;01mnot\u001b[39;00m \u001b[38;5;129;01min\u001b[39;00m df\u001b[38;5;241m.\u001b[39mcolumns \u001b[38;5;129;01mand\u001b[39;00m {\u001b[38;5;124m\"\u001b[39m\u001b[38;5;124mclose\u001b[39m\u001b[38;5;124m\"\u001b[39m, pe_col}\u001b[38;5;241m.\u001b[39missubset(df\u001b[38;5;241m.\u001b[39mcolumns):\n\u001b[1;32m---> 29\u001b[0m     df[eps_col] \u001b[38;5;241m=\u001b[39m np\u001b[38;5;241m.\u001b[39mwhere((df[pe_col] \u001b[38;5;241m>\u001b[39m \u001b[38;5;241m0\u001b[39m) \u001b[38;5;241m&\u001b[39m df[\u001b[38;5;124m\"\u001b[39m\u001b[38;5;124mclose\u001b[39m\u001b[38;5;124m\"\u001b[39m]\u001b[38;5;241m.\u001b[39mnotna(), \u001b[43mdf\u001b[49m\u001b[43m[\u001b[49m\u001b[38;5;124;43m\"\u001b[39;49m\u001b[38;5;124;43mclose\u001b[39;49m\u001b[38;5;124;43m\"\u001b[39;49m\u001b[43m]\u001b[49m\u001b[43m \u001b[49m\u001b[38;5;241;43m/\u001b[39;49m\u001b[43m \u001b[49m\u001b[43mdf\u001b[49m\u001b[43m[\u001b[49m\u001b[43mpe_col\u001b[49m\u001b[43m]\u001b[49m, np\u001b[38;5;241m.\u001b[39mnan)\n\u001b[0;32m     31\u001b[0m \u001b[38;5;66;03m# เงื่อนไขพื้นฐาน (True/False) — จัด dtype ให้รองรับ NaN\u001b[39;00m\n\u001b[0;32m     32\u001b[0m s_eps \u001b[38;5;241m=\u001b[39m (df\u001b[38;5;241m.\u001b[39mget(eps_col) \u001b[38;5;241m>\u001b[39m \u001b[38;5;241m0\u001b[39m)\n",
      "File \u001b[1;32mc:\\Users\\Admin\\AppData\\Local\\Programs\\Python\\Python310\\lib\\site-packages\\pandas\\core\\ops\\common.py:76\u001b[0m, in \u001b[0;36m_unpack_zerodim_and_defer.<locals>.new_method\u001b[1;34m(self, other)\u001b[0m\n\u001b[0;32m     72\u001b[0m             \u001b[38;5;28;01mreturn\u001b[39;00m \u001b[38;5;28mNotImplemented\u001b[39m\n\u001b[0;32m     74\u001b[0m other \u001b[38;5;241m=\u001b[39m item_from_zerodim(other)\n\u001b[1;32m---> 76\u001b[0m \u001b[38;5;28;01mreturn\u001b[39;00m \u001b[43mmethod\u001b[49m\u001b[43m(\u001b[49m\u001b[38;5;28;43mself\u001b[39;49m\u001b[43m,\u001b[49m\u001b[43m \u001b[49m\u001b[43mother\u001b[49m\u001b[43m)\u001b[49m\n",
      "File \u001b[1;32mc:\\Users\\Admin\\AppData\\Local\\Programs\\Python\\Python310\\lib\\site-packages\\pandas\\core\\arraylike.py:210\u001b[0m, in \u001b[0;36mOpsMixin.__truediv__\u001b[1;34m(self, other)\u001b[0m\n\u001b[0;32m    208\u001b[0m \u001b[38;5;129m@unpack_zerodim_and_defer\u001b[39m(\u001b[38;5;124m\"\u001b[39m\u001b[38;5;124m__truediv__\u001b[39m\u001b[38;5;124m\"\u001b[39m)\n\u001b[0;32m    209\u001b[0m \u001b[38;5;28;01mdef\u001b[39;00m\u001b[38;5;250m \u001b[39m\u001b[38;5;21m__truediv__\u001b[39m(\u001b[38;5;28mself\u001b[39m, other):\n\u001b[1;32m--> 210\u001b[0m     \u001b[38;5;28;01mreturn\u001b[39;00m \u001b[38;5;28;43mself\u001b[39;49m\u001b[38;5;241;43m.\u001b[39;49m\u001b[43m_arith_method\u001b[49m\u001b[43m(\u001b[49m\u001b[43mother\u001b[49m\u001b[43m,\u001b[49m\u001b[43m \u001b[49m\u001b[43moperator\u001b[49m\u001b[38;5;241;43m.\u001b[39;49m\u001b[43mtruediv\u001b[49m\u001b[43m)\u001b[49m\n",
      "File \u001b[1;32mc:\\Users\\Admin\\AppData\\Local\\Programs\\Python\\Python310\\lib\\site-packages\\pandas\\core\\series.py:6135\u001b[0m, in \u001b[0;36mSeries._arith_method\u001b[1;34m(self, other, op)\u001b[0m\n\u001b[0;32m   6133\u001b[0m \u001b[38;5;28;01mdef\u001b[39;00m\u001b[38;5;250m \u001b[39m\u001b[38;5;21m_arith_method\u001b[39m(\u001b[38;5;28mself\u001b[39m, other, op):\n\u001b[0;32m   6134\u001b[0m     \u001b[38;5;28mself\u001b[39m, other \u001b[38;5;241m=\u001b[39m \u001b[38;5;28mself\u001b[39m\u001b[38;5;241m.\u001b[39m_align_for_op(other)\n\u001b[1;32m-> 6135\u001b[0m     \u001b[38;5;28;01mreturn\u001b[39;00m \u001b[43mbase\u001b[49m\u001b[38;5;241;43m.\u001b[39;49m\u001b[43mIndexOpsMixin\u001b[49m\u001b[38;5;241;43m.\u001b[39;49m\u001b[43m_arith_method\u001b[49m\u001b[43m(\u001b[49m\u001b[38;5;28;43mself\u001b[39;49m\u001b[43m,\u001b[49m\u001b[43m \u001b[49m\u001b[43mother\u001b[49m\u001b[43m,\u001b[49m\u001b[43m \u001b[49m\u001b[43mop\u001b[49m\u001b[43m)\u001b[49m\n",
      "File \u001b[1;32mc:\\Users\\Admin\\AppData\\Local\\Programs\\Python\\Python310\\lib\\site-packages\\pandas\\core\\base.py:1382\u001b[0m, in \u001b[0;36mIndexOpsMixin._arith_method\u001b[1;34m(self, other, op)\u001b[0m\n\u001b[0;32m   1379\u001b[0m     rvalues \u001b[38;5;241m=\u001b[39m np\u001b[38;5;241m.\u001b[39marange(rvalues\u001b[38;5;241m.\u001b[39mstart, rvalues\u001b[38;5;241m.\u001b[39mstop, rvalues\u001b[38;5;241m.\u001b[39mstep)\n\u001b[0;32m   1381\u001b[0m \u001b[38;5;28;01mwith\u001b[39;00m np\u001b[38;5;241m.\u001b[39merrstate(\u001b[38;5;28mall\u001b[39m\u001b[38;5;241m=\u001b[39m\u001b[38;5;124m\"\u001b[39m\u001b[38;5;124mignore\u001b[39m\u001b[38;5;124m\"\u001b[39m):\n\u001b[1;32m-> 1382\u001b[0m     result \u001b[38;5;241m=\u001b[39m \u001b[43mops\u001b[49m\u001b[38;5;241;43m.\u001b[39;49m\u001b[43marithmetic_op\u001b[49m\u001b[43m(\u001b[49m\u001b[43mlvalues\u001b[49m\u001b[43m,\u001b[49m\u001b[43m \u001b[49m\u001b[43mrvalues\u001b[49m\u001b[43m,\u001b[49m\u001b[43m \u001b[49m\u001b[43mop\u001b[49m\u001b[43m)\u001b[49m\n\u001b[0;32m   1384\u001b[0m \u001b[38;5;28;01mreturn\u001b[39;00m \u001b[38;5;28mself\u001b[39m\u001b[38;5;241m.\u001b[39m_construct_result(result, name\u001b[38;5;241m=\u001b[39mres_name)\n",
      "File \u001b[1;32mc:\\Users\\Admin\\AppData\\Local\\Programs\\Python\\Python310\\lib\\site-packages\\pandas\\core\\ops\\array_ops.py:283\u001b[0m, in \u001b[0;36marithmetic_op\u001b[1;34m(left, right, op)\u001b[0m\n\u001b[0;32m    279\u001b[0m     _bool_arith_check(op, left, right)  \u001b[38;5;66;03m# type: ignore[arg-type]\u001b[39;00m\n\u001b[0;32m    281\u001b[0m     \u001b[38;5;66;03m# error: Argument 1 to \"_na_arithmetic_op\" has incompatible type\u001b[39;00m\n\u001b[0;32m    282\u001b[0m     \u001b[38;5;66;03m# \"Union[ExtensionArray, ndarray[Any, Any]]\"; expected \"ndarray[Any, Any]\"\u001b[39;00m\n\u001b[1;32m--> 283\u001b[0m     res_values \u001b[38;5;241m=\u001b[39m \u001b[43m_na_arithmetic_op\u001b[49m\u001b[43m(\u001b[49m\u001b[43mleft\u001b[49m\u001b[43m,\u001b[49m\u001b[43m \u001b[49m\u001b[43mright\u001b[49m\u001b[43m,\u001b[49m\u001b[43m \u001b[49m\u001b[43mop\u001b[49m\u001b[43m)\u001b[49m  \u001b[38;5;66;03m# type: ignore[arg-type]\u001b[39;00m\n\u001b[0;32m    285\u001b[0m \u001b[38;5;28;01mreturn\u001b[39;00m res_values\n",
      "File \u001b[1;32mc:\\Users\\Admin\\AppData\\Local\\Programs\\Python\\Python310\\lib\\site-packages\\pandas\\core\\ops\\array_ops.py:227\u001b[0m, in \u001b[0;36m_na_arithmetic_op\u001b[1;34m(left, right, op, is_cmp)\u001b[0m\n\u001b[0;32m    219\u001b[0m \u001b[38;5;28;01mexcept\u001b[39;00m \u001b[38;5;167;01mTypeError\u001b[39;00m:\n\u001b[0;32m    220\u001b[0m     \u001b[38;5;28;01mif\u001b[39;00m \u001b[38;5;129;01mnot\u001b[39;00m is_cmp \u001b[38;5;129;01mand\u001b[39;00m (\n\u001b[0;32m    221\u001b[0m         left\u001b[38;5;241m.\u001b[39mdtype \u001b[38;5;241m==\u001b[39m \u001b[38;5;28mobject\u001b[39m \u001b[38;5;129;01mor\u001b[39;00m \u001b[38;5;28mgetattr\u001b[39m(right, \u001b[38;5;124m\"\u001b[39m\u001b[38;5;124mdtype\u001b[39m\u001b[38;5;124m\"\u001b[39m, \u001b[38;5;28;01mNone\u001b[39;00m) \u001b[38;5;241m==\u001b[39m \u001b[38;5;28mobject\u001b[39m\n\u001b[0;32m    222\u001b[0m     ):\n\u001b[1;32m   (...)\u001b[0m\n\u001b[0;32m    225\u001b[0m         \u001b[38;5;66;03m# Don't do this for comparisons, as that will handle complex numbers\u001b[39;00m\n\u001b[0;32m    226\u001b[0m         \u001b[38;5;66;03m#  incorrectly, see GH#32047\u001b[39;00m\n\u001b[1;32m--> 227\u001b[0m         result \u001b[38;5;241m=\u001b[39m \u001b[43m_masked_arith_op\u001b[49m\u001b[43m(\u001b[49m\u001b[43mleft\u001b[49m\u001b[43m,\u001b[49m\u001b[43m \u001b[49m\u001b[43mright\u001b[49m\u001b[43m,\u001b[49m\u001b[43m \u001b[49m\u001b[43mop\u001b[49m\u001b[43m)\u001b[49m\n\u001b[0;32m    228\u001b[0m     \u001b[38;5;28;01melse\u001b[39;00m:\n\u001b[0;32m    229\u001b[0m         \u001b[38;5;28;01mraise\u001b[39;00m\n",
      "File \u001b[1;32mc:\\Users\\Admin\\AppData\\Local\\Programs\\Python\\Python310\\lib\\site-packages\\pandas\\core\\ops\\array_ops.py:163\u001b[0m, in \u001b[0;36m_masked_arith_op\u001b[1;34m(x, y, op)\u001b[0m\n\u001b[0;32m    161\u001b[0m     \u001b[38;5;66;03m# See GH#5284, GH#5035, GH#19448 for historical reference\u001b[39;00m\n\u001b[0;32m    162\u001b[0m     \u001b[38;5;28;01mif\u001b[39;00m mask\u001b[38;5;241m.\u001b[39many():\n\u001b[1;32m--> 163\u001b[0m         result[mask] \u001b[38;5;241m=\u001b[39m \u001b[43mop\u001b[49m\u001b[43m(\u001b[49m\u001b[43mxrav\u001b[49m\u001b[43m[\u001b[49m\u001b[43mmask\u001b[49m\u001b[43m]\u001b[49m\u001b[43m,\u001b[49m\u001b[43m \u001b[49m\u001b[43myrav\u001b[49m\u001b[43m[\u001b[49m\u001b[43mmask\u001b[49m\u001b[43m]\u001b[49m\u001b[43m)\u001b[49m\n\u001b[0;32m    165\u001b[0m \u001b[38;5;28;01melse\u001b[39;00m:\n\u001b[0;32m    166\u001b[0m     \u001b[38;5;28;01mif\u001b[39;00m \u001b[38;5;129;01mnot\u001b[39;00m is_scalar(y):\n",
      "\u001b[1;31mTypeError\u001b[0m: unsupported operand type(s) for /: 'decimal.Decimal' and 'float'"
     ]
    }
   ],
   "source": [
    "import numpy as np\n",
    "import pandas as pd\n",
    "\n",
    "def grade_financial(\n",
    "    df,\n",
    "    *,\n",
    "    eps_col=\"eps\",\n",
    "    pe_col=\"pe\",\n",
    "    pbv_col=\"pbv\",\n",
    "    yld_col=\"percentyield\",   # หน่วย % เช่น 3.0 = 3%\n",
    "    mcap_col=\"marketcap\",\n",
    "    mode=\"fixed\",             # \"fixed\" หรือ \"quantile\"\n",
    "    # ----------- เกณฑ์โหมด fixed -----------\n",
    "    pe_range=(8, 25),         # P/E ดี อยู่ในช่วง 8–25\n",
    "    pbv_range=(0.8, 2.5),     # P/BV ดี อยู่ในช่วง 0.8–2.5\n",
    "    yld_min=3.0,              # Yield ดี ≥ 3%\n",
    "    yld_max=20.0,             # กัน outlier (ถ้าเกินมากมักมีเหตุผิดปกติ)\n",
    "    use_mcap=False,           # เปิดใช้ marketcap เป็นปัจจัยที่ 5\n",
    "    mcap_min_pct=0.5,         # ใช้เมื่อ use_mcap=True: ใหญ่กว่ามัธยฐาน (50th pct)\n",
    "    # ----------- เกณฑ์โหมด quantile -----------\n",
    "    pe_q=0.75,                # P/E ดี ≤ P75 ของค่า P/E ที่เป็นบวก\n",
    "    pbv_q=0.60,               # P/BV ดี ≤ P60\n",
    "    yld_q=0.75                # Yield ดี ≥ P75\n",
    "):\n",
    "    df = df.copy()\n",
    "\n",
    "    # สร้าง EPS ถ้ายังไม่มี (ต้องมี close และ pe > 0)\n",
    "    if eps_col not in df.columns and {\"close\", pe_col}.issubset(df.columns):\n",
    "        df[eps_col] = np.where((df[pe_col] > 0) & df[\"close\"].notna(), df[\"close\"] / df[pe_col], np.nan)\n",
    "\n",
    "    # เงื่อนไขพื้นฐาน (True/False) — จัด dtype ให้รองรับ NaN\n",
    "    s_eps = (df.get(eps_col) > 0)\n",
    "\n",
    "    if mode == \"fixed\":\n",
    "        s_pe  = (df.get(pe_col) >= pe_range[0]) & (df.get(pe_col) <= pe_range[1])\n",
    "        s_pbv = (df.get(pbv_col) >= pbv_range[0]) & (df.get(pbv_col) <= pbv_range[1])\n",
    "        s_yld = (df.get(yld_col) >= yld_min) & (df.get(yld_col) <= yld_max)\n",
    "    elif mode == \"quantile\":\n",
    "        pe_pos = df.loc[df.get(pe_col, pd.Series(index=df.index)) > 0, pe_col]\n",
    "        pe_cut = pe_pos.quantile(pe_q) if len(pe_pos) else np.inf\n",
    "        s_pe  = df.get(pe_col) <= pe_cut\n",
    "\n",
    "        pbv_cut = df.get(pbv_col).quantile(pbv_q) if pbv_col in df else np.inf\n",
    "        s_pbv = df.get(pbv_col) <= pbv_cut\n",
    "\n",
    "        yld_cut = df.get(yld_col).quantile(yld_q) if yld_col in df else -np.inf\n",
    "        s_yld = df.get(yld_col) >= yld_cut\n",
    "    else:\n",
    "        raise ValueError(\"mode ต้องเป็น 'fixed' หรือ 'quantile'\")\n",
    "\n",
    "    masks = [s_eps, s_pe, s_pbv, s_yld]\n",
    "\n",
    "    # ตัวเลือก: รวม marketcap เป็นเกณฑ์ที่ 5 (เช่น ใหญ่มากกว่ามัธยฐาน)\n",
    "    if use_mcap and (mcap_col in df):\n",
    "        mcap_cut = df[mcap_col].quantile(mcap_min_pct)\n",
    "        s_mcap = df[mcap_col] >= mcap_cut\n",
    "        masks.append(s_mcap)\n",
    "\n",
    "    # คิดคะแนน (NaN -> 0)\n",
    "    score = sum(m.fillna(False).astype(int) for m in masks)\n",
    "    max_score = len(masks)\n",
    "\n",
    "    # map เป็นเกรดตาม “สัดส่วนคะแนน”\n",
    "    # A: ≥90%, B: ≥70%, C: ≥50%, D: ≥25%, E: ต่ำกว่านั้น\n",
    "    pct = score / max_score\n",
    "    grade = np.where(pct >= 0.90, \"A\",\n",
    "             np.where(pct >= 0.70, \"B\",\n",
    "             np.where(pct >= 0.50, \"C\",\n",
    "             np.where(pct >= 0.25, \"D\", \"E\"))))\n",
    "\n",
    "    return pd.Series(grade, index=df.index), score\n",
    "\n",
    "# ----------------- ใช้งานกับ df_financial -----------------\n",
    "# โหมด fixed (ค่าเริ่มแนะนำ)\n",
    "df_financial[\"financial_level\"], df_financial[\"financial_score\"] = grade_financial(\n",
    "    df_financial,\n",
    "    mode=\"fixed\",\n",
    "    pe_range=(8, 25),\n",
    "    pbv_range=(0.8, 2.5),\n",
    "    yld_min=3.0,\n",
    "    yld_max=20.0,\n",
    "    use_mcap=False   # เปลี่ยนเป็น True ถ้าอยากนับ marketcap ด้วย\n",
    ")\n",
    "\n",
    "# หรือ โหมด quantile (ยืดหยุ่นกับแต่ละกลุ่ม/ตลาด)\n",
    "# df_financial[\"financial_level\"], df_financial[\"financial_score\"] = grade_financial(\n",
    "#     df_financial,\n",
    "#     mode=\"quantile\",\n",
    "#     use_mcap=False\n",
    "# )\n"
   ]
  }
 ],
 "metadata": {
  "kernelspec": {
   "display_name": "Python 3",
   "language": "python",
   "name": "python3"
  },
  "language_info": {
   "codemirror_mode": {
    "name": "ipython",
    "version": 3
   },
   "file_extension": ".py",
   "mimetype": "text/x-python",
   "name": "python",
   "nbconvert_exporter": "python",
   "pygments_lexer": "ipython3",
   "version": "3.10.0"
  }
 },
 "nbformat": 4,
 "nbformat_minor": 5
}
