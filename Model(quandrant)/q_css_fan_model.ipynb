{
 "cells": [
  {
   "cell_type": "code",
   "execution_count": 1,
   "metadata": {},
   "outputs": [],
   "source": [
    "import pandas as pd\n",
    "import numpy as np\n",
    "import os\n",
    "from cassandra.cluster import Cluster\n",
    "from datetime import datetime\n",
    "import plotly.graph_objects as go\n"
   ]
  },
  {
   "cell_type": "code",
   "execution_count": 2,
   "metadata": {},
   "outputs": [],
   "source": [
    "cluster = Cluster(['127.0.0.1']) \n",
    "session = cluster.connect()"
   ]
  },
  {
   "cell_type": "code",
   "execution_count": 3,
   "metadata": {},
   "outputs": [
    {
     "data": {
      "text/plain": [
       "(917, 29)"
      ]
     },
     "execution_count": 3,
     "metadata": {},
     "output_type": "execute_result"
    }
   ],
   "source": [
    "keyspace_name = \"data_stock\"\n",
    "session.set_keyspace(keyspace_name)\n",
    "table_name = \" stock_fun_data\"\n",
    "rows = session.execute(f\"SELECT * FROM {table_name}\")\n",
    "df = pd.DataFrame(rows)\n",
    "df.shape\n"
   ]
  },
  {
   "cell_type": "code",
   "execution_count": 5,
   "metadata": {},
   "outputs": [
    {
     "data": {
      "text/html": [
       "<div>\n",
       "<style scoped>\n",
       "    .dataframe tbody tr th:only-of-type {\n",
       "        vertical-align: middle;\n",
       "    }\n",
       "\n",
       "    .dataframe tbody tr th {\n",
       "        vertical-align: top;\n",
       "    }\n",
       "\n",
       "    .dataframe thead th {\n",
       "        text-align: right;\n",
       "    }\n",
       "</style>\n",
       "<table border=\"1\" class=\"dataframe\">\n",
       "  <thead>\n",
       "    <tr style=\"text-align: right;\">\n",
       "      <th></th>\n",
       "      <th>symbol</th>\n",
       "      <th>aumsize</th>\n",
       "      <th>average</th>\n",
       "      <th>change</th>\n",
       "      <th>eps</th>\n",
       "      <th>exchange</th>\n",
       "      <th>exerciseprice</th>\n",
       "      <th>exerciseratio</th>\n",
       "      <th>high</th>\n",
       "      <th>impliedvolatility</th>\n",
       "      <th>...</th>\n",
       "      <th>pbv</th>\n",
       "      <th>pe</th>\n",
       "      <th>percentchange</th>\n",
       "      <th>percentyield</th>\n",
       "      <th>securitytype</th>\n",
       "      <th>theoretical</th>\n",
       "      <th>tolasttrade</th>\n",
       "      <th>totalvolume</th>\n",
       "      <th>underlying</th>\n",
       "      <th>underlyingprice</th>\n",
       "    </tr>\n",
       "  </thead>\n",
       "  <tbody>\n",
       "    <tr>\n",
       "      <th>0</th>\n",
       "      <td>24CS</td>\n",
       "      <td>None</td>\n",
       "      <td>None</td>\n",
       "      <td>None</td>\n",
       "      <td>-0.57629</td>\n",
       "      <td>None</td>\n",
       "      <td>None</td>\n",
       "      <td>None</td>\n",
       "      <td>None</td>\n",
       "      <td>None</td>\n",
       "      <td>...</td>\n",
       "      <td>2.59</td>\n",
       "      <td>0.0</td>\n",
       "      <td>None</td>\n",
       "      <td>0.0</td>\n",
       "      <td>CS</td>\n",
       "      <td>None</td>\n",
       "      <td>None</td>\n",
       "      <td>0</td>\n",
       "      <td>None</td>\n",
       "      <td>None</td>\n",
       "    </tr>\n",
       "  </tbody>\n",
       "</table>\n",
       "<p>1 rows × 29 columns</p>\n",
       "</div>"
      ],
      "text/plain": [
       "  symbol aumsize average change      eps exchange exerciseprice exerciseratio  \\\n",
       "0   24CS    None    None   None -0.57629     None          None          None   \n",
       "\n",
       "   high impliedvolatility  ...   pbv   pe percentchange percentyield  \\\n",
       "0  None              None  ...  2.59  0.0          None          0.0   \n",
       "\n",
       "  securitytype theoretical tolasttrade totalvolume underlying  underlyingprice  \n",
       "0           CS        None        None           0       None             None  \n",
       "\n",
       "[1 rows x 29 columns]"
      ]
     },
     "execution_count": 5,
     "metadata": {},
     "output_type": "execute_result"
    }
   ],
   "source": [
    "rows_symbol = session.execute(f\"SELECT * FROM data_stock.stock_fun_data WHERE symbol = '24CS'\")\n",
    "df_symbol = pd.DataFrame(rows_symbol)\n",
    "df_symbol.head()"
   ]
  },
  {
   "cell_type": "code",
   "execution_count": 6,
   "metadata": {},
   "outputs": [
    {
     "name": "stdout",
     "output_type": "stream",
     "text": [
      "symbol               24CS\n",
      "eps              -0.57629\n",
      "instrumenttype      STOCK\n",
      "marketstatus        Close\n",
      "pbv                  2.59\n",
      "pe                    0.0\n",
      "percentyield          0.0\n",
      "securitytype           CS\n",
      "totalvolume             0\n",
      "Name: 0, dtype: object\n"
     ]
    }
   ],
   "source": [
    "row = df_symbol.iloc[0]\n",
    "non_null = row[row.notnull()]\n",
    "print(non_null)"
   ]
  },
  {
   "cell_type": "code",
   "execution_count": 7,
   "metadata": {},
   "outputs": [
    {
     "data": {
      "text/html": [
       "<div>\n",
       "<style scoped>\n",
       "    .dataframe tbody tr th:only-of-type {\n",
       "        vertical-align: middle;\n",
       "    }\n",
       "\n",
       "    .dataframe tbody tr th {\n",
       "        vertical-align: top;\n",
       "    }\n",
       "\n",
       "    .dataframe thead th {\n",
       "        text-align: right;\n",
       "    }\n",
       "</style>\n",
       "<table border=\"1\" class=\"dataframe\">\n",
       "  <thead>\n",
       "    <tr style=\"text-align: right;\">\n",
       "      <th></th>\n",
       "      <th>symbol</th>\n",
       "      <th>eps</th>\n",
       "      <th>instrumenttype</th>\n",
       "      <th>marketstatus</th>\n",
       "      <th>pbv</th>\n",
       "      <th>pe</th>\n",
       "      <th>percentyield</th>\n",
       "      <th>securitytype</th>\n",
       "      <th>totalvolume</th>\n",
       "    </tr>\n",
       "  </thead>\n",
       "  <tbody>\n",
       "    <tr>\n",
       "      <th>0</th>\n",
       "      <td>PPPM</td>\n",
       "      <td>-0.18924</td>\n",
       "      <td>STOCK</td>\n",
       "      <td>Close</td>\n",
       "      <td>0.67</td>\n",
       "      <td>0.00</td>\n",
       "      <td>0.00</td>\n",
       "      <td>CS</td>\n",
       "      <td>0</td>\n",
       "    </tr>\n",
       "    <tr>\n",
       "      <th>1</th>\n",
       "      <td>TPCH</td>\n",
       "      <td>0.63348</td>\n",
       "      <td>STOCK</td>\n",
       "      <td>Close</td>\n",
       "      <td>0.50</td>\n",
       "      <td>4.57</td>\n",
       "      <td>9.76</td>\n",
       "      <td>CS</td>\n",
       "      <td>0</td>\n",
       "    </tr>\n",
       "    <tr>\n",
       "      <th>2</th>\n",
       "      <td>KPNREIT</td>\n",
       "      <td>NaN</td>\n",
       "      <td>STOCK</td>\n",
       "      <td>Close</td>\n",
       "      <td>NaN</td>\n",
       "      <td>NaN</td>\n",
       "      <td>0.00</td>\n",
       "      <td>CS</td>\n",
       "      <td>0</td>\n",
       "    </tr>\n",
       "    <tr>\n",
       "      <th>3</th>\n",
       "      <td>POLY</td>\n",
       "      <td>0.33433</td>\n",
       "      <td>STOCK</td>\n",
       "      <td>Close</td>\n",
       "      <td>3.05</td>\n",
       "      <td>15.31</td>\n",
       "      <td>4.55</td>\n",
       "      <td>CS</td>\n",
       "      <td>0</td>\n",
       "    </tr>\n",
       "    <tr>\n",
       "      <th>4</th>\n",
       "      <td>QHBREIT</td>\n",
       "      <td>NaN</td>\n",
       "      <td>STOCK</td>\n",
       "      <td>Close</td>\n",
       "      <td>NaN</td>\n",
       "      <td>NaN</td>\n",
       "      <td>0.00</td>\n",
       "      <td>CS</td>\n",
       "      <td>0</td>\n",
       "    </tr>\n",
       "  </tbody>\n",
       "</table>\n",
       "</div>"
      ],
      "text/plain": [
       "    symbol      eps instrumenttype marketstatus   pbv     pe  percentyield  \\\n",
       "0     PPPM -0.18924          STOCK        Close  0.67   0.00          0.00   \n",
       "1     TPCH  0.63348          STOCK        Close  0.50   4.57          9.76   \n",
       "2  KPNREIT      NaN          STOCK        Close   NaN    NaN          0.00   \n",
       "3     POLY  0.33433          STOCK        Close  3.05  15.31          4.55   \n",
       "4  QHBREIT      NaN          STOCK        Close   NaN    NaN          0.00   \n",
       "\n",
       "  securitytype  totalvolume  \n",
       "0           CS            0  \n",
       "1           CS            0  \n",
       "2           CS            0  \n",
       "3           CS            0  \n",
       "4           CS            0  "
      ]
     },
     "execution_count": 7,
     "metadata": {},
     "output_type": "execute_result"
    }
   ],
   "source": [
    "# ดึงข้อมูลเฉพาะคอลัมน์ที่ต้องการจาก Cassandra\n",
    "rows_symbol_nonnull = session.execute(\n",
    "    \"\"\"\n",
    "    SELECT symbol, eps, instrumenttype, marketstatus, pbv, pe, percentyield, securitytype, totalvolume\n",
    "    FROM data_stock.stock_fun_data\n",
    "    \"\"\"\n",
    ")\n",
    "# แปลงเป็น DataFrame\n",
    "df_symbol_nonnull = pd.DataFrame(rows_symbol_nonnull)\n",
    "# แสดงผลลัพธ์\n",
    "df_symbol_nonnull.head()"
   ]
  },
  {
   "cell_type": "code",
   "execution_count": 9,
   "metadata": {},
   "outputs": [
    {
     "name": "stdout",
     "output_type": "stream",
     "text": [
      "<class 'pandas.core.frame.DataFrame'>\n",
      "RangeIndex: 917 entries, 0 to 916\n",
      "Data columns (total 9 columns):\n",
      " #   Column          Non-Null Count  Dtype  \n",
      "---  ------          --------------  -----  \n",
      " 0   symbol          917 non-null    object \n",
      " 1   eps             851 non-null    float64\n",
      " 2   instrumenttype  917 non-null    object \n",
      " 3   marketstatus    917 non-null    object \n",
      " 4   pbv             897 non-null    float64\n",
      " 5   pe              843 non-null    float64\n",
      " 6   percentyield    907 non-null    float64\n",
      " 7   securitytype    917 non-null    object \n",
      " 8   totalvolume     917 non-null    int64  \n",
      "dtypes: float64(4), int64(1), object(4)\n",
      "memory usage: 64.6+ KB\n"
     ]
    }
   ],
   "source": [
    "df_symbol_nonnull.info()"
   ]
  },
  {
   "cell_type": "code",
   "execution_count": 11,
   "metadata": {},
   "outputs": [
    {
     "name": "stdout",
     "output_type": "stream",
     "text": [
      "<class 'pandas.core.frame.DataFrame'>\n",
      "RangeIndex: 917 entries, 0 to 916\n",
      "Data columns (total 29 columns):\n",
      " #   Column             Non-Null Count  Dtype  \n",
      "---  ------             --------------  -----  \n",
      " 0   symbol             917 non-null    object \n",
      " 1   aumsize            0 non-null      object \n",
      " 2   average            0 non-null      object \n",
      " 3   change             0 non-null      object \n",
      " 4   eps                851 non-null    float64\n",
      " 5   exchange           0 non-null      object \n",
      " 6   exerciseprice      0 non-null      object \n",
      " 7   exerciseratio      0 non-null      object \n",
      " 8   high               0 non-null      object \n",
      " 9   impliedvolatility  0 non-null      object \n",
      " 10  inav               0 non-null      object \n",
      " 11  instrumenttype     917 non-null    object \n",
      " 12  intrinsicvalue     0 non-null      object \n",
      " 13  last               0 non-null      object \n",
      " 14  lasttradingdate    0 non-null      object \n",
      " 15  low                0 non-null      object \n",
      " 16  marketstatus       917 non-null    object \n",
      " 17  maturitydate       0 non-null      object \n",
      " 18  moneyness          0 non-null      object \n",
      " 19  pbv                897 non-null    float64\n",
      " 20  pe                 843 non-null    float64\n",
      " 21  percentchange      0 non-null      object \n",
      " 22  percentyield       907 non-null    float64\n",
      " 23  securitytype       917 non-null    object \n",
      " 24  theoretical        0 non-null      object \n",
      " 25  tolasttrade        0 non-null      object \n",
      " 26  totalvolume        917 non-null    int64  \n",
      " 27  underlying         0 non-null      object \n",
      " 28  underlyingprice    0 non-null      object \n",
      "dtypes: float64(4), int64(1), object(24)\n",
      "memory usage: 207.9+ KB\n"
     ]
    }
   ],
   "source": [
    "df.info()"
   ]
  },
  {
   "cell_type": "code",
   "execution_count": 19,
   "metadata": {},
   "outputs": [
    {
     "data": {
      "text/plain": [
       "symbol                 0\n",
       "aumsize              917\n",
       "average              917\n",
       "change               917\n",
       "eps                   66\n",
       "exchange             917\n",
       "exerciseprice        917\n",
       "exerciseratio        917\n",
       "high                 917\n",
       "impliedvolatility    917\n",
       "inav                 917\n",
       "instrumenttype         0\n",
       "intrinsicvalue       917\n",
       "last                 917\n",
       "lasttradingdate      917\n",
       "low                  917\n",
       "marketstatus           0\n",
       "maturitydate         917\n",
       "moneyness            917\n",
       "pbv                   20\n",
       "pe                    74\n",
       "percentchange        917\n",
       "percentyield          10\n",
       "securitytype           0\n",
       "theoretical          917\n",
       "tolasttrade          917\n",
       "totalvolume            0\n",
       "underlying           917\n",
       "underlyingprice      917\n",
       "dtype: int64"
      ]
     },
     "execution_count": 19,
     "metadata": {},
     "output_type": "execute_result"
    }
   ],
   "source": [
    "df.isnull().sum()"
   ]
  },
  {
   "cell_type": "code",
   "execution_count": 20,
   "metadata": {},
   "outputs": [],
   "source": [
    "def classify_basic_financial(df):\n",
    "    df = df[df[['eps', 'pbv']].notnull().all(axis=1)].copy()\n",
    "\n",
    "    def score(row):\n",
    "        score = 0\n",
    "        if row['eps'] > 0: score += 1\n",
    "        if row['pbv'] < 2: score += 1  # สมมุติว่า PBV < 2 คือราคายังไม่แพง\n",
    "        return score\n",
    "\n",
    "    def to_grade(score):\n",
    "        if score == 2: return 'A'\n",
    "        elif score == 1: return 'C'\n",
    "        else: return 'E'\n",
    "\n",
    "    df['score'] = df.apply(score, axis=1)\n",
    "    df['financial_grade'] = df['score'].apply(to_grade)\n",
    "    return df[['symbol', 'eps', 'pbv', 'financial_grade']]\n"
   ]
  },
  {
   "cell_type": "code",
   "execution_count": 23,
   "metadata": {},
   "outputs": [
    {
     "data": {
      "text/html": [
       "<div>\n",
       "<style scoped>\n",
       "    .dataframe tbody tr th:only-of-type {\n",
       "        vertical-align: middle;\n",
       "    }\n",
       "\n",
       "    .dataframe tbody tr th {\n",
       "        vertical-align: top;\n",
       "    }\n",
       "\n",
       "    .dataframe thead th {\n",
       "        text-align: right;\n",
       "    }\n",
       "</style>\n",
       "<table border=\"1\" class=\"dataframe\">\n",
       "  <thead>\n",
       "    <tr style=\"text-align: right;\">\n",
       "      <th></th>\n",
       "      <th>symbol</th>\n",
       "      <th>eps</th>\n",
       "      <th>pbv</th>\n",
       "      <th>financial_grade</th>\n",
       "    </tr>\n",
       "  </thead>\n",
       "  <tbody>\n",
       "    <tr>\n",
       "      <th>0</th>\n",
       "      <td>PPPM</td>\n",
       "      <td>-0.18924</td>\n",
       "      <td>0.67</td>\n",
       "      <td>C</td>\n",
       "    </tr>\n",
       "    <tr>\n",
       "      <th>1</th>\n",
       "      <td>TPCH</td>\n",
       "      <td>0.63348</td>\n",
       "      <td>0.50</td>\n",
       "      <td>A</td>\n",
       "    </tr>\n",
       "    <tr>\n",
       "      <th>3</th>\n",
       "      <td>POLY</td>\n",
       "      <td>0.33433</td>\n",
       "      <td>3.05</td>\n",
       "      <td>C</td>\n",
       "    </tr>\n",
       "    <tr>\n",
       "      <th>5</th>\n",
       "      <td>VCOM</td>\n",
       "      <td>0.19740</td>\n",
       "      <td>1.40</td>\n",
       "      <td>A</td>\n",
       "    </tr>\n",
       "    <tr>\n",
       "      <th>6</th>\n",
       "      <td>KDH</td>\n",
       "      <td>6.04651</td>\n",
       "      <td>2.26</td>\n",
       "      <td>C</td>\n",
       "    </tr>\n",
       "    <tr>\n",
       "      <th>...</th>\n",
       "      <td>...</td>\n",
       "      <td>...</td>\n",
       "      <td>...</td>\n",
       "      <td>...</td>\n",
       "    </tr>\n",
       "    <tr>\n",
       "      <th>912</th>\n",
       "      <td>TFM</td>\n",
       "      <td>0.77000</td>\n",
       "      <td>1.51</td>\n",
       "      <td>A</td>\n",
       "    </tr>\n",
       "    <tr>\n",
       "      <th>913</th>\n",
       "      <td>TRITN</td>\n",
       "      <td>-0.04760</td>\n",
       "      <td>1.64</td>\n",
       "      <td>C</td>\n",
       "    </tr>\n",
       "    <tr>\n",
       "      <th>914</th>\n",
       "      <td>I2</td>\n",
       "      <td>0.13138</td>\n",
       "      <td>0.81</td>\n",
       "      <td>A</td>\n",
       "    </tr>\n",
       "    <tr>\n",
       "      <th>915</th>\n",
       "      <td>SPRC</td>\n",
       "      <td>0.47805</td>\n",
       "      <td>0.64</td>\n",
       "      <td>A</td>\n",
       "    </tr>\n",
       "    <tr>\n",
       "      <th>916</th>\n",
       "      <td>BLAND</td>\n",
       "      <td>0.00846</td>\n",
       "      <td>0.18</td>\n",
       "      <td>A</td>\n",
       "    </tr>\n",
       "  </tbody>\n",
       "</table>\n",
       "<p>842 rows × 4 columns</p>\n",
       "</div>"
      ],
      "text/plain": [
       "    symbol      eps   pbv financial_grade\n",
       "0     PPPM -0.18924  0.67               C\n",
       "1     TPCH  0.63348  0.50               A\n",
       "3     POLY  0.33433  3.05               C\n",
       "5     VCOM  0.19740  1.40               A\n",
       "6      KDH  6.04651  2.26               C\n",
       "..     ...      ...   ...             ...\n",
       "912    TFM  0.77000  1.51               A\n",
       "913  TRITN -0.04760  1.64               C\n",
       "914     I2  0.13138  0.81               A\n",
       "915   SPRC  0.47805  0.64               A\n",
       "916  BLAND  0.00846  0.18               A\n",
       "\n",
       "[842 rows x 4 columns]"
      ]
     },
     "execution_count": 23,
     "metadata": {},
     "output_type": "execute_result"
    }
   ],
   "source": [
    "classified_df = classify_basic_financial(df_symbol_nonnull)\n",
    "classified_df\n"
   ]
  },
  {
   "cell_type": "code",
   "execution_count": 25,
   "metadata": {},
   "outputs": [],
   "source": [
    "from sklearn.preprocessing import StandardScaler\n",
    "from sklearn.cluster import KMeans\n",
    "import pandas as pd\n",
    "\n",
    "# ใช้ feature ทางการเงิน\n",
    "features = ['eps', 'pbv']  # เพิ่ม roe, de, etc. ถ้ามี\n",
    "df_cluster = df_symbol_nonnull[features].dropna().copy()\n",
    "\n",
    "# สเกลก่อน clustering\n",
    "scaler = StandardScaler()\n",
    "X_scaled = scaler.fit_transform(df_cluster)\n"
   ]
  },
  {
   "cell_type": "code",
   "execution_count": 31,
   "metadata": {},
   "outputs": [
    {
     "data": {
      "text/html": [
       "<div>\n",
       "<style scoped>\n",
       "    .dataframe tbody tr th:only-of-type {\n",
       "        vertical-align: middle;\n",
       "    }\n",
       "\n",
       "    .dataframe tbody tr th {\n",
       "        vertical-align: top;\n",
       "    }\n",
       "\n",
       "    .dataframe thead th {\n",
       "        text-align: right;\n",
       "    }\n",
       "</style>\n",
       "<table border=\"1\" class=\"dataframe\">\n",
       "  <thead>\n",
       "    <tr style=\"text-align: right;\">\n",
       "      <th></th>\n",
       "      <th>eps</th>\n",
       "      <th>pbv</th>\n",
       "      <th>Cluster</th>\n",
       "      <th>symbol</th>\n",
       "    </tr>\n",
       "  </thead>\n",
       "  <tbody>\n",
       "    <tr>\n",
       "      <th>0</th>\n",
       "      <td>-0.18924</td>\n",
       "      <td>0.67</td>\n",
       "      <td>0</td>\n",
       "      <td>PPPM</td>\n",
       "    </tr>\n",
       "    <tr>\n",
       "      <th>1</th>\n",
       "      <td>0.63348</td>\n",
       "      <td>0.50</td>\n",
       "      <td>0</td>\n",
       "      <td>TPCH</td>\n",
       "    </tr>\n",
       "    <tr>\n",
       "      <th>3</th>\n",
       "      <td>0.33433</td>\n",
       "      <td>3.05</td>\n",
       "      <td>0</td>\n",
       "      <td>POLY</td>\n",
       "    </tr>\n",
       "    <tr>\n",
       "      <th>5</th>\n",
       "      <td>0.19740</td>\n",
       "      <td>1.40</td>\n",
       "      <td>0</td>\n",
       "      <td>VCOM</td>\n",
       "    </tr>\n",
       "    <tr>\n",
       "      <th>6</th>\n",
       "      <td>6.04651</td>\n",
       "      <td>2.26</td>\n",
       "      <td>3</td>\n",
       "      <td>KDH</td>\n",
       "    </tr>\n",
       "    <tr>\n",
       "      <th>...</th>\n",
       "      <td>...</td>\n",
       "      <td>...</td>\n",
       "      <td>...</td>\n",
       "      <td>...</td>\n",
       "    </tr>\n",
       "    <tr>\n",
       "      <th>912</th>\n",
       "      <td>0.77000</td>\n",
       "      <td>1.51</td>\n",
       "      <td>0</td>\n",
       "      <td>TFM</td>\n",
       "    </tr>\n",
       "    <tr>\n",
       "      <th>913</th>\n",
       "      <td>-0.04760</td>\n",
       "      <td>1.64</td>\n",
       "      <td>0</td>\n",
       "      <td>TRITN</td>\n",
       "    </tr>\n",
       "    <tr>\n",
       "      <th>914</th>\n",
       "      <td>0.13138</td>\n",
       "      <td>0.81</td>\n",
       "      <td>0</td>\n",
       "      <td>I2</td>\n",
       "    </tr>\n",
       "    <tr>\n",
       "      <th>915</th>\n",
       "      <td>0.47805</td>\n",
       "      <td>0.64</td>\n",
       "      <td>0</td>\n",
       "      <td>SPRC</td>\n",
       "    </tr>\n",
       "    <tr>\n",
       "      <th>916</th>\n",
       "      <td>0.00846</td>\n",
       "      <td>0.18</td>\n",
       "      <td>0</td>\n",
       "      <td>BLAND</td>\n",
       "    </tr>\n",
       "  </tbody>\n",
       "</table>\n",
       "<p>842 rows × 4 columns</p>\n",
       "</div>"
      ],
      "text/plain": [
       "         eps   pbv  Cluster symbol\n",
       "0   -0.18924  0.67        0   PPPM\n",
       "1    0.63348  0.50        0   TPCH\n",
       "3    0.33433  3.05        0   POLY\n",
       "5    0.19740  1.40        0   VCOM\n",
       "6    6.04651  2.26        3    KDH\n",
       "..       ...   ...      ...    ...\n",
       "912  0.77000  1.51        0    TFM\n",
       "913 -0.04760  1.64        0  TRITN\n",
       "914  0.13138  0.81        0     I2\n",
       "915  0.47805  0.64        0   SPRC\n",
       "916  0.00846  0.18        0  BLAND\n",
       "\n",
       "[842 rows x 4 columns]"
      ]
     },
     "execution_count": 31,
     "metadata": {},
     "output_type": "execute_result"
    }
   ],
   "source": [
    "k = 5  # จำนวนกลุ่มที่ต้องการ เช่น 5 กลุ่ม A–E\n",
    "kmeans = KMeans(n_clusters=k, random_state=42)\n",
    "clusters = kmeans.fit_predict(X_scaled)\n",
    "\n",
    "df_cluster['Cluster'] = clusters\n",
    "df_cluster\n"
   ]
  },
  {
   "cell_type": "code",
   "execution_count": 32,
   "metadata": {},
   "outputs": [
    {
     "data": {
      "application/vnd.plotly.v1+json": {
       "config": {
        "plotlyServerURL": "https://plot.ly"
       },
       "data": [
        {
         "customdata": [
          [
           "PPPM"
          ],
          [
           "TPCH"
          ],
          [
           "POLY"
          ],
          [
           "VCOM"
          ],
          [
           "KDH"
          ],
          [
           "NVD"
          ],
          [
           "JDF"
          ],
          [
           "SVR"
          ],
          [
           "SUSCO"
          ],
          [
           "STP"
          ],
          [
           "VGI"
          ],
          [
           "NCP"
          ],
          [
           "EA"
          ],
          [
           "ROJNA"
          ],
          [
           "GLOCON"
          ],
          [
           "KSL"
          ],
          [
           "ASP"
          ],
          [
           "PTECH"
          ],
          [
           "PLUS"
          ],
          [
           "MANRIN"
          ],
          [
           "SIS"
          ],
          [
           "SFT"
          ],
          [
           "CRC"
          ],
          [
           "ADVICE"
          ],
          [
           "SAT"
          ],
          [
           "LEE"
          ],
          [
           "SHR"
          ],
          [
           "PSP"
          ],
          [
           "TAN"
          ],
          [
           "SNPS"
          ],
          [
           "TGH"
          ],
          [
           "TASCO"
          ],
          [
           "NPK"
          ],
          [
           "TPOLY"
          ],
          [
           "AYUD"
          ],
          [
           "CPAXT"
          ],
          [
           "OKJ"
          ],
          [
           "SFLEX"
          ],
          [
           "NWR"
          ],
          [
           "WORK"
          ],
          [
           "TPBI"
          ],
          [
           "PG"
          ],
          [
           "AJ"
          ],
          [
           "MGC"
          ],
          [
           "SIAM"
          ],
          [
           "ITEL"
          ],
          [
           "PCE"
          ],
          [
           "BIOTEC"
          ],
          [
           "TK"
          ],
          [
           "NDR"
          ],
          [
           "LPN"
          ],
          [
           "M"
          ],
          [
           "TIGER"
          ],
          [
           "GBX"
          ],
          [
           "WINDOW"
          ],
          [
           "BIG"
          ],
          [
           "TRP"
          ],
          [
           "PRG"
          ],
          [
           "SNP"
          ],
          [
           "LDC"
          ],
          [
           "SAF"
          ],
          [
           "ASN"
          ],
          [
           "CGD"
          ],
          [
           "RICHY"
          ],
          [
           "PTTEP"
          ],
          [
           "PLAT"
          ],
          [
           "ARROW"
          ],
          [
           "ITD"
          ],
          [
           "KOOL"
          ],
          [
           "TSI"
          ],
          [
           "TFMAMA"
          ],
          [
           "MCOT"
          ],
          [
           "CENTEL"
          ],
          [
           "KBANK"
          ],
          [
           "PCSGH"
          ],
          [
           "SAPPE"
          ],
          [
           "UMS"
          ],
          [
           "SPA"
          ],
          [
           "UOBKH"
          ],
          [
           "SVOA"
          ],
          [
           "MUD"
          ],
          [
           "TNPC"
          ],
          [
           "ILINK"
          ],
          [
           "J"
          ],
          [
           "CM"
          ],
          [
           "META"
          ],
          [
           "TPAC"
          ],
          [
           "SCGP"
          ],
          [
           "IRCP"
          ],
          [
           "RPC"
          ],
          [
           "TSC"
          ],
          [
           "PTG"
          ],
          [
           "MAJOR"
          ],
          [
           "PDJ"
          ],
          [
           "MST"
          ],
          [
           "JCKH"
          ],
          [
           "TOA"
          ],
          [
           "BRR"
          ],
          [
           "PAP"
          ],
          [
           "WAVE"
          ],
          [
           "TVH"
          ],
          [
           "WIN"
          ],
          [
           "ASAP"
          ],
          [
           "WACOAL"
          ],
          [
           "UTP"
          ],
          [
           "UREKA"
          ],
          [
           "ZAA"
          ],
          [
           "AWC"
          ],
          [
           "SMD100"
          ],
          [
           "TWPC"
          ],
          [
           "ASIA"
          ],
          [
           "QTCG"
          ],
          [
           "EFORL"
          ],
          [
           "LALIN"
          ],
          [
           "SOLAR"
          ],
          [
           "RAM"
          ],
          [
           "MGI"
          ],
          [
           "XBIO"
          ],
          [
           "WFX"
          ],
          [
           "SCGD"
          ],
          [
           "FANCY"
          ],
          [
           "TTW"
          ],
          [
           "FORTH"
          ],
          [
           "KEX"
          ],
          [
           "DCON"
          ],
          [
           "EMC"
          ],
          [
           "AF"
          ],
          [
           "ITC"
          ],
          [
           "TEAMG"
          ],
          [
           "MFC"
          ],
          [
           "AHC"
          ],
          [
           "KCG"
          ],
          [
           "DMT"
          ],
          [
           "PERM"
          ],
          [
           "PMTA"
          ],
          [
           "APO"
          ],
          [
           "KCAR"
          ],
          [
           "NEX"
          ],
          [
           "ACE"
          ],
          [
           "WGE"
          ],
          [
           "STI"
          ],
          [
           "ROCTEC"
          ],
          [
           "GUNKUL"
          ],
          [
           "TCMC"
          ],
          [
           "NOVA"
          ],
          [
           "PHG"
          ],
          [
           "UAC"
          ],
          [
           "NKT"
          ],
          [
           "GFPT"
          ],
          [
           "CCP"
          ],
          [
           "BBIK"
          ],
          [
           "GCAP"
          ],
          [
           "M-CHAI"
          ],
          [
           "TOPP"
          ],
          [
           "NSL"
          ],
          [
           "ALT"
          ],
          [
           "YONG"
          ],
          [
           "SCC"
          ],
          [
           "PORT"
          ],
          [
           "AMR"
          ],
          [
           "MASTER"
          ],
          [
           "KGEN"
          ],
          [
           "CPH"
          ],
          [
           "UP"
          ],
          [
           "BVG"
          ],
          [
           "SKE"
          ],
          [
           "TGPRO"
          ],
          [
           "TRU"
          ],
          [
           "SO"
          ],
          [
           "TIDLOR"
          ],
          [
           "IP"
          ],
          [
           "BTW"
          ],
          [
           "SAK"
          ],
          [
           "HARN"
          ],
          [
           "IRC"
          ],
          [
           "SUTHA"
          ],
          [
           "TAKUNI"
          ],
          [
           "ONEE"
          ],
          [
           "CPALL"
          ],
          [
           "TNITY"
          ],
          [
           "SYMC"
          ],
          [
           "BEM"
          ],
          [
           "KKP"
          ],
          [
           "ESTAR"
          ],
          [
           "VIBHA"
          ],
          [
           "SISB"
          ],
          [
           "CKP"
          ],
          [
           "PTL"
          ],
          [
           "PYLON"
          ],
          [
           "B"
          ],
          [
           "JUBILE"
          ],
          [
           "MJD"
          ],
          [
           "KCM"
          ],
          [
           "GLAND"
          ],
          [
           "CSC"
          ],
          [
           "FM"
          ],
          [
           "XPG"
          ],
          [
           "THANI"
          ],
          [
           "S&J"
          ],
          [
           "HTC"
          ],
          [
           "BCPG"
          ],
          [
           "IT"
          ],
          [
           "FSX"
          ],
          [
           "TU"
          ],
          [
           "MATCH"
          ],
          [
           "TPLAS"
          ],
          [
           "KISS"
          ],
          [
           "DITTO"
          ],
          [
           "PACO"
          ],
          [
           "MIDA"
          ],
          [
           "TNR"
          ],
          [
           "MDX"
          ],
          [
           "SWC"
          ],
          [
           "SK"
          ],
          [
           "DTCENT"
          ],
          [
           "SINO"
          ],
          [
           "AAV"
          ],
          [
           "BKIH"
          ],
          [
           "BEAUTY"
          ],
          [
           "MONO"
          ],
          [
           "GGC"
          ],
          [
           "HFT"
          ],
          [
           "WINNER"
          ],
          [
           "BR"
          ],
          [
           "CCET"
          ],
          [
           "ZEN"
          ],
          [
           "BSRC"
          ],
          [
           "KTMS"
          ],
          [
           "JMART"
          ],
          [
           "NEWS"
          ],
          [
           "TAE"
          ],
          [
           "IND"
          ],
          [
           "JAS"
          ],
          [
           "CTW"
          ],
          [
           "TCJ"
          ],
          [
           "GLORY"
          ],
          [
           "STANLY"
          ],
          [
           "STPI"
          ],
          [
           "TVT"
          ],
          [
           "SJWD"
          ],
          [
           "GENCO"
          ],
          [
           "HPT"
          ],
          [
           "CITY"
          ],
          [
           "SM"
          ],
          [
           "SAWAD"
          ],
          [
           "GABLE"
          ],
          [
           "LPH"
          ],
          [
           "SPREME"
          ],
          [
           "SCN"
          ],
          [
           "MOONG"
          ],
          [
           "MOSHI"
          ],
          [
           "PANEL"
          ],
          [
           "SIRI"
          ],
          [
           "ATP30"
          ],
          [
           "NEW"
          ],
          [
           "NCH"
          ],
          [
           "MC"
          ],
          [
           "DHOUSE"
          ],
          [
           "ACG"
          ],
          [
           "CIG"
          ],
          [
           "DEXON"
          ],
          [
           "BPP"
          ],
          [
           "APP"
          ],
          [
           "STC"
          ],
          [
           "UMI"
          ],
          [
           "CHAO"
          ],
          [
           "RSP"
          ],
          [
           "KK"
          ],
          [
           "CHOTI"
          ],
          [
           "PIMO"
          ],
          [
           "SECURE"
          ],
          [
           "PQS"
          ],
          [
           "TFG"
          ],
          [
           "MVP"
          ],
          [
           "ASK"
          ],
          [
           "PLANET"
          ],
          [
           "BCP"
          ],
          [
           "SLP"
          ],
          [
           "TMILL"
          ],
          [
           "SHANG"
          ],
          [
           "ITTHI"
          ],
          [
           "SPC"
          ],
          [
           "K"
          ],
          [
           "SGC"
          ],
          [
           "DDD"
          ],
          [
           "FTE"
          ],
          [
           "TKC"
          ],
          [
           "OHTL"
          ],
          [
           "TWZ"
          ],
          [
           "IVF"
          ],
          [
           "MGT"
          ],
          [
           "ILM"
          ],
          [
           "BLESS"
          ],
          [
           "FMT"
          ],
          [
           "PHOL"
          ],
          [
           "PTT"
          ],
          [
           "SCM"
          ],
          [
           "TURTLE"
          ],
          [
           "LRH"
          ],
          [
           "OCC"
          ],
          [
           "TMI"
          ],
          [
           "CNT"
          ],
          [
           "UBIS"
          ],
          [
           "TISCO"
          ],
          [
           "TMT"
          ],
          [
           "TFI"
          ],
          [
           "SMART"
          ],
          [
           "L&E"
          ],
          [
           "NEP"
          ],
          [
           "AOT"
          ],
          [
           "PEER"
          ],
          [
           "PIN"
          ],
          [
           "SUPER"
          ],
          [
           "RABBIT"
          ],
          [
           "VIH"
          ],
          [
           "SELIC"
          ],
          [
           "DPAINT"
          ],
          [
           "THG"
          ],
          [
           "HTECH"
          ],
          [
           "SMT"
          ],
          [
           "DCC"
          ],
          [
           "EP"
          ],
          [
           "NC"
          ],
          [
           "GLOBAL"
          ],
          [
           "AE"
          ],
          [
           "MEGA"
          ],
          [
           "SNC"
          ],
          [
           "SAV"
          ],
          [
           "AP"
          ],
          [
           "TQM"
          ],
          [
           "ADB"
          ],
          [
           "AURA"
          ],
          [
           "ROCK"
          ],
          [
           "HANA"
          ],
          [
           "TRV"
          ],
          [
           "PSG"
          ],
          [
           "AKR"
          ],
          [
           "PIS"
          ],
          [
           "SYNTEC"
          ],
          [
           "THCOM"
          ],
          [
           "BTC"
          ],
          [
           "KLINIQ"
          ],
          [
           "NCAP"
          ],
          [
           "GEL"
          ],
          [
           "MICRO"
          ],
          [
           "CSS"
          ],
          [
           "ECF"
          ],
          [
           "STA"
          ],
          [
           "RS"
          ],
          [
           "SGF"
          ],
          [
           "CRANE"
          ],
          [
           "CK"
          ],
          [
           "BDMS"
          ],
          [
           "BGC"
          ],
          [
           "MORE"
          ],
          [
           "ZIGA"
          ],
          [
           "TOP"
          ],
          [
           "BAM"
          ],
          [
           "BKGI"
          ],
          [
           "SPVI"
          ],
          [
           "ICHI"
          ],
          [
           "SST"
          ],
          [
           "KTC"
          ],
          [
           "MK"
          ],
          [
           "PROS"
          ],
          [
           "SAAM"
          ],
          [
           "EASON"
          ],
          [
           "TTI"
          ],
          [
           "TACC"
          ],
          [
           "PM"
          ],
          [
           "DIMET"
          ],
          [
           "QLT"
          ],
          [
           "LTS"
          ],
          [
           "AJA"
          ],
          [
           "QTC"
          ],
          [
           "KAMART"
          ],
          [
           "TOG"
          ],
          [
           "SMIT"
          ],
          [
           "PROEN"
          ],
          [
           "BGT"
          ],
          [
           "PSL"
          ],
          [
           "JMT"
          ],
          [
           "VARO"
          ],
          [
           "SORKON"
          ],
          [
           "PROUD"
          ],
          [
           "NER"
          ],
          [
           "MODERN"
          ],
          [
           "SVI"
          ],
          [
           "ACC"
          ],
          [
           "GFC"
          ],
          [
           "PPP"
          ],
          [
           "CPR"
          ],
          [
           "AMC"
          ],
          [
           "TCC"
          ],
          [
           "MPJ"
          ],
          [
           "ARIN"
          ],
          [
           "TKT"
          ],
          [
           "TSR"
          ],
          [
           "SAMCO"
          ],
          [
           "2S"
          ],
          [
           "JR"
          ],
          [
           "KC"
          ],
          [
           "NRF"
          ],
          [
           "EASTW"
          ],
          [
           "TKN"
          ],
          [
           "SSF"
          ],
          [
           "SIMAT"
          ],
          [
           "RCL"
          ],
          [
           "TMC"
          ],
          [
           "BBL"
          ],
          [
           "MEDEZE"
          ],
          [
           "SPI"
          ],
          [
           "UVAN"
          ],
          [
           "ARIP"
          ],
          [
           "TRUBB"
          ],
          [
           "CPT"
          ],
          [
           "PRI"
          ],
          [
           "CREDIT"
          ],
          [
           "ORN"
          ],
          [
           "AU"
          ],
          [
           "INTUCH"
          ],
          [
           "TIPH"
          ],
          [
           "IMH"
          ],
          [
           "KBS"
          ],
          [
           "BLC"
          ],
          [
           "TCOAT"
          ],
          [
           "TTA"
          ],
          [
           "THREL"
          ],
          [
           "TVDH"
          ],
          [
           "TMD"
          ],
          [
           "TC"
          ],
          [
           "PPM"
          ],
          [
           "PRINC"
          ],
          [
           "A"
          ],
          [
           "AMA"
          ],
          [
           "AEONTS"
          ],
          [
           "TNH"
          ],
          [
           "GTB"
          ],
          [
           "SCL"
          ],
          [
           "ICN"
          ],
          [
           "AMATA"
          ],
          [
           "SVT"
          ],
          [
           "HUMAN"
          ],
          [
           "CBG"
          ],
          [
           "BAFS"
          ],
          [
           "NAT"
          ],
          [
           "SEAFCO"
          ],
          [
           "BTS"
          ],
          [
           "TTCL"
          ],
          [
           "TEAM"
          ],
          [
           "BKD"
          ],
          [
           "THANA"
          ],
          [
           "PRIME"
          ],
          [
           "UBE"
          ],
          [
           "TNDT"
          ],
          [
           "CHEWA"
          ],
          [
           "SAWANG"
          ],
          [
           "SEAOIL"
          ],
          [
           "THRE"
          ],
          [
           "NV"
          ],
          [
           "BUI"
          ],
          [
           "TEKA"
          ],
          [
           "TBN"
          ],
          [
           "RATCH"
          ],
          [
           "MCS"
          ],
          [
           "PRIN"
          ],
          [
           "PPS"
          ],
          [
           "TNP"
          ],
          [
           "SYNEX"
          ],
          [
           "CHIC"
          ],
          [
           "SA"
          ],
          [
           "CFARM"
          ],
          [
           "INGRS"
          ],
          [
           "ASW"
          ],
          [
           "LHFG"
          ],
          [
           "LANNA"
          ],
          [
           "FPT"
          ],
          [
           "AAI"
          ],
          [
           "PDG"
          ],
          [
           "TTB"
          ],
          [
           "ASEFA"
          ],
          [
           "COLOR"
          ],
          [
           "YUASA"
          ],
          [
           "NOBLE"
          ],
          [
           "CV"
          ],
          [
           "SE"
          ],
          [
           "PK"
          ],
          [
           "WICE"
          ],
          [
           "GYT"
          ],
          [
           "BCH"
          ],
          [
           "TATG"
          ],
          [
           "UEC"
          ],
          [
           "HL"
          ],
          [
           "CPANEL"
          ],
          [
           "CHARAN"
          ],
          [
           "SAMTEL"
          ],
          [
           "HEALTH"
          ],
          [
           "ALPHAX"
          ],
          [
           "FNS"
          ],
          [
           "TYCN"
          ],
          [
           "AS"
          ],
          [
           "BLA"
          ],
          [
           "KCE"
          ],
          [
           "DV8"
          ],
          [
           "SKY"
          ],
          [
           "QH"
          ],
          [
           "ROH"
          ],
          [
           "TCAP"
          ],
          [
           "WP"
          ],
          [
           "ABM"
          ],
          [
           "CEYE"
          ],
          [
           "THMUI"
          ],
          [
           "SUC"
          ],
          [
           "COMAN"
          ],
          [
           "BTG"
          ],
          [
           "DOHOME"
          ],
          [
           "24CS"
          ],
          [
           "KWM"
          ],
          [
           "PSH"
          ],
          [
           "KJL"
          ],
          [
           "IIG"
          ],
          [
           "ML"
          ],
          [
           "SKR"
          ],
          [
           "BJCHI"
          ],
          [
           "AIE"
          ],
          [
           "FTI"
          ],
          [
           "AIRA"
          ],
          [
           "CFRESH"
          ],
          [
           "RPH"
          ],
          [
           "TPA"
          ],
          [
           "PB"
          ],
          [
           "BEC"
          ],
          [
           "SITHAI"
          ],
          [
           "LIT"
          ],
          [
           "CEN"
          ],
          [
           "ETE"
          ],
          [
           "TWP"
          ],
          [
           "UV"
          ],
          [
           "MATI"
          ],
          [
           "PATO"
          ],
          [
           "ANAN"
          ],
          [
           "TSE"
          ],
          [
           "TVO"
          ],
          [
           "KUN"
          ],
          [
           "PCC"
          ],
          [
           "VRANDA"
          ],
          [
           "GPI"
          ],
          [
           "SCI"
          ],
          [
           "NKI"
          ],
          [
           "BSBM"
          ],
          [
           "PSTC"
          ],
          [
           "JAK"
          ],
          [
           "BE8"
          ],
          [
           "RT"
          ],
          [
           "INSURE"
          ],
          [
           "DUSIT"
          ],
          [
           "PTTGC"
          ],
          [
           "JCK"
          ],
          [
           "BCT"
          ],
          [
           "SPG"
          ],
          [
           "ALLA"
          ],
          [
           "UPF"
          ],
          [
           "SRS"
          ],
          [
           "NFC"
          ],
          [
           "APCO"
          ],
          [
           "KGI"
          ],
          [
           "UNIQ"
          ],
          [
           "SAFE"
          ],
          [
           "EGCO"
          ],
          [
           "PJW"
          ],
          [
           "MBAX"
          ],
          [
           "MTC"
          ],
          [
           "PR9"
          ],
          [
           "GJS"
          ],
          [
           "IHL"
          ],
          [
           "PLE"
          ],
          [
           "CMC"
          ],
          [
           "GRAND"
          ],
          [
           "TLI"
          ],
          [
           "OR"
          ],
          [
           "TPL"
          ],
          [
           "STECON"
          ],
          [
           "BC"
          ],
          [
           "CAZ"
          ],
          [
           "NETBAY"
          ],
          [
           "CHAYO"
          ],
          [
           "BJC"
          ],
          [
           "PL"
          ],
          [
           "ICC"
          ],
          [
           "RBF"
          ],
          [
           "VS"
          ],
          [
           "STOWER"
          ],
          [
           "SGP"
          ],
          [
           "BEYOND"
          ],
          [
           "ASIMAR"
          ],
          [
           "TITLE"
          ],
          [
           "SICT"
          ],
          [
           "SC"
          ],
          [
           "CRD"
          ],
          [
           "CI"
          ],
          [
           "BRI"
          ],
          [
           "MCA"
          ],
          [
           "SMPC"
          ],
          [
           "MAGURO"
          ],
          [
           "PRTR"
          ],
          [
           "RP"
          ],
          [
           "BTNC"
          ],
          [
           "LHK"
          ],
          [
           "MINT"
          ],
          [
           "DELTA"
          ],
          [
           "BSM"
          ],
          [
           "CSP"
          ],
          [
           "COM7"
          ],
          [
           "FE"
          ],
          [
           "KASET"
          ],
          [
           "TRC"
          ],
          [
           "AH"
          ],
          [
           "DOD"
          ],
          [
           "KCC"
          ],
          [
           "IRPC"
          ],
          [
           "TPP"
          ],
          [
           "GREEN"
          ],
          [
           "TRT"
          ],
          [
           "ASIAN"
          ],
          [
           "CHO"
          ],
          [
           "EURO"
          ],
          [
           "ERW"
          ],
          [
           "FN"
          ],
          [
           "SAM"
          ],
          [
           "AKP"
          ],
          [
           "SR"
          ],
          [
           "BROCK"
          ],
          [
           "ETL"
          ],
          [
           "S"
          ],
          [
           "III"
          ],
          [
           "SONIC"
          ],
          [
           "ITNS"
          ],
          [
           "VNG"
          ],
          [
           "XO"
          ],
          [
           "NTV"
          ],
          [
           "MEB"
          ],
          [
           "EPG"
          ],
          [
           "STGT"
          ],
          [
           "WINMED"
          ],
          [
           "AGE"
          ],
          [
           "PRAPAT"
          ],
          [
           "FPI"
          ],
          [
           "SEI"
          ],
          [
           "AMARIN"
          ],
          [
           "FLOYD"
          ],
          [
           "IFS"
          ],
          [
           "RML"
          ],
          [
           "SENX"
          ],
          [
           "AUCT"
          ],
          [
           "CMAN"
          ],
          [
           "UBA"
          ],
          [
           "CHG"
          ],
          [
           "PF"
          ],
          [
           "SAUCE"
          ],
          [
           "UPOIC"
          ],
          [
           "Q-CON"
          ],
          [
           "CHASE"
          ],
          [
           "DRT"
          ],
          [
           "PRM"
          ],
          [
           "TIPCO"
          ],
          [
           "PMC"
          ],
          [
           "INOX"
          ],
          [
           "CIVIL"
          ],
          [
           "TPIPP"
          ],
          [
           "BPS"
          ],
          [
           "STECH"
          ],
          [
           "BBGI"
          ],
          [
           "MILL"
          ],
          [
           "IVL"
          ],
          [
           "OSP"
          ],
          [
           "SABUY"
          ],
          [
           "ALUCON"
          ],
          [
           "PAF"
          ],
          [
           "KIAT"
          ],
          [
           "LEO"
          ],
          [
           "BGRIM"
          ],
          [
           "SENA"
          ],
          [
           "ETC"
          ],
          [
           "LST"
          ],
          [
           "CSR"
          ],
          [
           "SAMART"
          ],
          [
           "PICO"
          ],
          [
           "SSSC"
          ],
          [
           "TPS"
          ],
          [
           "HMPRO"
          ],
          [
           "MTI"
          ],
          [
           "STELLA"
          ],
          [
           "TMW"
          ],
          [
           "TKS"
          ],
          [
           "GC"
          ],
          [
           "HENG"
          ],
          [
           "WIIK"
          ],
          [
           "CPI"
          ],
          [
           "KYE"
          ],
          [
           "SCP"
          ],
          [
           "PREB"
          ],
          [
           "SCG"
          ],
          [
           "NATION"
          ],
          [
           "BIZ"
          ],
          [
           "AMATAV"
          ],
          [
           "SKN"
          ],
          [
           "SALEE"
          ],
          [
           "MBK"
          ],
          [
           "NCL"
          ],
          [
           "WPH"
          ],
          [
           "SSP"
          ],
          [
           "IROYAL"
          ],
          [
           "CWT"
          ],
          [
           "TH"
          ],
          [
           "NYT"
          ],
          [
           "INET"
          ],
          [
           "TTT"
          ],
          [
           "AMANAH"
          ],
          [
           "UKEM"
          ],
          [
           "SABINA"
          ],
          [
           "SANKO"
          ],
          [
           "CPL"
          ],
          [
           "TR"
          ],
          [
           "SPCG"
          ],
          [
           "READY"
          ],
          [
           "CH"
          ],
          [
           "TERA"
          ],
          [
           "TMAN"
          ],
          [
           "SCB"
          ],
          [
           "VPO"
          ],
          [
           "B52"
          ],
          [
           "BOL"
          ],
          [
           "STX"
          ],
          [
           "THE"
          ],
          [
           "GRAMMY"
          ],
          [
           "RJH"
          ],
          [
           "DTCI"
          ],
          [
           "PLT"
          ],
          [
           "NAM"
          ],
          [
           "BM"
          ],
          [
           "SPALI"
          ],
          [
           "KUMWEL"
          ],
          [
           "BH"
          ],
          [
           "BANPU"
          ],
          [
           "JCT"
          ],
          [
           "SRICHA"
          ],
          [
           "TM"
          ],
          [
           "AMARC"
          ],
          [
           "WHAUP"
          ],
          [
           "EVER"
          ],
          [
           "CPN"
          ],
          [
           "A5"
          ],
          [
           "NEO"
          ],
          [
           "JTS"
          ],
          [
           "MITSIB"
          ],
          [
           "TEGH"
          ],
          [
           "METCO"
          ],
          [
           "JSP"
          ],
          [
           "MTW"
          ],
          [
           "EE"
          ],
          [
           "S11"
          ],
          [
           "CGH"
          ],
          [
           "CPW"
          ],
          [
           "SCCC"
          ],
          [
           "MFEC"
          ],
          [
           "BA"
          ],
          [
           "AKS"
          ],
          [
           "PT"
          ],
          [
           "THIP"
          ],
          [
           "CHOW"
          ],
          [
           "NL"
          ],
          [
           "MALEE"
          ],
          [
           "BWG"
          ],
          [
           "ORI"
          ],
          [
           "GTV"
          ],
          [
           "SDC"
          ],
          [
           "TPIPL"
          ],
          [
           "APCS"
          ],
          [
           "COCOCO"
          ],
          [
           "LOXLEY"
          ],
          [
           "BYD"
          ],
          [
           "GPSC"
          ],
          [
           "PTC"
          ],
          [
           "HYDRO"
          ],
          [
           "LH"
          ],
          [
           "TGE"
          ],
          [
           "VL"
          ],
          [
           "DEMCO"
          ],
          [
           "CPF"
          ],
          [
           "AIT"
          ],
          [
           "APURE"
          ],
          [
           "MENA"
          ],
          [
           "NTSC"
          ],
          [
           "PLANB"
          ],
          [
           "KTB"
          ],
          [
           "NNCL"
          ],
          [
           "AQUA"
          ],
          [
           "WHA"
          ],
          [
           "SCAP"
          ],
          [
           "F&D"
          ],
          [
           "FVC"
          ],
          [
           "INSET"
          ],
          [
           "TSTE"
          ],
          [
           "SUN"
          ],
          [
           "CMO"
          ],
          [
           "JPARK"
          ],
          [
           "SE-ED"
          ],
          [
           "SINGER"
          ],
          [
           "TNL"
          ],
          [
           "MSC"
          ],
          [
           "KWC"
          ],
          [
           "SNNP"
          ],
          [
           "OGC"
          ],
          [
           "AFC"
          ],
          [
           "RWI"
          ],
          [
           "EKH"
          ],
          [
           "KWI"
          ],
          [
           "TQR"
          ],
          [
           "CMR"
          ],
          [
           "PRAKIT"
          ],
          [
           "YGG"
          ],
          [
           "FSMART"
          ],
          [
           "CIMBT"
          ],
          [
           "BAY"
          ],
          [
           "D"
          ],
          [
           "SQ"
          ],
          [
           "TSTH"
          ],
          [
           "TPCS"
          ],
          [
           "ANI"
          ],
          [
           "SPACK"
          ],
          [
           "WARRIX"
          ],
          [
           "ADVANC"
          ],
          [
           "KTIS"
          ],
          [
           "PRECHA"
          ],
          [
           "ADD"
          ],
          [
           "BIS"
          ],
          [
           "PEACE"
          ],
          [
           "TFM"
          ],
          [
           "TRITN"
          ],
          [
           "I2"
          ],
          [
           "SPRC"
          ],
          [
           "BLAND"
          ]
         ],
         "hovertemplate": "eps=%{x}<br>pbv=%{y}<br>symbol=%{customdata[0]}<br>Cluster=%{marker.color}<extra></extra>",
         "legendgroup": "",
         "marker": {
          "color": {
           "bdata": "AAAAAAAAAAAAAAAAAAAAAAMAAAAAAAAAAAAAAAAAAAAAAAAAAAAAAAAAAAAAAAAAAAAAAAAAAAAAAAAAAAAAAAAAAAAAAAAAAAAAAAAAAAAAAAAAAAAAAAAAAAAAAAAAAAAAAAAAAAAAAAAAAAAAAAAAAAAAAAAAAAAAAAAAAAAAAAAAAAAAAAAAAAAAAAAAAAAAAAAAAAAAAAAAAAAAAAAAAAAAAAAAAAAAAAAAAAAAAAAAAAAAAAAAAAAAAAAAAAAAAAAAAAAAAAAAAAAAAAAAAAAAAAAAAAAAAAAAAAAAAAAAAAAAAAAAAAAAAAAAAAAAAAAAAAAAAAAAAAAAAAQAAAAAAAAAAAAAAAAAAAAAAAAAAAAAAAMAAAAAAAAAAAAAAAQAAAAAAAAAAwAAAAAAAAAAAAAAAAAAAAAAAAAAAAAAAAAAAAAAAAAAAAAAAAAAAAAAAAAAAAAAAAAAAAAAAAAAAAAAAAAAAAAAAAAAAAAAAAAAAAAAAAAAAAAAAAAAAAAAAAAAAAAAAAAAAAAAAAAAAAAAAAAAAAAAAAAAAAAAAAAAAAAAAAAAAAAAAAAAAAAAAAAAAAAAAAAAAAAAAAAAAAAAAAAAAAAAAAAAAAAAAAAAAAAAAAAAAAAAAAAAAAAAAAAAAAAAAAAAAAAAAAAAAAAAAAAAAAAAAAAAAAAAAAAAAAAAAAAAAAAAAAAAAAAAAAAAAAAAAAAAAAAAAAAAAAAAAAAAAAAAAAAAAAAAAAAAAAAAAAAAAAAAAAAAAAAAAAAAAAAAAAAAAAAAAAAAAAAAAAAAAAAAAAAAAAAABAAAAAAAAAAAAAAAAAAAAAMAAAAAAAAAAAAAAAAAAAAAAAAAAAAAAAAAAAAAAAAAAAAAAAAAAAAAAAAAAAAAAAAAAAAAAAAAAAAAAAAAAAAAAAAAAAAAAAAAAAAAAAAAAAAAAAAAAAAAAAAAAAAAAAAAAAADAAAAAAAAAAAAAAAAAAAAAAAAAAAAAAAAAAAAAAAAAAAAAAAAAAAAAAAAAAAAAAACAAAAAAAAAAAAAAAAAAAAAAAAAAAAAAAAAAAAAAAAAAAAAAAAAAAAAAAAAAAAAAAAAAAAAAAAAAAAAAAAAAAAAAAAAAAAAAAAAAAAAAAAAAAAAAAAAAAAAAAAAAQAAAAAAAAAAAAAAAAAAAAAAAAAAAAAAAAAAAAAAAAAAAAAAAAAAAAAAAAAAAAAAAAAAAAAAAAAAAAAAAAAAAAAAAAAAAAAAAAAAAAEAAAAAAAAAAAAAAAAAAAAAAAAAAAAAAAAAAAAAAAAAAAAAAAAAAAAAAAAAAAAAAAAAAAAAAAAAAAAAAAAAAAAAAAAAAAAAAADAAAAAAAAAAAAAAAAAAAAAAAAAAAAAAAAAAAAAAAAAAAAAAAAAAAAAAAAAAAAAAAAAAAAAAAAAAAAAAAAAAAAAAAAAAAAAAAAAAAAAAAAAAAAAAAAAAAAAAAAAAAAAAAAAAAAAAAAAAAAAAADAAAAAAAAAAAAAAAAAAAAAAAAAAAAAAAEAAAAAAAAAAAAAAAAAAAAAAAAAAAAAAAAAAAAAAAAAAAAAAAAAAAAAAAAAAMAAAAAAAAAAAAAAAAAAAAAAAAAAwAAAAAAAAAAAAAAAAAAAAAAAAAAAAAAAAAAAAAAAAAAAAAAAAAAAAAAAAAAAAAAAAAAAAAAAAAAAAAAAAAAAAAAAAAAAAAAAAAAAAAAAAAAAAAAAAAAAAAAAAAAAAAAAAAAAAAAAAAAAAAAAAAAAAAAAAAAAAAAAAAAAAAAAAAAAAAAAAAAAAAAAAAAAAAAAAAAAAAAAAAAAAAAAAAAAAAAAAAAAAAAAAAAAAAAAAAAAAAAAAAAAAAAAAAAAAAAAAAAAAAAAAAAAAAAAAAAAAAAAAAAAAAAAAAAAAAAAAAAAAAAAAAAAAAAAAAAAAAAAAAAAAAAAAAAAAAAAAAAAAAAAAAAAAAAAAAAAAAAAAAAAAAAAAAAAAAAAAAAAAAAAAAAAAAAAAAAAAAAAAAAAAAAAAAAAAAAAAAAAAAAAAAAAAAAAAAAAAAAAAAAAAAAAAAAAAAAAAAAAAAAAAAAAAAAAAAAAAAAAAAAAAAAAAAAAAAAAAAAAAAAAAAAAAAAAAAAAAAAAAAAAAAAAAAAAAAAAAAAAAAAAAAAAAAAAAADAAAAAAAAAAQAAAAAAAAAAwAAAAAAAAAAAAAAAAAAAAAAAAAAAAAAAAAAAAAAAAAAAAAAAAAAAAAAAAAAAAAAAAAAAAAAAAAAAAAAAAAAAAAAAAAAAAAAAAAAAAAAAAAAAAAAAAAAAAAAAAAAAAAAAwAAAAAAAAAAAAAAAAAAAAAAAAAAAAAAAAAAAAAAAAAAAAAAAAAAAAAAAAAAAAAAAAAAAAAAAAAAAAAAAAAAAAAAAAAAAAAAAAAAAAAAAAAAAAAAAAAAAAAAAAAAAAAAAAAAAAMAAAAAAAAAAAAAAAAAAAAAAAAAAAAAAAAAAAAAAAAAAAAAAAAAAAAAAAAAAAAAAAAAAAAAAAAAAAAAAAAAAAAAAAAAAAAAAAAAAAAAAAAAAAAAAAAAAAAAAAAAAAAAAAAAAAAAAAAAAAAAAAAAAAAEAAAAAAAAAAAAAAAAAAAAAAAAAAAAAAAAAAAAAAAAAAAAAAAAAAAAAAAAAAAAAAAAAAAAAAAAAAAAAAAAAAAAAAAAAAAAAAAAAAAAAwAAAAAAAAAAAAAAAAAAAAAAAAADAAAAAAAAAAAAAAAAAAAAAAAAAAAAAAAAAAAAAAAAAAAAAAAAAAAAAAAAAAAAAAAAAAAAAAAAAAAAAAAAAAAAAAAAAAAAAAAAAAAAAAAAAAAAAAAAAAAAAAAAAAAAAAAAAAAAAAAAAAAAAAAAAAAAAAAAAAAAAAAAAAAAAAAAAAAAAAAAAAAAAAAAAAAAAAAAAAAAAAAAAAAAAAAAAAAAAAAAAAAAAAADAAAAAAAAAAAAAAAAAAAAAAAAAAAAAAAAAAAAAAAAAAAAAAAAAAAAAAAAAAAAAAAAAAAAAAAAAAMAAAAAAAAAAAAAAAAAAAAAAAAAAAAAAAAAAAAAAAAAAAAAAAAAAAAAAAAAAAAAAAAAAAABAAAAAAAAAAAAAAAAAAAAAAAAAAAAAAAAAAAAAAAAAAAAAAAAAAAAAAAAAAAAAAAAAAAAAAAAAAAAAAAAAAAAAAAAAAAAAAAAAAAAAAAAAAAAAAAAAAAAAAAAAAAAAAAAAAAAAAAAAAAAAAAAAAAAAAAAAAAAAAAAAAAAAAAAAAQAAAAAAAAAAAAAAAAAAAAAAAAAAAAAAAAAAAAAAAAAAAAAAAAAAAAAAAAAAAAAAAAAAAAAAAAAAAAAAAAAAAAAAAAAAAAAAAAAAAAAAAAAAAAAAAAAAAAAAAAAAAAAAAAAAAAAAAAAAAAAAAAAAAAAAAAAAAAAAAAAAAAAAAAAAAAAAAAAAAAAAAAAAAAAAAAAAAAAAAAAAAAAAAAAAAAAAAAAAAAAAAAAAAAAAAAAAAAAAAAAAAAAAAAAAAAAAAAAAAAAAAAAAAAAAAAAAAAAAAAAAAAAAAAAAAAAAAAAAAAAAAAAAAAAAAAAAAAAAAAAAAAAAAAAAAAAAAQAAAAAAAAAAAAAAAAAAAAAAAAAAAAAAAAAAAAAAAAAAAAAAAAAAAAAAAAAAAAAAAAAAAAAAAAAAwAAAAAAAAADAAAAAAAAAAAAAAAAAAAAAAAAAAAAAAAEAAAAAAAAAAAAAAAAAAAAAAAAAAAAAAAAAAAAAAAAAAAAAAAAAAAAAAAAAAAAAAAAAAAAAAAAAAAAAAAAAAAAAAAAAAAAAAADAAAAAAAAAAAAAAAAAAAAAAAAAAAAAAAAAAAAAAAAAAAAAAAAAAAAAAAAAAAAAAADAAAAAAAAAAAAAAAAAAAAAAAAAAAAAAAAAAAAAAAAAAAAAAAAAAAAAAAAAAAAAAAAAAAAAAAAAAMAAAAAAAAAAwAAAAAAAAAAAAAAAAAAAAAAAAAAAAAAAAAAAAAAAAAAAAAAAAAAAAAAAAAAAAAABAAAAAAAAAAAAAAAAAAAAAAAAAAAAAAAAAAAAAMAAAAAAAAAAAAAAAAAAAAAAAAAAAAAAAAAAAAAAAAAAAAAAAAAAAAAAAAAAAAAAAAAAAAAAAAAAAAAAAAAAAAAAAAAAAAAAAAAAAAAAAAAAAAAAAAAAAAAAAAAAAAAAAAAAAAAAAAAAAAAAAAAAAAAAAAAAAAAAAAAAAAAAAAAAAAAAAAAAAAAAAAAAAAAAAMAAAAAAAAAAAAAAAAAAAAAAAAAAAAAAAAAAAAAAAAAAAAAAAAAAAAAAAAABAAAAAAAAAAAAAAAAAAAAAAAAAAAAAAAAAAAAAAAAAAAAAAAAAAAAAAAAAAAAAAAAAAAAAAAAAAAAAAAAAAAAAAAAAAAAAAAAAAAAAAAAAAAAAAAAwAAAAAAAAAAAAAAAAAAAAAAAAAAAAAAAAAAAAAAAAAAAAAAAAAAAAAAAAA=",
           "dtype": "i4"
          },
          "coloraxis": "coloraxis",
          "symbol": "circle"
         },
         "mode": "markers",
         "name": "",
         "orientation": "v",
         "showlegend": false,
         "type": "scatter",
         "x": {
          "bdata": "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",
          "dtype": "f8"
         },
         "xaxis": "x",
         "y": {
          "bdata": "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",
          "dtype": "f8"
         },
         "yaxis": "y"
        }
       ],
       "layout": {
        "coloraxis": {
         "colorbar": {
          "title": {
           "text": "Cluster"
          }
         },
         "colorscale": [
          [
           0,
           "#440154"
          ],
          [
           0.1111111111111111,
           "#482878"
          ],
          [
           0.2222222222222222,
           "#3e4989"
          ],
          [
           0.3333333333333333,
           "#31688e"
          ],
          [
           0.4444444444444444,
           "#26828e"
          ],
          [
           0.5555555555555556,
           "#1f9e89"
          ],
          [
           0.6666666666666666,
           "#35b779"
          ],
          [
           0.7777777777777778,
           "#6ece58"
          ],
          [
           0.8888888888888888,
           "#b5de2b"
          ],
          [
           1,
           "#fde725"
          ]
         ]
        },
        "legend": {
         "tracegroupgap": 0
        },
        "template": {
         "data": {
          "bar": [
           {
            "error_x": {
             "color": "#2a3f5f"
            },
            "error_y": {
             "color": "#2a3f5f"
            },
            "marker": {
             "line": {
              "color": "#E5ECF6",
              "width": 0.5
             },
             "pattern": {
              "fillmode": "overlay",
              "size": 10,
              "solidity": 0.2
             }
            },
            "type": "bar"
           }
          ],
          "barpolar": [
           {
            "marker": {
             "line": {
              "color": "#E5ECF6",
              "width": 0.5
             },
             "pattern": {
              "fillmode": "overlay",
              "size": 10,
              "solidity": 0.2
             }
            },
            "type": "barpolar"
           }
          ],
          "carpet": [
           {
            "aaxis": {
             "endlinecolor": "#2a3f5f",
             "gridcolor": "white",
             "linecolor": "white",
             "minorgridcolor": "white",
             "startlinecolor": "#2a3f5f"
            },
            "baxis": {
             "endlinecolor": "#2a3f5f",
             "gridcolor": "white",
             "linecolor": "white",
             "minorgridcolor": "white",
             "startlinecolor": "#2a3f5f"
            },
            "type": "carpet"
           }
          ],
          "choropleth": [
           {
            "colorbar": {
             "outlinewidth": 0,
             "ticks": ""
            },
            "type": "choropleth"
           }
          ],
          "contour": [
           {
            "colorbar": {
             "outlinewidth": 0,
             "ticks": ""
            },
            "colorscale": [
             [
              0,
              "#0d0887"
             ],
             [
              0.1111111111111111,
              "#46039f"
             ],
             [
              0.2222222222222222,
              "#7201a8"
             ],
             [
              0.3333333333333333,
              "#9c179e"
             ],
             [
              0.4444444444444444,
              "#bd3786"
             ],
             [
              0.5555555555555556,
              "#d8576b"
             ],
             [
              0.6666666666666666,
              "#ed7953"
             ],
             [
              0.7777777777777778,
              "#fb9f3a"
             ],
             [
              0.8888888888888888,
              "#fdca26"
             ],
             [
              1,
              "#f0f921"
             ]
            ],
            "type": "contour"
           }
          ],
          "contourcarpet": [
           {
            "colorbar": {
             "outlinewidth": 0,
             "ticks": ""
            },
            "type": "contourcarpet"
           }
          ],
          "heatmap": [
           {
            "colorbar": {
             "outlinewidth": 0,
             "ticks": ""
            },
            "colorscale": [
             [
              0,
              "#0d0887"
             ],
             [
              0.1111111111111111,
              "#46039f"
             ],
             [
              0.2222222222222222,
              "#7201a8"
             ],
             [
              0.3333333333333333,
              "#9c179e"
             ],
             [
              0.4444444444444444,
              "#bd3786"
             ],
             [
              0.5555555555555556,
              "#d8576b"
             ],
             [
              0.6666666666666666,
              "#ed7953"
             ],
             [
              0.7777777777777778,
              "#fb9f3a"
             ],
             [
              0.8888888888888888,
              "#fdca26"
             ],
             [
              1,
              "#f0f921"
             ]
            ],
            "type": "heatmap"
           }
          ],
          "histogram": [
           {
            "marker": {
             "pattern": {
              "fillmode": "overlay",
              "size": 10,
              "solidity": 0.2
             }
            },
            "type": "histogram"
           }
          ],
          "histogram2d": [
           {
            "colorbar": {
             "outlinewidth": 0,
             "ticks": ""
            },
            "colorscale": [
             [
              0,
              "#0d0887"
             ],
             [
              0.1111111111111111,
              "#46039f"
             ],
             [
              0.2222222222222222,
              "#7201a8"
             ],
             [
              0.3333333333333333,
              "#9c179e"
             ],
             [
              0.4444444444444444,
              "#bd3786"
             ],
             [
              0.5555555555555556,
              "#d8576b"
             ],
             [
              0.6666666666666666,
              "#ed7953"
             ],
             [
              0.7777777777777778,
              "#fb9f3a"
             ],
             [
              0.8888888888888888,
              "#fdca26"
             ],
             [
              1,
              "#f0f921"
             ]
            ],
            "type": "histogram2d"
           }
          ],
          "histogram2dcontour": [
           {
            "colorbar": {
             "outlinewidth": 0,
             "ticks": ""
            },
            "colorscale": [
             [
              0,
              "#0d0887"
             ],
             [
              0.1111111111111111,
              "#46039f"
             ],
             [
              0.2222222222222222,
              "#7201a8"
             ],
             [
              0.3333333333333333,
              "#9c179e"
             ],
             [
              0.4444444444444444,
              "#bd3786"
             ],
             [
              0.5555555555555556,
              "#d8576b"
             ],
             [
              0.6666666666666666,
              "#ed7953"
             ],
             [
              0.7777777777777778,
              "#fb9f3a"
             ],
             [
              0.8888888888888888,
              "#fdca26"
             ],
             [
              1,
              "#f0f921"
             ]
            ],
            "type": "histogram2dcontour"
           }
          ],
          "mesh3d": [
           {
            "colorbar": {
             "outlinewidth": 0,
             "ticks": ""
            },
            "type": "mesh3d"
           }
          ],
          "parcoords": [
           {
            "line": {
             "colorbar": {
              "outlinewidth": 0,
              "ticks": ""
             }
            },
            "type": "parcoords"
           }
          ],
          "pie": [
           {
            "automargin": true,
            "type": "pie"
           }
          ],
          "scatter": [
           {
            "fillpattern": {
             "fillmode": "overlay",
             "size": 10,
             "solidity": 0.2
            },
            "type": "scatter"
           }
          ],
          "scatter3d": [
           {
            "line": {
             "colorbar": {
              "outlinewidth": 0,
              "ticks": ""
             }
            },
            "marker": {
             "colorbar": {
              "outlinewidth": 0,
              "ticks": ""
             }
            },
            "type": "scatter3d"
           }
          ],
          "scattercarpet": [
           {
            "marker": {
             "colorbar": {
              "outlinewidth": 0,
              "ticks": ""
             }
            },
            "type": "scattercarpet"
           }
          ],
          "scattergeo": [
           {
            "marker": {
             "colorbar": {
              "outlinewidth": 0,
              "ticks": ""
             }
            },
            "type": "scattergeo"
           }
          ],
          "scattergl": [
           {
            "marker": {
             "colorbar": {
              "outlinewidth": 0,
              "ticks": ""
             }
            },
            "type": "scattergl"
           }
          ],
          "scattermap": [
           {
            "marker": {
             "colorbar": {
              "outlinewidth": 0,
              "ticks": ""
             }
            },
            "type": "scattermap"
           }
          ],
          "scattermapbox": [
           {
            "marker": {
             "colorbar": {
              "outlinewidth": 0,
              "ticks": ""
             }
            },
            "type": "scattermapbox"
           }
          ],
          "scatterpolar": [
           {
            "marker": {
             "colorbar": {
              "outlinewidth": 0,
              "ticks": ""
             }
            },
            "type": "scatterpolar"
           }
          ],
          "scatterpolargl": [
           {
            "marker": {
             "colorbar": {
              "outlinewidth": 0,
              "ticks": ""
             }
            },
            "type": "scatterpolargl"
           }
          ],
          "scatterternary": [
           {
            "marker": {
             "colorbar": {
              "outlinewidth": 0,
              "ticks": ""
             }
            },
            "type": "scatterternary"
           }
          ],
          "surface": [
           {
            "colorbar": {
             "outlinewidth": 0,
             "ticks": ""
            },
            "colorscale": [
             [
              0,
              "#0d0887"
             ],
             [
              0.1111111111111111,
              "#46039f"
             ],
             [
              0.2222222222222222,
              "#7201a8"
             ],
             [
              0.3333333333333333,
              "#9c179e"
             ],
             [
              0.4444444444444444,
              "#bd3786"
             ],
             [
              0.5555555555555556,
              "#d8576b"
             ],
             [
              0.6666666666666666,
              "#ed7953"
             ],
             [
              0.7777777777777778,
              "#fb9f3a"
             ],
             [
              0.8888888888888888,
              "#fdca26"
             ],
             [
              1,
              "#f0f921"
             ]
            ],
            "type": "surface"
           }
          ],
          "table": [
           {
            "cells": {
             "fill": {
              "color": "#EBF0F8"
             },
             "line": {
              "color": "white"
             }
            },
            "header": {
             "fill": {
              "color": "#C8D4E3"
             },
             "line": {
              "color": "white"
             }
            },
            "type": "table"
           }
          ]
         },
         "layout": {
          "annotationdefaults": {
           "arrowcolor": "#2a3f5f",
           "arrowhead": 0,
           "arrowwidth": 1
          },
          "autotypenumbers": "strict",
          "coloraxis": {
           "colorbar": {
            "outlinewidth": 0,
            "ticks": ""
           }
          },
          "colorscale": {
           "diverging": [
            [
             0,
             "#8e0152"
            ],
            [
             0.1,
             "#c51b7d"
            ],
            [
             0.2,
             "#de77ae"
            ],
            [
             0.3,
             "#f1b6da"
            ],
            [
             0.4,
             "#fde0ef"
            ],
            [
             0.5,
             "#f7f7f7"
            ],
            [
             0.6,
             "#e6f5d0"
            ],
            [
             0.7,
             "#b8e186"
            ],
            [
             0.8,
             "#7fbc41"
            ],
            [
             0.9,
             "#4d9221"
            ],
            [
             1,
             "#276419"
            ]
           ],
           "sequential": [
            [
             0,
             "#0d0887"
            ],
            [
             0.1111111111111111,
             "#46039f"
            ],
            [
             0.2222222222222222,
             "#7201a8"
            ],
            [
             0.3333333333333333,
             "#9c179e"
            ],
            [
             0.4444444444444444,
             "#bd3786"
            ],
            [
             0.5555555555555556,
             "#d8576b"
            ],
            [
             0.6666666666666666,
             "#ed7953"
            ],
            [
             0.7777777777777778,
             "#fb9f3a"
            ],
            [
             0.8888888888888888,
             "#fdca26"
            ],
            [
             1,
             "#f0f921"
            ]
           ],
           "sequentialminus": [
            [
             0,
             "#0d0887"
            ],
            [
             0.1111111111111111,
             "#46039f"
            ],
            [
             0.2222222222222222,
             "#7201a8"
            ],
            [
             0.3333333333333333,
             "#9c179e"
            ],
            [
             0.4444444444444444,
             "#bd3786"
            ],
            [
             0.5555555555555556,
             "#d8576b"
            ],
            [
             0.6666666666666666,
             "#ed7953"
            ],
            [
             0.7777777777777778,
             "#fb9f3a"
            ],
            [
             0.8888888888888888,
             "#fdca26"
            ],
            [
             1,
             "#f0f921"
            ]
           ]
          },
          "colorway": [
           "#636efa",
           "#EF553B",
           "#00cc96",
           "#ab63fa",
           "#FFA15A",
           "#19d3f3",
           "#FF6692",
           "#B6E880",
           "#FF97FF",
           "#FECB52"
          ],
          "font": {
           "color": "#2a3f5f"
          },
          "geo": {
           "bgcolor": "white",
           "lakecolor": "white",
           "landcolor": "#E5ECF6",
           "showlakes": true,
           "showland": true,
           "subunitcolor": "white"
          },
          "hoverlabel": {
           "align": "left"
          },
          "hovermode": "closest",
          "mapbox": {
           "style": "light"
          },
          "paper_bgcolor": "white",
          "plot_bgcolor": "#E5ECF6",
          "polar": {
           "angularaxis": {
            "gridcolor": "white",
            "linecolor": "white",
            "ticks": ""
           },
           "bgcolor": "#E5ECF6",
           "radialaxis": {
            "gridcolor": "white",
            "linecolor": "white",
            "ticks": ""
           }
          },
          "scene": {
           "xaxis": {
            "backgroundcolor": "#E5ECF6",
            "gridcolor": "white",
            "gridwidth": 2,
            "linecolor": "white",
            "showbackground": true,
            "ticks": "",
            "zerolinecolor": "white"
           },
           "yaxis": {
            "backgroundcolor": "#E5ECF6",
            "gridcolor": "white",
            "gridwidth": 2,
            "linecolor": "white",
            "showbackground": true,
            "ticks": "",
            "zerolinecolor": "white"
           },
           "zaxis": {
            "backgroundcolor": "#E5ECF6",
            "gridcolor": "white",
            "gridwidth": 2,
            "linecolor": "white",
            "showbackground": true,
            "ticks": "",
            "zerolinecolor": "white"
           }
          },
          "shapedefaults": {
           "line": {
            "color": "#2a3f5f"
           }
          },
          "ternary": {
           "aaxis": {
            "gridcolor": "white",
            "linecolor": "white",
            "ticks": ""
           },
           "baxis": {
            "gridcolor": "white",
            "linecolor": "white",
            "ticks": ""
           },
           "bgcolor": "#E5ECF6",
           "caxis": {
            "gridcolor": "white",
            "linecolor": "white",
            "ticks": ""
           }
          },
          "title": {
           "x": 0.05
          },
          "xaxis": {
           "automargin": true,
           "gridcolor": "white",
           "linecolor": "white",
           "ticks": "",
           "title": {
            "standoff": 15
           },
           "zerolinecolor": "white",
           "zerolinewidth": 2
          },
          "yaxis": {
           "automargin": true,
           "gridcolor": "white",
           "linecolor": "white",
           "ticks": "",
           "title": {
            "standoff": 15
           },
           "zerolinecolor": "white",
           "zerolinewidth": 2
          }
         }
        },
        "title": {
         "text": "📊 Clustered Stocks by EPS & PBV"
        },
        "xaxis": {
         "anchor": "y",
         "domain": [
          0,
          1
         ],
         "title": {
          "text": "eps"
         }
        },
        "yaxis": {
         "anchor": "x",
         "domain": [
          0,
          1
         ],
         "title": {
          "text": "pbv"
         }
        }
       }
      }
     },
     "metadata": {},
     "output_type": "display_data"
    }
   ],
   "source": [
    "import plotly.express as px\n",
    "\n",
    "df_cluster['symbol'] = df_symbol_nonnull.loc[df_cluster.index, 'symbol']\n",
    "\n",
    "fig = px.scatter(\n",
    "    df_cluster,\n",
    "    x='eps',\n",
    "    y='pbv',\n",
    "    color='Cluster',\n",
    "    hover_data=['symbol'],\n",
    "    title='📊 Clustered Stocks by EPS & PBV',\n",
    "    color_continuous_scale='Viridis'\n",
    ")\n",
    "fig.show()\n"
   ]
  },
  {
   "cell_type": "code",
   "execution_count": 33,
   "metadata": {},
   "outputs": [],
   "source": [
    "# ฟีเจอร์ที่ต้องการใช้ (เพิ่มได้ตามที่คุณมี)\n",
    "features = ['eps', 'pbv']  # เพิ่ม roe, de, netmargin, currentratio ได้ถ้ามี\n",
    "df_auto = df_symbol_nonnull[features].dropna().copy()\n",
    "\n",
    "# สเกล\n",
    "scaler = StandardScaler()\n",
    "X_scaled = scaler.fit_transform(df_auto)\n"
   ]
  },
  {
   "cell_type": "code",
   "execution_count": 37,
   "metadata": {},
   "outputs": [
    {
     "data": {
      "text/plain": [
       "<keras.src.callbacks.history.History at 0x2457e01d000>"
      ]
     },
     "execution_count": 37,
     "metadata": {},
     "output_type": "execute_result"
    }
   ],
   "source": [
    "from tensorflow.keras.layers import Input, Dense\n",
    "from tensorflow.keras.models import Model\n",
    "from tensorflow.keras.optimizers import Adam\n",
    "# Input และขนาด latent space\n",
    "input_dim = X_scaled.shape[1]\n",
    "latent_dim = 2  # ลดเหลือ 2 มิติ เพื่อใช้ plot ด้วย\n",
    "\n",
    "# Encoder\n",
    "inputs = Input(shape=(input_dim,))\n",
    "encoded = Dense(8, activation='relu')(inputs)\n",
    "latent = Dense(latent_dim, activation='linear')(encoded)\n",
    "\n",
    "# Decoder\n",
    "decoded = Dense(8, activation='relu')(latent)\n",
    "outputs = Dense(input_dim, activation='linear')(decoded)\n",
    "\n",
    "# Autoencoder Model\n",
    "autoencoder = Model(inputs, outputs)\n",
    "encoder = Model(inputs, latent)  # เราจะใช้ตัวนี้ดึง latent features\n",
    "\n",
    "# Compile & Train\n",
    "autoencoder.compile(optimizer=Adam(learning_rate=0.01), loss='mse')\n",
    "autoencoder.fit(X_scaled, X_scaled, epochs=100, batch_size=16, verbose=0)\n"
   ]
  },
  {
   "cell_type": "code",
   "execution_count": 38,
   "metadata": {},
   "outputs": [
    {
     "name": "stdout",
     "output_type": "stream",
     "text": [
      "\u001b[1m27/27\u001b[0m \u001b[32m━━━━━━━━━━━━━━━━━━━━\u001b[0m\u001b[37m\u001b[0m \u001b[1m0s\u001b[0m 6ms/step\n"
     ]
    }
   ],
   "source": [
    "latent_features = encoder.predict(X_scaled)\n"
   ]
  },
  {
   "cell_type": "code",
   "execution_count": 39,
   "metadata": {},
   "outputs": [],
   "source": [
    "kmeans = KMeans(n_clusters=5, random_state=42)\n",
    "cluster_labels = kmeans.fit_predict(latent_features)\n",
    "\n",
    "# แนบกลับไปที่ DataFrame\n",
    "df_auto['Cluster'] = cluster_labels\n",
    "df_auto['symbol'] = df_symbol_nonnull.loc[df_auto.index, 'symbol']\n"
   ]
  },
  {
   "cell_type": "code",
   "execution_count": 40,
   "metadata": {},
   "outputs": [
    {
     "data": {
      "application/vnd.plotly.v1+json": {
       "config": {
        "plotlyServerURL": "https://plot.ly"
       },
       "data": [
        {
         "customdata": [
          [
           "PPPM"
          ],
          [
           "TPCH"
          ],
          [
           "POLY"
          ],
          [
           "VCOM"
          ],
          [
           "KDH"
          ],
          [
           "NVD"
          ],
          [
           "JDF"
          ],
          [
           "SVR"
          ],
          [
           "SUSCO"
          ],
          [
           "STP"
          ],
          [
           "VGI"
          ],
          [
           "NCP"
          ],
          [
           "EA"
          ],
          [
           "ROJNA"
          ],
          [
           "GLOCON"
          ],
          [
           "KSL"
          ],
          [
           "ASP"
          ],
          [
           "PTECH"
          ],
          [
           "PLUS"
          ],
          [
           "MANRIN"
          ],
          [
           "SIS"
          ],
          [
           "SFT"
          ],
          [
           "CRC"
          ],
          [
           "ADVICE"
          ],
          [
           "SAT"
          ],
          [
           "LEE"
          ],
          [
           "SHR"
          ],
          [
           "PSP"
          ],
          [
           "TAN"
          ],
          [
           "SNPS"
          ],
          [
           "TGH"
          ],
          [
           "TASCO"
          ],
          [
           "NPK"
          ],
          [
           "TPOLY"
          ],
          [
           "AYUD"
          ],
          [
           "CPAXT"
          ],
          [
           "OKJ"
          ],
          [
           "SFLEX"
          ],
          [
           "NWR"
          ],
          [
           "WORK"
          ],
          [
           "TPBI"
          ],
          [
           "PG"
          ],
          [
           "AJ"
          ],
          [
           "MGC"
          ],
          [
           "SIAM"
          ],
          [
           "ITEL"
          ],
          [
           "PCE"
          ],
          [
           "BIOTEC"
          ],
          [
           "TK"
          ],
          [
           "NDR"
          ],
          [
           "LPN"
          ],
          [
           "M"
          ],
          [
           "TIGER"
          ],
          [
           "GBX"
          ],
          [
           "WINDOW"
          ],
          [
           "BIG"
          ],
          [
           "TRP"
          ],
          [
           "PRG"
          ],
          [
           "SNP"
          ],
          [
           "LDC"
          ],
          [
           "SAF"
          ],
          [
           "ASN"
          ],
          [
           "CGD"
          ],
          [
           "RICHY"
          ],
          [
           "PTTEP"
          ],
          [
           "PLAT"
          ],
          [
           "ARROW"
          ],
          [
           "ITD"
          ],
          [
           "KOOL"
          ],
          [
           "TSI"
          ],
          [
           "TFMAMA"
          ],
          [
           "MCOT"
          ],
          [
           "CENTEL"
          ],
          [
           "KBANK"
          ],
          [
           "PCSGH"
          ],
          [
           "SAPPE"
          ],
          [
           "UMS"
          ],
          [
           "SPA"
          ],
          [
           "UOBKH"
          ],
          [
           "SVOA"
          ],
          [
           "MUD"
          ],
          [
           "TNPC"
          ],
          [
           "ILINK"
          ],
          [
           "J"
          ],
          [
           "CM"
          ],
          [
           "META"
          ],
          [
           "TPAC"
          ],
          [
           "SCGP"
          ],
          [
           "IRCP"
          ],
          [
           "RPC"
          ],
          [
           "TSC"
          ],
          [
           "PTG"
          ],
          [
           "MAJOR"
          ],
          [
           "PDJ"
          ],
          [
           "MST"
          ],
          [
           "JCKH"
          ],
          [
           "TOA"
          ],
          [
           "BRR"
          ],
          [
           "PAP"
          ],
          [
           "WAVE"
          ],
          [
           "TVH"
          ],
          [
           "WIN"
          ],
          [
           "ASAP"
          ],
          [
           "WACOAL"
          ],
          [
           "UTP"
          ],
          [
           "UREKA"
          ],
          [
           "ZAA"
          ],
          [
           "AWC"
          ],
          [
           "SMD100"
          ],
          [
           "TWPC"
          ],
          [
           "ASIA"
          ],
          [
           "QTCG"
          ],
          [
           "EFORL"
          ],
          [
           "LALIN"
          ],
          [
           "SOLAR"
          ],
          [
           "RAM"
          ],
          [
           "MGI"
          ],
          [
           "XBIO"
          ],
          [
           "WFX"
          ],
          [
           "SCGD"
          ],
          [
           "FANCY"
          ],
          [
           "TTW"
          ],
          [
           "FORTH"
          ],
          [
           "KEX"
          ],
          [
           "DCON"
          ],
          [
           "EMC"
          ],
          [
           "AF"
          ],
          [
           "ITC"
          ],
          [
           "TEAMG"
          ],
          [
           "MFC"
          ],
          [
           "AHC"
          ],
          [
           "KCG"
          ],
          [
           "DMT"
          ],
          [
           "PERM"
          ],
          [
           "PMTA"
          ],
          [
           "APO"
          ],
          [
           "KCAR"
          ],
          [
           "NEX"
          ],
          [
           "ACE"
          ],
          [
           "WGE"
          ],
          [
           "STI"
          ],
          [
           "ROCTEC"
          ],
          [
           "GUNKUL"
          ],
          [
           "TCMC"
          ],
          [
           "NOVA"
          ],
          [
           "PHG"
          ],
          [
           "UAC"
          ],
          [
           "NKT"
          ],
          [
           "GFPT"
          ],
          [
           "CCP"
          ],
          [
           "BBIK"
          ],
          [
           "GCAP"
          ],
          [
           "M-CHAI"
          ],
          [
           "TOPP"
          ],
          [
           "NSL"
          ],
          [
           "ALT"
          ],
          [
           "YONG"
          ],
          [
           "SCC"
          ],
          [
           "PORT"
          ],
          [
           "AMR"
          ],
          [
           "MASTER"
          ],
          [
           "KGEN"
          ],
          [
           "CPH"
          ],
          [
           "UP"
          ],
          [
           "BVG"
          ],
          [
           "SKE"
          ],
          [
           "TGPRO"
          ],
          [
           "TRU"
          ],
          [
           "SO"
          ],
          [
           "TIDLOR"
          ],
          [
           "IP"
          ],
          [
           "BTW"
          ],
          [
           "SAK"
          ],
          [
           "HARN"
          ],
          [
           "IRC"
          ],
          [
           "SUTHA"
          ],
          [
           "TAKUNI"
          ],
          [
           "ONEE"
          ],
          [
           "CPALL"
          ],
          [
           "TNITY"
          ],
          [
           "SYMC"
          ],
          [
           "BEM"
          ],
          [
           "KKP"
          ],
          [
           "ESTAR"
          ],
          [
           "VIBHA"
          ],
          [
           "SISB"
          ],
          [
           "CKP"
          ],
          [
           "PTL"
          ],
          [
           "PYLON"
          ],
          [
           "B"
          ],
          [
           "JUBILE"
          ],
          [
           "MJD"
          ],
          [
           "KCM"
          ],
          [
           "GLAND"
          ],
          [
           "CSC"
          ],
          [
           "FM"
          ],
          [
           "XPG"
          ],
          [
           "THANI"
          ],
          [
           "S&J"
          ],
          [
           "HTC"
          ],
          [
           "BCPG"
          ],
          [
           "IT"
          ],
          [
           "FSX"
          ],
          [
           "TU"
          ],
          [
           "MATCH"
          ],
          [
           "TPLAS"
          ],
          [
           "KISS"
          ],
          [
           "DITTO"
          ],
          [
           "PACO"
          ],
          [
           "MIDA"
          ],
          [
           "TNR"
          ],
          [
           "MDX"
          ],
          [
           "SWC"
          ],
          [
           "SK"
          ],
          [
           "DTCENT"
          ],
          [
           "SINO"
          ],
          [
           "AAV"
          ],
          [
           "BKIH"
          ],
          [
           "BEAUTY"
          ],
          [
           "MONO"
          ],
          [
           "GGC"
          ],
          [
           "HFT"
          ],
          [
           "WINNER"
          ],
          [
           "BR"
          ],
          [
           "CCET"
          ],
          [
           "ZEN"
          ],
          [
           "BSRC"
          ],
          [
           "KTMS"
          ],
          [
           "JMART"
          ],
          [
           "NEWS"
          ],
          [
           "TAE"
          ],
          [
           "IND"
          ],
          [
           "JAS"
          ],
          [
           "CTW"
          ],
          [
           "TCJ"
          ],
          [
           "GLORY"
          ],
          [
           "STANLY"
          ],
          [
           "STPI"
          ],
          [
           "TVT"
          ],
          [
           "SJWD"
          ],
          [
           "GENCO"
          ],
          [
           "HPT"
          ],
          [
           "CITY"
          ],
          [
           "SM"
          ],
          [
           "SAWAD"
          ],
          [
           "GABLE"
          ],
          [
           "LPH"
          ],
          [
           "SPREME"
          ],
          [
           "SCN"
          ],
          [
           "MOONG"
          ],
          [
           "MOSHI"
          ],
          [
           "PANEL"
          ],
          [
           "SIRI"
          ],
          [
           "ATP30"
          ],
          [
           "NEW"
          ],
          [
           "NCH"
          ],
          [
           "MC"
          ],
          [
           "DHOUSE"
          ],
          [
           "ACG"
          ],
          [
           "CIG"
          ],
          [
           "DEXON"
          ],
          [
           "BPP"
          ],
          [
           "APP"
          ],
          [
           "STC"
          ],
          [
           "UMI"
          ],
          [
           "CHAO"
          ],
          [
           "RSP"
          ],
          [
           "KK"
          ],
          [
           "CHOTI"
          ],
          [
           "PIMO"
          ],
          [
           "SECURE"
          ],
          [
           "PQS"
          ],
          [
           "TFG"
          ],
          [
           "MVP"
          ],
          [
           "ASK"
          ],
          [
           "PLANET"
          ],
          [
           "BCP"
          ],
          [
           "SLP"
          ],
          [
           "TMILL"
          ],
          [
           "SHANG"
          ],
          [
           "ITTHI"
          ],
          [
           "SPC"
          ],
          [
           "K"
          ],
          [
           "SGC"
          ],
          [
           "DDD"
          ],
          [
           "FTE"
          ],
          [
           "TKC"
          ],
          [
           "OHTL"
          ],
          [
           "TWZ"
          ],
          [
           "IVF"
          ],
          [
           "MGT"
          ],
          [
           "ILM"
          ],
          [
           "BLESS"
          ],
          [
           "FMT"
          ],
          [
           "PHOL"
          ],
          [
           "PTT"
          ],
          [
           "SCM"
          ],
          [
           "TURTLE"
          ],
          [
           "LRH"
          ],
          [
           "OCC"
          ],
          [
           "TMI"
          ],
          [
           "CNT"
          ],
          [
           "UBIS"
          ],
          [
           "TISCO"
          ],
          [
           "TMT"
          ],
          [
           "TFI"
          ],
          [
           "SMART"
          ],
          [
           "L&E"
          ],
          [
           "NEP"
          ],
          [
           "AOT"
          ],
          [
           "PEER"
          ],
          [
           "PIN"
          ],
          [
           "SUPER"
          ],
          [
           "RABBIT"
          ],
          [
           "VIH"
          ],
          [
           "SELIC"
          ],
          [
           "DPAINT"
          ],
          [
           "THG"
          ],
          [
           "HTECH"
          ],
          [
           "SMT"
          ],
          [
           "DCC"
          ],
          [
           "EP"
          ],
          [
           "NC"
          ],
          [
           "GLOBAL"
          ],
          [
           "AE"
          ],
          [
           "MEGA"
          ],
          [
           "SNC"
          ],
          [
           "SAV"
          ],
          [
           "AP"
          ],
          [
           "TQM"
          ],
          [
           "ADB"
          ],
          [
           "AURA"
          ],
          [
           "ROCK"
          ],
          [
           "HANA"
          ],
          [
           "TRV"
          ],
          [
           "PSG"
          ],
          [
           "AKR"
          ],
          [
           "PIS"
          ],
          [
           "SYNTEC"
          ],
          [
           "THCOM"
          ],
          [
           "BTC"
          ],
          [
           "KLINIQ"
          ],
          [
           "NCAP"
          ],
          [
           "GEL"
          ],
          [
           "MICRO"
          ],
          [
           "CSS"
          ],
          [
           "ECF"
          ],
          [
           "STA"
          ],
          [
           "RS"
          ],
          [
           "SGF"
          ],
          [
           "CRANE"
          ],
          [
           "CK"
          ],
          [
           "BDMS"
          ],
          [
           "BGC"
          ],
          [
           "MORE"
          ],
          [
           "ZIGA"
          ],
          [
           "TOP"
          ],
          [
           "BAM"
          ],
          [
           "BKGI"
          ],
          [
           "SPVI"
          ],
          [
           "ICHI"
          ],
          [
           "SST"
          ],
          [
           "KTC"
          ],
          [
           "MK"
          ],
          [
           "PROS"
          ],
          [
           "SAAM"
          ],
          [
           "EASON"
          ],
          [
           "TTI"
          ],
          [
           "TACC"
          ],
          [
           "PM"
          ],
          [
           "DIMET"
          ],
          [
           "QLT"
          ],
          [
           "LTS"
          ],
          [
           "AJA"
          ],
          [
           "QTC"
          ],
          [
           "KAMART"
          ],
          [
           "TOG"
          ],
          [
           "SMIT"
          ],
          [
           "PROEN"
          ],
          [
           "BGT"
          ],
          [
           "PSL"
          ],
          [
           "JMT"
          ],
          [
           "VARO"
          ],
          [
           "SORKON"
          ],
          [
           "PROUD"
          ],
          [
           "NER"
          ],
          [
           "MODERN"
          ],
          [
           "SVI"
          ],
          [
           "ACC"
          ],
          [
           "GFC"
          ],
          [
           "PPP"
          ],
          [
           "CPR"
          ],
          [
           "AMC"
          ],
          [
           "TCC"
          ],
          [
           "MPJ"
          ],
          [
           "ARIN"
          ],
          [
           "TKT"
          ],
          [
           "TSR"
          ],
          [
           "SAMCO"
          ],
          [
           "2S"
          ],
          [
           "JR"
          ],
          [
           "KC"
          ],
          [
           "NRF"
          ],
          [
           "EASTW"
          ],
          [
           "TKN"
          ],
          [
           "SSF"
          ],
          [
           "SIMAT"
          ],
          [
           "RCL"
          ],
          [
           "TMC"
          ],
          [
           "BBL"
          ],
          [
           "MEDEZE"
          ],
          [
           "SPI"
          ],
          [
           "UVAN"
          ],
          [
           "ARIP"
          ],
          [
           "TRUBB"
          ],
          [
           "CPT"
          ],
          [
           "PRI"
          ],
          [
           "CREDIT"
          ],
          [
           "ORN"
          ],
          [
           "AU"
          ],
          [
           "INTUCH"
          ],
          [
           "TIPH"
          ],
          [
           "IMH"
          ],
          [
           "KBS"
          ],
          [
           "BLC"
          ],
          [
           "TCOAT"
          ],
          [
           "TTA"
          ],
          [
           "THREL"
          ],
          [
           "TVDH"
          ],
          [
           "TMD"
          ],
          [
           "TC"
          ],
          [
           "PPM"
          ],
          [
           "PRINC"
          ],
          [
           "A"
          ],
          [
           "AMA"
          ],
          [
           "AEONTS"
          ],
          [
           "TNH"
          ],
          [
           "GTB"
          ],
          [
           "SCL"
          ],
          [
           "ICN"
          ],
          [
           "AMATA"
          ],
          [
           "SVT"
          ],
          [
           "HUMAN"
          ],
          [
           "CBG"
          ],
          [
           "BAFS"
          ],
          [
           "NAT"
          ],
          [
           "SEAFCO"
          ],
          [
           "BTS"
          ],
          [
           "TTCL"
          ],
          [
           "TEAM"
          ],
          [
           "BKD"
          ],
          [
           "THANA"
          ],
          [
           "PRIME"
          ],
          [
           "UBE"
          ],
          [
           "TNDT"
          ],
          [
           "CHEWA"
          ],
          [
           "SAWANG"
          ],
          [
           "SEAOIL"
          ],
          [
           "THRE"
          ],
          [
           "NV"
          ],
          [
           "BUI"
          ],
          [
           "TEKA"
          ],
          [
           "TBN"
          ],
          [
           "RATCH"
          ],
          [
           "MCS"
          ],
          [
           "PRIN"
          ],
          [
           "PPS"
          ],
          [
           "TNP"
          ],
          [
           "SYNEX"
          ],
          [
           "CHIC"
          ],
          [
           "SA"
          ],
          [
           "CFARM"
          ],
          [
           "INGRS"
          ],
          [
           "ASW"
          ],
          [
           "LHFG"
          ],
          [
           "LANNA"
          ],
          [
           "FPT"
          ],
          [
           "AAI"
          ],
          [
           "PDG"
          ],
          [
           "TTB"
          ],
          [
           "ASEFA"
          ],
          [
           "COLOR"
          ],
          [
           "YUASA"
          ],
          [
           "NOBLE"
          ],
          [
           "CV"
          ],
          [
           "SE"
          ],
          [
           "PK"
          ],
          [
           "WICE"
          ],
          [
           "GYT"
          ],
          [
           "BCH"
          ],
          [
           "TATG"
          ],
          [
           "UEC"
          ],
          [
           "HL"
          ],
          [
           "CPANEL"
          ],
          [
           "CHARAN"
          ],
          [
           "SAMTEL"
          ],
          [
           "HEALTH"
          ],
          [
           "ALPHAX"
          ],
          [
           "FNS"
          ],
          [
           "TYCN"
          ],
          [
           "AS"
          ],
          [
           "BLA"
          ],
          [
           "KCE"
          ],
          [
           "DV8"
          ],
          [
           "SKY"
          ],
          [
           "QH"
          ],
          [
           "ROH"
          ],
          [
           "TCAP"
          ],
          [
           "WP"
          ],
          [
           "ABM"
          ],
          [
           "CEYE"
          ],
          [
           "THMUI"
          ],
          [
           "SUC"
          ],
          [
           "COMAN"
          ],
          [
           "BTG"
          ],
          [
           "DOHOME"
          ],
          [
           "24CS"
          ],
          [
           "KWM"
          ],
          [
           "PSH"
          ],
          [
           "KJL"
          ],
          [
           "IIG"
          ],
          [
           "ML"
          ],
          [
           "SKR"
          ],
          [
           "BJCHI"
          ],
          [
           "AIE"
          ],
          [
           "FTI"
          ],
          [
           "AIRA"
          ],
          [
           "CFRESH"
          ],
          [
           "RPH"
          ],
          [
           "TPA"
          ],
          [
           "PB"
          ],
          [
           "BEC"
          ],
          [
           "SITHAI"
          ],
          [
           "LIT"
          ],
          [
           "CEN"
          ],
          [
           "ETE"
          ],
          [
           "TWP"
          ],
          [
           "UV"
          ],
          [
           "MATI"
          ],
          [
           "PATO"
          ],
          [
           "ANAN"
          ],
          [
           "TSE"
          ],
          [
           "TVO"
          ],
          [
           "KUN"
          ],
          [
           "PCC"
          ],
          [
           "VRANDA"
          ],
          [
           "GPI"
          ],
          [
           "SCI"
          ],
          [
           "NKI"
          ],
          [
           "BSBM"
          ],
          [
           "PSTC"
          ],
          [
           "JAK"
          ],
          [
           "BE8"
          ],
          [
           "RT"
          ],
          [
           "INSURE"
          ],
          [
           "DUSIT"
          ],
          [
           "PTTGC"
          ],
          [
           "JCK"
          ],
          [
           "BCT"
          ],
          [
           "SPG"
          ],
          [
           "ALLA"
          ],
          [
           "UPF"
          ],
          [
           "SRS"
          ],
          [
           "NFC"
          ],
          [
           "APCO"
          ],
          [
           "KGI"
          ],
          [
           "UNIQ"
          ],
          [
           "SAFE"
          ],
          [
           "EGCO"
          ],
          [
           "PJW"
          ],
          [
           "MBAX"
          ],
          [
           "MTC"
          ],
          [
           "PR9"
          ],
          [
           "GJS"
          ],
          [
           "IHL"
          ],
          [
           "PLE"
          ],
          [
           "CMC"
          ],
          [
           "GRAND"
          ],
          [
           "TLI"
          ],
          [
           "OR"
          ],
          [
           "TPL"
          ],
          [
           "STECON"
          ],
          [
           "BC"
          ],
          [
           "CAZ"
          ],
          [
           "NETBAY"
          ],
          [
           "CHAYO"
          ],
          [
           "BJC"
          ],
          [
           "PL"
          ],
          [
           "ICC"
          ],
          [
           "RBF"
          ],
          [
           "VS"
          ],
          [
           "STOWER"
          ],
          [
           "SGP"
          ],
          [
           "BEYOND"
          ],
          [
           "ASIMAR"
          ],
          [
           "TITLE"
          ],
          [
           "SICT"
          ],
          [
           "SC"
          ],
          [
           "CRD"
          ],
          [
           "CI"
          ],
          [
           "BRI"
          ],
          [
           "MCA"
          ],
          [
           "SMPC"
          ],
          [
           "MAGURO"
          ],
          [
           "PRTR"
          ],
          [
           "RP"
          ],
          [
           "BTNC"
          ],
          [
           "LHK"
          ],
          [
           "MINT"
          ],
          [
           "DELTA"
          ],
          [
           "BSM"
          ],
          [
           "CSP"
          ],
          [
           "COM7"
          ],
          [
           "FE"
          ],
          [
           "KASET"
          ],
          [
           "TRC"
          ],
          [
           "AH"
          ],
          [
           "DOD"
          ],
          [
           "KCC"
          ],
          [
           "IRPC"
          ],
          [
           "TPP"
          ],
          [
           "GREEN"
          ],
          [
           "TRT"
          ],
          [
           "ASIAN"
          ],
          [
           "CHO"
          ],
          [
           "EURO"
          ],
          [
           "ERW"
          ],
          [
           "FN"
          ],
          [
           "SAM"
          ],
          [
           "AKP"
          ],
          [
           "SR"
          ],
          [
           "BROCK"
          ],
          [
           "ETL"
          ],
          [
           "S"
          ],
          [
           "III"
          ],
          [
           "SONIC"
          ],
          [
           "ITNS"
          ],
          [
           "VNG"
          ],
          [
           "XO"
          ],
          [
           "NTV"
          ],
          [
           "MEB"
          ],
          [
           "EPG"
          ],
          [
           "STGT"
          ],
          [
           "WINMED"
          ],
          [
           "AGE"
          ],
          [
           "PRAPAT"
          ],
          [
           "FPI"
          ],
          [
           "SEI"
          ],
          [
           "AMARIN"
          ],
          [
           "FLOYD"
          ],
          [
           "IFS"
          ],
          [
           "RML"
          ],
          [
           "SENX"
          ],
          [
           "AUCT"
          ],
          [
           "CMAN"
          ],
          [
           "UBA"
          ],
          [
           "CHG"
          ],
          [
           "PF"
          ],
          [
           "SAUCE"
          ],
          [
           "UPOIC"
          ],
          [
           "Q-CON"
          ],
          [
           "CHASE"
          ],
          [
           "DRT"
          ],
          [
           "PRM"
          ],
          [
           "TIPCO"
          ],
          [
           "PMC"
          ],
          [
           "INOX"
          ],
          [
           "CIVIL"
          ],
          [
           "TPIPP"
          ],
          [
           "BPS"
          ],
          [
           "STECH"
          ],
          [
           "BBGI"
          ],
          [
           "MILL"
          ],
          [
           "IVL"
          ],
          [
           "OSP"
          ],
          [
           "SABUY"
          ],
          [
           "ALUCON"
          ],
          [
           "PAF"
          ],
          [
           "KIAT"
          ],
          [
           "LEO"
          ],
          [
           "BGRIM"
          ],
          [
           "SENA"
          ],
          [
           "ETC"
          ],
          [
           "LST"
          ],
          [
           "CSR"
          ],
          [
           "SAMART"
          ],
          [
           "PICO"
          ],
          [
           "SSSC"
          ],
          [
           "TPS"
          ],
          [
           "HMPRO"
          ],
          [
           "MTI"
          ],
          [
           "STELLA"
          ],
          [
           "TMW"
          ],
          [
           "TKS"
          ],
          [
           "GC"
          ],
          [
           "HENG"
          ],
          [
           "WIIK"
          ],
          [
           "CPI"
          ],
          [
           "KYE"
          ],
          [
           "SCP"
          ],
          [
           "PREB"
          ],
          [
           "SCG"
          ],
          [
           "NATION"
          ],
          [
           "BIZ"
          ],
          [
           "AMATAV"
          ],
          [
           "SKN"
          ],
          [
           "SALEE"
          ],
          [
           "MBK"
          ],
          [
           "NCL"
          ],
          [
           "WPH"
          ],
          [
           "SSP"
          ],
          [
           "IROYAL"
          ],
          [
           "CWT"
          ],
          [
           "TH"
          ],
          [
           "NYT"
          ],
          [
           "INET"
          ],
          [
           "TTT"
          ],
          [
           "AMANAH"
          ],
          [
           "UKEM"
          ],
          [
           "SABINA"
          ],
          [
           "SANKO"
          ],
          [
           "CPL"
          ],
          [
           "TR"
          ],
          [
           "SPCG"
          ],
          [
           "READY"
          ],
          [
           "CH"
          ],
          [
           "TERA"
          ],
          [
           "TMAN"
          ],
          [
           "SCB"
          ],
          [
           "VPO"
          ],
          [
           "B52"
          ],
          [
           "BOL"
          ],
          [
           "STX"
          ],
          [
           "THE"
          ],
          [
           "GRAMMY"
          ],
          [
           "RJH"
          ],
          [
           "DTCI"
          ],
          [
           "PLT"
          ],
          [
           "NAM"
          ],
          [
           "BM"
          ],
          [
           "SPALI"
          ],
          [
           "KUMWEL"
          ],
          [
           "BH"
          ],
          [
           "BANPU"
          ],
          [
           "JCT"
          ],
          [
           "SRICHA"
          ],
          [
           "TM"
          ],
          [
           "AMARC"
          ],
          [
           "WHAUP"
          ],
          [
           "EVER"
          ],
          [
           "CPN"
          ],
          [
           "A5"
          ],
          [
           "NEO"
          ],
          [
           "JTS"
          ],
          [
           "MITSIB"
          ],
          [
           "TEGH"
          ],
          [
           "METCO"
          ],
          [
           "JSP"
          ],
          [
           "MTW"
          ],
          [
           "EE"
          ],
          [
           "S11"
          ],
          [
           "CGH"
          ],
          [
           "CPW"
          ],
          [
           "SCCC"
          ],
          [
           "MFEC"
          ],
          [
           "BA"
          ],
          [
           "AKS"
          ],
          [
           "PT"
          ],
          [
           "THIP"
          ],
          [
           "CHOW"
          ],
          [
           "NL"
          ],
          [
           "MALEE"
          ],
          [
           "BWG"
          ],
          [
           "ORI"
          ],
          [
           "GTV"
          ],
          [
           "SDC"
          ],
          [
           "TPIPL"
          ],
          [
           "APCS"
          ],
          [
           "COCOCO"
          ],
          [
           "LOXLEY"
          ],
          [
           "BYD"
          ],
          [
           "GPSC"
          ],
          [
           "PTC"
          ],
          [
           "HYDRO"
          ],
          [
           "LH"
          ],
          [
           "TGE"
          ],
          [
           "VL"
          ],
          [
           "DEMCO"
          ],
          [
           "CPF"
          ],
          [
           "AIT"
          ],
          [
           "APURE"
          ],
          [
           "MENA"
          ],
          [
           "NTSC"
          ],
          [
           "PLANB"
          ],
          [
           "KTB"
          ],
          [
           "NNCL"
          ],
          [
           "AQUA"
          ],
          [
           "WHA"
          ],
          [
           "SCAP"
          ],
          [
           "F&D"
          ],
          [
           "FVC"
          ],
          [
           "INSET"
          ],
          [
           "TSTE"
          ],
          [
           "SUN"
          ],
          [
           "CMO"
          ],
          [
           "JPARK"
          ],
          [
           "SE-ED"
          ],
          [
           "SINGER"
          ],
          [
           "TNL"
          ],
          [
           "MSC"
          ],
          [
           "KWC"
          ],
          [
           "SNNP"
          ],
          [
           "OGC"
          ],
          [
           "AFC"
          ],
          [
           "RWI"
          ],
          [
           "EKH"
          ],
          [
           "KWI"
          ],
          [
           "TQR"
          ],
          [
           "CMR"
          ],
          [
           "PRAKIT"
          ],
          [
           "YGG"
          ],
          [
           "FSMART"
          ],
          [
           "CIMBT"
          ],
          [
           "BAY"
          ],
          [
           "D"
          ],
          [
           "SQ"
          ],
          [
           "TSTH"
          ],
          [
           "TPCS"
          ],
          [
           "ANI"
          ],
          [
           "SPACK"
          ],
          [
           "WARRIX"
          ],
          [
           "ADVANC"
          ],
          [
           "KTIS"
          ],
          [
           "PRECHA"
          ],
          [
           "ADD"
          ],
          [
           "BIS"
          ],
          [
           "PEACE"
          ],
          [
           "TFM"
          ],
          [
           "TRITN"
          ],
          [
           "I2"
          ],
          [
           "SPRC"
          ],
          [
           "BLAND"
          ]
         ],
         "hovertemplate": "z1=%{x}<br>z2=%{y}<br>symbol=%{customdata[0]}<br>Cluster=%{marker.color}<extra></extra>",
         "legendgroup": "",
         "marker": {
          "color": {
           "bdata": "AAAAAAAAAAAAAAAAAAAAAAQAAAAAAAAAAAAAAAAAAAAAAAAAAAAAAAAAAAAAAAAAAAAAAAAAAAAAAAAAAAAAAAAAAAAAAAAAAAAAAAAAAAAAAAAAAAAAAAAAAAAAAAAAAAAAAAAAAAAAAAAAAAAAAAAAAAAAAAAAAAAAAAAAAAAAAAAAAAAAAAAAAAAAAAAAAAAAAAAAAAAAAAAAAAAAAAAAAAAAAAAAAAAAAAAAAAAAAAAAAAAAAAAAAAAAAAAAAAAAAAAAAAAAAAAAAAAAAAAAAAAAAAAAAAAAAAAAAAAAAAAAAAAAAAAAAAAAAAAAAAAAAAAAAAAAAAAAAAAAAAMAAAAAAAAAAAAAAAAAAAAAAAAAAAAAAAMAAAAAAAAAAAAAAAMAAAAAAAAABAAAAAAAAAAAAAAAAAAAAAAAAAAAAAAAAAAAAAAAAAAAAAAAAAAAAAAAAAAAAAAAAAAAAAAAAAAAAAAAAAAAAAAAAAAAAAAAAAAAAAAAAAAAAAAAAAAAAAAAAAAAAAAAAAAAAAAAAAAAAAAAAAAAAAAAAAAAAAAAAAAAAAAAAAAAAAAAAAAAAAAAAAAAAAAAAAAAAAAAAAAAAAAAAAAAAAAAAAAAAAAAAAAAAAAAAAAAAAAAAAAAAAAAAAAAAAAAAAAAAAAAAAAAAAAAAAAAAAAAAAAAAAAAAAAAAAAAAAAAAAAAAAAAAAAAAAAAAAAAAAAAAAAAAAAAAAAAAAAAAAAAAAAAAAAAAAAAAAAAAAAAAAAAAAAAAAAAAAAAAAAAAAAAAAAAAAAAAAAAAAAAAAAAAAAAAAAAAwAAAAAAAAAAAAAAAAAAAAQAAAAAAAAAAAAAAAAAAAAAAAAAAAAAAAAAAAAAAAAAAAAAAAAAAAAAAAAAAAAAAAAAAAAAAAAAAAAAAAAAAAAAAAAAAAAAAAAAAAAAAAAAAAAAAAAAAAAAAAAAAAAAAAAAAAAEAAAAAAAAAAAAAAAAAAAAAAAAAAAAAAAAAAAAAAAAAAAAAAAAAAAAAAAAAAAAAAACAAAAAAAAAAAAAAAAAAAAAAAAAAAAAAAAAAAAAAAAAAAAAAAAAAAAAAAAAAAAAAAAAAAAAAAAAAAAAAAAAAAAAAAAAAAAAAAAAAAAAAAAAAAAAAAAAAAAAAAAAAMAAAAAAAAAAAAAAAAAAAAAAAAAAAAAAAAAAAAAAAAAAAAAAAAAAAAAAAAAAAAAAAAAAAAAAAAAAAAAAAAAAAAAAAAAAAAAAAAAAAADAAAAAAAAAAAAAAAAAAAAAAAAAAAAAAAAAAAAAAAAAAAAAAAAAAAAAAAAAAAAAAAAAAAAAAAAAAAAAAAAAAAAAAAAAAAAAAAEAAAAAAAAAAAAAAAAAAAAAAAAAAAAAAAAAAAAAAAAAAAAAAAAAAAAAAAAAAAAAAAAAAAAAAAAAAAAAAAAAAAAAAAAAAAAAAAAAAAAAAAAAAAAAAAAAAAAAAAAAAAAAAAAAAAAAAAAAAAAAAAEAAAAAAAAAAAAAAAAAAAAAAAAAAAAAAADAAAAAAAAAAAAAAAAAAAAAAAAAAAAAAAAAAAAAAAAAAQAAAAAAAAAAAAAAAQAAAAAAAAAAAAAAAAAAAAAAAAABAAAAAAAAAAAAAAAAAAAAAAAAAAAAAAAAAAAAAAAAAAAAAAAAAAAAAAAAAAAAAAAAAAAAAAAAAAAAAAAAAAAAAAAAAAAAAAAAAAAAAAAAAAAAAAAAAAAAAAAAAAAAAAAAAAAAAAAAAAAAAAAAAAAAAAAAAAAAAAAAAAAAAAAAAAAAAAAAAAAAAAAAAAAAAAAAAAAAAAAAAAAAAAAAAAAAAAAAAAAAAAAAAAAAAAAAAAAAAAAAAAAAAAAAAAAAAAAAAAAAAAAAAAAAAAAAAAAAAAAAAAEAAAAAAAAAAAAAAAAAAAAAAAAAAAAAAAAAAAAAAAAAAAAAAAAAAAAAAAAAAAAAAAAAAAAAAAAAAAAAAAAAAAAAAAAAAAAAAAAAAAAAAAAAAAAAAAAAAAAAAAAAAAAAAAAAAAAAAAAAAAAAAAAAAAAAAAAAAAAAAAAAAAAAAAAAAAAAAAAAAAAAAAAAAAAAAAAAAAAAAAAAAAAAAAAAAAAAAAAAAAAAAAAAAAAAAAAAAAAAAAAAAAAAAAAAAAAAAAAAAAAAAAAAAAAAAAEAAAAAAAAAAMAAAAAAAAABAAAAAAAAAAAAAAAAAAAAAAAAAAAAAAAAAAAAAAAAAAAAAAABAAAAAAAAAAAAAAAAAAAAAAAAAAAAAAAAAAAAAAAAAAAAAAAAAAAAAAAAAAAAAAAAAAAAAAAAAAAAAAABAAAAAAAAAAAAAAAAAAAAAAAAAAAAAAAAAAAAAAAAAAAAAAAAAAAAAAAAAAAAAAAAAAAAAAAAAAAAAAAAAAAAAAAAAAAAAAAAAAAAAAAAAAAAAAAAAAAAAAAAAAAAAAAAAAAAAQAAAAAAAAAAAAAAAAAAAAAAAAAAAAAAAAAAAAAAAAAAAAAAAAAAAAAAAAAAAAAAAAAAAAAAAAAAAAAAAAAAAAAAAAAAAAAAAAAAAAAAAAAAAAAAAAAAAAAAAAAAAAAAAAAAAAAAAAAAAAAAAAAAAADAAAAAAAAAAAAAAAAAAAAAAAAAAAAAAAAAAAAAAAAAAAAAAAAAAAAAAAAAAAAAAAAAAAAAAAAAAAAAAAAAAAAAAAAAAAAAAAAAAAABAAAAAAAAAAAAAAAAAAAAAAAAAAEAAAAAAAAAAAAAAAAAAAAAAAAAAAAAAAAAAAAAAAAAAAAAAAAAAAAAAAAAAAAAAAAAAAAAAAAAAAAAAAAAAAAAAAAAAAAAAAAAAAAAAAAAAAAAAAAAAAAAAAAAAAAAAAAAAAAAAAAAAAAAAAAAAAAAAAAAAAAAAAAAAAAAAAAAAAAAAAAAAAAAAAAAAAAAAAAAAAAAAAAAAAAAAAAAAAAAAAAAAAAAAAEAAAAAAAAAAAAAAAAAAAAAAAAAAAAAAAAAAAAAAAAAAAAAAAAAAAAAAAAAAAAAAAAAAAAAAAAAAMAAAAAAAAAAAAAAAAAAAAAAAAAAAAAAAAAAAAAAAAAAAAAAAAAAAAAAAAAAAAAAAAAAAABAAAAAAAAAAAAAAAAAAAAAAAAAAAAAAAAAAAAAAAAAAAAAAAAAAAAAAAAAAAAAAAAAAAAAAAAAAAAAAAAAAAAAAAAAAAAAAAAAAAAAAAAAAAAAAAAAAAAAAAAAAAAAAAAAAAAAAAAAAAAAAAAAAAAAAAAAAAAAAAAAAAAAAAAAAMAAAAAAAAAAAAAAAAAAAAAAAAAAAAAAAAAAAAAAAAAAAAAAAAAAAAAAAAAAAAAAAAAAAAAAAAAAAAAAAAAAAAAAAAAAAAAAAAAAAAAAAAAAAAAAAAAAAAAAAAAAAAAAAAAAAAAAAAAAAAAAAAAAAAAAAAAAAAAAAAAAAAAAAAAAAAAAAAAAAAAAAAAAAAAAAAAAAAAAAAAAAAAAAAAAAAAAAAAAAAAAAAAAAAAAAAAAAAAAAAAAAAAAAAAAAAAAAAAAAAAAAAAAAAAAAAAAAAAAAAAAAAAAAAAAAAAAAAAAAAAAAAAAAAAAAAAAAAAAAAAAAAAAAAAAAAAAAMAAAAAAAAAAAAAAAAAAAAAAAAAAAAAAAAAAAAAAAAAAAAAAAAAAAAAAAAAAAAAAAAAAAAAAAAAAwAAAAAAAAAEAAAAAAAAAAAAAAAAAAAAAAAAAAAAAAADAAAAAAAAAAAAAAAAAAAAAAAAAAAAAAAAAAAAAAAAAAAAAAAAAAAAAAAAAAAAAAAAAAAAAAAAAAAAAAAAAAAAAAAAAAAAAAAEAAAAAAAAAAAAAAAAAAAAAAAAAAAAAAAAAAAAAAAAAAAAAAAAAAAAAAAAAAAAAAAEAAAAAAAAAAAAAAAAAAAAAAAAAAAAAAAAAAAAAAAAAAAAAAAAAAAAAAAAAAAAAAAAAAAAAAAAAAQAAAAAAAAABAAAAAAAAAAAAAAAAAAAAAAAAAAAAAAABAAAAAAAAAAEAAAAAAAAAAAAAAAAAAAAAwAAAAAAAAAAAAAAAAAAAAAAAAAAAAAAAAAAAAQAAAAAAAAAAAAAAAAAAAAAAAAAAAAAAAAAAAAAAAAAAAAAAAAAAAAAAAAAAAAAAAAAAAAAAAAAAAAAAAAAAAAAAAAAAAAAAAAAAAAAAAAAAAAAAAAAAAAAAAAAAAAAAAAAAAAAAAAAAAAAAAAAAAAAAAAAAAAAAAAAAAAAAAAAAAAAAAAAAAAAAAAAAAAAAAQAAAAAAAAAAAAAAAAAAAAAAAAAAAAAAAAAAAAAAAAAAAAAAAAAAAAAAAAAAwAAAAAAAAAAAAAAAAAAAAAAAAAAAAAAAAAAAAAAAAAAAAAAAAAAAAAAAAAAAAAAAAAAAAQAAAAAAAAAAAAAAAAAAAAAAAAAAAAAAAAAAAAAAAAABAAAAAAAAAAAAAAAAAAAAAAAAAAAAAAAAAAAAAAAAAAAAAAAAAAAAAAAAAA=",
           "dtype": "i4"
          },
          "coloraxis": "coloraxis",
          "symbol": "circle"
         },
         "mode": "markers",
         "name": "",
         "orientation": "v",
         "showlegend": false,
         "type": "scatter",
         "x": {
          "bdata": "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",
          "dtype": "f4"
         },
         "xaxis": "x",
         "y": {
          "bdata": "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",
          "dtype": "f4"
         },
         "yaxis": "y"
        }
       ],
       "layout": {
        "coloraxis": {
         "colorbar": {
          "title": {
           "text": "Cluster"
          }
         },
         "colorscale": [
          [
           0,
           "#0d0887"
          ],
          [
           0.1111111111111111,
           "#46039f"
          ],
          [
           0.2222222222222222,
           "#7201a8"
          ],
          [
           0.3333333333333333,
           "#9c179e"
          ],
          [
           0.4444444444444444,
           "#bd3786"
          ],
          [
           0.5555555555555556,
           "#d8576b"
          ],
          [
           0.6666666666666666,
           "#ed7953"
          ],
          [
           0.7777777777777778,
           "#fb9f3a"
          ],
          [
           0.8888888888888888,
           "#fdca26"
          ],
          [
           1,
           "#f0f921"
          ]
         ]
        },
        "legend": {
         "tracegroupgap": 0
        },
        "template": {
         "data": {
          "bar": [
           {
            "error_x": {
             "color": "#2a3f5f"
            },
            "error_y": {
             "color": "#2a3f5f"
            },
            "marker": {
             "line": {
              "color": "#E5ECF6",
              "width": 0.5
             },
             "pattern": {
              "fillmode": "overlay",
              "size": 10,
              "solidity": 0.2
             }
            },
            "type": "bar"
           }
          ],
          "barpolar": [
           {
            "marker": {
             "line": {
              "color": "#E5ECF6",
              "width": 0.5
             },
             "pattern": {
              "fillmode": "overlay",
              "size": 10,
              "solidity": 0.2
             }
            },
            "type": "barpolar"
           }
          ],
          "carpet": [
           {
            "aaxis": {
             "endlinecolor": "#2a3f5f",
             "gridcolor": "white",
             "linecolor": "white",
             "minorgridcolor": "white",
             "startlinecolor": "#2a3f5f"
            },
            "baxis": {
             "endlinecolor": "#2a3f5f",
             "gridcolor": "white",
             "linecolor": "white",
             "minorgridcolor": "white",
             "startlinecolor": "#2a3f5f"
            },
            "type": "carpet"
           }
          ],
          "choropleth": [
           {
            "colorbar": {
             "outlinewidth": 0,
             "ticks": ""
            },
            "type": "choropleth"
           }
          ],
          "contour": [
           {
            "colorbar": {
             "outlinewidth": 0,
             "ticks": ""
            },
            "colorscale": [
             [
              0,
              "#0d0887"
             ],
             [
              0.1111111111111111,
              "#46039f"
             ],
             [
              0.2222222222222222,
              "#7201a8"
             ],
             [
              0.3333333333333333,
              "#9c179e"
             ],
             [
              0.4444444444444444,
              "#bd3786"
             ],
             [
              0.5555555555555556,
              "#d8576b"
             ],
             [
              0.6666666666666666,
              "#ed7953"
             ],
             [
              0.7777777777777778,
              "#fb9f3a"
             ],
             [
              0.8888888888888888,
              "#fdca26"
             ],
             [
              1,
              "#f0f921"
             ]
            ],
            "type": "contour"
           }
          ],
          "contourcarpet": [
           {
            "colorbar": {
             "outlinewidth": 0,
             "ticks": ""
            },
            "type": "contourcarpet"
           }
          ],
          "heatmap": [
           {
            "colorbar": {
             "outlinewidth": 0,
             "ticks": ""
            },
            "colorscale": [
             [
              0,
              "#0d0887"
             ],
             [
              0.1111111111111111,
              "#46039f"
             ],
             [
              0.2222222222222222,
              "#7201a8"
             ],
             [
              0.3333333333333333,
              "#9c179e"
             ],
             [
              0.4444444444444444,
              "#bd3786"
             ],
             [
              0.5555555555555556,
              "#d8576b"
             ],
             [
              0.6666666666666666,
              "#ed7953"
             ],
             [
              0.7777777777777778,
              "#fb9f3a"
             ],
             [
              0.8888888888888888,
              "#fdca26"
             ],
             [
              1,
              "#f0f921"
             ]
            ],
            "type": "heatmap"
           }
          ],
          "histogram": [
           {
            "marker": {
             "pattern": {
              "fillmode": "overlay",
              "size": 10,
              "solidity": 0.2
             }
            },
            "type": "histogram"
           }
          ],
          "histogram2d": [
           {
            "colorbar": {
             "outlinewidth": 0,
             "ticks": ""
            },
            "colorscale": [
             [
              0,
              "#0d0887"
             ],
             [
              0.1111111111111111,
              "#46039f"
             ],
             [
              0.2222222222222222,
              "#7201a8"
             ],
             [
              0.3333333333333333,
              "#9c179e"
             ],
             [
              0.4444444444444444,
              "#bd3786"
             ],
             [
              0.5555555555555556,
              "#d8576b"
             ],
             [
              0.6666666666666666,
              "#ed7953"
             ],
             [
              0.7777777777777778,
              "#fb9f3a"
             ],
             [
              0.8888888888888888,
              "#fdca26"
             ],
             [
              1,
              "#f0f921"
             ]
            ],
            "type": "histogram2d"
           }
          ],
          "histogram2dcontour": [
           {
            "colorbar": {
             "outlinewidth": 0,
             "ticks": ""
            },
            "colorscale": [
             [
              0,
              "#0d0887"
             ],
             [
              0.1111111111111111,
              "#46039f"
             ],
             [
              0.2222222222222222,
              "#7201a8"
             ],
             [
              0.3333333333333333,
              "#9c179e"
             ],
             [
              0.4444444444444444,
              "#bd3786"
             ],
             [
              0.5555555555555556,
              "#d8576b"
             ],
             [
              0.6666666666666666,
              "#ed7953"
             ],
             [
              0.7777777777777778,
              "#fb9f3a"
             ],
             [
              0.8888888888888888,
              "#fdca26"
             ],
             [
              1,
              "#f0f921"
             ]
            ],
            "type": "histogram2dcontour"
           }
          ],
          "mesh3d": [
           {
            "colorbar": {
             "outlinewidth": 0,
             "ticks": ""
            },
            "type": "mesh3d"
           }
          ],
          "parcoords": [
           {
            "line": {
             "colorbar": {
              "outlinewidth": 0,
              "ticks": ""
             }
            },
            "type": "parcoords"
           }
          ],
          "pie": [
           {
            "automargin": true,
            "type": "pie"
           }
          ],
          "scatter": [
           {
            "fillpattern": {
             "fillmode": "overlay",
             "size": 10,
             "solidity": 0.2
            },
            "type": "scatter"
           }
          ],
          "scatter3d": [
           {
            "line": {
             "colorbar": {
              "outlinewidth": 0,
              "ticks": ""
             }
            },
            "marker": {
             "colorbar": {
              "outlinewidth": 0,
              "ticks": ""
             }
            },
            "type": "scatter3d"
           }
          ],
          "scattercarpet": [
           {
            "marker": {
             "colorbar": {
              "outlinewidth": 0,
              "ticks": ""
             }
            },
            "type": "scattercarpet"
           }
          ],
          "scattergeo": [
           {
            "marker": {
             "colorbar": {
              "outlinewidth": 0,
              "ticks": ""
             }
            },
            "type": "scattergeo"
           }
          ],
          "scattergl": [
           {
            "marker": {
             "colorbar": {
              "outlinewidth": 0,
              "ticks": ""
             }
            },
            "type": "scattergl"
           }
          ],
          "scattermap": [
           {
            "marker": {
             "colorbar": {
              "outlinewidth": 0,
              "ticks": ""
             }
            },
            "type": "scattermap"
           }
          ],
          "scattermapbox": [
           {
            "marker": {
             "colorbar": {
              "outlinewidth": 0,
              "ticks": ""
             }
            },
            "type": "scattermapbox"
           }
          ],
          "scatterpolar": [
           {
            "marker": {
             "colorbar": {
              "outlinewidth": 0,
              "ticks": ""
             }
            },
            "type": "scatterpolar"
           }
          ],
          "scatterpolargl": [
           {
            "marker": {
             "colorbar": {
              "outlinewidth": 0,
              "ticks": ""
             }
            },
            "type": "scatterpolargl"
           }
          ],
          "scatterternary": [
           {
            "marker": {
             "colorbar": {
              "outlinewidth": 0,
              "ticks": ""
             }
            },
            "type": "scatterternary"
           }
          ],
          "surface": [
           {
            "colorbar": {
             "outlinewidth": 0,
             "ticks": ""
            },
            "colorscale": [
             [
              0,
              "#0d0887"
             ],
             [
              0.1111111111111111,
              "#46039f"
             ],
             [
              0.2222222222222222,
              "#7201a8"
             ],
             [
              0.3333333333333333,
              "#9c179e"
             ],
             [
              0.4444444444444444,
              "#bd3786"
             ],
             [
              0.5555555555555556,
              "#d8576b"
             ],
             [
              0.6666666666666666,
              "#ed7953"
             ],
             [
              0.7777777777777778,
              "#fb9f3a"
             ],
             [
              0.8888888888888888,
              "#fdca26"
             ],
             [
              1,
              "#f0f921"
             ]
            ],
            "type": "surface"
           }
          ],
          "table": [
           {
            "cells": {
             "fill": {
              "color": "#EBF0F8"
             },
             "line": {
              "color": "white"
             }
            },
            "header": {
             "fill": {
              "color": "#C8D4E3"
             },
             "line": {
              "color": "white"
             }
            },
            "type": "table"
           }
          ]
         },
         "layout": {
          "annotationdefaults": {
           "arrowcolor": "#2a3f5f",
           "arrowhead": 0,
           "arrowwidth": 1
          },
          "autotypenumbers": "strict",
          "coloraxis": {
           "colorbar": {
            "outlinewidth": 0,
            "ticks": ""
           }
          },
          "colorscale": {
           "diverging": [
            [
             0,
             "#8e0152"
            ],
            [
             0.1,
             "#c51b7d"
            ],
            [
             0.2,
             "#de77ae"
            ],
            [
             0.3,
             "#f1b6da"
            ],
            [
             0.4,
             "#fde0ef"
            ],
            [
             0.5,
             "#f7f7f7"
            ],
            [
             0.6,
             "#e6f5d0"
            ],
            [
             0.7,
             "#b8e186"
            ],
            [
             0.8,
             "#7fbc41"
            ],
            [
             0.9,
             "#4d9221"
            ],
            [
             1,
             "#276419"
            ]
           ],
           "sequential": [
            [
             0,
             "#0d0887"
            ],
            [
             0.1111111111111111,
             "#46039f"
            ],
            [
             0.2222222222222222,
             "#7201a8"
            ],
            [
             0.3333333333333333,
             "#9c179e"
            ],
            [
             0.4444444444444444,
             "#bd3786"
            ],
            [
             0.5555555555555556,
             "#d8576b"
            ],
            [
             0.6666666666666666,
             "#ed7953"
            ],
            [
             0.7777777777777778,
             "#fb9f3a"
            ],
            [
             0.8888888888888888,
             "#fdca26"
            ],
            [
             1,
             "#f0f921"
            ]
           ],
           "sequentialminus": [
            [
             0,
             "#0d0887"
            ],
            [
             0.1111111111111111,
             "#46039f"
            ],
            [
             0.2222222222222222,
             "#7201a8"
            ],
            [
             0.3333333333333333,
             "#9c179e"
            ],
            [
             0.4444444444444444,
             "#bd3786"
            ],
            [
             0.5555555555555556,
             "#d8576b"
            ],
            [
             0.6666666666666666,
             "#ed7953"
            ],
            [
             0.7777777777777778,
             "#fb9f3a"
            ],
            [
             0.8888888888888888,
             "#fdca26"
            ],
            [
             1,
             "#f0f921"
            ]
           ]
          },
          "colorway": [
           "#636efa",
           "#EF553B",
           "#00cc96",
           "#ab63fa",
           "#FFA15A",
           "#19d3f3",
           "#FF6692",
           "#B6E880",
           "#FF97FF",
           "#FECB52"
          ],
          "font": {
           "color": "#2a3f5f"
          },
          "geo": {
           "bgcolor": "white",
           "lakecolor": "white",
           "landcolor": "#E5ECF6",
           "showlakes": true,
           "showland": true,
           "subunitcolor": "white"
          },
          "hoverlabel": {
           "align": "left"
          },
          "hovermode": "closest",
          "mapbox": {
           "style": "light"
          },
          "paper_bgcolor": "white",
          "plot_bgcolor": "#E5ECF6",
          "polar": {
           "angularaxis": {
            "gridcolor": "white",
            "linecolor": "white",
            "ticks": ""
           },
           "bgcolor": "#E5ECF6",
           "radialaxis": {
            "gridcolor": "white",
            "linecolor": "white",
            "ticks": ""
           }
          },
          "scene": {
           "xaxis": {
            "backgroundcolor": "#E5ECF6",
            "gridcolor": "white",
            "gridwidth": 2,
            "linecolor": "white",
            "showbackground": true,
            "ticks": "",
            "zerolinecolor": "white"
           },
           "yaxis": {
            "backgroundcolor": "#E5ECF6",
            "gridcolor": "white",
            "gridwidth": 2,
            "linecolor": "white",
            "showbackground": true,
            "ticks": "",
            "zerolinecolor": "white"
           },
           "zaxis": {
            "backgroundcolor": "#E5ECF6",
            "gridcolor": "white",
            "gridwidth": 2,
            "linecolor": "white",
            "showbackground": true,
            "ticks": "",
            "zerolinecolor": "white"
           }
          },
          "shapedefaults": {
           "line": {
            "color": "#2a3f5f"
           }
          },
          "ternary": {
           "aaxis": {
            "gridcolor": "white",
            "linecolor": "white",
            "ticks": ""
           },
           "baxis": {
            "gridcolor": "white",
            "linecolor": "white",
            "ticks": ""
           },
           "bgcolor": "#E5ECF6",
           "caxis": {
            "gridcolor": "white",
            "linecolor": "white",
            "ticks": ""
           }
          },
          "title": {
           "x": 0.05
          },
          "xaxis": {
           "automargin": true,
           "gridcolor": "white",
           "linecolor": "white",
           "ticks": "",
           "title": {
            "standoff": 15
           },
           "zerolinecolor": "white",
           "zerolinewidth": 2
          },
          "yaxis": {
           "automargin": true,
           "gridcolor": "white",
           "linecolor": "white",
           "ticks": "",
           "title": {
            "standoff": 15
           },
           "zerolinecolor": "white",
           "zerolinewidth": 2
          }
         }
        },
        "title": {
         "text": "📊 Autoencoder + KMeans: Stock Clustering (Latent Space)"
        },
        "xaxis": {
         "anchor": "y",
         "domain": [
          0,
          1
         ],
         "title": {
          "text": "z1"
         }
        },
        "yaxis": {
         "anchor": "x",
         "domain": [
          0,
          1
         ],
         "title": {
          "text": "z2"
         }
        }
       }
      }
     },
     "metadata": {},
     "output_type": "display_data"
    }
   ],
   "source": [
    "latent_df = pd.DataFrame(latent_features, columns=['z1', 'z2'])\n",
    "latent_df['Cluster'] = cluster_labels\n",
    "latent_df['symbol'] = df_auto['symbol'].values\n",
    "\n",
    "fig = px.scatter(\n",
    "    latent_df,\n",
    "    x='z1', y='z2',\n",
    "    color='Cluster',\n",
    "    hover_data=['symbol'],\n",
    "    title='📊 Autoencoder + KMeans: Stock Clustering (Latent Space)'\n",
    ")\n",
    "fig.show()\n"
   ]
  },
  {
   "cell_type": "code",
   "execution_count": 42,
   "metadata": {},
   "outputs": [
    {
     "name": "stdout",
     "output_type": "stream",
     "text": [
      "\u001b[1m27/27\u001b[0m \u001b[32m━━━━━━━━━━━━━━━━━━━━\u001b[0m\u001b[37m\u001b[0m \u001b[1m0s\u001b[0m 1ms/step \n"
     ]
    }
   ],
   "source": [
    "# -- ใช้ latent space ทำ clustering --\n",
    "latent_features = encoder.predict(X_scaled)\n",
    "clusters = KMeans(n_clusters=5, random_state=42).fit_predict(latent_features)\n",
    "\n",
    "df['Cluster'] = clusters\n",
    "df['financial_grade'] = df['Cluster'].map({0:'A',1:'B',2:'C',3:'D',4:'E'})\n",
    "df['trend_level'] = np.random.choice(['a','b','c','d','e'], size=len(df))\n",
    "df['Quadrant'] = df['financial_grade'] + df['trend_level']"
   ]
  },
  {
   "cell_type": "code",
   "execution_count": 43,
   "metadata": {},
   "outputs": [
    {
     "data": {
      "application/vnd.plotly.v1+json": {
       "config": {
        "plotlyServerURL": "https://plot.ly"
       },
       "data": [
        {
         "cells": {
          "align": "center",
          "fill": {
           "color": [
            [
             "#2ecc71",
             "#2ecc71",
             "#2ecc71",
             "#2ecc71",
             "#2ecc71"
            ],
            [
             "#58d68d",
             "#58d68d",
             "#58d68d",
             "#58d68d",
             "#58d68d"
            ],
            [
             "#f4d03f",
             "#f4d03f",
             "#f4d03f",
             "#f4d03f",
             "#f4d03f"
            ],
            [
             "#f39c12",
             "#f39c12",
             "#f39c12",
             "#f39c12",
             "#f39c12"
            ],
            [
             "#e74c3c",
             "#e74c3c",
             "#e74c3c",
             "#e74c3c",
             "#e74c3c"
            ]
           ]
          },
          "font": {
           "color": "white",
           "size": 12
          },
          "height": 80,
          "values": [
           [
            "<b>Aa</b><br>POLY<br>GLOCON<br>SIS<br>TAN<br>OKJ<br>TPBI<br>AJ<br>BIOTEC<br>NDR<br>M<br>WINDOW<br>SNP<br>ASN<br>MCOT<br>TNPC<br>META<br>WACOAL<br>TWPC<br>ASIA<br>EMC<br>AHC<br>DMT<br>CCP<br>SO<br>BTW<br>HARN<br>ONEE<br>VIBHA<br>GLAND<br>MATCH<br>SWC<br>SINO<br>BSRC<br>JMART<br>NEWS<br>GLORY<br>GENCO<br>GABLE<br>SCN<br>CIG<br>BPP<br>APP<br>CHAO<br>SECURE<br>ASK<br>BCP<br>ILM<br>CNT<br>L&E<br>DPAINT<br>HTECH<br>SMT<br>EP<br>GLOBAL<br>AURA<br>NCAP<br>RS<br>CRANE<br>MORE<br>SPVI<br>KTC<br>PROS<br>DIMET<br>LTS<br>TOG<br>SMIT<br>NER<br>AMC<br>TCC<br>MPJ<br>SSF<br>MEDEZE<br>ARIP<br>TRUBB<br>PRI<br>A<br>GTB<br>SEAFCO<br>UBE<br>CHEWA<br>SAWANG<br>TEKA<br>TNP<br>CFARM<br>AAI<br>TTB<br>UEC<br>CPANEL<br>KCE<br>DV8<br>ROH<br>CFRESH<br>RPH<br>BEC<br>KUN<br>NKI<br>PSTC<br>SPG<br>ALLA<br>MTC<br>IHL<br>GRAND<br>OR<br>TITLE<br>SC<br>MAGURO<br>RP<br>CSP<br>IRPC<br>TRT<br>FN<br>AKP<br>XO<br>NTV<br>STGT<br>CHG<br>SAUCE<br>TIPCO<br>INOX<br>CIVIL<br>PICO<br>GC<br>PREB<br>SCG<br>SALEE<br>NYT<br>SANKO<br>TMAN<br>GRAMMY<br>PLT<br>SPALI<br>TM<br>TEGH<br>NL<br>ORI<br>GTV<br>TPIPL<br>PTC<br>DEMCO<br>CPF<br>NNCL<br>FVC<br>INSET<br>SE-ED<br>TNL<br>MSC<br>CIMBT<br>SQ<br>TSTH<br>ANI<br>I2",
            "<b>Ab</b><br>TPCH<br>SUSCO<br>VGI<br>ASP<br>PTECH<br>PLUS<br>MANRIN<br>SFT<br>ADVICE<br>AYUD<br>WORK<br>PG<br>MGC<br>SIAM<br>ITD<br>TSI<br>CENTEL<br>UMS<br>UOBKH<br>SVOA<br>ILINK<br>CM<br>IRCP<br>PDJ<br>JCKH<br>UREKA<br>RAM<br>TTW<br>FORTH<br>AF<br>PERM<br>NKT<br>YONG<br>PORT<br>CPH<br>IP<br>SUTHA<br>TAKUNI<br>SISB<br>PYLON<br>JUBILE<br>MJD<br>S&J<br>IT<br>TPLAS<br>TNR<br>DTCENT<br>BEAUTY<br>MONO<br>CCET<br>KTMS<br>CTW<br>TVT<br>SM<br>SAWAD<br>SPREME<br>PANEL<br>SIRI<br>ATP30<br>MC<br>STC<br>RSP<br>CHOTI<br>MVP<br>ITTHI<br>SGC<br>TKC<br>PHOL<br>TMI<br>TFI<br>PIN<br>SUPER<br>THG<br>DCC<br>AKR<br>GEL<br>MICRO<br>SGF<br>CK<br>BGC<br>SST<br>MK<br>PM<br>QTC<br>PSL<br>SVI<br>CPR<br>SAMCO<br>JR<br>AU<br>BLC<br>TMD<br>SCL<br>TNDT<br>NV<br>MCS<br>PRIN<br>SYNEX<br>ASEFA<br>NOBLE<br>WICE<br>BCH<br>TATG<br>FNS<br>TYCN<br>WP<br>CEYE<br>COMAN<br>DOHOME<br>PSH<br>IIG<br>AIE<br>AIRA<br>PB<br>LIT<br>TVO<br>BSBM<br>BE8<br>SRS<br>NFC<br>UNIQ<br>SAFE<br>GJS<br>VS<br>BEYOND<br>SMPC<br>LHK<br>AH<br>TPP<br>ASIAN<br>MEB<br>WINMED<br>PRAPAT<br>AMARIN<br>SENX<br>UBA<br>UPOIC<br>OSP<br>SABUY<br>BGRIM<br>HMPRO<br>STELLA<br>WIIK<br>MBK<br>WPH<br>INET<br>CH<br>NAM<br>BANPU<br>EVER<br>JTS<br>MITSIB<br>JSP<br>EE<br>CGH<br>CPW<br>PT<br>THIP<br>APCS<br>BYD<br>HYDRO<br>AIT<br>MENA<br>NTSC<br>PLANB<br>KTB<br>AQUA<br>WHA<br>TSTE<br>TQR<br>CMR<br>YGG<br>PEACE",
            "<b>Ac</b><br>VCOM<br>STP<br>ROJNA<br>KSL<br>SHR<br>SNPS<br>SFLEX<br>NWR<br>GBX<br>TRP<br>PRG<br>PTG<br>MAJOR<br>MST<br>WAVE<br>TVH<br>AWC<br>SMD100<br>QTCG<br>MGI<br>XBIO<br>FANCY<br>DCON<br>ITC<br>KCG<br>GUNKUL<br>TCMC<br>NOVA<br>PHG<br>GFPT<br>BBIK<br>GCAP<br>TRU<br>ESTAR<br>THANI<br>BCPG<br>PACO<br>SK<br>AAV<br>GGC<br>BR<br>IND<br>NCH<br>UMI<br>PIMO<br>SLP<br>SHANG<br>IVF<br>FMT<br>SCM<br>TMT<br>NEP<br>AOT<br>PEER<br>SELIC<br>NC<br>ADB<br>HANA<br>TRV<br>CSS<br>STA<br>BDMS<br>AJA<br>KAMART<br>PROEN<br>VARO<br>2S<br>NRF<br>SIMAT<br>CREDIT<br>IMH<br>KBS<br>TC<br>TNH<br>ICN<br>AMATA<br>CBG<br>BAFS<br>NAT<br>TBN<br>SA<br>INGRS<br>LHFG<br>FPT<br>COLOR<br>YUASA<br>CV<br>SE<br>PK<br>HL<br>CHARAN<br>ALPHAX<br>AS<br>ABM<br>THMUI<br>24CS<br>KWM<br>BJCHI<br>FTI<br>SITHAI<br>CEN<br>TWP<br>PCC<br>GPI<br>DUSIT<br>PTTGC<br>UPF<br>KGI<br>PR9<br>NETBAY<br>BJC<br>PL<br>SGP<br>SICT<br>BRI<br>MINT<br>KASET<br>TRC<br>DOD<br>SAM<br>SONIC<br>AGE<br>FLOYD<br>IFS<br>CMAN<br>PRM<br>PAF<br>LST<br>CSR<br>SAMART<br>HENG<br>BIZ<br>AMATAV<br>NCL<br>SPCG<br>READY<br>DTCI<br>WHAUP<br>S11<br>MFEC<br>BWG<br>SDC<br>COCOCO<br>LOXLEY<br>GPSC<br>VL<br>SNNP<br>OGC<br>EKH<br>KTIS<br>BIS<br>TRITN<br>BLAND",
            "<b>Ad</b><br>NVD<br>JDF<br>SVR<br>NCP<br>EA<br>CRC<br>SAT<br>PSP<br>TGH<br>ITEL<br>PCE<br>TK<br>CGD<br>SPA<br>J<br>TPAC<br>RPC<br>BRR<br>PAP<br>WIN<br>ASAP<br>UTP<br>ZAA<br>WFX<br>SCGD<br>KEX<br>TEAMG<br>MFC<br>KCAR<br>NEX<br>STI<br>ROCTEC<br>UAC<br>M-CHAI<br>BVG<br>SKE<br>TGPRO<br>IRC<br>CPALL<br>TNITY<br>BEM<br>CKP<br>PTL<br>HTC<br>TU<br>MDX<br>HFT<br>ZEN<br>TAE<br>STPI<br>SJWD<br>MOSHI<br>PQS<br>TMILL<br>K<br>DDD<br>TWZ<br>MGT<br>OCC<br>SMART<br>VIH<br>MEGA<br>SNC<br>AP<br>ROCK<br>PSG<br>THCOM<br>KLINIQ<br>ZIGA<br>ICHI<br>SAAM<br>TTI<br>TACC<br>MODERN<br>ACC<br>GFC<br>ARIN<br>TKT<br>EASTW<br>TKN<br>TMC<br>UVAN<br>ORN<br>TIPH<br>TCOAT<br>THREL<br>TVDH<br>PPM<br>PRINC<br>AMA<br>HUMAN<br>BTS<br>RATCH<br>CHIC<br>SAMTEL<br>BLA<br>KJL<br>ML<br>UV<br>PATO<br>ANAN<br>SCI<br>JAK<br>BCT<br>PJW<br>MBAX<br>PLE<br>CMC<br>BC<br>CAZ<br>CHAYO<br>ICC<br>STOWER<br>ASIMAR<br>GREEN<br>EURO<br>SR<br>BROCK<br>III<br>ITNS<br>VNG<br>FPI<br>SEI<br>AUCT<br>PF<br>Q-CON<br>CHASE<br>DRT<br>PMC<br>TPIPP<br>BPS<br>STECH<br>BBGI<br>MILL<br>KIAT<br>LEO<br>SSSC<br>TPS<br>TKS<br>CPI<br>NATION<br>SKN<br>IROYAL<br>AMANAH<br>UKEM<br>CPL<br>B52<br>BOL<br>STX<br>THE<br>RJH<br>KUMWEL<br>AMARC<br>SCAP<br>SUN<br>CMO<br>JPARK<br>AFC<br>KWI<br>D<br>WARRIX<br>PRECHA<br>ADD",
            "<b>Ae</b><br>PPPM<br>LEE<br>TASCO<br>NPK<br>TPOLY<br>CPAXT<br>LPN<br>TIGER<br>BIG<br>LDC<br>SAF<br>RICHY<br>PLAT<br>ARROW<br>KOOL<br>PCSGH<br>MUD<br>SCGP<br>TSC<br>TOA<br>EFORL<br>LALIN<br>SOLAR<br>PMTA<br>APO<br>ACE<br>WGE<br>NSL<br>ALT<br>AMR<br>MASTER<br>KGEN<br>UP<br>TIDLOR<br>SAK<br>SYMC<br>B<br>KCM<br>FM<br>XPG<br>FSX<br>KISS<br>DITTO<br>MIDA<br>WINNER<br>JAS<br>TCJ<br>HPT<br>CITY<br>LPH<br>MOONG<br>DHOUSE<br>ACG<br>DEXON<br>KK<br>TFG<br>PLANET<br>FTE<br>BLESS<br>TURTLE<br>UBIS<br>RABBIT<br>AE<br>SAV<br>TQM<br>PIS<br>SYNTEC<br>BTC<br>ECF<br>BAM<br>BKGI<br>EASON<br>QLT<br>BGT<br>JMT<br>SORKON<br>PROUD<br>PPP<br>TSR<br>KC<br>CPT<br>TTA<br>SVT<br>TTCL<br>TEAM<br>BKD<br>THANA<br>PRIME<br>SEAOIL<br>THRE<br>PPS<br>ASW<br>LANNA<br>PDG<br>HEALTH<br>SKY<br>QH<br>BTG<br>SKR<br>TPA<br>ETE<br>MATI<br>TSE<br>VRANDA<br>RT<br>JCK<br>APCO<br>TLI<br>TPL<br>RBF<br>CRD<br>CI<br>MCA<br>PRTR<br>BTNC<br>DELTA<br>BSM<br>COM7<br>KCC<br>CHO<br>ERW<br>ETL<br>S<br>EPG<br>RML<br>IVL<br>SENA<br>ETC<br>SCP<br>SSP<br>CWT<br>TH<br>SABINA<br>TR<br>TERA<br>VPO<br>BM<br>SRICHA<br>A5<br>MTW<br>BA<br>AKS<br>CHOW<br>MALEE<br>LH<br>TGE<br>APURE<br>SINGER<br>RWI<br>PRAKIT<br>FSMART<br>TPCS<br>SPACK<br>TFM<br>SPRC"
           ],
           [
            "<b>Ba</b><br> -",
            "<b>Bb</b><br> -",
            "<b>Bc</b><br> -",
            "<b>Bd</b><br> -",
            "<b>Be</b><br>STECON"
           ],
           [
            "<b>Ca</b><br> -",
            "<b>Cb</b><br> -",
            "<b>Cc</b><br>CSC",
            "<b>Cd</b><br> -",
            "<b>Ce</b><br> -"
           ],
           [
            "<b>Da</b><br>STANLY<br>GYT<br>FE<br>METCO",
            "<b>Db</b><br>PTTEP<br>OHTL<br>EGCO<br>ALUCON",
            "<b>Dc</b><br>BBL",
            "<b>Dd</b><br>TFMAMA<br>TOPP<br>KWC",
            "<b>De</b><br>KBANK<br>BKIH<br>MTI<br>KYE"
           ],
           [
            "<b>Ea</b><br>SAPPE<br>PTT<br>TISCO<br>TOP<br>AEONTS<br>BH",
            "<b>Eb</b><br>SCC<br>KKP<br>SUC<br>TMW<br>NEO<br>SCCC<br>BAY",
            "<b>Ec</b><br>NEW<br>LRH<br>INTUCH<br>SCB",
            "<b>Ed</b><br>KDH<br>SPC<br>RCL<br>SPI<br>TCAP<br>INSURE<br>JCT<br>CPN<br>ADVANC",
            "<b>Ee</b><br>BUI<br>TTT<br>F&D"
           ]
          ]
         },
         "header": {
          "align": "center",
          "fill": {
           "color": "#dcdcdc"
          },
          "font": {
           "color": "black",
           "size": 14
          },
          "values": [
           "Super Bullish",
           "Up Trend",
           "Sideway",
           "Down Trend",
           "Crash"
          ]
         },
         "type": "table"
        }
       ],
       "layout": {
        "template": {
         "data": {
          "bar": [
           {
            "error_x": {
             "color": "#2a3f5f"
            },
            "error_y": {
             "color": "#2a3f5f"
            },
            "marker": {
             "line": {
              "color": "#E5ECF6",
              "width": 0.5
             },
             "pattern": {
              "fillmode": "overlay",
              "size": 10,
              "solidity": 0.2
             }
            },
            "type": "bar"
           }
          ],
          "barpolar": [
           {
            "marker": {
             "line": {
              "color": "#E5ECF6",
              "width": 0.5
             },
             "pattern": {
              "fillmode": "overlay",
              "size": 10,
              "solidity": 0.2
             }
            },
            "type": "barpolar"
           }
          ],
          "carpet": [
           {
            "aaxis": {
             "endlinecolor": "#2a3f5f",
             "gridcolor": "white",
             "linecolor": "white",
             "minorgridcolor": "white",
             "startlinecolor": "#2a3f5f"
            },
            "baxis": {
             "endlinecolor": "#2a3f5f",
             "gridcolor": "white",
             "linecolor": "white",
             "minorgridcolor": "white",
             "startlinecolor": "#2a3f5f"
            },
            "type": "carpet"
           }
          ],
          "choropleth": [
           {
            "colorbar": {
             "outlinewidth": 0,
             "ticks": ""
            },
            "type": "choropleth"
           }
          ],
          "contour": [
           {
            "colorbar": {
             "outlinewidth": 0,
             "ticks": ""
            },
            "colorscale": [
             [
              0,
              "#0d0887"
             ],
             [
              0.1111111111111111,
              "#46039f"
             ],
             [
              0.2222222222222222,
              "#7201a8"
             ],
             [
              0.3333333333333333,
              "#9c179e"
             ],
             [
              0.4444444444444444,
              "#bd3786"
             ],
             [
              0.5555555555555556,
              "#d8576b"
             ],
             [
              0.6666666666666666,
              "#ed7953"
             ],
             [
              0.7777777777777778,
              "#fb9f3a"
             ],
             [
              0.8888888888888888,
              "#fdca26"
             ],
             [
              1,
              "#f0f921"
             ]
            ],
            "type": "contour"
           }
          ],
          "contourcarpet": [
           {
            "colorbar": {
             "outlinewidth": 0,
             "ticks": ""
            },
            "type": "contourcarpet"
           }
          ],
          "heatmap": [
           {
            "colorbar": {
             "outlinewidth": 0,
             "ticks": ""
            },
            "colorscale": [
             [
              0,
              "#0d0887"
             ],
             [
              0.1111111111111111,
              "#46039f"
             ],
             [
              0.2222222222222222,
              "#7201a8"
             ],
             [
              0.3333333333333333,
              "#9c179e"
             ],
             [
              0.4444444444444444,
              "#bd3786"
             ],
             [
              0.5555555555555556,
              "#d8576b"
             ],
             [
              0.6666666666666666,
              "#ed7953"
             ],
             [
              0.7777777777777778,
              "#fb9f3a"
             ],
             [
              0.8888888888888888,
              "#fdca26"
             ],
             [
              1,
              "#f0f921"
             ]
            ],
            "type": "heatmap"
           }
          ],
          "histogram": [
           {
            "marker": {
             "pattern": {
              "fillmode": "overlay",
              "size": 10,
              "solidity": 0.2
             }
            },
            "type": "histogram"
           }
          ],
          "histogram2d": [
           {
            "colorbar": {
             "outlinewidth": 0,
             "ticks": ""
            },
            "colorscale": [
             [
              0,
              "#0d0887"
             ],
             [
              0.1111111111111111,
              "#46039f"
             ],
             [
              0.2222222222222222,
              "#7201a8"
             ],
             [
              0.3333333333333333,
              "#9c179e"
             ],
             [
              0.4444444444444444,
              "#bd3786"
             ],
             [
              0.5555555555555556,
              "#d8576b"
             ],
             [
              0.6666666666666666,
              "#ed7953"
             ],
             [
              0.7777777777777778,
              "#fb9f3a"
             ],
             [
              0.8888888888888888,
              "#fdca26"
             ],
             [
              1,
              "#f0f921"
             ]
            ],
            "type": "histogram2d"
           }
          ],
          "histogram2dcontour": [
           {
            "colorbar": {
             "outlinewidth": 0,
             "ticks": ""
            },
            "colorscale": [
             [
              0,
              "#0d0887"
             ],
             [
              0.1111111111111111,
              "#46039f"
             ],
             [
              0.2222222222222222,
              "#7201a8"
             ],
             [
              0.3333333333333333,
              "#9c179e"
             ],
             [
              0.4444444444444444,
              "#bd3786"
             ],
             [
              0.5555555555555556,
              "#d8576b"
             ],
             [
              0.6666666666666666,
              "#ed7953"
             ],
             [
              0.7777777777777778,
              "#fb9f3a"
             ],
             [
              0.8888888888888888,
              "#fdca26"
             ],
             [
              1,
              "#f0f921"
             ]
            ],
            "type": "histogram2dcontour"
           }
          ],
          "mesh3d": [
           {
            "colorbar": {
             "outlinewidth": 0,
             "ticks": ""
            },
            "type": "mesh3d"
           }
          ],
          "parcoords": [
           {
            "line": {
             "colorbar": {
              "outlinewidth": 0,
              "ticks": ""
             }
            },
            "type": "parcoords"
           }
          ],
          "pie": [
           {
            "automargin": true,
            "type": "pie"
           }
          ],
          "scatter": [
           {
            "fillpattern": {
             "fillmode": "overlay",
             "size": 10,
             "solidity": 0.2
            },
            "type": "scatter"
           }
          ],
          "scatter3d": [
           {
            "line": {
             "colorbar": {
              "outlinewidth": 0,
              "ticks": ""
             }
            },
            "marker": {
             "colorbar": {
              "outlinewidth": 0,
              "ticks": ""
             }
            },
            "type": "scatter3d"
           }
          ],
          "scattercarpet": [
           {
            "marker": {
             "colorbar": {
              "outlinewidth": 0,
              "ticks": ""
             }
            },
            "type": "scattercarpet"
           }
          ],
          "scattergeo": [
           {
            "marker": {
             "colorbar": {
              "outlinewidth": 0,
              "ticks": ""
             }
            },
            "type": "scattergeo"
           }
          ],
          "scattergl": [
           {
            "marker": {
             "colorbar": {
              "outlinewidth": 0,
              "ticks": ""
             }
            },
            "type": "scattergl"
           }
          ],
          "scattermap": [
           {
            "marker": {
             "colorbar": {
              "outlinewidth": 0,
              "ticks": ""
             }
            },
            "type": "scattermap"
           }
          ],
          "scattermapbox": [
           {
            "marker": {
             "colorbar": {
              "outlinewidth": 0,
              "ticks": ""
             }
            },
            "type": "scattermapbox"
           }
          ],
          "scatterpolar": [
           {
            "marker": {
             "colorbar": {
              "outlinewidth": 0,
              "ticks": ""
             }
            },
            "type": "scatterpolar"
           }
          ],
          "scatterpolargl": [
           {
            "marker": {
             "colorbar": {
              "outlinewidth": 0,
              "ticks": ""
             }
            },
            "type": "scatterpolargl"
           }
          ],
          "scatterternary": [
           {
            "marker": {
             "colorbar": {
              "outlinewidth": 0,
              "ticks": ""
             }
            },
            "type": "scatterternary"
           }
          ],
          "surface": [
           {
            "colorbar": {
             "outlinewidth": 0,
             "ticks": ""
            },
            "colorscale": [
             [
              0,
              "#0d0887"
             ],
             [
              0.1111111111111111,
              "#46039f"
             ],
             [
              0.2222222222222222,
              "#7201a8"
             ],
             [
              0.3333333333333333,
              "#9c179e"
             ],
             [
              0.4444444444444444,
              "#bd3786"
             ],
             [
              0.5555555555555556,
              "#d8576b"
             ],
             [
              0.6666666666666666,
              "#ed7953"
             ],
             [
              0.7777777777777778,
              "#fb9f3a"
             ],
             [
              0.8888888888888888,
              "#fdca26"
             ],
             [
              1,
              "#f0f921"
             ]
            ],
            "type": "surface"
           }
          ],
          "table": [
           {
            "cells": {
             "fill": {
              "color": "#EBF0F8"
             },
             "line": {
              "color": "white"
             }
            },
            "header": {
             "fill": {
              "color": "#C8D4E3"
             },
             "line": {
              "color": "white"
             }
            },
            "type": "table"
           }
          ]
         },
         "layout": {
          "annotationdefaults": {
           "arrowcolor": "#2a3f5f",
           "arrowhead": 0,
           "arrowwidth": 1
          },
          "autotypenumbers": "strict",
          "coloraxis": {
           "colorbar": {
            "outlinewidth": 0,
            "ticks": ""
           }
          },
          "colorscale": {
           "diverging": [
            [
             0,
             "#8e0152"
            ],
            [
             0.1,
             "#c51b7d"
            ],
            [
             0.2,
             "#de77ae"
            ],
            [
             0.3,
             "#f1b6da"
            ],
            [
             0.4,
             "#fde0ef"
            ],
            [
             0.5,
             "#f7f7f7"
            ],
            [
             0.6,
             "#e6f5d0"
            ],
            [
             0.7,
             "#b8e186"
            ],
            [
             0.8,
             "#7fbc41"
            ],
            [
             0.9,
             "#4d9221"
            ],
            [
             1,
             "#276419"
            ]
           ],
           "sequential": [
            [
             0,
             "#0d0887"
            ],
            [
             0.1111111111111111,
             "#46039f"
            ],
            [
             0.2222222222222222,
             "#7201a8"
            ],
            [
             0.3333333333333333,
             "#9c179e"
            ],
            [
             0.4444444444444444,
             "#bd3786"
            ],
            [
             0.5555555555555556,
             "#d8576b"
            ],
            [
             0.6666666666666666,
             "#ed7953"
            ],
            [
             0.7777777777777778,
             "#fb9f3a"
            ],
            [
             0.8888888888888888,
             "#fdca26"
            ],
            [
             1,
             "#f0f921"
            ]
           ],
           "sequentialminus": [
            [
             0,
             "#0d0887"
            ],
            [
             0.1111111111111111,
             "#46039f"
            ],
            [
             0.2222222222222222,
             "#7201a8"
            ],
            [
             0.3333333333333333,
             "#9c179e"
            ],
            [
             0.4444444444444444,
             "#bd3786"
            ],
            [
             0.5555555555555556,
             "#d8576b"
            ],
            [
             0.6666666666666666,
             "#ed7953"
            ],
            [
             0.7777777777777778,
             "#fb9f3a"
            ],
            [
             0.8888888888888888,
             "#fdca26"
            ],
            [
             1,
             "#f0f921"
            ]
           ]
          },
          "colorway": [
           "#636efa",
           "#EF553B",
           "#00cc96",
           "#ab63fa",
           "#FFA15A",
           "#19d3f3",
           "#FF6692",
           "#B6E880",
           "#FF97FF",
           "#FECB52"
          ],
          "font": {
           "color": "#2a3f5f"
          },
          "geo": {
           "bgcolor": "white",
           "lakecolor": "white",
           "landcolor": "#E5ECF6",
           "showlakes": true,
           "showland": true,
           "subunitcolor": "white"
          },
          "hoverlabel": {
           "align": "left"
          },
          "hovermode": "closest",
          "mapbox": {
           "style": "light"
          },
          "paper_bgcolor": "white",
          "plot_bgcolor": "#E5ECF6",
          "polar": {
           "angularaxis": {
            "gridcolor": "white",
            "linecolor": "white",
            "ticks": ""
           },
           "bgcolor": "#E5ECF6",
           "radialaxis": {
            "gridcolor": "white",
            "linecolor": "white",
            "ticks": ""
           }
          },
          "scene": {
           "xaxis": {
            "backgroundcolor": "#E5ECF6",
            "gridcolor": "white",
            "gridwidth": 2,
            "linecolor": "white",
            "showbackground": true,
            "ticks": "",
            "zerolinecolor": "white"
           },
           "yaxis": {
            "backgroundcolor": "#E5ECF6",
            "gridcolor": "white",
            "gridwidth": 2,
            "linecolor": "white",
            "showbackground": true,
            "ticks": "",
            "zerolinecolor": "white"
           },
           "zaxis": {
            "backgroundcolor": "#E5ECF6",
            "gridcolor": "white",
            "gridwidth": 2,
            "linecolor": "white",
            "showbackground": true,
            "ticks": "",
            "zerolinecolor": "white"
           }
          },
          "shapedefaults": {
           "line": {
            "color": "#2a3f5f"
           }
          },
          "ternary": {
           "aaxis": {
            "gridcolor": "white",
            "linecolor": "white",
            "ticks": ""
           },
           "baxis": {
            "gridcolor": "white",
            "linecolor": "white",
            "ticks": ""
           },
           "bgcolor": "#E5ECF6",
           "caxis": {
            "gridcolor": "white",
            "linecolor": "white",
            "ticks": ""
           }
          },
          "title": {
           "x": 0.05
          },
          "xaxis": {
           "automargin": true,
           "gridcolor": "white",
           "linecolor": "white",
           "ticks": "",
           "title": {
            "standoff": 15
           },
           "zerolinecolor": "white",
           "zerolinewidth": 2
          },
          "yaxis": {
           "automargin": true,
           "gridcolor": "white",
           "linecolor": "white",
           "ticks": "",
           "title": {
            "standoff": 15
           },
           "zerolinecolor": "white",
           "zerolinewidth": 2
          }
         }
        },
        "title": {
         "text": "📊 Autoencoder + KMeans: Stock Quadrant Classification"
        }
       }
      }
     },
     "metadata": {},
     "output_type": "display_data"
    }
   ],
   "source": [
    "# -- สร้างตาราง Plotly Quadrant 5x5 --\n",
    "quad_groups = df.groupby('Quadrant')['symbol'].apply(list).to_dict()\n",
    "levels_f = ['A', 'B', 'C', 'D', 'E']\n",
    "levels_t = ['a', 'b', 'c', 'd', 'e']\n",
    "\n",
    "table_text = []\n",
    "for f in levels_f:\n",
    "    row = []\n",
    "    for t in levels_t:\n",
    "        code = f + t\n",
    "        stocks = quad_groups.get(code, [])\n",
    "        cell = f\"<b>{code}</b><br>\" + \"<br>\".join(stocks) if stocks else f\"<b>{code}</b><br> -\"\n",
    "        row.append(cell)\n",
    "    table_text.append(row)\n",
    "\n",
    "colors = [[{'A': '#2ecc71', 'B': '#58d68d', 'C': '#f4d03f', 'D': '#f39c12', 'E': '#e74c3c'}[f]]*5 for f in levels_f]\n",
    "\n",
    "fig = go.Figure(data=go.Table(\n",
    "    header=dict(values=[\"Super Bullish\", \"Up Trend\", \"Sideway\", \"Down Trend\", \"Crash\"],\n",
    "                align=\"center\", fill_color=\"#dcdcdc\", font=dict(color=\"black\", size=14)),\n",
    "    cells=dict(values=table_text,\n",
    "               fill_color=colors,\n",
    "               align=\"center\",\n",
    "               height=80,\n",
    "               font=dict(color=\"white\", size=12))\n",
    "))\n",
    "fig.update_layout(title=\"📊 Autoencoder + KMeans: Stock Quadrant Classification\")\n",
    "fig.show()"
   ]
  }
 ],
 "metadata": {
  "kernelspec": {
   "display_name": "Python 3",
   "language": "python",
   "name": "python3"
  },
  "language_info": {
   "codemirror_mode": {
    "name": "ipython",
    "version": 3
   },
   "file_extension": ".py",
   "mimetype": "text/x-python",
   "name": "python",
   "nbconvert_exporter": "python",
   "pygments_lexer": "ipython3",
   "version": "3.10.0"
  }
 },
 "nbformat": 4,
 "nbformat_minor": 2
}
