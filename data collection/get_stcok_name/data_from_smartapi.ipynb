{
 "cells": [
  {
   "cell_type": "code",
   "execution_count": 6,
   "id": "5cbff333",
   "metadata": {},
   "outputs": [
    {
     "name": "stdout",
     "output_type": "stream",
     "text": [
      "✅ JSON file saved as sets_eod_price.json\n"
     ]
    }
   ],
   "source": [
    "import requests\n",
    "import json\n",
    "\n",
    "# API endpoint and parameters\n",
    "url = \"https://www.setsmart.com/api/listed-company-api/eod-price-by-security-type\"\n",
    "params = {\n",
    "    \"securityType\": \"all\",\n",
    "    \"date\": \"2025-08-08\",\n",
    "    \"adjustedPriceFlag\": \"N\"\n",
    "}\n",
    "headers = {\n",
    "    \"api-key\": \"957dafa2-3c88-493b-bce1-5a0137a7f280\"\n",
    "}\n",
    "\n",
    "# Send request\n",
    "response = requests.get(url, params=params, headers=headers)\n",
    "\n",
    "# Check response\n",
    "if response.status_code == 200:\n",
    "    data = response.json()\n",
    "    \n",
    "    # Save JSON to file\n",
    "    with open(\"sets_eod_price.json\", \"w\", encoding=\"utf-8\") as f:\n",
    "        json.dump(data, f, ensure_ascii=False, indent=4)\n",
    "    \n",
    "    print(\"✅ JSON file saved as sets_eod_price.json\")\n",
    "else:\n",
    "    print(f\"❌ Error {response.status_code}: {response.text}\")\n"
   ]
  },
  {
   "cell_type": "code",
   "execution_count": 7,
   "id": "7693b240",
   "metadata": {},
   "outputs": [
    {
     "name": "stdout",
     "output_type": "stream",
     "text": [
      "✅ JSON file saved as Financial Data all Symbols.json\n"
     ]
    }
   ],
   "source": [
    "import requests\n",
    "import json\n",
    "\n",
    "# API endpoint and parameters\n",
    "url = \"https://www.setsmart.com/api/listed-company-api/financial-data-and-ratio\"\n",
    "params = {\n",
    "    \"accountPeriod\": \"F\",\n",
    "    \"year\": \"2025\",\n",
    "    \"quarter\": \"4\"\n",
    "}\n",
    "headers = {\n",
    "     \"api-key\":\"957dafa2-3c88-493b-bce1-5a0137a7f280\"\n",
    "}\n",
    "\n",
    "# Send request\n",
    "response = requests.get(url, params=params, headers=headers)\n",
    "\n",
    "# Check response\n",
    "if response.status_code == 200:\n",
    "    data = response.json()\n",
    "    \n",
    "    # Save JSON to file\n",
    "    with open(\"Financial Data all Symbols.json\", \"w\", encoding=\"utf-8\") as f:\n",
    "        json.dump(data, f, ensure_ascii=False, indent=4)\n",
    "    \n",
    "    print(\"✅ JSON file saved as Financial Data all Symbols.json\")\n",
    "else:\n",
    "    print(f\"❌ Error {response.status_code}: {response.text}\")\n"
   ]
  }
 ],
 "metadata": {
  "kernelspec": {
   "display_name": "Python 3",
   "language": "python",
   "name": "python3"
  },
  "language_info": {
   "codemirror_mode": {
    "name": "ipython",
    "version": 3
   },
   "file_extension": ".py",
   "mimetype": "text/x-python",
   "name": "python",
   "nbconvert_exporter": "python",
   "pygments_lexer": "ipython3",
   "version": "3.10.0"
  }
 },
 "nbformat": 4,
 "nbformat_minor": 5
}
