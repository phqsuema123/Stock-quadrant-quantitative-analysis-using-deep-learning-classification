{
 "cells": [
  {
   "cell_type": "code",
   "execution_count": 22,
   "id": "9b98d451",
   "metadata": {},
   "outputs": [],
   "source": [
    "import json, sys, datetime\n",
    "from cassandra.cluster import Cluster\n",
    "from cassandra.concurrent import execute_concurrent_with_args"
   ]
  },
  {
   "cell_type": "code",
   "execution_count": 17,
   "id": "58130006",
   "metadata": {},
   "outputs": [],
   "source": [
    "cluster = Cluster(['127.0.0.1']) \n",
    "session = cluster.connect()"
   ]
  },
  {
   "cell_type": "code",
   "execution_count": 18,
   "id": "362854fe",
   "metadata": {},
   "outputs": [],
   "source": [
    "session.set_keyspace('data_stock')"
   ]
  },
  {
   "cell_type": "code",
   "execution_count": 19,
   "id": "1aff0d45",
   "metadata": {},
   "outputs": [
    {
     "data": {
      "text/plain": [
       "<cassandra.cluster.ResultSet at 0x25267f2ad10>"
      ]
     },
     "execution_count": 19,
     "metadata": {},
     "output_type": "execute_result"
    }
   ],
   "source": [
    "session.execute(\"\"\"\n",
    "     CREATE TABLE IF NOT EXISTS smartset_finan_data (\n",
    "                    symbol text,\n",
    "                    date date,\n",
    "                    securityType text,\n",
    "                    adjustedPriceFlag text,\n",
    "                    prior decimal,\n",
    "                    open decimal,\n",
    "                    high decimal,\n",
    "                    low decimal,\n",
    "                    close decimal,\n",
    "                    average decimal,\n",
    "                    aomVolume double,\n",
    "                    aomValue double,\n",
    "                    trVolume double,\n",
    "                    trValue double,\n",
    "                    totalVolume double,\n",
    "                    totalValue double,\n",
    "                    pe double,\n",
    "                    pbv double,\n",
    "                    bvps double,\n",
    "                    dividendYield double,\n",
    "                    marketCap double,\n",
    "                    volumeTurnover double,\n",
    "                    PRIMARY KEY (symbol, date)\n",
    "                ) WITH CLUSTERING ORDER BY (date DESC);\n",
    "\"\"\")\n"
   ]
  },
  {
   "cell_type": "code",
   "execution_count": 21,
   "id": "6d9a8290",
   "metadata": {},
   "outputs": [],
   "source": [
    "ps = session.prepare(\"\"\"\n",
    "INSERT INTO smartset_finan_data (\n",
    "    symbol, date, securityType, adjustedPriceFlag,\n",
    "    prior, open, high, low, close, average,\n",
    "    aomVolume, aomValue, trVolume, trValue,\n",
    "    totalVolume, totalValue, pe, pbv, bvps,\n",
    "    dividendYield, marketCap, volumeTurnover\n",
    ") VALUES (?, ?, ?, ?, ?, ?, ?, ?, ?, ?, ?, ?, ?, ?, ?, ?, ?, ?, ?, ?, ?, ?)\n",
    "\"\"\")"
   ]
  },
  {
   "cell_type": "code",
   "execution_count": 25,
   "id": "ab93dcef",
   "metadata": {},
   "outputs": [
    {
     "name": "stdout",
     "output_type": "stream",
     "text": [
      "Inserted: 3038, Failed: 0\n"
     ]
    }
   ],
   "source": [
    "import json, sys, datetime\n",
    "from decimal import Decimal, InvalidOperation\n",
    "from cassandra.concurrent import execute_concurrent_with_args\n",
    "\n",
    "def parse_date(s):\n",
    "    if s is None: \n",
    "        return None\n",
    "    return datetime.datetime.strptime(s, \"%Y-%m-%d\").date()\n",
    "\n",
    "def to_float(x):\n",
    "    return None if x is None else float(x)\n",
    "\n",
    "def to_decimal(x):\n",
    "    if x is None:\n",
    "        return None\n",
    "    # ใช้ str() เพื่อหลีกเลี่ยงปัญหา float representation\n",
    "    try:\n",
    "        return Decimal(str(x))\n",
    "    except (InvalidOperation, ValueError, TypeError):\n",
    "        return None\n",
    "\n",
    "def row_to_params(d):\n",
    "    # ตรวจคีย์หลักก่อน\n",
    "    sym = d.get(\"symbol\")\n",
    "    dt  = parse_date(d.get(\"date\"))\n",
    "    if not sym or dt is None:\n",
    "        return None  # ให้ไปกรองทิ้งข้างล่าง\n",
    "\n",
    "    return (\n",
    "        sym,\n",
    "        dt,\n",
    "        d.get(\"securityType\"),\n",
    "        d.get(\"adjustedPriceFlag\"),\n",
    "\n",
    "        # decimal ควรใช้ Decimal\n",
    "        to_decimal(d.get(\"prior\")),\n",
    "        to_decimal(d.get(\"open\")),\n",
    "        to_decimal(d.get(\"high\")),\n",
    "        to_decimal(d.get(\"low\")),\n",
    "        to_decimal(d.get(\"close\")),\n",
    "        to_decimal(d.get(\"average\")),\n",
    "\n",
    "        # double ใช้ float\n",
    "        to_float(d.get(\"aomVolume\")),\n",
    "        to_float(d.get(\"aomValue\")),\n",
    "        to_float(d.get(\"trVolume\")),\n",
    "        to_float(d.get(\"trValue\")),\n",
    "        to_float(d.get(\"totalVolume\")),\n",
    "        to_float(d.get(\"totalValue\")),\n",
    "        to_float(d.get(\"pe\")),\n",
    "        to_float(d.get(\"pbv\")),\n",
    "        to_float(d.get(\"bvps\")),\n",
    "        to_float(d.get(\"dividendYield\")),\n",
    "        to_float(d.get(\"marketCap\")),\n",
    "        to_float(d.get(\"volumeTurnover\")),\n",
    "    )\n",
    "\n",
    "# 4) โหลดไฟล์ JSON (รองรับ array หรือ NDJSON)\n",
    "records = []\n",
    "with open(\"sets_eod_price.json\", \"r\", encoding=\"utf-8\") as f:\n",
    "    first = f.read(1)\n",
    "    f.seek(0)\n",
    "    if first == '[':\n",
    "        records = json.load(f)\n",
    "    else:\n",
    "        for line in f:\n",
    "            line = line.strip()\n",
    "            if line:\n",
    "                records.append(json.loads(line))\n",
    "\n",
    "# map -> params และกรองเรคอร์ดที่คีย์หลักหาย\n",
    "params = [row_to_params(r) for r in records]\n",
    "args = [p for p in params if p is not None]\n",
    "\n",
    "# 5) เขียนลง Cassandra (concurrent เพื่อความเร็ว)\n",
    "results = execute_concurrent_with_args(session, ps, args, concurrency=64)\n",
    "\n",
    "# สรุปผล\n",
    "ok = sum(1 for (success, _) in results if success)\n",
    "fail = len(results) - ok\n",
    "print(f\"Inserted: {ok}, Failed: {fail}\")\n",
    "if fail:\n",
    "    for success, err in results:\n",
    "        if not success:\n",
    "            print(\"Error:\", err, file=sys.stderr)\n"
   ]
  }
 ],
 "metadata": {
  "kernelspec": {
   "display_name": "Python 3",
   "language": "python",
   "name": "python3"
  },
  "language_info": {
   "codemirror_mode": {
    "name": "ipython",
    "version": 3
   },
   "file_extension": ".py",
   "mimetype": "text/x-python",
   "name": "python",
   "nbconvert_exporter": "python",
   "pygments_lexer": "ipython3",
   "version": "3.10.0"
  }
 },
 "nbformat": 4,
 "nbformat_minor": 5
}
